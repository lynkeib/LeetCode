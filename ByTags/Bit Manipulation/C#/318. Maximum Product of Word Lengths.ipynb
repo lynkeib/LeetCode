{
 "cells": [
  {
   "cell_type": "code",
   "execution_count": 1,
   "metadata": {
    "ExecuteTime": {
     "end_time": "2020-05-07T06:49:25.8961910Z",
     "start_time": "2020-05-07T06:49:24.323Z"
    }
   },
   "outputs": [],
   "source": [
    "public class Solution {\n",
    "    public int MaxProduct(string[] words) {\n",
    "        int res = int.MinValue;\n",
    "        for(int i = 0; i < words.Length; i++){\n",
    "            for(int j = i + 1; j < words.Length; j++){\n",
    "                if(!contains(words[i], words[j])){\n",
    "                    res = Math.Max(res, words[i].Length * words[j].Length);\n",
    "                }\n",
    "            }\n",
    "        }\n",
    "        return res == int.MinValue ? 0 : res;\n",
    "    }\n",
    "    \n",
    "    public bool contains(string a, string b){\n",
    "        foreach(var c in a){\n",
    "            if(b.Contains(c)){\n",
    "                return true;\n",
    "            }\n",
    "        }\n",
    "        return false;\n",
    "    }\n",
    "}"
   ]
  },
  {
   "cell_type": "code",
   "execution_count": null,
   "metadata": {},
   "outputs": [],
   "source": []
  }
 ],
 "metadata": {
  "kernelspec": {
   "display_name": ".NET (C#)",
   "language": "C#",
   "name": ".net-csharp"
  },
  "language_info": {
   "file_extension": ".cs",
   "mimetype": "text/x-csharp",
   "name": "C#",
   "pygments_lexer": "csharp",
   "version": "8.0"
  },
  "toc": {
   "base_numbering": 1,
   "nav_menu": {},
   "number_sections": true,
   "sideBar": true,
   "skip_h1_title": false,
   "title_cell": "Table of Contents",
   "title_sidebar": "Contents",
   "toc_cell": false,
   "toc_position": {},
   "toc_section_display": true,
   "toc_window_display": false
  }
 },
 "nbformat": 4,
 "nbformat_minor": 4
}
