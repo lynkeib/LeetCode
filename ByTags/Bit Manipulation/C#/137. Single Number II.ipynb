{
 "cells": [
  {
   "cell_type": "code",
   "execution_count": 1,
   "metadata": {
    "ExecuteTime": {
     "end_time": "2020-04-02T04:55:46.7647280Z",
     "start_time": "2020-04-02T04:55:45.286Z"
    }
   },
   "outputs": [],
   "source": [
    "public class Solution {\n",
    "    public int SingleNumber(int[] nums) {\n",
    "        var counter = new Dictionary<int, int>();\n",
    "        foreach (var num in nums)\n",
    "        {\n",
    "            if(counter.ContainsKey(num)){\n",
    "                counter[num]--;\n",
    "            }else{\n",
    "                counter[num] = 2;\n",
    "            }\n",
    "        }\n",
    "        foreach (var item in counter.Keys)\n",
    "        {\n",
    "            if(counter[item] != 0){\n",
    "                return item;\n",
    "            }\n",
    "        }\n",
    "        return 0;\n",
    "    }\n",
    "}"
   ]
  },
  {
   "cell_type": "code",
   "execution_count": null,
   "metadata": {},
   "outputs": [],
   "source": []
  }
 ],
 "metadata": {
  "kernelspec": {
   "display_name": ".NET (C#)",
   "language": "C#",
   "name": ".net-csharp"
  },
  "language_info": {
   "file_extension": ".cs",
   "mimetype": "text/x-csharp",
   "name": "C#",
   "pygments_lexer": "csharp",
   "version": "8.0"
  },
  "toc": {
   "base_numbering": 1,
   "nav_menu": {},
   "number_sections": true,
   "sideBar": true,
   "skip_h1_title": false,
   "title_cell": "Table of Contents",
   "title_sidebar": "Contents",
   "toc_cell": false,
   "toc_position": {},
   "toc_section_display": true,
   "toc_window_display": false
  }
 },
 "nbformat": 4,
 "nbformat_minor": 4
}
