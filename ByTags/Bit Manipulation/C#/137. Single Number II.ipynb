{
 "cells": [
  {
   "cell_type": "markdown",
   "metadata": {},
   "source": [
    "# Naive approach"
   ]
  },
  {
   "cell_type": "code",
   "execution_count": 1,
   "metadata": {
    "ExecuteTime": {
     "end_time": "2020-04-02T04:55:46.7647280Z",
     "start_time": "2020-04-02T04:55:45.286Z"
    }
   },
   "outputs": [],
   "source": [
    "public class Solution {\n",
    "    public int SingleNumber(int[] nums) {\n",
    "        var counter = new Dictionary<int, int>();\n",
    "        foreach (var num in nums)\n",
    "        {\n",
    "            if(counter.ContainsKey(num)){\n",
    "                counter[num]--;\n",
    "            }else{\n",
    "                counter[num] = 2;\n",
    "            }\n",
    "        }\n",
    "        foreach (var item in counter.Keys)\n",
    "        {\n",
    "            if(counter[item] != 0){\n",
    "                return item;\n",
    "            }\n",
    "        }\n",
    "        return 0;\n",
    "    }\n",
    "}"
   ]
  },
  {
   "cell_type": "markdown",
   "metadata": {},
   "source": [
    "# Bit"
   ]
  },
  {
   "cell_type": "code",
   "execution_count": 2,
   "metadata": {
    "ExecuteTime": {
     "end_time": "2020-04-02T04:58:46.9310290Z",
     "start_time": "2020-04-02T04:58:46.872Z"
    }
   },
   "outputs": [],
   "source": [
    "public class Solution {\n",
    "    public int SingleNumber(int[] nums) {\n",
    "        int seen_once = 0;\n",
    "        int seen_twice = 0;\n",
    "        foreach (var num in nums)\n",
    "        {\n",
    "            seen_once = ~seen_twice & (seen_once ^ num);\n",
    "            seen_twice = ~seen_once & (seen_twice ^ num);\n",
    "        }\n",
    "        return seen_once;\n",
    "    }\n",
    "}"
   ]
  },
  {
   "cell_type": "code",
   "execution_count": 3,
   "metadata": {
    "ExecuteTime": {
     "end_time": "2020-04-02T05:07:01.0177660Z",
     "start_time": "2020-04-02T05:07:00.937Z"
    }
   },
   "outputs": [],
   "source": [
    "int a = 1;"
   ]
  },
  {
   "cell_type": "code",
   "execution_count": 4,
   "metadata": {
    "ExecuteTime": {
     "end_time": "2020-04-02T05:07:02.7519150Z",
     "start_time": "2020-04-02T05:07:02.657Z"
    }
   },
   "outputs": [
    {
     "data": {
      "text/plain": [
       "-2"
      ]
     },
     "execution_count": 4,
     "metadata": {},
     "output_type": "execute_result"
    }
   ],
   "source": [
    "~a"
   ]
  },
  {
   "cell_type": "code",
   "execution_count": null,
   "metadata": {},
   "outputs": [],
   "source": []
  }
 ],
 "metadata": {
  "kernelspec": {
   "display_name": ".NET (C#)",
   "language": "C#",
   "name": ".net-csharp"
  },
  "language_info": {
   "file_extension": ".cs",
   "mimetype": "text/x-csharp",
   "name": "C#",
   "pygments_lexer": "csharp",
   "version": "8.0"
  },
  "toc": {
   "base_numbering": 1,
   "nav_menu": {},
   "number_sections": true,
   "sideBar": true,
   "skip_h1_title": false,
   "title_cell": "Table of Contents",
   "title_sidebar": "Contents",
   "toc_cell": false,
   "toc_position": {},
   "toc_section_display": true,
   "toc_window_display": false
  }
 },
 "nbformat": 4,
 "nbformat_minor": 4
}
