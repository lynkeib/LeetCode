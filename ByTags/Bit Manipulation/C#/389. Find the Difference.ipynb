{
 "cells": [
  {
   "cell_type": "code",
   "execution_count": 1,
   "metadata": {
    "ExecuteTime": {
     "end_time": "2020-05-12T05:28:59.8044900Z",
     "start_time": "2020-05-12T05:28:58.849Z"
    }
   },
   "outputs": [],
   "source": [
    "public class Solution {\n",
    "    public char FindTheDifference(string s, string t) {\n",
    "        int res = 0;\n",
    "        foreach(char c in s){\n",
    "            res ^= c;\n",
    "        }\n",
    "        foreach(char c in t){\n",
    "            res ^= c;\n",
    "        }\n",
    "        return (char)res;\n",
    "    }\n",
    "}"
   ]
  },
  {
   "cell_type": "code",
   "execution_count": null,
   "metadata": {},
   "outputs": [],
   "source": []
  }
 ],
 "metadata": {
  "kernelspec": {
   "display_name": ".NET (C#)",
   "language": "C#",
   "name": ".net-csharp"
  },
  "language_info": {
   "file_extension": ".cs",
   "mimetype": "text/x-csharp",
   "name": "C#",
   "pygments_lexer": "csharp",
   "version": "8.0"
  },
  "toc": {
   "base_numbering": 1,
   "nav_menu": {},
   "number_sections": true,
   "sideBar": true,
   "skip_h1_title": false,
   "title_cell": "Table of Contents",
   "title_sidebar": "Contents",
   "toc_cell": false,
   "toc_position": {},
   "toc_section_display": true,
   "toc_window_display": false
  }
 },
 "nbformat": 4,
 "nbformat_minor": 4
}
