{
 "cells": [
  {
   "cell_type": "code",
   "execution_count": 1,
   "metadata": {
    "ExecuteTime": {
     "end_time": "2020-04-15T05:51:41.0487560Z",
     "start_time": "2020-04-15T05:51:39.570Z"
    }
   },
   "outputs": [],
   "source": [
    "public class Solution {\n",
    "    public int FindMin(int[] nums) {\n",
    "        int left = 0, right = nums.Length - 1;\n",
    "        while(left < right){\n",
    "            int mid = left + (right - left) / 2;\n",
    "            if(nums[left] < nums[right]){\n",
    "                right = mid - 1;\n",
    "            }else{\n",
    "                if(nums[left] <= nums[mid]){\n",
    "                    left = mid + 1;\n",
    "                }else{\n",
    "                    right = mid;\n",
    "                }\n",
    "            }\n",
    "        }\n",
    "        return nums[left];\n",
    "    }\n",
    "}"
   ]
  },
  {
   "cell_type": "code",
   "execution_count": null,
   "metadata": {},
   "outputs": [],
   "source": []
  }
 ],
 "metadata": {
  "kernelspec": {
   "display_name": ".NET (C#)",
   "language": "C#",
   "name": ".net-csharp"
  },
  "language_info": {
   "file_extension": ".cs",
   "mimetype": "text/x-csharp",
   "name": "C#",
   "pygments_lexer": "csharp",
   "version": "8.0"
  },
  "toc": {
   "base_numbering": 1,
   "nav_menu": {},
   "number_sections": true,
   "sideBar": true,
   "skip_h1_title": false,
   "title_cell": "Table of Contents",
   "title_sidebar": "Contents",
   "toc_cell": false,
   "toc_position": {},
   "toc_section_display": true,
   "toc_window_display": false
  }
 },
 "nbformat": 4,
 "nbformat_minor": 4
}
