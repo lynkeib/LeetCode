{
 "cells": [
  {
   "cell_type": "code",
   "execution_count": 1,
   "metadata": {},
   "outputs": [],
   "source": [
    "public class Solution {\n",
    "    public int Search(int[] nums, int target) {\n",
    "        int left = 0, right = nums.Length - 1;\n",
    "        while(left <= right){\n",
    "            int mid = left + (right - left) / 2;\n",
    "            if(nums[mid] == target){\n",
    "                return mid;\n",
    "            }\n",
    "            if(nums[left] < nums[right]){\n",
    "                if(nums[mid] < target){\n",
    "                    left = mid + 1;\n",
    "                }else{\n",
    "                    right = mid - 1;\n",
    "                }\n",
    "            }else{\n",
    "                if(nums[mid] <= nums[right]){\n",
    "                    if(nums[mid] > target){\n",
    "                        right = mid - 1;\n",
    "                    }else{\n",
    "                        if(target <= nums[right]){\n",
    "                            left = mid + 1;\n",
    "                        }else{\n",
    "                            right = mid - 1;\n",
    "                        }\n",
    "                    }\n",
    "                }else{\n",
    "                    if(nums[mid] < target){\n",
    "                        left = mid + 1;\n",
    "                    }else{\n",
    "                        if(target >= nums[left]){\n",
    "                            right = mid - 1;\n",
    "                        }else{\n",
    "                            left = mid + 1;\n",
    "                        }\n",
    "                    }\n",
    "                }\n",
    "            }\n",
    "        }\n",
    "        return -1;\n",
    "    }\n",
    "}"
   ]
  },
  {
   "cell_type": "code",
   "execution_count": null,
   "metadata": {},
   "outputs": [],
   "source": []
  }
 ],
 "metadata": {
  "kernelspec": {
   "display_name": ".NET (C#)",
   "language": "C#",
   "name": ".net-csharp"
  },
  "language_info": {
   "file_extension": ".cs",
   "mimetype": "text/x-csharp",
   "name": "C#",
   "pygments_lexer": "csharp",
   "version": "8.0"
  },
  "toc": {
   "base_numbering": 1,
   "nav_menu": {},
   "number_sections": true,
   "sideBar": true,
   "skip_h1_title": false,
   "title_cell": "Table of Contents",
   "title_sidebar": "Contents",
   "toc_cell": false,
   "toc_position": {},
   "toc_section_display": true,
   "toc_window_display": false
  }
 },
 "nbformat": 4,
 "nbformat_minor": 4
}
