{
 "cells": [
  {
   "cell_type": "code",
   "execution_count": null,
   "metadata": {
    "ExecuteTime": {
     "start_time": "2020-04-02T05:35:01.946Z"
    }
   },
   "outputs": [],
   "source": [
    "public class Solution {\n",
    "    public int SingleNonDuplicate(int[] nums) {\n",
    "        int left = 0, right = nums.Length - 1;\n",
    "        while(left < right){\n",
    "            int mid = left + (right - left) / 2;\n",
    "            bool left_is_even = (mid - left + 1) % 2 == 0;\n",
    "            if(nums[mid] == nums[mid - 1]){\n",
    "                if(left_is_even){\n",
    "                    left = mid + 1;\n",
    "                }else{\n",
    "                    right = mid - 2;\n",
    "                } \n",
    "            }else if(nums[mid] == nums[mid + 1]){\n",
    "                if(left_is_even){\n",
    "                    right = mid - 1;\n",
    "                }else{\n",
    "                    left = mid + 2;\n",
    "                } \n",
    "            }else{\n",
    "                return nums[mid];\n",
    "            }\n",
    "        }\n",
    "        return nums[left];\n",
    "    }\n",
    "}"
   ]
  },
  {
   "cell_type": "code",
   "execution_count": null,
   "metadata": {},
   "outputs": [],
   "source": []
  }
 ],
 "metadata": {
  "kernelspec": {
   "display_name": ".NET (C#)",
   "language": "C#",
   "name": ".net-csharp"
  },
  "language_info": {
   "file_extension": ".cs",
   "mimetype": "text/x-csharp",
   "name": "C#",
   "pygments_lexer": "csharp",
   "version": "8.0"
  },
  "toc": {
   "base_numbering": 1,
   "nav_menu": {},
   "number_sections": true,
   "sideBar": true,
   "skip_h1_title": false,
   "title_cell": "Table of Contents",
   "title_sidebar": "Contents",
   "toc_cell": false,
   "toc_position": {},
   "toc_section_display": true,
   "toc_window_display": false
  }
 },
 "nbformat": 4,
 "nbformat_minor": 4
}
