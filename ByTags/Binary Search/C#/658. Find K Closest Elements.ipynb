{
 "cells": [
  {
   "cell_type": "code",
   "execution_count": 1,
   "metadata": {
    "ExecuteTime": {
     "end_time": "2020-05-13T22:38:57.8663770Z",
     "start_time": "2020-05-13T22:38:56.741Z"
    }
   },
   "outputs": [],
   "source": [
    "public class Solution {\n",
    "    public IList<int> FindClosestElements(int[] arr, int k, int x) {\n",
    "        int left = 0, right = arr.Length - 1;\n",
    "        while(left < right){\n",
    "            int mid = left + (right - left) / 2;\n",
    "            if(arr[mid] == x){\n",
    "                left = mid;\n",
    "                break;\n",
    "            }\n",
    "            if(arr[mid] < x){\n",
    "                left = mid + 1;\n",
    "            }else{\n",
    "                right = mid - 1;\n",
    "            }\n",
    "        }\n",
    "        if(left != 0){\n",
    "            if(Math.Abs(arr[left - 1] - x) <= Math.Abs(arr[left] - x)){\n",
    "                left--;\n",
    "            }\n",
    "        }\n",
    "        var res = new List<int>();\n",
    "        res.Add(arr[left]);\n",
    "        // Console.WriteLine(arr[left]);\n",
    "        k--;\n",
    "        int l = left - 1, r = left + 1;\n",
    "        while(k != 0){\n",
    "            if(l > -1 && r < arr.Length){\n",
    "                if(Math.Abs(arr[l] - x) <= Math.Abs(arr[r] - x)){\n",
    "                    res.Add(arr[l]);\n",
    "                    l--;\n",
    "                }else{\n",
    "                    res.Add(arr[r]);\n",
    "                    r++;\n",
    "                }\n",
    "            }else{\n",
    "                if(l > -1){\n",
    "                    res.Add(arr[l]);\n",
    "                    l--;\n",
    "                }else{\n",
    "                    res.Add(arr[r]);\n",
    "                    r++;\n",
    "                }\n",
    "            }\n",
    "            k--;\n",
    "        }\n",
    "        var rr = res.ToArray();\n",
    "        Array.Sort(rr);\n",
    "        return rr.ToList();\n",
    "    }\n",
    "}"
   ]
  },
  {
   "cell_type": "code",
   "execution_count": null,
   "metadata": {},
   "outputs": [],
   "source": []
  }
 ],
 "metadata": {
  "kernelspec": {
   "display_name": ".NET (C#)",
   "language": "C#",
   "name": ".net-csharp"
  },
  "language_info": {
   "file_extension": ".cs",
   "mimetype": "text/x-csharp",
   "name": "C#",
   "pygments_lexer": "csharp",
   "version": "8.0"
  },
  "toc": {
   "base_numbering": 1,
   "nav_menu": {},
   "number_sections": true,
   "sideBar": true,
   "skip_h1_title": false,
   "title_cell": "Table of Contents",
   "title_sidebar": "Contents",
   "toc_cell": false,
   "toc_position": {},
   "toc_section_display": true,
   "toc_window_display": false
  }
 },
 "nbformat": 4,
 "nbformat_minor": 4
}
