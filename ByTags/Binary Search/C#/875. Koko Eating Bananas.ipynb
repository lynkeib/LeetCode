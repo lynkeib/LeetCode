{
 "cells": [
  {
   "cell_type": "code",
   "execution_count": 1,
   "metadata": {
    "ExecuteTime": {
     "end_time": "2020-05-14T02:17:14.6362840Z",
     "start_time": "2020-05-14T02:17:13.550Z"
    }
   },
   "outputs": [],
   "source": [
    "public class Solution {\n",
    "    public int MinEatingSpeed(int[] piles, int H) {\n",
    "        var max = 0;\n",
    "        foreach(var n in piles){\n",
    "            max = Math.Max(max, n);\n",
    "        }\n",
    "        int left = 1, right = max;\n",
    "        while(left < right){\n",
    "            int mid = left + (right - left) / 2;\n",
    "            int used = helper(mid, piles);\n",
    "            // Console.WriteLine($\"{mid}, {used}\");\n",
    "            if(used > H){\n",
    "                left = mid + 1;\n",
    "            }else{\n",
    "                right = mid;\n",
    "            }\n",
    "        }\n",
    "        return left;\n",
    "    }\n",
    "    \n",
    "    public int helper(int speed, int[] piles){\n",
    "        var res = 0;\n",
    "        for(int i = 0; i < piles.Length; i++){\n",
    "            if(piles[i] % speed == 0){\n",
    "                res += piles[i] / speed;\n",
    "            }else{\n",
    "                res += piles[i] / speed + 1;\n",
    "            }\n",
    "        }\n",
    "        return res;\n",
    "    }\n",
    "}"
   ]
  },
  {
   "cell_type": "code",
   "execution_count": null,
   "metadata": {},
   "outputs": [],
   "source": []
  }
 ],
 "metadata": {
  "kernelspec": {
   "display_name": ".NET (C#)",
   "language": "C#",
   "name": ".net-csharp"
  },
  "language_info": {
   "file_extension": ".cs",
   "mimetype": "text/x-csharp",
   "name": "C#",
   "pygments_lexer": "csharp",
   "version": "8.0"
  },
  "toc": {
   "base_numbering": 1,
   "nav_menu": {},
   "number_sections": true,
   "sideBar": true,
   "skip_h1_title": false,
   "title_cell": "Table of Contents",
   "title_sidebar": "Contents",
   "toc_cell": false,
   "toc_position": {},
   "toc_section_display": true,
   "toc_window_display": false
  }
 },
 "nbformat": 4,
 "nbformat_minor": 4
}
