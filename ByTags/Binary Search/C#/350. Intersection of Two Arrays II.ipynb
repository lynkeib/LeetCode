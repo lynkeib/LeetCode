{
 "cells": [
  {
   "cell_type": "code",
   "execution_count": 1,
   "metadata": {
    "ExecuteTime": {
     "end_time": "2020-05-09T21:33:47.3876750Z",
     "start_time": "2020-05-09T21:33:45.970Z"
    }
   },
   "outputs": [],
   "source": [
    "public class Solution {\n",
    "    public int[] Intersect(int[] nums1, int[] nums2) {\n",
    "        if(nums1.Length > nums2.Length){\n",
    "            var temp = nums1;\n",
    "            nums1 = nums2;\n",
    "            nums2 = temp;\n",
    "        }\n",
    "        var map = new Dictionary<int, int>();\n",
    "        foreach(int n in nums1){\n",
    "            if(!map.ContainsKey(n)){\n",
    "                map[n] = 0;\n",
    "            }\n",
    "            map[n]++;\n",
    "        }\n",
    "        var index = 0;\n",
    "        foreach(var n in nums2){\n",
    "            if(map.ContainsKey(n) && map[n] != 0){\n",
    "                map[n]--;\n",
    "                nums1[index] = n;\n",
    "                index++;\n",
    "            }\n",
    "        }\n",
    "        return nums1.Take(index).ToArray();\n",
    "    }\n",
    "}"
   ]
  },
  {
   "cell_type": "code",
   "execution_count": null,
   "metadata": {},
   "outputs": [],
   "source": []
  }
 ],
 "metadata": {
  "kernelspec": {
   "display_name": ".NET (C#)",
   "language": "C#",
   "name": ".net-csharp"
  },
  "language_info": {
   "file_extension": ".cs",
   "mimetype": "text/x-csharp",
   "name": "C#",
   "pygments_lexer": "csharp",
   "version": "8.0"
  },
  "toc": {
   "base_numbering": 1,
   "nav_menu": {},
   "number_sections": true,
   "sideBar": true,
   "skip_h1_title": false,
   "title_cell": "Table of Contents",
   "title_sidebar": "Contents",
   "toc_cell": false,
   "toc_position": {},
   "toc_section_display": true,
   "toc_window_display": false
  }
 },
 "nbformat": 4,
 "nbformat_minor": 4
}
