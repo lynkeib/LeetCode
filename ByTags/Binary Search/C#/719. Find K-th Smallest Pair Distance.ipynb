{
 "cells": [
  {
   "cell_type": "code",
   "execution_count": 1,
   "metadata": {
    "ExecuteTime": {
     "end_time": "2020-05-14T05:05:51.8953080Z",
     "start_time": "2020-05-14T05:05:50.605Z"
    }
   },
   "outputs": [],
   "source": [
    "public class Solution {\n",
    "    public int SmallestDistancePair(int[] nums, int k) {\n",
    "        Array.Sort(nums);\n",
    "        int left = 0, right = nums[nums.Length - 1] - nums[0];\n",
    "        while(left < right){\n",
    "            int mid = left + (right - left) / 2;\n",
    "            int count = 0, start = 0;\n",
    "            for(int i = 0; i < nums.Length; i++){\n",
    "                while(start < nums.Length && nums[i] - nums[start] > mid){\n",
    "                    start++;\n",
    "                }\n",
    "                count += (i - start);\n",
    "            }\n",
    "            if(count < k){\n",
    "                left = mid + 1;\n",
    "            }else if(count >= k){\n",
    "                right = mid;\n",
    "            }\n",
    "        }   \n",
    "        return left;\n",
    "    }\n",
    "}"
   ]
  },
  {
   "cell_type": "code",
   "execution_count": null,
   "metadata": {},
   "outputs": [],
   "source": []
  }
 ],
 "metadata": {
  "kernelspec": {
   "display_name": ".NET (C#)",
   "language": "C#",
   "name": ".net-csharp"
  },
  "language_info": {
   "file_extension": ".cs",
   "mimetype": "text/x-csharp",
   "name": "C#",
   "pygments_lexer": "csharp",
   "version": "8.0"
  },
  "toc": {
   "base_numbering": 1,
   "nav_menu": {},
   "number_sections": true,
   "sideBar": true,
   "skip_h1_title": false,
   "title_cell": "Table of Contents",
   "title_sidebar": "Contents",
   "toc_cell": false,
   "toc_position": {},
   "toc_section_display": true,
   "toc_window_display": false
  }
 },
 "nbformat": 4,
 "nbformat_minor": 4
}
