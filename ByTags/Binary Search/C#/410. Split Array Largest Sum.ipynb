{
 "cells": [
  {
   "cell_type": "markdown",
   "metadata": {},
   "source": [
    "# Brute Force"
   ]
  },
  {
   "cell_type": "code",
   "execution_count": 1,
   "metadata": {
    "ExecuteTime": {
     "end_time": "2020-05-14T02:48:31.5963740Z",
     "start_time": "2020-05-14T02:48:30.389Z"
    }
   },
   "outputs": [],
   "source": [
    "public class Solution {\n",
    "    public int SplitArray(int[] nums, int m) {\n",
    "        if(m == 1){\n",
    "            var sum = 0;\n",
    "            foreach(var n in nums){\n",
    "                sum += n;\n",
    "            }\n",
    "            return sum;\n",
    "        }\n",
    "        var res = int.MaxValue;\n",
    "        var total = 0;\n",
    "        for(int i = 0; i < nums.Length - m + 1; i++){\n",
    "            total += nums[i];\n",
    "            var left = SplitArray(nums.Skip(i + 1).ToArray(), m - 1);\n",
    "            res = Math.Min(Math.Max(total, left), res);\n",
    "        }\n",
    "        return res;\n",
    "    }\n",
    "}"
   ]
  },
  {
   "cell_type": "markdown",
   "metadata": {},
   "source": [
    "# DP"
   ]
  },
  {
   "cell_type": "code",
   "execution_count": 2,
   "metadata": {
    "ExecuteTime": {
     "end_time": "2020-05-14T03:39:59.6009200Z",
     "start_time": "2020-05-14T03:39:59.529Z"
    }
   },
   "outputs": [],
   "source": [
    "public class Solution {\n",
    "    public int SplitArray(int[] nums, int m) {\n",
    "        var n = nums.Length;\n",
    "        var dp = new int[n + 1, m + 1];\n",
    "        var sub = new int[n + 1];\n",
    "        for(int i = 0; i < n + 1; i++){\n",
    "            for(int j = 0; j < m + 1; j++){\n",
    "                dp[i, j] = int.MaxValue;\n",
    "            }\n",
    "        }\n",
    "        for(int i = 1; i < n + 1; i++){\n",
    "            sub[i] = sub[i - 1] + nums[i - 1];\n",
    "        }\n",
    "        dp[0, 0] = 0;\n",
    "        for(int i = 1; i < n + 1; i++){\n",
    "            for(int j = 1; j < m + 1; j++){\n",
    "                for(int k = 0; k < i; k++){\n",
    "                    dp[i, j] = Math.Min(dp[i, j], Math.Max(dp[k, j - 1], sub[i] - sub[k]));\n",
    "                }\n",
    "            }\n",
    "        }\n",
    "        return dp[n, m];\n",
    "    }\n",
    "}"
   ]
  },
  {
   "cell_type": "code",
   "execution_count": null,
   "metadata": {},
   "outputs": [],
   "source": []
  }
 ],
 "metadata": {
  "kernelspec": {
   "display_name": ".NET (C#)",
   "language": "C#",
   "name": ".net-csharp"
  },
  "language_info": {
   "file_extension": ".cs",
   "mimetype": "text/x-csharp",
   "name": "C#",
   "pygments_lexer": "csharp",
   "version": "8.0"
  },
  "toc": {
   "base_numbering": 1,
   "nav_menu": {},
   "number_sections": true,
   "sideBar": true,
   "skip_h1_title": false,
   "title_cell": "Table of Contents",
   "title_sidebar": "Contents",
   "toc_cell": false,
   "toc_position": {},
   "toc_section_display": true,
   "toc_window_display": false
  }
 },
 "nbformat": 4,
 "nbformat_minor": 4
}
