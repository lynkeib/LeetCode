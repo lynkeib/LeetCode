{
 "cells": [
  {
   "cell_type": "code",
   "execution_count": 4,
   "metadata": {
    "ExecuteTime": {
     "end_time": "2019-12-03T06:34:10.001095Z",
     "start_time": "2019-12-03T06:34:09.992773Z"
    }
   },
   "outputs": [],
   "source": [
    "class Solution(object):\n",
    "    def evalRPN(self, tokens):\n",
    "        \"\"\"\n",
    "        :type tokens: List[str]\n",
    "        :rtype: int\n",
    "        \"\"\"\n",
    "        if not tokens:\n",
    "            return \n",
    "        stack = []\n",
    "        for ele in tokens:\n",
    "            try:\n",
    "                stack.append(int(ele))\n",
    "            except:\n",
    "                self.do(stack, ele)\n",
    "            # print(ele)\n",
    "            # print(stack)\n",
    "            # print()\n",
    "        return stack[0]\n",
    "            \n",
    "    def do(self, stack, operator):\n",
    "        num1 = stack.pop()\n",
    "        num2 = stack.pop()\n",
    "        if operator == '+':\n",
    "            stack.append(num1 + num2)\n",
    "        elif operator == '-':\n",
    "            stack.append(num2 - num1)\n",
    "        elif operator == '*':\n",
    "            stack.append(num2 * num1)\n",
    "        else:\n",
    "            stack.append(int(num2 * 1.0 / num1))\n",
    "        return "
   ]
  },
  {
   "cell_type": "code",
   "execution_count": null,
   "metadata": {},
   "outputs": [],
   "source": []
  }
 ],
 "metadata": {
  "kernelspec": {
   "display_name": "Python 3",
   "language": "python",
   "name": "python3"
  },
  "language_info": {
   "codemirror_mode": {
    "name": "ipython",
    "version": 3
   },
   "file_extension": ".py",
   "mimetype": "text/x-python",
   "name": "python",
   "nbconvert_exporter": "python",
   "pygments_lexer": "ipython3",
   "version": "3.6.9"
  },
  "toc": {
   "base_numbering": 1,
   "nav_menu": {},
   "number_sections": true,
   "sideBar": true,
   "skip_h1_title": false,
   "title_cell": "Table of Contents",
   "title_sidebar": "Contents",
   "toc_cell": false,
   "toc_position": {},
   "toc_section_display": true,
   "toc_window_display": false
  }
 },
 "nbformat": 4,
 "nbformat_minor": 2
}
