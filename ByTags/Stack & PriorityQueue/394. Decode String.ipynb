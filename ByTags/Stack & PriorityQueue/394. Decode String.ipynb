{
 "cells": [
  {
   "cell_type": "code",
   "execution_count": null,
   "metadata": {},
   "outputs": [],
   "source": [
    "class Solution(object):\n",
    "    def decodeString(self, s):\n",
    "        \"\"\"\n",
    "        :type s: str\n",
    "        :rtype: str\n",
    "        \"\"\"\n",
    "        currString = ''\n",
    "        currNum = 0\n",
    "        stack = []\n",
    "        for c in s:\n",
    "            # print(c)\n",
    "            if c.isnumeric():\n",
    "                # print('put number',int(c),'in the stack')\n",
    "                currNum = currNum * 10 + int(c)\n",
    "            \n",
    "            elif c.isalpha():\n",
    "                # print('put char',c,'in the stack')\n",
    "                currString += c\n",
    "                \n",
    "            elif c == '[':\n",
    "                stack.append(currString)\n",
    "                stack.append(currNum)\n",
    "                currNum = 0\n",
    "                currString = \"\"\n",
    "            \n",
    "            else: # c==']'\n",
    "                prevNum = stack.pop()\n",
    "                prevString = stack.pop()\n",
    "                currString = prevString + prevNum * currString\n",
    "            # print(stack)\n",
    "            # print('---------')\n",
    "        return currString"
   ]
  }
 ],
 "metadata": {
  "kernelspec": {
   "display_name": "Python 3",
   "language": "python",
   "name": "python3"
  },
  "language_info": {
   "codemirror_mode": {
    "name": "ipython",
    "version": 3
   },
   "file_extension": ".py",
   "mimetype": "text/x-python",
   "name": "python",
   "nbconvert_exporter": "python",
   "pygments_lexer": "ipython3",
   "version": "3.7.1"
  },
  "toc": {
   "base_numbering": 1,
   "nav_menu": {},
   "number_sections": true,
   "sideBar": true,
   "skip_h1_title": false,
   "title_cell": "Table of Contents",
   "title_sidebar": "Contents",
   "toc_cell": false,
   "toc_position": {},
   "toc_section_display": true,
   "toc_window_display": false
  }
 },
 "nbformat": 4,
 "nbformat_minor": 2
}
