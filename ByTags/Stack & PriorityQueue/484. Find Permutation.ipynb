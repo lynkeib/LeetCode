{
 "cells": [
  {
   "cell_type": "code",
   "execution_count": null,
   "metadata": {},
   "outputs": [],
   "source": [
    "class Solution:\n",
    "    def findPermutation(self, s: str) -> List[int]:\n",
    "        length = len(s) + 1\n",
    "        res = [0 for _ in range(length)]\n",
    "        index = 0\n",
    "        stack = []\n",
    "        for i in range(len(s)):\n",
    "            if s[i] == \"I\":\n",
    "                stack.append(i)\n",
    "                while stack:\n",
    "                    res[index] = stack.pop() + 1\n",
    "                    index+=1\n",
    "            else:\n",
    "                stack.append(i)\n",
    "        stack.append(length - 1)\n",
    "        while stack:\n",
    "            res[index] = stack.pop() + 1\n",
    "            index+=1\n",
    "        return res"
   ]
  }
 ],
 "metadata": {
  "kernelspec": {
   "display_name": "Python 3",
   "language": "python",
   "name": "python3"
  },
  "language_info": {
   "codemirror_mode": {
    "name": "ipython",
    "version": 3
   },
   "file_extension": ".py",
   "mimetype": "text/x-python",
   "name": "python",
   "nbconvert_exporter": "python",
   "pygments_lexer": "ipython3",
   "version": "3.7.4"
  },
  "toc": {
   "base_numbering": 1,
   "nav_menu": {},
   "number_sections": true,
   "sideBar": true,
   "skip_h1_title": false,
   "title_cell": "Table of Contents",
   "title_sidebar": "Contents",
   "toc_cell": false,
   "toc_position": {},
   "toc_section_display": true,
   "toc_window_display": false
  }
 },
 "nbformat": 4,
 "nbformat_minor": 4
}
