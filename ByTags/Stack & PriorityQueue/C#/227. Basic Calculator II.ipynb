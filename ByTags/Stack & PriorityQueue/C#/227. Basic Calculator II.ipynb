{
 "cells": [
  {
   "cell_type": "code",
   "execution_count": 1,
   "metadata": {
    "ExecuteTime": {
     "end_time": "2020-04-24T22:42:12.7446430Z",
     "start_time": "2020-04-24T22:42:11.245Z"
    }
   },
   "outputs": [],
   "source": [
    "public class Solution {\n",
    "\n",
    "    Stack<int> num_stack;\n",
    "    Stack<char> opr_stack;\n",
    "\n",
    "    public int Calculate (string s) {\n",
    "        num_stack = new Stack<int> ();\n",
    "        opr_stack = new Stack<char> ();\n",
    "        bool d = false;\n",
    "        int neg = 1;\n",
    "        for (int i = 0; i < s.Length; i++) {\n",
    "            if (Char.IsDigit (s[i])) {\n",
    "                var sum = 0;\n",
    "                while (i < s.Length && Char.IsDigit (s[i])) {\n",
    "                    sum = sum * 10 + (s[i] - '0');\n",
    "                    i++;\n",
    "                }\n",
    "                i--;\n",
    "                num_stack.Push (neg * sum);\n",
    "                neg = 1;\n",
    "                if (d) {\n",
    "                    docal ();\n",
    "                    d = false;\n",
    "                }\n",
    "            } else if (s[i] != ' ') {\n",
    "                if (s[i] == '+') {\n",
    "                    d = false;\n",
    "                    neg = 1;\n",
    "                    opr_stack.Push (s[i]);\n",
    "                } else if(s[i] == '-') {\n",
    "                    d = false;\n",
    "                    neg = -1;\n",
    "                    opr_stack.Push ('+');\n",
    "                }else{\n",
    "                    d = true;\n",
    "                    neg = 1;\n",
    "                    opr_stack.Push (s[i]);\n",
    "                }\n",
    "            }\n",
    "        }\n",
    "        while (opr_stack.Count != 0) {\n",
    "            docal ();\n",
    "        }\n",
    "        return num_stack.Pop ();\n",
    "    }\n",
    "\n",
    "    public void docal () {\n",
    "        var num1 = num_stack.Pop ();\n",
    "        var num2 = num_stack.Pop ();\n",
    "        var opr = opr_stack.Pop ();\n",
    "        if (opr == '+') {\n",
    "            num_stack.Push (num1 + num2);\n",
    "        } else if (opr == '-') {\n",
    "            num_stack.Push (num2 - num1);\n",
    "        } else if (opr == '*') {\n",
    "            num_stack.Push (num2 * num1);\n",
    "        } else {\n",
    "            num_stack.Push (num2 / num1);\n",
    "        }\n",
    "        // Console.WriteLine (num_stack.Peek ());\n",
    "        return;\n",
    "    }\n",
    "}"
   ]
  },
  {
   "cell_type": "code",
   "execution_count": null,
   "metadata": {},
   "outputs": [],
   "source": []
  }
 ],
 "metadata": {
  "kernelspec": {
   "display_name": ".NET (C#)",
   "language": "C#",
   "name": ".net-csharp"
  },
  "language_info": {
   "file_extension": ".cs",
   "mimetype": "text/x-csharp",
   "name": "C#",
   "pygments_lexer": "csharp",
   "version": "8.0"
  },
  "toc": {
   "base_numbering": 1,
   "nav_menu": {},
   "number_sections": true,
   "sideBar": true,
   "skip_h1_title": false,
   "title_cell": "Table of Contents",
   "title_sidebar": "Contents",
   "toc_cell": false,
   "toc_position": {},
   "toc_section_display": true,
   "toc_window_display": false
  }
 },
 "nbformat": 4,
 "nbformat_minor": 4
}
