{
 "cells": [
  {
   "cell_type": "code",
   "execution_count": 1,
   "metadata": {
    "ExecuteTime": {
     "end_time": "2020-04-10T16:26:54.8609990Z",
     "start_time": "2020-04-10T16:26:51.251Z"
    }
   },
   "outputs": [],
   "source": [
    "public class MinStack {\n",
    "    \n",
    "    public Stack<int> stack;\n",
    "    public Stack<int> min;\n",
    "\n",
    "    /** initialize your data structure here. */\n",
    "    public MinStack() {\n",
    "        stack = new Stack<int>();\n",
    "        min = new Stack<int>();\n",
    "    }\n",
    "    \n",
    "    public void Push(int x) {\n",
    "        stack.Push(x);\n",
    "        if(min.Count != 0){\n",
    "            if(x < min.Peek()){\n",
    "                min.Push(x);\n",
    "            }else{\n",
    "                min.Push(min.Peek());\n",
    "            }\n",
    "        }else{\n",
    "            min.Push(x);\n",
    "        }\n",
    "        return;\n",
    "    }\n",
    "    \n",
    "    public void Pop() {\n",
    "        stack.Pop();\n",
    "        min.Pop();\n",
    "    }\n",
    "    \n",
    "    public int Top() {\n",
    "        return stack.Peek();\n",
    "    }\n",
    "    \n",
    "    public int GetMin() {\n",
    "        return min.Peek();\n",
    "    }\n",
    "}\n",
    "\n",
    "/**\n",
    " * Your MinStack object will be instantiated and called as such:\n",
    " * MinStack obj = new MinStack();\n",
    " * obj.Push(x);\n",
    " * obj.Pop();\n",
    " * int param_3 = obj.Top();\n",
    " * int param_4 = obj.GetMin();\n",
    " */"
   ]
  },
  {
   "cell_type": "code",
   "execution_count": null,
   "metadata": {},
   "outputs": [],
   "source": []
  }
 ],
 "metadata": {
  "kernelspec": {
   "display_name": ".NET (C#)",
   "language": "C#",
   "name": ".net-csharp"
  },
  "language_info": {
   "file_extension": ".cs",
   "mimetype": "text/x-csharp",
   "name": "C#",
   "pygments_lexer": "csharp",
   "version": "8.0"
  },
  "toc": {
   "base_numbering": 1,
   "nav_menu": {},
   "number_sections": true,
   "sideBar": true,
   "skip_h1_title": false,
   "title_cell": "Table of Contents",
   "title_sidebar": "Contents",
   "toc_cell": false,
   "toc_position": {},
   "toc_section_display": true,
   "toc_window_display": false
  }
 },
 "nbformat": 4,
 "nbformat_minor": 4
}
