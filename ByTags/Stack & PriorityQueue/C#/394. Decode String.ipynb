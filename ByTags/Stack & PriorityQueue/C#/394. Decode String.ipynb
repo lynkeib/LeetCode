{
 "cells": [
  {
   "cell_type": "code",
   "execution_count": 1,
   "metadata": {
    "ExecuteTime": {
     "end_time": "2020-05-13T05:06:43.4376940Z",
     "start_time": "2020-05-13T05:06:42.318Z"
    }
   },
   "outputs": [],
   "source": [
    "public class Solution {\n",
    "    public string DecodeString(string s) {\n",
    "        var stackNum = new Stack<int>();\n",
    "        var stackString = new Stack<string>();\n",
    "        // var stackLevel = new Stack<int>();\n",
    "        var index = 0;\n",
    "        // var level = -1;\n",
    "        while(index < s.Length){\n",
    "            if(Char.IsDigit(s[index])){\n",
    "                var num = 0;\n",
    "                while(index < s.Length && Char.IsDigit(s[index])){\n",
    "                    num = num * 10 + (s[index] - '0');\n",
    "                    index++;\n",
    "                }\n",
    "                index--;\n",
    "                if(stackNum.Count == stackString.Count){\n",
    "                    stackNum.Push(num);\n",
    "                }else if(stackNum.Count - 1 == stackString.Count){\n",
    "                    stackNum.Push(num);\n",
    "                    stackString.Push(\"\");\n",
    "                }\n",
    "            }else if(s[index] == ']'){\n",
    "                var times = stackNum.Pop();\n",
    "                var word = stackString.Pop();\n",
    "                var newWord = \"\";\n",
    "                for(int i = 0; i < times; i++) newWord += word;\n",
    "                if(stackString.Count != 0){\n",
    "                    var temp = stackString.Pop();\n",
    "                    temp += newWord;\n",
    "                    stackString.Push(temp);\n",
    "                }else{\n",
    "                    stackString.Push(newWord);\n",
    "                    stackNum.Push(1);\n",
    "                }\n",
    "            }else if(Char.IsLetter(s[index])){ // is letter\n",
    "                var word = \"\";\n",
    "                while(index < s.Length && Char.IsLetter(s[index])){\n",
    "                    word += s[index];\n",
    "                    index++;\n",
    "                }\n",
    "                index--;\n",
    "                if(stackString.Count == 0 && stackNum.Count == 0){\n",
    "                    stackString.Push(word);\n",
    "                    stackNum.Push(1);\n",
    "                }else if(stackString.Count == stackNum.Count){\n",
    "                    var temp = stackString.Pop();\n",
    "                    temp += word;\n",
    "                    stackString.Push(temp);\n",
    "                }else if(stackString.Count == stackNum.Count - 1){\n",
    "                    stackString.Push(word);\n",
    "                }\n",
    "            }\n",
    "            index++;\n",
    "        }\n",
    "        var resList = new List<string>();\n",
    "        while(stackString.Count != 0){\n",
    "            resList.Add(stackString.Pop());\n",
    "        }\n",
    "        var res = \"\";\n",
    "        for(int i = resList.Count - 1; i > -1; i--){\n",
    "            res += resList[i];\n",
    "        }\n",
    "        return res;\n",
    "        // \"2[abc]3[cd]ef4[sad5[adas6[sdas7[ad]]]]\"\n",
    "    }\n",
    "}"
   ]
  },
  {
   "cell_type": "code",
   "execution_count": null,
   "metadata": {},
   "outputs": [],
   "source": []
  }
 ],
 "metadata": {
  "kernelspec": {
   "display_name": ".NET (C#)",
   "language": "C#",
   "name": ".net-csharp"
  },
  "language_info": {
   "file_extension": ".cs",
   "mimetype": "text/x-csharp",
   "name": "C#",
   "pygments_lexer": "csharp",
   "version": "8.0"
  },
  "toc": {
   "base_numbering": 1,
   "nav_menu": {},
   "number_sections": true,
   "sideBar": true,
   "skip_h1_title": false,
   "title_cell": "Table of Contents",
   "title_sidebar": "Contents",
   "toc_cell": false,
   "toc_position": {},
   "toc_section_display": true,
   "toc_window_display": false
  }
 },
 "nbformat": 4,
 "nbformat_minor": 4
}
