{
 "cells": [
  {
   "cell_type": "code",
   "execution_count": 1,
   "metadata": {
    "ExecuteTime": {
     "end_time": "2020-04-13T05:52:15.3852470Z",
     "start_time": "2020-04-13T05:52:14.223Z"
    }
   },
   "outputs": [],
   "source": [
    "public class Solution {\n",
    "    public int EvalRPN(string[] tokens) {\n",
    "        var stack = new Stack<int>();\n",
    "        foreach (var item in tokens)\n",
    "        {\n",
    "            if(Char.IsDigit(item[item.Length - 1])){\n",
    "                stack.Push(Int32.Parse(item, System.Globalization.NumberStyles.AllowLeadingSign));\n",
    "            }else{\n",
    "                // foreach(var s in stack) Console.Write($\"{s} \");\n",
    "                var num1 = stack.Pop();\n",
    "                var num2 = stack.Pop();\n",
    "                stack.Push(Cal(item[0], num1, num2));\n",
    "                // Console.WriteLine(\"\");\n",
    "            }\n",
    "        }\n",
    "        return stack.Peek();\n",
    "    }\n",
    "\n",
    "    public int Cal(char oper, int num1, int num2){\n",
    "        int res;\n",
    "        if(oper == '+'){\n",
    "            res = num1 + num2;\n",
    "        }else if(oper == '-'){\n",
    "            res = num2 - num1;\n",
    "        }else if(oper == '*'){\n",
    "            res = num1 * num2;\n",
    "        }else{\n",
    "            res = num2 / num1;\n",
    "        }\n",
    "        return res;\n",
    "    }\n",
    "}"
   ]
  },
  {
   "cell_type": "code",
   "execution_count": null,
   "metadata": {},
   "outputs": [],
   "source": []
  }
 ],
 "metadata": {
  "kernelspec": {
   "display_name": ".NET (C#)",
   "language": "C#",
   "name": ".net-csharp"
  },
  "language_info": {
   "file_extension": ".cs",
   "mimetype": "text/x-csharp",
   "name": "C#",
   "pygments_lexer": "csharp",
   "version": "8.0"
  },
  "toc": {
   "base_numbering": 1,
   "nav_menu": {},
   "number_sections": true,
   "sideBar": true,
   "skip_h1_title": false,
   "title_cell": "Table of Contents",
   "title_sidebar": "Contents",
   "toc_cell": false,
   "toc_position": {},
   "toc_section_display": true,
   "toc_window_display": false
  }
 },
 "nbformat": 4,
 "nbformat_minor": 4
}
