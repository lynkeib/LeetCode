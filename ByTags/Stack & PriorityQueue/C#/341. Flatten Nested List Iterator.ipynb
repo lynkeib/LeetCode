{
 "cells": [
  {
   "cell_type": "code",
   "execution_count": 1,
   "metadata": {
    "ExecuteTime": {
     "end_time": "2020-05-09T03:34:40.5381660Z",
     "start_time": "2020-05-09T03:34:39.784Z"
    }
   },
   "outputs": [
    {
     "ename": "Unhandled Exception",
     "evalue": "(20,11): error CS0246: The type or namespace name 'NestedInteger' could not be found (are you missing a using directive or an assembly reference?)\n(22,33): error CS0246: The type or namespace name 'NestedInteger' could not be found (are you missing a using directive or an assembly reference?)\n(23,27): error CS0246: The type or namespace name 'NestedInteger' could not be found (are you missing a using directive or an assembly reference?)\n(35,40): error CS0246: The type or namespace name 'NestedInteger' could not be found (are you missing a using directive or an assembly reference?)",
     "output_type": "error",
     "traceback": [
      "(20,11): error CS0246: The type or namespace name 'NestedInteger' could not be found (are you missing a using directive or an assembly reference?)\n(22,33): error CS0246: The type or namespace name 'NestedInteger' could not be found (are you missing a using directive or an assembly reference?)\n(23,27): error CS0246: The type or namespace name 'NestedInteger' could not be found (are you missing a using directive or an assembly reference?)\n(35,40): error CS0246: The type or namespace name 'NestedInteger' could not be found (are you missing a using directive or an assembly reference?)"
     ]
    }
   ],
   "source": [
    "/**\n",
    " * // This is the interface that allows for creating nested lists.\n",
    " * // You should not implement it, or speculate about its implementation\n",
    " * interface NestedInteger {\n",
    " *\n",
    " *     // @return true if this NestedInteger holds a single integer, rather than a nested list.\n",
    " *     bool IsInteger();\n",
    " *\n",
    " *     // @return the single integer that this NestedInteger holds, if it holds a single integer\n",
    " *     // Return null if this NestedInteger holds a nested list\n",
    " *     int GetInteger();\n",
    " *\n",
    " *     // @return the nested list that this NestedInteger holds, if it holds a nested list\n",
    " *     // Return null if this NestedInteger holds a single integer\n",
    " *     IList<NestedInteger> GetList();\n",
    " * }\n",
    " */\n",
    "public class NestedIterator {\n",
    "    \n",
    "    Queue<NestedInteger> queue;\n",
    "    \n",
    "    public NestedIterator(IList<NestedInteger> nestedList) {\n",
    "        queue = new Queue<NestedInteger>();\n",
    "        foreach(var node in nestedList){\n",
    "            queue.Enqueue(node);\n",
    "        }\n",
    "    }\n",
    "\n",
    "    public bool HasNext() {\n",
    "        if(queue.Count == 0){\n",
    "            return false;\n",
    "        }\n",
    "        // Console.WriteLine(queue.Count);\n",
    "        while(queue.Count != 0 && !queue.Peek().IsInteger()){\n",
    "            var next_queue = new Queue<NestedInteger>();\n",
    "            var node = queue.Dequeue();\n",
    "            foreach(var n in node.GetList()){\n",
    "                next_queue.Enqueue(n);\n",
    "            }\n",
    "            while(queue.Count != 0){\n",
    "                next_queue.Enqueue(queue.Dequeue());\n",
    "            }\n",
    "            queue = next_queue;\n",
    "        }\n",
    "        if(queue.Count == 0){\n",
    "            return false;\n",
    "        }\n",
    "        return true;\n",
    "    }\n",
    "\n",
    "    public int Next() {\n",
    "        HasNext();\n",
    "        return queue.Dequeue().GetInteger();\n",
    "    }\n",
    "}\n",
    "\n",
    "/**\n",
    " * Your NestedIterator will be called like this:\n",
    " * NestedIterator i = new NestedIterator(nestedList);\n",
    " * while (i.HasNext()) v[f()] = i.Next();\n",
    " */"
   ]
  },
  {
   "cell_type": "code",
   "execution_count": null,
   "metadata": {},
   "outputs": [],
   "source": []
  }
 ],
 "metadata": {
  "kernelspec": {
   "display_name": ".NET (C#)",
   "language": "C#",
   "name": ".net-csharp"
  },
  "language_info": {
   "file_extension": ".cs",
   "mimetype": "text/x-csharp",
   "name": "C#",
   "pygments_lexer": "csharp",
   "version": "8.0"
  },
  "toc": {
   "base_numbering": 1,
   "nav_menu": {},
   "number_sections": true,
   "sideBar": true,
   "skip_h1_title": false,
   "title_cell": "Table of Contents",
   "title_sidebar": "Contents",
   "toc_cell": false,
   "toc_position": {},
   "toc_section_display": true,
   "toc_window_display": false
  }
 },
 "nbformat": 4,
 "nbformat_minor": 4
}
