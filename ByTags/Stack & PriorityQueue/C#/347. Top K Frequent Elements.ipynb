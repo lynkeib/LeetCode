{
 "cells": [
  {
   "cell_type": "code",
   "execution_count": 1,
   "metadata": {
    "ExecuteTime": {
     "end_time": "2020-05-09T04:12:38.8393590Z",
     "start_time": "2020-05-09T04:12:37.433Z"
    }
   },
   "outputs": [],
   "source": [
    "public class Solution {\n",
    "    public int[] TopKFrequent(int[] nums, int k) {\n",
    "        var bucket = new List<int>[nums.Length + 1];\n",
    "        var map = new Dictionary<int, int>();\n",
    "        foreach(var n in nums){\n",
    "            if(!map.ContainsKey(n)){\n",
    "                map[n] = 0;\n",
    "            }\n",
    "            map[n]++;\n",
    "        }\n",
    "        foreach(KeyValuePair<int, int> kp in map){\n",
    "            if(bucket[kp.Value] == null){\n",
    "                bucket[kp.Value] = new List<int>();\n",
    "            }\n",
    "            bucket[kp.Value].Add(kp.Key);\n",
    "        }\n",
    "        var res = new int[k];\n",
    "        var i = 0;\n",
    "        for(int index = bucket.Length - 1; index > -1 ; index--){\n",
    "            if(bucket[index] != null){\n",
    "                foreach(var n in bucket[index]){\n",
    "                    res[i] = n;\n",
    "                    i++;\n",
    "                    if(i == k){\n",
    "                        return res;\n",
    "                    }\n",
    "                }\n",
    "            }\n",
    "        }\n",
    "        return res;\n",
    "    }\n",
    "}"
   ]
  },
  {
   "cell_type": "code",
   "execution_count": null,
   "metadata": {},
   "outputs": [],
   "source": []
  }
 ],
 "metadata": {
  "kernelspec": {
   "display_name": ".NET (C#)",
   "language": "C#",
   "name": ".net-csharp"
  },
  "language_info": {
   "file_extension": ".cs",
   "mimetype": "text/x-csharp",
   "name": "C#",
   "pygments_lexer": "csharp",
   "version": "8.0"
  },
  "toc": {
   "base_numbering": 1,
   "nav_menu": {},
   "number_sections": true,
   "sideBar": true,
   "skip_h1_title": false,
   "title_cell": "Table of Contents",
   "title_sidebar": "Contents",
   "toc_cell": false,
   "toc_position": {},
   "toc_section_display": true,
   "toc_window_display": false
  }
 },
 "nbformat": 4,
 "nbformat_minor": 4
}
