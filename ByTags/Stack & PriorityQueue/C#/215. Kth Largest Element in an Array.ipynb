{
 "cells": [
  {
   "cell_type": "code",
   "execution_count": 1,
   "metadata": {
    "ExecuteTime": {
     "end_time": "2020-04-21T06:01:03.9677610Z",
     "start_time": "2020-04-21T06:01:02.615Z"
    }
   },
   "outputs": [],
   "source": [
    "public class Solution {\n",
    "    public int FindKthLargest (int[] nums, int k) {\n",
    "        var heap = new SortedDictionary<int, int> ();\n",
    "        var size = 0;\n",
    "        foreach (var num in nums) {\n",
    "            if (heap.ContainsKey (num)) {\n",
    "                heap[num]++;\n",
    "            } else {\n",
    "                heap[num] = 1;\n",
    "            }\n",
    "            size++;\n",
    "            if (size > k) {\n",
    "                var min = heap.First ();\n",
    "                if (min.Value == 1) {\n",
    "                    heap.Remove (min.Key);\n",
    "                } else {\n",
    "                    heap[min.Key]--;\n",
    "                }\n",
    "                size--;\n",
    "            }\n",
    "        }\n",
    "\n",
    "        return heap.First ().Key;\n",
    "    }\n",
    "}"
   ]
  },
  {
   "cell_type": "code",
   "execution_count": null,
   "metadata": {},
   "outputs": [],
   "source": []
  }
 ],
 "metadata": {
  "kernelspec": {
   "display_name": ".NET (C#)",
   "language": "C#",
   "name": ".net-csharp"
  },
  "language_info": {
   "file_extension": ".cs",
   "mimetype": "text/x-csharp",
   "name": "C#",
   "pygments_lexer": "csharp",
   "version": "8.0"
  },
  "toc": {
   "base_numbering": 1,
   "nav_menu": {},
   "number_sections": true,
   "sideBar": true,
   "skip_h1_title": false,
   "title_cell": "Table of Contents",
   "title_sidebar": "Contents",
   "toc_cell": false,
   "toc_position": {},
   "toc_section_display": true,
   "toc_window_display": false
  }
 },
 "nbformat": 4,
 "nbformat_minor": 4
}
