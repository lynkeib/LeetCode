{
 "cells": [
  {
   "cell_type": "markdown",
   "metadata": {},
   "source": [
    "# Out of Memory"
   ]
  },
  {
   "cell_type": "code",
   "execution_count": 1,
   "metadata": {
    "ExecuteTime": {
     "end_time": "2020-04-06T00:11:51.8998170Z",
     "start_time": "2020-04-06T00:11:48.714Z"
    }
   },
   "outputs": [],
   "source": [
    "public class Solution {\n",
    "    public int LargestRectangleArea (int[] heights) {\n",
    "        var n = heights.Length;\n",
    "        var dp = new int[n, n];\n",
    "        var res = 0;\n",
    "        for (int i = 0; i < n; i++) {\n",
    "            for (int j = i; j < n; j++) {\n",
    "                if (i == j) {\n",
    "                    dp[i, j] = heights[i];\n",
    "                    res = Math.Max(res, dp[i, j]);\n",
    "                } else {\n",
    "                    dp[i, j] = Math.Min (dp[i, j - 1], heights[j]);\n",
    "                    res = Math.Max(res, dp[i, j] * (j - i + 1));\n",
    "                }\n",
    "            }\n",
    "        }\n",
    "        return res;\n",
    "    }\n",
    "}"
   ]
  },
  {
   "cell_type": "markdown",
   "metadata": {},
   "source": [
    "# Stack (increase)"
   ]
  },
  {
   "cell_type": "code",
   "execution_count": 1,
   "metadata": {
    "ExecuteTime": {
     "end_time": "2020-05-22T03:31:26.4123460Z",
     "start_time": "2020-05-22T03:31:25.380Z"
    }
   },
   "outputs": [],
   "source": [
    "public class Solution {\n",
    "    public int LargestRectangleArea(int[] heights) {\n",
    "        var stack = new Stack<int>();\n",
    "        stack.Push(-1);\n",
    "        var res = 0;\n",
    "        for(int i = 0; i < heights.Length; i++){\n",
    "            while(stack.Count != 1 && heights[i] < heights[stack.Peek()]){\n",
    "                var index = stack.Pop();\n",
    "                var width = i - stack.Peek() - 1;\n",
    "                res = Math.Max(res, width * heights[index]);\n",
    "            }\n",
    "            stack.Push(i);\n",
    "        }\n",
    "        while(stack.Count != 1){\n",
    "            var index = stack.Pop();\n",
    "            var width = heights.Length - stack.Peek() - 1;\n",
    "            res = Math.Max(res, width * heights[index]);\n",
    "        }\n",
    "        return res;\n",
    "    }\n",
    "}"
   ]
  },
  {
   "cell_type": "code",
   "execution_count": null,
   "metadata": {},
   "outputs": [],
   "source": []
  }
 ],
 "metadata": {
  "kernelspec": {
   "display_name": ".NET (C#)",
   "language": "C#",
   "name": ".net-csharp"
  },
  "language_info": {
   "file_extension": ".cs",
   "mimetype": "text/x-csharp",
   "name": "C#",
   "pygments_lexer": "csharp",
   "version": "8.0"
  },
  "toc": {
   "base_numbering": 1,
   "nav_menu": {},
   "number_sections": true,
   "sideBar": true,
   "skip_h1_title": false,
   "title_cell": "Table of Contents",
   "title_sidebar": "Contents",
   "toc_cell": false,
   "toc_position": {},
   "toc_section_display": true,
   "toc_window_display": false
  }
 },
 "nbformat": 4,
 "nbformat_minor": 4
}
