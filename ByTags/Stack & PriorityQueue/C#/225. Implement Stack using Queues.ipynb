{
 "cells": [
  {
   "cell_type": "code",
   "execution_count": 1,
   "metadata": {
    "ExecuteTime": {
     "end_time": "2020-04-24T05:19:47.9669910Z",
     "start_time": "2020-04-24T05:19:46.918Z"
    }
   },
   "outputs": [],
   "source": [
    "public class MyStack {\n",
    "\n",
    "    Queue<int> q1;\n",
    "    Queue<int> q2;\n",
    "    int top;\n",
    "\n",
    "    /** Initialize your data structure here. */\n",
    "    public MyStack() {\n",
    "        q1 = new Queue<int>();\n",
    "        q2 = new Queue<int>();\n",
    "        top = 0;\n",
    "    }\n",
    "    \n",
    "    /** Push element x onto stack. */\n",
    "    public void Push(int x) {\n",
    "        q1.Enqueue(x);\n",
    "        top = x;\n",
    "    }\n",
    "    \n",
    "    /** Removes the element on top of the stack and returns that element. */\n",
    "    public int Pop() {\n",
    "        while(q1.Count > 1){\n",
    "            top = q1.Dequeue();\n",
    "            q2.Enqueue(top);\n",
    "        }\n",
    "        var res = q1.Dequeue();\n",
    "        var temp = q1;\n",
    "        q1 = q2;\n",
    "        q2 = temp;\n",
    "        return res;\n",
    "    }\n",
    "    \n",
    "    /** Get the top element. */\n",
    "    public int Top() {\n",
    "        return top;\n",
    "    }\n",
    "    \n",
    "    /** Returns whether the stack is empty. */\n",
    "    public bool Empty() {\n",
    "        return q1.Count == 0;\n",
    "    }\n",
    "}\n",
    "\n",
    "/**\n",
    " * Your MyStack object will be instantiated and called as such:\n",
    " * MyStack obj = new MyStack();\n",
    " * obj.Push(x);\n",
    " * int param_2 = obj.Pop();\n",
    " * int param_3 = obj.Top();\n",
    " * bool param_4 = obj.Empty();\n",
    " */"
   ]
  },
  {
   "cell_type": "code",
   "execution_count": null,
   "metadata": {},
   "outputs": [],
   "source": []
  }
 ],
 "metadata": {
  "kernelspec": {
   "display_name": ".NET (C#)",
   "language": "C#",
   "name": ".net-csharp"
  },
  "language_info": {
   "file_extension": ".cs",
   "mimetype": "text/x-csharp",
   "name": "C#",
   "pygments_lexer": "csharp",
   "version": "8.0"
  },
  "toc": {
   "base_numbering": 1,
   "nav_menu": {},
   "number_sections": true,
   "sideBar": true,
   "skip_h1_title": false,
   "title_cell": "Table of Contents",
   "title_sidebar": "Contents",
   "toc_cell": false,
   "toc_position": {},
   "toc_section_display": true,
   "toc_window_display": false
  }
 },
 "nbformat": 4,
 "nbformat_minor": 4
}
