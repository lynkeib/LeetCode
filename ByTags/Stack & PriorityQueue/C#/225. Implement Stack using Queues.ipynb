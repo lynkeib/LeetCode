{
 "cells": [
  {
   "cell_type": "code",
   "execution_count": 1,
   "metadata": {
    "ExecuteTime": {
     "end_time": "2020-04-25T02:19:56.4085490Z",
     "start_time": "2020-04-25T02:19:55.377Z"
    }
   },
   "outputs": [],
   "source": [
    "public class MyQueue {\n",
    "\n",
    "    Stack<int> stack1;\n",
    "    Stack<int> stack2;\n",
    "    int peek;\n",
    "\n",
    "    /** Initialize your data structure here. */\n",
    "    public MyQueue () {\n",
    "        stack1 = new Stack<int> ();\n",
    "        stack2 = new Stack<int> ();\n",
    "        peek = 0;\n",
    "    }\n",
    "\n",
    "    /** Push element x to the back of queue. */\n",
    "    public void Push (int x) {\n",
    "        if (stack1.Count == 0) {\n",
    "            peek = x;\n",
    "        }\n",
    "        stack1.Push (x);\n",
    "        return;\n",
    "    }\n",
    "\n",
    "    /** Removes the element from in front of queue and returns that element. */\n",
    "    public int Pop () {\n",
    "        if (stack2.Count == 0) {\n",
    "            while(stack1.Count != 0){\n",
    "                stack2.Push (stack1.Pop ());\n",
    "            }\n",
    "        }\n",
    "        var res = stack2.Pop ();\n",
    "        if (stack2.Count != 0) {\n",
    "            peek = stack2.Peek ();\n",
    "        }\n",
    "        return res;\n",
    "    }\n",
    "\n",
    "    /** Get the front element. */\n",
    "    public int Peek () {\n",
    "        return peek;\n",
    "    }\n",
    "\n",
    "    /** Returns whether the queue is empty. */\n",
    "    public bool Empty () {\n",
    "        return stack1.Count == 0 && stack2.Count == 0;\n",
    "    }\n",
    "}\n",
    "\n",
    "/**\n",
    " * Your MyQueue object will be instantiated and called as such:\n",
    " * MyQueue obj = new MyQueue();\n",
    " * obj.Push(x);\n",
    " * int param_2 = obj.Pop();\n",
    " * int param_3 = obj.Peek();\n",
    " * bool param_4 = obj.Empty();\n",
    " */"
   ]
  },
  {
   "cell_type": "code",
   "execution_count": null,
   "metadata": {},
   "outputs": [],
   "source": []
  }
 ],
 "metadata": {
  "kernelspec": {
   "display_name": ".NET (C#)",
   "language": "C#",
   "name": ".net-csharp"
  },
  "language_info": {
   "file_extension": ".cs",
   "mimetype": "text/x-csharp",
   "name": "C#",
   "pygments_lexer": "csharp",
   "version": "8.0"
  },
  "toc": {
   "base_numbering": 1,
   "nav_menu": {},
   "number_sections": true,
   "sideBar": true,
   "skip_h1_title": false,
   "title_cell": "Table of Contents",
   "title_sidebar": "Contents",
   "toc_cell": false,
   "toc_position": {},
   "toc_section_display": true,
   "toc_window_display": false
  }
 },
 "nbformat": 4,
 "nbformat_minor": 4
}
