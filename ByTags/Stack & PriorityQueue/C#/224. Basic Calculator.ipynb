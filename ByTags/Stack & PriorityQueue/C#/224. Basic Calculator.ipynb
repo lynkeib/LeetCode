{
 "cells": [
  {
   "cell_type": "code",
   "execution_count": 2,
   "metadata": {
    "ExecuteTime": {
     "end_time": "2020-04-24T05:06:48.3238650Z",
     "start_time": "2020-04-24T05:06:47.818Z"
    }
   },
   "outputs": [],
   "source": [
    "public class Solution {\n",
    "    public int Calculate(string s) {\n",
    "        int res = 0;\n",
    "        int sign = 1;\n",
    "        var stack = new Stack<int>();\n",
    "        for (int i = 0; i < s.Length; i++)\n",
    "        {\n",
    "            var c = s[i];\n",
    "            if(Char.IsDigit(c)){\n",
    "                var num = 0;\n",
    "                while(i < s.Length && Char.IsDigit(s[i])){\n",
    "                    num = num * 10 + (s[i] - '0');\n",
    "                    i++;\n",
    "                }\n",
    "                res += sign * num;\n",
    "                i--;\n",
    "            }else if(c == '+'){\n",
    "                sign = 1;\n",
    "            }else if(c == '-'){\n",
    "                sign = -1;\n",
    "            }else if(c == '('){\n",
    "                stack.Push(res);\n",
    "                stack.Push(sign);\n",
    "                res = 0;\n",
    "                sign = 1;\n",
    "            }else if(c == ')'){\n",
    "                res *= stack.Pop();\n",
    "                res += stack.Pop();\n",
    "            }\n",
    "        }\n",
    "        return res;\n",
    "    }\n",
    "}"
   ]
  },
  {
   "cell_type": "code",
   "execution_count": null,
   "metadata": {},
   "outputs": [],
   "source": []
  }
 ],
 "metadata": {
  "kernelspec": {
   "display_name": ".NET (C#)",
   "language": "C#",
   "name": ".net-csharp"
  },
  "language_info": {
   "file_extension": ".cs",
   "mimetype": "text/x-csharp",
   "name": "C#",
   "pygments_lexer": "csharp",
   "version": "8.0"
  },
  "toc": {
   "base_numbering": 1,
   "nav_menu": {},
   "number_sections": true,
   "sideBar": true,
   "skip_h1_title": false,
   "title_cell": "Table of Contents",
   "title_sidebar": "Contents",
   "toc_cell": false,
   "toc_position": {},
   "toc_section_display": true,
   "toc_window_display": false
  }
 },
 "nbformat": 4,
 "nbformat_minor": 4
}
