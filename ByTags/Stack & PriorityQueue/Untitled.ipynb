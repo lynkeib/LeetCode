{
 "cells": [
  {
   "cell_type": "code",
   "execution_count": 1,
   "metadata": {
    "ExecuteTime": {
     "end_time": "2020-04-23T04:27:29.859209Z",
     "start_time": "2020-04-23T04:27:29.853937Z"
    }
   },
   "outputs": [],
   "source": [
    "a = [[1,2], [3,2], [2,1]]"
   ]
  },
  {
   "cell_type": "code",
   "execution_count": 4,
   "metadata": {
    "ExecuteTime": {
     "end_time": "2020-04-23T04:28:02.194539Z",
     "start_time": "2020-04-23T04:28:02.190655Z"
    }
   },
   "outputs": [],
   "source": [
    "a.sort(key = lambda a: (a[1], a[0]))"
   ]
  },
  {
   "cell_type": "code",
   "execution_count": 5,
   "metadata": {
    "ExecuteTime": {
     "end_time": "2020-04-23T04:28:02.959346Z",
     "start_time": "2020-04-23T04:28:02.954186Z"
    }
   },
   "outputs": [
    {
     "data": {
      "text/plain": [
       "[[2, 1], [1, 2], [3, 2]]"
      ]
     },
     "execution_count": 5,
     "metadata": {},
     "output_type": "execute_result"
    }
   ],
   "source": [
    "a"
   ]
  },
  {
   "cell_type": "code",
   "execution_count": 19,
   "metadata": {
    "ExecuteTime": {
     "end_time": "2020-04-23T04:38:11.489256Z",
     "start_time": "2020-04-23T04:38:11.484455Z"
    }
   },
   "outputs": [],
   "source": [
    "heap = [[1,1,2], [1,1,3], [1,2,1], [1,2,2], [1,3,2], [2,3,1], [2,1,3], [0,9,1]]"
   ]
  },
  {
   "cell_type": "code",
   "execution_count": 24,
   "metadata": {
    "ExecuteTime": {
     "end_time": "2020-04-23T04:38:27.366773Z",
     "start_time": "2020-04-23T04:38:27.363867Z"
    }
   },
   "outputs": [],
   "source": [
    "heap.sort()"
   ]
  },
  {
   "cell_type": "code",
   "execution_count": 25,
   "metadata": {
    "ExecuteTime": {
     "end_time": "2020-04-23T04:38:30.116089Z",
     "start_time": "2020-04-23T04:38:30.110172Z"
    }
   },
   "outputs": [
    {
     "data": {
      "text/plain": [
       "[[0, 9, 1],\n",
       " [1, 1, 2],\n",
       " [1, 1, 3],\n",
       " [1, 2, 1],\n",
       " [1, 2, 2],\n",
       " [1, 3, 2],\n",
       " [2, 1, 3],\n",
       " [2, 3, 1]]"
      ]
     },
     "execution_count": 25,
     "metadata": {},
     "output_type": "execute_result"
    }
   ],
   "source": [
    "heap"
   ]
  },
  {
   "cell_type": "code",
   "execution_count": 20,
   "metadata": {
    "ExecuteTime": {
     "end_time": "2020-04-23T04:38:11.824649Z",
     "start_time": "2020-04-23T04:38:11.821554Z"
    }
   },
   "outputs": [],
   "source": [
    "heapq.heapify(heap)"
   ]
  },
  {
   "cell_type": "code",
   "execution_count": 21,
   "metadata": {
    "ExecuteTime": {
     "end_time": "2020-04-23T04:38:12.066789Z",
     "start_time": "2020-04-23T04:38:12.063633Z"
    }
   },
   "outputs": [],
   "source": [
    "import heapq"
   ]
  },
  {
   "cell_type": "code",
   "execution_count": 22,
   "metadata": {
    "ExecuteTime": {
     "end_time": "2020-04-23T04:38:12.278559Z",
     "start_time": "2020-04-23T04:38:12.274833Z"
    }
   },
   "outputs": [],
   "source": [
    "temp = []\n",
    "for a in heap:\n",
    "    heapq.heappush(temp, a)"
   ]
  },
  {
   "cell_type": "code",
   "execution_count": 23,
   "metadata": {
    "ExecuteTime": {
     "end_time": "2020-04-23T04:38:12.489988Z",
     "start_time": "2020-04-23T04:38:12.484312Z"
    }
   },
   "outputs": [
    {
     "data": {
      "text/plain": [
       "[[0, 9, 1],\n",
       " [1, 1, 2],\n",
       " [1, 2, 1],\n",
       " [1, 1, 3],\n",
       " [1, 3, 2],\n",
       " [2, 3, 1],\n",
       " [2, 1, 3],\n",
       " [1, 2, 2]]"
      ]
     },
     "execution_count": 23,
     "metadata": {},
     "output_type": "execute_result"
    }
   ],
   "source": [
    "temp"
   ]
  },
  {
   "cell_type": "code",
   "execution_count": 26,
   "metadata": {
    "ExecuteTime": {
     "end_time": "2020-04-23T06:26:21.282083Z",
     "start_time": "2020-04-23T06:26:21.277402Z"
    }
   },
   "outputs": [],
   "source": [
    "from collections import OrderedDict"
   ]
  },
  {
   "cell_type": "code",
   "execution_count": 27,
   "metadata": {
    "ExecuteTime": {
     "end_time": "2020-04-23T06:26:27.428909Z",
     "start_time": "2020-04-23T06:26:27.425859Z"
    }
   },
   "outputs": [],
   "source": [
    "a = OrderedDict()"
   ]
  },
  {
   "cell_type": "code",
   "execution_count": 28,
   "metadata": {
    "ExecuteTime": {
     "end_time": "2020-04-23T06:26:30.671338Z",
     "start_time": "2020-04-23T06:26:30.668828Z"
    }
   },
   "outputs": [],
   "source": [
    "a['a'] = 1"
   ]
  },
  {
   "cell_type": "code",
   "execution_count": 30,
   "metadata": {
    "ExecuteTime": {
     "end_time": "2020-04-23T06:26:48.406387Z",
     "start_time": "2020-04-23T06:26:48.397120Z"
    }
   },
   "outputs": [
    {
     "ename": "TypeError",
     "evalue": "pop() missing required argument 'key' (pos 1)",
     "output_type": "error",
     "traceback": [
      "\u001b[0;31m---------------------------------------------------------------------------\u001b[0m",
      "\u001b[0;31mTypeError\u001b[0m                                 Traceback (most recent call last)",
      "\u001b[0;32m<ipython-input-30-9c070c907602>\u001b[0m in \u001b[0;36m<module>\u001b[0;34m\u001b[0m\n\u001b[0;32m----> 1\u001b[0;31m \u001b[0ma\u001b[0m\u001b[0;34m.\u001b[0m\u001b[0mpop\u001b[0m\u001b[0;34m(\u001b[0m\u001b[0;34m)\u001b[0m\u001b[0;34m\u001b[0m\u001b[0;34m\u001b[0m\u001b[0m\n\u001b[0m",
      "\u001b[0;31mTypeError\u001b[0m: pop() missing required argument 'key' (pos 1)"
     ]
    }
   ],
   "source": [
    "a."
   ]
  },
  {
   "cell_type": "code",
   "execution_count": null,
   "metadata": {},
   "outputs": [],
   "source": []
  }
 ],
 "metadata": {
  "kernelspec": {
   "display_name": "Python 3",
   "language": "python",
   "name": "python3"
  },
  "language_info": {
   "codemirror_mode": {
    "name": "ipython",
    "version": 3
   },
   "file_extension": ".py",
   "mimetype": "text/x-python",
   "name": "python",
   "nbconvert_exporter": "python",
   "pygments_lexer": "ipython3",
   "version": "3.7.4"
  },
  "toc": {
   "base_numbering": 1,
   "nav_menu": {},
   "number_sections": true,
   "sideBar": true,
   "skip_h1_title": false,
   "title_cell": "Table of Contents",
   "title_sidebar": "Contents",
   "toc_cell": false,
   "toc_position": {},
   "toc_section_display": true,
   "toc_window_display": false
  }
 },
 "nbformat": 4,
 "nbformat_minor": 4
}
