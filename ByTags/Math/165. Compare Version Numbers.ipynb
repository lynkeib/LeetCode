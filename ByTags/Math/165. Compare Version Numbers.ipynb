{
 "cells": [
  {
   "cell_type": "code",
   "execution_count": 1,
   "metadata": {
    "ExecuteTime": {
     "end_time": "2019-10-30T23:04:50.457649Z",
     "start_time": "2019-10-30T23:04:50.449796Z"
    }
   },
   "outputs": [],
   "source": [
    "class Solution(object):\n",
    "    def compareVersion(self, version1, version2):\n",
    "        \"\"\"\n",
    "        :type version1: str\n",
    "        :type version2: str\n",
    "        :rtype: int\n",
    "        \"\"\"\n",
    "        v1 = list(map(int,version1.split(\".\")))\n",
    "        v2 = list(map(int, version2.split(\".\")))\n",
    "        max_length = max(len(v1), len(v2))\n",
    "        high_value = max_length - 1\n",
    "        v1_value = 0\n",
    "        for v in v1:\n",
    "            v1_value += 10 ** high_value * v\n",
    "            high_value -= 1\n",
    "        high_value = max_length - 1\n",
    "        v2_value = 0\n",
    "        for v in v2:\n",
    "            v2_value += 10 ** high_value * v\n",
    "            high_value -= 1\n",
    "        if v1_value > v2_value:\n",
    "            return 1\n",
    "        elif v1_value < v2_value:\n",
    "            return -1\n",
    "        return 0"
   ]
  },
  {
   "cell_type": "code",
   "execution_count": null,
   "metadata": {},
   "outputs": [],
   "source": []
  }
 ],
 "metadata": {
  "kernelspec": {
   "display_name": "Python 3",
   "language": "python",
   "name": "python3"
  },
  "language_info": {
   "codemirror_mode": {
    "name": "ipython",
    "version": 3
   },
   "file_extension": ".py",
   "mimetype": "text/x-python",
   "name": "python",
   "nbconvert_exporter": "python",
   "pygments_lexer": "ipython3",
   "version": "3.7.1"
  },
  "toc": {
   "base_numbering": 1,
   "nav_menu": {},
   "number_sections": true,
   "sideBar": true,
   "skip_h1_title": false,
   "title_cell": "Table of Contents",
   "title_sidebar": "Contents",
   "toc_cell": false,
   "toc_position": {},
   "toc_section_display": true,
   "toc_window_display": false
  }
 },
 "nbformat": 4,
 "nbformat_minor": 2
}
