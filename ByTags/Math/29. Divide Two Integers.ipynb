{
 "cells": [
  {
   "cell_type": "markdown",
   "metadata": {},
   "source": [
    "# TLE"
   ]
  },
  {
   "cell_type": "code",
   "execution_count": 4,
   "metadata": {
    "ExecuteTime": {
     "end_time": "2019-10-31T02:24:02.467522Z",
     "start_time": "2019-10-31T02:24:02.460331Z"
    }
   },
   "outputs": [],
   "source": [
    "class Solution(object):\n",
    "    def divide(self, dividend, divisor):\n",
    "        \"\"\"\n",
    "        :type dividend: int\n",
    "        :type divisor: int\n",
    "        :rtype: int\n",
    "        \"\"\"\n",
    "        if dividend == 0:\n",
    "            return 0\n",
    "        n_v1, n_v2 = 0, 0\n",
    "        if dividend < 0:\n",
    "            n_v1 = 1\n",
    "        if divisor < 0:\n",
    "            n_v2 = 1\n",
    "        dividend = abs(dividend)\n",
    "        divisor = abs(divisor)\n",
    "        counter = 0\n",
    "        while counter * divisor <= dividend:\n",
    "            counter += 1\n",
    "        return (-1) ** (n_v1 ^ n_v2) * (counter - 1)"
   ]
  },
  {
   "cell_type": "markdown",
   "metadata": {
    "ExecuteTime": {
     "end_time": "2019-10-31T02:51:41.427376Z",
     "start_time": "2019-10-31T02:51:41.423458Z"
    }
   },
   "source": [
    "# Binary Search"
   ]
  },
  {
   "cell_type": "code",
   "execution_count": 6,
   "metadata": {
    "ExecuteTime": {
     "end_time": "2019-10-31T02:55:33.535339Z",
     "start_time": "2019-10-31T02:55:33.525183Z"
    }
   },
   "outputs": [],
   "source": [
    "class Solution(object):\n",
    "    def divide(self, dividend, divisor):\n",
    "        \"\"\"\n",
    "        :type dividend: int\n",
    "        :type divisor: int\n",
    "        :rtype: int\n",
    "        \"\"\"\n",
    "        if dividend == 0:\n",
    "            return 0\n",
    "\n",
    "        n_v1, n_v2 = 0, 0\n",
    "        if dividend < 0:\n",
    "            n_v1 = 1\n",
    "        if divisor < 0:\n",
    "            n_v2 = 1\n",
    "        dividend = abs(dividend)\n",
    "        divisor = abs(divisor)\n",
    "        if dividend == divisor:\n",
    "            return (-1) ** (n_v1 ^ n_v2) * 1\n",
    "        left, right = 1, dividend\n",
    "        while left <= right:\n",
    "            # print(left, right)\n",
    "            mid = left + (right - left) // 2\n",
    "            if mid * divisor == dividend:\n",
    "                if (n_v1 ^ n_v2):\n",
    "                    return max(-(2**31), -mid)\n",
    "                else:\n",
    "                    return min((2**31) - 1, mid)\n",
    "            if mid * divisor < dividend:\n",
    "                left = mid + 1\n",
    "            else:\n",
    "                right = mid - 1\n",
    "        # print(n_v1 ^ n_v2)\n",
    "        if (n_v1 ^ n_v2):\n",
    "            return max(-(2**31), -(left - 1))\n",
    "        else:\n",
    "            return min((2**31) - 1, left - 1)"
   ]
  },
  {
   "cell_type": "code",
   "execution_count": null,
   "metadata": {},
   "outputs": [],
   "source": []
  }
 ],
 "metadata": {
  "kernelspec": {
   "display_name": "Python 3",
   "language": "python",
   "name": "python3"
  },
  "language_info": {
   "codemirror_mode": {
    "name": "ipython",
    "version": 3
   },
   "file_extension": ".py",
   "mimetype": "text/x-python",
   "name": "python",
   "nbconvert_exporter": "python",
   "pygments_lexer": "ipython3",
   "version": "3.7.1"
  },
  "toc": {
   "base_numbering": 1,
   "nav_menu": {},
   "number_sections": true,
   "sideBar": true,
   "skip_h1_title": false,
   "title_cell": "Table of Contents",
   "title_sidebar": "Contents",
   "toc_cell": false,
   "toc_position": {},
   "toc_section_display": true,
   "toc_window_display": false
  }
 },
 "nbformat": 4,
 "nbformat_minor": 2
}
