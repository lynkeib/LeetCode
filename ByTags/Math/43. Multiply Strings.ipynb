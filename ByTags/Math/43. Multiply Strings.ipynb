{
 "cells": [
  {
   "cell_type": "code",
   "execution_count": 1,
   "metadata": {
    "ExecuteTime": {
     "end_time": "2019-10-31T00:51:33.932388Z",
     "start_time": "2019-10-31T00:51:33.924606Z"
    }
   },
   "outputs": [],
   "source": [
    "class Solution(object):\n",
    "    def multiply(self, num1, num2):\n",
    "        \"\"\"\n",
    "        :type num1: str\n",
    "        :type num2: str\n",
    "        :rtype: str\n",
    "        \"\"\"\n",
    "        if len(num1) < len(num2):\n",
    "            num1, num2 = num2, num1\n",
    "        res = 0\n",
    "        for pointer1 in range(len(num1)-1,-1,-1):\n",
    "            for pointer2 in range(len(num2)-1,-1,-1):\n",
    "                res += (10 ** (len(num1) - pointer1 - 1)) * int(num1[pointer1]) * (10 ** (len(num2) - pointer2 - 1)) * int(num2[pointer2])\n",
    "        return str(res)"
   ]
  },
  {
   "cell_type": "code",
   "execution_count": 2,
   "metadata": {
    "ExecuteTime": {
     "end_time": "2019-10-31T01:55:28.590959Z",
     "start_time": "2019-10-31T01:55:28.583538Z"
    }
   },
   "outputs": [],
   "source": [
    "class Solution(object):\n",
    "    def multiply(self, num1, num2):\n",
    "        \"\"\"\n",
    "        :type num1: str\n",
    "        :type num2: str\n",
    "        :rtype: str\n",
    "        \"\"\"\n",
    "        res = [0] * (len(num1) - 1 + len(num2) - 1 + 2)\n",
    "        # print(res)\n",
    "        for index1 in range(len(num1)):\n",
    "            for index2 in range(len(num2)):\n",
    "                temp = int(num1[index1]) * int(num2[index2])\n",
    "                ten = temp // 10\n",
    "                digit = temp % 10\n",
    "                res[index1 + index2] += ten\n",
    "                res[index1 + index2 + 1] += digit\n",
    "        res_value = 0\n",
    "        for index, value in enumerate(res):\n",
    "            res_value += (10 ** (len(res) - index - 1) * value)\n",
    "        return str(res_value)"
   ]
  },
  {
   "cell_type": "code",
   "execution_count": null,
   "metadata": {},
   "outputs": [],
   "source": []
  }
 ],
 "metadata": {
  "kernelspec": {
   "display_name": "Python 3",
   "language": "python",
   "name": "python3"
  },
  "language_info": {
   "codemirror_mode": {
    "name": "ipython",
    "version": 3
   },
   "file_extension": ".py",
   "mimetype": "text/x-python",
   "name": "python",
   "nbconvert_exporter": "python",
   "pygments_lexer": "ipython3",
   "version": "3.7.1"
  },
  "toc": {
   "base_numbering": 1,
   "nav_menu": {},
   "number_sections": true,
   "sideBar": true,
   "skip_h1_title": false,
   "title_cell": "Table of Contents",
   "title_sidebar": "Contents",
   "toc_cell": false,
   "toc_position": {},
   "toc_section_display": true,
   "toc_window_display": false
  }
 },
 "nbformat": 4,
 "nbformat_minor": 2
}
