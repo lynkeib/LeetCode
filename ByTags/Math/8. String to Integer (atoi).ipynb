{
 "cells": [
  {
   "cell_type": "code",
   "execution_count": 1,
   "metadata": {
    "ExecuteTime": {
     "end_time": "2019-10-30T23:39:11.097585Z",
     "start_time": "2019-10-30T23:39:11.089559Z"
    }
   },
   "outputs": [],
   "source": [
    "class Solution(object):\n",
    "    def myAtoi(self, str):\n",
    "        \"\"\"\n",
    "        :type str: str\n",
    "        :rtype: int\n",
    "        \"\"\"\n",
    "        str = str.strip()\n",
    "        # print(str)\n",
    "        if not str or (str[0] not in (\"+\", \"-\") and not str[0].isnumeric()):\n",
    "            return 0\n",
    "        if str[0] in (\"+\", \"-\"):\n",
    "            sign = str[0]\n",
    "            str = str[1:]\n",
    "        else:\n",
    "            sign = '+'\n",
    "        res = 0\n",
    "        index = 0\n",
    "        # print('aaaa')\n",
    "        while index < len(str) and str[index].isnumeric():\n",
    "            res = res * 10 + int(str[index])\n",
    "            index += 1\n",
    "        if sign == '+':\n",
    "            return min(res, 2**31-1)\n",
    "        return max(-res, -(2**31))"
   ]
  },
  {
   "cell_type": "code",
   "execution_count": null,
   "metadata": {},
   "outputs": [],
   "source": []
  }
 ],
 "metadata": {
  "kernelspec": {
   "display_name": "Python 3",
   "language": "python",
   "name": "python3"
  },
  "language_info": {
   "codemirror_mode": {
    "name": "ipython",
    "version": 3
   },
   "file_extension": ".py",
   "mimetype": "text/x-python",
   "name": "python",
   "nbconvert_exporter": "python",
   "pygments_lexer": "ipython3",
   "version": "3.7.1"
  },
  "toc": {
   "base_numbering": 1,
   "nav_menu": {},
   "number_sections": true,
   "sideBar": true,
   "skip_h1_title": false,
   "title_cell": "Table of Contents",
   "title_sidebar": "Contents",
   "toc_cell": false,
   "toc_position": {},
   "toc_section_display": true,
   "toc_window_display": false
  }
 },
 "nbformat": 4,
 "nbformat_minor": 2
}
