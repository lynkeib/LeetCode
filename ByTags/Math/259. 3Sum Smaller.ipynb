{
 "cells": [
  {
   "cell_type": "code",
   "execution_count": 1,
   "metadata": {
    "ExecuteTime": {
     "end_time": "2019-11-02T03:55:44.515339Z",
     "start_time": "2019-11-02T03:55:44.505147Z"
    }
   },
   "outputs": [],
   "source": [
    "class Solution(object):\n",
    "    def threeSumSmaller(self, nums, target):\n",
    "        \"\"\"\n",
    "        :type nums: List[int]\n",
    "        :type target: int\n",
    "        :rtype: int\n",
    "        \"\"\"\n",
    "        res = 0\n",
    "        for index in range(len(nums) - 2):\n",
    "            this_target = target - nums[index]\n",
    "            seen = dict()\n",
    "            for index2 in range(index + 1, len(nums)):\n",
    "                for num in seen:\n",
    "                    if nums[index2] + num < this_target:\n",
    "                        res += seen[num]\n",
    "                if nums[index2] in seen:\n",
    "                    seen[nums[index2]] += 1\n",
    "                else:\n",
    "                    seen[nums[index2]] = 1\n",
    "        return res"
   ]
  },
  {
   "cell_type": "code",
   "execution_count": 2,
   "metadata": {
    "ExecuteTime": {
     "end_time": "2019-11-02T04:05:16.519864Z",
     "start_time": "2019-11-02T04:05:16.514337Z"
    }
   },
   "outputs": [],
   "source": [
    "class Solution(object):\n",
    "    def threeSumSmaller(self, nums, target):\n",
    "        \"\"\"\n",
    "        :type nums: List[int]\n",
    "        :type target: int\n",
    "        :rtype: int\n",
    "        \"\"\"\n",
    "        nums.sort()\n",
    "        res = 0\n",
    "        # print(nums)\n",
    "        for index in range(len(nums) - 2):\n",
    "            left, right = index + 1, len(nums) - 1\n",
    "            while left < right:\n",
    "                if nums[left] + nums[right] + nums[index] < target:\n",
    "                    res += (right - left)\n",
    "                    left += 1\n",
    "                else: #nums[left] + nums[right] + nums[index] >= target:\n",
    "                    right -= 1\n",
    "        return res  "
   ]
  },
  {
   "cell_type": "code",
   "execution_count": null,
   "metadata": {},
   "outputs": [],
   "source": []
  }
 ],
 "metadata": {
  "kernelspec": {
   "display_name": "Python 3",
   "language": "python",
   "name": "python3"
  },
  "language_info": {
   "codemirror_mode": {
    "name": "ipython",
    "version": 3
   },
   "file_extension": ".py",
   "mimetype": "text/x-python",
   "name": "python",
   "nbconvert_exporter": "python",
   "pygments_lexer": "ipython3",
   "version": "3.7.1"
  },
  "toc": {
   "base_numbering": 1,
   "nav_menu": {},
   "number_sections": true,
   "sideBar": true,
   "skip_h1_title": false,
   "title_cell": "Table of Contents",
   "title_sidebar": "Contents",
   "toc_cell": false,
   "toc_position": {},
   "toc_section_display": true,
   "toc_window_display": false
  }
 },
 "nbformat": 4,
 "nbformat_minor": 2
}
