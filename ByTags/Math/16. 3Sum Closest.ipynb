{
 "cells": [
  {
   "cell_type": "code",
   "execution_count": 1,
   "metadata": {
    "ExecuteTime": {
     "end_time": "2019-11-02T03:29:16.504611Z",
     "start_time": "2019-11-02T03:29:16.494013Z"
    }
   },
   "outputs": [],
   "source": [
    "class Solution(object):\n",
    "    def threeSumClosest(self, nums, target):\n",
    "        \"\"\"\n",
    "        :type nums: List[int]\n",
    "        :type target: int\n",
    "        :rtype: int\n",
    "        \"\"\"\n",
    "        nums.sort()\n",
    "        res = float('inf')\n",
    "        res_sum = None\n",
    "        for index in range(len(nums) - 2):\n",
    "            if index != 0 and nums[index] == nums[index - 1]:\n",
    "                continue\n",
    "            left, right = index + 1, len(nums) - 1\n",
    "            while left < right:\n",
    "                if nums[left] + nums[right] + nums[index] == target:\n",
    "                    return target\n",
    "                if nums[left] + nums[right] + nums[index]< target:\n",
    "                    if abs(target - (nums[index] + nums[left] + nums[right])) < res:\n",
    "                        res = abs(target - (nums[index] + nums[left] + nums[right]))\n",
    "                        res_sum = nums[index] + nums[left] + nums[right]\n",
    "                    left += 1\n",
    "                else:\n",
    "                    if abs(target - (nums[index] + nums[left] + nums[right])) < res:\n",
    "                        res = abs(target - (nums[index] + nums[left] + nums[right]))\n",
    "                        res_sum = nums[index] + nums[left] + nums[right]\n",
    "                    res = min(res, abs(target - (nums[index] + nums[left] + nums[right])))\n",
    "                    right -= 1\n",
    "        return res_sum"
   ]
  },
  {
   "cell_type": "code",
   "execution_count": null,
   "metadata": {},
   "outputs": [],
   "source": []
  }
 ],
 "metadata": {
  "kernelspec": {
   "display_name": "Python 3",
   "language": "python",
   "name": "python3"
  },
  "language_info": {
   "codemirror_mode": {
    "name": "ipython",
    "version": 3
   },
   "file_extension": ".py",
   "mimetype": "text/x-python",
   "name": "python",
   "nbconvert_exporter": "python",
   "pygments_lexer": "ipython3",
   "version": "3.7.1"
  },
  "toc": {
   "base_numbering": 1,
   "nav_menu": {},
   "number_sections": true,
   "sideBar": true,
   "skip_h1_title": false,
   "title_cell": "Table of Contents",
   "title_sidebar": "Contents",
   "toc_cell": false,
   "toc_position": {},
   "toc_section_display": true,
   "toc_window_display": false
  }
 },
 "nbformat": 4,
 "nbformat_minor": 2
}
