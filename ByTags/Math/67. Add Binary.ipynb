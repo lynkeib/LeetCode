{
 "cells": [
  {
   "cell_type": "code",
   "execution_count": 1,
   "metadata": {
    "ExecuteTime": {
     "end_time": "2019-10-31T00:21:08.901579Z",
     "start_time": "2019-10-31T00:21:08.893142Z"
    }
   },
   "outputs": [],
   "source": [
    "class Solution(object):\n",
    "    def addBinary(self, a, b):\n",
    "        \"\"\"\n",
    "        :type a: str\n",
    "        :type b: str\n",
    "        :rtype: str\n",
    "        \"\"\"\n",
    "        pointer1 = len(a) - 1\n",
    "        pointer2 = len(b) - 1\n",
    "        remain = 0\n",
    "        res = \"\"\n",
    "        while pointer1 >= 0 or pointer2 >= 0:\n",
    "            if pointer1 >= 0:\n",
    "                a_value = int(a[pointer1])\n",
    "            else:\n",
    "                a_value = 0\n",
    "            if pointer2 >= 0:\n",
    "                b_value = int(b[pointer2])\n",
    "            else:\n",
    "                b_value = 0\n",
    "            this = a_value + b_value + remain\n",
    "            if this <= 1:\n",
    "                remain = 0\n",
    "            else:\n",
    "                remain = 1\n",
    "                this -= 2\n",
    "            res = str(this) + res\n",
    "            pointer1 -= 1\n",
    "            pointer2 -= 1\n",
    "        if remain:\n",
    "            res = '1' + res\n",
    "        return res   "
   ]
  },
  {
   "cell_type": "code",
   "execution_count": null,
   "metadata": {},
   "outputs": [],
   "source": []
  }
 ],
 "metadata": {
  "kernelspec": {
   "display_name": "Python 3",
   "language": "python",
   "name": "python3"
  },
  "language_info": {
   "codemirror_mode": {
    "name": "ipython",
    "version": 3
   },
   "file_extension": ".py",
   "mimetype": "text/x-python",
   "name": "python",
   "nbconvert_exporter": "python",
   "pygments_lexer": "ipython3",
   "version": "3.7.1"
  },
  "toc": {
   "base_numbering": 1,
   "nav_menu": {},
   "number_sections": true,
   "sideBar": true,
   "skip_h1_title": false,
   "title_cell": "Table of Contents",
   "title_sidebar": "Contents",
   "toc_cell": false,
   "toc_position": {},
   "toc_section_display": true,
   "toc_window_display": false
  }
 },
 "nbformat": 4,
 "nbformat_minor": 2
}
