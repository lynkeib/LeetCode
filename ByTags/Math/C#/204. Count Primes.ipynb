{
 "cells": [
  {
   "cell_type": "code",
   "execution_count": 1,
   "metadata": {
    "ExecuteTime": {
     "end_time": "2020-04-20T04:32:14.6013580Z",
     "start_time": "2020-04-20T04:32:13.141Z"
    }
   },
   "outputs": [],
   "source": [
    "public class Solution {\n",
    "    public int CountPrimes(int n) {\n",
    "        int res = 0;\n",
    "        if(n <= 2){\n",
    "            return res;\n",
    "        }\n",
    "        res++;\n",
    "        for(int i = 3; i < n; i++){\n",
    "            if(cal(i)){\n",
    "                res++;\n",
    "            }\n",
    "        }\n",
    "        return res;\n",
    "    }\n",
    "\n",
    "    public bool cal(int n){\n",
    "        var h = (int)Math.Pow(n, 0.5);\n",
    "        for(int i = 2; i <= h; i++){\n",
    "            if(n % i == 0){\n",
    "                return false;\n",
    "            }\n",
    "        }\n",
    "        return true;\n",
    "    }\n",
    "}"
   ]
  },
  {
   "cell_type": "code",
   "execution_count": 2,
   "metadata": {
    "ExecuteTime": {
     "end_time": "2020-04-20T04:45:19.3788380Z",
     "start_time": "2020-04-20T04:45:19.184Z"
    }
   },
   "outputs": [],
   "source": [
    "public class Solution {\n",
    "    public int CountPrimes(int n) {\n",
    "        var res = 0;\n",
    "        if(n <= 2){\n",
    "            return res;\n",
    "        }\n",
    "        var isPrime = new bool[n];\n",
    "        for(int i = 2; i < n; i++){\n",
    "            isPrime[i] = true;\n",
    "        }\n",
    "        for(int i = 2; i * i < n; i++){\n",
    "            if(isPrime[i]){\n",
    "                for(int j = i * i; j < n; j += i){\n",
    "                    isPrime[j] = false;\n",
    "                }\n",
    "            }\n",
    "        }\n",
    "        for(int i = 2; i < n; i++){\n",
    "            if(isPrime[i]) res++;\n",
    "        }\n",
    "        return res;\n",
    "    }\n",
    "}"
   ]
  },
  {
   "cell_type": "code",
   "execution_count": null,
   "metadata": {},
   "outputs": [],
   "source": []
  }
 ],
 "metadata": {
  "kernelspec": {
   "display_name": ".NET (C#)",
   "language": "C#",
   "name": ".net-csharp"
  },
  "language_info": {
   "file_extension": ".cs",
   "mimetype": "text/x-csharp",
   "name": "C#",
   "pygments_lexer": "csharp",
   "version": "8.0"
  },
  "toc": {
   "base_numbering": 1,
   "nav_menu": {},
   "number_sections": true,
   "sideBar": true,
   "skip_h1_title": false,
   "title_cell": "Table of Contents",
   "title_sidebar": "Contents",
   "toc_cell": false,
   "toc_position": {},
   "toc_section_display": true,
   "toc_window_display": false
  }
 },
 "nbformat": 4,
 "nbformat_minor": 4
}
