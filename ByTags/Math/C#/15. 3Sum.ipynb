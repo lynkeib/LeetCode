{
 "cells": [
  {
   "cell_type": "code",
   "execution_count": 1,
   "metadata": {},
   "outputs": [],
   "source": [
    "public class Solution {\n",
    "    public IList<IList<int>> ThreeSum (int[] nums) {\n",
    "        Array.Sort (nums);\n",
    "        List<IList<int>> res = new List<IList<int>> ();\n",
    "        for (int index = 0; index < nums.Length - 2; index++) {\n",
    "            if ((index != 0) && (nums[index] == nums[index - 1])) {\n",
    "                continue;\n",
    "            }\n",
    "            for (int index2 = index + 1; index2 < nums.Length - 1; index2++) {\n",
    "                if((index2 != index+1) && (nums[index2] == nums[index2-1])){\n",
    "                    continue;\n",
    "                }\n",
    "                int this_target = -nums[index] - nums[index2];\n",
    "                int left = index2 + 1, right = nums.Length - 1;\n",
    "                while (left <= right) {\n",
    "                    int mid = left + (right - left) / 2;\n",
    "                    if (nums[mid] == this_target) {\n",
    "                        res.Add (new List<int> { nums[index], nums[index2], nums[mid] });\n",
    "                        break;\n",
    "                    }\n",
    "                    if (nums[mid] < this_target) {\n",
    "                        left = mid + 1;\n",
    "                    } else {\n",
    "                        right = mid - 1;\n",
    "                    }\n",
    "                }\n",
    "            }\n",
    "        }\n",
    "        return res;\n",
    "    }\n",
    "}"
   ]
  },
  {
   "cell_type": "code",
   "execution_count": 2,
   "metadata": {},
   "outputs": [],
   "source": [
    "public class Solution {\n",
    "    public IList<IList<int>> ThreeSum (int[] nums) {\n",
    "        Array.Sort (nums);\n",
    "        List<IList<int>> res = new List<IList<int>> ();\n",
    "        for (int index = 0; index < nums.Length - 2; index++) {\n",
    "            if ((index != 0) && (nums[index] == nums[index - 1])) {\n",
    "                continue;\n",
    "            }\n",
    "            var left = index + 1;\n",
    "            var right = nums.Length - 1;\n",
    "            while (left < right) {\n",
    "                var thissum = nums[index] + nums[left] + nums[right];\n",
    "                if (thissum == 0) {\n",
    "                    res.Add (new List<int> { nums[index], nums[left], nums[right] });\n",
    "                    while ((left < right) && (nums[left] == nums[left + 1])) left++;\n",
    "                    while ((left < right) && (nums[right] == nums[left - 1])) right--;\n",
    "                    left++;\n",
    "                    right--;\n",
    "                } else if (thissum < 0) {\n",
    "                    left++;\n",
    "                } else {\n",
    "                    right--;\n",
    "                }\n",
    "            }\n",
    "        }\n",
    "        return res;\n",
    "    }\n",
    "}"
   ]
  },
  {
   "cell_type": "code",
   "execution_count": null,
   "metadata": {},
   "outputs": [],
   "source": []
  }
 ],
 "metadata": {
  "kernelspec": {
   "display_name": ".NET (C#)",
   "language": "C#",
   "name": ".net-csharp"
  },
  "language_info": {
   "file_extension": ".cs",
   "mimetype": "text/x-csharp",
   "name": "C#",
   "pygments_lexer": "csharp",
   "version": "8.0"
  },
  "toc": {
   "base_numbering": 1,
   "nav_menu": {},
   "number_sections": true,
   "sideBar": true,
   "skip_h1_title": false,
   "title_cell": "Table of Contents",
   "title_sidebar": "Contents",
   "toc_cell": false,
   "toc_position": {},
   "toc_section_display": true,
   "toc_window_display": false
  }
 },
 "nbformat": 4,
 "nbformat_minor": 4
}
