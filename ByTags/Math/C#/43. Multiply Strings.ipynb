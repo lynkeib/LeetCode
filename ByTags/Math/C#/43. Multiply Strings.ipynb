{
 "cells": [
  {
   "cell_type": "code",
   "execution_count": 1,
   "metadata": {
    "ExecuteTime": {
     "end_time": "2020-03-27T05:40:36.2765010Z",
     "start_time": "2020-03-27T05:40:31.703Z"
    }
   },
   "outputs": [],
   "source": [
    "public class Solution {\n",
    "    public string Multiply(string num1, string num2) {\n",
    "        int n1 = num1.Length, n2 = num2.Length;\n",
    "        int[] res = new int[n1 + n2];\n",
    "        for(int index1 = 0; index1 < n1; index1++){\n",
    "            for(int index2 = 0; index2 < n2; index2++){\n",
    "                int position = n1 - index1 - 1 + n2 - index2 - 1;\n",
    "                int value = (int)(Char.GetNumericValue(num1[index1]) * Char.GetNumericValue(num2[index2]));\n",
    "                res[position] += value;\n",
    "            }\n",
    "        }\n",
    "        // foreach(var i in res) Console.Write($\"{i} \");\n",
    "        Console.WriteLine();\n",
    "        int remain = 0;\n",
    "        for(int index = 0; index < res.Length; index++){\n",
    "            int total = res[index] + remain;\n",
    "            remain = total / 10;\n",
    "            res[index] = total % 10;\n",
    "        }\n",
    "        // foreach(var i in res) Console.Write($\"{i} \");\n",
    "        \n",
    "        int end = res.Length - 1;\n",
    "        while(end > 0 && res[end] == 0){\n",
    "            end--;\n",
    "        }\n",
    "        var ress = res.Take(end + 1).ToArray();\n",
    "        Array.Reverse(ress);\n",
    "        return string.Join(\"\", ress);\n",
    "    }\n",
    "}"
   ]
  },
  {
   "cell_type": "code",
   "execution_count": null,
   "metadata": {},
   "outputs": [],
   "source": []
  }
 ],
 "metadata": {
  "kernelspec": {
   "display_name": ".NET (C#)",
   "language": "C#",
   "name": ".net-csharp"
  },
  "language_info": {
   "file_extension": ".cs",
   "mimetype": "text/x-csharp",
   "name": "C#",
   "pygments_lexer": "csharp",
   "version": "8.0"
  },
  "toc": {
   "base_numbering": 1,
   "nav_menu": {},
   "number_sections": true,
   "sideBar": true,
   "skip_h1_title": false,
   "title_cell": "Table of Contents",
   "title_sidebar": "Contents",
   "toc_cell": false,
   "toc_position": {},
   "toc_section_display": true,
   "toc_window_display": false
  }
 },
 "nbformat": 4,
 "nbformat_minor": 4
}
