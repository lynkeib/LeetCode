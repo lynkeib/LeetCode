{
 "cells": [
  {
   "cell_type": "code",
   "execution_count": 1,
   "metadata": {
    "ExecuteTime": {
     "end_time": "2020-04-03T05:14:30.7540810Z",
     "start_time": "2020-04-03T05:14:27.674Z"
    }
   },
   "outputs": [],
   "source": [
    "public class Solution {\n",
    "    public int MySqrt(int x) {\n",
    "        if(x == 0){\n",
    "            return 0;\n",
    "        }\n",
    "        long left = 1, right = x / 2;\n",
    "        while(left < right){\n",
    "            long mid = left + (right - left) / 2 + 1;\n",
    "            if(mid * mid == x){\n",
    "                return (int)mid;\n",
    "            }\n",
    "            if(mid * mid < x){\n",
    "                left = mid;\n",
    "            }else{\n",
    "                right = mid - 1;\n",
    "            }\n",
    "        }\n",
    "        return (int)left;\n",
    "    }\n",
    "}"
   ]
  },
  {
   "cell_type": "code",
   "execution_count": null,
   "metadata": {},
   "outputs": [],
   "source": []
  }
 ],
 "metadata": {
  "kernelspec": {
   "display_name": ".NET (C#)",
   "language": "C#",
   "name": ".net-csharp"
  },
  "language_info": {
   "file_extension": ".cs",
   "mimetype": "text/x-csharp",
   "name": "C#",
   "pygments_lexer": "csharp",
   "version": "8.0"
  },
  "toc": {
   "base_numbering": 1,
   "nav_menu": {},
   "number_sections": true,
   "sideBar": true,
   "skip_h1_title": false,
   "title_cell": "Table of Contents",
   "title_sidebar": "Contents",
   "toc_cell": false,
   "toc_position": {},
   "toc_section_display": true,
   "toc_window_display": false
  }
 },
 "nbformat": 4,
 "nbformat_minor": 4
}
