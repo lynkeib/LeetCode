{
 "cells": [
  {
   "cell_type": "code",
   "execution_count": 1,
   "metadata": {},
   "outputs": [],
   "source": [
    "public class Solution {\n",
    "    public IList<IList<int>> FourSum(int[] nums, int target) {\n",
    "        var res = new List<IList<int>>();\n",
    "        if(nums.Length < 4){\n",
    "            return res;\n",
    "        }\n",
    "        Array.Sort(nums);\n",
    "        for(int index1 = 0; index1 < nums.Length - 3; index1++){\n",
    "            if((index1 != 0) && (nums[index1] == nums[index1 - 1])){\n",
    "                continue;\n",
    "            }\n",
    "            for(int index2 = index1 + 1; index2 < nums.Length - 2; index2++){\n",
    "                if((index2 != index1 + 1) && (nums[index2] == nums[index2 - 1])){\n",
    "                    continue;\n",
    "                }\n",
    "                var left = index2 + 1;\n",
    "                var right = nums.Length - 1;\n",
    "                while(left < right){\n",
    "                    var thissum = nums[index1] + nums[index2] + nums[left] + nums[right];\n",
    "                    if(thissum == target){\n",
    "                        res.Add(new List<int>{nums[index1], nums[index2], nums[left], nums[right]});\n",
    "                        while((left < right) && (nums[left] == nums[left + 1])) left++;\n",
    "                        while((left < right) && (nums[right] == nums[right - 1])) right --;\n",
    "                        left++;\n",
    "                        right--;\n",
    "                    }else if(thissum < target){\n",
    "                        left++;\n",
    "                    }else{\n",
    "                        right--;\n",
    "                    }\n",
    "                }\n",
    "            }\n",
    "        }\n",
    "        return res;\n",
    "    }\n",
    "}"
   ]
  },
  {
   "cell_type": "code",
   "execution_count": null,
   "metadata": {},
   "outputs": [],
   "source": []
  }
 ],
 "metadata": {
  "kernelspec": {
   "display_name": ".NET (C#)",
   "language": "C#",
   "name": ".net-csharp"
  },
  "language_info": {
   "file_extension": ".cs",
   "mimetype": "text/x-csharp",
   "name": "C#",
   "pygments_lexer": "csharp",
   "version": "8.0"
  },
  "toc": {
   "base_numbering": 1,
   "nav_menu": {},
   "number_sections": true,
   "sideBar": true,
   "skip_h1_title": false,
   "title_cell": "Table of Contents",
   "title_sidebar": "Contents",
   "toc_cell": false,
   "toc_position": {},
   "toc_section_display": true,
   "toc_window_display": false
  }
 },
 "nbformat": 4,
 "nbformat_minor": 4
}
