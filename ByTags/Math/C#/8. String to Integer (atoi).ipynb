{
 "cells": [
  {
   "cell_type": "code",
   "execution_count": 1,
   "metadata": {},
   "outputs": [],
   "source": [
    "public class Solution {\n",
    "    public int MyAtoi (string str) {\n",
    "        int index = 0;\n",
    "        while ((index < str.Length) && (str[index] == ' ')) {\n",
    "            index += 1;\n",
    "        }\n",
    "        if (index == str.Length) {\n",
    "            return 0;\n",
    "        }\n",
    "        bool is_negative = false;\n",
    "        if (str[index] == '-') {\n",
    "            is_negative = true;\n",
    "            index++;\n",
    "        } else if (str[index] == '+') {\n",
    "            index++;\n",
    "        } else if (Char.IsLetter (str[index])) {\n",
    "            return 0;\n",
    "        }\n",
    "        long res = 0;\n",
    "        while ((index < str.Length) && (Char.IsNumber (str[index]))) {\n",
    "            res = (res * 10) + (int) Char.GetNumericValue (str[index]);\n",
    "            if (is_negative && (-res < int.MinValue)) {\n",
    "                return int.MinValue;\n",
    "            } else if (!is_negative && (res > int.MaxValue)) {\n",
    "                return int.MaxValue;\n",
    "            }\n",
    "            index++;\n",
    "        }\n",
    "        return is_negative?(int) - res: (int) res;\n",
    "    }\n",
    "}"
   ]
  },
  {
   "cell_type": "code",
   "execution_count": null,
   "metadata": {},
   "outputs": [],
   "source": []
  }
 ],
 "metadata": {
  "kernelspec": {
   "display_name": ".NET (C#)",
   "language": "C#",
   "name": ".net-csharp"
  },
  "language_info": {
   "file_extension": ".cs",
   "mimetype": "text/x-csharp",
   "name": "C#",
   "pygments_lexer": "csharp",
   "version": "8.0"
  },
  "toc": {
   "base_numbering": 1,
   "nav_menu": {},
   "number_sections": true,
   "sideBar": true,
   "skip_h1_title": false,
   "title_cell": "Table of Contents",
   "title_sidebar": "Contents",
   "toc_cell": false,
   "toc_position": {},
   "toc_section_display": true,
   "toc_window_display": false
  }
 },
 "nbformat": 4,
 "nbformat_minor": 4
}
