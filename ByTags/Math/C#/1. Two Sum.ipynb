{
 "cells": [
  {
   "cell_type": "code",
   "execution_count": 1,
   "metadata": {},
   "outputs": [],
   "source": [
    "public class Solution {\n",
    "\n",
    "    private Dictionary<int, int> position;\n",
    "\n",
    "    public int[] TwoSum (int[] nums, int target) {\n",
    "        position = new Dictionary<int, int> ();\n",
    "        for (int i = 0; i < nums.Length; i++) {\n",
    "            if (position.ContainsKey (target - nums[i])) {\n",
    "                return new int[] { position[target - nums[i]], i };\n",
    "            }\n",
    "            position[nums[i]] = i;\n",
    "        }\n",
    "        return new int[2];\n",
    "    }\n",
    "}"
   ]
  },
  {
   "cell_type": "code",
   "execution_count": null,
   "metadata": {},
   "outputs": [],
   "source": []
  }
 ],
 "metadata": {
  "kernelspec": {
   "display_name": ".NET (C#)",
   "language": "C#",
   "name": ".net-csharp"
  },
  "language_info": {
   "file_extension": ".cs",
   "mimetype": "text/x-csharp",
   "name": "C#",
   "pygments_lexer": "csharp",
   "version": "8.0"
  },
  "toc": {
   "base_numbering": 1,
   "nav_menu": {},
   "number_sections": true,
   "sideBar": true,
   "skip_h1_title": false,
   "title_cell": "Table of Contents",
   "title_sidebar": "Contents",
   "toc_cell": false,
   "toc_position": {},
   "toc_section_display": true,
   "toc_window_display": false
  }
 },
 "nbformat": 4,
 "nbformat_minor": 4
}
