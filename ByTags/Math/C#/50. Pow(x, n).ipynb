{
 "cells": [
  {
   "cell_type": "code",
   "execution_count": 1,
   "metadata": {
    "ExecuteTime": {
     "end_time": "2020-03-29T22:36:13.3646960Z",
     "start_time": "2020-03-29T22:36:09.059Z"
    }
   },
   "outputs": [],
   "source": [
    "public class Solution {\n",
    "    public double MyPow(double x, int n) {\n",
    "        long nn = n;\n",
    "        if(nn < 0){\n",
    "            x = 1 / x;\n",
    "            nn = -nn;\n",
    "        }\n",
    "        var map = new Dictionary<long, double>{{1,x}, {0, 1}};\n",
    "        return dp(x, nn, map);\n",
    "    }\n",
    "\n",
    "    public double dp(double x, long n, Dictionary<long, double> map){\n",
    "        if(map.ContainsKey(n)){\n",
    "            return map[n];\n",
    "        }\n",
    "        map[n] = dp(x, n / 2, map) * dp(x, n - n / 2, map);\n",
    "        return map[n];\n",
    "    }\n",
    "}"
   ]
  },
  {
   "cell_type": "code",
   "execution_count": null,
   "metadata": {},
   "outputs": [],
   "source": []
  }
 ],
 "metadata": {
  "kernelspec": {
   "display_name": ".NET (C#)",
   "language": "C#",
   "name": ".net-csharp"
  },
  "language_info": {
   "file_extension": ".cs",
   "mimetype": "text/x-csharp",
   "name": "C#",
   "pygments_lexer": "csharp",
   "version": "8.0"
  },
  "toc": {
   "base_numbering": 1,
   "nav_menu": {},
   "number_sections": true,
   "sideBar": true,
   "skip_h1_title": false,
   "title_cell": "Table of Contents",
   "title_sidebar": "Contents",
   "toc_cell": false,
   "toc_position": {},
   "toc_section_display": true,
   "toc_window_display": false
  }
 },
 "nbformat": 4,
 "nbformat_minor": 4
}
