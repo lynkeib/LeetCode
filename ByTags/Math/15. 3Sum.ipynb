{
 "cells": [
  {
   "cell_type": "code",
   "execution_count": 3,
   "metadata": {
    "ExecuteTime": {
     "end_time": "2019-11-02T03:14:17.150965Z",
     "start_time": "2019-11-02T03:14:17.142107Z"
    }
   },
   "outputs": [],
   "source": [
    "class Solution(object):\n",
    "    def threeSum(self, nums):\n",
    "        \"\"\"\n",
    "        :type nums: List[int]\n",
    "        :rtype: List[List[int]]\n",
    "        \"\"\"\n",
    "        nums.sort()\n",
    "        res = []\n",
    "        print(nums)\n",
    "        for index, value in enumerate(nums):\n",
    "            if value > 0:\n",
    "                break\n",
    "            if index != 0 and nums[index] == nums[index - 1]:\n",
    "                continue\n",
    "            target = 0 - value\n",
    "            left, right = index + 1, len(nums) - 1\n",
    "            while left < right:\n",
    "                if nums[left] + nums[right] == target:\n",
    "                    res.append([value, nums[left], nums[right]])\n",
    "                    left += 1\n",
    "                    right -= 1\n",
    "                elif nums[left] + nums[right] < target:\n",
    "                    left += 1\n",
    "                else:\n",
    "                    right -= 1\n",
    "                while left < right and left != index + 1 and nums[left] == nums[left - 1]:\n",
    "                    left += 1\n",
    "                while left < right and right != len(nums) - 1 and nums[right] == nums[right + 1]:\n",
    "                    right -= 1\n",
    "        return res\n",
    "    \n",
    "\n"
   ]
  },
  {
   "cell_type": "code",
   "execution_count": null,
   "metadata": {},
   "outputs": [],
   "source": []
  }
 ],
 "metadata": {
  "kernelspec": {
   "display_name": "Python 3",
   "language": "python",
   "name": "python3"
  },
  "language_info": {
   "codemirror_mode": {
    "name": "ipython",
    "version": 3
   },
   "file_extension": ".py",
   "mimetype": "text/x-python",
   "name": "python",
   "nbconvert_exporter": "python",
   "pygments_lexer": "ipython3",
   "version": "3.7.1"
  },
  "toc": {
   "base_numbering": 1,
   "nav_menu": {},
   "number_sections": true,
   "sideBar": true,
   "skip_h1_title": false,
   "title_cell": "Table of Contents",
   "title_sidebar": "Contents",
   "toc_cell": false,
   "toc_position": {},
   "toc_section_display": true,
   "toc_window_display": false
  }
 },
 "nbformat": 4,
 "nbformat_minor": 2
}
