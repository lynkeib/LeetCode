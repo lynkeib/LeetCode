{
 "cells": [
  {
   "cell_type": "code",
   "execution_count": 1,
   "metadata": {
    "ExecuteTime": {
     "end_time": "2019-10-31T07:26:08.399278Z",
     "start_time": "2019-10-31T07:26:08.382516Z"
    }
   },
   "outputs": [],
   "source": [
    "class Solution(object):\n",
    "    def canMeasureWater(self, x, y, z):\n",
    "        \"\"\"\n",
    "        :type x: int\n",
    "        :type y: int\n",
    "        :type z: int\n",
    "        :rtype: bool\n",
    "        \"\"\"\n",
    "        all_path = {(0, 0):False}\n",
    "        seen = set((0, 0))\n",
    "        self.dfs((x, y), z, x, y, [], all_path)\n",
    "        print(all_path)\n",
    "        return all_path[(x, y)]\n",
    "        \n",
    "    \n",
    "    def dfs(self, status, target, x, y, path, all_path):\n",
    "        \n",
    "        print(status)\n",
    "        \n",
    "        if status in path:\n",
    "            return False\n",
    "        \n",
    "        # if status in all_path:\n",
    "        #     return all_path[status]\n",
    "        \n",
    "        if status == (0, 0):\n",
    "            return False\n",
    "        \n",
    "        if status[0] == target or status[1] == target:\n",
    "            \n",
    "            all_path[status] = True\n",
    "            return True\n",
    "        \n",
    "        res = False\n",
    "        ## can fill left?\n",
    "        if status[0] != 0:\n",
    "            res = res or self.dfs((0, status[1]), target, x, y, path + [status], all_path)\n",
    "\n",
    "        ## can transfer from right to left?\n",
    "        if status[1] != y and status[0] != 0: # right not empty and left has space\n",
    "            has = y - status[1] # right has\n",
    "            can_take = status[0] # left can take\n",
    "            if has > can_take: # if right has greater than left can take\n",
    "                res = res or self.dfs((0, status[1] + can_take), target, x, y, path + [status], all_path)\n",
    "            elif has == can_take: # if right has equals to left can take\n",
    "                res = res or self.dfs((0, y), target, x, y, path + [status], all_path)\n",
    "            else: # has < can_take # if right has smaller than left can take\n",
    "                res = res or self.dfs((status[0] - has, status[1] + has), target, x, y, path + [status], all_path)\n",
    "                \n",
    "        ## can fill right?\n",
    "        if status[1] != 0:\n",
    "            res = res or self.dfs((status[0], 0), target, x, y, path + [status], all_path)\n",
    "            \n",
    "        ## can transfer from left to right?\n",
    "        if status[0] != x and status[1] != 0: # left not empty and right has space\n",
    "            has = x - status[0] # left has\n",
    "            can_take = status[1] # right can take\n",
    "            if has > can_take: # if left has greater than right can take\n",
    "                res = res or self.dfs((status[0] + can_take, 0), target, x, y, path + [status], all_path)\n",
    "            elif has == can_take: # if left has equals to right can take\n",
    "                res = res or self.dfs((x, 0), target, x, y, path + [status], all_path)\n",
    "            else: # has < can_take # if left has smaller than right can take\n",
    "                res = res or self.dfs((status[0] + has, status[1] - has), target, x, y, path + [status], all_path)\n",
    "                \n",
    "        all_path[status] = res\n",
    "        \n",
    "        return res"
   ]
  },
  {
   "cell_type": "code",
   "execution_count": null,
   "metadata": {},
   "outputs": [],
   "source": []
  }
 ],
 "metadata": {
  "kernelspec": {
   "display_name": "Python 3",
   "language": "python",
   "name": "python3"
  },
  "language_info": {
   "codemirror_mode": {
    "name": "ipython",
    "version": 3
   },
   "file_extension": ".py",
   "mimetype": "text/x-python",
   "name": "python",
   "nbconvert_exporter": "python",
   "pygments_lexer": "ipython3",
   "version": "3.7.1"
  },
  "toc": {
   "base_numbering": 1,
   "nav_menu": {},
   "number_sections": true,
   "sideBar": true,
   "skip_h1_title": false,
   "title_cell": "Table of Contents",
   "title_sidebar": "Contents",
   "toc_cell": false,
   "toc_position": {},
   "toc_section_display": true,
   "toc_window_display": false
  }
 },
 "nbformat": 4,
 "nbformat_minor": 2
}
