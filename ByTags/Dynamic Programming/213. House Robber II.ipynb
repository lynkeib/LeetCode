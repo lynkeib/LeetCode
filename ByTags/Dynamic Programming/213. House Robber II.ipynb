{
 "cells": [
  {
   "cell_type": "code",
   "execution_count": 1,
   "metadata": {
    "ExecuteTime": {
     "end_time": "2019-11-18T06:54:57.922785Z",
     "start_time": "2019-11-18T06:54:57.915073Z"
    }
   },
   "outputs": [],
   "source": [
    "class Solution(object):\n",
    "    def rob(self, nums):\n",
    "        \"\"\"\n",
    "        :type nums: List[int]\n",
    "        :rtype: int\n",
    "        \"\"\"\n",
    "        if not nums:\n",
    "            return 0\n",
    "        if len(nums) == 1:\n",
    "            return nums[0]\n",
    "        rob_first = nums[:-1]\n",
    "        rob_nfirst = nums[1:]\n",
    "        # print(rob_first, rob_nfirst)\n",
    "        return max(self.dp(rob_first), self.dp(rob_nfirst))\n",
    "    \n",
    "    def dp(self, nums):\n",
    "        if not nums:\n",
    "            return 0\n",
    "        if len(nums) <= 2:\n",
    "            return max(nums)\n",
    "        for index in range(1, len(nums)):\n",
    "            if index == 1:\n",
    "                nums[index] = max(nums[index - 1], nums[index])\n",
    "            else:\n",
    "                nums[index] = max(nums[index-2] + nums[index], nums[index - 1])\n",
    "        return nums[-1]\n",
    "            "
   ]
  },
  {
   "cell_type": "code",
   "execution_count": null,
   "metadata": {},
   "outputs": [],
   "source": []
  }
 ],
 "metadata": {
  "kernelspec": {
   "display_name": "Python 3",
   "language": "python",
   "name": "python3"
  },
  "language_info": {
   "codemirror_mode": {
    "name": "ipython",
    "version": 3
   },
   "file_extension": ".py",
   "mimetype": "text/x-python",
   "name": "python",
   "nbconvert_exporter": "python",
   "pygments_lexer": "ipython3",
   "version": "3.7.1"
  },
  "toc": {
   "base_numbering": 1,
   "nav_menu": {},
   "number_sections": true,
   "sideBar": true,
   "skip_h1_title": false,
   "title_cell": "Table of Contents",
   "title_sidebar": "Contents",
   "toc_cell": false,
   "toc_position": {},
   "toc_section_display": true,
   "toc_window_display": false
  }
 },
 "nbformat": 4,
 "nbformat_minor": 2
}
