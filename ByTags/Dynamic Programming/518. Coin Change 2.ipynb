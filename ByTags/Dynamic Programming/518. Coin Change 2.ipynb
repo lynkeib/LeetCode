{
 "cells": [
  {
   "cell_type": "markdown",
   "metadata": {},
   "source": [
    "# DFS (TLE)"
   ]
  },
  {
   "cell_type": "code",
   "execution_count": 1,
   "metadata": {},
   "outputs": [],
   "source": [
    "class Solution(object):\n",
    "    def change(self, amount, coins):\n",
    "        \"\"\"\n",
    "        :type amount: int\n",
    "        :type coins: List[int]\n",
    "        :rtype: int\n",
    "        \"\"\"\n",
    "        res = [0]\n",
    "        if not coins and amount == 0:\n",
    "            return 1\n",
    "        if not coins:\n",
    "            return 0\n",
    "        coins = sorted(coins)\n",
    "        self.helper(amount, coins, res, 0)\n",
    "        return res[0]\n",
    "    \n",
    "    def helper(self, amount, coins, res, index):\n",
    "        if amount < 0 or index == len(coins):\n",
    "            return\n",
    "        if amount == 0:\n",
    "            res[0] += 1\n",
    "            return\n",
    "        for i in range(index, len(coins)):\n",
    "            if coins[i] > amount:\n",
    "                return \n",
    "            self.helper(amount - coins[i], coins, res, i)\n",
    "        return "
   ]
  },
  {
   "cell_type": "markdown",
   "metadata": {},
   "source": [
    "# DP"
   ]
  },
  {
   "cell_type": "code",
   "execution_count": 2,
   "metadata": {},
   "outputs": [],
   "source": [
    "class Solution(object):\n",
    "    def change(self, amount, coins):\n",
    "        \"\"\"\n",
    "        :type amount: int\n",
    "        :type coins: List[int]\n",
    "        :rtype: int\n",
    "        \"\"\"\n",
    "        dp = [0] * (amount + 1)\n",
    "        dp[0] = 1\n",
    "        for coin in coins:\n",
    "            for index in range(coin, amount+1):\n",
    "                dp[index] += dp[index - coin]\n",
    "        return dp[-1]"
   ]
  },
  {
   "cell_type": "code",
   "execution_count": null,
   "metadata": {},
   "outputs": [],
   "source": []
  }
 ],
 "metadata": {
  "kernelspec": {
   "display_name": "Python 3",
   "language": "python",
   "name": "python3"
  },
  "language_info": {
   "codemirror_mode": {
    "name": "ipython",
    "version": 3
   },
   "file_extension": ".py",
   "mimetype": "text/x-python",
   "name": "python",
   "nbconvert_exporter": "python",
   "pygments_lexer": "ipython3",
   "version": "3.7.4"
  },
  "toc": {
   "base_numbering": 1,
   "nav_menu": {},
   "number_sections": true,
   "sideBar": true,
   "skip_h1_title": false,
   "title_cell": "Table of Contents",
   "title_sidebar": "Contents",
   "toc_cell": false,
   "toc_position": {},
   "toc_section_display": true,
   "toc_window_display": false
  }
 },
 "nbformat": 4,
 "nbformat_minor": 2
}
