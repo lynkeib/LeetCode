{
 "cells": [
  {
   "cell_type": "markdown",
   "metadata": {},
   "source": [
    "# TLE"
   ]
  },
  {
   "cell_type": "code",
   "execution_count": 1,
   "metadata": {
    "ExecuteTime": {
     "end_time": "2019-11-19T03:45:57.020432Z",
     "start_time": "2019-11-19T03:45:57.013397Z"
    }
   },
   "outputs": [],
   "source": [
    "class Solution(object):\n",
    "    def numDecodings(self, s):\n",
    "        \"\"\"\n",
    "        :type s: str\n",
    "        :rtype: int\n",
    "        \"\"\"\n",
    "\n",
    "        res = [0]\n",
    "        self.dfs(s, 0, res)\n",
    "        return res[0]\n",
    "    \n",
    "    def dfs(self, s, start, res):\n",
    "        if s[start:start+1] == '0':\n",
    "            return\n",
    "        if start == len(s):\n",
    "            res[0] += 1\n",
    "            return\n",
    "        if s[start:start+1] != '0':\n",
    "            self.dfs(s, start+1, res)\n",
    "        if start + 2 <= len(s) and 0 < int(s[start:start+2]) <= 26:\n",
    "            self.dfs(s, start+2, res)\n",
    "        return\n",
    "                "
   ]
  },
  {
   "cell_type": "markdown",
   "metadata": {},
   "source": [
    "# DP"
   ]
  },
  {
   "cell_type": "code",
   "execution_count": 2,
   "metadata": {
    "ExecuteTime": {
     "end_time": "2019-11-19T04:03:34.846093Z",
     "start_time": "2019-11-19T04:03:34.837929Z"
    }
   },
   "outputs": [],
   "source": [
    "class Solution(object):\n",
    "    def numDecodings(self, s):\n",
    "        \"\"\"\n",
    "        :type s: str\n",
    "        :rtype: int\n",
    "        \"\"\"\n",
    "\n",
    "        res = [0]\n",
    "        dp = dict()\n",
    "        dp[len(s)] = 1\n",
    "        self.dfs(s, 0, res, dp)\n",
    "        return res[0]\n",
    "    \n",
    "    def dfs(self, s, start, res, dp):\n",
    "        if s[start:start+1] == '0':\n",
    "            dp[start] = 0\n",
    "            return 0\n",
    "        if start in dp:\n",
    "            res[0] += dp[start]\n",
    "            return dp[start]\n",
    "        total = 0\n",
    "        if s[start:start+1] != '0':\n",
    "            total += self.dfs(s, start+1, res, dp)\n",
    "        if start + 2 <= len(s) and 0 < int(s[start:start+2]) <= 26:\n",
    "            total += self.dfs(s, start+2, res, dp)\n",
    "        dp[start] = total\n",
    "        return total\n",
    "                "
   ]
  },
  {
   "cell_type": "code",
   "execution_count": null,
   "metadata": {},
   "outputs": [],
   "source": []
  }
 ],
 "metadata": {
  "kernelspec": {
   "display_name": "Python 3",
   "language": "python",
   "name": "python3"
  },
  "language_info": {
   "codemirror_mode": {
    "name": "ipython",
    "version": 3
   },
   "file_extension": ".py",
   "mimetype": "text/x-python",
   "name": "python",
   "nbconvert_exporter": "python",
   "pygments_lexer": "ipython3",
   "version": "3.7.1"
  },
  "toc": {
   "base_numbering": 1,
   "nav_menu": {},
   "number_sections": true,
   "sideBar": true,
   "skip_h1_title": false,
   "title_cell": "Table of Contents",
   "title_sidebar": "Contents",
   "toc_cell": false,
   "toc_position": {},
   "toc_section_display": true,
   "toc_window_display": false
  }
 },
 "nbformat": 4,
 "nbformat_minor": 2
}
