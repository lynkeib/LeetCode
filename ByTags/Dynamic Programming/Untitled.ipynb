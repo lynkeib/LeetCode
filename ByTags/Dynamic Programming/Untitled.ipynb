{
 "cells": [
  {
   "cell_type": "markdown",
   "metadata": {},
   "source": [
    "# MiniMax Algorithm"
   ]
  },
  {
   "cell_type": "code",
   "execution_count": 1,
   "metadata": {
    "ExecuteTime": {
     "end_time": "2019-11-17T04:28:52.882169Z",
     "start_time": "2019-11-17T04:28:52.873592Z"
    }
   },
   "outputs": [],
   "source": [
    "class Solution(object):\n",
    "    def getMoneyAmount(self, n):\n",
    "        \"\"\"\n",
    "        :type n: int\n",
    "        :rtype: int\n",
    "        \"\"\"\n",
    "        dp = [[0 for _ in range(n)] for _ in range(n)]\n",
    "        for end in range(n):\n",
    "            for start in range(end, -1, -1):\n",
    "                if start == end:\n",
    "                    dp[start][end] = 0\n",
    "                elif start + 1 == end:\n",
    "                    dp[start][end] = start + 1\n",
    "                else:\n",
    "                    this_min = float('inf')\n",
    "                    for this_num in range(start + 1, end):\n",
    "                        cost = this_num + 1 + max(dp[start][this_num - 1], dp[this_num + 1][end])\n",
    "                        this_min = min(this_min, cost)\n",
    "                    dp[start][end] = this_min\n",
    "        return dp[0][n - 1]"
   ]
  },
  {
   "cell_type": "code",
   "execution_count": null,
   "metadata": {},
   "outputs": [],
   "source": []
  }
 ],
 "metadata": {
  "kernelspec": {
   "display_name": "Python 3",
   "language": "python",
   "name": "python3"
  },
  "language_info": {
   "codemirror_mode": {
    "name": "ipython",
    "version": 3
   },
   "file_extension": ".py",
   "mimetype": "text/x-python",
   "name": "python",
   "nbconvert_exporter": "python",
   "pygments_lexer": "ipython3",
   "version": "3.7.1"
  },
  "toc": {
   "base_numbering": 1,
   "nav_menu": {},
   "number_sections": true,
   "sideBar": true,
   "skip_h1_title": false,
   "title_cell": "Table of Contents",
   "title_sidebar": "Contents",
   "toc_cell": false,
   "toc_position": {},
   "toc_section_display": true,
   "toc_window_display": false
  }
 },
 "nbformat": 4,
 "nbformat_minor": 2
}
