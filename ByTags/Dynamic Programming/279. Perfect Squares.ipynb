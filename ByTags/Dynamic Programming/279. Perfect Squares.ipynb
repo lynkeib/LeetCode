{
 "cells": [
  {
   "cell_type": "markdown",
   "metadata": {},
   "source": [
    "# TLE"
   ]
  },
  {
   "cell_type": "code",
   "execution_count": 1,
   "metadata": {
    "ExecuteTime": {
     "end_time": "2019-11-15T05:28:30.172969Z",
     "start_time": "2019-11-15T05:28:30.165538Z"
    }
   },
   "outputs": [],
   "source": [
    "class Solution(object):\n",
    "    def numSquares(self, n):\n",
    "        \"\"\"\n",
    "        :type n: int\n",
    "        :rtype: int\n",
    "        \"\"\"\n",
    "        all_squared_num = []\n",
    "        for num in range(1, n//2 + 2):\n",
    "            if num*num > n:\n",
    "                break\n",
    "            all_squared_num.append(num * num)\n",
    "        res = [float('inf')]\n",
    "        self.dfs(all_squared_num, n, 0, res)\n",
    "        return res[0]\n",
    "    \n",
    "    def dfs(self, nums, total, counter, res):\n",
    "        if total < 0:\n",
    "            return\n",
    "        if total == 0:\n",
    "            res[0] = min(res[0], counter)\n",
    "            return\n",
    "        for num in nums:\n",
    "            self.dfs(nums, total - num, counter + 1, res)\n",
    "        return "
   ]
  },
  {
   "cell_type": "code",
   "execution_count": null,
   "metadata": {},
   "outputs": [],
   "source": []
  }
 ],
 "metadata": {
  "kernelspec": {
   "display_name": "Python 3",
   "language": "python",
   "name": "python3"
  },
  "language_info": {
   "codemirror_mode": {
    "name": "ipython",
    "version": 3
   },
   "file_extension": ".py",
   "mimetype": "text/x-python",
   "name": "python",
   "nbconvert_exporter": "python",
   "pygments_lexer": "ipython3",
   "version": "3.7.1"
  },
  "toc": {
   "base_numbering": 1,
   "nav_menu": {},
   "number_sections": true,
   "sideBar": true,
   "skip_h1_title": false,
   "title_cell": "Table of Contents",
   "title_sidebar": "Contents",
   "toc_cell": false,
   "toc_position": {},
   "toc_section_display": true,
   "toc_window_display": false
  }
 },
 "nbformat": 4,
 "nbformat_minor": 2
}
