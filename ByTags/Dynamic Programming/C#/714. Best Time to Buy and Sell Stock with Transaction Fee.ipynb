{
 "cells": [
  {
   "cell_type": "code",
   "execution_count": 1,
   "metadata": {
    "ExecuteTime": {
     "end_time": "2020-04-03T23:24:15.9802000Z",
     "start_time": "2020-04-03T23:24:11.218Z"
    }
   },
   "outputs": [],
   "source": [
    "public class Solution {\n",
    "    public int MaxProfit(int[] prices, int fee) {\n",
    "        // base cases\n",
    "        var dp0_0 = 0;\n",
    "        var dp0_1 = int.MinValue;\n",
    "        // start\n",
    "        for (int i = 0; i < prices.Length; i++)\n",
    "        {\n",
    "            var temp = dp0_0;\n",
    "            dp0_0 = Math.Max(dp0_0, dp0_1 + prices[i]);\n",
    "            dp0_1 = Math.Max(dp0_1, temp - prices[i] - fee);\n",
    "        }\n",
    "        return dp0_0;\n",
    "    }\n",
    "}"
   ]
  },
  {
   "cell_type": "code",
   "execution_count": null,
   "metadata": {},
   "outputs": [],
   "source": []
  }
 ],
 "metadata": {
  "kernelspec": {
   "display_name": ".NET (C#)",
   "language": "C#",
   "name": ".net-csharp"
  },
  "language_info": {
   "file_extension": ".cs",
   "mimetype": "text/x-csharp",
   "name": "C#",
   "pygments_lexer": "csharp",
   "version": "8.0"
  },
  "toc": {
   "base_numbering": 1,
   "nav_menu": {},
   "number_sections": true,
   "sideBar": true,
   "skip_h1_title": false,
   "title_cell": "Table of Contents",
   "title_sidebar": "Contents",
   "toc_cell": false,
   "toc_position": {},
   "toc_section_display": true,
   "toc_window_display": false
  }
 },
 "nbformat": 4,
 "nbformat_minor": 4
}
