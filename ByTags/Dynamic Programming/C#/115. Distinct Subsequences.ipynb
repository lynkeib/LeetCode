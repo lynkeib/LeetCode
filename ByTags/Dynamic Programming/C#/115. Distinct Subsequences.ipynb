{
 "cells": [
  {
   "cell_type": "code",
   "execution_count": 1,
   "metadata": {
    "ExecuteTime": {
     "end_time": "2020-04-10T04:48:02.2652080Z",
     "start_time": "2020-04-10T04:48:01.311Z"
    }
   },
   "outputs": [],
   "source": [
    "public class Solution {\n",
    "    public int NumDistinct (string s, string t) {\n",
    "        var dp = new int[t.Length + 1, s.Length + 1];\n",
    "        for (int i = 0; i < s.Length + 1; i++) {\n",
    "            dp[0, i] = 1;\n",
    "        }\n",
    "        for (int j = 1; j < t.Length + 1; j++) {\n",
    "            dp[j, 0] = 0;\n",
    "        }\n",
    "        for (int i = 1; i < t.Length + 1; i++) {\n",
    "            for (int j = 1; j < s.Length + 1; j++) {\n",
    "                if (t[i - 1] == s[j - 1]) {\n",
    "                    dp[i, j] = dp[i - 1, j - 1] + dp[i, j - 1];\n",
    "                } else {\n",
    "                    dp[i, j] = dp[i, j - 1];\n",
    "                }\n",
    "            }\n",
    "        }\n",
    "        return dp[t.Length, s.Length];\n",
    "    }\n",
    "}"
   ]
  },
  {
   "cell_type": "code",
   "execution_count": null,
   "metadata": {},
   "outputs": [],
   "source": []
  }
 ],
 "metadata": {
  "kernelspec": {
   "display_name": ".NET (C#)",
   "language": "C#",
   "name": ".net-csharp"
  },
  "language_info": {
   "file_extension": ".cs",
   "mimetype": "text/x-csharp",
   "name": "C#",
   "pygments_lexer": "csharp",
   "version": "8.0"
  },
  "toc": {
   "base_numbering": 1,
   "nav_menu": {},
   "number_sections": true,
   "sideBar": true,
   "skip_h1_title": false,
   "title_cell": "Table of Contents",
   "title_sidebar": "Contents",
   "toc_cell": false,
   "toc_position": {},
   "toc_section_display": true,
   "toc_window_display": false
  }
 },
 "nbformat": 4,
 "nbformat_minor": 4
}
