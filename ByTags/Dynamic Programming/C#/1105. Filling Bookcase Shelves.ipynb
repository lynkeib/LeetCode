{
 "cells": [
  {
   "cell_type": "code",
   "execution_count": 2,
   "metadata": {
    "ExecuteTime": {
     "end_time": "2020-05-21T23:51:52.7011760Z",
     "start_time": "2020-05-21T23:51:52.644Z"
    }
   },
   "outputs": [],
   "source": [
    "public class Solution {\n",
    "    public int MinHeightShelves(int[][] books, int shelf_width) {\n",
    "        var n = books.Length;\n",
    "        var dp = new int[n + 1];\n",
    "        dp[0] = 0;\n",
    "        for(int i = 1; i < n + 1; i++){\n",
    "            var book = books[i - 1];\n",
    "            var width = book[0];\n",
    "            var height = book[1];\n",
    "            dp[i] = dp[i - 1] + height;\n",
    "            for(int j = i - 1; j > 0 && width + books[j - 1][0] <= shelf_width; j--){\n",
    "                height = Math.Max(height, books[j - 1][1]);\n",
    "                width += books[j - 1][0];\n",
    "                dp[i] = Math.Min(dp[i], dp[j - 1] + height);\n",
    "            }\n",
    "        }\n",
    "        return dp[n];\n",
    "    }\n",
    "}"
   ]
  },
  {
   "cell_type": "markdown",
   "metadata": {},
   "source": [
    "# Doesn't work"
   ]
  },
  {
   "cell_type": "code",
   "execution_count": 1,
   "metadata": {
    "ExecuteTime": {
     "end_time": "2020-05-21T23:43:44.7752550Z",
     "start_time": "2020-05-21T23:43:43.578Z"
    }
   },
   "outputs": [],
   "source": [
    "public class Solution {\n",
    "    public int MinHeightShelves(int[][] books, int shelf_width) {\n",
    "        var n = books.Length;\n",
    "        var dp = new int[n][][];\n",
    "        \n",
    "        for(int i = 0; i < n; i++){\n",
    "            dp[i] = new int[n][];\n",
    "            for(int j = 0; j < n; j++){\n",
    "                dp[i][j] = new int[2];\n",
    "                if(i == j){\n",
    "                    dp[i][j] = books[i];\n",
    "                }\n",
    "            }\n",
    "        }\n",
    "        \n",
    "        for(int len = 2; len <= n; len++){\n",
    "            for(int start = 0; start <= n - len; start++){\n",
    "                \n",
    "                \n",
    "                // from left\n",
    "                var end = start + len - 1;\n",
    "                var book = books[end];\n",
    "\n",
    "                var thisWidth = book[0];\n",
    "                var thisHeight = book[1];\n",
    "                \n",
    "                var leftWidth = dp[start][end - 1][0];\n",
    "                var leftHeight = dp[start][end - 1][1];\n",
    "                \n",
    "                var leftTotalWidth = leftWidth + thisWidth;\n",
    "                \n",
    "                if(leftTotalWidth <= shelf_width){\n",
    "                    leftHeight = Math.Max(leftHeight, thisHeight);\n",
    "                    leftWidth = leftTotalWidth;\n",
    "                }else{\n",
    "                    leftHeight = leftHeight + thisHeight;\n",
    "                    leftWidth = thisWidth;\n",
    "                }\n",
    "                // from bottom\n",
    "                book = books[start];\n",
    "\n",
    "                thisWidth = book[0];\n",
    "                thisHeight = book[1];\n",
    "                \n",
    "                var bottomWidth = dp[start + 1][end][0];\n",
    "                var bottomHeight = dp[start + 1][end][1];\n",
    "                \n",
    "                var bottomTotalWidth = bottomWidth + thisWidth;\n",
    "                if(bottomTotalWidth <= shelf_width){\n",
    "                    bottomHeight = Math.Max(bottomHeight, thisHeight);\n",
    "                    bottomWidth = bottomTotalWidth;\n",
    "                }else{\n",
    "                    bottomHeight = bottomHeight + thisHeight;\n",
    "                    bottomWidth = thisWidth;\n",
    "                }\n",
    "                \n",
    "                if(bottomHeight < leftHeight){\n",
    "                    dp[start][end][0] = bottomWidth;\n",
    "                    dp[start][end][1] = bottomHeight;\n",
    "                }else if(bottomHeight > leftHeight){\n",
    "                    dp[start][end][0] = leftWidth;\n",
    "                    dp[start][end][1] = leftHeight;\n",
    "                }else{\n",
    "                    if(leftWidth < bottomWidth){\n",
    "                        dp[start][end][0] = leftWidth;\n",
    "                        dp[start][end][1] = leftHeight;\n",
    "                    }else{\n",
    "                        dp[start][end][0] = bottomWidth;\n",
    "                        dp[start][end][1] = bottomHeight;\n",
    "                    }\n",
    "                }\n",
    "            }\n",
    "        }\n",
    "        \n",
    "        for(int row = 0; row < n; row++){\n",
    "            for(int col = 0; col < n; col++){\n",
    "                Console.Write($\"[{dp[row][col][0]}, {dp[row][col][1]}] \");\n",
    "            }\n",
    "            Console.WriteLine();\n",
    "        }\n",
    "        \n",
    "        return dp[0][n - 1][1];\n",
    "    }\n",
    "}"
   ]
  },
  {
   "cell_type": "code",
   "execution_count": null,
   "metadata": {},
   "outputs": [],
   "source": []
  }
 ],
 "metadata": {
  "kernelspec": {
   "display_name": ".NET (C#)",
   "language": "C#",
   "name": ".net-csharp"
  },
  "language_info": {
   "file_extension": ".cs",
   "mimetype": "text/x-csharp",
   "name": "C#",
   "pygments_lexer": "csharp",
   "version": "8.0"
  },
  "toc": {
   "base_numbering": 1,
   "nav_menu": {},
   "number_sections": true,
   "sideBar": true,
   "skip_h1_title": false,
   "title_cell": "Table of Contents",
   "title_sidebar": "Contents",
   "toc_cell": false,
   "toc_position": {},
   "toc_section_display": true,
   "toc_window_display": false
  }
 },
 "nbformat": 4,
 "nbformat_minor": 4
}
