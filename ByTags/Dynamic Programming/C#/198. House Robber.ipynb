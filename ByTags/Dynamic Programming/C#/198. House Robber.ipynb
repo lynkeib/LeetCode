{
 "cells": [
  {
   "cell_type": "markdown",
   "metadata": {},
   "source": [
    "# DP"
   ]
  },
  {
   "cell_type": "code",
   "execution_count": 1,
   "metadata": {
    "ExecuteTime": {
     "end_time": "2020-04-20T04:09:12.3272040Z",
     "start_time": "2020-04-20T04:09:11.192Z"
    }
   },
   "outputs": [],
   "source": [
    "public class Solution {\n",
    "    public int Rob(int[] nums) {\n",
    "        if(nums.Length == 0){\n",
    "            return 0;\n",
    "        }\n",
    "        if(nums.Length == 1){\n",
    "            return nums[0];\n",
    "        }\n",
    "        var dp_0 = 0;\n",
    "        var dp_1 = nums[0];\n",
    "        for(int i = 1; i < nums.Length; i++){\n",
    "            var temp = dp_1;\n",
    "            dp_1 = Math.Max(dp_0 + nums[i], dp_1);\n",
    "            dp_0 = temp;\n",
    "        }\n",
    "        return Math.Max(dp_0, dp_1);\n",
    "    }\n",
    "}"
   ]
  },
  {
   "cell_type": "code",
   "execution_count": null,
   "metadata": {},
   "outputs": [],
   "source": []
  }
 ],
 "metadata": {
  "kernelspec": {
   "display_name": ".NET (C#)",
   "language": "C#",
   "name": ".net-csharp"
  },
  "language_info": {
   "file_extension": ".cs",
   "mimetype": "text/x-csharp",
   "name": "C#",
   "pygments_lexer": "csharp",
   "version": "8.0"
  },
  "toc": {
   "base_numbering": 1,
   "nav_menu": {},
   "number_sections": true,
   "sideBar": true,
   "skip_h1_title": false,
   "title_cell": "Table of Contents",
   "title_sidebar": "Contents",
   "toc_cell": false,
   "toc_position": {},
   "toc_section_display": true,
   "toc_window_display": false
  }
 },
 "nbformat": 4,
 "nbformat_minor": 4
}
