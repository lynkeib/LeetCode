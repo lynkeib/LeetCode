{
 "cells": [
  {
   "cell_type": "markdown",
   "metadata": {},
   "source": [
    "# TLE"
   ]
  },
  {
   "cell_type": "code",
   "execution_count": 1,
   "metadata": {
    "ExecuteTime": {
     "end_time": "2020-03-28T21:49:10.9102110Z",
     "start_time": "2020-03-28T21:49:08.253Z"
    }
   },
   "outputs": [],
   "source": [
    "public class Solution {\n",
    "    public bool IsMatch (string s, string p) {\n",
    "        return dfs(s, p, 0, 0);\n",
    "    }\n",
    "    \n",
    "    public bool dfs (string s, string p, int indexs, int indexp) {\n",
    "        if(indexs >= s.Length){\n",
    "            while(indexp < p.Length && p[indexp] == '*'){\n",
    "                indexp++;\n",
    "            }\n",
    "        }\n",
    "        if (indexs == s.Length && indexp == p.Length) {\n",
    "            return true;\n",
    "        }\n",
    "        if (indexs >= s.Length || indexp >= p.Length) {\n",
    "            return false;\n",
    "        }\n",
    "        bool res = false;\n",
    "        if (p[indexp] == '?') {\n",
    "            res = dfs (s, p, indexs + 1, indexp + 1);\n",
    "        } else if (p[indexp] == '*') {\n",
    "            for (int indexloop = indexs; indexloop <= s.Length; indexloop++) {\n",
    "                if (dfs (s, p, indexloop, indexp + 1)) {\n",
    "                    res = true;\n",
    "                    break;\n",
    "                }\n",
    "            }\n",
    "        } else {\n",
    "            if (s[indexs] == p[indexp]) {\n",
    "                res = dfs(s, p, indexs + 1, indexp + 1);\n",
    "            } else {\n",
    "                res = false;\n",
    "            }\n",
    "        }\n",
    "        return res;\n",
    "    }\n",
    "}"
   ]
  },
  {
   "cell_type": "markdown",
   "metadata": {},
   "source": [
    "# 2D DP"
   ]
  },
  {
   "cell_type": "code",
   "execution_count": 2,
   "metadata": {
    "ExecuteTime": {
     "end_time": "2020-03-29T03:05:31.2219430Z",
     "start_time": "2020-03-29T03:05:31.105Z"
    }
   },
   "outputs": [],
   "source": [
    "public class Solution {\n",
    "    public bool IsMatch (string s, string p) {\n",
    "        if (s.Length == 0 && p.Length == 1 && p[0] == '*') {\n",
    "            return true;\n",
    "        }\n",
    "        if (s.Length == 0 && p.Length == 0) {\n",
    "            return true;\n",
    "        }\n",
    "        var dp = new bool[p.Length + 1, s.Length + 1];\n",
    "        // init\n",
    "        dp[0, 0] = true;\n",
    "        for (int i = 1; i < p.Length + 1; i++) {\n",
    "            if (p[i - 1] == '*') dp[i, 0] = dp[i - 1, 0];\n",
    "            else dp[i, 0] = false;\n",
    "        }\n",
    "        for (int indexs = 1; indexs < s.Length + 1; indexs++) {\n",
    "            for (int indexp = 1; indexp < p.Length + 1; indexp++) {\n",
    "                if (p[indexp - 1] == '*') {\n",
    "                    dp[indexp, indexs] = (dp[indexp - 1, indexs - 1] || dp[indexp - 1, indexs]) || dp[indexp, indexs - 1];\n",
    "                } else if (p[indexp - 1] == '?') {\n",
    "                    dp[indexp, indexs] = dp[indexp - 1, indexs - 1];\n",
    "                } else {\n",
    "                    dp[indexp, indexs] = dp[indexp - 1, indexs - 1] && (s[indexs - 1] == p[indexp - 1]);\n",
    "                }\n",
    "            }\n",
    "        }\n",
    "        // for (int indexp = 0; indexp < p.Length + 1; indexp++) {\n",
    "        //     for (int indexs = 0; indexs < s.Length + 1; indexs++) {\n",
    "        //         Console.Write ($\"{dp[indexp, indexs]} \");\n",
    "        //     }\n",
    "        //     Console.WriteLine ();\n",
    "        // }\n",
    "        return dp[p.Length, s.Length];\n",
    "    }\n",
    "}"
   ]
  },
  {
   "cell_type": "code",
   "execution_count": null,
   "metadata": {},
   "outputs": [],
   "source": []
  }
 ],
 "metadata": {
  "kernelspec": {
   "display_name": ".NET (C#)",
   "language": "C#",
   "name": ".net-csharp"
  },
  "language_info": {
   "file_extension": ".cs",
   "mimetype": "text/x-csharp",
   "name": "C#",
   "pygments_lexer": "csharp",
   "version": "8.0"
  },
  "toc": {
   "base_numbering": 1,
   "nav_menu": {},
   "number_sections": true,
   "sideBar": true,
   "skip_h1_title": false,
   "title_cell": "Table of Contents",
   "title_sidebar": "Contents",
   "toc_cell": false,
   "toc_position": {},
   "toc_section_display": true,
   "toc_window_display": false
  }
 },
 "nbformat": 4,
 "nbformat_minor": 4
}
