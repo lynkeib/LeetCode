{
 "cells": [
  {
   "cell_type": "code",
   "execution_count": 1,
   "metadata": {
    "ExecuteTime": {
     "end_time": "2020-04-18T22:06:34.6852300Z",
     "start_time": "2020-04-18T22:06:33.639Z"
    }
   },
   "outputs": [],
   "source": [
    "public class Solution {\n",
    "    public int CalculateMinimumHP (int[][] dungeon) {\n",
    "        int nrow = dungeon.Length, ncol = dungeon[0].Length;\n",
    "        dungeon[nrow - 1][ncol - 1] = Math.Min(dungeon[nrow - 1][ncol - 1] -1, -1);\n",
    "        \n",
    "        for (int row = nrow - 2; row > -1; row--) {\n",
    "            dungeon[row][ncol - 1] = Math.Min(dungeon[row + 1][ncol - 1] + dungeon[row][ncol - 1], -1);\n",
    "        }\n",
    "        for (int col = ncol - 2; col > -1; col--) {\n",
    "            dungeon[nrow - 1][col] = Math.Min(dungeon[nrow - 1][col + 1] + dungeon[nrow - 1][col], -1);\n",
    "        }\n",
    "        for (int row = nrow - 2; row > -1; row--) {\n",
    "            for (int col = ncol - 2; col > -1; col--) {\n",
    "                dungeon[row][col] = Math.Min(Math.Max(dungeon[row + 1][col], dungeon[row][col + 1]) + dungeon[row][col], -1);\n",
    "            }\n",
    "        }\n",
    "        return -dungeon[0][0];\n",
    "    }\n",
    "}"
   ]
  },
  {
   "cell_type": "code",
   "execution_count": null,
   "metadata": {},
   "outputs": [],
   "source": []
  }
 ],
 "metadata": {
  "kernelspec": {
   "display_name": ".NET (C#)",
   "language": "C#",
   "name": ".net-csharp"
  },
  "language_info": {
   "file_extension": ".cs",
   "mimetype": "text/x-csharp",
   "name": "C#",
   "pygments_lexer": "csharp",
   "version": "8.0"
  },
  "toc": {
   "base_numbering": 1,
   "nav_menu": {},
   "number_sections": true,
   "sideBar": true,
   "skip_h1_title": false,
   "title_cell": "Table of Contents",
   "title_sidebar": "Contents",
   "toc_cell": false,
   "toc_position": {},
   "toc_section_display": true,
   "toc_window_display": false
  }
 },
 "nbformat": 4,
 "nbformat_minor": 4
}
