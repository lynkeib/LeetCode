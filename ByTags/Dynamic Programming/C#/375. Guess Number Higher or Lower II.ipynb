{
 "cells": [
  {
   "cell_type": "code",
   "execution_count": 1,
   "metadata": {
    "ExecuteTime": {
     "end_time": "2020-05-10T23:28:45.9744010Z",
     "start_time": "2020-05-10T23:28:44.707Z"
    }
   },
   "outputs": [],
   "source": [
    "public class Solution {\n",
    "    public int GetMoneyAmount(int n) {\n",
    "        var dp = new int[n + 1, n + 1];\n",
    "        for(int len = 2; len <= n; len++){\n",
    "            for(int start = 1; start <= n - len + 1; start ++){\n",
    "                int end = start + len - 1;\n",
    "                int min = int.MaxValue;\n",
    "                for(int pivot = start; pivot < end; pivot++){\n",
    "                    int res = pivot + Math.Max(dp[start,pivot - 1], dp[pivot + 1,end]);\n",
    "                    min = Math.Min(min, res);\n",
    "                }\n",
    "                dp[start,end] = min;\n",
    "            }\n",
    "        }\n",
    "        return dp[1,n];\n",
    "    }\n",
    "}"
   ]
  },
  {
   "cell_type": "code",
   "execution_count": null,
   "metadata": {},
   "outputs": [],
   "source": []
  }
 ],
 "metadata": {
  "kernelspec": {
   "display_name": ".NET (C#)",
   "language": "C#",
   "name": ".net-csharp"
  },
  "language_info": {
   "file_extension": ".cs",
   "mimetype": "text/x-csharp",
   "name": "C#",
   "pygments_lexer": "csharp",
   "version": "8.0"
  },
  "toc": {
   "base_numbering": 1,
   "nav_menu": {},
   "number_sections": true,
   "sideBar": true,
   "skip_h1_title": false,
   "title_cell": "Table of Contents",
   "title_sidebar": "Contents",
   "toc_cell": false,
   "toc_position": {},
   "toc_section_display": true,
   "toc_window_display": false
  }
 },
 "nbformat": 4,
 "nbformat_minor": 4
}
