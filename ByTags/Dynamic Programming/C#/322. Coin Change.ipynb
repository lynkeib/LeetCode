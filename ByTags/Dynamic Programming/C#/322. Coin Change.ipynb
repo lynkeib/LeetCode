{
 "cells": [
  {
   "cell_type": "code",
   "execution_count": 1,
   "metadata": {
    "ExecuteTime": {
     "end_time": "2020-05-07T07:02:55.8781010Z",
     "start_time": "2020-05-07T07:02:53.864Z"
    }
   },
   "outputs": [],
   "source": [
    "public class Solution {\n",
    "    public int CoinChange(int[] coins, int amount) {\n",
    "        Array.Sort(coins);\n",
    "        var dp = new int[amount + 1];\n",
    "        for(int i = 1; i < dp.Length; i++){\n",
    "            dp[i] = int.MaxValue;\n",
    "        }\n",
    "        for(int i = 1; i < dp.Length; i++){\n",
    "            for(int c = 0; c < coins.Length; c++){\n",
    "                if(coins[c] > i){\n",
    "                    break;\n",
    "                }\n",
    "                if(dp[i - coins[c]] == int.MaxValue){\n",
    "                    continue;\n",
    "                }\n",
    "                dp[i] = Math.Min(dp[i], dp[i - coins[c]] + 1);\n",
    "            }\n",
    "        }\n",
    "        // foreach(var s in dp) Console.Write($\"{s} \");\n",
    "        return dp[amount] == int.MaxValue ? -1 : dp[amount];\n",
    "    }\n",
    "}"
   ]
  },
  {
   "cell_type": "code",
   "execution_count": null,
   "metadata": {},
   "outputs": [],
   "source": []
  }
 ],
 "metadata": {
  "kernelspec": {
   "display_name": ".NET (C#)",
   "language": "C#",
   "name": ".net-csharp"
  },
  "language_info": {
   "file_extension": ".cs",
   "mimetype": "text/x-csharp",
   "name": "C#",
   "pygments_lexer": "csharp",
   "version": "8.0"
  },
  "toc": {
   "base_numbering": 1,
   "nav_menu": {},
   "number_sections": true,
   "sideBar": true,
   "skip_h1_title": false,
   "title_cell": "Table of Contents",
   "title_sidebar": "Contents",
   "toc_cell": false,
   "toc_position": {},
   "toc_section_display": true,
   "toc_window_display": false
  }
 },
 "nbformat": 4,
 "nbformat_minor": 4
}
