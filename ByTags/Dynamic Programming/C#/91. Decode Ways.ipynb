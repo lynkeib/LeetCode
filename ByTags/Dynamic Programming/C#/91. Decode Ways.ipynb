{
 "cells": [
  {
   "cell_type": "code",
   "execution_count": 1,
   "metadata": {
    "ExecuteTime": {
     "end_time": "2020-04-07T05:24:47.8648540Z",
     "start_time": "2020-04-07T05:24:44.778Z"
    }
   },
   "outputs": [],
   "source": [
    "public class Solution {\n",
    "    public int NumDecodings(string s) {\n",
    "        var dp = new int[s.Length + 1];\n",
    "        dp[0] = 1;\n",
    "        dp[1] = s[0] == '0' ? 0:1;\n",
    "        for (int i = 2; i < s.Length + 1; i++)\n",
    "        {\n",
    "            if(s[i - 1] != '0'){\n",
    "                dp[i] += dp[i - 1];\n",
    "            }\n",
    "            if(s[i - 2] == '1'){\n",
    "                dp[i] += dp[i - 2];\n",
    "            } \n",
    "            if(s[i - 2] == '2' && s[i - 1] <= '6'){\n",
    "                dp[i] += dp[i - 2];\n",
    "            }\n",
    "        }\n",
    "        return dp[s.Length];\n",
    "    }\n",
    "}"
   ]
  },
  {
   "cell_type": "code",
   "execution_count": 2,
   "metadata": {
    "ExecuteTime": {
     "end_time": "2020-04-07T05:28:45.1757640Z",
     "start_time": "2020-04-07T05:28:45.122Z"
    }
   },
   "outputs": [],
   "source": [
    "public class Solution {\n",
    "    public int NumDecodings (string s) {\n",
    "        int dp_2 = 1;\n",
    "        int dp_1 = s[0] == '0' ? 0 : 1;\n",
    "        for (int i = 1; i < s.Length; i++) {\n",
    "            var dp = 0;\n",
    "            if (s[i] != '0') {\n",
    "                dp += dp_1;\n",
    "            }\n",
    "            if (s[i - 1] == '1') {\n",
    "                dp += dp_2;\n",
    "            } else if (s[i - 1] == '2' && s[i] <= '6') {\n",
    "                dp += dp_2;\n",
    "            }\n",
    "            dp_2 = dp_1;\n",
    "            dp_1 = dp;\n",
    "        }\n",
    "        return dp_1;\n",
    "    }\n",
    "}"
   ]
  },
  {
   "cell_type": "code",
   "execution_count": null,
   "metadata": {},
   "outputs": [],
   "source": []
  }
 ],
 "metadata": {
  "kernelspec": {
   "display_name": ".NET (C#)",
   "language": "C#",
   "name": ".net-csharp"
  },
  "language_info": {
   "file_extension": ".cs",
   "mimetype": "text/x-csharp",
   "name": "C#",
   "pygments_lexer": "csharp",
   "version": "8.0"
  },
  "toc": {
   "base_numbering": 1,
   "nav_menu": {},
   "number_sections": true,
   "sideBar": true,
   "skip_h1_title": false,
   "title_cell": "Table of Contents",
   "title_sidebar": "Contents",
   "toc_cell": false,
   "toc_position": {},
   "toc_section_display": true,
   "toc_window_display": false
  }
 },
 "nbformat": 4,
 "nbformat_minor": 4
}
