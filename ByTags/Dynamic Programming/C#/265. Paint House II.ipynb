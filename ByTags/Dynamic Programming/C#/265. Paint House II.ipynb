{
 "cells": [
  {
   "cell_type": "code",
   "execution_count": 1,
   "metadata": {
    "ExecuteTime": {
     "end_time": "2020-04-28T06:38:32.9158100Z",
     "start_time": "2020-04-28T06:38:31.947Z"
    }
   },
   "outputs": [],
   "source": [
    "public class Solution {\n",
    "    public int MinCostII(int[][] costs) {\n",
    "        var n = costs.Length;\n",
    "        if(n == 0){\n",
    "            return 0;\n",
    "        }\n",
    "        var k = costs[0].Length;\n",
    "        for (int room = 1; room < n; room++)\n",
    "        {\n",
    "            for (int color = 0; color < k; color++)\n",
    "            {\n",
    "                var min = int.MaxValue;\n",
    "                for (int c = 0; c < k; c++)\n",
    "                {\n",
    "                    if(color != c){\n",
    "                        min = Math.Min(min, costs[room - 1][c]);\n",
    "                    }\n",
    "                }\n",
    "                costs[room][color] = min + costs[room][color];\n",
    "            }\n",
    "        }\n",
    "        var res = int.MaxValue;\n",
    "        for (int color = 0; color < k; color++)\n",
    "        {\n",
    "            res = Math.Min(res, costs[n - 1][color]);\n",
    "        }\n",
    "        return res;\n",
    "    }\n",
    "}"
   ]
  },
  {
   "cell_type": "code",
   "execution_count": null,
   "metadata": {},
   "outputs": [],
   "source": []
  }
 ],
 "metadata": {
  "kernelspec": {
   "display_name": ".NET (C#)",
   "language": "C#",
   "name": ".net-csharp"
  },
  "language_info": {
   "file_extension": ".cs",
   "mimetype": "text/x-csharp",
   "name": "C#",
   "pygments_lexer": "csharp",
   "version": "8.0"
  },
  "toc": {
   "base_numbering": 1,
   "nav_menu": {},
   "number_sections": true,
   "sideBar": true,
   "skip_h1_title": false,
   "title_cell": "Table of Contents",
   "title_sidebar": "Contents",
   "toc_cell": false,
   "toc_position": {},
   "toc_section_display": true,
   "toc_window_display": false
  }
 },
 "nbformat": 4,
 "nbformat_minor": 4
}
