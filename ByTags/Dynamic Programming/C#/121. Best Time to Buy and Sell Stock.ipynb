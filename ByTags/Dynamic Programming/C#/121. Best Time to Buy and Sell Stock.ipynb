{
 "cells": [
  {
   "cell_type": "markdown",
   "metadata": {},
   "source": [
    "# Frame"
   ]
  },
  {
   "cell_type": "code",
   "execution_count": 1,
   "metadata": {
    "ExecuteTime": {
     "end_time": "2020-04-03T22:00:15.7732190Z",
     "start_time": "2020-04-03T22:00:14.373Z"
    }
   },
   "outputs": [],
   "source": [
    "public class Solution {\n",
    "    public int MaxProfit (int[] prices) {\n",
    "        // days, limits, have stock?\n",
    "        var dp = new int[prices.Length + 1, 2, 2];\n",
    "        // base case\n",
    "        for (int i = 0; i < prices.Length + 1; i++) {\n",
    "            dp[i, 0, 0] = 0;\n",
    "            dp[i, 0, 1] = int.MinValue;\n",
    "        }\n",
    "        for (int k = 1; k <= 1; k++) {\n",
    "            dp[0, k, 0] = 0;\n",
    "            dp[0, k, 1] = int.MinValue;\n",
    "        }\n",
    "        // start\n",
    "        for (int i = 0; i < prices.Length; i++) {\n",
    "            for (int k = 1; k > 0; k--) {\n",
    "                dp[i + 1, k, 0] = Math.Max (dp[i, k, 0], dp[i, k, 1] + prices[i]);\n",
    "                dp[i + 1, k, 1] = Math.Max (dp[i, k, 1], dp[i, k - 1, 0] - prices[i]);\n",
    "            }\n",
    "\n",
    "        }\n",
    "        return dp[prices.Length, 1, 0];\n",
    "    }\n",
    "}"
   ]
  },
  {
   "cell_type": "markdown",
   "metadata": {},
   "source": [
    "# Simplify (only can trade once)"
   ]
  },
  {
   "cell_type": "code",
   "execution_count": 2,
   "metadata": {
    "ExecuteTime": {
     "end_time": "2020-04-03T22:05:12.6621080Z",
     "start_time": "2020-04-03T22:05:12.601Z"
    }
   },
   "outputs": [],
   "source": [
    "public class Solution {\n",
    "    public int MaxProfit (int[] prices) {\n",
    "        // days, limits, have stock?\n",
    "        var dp = new int[prices.Length + 1, 2];\n",
    "        // base case\n",
    "        dp[0, 0] = 0;\n",
    "        dp[0, 1] = int.MinValue;\n",
    "        // start\n",
    "        for (int i = 0; i < prices.Length; i++) {\n",
    "            dp[i + 1, 0] = Math.Max(dp[i, 0], dp[i, 1] + prices[i]);\n",
    "            dp[i + 1, 1] = Math.Max(dp[i, 1], -prices[i]);\n",
    "        }\n",
    "        return dp[prices.Length, 0];\n",
    "    }\n",
    "}"
   ]
  },
  {
   "cell_type": "markdown",
   "metadata": {},
   "source": [
    "# More Simplify (only needs status for yesterday)"
   ]
  },
  {
   "cell_type": "code",
   "execution_count": 3,
   "metadata": {
    "ExecuteTime": {
     "end_time": "2020-04-03T22:07:20.8343230Z",
     "start_time": "2020-04-03T22:07:20.757Z"
    }
   },
   "outputs": [],
   "source": [
    "public class Solution {\n",
    "    public int MaxProfit (int[] prices) {\n",
    "        // base case\n",
    "        var dp0_0 = 0;\n",
    "        var dp0_1 = int.MinValue;\n",
    "        // start\n",
    "        for (int i = 0; i < prices.Length; i++) {\n",
    "            dp0_0 = Math.Max(dp0_0, dp0_1 + prices[i]);\n",
    "            dp0_1 = Math.Max(dp0_1, -prices[i]);\n",
    "        }\n",
    "        return dp0_0;\n",
    "    }\n",
    "}"
   ]
  },
  {
   "cell_type": "code",
   "execution_count": null,
   "metadata": {},
   "outputs": [],
   "source": []
  }
 ],
 "metadata": {
  "kernelspec": {
   "display_name": ".NET (C#)",
   "language": "C#",
   "name": ".net-csharp"
  },
  "language_info": {
   "file_extension": ".cs",
   "mimetype": "text/x-csharp",
   "name": "C#",
   "pygments_lexer": "csharp",
   "version": "8.0"
  },
  "toc": {
   "base_numbering": 1,
   "nav_menu": {},
   "number_sections": true,
   "sideBar": true,
   "skip_h1_title": false,
   "title_cell": "Table of Contents",
   "title_sidebar": "Contents",
   "toc_cell": false,
   "toc_position": {},
   "toc_section_display": true,
   "toc_window_display": false
  }
 },
 "nbformat": 4,
 "nbformat_minor": 4
}
