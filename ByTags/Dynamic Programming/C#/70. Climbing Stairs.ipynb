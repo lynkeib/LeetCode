{
 "cells": [
  {
   "cell_type": "code",
   "execution_count": 1,
   "metadata": {
    "ExecuteTime": {
     "end_time": "2020-04-03T05:19:12.0583120Z",
     "start_time": "2020-04-03T05:19:11.084Z"
    }
   },
   "outputs": [],
   "source": [
    "public class Solution {\n",
    "    public int ClimbStairs(int n) {\n",
    "        if(n == 0){\n",
    "            return 0;\n",
    "        }\n",
    "        if(n == 1){\n",
    "            return 1;\n",
    "        }\n",
    "        if(n == 2){\n",
    "            return 2;\n",
    "        }\n",
    "        var res = new int[n + 1];\n",
    "        res[0] = 0;\n",
    "        res[1] = 1;\n",
    "        res[2] = 2;\n",
    "        for (int i = 3; i < n + 1; i++)\n",
    "        {\n",
    "            res[i] = res[i - 1] + res[i - 2];\n",
    "        }\n",
    "        return res[n];\n",
    "    }\n",
    "}"
   ]
  },
  {
   "cell_type": "code",
   "execution_count": null,
   "metadata": {},
   "outputs": [],
   "source": []
  }
 ],
 "metadata": {
  "kernelspec": {
   "display_name": ".NET (C#)",
   "language": "C#",
   "name": ".net-csharp"
  },
  "language_info": {
   "file_extension": ".cs",
   "mimetype": "text/x-csharp",
   "name": "C#",
   "pygments_lexer": "csharp",
   "version": "8.0"
  },
  "toc": {
   "base_numbering": 1,
   "nav_menu": {},
   "number_sections": true,
   "sideBar": true,
   "skip_h1_title": false,
   "title_cell": "Table of Contents",
   "title_sidebar": "Contents",
   "toc_cell": false,
   "toc_position": {},
   "toc_section_display": true,
   "toc_window_display": false
  }
 },
 "nbformat": 4,
 "nbformat_minor": 4
}
