{
 "cells": [
  {
   "cell_type": "code",
   "execution_count": 1,
   "metadata": {
    "ExecuteTime": {
     "end_time": "2020-03-25T06:05:23.9650360Z",
     "start_time": "2020-03-25T06:05:19.394Z"
    }
   },
   "outputs": [],
   "source": [
    "public class Solution {\n",
    "    public bool PredictTheWinner(int[] nums) {\n",
    "        var dp = new Dictionary<string, int>();\n",
    "        return dfs(0, nums.Length - 1, nums, dp) >= 0;\n",
    "    }\n",
    "\n",
    "    public int dfs(int left, int right, int[] nums, Dictionary<string, int> dp){\n",
    "        if(left == right){\n",
    "            return nums[left];\n",
    "        }\n",
    "        string key = $\"{left}{right}\";\n",
    "        if(dp.ContainsKey(key)){\n",
    "            return dp[key];\n",
    "        }\n",
    "        int select_left = nums[left] - dfs(left + 1, right, nums, dp);\n",
    "        int select_right = nums[right] - dfs(left, right - 1, nums, dp);\n",
    "        dp[key] = Math.Max(select_left, select_right);\n",
    "        return dp[key];\n",
    "    }\n",
    "}"
   ]
  },
  {
   "cell_type": "code",
   "execution_count": null,
   "metadata": {},
   "outputs": [],
   "source": []
  }
 ],
 "metadata": {
  "kernelspec": {
   "display_name": ".NET (C#)",
   "language": "C#",
   "name": ".net-csharp"
  },
  "language_info": {
   "file_extension": ".cs",
   "mimetype": "text/x-csharp",
   "name": "C#",
   "pygments_lexer": "csharp",
   "version": "8.0"
  },
  "toc": {
   "base_numbering": 1,
   "nav_menu": {},
   "number_sections": true,
   "sideBar": true,
   "skip_h1_title": false,
   "title_cell": "Table of Contents",
   "title_sidebar": "Contents",
   "toc_cell": false,
   "toc_position": {},
   "toc_section_display": true,
   "toc_window_display": false
  }
 },
 "nbformat": 4,
 "nbformat_minor": 4
}
