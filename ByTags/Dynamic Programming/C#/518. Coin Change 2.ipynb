{
 "cells": [
  {
   "cell_type": "markdown",
   "metadata": {},
   "source": [
    "# DP"
   ]
  },
  {
   "cell_type": "code",
   "execution_count": 8,
   "metadata": {},
   "outputs": [],
   "source": [
    "public class Solution {\n",
    "    public int Change(int amount, int[] coins) {\n",
    "        int[] dp = new int[amount+1];\n",
    "        dp[0] = 1;\n",
    "        foreach(int coin in coins){\n",
    "            for(int i = coin; i < amount+1; i++){\n",
    "                dp[i] += dp[i - coin];\n",
    "            }\n",
    "        }\n",
    "        return dp[amount];\n",
    "    }\n",
    "}"
   ]
  },
  {
   "cell_type": "code",
   "execution_count": null,
   "metadata": {},
   "outputs": [],
   "source": []
  }
 ],
 "metadata": {
  "kernelspec": {
   "display_name": ".NET (C#)",
   "language": "C#",
   "name": ".net-csharp"
  },
  "language_info": {
   "file_extension": ".cs",
   "mimetype": "text/x-csharp",
   "name": "C#",
   "pygments_lexer": "csharp",
   "version": "8.0"
  }
 },
 "nbformat": 4,
 "nbformat_minor": 2
}
