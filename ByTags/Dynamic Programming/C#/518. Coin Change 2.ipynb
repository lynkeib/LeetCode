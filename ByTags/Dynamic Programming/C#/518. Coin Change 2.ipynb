{
 "cells": [
  {
   "cell_type": "markdown",
   "metadata": {},
   "source": [
    "# DP"
   ]
  },
  {
   "cell_type": "code",
   "execution_count": 1,
   "metadata": {},
   "outputs": [],
   "source": [
    "public class Solution {\n",
    "    public int Change(int amount, int[] coins) {\n",
    "        if(amount == 0 || coins.Length == 0){\n",
    "            return amount == 0? 1: 0;\n",
    "        }\n",
    "        int[] dp = new int[amount+1];\n",
    "        dp[0] = 1;\n",
    "        foreach(int coin in coins){\n",
    "            for(int i = coin; i < amount+1; i++){\n",
    "                dp[i] += dp[i - coin];\n",
    "            }\n",
    "        }\n",
    "        return dp[amount];\n",
    "    }\n",
    "}"
   ]
  },
  {
   "cell_type": "code",
   "execution_count": null,
   "metadata": {},
   "outputs": [],
   "source": []
  }
 ],
 "metadata": {
  "kernelspec": {
   "display_name": ".NET (C#)",
   "language": "C#",
   "name": ".net-csharp"
  },
  "language_info": {
   "file_extension": ".cs",
   "mimetype": "text/x-csharp",
   "name": "C#",
   "pygments_lexer": "csharp",
   "version": "8.0"
  },
  "toc": {
   "base_numbering": 1,
   "nav_menu": {},
   "number_sections": true,
   "sideBar": true,
   "skip_h1_title": false,
   "title_cell": "Table of Contents",
   "title_sidebar": "Contents",
   "toc_cell": false,
   "toc_position": {},
   "toc_section_display": true,
   "toc_window_display": false
  }
 },
 "nbformat": 4,
 "nbformat_minor": 2
}
