{
 "cells": [
  {
   "cell_type": "markdown",
   "metadata": {},
   "source": [
    "# BAck Tracking TLE"
   ]
  },
  {
   "cell_type": "code",
   "execution_count": 1,
   "metadata": {
    "ExecuteTime": {
     "end_time": "2020-05-21T22:16:00.8198430Z",
     "start_time": "2020-05-21T22:15:57.338Z"
    }
   },
   "outputs": [],
   "source": [
    "public class Solution {\n",
    "    \n",
    "    int res = 1;\n",
    "    \n",
    "    public int LongestPalindromeSubseq(string s) {\n",
    "        for(int start = 0; start < s.Length; start++){\n",
    "            bc(s, start, \"\");\n",
    "        }\n",
    "        return res;\n",
    "    }\n",
    "    \n",
    "    public void bc(string s, int start, string word){\n",
    "        for(int i = start; i > -1; i--){\n",
    "            var new_word = word + s[i];\n",
    "            if(isValid(new_word)){\n",
    "                res = Math.Max(res, new_word.Length);\n",
    "            }\n",
    "            bc(s, i - 1, new_word);\n",
    "        }\n",
    "        return;\n",
    "    }\n",
    "    \n",
    "    public bool isValid(string s){\n",
    "        int left = 0, right = s.Length - 1;\n",
    "        while(left < right){\n",
    "            if(s[left] != s[right]){\n",
    "                return false;\n",
    "            }\n",
    "            left++;\n",
    "            right--;\n",
    "        }\n",
    "        return true;\n",
    "    }\n",
    "}"
   ]
  },
  {
   "cell_type": "markdown",
   "metadata": {},
   "source": [
    "# DP"
   ]
  },
  {
   "cell_type": "code",
   "execution_count": 2,
   "metadata": {
    "ExecuteTime": {
     "end_time": "2020-05-21T22:39:50.3961200Z",
     "start_time": "2020-05-21T22:39:50.297Z"
    }
   },
   "outputs": [],
   "source": [
    "public class Solution {\n",
    "    public int LongestPalindromeSubseq(string s) {\n",
    "        var n = s.Length;\n",
    "        var dp = new int[n,n];\n",
    "        var res = 1;\n",
    "        for(int i = 0; i < s.Length; i++){\n",
    "            dp[i, i] = 1;\n",
    "        }\n",
    "        for(int len = 2; len <= s.Length; len++){\n",
    "            for(int start = 0; start <= s.Length - len; start++){\n",
    "                int end = start + len - 1;\n",
    "                if(s[start] == s[end]){\n",
    "                    dp[start, end] = dp[start + 1, end - 1] + 2;\n",
    "                }else{\n",
    "                    dp[start, end] = Math.Max(dp[start + 1, end], dp[start, end - 1]);\n",
    "                }\n",
    "                \n",
    "            }\n",
    "        }\n",
    "        return dp[0, s.Length - 1];\n",
    "    }\n",
    "}"
   ]
  },
  {
   "cell_type": "code",
   "execution_count": null,
   "metadata": {},
   "outputs": [],
   "source": []
  }
 ],
 "metadata": {
  "kernelspec": {
   "display_name": ".NET (C#)",
   "language": "C#",
   "name": ".net-csharp"
  },
  "language_info": {
   "file_extension": ".cs",
   "mimetype": "text/x-csharp",
   "name": "C#",
   "pygments_lexer": "csharp",
   "version": "8.0"
  },
  "toc": {
   "base_numbering": 1,
   "nav_menu": {},
   "number_sections": true,
   "sideBar": true,
   "skip_h1_title": false,
   "title_cell": "Table of Contents",
   "title_sidebar": "Contents",
   "toc_cell": false,
   "toc_position": {},
   "toc_section_display": true,
   "toc_window_display": false
  }
 },
 "nbformat": 4,
 "nbformat_minor": 4
}
