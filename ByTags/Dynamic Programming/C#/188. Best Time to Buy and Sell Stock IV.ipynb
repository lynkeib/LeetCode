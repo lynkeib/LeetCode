{
 "cells": [
  {
   "cell_type": "code",
   "execution_count": 1,
   "metadata": {
    "ExecuteTime": {
     "end_time": "2020-04-03T22:45:29.5530950Z",
     "start_time": "2020-04-03T22:45:25.019Z"
    }
   },
   "outputs": [],
   "source": [
    "public class Solution {\n",
    "    public int MaxProfit (int k, int[] prices) {\n",
    "        if(k > prices.Length / 2){\n",
    "            return MaxProfitinf(prices);\n",
    "        }\n",
    "        var dp = new int[prices.Length + 1, k + 1, 2];\n",
    "        // base case\n",
    "        for (int i = 0; i < prices.Length; i++) {\n",
    "            dp[i, 0, 0] = 0;\n",
    "            dp[i, 0, 1] = int.MinValue;\n",
    "        }\n",
    "        for (int n = 0; n < k + 1; n++) {\n",
    "            dp[0, n, 0] = 0;\n",
    "            dp[0, n, 1] = int.MinValue;\n",
    "        }\n",
    "        // start\n",
    "        for (int i = 0; i < prices.Length; i++) {\n",
    "            for (int n = 1; n < k + 1; n++) {\n",
    "                dp[i + 1, n, 0] = Math.Max (dp[i, n, 0], dp[i, n, 1] + prices[i]);\n",
    "                dp[i + 1, n, 1] = Math.Max (dp[i, n, 1], dp[i, n - 1, 0] - prices[i]);\n",
    "            }\n",
    "        }\n",
    "        var res = int.MinValue;\n",
    "        for (int n = 0; n < k + 1; n++) {\n",
    "            res = Math.Max (res, dp[prices.Length, n, 0]);\n",
    "        }\n",
    "        return res;\n",
    "    }\n",
    "\n",
    "    public int MaxProfitinf(int[] prices){\n",
    "        // base case\n",
    "        var dp0_0 = 0;\n",
    "        var dp0_1 = int.MinValue;\n",
    "        // start\n",
    "        for (int i = 0; i < prices.Length; i++)\n",
    "        {\n",
    "            var temp = dp0_0;\n",
    "            dp0_0 = Math.Max(dp0_0, dp0_1 + prices[i]);\n",
    "            dp0_1 = Math.Max(dp0_1, temp - prices[i]);\n",
    "        }\n",
    "        return dp0_0;\n",
    "    }\n",
    "}"
   ]
  },
  {
   "cell_type": "code",
   "execution_count": null,
   "metadata": {},
   "outputs": [],
   "source": []
  }
 ],
 "metadata": {
  "kernelspec": {
   "display_name": ".NET (C#)",
   "language": "C#",
   "name": ".net-csharp"
  },
  "language_info": {
   "file_extension": ".cs",
   "mimetype": "text/x-csharp",
   "name": "C#",
   "pygments_lexer": "csharp",
   "version": "8.0"
  },
  "toc": {
   "base_numbering": 1,
   "nav_menu": {},
   "number_sections": true,
   "sideBar": true,
   "skip_h1_title": false,
   "title_cell": "Table of Contents",
   "title_sidebar": "Contents",
   "toc_cell": false,
   "toc_position": {},
   "toc_section_display": true,
   "toc_window_display": false
  }
 },
 "nbformat": 4,
 "nbformat_minor": 4
}
