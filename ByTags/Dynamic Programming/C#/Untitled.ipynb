{
 "cells": [
  {
   "cell_type": "markdown",
   "metadata": {},
   "source": [
    "# TLE"
   ]
  },
  {
   "cell_type": "code",
   "execution_count": 1,
   "metadata": {
    "ExecuteTime": {
     "end_time": "2020-04-04T00:09:31.1103230Z",
     "start_time": "2020-04-04T00:09:29.986Z"
    }
   },
   "outputs": [],
   "source": [
    "public class Solution {\n",
    "    public int MinDistance (string word1, string word2) {\n",
    "        var res = new int[] { int.MaxValue };\n",
    "        dfs (word1, word2, 0, 0, ref res);\n",
    "        return res[0];\n",
    "    }\n",
    "\n",
    "    public void dfs (string word1, string word2, int index, int counter, ref int[] res) {\n",
    "        if (counter > res[0]) {\n",
    "            return;\n",
    "        }\n",
    "        if (word1 == word2) {\n",
    "            res[0] = Math.Min (res[0], counter);\n",
    "            return;\n",
    "        }\n",
    "        // insert\n",
    "        if (word1.Length < word2.Length) {\n",
    "            for (int i = index; i < word1.Length; i++) {\n",
    "                for (int l = 0; l < 26; l++) {\n",
    "                    var newword = word1.Insert (i, ((char) (l + 'a')).ToString ());\n",
    "                    dfs (newword, word2, index + 1, counter + 1, ref res);\n",
    "                }\n",
    "            }\n",
    "        }\n",
    "        // delete\n",
    "        if (word1.Length > word2.Length) {\n",
    "            for (int i = index; i < word1.Length; i++) {\n",
    "                for (int l = 0; l < 26; l++) {\n",
    "                    var newword = word1.Remove (i, 1);\n",
    "                    dfs (newword, word2, index, counter + 1, ref res);\n",
    "                }\n",
    "            }\n",
    "        }\n",
    "        // replace\n",
    "        if (word1.Length == word2.Length) {\n",
    "            for (int i = index; i < word1.Length; i++) {\n",
    "                for (int l = 0; l < 26; l++) {\n",
    "                    if(l + 'a' == word1[i]){\n",
    "                        continue;\n",
    "                    }\n",
    "                    var newword = word1.Remove (i, 1).Insert (i, ((char) (l + 'a')).ToString ());\n",
    "                    dfs (newword, word2, index + 1, counter + 1, ref res);\n",
    "                }\n",
    "            }\n",
    "        }\n",
    "        return;\n",
    "    }\n",
    "}"
   ]
  },
  {
   "cell_type": "markdown",
   "metadata": {},
   "source": [
    "# DP"
   ]
  },
  {
   "cell_type": "code",
   "execution_count": 2,
   "metadata": {
    "ExecuteTime": {
     "end_time": "2020-04-04T03:02:21.6958610Z",
     "start_time": "2020-04-04T03:02:21.609Z"
    }
   },
   "outputs": [],
   "source": [
    "public class Solution {\n",
    "    public int MinDistance (string word1, string word2) {\n",
    "        var dp = new int[word1.Length + 1, word2.Length + 1];\n",
    "        for (int i = 0; i < word1.Length + 1; i++) {\n",
    "            dp[i, 0] = i;\n",
    "        }\n",
    "        for (int i = 0; i < word2.Length + 1; i++) {\n",
    "            dp[0, i] = i;\n",
    "        }\n",
    "        for (int i = 0; i < word1.Length; i++) {\n",
    "            for (int j = 0; j < word2.Length; j++) {\n",
    "\n",
    "                if (word1[i] != word2[j]) {\n",
    "                    dp[i + 1, j + 1] = 1 + Math.Min (dp[i + 1, j], Math.Min (dp[i, j + 1], dp[i, j]));\n",
    "                } else {\n",
    "                    dp[i + 1, j + 1] = dp[i, j];\n",
    "                }\n",
    "            }\n",
    "        }\n",
    "        // for (int i = 0; i < word1.Length + 1; i++) {\n",
    "        //     for (int j = 0; j < word2.Length + 1; j++) {\n",
    "        //         Console.Write ($\"{dp[i, j]} \");\n",
    "        //     }\n",
    "        //     Console.WriteLine ();\n",
    "        // }\n",
    "        return dp[word1.Length, word2.Length];\n",
    "    }\n",
    "}"
   ]
  },
  {
   "cell_type": "code",
   "execution_count": null,
   "metadata": {},
   "outputs": [],
   "source": []
  }
 ],
 "metadata": {
  "kernelspec": {
   "display_name": ".NET (C#)",
   "language": "C#",
   "name": ".net-csharp"
  },
  "language_info": {
   "file_extension": ".cs",
   "mimetype": "text/x-csharp",
   "name": "C#",
   "pygments_lexer": "csharp",
   "version": "8.0"
  },
  "toc": {
   "base_numbering": 1,
   "nav_menu": {},
   "number_sections": true,
   "sideBar": true,
   "skip_h1_title": false,
   "title_cell": "Table of Contents",
   "title_sidebar": "Contents",
   "toc_cell": false,
   "toc_position": {},
   "toc_section_display": true,
   "toc_window_display": false
  }
 },
 "nbformat": 4,
 "nbformat_minor": 4
}
