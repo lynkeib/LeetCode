{
 "cells": [
  {
   "cell_type": "markdown",
   "metadata": {},
   "source": [
    "# TLE"
   ]
  },
  {
   "cell_type": "code",
   "execution_count": 1,
   "metadata": {},
   "outputs": [],
   "source": [
    "public class Solution {\n",
    "    public bool WordBreak (string s, IList<string> wordDict) {\n",
    "        Dictionary<int, bool> dp = new Dictionary<int, bool> ();\n",
    "        HashSet<string> worddict = new HashSet<string> (wordDict);\n",
    "        dfs (0, s, worddict, dp);\n",
    "        return dp[0];\n",
    "    }\n",
    "    public bool dfs (int index, string s, HashSet<string> wordDict, Dictionary<int, bool> dp) {\n",
    "        if (s.Length == index) {\n",
    "            return true;\n",
    "        }\n",
    "        if (dp.ContainsKey (index)) {\n",
    "            return dp[index];\n",
    "        }\n",
    "        for (int i = index; index < s.Length; index++) {\n",
    "            for (int j = i; j < s.Length; j++) {\n",
    "                string thisword = s.Substring (i, j - i + 1);\n",
    "                if (wordDict.Contains (thisword)) {\n",
    "                    if (dfs (j + 1, s, wordDict, dp)) {\n",
    "                        dp[index] = true;\n",
    "                        return true;\n",
    "                    }\n",
    "                }\n",
    "            }\n",
    "            dp[i] = false;\n",
    "        }\n",
    "        return false;\n",
    "\n",
    "    }\n",
    "}"
   ]
  },
  {
   "cell_type": "markdown",
   "metadata": {},
   "source": [
    "# Faster"
   ]
  },
  {
   "cell_type": "code",
   "execution_count": 2,
   "metadata": {},
   "outputs": [],
   "source": [
    "public class Solution {\n",
    "    public bool WordBreak(string s, IList<string> wordDict) {\n",
    "        HashSet<string> worddict = new HashSet<string>(wordDict);\n",
    "        bool[] dp = new bool[s.Length + 1];\n",
    "        dp[0] = true;\n",
    "        for(int i = 1; i < dp.Length; i++){\n",
    "            for(int j = 0; j < i; j++){\n",
    "                string thisword = s.Substring(j, i - j);\n",
    "                if((dp[j] == true) && worddict.Contains(thisword)){\n",
    "                    dp[i] = true;\n",
    "                    break;\n",
    "                }\n",
    "            }\n",
    "        }\n",
    "        return dp[dp.Length - 1];\n",
    "    }\n",
    "}"
   ]
  },
  {
   "cell_type": "code",
   "execution_count": null,
   "metadata": {},
   "outputs": [],
   "source": []
  }
 ],
 "metadata": {
  "kernelspec": {
   "display_name": ".NET (C#)",
   "language": "C#",
   "name": ".net-csharp"
  },
  "language_info": {
   "file_extension": ".cs",
   "mimetype": "text/x-csharp",
   "name": "C#",
   "pygments_lexer": "csharp",
   "version": "8.0"
  },
  "toc": {
   "base_numbering": 1,
   "nav_menu": {},
   "number_sections": true,
   "sideBar": true,
   "skip_h1_title": false,
   "title_cell": "Table of Contents",
   "title_sidebar": "Contents",
   "toc_cell": false,
   "toc_position": {},
   "toc_section_display": true,
   "toc_window_display": false
  }
 },
 "nbformat": 4,
 "nbformat_minor": 4
}
