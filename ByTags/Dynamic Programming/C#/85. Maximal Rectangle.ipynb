{
 "cells": [
  {
   "cell_type": "code",
   "execution_count": null,
   "metadata": {
    "ExecuteTime": {
     "start_time": "2020-04-07T03:30:47.667Z"
    }
   },
   "outputs": [],
   "source": [
    "public class Solution {\n",
    "    public int MaximalRectangle (char[][] matrix) {\n",
    "        int n = matrix.Length;\n",
    "        if (n == 0) return 0;\n",
    "        int m = matrix[0].Length;\n",
    "\n",
    "        var left = new int[m];\n",
    "        var right = new int[m];\n",
    "        var height = new int[m];\n",
    "        for (int i = 0; i < m; i++) {\n",
    "            right[i] = m - 1;\n",
    "        }\n",
    "\n",
    "        int res = 0;\n",
    "\n",
    "        for (int row = 0; row < n; row++) {\n",
    "            int curr_left = 0;\n",
    "            int curr_right = m - 1;\n",
    "            // update height\n",
    "            for (int col = 0; col < m; col++) {\n",
    "                if (matrix[row][col] == '1') {\n",
    "                    height[col]++;\n",
    "                } else {\n",
    "                    height[col] = 0;\n",
    "                }\n",
    "            }\n",
    "            // update left\n",
    "            for (int col = 0; col < m; col++) {\n",
    "                if (matrix[row][col] == '1') {\n",
    "                    left[col] = Math.Max (left[col], curr_left);\n",
    "                } else {\n",
    "                    left[col] = 0;\n",
    "                    curr_left = col + 1;\n",
    "                }\n",
    "            }\n",
    "            // update right\n",
    "            for (int col = m - 1; col > -1; col--) {\n",
    "                if (matrix[row][col] == '1') {\n",
    "                    right[col] = Math.Min (right[col], curr_right);\n",
    "                } else {\n",
    "                    right[col] = m - 1;\n",
    "                    curr_right = col - 1;\n",
    "                }\n",
    "            }\n",
    "\n",
    "            // update area\n",
    "            for (int col = 0; col < m; col++) {\n",
    "                res = Math.Max (res, height[col] * (right[col] - left[col] + 1));\n",
    "            }\n",
    "        }\n",
    "        return res;\n",
    "    }\n",
    "}"
   ]
  },
  {
   "cell_type": "code",
   "execution_count": null,
   "metadata": {},
   "outputs": [],
   "source": []
  }
 ],
 "metadata": {
  "kernelspec": {
   "display_name": ".NET (C#)",
   "language": "C#",
   "name": ".net-csharp"
  },
  "language_info": {
   "file_extension": ".cs",
   "mimetype": "text/x-csharp",
   "name": "C#",
   "pygments_lexer": "csharp",
   "version": "8.0"
  },
  "toc": {
   "base_numbering": 1,
   "nav_menu": {},
   "number_sections": true,
   "sideBar": true,
   "skip_h1_title": false,
   "title_cell": "Table of Contents",
   "title_sidebar": "Contents",
   "toc_cell": false,
   "toc_position": {},
   "toc_section_display": true,
   "toc_window_display": false
  }
 },
 "nbformat": 4,
 "nbformat_minor": 4
}
