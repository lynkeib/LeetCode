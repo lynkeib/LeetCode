{
 "cells": [
  {
   "cell_type": "code",
   "execution_count": 1,
   "metadata": {
    "ExecuteTime": {
     "end_time": "2020-05-11T04:30:37.0941080Z",
     "start_time": "2020-05-11T04:30:36.050Z"
    }
   },
   "outputs": [],
   "source": [
    "public class Solution {\n",
    "    public int CombinationSum4(int[] nums, int target) {\n",
    "        var dp = new int[target + 1];\n",
    "        Array.Sort(nums);\n",
    "        dp[0] = 1;\n",
    "        for(int i = 1; i <= target; i++){\n",
    "            foreach(var num in nums){\n",
    "                if(num > i){\n",
    "                    break;\n",
    "                }\n",
    "                if(num == i){\n",
    "                    dp[i]++;\n",
    "                    break;\n",
    "                }else{\n",
    "                    dp[i] += dp[i - num];\n",
    "                }\n",
    "            }\n",
    "        }\n",
    "        return dp[target];\n",
    "    }\n",
    "}"
   ]
  },
  {
   "cell_type": "code",
   "execution_count": null,
   "metadata": {},
   "outputs": [],
   "source": []
  }
 ],
 "metadata": {
  "kernelspec": {
   "display_name": ".NET (C#)",
   "language": "C#",
   "name": ".net-csharp"
  },
  "language_info": {
   "file_extension": ".cs",
   "mimetype": "text/x-csharp",
   "name": "C#",
   "pygments_lexer": "csharp",
   "version": "8.0"
  },
  "toc": {
   "base_numbering": 1,
   "nav_menu": {},
   "number_sections": true,
   "sideBar": true,
   "skip_h1_title": false,
   "title_cell": "Table of Contents",
   "title_sidebar": "Contents",
   "toc_cell": false,
   "toc_position": {},
   "toc_section_display": true,
   "toc_window_display": false
  }
 },
 "nbformat": 4,
 "nbformat_minor": 4
}
