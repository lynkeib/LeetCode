{
 "cells": [
  {
   "cell_type": "code",
   "execution_count": 1,
   "metadata": {
    "ExecuteTime": {
     "end_time": "2020-04-03T23:17:30.7315360Z",
     "start_time": "2020-04-03T23:17:29.180Z"
    }
   },
   "outputs": [],
   "source": [
    "public class Solution {\n",
    "    public int MaxProfit (int[] prices) {\n",
    "        var dp = new int[prices.Length + 2, 2];\n",
    "        // base cases\n",
    "        dp[0, 0] = 0;\n",
    "        dp[0, 1] = int.MinValue;\n",
    "        dp[1, 0] = 0;\n",
    "        dp[1, 1] = int.MinValue;\n",
    "        // start\n",
    "        for (int i = 1; i < prices.Length + 1; i++) {\n",
    "            dp[i + 1, 0] = Math.Max (dp[i, 0], dp[i, 1] + prices[i - 1]);\n",
    "            dp[i + 1, 1] = Math.Max (dp[i, 1], dp[i - 1, 0] - prices[i - 1]);\n",
    "        }\n",
    "        return dp[prices.Length + 1, 0];\n",
    "    }\n",
    "}"
   ]
  },
  {
   "cell_type": "markdown",
   "metadata": {},
   "source": [
    "# Less space"
   ]
  },
  {
   "cell_type": "code",
   "execution_count": 2,
   "metadata": {
    "ExecuteTime": {
     "end_time": "2020-04-03T23:21:07.2591580Z",
     "start_time": "2020-04-03T23:21:07.204Z"
    }
   },
   "outputs": [],
   "source": [
    "public class Solution {\n",
    "    public int MaxProfit (int[] prices) {\n",
    "        \n",
    "        // base cases\n",
    "        var dp0_0 = 0;\n",
    "        var dp0_1 = int.MinValue;\n",
    "        var dp_1_0 = 0;\n",
    "        // start\n",
    "        for (int i = 0; i < prices.Length; i++) {\n",
    "            var temp = dp0_0;\n",
    "            dp0_0 = Math.Max(dp0_0, dp0_1 + prices[i]);\n",
    "            dp0_1 = Math.Max(dp0_1, dp_1_0 - prices[i]);\n",
    "            dp_1_0 = temp;\n",
    "        }\n",
    "        return dp0_0;\n",
    "    }\n",
    "}"
   ]
  },
  {
   "cell_type": "code",
   "execution_count": null,
   "metadata": {},
   "outputs": [],
   "source": []
  }
 ],
 "metadata": {
  "kernelspec": {
   "display_name": ".NET (C#)",
   "language": "C#",
   "name": ".net-csharp"
  },
  "language_info": {
   "file_extension": ".cs",
   "mimetype": "text/x-csharp",
   "name": "C#",
   "pygments_lexer": "csharp",
   "version": "8.0"
  },
  "toc": {
   "base_numbering": 1,
   "nav_menu": {},
   "number_sections": true,
   "sideBar": true,
   "skip_h1_title": false,
   "title_cell": "Table of Contents",
   "title_sidebar": "Contents",
   "toc_cell": false,
   "toc_position": {},
   "toc_section_display": true,
   "toc_window_display": false
  }
 },
 "nbformat": 4,
 "nbformat_minor": 4
}
