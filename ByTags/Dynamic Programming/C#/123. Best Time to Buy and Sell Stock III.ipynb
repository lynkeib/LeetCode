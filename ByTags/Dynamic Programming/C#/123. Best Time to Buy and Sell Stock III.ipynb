{
 "cells": [
  {
   "cell_type": "code",
   "execution_count": 1,
   "metadata": {
    "ExecuteTime": {
     "end_time": "2020-04-03T22:32:43.0559500Z",
     "start_time": "2020-04-03T22:32:41.552Z"
    }
   },
   "outputs": [],
   "source": [
    "public class Solution {\n",
    "    public int MaxProfit (int[] prices) {\n",
    "        var dp = new int[prices.Length + 1, 3, 2];\n",
    "        // base case\n",
    "        for (int i = 0; i < prices.Length; i++) {\n",
    "            dp[i, 0, 0] = 0;\n",
    "            dp[i, 0, 1] = int.MinValue;\n",
    "        }\n",
    "        for (int k = 0; k < 3; k++) {\n",
    "            dp[0, k, 0] = 0;\n",
    "            dp[0, k, 1] = int.MinValue;\n",
    "        }\n",
    "        // start\n",
    "        for (int i = 0; i < prices.Length; i++) {\n",
    "            for (int k = 1; k < 3; k++) {\n",
    "                dp[i + 1, k, 0] = Math.Max (dp[i, k, 0], dp[i, k, 1] + prices[i]);\n",
    "                dp[i + 1, k, 1] = Math.Max (dp[i, k, 1], dp[i, k - 1, 0] - prices[i]);\n",
    "            }\n",
    "        }\n",
    "        var res = int.MinValue;\n",
    "        for (int k = 0; k < 3; k++) {\n",
    "            res = Math.Max (res, dp[prices.Length, k, 0]);\n",
    "        }\n",
    "        return res;\n",
    "    }\n",
    "}"
   ]
  },
  {
   "cell_type": "code",
   "execution_count": null,
   "metadata": {},
   "outputs": [],
   "source": []
  }
 ],
 "metadata": {
  "kernelspec": {
   "display_name": ".NET (C#)",
   "language": "C#",
   "name": ".net-csharp"
  },
  "language_info": {
   "file_extension": ".cs",
   "mimetype": "text/x-csharp",
   "name": "C#",
   "pygments_lexer": "csharp",
   "version": "8.0"
  },
  "toc": {
   "base_numbering": 1,
   "nav_menu": {},
   "number_sections": true,
   "sideBar": true,
   "skip_h1_title": false,
   "title_cell": "Table of Contents",
   "title_sidebar": "Contents",
   "toc_cell": false,
   "toc_position": {},
   "toc_section_display": true,
   "toc_window_display": false
  }
 },
 "nbformat": 4,
 "nbformat_minor": 4
}
