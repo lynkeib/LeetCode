{
 "cells": [
  {
   "cell_type": "code",
   "execution_count": 1,
   "metadata": {
    "ExecuteTime": {
     "end_time": "2020-04-01T05:48:05.8610940Z",
     "start_time": "2020-04-01T05:48:01.598Z"
    }
   },
   "outputs": [],
   "source": [
    "public class Solution {\n",
    "    public int MinPathSum (int[][] grid) {\n",
    "        var m = grid.Length;\n",
    "        var n = grid[0].Length;\n",
    "        var dp = new int[m][];\n",
    "        for (int i = 0; i < grid.Length; i++) {\n",
    "            dp[i] = new int[n];\n",
    "        }\n",
    "        dp[0][0] = grid[0][0];\n",
    "        for (int i = 1; i < n; i++) {\n",
    "            dp[0][i] = dp[0][i - 1] + grid[0][i];\n",
    "        }\n",
    "        for (int i = 1; i < m; i++) {\n",
    "            dp[i][0] = dp[i - 1][0] + grid[i][0];\n",
    "        }\n",
    "        for (int i = 1; i < m; i++)\n",
    "        {\n",
    "            for (int j = 1; j < n; j++)\n",
    "            {\n",
    "                dp[i][j] = Math.Min(dp[i - 1][j], dp[i][j - 1]) + grid[i][j];\n",
    "            }\n",
    "        }\n",
    "        return dp[m - 1][n - 1];\n",
    "    }\n",
    "}"
   ]
  },
  {
   "cell_type": "code",
   "execution_count": 6,
   "metadata": {
    "ExecuteTime": {
     "end_time": "2020-04-02T04:10:49.9610950Z",
     "start_time": "2020-04-02T04:10:49.861Z"
    }
   },
   "outputs": [],
   "source": [
    "byte a = 1 | 1;"
   ]
  },
  {
   "cell_type": "code",
   "execution_count": 7,
   "metadata": {
    "ExecuteTime": {
     "end_time": "2020-04-02T04:10:51.5969410Z",
     "start_time": "2020-04-02T04:10:51.477Z"
    }
   },
   "outputs": [
    {
     "data": {
      "text/plain": [
       "1"
      ]
     },
     "execution_count": 7,
     "metadata": {},
     "output_type": "execute_result"
    }
   ],
   "source": [
    "a"
   ]
  },
  {
   "cell_type": "code",
   "execution_count": 13,
   "metadata": {
    "ExecuteTime": {
     "end_time": "2020-04-02T04:11:29.8872710Z",
     "start_time": "2020-04-02T04:11:29.857Z"
    }
   },
   "outputs": [],
   "source": [
    "byte a = 0;"
   ]
  },
  {
   "cell_type": "code",
   "execution_count": 14,
   "metadata": {
    "ExecuteTime": {
     "end_time": "2020-04-02T04:11:32.4538810Z",
     "start_time": "2020-04-02T04:11:32.426Z"
    }
   },
   "outputs": [],
   "source": [
    "a ^= 1;"
   ]
  },
  {
   "cell_type": "code",
   "execution_count": 15,
   "metadata": {
    "ExecuteTime": {
     "end_time": "2020-04-02T04:11:32.8948650Z",
     "start_time": "2020-04-02T04:11:32.869Z"
    }
   },
   "outputs": [
    {
     "data": {
      "text/plain": [
       "1"
      ]
     },
     "execution_count": 15,
     "metadata": {},
     "output_type": "execute_result"
    }
   ],
   "source": [
    "a"
   ]
  },
  {
   "cell_type": "code",
   "execution_count": 16,
   "metadata": {
    "ExecuteTime": {
     "end_time": "2020-04-02T04:11:33.5379410Z",
     "start_time": "2020-04-02T04:11:33.513Z"
    }
   },
   "outputs": [],
   "source": [
    "a ^= 1;"
   ]
  },
  {
   "cell_type": "code",
   "execution_count": 17,
   "metadata": {
    "ExecuteTime": {
     "end_time": "2020-04-02T04:11:33.8394850Z",
     "start_time": "2020-04-02T04:11:33.816Z"
    }
   },
   "outputs": [
    {
     "data": {
      "text/plain": [
       "0"
      ]
     },
     "execution_count": 17,
     "metadata": {},
     "output_type": "execute_result"
    }
   ],
   "source": [
    "a"
   ]
  },
  {
   "cell_type": "code",
   "execution_count": null,
   "metadata": {},
   "outputs": [],
   "source": []
  }
 ],
 "metadata": {
  "kernelspec": {
   "display_name": ".NET (C#)",
   "language": "C#",
   "name": ".net-csharp"
  },
  "language_info": {
   "file_extension": ".cs",
   "mimetype": "text/x-csharp",
   "name": "C#",
   "pygments_lexer": "csharp",
   "version": "8.0"
  },
  "toc": {
   "base_numbering": 1,
   "nav_menu": {},
   "number_sections": true,
   "sideBar": true,
   "skip_h1_title": false,
   "title_cell": "Table of Contents",
   "title_sidebar": "Contents",
   "toc_cell": false,
   "toc_position": {},
   "toc_section_display": true,
   "toc_window_display": false
  }
 },
 "nbformat": 4,
 "nbformat_minor": 4
}
