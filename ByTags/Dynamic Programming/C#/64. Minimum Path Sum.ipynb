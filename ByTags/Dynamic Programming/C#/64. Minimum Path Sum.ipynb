{
 "cells": [
  {
   "cell_type": "code",
   "execution_count": 1,
   "metadata": {
    "ExecuteTime": {
     "end_time": "2020-04-01T05:48:05.8610940Z",
     "start_time": "2020-04-01T05:48:01.598Z"
    }
   },
   "outputs": [],
   "source": [
    "public class Solution {\n",
    "    public int MinPathSum (int[][] grid) {\n",
    "        var m = grid.Length;\n",
    "        var n = grid[0].Length;\n",
    "        var dp = new int[m][];\n",
    "        for (int i = 0; i < grid.Length; i++) {\n",
    "            dp[i] = new int[n];\n",
    "        }\n",
    "        dp[0][0] = grid[0][0];\n",
    "        for (int i = 1; i < n; i++) {\n",
    "            dp[0][i] = dp[0][i - 1] + grid[0][i];\n",
    "        }\n",
    "        for (int i = 1; i < m; i++) {\n",
    "            dp[i][0] = dp[i - 1][0] + grid[i][0];\n",
    "        }\n",
    "        for (int i = 1; i < m; i++)\n",
    "        {\n",
    "            for (int j = 1; j < n; j++)\n",
    "            {\n",
    "                dp[i][j] = Math.Min(dp[i - 1][j], dp[i][j - 1]) + grid[i][j];\n",
    "            }\n",
    "        }\n",
    "        return dp[m - 1][n - 1];\n",
    "    }\n",
    "}"
   ]
  },
  {
   "cell_type": "code",
   "execution_count": null,
   "metadata": {},
   "outputs": [],
   "source": []
  }
 ],
 "metadata": {
  "kernelspec": {
   "display_name": ".NET (C#)",
   "language": "C#",
   "name": ".net-csharp"
  },
  "language_info": {
   "file_extension": ".cs",
   "mimetype": "text/x-csharp",
   "name": "C#",
   "pygments_lexer": "csharp",
   "version": "8.0"
  },
  "toc": {
   "base_numbering": 1,
   "nav_menu": {},
   "number_sections": true,
   "sideBar": true,
   "skip_h1_title": false,
   "title_cell": "Table of Contents",
   "title_sidebar": "Contents",
   "toc_cell": false,
   "toc_position": {},
   "toc_section_display": true,
   "toc_window_display": false
  }
 },
 "nbformat": 4,
 "nbformat_minor": 4
}
