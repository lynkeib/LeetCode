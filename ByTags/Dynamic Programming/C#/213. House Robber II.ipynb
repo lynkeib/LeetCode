{
 "cells": [
  {
   "cell_type": "code",
   "execution_count": 1,
   "metadata": {
    "ExecuteTime": {
     "end_time": "2020-04-21T05:50:09.6759260Z",
     "start_time": "2020-04-21T05:50:08.649Z"
    }
   },
   "outputs": [],
   "source": [
    "public class Solution {\n",
    "    public int Rob(int[] nums) {\n",
    "        if(nums.Length == 0){\n",
    "            return 0;\n",
    "        }\n",
    "        if(nums.Length == 1){\n",
    "            return nums[0];\n",
    "        }\n",
    "        if(nums.Length == 2){\n",
    "            return Math.Max(nums[0], nums[1]);\n",
    "        }\n",
    "        var rab1 = new int[nums.Length];\n",
    "        var wrab1 = new int[nums.Length];\n",
    "        \n",
    "        rab1[0] = nums[0];\n",
    "        rab1[1] = 0;\n",
    "        wrab1[0] = 0;\n",
    "        wrab1[1] = nums[1];\n",
    "        for (int index = 2; index < nums.Length - 1; index++)\n",
    "        {\n",
    "            rab1[index] = Math.Max(rab1[index - 2] + nums[index], rab1[index - 1]);\n",
    "            wrab1[index] = Math.Max(wrab1[index - 2] + nums[index], wrab1[index - 1]);\n",
    "        }\n",
    "        rab1[nums.Length - 1] = rab1[nums.Length - 2];\n",
    "        wrab1[nums.Length - 1] = Math.Max(wrab1[nums.Length - 2], wrab1[nums.Length - 3] + nums[nums.Length - 1]);\n",
    "        return Math.Max(rab1[nums.Length - 1], wrab1[nums.Length - 1]);\n",
    "    }\n",
    "}"
   ]
  },
  {
   "cell_type": "code",
   "execution_count": 2,
   "metadata": {
    "ExecuteTime": {
     "end_time": "2020-04-21T05:53:30.3789330Z",
     "start_time": "2020-04-21T05:53:30.322Z"
    }
   },
   "outputs": [],
   "source": [
    "public class Solution {\n",
    "    public int Rob(int[] nums) {\n",
    "        if(nums.Length == 0){\n",
    "            return 0;\n",
    "        }\n",
    "        if(nums.Length == 1){\n",
    "            return nums[0];\n",
    "        }\n",
    "        if(nums.Length == 2){\n",
    "            return Math.Max(nums[0], nums[1]);\n",
    "        }\n",
    "        // var rab1 = new int[nums.Length];\n",
    "        // var wrab1 = new int[nums.Length];\n",
    "        \n",
    "        var rab1_0 = nums[0];\n",
    "        var rab1_1 = nums[0];\n",
    "        var wrab1_0 = 0;\n",
    "        var wrab1_1 = nums[1];\n",
    "        for (int index = 2; index < nums.Length - 1; index++)\n",
    "        {\n",
    "            var r1 = rab1_1;\n",
    "\n",
    "            rab1_1 = Math.Max(rab1_0 + nums[index], rab1_1);\n",
    "            rab1_0 = r1;\n",
    "\n",
    "            var wr1 = wrab1_1;\n",
    "\n",
    "            wrab1_1 = Math.Max(wrab1_0 + nums[index], wrab1_1);\n",
    "            wrab1_0 = wr1;\n",
    "        }\n",
    "\n",
    "        // rab1[nums.Length - 1] = rab1[nums.Length - 2];\n",
    "        wrab1_1 = Math.Max(wrab1_1, wrab1_0 + nums[nums.Length - 1]);\n",
    "        return Math.Max(rab1_1, wrab1_1);\n",
    "    }\n",
    "}"
   ]
  },
  {
   "cell_type": "code",
   "execution_count": null,
   "metadata": {},
   "outputs": [],
   "source": []
  }
 ],
 "metadata": {
  "kernelspec": {
   "display_name": ".NET (C#)",
   "language": "C#",
   "name": ".net-csharp"
  },
  "language_info": {
   "file_extension": ".cs",
   "mimetype": "text/x-csharp",
   "name": "C#",
   "pygments_lexer": "csharp",
   "version": "8.0"
  },
  "toc": {
   "base_numbering": 1,
   "nav_menu": {},
   "number_sections": true,
   "sideBar": true,
   "skip_h1_title": false,
   "title_cell": "Table of Contents",
   "title_sidebar": "Contents",
   "toc_cell": false,
   "toc_position": {},
   "toc_section_display": true,
   "toc_window_display": false
  }
 },
 "nbformat": 4,
 "nbformat_minor": 4
}
