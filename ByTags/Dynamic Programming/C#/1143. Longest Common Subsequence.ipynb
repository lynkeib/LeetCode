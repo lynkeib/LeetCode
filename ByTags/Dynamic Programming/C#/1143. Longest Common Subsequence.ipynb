{
 "cells": [
  {
   "cell_type": "code",
   "execution_count": 1,
   "metadata": {},
   "outputs": [],
   "source": [
    "public class Solution {\n",
    "    public int LongestCommonSubsequence (string text1, string text2) {\n",
    "        int[, ] dp = new int[text1.Length, text2.Length];\n",
    "        dp[0, 0] = text1[0] == text2[0] ? 1 : 0;\n",
    "        for (int index = 1; index < text1.Length; index++) {\n",
    "            if (text1[index] == text2[0]) dp[index, 0] = Math.Min (1, dp[index - 1, 0] + 1);\n",
    "            else dp[index, 0] = dp[index - 1, 0];\n",
    "        }\n",
    "        for (int index = 1; index < text2.Length; index++) {\n",
    "            if (text2[index] == text1[0]) dp[0, index] = Math.Min (1, dp[0, index - 1] + 1);\n",
    "            else dp[0, index] = dp[0, index - 1];\n",
    "        }\n",
    "        for (int index1 = 1; index1 < text1.Length; index1++) {\n",
    "            for (int index2 = 1; index2 < text2.Length; index2++) {\n",
    "                if(text1[index1] == text2[index2]){\n",
    "                    dp[index1, index2] = dp[index1 - 1, index2 - 1] + 1;\n",
    "                }else{\n",
    "                    dp[index1, index2] = Math.Max(dp[index1 - 1, index2], dp[index1, index2 - 1]);\n",
    "                }\n",
    "            }\n",
    "        }\n",
    "        return dp[text1.Length - 1, text2.Length - 1];\n",
    "    }\n",
    "}"
   ]
  },
  {
   "cell_type": "code",
   "execution_count": null,
   "metadata": {},
   "outputs": [],
   "source": []
  }
 ],
 "metadata": {
  "kernelspec": {
   "display_name": ".NET (C#)",
   "language": "C#",
   "name": ".net-csharp"
  },
  "language_info": {
   "file_extension": ".cs",
   "mimetype": "text/x-csharp",
   "name": "C#",
   "pygments_lexer": "csharp",
   "version": "8.0"
  },
  "toc": {
   "base_numbering": 1,
   "nav_menu": {},
   "number_sections": true,
   "sideBar": true,
   "skip_h1_title": false,
   "title_cell": "Table of Contents",
   "title_sidebar": "Contents",
   "toc_cell": false,
   "toc_position": {},
   "toc_section_display": true,
   "toc_window_display": false
  }
 },
 "nbformat": 4,
 "nbformat_minor": 4
}
