{
 "cells": [
  {
   "cell_type": "code",
   "execution_count": 7,
   "metadata": {},
   "outputs": [],
   "source": [
    "public class Solution {\n",
    "    public int UniquePaths(int m, int n) {\n",
    "        int[,] dp = new int[n,m];\n",
    "        for(int i=0;i<n;i++){\n",
    "            dp[i, 0] = 1;\n",
    "        }\n",
    "        for(int i=0;i<m;i++){\n",
    "            dp[0, i] = 1;\n",
    "        }\n",
    "        for(int i=1; i<n;i++){\n",
    "            for(int j=1;j<m;j++){\n",
    "                dp[i,j] = dp[i-1, j] + dp[i, j-1];\n",
    "            }\n",
    "        }\n",
    "        return dp[n-1,m-1];\n",
    "    }\n",
    "}"
   ]
  },
  {
   "cell_type": "code",
   "execution_count": null,
   "metadata": {},
   "outputs": [],
   "source": []
  }
 ],
 "metadata": {
  "kernelspec": {
   "display_name": ".NET (C#)",
   "language": "C#",
   "name": ".net-csharp"
  },
  "language_info": {
   "file_extension": ".cs",
   "mimetype": "text/x-csharp",
   "name": "C#",
   "pygments_lexer": "csharp",
   "version": "8.0"
  },
  "toc": {
   "base_numbering": 1,
   "nav_menu": {},
   "number_sections": true,
   "sideBar": true,
   "skip_h1_title": false,
   "title_cell": "Table of Contents",
   "title_sidebar": "Contents",
   "toc_cell": false,
   "toc_position": {},
   "toc_section_display": true,
   "toc_window_display": false
  }
 },
 "nbformat": 4,
 "nbformat_minor": 4
}
