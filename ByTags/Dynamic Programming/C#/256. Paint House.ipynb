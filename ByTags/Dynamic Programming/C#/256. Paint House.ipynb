{
 "cells": [
  {
   "cell_type": "code",
   "execution_count": 1,
   "metadata": {
    "ExecuteTime": {
     "end_time": "2020-04-28T00:25:56.5191340Z",
     "start_time": "2020-04-28T00:25:54.735Z"
    }
   },
   "outputs": [],
   "source": [
    "public class Solution {\n",
    "    public int MinCost(int[][] costs) {\n",
    "        var length = costs.Length;\n",
    "        if(length == 0){\n",
    "            return 0;\n",
    "        }\n",
    "        for (int room = 1; room < costs.Length; room++)\n",
    "        {\n",
    "            var c0 = costs[room][0];\n",
    "            var c1 = costs[room][1];\n",
    "            var c2 = costs[room][2];\n",
    "            costs[room][0] = Math.Min(costs[room - 1][1], costs[room - 1][2]) + c0;\n",
    "            costs[room][1] = Math.Min(costs[room - 1][0], costs[room - 1][2]) + c1;\n",
    "            costs[room][2] = Math.Min(costs[room - 1][0], costs[room - 1][1]) + c2;\n",
    "        }\n",
    "        return Math.Min(costs[length - 1][0], Math.Min(costs[length - 1][1], costs[length - 1][2]));\n",
    "    }\n",
    "}"
   ]
  },
  {
   "cell_type": "code",
   "execution_count": null,
   "metadata": {},
   "outputs": [],
   "source": []
  }
 ],
 "metadata": {
  "kernelspec": {
   "display_name": ".NET (C#)",
   "language": "C#",
   "name": ".net-csharp"
  },
  "language_info": {
   "file_extension": ".cs",
   "mimetype": "text/x-csharp",
   "name": "C#",
   "pygments_lexer": "csharp",
   "version": "8.0"
  },
  "toc": {
   "base_numbering": 1,
   "nav_menu": {},
   "number_sections": true,
   "sideBar": true,
   "skip_h1_title": false,
   "title_cell": "Table of Contents",
   "title_sidebar": "Contents",
   "toc_cell": false,
   "toc_position": {},
   "toc_section_display": true,
   "toc_window_display": false
  }
 },
 "nbformat": 4,
 "nbformat_minor": 4
}
