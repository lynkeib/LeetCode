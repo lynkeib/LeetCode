{
 "cells": [
  {
   "cell_type": "code",
   "execution_count": 1,
   "metadata": {
    "ExecuteTime": {
     "end_time": "2020-05-06T05:43:25.1439530Z",
     "start_time": "2020-05-06T05:43:23.692Z"
    }
   },
   "outputs": [],
   "source": [
    "public class Solution {\n",
    "    public int MaxCoins(int[] nums) {\n",
    "        var n = nums.Length;\n",
    "        var nnums = new int[n + 2];\n",
    "        nnums[0] = 1;\n",
    "        nnums[n + 1] = 1;\n",
    "        for(int index = 1; index < n + 1; index++){\n",
    "            nnums[index] = nums[index - 1];\n",
    "        }\n",
    "        var dp = new int[n + 2, n + 2];\n",
    "        for(int length = 1; length <= n; length++){\n",
    "            for(int i = 1; i <= n - length + 1; i++){\n",
    "                var j = i + length - 1;\n",
    "                for(int k = i; k <= j; k++){\n",
    "                    dp[i, j] = Math.Max(dp[i, j], dp[i, k - 1] + dp[k + 1, j] + nnums[i - 1] * nnums[k] * nnums[j + 1]);\n",
    "                }\n",
    "            }\n",
    "        }\n",
    "        return dp[1, n];\n",
    "    }\n",
    "}"
   ]
  },
  {
   "cell_type": "code",
   "execution_count": null,
   "metadata": {},
   "outputs": [],
   "source": []
  }
 ],
 "metadata": {
  "kernelspec": {
   "display_name": ".NET (C#)",
   "language": "C#",
   "name": ".net-csharp"
  },
  "language_info": {
   "file_extension": ".cs",
   "mimetype": "text/x-csharp",
   "name": "C#",
   "pygments_lexer": "csharp",
   "version": "8.0"
  },
  "toc": {
   "base_numbering": 1,
   "nav_menu": {},
   "number_sections": true,
   "sideBar": true,
   "skip_h1_title": false,
   "title_cell": "Table of Contents",
   "title_sidebar": "Contents",
   "toc_cell": false,
   "toc_position": {},
   "toc_section_display": true,
   "toc_window_display": false
  }
 },
 "nbformat": 4,
 "nbformat_minor": 4
}
