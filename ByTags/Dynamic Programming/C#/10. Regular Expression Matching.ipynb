{
 "cells": [
  {
   "cell_type": "code",
   "execution_count": 1,
   "metadata": {},
   "outputs": [],
   "source": [
    "public class Solution {\n",
    "    public bool IsMatch (string s, string p) {\n",
    "        bool[, ] dp = new bool[s.Length + 1, p.Length + 1];\n",
    "        dp[0, 0] = true;\n",
    "        for (int indexs = 0; indexs <= s.Length; indexs++) {\n",
    "            for (int indexp = 1; indexp <= p.Length; indexp++) {\n",
    "                if((indexp > 1) && (p[indexp - 1] == '*')){\n",
    "                    dp[indexs, indexp] = (dp[indexs, indexp - 2]) || ((indexs > 0) && ((s[indexs - 1] == p[indexp-2]) || (p[indexp-2] == '.'))) && (dp[indexs - 1, indexp]);\n",
    "                }else{\n",
    "                    dp[indexs, indexp] = (indexs > 0) && (dp[indexs - 1, indexp - 1]) && ((s[indexs -  1] == p[indexp - 1]) || (p[indexp - 1] == '.'));\n",
    "                }\n",
    "            }\n",
    "        }\n",
    "        // for (int indexs = 0; indexs <= s.Length; indexs++) {\n",
    "        //     for (int indexp = 0; indexp <= p.Length; indexp++) {\n",
    "        //         Console.Write($\"{dp[indexs, indexp]} \");\n",
    "        //     }\n",
    "        //     Console.WriteLine();\n",
    "        // }\n",
    "        // Console.WriteLine();\n",
    "        return dp[s.Length, p.Length];\n",
    "    }\n",
    "}"
   ]
  },
  {
   "cell_type": "code",
   "execution_count": 2,
   "metadata": {},
   "outputs": [],
   "source": [
    "string str = \"dog cat cat dog\";"
   ]
  },
  {
   "cell_type": "code",
   "execution_count": 3,
   "metadata": {},
   "outputs": [
    {
     "data": {
      "text/html": [
       "<table><thead><tr><th><i>index</i></th><th>value</th></tr></thead><tbody><tr><td>0</td><td>dog</td></tr><tr><td>1</td><td>cat</td></tr><tr><td>2</td><td>cat</td></tr><tr><td>3</td><td>dog</td></tr></tbody></table>"
      ]
     },
     "execution_count": 3,
     "metadata": {},
     "output_type": "execute_result"
    }
   ],
   "source": [
    "str.Split(' ')"
   ]
  },
  {
   "cell_type": "code",
   "execution_count": null,
   "metadata": {},
   "outputs": [],
   "source": []
  }
 ],
 "metadata": {
  "kernelspec": {
   "display_name": ".NET (C#)",
   "language": "C#",
   "name": ".net-csharp"
  },
  "language_info": {
   "file_extension": ".cs",
   "mimetype": "text/x-csharp",
   "name": "C#",
   "pygments_lexer": "csharp",
   "version": "8.0"
  },
  "toc": {
   "base_numbering": 1,
   "nav_menu": {},
   "number_sections": true,
   "sideBar": true,
   "skip_h1_title": false,
   "title_cell": "Table of Contents",
   "title_sidebar": "Contents",
   "toc_cell": false,
   "toc_position": {},
   "toc_section_display": true,
   "toc_window_display": false
  }
 },
 "nbformat": 4,
 "nbformat_minor": 4
}
