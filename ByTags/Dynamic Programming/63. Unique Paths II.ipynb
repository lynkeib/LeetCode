{
 "cells": [
  {
   "cell_type": "code",
   "execution_count": 1,
   "metadata": {
    "ExecuteTime": {
     "end_time": "2019-11-15T05:00:34.173094Z",
     "start_time": "2019-11-15T05:00:34.162169Z"
    }
   },
   "outputs": [],
   "source": [
    "class Solution(object):\n",
    "    def uniquePathsWithObstacles(self, obstacleGrid):\n",
    "        \"\"\"\n",
    "        :type obstacleGrid: List[List[int]]\n",
    "        :rtype: int\n",
    "        \"\"\"\n",
    "        rows = len(obstacleGrid)\n",
    "        columns = len(obstacleGrid[0])\n",
    "        if obstacleGrid[0][0] == 1:\n",
    "            return 0\n",
    "        obstacleGrid[0][0] = 1\n",
    "        for row in range(1, rows):\n",
    "            if obstacleGrid[row][0] == 1:\n",
    "                obstacleGrid[row][0] = None\n",
    "            else:\n",
    "                obstacleGrid[row][0] = obstacleGrid[row-1][0]\n",
    "        for column in range(1, columns):\n",
    "            if obstacleGrid[0][column] == 1:\n",
    "                obstacleGrid[0][column] = None\n",
    "            else:\n",
    "                obstacleGrid[0][column] = obstacleGrid[0][column-1]\n",
    "        for row in range(1, rows):\n",
    "            for column in range(1, columns):\n",
    "                if obstacleGrid[row][column] == 1:\n",
    "                    obstacleGrid[row][column] = None\n",
    "                else:\n",
    "                    if obstacleGrid[row - 1][column]:\n",
    "                        obstacleGrid[row][column] += obstacleGrid[row - 1][column]\n",
    "                    if obstacleGrid[row][column - 1]:\n",
    "                        obstacleGrid[row][column] += obstacleGrid[row][column - 1]\n",
    "        # print(obstacleGrid)\n",
    "        return obstacleGrid[-1][-1] if obstacleGrid[-1][-1] else 0"
   ]
  },
  {
   "cell_type": "code",
   "execution_count": null,
   "metadata": {},
   "outputs": [],
   "source": []
  }
 ],
 "metadata": {
  "kernelspec": {
   "display_name": "Python 3",
   "language": "python",
   "name": "python3"
  },
  "language_info": {
   "codemirror_mode": {
    "name": "ipython",
    "version": 3
   },
   "file_extension": ".py",
   "mimetype": "text/x-python",
   "name": "python",
   "nbconvert_exporter": "python",
   "pygments_lexer": "ipython3",
   "version": "3.7.1"
  },
  "toc": {
   "base_numbering": 1,
   "nav_menu": {},
   "number_sections": true,
   "sideBar": true,
   "skip_h1_title": false,
   "title_cell": "Table of Contents",
   "title_sidebar": "Contents",
   "toc_cell": false,
   "toc_position": {},
   "toc_section_display": true,
   "toc_window_display": false
  }
 },
 "nbformat": 4,
 "nbformat_minor": 2
}
