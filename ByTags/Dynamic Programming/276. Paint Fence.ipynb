{
 "cells": [
  {
   "cell_type": "markdown",
   "metadata": {},
   "source": [
    "# DFS TLE"
   ]
  },
  {
   "cell_type": "code",
   "execution_count": 1,
   "metadata": {
    "ExecuteTime": {
     "end_time": "2019-11-18T07:03:49.013966Z",
     "start_time": "2019-11-18T07:03:49.005094Z"
    }
   },
   "outputs": [],
   "source": [
    "class Solution(object):\n",
    "    def numWays(self, n, k):\n",
    "        \"\"\"\n",
    "        :type n: int\n",
    "        :type k: int\n",
    "        :rtype: int\n",
    "        \"\"\"\n",
    "        if n == 0 or k == 0:\n",
    "            return 0\n",
    "        res = [0]\n",
    "        self.dfs(k, n, [], res)\n",
    "        return res[0]\n",
    "    \n",
    "    def dfs(self, k, n, path, res):\n",
    "        if len(path) == n:\n",
    "            res[0] += 1\n",
    "            return\n",
    "        for c in range(k):\n",
    "            if len(path) < 2:\n",
    "                self.dfs(k, n, path + [c], res)\n",
    "            else:\n",
    "                if c != path[-1]:\n",
    "                    self.dfs(k, n, path + [c], res)\n",
    "                else:\n",
    "                    if c != path[-2]:\n",
    "                        self.dfs(k, n, path + [c], res)\n",
    "        return "
   ]
  },
  {
   "cell_type": "markdown",
   "metadata": {},
   "source": [
    "# DP"
   ]
  },
  {
   "cell_type": "code",
   "execution_count": 2,
   "metadata": {
    "ExecuteTime": {
     "end_time": "2019-11-18T07:17:50.039645Z",
     "start_time": "2019-11-18T07:17:50.034684Z"
    }
   },
   "outputs": [],
   "source": [
    "class Solution(object):\n",
    "    def numWays(self, n, k):\n",
    "        \"\"\"\n",
    "        :type n: int\n",
    "        :type k: int\n",
    "        :rtype: int\n",
    "        \"\"\"\n",
    "        if n == 0 or k == 0:\n",
    "            return 0\n",
    "        if n == 1:\n",
    "            return k\n",
    "        same, diff = k, k * (k - 1)\n",
    "        for _ in range(3, n + 1):\n",
    "            same, diff = diff, (same + diff) * (k - 1)\n",
    "        return same + diff"
   ]
  },
  {
   "cell_type": "code",
   "execution_count": null,
   "metadata": {},
   "outputs": [],
   "source": []
  }
 ],
 "metadata": {
  "kernelspec": {
   "display_name": "Python 3",
   "language": "python",
   "name": "python3"
  },
  "language_info": {
   "codemirror_mode": {
    "name": "ipython",
    "version": 3
   },
   "file_extension": ".py",
   "mimetype": "text/x-python",
   "name": "python",
   "nbconvert_exporter": "python",
   "pygments_lexer": "ipython3",
   "version": "3.7.1"
  },
  "toc": {
   "base_numbering": 1,
   "nav_menu": {},
   "number_sections": true,
   "sideBar": true,
   "skip_h1_title": false,
   "title_cell": "Table of Contents",
   "title_sidebar": "Contents",
   "toc_cell": false,
   "toc_position": {},
   "toc_section_display": true,
   "toc_window_display": false
  }
 },
 "nbformat": 4,
 "nbformat_minor": 2
}
