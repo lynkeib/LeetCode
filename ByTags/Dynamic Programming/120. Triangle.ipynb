{
 "cells": [
  {
   "cell_type": "code",
   "execution_count": 1,
   "metadata": {
    "ExecuteTime": {
     "end_time": "2019-11-15T05:11:27.448340Z",
     "start_time": "2019-11-15T05:11:27.441432Z"
    }
   },
   "outputs": [],
   "source": [
    "class Solution(object):\n",
    "    def minimumTotal(self, triangle):\n",
    "        \"\"\"\n",
    "        :type triangle: List[List[int]]\n",
    "        :rtype: int\n",
    "        \"\"\"\n",
    "        for row in range(1, len(triangle)):\n",
    "            for column in range(len(triangle[row])):\n",
    "                temp1 = float('inf')\n",
    "                temp2 = float('inf')\n",
    "                if column - 1 >= 0:\n",
    "                    temp1 = triangle[row - 1][column - 1]\n",
    "                if column  <= len(triangle[row - 1]) - 1:\n",
    "                    temp2 = triangle[row - 1][column]\n",
    "                triangle[row][column] = min(temp1, temp2) + triangle[row][column]\n",
    "        # print(triangle)\n",
    "        return min(triangle[-1])"
   ]
  },
  {
   "cell_type": "code",
   "execution_count": null,
   "metadata": {},
   "outputs": [],
   "source": []
  }
 ],
 "metadata": {
  "kernelspec": {
   "display_name": "Python 3",
   "language": "python",
   "name": "python3"
  },
  "language_info": {
   "codemirror_mode": {
    "name": "ipython",
    "version": 3
   },
   "file_extension": ".py",
   "mimetype": "text/x-python",
   "name": "python",
   "nbconvert_exporter": "python",
   "pygments_lexer": "ipython3",
   "version": "3.7.1"
  },
  "toc": {
   "base_numbering": 1,
   "nav_menu": {},
   "number_sections": true,
   "sideBar": true,
   "skip_h1_title": false,
   "title_cell": "Table of Contents",
   "title_sidebar": "Contents",
   "toc_cell": false,
   "toc_position": {},
   "toc_section_display": true,
   "toc_window_display": false
  }
 },
 "nbformat": 4,
 "nbformat_minor": 2
}
