{
 "cells": [
  {
   "cell_type": "markdown",
   "metadata": {},
   "source": [
    "# Too complicate"
   ]
  },
  {
   "cell_type": "code",
   "execution_count": null,
   "metadata": {},
   "outputs": [],
   "source": [
    "class Solution(object):\n",
    "    def spiralOrder(self, matrix):\n",
    "        \"\"\"\n",
    "        :type matrix: List[List[int]]\n",
    "        :rtype: List[int]\n",
    "        \"\"\"\n",
    "        res = []\n",
    "        x, y = 0, 0\n",
    "        ## begin condition\n",
    "        while x > -1 and x < len(matrix) and y > -1 and y < len(matrix[0]) and matrix[x][y] != '#':\n",
    "            # print(matrix)\n",
    "            ## go right\n",
    "            while y < len(matrix[0]) - 1 and matrix[x][y+1] != '#':\n",
    "                res.append(matrix[x][y])\n",
    "                matrix[x][y] = '#'\n",
    "                y += 1\n",
    "            # print(matrix)\n",
    "            # go down\n",
    "            while x < len(matrix) - 1 and matrix[x+1][y] != '#':\n",
    "                res.append(matrix[x][y])\n",
    "                matrix[x][y] = '#'\n",
    "                x += 1\n",
    "            # print(matrix)\n",
    "            # go left\n",
    "            while y > 0 and matrix[x][y-1] != '#':\n",
    "                res.append(matrix[x][y])\n",
    "                matrix[x][y] = '#'\n",
    "                y -= 1\n",
    "            # print(matrix)\n",
    "            # go up\n",
    "            while x > 0 and matrix[x-1][y] != '#':\n",
    "                res.append(matrix[x][y])\n",
    "                matrix[x][y] = '#'\n",
    "                x -= 1\n",
    "            res.append(matrix[x][y])\n",
    "            matrix[x][y] = '#'\n",
    "            y += 1\n",
    "            # print(matrix)\n",
    "            \n",
    "        return res"
   ]
  },
  {
   "cell_type": "markdown",
   "metadata": {},
   "source": [
    "# Easy way"
   ]
  },
  {
   "cell_type": "code",
   "execution_count": 1,
   "metadata": {
    "ExecuteTime": {
     "end_time": "2019-11-26T05:37:14.080158Z",
     "start_time": "2019-11-26T05:37:14.070495Z"
    }
   },
   "outputs": [],
   "source": [
    "class Solution(object):\n",
    "    def spiralOrder(self, matrix):\n",
    "        \"\"\"\n",
    "        :type matrix: List[List[int]]\n",
    "        :rtype: List[int]\n",
    "        \"\"\"\n",
    "        if not matrix:\n",
    "            return None\n",
    "        r1, r2, c1, c2 = 0, len(matrix) - 1, 0, len(matrix[0]) - 1\n",
    "        res = []\n",
    "        while r1 <= r2 and c1 <= c2:\n",
    "            for r, c in self.position(r1, r2, c1, c2):\n",
    "                res.append(matrix[r][c])\n",
    "            r1 += 1\n",
    "            r2 -= 1\n",
    "            c1 += 1\n",
    "            c2 -= 1\n",
    "        return res\n",
    "    \n",
    "    def position(self, r1, r2, c1, c2):\n",
    "        for c in range(c1, c2 + 1):\n",
    "            yield r1, c\n",
    "        for r in range(r1+1, r2+1):\n",
    "            yield r, c2\n",
    "        if r1 < r2 and c1 < c2:\n",
    "            for c in range(c2 - 1, c1, -1):\n",
    "                yield r2, c\n",
    "            for r in range(r2, r1, -1):\n",
    "                yield r, c1"
   ]
  },
  {
   "cell_type": "code",
   "execution_count": null,
   "metadata": {},
   "outputs": [],
   "source": []
  }
 ],
 "metadata": {
  "kernelspec": {
   "display_name": "Python 3",
   "language": "python",
   "name": "python3"
  },
  "language_info": {
   "codemirror_mode": {
    "name": "ipython",
    "version": 3
   },
   "file_extension": ".py",
   "mimetype": "text/x-python",
   "name": "python",
   "nbconvert_exporter": "python",
   "pygments_lexer": "ipython3",
   "version": "3.6.9"
  },
  "toc": {
   "base_numbering": 1,
   "nav_menu": {},
   "number_sections": true,
   "sideBar": true,
   "skip_h1_title": false,
   "title_cell": "Table of Contents",
   "title_sidebar": "Contents",
   "toc_cell": false,
   "toc_position": {},
   "toc_section_display": true,
   "toc_window_display": false
  }
 },
 "nbformat": 4,
 "nbformat_minor": 2
}
