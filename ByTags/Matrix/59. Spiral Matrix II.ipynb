{
 "cells": [
  {
   "cell_type": "code",
   "execution_count": 1,
   "metadata": {
    "ExecuteTime": {
     "end_time": "2019-11-26T06:02:20.634399Z",
     "start_time": "2019-11-26T06:02:20.626531Z"
    }
   },
   "outputs": [],
   "source": [
    "class Solution(object):\n",
    "    def generateMatrix(self, n):\n",
    "        \"\"\"\n",
    "        :type n: int\n",
    "        :rtype: List[List[int]]\n",
    "        \"\"\"\n",
    "        res = [[0 for _ in range(n)] for _ in range(n)]\n",
    "        r1, r2, c1, c2 = 0, n-1, 0, n-1\n",
    "        counter = 1\n",
    "        while r1 <= r2 and c1 <= c2:\n",
    "            for r, c in self.position(r1, r2, c1, c2):\n",
    "                res[r][c] = counter\n",
    "                counter += 1\n",
    "            r1 += 1\n",
    "            r2 -= 1\n",
    "            c1 += 1\n",
    "            c2 -= 1\n",
    "        # print(res)\n",
    "        return res\n",
    "    \n",
    "    def position(self, r1, r2, c1, c2):\n",
    "        for c in range(c1, c2 + 1):\n",
    "            yield r1, c\n",
    "            \n",
    "        for r in range(r1 + 1, r2 + 1):\n",
    "            yield r, c2\n",
    "            \n",
    "        if r1 < r2 and c1 < c2:\n",
    "            for c in range(c2 - 1, c1 , -1):\n",
    "                yield r2, c\n",
    "            for r in range(r2, r1, -1):\n",
    "                yield r, c1"
   ]
  },
  {
   "cell_type": "code",
   "execution_count": null,
   "metadata": {},
   "outputs": [],
   "source": []
  }
 ],
 "metadata": {
  "kernelspec": {
   "display_name": "Python 3",
   "language": "python",
   "name": "python3"
  },
  "language_info": {
   "codemirror_mode": {
    "name": "ipython",
    "version": 3
   },
   "file_extension": ".py",
   "mimetype": "text/x-python",
   "name": "python",
   "nbconvert_exporter": "python",
   "pygments_lexer": "ipython3",
   "version": "3.6.9"
  },
  "toc": {
   "base_numbering": 1,
   "nav_menu": {},
   "number_sections": true,
   "sideBar": true,
   "skip_h1_title": false,
   "title_cell": "Table of Contents",
   "title_sidebar": "Contents",
   "toc_cell": false,
   "toc_position": {},
   "toc_section_display": true,
   "toc_window_display": false
  }
 },
 "nbformat": 4,
 "nbformat_minor": 2
}
