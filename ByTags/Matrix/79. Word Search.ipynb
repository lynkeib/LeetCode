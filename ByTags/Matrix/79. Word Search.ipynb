{
 "cells": [
  {
   "cell_type": "markdown",
   "metadata": {},
   "source": [
    "# TLE"
   ]
  },
  {
   "cell_type": "code",
   "execution_count": 1,
   "metadata": {
    "ExecuteTime": {
     "end_time": "2019-11-28T03:49:15.339193Z",
     "start_time": "2019-11-28T03:49:15.326040Z"
    }
   },
   "outputs": [],
   "source": [
    "class Solution(object):\n",
    "    def exist(self, board, word):\n",
    "        \"\"\"\n",
    "        :type board: List[List[str]]\n",
    "        :type word: str\n",
    "        :rtype: bool\n",
    "        \"\"\"\n",
    "        res = [False]\n",
    "        for row in range(len(board)):\n",
    "            for column in range(len(board[0])):\n",
    "                self.dfs(board, word, 0, row, column, res)\n",
    "                if res[0]:\n",
    "                    return True\n",
    "        return False\n",
    "    \n",
    "    def dfs(self, board, word, index, row, column, res):\n",
    "        if index == len(word):\n",
    "            res[0] = True\n",
    "            return\n",
    "        \n",
    "        if board[row][column] == word[index]:\n",
    "            this = board[row][column]\n",
    "            board[row][column] = '#'\n",
    "            # up\n",
    "            if row - 1 >= 0 and board[row - 1][column] != '#':\n",
    "                self.dfs(board, word, index + 1, row - 1, column, res)\n",
    "            # down\n",
    "            if row + 1 < len(board) and board[row + 1][column] != '#':\n",
    "                self.dfs(board, word, index + 1, row + 1, column, res)\n",
    "            # left\n",
    "            if column - 1 >= 0 and board[row][column - 1] != '#':\n",
    "                self.dfs(board, word, index + 1, row, column - 1, res)\n",
    "            # right\n",
    "            if column + 1 < len(board[0]) and board[row][column + 1] != '#':\n",
    "                self.dfs(board, word, index + 1, row, column + 1, res)\n",
    "            # single\n",
    "            self.dfs(board, word, index + 1, row, column, res)\n",
    "            board[row][column] = this\n",
    "        return "
   ]
  },
  {
   "cell_type": "code",
   "execution_count": null,
   "metadata": {},
   "outputs": [],
   "source": []
  }
 ],
 "metadata": {
  "kernelspec": {
   "display_name": "Python 3",
   "language": "python",
   "name": "python3"
  },
  "language_info": {
   "codemirror_mode": {
    "name": "ipython",
    "version": 3
   },
   "file_extension": ".py",
   "mimetype": "text/x-python",
   "name": "python",
   "nbconvert_exporter": "python",
   "pygments_lexer": "ipython3",
   "version": "3.7.1"
  },
  "toc": {
   "base_numbering": 1,
   "nav_menu": {},
   "number_sections": true,
   "sideBar": true,
   "skip_h1_title": false,
   "title_cell": "Table of Contents",
   "title_sidebar": "Contents",
   "toc_cell": false,
   "toc_position": {},
   "toc_section_display": true,
   "toc_window_display": false
  }
 },
 "nbformat": 4,
 "nbformat_minor": 2
}
