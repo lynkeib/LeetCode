{
 "cells": [
  {
   "cell_type": "code",
   "execution_count": null,
   "metadata": {},
   "outputs": [],
   "source": [
    "class Solution(object):\n",
    "    def multiply(self, A, B):\n",
    "        \"\"\"\n",
    "        :type A: List[List[int]]\n",
    "        :type B: List[List[int]]\n",
    "        :rtype: List[List[int]]\n",
    "        \"\"\"\n",
    "        rowA, columnA = len(A), len(A[0])\n",
    "        rowB, columnB = len(B), len(B[0])\n",
    "        res = [[0 for _ in range(columnB)] for _ in range(rowA)]\n",
    "        for row in range(rowA):\n",
    "            for col in range(columnB):\n",
    "                # print(row, col)\n",
    "                # print([r[col] for r in B])\n",
    "                res[row][col] = self.mul(A[row], [r[col] for r in B])\n",
    "        return res\n",
    "        \n",
    "        \n",
    "    def mul(self, l1, l2):\n",
    "        total = 0\n",
    "        for index in range(len(l1)):\n",
    "            total += l1[index] * l2[index]\n",
    "        return total"
   ]
  }
 ],
 "metadata": {
  "kernelspec": {
   "display_name": "Python 3",
   "language": "python",
   "name": "python3"
  },
  "language_info": {
   "codemirror_mode": {
    "name": "ipython",
    "version": 3
   },
   "file_extension": ".py",
   "mimetype": "text/x-python",
   "name": "python",
   "nbconvert_exporter": "python",
   "pygments_lexer": "ipython3",
   "version": "3.6.9"
  },
  "toc": {
   "base_numbering": 1,
   "nav_menu": {},
   "number_sections": true,
   "sideBar": true,
   "skip_h1_title": false,
   "title_cell": "Table of Contents",
   "title_sidebar": "Contents",
   "toc_cell": false,
   "toc_position": {},
   "toc_section_display": true,
   "toc_window_display": false
  }
 },
 "nbformat": 4,
 "nbformat_minor": 2
}
