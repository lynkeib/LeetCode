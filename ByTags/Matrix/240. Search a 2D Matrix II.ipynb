{
 "cells": [
  {
   "cell_type": "markdown",
   "metadata": {},
   "source": [
    "# Binary Search (Recursive)"
   ]
  },
  {
   "cell_type": "code",
   "execution_count": 1,
   "metadata": {
    "ExecuteTime": {
     "end_time": "2019-11-27T03:26:56.277184Z",
     "start_time": "2019-11-27T03:26:56.263961Z"
    }
   },
   "outputs": [],
   "source": [
    "class Solution(object):\n",
    "    def searchMatrix(self, matrix, target):\n",
    "        \"\"\"\n",
    "        :type matrix: List[List[int]]\n",
    "        :type target: int\n",
    "        :rtype: bool\n",
    "        \"\"\"\n",
    "        if not matrix or not matrix[0]:\n",
    "            return False\n",
    "        res = [False]\n",
    "        row, column = len(matrix) - 1, len(matrix[0]) - 1\n",
    "        max_num, min_num = matrix[row][column], matrix[0][0]\n",
    "        if target > max_num or max_num < min_num:\n",
    "            return False\n",
    "        self.find(0, row, 0, column, matrix, target, res)\n",
    "        return res[0]\n",
    "    \n",
    "    def find(self, top, down, left, right, matrix, target, res):\n",
    "        if top > down or right < left:\n",
    "            res[0] = res[0] or False\n",
    "            return \n",
    "        # print(top, down, left, right)\n",
    "        r_mid = top + (down - top) // 2\n",
    "        c_mid = left + (right - left) // 2\n",
    "        # print(\"r_mid\", r_mid, \"c_mid\", c_mid)\n",
    "        if matrix[r_mid][c_mid] == target:\n",
    "            res[0] = True\n",
    "            return\n",
    "        if matrix[r_mid][c_mid] > target:\n",
    "            # left part\n",
    "            self.find(top, down, left, c_mid - 1, matrix, target, res)\n",
    "            # up part\n",
    "            self.find(top, r_mid - 1, left, right, matrix, target, res)\n",
    "        else:\n",
    "            # right part\n",
    "            self.find(top, down, c_mid + 1, right, matrix, target, res)\n",
    "            # down part\n",
    "            self.find(r_mid + 1, down, left, right, matrix, target, res)\n",
    "        return "
   ]
  },
  {
   "cell_type": "code",
   "execution_count": null,
   "metadata": {},
   "outputs": [],
   "source": []
  }
 ],
 "metadata": {
  "kernelspec": {
   "display_name": "Python 3",
   "language": "python",
   "name": "python3"
  },
  "language_info": {
   "codemirror_mode": {
    "name": "ipython",
    "version": 3
   },
   "file_extension": ".py",
   "mimetype": "text/x-python",
   "name": "python",
   "nbconvert_exporter": "python",
   "pygments_lexer": "ipython3",
   "version": "3.7.1"
  },
  "toc": {
   "base_numbering": 1,
   "nav_menu": {},
   "number_sections": true,
   "sideBar": true,
   "skip_h1_title": false,
   "title_cell": "Table of Contents",
   "title_sidebar": "Contents",
   "toc_cell": false,
   "toc_position": {},
   "toc_section_display": true,
   "toc_window_display": false
  }
 },
 "nbformat": 4,
 "nbformat_minor": 2
}
