{
 "cells": [
  {
   "cell_type": "code",
   "execution_count": 4,
   "metadata": {
    "ExecuteTime": {
     "end_time": "2019-11-26T06:24:49.151355Z",
     "start_time": "2019-11-26T06:24:49.144174Z"
    }
   },
   "outputs": [],
   "source": [
    "class Solution(object):\n",
    "    def setZeroes(self, matrix):\n",
    "        \"\"\"\n",
    "        :type matrix: List[List[int]]\n",
    "        :rtype: None Do not return anything, modify matrix in-place instead.\n",
    "        \"\"\"\n",
    "        row, column = len(matrix), len(matrix[0])\n",
    "        change_first_col = False\n",
    "        # if matrix\n",
    "        for r in range(row):\n",
    "            if matrix[r][0] == 0:\n",
    "                change_first_col = True\n",
    "            for c in range(1, column):\n",
    "                if matrix[r][c] == 0:\n",
    "                    matrix[r][0] = 0\n",
    "                    matrix[0][c] = 0\n",
    "        for r in range(1, row):\n",
    "            for c in range(1, column):\n",
    "                if matrix[r][0] == 0 or matrix[0][c] == 0:\n",
    "                    matrix[r][c] = 0\n",
    "        if matrix[0][0] == 0:\n",
    "            for c in range(column):\n",
    "                matrix[0][c] = 0\n",
    "        if change_first_col:\n",
    "            for r in range(row):\n",
    "                matrix[r][0] = 0\n",
    "        return "
   ]
  },
  {
   "cell_type": "code",
   "execution_count": null,
   "metadata": {},
   "outputs": [],
   "source": []
  }
 ],
 "metadata": {
  "kernelspec": {
   "display_name": "Python 3",
   "language": "python",
   "name": "python3"
  },
  "language_info": {
   "codemirror_mode": {
    "name": "ipython",
    "version": 3
   },
   "file_extension": ".py",
   "mimetype": "text/x-python",
   "name": "python",
   "nbconvert_exporter": "python",
   "pygments_lexer": "ipython3",
   "version": "3.6.9"
  },
  "toc": {
   "base_numbering": 1,
   "nav_menu": {},
   "number_sections": true,
   "sideBar": true,
   "skip_h1_title": false,
   "title_cell": "Table of Contents",
   "title_sidebar": "Contents",
   "toc_cell": false,
   "toc_position": {},
   "toc_section_display": true,
   "toc_window_display": false
  }
 },
 "nbformat": 4,
 "nbformat_minor": 2
}
