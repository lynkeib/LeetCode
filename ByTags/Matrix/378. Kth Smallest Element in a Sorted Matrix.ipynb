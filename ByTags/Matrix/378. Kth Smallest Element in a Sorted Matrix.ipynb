{
 "cells": [
  {
   "cell_type": "markdown",
   "metadata": {},
   "source": [
    "# Heap"
   ]
  },
  {
   "cell_type": "code",
   "execution_count": 1,
   "metadata": {
    "ExecuteTime": {
     "end_time": "2019-11-27T02:57:00.238240Z",
     "start_time": "2019-11-27T02:57:00.233180Z"
    }
   },
   "outputs": [],
   "source": [
    "class Solution(object):\n",
    "    def kthSmallest(self, matrix, k):\n",
    "        \"\"\"\n",
    "        :type matrix: List[List[int]]\n",
    "        :type k: int\n",
    "        :rtype: int\n",
    "        \"\"\"\n",
    "        heap = []\n",
    "        for row in matrix:\n",
    "            for num in row:\n",
    "                if len(heap) < k:\n",
    "                    heapq.heappush(heap, -num)\n",
    "                else:\n",
    "                    if num < -heap[0]:\n",
    "                        heapq.heappushpop(heap, -num)\n",
    "        return -heap[0]"
   ]
  },
  {
   "cell_type": "code",
   "execution_count": null,
   "metadata": {},
   "outputs": [],
   "source": []
  }
 ],
 "metadata": {
  "kernelspec": {
   "display_name": "Python 3",
   "language": "python",
   "name": "python3"
  },
  "language_info": {
   "codemirror_mode": {
    "name": "ipython",
    "version": 3
   },
   "file_extension": ".py",
   "mimetype": "text/x-python",
   "name": "python",
   "nbconvert_exporter": "python",
   "pygments_lexer": "ipython3",
   "version": "3.7.1"
  },
  "toc": {
   "base_numbering": 1,
   "nav_menu": {},
   "number_sections": true,
   "sideBar": true,
   "skip_h1_title": false,
   "title_cell": "Table of Contents",
   "title_sidebar": "Contents",
   "toc_cell": false,
   "toc_position": {},
   "toc_section_display": true,
   "toc_window_display": false
  }
 },
 "nbformat": 4,
 "nbformat_minor": 2
}
