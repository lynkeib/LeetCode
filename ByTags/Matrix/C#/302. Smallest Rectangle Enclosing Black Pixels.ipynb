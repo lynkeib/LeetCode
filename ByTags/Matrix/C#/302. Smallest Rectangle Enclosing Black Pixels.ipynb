{
 "cells": [
  {
   "cell_type": "markdown",
   "metadata": {},
   "source": [
    "# Linear Search"
   ]
  },
  {
   "cell_type": "code",
   "execution_count": 1,
   "metadata": {
    "ExecuteTime": {
     "end_time": "2020-05-05T05:40:31.0606100Z",
     "start_time": "2020-05-05T05:40:29.827Z"
    }
   },
   "outputs": [],
   "source": [
    "public class Solution {\n",
    "    \n",
    "    int rows;\n",
    "    int cols;\n",
    "    \n",
    "    public int MinArea(char[][] image, int x, int y) {\n",
    "        \n",
    "        rows = image.Length;\n",
    "        cols = image[0].Length;\n",
    "        \n",
    "        int min_left = y, max_right = y;\n",
    "        int row = x;\n",
    "        int counter = 0;\n",
    "        // up\n",
    "        while(row >= 0){\n",
    "            var b = FindB(image, row);\n",
    "            // Console.WriteLine(b);\n",
    "            if(b.left == b.right && image[row][b.left] == '0'){\n",
    "                break;\n",
    "            }\n",
    "            \n",
    "            min_left = Math.Min(min_left, b.left);\n",
    "            max_right = Math.Max(max_right, b.right);\n",
    "            // Console.WriteLine(row);\n",
    "            // Console.WriteLine($\"{min_left}, {max_right}\");\n",
    "            row--;\n",
    "            counter++;\n",
    "        }\n",
    "        row = x;\n",
    "        // down\n",
    "        while(row < rows){\n",
    "            // Console.WriteLine(row);\n",
    "            var b = FindB(image, row);\n",
    "            if(b.left == b.right && image[row][b.left] == '0'){\n",
    "                break;\n",
    "            }\n",
    "            min_left = Math.Min(min_left, b.left);\n",
    "            max_right = Math.Max(max_right, b.right);\n",
    "            row++;\n",
    "            counter++;\n",
    "        }\n",
    "        counter--;\n",
    "        // Console.WriteLine($\"{min_left}, {max_right}\");\n",
    "        var length = max_right - min_left + 1;\n",
    "        return counter * length;\n",
    "    }\n",
    "    \n",
    "    public (int left, int right) FindB(char[][] image, int row){\n",
    "        int l = 0, r = cols - 1;\n",
    "        while(l < r && image[row][l] != '1'){\n",
    "            l++;\n",
    "        }\n",
    "        while(l < r && image[row][r] != '1'){\n",
    "            r--;\n",
    "        }\n",
    "        return (l, r);\n",
    "    }\n",
    "}"
   ]
  },
  {
   "cell_type": "markdown",
   "metadata": {},
   "source": [
    "# Binary Search"
   ]
  },
  {
   "cell_type": "code",
   "execution_count": 2,
   "metadata": {
    "ExecuteTime": {
     "end_time": "2020-05-05T05:57:43.4816850Z",
     "start_time": "2020-05-05T05:57:43.426Z"
    }
   },
   "outputs": [],
   "source": [
    "public class Solution {\n",
    "    public int MinArea(char[][] image, int x, int y) {\n",
    "        int rows = image.Length, cols = image[0].Length;\n",
    "        int left = searchColumns(image, 0, y, 0, rows, true);\n",
    "        int right = searchColumns(image, y + 1, cols, 0, rows, false);\n",
    "        int top = searchRows(image, 0, x, left, right, true);\n",
    "        int bottom = searchRows(image, x + 1, rows, left, right, false);\n",
    "        return (right - left) * (bottom - top);\n",
    "        \n",
    "    }\n",
    "    \n",
    "    public int searchColumns(char[][] image, int left, int right, int top, int bottom, bool wb){\n",
    "        while(left < right){\n",
    "            int row = top;\n",
    "            int mid = left + (right - left) / 2;\n",
    "            while(row < bottom && image[row][mid] == '0'){\n",
    "                row++;\n",
    "            }\n",
    "            if(row < bottom == wb){\n",
    "                right = mid;\n",
    "            }else{\n",
    "                left = mid + 1;\n",
    "            }\n",
    "        }\n",
    "        return left;\n",
    "    }\n",
    "    \n",
    "    public int searchRows(char[][] image, int top, int bottom, int left, int right, bool wb){\n",
    "        while(top < bottom){\n",
    "            int col = left;\n",
    "            int mid = top + (bottom - top) / 2;\n",
    "            while(col < right && image[mid][col] == '0'){\n",
    "                col++;\n",
    "            }\n",
    "            if(col < right == wb){\n",
    "                bottom = mid;\n",
    "            }else{\n",
    "                top = mid + 1;\n",
    "            }\n",
    "        }\n",
    "        return top;\n",
    "    }\n",
    "}"
   ]
  },
  {
   "cell_type": "code",
   "execution_count": null,
   "metadata": {},
   "outputs": [],
   "source": []
  }
 ],
 "metadata": {
  "kernelspec": {
   "display_name": ".NET (C#)",
   "language": "C#",
   "name": ".net-csharp"
  },
  "language_info": {
   "file_extension": ".cs",
   "mimetype": "text/x-csharp",
   "name": "C#",
   "pygments_lexer": "csharp",
   "version": "8.0"
  },
  "toc": {
   "base_numbering": 1,
   "nav_menu": {},
   "number_sections": true,
   "sideBar": true,
   "skip_h1_title": false,
   "title_cell": "Table of Contents",
   "title_sidebar": "Contents",
   "toc_cell": false,
   "toc_position": {},
   "toc_section_display": true,
   "toc_window_display": false
  }
 },
 "nbformat": 4,
 "nbformat_minor": 4
}
