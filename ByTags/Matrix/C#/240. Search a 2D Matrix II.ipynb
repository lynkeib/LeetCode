{
 "cells": [
  {
   "cell_type": "code",
   "execution_count": 1,
   "metadata": {
    "ExecuteTime": {
     "end_time": "2020-04-25T04:43:14.2679090Z",
     "start_time": "2020-04-25T04:43:13.305Z"
    }
   },
   "outputs": [],
   "source": [
    "public class Solution {\n",
    "    public bool SearchMatrix(int[,] matrix, int target) {\n",
    "        int rows = matrix.GetLength(0), cols = matrix.GetLength(1);\n",
    "        // Console.WriteLine($\"{rows}, {cols}\");\n",
    "        int row = 0, col = matrix.GetLength(1) - 1;\n",
    "        while(row < rows && col > -1){\n",
    "            if(matrix[row,col] == target){\n",
    "                return true;\n",
    "            }\n",
    "            if(matrix[row,col] > target){\n",
    "                col--;\n",
    "            }else{\n",
    "                row++;\n",
    "            }\n",
    "        }\n",
    "        return false;\n",
    "    }\n",
    "}"
   ]
  },
  {
   "cell_type": "code",
   "execution_count": null,
   "metadata": {},
   "outputs": [],
   "source": []
  }
 ],
 "metadata": {
  "kernelspec": {
   "display_name": ".NET (C#)",
   "language": "C#",
   "name": ".net-csharp"
  },
  "language_info": {
   "file_extension": ".cs",
   "mimetype": "text/x-csharp",
   "name": "C#",
   "pygments_lexer": "csharp",
   "version": "8.0"
  },
  "toc": {
   "base_numbering": 1,
   "nav_menu": {},
   "number_sections": true,
   "sideBar": true,
   "skip_h1_title": false,
   "title_cell": "Table of Contents",
   "title_sidebar": "Contents",
   "toc_cell": false,
   "toc_position": {},
   "toc_section_display": true,
   "toc_window_display": false
  }
 },
 "nbformat": 4,
 "nbformat_minor": 4
}
