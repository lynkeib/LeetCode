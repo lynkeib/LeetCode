{
 "cells": [
  {
   "cell_type": "code",
   "execution_count": 1,
   "metadata": {
    "ExecuteTime": {
     "end_time": "2020-04-04T21:51:50.9284360Z",
     "start_time": "2020-04-04T21:51:49.874Z"
    }
   },
   "outputs": [],
   "source": [
    "public class Solution {\n",
    "    public bool SearchMatrix(int[][] matrix, int target) {\n",
    "        if(matrix.Length == 0){\n",
    "            return false;\n",
    "        }\n",
    "        int row = 0, col = matrix[0].Length - 1;\n",
    "        while((row > -1 && row < matrix.Length) && (col > -1 && col < matrix[0].Length)){\n",
    "            if(matrix[row][col] == target){\n",
    "                return true;\n",
    "            }\n",
    "            if(matrix[row][col] < target){\n",
    "                row++;\n",
    "            }else{\n",
    "                col--;\n",
    "            }\n",
    "        }\n",
    "        return false;\n",
    "    }\n",
    "}"
   ]
  },
  {
   "cell_type": "code",
   "execution_count": null,
   "metadata": {},
   "outputs": [],
   "source": []
  }
 ],
 "metadata": {
  "kernelspec": {
   "display_name": ".NET (C#)",
   "language": "C#",
   "name": ".net-csharp"
  },
  "language_info": {
   "file_extension": ".cs",
   "mimetype": "text/x-csharp",
   "name": "C#",
   "pygments_lexer": "csharp",
   "version": "8.0"
  },
  "toc": {
   "base_numbering": 1,
   "nav_menu": {},
   "number_sections": true,
   "sideBar": true,
   "skip_h1_title": false,
   "title_cell": "Table of Contents",
   "title_sidebar": "Contents",
   "toc_cell": false,
   "toc_position": {},
   "toc_section_display": true,
   "toc_window_display": false
  }
 },
 "nbformat": 4,
 "nbformat_minor": 4
}
