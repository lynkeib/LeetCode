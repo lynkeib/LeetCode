{
 "cells": [
  {
   "cell_type": "code",
   "execution_count": 1,
   "metadata": {
    "ExecuteTime": {
     "end_time": "2020-03-30T04:28:45.6809040Z",
     "start_time": "2020-03-30T04:28:44.618Z"
    }
   },
   "outputs": [],
   "source": [
    "public class Solution {\n",
    "    public IList<int> SpiralOrder (int[][] matrix) {\n",
    "        var res = new List<int> ();\n",
    "        if(matrix.Length == 0 || matrix[0].Length == 0){\n",
    "            return res;\n",
    "        }\n",
    "        int top = 0, bottom = matrix.Length - 1, left = 0, right = matrix[0].Length - 1;\n",
    "        \n",
    "        while (top <= bottom && left <= right) {\n",
    "            for (int col = left; col <= right; col++) {\n",
    "                res.Add (matrix[top][col]);\n",
    "            }\n",
    "            top += 1;\n",
    "            if(top > bottom){\n",
    "                break;\n",
    "            }\n",
    "            for (int row = top; row <= bottom; row++) {\n",
    "                res.Add (matrix[row][right]);\n",
    "            }\n",
    "            right -= 1;\n",
    "            if(left > right){\n",
    "                break;\n",
    "            }\n",
    "            for (int col = right; col >= left; col--) {\n",
    "                res.Add (matrix[bottom][col]);\n",
    "            }\n",
    "            bottom -= 1;\n",
    "            if(top > bottom){\n",
    "                break;\n",
    "            }\n",
    "            for (int row = bottom; row >= top; row--) {\n",
    "                res.Add (matrix[row][left]);\n",
    "            }\n",
    "            left +=1;\n",
    "            if(left > right){\n",
    "                break;\n",
    "            }\n",
    "        }\n",
    "        return res;\n",
    "    }\n",
    "}"
   ]
  },
  {
   "cell_type": "code",
   "execution_count": null,
   "metadata": {},
   "outputs": [],
   "source": []
  }
 ],
 "metadata": {
  "kernelspec": {
   "display_name": ".NET (C#)",
   "language": "C#",
   "name": ".net-csharp"
  },
  "language_info": {
   "file_extension": ".cs",
   "mimetype": "text/x-csharp",
   "name": "C#",
   "pygments_lexer": "csharp",
   "version": "8.0"
  },
  "toc": {
   "base_numbering": 1,
   "nav_menu": {},
   "number_sections": true,
   "sideBar": true,
   "skip_h1_title": false,
   "title_cell": "Table of Contents",
   "title_sidebar": "Contents",
   "toc_cell": false,
   "toc_position": {},
   "toc_section_display": true,
   "toc_window_display": false
  }
 },
 "nbformat": 4,
 "nbformat_minor": 4
}
