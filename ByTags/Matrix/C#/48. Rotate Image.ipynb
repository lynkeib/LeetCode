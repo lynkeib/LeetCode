{
 "cells": [
  {
   "cell_type": "code",
   "execution_count": 1,
   "metadata": {
    "ExecuteTime": {
     "end_time": "2020-03-29T04:56:51.4192750Z",
     "start_time": "2020-03-29T04:56:48.418Z"
    }
   },
   "outputs": [],
   "source": [
    "public class Solution {\n",
    "    public void Rotate (int[][] matrix) {\n",
    "        int n = matrix.Length;\n",
    "        // diag\n",
    "        for (int row = 0; row < n - 1; row++) {\n",
    "            for (int col = row + 1; col < n; col++) {\n",
    "                // Console.WriteLine($\"{row} {col}\");\n",
    "                int temp = matrix[row][col];\n",
    "                matrix[row][col] = matrix[col][row];\n",
    "                matrix[col][row] = temp;\n",
    "            }\n",
    "        }\n",
    "        // leftright\n",
    "        for (int row = 0; row < n; row++) {\n",
    "            for (int col = 0; col <= (n - 1) / 2; col++) {\n",
    "                // Console.WriteLine($\"{row} {col}\");\n",
    "                int temp = matrix[row][col];\n",
    "                matrix[row][col] = matrix[row][n - 1 - col];\n",
    "                matrix[row][n - 1 - col] = temp;\n",
    "            }\n",
    "        }\n",
    "        return;\n",
    "    }\n",
    "}"
   ]
  },
  {
   "cell_type": "code",
   "execution_count": null,
   "metadata": {},
   "outputs": [],
   "source": []
  }
 ],
 "metadata": {
  "kernelspec": {
   "display_name": ".NET (C#)",
   "language": "C#",
   "name": ".net-csharp"
  },
  "language_info": {
   "file_extension": ".cs",
   "mimetype": "text/x-csharp",
   "name": "C#",
   "pygments_lexer": "csharp",
   "version": "8.0"
  },
  "toc": {
   "base_numbering": 1,
   "nav_menu": {},
   "number_sections": true,
   "sideBar": true,
   "skip_h1_title": false,
   "title_cell": "Table of Contents",
   "title_sidebar": "Contents",
   "toc_cell": false,
   "toc_position": {},
   "toc_section_display": true,
   "toc_window_display": false
  }
 },
 "nbformat": 4,
 "nbformat_minor": 4
}
