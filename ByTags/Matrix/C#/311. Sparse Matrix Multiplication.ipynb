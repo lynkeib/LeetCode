{
 "cells": [
  {
   "cell_type": "code",
   "execution_count": 1,
   "metadata": {
    "ExecuteTime": {
     "end_time": "2020-05-06T04:15:46.4023140Z",
     "start_time": "2020-05-06T04:15:45.436Z"
    }
   },
   "outputs": [],
   "source": [
    "public class Solution {\n",
    "    public int[][] Multiply(int[][] A, int[][] B) {\n",
    "        var rowsA = A.Length;\n",
    "        var colsA = A[0].Length;\n",
    "        var rowsB = B.Length;\n",
    "        var colsB = B[0].Length;\n",
    "        var res = new int[rowsA][];\n",
    "        for(int index = 0; index < rowsA; index++){\n",
    "            res[index] = new int[colsB];\n",
    "        }\n",
    "        for(int row = 0; row < rowsA; row++){\n",
    "            for(int col = 0; col < colsB; col++){\n",
    "                var sum = 0;\n",
    "                for(int index = 0; index < colsA; index++){\n",
    "                    sum += A[row][index] * B[index][col];\n",
    "                }\n",
    "                res[row][col] = sum;\n",
    "            }\n",
    "        }\n",
    "        return res;\n",
    "    }\n",
    "}"
   ]
  },
  {
   "cell_type": "code",
   "execution_count": null,
   "metadata": {},
   "outputs": [],
   "source": []
  }
 ],
 "metadata": {
  "kernelspec": {
   "display_name": ".NET (C#)",
   "language": "C#",
   "name": ".net-csharp"
  },
  "language_info": {
   "file_extension": ".cs",
   "mimetype": "text/x-csharp",
   "name": "C#",
   "pygments_lexer": "csharp",
   "version": "8.0"
  },
  "toc": {
   "base_numbering": 1,
   "nav_menu": {},
   "number_sections": true,
   "sideBar": true,
   "skip_h1_title": false,
   "title_cell": "Table of Contents",
   "title_sidebar": "Contents",
   "toc_cell": false,
   "toc_position": {},
   "toc_section_display": true,
   "toc_window_display": false
  }
 },
 "nbformat": 4,
 "nbformat_minor": 4
}
