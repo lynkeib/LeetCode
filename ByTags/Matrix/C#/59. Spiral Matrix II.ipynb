{
 "cells": [
  {
   "cell_type": "code",
   "execution_count": 1,
   "metadata": {
    "ExecuteTime": {
     "end_time": "2020-03-31T05:31:30.9681300Z",
     "start_time": "2020-03-31T05:31:27.793Z"
    }
   },
   "outputs": [],
   "source": [
    "public class Solution {\n",
    "    public int[][] GenerateMatrix (int n) {\n",
    "        var res = new int[n][];\n",
    "        for (int i = 0; i < n; i++) {\n",
    "            res[i] = new int[n];\n",
    "        }\n",
    "        int top = 0, bottom = n - 1, left = 0, right = n - 1;\n",
    "        int counter = 1;\n",
    "        while (left <= right && top <= bottom) {\n",
    "            for (int col = left; col <= right; col++) {\n",
    "                res[top][col] = counter;\n",
    "                counter++;\n",
    "            }\n",
    "            top++;\n",
    "            if (top > bottom) {\n",
    "                break;\n",
    "            }\n",
    "\n",
    "            for (int row = top; row <= bottom; row++) {\n",
    "                res[row][right] = counter;\n",
    "                counter++;\n",
    "            }\n",
    "            right--;\n",
    "            if (left > right) {\n",
    "                break;\n",
    "            }\n",
    "\n",
    "            for (int col = right; col >= left; col--) {\n",
    "                res[bottom][col] = counter;\n",
    "                counter++;\n",
    "            }\n",
    "            bottom--;\n",
    "            if (top > bottom) {\n",
    "                break;\n",
    "            }\n",
    "\n",
    "            for (int row = bottom; row >= top; row--) {\n",
    "                res[row][left] = counter;\n",
    "                counter++;\n",
    "            }\n",
    "            left++;\n",
    "            if (left > right) {\n",
    "                break;\n",
    "            }\n",
    "        }\n",
    "        return res;\n",
    "    }\n",
    "}"
   ]
  },
  {
   "cell_type": "code",
   "execution_count": 2,
   "metadata": {
    "ExecuteTime": {
     "end_time": "2020-04-01T04:49:09.8896890Z",
     "start_time": "2020-04-01T04:49:09.604Z"
    }
   },
   "outputs": [
    {
     "data": {
      "text/plain": [
       "0"
      ]
     },
     "execution_count": 2,
     "metadata": {},
     "output_type": "execute_result"
    }
   ],
   "source": [
    "0 % 6"
   ]
  },
  {
   "cell_type": "code",
   "execution_count": 3,
   "metadata": {
    "ExecuteTime": {
     "end_time": "2020-04-01T04:49:48.0440070Z",
     "start_time": "2020-04-01T04:49:47.821Z"
    }
   },
   "outputs": [],
   "source": [
    "var nums = new List<int>{1,2,3};"
   ]
  },
  {
   "cell_type": "code",
   "execution_count": 4,
   "metadata": {
    "ExecuteTime": {
     "end_time": "2020-04-01T04:49:53.7228790Z",
     "start_time": "2020-04-01T04:49:53.667Z"
    }
   },
   "outputs": [],
   "source": [
    "nums.RemoveAt(1)"
   ]
  },
  {
   "cell_type": "code",
   "execution_count": 5,
   "metadata": {
    "ExecuteTime": {
     "end_time": "2020-04-01T04:49:55.6801520Z",
     "start_time": "2020-04-01T04:49:55.486Z"
    }
   },
   "outputs": [
    {
     "data": {
      "text/html": [
       "<table><thead><tr><th><i>index</i></th><th>value</th></tr></thead><tbody><tr><td>0</td><td>1</td></tr><tr><td>1</td><td>3</td></tr></tbody></table>"
      ]
     },
     "execution_count": 5,
     "metadata": {},
     "output_type": "execute_result"
    }
   ],
   "source": [
    "nums"
   ]
  },
  {
   "cell_type": "code",
   "execution_count": 6,
   "metadata": {
    "ExecuteTime": {
     "end_time": "2020-04-01T04:52:30.7810780Z",
     "start_time": "2020-04-01T04:52:30.739Z"
    }
   },
   "outputs": [
    {
     "data": {
      "text/plain": [
       "5"
      ]
     },
     "execution_count": 6,
     "metadata": {},
     "output_type": "execute_result"
    }
   ],
   "source": [
    "5 % 6"
   ]
  },
  {
   "cell_type": "code",
   "execution_count": null,
   "metadata": {},
   "outputs": [],
   "source": []
  }
 ],
 "metadata": {
  "kernelspec": {
   "display_name": ".NET (C#)",
   "language": "C#",
   "name": ".net-csharp"
  },
  "language_info": {
   "file_extension": ".cs",
   "mimetype": "text/x-csharp",
   "name": "C#",
   "pygments_lexer": "csharp",
   "version": "8.0"
  },
  "toc": {
   "base_numbering": 1,
   "nav_menu": {},
   "number_sections": true,
   "sideBar": true,
   "skip_h1_title": false,
   "title_cell": "Table of Contents",
   "title_sidebar": "Contents",
   "toc_cell": false,
   "toc_position": {},
   "toc_section_display": true,
   "toc_window_display": false
  }
 },
 "nbformat": 4,
 "nbformat_minor": 4
}
