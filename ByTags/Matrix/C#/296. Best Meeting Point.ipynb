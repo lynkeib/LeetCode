{
 "cells": [
  {
   "cell_type": "markdown",
   "metadata": {},
   "source": [
    "# Brute Force"
   ]
  },
  {
   "cell_type": "code",
   "execution_count": 1,
   "metadata": {
    "ExecuteTime": {
     "end_time": "2020-05-04T03:03:50.8599440Z",
     "start_time": "2020-05-04T03:03:49.792Z"
    }
   },
   "outputs": [],
   "source": [
    "public class Solution {\n",
    "    public int MinTotalDistance(int[][] grid) {\n",
    "        int rows = grid.Length, cols = grid[0].Length;\n",
    "        var people = new List<int[]>();\n",
    "        for(int row = 0; row < rows; row++){\n",
    "            for(int col = 0; col < cols; col++){\n",
    "                if(grid[row][col] == 1){\n",
    "                    people.Add(new int[]{row, col});\n",
    "                }\n",
    "            }\n",
    "        }\n",
    "        var res = int.MaxValue;\n",
    "        for(int row = 0; row < rows; row++){\n",
    "            for(int col = 0; col < cols; col++){\n",
    "                var total = 0;\n",
    "                foreach(int[] p in people){\n",
    "                    total += Distance(row, col, p[0], p[1]);\n",
    "                }\n",
    "                res = Math.Min(res, total);   \n",
    "            }\n",
    "        }\n",
    "        return res;\n",
    "    }\n",
    "    \n",
    "    public int Distance(int row1, int col1, int row2, int col2){\n",
    "        return Math.Abs(row1 - row2) + Math.Abs(col1 - col2);\n",
    "    }\n",
    "}"
   ]
  },
  {
   "cell_type": "markdown",
   "metadata": {},
   "source": [
    "# Using Median"
   ]
  },
  {
   "cell_type": "code",
   "execution_count": 2,
   "metadata": {
    "ExecuteTime": {
     "end_time": "2020-05-04T03:44:59.2855080Z",
     "start_time": "2020-05-04T03:44:59.229Z"
    }
   },
   "outputs": [],
   "source": [
    "public class Solution {\n",
    "    public int MinTotalDistance(int[][] grid) {\n",
    "        var rows = GetRows(grid);\n",
    "        var cols = GetCols(grid);\n",
    "        return GetDist(rows) + GetDist(cols);\n",
    "    }\n",
    "\n",
    "    public List<int> GetCols(int[][] grid){\n",
    "        var res= new List<int>();\n",
    "        for(int col = 0; col < grid[0].Length; col++){\n",
    "            for(int row = 0; row < grid.Length; row++){\n",
    "                if(grid[row][col] == 1){\n",
    "                    res.Add(col);\n",
    "                }\n",
    "            }\n",
    "        }\n",
    "        return res;\n",
    "    }\n",
    "\n",
    "    public List<int> GetRows(int[][] grid){\n",
    "        var res= new List<int>();\n",
    "        for(int row = 0; row < grid.Length; row++){\n",
    "            for(int col = 0; col < grid[0].Length; col++){\n",
    "                if(grid[row][col] == 1){\n",
    "                    res.Add(row);\n",
    "                }\n",
    "            }\n",
    "        }\n",
    "        return res;\n",
    "    }\n",
    "\n",
    "    public int GetDist(List<int> points){\n",
    "        int left = 0, right = points.Count - 1;\n",
    "        var res = 0;\n",
    "        while(left < right){\n",
    "            res += points[right] - points[left];\n",
    "            left++;\n",
    "            right--;\n",
    "        }\n",
    "        return res;\n",
    "    }\n",
    "}"
   ]
  },
  {
   "cell_type": "code",
   "execution_count": null,
   "metadata": {},
   "outputs": [],
   "source": []
  }
 ],
 "metadata": {
  "kernelspec": {
   "display_name": ".NET (C#)",
   "language": "C#",
   "name": ".net-csharp"
  },
  "language_info": {
   "file_extension": ".cs",
   "mimetype": "text/x-csharp",
   "name": "C#",
   "pygments_lexer": "csharp",
   "version": "8.0"
  },
  "toc": {
   "base_numbering": 1,
   "nav_menu": {},
   "number_sections": true,
   "sideBar": true,
   "skip_h1_title": false,
   "title_cell": "Table of Contents",
   "title_sidebar": "Contents",
   "toc_cell": false,
   "toc_position": {},
   "toc_section_display": true,
   "toc_window_display": false
  }
 },
 "nbformat": 4,
 "nbformat_minor": 4
}
