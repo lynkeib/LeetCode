{
 "cells": [
  {
   "cell_type": "code",
   "execution_count": 1,
   "metadata": {},
   "outputs": [],
   "source": [
    "public class Solution {\n",
    "    public bool Exist (char[][] board, string word) {\n",
    "        if(board.Length == 0){\n",
    "            return false;\n",
    "        }\n",
    "        bool[,] path = new bool[board.Length, board[0].Length];\n",
    "        for (int row = 0; row < board.Length; row++) {\n",
    "            for (int col = 0; col < board[0].Length; col++) {\n",
    "                if(dfs(row, col, 0, board, word, path)){\n",
    "                    return true;\n",
    "                }\n",
    "            }\n",
    "        }\n",
    "        return false;\n",
    "    }\n",
    "    public bool dfs (int row, int col, int index, char[][] board, string word, bool[,] path) {\n",
    "        if (index == word.Length) {\n",
    "            return true;\n",
    "        }\n",
    "        if ((row < 0) || (row == board.Length) || (col < 0) || (col == board[0].Length) || (path[row,col])) {\n",
    "            return false;\n",
    "        }\n",
    "        bool res = false;\n",
    "        if (word[index] == board[row][col]) {\n",
    "            path[row, col] = true;\n",
    "            // upper\n",
    "            res = res || dfs (row - 1, col, index + 1, board, word, path);\n",
    "            if(res){\n",
    "                return true;\n",
    "            }\n",
    "            // left\n",
    "            res = res || dfs (row, col - 1, index + 1, board, word, path);\n",
    "            if(res){\n",
    "                return true;\n",
    "            }\n",
    "            // bottom\n",
    "            res = res || dfs (row + 1, col, index + 1, board, word, path);\n",
    "            if(res){\n",
    "                return true;\n",
    "            }\n",
    "            // right\n",
    "            res = res || dfs (row, col + 1, index + 1, board, word, path);\n",
    "            if(res){\n",
    "                return true;\n",
    "            }\n",
    "            path[row, col] = false;\n",
    "        }\n",
    "        return res;\n",
    "    }\n",
    "}"
   ]
  },
  {
   "cell_type": "code",
   "execution_count": 14,
   "metadata": {
    "ExecuteTime": {
     "end_time": "2020-03-30T04:46:04.8580820Z",
     "start_time": "2020-03-30T04:46:04.827Z"
    }
   },
   "outputs": [],
   "source": [
    "var a = new int[2][]{new int[2]{7,10}, new int[2]{2,4}};"
   ]
  },
  {
   "cell_type": "code",
   "execution_count": 15,
   "metadata": {
    "ExecuteTime": {
     "end_time": "2020-03-30T04:46:05.0889120Z",
     "start_time": "2020-03-30T04:46:05.063Z"
    }
   },
   "outputs": [
    {
     "data": {
      "text/html": [
       "<table><thead><tr><th><i>index</i></th><th>Length</th><th>LongLength</th><th>Rank</th><th>SyncRoot</th><th>IsReadOnly</th><th>IsFixedSize</th><th>IsSynchronized</th></tr></thead><tbody><tr><td>0</td><td>2</td><td>2</td><td>1</td><td>710</td><td>False</td><td>True</td><td>False</td></tr><tr><td>1</td><td>2</td><td>2</td><td>1</td><td>24</td><td>False</td><td>True</td><td>False</td></tr></tbody></table>"
      ]
     },
     "execution_count": 15,
     "metadata": {},
     "output_type": "execute_result"
    }
   ],
   "source": [
    "a"
   ]
  },
  {
   "cell_type": "code",
   "execution_count": 23,
   "metadata": {
    "ExecuteTime": {
     "end_time": "2020-03-30T04:48:06.0704980Z",
     "start_time": "2020-03-30T04:48:06.042Z"
    }
   },
   "outputs": [],
   "source": [
    "var b = a.OrderBy(x => x[0]).ToList();"
   ]
  },
  {
   "cell_type": "code",
   "execution_count": 24,
   "metadata": {
    "ExecuteTime": {
     "end_time": "2020-03-30T04:48:07.8873520Z",
     "start_time": "2020-03-30T04:48:07.846Z"
    }
   },
   "outputs": [
    {
     "data": {
      "text/html": [
       "<table><thead><tr><th><i>index</i></th><th>Length</th><th>LongLength</th><th>Rank</th><th>SyncRoot</th><th>IsReadOnly</th><th>IsFixedSize</th><th>IsSynchronized</th></tr></thead><tbody><tr><td>0</td><td>2</td><td>2</td><td>1</td><td>24</td><td>False</td><td>True</td><td>False</td></tr><tr><td>1</td><td>2</td><td>2</td><td>1</td><td>710</td><td>False</td><td>True</td><td>False</td></tr></tbody></table>"
      ]
     },
     "execution_count": 24,
     "metadata": {},
     "output_type": "execute_result"
    }
   ],
   "source": [
    "b"
   ]
  },
  {
   "cell_type": "code",
   "execution_count": null,
   "metadata": {},
   "outputs": [],
   "source": []
  }
 ],
 "metadata": {
  "kernelspec": {
   "display_name": ".NET (C#)",
   "language": "C#",
   "name": ".net-csharp"
  },
  "language_info": {
   "file_extension": ".cs",
   "mimetype": "text/x-csharp",
   "name": "C#",
   "pygments_lexer": "csharp",
   "version": "8.0"
  },
  "toc": {
   "base_numbering": 1,
   "nav_menu": {},
   "number_sections": true,
   "sideBar": true,
   "skip_h1_title": false,
   "title_cell": "Table of Contents",
   "title_sidebar": "Contents",
   "toc_cell": false,
   "toc_position": {},
   "toc_section_display": true,
   "toc_window_display": false
  }
 },
 "nbformat": 4,
 "nbformat_minor": 4
}
