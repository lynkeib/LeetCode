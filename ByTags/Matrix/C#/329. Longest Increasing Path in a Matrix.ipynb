{
 "cells": [
  {
   "cell_type": "code",
   "execution_count": 1,
   "metadata": {
    "ExecuteTime": {
     "end_time": "2020-05-08T04:56:42.0885440Z",
     "start_time": "2020-05-08T04:56:40.901Z"
    }
   },
   "outputs": [],
   "source": [
    "public class Solution {\n",
    "    \n",
    "    int[,] dp;\n",
    "    int[][] dirs = new int[][]{new int[]{1, 0}, new int[]{-1, 0}, new int[]{0, 1}, new int[]{0, -1}};\n",
    "    int rows;\n",
    "    int cols;\n",
    "    \n",
    "    public int LongestIncreasingPath(int[][] matrix) {\n",
    "        rows = matrix.Length;\n",
    "        if(rows == 0){\n",
    "            return 0;\n",
    "        }\n",
    "        cols = matrix[0].Length;\n",
    "        dp = new int[rows, cols];\n",
    "        var res = 1;\n",
    "        for(int row = 0; row < rows; row++){\n",
    "            for(int col = 0; col < cols; col++){\n",
    "                res = Math.Max(res, dfs(matrix, row, col));\n",
    "            }\n",
    "        }\n",
    "        return res;\n",
    "    }\n",
    "    \n",
    "    public int dfs(int[][] matrix, int row, int col){\n",
    "        if(dp[row, col] != 0){\n",
    "            return dp[row, col];\n",
    "        }\n",
    "        foreach(int[] dir in dirs){\n",
    "            var x = row + dir[0];\n",
    "            var y = col + dir[1];\n",
    "            if(x >= 0 && x < rows && y >= 0 && y < cols && matrix[row][col] > matrix[x][y]){\n",
    "                dp[row, col] = Math.Max(dp[row, col], dfs(matrix, x, y));\n",
    "            }\n",
    "        }\n",
    "        dp[row, col]++;\n",
    "        return dp[row, col];\n",
    "    }\n",
    "}"
   ]
  },
  {
   "cell_type": "code",
   "execution_count": null,
   "metadata": {},
   "outputs": [],
   "source": []
  }
 ],
 "metadata": {
  "kernelspec": {
   "display_name": ".NET (C#)",
   "language": "C#",
   "name": ".net-csharp"
  },
  "language_info": {
   "file_extension": ".cs",
   "mimetype": "text/x-csharp",
   "name": "C#",
   "pygments_lexer": "csharp",
   "version": "8.0"
  },
  "toc": {
   "base_numbering": 1,
   "nav_menu": {},
   "number_sections": true,
   "sideBar": true,
   "skip_h1_title": false,
   "title_cell": "Table of Contents",
   "title_sidebar": "Contents",
   "toc_cell": false,
   "toc_position": {},
   "toc_section_display": true,
   "toc_window_display": false
  }
 },
 "nbformat": 4,
 "nbformat_minor": 4
}
