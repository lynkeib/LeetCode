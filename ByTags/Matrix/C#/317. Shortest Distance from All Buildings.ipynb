{
 "cells": [
  {
   "cell_type": "code",
   "execution_count": 1,
   "metadata": {
    "ExecuteTime": {
     "end_time": "2020-05-07T06:42:41.6471340Z",
     "start_time": "2020-05-07T06:42:39.638Z"
    }
   },
   "outputs": [],
   "source": [
    "public class Solution {\n",
    "    public int ShortestDistance(int[][] grid) {\n",
    "        int rows = grid.Length, cols = grid[0].Length;\n",
    "        int res = int.MaxValue;\n",
    "        int val = 0;\n",
    "        var dirs = new int[][]{new int[]{1, 0}, new int[]{-1, 0}, new int[]{0, 1}, new int[]{0, -1}};\n",
    "        var sum = new int[rows][];\n",
    "        for(int i = 0; i < rows; i++){\n",
    "            sum[i] = new int[cols];\n",
    "            grid[i].CopyTo(sum[i], 0);\n",
    "        }\n",
    "        // var sum = (int[][])grid.Clone();\n",
    "        for(int row = 0; row < rows; row++){\n",
    "            for(int col = 0; col < cols; col++){\n",
    "                if(grid[row][col] == 1){\n",
    "                    res = int.MaxValue;\n",
    "                    // var dist = (int[][])grid.Clone();\n",
    "                    var dist = new int[rows][];\n",
    "                    for(int i = 0; i < rows; i++){\n",
    "                        dist[i] = new int[cols];\n",
    "                        grid[i].CopyTo(dist[i], 0);\n",
    "                    }\n",
    "                    var queue = new Queue<(int, int)>();\n",
    "                    queue.Enqueue((row, col));\n",
    "                    while(queue.Count != 0){\n",
    "                        var node = queue.Dequeue();\n",
    "                        var r = node.Item1;\n",
    "                        var c = node.Item2;\n",
    "                        foreach(var dir in dirs){\n",
    "                            var x = r + dir[0];\n",
    "                            var y = c + dir[1];\n",
    "                            if(x >= 0 && x < rows && y >= 0 && y < cols && grid[x][y] == val){\n",
    "                                grid[x][y]--;\n",
    "                                dist[x][y] = dist[r][c] + 1;\n",
    "                                sum[x][y] += dist[x][y] - 1;\n",
    "                                res = Math.Min(res, sum[x][y]);\n",
    "                                queue.Enqueue((x, y));\n",
    "                            }\n",
    "                            \n",
    "                        }\n",
    "                    }\n",
    "                    val--;\n",
    "                }\n",
    "                \n",
    "            }\n",
    "        }\n",
    "        // foreach(var s in sum){\n",
    "        //     foreach(var ss in s) Console.Write($\"{ss} \");\n",
    "        //     Console.WriteLine();\n",
    "        // }\n",
    "        // foreach(var s in grid){\n",
    "        //     foreach(var ss in s) Console.Write($\"{ss} \");\n",
    "        //     Console.WriteLine();\n",
    "        // }\n",
    "        return res == int.MaxValue ? -1 : res;\n",
    "    }\n",
    "}"
   ]
  },
  {
   "cell_type": "code",
   "execution_count": null,
   "metadata": {},
   "outputs": [],
   "source": []
  }
 ],
 "metadata": {
  "kernelspec": {
   "display_name": ".NET (C#)",
   "language": "C#",
   "name": ".net-csharp"
  },
  "language_info": {
   "file_extension": ".cs",
   "mimetype": "text/x-csharp",
   "name": "C#",
   "pygments_lexer": "csharp",
   "version": "8.0"
  },
  "toc": {
   "base_numbering": 1,
   "nav_menu": {},
   "number_sections": true,
   "sideBar": true,
   "skip_h1_title": false,
   "title_cell": "Table of Contents",
   "title_sidebar": "Contents",
   "toc_cell": false,
   "toc_position": {},
   "toc_section_display": true,
   "toc_window_display": false
  }
 },
 "nbformat": 4,
 "nbformat_minor": 4
}
