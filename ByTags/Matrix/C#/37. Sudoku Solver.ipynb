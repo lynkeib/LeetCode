{
 "cells": [
  {
   "cell_type": "code",
   "execution_count": 1,
   "metadata": {
    "ExecuteTime": {
     "end_time": "2020-04-06T05:17:02.1846810Z",
     "start_time": "2020-04-06T05:17:01.000Z"
    }
   },
   "outputs": [
    {
     "ename": "Unhandled Exception",
     "evalue": "(34,55): error CS1002: ; expected",
     "output_type": "error",
     "traceback": [
      "(34,55): error CS1002: ; expected"
     ]
    }
   ],
   "source": [
    "public class Solution {\n",
    "\n",
    "    public Dictionary<string, HashSet<char>> suqares;\n",
    "    public Dictionary<int, HashSet<char>> rows;\n",
    "    public Dictionary<int, HashSet<char>> cols;\n",
    "\n",
    "    public void SolveSudoku (char[][] board) {\n",
    "        suqares = new Dictionary<string, HashSet<char>> ();\n",
    "        rows = new Dictionary<int, HashSet<char>> ();\n",
    "        cols = new Dictionary<int, HashSet<char>> ();\n",
    "        int counter = 0;\n",
    "        for (int row = 0; row < 9; row++) {\n",
    "            for (int col = 0; col < 9; col++) {\n",
    "                // rows\n",
    "                if (!rows.ContainsKey (row)) {\n",
    "                    rows[row] = new HashSet<char> ();\n",
    "                }\n",
    "                // cols\n",
    "                if (!cols.ContainsKey (col)) {\n",
    "                    cols[col] = new HashSet<char> ();\n",
    "                }\n",
    "                // squares\n",
    "                int row_square = row / 3;\n",
    "                int col_square = col / 3;\n",
    "                var key = $\"{row_square}{col_square}\";\n",
    "                if (!suqares.ContainsKey (key)) {\n",
    "                    suqares[key] = new HashSet<char> ();\n",
    "                }\n",
    "                if (board[row][col] == '.') {\n",
    "                    counter++;\n",
    "                } else {\n",
    "                    rows[row].Add (board[row][col]);\n",
    "                    cols[col].Add (board[row][col]);\n",
    "                    suqares[key].Add (board[row][col])\n",
    "                }\n",
    "            }\n",
    "        }\n",
    "    }\n",
    "\n",
    "    public bool dfs (char[][] board, int row, int col, int counter) {\n",
    "        if (counter == 0) {\n",
    "            return true;\n",
    "        }\n",
    "        if (row < 0 || row > 8 || col < 0 || col > 8 || board[row][col] != '.') {\n",
    "            return false;\n",
    "        }\n",
    "        for (int i = 146; i <= 154; i++) {\n",
    "            var thisnum = (char) (i - 'a');\n",
    "            if (checkrow (row, thisnum) && checkcol (col, thisnum) && checksquare (row, col, thisnum)) {\n",
    "                board[row][col] = thisnum;\n",
    "                \n",
    "                if (dfs (board, row - 1, col, counter - 1)) {\n",
    "                    return true;\n",
    "                }\n",
    "                if (dfs (board, row + 1, col, counter - 1)) {\n",
    "                    return true;\n",
    "                }\n",
    "                if (dfs (board, row, col - 1, counter - 1)) {\n",
    "                    return true;\n",
    "                }\n",
    "                if (dfs (board, row, col + 1, counter - 1)) {\n",
    "                    return true;\n",
    "                }\n",
    "                board[row][col] = '.';\n",
    "            } else {\n",
    "                continue;\n",
    "            }\n",
    "        }\n",
    "        return false;\n",
    "    }\n",
    "\n",
    "    public bool checkrow (int row, char num) {\n",
    "        return rows[row].Contains (num);\n",
    "    }\n",
    "\n",
    "    public bool checkcol (char[][] board, int col, char num) {\n",
    "        return cols[col].Contains (num);\n",
    "    }\n",
    "\n",
    "    public bool checksquare (int row, int col, char num) {\n",
    "        int row_square = row / 3;\n",
    "        int col_square = col / 3;\n",
    "        var key = $\"{row_square}{col_square}\";\n",
    "        return suqares[key].Contains (num);\n",
    "    }\n",
    "}"
   ]
  },
  {
   "cell_type": "code",
   "execution_count": null,
   "metadata": {},
   "outputs": [],
   "source": []
  }
 ],
 "metadata": {
  "kernelspec": {
   "display_name": ".NET (C#)",
   "language": "C#",
   "name": ".net-csharp"
  },
  "language_info": {
   "file_extension": ".cs",
   "mimetype": "text/x-csharp",
   "name": "C#",
   "pygments_lexer": "csharp",
   "version": "8.0"
  },
  "toc": {
   "base_numbering": 1,
   "nav_menu": {},
   "number_sections": true,
   "sideBar": true,
   "skip_h1_title": false,
   "title_cell": "Table of Contents",
   "title_sidebar": "Contents",
   "toc_cell": false,
   "toc_position": {},
   "toc_section_display": true,
   "toc_window_display": false
  }
 },
 "nbformat": 4,
 "nbformat_minor": 4
}
