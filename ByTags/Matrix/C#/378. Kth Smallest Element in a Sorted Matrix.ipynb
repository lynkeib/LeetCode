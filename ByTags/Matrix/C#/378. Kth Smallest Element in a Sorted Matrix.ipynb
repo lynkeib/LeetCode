{
 "cells": [
  {
   "cell_type": "code",
   "execution_count": 1,
   "metadata": {
    "ExecuteTime": {
     "end_time": "2020-05-11T05:49:05.2627510Z",
     "start_time": "2020-05-11T05:49:04.109Z"
    }
   },
   "outputs": [],
   "source": [
    "public class Solution {\n",
    "    public int KthSmallest(int[][] matrix, int k) {\n",
    "        int N = matrix.Length;\n",
    "        int start = matrix[0][0], end = matrix[N - 1][N - 1];\n",
    "        while(start < end){\n",
    "            int mid = start + (end - start) /2;\n",
    "            var res = healper(matrix, mid);\n",
    "            if(res.count == k){\n",
    "                return res.smaller;\n",
    "            }\n",
    "            if(res.count > k){\n",
    "                end = res.smaller;\n",
    "            }else{\n",
    "                start = res.larger;\n",
    "            }\n",
    "        }\n",
    "        return start;\n",
    "    }\n",
    "    \n",
    "    public (int count, int larger, int smaller) healper(int[][] matrix, int mid){\n",
    "        int count = 0;\n",
    "        int N = matrix.Length;\n",
    "        int row = N - 1, col = 0;\n",
    "        \n",
    "        int larger = matrix[N - 1][N - 1], smaller = matrix[0][0];\n",
    "        \n",
    "        while(row > -1 && col < N){\n",
    "            if(matrix[row][col] <= mid){\n",
    "                count += row + 1;\n",
    "                smaller = Math.Max(smaller, matrix[row][col]);\n",
    "                col++;\n",
    "            }else{\n",
    "                larger = Math.Min(larger, matrix[row][col]);\n",
    "                row--;\n",
    "            }\n",
    "        }\n",
    "        return (count, larger, smaller);\n",
    "    }\n",
    "}"
   ]
  },
  {
   "cell_type": "code",
   "execution_count": null,
   "metadata": {},
   "outputs": [],
   "source": []
  }
 ],
 "metadata": {
  "kernelspec": {
   "display_name": ".NET (C#)",
   "language": "C#",
   "name": ".net-csharp"
  },
  "language_info": {
   "file_extension": ".cs",
   "mimetype": "text/x-csharp",
   "name": "C#",
   "pygments_lexer": "csharp",
   "version": "8.0"
  },
  "toc": {
   "base_numbering": 1,
   "nav_menu": {},
   "number_sections": true,
   "sideBar": true,
   "skip_h1_title": false,
   "title_cell": "Table of Contents",
   "title_sidebar": "Contents",
   "toc_cell": false,
   "toc_position": {},
   "toc_section_display": true,
   "toc_window_display": false
  }
 },
 "nbformat": 4,
 "nbformat_minor": 4
}
