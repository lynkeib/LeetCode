{
 "cells": [
  {
   "cell_type": "markdown",
   "metadata": {},
   "source": [
    "# Naive approach"
   ]
  },
  {
   "cell_type": "code",
   "execution_count": 1,
   "metadata": {},
   "outputs": [],
   "source": [
    "class Solution(object):\n",
    "    def countComponents(self, n, edges):\n",
    "        \"\"\"\n",
    "        :type n: int\n",
    "        :type edges: List[List[int]]\n",
    "        :rtype: int\n",
    "        \"\"\"\n",
    "        components = [i for i in range(n)]\n",
    "        for n1, n2 in edges:\n",
    "            n1_c = self.find(n1, components)\n",
    "            n2_c = self.find(n2, components)\n",
    "            components[n2_c] = n1_c\n",
    "        self.update(components)\n",
    "        return len(set(components))\n",
    "    \n",
    "    def find(self, node, components):\n",
    "        while node != components[node]:\n",
    "            node = components[node]\n",
    "        return node\n",
    "    \n",
    "    def update(self, components):\n",
    "        for index in range(len(components)):\n",
    "            components[index] = self.find(components[index], components)\n",
    "        return "
   ]
  },
  {
   "cell_type": "markdown",
   "metadata": {},
   "source": [
    "# Faster"
   ]
  },
  {
   "cell_type": "code",
   "execution_count": 3,
   "metadata": {},
   "outputs": [],
   "source": [
    "class Solution(object):\n",
    "    def countComponents(self, n, edges):\n",
    "        \"\"\"\n",
    "        :type n: int\n",
    "        :type edges: List[List[int]]\n",
    "        :rtype: int\n",
    "        \"\"\"\n",
    "        components = [i for i in range(n)]\n",
    "        for n1, n2 in edges:\n",
    "            n1_c = self.find(n1, components)\n",
    "            n2_c = self.find(n2, components)\n",
    "            if n1_c != n2_c:\n",
    "                components[n2_c] = n1_c\n",
    "                n -= 1\n",
    "        return n\n",
    "    \n",
    "    def find(self, node, components):\n",
    "        while node != components[node]:\n",
    "            path.append(node)\n",
    "            node = components[node]\n",
    "        return node"
   ]
  },
  {
   "cell_type": "code",
   "execution_count": null,
   "metadata": {},
   "outputs": [],
   "source": []
  }
 ],
 "metadata": {
  "kernelspec": {
   "display_name": "Python 3",
   "language": "python",
   "name": "python3"
  },
  "language_info": {
   "codemirror_mode": {
    "name": "ipython",
    "version": 3
   },
   "file_extension": ".py",
   "mimetype": "text/x-python",
   "name": "python",
   "nbconvert_exporter": "python",
   "pygments_lexer": "ipython3",
   "version": "3.7.4"
  },
  "toc": {
   "base_numbering": 1,
   "nav_menu": {},
   "number_sections": true,
   "sideBar": true,
   "skip_h1_title": false,
   "title_cell": "Table of Contents",
   "title_sidebar": "Contents",
   "toc_cell": false,
   "toc_position": {},
   "toc_section_display": true,
   "toc_window_display": false
  }
 },
 "nbformat": 4,
 "nbformat_minor": 4
}
