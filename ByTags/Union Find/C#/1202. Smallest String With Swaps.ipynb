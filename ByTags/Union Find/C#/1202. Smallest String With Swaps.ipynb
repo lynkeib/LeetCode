{
 "cells": [
  {
   "cell_type": "code",
   "execution_count": 1,
   "metadata": {
    "ExecuteTime": {
     "end_time": "2020-05-15T04:41:55.1141820Z",
     "start_time": "2020-05-15T04:41:53.976Z"
    }
   },
   "outputs": [],
   "source": [
    "public class Solution {\n",
    "    public string SmallestStringWithSwaps(string s, IList<IList<int>> pairs) {\n",
    "        var n = s.Length;\n",
    "        var uf = new int[n];\n",
    "        \n",
    "        for(int i = 0; i < n; i++){\n",
    "            uf[i] = i;\n",
    "        }\n",
    "        \n",
    "        foreach(var p in pairs){\n",
    "            var n1 = p[0];\n",
    "            var n2 = p[1];\n",
    "            \n",
    "            var p_n1 = find(uf, n1);\n",
    "            var p_n2 = find(uf, n2);\n",
    "            if(p_n2 < p_n1){\n",
    "                var temp = p_n2;\n",
    "                p_n2 = p_n1;\n",
    "                p_n1 = temp;\n",
    "            }\n",
    "            if(p_n1 != p_n2){\n",
    "                uf[p_n2] = p_n1;\n",
    "            }\n",
    "        }\n",
    "        \n",
    "        var sb = new StringBuilder();\n",
    "        \n",
    "        var component = new Dictionary<int, List<char>>();\n",
    "        \n",
    "        for(int i = 0; i < n; i++){\n",
    "            var p = find(uf, i);\n",
    "            if(!component.ContainsKey(p)){\n",
    "                component[p] = new List<char>();\n",
    "            }\n",
    "            component[p].Add(s[i]);\n",
    "        }\n",
    "        \n",
    "        foreach(var k in component.Keys){\n",
    "            component[k].Sort();\n",
    "        }\n",
    "        \n",
    "        for(int i = 0; i < n; i++){\n",
    "            var p = find(uf, i);\n",
    "            sb.Append(component[p][0]);\n",
    "            component[p].RemoveAt(0);\n",
    "        }\n",
    "        \n",
    "        return sb.ToString();\n",
    "    }\n",
    "    \n",
    "    public int find(int[] uf, int node){\n",
    "        if(node != uf[node]){\n",
    "            node = find(uf, uf[node]);\n",
    "        }\n",
    "        return node;\n",
    "    }\n",
    "}"
   ]
  },
  {
   "cell_type": "code",
   "execution_count": null,
   "metadata": {},
   "outputs": [],
   "source": []
  }
 ],
 "metadata": {
  "kernelspec": {
   "display_name": ".NET (C#)",
   "language": "C#",
   "name": ".net-csharp"
  },
  "language_info": {
   "file_extension": ".cs",
   "mimetype": "text/x-csharp",
   "name": "C#",
   "pygments_lexer": "csharp",
   "version": "8.0"
  },
  "toc": {
   "base_numbering": 1,
   "nav_menu": {},
   "number_sections": true,
   "sideBar": true,
   "skip_h1_title": false,
   "title_cell": "Table of Contents",
   "title_sidebar": "Contents",
   "toc_cell": false,
   "toc_position": {},
   "toc_section_display": true,
   "toc_window_display": false
  }
 },
 "nbformat": 4,
 "nbformat_minor": 4
}
