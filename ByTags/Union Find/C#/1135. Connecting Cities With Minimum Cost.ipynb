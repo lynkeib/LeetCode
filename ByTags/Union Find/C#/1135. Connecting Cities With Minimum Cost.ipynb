{
 "cells": [
  {
   "cell_type": "code",
   "execution_count": 1,
   "metadata": {
    "ExecuteTime": {
     "end_time": "2020-05-15T04:09:49.0693990Z",
     "start_time": "2020-05-15T04:09:47.630Z"
    }
   },
   "outputs": [],
   "source": [
    "public class Solution {\n",
    "    public int MinimumCost(int N, int[][] connections) {\n",
    "        Array.Sort(connections, (a, b) => a[2].CompareTo(b[2]));\n",
    "        var uf = new int[N];\n",
    "        for(int i = 0; i < N; i++){\n",
    "            uf[i] = i;\n",
    "        }\n",
    "        var totalCost = 0;\n",
    "        var totalEdges = 0;\n",
    "        foreach(var conn in connections){\n",
    "            var city1 = conn[0] - 1;\n",
    "            var city2 = conn[1] - 1;\n",
    "            var cost = conn[2];\n",
    "            \n",
    "            var p_city1 = find(uf, city1);\n",
    "            var p_city2 = find(uf, city2);\n",
    "            \n",
    "            if(p_city1 != p_city2){\n",
    "                totalCost += cost;\n",
    "                uf[p_city2] = p_city1;\n",
    "                totalEdges++;\n",
    "            }\n",
    "        }\n",
    "        return totalEdges == N - 1? totalCost : -1;\n",
    "    }\n",
    "    \n",
    "    public int find(int[] uf, int node){\n",
    "        while(node != uf[node]){\n",
    "            node = uf[node];\n",
    "        }\n",
    "        return node;\n",
    "    }\n",
    "}"
   ]
  },
  {
   "cell_type": "code",
   "execution_count": null,
   "metadata": {},
   "outputs": [],
   "source": []
  }
 ],
 "metadata": {
  "kernelspec": {
   "display_name": ".NET (C#)",
   "language": "C#",
   "name": ".net-csharp"
  },
  "language_info": {
   "file_extension": ".cs",
   "mimetype": "text/x-csharp",
   "name": "C#",
   "pygments_lexer": "csharp",
   "version": "8.0"
  },
  "toc": {
   "base_numbering": 1,
   "nav_menu": {},
   "number_sections": true,
   "sideBar": true,
   "skip_h1_title": false,
   "title_cell": "Table of Contents",
   "title_sidebar": "Contents",
   "toc_cell": false,
   "toc_position": {},
   "toc_section_display": true,
   "toc_window_display": false
  }
 },
 "nbformat": 4,
 "nbformat_minor": 4
}
