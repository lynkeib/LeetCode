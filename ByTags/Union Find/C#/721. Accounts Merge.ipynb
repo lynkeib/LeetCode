{
 "cells": [
  {
   "cell_type": "code",
   "execution_count": 1,
   "metadata": {
    "ExecuteTime": {
     "end_time": "2020-05-14T05:51:41.0701030Z",
     "start_time": "2020-05-14T05:51:39.607Z"
    }
   },
   "outputs": [],
   "source": [
    "public class Solution {\n",
    "    public IList<IList<string>> AccountsMerge(IList<IList<string>> accounts) {\n",
    "        var emailMap = new Dictionary<string, int>();\n",
    "        var mapEmail = new Dictionary<int, string>();\n",
    "        var emailName = new Dictionary<string, string>();\n",
    "        var count = 0;\n",
    "        foreach(var list in accounts){\n",
    "            var name = list[0];\n",
    "            for(int i = 1; i < list.Count; i++){\n",
    "                var email = list[i];\n",
    "                if(!emailMap.ContainsKey(email)){\n",
    "                    emailMap[email] = count;\n",
    "                    mapEmail[count] = email;\n",
    "                    emailName[email] = name;\n",
    "                    count++;\n",
    "                }\n",
    "            }\n",
    "        }\n",
    "        // Console.WriteLine(count);\n",
    "        var uf = new int[count];\n",
    "        for(int i = 0; i < count; i++) uf[i] = i;\n",
    "        foreach(var list in accounts){\n",
    "            var name = list[0];\n",
    "            var p_email = list[1];\n",
    "            var p_node = emailMap[p_email];\n",
    "            var p = find(uf, p_node);\n",
    "            for(int i = 2; i < list.Count; i++){\n",
    "                var email = list[i];\n",
    "                var n_node = emailMap[email];\n",
    "                var p_n = find(uf, n_node);\n",
    "                uf[p_n] = p;\n",
    "            }\n",
    "        }\n",
    "        var resDict = new Dictionary<int, List<string>>();\n",
    "        for(var index = 0; index < uf.Length; index++){\n",
    "            var p = find(uf, uf[index]);\n",
    "            if(!resDict.ContainsKey(p)){\n",
    "                resDict[p] = new List<string>();\n",
    "            }\n",
    "            resDict[p].Add(mapEmail[index]);\n",
    "        }\n",
    "        var res = new List<IList<string>>();\n",
    "        foreach(var key in resDict.Keys){\n",
    "            var thisres = new List<string>();\n",
    "            var email = mapEmail[key];\n",
    "            thisres.Add(emailName[email]);\n",
    "            var emails = resDict[key].ToArray();\n",
    "            Array.Sort(emails);\n",
    "            var resEmails = emails.ToList();\n",
    "            // var resEmails = resDict[key];\n",
    "            foreach(var e in resEmails){\n",
    "                thisres.Add(e);\n",
    "            }\n",
    "            res.Add(thisres);\n",
    "        }\n",
    "        return res;\n",
    "    }\n",
    "    \n",
    "    public int find(int[] uf, int node){\n",
    "        while(uf[node] != node){\n",
    "            node = uf[node];\n",
    "        }\n",
    "        return node;\n",
    "    }\n",
    "}"
   ]
  },
  {
   "cell_type": "code",
   "execution_count": null,
   "metadata": {},
   "outputs": [],
   "source": []
  }
 ],
 "metadata": {
  "kernelspec": {
   "display_name": ".NET (C#)",
   "language": "C#",
   "name": ".net-csharp"
  },
  "language_info": {
   "file_extension": ".cs",
   "mimetype": "text/x-csharp",
   "name": "C#",
   "pygments_lexer": "csharp",
   "version": "8.0"
  },
  "toc": {
   "base_numbering": 1,
   "nav_menu": {},
   "number_sections": true,
   "sideBar": true,
   "skip_h1_title": false,
   "title_cell": "Table of Contents",
   "title_sidebar": "Contents",
   "toc_cell": false,
   "toc_position": {},
   "toc_section_display": true,
   "toc_window_display": false
  }
 },
 "nbformat": 4,
 "nbformat_minor": 4
}
