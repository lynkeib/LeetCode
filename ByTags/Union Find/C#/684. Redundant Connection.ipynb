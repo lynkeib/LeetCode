{
 "cells": [
  {
   "cell_type": "code",
   "execution_count": 1,
   "metadata": {
    "ExecuteTime": {
     "end_time": "2020-05-15T04:15:50.1509330Z",
     "start_time": "2020-05-15T04:15:48.904Z"
    }
   },
   "outputs": [],
   "source": [
    "public class Solution {\n",
    "    public int[] FindRedundantConnection(int[][] edges) {\n",
    "        var res = new int[2];\n",
    "        var n = edges.Length;\n",
    "        var uf = new int[n];\n",
    "        for(int i = 0; i < n; i++){\n",
    "            uf[i] = i;\n",
    "        }\n",
    "        foreach(var e in edges){\n",
    "            var n1 = e[0] - 1;\n",
    "            var n2 = e[1] - 1;\n",
    "            \n",
    "            var p_n1 = find(uf, n1);\n",
    "            var p_n2 = find(uf, n2);\n",
    "            if(p_n1 == p_n2){\n",
    "                res = e;\n",
    "            }else{\n",
    "                uf[p_n2] = p_n1;\n",
    "            }\n",
    "        }\n",
    "        return res;\n",
    "    }\n",
    "    \n",
    "    public int find(int[] uf, int node){\n",
    "        while(node != uf[node]){\n",
    "            node = uf[node];\n",
    "        }\n",
    "        return node;\n",
    "    }\n",
    "}"
   ]
  },
  {
   "cell_type": "code",
   "execution_count": null,
   "metadata": {},
   "outputs": [],
   "source": []
  }
 ],
 "metadata": {
  "kernelspec": {
   "display_name": ".NET (C#)",
   "language": "C#",
   "name": ".net-csharp"
  },
  "language_info": {
   "file_extension": ".cs",
   "mimetype": "text/x-csharp",
   "name": "C#",
   "pygments_lexer": "csharp",
   "version": "8.0"
  },
  "toc": {
   "base_numbering": 1,
   "nav_menu": {},
   "number_sections": true,
   "sideBar": true,
   "skip_h1_title": false,
   "title_cell": "Table of Contents",
   "title_sidebar": "Contents",
   "toc_cell": false,
   "toc_position": {},
   "toc_section_display": true,
   "toc_window_display": false
  }
 },
 "nbformat": 4,
 "nbformat_minor": 4
}
