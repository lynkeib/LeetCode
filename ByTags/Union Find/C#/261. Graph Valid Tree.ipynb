{
 "cells": [
  {
   "cell_type": "code",
   "execution_count": 1,
   "metadata": {},
   "outputs": [],
   "source": [
    "public class Solution {\n",
    "    public bool ValidTree(int n, int[][] edges) {\n",
    "        int[] components = new int[n];\n",
    "        for(int i=0; i < n; i++){\n",
    "            components[i] = i;\n",
    "        }\n",
    "        foreach(int[] edge in edges){\n",
    "            int n1 = edge[0], n2 = edge[1];\n",
    "            int p1 = dfs(n1, components), p2 = dfs(n2, components);\n",
    "            if(p1 == p2){\n",
    "                return false;\n",
    "            }\n",
    "            components[p2] = p1;\n",
    "        }\n",
    "        return edges.Length == n-1;\n",
    "    }\n",
    "    \n",
    "    public int dfs(int node, int[] components){\n",
    "        if(node == components[node]){\n",
    "            return node;\n",
    "        }\n",
    "        return dfs(components[node], components);\n",
    "    }\n",
    "}"
   ]
  },
  {
   "cell_type": "code",
   "execution_count": null,
   "metadata": {},
   "outputs": [],
   "source": []
  }
 ],
 "metadata": {
  "kernelspec": {
   "display_name": ".NET (C#)",
   "language": "C#",
   "name": ".net-csharp"
  },
  "language_info": {
   "file_extension": ".cs",
   "mimetype": "text/x-csharp",
   "name": "C#",
   "pygments_lexer": "csharp",
   "version": "8.0"
  },
  "toc": {
   "base_numbering": 1,
   "nav_menu": {},
   "number_sections": true,
   "sideBar": true,
   "skip_h1_title": false,
   "title_cell": "Table of Contents",
   "title_sidebar": "Contents",
   "toc_cell": false,
   "toc_position": {},
   "toc_section_display": true,
   "toc_window_display": false
  }
 },
 "nbformat": 4,
 "nbformat_minor": 4
}
