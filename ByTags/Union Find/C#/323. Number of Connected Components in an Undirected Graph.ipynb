{
 "cells": [
  {
   "cell_type": "code",
   "execution_count": 1,
   "metadata": {},
   "outputs": [],
   "source": [
    "public class Solution {\n",
    "    public int CountComponents(int n, int[][] edges) {\n",
    "        int[] components = new int[n];\n",
    "        for(int i=0;i<n;i++) components[i] = i;\n",
    "        foreach(int[] pair in edges){\n",
    "            int n1 = Find(pair[0], components);\n",
    "            int n2 = Find(pair[1], components);\n",
    "            if(n1 != n2){\n",
    "                components[n2] = n1;\n",
    "                n--;\n",
    "            }\n",
    "        }\n",
    "        return n;\n",
    "    }\n",
    "    public int Find(int n, int[] components){\n",
    "        while(n != components[n]){\n",
    "            n = components[n];\n",
    "        }\n",
    "        return n;\n",
    "    }\n",
    "}"
   ]
  },
  {
   "cell_type": "code",
   "execution_count": null,
   "metadata": {},
   "outputs": [],
   "source": []
  }
 ],
 "metadata": {
  "kernelspec": {
   "display_name": ".NET (C#)",
   "language": "C#",
   "name": ".net-csharp"
  },
  "language_info": {
   "file_extension": ".cs",
   "mimetype": "text/x-csharp",
   "name": "C#",
   "pygments_lexer": "csharp",
   "version": "8.0"
  },
  "toc": {
   "base_numbering": 1,
   "nav_menu": {},
   "number_sections": true,
   "sideBar": true,
   "skip_h1_title": false,
   "title_cell": "Table of Contents",
   "title_sidebar": "Contents",
   "toc_cell": false,
   "toc_position": {},
   "toc_section_display": true,
   "toc_window_display": false
  }
 },
 "nbformat": 4,
 "nbformat_minor": 4
}
