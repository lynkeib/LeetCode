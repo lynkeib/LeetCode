{
 "cells": [
  {
   "cell_type": "code",
   "execution_count": 1,
   "metadata": {
    "ExecuteTime": {
     "end_time": "2020-07-07T03:19:21.695771Z",
     "start_time": "2020-07-07T03:19:21.687914Z"
    }
   },
   "outputs": [],
   "source": [
    "class Solution(object):\n",
    "    def findCircleNum(self, M):\n",
    "        \"\"\"\n",
    "        :type M: List[List[int]]\n",
    "        :rtype: int\n",
    "        \"\"\"\n",
    "        N = len(M)\n",
    "        if N == 0:\n",
    "            return 0\n",
    "        parents = [i for i in range(N)]\n",
    "        res = N\n",
    "        for row in range(N):\n",
    "            for col in range(row + 1, N):\n",
    "                if M[row][col] == 1:\n",
    "                    p1, p2 = self.find(parents, row), self.find(parents, col)\n",
    "                    if p1 != p2:\n",
    "                        res-=1\n",
    "                        parents[p1] = p2\n",
    "        return res\n",
    "    \n",
    "    def find(self, parents, num):\n",
    "        if parents[num] != num:\n",
    "            return self.find(parents, parents[num])\n",
    "        return num"
   ]
  },
  {
   "cell_type": "code",
   "execution_count": null,
   "metadata": {},
   "outputs": [],
   "source": []
  }
 ],
 "metadata": {
  "kernelspec": {
   "display_name": "Python 3",
   "language": "python",
   "name": "python3"
  },
  "language_info": {
   "codemirror_mode": {
    "name": "ipython",
    "version": 3
   },
   "file_extension": ".py",
   "mimetype": "text/x-python",
   "name": "python",
   "nbconvert_exporter": "python",
   "pygments_lexer": "ipython3",
   "version": "3.7.4"
  },
  "toc": {
   "base_numbering": 1,
   "nav_menu": {},
   "number_sections": true,
   "sideBar": true,
   "skip_h1_title": false,
   "title_cell": "Table of Contents",
   "title_sidebar": "Contents",
   "toc_cell": false,
   "toc_position": {},
   "toc_section_display": true,
   "toc_window_display": false
  }
 },
 "nbformat": 4,
 "nbformat_minor": 4
}
