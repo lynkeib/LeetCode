{
 "cells": [
  {
   "cell_type": "markdown",
   "metadata": {},
   "source": [
    "# TLE"
   ]
  },
  {
   "cell_type": "code",
   "execution_count": 1,
   "metadata": {},
   "outputs": [],
   "source": [
    "public class TwoSum {\n",
    "\n",
    "    HashSet<int> num;\n",
    "    HashSet<int> sum;\n",
    "\n",
    "    /** Initialize your data structure here. */\n",
    "    public TwoSum () {\n",
    "        num = new HashSet<int> ();\n",
    "        sum = new HashSet<int> ();\n",
    "    }\n",
    "\n",
    "    /** Add the number to an internal data structure.. */\n",
    "    public void Add (int number) {\n",
    "        if (!num.Contains (number)) {\n",
    "            foreach (int n in num) sum.Add (n + number);\n",
    "            num.Add (number);\n",
    "        }\n",
    "    }\n",
    "\n",
    "    /** Find if there exists any pair of numbers which sum is equal to the value. */\n",
    "    public bool Find (int value) {\n",
    "        return sum.Contains (value);\n",
    "    }\n",
    "}\n",
    "\n",
    "/**\n",
    " * Your TwoSum object will be instantiated and called as such:\n",
    " * TwoSum obj = new TwoSum();\n",
    " * obj.Add(number);\n",
    " * bool param_2 = obj.Find(value);\n",
    " */"
   ]
  },
  {
   "cell_type": "markdown",
   "metadata": {},
   "source": [
    "# Dictionary"
   ]
  },
  {
   "cell_type": "code",
   "execution_count": 3,
   "metadata": {},
   "outputs": [],
   "source": [
    "public class TwoSum {\n",
    "\n",
    "    Dictionary<int, int> map;\n",
    "\n",
    "    /** Initialize your data structure here. */\n",
    "    public TwoSum() {\n",
    "        map = new Dictionary<int, int>();\n",
    "    }\n",
    "    \n",
    "    /** Add the number to an internal data structure.. */\n",
    "    public void Add(int number) {\n",
    "        if(map.ContainsKey(number)) map[number]++;\n",
    "        else map[number] = 1;\n",
    "        return;\n",
    "    }\n",
    "    \n",
    "    /** Find if there exists any pair of numbers which sum is equal to the value. */\n",
    "    public bool Find(int value) {\n",
    "        foreach(int key in map.Keys){\n",
    "            int other = value - key;\n",
    "            if(other != key){\n",
    "                if(map.ContainsKey(other)){\n",
    "                    return true;\n",
    "                }\n",
    "            }else{\n",
    "                if(map.ContainsKey(other) && map[other] >= 2){\n",
    "                    return true;\n",
    "                }\n",
    "            }\n",
    "        }\n",
    "        return false;\n",
    "    }\n",
    "}\n",
    "\n",
    "/**\n",
    " * Your TwoSum object will be instantiated and called as such:\n",
    " * TwoSum obj = new TwoSum();\n",
    " * obj.Add(number);\n",
    " * bool param_2 = obj.Find(value);\n",
    " */"
   ]
  },
  {
   "cell_type": "code",
   "execution_count": null,
   "metadata": {},
   "outputs": [],
   "source": []
  }
 ],
 "metadata": {
  "kernelspec": {
   "display_name": ".NET (C#)",
   "language": "C#",
   "name": ".net-csharp"
  },
  "language_info": {
   "file_extension": ".cs",
   "mimetype": "text/x-csharp",
   "name": "C#",
   "pygments_lexer": "csharp",
   "version": "8.0"
  },
  "toc": {
   "base_numbering": 1,
   "nav_menu": {},
   "number_sections": true,
   "sideBar": true,
   "skip_h1_title": false,
   "title_cell": "Table of Contents",
   "title_sidebar": "Contents",
   "toc_cell": false,
   "toc_position": {},
   "toc_section_display": true,
   "toc_window_display": false
  }
 },
 "nbformat": 4,
 "nbformat_minor": 4
}
