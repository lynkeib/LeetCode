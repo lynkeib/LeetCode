{
 "cells": [
  {
   "cell_type": "code",
   "execution_count": 1,
   "metadata": {},
   "outputs": [],
   "source": [
    "public class HitCounter {\n",
    "\n",
    "    const int limit = 5 * 60;\n",
    "    Queue<int> queue;\n",
    "\n",
    "    /** Initialize your data structure here. */\n",
    "    public HitCounter () {\n",
    "        queue = new Queue<int> ();\n",
    "    }\n",
    "\n",
    "    /** Record a hit.\n",
    "        @param timestamp - The current timestamp (in seconds granularity). */\n",
    "    public void Hit (int timestamp) {\n",
    "        queue.Enqueue (timestamp);\n",
    "    }\n",
    "\n",
    "    /** Return the number of hits in the past 5 minutes.\n",
    "        @param timestamp - The current timestamp (in seconds granularity). */\n",
    "    public int GetHits (int timestamp) {\n",
    "        int lastone = timestamp - limit;\n",
    "        while (queue.Count != 0 && queue.Peek () <= lastone) {\n",
    "            queue.Dequeue();\n",
    "        }\n",
    "        return queue.Count;\n",
    "    }\n",
    "}\n",
    "\n",
    "/**\n",
    " * Your HitCounter object will be instantiated and called as such:\n",
    " * HitCounter obj = new HitCounter();\n",
    " * obj.Hit(timestamp);\n",
    " * int param_2 = obj.GetHits(timestamp);\n",
    " */"
   ]
  },
  {
   "cell_type": "code",
   "execution_count": null,
   "metadata": {},
   "outputs": [],
   "source": []
  }
 ],
 "metadata": {
  "kernelspec": {
   "display_name": ".NET (C#)",
   "language": "C#",
   "name": ".net-csharp"
  },
  "language_info": {
   "file_extension": ".cs",
   "mimetype": "text/x-csharp",
   "name": "C#",
   "pygments_lexer": "csharp",
   "version": "8.0"
  },
  "toc": {
   "base_numbering": 1,
   "nav_menu": {},
   "number_sections": true,
   "sideBar": true,
   "skip_h1_title": false,
   "title_cell": "Table of Contents",
   "title_sidebar": "Contents",
   "toc_cell": false,
   "toc_position": {},
   "toc_section_display": true,
   "toc_window_display": false
  }
 },
 "nbformat": 4,
 "nbformat_minor": 4
}
