{
 "cells": [
  {
   "cell_type": "code",
   "execution_count": 1,
   "metadata": {},
   "outputs": [],
   "source": [
    "public class Logger {\n",
    "\n",
    "    Dictionary<string, int> messeages;\n",
    "\n",
    "    /** Initialize your data structure here. */\n",
    "    public Logger() {\n",
    "        messeages = new Dictionary<string, int>();\n",
    "    }\n",
    "    \n",
    "    /** Returns true if the message should be printed in the given timestamp, otherwise returns false.\n",
    "        If this method returns false, the message will not be printed.\n",
    "        The timestamp is in seconds granularity. */\n",
    "    public bool ShouldPrintMessage(int timestamp, string message) {\n",
    "        if(messeages.ContainsKey(message)){\n",
    "            if(timestamp - messeages[message] >= 10){\n",
    "                messeages[message] = timestamp;\n",
    "                return true;\n",
    "            }else{\n",
    "                return false;\n",
    "            }\n",
    "        }else{\n",
    "            messeages[message] = timestamp;\n",
    "            return true;\n",
    "        }\n",
    "    }\n",
    "}\n",
    "\n",
    "/**\n",
    " * Your Logger object will be instantiated and called as such:\n",
    " * Logger obj = new Logger();\n",
    " * bool param_1 = obj.ShouldPrintMessage(timestamp,message);\n",
    " */"
   ]
  },
  {
   "cell_type": "code",
   "execution_count": null,
   "metadata": {},
   "outputs": [],
   "source": []
  }
 ],
 "metadata": {
  "kernelspec": {
   "display_name": ".NET (C#)",
   "language": "C#",
   "name": ".net-csharp"
  },
  "language_info": {
   "file_extension": ".cs",
   "mimetype": "text/x-csharp",
   "name": "C#",
   "pygments_lexer": "csharp",
   "version": "8.0"
  },
  "toc": {
   "base_numbering": 1,
   "nav_menu": {},
   "number_sections": true,
   "sideBar": true,
   "skip_h1_title": false,
   "title_cell": "Table of Contents",
   "title_sidebar": "Contents",
   "toc_cell": false,
   "toc_position": {},
   "toc_section_display": true,
   "toc_window_display": false
  }
 },
 "nbformat": 4,
 "nbformat_minor": 4
}
