{
 "cells": [
  {
   "cell_type": "code",
   "execution_count": 1,
   "metadata": {
    "ExecuteTime": {
     "end_time": "2020-04-25T19:00:03.3547460Z",
     "start_time": "2020-04-25T19:00:02.045Z"
    }
   },
   "outputs": [],
   "source": [
    "public class Solution {\n",
    "    public bool CanAttendMeetings(int[][] intervals) {\n",
    "        var sortedIntervals = intervals.OrderBy(x => x[0]).ToArray();\n",
    "        for (int i = 1; i < sortedIntervals.Length; i++)\n",
    "        {\n",
    "            if (sortedIntervals[i][0] < sortedIntervals[i - 1][1])\n",
    "                return false;\n",
    "        }\n",
    "        return true;\n",
    "    }\n",
    "}"
   ]
  },
  {
   "cell_type": "code",
   "execution_count": null,
   "metadata": {},
   "outputs": [],
   "source": []
  }
 ],
 "metadata": {
  "kernelspec": {
   "display_name": ".NET (C#)",
   "language": "C#",
   "name": ".net-csharp"
  },
  "language_info": {
   "file_extension": ".cs",
   "mimetype": "text/x-csharp",
   "name": "C#",
   "pygments_lexer": "csharp",
   "version": "8.0"
  },
  "toc": {
   "base_numbering": 1,
   "nav_menu": {},
   "number_sections": true,
   "sideBar": true,
   "skip_h1_title": false,
   "title_cell": "Table of Contents",
   "title_sidebar": "Contents",
   "toc_cell": false,
   "toc_position": {},
   "toc_section_display": true,
   "toc_window_display": false
  }
 },
 "nbformat": 4,
 "nbformat_minor": 4
}
