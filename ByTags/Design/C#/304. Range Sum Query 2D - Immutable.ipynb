{
 "cells": [
  {
   "cell_type": "code",
   "execution_count": 1,
   "metadata": {},
   "outputs": [],
   "source": [
    "public class NumMatrix {\n",
    "\n",
    "    Dictionary<int, Dictionary<int, int>> sum_position;\n",
    "\n",
    "    public NumMatrix (int[][] matrix) {\n",
    "        if (matrix.Length == 0) {\n",
    "            sum_position = new Dictionary<int, Dictionary<int, int>> ();\n",
    "        } else {\n",
    "            sum_position = new Dictionary<int, Dictionary<int, int>> ();\n",
    "            for (int i = -1; i < matrix.Length; i++) {\n",
    "                sum_position[i] = new Dictionary<int, int> ();\n",
    "            }\n",
    "            sum_position[-1][-1] = 0;\n",
    "\n",
    "            for (int i = 0; i < matrix.Length; i++) {\n",
    "                sum_position[i][-1] = 0;\n",
    "            }\n",
    "            for (int j = 0; j < matrix[0].Length; j++) {\n",
    "                sum_position[-1][j] = 0;\n",
    "            }\n",
    "\n",
    "            for (int i = 0; i < matrix.Length; i++) {\n",
    "                for (int j = 0; j < matrix[0].Length; j++) {\n",
    "                    sum_position[i][j] = sum_position[i - 1][j] + sum_position[i][j - 1] - sum_position[i - 1][j - 1] + matrix[i][j];\n",
    "                }\n",
    "            }\n",
    "        }\n",
    "\n",
    "    }\n",
    "\n",
    "    public int SumRegion (int row1, int col1, int row2, int col2) {\n",
    "        // upper\n",
    "        int upper = sum_position[row1 - 1][col2] - sum_position[row1 - 1][col1 - 1];\n",
    "        // left\n",
    "        int left = sum_position[row2][col1 - 1] - sum_position[row1 - 1][col1 - 1];\n",
    "        // upper-left\n",
    "        int upper_left = sum_position[row1 - 1][col1 - 1];\n",
    "        return sum_position[row2][col2] - upper - left - upper_left;\n",
    "    }\n",
    "}\n",
    "\n",
    "/**\n",
    " * Your NumMatrix object will be instantiated and called as such:\n",
    " * NumMatrix obj = new NumMatrix(matrix);\n",
    " * int param_1 = obj.SumRegion(row1,col1,row2,col2);\n",
    " */"
   ]
  },
  {
   "cell_type": "code",
   "execution_count": null,
   "metadata": {},
   "outputs": [],
   "source": []
  }
 ],
 "metadata": {
  "kernelspec": {
   "display_name": ".NET (C#)",
   "language": "C#",
   "name": ".net-csharp"
  },
  "language_info": {
   "file_extension": ".cs",
   "mimetype": "text/x-csharp",
   "name": "C#",
   "pygments_lexer": "csharp",
   "version": "8.0"
  },
  "toc": {
   "base_numbering": 1,
   "nav_menu": {},
   "number_sections": true,
   "sideBar": true,
   "skip_h1_title": false,
   "title_cell": "Table of Contents",
   "title_sidebar": "Contents",
   "toc_cell": false,
   "toc_position": {},
   "toc_section_display": true,
   "toc_window_display": false
  }
 },
 "nbformat": 4,
 "nbformat_minor": 4
}
