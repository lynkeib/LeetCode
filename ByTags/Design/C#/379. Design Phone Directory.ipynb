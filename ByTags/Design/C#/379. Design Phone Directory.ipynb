{
 "cells": [
  {
   "cell_type": "code",
   "execution_count": 1,
   "metadata": {},
   "outputs": [],
   "source": [
    "public class PhoneDirectory {\n",
    "\n",
    "    Dictionary<int, bool> map;\n",
    "    Queue<int> queue;\n",
    "\n",
    "    /** Initialize your data structure here\n",
    "        @param maxNumbers - The maximum numbers that can be stored in the phone directory. */\n",
    "    public PhoneDirectory (int maxNumbers) {\n",
    "        map = new Dictionary<int, bool> ();\n",
    "        queue = new Queue<int> ();\n",
    "        for (int i = 0; i < maxNumbers; i++) {\n",
    "            map[i] = true;\n",
    "            queue.Enqueue (i);\n",
    "        }\n",
    "    }\n",
    "\n",
    "    /** Provide a number which is not assigned to anyone.\n",
    "        @return - Return an available number. Return -1 if none is available. */\n",
    "    public int Get () {\n",
    "        int res = -1;\n",
    "        if (queue.Count != 0) {\n",
    "            res = queue.Dequeue ();\n",
    "            map[res] = false;\n",
    "        }\n",
    "        return res;\n",
    "    }\n",
    "\n",
    "    /** Check if a number is available or not. */\n",
    "    public bool Check (int number) {\n",
    "        return map[number];\n",
    "    }\n",
    "\n",
    "    /** Recycle or release a number. */\n",
    "    public void Release (int number) {\n",
    "        if (!map[number]) {\n",
    "            map[number] = true;\n",
    "            queue.Enqueue (number);\n",
    "        }\n",
    "        return;\n",
    "    }\n",
    "}\n",
    "\n",
    "/**\n",
    " * Your PhoneDirectory object will be instantiated and called as such:\n",
    " * PhoneDirectory obj = new PhoneDirectory(maxNumbers);\n",
    " * int param_1 = obj.Get();\n",
    " * bool param_2 = obj.Check(number);\n",
    " * obj.Release(number);\n",
    " */"
   ]
  },
  {
   "cell_type": "code",
   "execution_count": null,
   "metadata": {},
   "outputs": [],
   "source": []
  }
 ],
 "metadata": {
  "kernelspec": {
   "display_name": ".NET (C#)",
   "language": "C#",
   "name": ".net-csharp"
  },
  "language_info": {
   "file_extension": ".cs",
   "mimetype": "text/x-csharp",
   "name": "C#",
   "pygments_lexer": "csharp",
   "version": "8.0"
  },
  "toc": {
   "base_numbering": 1,
   "nav_menu": {},
   "number_sections": true,
   "sideBar": true,
   "skip_h1_title": false,
   "title_cell": "Table of Contents",
   "title_sidebar": "Contents",
   "toc_cell": false,
   "toc_position": {},
   "toc_section_display": true,
   "toc_window_display": false
  }
 },
 "nbformat": 4,
 "nbformat_minor": 4
}
