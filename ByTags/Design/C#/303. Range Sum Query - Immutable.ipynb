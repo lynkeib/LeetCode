{
 "cells": [
  {
   "cell_type": "code",
   "execution_count": 1,
   "metadata": {},
   "outputs": [],
   "source": [
    "public class NumArray {\n",
    "\n",
    "    Dictionary<int, int> sum_position;\n",
    "\n",
    "    public NumArray(int[] nums) {\n",
    "        sum_position = new Dictionary<int, int>();\n",
    "        sum_position[-1] = 0;\n",
    "        int sum = 0;\n",
    "        for(int i = 0; i < nums.Length; i++){\n",
    "            sum += nums[i];\n",
    "            sum_position[i] = sum;\n",
    "        }\n",
    "    }\n",
    "    \n",
    "    public int SumRange(int i, int j) {\n",
    "        return sum_position[j] - sum_position[i - 1];\n",
    "    }\n",
    "}\n",
    "\n",
    "/**\n",
    " * Your NumArray object will be instantiated and called as such:\n",
    " * NumArray obj = new NumArray(nums);\n",
    " * int param_1 = obj.SumRange(i,j);\n",
    " */"
   ]
  },
  {
   "cell_type": "code",
   "execution_count": null,
   "metadata": {},
   "outputs": [],
   "source": []
  },
  {
   "cell_type": "code",
   "execution_count": null,
   "metadata": {},
   "outputs": [],
   "source": []
  }
 ],
 "metadata": {
  "kernelspec": {
   "display_name": ".NET (C#)",
   "language": "C#",
   "name": ".net-csharp"
  },
  "language_info": {
   "file_extension": ".cs",
   "mimetype": "text/x-csharp",
   "name": "C#",
   "pygments_lexer": "csharp",
   "version": "8.0"
  },
  "toc": {
   "base_numbering": 1,
   "nav_menu": {},
   "number_sections": true,
   "sideBar": true,
   "skip_h1_title": false,
   "title_cell": "Table of Contents",
   "title_sidebar": "Contents",
   "toc_cell": false,
   "toc_position": {},
   "toc_section_display": true,
   "toc_window_display": false
  }
 },
 "nbformat": 4,
 "nbformat_minor": 4
}
