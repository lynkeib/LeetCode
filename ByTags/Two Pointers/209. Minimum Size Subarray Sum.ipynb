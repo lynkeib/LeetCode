{
 "cells": [
  {
   "cell_type": "markdown",
   "metadata": {},
   "source": [
    "# Two Pointers"
   ]
  },
  {
   "cell_type": "code",
   "execution_count": 1,
   "metadata": {
    "ExecuteTime": {
     "end_time": "2019-09-19T22:48:14.643988Z",
     "start_time": "2019-09-19T22:48:14.637314Z"
    }
   },
   "outputs": [],
   "source": [
    "class Solution(object):\n",
    "    def minSubArrayLen(self, s, nums):\n",
    "        \"\"\"\n",
    "        :type s: int\n",
    "        :type nums: List[int]\n",
    "        :rtype: int\n",
    "        \"\"\"\n",
    "        # new_nums = [0] * (len(nums)+1)\n",
    "        res = float('inf')\n",
    "        # for index in range(len(nums)):\n",
    "        #     new_nums[index+1] = nums[index]\n",
    "        #     new_nums[index+1]+=new_nums[index]\n",
    "        # print(new_nums)\n",
    "        slow, fast = 0, 0\n",
    "        nums = [0] + nums\n",
    "        curr = 0\n",
    "        while fast < len(nums):\n",
    "            curr += nums[fast] \n",
    "            while slow < fast and curr-nums[slow+1] >= s:\n",
    "                curr -= nums[slow+1]\n",
    "                slow += 1\n",
    "            if curr >= s:\n",
    "                res = min(res, fast - slow)\n",
    "            fast += 1\n",
    "        return res if res != float('inf') else 0\n",
    "            "
   ]
  },
  {
   "cell_type": "code",
   "execution_count": null,
   "metadata": {},
   "outputs": [],
   "source": []
  }
 ],
 "metadata": {
  "kernelspec": {
   "display_name": "Python 3",
   "language": "python",
   "name": "python3"
  },
  "language_info": {
   "codemirror_mode": {
    "name": "ipython",
    "version": 3
   },
   "file_extension": ".py",
   "mimetype": "text/x-python",
   "name": "python",
   "nbconvert_exporter": "python",
   "pygments_lexer": "ipython3",
   "version": "3.7.1"
  },
  "toc": {
   "base_numbering": 1,
   "nav_menu": {},
   "number_sections": true,
   "sideBar": true,
   "skip_h1_title": false,
   "title_cell": "Table of Contents",
   "title_sidebar": "Contents",
   "toc_cell": false,
   "toc_position": {},
   "toc_section_display": true,
   "toc_window_display": false
  }
 },
 "nbformat": 4,
 "nbformat_minor": 2
}
