{
 "cells": [
  {
   "cell_type": "code",
   "execution_count": 1,
   "metadata": {
    "ExecuteTime": {
     "end_time": "2019-09-20T00:19:24.426435Z",
     "start_time": "2019-09-20T00:19:24.417539Z"
    }
   },
   "outputs": [],
   "source": [
    "class Solution(object):\n",
    "    def minWindow(self, s, t):\n",
    "        \"\"\"\n",
    "        :type s: str\n",
    "        :type t: str\n",
    "        :rtype: str\n",
    "        \"\"\"\n",
    "        counter = len(t)\n",
    "        td = collections.Counter(t)\n",
    "        slow, fast = 0, 0\n",
    "        res_start, res_end = 0, 0\n",
    "        # flag = 0\n",
    "        res= float('inf')\n",
    "        while fast < len(s):\n",
    "            if s[fast] in td:\n",
    "                if td[s[fast]] > 0:\n",
    "                    counter -= 1\n",
    "                td[s[fast]] -= 1\n",
    "            while counter == 0:\n",
    "                if fast - slow + 1 < res:\n",
    "                    res = fast - slow + 1\n",
    "                    res_start =slow\n",
    "                    res_end = fast\n",
    "                if s[slow] in td:\n",
    "                    td[s[slow]] += 1\n",
    "                    if td[s[slow]] >0:\n",
    "                        counter += 1\n",
    "                slow += 1\n",
    "            fast += 1\n",
    "        return s[res_start:res_end+1] if res != float('inf') else \"\"        "
   ]
  },
  {
   "cell_type": "code",
   "execution_count": null,
   "metadata": {},
   "outputs": [],
   "source": []
  }
 ],
 "metadata": {
  "kernelspec": {
   "display_name": "Python 3",
   "language": "python",
   "name": "python3"
  },
  "language_info": {
   "codemirror_mode": {
    "name": "ipython",
    "version": 3
   },
   "file_extension": ".py",
   "mimetype": "text/x-python",
   "name": "python",
   "nbconvert_exporter": "python",
   "pygments_lexer": "ipython3",
   "version": "3.7.1"
  },
  "toc": {
   "base_numbering": 1,
   "nav_menu": {},
   "number_sections": true,
   "sideBar": true,
   "skip_h1_title": false,
   "title_cell": "Table of Contents",
   "title_sidebar": "Contents",
   "toc_cell": false,
   "toc_position": {},
   "toc_section_display": true,
   "toc_window_display": false
  }
 },
 "nbformat": 4,
 "nbformat_minor": 2
}
