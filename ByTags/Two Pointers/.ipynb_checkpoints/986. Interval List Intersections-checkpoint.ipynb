{
 "cells": [
  {
   "cell_type": "code",
   "execution_count": 1,
   "metadata": {
    "ExecuteTime": {
     "end_time": "2019-09-20T01:07:15.242637Z",
     "start_time": "2019-09-20T01:07:15.234473Z"
    }
   },
   "outputs": [],
   "source": [
    "class Solution(object):\n",
    "    def intervalIntersection(self, A, B):\n",
    "        \"\"\"\n",
    "        :type A: List[List[int]]\n",
    "        :type B: List[List[int]]\n",
    "        :rtype: List[List[int]]\n",
    "        \"\"\"\n",
    "        index_A = 0\n",
    "        index_B = 0\n",
    "        res = []\n",
    "        while index_A < len(A) and index_B < len(B):\n",
    "            start_A, end_A = A[index_A]\n",
    "            start_B, end_B = B[index_B]\n",
    "            if start_B > end_A:\n",
    "                index_A += 1\n",
    "            elif end_A <= end_B:\n",
    "                if start_A <= start_B:\n",
    "                    res.append([start_B, end_A])\n",
    "                    index_A += 1\n",
    "                else: # satrt_A > start_B\n",
    "                    res.append([start_A, end_A])\n",
    "                    index_A += 1\n",
    "            else: # end_A > end_B\n",
    "                if start_A <= start_B:\n",
    "                    res.append([start_B, end_B])\n",
    "                    index_B += 1\n",
    "                elif start_A <= end_B:\n",
    "                    res.append([start_A, end_B])\n",
    "                    index_B += 1\n",
    "                else:\n",
    "                    index_B += 1  \n",
    "        return res"
   ]
  },
  {
   "cell_type": "code",
   "execution_count": null,
   "metadata": {},
   "outputs": [],
   "source": []
  }
 ],
 "metadata": {
  "kernelspec": {
   "display_name": "Python 3",
   "language": "python",
   "name": "python3"
  },
  "language_info": {
   "codemirror_mode": {
    "name": "ipython",
    "version": 3
   },
   "file_extension": ".py",
   "mimetype": "text/x-python",
   "name": "python",
   "nbconvert_exporter": "python",
   "pygments_lexer": "ipython3",
   "version": "3.7.1"
  },
  "toc": {
   "base_numbering": 1,
   "nav_menu": {},
   "number_sections": true,
   "sideBar": true,
   "skip_h1_title": false,
   "title_cell": "Table of Contents",
   "title_sidebar": "Contents",
   "toc_cell": false,
   "toc_position": {},
   "toc_section_display": true,
   "toc_window_display": false
  }
 },
 "nbformat": 4,
 "nbformat_minor": 2
}
