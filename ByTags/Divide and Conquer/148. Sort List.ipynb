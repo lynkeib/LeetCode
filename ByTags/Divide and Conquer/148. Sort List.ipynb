{
 "cells": [
  {
   "cell_type": "markdown",
   "metadata": {},
   "source": [
    "# Top Down"
   ]
  },
  {
   "cell_type": "code",
   "execution_count": 1,
   "metadata": {
    "ExecuteTime": {
     "end_time": "2019-09-30T04:58:30.804803Z",
     "start_time": "2019-09-30T04:58:30.794520Z"
    }
   },
   "outputs": [],
   "source": [
    "# Definition for singly-linked list.\n",
    "# class ListNode(object):\n",
    "#     def __init__(self, x):\n",
    "#         self.val = x\n",
    "#         self.next = None\n",
    "\n",
    "class Solution(object):\n",
    "    def sortList(self, head):\n",
    "        \"\"\"\n",
    "        :type head: ListNode\n",
    "        :rtype: ListNode\n",
    "        \"\"\"\n",
    "        if not head or not head.next:\n",
    "            return head\n",
    "        left, right = self.findMiddle(head)\n",
    "        left = self.sortList(left)\n",
    "        right = self.sortList(right)\n",
    "        return self.merge(left, right)\n",
    "    \n",
    "    def findMiddle(self, head):\n",
    "        slow, fast = head, head\n",
    "        while fast.next and fast.next.next:\n",
    "            slow = slow.next\n",
    "            fast = fast.next.next\n",
    "        right = slow.next\n",
    "        slow.next = None\n",
    "        return head, right\n",
    "    \n",
    "    def merge(self, head1, head2):\n",
    "        if not head1:\n",
    "            return head2\n",
    "        if not head2:\n",
    "            return head1\n",
    "        dummyhead = ListNode(0)\n",
    "        curr = dummyhead\n",
    "        while head1 and head2:\n",
    "            if head1.val > head2.val:\n",
    "                head1, head2 = head2, head1\n",
    "            curr.next = head1\n",
    "            head1 = head1.next\n",
    "            curr = curr.next\n",
    "        if head1:\n",
    "            curr.next = head1\n",
    "        if head2:\n",
    "            curr.next = head2\n",
    "        return dummyhead.next"
   ]
  },
  {
   "cell_type": "code",
   "execution_count": null,
   "metadata": {},
   "outputs": [],
   "source": []
  }
 ],
 "metadata": {
  "kernelspec": {
   "display_name": "Python 3",
   "language": "python",
   "name": "python3"
  },
  "language_info": {
   "codemirror_mode": {
    "name": "ipython",
    "version": 3
   },
   "file_extension": ".py",
   "mimetype": "text/x-python",
   "name": "python",
   "nbconvert_exporter": "python",
   "pygments_lexer": "ipython3",
   "version": "3.7.1"
  },
  "toc": {
   "base_numbering": 1,
   "nav_menu": {},
   "number_sections": true,
   "sideBar": true,
   "skip_h1_title": false,
   "title_cell": "Table of Contents",
   "title_sidebar": "Contents",
   "toc_cell": false,
   "toc_position": {},
   "toc_section_display": true,
   "toc_window_display": false
  }
 },
 "nbformat": 4,
 "nbformat_minor": 2
}
