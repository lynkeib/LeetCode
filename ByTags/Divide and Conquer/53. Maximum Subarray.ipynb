{
 "cells": [
  {
   "cell_type": "markdown",
   "metadata": {},
   "source": [
    "# Divide and Conquer"
   ]
  },
  {
   "cell_type": "code",
   "execution_count": 1,
   "metadata": {
    "ExecuteTime": {
     "end_time": "2019-09-24T22:55:39.191830Z",
     "start_time": "2019-09-24T22:55:39.182265Z"
    }
   },
   "outputs": [],
   "source": [
    "class Solution(object):\n",
    "    def maxSubArray(self, nums):\n",
    "        \"\"\"\n",
    "        :type nums: List[int]\n",
    "        :rtype: int\n",
    "        \"\"\"\n",
    "        return self.findLeftandRight(nums, 0, len(nums)-1)\n",
    "    \n",
    "    def findCross(self, nums, left, middle, right):\n",
    "        left_max = -float('inf')\n",
    "        s = 0\n",
    "        for index in range(middle, left-1, -1):\n",
    "            s += nums[index]\n",
    "            left_max = max(s, left_max)\n",
    "        right_max = -float('inf')\n",
    "        s = 0\n",
    "        for index in range(middle+1, right+1):\n",
    "            s += nums[index]\n",
    "            right_max = max(s, right_max)\n",
    "        return left_max + right_max\n",
    "    \n",
    "    def findLeftandRight(self, nums, left, right):\n",
    "        if left == right:\n",
    "            return nums[left]\n",
    "        middle = left + (right-left) / 2\n",
    "        return max(self.findLeftandRight(nums, left, middle), \n",
    "                  self.findLeftandRight(nums, middle+1, right),\n",
    "                  self.findCross(nums, left, middle, right))"
   ]
  },
  {
   "cell_type": "code",
   "execution_count": 2,
   "metadata": {
    "ExecuteTime": {
     "end_time": "2019-09-28T19:25:21.498423Z",
     "start_time": "2019-09-28T19:25:21.465965Z"
    }
   },
   "outputs": [],
   "source": [
    "class Solution(object):\n",
    "    def maxSubArray(self, nums):\n",
    "        \"\"\"\n",
    "        :type nums: List[int]\n",
    "        :rtype: int\n",
    "        \"\"\"\n",
    "        return self.left_rightMAX(nums, 0, len(nums) - 1)\n",
    "        \n",
    "    \n",
    "    def CrossMAX(self, left, mid, right, nums):\n",
    "        left_max = 0\n",
    "        s_left = 0\n",
    "        for left_index in range(mid-1, left-1, -1):\n",
    "            s_left += nums[left_index]\n",
    "            left_max = max(left_max, s_left)\n",
    "        if left_max == -float('inf'):\n",
    "            left_max = 0\n",
    "        right_max = 0\n",
    "        s_right = 0\n",
    "        for right_index in range(mid+1, right+1):\n",
    "            s_right += nums[right_index]\n",
    "            right_max = max(right_max, s_right)\n",
    "        if right_max == -float('inf'):\n",
    "            right_max = 0\n",
    "        return left_max + nums[mid] + right_max\n",
    "    \n",
    "    def left_rightMAX(self, nums, left, right):\n",
    "        if left > right:\n",
    "            return -float('inf')\n",
    "        if left == right:\n",
    "            return nums[left]\n",
    "        mid = left + (right - left) // 2\n",
    "        return max(self.left_rightMAX(nums, left, mid - 1),\n",
    "                   self.left_rightMAX(nums, mid + 1, right), \n",
    "                   self.CrossMAX(left, mid, right,nums), \n",
    "                   nums[mid])\n"
   ]
  },
  {
   "cell_type": "markdown",
   "metadata": {},
   "source": [
    "# Greedy"
   ]
  },
  {
   "cell_type": "code",
   "execution_count": 2,
   "metadata": {
    "ExecuteTime": {
     "end_time": "2019-09-24T22:57:38.481207Z",
     "start_time": "2019-09-24T22:57:38.475400Z"
    }
   },
   "outputs": [],
   "source": [
    "class Solution(object):\n",
    "    def maxSubArray(self, nums):\n",
    "        \"\"\"\n",
    "        :type nums: List[int]\n",
    "        :rtype: int\n",
    "        \"\"\"\n",
    "        res = nums[0]\n",
    "        for index in range(1, len(nums)):\n",
    "            if nums[index-1] + nums[index] > nums[index]:\n",
    "                nums[index] = nums[index-1] + nums[index]\n",
    "            res = max(nums[index], res)\n",
    "        return res"
   ]
  },
  {
   "cell_type": "code",
   "execution_count": 1,
   "metadata": {
    "ExecuteTime": {
     "end_time": "2019-09-26T19:50:11.231178Z",
     "start_time": "2019-09-26T19:50:11.222049Z"
    }
   },
   "outputs": [
    {
     "data": {
      "text/plain": [
       "[5, 4, 3, 2]"
      ]
     },
     "execution_count": 1,
     "metadata": {},
     "output_type": "execute_result"
    }
   ],
   "source": [
    "list(range(5, 1, -1))"
   ]
  },
  {
   "cell_type": "code",
   "execution_count": null,
   "metadata": {},
   "outputs": [],
   "source": []
  }
 ],
 "metadata": {
  "kernelspec": {
   "display_name": "Python 3",
   "language": "python",
   "name": "python3"
  },
  "language_info": {
   "codemirror_mode": {
    "name": "ipython",
    "version": 3
   },
   "file_extension": ".py",
   "mimetype": "text/x-python",
   "name": "python",
   "nbconvert_exporter": "python",
   "pygments_lexer": "ipython3",
   "version": "3.7.1"
  },
  "toc": {
   "base_numbering": 1,
   "nav_menu": {},
   "number_sections": true,
   "sideBar": true,
   "skip_h1_title": false,
   "title_cell": "Table of Contents",
   "title_sidebar": "Contents",
   "toc_cell": false,
   "toc_position": {},
   "toc_section_display": true,
   "toc_window_display": false
  }
 },
 "nbformat": 4,
 "nbformat_minor": 2
}
