{
 "cells": [
  {
   "cell_type": "code",
   "execution_count": 2,
   "metadata": {
    "ExecuteTime": {
     "end_time": "2019-09-25T02:13:18.662752Z",
     "start_time": "2019-09-25T02:13:18.653737Z"
    }
   },
   "outputs": [],
   "source": [
    "class Solution(object):\n",
    "    def searchMatrix(self, matrix, target):\n",
    "        \"\"\"\n",
    "        :type matrix: List[List[int]]\n",
    "        :type target: int\n",
    "        :rtype: bool\n",
    "        \"\"\"\n",
    "        if not matrix:\n",
    "            return False\n",
    "        if len(matrix[0]) == 0:\n",
    "            return False\n",
    "        start, end = 0, len(matrix) - 1\n",
    "        while start <= end:\n",
    "            mid_row = start + (end - start) // 2\n",
    "            if matrix[mid_row][0] > target:\n",
    "                end = mid_row - 1\n",
    "                continue\n",
    "            if matrix[mid_row][-1] < target:\n",
    "                start = mid_row + 1\n",
    "                continue\n",
    "            left, right = 0, len(matrix[0]) - 1\n",
    "            while left <= right:\n",
    "                mid = left + (right - left) //2\n",
    "                if matrix[mid_row][mid] == target:\n",
    "                    return True\n",
    "                if matrix[mid_row][mid] < target:\n",
    "                    left = mid + 1\n",
    "                else:\n",
    "                    right = mid - 1\n",
    "            return False\n",
    "        return False       "
   ]
  }
 ],
 "metadata": {
  "kernelspec": {
   "display_name": "Python 3",
   "language": "python",
   "name": "python3"
  },
  "language_info": {
   "codemirror_mode": {
    "name": "ipython",
    "version": 3
   },
   "file_extension": ".py",
   "mimetype": "text/x-python",
   "name": "python",
   "nbconvert_exporter": "python",
   "pygments_lexer": "ipython3",
   "version": "3.7.1"
  },
  "toc": {
   "base_numbering": 1,
   "nav_menu": {},
   "number_sections": true,
   "sideBar": true,
   "skip_h1_title": false,
   "title_cell": "Table of Contents",
   "title_sidebar": "Contents",
   "toc_cell": false,
   "toc_position": {},
   "toc_section_display": true,
   "toc_window_display": false
  }
 },
 "nbformat": 4,
 "nbformat_minor": 2
}
