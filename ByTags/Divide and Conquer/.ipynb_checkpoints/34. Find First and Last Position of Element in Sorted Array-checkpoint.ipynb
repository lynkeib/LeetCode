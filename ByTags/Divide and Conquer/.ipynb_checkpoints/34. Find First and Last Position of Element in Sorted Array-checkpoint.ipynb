{
 "cells": [
  {
   "cell_type": "markdown",
   "metadata": {},
   "source": [
    "# Recursive"
   ]
  },
  {
   "cell_type": "code",
   "execution_count": 1,
   "metadata": {
    "ExecuteTime": {
     "end_time": "2019-09-28T22:07:46.894799Z",
     "start_time": "2019-09-28T22:07:46.881623Z"
    }
   },
   "outputs": [],
   "source": [
    "class Solution(object):\n",
    "    def searchRange(self, nums, target):\n",
    "        \"\"\"\n",
    "        :type nums: List[int]\n",
    "        :type target: int\n",
    "        :rtype: List[int]\n",
    "        \"\"\"\n",
    "        res = [-1, -1]\n",
    "        left, right = 0, len(nums) - 1\n",
    "        while left <= right:\n",
    "            mid = left + (right - left) // 2\n",
    "            if nums[mid] == target:\n",
    "                res = [mid, mid]\n",
    "                self.findLeftTarget(left, mid - 1, nums, target, res)\n",
    "                self.findRightTarget(mid + 1, right, nums, target, res)\n",
    "                return res\n",
    "            if nums[mid] < target:\n",
    "                left = mid + 1\n",
    "            else:\n",
    "                right = mid - 1\n",
    "        return res\n",
    "        \n",
    "    def findLeftTarget(self, left, right, nums, target, res):\n",
    "        if left > right:\n",
    "            return \n",
    "        if left == right and nums[left] == target:\n",
    "            res[0] = left\n",
    "            return\n",
    "        if left == right:\n",
    "            return\n",
    "        mid = left + (right - left) // 2\n",
    "        if nums[mid] == target:\n",
    "            res[0] = mid\n",
    "            self.findLeftTarget(left, mid-1, nums, target, res)\n",
    "        elif nums[mid] < target:\n",
    "            self.findLeftTarget(mid+1, right, nums, target, res)\n",
    "        return \n",
    "    \n",
    "    def findRightTarget(self, left, right, nums, target, res):\n",
    "        if left > right:\n",
    "            return \n",
    "        if left == right and nums[left] == target:\n",
    "            res[1] = left\n",
    "            return\n",
    "        if left == right:\n",
    "            return\n",
    "        mid = left + (right - left) // 2\n",
    "        if nums[mid] == target:\n",
    "            res[1] = mid\n",
    "            self.findRightTarget(mid + 1, right, nums, target, res)\n",
    "        elif nums[mid] > target:\n",
    "            self.findRightTarget(left, mid - 1, nums, target, res)\n",
    "        return "
   ]
  },
  {
   "cell_type": "markdown",
   "metadata": {},
   "source": [
    "# Iterative"
   ]
  },
  {
   "cell_type": "code",
   "execution_count": 2,
   "metadata": {
    "ExecuteTime": {
     "end_time": "2019-09-28T22:19:16.771121Z",
     "start_time": "2019-09-28T22:19:16.763257Z"
    }
   },
   "outputs": [],
   "source": [
    "class Solution(object):\n",
    "    def searchRange(self, nums, target):\n",
    "        \"\"\"\n",
    "        :type nums: List[int]\n",
    "        :type target: int\n",
    "        :rtype: List[int]\n",
    "        \"\"\"\n",
    "        res = [-1, -1]\n",
    "        ## find left bound\n",
    "        left, right = 0, len(nums) - 1\n",
    "        while left <= right:\n",
    "            mid = left + (right - left) // 2\n",
    "            if nums[mid] == target:\n",
    "                res[0] = mid\n",
    "                right = mid - 1\n",
    "            elif nums[mid] < target:\n",
    "                left = mid + 1\n",
    "            else: # nums[mid] > target\n",
    "                right = mid - 1\n",
    "        ## find right bound\n",
    "        left, right = 0, len(nums) - 1\n",
    "        while left <= right:\n",
    "            mid = left + (right - left) // 2\n",
    "            if nums[mid] == target:\n",
    "                res[1] = mid\n",
    "                left = mid + 1\n",
    "            elif nums[mid] < target:\n",
    "                left = mid + 1\n",
    "            else: # nums[mid] > target\n",
    "                right = mid - 1\n",
    "        return res"
   ]
  },
  {
   "cell_type": "code",
   "execution_count": 1,
   "metadata": {
    "ExecuteTime": {
     "end_time": "2019-10-04T05:45:08.895547Z",
     "start_time": "2019-10-04T05:45:08.886192Z"
    }
   },
   "outputs": [],
   "source": [
    "class Solution(object):\n",
    "    def searchRange(self, nums, target):\n",
    "        \"\"\"\n",
    "        :type nums: List[int]\n",
    "        :type target: int\n",
    "        :rtype: List[int]\n",
    "        \"\"\"\n",
    "        left, right = 0, len(nums) - 1\n",
    "        res = [-1, -1]\n",
    "        while left <= right:\n",
    "            mid = left + (right - left) // 2\n",
    "            if nums[mid] == target:\n",
    "                res = [mid, mid]\n",
    "                ## find the lower bound\n",
    "                left_l, right_l = left, mid - 1\n",
    "                while left_l <= right_l:\n",
    "                    mid_l = left_l + (right_l - left_l) // 2\n",
    "                    if nums[mid_l] == target:\n",
    "                        res[0] = mid_l\n",
    "                        right_l = mid_l - 1\n",
    "                    else: ## only nums[mid_l] < target can happen\n",
    "                        left_l = mid_l + 1\n",
    "                ## find the upper bound\n",
    "                left_h, right_h = mid + 1, right\n",
    "                while left_h <= right_h:\n",
    "                    mid_h = left_h + (right_h - left_h) // 2\n",
    "                    if nums[mid_h] == target:\n",
    "                        res[1] = mid_h\n",
    "                        left_h = mid_h + 1\n",
    "                    else: # only nums[mid_h] > target can happen\n",
    "                        right_h = mid_h - 1\n",
    "                return res\n",
    "            if nums[mid] < target:\n",
    "                left = mid + 1\n",
    "            else:\n",
    "                right = mid - 1\n",
    "        return res"
   ]
  },
  {
   "cell_type": "code",
   "execution_count": null,
   "metadata": {},
   "outputs": [],
   "source": []
  }
 ],
 "metadata": {
  "kernelspec": {
   "display_name": "Python 3",
   "language": "python",
   "name": "python3"
  },
  "language_info": {
   "codemirror_mode": {
    "name": "ipython",
    "version": 3
   },
   "file_extension": ".py",
   "mimetype": "text/x-python",
   "name": "python",
   "nbconvert_exporter": "python",
   "pygments_lexer": "ipython3",
   "version": "3.7.1"
  },
  "toc": {
   "base_numbering": 1,
   "nav_menu": {},
   "number_sections": true,
   "sideBar": true,
   "skip_h1_title": false,
   "title_cell": "Table of Contents",
   "title_sidebar": "Contents",
   "toc_cell": false,
   "toc_position": {},
   "toc_section_display": true,
   "toc_window_display": false
  }
 },
 "nbformat": 4,
 "nbformat_minor": 2
}
