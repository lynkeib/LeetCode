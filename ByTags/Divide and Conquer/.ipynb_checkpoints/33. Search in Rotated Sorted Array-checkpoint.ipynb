{
 "cells": [
  {
   "cell_type": "code",
   "execution_count": 1,
   "metadata": {
    "ExecuteTime": {
     "end_time": "2019-09-25T04:08:27.599062Z",
     "start_time": "2019-09-25T04:08:27.590454Z"
    }
   },
   "outputs": [],
   "source": [
    "class Solution(object):\n",
    "    def search(self, nums, target):\n",
    "        \"\"\"\n",
    "        :type nums: List[int]\n",
    "        :type target: int\n",
    "        :rtype: int\n",
    "        \"\"\"\n",
    "\n",
    "        left, right = 0, len(nums) - 1\n",
    "        while left <= right:\n",
    "            # print(left, right)\n",
    "            mid = left + (right - left) // 2\n",
    "            # print('mid is ', mid)\n",
    "            if nums[mid] == target:\n",
    "                return mid\n",
    "            if nums[mid] > target:\n",
    "                if nums[mid] >= nums[left]:\n",
    "                    if nums[left] <= target:\n",
    "                        right = mid - 1\n",
    "                    else:\n",
    "                        left = mid + 1\n",
    "                else:\n",
    "                    right = mid - 1\n",
    "            else:\n",
    "                if nums[mid] >= nums[left]:\n",
    "                    left = mid + 1\n",
    "                else:\n",
    "                    if nums[right] >= target:\n",
    "                        left = mid + 1\n",
    "                    else:\n",
    "                        right = mid - 1\n",
    "        return -1"
   ]
  },
  {
   "cell_type": "code",
   "execution_count": null,
   "metadata": {},
   "outputs": [],
   "source": []
  }
 ],
 "metadata": {
  "kernelspec": {
   "display_name": "Python 3",
   "language": "python",
   "name": "python3"
  },
  "language_info": {
   "codemirror_mode": {
    "name": "ipython",
    "version": 3
   },
   "file_extension": ".py",
   "mimetype": "text/x-python",
   "name": "python",
   "nbconvert_exporter": "python",
   "pygments_lexer": "ipython3",
   "version": "3.7.1"
  },
  "toc": {
   "base_numbering": 1,
   "nav_menu": {},
   "number_sections": true,
   "sideBar": true,
   "skip_h1_title": false,
   "title_cell": "Table of Contents",
   "title_sidebar": "Contents",
   "toc_cell": false,
   "toc_position": {},
   "toc_section_display": true,
   "toc_window_display": false
  }
 },
 "nbformat": 4,
 "nbformat_minor": 2
}
