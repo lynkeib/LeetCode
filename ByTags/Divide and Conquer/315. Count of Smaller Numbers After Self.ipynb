{
 "cells": [
  {
   "cell_type": "code",
   "execution_count": 2,
   "metadata": {
    "ExecuteTime": {
     "end_time": "2019-10-06T06:46:56.844862Z",
     "start_time": "2019-10-06T06:46:56.835216Z"
    }
   },
   "outputs": [],
   "source": [
    "class Solution(object):\n",
    "    def countSmaller(self, nums):\n",
    "        \"\"\"\n",
    "        :type nums: List[int]\n",
    "        :rtype: List[int]\n",
    "        \"\"\"\n",
    "        if not nums:\n",
    "            return \n",
    "        nums = [[num, index] for index, num in enumerate(nums)]\n",
    "        ress = [0] * len(nums)\n",
    "        res = self.mergesort(nums, ress)\n",
    "        # print(res)\n",
    "        return ress\n",
    "    \n",
    "    def mergesort(self, nums, ress):\n",
    "        left, right = 0, len(nums) - 1\n",
    "        if left == right:\n",
    "            return nums\n",
    "        # print(nums)\n",
    "        mid = left + (right - left) // 2\n",
    "        # print(mid)\n",
    "        left = self.mergesort(nums[:mid+1], ress)\n",
    "        right = self.mergesort(nums[mid+1:], ress)\n",
    "        return self.merge(left, right, ress)\n",
    "        \n",
    "    def merge(self, left, right, ress):\n",
    "        res = []\n",
    "        left_index, right_index = 0, 0\n",
    "        while left_index < len(left) and right_index < len(right):\n",
    "            while right_index < len(right) and left[left_index][0] > right[right_index][0]:\n",
    "                res.append(right[right_index])\n",
    "                right_index += 1\n",
    "            ress[left[left_index][1]] += right_index\n",
    "            res.append(left[left_index])\n",
    "            left_index += 1\n",
    "        while left_index < len(left):\n",
    "            ress[left[left_index][1]] += right_index\n",
    "            res.append(left[left_index])\n",
    "            left_index += 1\n",
    "        while right_index < len(right):\n",
    "            res.append(right[right_index])\n",
    "            right_index += 1\n",
    "        return res"
   ]
  },
  {
   "cell_type": "code",
   "execution_count": null,
   "metadata": {},
   "outputs": [],
   "source": []
  }
 ],
 "metadata": {
  "kernelspec": {
   "display_name": "Python 3",
   "language": "python",
   "name": "python3"
  },
  "language_info": {
   "codemirror_mode": {
    "name": "ipython",
    "version": 3
   },
   "file_extension": ".py",
   "mimetype": "text/x-python",
   "name": "python",
   "nbconvert_exporter": "python",
   "pygments_lexer": "ipython3",
   "version": "3.7.1"
  },
  "toc": {
   "base_numbering": 1,
   "nav_menu": {},
   "number_sections": true,
   "sideBar": true,
   "skip_h1_title": false,
   "title_cell": "Table of Contents",
   "title_sidebar": "Contents",
   "toc_cell": false,
   "toc_position": {},
   "toc_section_display": true,
   "toc_window_display": false
  }
 },
 "nbformat": 4,
 "nbformat_minor": 2
}
