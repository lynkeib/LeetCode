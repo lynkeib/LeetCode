{
 "cells": [
  {
   "cell_type": "code",
   "execution_count": 1,
   "metadata": {
    "ExecuteTime": {
     "end_time": "2019-10-06T06:43:38.097211Z",
     "start_time": "2019-10-06T06:43:38.083341Z"
    }
   },
   "outputs": [],
   "source": [
    "class Solution(object):\n",
    "    def countSmaller(self, nums):\n",
    "        \"\"\"\n",
    "        :type nums: List[int]\n",
    "        :rtype: List[int]\n",
    "        \"\"\"\n",
    "        if not nums:\n",
    "            return \n",
    "        nums = [[num, 0, index] for index, num in enumerate(nums)]\n",
    "        res = self.mergesort(nums)\n",
    "        # print(res)\n",
    "        ress = [0] * len(nums)\n",
    "        for index in range(len(nums)):\n",
    "            ress[res[index][2]] = res[index][1]\n",
    "        return ress\n",
    "    \n",
    "    def mergesort(self, nums):\n",
    "        left, right = 0, len(nums) - 1\n",
    "        if left == right:\n",
    "            return nums\n",
    "        # print(nums)\n",
    "        mid = left + (right - left) // 2\n",
    "        # print(mid)\n",
    "        left = self.mergesort(nums[:mid+1])\n",
    "        right = self.mergesort(nums[mid+1:])\n",
    "        return self.merge(left, right)\n",
    "        \n",
    "    def merge(self, left, right):\n",
    "        res = []\n",
    "        left_index, right_index = 0, 0\n",
    "        while left_index < len(left) and right_index < len(right):\n",
    "            while right_index < len(right) and left[left_index][0] > right[right_index][0]:\n",
    "                res.append(right[right_index])\n",
    "                right_index += 1\n",
    "            left[left_index][1] += right_index\n",
    "            res.append(left[left_index])\n",
    "            left_index += 1\n",
    "        while left_index < len(left):\n",
    "            left[left_index][1] += right_index\n",
    "            res.append(left[left_index])\n",
    "            left_index += 1\n",
    "        while right_index < len(right):\n",
    "            res.append(right[right_index])\n",
    "            right_index += 1\n",
    "        return res"
   ]
  },
  {
   "cell_type": "code",
   "execution_count": null,
   "metadata": {},
   "outputs": [],
   "source": []
  }
 ],
 "metadata": {
  "kernelspec": {
   "display_name": "Python 3",
   "language": "python",
   "name": "python3"
  },
  "language_info": {
   "codemirror_mode": {
    "name": "ipython",
    "version": 3
   },
   "file_extension": ".py",
   "mimetype": "text/x-python",
   "name": "python",
   "nbconvert_exporter": "python",
   "pygments_lexer": "ipython3",
   "version": "3.7.1"
  },
  "toc": {
   "base_numbering": 1,
   "nav_menu": {},
   "number_sections": true,
   "sideBar": true,
   "skip_h1_title": false,
   "title_cell": "Table of Contents",
   "title_sidebar": "Contents",
   "toc_cell": false,
   "toc_position": {},
   "toc_section_display": true,
   "toc_window_display": false
  }
 },
 "nbformat": 4,
 "nbformat_minor": 2
}
