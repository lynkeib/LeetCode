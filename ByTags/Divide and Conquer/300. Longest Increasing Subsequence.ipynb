{
 "cells": [
  {
   "cell_type": "markdown",
   "metadata": {},
   "source": [
    "# DP"
   ]
  },
  {
   "cell_type": "code",
   "execution_count": 1,
   "metadata": {
    "ExecuteTime": {
     "end_time": "2019-10-07T03:39:57.143766Z",
     "start_time": "2019-10-07T03:39:57.137890Z"
    }
   },
   "outputs": [],
   "source": [
    "class Solution(object):\n",
    "    def lengthOfLIS(self, nums):\n",
    "        \"\"\"\n",
    "        :type nums: List[int]\n",
    "        :rtype: int\n",
    "        \"\"\"\n",
    "        if not nums:\n",
    "            return 0\n",
    "        res = [1] * len(nums)\n",
    "        max_res = 1\n",
    "        for index in range(1, len(nums)):\n",
    "            for j in range(index):\n",
    "                if nums[j] < nums[index]:\n",
    "                    res[index] = max(res[index], res[j] + 1)\n",
    "                    max_res = max(max_res, res[index])\n",
    "        return max_res"
   ]
  },
  {
   "cell_type": "markdown",
   "metadata": {},
   "source": [
    "# Binary Search"
   ]
  },
  {
   "cell_type": "code",
   "execution_count": 2,
   "metadata": {
    "ExecuteTime": {
     "end_time": "2019-10-07T05:32:37.181456Z",
     "start_time": "2019-10-07T05:32:37.175361Z"
    }
   },
   "outputs": [],
   "source": [
    "class Solution(object):\n",
    "    def lengthOfLIS(self, nums):\n",
    "        \"\"\"\n",
    "        :type nums: List[int]\n",
    "        :rtype: int\n",
    "        \"\"\"\n",
    "        tail = [0]\n",
    "        for num in nums:\n",
    "            left, right = 0, len(tail) - 1\n",
    "            while left < right:\n",
    "                mid = left + (right - left) // 2\n",
    "                if num > tail[mid]:\n",
    "                    left = mid + 1\n",
    "                else:\n",
    "                    right = mid\n",
    "            tail[left] = num\n",
    "            if left+1 == len(tail):\n",
    "                tail.append(0)\n",
    "        return len(tail)-1"
   ]
  },
  {
   "cell_type": "code",
   "execution_count": null,
   "metadata": {},
   "outputs": [],
   "source": []
  }
 ],
 "metadata": {
  "kernelspec": {
   "display_name": "Python 3",
   "language": "python",
   "name": "python3"
  },
  "language_info": {
   "codemirror_mode": {
    "name": "ipython",
    "version": 3
   },
   "file_extension": ".py",
   "mimetype": "text/x-python",
   "name": "python",
   "nbconvert_exporter": "python",
   "pygments_lexer": "ipython3",
   "version": "3.7.1"
  },
  "toc": {
   "base_numbering": 1,
   "nav_menu": {},
   "number_sections": true,
   "sideBar": true,
   "skip_h1_title": false,
   "title_cell": "Table of Contents",
   "title_sidebar": "Contents",
   "toc_cell": false,
   "toc_position": {},
   "toc_section_display": true,
   "toc_window_display": false
  }
 },
 "nbformat": 4,
 "nbformat_minor": 2
}
