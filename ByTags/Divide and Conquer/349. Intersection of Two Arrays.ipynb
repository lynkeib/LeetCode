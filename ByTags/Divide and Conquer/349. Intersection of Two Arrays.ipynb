{
 "cells": [
  {
   "cell_type": "markdown",
   "metadata": {},
   "source": [
    "# Two Pointers"
   ]
  },
  {
   "cell_type": "code",
   "execution_count": 1,
   "metadata": {
    "ExecuteTime": {
     "end_time": "2019-10-04T05:58:36.524756Z",
     "start_time": "2019-10-04T05:58:36.518467Z"
    }
   },
   "outputs": [],
   "source": [
    "class Solution(object):\n",
    "    def intersection(self, nums1, nums2):\n",
    "        \"\"\"\n",
    "        :type nums1: List[int]\n",
    "        :type nums2: List[int]\n",
    "        :rtype: List[int]\n",
    "        \"\"\"\n",
    "        nums1.sort()\n",
    "        nums2.sort()\n",
    "        pointer1 = 0\n",
    "        pointer2 = 0\n",
    "        res = []\n",
    "        while pointer1 < len(nums1) and pointer2 < len(nums2):\n",
    "            while pointer1 < len(nums1)-1 and nums1[pointer1] == nums1[pointer1 + 1]:\n",
    "                pointer1 += 1\n",
    "            while pointer2 < len(nums2)-1 and nums2[pointer2] == nums2[pointer2 + 1]:\n",
    "                pointer2 += 1\n",
    "            if nums1[pointer1] == nums2[pointer2]:\n",
    "                res.append(nums1[pointer1])\n",
    "                pointer1 += 1\n",
    "                pointer2 += 1\n",
    "            elif nums1[pointer1] < nums2[pointer2]:\n",
    "                pointer1 += 1\n",
    "            else:\n",
    "                pointer2 += 1\n",
    "        return res"
   ]
  },
  {
   "cell_type": "markdown",
   "metadata": {},
   "source": [
    "# Binary Search"
   ]
  },
  {
   "cell_type": "code",
   "execution_count": 2,
   "metadata": {
    "ExecuteTime": {
     "end_time": "2019-10-04T06:06:11.363357Z",
     "start_time": "2019-10-04T06:06:11.354588Z"
    }
   },
   "outputs": [],
   "source": [
    "class Solution(object):\n",
    "    def intersection(self, nums1, nums2):\n",
    "        \"\"\"\n",
    "        :type nums1: List[int]\n",
    "        :type nums2: List[int]\n",
    "        :rtype: List[int]\n",
    "        \"\"\"\n",
    "        nums1.sort()\n",
    "        nums2.sort()\n",
    "        res = []\n",
    "        if len(nums1) > len(nums2):\n",
    "            nums1, nums2 = nums2, nums1\n",
    "        index = 0\n",
    "        while index < len(nums1):\n",
    "            while index < len(nums1) - 1 and nums1[index] == nums1[index + 1]:\n",
    "                index += 1\n",
    "            in2 = self.find(nums2, nums1[index])\n",
    "            if in2:\n",
    "                res.append(nums1[index])\n",
    "            index += 1\n",
    "        return res\n",
    "    \n",
    "    def find(self, nums, num):\n",
    "        left, right = 0, len(nums) - 1\n",
    "        while left <= right:\n",
    "            mid = left + (right - left) // 2\n",
    "            if nums[mid] == num:\n",
    "                return True\n",
    "            if nums[mid] < num:\n",
    "                left = mid + 1\n",
    "            else:\n",
    "                right = mid - 1\n",
    "        return False"
   ]
  },
  {
   "cell_type": "code",
   "execution_count": null,
   "metadata": {},
   "outputs": [],
   "source": []
  }
 ],
 "metadata": {
  "kernelspec": {
   "display_name": "Python 3",
   "language": "python",
   "name": "python3"
  },
  "language_info": {
   "codemirror_mode": {
    "name": "ipython",
    "version": 3
   },
   "file_extension": ".py",
   "mimetype": "text/x-python",
   "name": "python",
   "nbconvert_exporter": "python",
   "pygments_lexer": "ipython3",
   "version": "3.7.1"
  },
  "toc": {
   "base_numbering": 1,
   "nav_menu": {},
   "number_sections": true,
   "sideBar": true,
   "skip_h1_title": false,
   "title_cell": "Table of Contents",
   "title_sidebar": "Contents",
   "toc_cell": false,
   "toc_position": {},
   "toc_section_display": true,
   "toc_window_display": false
  }
 },
 "nbformat": 4,
 "nbformat_minor": 2
}
