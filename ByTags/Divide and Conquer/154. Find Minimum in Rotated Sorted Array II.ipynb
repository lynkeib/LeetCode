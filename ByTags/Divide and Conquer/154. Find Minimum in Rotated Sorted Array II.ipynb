{
 "cells": [
  {
   "cell_type": "code",
   "execution_count": 1,
   "metadata": {
    "ExecuteTime": {
     "end_time": "2019-10-04T04:45:18.474588Z",
     "start_time": "2019-10-04T04:45:18.468204Z"
    }
   },
   "outputs": [],
   "source": [
    "class Solution(object):\n",
    "    def findMin(self, nums):\n",
    "        \"\"\"\n",
    "        :type nums: List[int]\n",
    "        :rtype: int\n",
    "        \"\"\"\n",
    "        left, right = 0, len(nums) - 1\n",
    "        while left < right:\n",
    "            ## remove duplicate\n",
    "            while left < right and nums[left] == nums[left + 1]:\n",
    "                left += 1\n",
    "            while left < right and nums[right] == nums[right - 1]:\n",
    "                right -= 1\n",
    "            while left < right and nums[left] == nums[right]:\n",
    "                left += 1   \n",
    "            mid = left + (right - left) // 2\n",
    "            ## if pivot\n",
    "            if nums[left] > nums[right]:\n",
    "                # high\n",
    "                if nums[mid] >= nums[left]:\n",
    "                    left = mid + 1\n",
    "                else:\n",
    "                    right = mid\n",
    "            else:\n",
    "                right = mid\n",
    "        return nums[left]"
   ]
  },
  {
   "cell_type": "code",
   "execution_count": null,
   "metadata": {},
   "outputs": [],
   "source": []
  }
 ],
 "metadata": {
  "kernelspec": {
   "display_name": "Python 3",
   "language": "python",
   "name": "python3"
  },
  "language_info": {
   "codemirror_mode": {
    "name": "ipython",
    "version": 3
   },
   "file_extension": ".py",
   "mimetype": "text/x-python",
   "name": "python",
   "nbconvert_exporter": "python",
   "pygments_lexer": "ipython3",
   "version": "3.7.1"
  },
  "toc": {
   "base_numbering": 1,
   "nav_menu": {},
   "number_sections": true,
   "sideBar": true,
   "skip_h1_title": false,
   "title_cell": "Table of Contents",
   "title_sidebar": "Contents",
   "toc_cell": false,
   "toc_position": {},
   "toc_section_display": true,
   "toc_window_display": false
  }
 },
 "nbformat": 4,
 "nbformat_minor": 2
}
