{
 "cells": [
  {
   "cell_type": "markdown",
   "metadata": {},
   "source": [
    "# Iterative"
   ]
  },
  {
   "cell_type": "code",
   "execution_count": 1,
   "metadata": {
    "ExecuteTime": {
     "end_time": "2019-09-29T06:35:39.850922Z",
     "start_time": "2019-09-29T06:35:39.845730Z"
    }
   },
   "outputs": [],
   "source": [
    "class Solution(object):\n",
    "    def findMin(self, nums):\n",
    "        \"\"\"\n",
    "        :type nums: List[int]\n",
    "        :rtype: int\n",
    "        \"\"\"\n",
    "        left, right = 0, len(nums) - 1\n",
    "        while left < right:\n",
    "            if nums[left] < nums[right]:\n",
    "                return nums[left]\n",
    "            mid = left + (right - left) // 2\n",
    "            if nums[mid] >= nums[left]:\n",
    "                left = mid + 1\n",
    "            else:\n",
    "                right = mid \n",
    "        return nums[left]\n",
    "                "
   ]
  },
  {
   "cell_type": "markdown",
   "metadata": {},
   "source": [
    "# Recursive"
   ]
  },
  {
   "cell_type": "code",
   "execution_count": 1,
   "metadata": {
    "ExecuteTime": {
     "end_time": "2019-10-04T05:24:19.810507Z",
     "start_time": "2019-10-04T05:24:19.802298Z"
    }
   },
   "outputs": [],
   "source": [
    "class Solution(object):\n",
    "    def findMin(self, nums):\n",
    "        \"\"\"\n",
    "        :type nums: List[int]\n",
    "        :rtype: int\n",
    "        \"\"\"\n",
    "        return self.findmin(nums, 0, len(nums) - 1)\n",
    "        \n",
    "    \n",
    "    def is_sorted(self, nums, left, right):\n",
    "        return nums[left] < nums[right]\n",
    "\n",
    "    def findmin(self, nums, left, right):\n",
    "        if left == right:\n",
    "            return nums[left]\n",
    "        if right - left == 1:\n",
    "            return min(nums[left], nums[right])\n",
    "        if self.is_sorted(nums, left, right):\n",
    "            return nums[left]\n",
    "        mid = left + (right - left) // 2\n",
    "        left_min = self.findmin(nums,left, mid)\n",
    "        right_min = self.findmin(nums, mid+1, right)\n",
    "        return min(left_min, right_min)"
   ]
  },
  {
   "cell_type": "code",
   "execution_count": null,
   "metadata": {},
   "outputs": [],
   "source": []
  }
 ],
 "metadata": {
  "kernelspec": {
   "display_name": "Python 3",
   "language": "python",
   "name": "python3"
  },
  "language_info": {
   "codemirror_mode": {
    "name": "ipython",
    "version": 3
   },
   "file_extension": ".py",
   "mimetype": "text/x-python",
   "name": "python",
   "nbconvert_exporter": "python",
   "pygments_lexer": "ipython3",
   "version": "3.7.1"
  },
  "toc": {
   "base_numbering": 1,
   "nav_menu": {},
   "number_sections": true,
   "sideBar": true,
   "skip_h1_title": false,
   "title_cell": "Table of Contents",
   "title_sidebar": "Contents",
   "toc_cell": false,
   "toc_position": {},
   "toc_section_display": true,
   "toc_window_display": false
  }
 },
 "nbformat": 4,
 "nbformat_minor": 2
}
