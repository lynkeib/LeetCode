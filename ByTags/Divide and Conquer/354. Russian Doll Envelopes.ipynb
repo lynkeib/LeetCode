{
 "cells": [
  {
   "cell_type": "markdown",
   "metadata": {},
   "source": [
    "# DP (TLE)"
   ]
  },
  {
   "cell_type": "code",
   "execution_count": 4,
   "metadata": {
    "ExecuteTime": {
     "end_time": "2019-10-08T02:08:48.389948Z",
     "start_time": "2019-10-08T02:08:48.382212Z"
    }
   },
   "outputs": [],
   "source": [
    "class Solution(object):\n",
    "    def maxEnvelopes(self, envelopes):\n",
    "        \"\"\"\n",
    "        :type envelopes: List[List[int]]\n",
    "        :rtype: int\n",
    "        \"\"\"\n",
    "        if not envelopes:\n",
    "            return 0\n",
    "        envelopes.sort()\n",
    "        dp = [1] * len(envelopes)\n",
    "        res_max = 1\n",
    "        for index in range(1, len(envelopes)):\n",
    "            for j in range(index):\n",
    "                if envelopes[index][0] > envelopes[j][0] and envelopes[index][1] > envelopes[j][1]:\n",
    "                    dp[index] = max(dp[index], dp[j] + 1)\n",
    "                    res_max = max(res_max, dp[index])\n",
    "        return res_max"
   ]
  },
  {
   "cell_type": "markdown",
   "metadata": {},
   "source": [
    "# LIS"
   ]
  },
  {
   "cell_type": "code",
   "execution_count": 19,
   "metadata": {
    "ExecuteTime": {
     "end_time": "2019-10-08T02:33:19.556841Z",
     "start_time": "2019-10-08T02:33:19.549012Z"
    }
   },
   "outputs": [],
   "source": [
    "class Solution(object):\n",
    "    def maxEnvelopes(self, envelopes):\n",
    "        \"\"\"\n",
    "        :type envelopes: List[List[int]]\n",
    "        :rtype: int\n",
    "        \"\"\"\n",
    "        envelopes = sorted(envelopes,key=(lambda x:[x[0],-x[1]]))\n",
    "        # print(envelopes)\n",
    "        tail = [[0, 0]]\n",
    "        for envelope in envelopes:\n",
    "            left, right = 0, len(tail) - 1\n",
    "            while left < right:\n",
    "                mid = left + (right - left) // 2\n",
    "                if tail[mid][1] < envelope[1]:\n",
    "                    left = mid + 1\n",
    "                else:\n",
    "                    right = mid\n",
    "            if left == len(tail):\n",
    "                tail.append(envelope)\n",
    "            else:\n",
    "                tail[left] = envelope\n",
    "                if left == len(tail) - 1:\n",
    "                    tail.append([0, 0])\n",
    "            # print(tail)\n",
    "            # print(left)\n",
    "        return len(tail) - 1"
   ]
  },
  {
   "cell_type": "code",
   "execution_count": null,
   "metadata": {},
   "outputs": [],
   "source": []
  }
 ],
 "metadata": {
  "kernelspec": {
   "display_name": "Python 3",
   "language": "python",
   "name": "python3"
  },
  "language_info": {
   "codemirror_mode": {
    "name": "ipython",
    "version": 3
   },
   "file_extension": ".py",
   "mimetype": "text/x-python",
   "name": "python",
   "nbconvert_exporter": "python",
   "pygments_lexer": "ipython3",
   "version": "3.7.1"
  },
  "toc": {
   "base_numbering": 1,
   "nav_menu": {},
   "number_sections": true,
   "sideBar": true,
   "skip_h1_title": false,
   "title_cell": "Table of Contents",
   "title_sidebar": "Contents",
   "toc_cell": false,
   "toc_position": {},
   "toc_section_display": true,
   "toc_window_display": false
  }
 },
 "nbformat": 4,
 "nbformat_minor": 2
}
