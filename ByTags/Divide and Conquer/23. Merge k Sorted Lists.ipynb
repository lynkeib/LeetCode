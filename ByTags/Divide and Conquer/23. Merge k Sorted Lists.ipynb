{
 "cells": [
  {
   "cell_type": "code",
   "execution_count": 1,
   "metadata": {
    "ExecuteTime": {
     "end_time": "2019-09-30T05:54:14.895153Z",
     "start_time": "2019-09-30T05:54:14.883052Z"
    }
   },
   "outputs": [],
   "source": [
    "# Definition for singly-linked list.\n",
    "# class ListNode(object):\n",
    "#     def __init__(self, x):\n",
    "#         self.val = x\n",
    "#         self.next = None\n",
    "\n",
    "class Solution(object):\n",
    "    def sortList(self, head):\n",
    "        \"\"\"\n",
    "        :type head: ListNode\n",
    "        :rtype: ListNode\n",
    "        \"\"\"\n",
    "        length = self.length(head)\n",
    "        n = 1\n",
    "        dummyhead = ListNode(0)\n",
    "        dummyhead.next = head\n",
    "        while n < length:\n",
    "            curr = dummyhead.next\n",
    "            tail = dummyhead\n",
    "            while curr:\n",
    "                left = curr\n",
    "                right = self.split(left, n)\n",
    "                rest = self.split(right, n)\n",
    "                new_head, new_tail = self.merge(left, right)\n",
    "                tail.next = new_head\n",
    "                new_tail.next = rest\n",
    "                curr = rest\n",
    "                tail = new_tail\n",
    "            n = n * 2\n",
    "        return dummyhead.next\n",
    "    \n",
    "    def length(self, head):\n",
    "        curr = head\n",
    "        n = 0\n",
    "        while curr:\n",
    "            curr = curr.next\n",
    "            n += 1\n",
    "        return n\n",
    "    \n",
    "    def split(self, head, n):\n",
    "        while n > 1 and head:\n",
    "            head = head.next\n",
    "            n -= 1\n",
    "        rest = head.next if head else None\n",
    "        if head:\n",
    "            head.next = None\n",
    "        return rest\n",
    "    \n",
    "    def merge(self, head1, head2):\n",
    "        dummyhead = ListNode(0)\n",
    "        curr = dummyhead\n",
    "        while head1 and head2:\n",
    "            if head1.val > head2.val:\n",
    "                head1, head2 = head2, head1\n",
    "            curr.next = head1\n",
    "            head1 = head1.next\n",
    "            curr = curr.next\n",
    "        if head1:\n",
    "            curr.next = head1\n",
    "        if head2:\n",
    "            curr.next = head2\n",
    "        tail = curr\n",
    "        while tail.next:\n",
    "            tail = tail.next\n",
    "        return dummyhead.next, tail"
   ]
  },
  {
   "cell_type": "code",
   "execution_count": null,
   "metadata": {},
   "outputs": [],
   "source": []
  }
 ],
 "metadata": {
  "kernelspec": {
   "display_name": "Python 3",
   "language": "python",
   "name": "python3"
  },
  "language_info": {
   "codemirror_mode": {
    "name": "ipython",
    "version": 3
   },
   "file_extension": ".py",
   "mimetype": "text/x-python",
   "name": "python",
   "nbconvert_exporter": "python",
   "pygments_lexer": "ipython3",
   "version": "3.7.1"
  },
  "toc": {
   "base_numbering": 1,
   "nav_menu": {},
   "number_sections": true,
   "sideBar": true,
   "skip_h1_title": false,
   "title_cell": "Table of Contents",
   "title_sidebar": "Contents",
   "toc_cell": false,
   "toc_position": {},
   "toc_section_display": true,
   "toc_window_display": false
  }
 },
 "nbformat": 4,
 "nbformat_minor": 2
}
