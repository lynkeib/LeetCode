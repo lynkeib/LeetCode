{
 "cells": [
  {
   "cell_type": "markdown",
   "metadata": {},
   "source": [
    "# Two Pointers"
   ]
  },
  {
   "cell_type": "code",
   "execution_count": 1,
   "metadata": {
    "ExecuteTime": {
     "end_time": "2019-10-05T04:21:36.447138Z",
     "start_time": "2019-10-05T04:21:36.441398Z"
    }
   },
   "outputs": [],
   "source": [
    "class Solution(object):\n",
    "    def intersect(self, nums1, nums2):\n",
    "        \"\"\"\n",
    "        :type nums1: List[int]\n",
    "        :type nums2: List[int]\n",
    "        :rtype: List[int]\n",
    "        \"\"\"\n",
    "        nums1.sort()\n",
    "        nums2.sort()\n",
    "        p1, p2 = 0, 0\n",
    "        res = []\n",
    "        while p1 < len(nums1) and p2 < len(nums2):\n",
    "            if nums1[p1] == nums2[p2]:\n",
    "                res.append(nums1[p1])\n",
    "                p1 += 1\n",
    "                p2 += 1\n",
    "            elif nums1[p1] > nums2[p2]:\n",
    "                p2 += 1\n",
    "            else:\n",
    "                p1 += 1\n",
    "        return res"
   ]
  },
  {
   "cell_type": "markdown",
   "metadata": {},
   "source": [
    "# Binary Search"
   ]
  },
  {
   "cell_type": "code",
   "execution_count": 2,
   "metadata": {
    "ExecuteTime": {
     "end_time": "2019-10-05T04:38:51.534669Z",
     "start_time": "2019-10-05T04:38:51.524741Z"
    }
   },
   "outputs": [],
   "source": [
    "class Solution(object):\n",
    "    def intersect(self, nums1, nums2):\n",
    "        \"\"\"\n",
    "        :type nums1: List[int]\n",
    "        :type nums2: List[int]\n",
    "        :rtype: List[int]\n",
    "        \"\"\"\n",
    "        nums1.sort()\n",
    "        nums2.sort()\n",
    "        res = []\n",
    "        index_1 = 0\n",
    "        index_2 = 0\n",
    "        if len(nums1) > len(nums2):\n",
    "            nums1, nums2 = nums2, nums1\n",
    "        while index_1 < len(nums1) and index_2 < len(nums2):\n",
    "            lower_bound_in_2 = self.lower_bound(nums2, index_2, nums1[index_1])\n",
    "            # print(lower_bound_in_2)\n",
    "            if nums2[lower_bound_in_2] == nums1[index_1]:\n",
    "                index_2 = lower_bound_in_2\n",
    "                while index_2 < len(nums2) and index_1 < len(nums1) and nums2[index_2] == nums1[index_1]:\n",
    "                    res.append(nums1[index_1])\n",
    "                    index_2 += 1\n",
    "                    index_1 += 1\n",
    "            else:\n",
    "                index_1 += 1\n",
    "        return res\n",
    "        \n",
    "    def lower_bound(self, nums, left, num):\n",
    "        right = len(nums) - 1\n",
    "        while left < right:\n",
    "            mid = left + (right - left) // 2\n",
    "            if nums[mid] < num:\n",
    "                left = mid + 1\n",
    "            else:\n",
    "                right = mid\n",
    "        return left"
   ]
  },
  {
   "cell_type": "code",
   "execution_count": null,
   "metadata": {},
   "outputs": [],
   "source": []
  }
 ],
 "metadata": {
  "kernelspec": {
   "display_name": "Python 3",
   "language": "python",
   "name": "python3"
  },
  "language_info": {
   "codemirror_mode": {
    "name": "ipython",
    "version": 3
   },
   "file_extension": ".py",
   "mimetype": "text/x-python",
   "name": "python",
   "nbconvert_exporter": "python",
   "pygments_lexer": "ipython3",
   "version": "3.7.1"
  },
  "toc": {
   "base_numbering": 1,
   "nav_menu": {},
   "number_sections": true,
   "sideBar": true,
   "skip_h1_title": false,
   "title_cell": "Table of Contents",
   "title_sidebar": "Contents",
   "toc_cell": false,
   "toc_position": {},
   "toc_section_display": true,
   "toc_window_display": false
  }
 },
 "nbformat": 4,
 "nbformat_minor": 2
}
