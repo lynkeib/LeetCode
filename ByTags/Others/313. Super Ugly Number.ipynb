{
 "cells": [
  {
   "cell_type": "code",
   "execution_count": 1,
   "metadata": {
    "ExecuteTime": {
     "end_time": "2020-06-02T03:08:09.038133Z",
     "start_time": "2020-06-02T03:08:09.031506Z"
    }
   },
   "outputs": [],
   "source": [
    "class Solution(object):\n",
    "    def nthSuperUglyNumber(self, n, primes):\n",
    "        \"\"\"\n",
    "        :type n: int\n",
    "        :type primes: List[int]\n",
    "        :rtype: int\n",
    "        \"\"\"\n",
    "        count = 1\n",
    "        curr = 1\n",
    "        heap = [1]\n",
    "        visited = set([1])\n",
    "        while count <= n:\n",
    "            curr = heapq.heappop(heap)\n",
    "            for p in primes:\n",
    "                this = curr * p\n",
    "                if this not in visited:\n",
    "                    heapq.heappush(heap, this)\n",
    "                    visited.add(this)\n",
    "            count+=1\n",
    "        return curr"
   ]
  },
  {
   "cell_type": "code",
   "execution_count": null,
   "metadata": {},
   "outputs": [],
   "source": []
  }
 ],
 "metadata": {
  "kernelspec": {
   "display_name": "Python 3",
   "language": "python",
   "name": "python3"
  },
  "language_info": {
   "codemirror_mode": {
    "name": "ipython",
    "version": 3
   },
   "file_extension": ".py",
   "mimetype": "text/x-python",
   "name": "python",
   "nbconvert_exporter": "python",
   "pygments_lexer": "ipython3",
   "version": "3.7.4"
  },
  "toc": {
   "base_numbering": 1,
   "nav_menu": {},
   "number_sections": true,
   "sideBar": true,
   "skip_h1_title": false,
   "title_cell": "Table of Contents",
   "title_sidebar": "Contents",
   "toc_cell": false,
   "toc_position": {},
   "toc_section_display": true,
   "toc_window_display": false
  }
 },
 "nbformat": 4,
 "nbformat_minor": 4
}
