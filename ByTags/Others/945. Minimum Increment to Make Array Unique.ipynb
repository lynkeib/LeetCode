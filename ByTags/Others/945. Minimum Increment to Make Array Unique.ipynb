{
 "cells": [
  {
   "cell_type": "code",
   "execution_count": 1,
   "metadata": {
    "ExecuteTime": {
     "end_time": "2020-07-08T02:02:56.533633Z",
     "start_time": "2020-07-08T02:02:56.525738Z"
    }
   },
   "outputs": [],
   "source": [
    "class Solution(object):\n",
    "    def minIncrementForUnique(self, A):\n",
    "        \"\"\"\n",
    "        :type A: List[int]\n",
    "        :rtype: int\n",
    "        \"\"\"\n",
    "        counter = dict()\n",
    "        for num in A:\n",
    "            if num not in counter:\n",
    "                counter[num] = 0\n",
    "            counter[num] += 1\n",
    "        res = 0\n",
    "        queue = []\n",
    "        for i in range(100000):\n",
    "            if i in counter and counter[i] >= 2:\n",
    "                queue.extend([i for _ in range(counter[i] - 1)])\n",
    "            elif queue and i not in counter:\n",
    "                num = queue.pop(0)\n",
    "                res += i - num\n",
    "        return res"
   ]
  },
  {
   "cell_type": "code",
   "execution_count": null,
   "metadata": {},
   "outputs": [],
   "source": []
  }
 ],
 "metadata": {
  "kernelspec": {
   "display_name": "Python 3",
   "language": "python",
   "name": "python3"
  },
  "language_info": {
   "codemirror_mode": {
    "name": "ipython",
    "version": 3
   },
   "file_extension": ".py",
   "mimetype": "text/x-python",
   "name": "python",
   "nbconvert_exporter": "python",
   "pygments_lexer": "ipython3",
   "version": "3.7.4"
  },
  "toc": {
   "base_numbering": 1,
   "nav_menu": {},
   "number_sections": true,
   "sideBar": true,
   "skip_h1_title": false,
   "title_cell": "Table of Contents",
   "title_sidebar": "Contents",
   "toc_cell": false,
   "toc_position": {},
   "toc_section_display": true,
   "toc_window_display": false
  }
 },
 "nbformat": 4,
 "nbformat_minor": 4
}
