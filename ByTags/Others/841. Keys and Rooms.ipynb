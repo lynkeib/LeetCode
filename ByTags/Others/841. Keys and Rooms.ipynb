{
 "cells": [
  {
   "cell_type": "code",
   "execution_count": 1,
   "metadata": {
    "ExecuteTime": {
     "end_time": "2020-07-18T03:31:43.750389Z",
     "start_time": "2020-07-18T03:31:43.744291Z"
    }
   },
   "outputs": [],
   "source": [
    "class Solution(object):\n",
    "    def canVisitAllRooms(self, rooms):\n",
    "        seen = [False] * len(rooms)\n",
    "        seen[0] = True\n",
    "        stack = [0]\n",
    "        while stack:\n",
    "            node = stack.pop()\n",
    "            for nei in rooms[node]:\n",
    "                if not seen[nei]:\n",
    "                    seen[nei] = True\n",
    "                    stack.append(nei)\n",
    "        return all(seen)"
   ]
  },
  {
   "cell_type": "markdown",
   "metadata": {},
   "source": [
    "# TLE"
   ]
  },
  {
   "cell_type": "code",
   "execution_count": 2,
   "metadata": {
    "ExecuteTime": {
     "end_time": "2020-07-18T03:31:52.227200Z",
     "start_time": "2020-07-18T03:31:52.219895Z"
    }
   },
   "outputs": [],
   "source": [
    "class Solution(object):\n",
    "    def canVisitAllRooms(self, rooms):\n",
    "        \"\"\"\n",
    "        :type rooms: List[List[int]]\n",
    "        :rtype: bool\n",
    "        \"\"\"\n",
    "        N = len(rooms)\n",
    "        all_keys = int('1'*N, 2)\n",
    "        visited = {i: set([]) for i in range(N)}\n",
    "        visited[0].add(1)\n",
    "        queue = [(0, 1)]\n",
    "        while queue:\n",
    "            room, key = queue.pop(0)\n",
    "            for rk in rooms[room]:\n",
    "                key |= (1 << rk)\n",
    "            if key == all_keys:\n",
    "                return True\n",
    "            for room in range(N):\n",
    "                if (key >> room) & 1 == 1:\n",
    "                    status = (room, key)\n",
    "                    if status not in visited[room]:\n",
    "                        visited[room].add(status)\n",
    "                        queue.append(status)\n",
    "        return False"
   ]
  },
  {
   "cell_type": "code",
   "execution_count": null,
   "metadata": {},
   "outputs": [],
   "source": []
  }
 ],
 "metadata": {
  "kernelspec": {
   "display_name": "Python 3",
   "language": "python",
   "name": "python3"
  },
  "language_info": {
   "codemirror_mode": {
    "name": "ipython",
    "version": 3
   },
   "file_extension": ".py",
   "mimetype": "text/x-python",
   "name": "python",
   "nbconvert_exporter": "python",
   "pygments_lexer": "ipython3",
   "version": "3.7.4"
  },
  "toc": {
   "base_numbering": 1,
   "nav_menu": {},
   "number_sections": true,
   "sideBar": true,
   "skip_h1_title": false,
   "title_cell": "Table of Contents",
   "title_sidebar": "Contents",
   "toc_cell": false,
   "toc_position": {},
   "toc_section_display": true,
   "toc_window_display": false
  }
 },
 "nbformat": 4,
 "nbformat_minor": 4
}
