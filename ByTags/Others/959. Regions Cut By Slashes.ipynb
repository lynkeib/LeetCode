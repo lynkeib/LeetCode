{
 "cells": [
  {
   "cell_type": "code",
   "execution_count": 1,
   "metadata": {
    "ExecuteTime": {
     "end_time": "2020-07-17T04:25:12.093842Z",
     "start_time": "2020-07-17T04:25:12.081644Z"
    }
   },
   "outputs": [],
   "source": [
    "class Solution(object):\n",
    "    def regionsBySlashes(self, grid):\n",
    "        \"\"\"\n",
    "        :type grid: List[str]\n",
    "        :rtype: int\n",
    "        \"\"\"\n",
    "        n = len(grid)\n",
    "        parents = [0] * (n + 1) * (n + 1)\n",
    "        for row in range(n + 1):\n",
    "            for col in range(n + 1):\n",
    "                if row != 0 and row != n and col != 0 and col != n:\n",
    "                    index = self.Index(row, col, n)\n",
    "                    parents[index] = index\n",
    "        res = 1\n",
    "        for row in range(n):\n",
    "            for col in range(n):\n",
    "                if grid[row][col] == '/':\n",
    "                    node1 = row * (n + 1) + col + 1\n",
    "                    node2 = (row + 1) * (n + 1) + col\n",
    "                    p1, p2 = self.find(parents, node1), self.find(parents, node2)\n",
    "                    if p1 == p2:\n",
    "                        res += 1\n",
    "                    else:\n",
    "                        parents[p2] = p1\n",
    "                elif grid[row][col] == '\\\\':\n",
    "                    node1 = row * (n + 1) + col\n",
    "                    node2 = (row + 1) * (n + 1) + col + 1\n",
    "                    p1, p2 = self.find(parents, node1), self.find(parents, node2)\n",
    "                    if p1 == p2:\n",
    "                        res += 1\n",
    "                    else:\n",
    "                        parents[p2] = p1\n",
    "        return res\n",
    "    \n",
    "    def find(self, parents, node):\n",
    "        if parents[node] != node:\n",
    "            parents[node] = self.find(parents, parents[node])\n",
    "        return parents[node]\n",
    "    \n",
    "    def Index(self, row, col, n):\n",
    "        return row * (n + 1) + col;"
   ]
  },
  {
   "cell_type": "code",
   "execution_count": 2,
   "metadata": {
    "ExecuteTime": {
     "end_time": "2020-07-17T05:34:44.788724Z",
     "start_time": "2020-07-17T05:34:44.775760Z"
    }
   },
   "outputs": [
    {
     "data": {
      "text/plain": [
       "47"
      ]
     },
     "execution_count": 2,
     "metadata": {},
     "output_type": "execute_result"
    }
   ],
   "source": [
    "ord(\"/\")"
   ]
  },
  {
   "cell_type": "code",
   "execution_count": 4,
   "metadata": {
    "ExecuteTime": {
     "end_time": "2020-07-17T05:34:53.275470Z",
     "start_time": "2020-07-17T05:34:53.271791Z"
    }
   },
   "outputs": [
    {
     "data": {
      "text/plain": [
       "92"
      ]
     },
     "execution_count": 4,
     "metadata": {},
     "output_type": "execute_result"
    }
   ],
   "source": [
    "ord(\"\\\\\")"
   ]
  },
  {
   "cell_type": "code",
   "execution_count": null,
   "metadata": {},
   "outputs": [],
   "source": []
  }
 ],
 "metadata": {
  "kernelspec": {
   "display_name": "Python 3",
   "language": "python",
   "name": "python3"
  },
  "language_info": {
   "codemirror_mode": {
    "name": "ipython",
    "version": 3
   },
   "file_extension": ".py",
   "mimetype": "text/x-python",
   "name": "python",
   "nbconvert_exporter": "python",
   "pygments_lexer": "ipython3",
   "version": "3.7.4"
  },
  "toc": {
   "base_numbering": 1,
   "nav_menu": {},
   "number_sections": true,
   "sideBar": true,
   "skip_h1_title": false,
   "title_cell": "Table of Contents",
   "title_sidebar": "Contents",
   "toc_cell": false,
   "toc_position": {},
   "toc_section_display": true,
   "toc_window_display": false
  }
 },
 "nbformat": 4,
 "nbformat_minor": 4
}
