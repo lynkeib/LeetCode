{
 "cells": [
  {
   "cell_type": "markdown",
   "metadata": {},
   "source": [
    "# Union Find"
   ]
  },
  {
   "cell_type": "code",
   "execution_count": 1,
   "metadata": {
    "ExecuteTime": {
     "end_time": "2020-07-09T05:17:11.619982Z",
     "start_time": "2020-07-09T05:17:11.611988Z"
    }
   },
   "outputs": [],
   "source": [
    "class Solution(object):\n",
    "    def minSwapsCouples(self, row):\n",
    "        \"\"\"\n",
    "        :type row: List[int]\n",
    "        :rtype: int\n",
    "        \"\"\"\n",
    "        res, n, cnt = 0, len(row), len(row) / 2\n",
    "        parents = [i for i in range(n)]\n",
    "        for i in range(0, n - 1, 2):\n",
    "            p1, p2 = self.find(parents, row[i] / 2), self.find(parents, row[i + 1] / 2)\n",
    "            if p1 != p2:\n",
    "                parents[p2] = p1\n",
    "                cnt-=1\n",
    "        return n / 2 - cnt\n",
    "            \n",
    "    def find(self, parents, num):\n",
    "        if parents[num] != num:\n",
    "            return self.find(parents, parents[num])\n",
    "        return num"
   ]
  },
  {
   "cell_type": "markdown",
   "metadata": {},
   "source": [
    "# Greedy"
   ]
  },
  {
   "cell_type": "code",
   "execution_count": 2,
   "metadata": {
    "ExecuteTime": {
     "end_time": "2020-07-09T05:17:26.316504Z",
     "start_time": "2020-07-09T05:17:26.310603Z"
    }
   },
   "outputs": [],
   "source": [
    "class Solution(object):\n",
    "    def minSwapsCouples(self, row):\n",
    "        \"\"\"\n",
    "        :type row: List[int]\n",
    "        :rtype: int\n",
    "        \"\"\"\n",
    "        res = 0\n",
    "        for i in xrange(0, len(row), 2):\n",
    "            x = row[i]\n",
    "            if row[i+1] == x^1: \n",
    "                continue\n",
    "            res += 1\n",
    "            for j in xrange(i+1, len(row)):\n",
    "                if row[j] == x^1:\n",
    "                    row[i+1], row[j] = row[j], row[i+1]\n",
    "                    break\n",
    "        return res"
   ]
  },
  {
   "cell_type": "code",
   "execution_count": null,
   "metadata": {},
   "outputs": [],
   "source": []
  }
 ],
 "metadata": {
  "kernelspec": {
   "display_name": "Python 3",
   "language": "python",
   "name": "python3"
  },
  "language_info": {
   "codemirror_mode": {
    "name": "ipython",
    "version": 3
   },
   "file_extension": ".py",
   "mimetype": "text/x-python",
   "name": "python",
   "nbconvert_exporter": "python",
   "pygments_lexer": "ipython3",
   "version": "3.7.4"
  },
  "toc": {
   "base_numbering": 1,
   "nav_menu": {},
   "number_sections": true,
   "sideBar": true,
   "skip_h1_title": false,
   "title_cell": "Table of Contents",
   "title_sidebar": "Contents",
   "toc_cell": false,
   "toc_position": {},
   "toc_section_display": true,
   "toc_window_display": false
  }
 },
 "nbformat": 4,
 "nbformat_minor": 4
}
