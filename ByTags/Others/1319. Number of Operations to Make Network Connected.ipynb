{
 "cells": [
  {
   "cell_type": "code",
   "execution_count": 1,
   "metadata": {
    "ExecuteTime": {
     "end_time": "2020-07-08T02:04:16.565953Z",
     "start_time": "2020-07-08T02:04:16.557022Z"
    }
   },
   "outputs": [],
   "source": [
    "class Solution(object):\n",
    "    def makeConnected(self, n, connections):\n",
    "        \"\"\"\n",
    "        :type n: int\n",
    "        :type connections: List[List[int]]\n",
    "        :rtype: int\n",
    "        \"\"\"\n",
    "        cables = 0\n",
    "        parts = n\n",
    "        parents = [i for i in range(n)]\n",
    "        for n1, n2 in connections:\n",
    "            p1, p2 = self.find(parents, n1), self.find(parents, n2)\n",
    "            if p1 == p2:\n",
    "                cables += 1\n",
    "            else:\n",
    "                parents[p2] = p1\n",
    "                parts -= 1\n",
    "        if cables >= parts - 1:\n",
    "            return parts - 1\n",
    "        return -1\n",
    "        \n",
    "    \n",
    "    def find(self, parents, node):\n",
    "        if parents[node] != node:\n",
    "            parents[node] = parents[parents[node]]\n",
    "            return self.find(parents, parents[node])\n",
    "        return node"
   ]
  },
  {
   "cell_type": "code",
   "execution_count": null,
   "metadata": {},
   "outputs": [],
   "source": []
  }
 ],
 "metadata": {
  "kernelspec": {
   "display_name": "Python 3",
   "language": "python",
   "name": "python3"
  },
  "language_info": {
   "codemirror_mode": {
    "name": "ipython",
    "version": 3
   },
   "file_extension": ".py",
   "mimetype": "text/x-python",
   "name": "python",
   "nbconvert_exporter": "python",
   "pygments_lexer": "ipython3",
   "version": "3.7.4"
  },
  "toc": {
   "base_numbering": 1,
   "nav_menu": {},
   "number_sections": true,
   "sideBar": true,
   "skip_h1_title": false,
   "title_cell": "Table of Contents",
   "title_sidebar": "Contents",
   "toc_cell": false,
   "toc_position": {},
   "toc_section_display": true,
   "toc_window_display": false
  }
 },
 "nbformat": 4,
 "nbformat_minor": 4
}
