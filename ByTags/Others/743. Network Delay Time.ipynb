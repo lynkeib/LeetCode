{
 "cells": [
  {
   "cell_type": "markdown",
   "metadata": {},
   "source": [
    "# TLE"
   ]
  },
  {
   "cell_type": "code",
   "execution_count": 1,
   "metadata": {
    "ExecuteTime": {
     "end_time": "2020-07-17T03:49:46.083753Z",
     "start_time": "2020-07-17T03:49:46.073547Z"
    }
   },
   "outputs": [],
   "source": [
    "class Solution(object):\n",
    "    def networkDelayTime(self, times, N, K):\n",
    "        \"\"\"\n",
    "        :type times: List[List[int]]\n",
    "        :type N: int\n",
    "        :type K: int\n",
    "        :rtype: int\n",
    "        \"\"\"\n",
    "        graph = self.buildGraph(times, N)\n",
    "        timeUsed = {node:float(\"inf\") for node in range(1, N + 1)}\n",
    "        self.dfs(graph, timeUsed, K, 0)\n",
    "        res = max(timeUsed.values())\n",
    "        return res if res != float(\"inf\") else -1\n",
    "    \n",
    "    def buildGraph(self, times, N):\n",
    "        graph = dict()\n",
    "        for node in range(1, N + 1):\n",
    "            graph[node] = dict()\n",
    "        for u, v, w in times:\n",
    "            graph[u][v] = w\n",
    "        return graph\n",
    "\n",
    "    def dfs(self, graph, timeUsed, source, time):\n",
    "        if timeUsed[source] < time:\n",
    "            return\n",
    "        timeUsed[source] = time\n",
    "        for node, t in graph[source].items():\n",
    "            self.dfs(graph, timeUsed, node, time + t)\n",
    "        \n",
    "         \n",
    "        "
   ]
  },
  {
   "cell_type": "markdown",
   "metadata": {},
   "source": [
    "# Dijkstra's Algorithm"
   ]
  },
  {
   "cell_type": "code",
   "execution_count": 2,
   "metadata": {
    "ExecuteTime": {
     "end_time": "2020-07-17T03:54:20.918898Z",
     "start_time": "2020-07-17T03:54:20.910446Z"
    }
   },
   "outputs": [],
   "source": [
    "class Solution(object):\n",
    "    def networkDelayTime(self, times, N, K):\n",
    "        \"\"\"\n",
    "        :type times: List[List[int]]\n",
    "        :type N: int\n",
    "        :type K: int\n",
    "        :rtype: int\n",
    "        \"\"\"\n",
    "        graph = self.buildGraph(times, N)\n",
    "        heap = [(0, K)]\n",
    "        dist = dict()\n",
    "        while heap:\n",
    "            time, node = heapq.heappop(heap)\n",
    "            if node not in dist:\n",
    "                dist[node] = time\n",
    "                for nei, t in graph[node].items():\n",
    "                    if nei not in dist:\n",
    "                        heapq.heappush(heap, (time + t, nei))\n",
    "        return max(dist.values()) if len(dist) == N else -1\n",
    "    \n",
    "    def buildGraph(self, times, N):\n",
    "        graph = dict()\n",
    "        for node in range(1, N + 1):\n",
    "            graph[node] = dict()\n",
    "        for u, v, w in times:\n",
    "            graph[u][v] = w\n",
    "        return graph    "
   ]
  },
  {
   "cell_type": "code",
   "execution_count": null,
   "metadata": {},
   "outputs": [],
   "source": []
  }
 ],
 "metadata": {
  "kernelspec": {
   "display_name": "Python 3",
   "language": "python",
   "name": "python3"
  },
  "language_info": {
   "codemirror_mode": {
    "name": "ipython",
    "version": 3
   },
   "file_extension": ".py",
   "mimetype": "text/x-python",
   "name": "python",
   "nbconvert_exporter": "python",
   "pygments_lexer": "ipython3",
   "version": "3.7.4"
  },
  "toc": {
   "base_numbering": 1,
   "nav_menu": {},
   "number_sections": true,
   "sideBar": true,
   "skip_h1_title": false,
   "title_cell": "Table of Contents",
   "title_sidebar": "Contents",
   "toc_cell": false,
   "toc_position": {},
   "toc_section_display": true,
   "toc_window_display": false
  }
 },
 "nbformat": 4,
 "nbformat_minor": 4
}
