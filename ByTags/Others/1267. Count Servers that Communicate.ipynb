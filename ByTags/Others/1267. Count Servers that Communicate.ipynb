{
 "cells": [
  {
   "cell_type": "code",
   "execution_count": 2,
   "metadata": {
    "ExecuteTime": {
     "end_time": "2020-07-18T23:09:24.714934Z",
     "start_time": "2020-07-18T23:09:24.707175Z"
    }
   },
   "outputs": [],
   "source": [
    "class Solution(object):\n",
    "    def countServers(self, grid):\n",
    "        \"\"\"\n",
    "        :type grid: List[List[int]]\n",
    "        :rtype: int\n",
    "        \"\"\"\n",
    "        res = 0\n",
    "        rows = len(grid)\n",
    "        if not rows:\n",
    "            return res\n",
    "        cols = len(grid[0])\n",
    "        rowCount, colCount = dict(), dict()\n",
    "        for row in range(rows):\n",
    "            for col in range(cols):\n",
    "                if grid[row][col] == 1:\n",
    "                    rowCount[row] = rowCount.get(row, 0) + 1\n",
    "                    colCount[col] = colCount.get(col, 0) + 1\n",
    "        for row in range(rows):\n",
    "            for col in range(cols):\n",
    "                if grid[row][col] == 1:\n",
    "                    if rowCount.get(row, 0) > 1 or colCount.get(col, 0) > 1:\n",
    "                        res+=1\n",
    "        return res"
   ]
  },
  {
   "cell_type": "code",
   "execution_count": 1,
   "metadata": {
    "ExecuteTime": {
     "end_time": "2020-07-18T23:03:18.367360Z",
     "start_time": "2020-07-18T23:03:18.351430Z"
    }
   },
   "outputs": [],
   "source": [
    "class Solution(object):\n",
    "    def countServers(self, grid):\n",
    "        \"\"\"\n",
    "        :type grid: List[List[int]]\n",
    "        :rtype: int\n",
    "        \"\"\"\n",
    "        res = 0\n",
    "        rows = len(grid)\n",
    "        if not rows:\n",
    "            return res\n",
    "        cols = len(grid[0])\n",
    "        total = rows * cols\n",
    "        roots = [i for i in range(total)]\n",
    "        for row in range(rows):\n",
    "            for col in range(cols):\n",
    "                n1 = self.index(row, col, rows, cols)\n",
    "                p1 = self.find(roots, n1)\n",
    "                if grid[row][col] == 1 and p1 == n1:\n",
    "                    res += 1\n",
    "                    count = 1\n",
    "                    # up\n",
    "                    for crow in range(0, row):\n",
    "                        if grid[crow][col] == 1:\n",
    "                            count += 1\n",
    "                            n2 = self.index(crow, col, rows, cols)\n",
    "                            p2 = self.find(roots, n2)\n",
    "                            if p2 == n2:\n",
    "                                res += 1\n",
    "                            roots[p2] = p1\n",
    "                    # down\n",
    "                    for crow in range(row + 1, rows):\n",
    "                        if grid[crow][col] == 1:\n",
    "                            count += 1\n",
    "                            n2 = self.index(crow, col, rows, cols)\n",
    "                            p2 = self.find(roots, n2)\n",
    "                            if p2 == n2:\n",
    "                                res += 1\n",
    "                            roots[p2] = p1\n",
    "                    # left\n",
    "                    for ccol in range(0, col):\n",
    "                        if grid[row][ccol] == 1:\n",
    "                            count += 1\n",
    "                            n2 = self.index(row, ccol, rows, cols)\n",
    "                            p2 = self.find(roots, n2)\n",
    "                            if p2 == n2:\n",
    "                                res += 1\n",
    "                            roots[p2] = p1\n",
    "                    # right\n",
    "                    for ccol in range(col + 1, cols):\n",
    "                        if grid[row][ccol] == 1:\n",
    "                            count += 1\n",
    "                            n2 = self.index(row, ccol, rows, cols)\n",
    "                            p2 = self.find(roots, n2)\n",
    "                            if p2 == n2:\n",
    "                                res += 1\n",
    "                            roots[p2] = p1\n",
    "                    if count == 1:\n",
    "                        res -= 1\n",
    "        # print(roots)\n",
    "        return res\n",
    "    \n",
    "    def find(self, roots, node):\n",
    "        if roots[node] != node:\n",
    "            roots[node] = self.find(roots, roots[node])\n",
    "        return roots[node] \n",
    "    \n",
    "    def index(self, row, col, rows, cols):\n",
    "        return row * cols + col"
   ]
  },
  {
   "cell_type": "code",
   "execution_count": null,
   "metadata": {},
   "outputs": [],
   "source": []
  }
 ],
 "metadata": {
  "kernelspec": {
   "display_name": "Python 3",
   "language": "python",
   "name": "python3"
  },
  "language_info": {
   "codemirror_mode": {
    "name": "ipython",
    "version": 3
   },
   "file_extension": ".py",
   "mimetype": "text/x-python",
   "name": "python",
   "nbconvert_exporter": "python",
   "pygments_lexer": "ipython3",
   "version": "3.7.4"
  },
  "toc": {
   "base_numbering": 1,
   "nav_menu": {},
   "number_sections": true,
   "sideBar": true,
   "skip_h1_title": false,
   "title_cell": "Table of Contents",
   "title_sidebar": "Contents",
   "toc_cell": false,
   "toc_position": {},
   "toc_section_display": true,
   "toc_window_display": false
  }
 },
 "nbformat": 4,
 "nbformat_minor": 4
}
