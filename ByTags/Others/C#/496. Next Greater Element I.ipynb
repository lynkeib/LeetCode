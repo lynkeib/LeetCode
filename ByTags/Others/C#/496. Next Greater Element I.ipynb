{
 "cells": [
  {
   "cell_type": "code",
   "execution_count": 1,
   "metadata": {
    "ExecuteTime": {
     "end_time": "2020-05-22T03:49:15.4788790Z",
     "start_time": "2020-05-22T03:49:13.787Z"
    }
   },
   "outputs": [],
   "source": [
    "public class Solution {\n",
    "    public int[] NextGreaterElement(int[] nums1, int[] nums2) {\n",
    "        var stack = new Stack<int>();\n",
    "        var map = new Dictionary<int, int>();\n",
    "        foreach(var n in nums2){\n",
    "            while(stack.Count != 0 && stack.Peek() < n){\n",
    "                var thisnum = stack.Pop();\n",
    "                map[thisnum] = n;\n",
    "            }\n",
    "            stack.Push(n);\n",
    "        }\n",
    "        var res = new int[nums1.Length];\n",
    "        for(int i = 0; i < nums1.Length; i++){\n",
    "            res[i] = map.ContainsKey(nums1[i]) ? map[nums1[i]] : -1;\n",
    "        }\n",
    "        return res;\n",
    "    }\n",
    "}"
   ]
  },
  {
   "cell_type": "code",
   "execution_count": null,
   "metadata": {},
   "outputs": [],
   "source": []
  }
 ],
 "metadata": {
  "kernelspec": {
   "display_name": ".NET (C#)",
   "language": "C#",
   "name": ".net-csharp"
  },
  "language_info": {
   "file_extension": ".cs",
   "mimetype": "text/x-csharp",
   "name": "C#",
   "pygments_lexer": "csharp",
   "version": "8.0"
  },
  "toc": {
   "base_numbering": 1,
   "nav_menu": {},
   "number_sections": true,
   "sideBar": true,
   "skip_h1_title": false,
   "title_cell": "Table of Contents",
   "title_sidebar": "Contents",
   "toc_cell": false,
   "toc_position": {},
   "toc_section_display": true,
   "toc_window_display": false
  }
 },
 "nbformat": 4,
 "nbformat_minor": 4
}
