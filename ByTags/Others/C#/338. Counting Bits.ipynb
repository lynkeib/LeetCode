{
 "cells": [
  {
   "cell_type": "code",
   "execution_count": 1,
   "metadata": {
    "ExecuteTime": {
     "end_time": "2020-05-08T23:31:15.5493110Z",
     "start_time": "2020-05-08T23:31:14.525Z"
    }
   },
   "outputs": [],
   "source": [
    "public class Solution {\n",
    "    public int[] CountBits(int num) {\n",
    "        var res = new int[num + 1];\n",
    "        var pow = 0;\n",
    "        var mapping = 0;\n",
    "        for(int i = 1; i < num + 1; i++){\n",
    "            if(i == (int)Math.Pow(2, pow)){\n",
    "                mapping = 0;\n",
    "                pow++;\n",
    "            }\n",
    "            res[i] = res[mapping] + 1;\n",
    "            mapping++;\n",
    "        }\n",
    "        return res;\n",
    "    }\n",
    "}"
   ]
  },
  {
   "cell_type": "code",
   "execution_count": null,
   "metadata": {},
   "outputs": [],
   "source": []
  }
 ],
 "metadata": {
  "kernelspec": {
   "display_name": ".NET (C#)",
   "language": "C#",
   "name": ".net-csharp"
  },
  "language_info": {
   "file_extension": ".cs",
   "mimetype": "text/x-csharp",
   "name": "C#",
   "pygments_lexer": "csharp",
   "version": "8.0"
  },
  "toc": {
   "base_numbering": 1,
   "nav_menu": {},
   "number_sections": true,
   "sideBar": true,
   "skip_h1_title": false,
   "title_cell": "Table of Contents",
   "title_sidebar": "Contents",
   "toc_cell": false,
   "toc_position": {},
   "toc_section_display": true,
   "toc_window_display": false
  }
 },
 "nbformat": 4,
 "nbformat_minor": 4
}
