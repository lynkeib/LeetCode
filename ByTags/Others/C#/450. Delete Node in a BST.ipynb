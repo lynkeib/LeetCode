{
 "cells": [
  {
   "cell_type": "code",
   "execution_count": 1,
   "metadata": {
    "ExecuteTime": {
     "end_time": "2020-05-26T03:38:06.1951470Z",
     "start_time": "2020-05-26T03:38:05.342Z"
    }
   },
   "outputs": [
    {
     "ename": "Unhandled Exception",
     "evalue": "(15,32): error CS0246: The type or namespace name 'TreeNode' could not be found (are you missing a using directive or an assembly reference?)\n(15,12): error CS0246: The type or namespace name 'TreeNode' could not be found (are you missing a using directive or an assembly reference?)",
     "output_type": "error",
     "traceback": [
      "(15,32): error CS0246: The type or namespace name 'TreeNode' could not be found (are you missing a using directive or an assembly reference?)\n(15,12): error CS0246: The type or namespace name 'TreeNode' could not be found (are you missing a using directive or an assembly reference?)"
     ]
    }
   ],
   "source": [
    "/**\n",
    " * Definition for a binary tree node.\n",
    " * public class TreeNode {\n",
    " *     public int val;\n",
    " *     public TreeNode left;\n",
    " *     public TreeNode right;\n",
    " *     public TreeNode(int val=0, TreeNode left=null, TreeNode right=null) {\n",
    " *         this.val = val;\n",
    " *         this.left = left;\n",
    " *         this.right = right;\n",
    " *     }\n",
    " * }\n",
    " */\n",
    "public class Solution {\n",
    "    public TreeNode DeleteNode(TreeNode root, int key) {\n",
    "        if(root == null){\n",
    "            return root;\n",
    "        }\n",
    "        if(root.val > key){\n",
    "            root.left = DeleteNode(root.left, key);\n",
    "        }\n",
    "        else if(root.val < key){\n",
    "            root.right = DeleteNode(root.right, key);\n",
    "        }else{\n",
    "            if(root.left == null && root.right == null){\n",
    "                root = null;\n",
    "            }else if(root.left != null){\n",
    "                var curr = root;\n",
    "                curr = curr.left;\n",
    "                while(curr.right != null){\n",
    "                    curr = curr.right;\n",
    "                }\n",
    "                root.val = curr.val;\n",
    "                root.left = DeleteNode(root.left, root.val);\n",
    "            }else{\n",
    "                var curr = root;\n",
    "                curr = curr.right;\n",
    "                while(curr.left != null){\n",
    "                    curr = curr.left;\n",
    "                }\n",
    "                root.val = curr.val;\n",
    "                root.right = DeleteNode(root.right, root.val);\n",
    "            }\n",
    "        }\n",
    "        return root;\n",
    "    }\n",
    "}"
   ]
  },
  {
   "cell_type": "code",
   "execution_count": null,
   "metadata": {},
   "outputs": [],
   "source": []
  }
 ],
 "metadata": {
  "kernelspec": {
   "display_name": ".NET (C#)",
   "language": "C#",
   "name": ".net-csharp"
  },
  "language_info": {
   "file_extension": ".cs",
   "mimetype": "text/x-csharp",
   "name": "C#",
   "pygments_lexer": "csharp",
   "version": "8.0"
  },
  "toc": {
   "base_numbering": 1,
   "nav_menu": {},
   "number_sections": true,
   "sideBar": true,
   "skip_h1_title": false,
   "title_cell": "Table of Contents",
   "title_sidebar": "Contents",
   "toc_cell": false,
   "toc_position": {},
   "toc_section_display": true,
   "toc_window_display": false
  }
 },
 "nbformat": 4,
 "nbformat_minor": 4
}
