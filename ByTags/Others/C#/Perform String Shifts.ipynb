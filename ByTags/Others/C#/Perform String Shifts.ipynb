{
 "cells": [
  {
   "cell_type": "code",
   "execution_count": 1,
   "metadata": {
    "ExecuteTime": {
     "end_time": "2020-04-14T16:18:08.8983360Z",
     "start_time": "2020-04-14T16:18:07.840Z"
    }
   },
   "outputs": [],
   "source": [
    "public class Solution {\n",
    "    public string StringShift(string s, int[][] shift) {\n",
    "        int shift_count = 0;\n",
    "        var res = new char[s.Length];\n",
    "        foreach (var item in shift)\n",
    "        {\n",
    "            if(item[0] == 0){\n",
    "                shift_count -= item[1];\n",
    "            }else{\n",
    "                shift_count += item[1];\n",
    "            }\n",
    "        }\n",
    "        // Console.WriteLine(shift_count);\n",
    "        for (int index = 0; index < s.Length; index++)\n",
    "        {\n",
    "            var next_index = index + shift_count;\n",
    "            while(next_index < 0){\n",
    "                next_index += s.Length;\n",
    "            }\n",
    "            next_index = next_index % s.Length;\n",
    "            res[next_index] = s[index];\n",
    "        }\n",
    "        return new string(res);\n",
    "    }\n",
    "}"
   ]
  },
  {
   "cell_type": "code",
   "execution_count": null,
   "metadata": {},
   "outputs": [],
   "source": []
  }
 ],
 "metadata": {
  "kernelspec": {
   "display_name": ".NET (C#)",
   "language": "C#",
   "name": ".net-csharp"
  },
  "language_info": {
   "file_extension": ".cs",
   "mimetype": "text/x-csharp",
   "name": "C#",
   "pygments_lexer": "csharp",
   "version": "8.0"
  },
  "toc": {
   "base_numbering": 1,
   "nav_menu": {},
   "number_sections": true,
   "sideBar": true,
   "skip_h1_title": false,
   "title_cell": "Table of Contents",
   "title_sidebar": "Contents",
   "toc_cell": false,
   "toc_position": {},
   "toc_section_display": true,
   "toc_window_display": false
  }
 },
 "nbformat": 4,
 "nbformat_minor": 4
}
