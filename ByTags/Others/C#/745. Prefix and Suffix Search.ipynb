{
 "cells": [
  {
   "cell_type": "code",
   "execution_count": 1,
   "metadata": {
    "ExecuteTime": {
     "end_time": "2020-06-05T02:07:19.6636110Z",
     "start_time": "2020-06-05T02:07:18.262Z"
    }
   },
   "outputs": [],
   "source": [
    "public class WordFilter {\n",
    "\n",
    "    public class TrieNode{\n",
    "        public char c;\n",
    "        public int weight;\n",
    "        public TrieNode[] children = new TrieNode[27];\n",
    "        public TrieNode(char c){\n",
    "            c = ' ';\n",
    "            weight = 0;\n",
    "        }\n",
    "    }\n",
    "    \n",
    "    TrieNode root = new TrieNode(' ');\n",
    "    \n",
    "    public WordFilter(string[] words) {\n",
    "        for(int weight = 0; weight < words.Length; weight++){\n",
    "            var word = words[weight] + '{';\n",
    "            for(int start = 0; start < word.Length; start++){\n",
    "                var curr = root;\n",
    "                curr.weight = weight;\n",
    "                for(int end = start; end < 2 * word.Length - 1; end++){\n",
    "                    char c = word[end % word.Length];\n",
    "                    if(curr.children[c - 'a'] == null){\n",
    "                        curr.children[c - 'a'] = new TrieNode(c);\n",
    "                    }\n",
    "                    curr = curr.children[c - 'a'];\n",
    "                    curr.weight = weight;\n",
    "                }\n",
    "            }\n",
    "        }\n",
    "    }\n",
    "    \n",
    "    public int F(string prefix, string suffix) {\n",
    "        var curr = root;\n",
    "        var thisSearch = suffix + '{' + prefix;\n",
    "        foreach(var c in thisSearch){\n",
    "            if(curr.children[c - 'a'] == null){\n",
    "                return -1;\n",
    "            }\n",
    "            curr = curr.children[c - 'a'];\n",
    "        }\n",
    "        return curr.weight;\n",
    "    }\n",
    "}\n",
    "\n",
    "/**\n",
    " * Your WordFilter object will be instantiated and called as such:\n",
    " * WordFilter obj = new WordFilter(words);\n",
    " * int param_1 = obj.F(prefix,suffix);\n",
    " */"
   ]
  },
  {
   "cell_type": "code",
   "execution_count": null,
   "metadata": {},
   "outputs": [],
   "source": []
  }
 ],
 "metadata": {
  "kernelspec": {
   "display_name": ".NET (C#)",
   "language": "C#",
   "name": ".net-csharp"
  },
  "language_info": {
   "file_extension": ".cs",
   "mimetype": "text/x-csharp",
   "name": "C#",
   "pygments_lexer": "csharp",
   "version": "8.0"
  },
  "toc": {
   "base_numbering": 1,
   "nav_menu": {},
   "number_sections": true,
   "sideBar": true,
   "skip_h1_title": false,
   "title_cell": "Table of Contents",
   "title_sidebar": "Contents",
   "toc_cell": false,
   "toc_position": {},
   "toc_section_display": true,
   "toc_window_display": false
  }
 },
 "nbformat": 4,
 "nbformat_minor": 4
}
