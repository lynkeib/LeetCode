{
 "cells": [
  {
   "cell_type": "code",
   "execution_count": 1,
   "metadata": {
    "ExecuteTime": {
     "end_time": "2020-06-03T21:45:07.2996490Z",
     "start_time": "2020-06-03T21:45:06.297Z"
    }
   },
   "outputs": [],
   "source": [
    "public class Solution {\n",
    "    public int BalancedStringSplit(string s) {\n",
    "        var res = 0;\n",
    "        int R = 0, L = 0;\n",
    "        foreach(var c in s){\n",
    "            if(c == 'R'){\n",
    "                R++;\n",
    "            }else if(c == 'L'){\n",
    "                L++;\n",
    "            }\n",
    "            if(R == L && R != 0){\n",
    "                res++;\n",
    "                R = 0;\n",
    "                L = 0;\n",
    "            }\n",
    "        }\n",
    "        return res;\n",
    "    }\n",
    "}"
   ]
  },
  {
   "cell_type": "code",
   "execution_count": null,
   "metadata": {},
   "outputs": [],
   "source": []
  }
 ],
 "metadata": {
  "kernelspec": {
   "display_name": ".NET (C#)",
   "language": "C#",
   "name": ".net-csharp"
  },
  "language_info": {
   "file_extension": ".cs",
   "mimetype": "text/x-csharp",
   "name": "C#",
   "pygments_lexer": "csharp",
   "version": "8.0"
  },
  "toc": {
   "base_numbering": 1,
   "nav_menu": {},
   "number_sections": true,
   "sideBar": true,
   "skip_h1_title": false,
   "title_cell": "Table of Contents",
   "title_sidebar": "Contents",
   "toc_cell": false,
   "toc_position": {},
   "toc_section_display": true,
   "toc_window_display": false
  }
 },
 "nbformat": 4,
 "nbformat_minor": 4
}
