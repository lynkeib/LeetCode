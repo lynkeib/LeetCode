{
 "cells": [
  {
   "cell_type": "code",
   "execution_count": 1,
   "metadata": {
    "ExecuteTime": {
     "end_time": "2020-05-27T03:18:43.3289380Z",
     "start_time": "2020-05-27T03:18:42.387Z"
    }
   },
   "outputs": [],
   "source": [
    "public class Solution {\n",
    "    public bool IsLongPressedName(string name, string typed) {\n",
    "        int indexn = 0, indext = 0;\n",
    "        while(indexn < name.Length && indext < typed.Length){\n",
    "            while(indext < typed.Length && typed[indext] != name[indexn]){\n",
    "                if(indext > 0 && typed[indext] == typed[indext - 1]){\n",
    "                    indext++;\n",
    "                }else{\n",
    "                    return false;\n",
    "                }\n",
    "            }\n",
    "            if(indext >= typed.Length){\n",
    "                return false;\n",
    "            }\n",
    "            indext++;\n",
    "            indexn++;\n",
    "        }\n",
    "        while(indext > 0 && indext < typed.Length && typed[indext] == typed[indext - 1]){\n",
    "            indext++;\n",
    "        }\n",
    "        return indexn == name.Length && indext == typed.Length;\n",
    "    }\n",
    "}"
   ]
  },
  {
   "cell_type": "code",
   "execution_count": null,
   "metadata": {},
   "outputs": [],
   "source": []
  }
 ],
 "metadata": {
  "kernelspec": {
   "display_name": ".NET (C#)",
   "language": "C#",
   "name": ".net-csharp"
  },
  "language_info": {
   "file_extension": ".cs",
   "mimetype": "text/x-csharp",
   "name": "C#",
   "pygments_lexer": "csharp",
   "version": "8.0"
  },
  "toc": {
   "base_numbering": 1,
   "nav_menu": {},
   "number_sections": true,
   "sideBar": true,
   "skip_h1_title": false,
   "title_cell": "Table of Contents",
   "title_sidebar": "Contents",
   "toc_cell": false,
   "toc_position": {},
   "toc_section_display": true,
   "toc_window_display": false
  }
 },
 "nbformat": 4,
 "nbformat_minor": 4
}
