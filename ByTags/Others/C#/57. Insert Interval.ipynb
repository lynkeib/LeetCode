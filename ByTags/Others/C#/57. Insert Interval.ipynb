{
 "cells": [
  {
   "cell_type": "code",
   "execution_count": 1,
   "metadata": {
    "ExecuteTime": {
     "end_time": "2020-03-31T05:18:04.5015140Z",
     "start_time": "2020-03-31T05:18:03.151Z"
    }
   },
   "outputs": [],
   "source": [
    "public class Solution {\n",
    "    public int[][] Insert (int[][] intervals, int[] newInterval) {\n",
    "        var queue = new Queue<int[]> ();\n",
    "        foreach (var item in intervals) {\n",
    "            queue.Enqueue (item);\n",
    "        }\n",
    "        var res = new List<int[]> ();\n",
    "        while (queue.Count != 0) {\n",
    "            var item = queue.Dequeue ();\n",
    "            if (newInterval[0] <= item[1] && newInterval[0] >= item[0]) {\n",
    "                newInterval[0] = Math.Min (item[0], newInterval[0]);\n",
    "                newInterval[1] = Math.Max (item[1], newInterval[1]);\n",
    "            } else if (item[0] >= newInterval[0] && item[0] <= newInterval[1]) {\n",
    "                newInterval[0] = Math.Min (item[0], newInterval[0]);\n",
    "                newInterval[1] = Math.Max (item[1], newInterval[1]);\n",
    "            } else {\n",
    "                if(item[1] < newInterval[0]){\n",
    "                    res.Add (item.ToArray ());\n",
    "                }else{\n",
    "                    res.Add (newInterval.ToArray ());\n",
    "                    newInterval = item;\n",
    "                }\n",
    "                \n",
    "            }\n",
    "            // Console.WriteLine($\"{newInterval[0]} {newInterval[1]}\");\n",
    "        }\n",
    "        var ress = new int[res.Count + 1][];\n",
    "        for (int i = 0; i < res.Count; i++) {\n",
    "            ress[i] = res[i];\n",
    "        }\n",
    "        ress[res.Count] = newInterval;\n",
    "        return ress;\n",
    "    }\n",
    "}"
   ]
  },
  {
   "cell_type": "code",
   "execution_count": null,
   "metadata": {},
   "outputs": [],
   "source": []
  }
 ],
 "metadata": {
  "kernelspec": {
   "display_name": ".NET (C#)",
   "language": "C#",
   "name": ".net-csharp"
  },
  "language_info": {
   "file_extension": ".cs",
   "mimetype": "text/x-csharp",
   "name": "C#",
   "pygments_lexer": "csharp",
   "version": "8.0"
  },
  "toc": {
   "base_numbering": 1,
   "nav_menu": {},
   "number_sections": true,
   "sideBar": true,
   "skip_h1_title": false,
   "title_cell": "Table of Contents",
   "title_sidebar": "Contents",
   "toc_cell": false,
   "toc_position": {},
   "toc_section_display": true,
   "toc_window_display": false
  }
 },
 "nbformat": 4,
 "nbformat_minor": 4
}
