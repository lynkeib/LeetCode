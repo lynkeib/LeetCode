{
 "cells": [
  {
   "cell_type": "code",
   "execution_count": 1,
   "metadata": {
    "ExecuteTime": {
     "end_time": "2020-05-19T21:34:24.2047380Z",
     "start_time": "2020-05-19T21:34:23.142Z"
    }
   },
   "outputs": [],
   "source": [
    "public class StockSpanner {\n",
    "\n",
    "    List<int> dp = new List<int>();\n",
    "    List<int> nums = new List<int>();\n",
    "    \n",
    "    public StockSpanner() {\n",
    "        \n",
    "    }\n",
    "    \n",
    "    public int Next(int price) {\n",
    "        nums.Add(price);\n",
    "        dp.Add(1);\n",
    "        var curr_index = nums.Count - 1;\n",
    "        var count = 0;\n",
    "        while(curr_index > -1 && nums[curr_index] <= nums[nums.Count - 1]){\n",
    "            count += dp[curr_index];\n",
    "            curr_index -= dp[curr_index];\n",
    "        }\n",
    "        dp[nums.Count - 1] = count;\n",
    "        return count;\n",
    "    }\n",
    "}\n",
    "\n",
    "/**\n",
    " * Your StockSpanner object will be instantiated and called as such:\n",
    " * StockSpanner obj = new StockSpanner();\n",
    " * int param_1 = obj.Next(price);\n",
    " */"
   ]
  },
  {
   "cell_type": "code",
   "execution_count": null,
   "metadata": {},
   "outputs": [],
   "source": []
  }
 ],
 "metadata": {
  "kernelspec": {
   "display_name": ".NET (C#)",
   "language": "C#",
   "name": ".net-csharp"
  },
  "language_info": {
   "file_extension": ".cs",
   "mimetype": "text/x-csharp",
   "name": "C#",
   "pygments_lexer": "csharp",
   "version": "8.0"
  },
  "toc": {
   "base_numbering": 1,
   "nav_menu": {},
   "number_sections": true,
   "sideBar": true,
   "skip_h1_title": false,
   "title_cell": "Table of Contents",
   "title_sidebar": "Contents",
   "toc_cell": false,
   "toc_position": {},
   "toc_section_display": true,
   "toc_window_display": false
  }
 },
 "nbformat": 4,
 "nbformat_minor": 4
}
