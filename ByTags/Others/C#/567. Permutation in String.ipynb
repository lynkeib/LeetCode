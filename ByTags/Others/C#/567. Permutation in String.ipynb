{
 "cells": [
  {
   "cell_type": "code",
   "execution_count": 1,
   "metadata": {
    "ExecuteTime": {
     "end_time": "2020-05-18T20:35:08.3265720Z",
     "start_time": "2020-05-18T20:35:07.236Z"
    }
   },
   "outputs": [],
   "source": [
    "public class Solution {\n",
    "    public bool CheckInclusion(string s1, string s2) {\n",
    "        if(s1.Length > s2.Length){\n",
    "            return false;\n",
    "        }\n",
    "        if(s2.Length == 0){\n",
    "            return false;\n",
    "        }\n",
    "        var map = new int[26];\n",
    "        var count = 0;\n",
    "        foreach(var c in s1){\n",
    "            if(map[c - 'a'] == 0){\n",
    "                count++;\n",
    "            }\n",
    "            map[c - 'a']++;\n",
    "        }\n",
    "        var slow = 0;\n",
    "        var mapTemp = new int[26];\n",
    "        var countTemp = count;\n",
    "        // map.CopyTo(mapTemp, 0);\n",
    "        Array.Copy(map, mapTemp, 26);\n",
    "        for(int fast = 0; fast < s2.Length; fast++){\n",
    "            var c = s2[fast];\n",
    "            if(map[c - 'a'] == 0){\n",
    "                // map.CopyTo(mapTemp, 0);\n",
    "                Array.Copy(map, mapTemp, 26);\n",
    "                countTemp = count;\n",
    "                slow = fast + 1;\n",
    "                continue;\n",
    "            }\n",
    "            mapTemp[c - 'a']--;\n",
    "            if(mapTemp[c - 'a'] == 0){\n",
    "                countTemp--;\n",
    "            }\n",
    "            while(slow < fast && mapTemp[c - 'a'] < 0){\n",
    "                var c_slow = s2[slow];\n",
    "                mapTemp[c_slow - 'a']++;\n",
    "                if(mapTemp[c_slow - 'a'] > 0){\n",
    "                    countTemp++;\n",
    "                }\n",
    "                slow++;\n",
    "            }\n",
    "            if(countTemp == 0){\n",
    "                return true;\n",
    "            }\n",
    "        }\n",
    "        return count == 0? true : false;\n",
    "    }\n",
    "}"
   ]
  },
  {
   "cell_type": "code",
   "execution_count": null,
   "metadata": {},
   "outputs": [],
   "source": []
  }
 ],
 "metadata": {
  "kernelspec": {
   "display_name": ".NET (C#)",
   "language": "C#",
   "name": ".net-csharp"
  },
  "language_info": {
   "file_extension": ".cs",
   "mimetype": "text/x-csharp",
   "name": "C#",
   "pygments_lexer": "csharp",
   "version": "8.0"
  },
  "toc": {
   "base_numbering": 1,
   "nav_menu": {},
   "number_sections": true,
   "sideBar": true,
   "skip_h1_title": false,
   "title_cell": "Table of Contents",
   "title_sidebar": "Contents",
   "toc_cell": false,
   "toc_position": {},
   "toc_section_display": true,
   "toc_window_display": false
  }
 },
 "nbformat": 4,
 "nbformat_minor": 4
}
