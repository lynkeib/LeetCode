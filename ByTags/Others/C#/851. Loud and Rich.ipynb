{
 "cells": [
  {
   "cell_type": "code",
   "execution_count": 1,
   "metadata": {
    "ExecuteTime": {
     "end_time": "2020-03-27T04:43:05.1794900Z",
     "start_time": "2020-03-27T04:43:02.416Z"
    }
   },
   "outputs": [],
   "source": [
    "public class Solution {\n",
    "    public int[] LoudAndRich(int[][] richer, int[] quiet) {\n",
    "        int people = quiet.Length;\n",
    "        var map = new int[people,people];\n",
    "        foreach (var rich in richer)\n",
    "        {\n",
    "            map[rich[1], rich[0]] = 1;\n",
    "        }\n",
    "        var res = new int[people];\n",
    "        for(int i = 0; i < people; i++) res[i] = -1;\n",
    "        for(int i = 0; i < people; i++){\n",
    "            update(map, res, i, quiet);\n",
    "        }\n",
    "        return res;\n",
    "\n",
    "    }\n",
    "\n",
    "    public int update(int[,] map, int[] res, int node, int[] quiet){\n",
    "        if(res[node] == -1){\n",
    "            res[node] = node;\n",
    "            for (int i = 0; i < map.GetLength(0); i++)\n",
    "            {\n",
    "                if(map[node, i] == 1){\n",
    "                    int temp = update(map, res, i, quiet);\n",
    "                    if(quiet[temp] < quiet[res[node]]){\n",
    "                        res[node] = temp;\n",
    "                    }\n",
    "                }\n",
    "            }\n",
    "        }\n",
    "        return res[node];\n",
    "    }\n",
    "}"
   ]
  },
  {
   "cell_type": "code",
   "execution_count": null,
   "metadata": {},
   "outputs": [],
   "source": []
  }
 ],
 "metadata": {
  "kernelspec": {
   "display_name": ".NET (C#)",
   "language": "C#",
   "name": ".net-csharp"
  },
  "language_info": {
   "file_extension": ".cs",
   "mimetype": "text/x-csharp",
   "name": "C#",
   "pygments_lexer": "csharp",
   "version": "8.0"
  },
  "toc": {
   "base_numbering": 1,
   "nav_menu": {},
   "number_sections": true,
   "sideBar": true,
   "skip_h1_title": false,
   "title_cell": "Table of Contents",
   "title_sidebar": "Contents",
   "toc_cell": false,
   "toc_position": {},
   "toc_section_display": true,
   "toc_window_display": false
  }
 },
 "nbformat": 4,
 "nbformat_minor": 4
}
