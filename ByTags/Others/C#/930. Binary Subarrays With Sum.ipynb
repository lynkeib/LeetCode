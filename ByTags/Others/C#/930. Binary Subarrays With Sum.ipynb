{
 "cells": [
  {
   "cell_type": "code",
   "execution_count": 1,
   "metadata": {
    "ExecuteTime": {
     "end_time": "2020-05-25T03:37:36.0987310Z",
     "start_time": "2020-05-25T03:37:35.010Z"
    }
   },
   "outputs": [],
   "source": [
    "public class Solution {\n",
    "    public int NumSubarraysWithSum(int[] A, int S) {\n",
    "        var map = new Dictionary<int, int>();\n",
    "        map[0] = 1;\n",
    "        var sum = 0;\n",
    "        var res = 0;\n",
    "        foreach(var n in A){\n",
    "            sum += n;\n",
    "            var target = sum - S;\n",
    "            if(map.ContainsKey(target)){\n",
    "                res += map[target];\n",
    "            }\n",
    "            if(!map.ContainsKey(sum)){\n",
    "                map[sum] = 0;\n",
    "            }\n",
    "            map[sum]++;\n",
    "        }\n",
    "        return res;\n",
    "    }\n",
    "}"
   ]
  },
  {
   "cell_type": "code",
   "execution_count": 2,
   "metadata": {
    "ExecuteTime": {
     "end_time": "2020-05-25T03:57:48.3429040Z",
     "start_time": "2020-05-25T03:57:48.262Z"
    }
   },
   "outputs": [],
   "source": [
    "public class Solution {\n",
    "    public int NumSubarraysWithSum(int[] A, int S) {\n",
    "        int left = 0, right = 0;\n",
    "        int sum_left = 0, sum_right = 0;\n",
    "        var res = 0;\n",
    "        for(int i = 0; i < A.Length; i++){\n",
    "            sum_left += A[i];\n",
    "            sum_right += A[i];\n",
    "            while(left < i && sum_left > S){\n",
    "                sum_left -= A[left];\n",
    "                left++;\n",
    "            }\n",
    "            while(right < i && (A[right] == 0 || sum_right > S)){\n",
    "                sum_right-=A[right];\n",
    "                right++;\n",
    "            }\n",
    "            if(sum_left == S){\n",
    "                res += (right - left + 1);\n",
    "            }\n",
    "        }\n",
    "        return res;\n",
    "    }\n",
    "}"
   ]
  },
  {
   "cell_type": "code",
   "execution_count": null,
   "metadata": {},
   "outputs": [],
   "source": []
  }
 ],
 "metadata": {
  "kernelspec": {
   "display_name": ".NET (C#)",
   "language": "C#",
   "name": ".net-csharp"
  },
  "language_info": {
   "file_extension": ".cs",
   "mimetype": "text/x-csharp",
   "name": "C#",
   "pygments_lexer": "csharp",
   "version": "8.0"
  },
  "toc": {
   "base_numbering": 1,
   "nav_menu": {},
   "number_sections": true,
   "sideBar": true,
   "skip_h1_title": false,
   "title_cell": "Table of Contents",
   "title_sidebar": "Contents",
   "toc_cell": false,
   "toc_position": {},
   "toc_section_display": true,
   "toc_window_display": false
  }
 },
 "nbformat": 4,
 "nbformat_minor": 4
}
