{
 "cells": [
  {
   "cell_type": "code",
   "execution_count": 1,
   "metadata": {
    "ExecuteTime": {
     "end_time": "2020-04-29T04:49:06.9964150Z",
     "start_time": "2020-04-29T04:49:05.895Z"
    }
   },
   "outputs": [],
   "source": [
    "public class FirstUnique {\n",
    "\n",
    "    Dictionary<int, int> map;\n",
    "    Queue<int> queue;\n",
    "\n",
    "    public FirstUnique(int[] nums) {\n",
    "        map = new Dictionary<int, int>();\n",
    "        queue = new Queue<int>();\n",
    "        foreach (var num in nums)\n",
    "        {\n",
    "            if(!map.ContainsKey(num)){\n",
    "                queue.Enqueue(num);\n",
    "                map[num] = 0;\n",
    "            }\n",
    "            map[num]++;\n",
    "        }\n",
    "    }\n",
    "    \n",
    "    public int ShowFirstUnique() {\n",
    "        while(queue.Count != 0 && map[queue.Peek()] > 1){\n",
    "            queue.Dequeue();\n",
    "        }\n",
    "        if(queue.Count == 0){\n",
    "            return -1;\n",
    "        }\n",
    "        return queue.Peek();\n",
    "    }\n",
    "    \n",
    "    public void Add(int value) {\n",
    "        if(!map.ContainsKey(value)){\n",
    "            queue.Enqueue(value);\n",
    "            map[value] = 0;\n",
    "        }\n",
    "        map[value]++;\n",
    "        return;\n",
    "    }\n",
    "}\n",
    "\n",
    "/**\n",
    " * Your FirstUnique object will be instantiated and called as such:\n",
    " * FirstUnique obj = new FirstUnique(nums);\n",
    " * int param_1 = obj.ShowFirstUnique();\n",
    " * obj.Add(value);\n",
    " */"
   ]
  },
  {
   "cell_type": "code",
   "execution_count": null,
   "metadata": {},
   "outputs": [],
   "source": []
  }
 ],
 "metadata": {
  "kernelspec": {
   "display_name": ".NET (C#)",
   "language": "C#",
   "name": ".net-csharp"
  },
  "language_info": {
   "file_extension": ".cs",
   "mimetype": "text/x-csharp",
   "name": "C#",
   "pygments_lexer": "csharp",
   "version": "8.0"
  },
  "toc": {
   "base_numbering": 1,
   "nav_menu": {},
   "number_sections": true,
   "sideBar": true,
   "skip_h1_title": false,
   "title_cell": "Table of Contents",
   "title_sidebar": "Contents",
   "toc_cell": false,
   "toc_position": {},
   "toc_section_display": true,
   "toc_window_display": false
  }
 },
 "nbformat": 4,
 "nbformat_minor": 4
}
