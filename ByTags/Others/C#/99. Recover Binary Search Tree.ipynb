{
 "cells": [
  {
   "cell_type": "markdown",
   "metadata": {},
   "source": [
    "# Iterative (Space: O(H))"
   ]
  },
  {
   "cell_type": "code",
   "execution_count": 2,
   "metadata": {
    "ExecuteTime": {
     "end_time": "2020-05-25T21:57:41.1538960Z",
     "start_time": "2020-05-25T21:57:40.589Z"
    }
   },
   "outputs": [
    {
     "ename": "Unhandled Exception",
     "evalue": "(15,29): error CS0246: The type or namespace name 'TreeNode' could not be found (are you missing a using directive or an assembly reference?)\n(19,31): error CS0246: The type or namespace name 'TreeNode' could not be found (are you missing a using directive or an assembly reference?)\n(20,9): error CS0246: The type or namespace name 'TreeNode' could not be found (are you missing a using directive or an assembly reference?)\n(21,9): error CS0246: The type or namespace name 'TreeNode' could not be found (are you missing a using directive or an assembly reference?)\n(22,9): error CS0246: The type or namespace name 'TreeNode' could not be found (are you missing a using directive or an assembly reference?)\n(23,9): error CS0246: The type or namespace name 'TreeNode' could not be found (are you missing a using directive or an assembly reference?)",
     "output_type": "error",
     "traceback": [
      "(15,29): error CS0246: The type or namespace name 'TreeNode' could not be found (are you missing a using directive or an assembly reference?)\n(19,31): error CS0246: The type or namespace name 'TreeNode' could not be found (are you missing a using directive or an assembly reference?)\n(20,9): error CS0246: The type or namespace name 'TreeNode' could not be found (are you missing a using directive or an assembly reference?)\n(21,9): error CS0246: The type or namespace name 'TreeNode' could not be found (are you missing a using directive or an assembly reference?)\n(22,9): error CS0246: The type or namespace name 'TreeNode' could not be found (are you missing a using directive or an assembly reference?)\n(23,9): error CS0246: The type or namespace name 'TreeNode' could not be found (are you missing a using directive or an assembly reference?)"
     ]
    }
   ],
   "source": [
    "/**\n",
    " * Definition for a binary tree node.\n",
    " * public class TreeNode {\n",
    " *     public int val;m\n",
    " *     public TreeNode left;\n",
    " *     public TreeNode right;\n",
    " *     public TreeNode(int val=0, TreeNode left=null, TreeNode right=null) {\n",
    " *         this.val = val;\n",
    " *         this.left = left;\n",
    " *         this.right = right;\n",
    " *     }\n",
    " * }\n",
    " */\n",
    "public class Solution {\n",
    "    public void RecoverTree(TreeNode root) {\n",
    "        if(root == null){\n",
    "            return;\n",
    "        }\n",
    "        var stack = new Stack<TreeNode>();\n",
    "        TreeNode curr = root;\n",
    "        TreeNode prev = null;\n",
    "        TreeNode node1 = null;\n",
    "        TreeNode node2 = null;\n",
    "        while(curr != null || stack.Count != 0){\n",
    "            while(curr != null){\n",
    "                stack.Push(curr);\n",
    "                curr = curr.left;\n",
    "            }\n",
    "            curr = stack.Pop();\n",
    "            if(prev != null && curr.val < prev.val){\n",
    "                node2 = curr;\n",
    "                if(node1 == null){\n",
    "                    node1 = prev;\n",
    "                }else{\n",
    "                    break;\n",
    "                }\n",
    "            }\n",
    "            prev = curr;\n",
    "            curr = curr.right;\n",
    "        }\n",
    "        var v = node1.val;\n",
    "        node1.val = node2.val;\n",
    "        node2.val = v;\n",
    "        return;\n",
    "    }\n",
    "}"
   ]
  },
  {
   "cell_type": "markdown",
   "metadata": {},
   "source": [
    "# Morris (Space: O(1))"
   ]
  },
  {
   "cell_type": "code",
   "execution_count": 3,
   "metadata": {
    "ExecuteTime": {
     "end_time": "2020-05-25T23:13:24.9236340Z",
     "start_time": "2020-05-25T23:13:24.858Z"
    }
   },
   "outputs": [
    {
     "ename": "Unhandled Exception",
     "evalue": "(15,29): error CS0246: The type or namespace name 'TreeNode' could not be found (are you missing a using directive or an assembly reference?)\n(17,9): error CS0246: The type or namespace name 'TreeNode' could not be found (are you missing a using directive or an assembly reference?)\n(18,9): error CS0246: The type or namespace name 'TreeNode' could not be found (are you missing a using directive or an assembly reference?)\n(19,9): error CS0246: The type or namespace name 'TreeNode' could not be found (are you missing a using directive or an assembly reference?)",
     "output_type": "error",
     "traceback": [
      "(15,29): error CS0246: The type or namespace name 'TreeNode' could not be found (are you missing a using directive or an assembly reference?)\n(17,9): error CS0246: The type or namespace name 'TreeNode' could not be found (are you missing a using directive or an assembly reference?)\n(18,9): error CS0246: The type or namespace name 'TreeNode' could not be found (are you missing a using directive or an assembly reference?)\n(19,9): error CS0246: The type or namespace name 'TreeNode' could not be found (are you missing a using directive or an assembly reference?)"
     ]
    }
   ],
   "source": [
    "/**\n",
    " * Definition for a binary tree node.\n",
    " * public class TreeNode {\n",
    " *     public int val;\n",
    " *     public TreeNode left;\n",
    " *     public TreeNode right;\n",
    " *     public TreeNode(int val=0, TreeNode left=null, TreeNode right=null) {\n",
    " *         this.val = val;\n",
    " *         this.left = left;\n",
    " *         this.right = right;\n",
    " *     }\n",
    " * }\n",
    " */\n",
    "public class Solution {\n",
    "    public void RecoverTree(TreeNode root) {\n",
    "        var curr = root;\n",
    "        TreeNode node1 = null;\n",
    "        TreeNode node2 = null;\n",
    "        TreeNode prev = null;\n",
    "        while(curr != null){\n",
    "            if(curr.left == null){\n",
    "                if(prev != null && prev.val > curr.val){\n",
    "                    node2 = curr;\n",
    "                    if(node1 == null){\n",
    "                        node1 = prev;\n",
    "                    }\n",
    "                }\n",
    "                prev = curr;\n",
    "                curr = curr.right;\n",
    "            }else{\n",
    "                var temp = curr.left;\n",
    "                while(temp.right != null && temp.right != curr){\n",
    "                    temp = temp.right;\n",
    "                }\n",
    "                if(temp.right == null){\n",
    "                    temp.right = curr;\n",
    "                    curr = curr.left;\n",
    "                }else{\n",
    "                    if(prev != null && prev.val > curr.val){\n",
    "                        node2 = curr;\n",
    "                        if(node1 == null){\n",
    "                            node1 = temp;\n",
    "                        }\n",
    "                    }\n",
    "                    prev = curr;\n",
    "                    temp.right = null;\n",
    "                    curr = curr.right;\n",
    "                }\n",
    "            }\n",
    "        }\n",
    "        var v = node1.val;\n",
    "        node1.val = node2.val;\n",
    "        node2.val = v;\n",
    "        return;\n",
    "    }\n",
    "}"
   ]
  },
  {
   "cell_type": "code",
   "execution_count": null,
   "metadata": {},
   "outputs": [],
   "source": []
  }
 ],
 "metadata": {
  "kernelspec": {
   "display_name": ".NET (C#)",
   "language": "C#",
   "name": ".net-csharp"
  },
  "language_info": {
   "file_extension": ".cs",
   "mimetype": "text/x-csharp",
   "name": "C#",
   "pygments_lexer": "csharp",
   "version": "8.0"
  },
  "toc": {
   "base_numbering": 1,
   "nav_menu": {},
   "number_sections": true,
   "sideBar": true,
   "skip_h1_title": false,
   "title_cell": "Table of Contents",
   "title_sidebar": "Contents",
   "toc_cell": false,
   "toc_position": {},
   "toc_section_display": true,
   "toc_window_display": false
  }
 },
 "nbformat": 4,
 "nbformat_minor": 4
}
