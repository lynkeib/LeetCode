{
 "cells": [
  {
   "cell_type": "code",
   "execution_count": 1,
   "metadata": {},
   "outputs": [],
   "source": [
    "public class Solution {\n",
    "    public int FirstMissingPositive(int[] nums) {\n",
    "        for(int i = 0; i < nums.Length; i++){\n",
    "            while(nums[i] <= nums.Length && nums[i] > 0 && nums[nums[i] - 1] != nums[i]){\n",
    "                int temp = nums[nums[i] - 1];\n",
    "                nums[nums[i] - 1] = nums[i];\n",
    "                nums[i] = temp;\n",
    "            }\n",
    "        }\n",
    "        for(int i = 0; i < nums.Length; i++){\n",
    "            if(nums[i] != i + 1){\n",
    "                return i + 1;\n",
    "            }\n",
    "        }\n",
    "        return nums.Length + 1;\n",
    "    }\n",
    "}"
   ]
  },
  {
   "cell_type": "code",
   "execution_count": null,
   "metadata": {},
   "outputs": [],
   "source": []
  }
 ],
 "metadata": {
  "kernelspec": {
   "display_name": ".NET (C#)",
   "language": "C#",
   "name": ".net-csharp"
  },
  "language_info": {
   "file_extension": ".cs",
   "mimetype": "text/x-csharp",
   "name": "C#",
   "pygments_lexer": "csharp",
   "version": "8.0"
  },
  "toc": {
   "base_numbering": 1,
   "nav_menu": {},
   "number_sections": true,
   "sideBar": true,
   "skip_h1_title": false,
   "title_cell": "Table of Contents",
   "title_sidebar": "Contents",
   "toc_cell": false,
   "toc_position": {},
   "toc_section_display": true,
   "toc_window_display": false
  }
 },
 "nbformat": 4,
 "nbformat_minor": 4
}
