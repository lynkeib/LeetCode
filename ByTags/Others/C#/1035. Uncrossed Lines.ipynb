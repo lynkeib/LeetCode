{
 "cells": [
  {
   "cell_type": "code",
   "execution_count": 1,
   "metadata": {
    "ExecuteTime": {
     "end_time": "2020-05-27T00:07:43.2601940Z",
     "start_time": "2020-05-27T00:07:38.415Z"
    }
   },
   "outputs": [],
   "source": [
    "public class Solution {\n",
    "    \n",
    "    int res = int.MinValue;\n",
    "    int[,] dp;\n",
    "    \n",
    "    public int MaxUncrossedLines(int[] A, int[] B) {\n",
    "        int lA = A.Length, lB = B.Length;\n",
    "        if(lA == 0 || lB == 0){\n",
    "            return 0;\n",
    "        }\n",
    "        dp = new int[lA,lB];\n",
    "        for(int row = 0; row < lA; row++){\n",
    "            for(int col = 0; col < lB; col++){\n",
    "                dp[row, col] = -1;\n",
    "            }\n",
    "        }\n",
    "        dfs(0, A, 0, B);\n",
    "        return dp[0, 0];\n",
    "    }\n",
    "    \n",
    "    public int dfs(int start_indexA, int[] A, int start_indexB, int[] B){\n",
    "        if(start_indexA >= A.Length || start_indexB >= B.Length){\n",
    "            return 0;\n",
    "        }\n",
    "        if(dp[start_indexA, start_indexB] != -1){\n",
    "            return dp[start_indexA, start_indexB];\n",
    "        }\n",
    "        var count = 0;\n",
    "        for(int indexA = start_indexA; indexA < A.Length; indexA++){\n",
    "            for(int indexB = start_indexB; indexB < B.Length; indexB++){\n",
    "                if(A[indexA] == B[indexB]){\n",
    "                    count = Math.Max(count, dfs(indexA+1, A, indexB+1, B) + 1);\n",
    "                }\n",
    "            }\n",
    "        }\n",
    "        dp[start_indexA, start_indexB] = count;\n",
    "        return count;\n",
    "    }\n",
    "}"
   ]
  },
  {
   "cell_type": "code",
   "execution_count": 2,
   "metadata": {
    "ExecuteTime": {
     "end_time": "2020-05-27T00:10:32.6118130Z",
     "start_time": "2020-05-27T00:10:32.493Z"
    }
   },
   "outputs": [],
   "source": [
    "public class Solution {\n",
    "    public int MaxUncrossedLines(int[] A, int[] B) {\n",
    "        int m = A.Length;\n",
    "        int n = B.Length;\n",
    "        var dp = new int[m+1, n+1];\n",
    "        for (int i = 1; i <=m; i++)\n",
    "        {\n",
    "            for (int j = 1; j <= n; j++)\n",
    "            {\n",
    "                if (A[i-1] == B[j-1])\n",
    "                {\n",
    "                    dp[i, j] = 1 + dp[i-1, j-1];\n",
    "                }\n",
    "                else\n",
    "                {\n",
    "                    dp[i, j] = Math.Max(dp[i-1, j], dp[i, j-1]);\n",
    "                }\n",
    "            }\n",
    "        }\n",
    "        \n",
    "        return dp[m, n];\n",
    "    }\n",
    "}"
   ]
  },
  {
   "cell_type": "code",
   "execution_count": null,
   "metadata": {},
   "outputs": [],
   "source": []
  }
 ],
 "metadata": {
  "kernelspec": {
   "display_name": ".NET (C#)",
   "language": "C#",
   "name": ".net-csharp"
  },
  "language_info": {
   "file_extension": ".cs",
   "mimetype": "text/x-csharp",
   "name": "C#",
   "pygments_lexer": "csharp",
   "version": "8.0"
  },
  "toc": {
   "base_numbering": 1,
   "nav_menu": {},
   "number_sections": true,
   "sideBar": true,
   "skip_h1_title": false,
   "title_cell": "Table of Contents",
   "title_sidebar": "Contents",
   "toc_cell": false,
   "toc_position": {},
   "toc_section_display": true,
   "toc_window_display": false
  }
 },
 "nbformat": 4,
 "nbformat_minor": 4
}
