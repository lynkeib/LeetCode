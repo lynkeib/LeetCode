{
 "cells": [
  {
   "cell_type": "code",
   "execution_count": 1,
   "metadata": {
    "ExecuteTime": {
     "end_time": "2020-05-22T21:21:33.4843540Z",
     "start_time": "2020-05-22T21:21:32.121Z"
    }
   },
   "outputs": [],
   "source": [
    "public class Solution {\n",
    "    public string FrequencySort(string s) {\n",
    "        var count = new Dictionary<char, int>();\n",
    "        foreach(var c in s){\n",
    "            if(!count.ContainsKey(c)){\n",
    "                count[c] = 0;\n",
    "            }\n",
    "            count[c]++;\n",
    "        }\n",
    "        var sort = new List<(int, char)>();\n",
    "        foreach(KeyValuePair<char, int> kv in count){\n",
    "            sort.Add((kv.Value, kv.Key));\n",
    "        }\n",
    "        sort.Sort((a, b) => b.Item1.CompareTo(a.Item1));\n",
    "        var res = new StringBuilder();\n",
    "        foreach(var pair in sort){\n",
    "            for(int i = 0; i < pair.Item1; i++){\n",
    "                res.Append(pair.Item2);\n",
    "            }\n",
    "        }\n",
    "        return res.ToString();   \n",
    "    }\n",
    "}"
   ]
  },
  {
   "cell_type": "code",
   "execution_count": 2,
   "metadata": {
    "ExecuteTime": {
     "end_time": "2020-05-22T21:29:20.2175020Z",
     "start_time": "2020-05-22T21:29:20.126Z"
    }
   },
   "outputs": [],
   "source": [
    "public class Solution {\n",
    "    public string FrequencySort(string s) {\n",
    "        var strings = new int[256];\n",
    "        foreach(var c in s){\n",
    "            strings[c]++;\n",
    "        }\n",
    "        var strs = new StringBuilder[s.Length + 1];\n",
    "        for(int i = 0; i < strings.Length; i++){\n",
    "            var count = strings[i];\n",
    "            if(strs[count] == null){\n",
    "                strs[count] = new StringBuilder();\n",
    "            }\n",
    "            strs[count].Append((char)i, count);\n",
    "        }\n",
    "        var res = new StringBuilder();\n",
    "        for(int i = s.Length; i > -1; i--){\n",
    "            if(strs[i] != null){\n",
    "                res.Append(strs[i]);\n",
    "            }\n",
    "        }\n",
    "        return res.ToString();\n",
    "    }\n",
    "}"
   ]
  },
  {
   "cell_type": "code",
   "execution_count": null,
   "metadata": {},
   "outputs": [],
   "source": []
  }
 ],
 "metadata": {
  "kernelspec": {
   "display_name": ".NET (C#)",
   "language": "C#",
   "name": ".net-csharp"
  },
  "language_info": {
   "file_extension": ".cs",
   "mimetype": "text/x-csharp",
   "name": "C#",
   "pygments_lexer": "csharp",
   "version": "8.0"
  },
  "toc": {
   "base_numbering": 1,
   "nav_menu": {},
   "number_sections": true,
   "sideBar": true,
   "skip_h1_title": false,
   "title_cell": "Table of Contents",
   "title_sidebar": "Contents",
   "toc_cell": false,
   "toc_position": {},
   "toc_section_display": true,
   "toc_window_display": false
  }
 },
 "nbformat": 4,
 "nbformat_minor": 4
}
