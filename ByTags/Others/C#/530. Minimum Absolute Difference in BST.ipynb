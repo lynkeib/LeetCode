{
 "cells": [
  {
   "cell_type": "code",
   "execution_count": 1,
   "metadata": {
    "ExecuteTime": {
     "end_time": "2020-05-25T21:07:32.3429700Z",
     "start_time": "2020-05-25T21:07:30.577Z"
    }
   },
   "outputs": [
    {
     "ename": "Unhandled Exception",
     "evalue": "(16,37): error CS0246: The type or namespace name 'TreeNode' could not be found (are you missing a using directive or an assembly reference?)\n(21,24): error CS0246: The type or namespace name 'TreeNode' could not be found (are you missing a using directive or an assembly reference?)",
     "output_type": "error",
     "traceback": [
      "(16,37): error CS0246: The type or namespace name 'TreeNode' could not be found (are you missing a using directive or an assembly reference?)\n(21,24): error CS0246: The type or namespace name 'TreeNode' could not be found (are you missing a using directive or an assembly reference?)"
     ]
    }
   ],
   "source": [
    "/**\n",
    " * Definition for a binary tree node.\n",
    " * public class TreeNode {\n",
    " *     public int val;\n",
    " *     public TreeNode left;\n",
    " *     public TreeNode right;\n",
    " *     public TreeNode(int val=0, TreeNode left=null, TreeNode right=null) {\n",
    " *         this.val = val;\n",
    " *         this.left = left;\n",
    " *         this.right = right;\n",
    " *     }\n",
    " * }\n",
    " */\n",
    "public class Solution {\n",
    "    int res = int.MaxValue;\n",
    "    public int GetMinimumDifference(TreeNode root) {\n",
    "        helper(root, int.MinValue, int.MaxValue);\n",
    "        return res;\n",
    "    }\n",
    "    \n",
    "    public void helper(TreeNode root, int max, int min){\n",
    "        if(root == null){\n",
    "            return;\n",
    "        }\n",
    "        if(max != int.MinValue){\n",
    "            res = Math.Min(max - root.val, res);\n",
    "        }\n",
    "        if(min != int.MaxValue){\n",
    "            res = Math.Min(root.val - min, res);\n",
    "        }\n",
    "        // Console.WriteLine($\"{max}, {min}, {root.val}\");\n",
    "        helper(root.left, root.val, min);\n",
    "        helper(root.right, max, root.val);\n",
    "        return;\n",
    "    }\n",
    "}"
   ]
  },
  {
   "cell_type": "code",
   "execution_count": null,
   "metadata": {},
   "outputs": [],
   "source": []
  }
 ],
 "metadata": {
  "kernelspec": {
   "display_name": ".NET (C#)",
   "language": "C#",
   "name": ".net-csharp"
  },
  "language_info": {
   "file_extension": ".cs",
   "mimetype": "text/x-csharp",
   "name": "C#",
   "pygments_lexer": "csharp",
   "version": "8.0"
  },
  "toc": {
   "base_numbering": 1,
   "nav_menu": {},
   "number_sections": true,
   "sideBar": true,
   "skip_h1_title": false,
   "title_cell": "Table of Contents",
   "title_sidebar": "Contents",
   "toc_cell": false,
   "toc_position": {},
   "toc_section_display": true,
   "toc_window_display": false
  }
 },
 "nbformat": 4,
 "nbformat_minor": 4
}
