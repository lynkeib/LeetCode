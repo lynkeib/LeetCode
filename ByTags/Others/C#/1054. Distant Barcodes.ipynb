{
 "cells": [
  {
   "cell_type": "code",
   "execution_count": 1,
   "metadata": {
    "ExecuteTime": {
     "end_time": "2020-06-02T04:08:52.9568370Z",
     "start_time": "2020-06-02T04:08:51.862Z"
    }
   },
   "outputs": [],
   "source": [
    "public class Solution {\n",
    "    public int[] RearrangeBarcodes(int[] barcodes) {\n",
    "        var counter = new Dictionary<int, int>();\n",
    "        var maxCount = -1;\n",
    "        var maxN = -1;\n",
    "        var min = int.MaxValue;\n",
    "        var max = int.MinValue;\n",
    "        foreach(var n in barcodes){\n",
    "            if(!counter.ContainsKey(n)){\n",
    "                counter[n] = 0;\n",
    "            }\n",
    "            counter[n]++;\n",
    "            if(counter[n] > maxCount){\n",
    "                maxCount = counter[n];\n",
    "                maxN = n;\n",
    "            }\n",
    "            min = Math.Min(min, n);\n",
    "            max = Math.Max(max, n);\n",
    "        }\n",
    "        var pos = 0;\n",
    "        while(counter[maxN] != 0){\n",
    "            barcodes[pos] = maxN;\n",
    "            pos = pos + 2;\n",
    "            counter[maxN]--;\n",
    "        }\n",
    "        if(pos >= barcodes.Length){\n",
    "            pos = 1;\n",
    "        }\n",
    "        for(int i = min; i <= max; i++){\n",
    "            if(counter.ContainsKey(i)){\n",
    "                while(counter[i] != 0){\n",
    "                    // Console.WriteLine(i);\n",
    "                    barcodes[pos] = i;\n",
    "                    pos = pos + 2;\n",
    "                    if(pos >= barcodes.Length){\n",
    "                        pos = 1;\n",
    "                    }\n",
    "                    counter[i]--;\n",
    "                }\n",
    "            }\n",
    "        }\n",
    "        return barcodes;\n",
    "    }\n",
    "}"
   ]
  },
  {
   "cell_type": "code",
   "execution_count": null,
   "metadata": {},
   "outputs": [],
   "source": []
  }
 ],
 "metadata": {
  "kernelspec": {
   "display_name": ".NET (C#)",
   "language": "C#",
   "name": ".net-csharp"
  },
  "language_info": {
   "file_extension": ".cs",
   "mimetype": "text/x-csharp",
   "name": "C#",
   "pygments_lexer": "csharp",
   "version": "8.0"
  },
  "toc": {
   "base_numbering": 1,
   "nav_menu": {},
   "number_sections": true,
   "sideBar": true,
   "skip_h1_title": false,
   "title_cell": "Table of Contents",
   "title_sidebar": "Contents",
   "toc_cell": false,
   "toc_position": {},
   "toc_section_display": true,
   "toc_window_display": false
  }
 },
 "nbformat": 4,
 "nbformat_minor": 4
}
