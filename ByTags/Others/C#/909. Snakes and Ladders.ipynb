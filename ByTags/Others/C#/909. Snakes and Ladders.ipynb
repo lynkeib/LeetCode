{
 "cells": [
  {
   "cell_type": "code",
   "execution_count": 1,
   "metadata": {
    "ExecuteTime": {
     "end_time": "2020-07-01T03:45:14.7109490Z",
     "start_time": "2020-07-01T03:45:13.175Z"
    }
   },
   "outputs": [],
   "source": [
    "public class Solution {\n",
    "    \n",
    "    int N;\n",
    "    \n",
    "    public int SnakesAndLadders(int[][] board) {\n",
    "        if(board == null || board.Length == 0){\n",
    "            return 0;\n",
    "        }\n",
    "        N = board.Length;\n",
    "        var res = int.MaxValue;\n",
    "        var visited = new int[N * N + 1];\n",
    "        var queue = new Queue<int>();\n",
    "        queue.Enqueue(1);\n",
    "        visited[1] = 1;\n",
    "        int count = 0;\n",
    "        while(queue.Count != 0){\n",
    "            var size = queue.Count;\n",
    "            while(size != 0){\n",
    "                var node = queue.Dequeue();\n",
    "                if(node == N * N){\n",
    "                    res = Math.Min(res, count);\n",
    "                }else{\n",
    "                    for(int move = 1; move <= 6; move++){\n",
    "                        var next = node + move;\n",
    "                        if(next > N * N){\n",
    "                            break;\n",
    "                        }\n",
    "                        if(next == node){\n",
    "                            continue;\n",
    "                        }\n",
    "                        if(visited[next] != 1){\n",
    "                            var idx = index(next);\n",
    "                            visited[next] = 1;\n",
    "                            if(board[idx.row][idx.col] == -1){\n",
    "                                queue.Enqueue(next);\n",
    "                            }else{\n",
    "                                queue.Enqueue(board[idx.row][idx.col]);\n",
    "                            }\n",
    "                        }\n",
    "                    }\n",
    "                }\n",
    "                size--;\n",
    "            }\n",
    "            count++;\n",
    "        }\n",
    "        return res == int.MaxValue ? -1 : res;\n",
    "    }\n",
    "    \n",
    "    public (int row, int col) index(int num){\n",
    "        var row = N - (num - 1) / N - 1;\n",
    "        int col;\n",
    "        if((N - row) % 2 == 0){\n",
    "            col = N - (num - 1) % N - 1;\n",
    "        }else{\n",
    "            col = (num - 1) % N;\n",
    "        }\n",
    "        return (row, col);\n",
    "    }\n",
    "}"
   ]
  },
  {
   "cell_type": "code",
   "execution_count": null,
   "metadata": {},
   "outputs": [],
   "source": []
  }
 ],
 "metadata": {
  "kernelspec": {
   "display_name": ".NET (C#)",
   "language": "C#",
   "name": ".net-csharp"
  },
  "language_info": {
   "file_extension": ".cs",
   "mimetype": "text/x-csharp",
   "name": "C#",
   "pygments_lexer": "csharp",
   "version": "8.0"
  },
  "toc": {
   "base_numbering": 1,
   "nav_menu": {},
   "number_sections": true,
   "sideBar": true,
   "skip_h1_title": false,
   "title_cell": "Table of Contents",
   "title_sidebar": "Contents",
   "toc_cell": false,
   "toc_position": {},
   "toc_section_display": true,
   "toc_window_display": false
  }
 },
 "nbformat": 4,
 "nbformat_minor": 4
}
