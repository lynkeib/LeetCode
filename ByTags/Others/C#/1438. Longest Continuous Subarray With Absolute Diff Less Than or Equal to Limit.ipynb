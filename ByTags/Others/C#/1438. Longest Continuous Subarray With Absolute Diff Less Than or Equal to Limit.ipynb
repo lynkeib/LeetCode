{
 "cells": [
  {
   "cell_type": "code",
   "execution_count": 1,
   "metadata": {
    "ExecuteTime": {
     "end_time": "2020-05-21T03:01:09.0601420Z",
     "start_time": "2020-05-21T03:01:04.280Z"
    }
   },
   "outputs": [],
   "source": [
    "public class Solution {\n",
    "    public int LongestSubarray(int[] nums, int limit) {\n",
    "        var max = new List<int>();\n",
    "        var min = new List<int>();\n",
    "        int i = 0;\n",
    "        int j;\n",
    "        for(j = 0; j < nums.Length; j++){\n",
    "            while(max.Count != 0 && nums[j] > max[max.Count - 1]) max.RemoveAt(max.Count - 1);\n",
    "            while(min.Count != 0 && nums[j] < min[min.Count - 1]) min.RemoveAt(min.Count - 1);\n",
    "            max.Add(nums[j]);\n",
    "            min.Add(nums[j]);\n",
    "            if(max[0] - min[0] > limit){\n",
    "                if(max[0] == nums[i]) max.RemoveAt(0);\n",
    "                if(min[0] == nums[i]) min.RemoveAt(0);\n",
    "                i++;\n",
    "            }\n",
    "        }\n",
    "        return j - i;\n",
    "    }\n",
    "}"
   ]
  },
  {
   "cell_type": "code",
   "execution_count": null,
   "metadata": {},
   "outputs": [],
   "source": []
  }
 ],
 "metadata": {
  "kernelspec": {
   "display_name": ".NET (C#)",
   "language": "C#",
   "name": ".net-csharp"
  },
  "language_info": {
   "file_extension": ".cs",
   "mimetype": "text/x-csharp",
   "name": "C#",
   "pygments_lexer": "csharp",
   "version": "8.0"
  },
  "toc": {
   "base_numbering": 1,
   "nav_menu": {},
   "number_sections": true,
   "sideBar": true,
   "skip_h1_title": false,
   "title_cell": "Table of Contents",
   "title_sidebar": "Contents",
   "toc_cell": false,
   "toc_position": {},
   "toc_section_display": true,
   "toc_window_display": false
  }
 },
 "nbformat": 4,
 "nbformat_minor": 4
}
