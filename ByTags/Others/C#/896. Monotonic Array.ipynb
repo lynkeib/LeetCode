{
 "cells": [
  {
   "cell_type": "code",
   "execution_count": 1,
   "metadata": {
    "ExecuteTime": {
     "end_time": "2020-05-27T05:06:51.8587070Z",
     "start_time": "2020-05-27T05:06:50.389Z"
    }
   },
   "outputs": [],
   "source": [
    "public class Solution {\n",
    "    public bool IsMonotonic(int[] A) {\n",
    "        if(A.Length < 2){\n",
    "            return true;\n",
    "        }\n",
    "        int index = 0;\n",
    "        while(index < A.Length - 1 && A[index] == A[index + 1]){\n",
    "            index++;\n",
    "        }\n",
    "        if(index == A.Length - 1){\n",
    "            return true;\n",
    "        }\n",
    "        int diff = A[index + 1] - A[index];\n",
    "        for(int i = index + 1; i < A.Length - 1; i++){\n",
    "            int curr_diff = A[i + 1] - A[i];\n",
    "            if(curr_diff * diff < 0){\n",
    "                return false;\n",
    "            }\n",
    "        }\n",
    "        return true;\n",
    "    }\n",
    "}"
   ]
  },
  {
   "cell_type": "code",
   "execution_count": null,
   "metadata": {},
   "outputs": [],
   "source": []
  }
 ],
 "metadata": {
  "kernelspec": {
   "display_name": ".NET (C#)",
   "language": "C#",
   "name": ".net-csharp"
  },
  "language_info": {
   "file_extension": ".cs",
   "mimetype": "text/x-csharp",
   "name": "C#",
   "pygments_lexer": "csharp",
   "version": "8.0"
  },
  "toc": {
   "base_numbering": 1,
   "nav_menu": {},
   "number_sections": true,
   "sideBar": true,
   "skip_h1_title": false,
   "title_cell": "Table of Contents",
   "title_sidebar": "Contents",
   "toc_cell": false,
   "toc_position": {},
   "toc_section_display": true,
   "toc_window_display": false
  }
 },
 "nbformat": 4,
 "nbformat_minor": 4
}
