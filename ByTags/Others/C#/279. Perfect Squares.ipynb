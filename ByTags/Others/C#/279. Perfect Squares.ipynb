{
 "cells": [
  {
   "cell_type": "code",
   "execution_count": 1,
   "metadata": {
    "ExecuteTime": {
     "end_time": "2020-05-01T04:47:36.9826620Z",
     "start_time": "2020-05-01T04:47:35.950Z"
    }
   },
   "outputs": [],
   "source": [
    "public class Solution {\n",
    "    public int NumSquares(int n) {\n",
    "        var dp = new int[n + 1];\n",
    "        for(int i = 1; i <= n; i++){\n",
    "            int num = 1;\n",
    "            while(num * num <= i){\n",
    "                if(dp[i] == 0){\n",
    "                    dp[i] = dp[i - num * num] + 1;\n",
    "                }else{\n",
    "                    dp[i] = Math.Min(dp[i], dp[i - num * num] + 1);\n",
    "                }\n",
    "                num++;\n",
    "            }\n",
    "        }\n",
    "        return dp[n];\n",
    "    }\n",
    "}"
   ]
  },
  {
   "cell_type": "code",
   "execution_count": 2,
   "metadata": {
    "ExecuteTime": {
     "end_time": "2020-05-01T05:12:58.7499690Z",
     "start_time": "2020-05-01T05:12:58.512Z"
    }
   },
   "outputs": [],
   "source": [
    "public class Solution {\n",
    "        \n",
    "    HashSet<int> squarenums;\n",
    "    \n",
    "    public int NumSquares(int n) {\n",
    "        int num = (int)Math.Pow(n, 0.5) + 1;\n",
    "        squarenums = new HashSet<int>();\n",
    "        for(int i = 1; i <= num; i++){\n",
    "            squarenums.Add(i * i);\n",
    "        }\n",
    "        for(int count = 1; count <= n; count++){\n",
    "            if(is_divided_by(n, count)){\n",
    "                return count;\n",
    "            }\n",
    "        }\n",
    "        return 0;\n",
    "    }\n",
    "    \n",
    "    public bool is_divided_by(int num, int count){\n",
    "        if(count == 1){\n",
    "            return squarenums.Contains(num);\n",
    "        }\n",
    "        foreach(var n in squarenums){\n",
    "            if(is_divided_by(num - n, count - 1)){\n",
    "                return true;\n",
    "            }\n",
    "        }\n",
    "        return false;\n",
    "    }\n",
    "}"
   ]
  },
  {
   "cell_type": "code",
   "execution_count": null,
   "metadata": {},
   "outputs": [],
   "source": []
  }
 ],
 "metadata": {
  "kernelspec": {
   "display_name": ".NET (C#)",
   "language": "C#",
   "name": ".net-csharp"
  },
  "language_info": {
   "file_extension": ".cs",
   "mimetype": "text/x-csharp",
   "name": "C#",
   "pygments_lexer": "csharp",
   "version": "8.0"
  },
  "toc": {
   "base_numbering": 1,
   "nav_menu": {},
   "number_sections": true,
   "sideBar": true,
   "skip_h1_title": false,
   "title_cell": "Table of Contents",
   "title_sidebar": "Contents",
   "toc_cell": false,
   "toc_position": {},
   "toc_section_display": true,
   "toc_window_display": false
  }
 },
 "nbformat": 4,
 "nbformat_minor": 4
}
