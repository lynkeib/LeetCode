{
 "cells": [
  {
   "cell_type": "code",
   "execution_count": 1,
   "metadata": {
    "ExecuteTime": {
     "end_time": "2020-06-05T21:32:20.7481390Z",
     "start_time": "2020-06-05T21:32:19.774Z"
    }
   },
   "outputs": [],
   "source": [
    "public class Solution {\n",
    "    public uint reverseBits(uint n) {\n",
    "        uint res = n & 1;\n",
    "        n = n >> 1;\n",
    "        for(int i = 0; i < 31; i++){\n",
    "            uint t = n & 1;\n",
    "            n = n>>1;\n",
    "            res = res << 1;\n",
    "            res = res | t;\n",
    "        }\n",
    "        return res;\n",
    "    }\n",
    "}"
   ]
  },
  {
   "cell_type": "markdown",
   "metadata": {},
   "source": [
    "# Follow up"
   ]
  },
  {
   "cell_type": "code",
   "execution_count": 7,
   "metadata": {
    "ExecuteTime": {
     "end_time": "2020-06-05T21:46:07.8694540Z",
     "start_time": "2020-06-05T21:46:07.714Z"
    }
   },
   "outputs": [],
   "source": [
    "public class Solution {\n",
    "    \n",
    "    Dictionary<uint, uint> cache = new Dictionary<uint, uint>();\n",
    "    \n",
    "    public uint reverseBits(uint n) {\n",
    "        var bytes = new uint[4];\n",
    "        for(int i = 0; i < 4; i++){\n",
    "            bytes[i] = ((n >> 8 * i) & 0xff);\n",
    "        }\n",
    "        uint res = 0;\n",
    "        for(int i = 0; i < 4; i++){\n",
    "            res += reverseByte(bytes[i]);\n",
    "            if(i != 3){\n",
    "                res <<= 8;\n",
    "            }\n",
    "        }\n",
    "        return res;\n",
    "    }\n",
    "    \n",
    "    public uint reverseByte(uint n){\n",
    "        if(cache.ContainsKey(n)){\n",
    "            return cache[n];\n",
    "        }\n",
    "        uint res = 0;\n",
    "        for(int i = 0; i < 8; i++){\n",
    "            res += ((n >> i) & 1);\n",
    "            if(i != 7){\n",
    "                res <<= 1;\n",
    "            }\n",
    "        }\n",
    "        cache[n] = res;\n",
    "        return res;\n",
    "    }\n",
    "}"
   ]
  },
  {
   "cell_type": "code",
   "execution_count": null,
   "metadata": {},
   "outputs": [],
   "source": []
  }
 ],
 "metadata": {
  "kernelspec": {
   "display_name": ".NET (C#)",
   "language": "C#",
   "name": ".net-csharp"
  },
  "language_info": {
   "file_extension": ".cs",
   "mimetype": "text/x-csharp",
   "name": "C#",
   "pygments_lexer": "csharp",
   "version": "8.0"
  },
  "toc": {
   "base_numbering": 1,
   "nav_menu": {},
   "number_sections": true,
   "sideBar": true,
   "skip_h1_title": false,
   "title_cell": "Table of Contents",
   "title_sidebar": "Contents",
   "toc_cell": false,
   "toc_position": {},
   "toc_section_display": true,
   "toc_window_display": false
  }
 },
 "nbformat": 4,
 "nbformat_minor": 4
}
