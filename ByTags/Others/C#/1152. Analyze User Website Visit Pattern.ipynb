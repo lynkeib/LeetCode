{
 "cells": [
  {
   "cell_type": "code",
   "execution_count": 1,
   "metadata": {
    "ExecuteTime": {
     "end_time": "2020-06-02T23:35:42.9621900Z",
     "start_time": "2020-06-02T23:35:40.750Z"
    }
   },
   "outputs": [],
   "source": [
    "public class Solution {\n",
    "    public class Visit{\n",
    "        public string username;\n",
    "        public string website;\n",
    "        public int timestamp;\n",
    "        \n",
    "        public Visit(string username, string website, int timestamp){\n",
    "            this.username = username;\n",
    "            this.website = website;\n",
    "            this.timestamp = timestamp;\n",
    "        }\n",
    "    }\n",
    "    \n",
    "    public IList<string> MostVisitedPattern(string[] username, int[] timestamp, string[] website) {\n",
    "        \n",
    "        var counter = new Dictionary<string, int>();\n",
    "        var array = new Visit[timestamp.Length];\n",
    "        \n",
    "        for(int i = 0; i < username.Length; i++){\n",
    "            var visit = new Visit(username[i], website[i], timestamp[i]);\n",
    "            array[i] = visit;\n",
    "            if(!counter.ContainsKey(username[i])){\n",
    "                counter[username[i]] = 0;\n",
    "            }\n",
    "            counter[username[i]]++;\n",
    "        }\n",
    "        \n",
    "        Array.Sort(array, (a, b) => a.username == b.username ? a.timestamp.CompareTo(b.timestamp) : a.username.CompareTo(b.username));\n",
    "        \n",
    "        var combinationsCount = new Dictionary<string, int>();\n",
    "        \n",
    "        int start = 0;\n",
    "        int max = 0;\n",
    "        string res = \" \";\n",
    "        \n",
    "        while(start < array.Length){\n",
    "            var currUser =  array[start].username;\n",
    "            var size = counter[currUser];\n",
    "            \n",
    "            var combinations = new HashSet<string>();\n",
    "            \n",
    "            for(int first = start; first < start + size - 2; first++){\n",
    "                for(int second = first + 1; second < start + size - 1; second++){\n",
    "                    for(int last = second + 1; last < start + size; last++){\n",
    "                        var curr = $\"{array[first].website} {array[second].website} {array[last].website}\";\n",
    "                        combinations.Add(curr);\n",
    "                    }\n",
    "                }\n",
    "            }\n",
    "            \n",
    "            foreach(var comb in combinations){\n",
    "                var count = combinationsCount.ContainsKey(comb) ? combinationsCount[comb] + 1 : 1;\n",
    "                if(count > max || (count == max && comb.CompareTo(res) < 0)){\n",
    "                    max = count;\n",
    "                    res = comb;\n",
    "                }\n",
    "                combinationsCount[comb] = count;\n",
    "            }\n",
    "            \n",
    "            start += size;\n",
    "        }\n",
    "        return res.Split(\" \").ToList();\n",
    "    }\n",
    "}"
   ]
  },
  {
   "cell_type": "code",
   "execution_count": null,
   "metadata": {},
   "outputs": [],
   "source": []
  }
 ],
 "metadata": {
  "kernelspec": {
   "display_name": ".NET (C#)",
   "language": "C#",
   "name": ".net-csharp"
  },
  "language_info": {
   "file_extension": ".cs",
   "mimetype": "text/x-csharp",
   "name": "C#",
   "pygments_lexer": "csharp",
   "version": "8.0"
  },
  "toc": {
   "base_numbering": 1,
   "nav_menu": {},
   "number_sections": true,
   "sideBar": true,
   "skip_h1_title": false,
   "title_cell": "Table of Contents",
   "title_sidebar": "Contents",
   "toc_cell": false,
   "toc_position": {},
   "toc_section_display": true,
   "toc_window_display": false
  }
 },
 "nbformat": 4,
 "nbformat_minor": 4
}
