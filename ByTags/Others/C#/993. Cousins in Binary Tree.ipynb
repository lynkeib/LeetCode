{
 "cells": [
  {
   "cell_type": "code",
   "execution_count": 1,
   "metadata": {
    "ExecuteTime": {
     "end_time": "2020-05-08T03:51:10.0634180Z",
     "start_time": "2020-05-08T03:51:09.311Z"
    }
   },
   "outputs": [
    {
     "ename": "Unhandled Exception",
     "evalue": "(15,27): error CS0246: The type or namespace name 'TreeNode' could not be found (are you missing a using directive or an assembly reference?)\n(30,45): error CS0246: The type or namespace name 'TreeNode' could not be found (are you missing a using directive or an assembly reference?)\n(30,62): error CS0246: The type or namespace name 'TreeNode' could not be found (are you missing a using directive or an assembly reference?)\n(30,13): error CS0246: The type or namespace name 'TreeNode' could not be found (are you missing a using directive or an assembly reference?)",
     "output_type": "error",
     "traceback": [
      "(15,27): error CS0246: The type or namespace name 'TreeNode' could not be found (are you missing a using directive or an assembly reference?)\n(30,45): error CS0246: The type or namespace name 'TreeNode' could not be found (are you missing a using directive or an assembly reference?)\n(30,62): error CS0246: The type or namespace name 'TreeNode' could not be found (are you missing a using directive or an assembly reference?)\n(30,13): error CS0246: The type or namespace name 'TreeNode' could not be found (are you missing a using directive or an assembly reference?)"
     ]
    }
   ],
   "source": [
    "/**\n",
    " * Definition for a binary tree node.\n",
    " * public class TreeNode {\n",
    " *     public int val;\n",
    " *     public TreeNode left;\n",
    " *     public TreeNode right;\n",
    " *     public TreeNode(int val=0, TreeNode left=null, TreeNode right=null) {\n",
    " *         this.val = val;\n",
    " *         this.left = left;\n",
    " *         this.right = right;\n",
    " *     }\n",
    " * }\n",
    " */\n",
    "public class Solution {\n",
    "    public bool IsCousins(TreeNode root, int x, int y) {\n",
    "        var x_res = dfs(null, root, x, 0);\n",
    "        var y_res = dfs(null, root, y, 0);\n",
    "        if(x_res.parent == null && y_res.parent == null){\n",
    "            return true;\n",
    "        }\n",
    "        if(x_res.depth != y_res.depth){\n",
    "            return false;\n",
    "        }\n",
    "        if(x_res.parent.val == y_res.parent.val){\n",
    "            return false;\n",
    "        }\n",
    "        return true;\n",
    "    }\n",
    "    \n",
    "    public (TreeNode parent, int depth) dfs(TreeNode parent, TreeNode root, int target, int depth){\n",
    "        if(root.val == target){\n",
    "            return (parent, depth);\n",
    "        }\n",
    "        if(root.left != null){\n",
    "            var res = dfs(root, root.left, target, depth + 1);\n",
    "            if(res.parent != null){\n",
    "                return res;\n",
    "            }\n",
    "        }\n",
    "        if(root.right != null){\n",
    "            var res = dfs(root, root.right, target, depth + 1);\n",
    "            if(res.parent != null){\n",
    "                return res;\n",
    "            }\n",
    "        }\n",
    "        return (null, depth);\n",
    "        \n",
    "    }\n",
    "}"
   ]
  },
  {
   "cell_type": "code",
   "execution_count": null,
   "metadata": {},
   "outputs": [],
   "source": []
  }
 ],
 "metadata": {
  "kernelspec": {
   "display_name": ".NET (C#)",
   "language": "C#",
   "name": ".net-csharp"
  },
  "language_info": {
   "file_extension": ".cs",
   "mimetype": "text/x-csharp",
   "name": "C#",
   "pygments_lexer": "csharp",
   "version": "8.0"
  },
  "toc": {
   "base_numbering": 1,
   "nav_menu": {},
   "number_sections": true,
   "sideBar": true,
   "skip_h1_title": false,
   "title_cell": "Table of Contents",
   "title_sidebar": "Contents",
   "toc_cell": false,
   "toc_position": {},
   "toc_section_display": true,
   "toc_window_display": false
  }
 },
 "nbformat": 4,
 "nbformat_minor": 4
}
