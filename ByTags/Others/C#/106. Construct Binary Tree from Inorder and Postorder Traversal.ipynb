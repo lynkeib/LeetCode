{
 "cells": [
  {
   "cell_type": "markdown",
   "metadata": {},
   "source": [
    "# Iterative"
   ]
  },
  {
   "cell_type": "code",
   "execution_count": 1,
   "metadata": {
    "ExecuteTime": {
     "end_time": "2020-05-18T22:08:11.7018160Z",
     "start_time": "2020-05-18T22:08:10.320Z"
    }
   },
   "outputs": [
    {
     "ename": "Unhandled Exception",
     "evalue": "(15,12): error CS0246: The type or namespace name 'TreeNode' could not be found (are you missing a using directive or an assembly reference?)\n(19,31): error CS0246: The type or namespace name 'TreeNode' could not be found (are you missing a using directive or an assembly reference?)\n(22,24): error CS0246: The type or namespace name 'TreeNode' could not be found (are you missing a using directive or an assembly reference?)\n(26,13): error CS0246: The type or namespace name 'TreeNode' could not be found (are you missing a using directive or an assembly reference?)\n(31,28): error CS0246: The type or namespace name 'TreeNode' could not be found (are you missing a using directive or an assembly reference?)",
     "output_type": "error",
     "traceback": [
      "(15,12): error CS0246: The type or namespace name 'TreeNode' could not be found (are you missing a using directive or an assembly reference?)\n(19,31): error CS0246: The type or namespace name 'TreeNode' could not be found (are you missing a using directive or an assembly reference?)\n(22,24): error CS0246: The type or namespace name 'TreeNode' could not be found (are you missing a using directive or an assembly reference?)\n(26,13): error CS0246: The type or namespace name 'TreeNode' could not be found (are you missing a using directive or an assembly reference?)\n(31,28): error CS0246: The type or namespace name 'TreeNode' could not be found (are you missing a using directive or an assembly reference?)"
     ]
    }
   ],
   "source": [
    "/**\n",
    " * Definition for a binary tree node.\n",
    " * public class TreeNode {\n",
    " *     public int val;\n",
    " *     public TreeNode left;\n",
    " *     public TreeNode right;\n",
    " *     public TreeNode(int val=0, TreeNode left=null, TreeNode right=null) {\n",
    " *         this.val = val;\n",
    " *         this.left = left;\n",
    " *         this.right = right;\n",
    " *     }\n",
    " * }\n",
    " */\n",
    "public class Solution {\n",
    "    public TreeNode BuildTree(int[] inorder, int[] postorder) {\n",
    "        if(inorder.Length == 0){\n",
    "            return null;\n",
    "        }\n",
    "        var stack = new Stack<TreeNode>();\n",
    "        var ino = inorder.Length - 1;\n",
    "        var pos = postorder.Length - 1;\n",
    "        var root = new TreeNode(postorder[pos]);\n",
    "        stack.Push(root);\n",
    "        pos--;\n",
    "        while(pos > -1){\n",
    "            TreeNode prev = null;\n",
    "            while(stack.Count != 0 && stack.Peek().val == inorder[ino]){\n",
    "                prev = stack.Pop();\n",
    "                ino--;\n",
    "            }\n",
    "            var node = new TreeNode(postorder[pos]);\n",
    "            if(prev != null){\n",
    "                prev.left = node;\n",
    "            }else if(stack.Count != 0){\n",
    "                stack.Peek().right = node;\n",
    "            }\n",
    "            stack.Push(node);\n",
    "            pos--;\n",
    "        }\n",
    "        return root;\n",
    "    }\n",
    "}"
   ]
  },
  {
   "cell_type": "markdown",
   "metadata": {},
   "source": [
    "# Recursive"
   ]
  },
  {
   "cell_type": "code",
   "execution_count": 2,
   "metadata": {
    "ExecuteTime": {
     "end_time": "2020-05-18T22:32:24.9049250Z",
     "start_time": "2020-05-18T22:32:24.704Z"
    }
   },
   "outputs": [
    {
     "ename": "Unhandled Exception",
     "evalue": "(19,12): error CS0246: The type or namespace name 'TreeNode' could not be found (are you missing a using directive or an assembly reference?)\n(28,12): error CS0246: The type or namespace name 'TreeNode' could not be found (are you missing a using directive or an assembly reference?)\n(35,24): error CS0246: The type or namespace name 'TreeNode' could not be found (are you missing a using directive or an assembly reference?)",
     "output_type": "error",
     "traceback": [
      "(19,12): error CS0246: The type or namespace name 'TreeNode' could not be found (are you missing a using directive or an assembly reference?)\n(28,12): error CS0246: The type or namespace name 'TreeNode' could not be found (are you missing a using directive or an assembly reference?)\n(35,24): error CS0246: The type or namespace name 'TreeNode' could not be found (are you missing a using directive or an assembly reference?)"
     ]
    }
   ],
   "source": [
    "/**\n",
    " * Definition for a binary tree node.\n",
    " * public class TreeNode {\n",
    " *     public int val;\n",
    " *     public TreeNode left;\n",
    " *     public TreeNode right;\n",
    " *     public TreeNode(int val=0, TreeNode left=null, TreeNode right=null) {\n",
    " *         this.val = val;\n",
    " *         this.left = left;\n",
    " *         this.right = right;\n",
    " *     }\n",
    " * }\n",
    " */\n",
    "public class Solution {\n",
    "    \n",
    "    int posIndex;\n",
    "    Dictionary<int, int> map = new Dictionary<int, int>();\n",
    "    int[] postorder;\n",
    "    public TreeNode BuildTree(int[] inorder, int[] postorder) {\n",
    "        posIndex = postorder.Length - 1;\n",
    "        this.postorder = postorder;\n",
    "        for(int i = 0; i < inorder.Length; i++){\n",
    "            map[inorder[i]] = i;\n",
    "        }\n",
    "        return helper(0, inorder.Length - 1);\n",
    "    }\n",
    "    \n",
    "    public TreeNode helper(int low, int high){\n",
    "        if(low > high){\n",
    "            return null;\n",
    "        }\n",
    "        var value = postorder[posIndex];\n",
    "        posIndex--;\n",
    "        var index = map[value];\n",
    "        var node = new TreeNode(value);\n",
    "        node.right = helper(index + 1, high);\n",
    "        node.left = helper(low, index - 1);\n",
    "        return node;\n",
    "    }\n",
    "}"
   ]
  },
  {
   "cell_type": "code",
   "execution_count": null,
   "metadata": {},
   "outputs": [],
   "source": []
  }
 ],
 "metadata": {
  "kernelspec": {
   "display_name": ".NET (C#)",
   "language": "C#",
   "name": ".net-csharp"
  },
  "language_info": {
   "file_extension": ".cs",
   "mimetype": "text/x-csharp",
   "name": "C#",
   "pygments_lexer": "csharp",
   "version": "8.0"
  },
  "toc": {
   "base_numbering": 1,
   "nav_menu": {},
   "number_sections": true,
   "sideBar": true,
   "skip_h1_title": false,
   "title_cell": "Table of Contents",
   "title_sidebar": "Contents",
   "toc_cell": false,
   "toc_position": {},
   "toc_section_display": true,
   "toc_window_display": false
  }
 },
 "nbformat": 4,
 "nbformat_minor": 4
}
