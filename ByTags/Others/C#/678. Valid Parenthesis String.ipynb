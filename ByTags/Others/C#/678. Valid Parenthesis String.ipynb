{
 "cells": [
  {
   "cell_type": "code",
   "execution_count": 1,
   "metadata": {
    "ExecuteTime": {
     "end_time": "2020-04-17T03:25:54.6722280Z",
     "start_time": "2020-04-17T03:25:53.594Z"
    }
   },
   "outputs": [],
   "source": [
    "public class Solution {\n",
    "    public bool CheckValidString(string s) {\n",
    "        int lo = 0, hi = 0;\n",
    "        foreach(var c in s){\n",
    "            if(c == '('){\n",
    "                lo++;\n",
    "                hi++;\n",
    "            }else if(c == ')'){\n",
    "                lo--;\n",
    "                hi--;\n",
    "            }else{\n",
    "                hi++;\n",
    "                lo--;\n",
    "            }\n",
    "            if(hi < 0){\n",
    "                break;\n",
    "            }\n",
    "            lo = Math.Max(0, lo);  \n",
    "        }\n",
    "        return lo == 0;\n",
    "    }\n",
    "}"
   ]
  },
  {
   "cell_type": "code",
   "execution_count": null,
   "metadata": {},
   "outputs": [],
   "source": []
  }
 ],
 "metadata": {
  "kernelspec": {
   "display_name": ".NET (C#)",
   "language": "C#",
   "name": ".net-csharp"
  },
  "language_info": {
   "file_extension": ".cs",
   "mimetype": "text/x-csharp",
   "name": "C#",
   "pygments_lexer": "csharp",
   "version": "8.0"
  },
  "toc": {
   "base_numbering": 1,
   "nav_menu": {},
   "number_sections": true,
   "sideBar": true,
   "skip_h1_title": false,
   "title_cell": "Table of Contents",
   "title_sidebar": "Contents",
   "toc_cell": false,
   "toc_position": {},
   "toc_section_display": true,
   "toc_window_display": false
  }
 },
 "nbformat": 4,
 "nbformat_minor": 4
}
