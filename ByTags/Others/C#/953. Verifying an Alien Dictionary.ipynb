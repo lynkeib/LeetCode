{
 "cells": [
  {
   "cell_type": "code",
   "execution_count": 1,
   "metadata": {
    "ExecuteTime": {
     "end_time": "2020-07-04T04:36:31.1310360Z",
     "start_time": "2020-07-04T04:36:29.997Z"
    }
   },
   "outputs": [],
   "source": [
    "public class Solution {\n",
    "    public bool IsAlienSorted(string[] words, string order) {\n",
    "        var index = new int[26];\n",
    "        for(int i = 0; i < 26; i++){\n",
    "            var c = order[i];\n",
    "            index[c - 'a'] = i;\n",
    "        }\n",
    "        for(int i = 0; i < words.Length - 1; i++){\n",
    "            var word1 = words[i];\n",
    "            var word2 = words[i + 1];\n",
    "            var len1 = word1.Length;\n",
    "            var len2 = word2.Length;\n",
    "            var minLen = Math.Min(len1, len2);\n",
    "            var counter = 0;\n",
    "            for(int j = 0; j < minLen; j++){\n",
    "                var char1 = word1[j];\n",
    "                var char2 = word2[j];\n",
    "                if(char1 != char2){\n",
    "                    var index1 = index[char1 - 'a'];\n",
    "                    var index2 = index[char2 - 'a'];\n",
    "                    if(index1 > index2){\n",
    "                        return false;\n",
    "                    }\n",
    "                    break;\n",
    "                }\n",
    "                counter++;\n",
    "            }\n",
    "            if(counter == minLen && counter == len2){\n",
    "                return false;\n",
    "            }\n",
    "        }\n",
    "        return true;\n",
    "    }\n",
    "}"
   ]
  },
  {
   "cell_type": "code",
   "execution_count": null,
   "metadata": {},
   "outputs": [],
   "source": []
  }
 ],
 "metadata": {
  "kernelspec": {
   "display_name": ".NET (C#)",
   "language": "C#",
   "name": ".net-csharp"
  },
  "language_info": {
   "file_extension": ".cs",
   "mimetype": "text/x-csharp",
   "name": "C#",
   "pygments_lexer": "csharp",
   "version": "8.0"
  },
  "toc": {
   "base_numbering": 1,
   "nav_menu": {},
   "number_sections": true,
   "sideBar": true,
   "skip_h1_title": false,
   "title_cell": "Table of Contents",
   "title_sidebar": "Contents",
   "toc_cell": false,
   "toc_position": {},
   "toc_section_display": true,
   "toc_window_display": false
  }
 },
 "nbformat": 4,
 "nbformat_minor": 4
}
