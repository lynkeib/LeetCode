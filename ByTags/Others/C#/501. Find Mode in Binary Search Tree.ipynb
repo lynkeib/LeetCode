{
 "cells": [
  {
   "cell_type": "code",
   "execution_count": 1,
   "metadata": {
    "ExecuteTime": {
     "end_time": "2020-05-26T00:17:34.6938060Z",
     "start_time": "2020-05-26T00:17:33.998Z"
    }
   },
   "outputs": [
    {
     "ename": "Unhandled Exception",
     "evalue": "(15,27): error CS0246: The type or namespace name 'TreeNode' could not be found (are you missing a using directive or an assembly reference?)\n(20,9): error CS0246: The type or namespace name 'TreeNode' could not be found (are you missing a using directive or an assembly reference?)",
     "output_type": "error",
     "traceback": [
      "(15,27): error CS0246: The type or namespace name 'TreeNode' could not be found (are you missing a using directive or an assembly reference?)\n(20,9): error CS0246: The type or namespace name 'TreeNode' could not be found (are you missing a using directive or an assembly reference?)"
     ]
    }
   ],
   "source": [
    "/**\n",
    " * Definition for a binary tree node.\n",
    " * public class TreeNode {\n",
    " *     public int val;\n",
    " *     public TreeNode left;\n",
    " *     public TreeNode right;\n",
    " *     public TreeNode(int val=0, TreeNode left=null, TreeNode right=null) {\n",
    " *         this.val = val;\n",
    " *         this.left = left;\n",
    " *         this.right = right;\n",
    " *     }\n",
    " * }\n",
    " */\n",
    "public class Solution {\n",
    "    public int[] FindMode(TreeNode root) {\n",
    "        var curr = root;\n",
    "        var count = 0;\n",
    "        var max = int.MinValue;\n",
    "        var res = new List<int>();\n",
    "        TreeNode prev = null;\n",
    "        while(curr != null){\n",
    "            if(curr.left == null){\n",
    "                // update\n",
    "                if(prev == null){\n",
    "                    count = 1;\n",
    "                }else if(prev.val != curr.val){\n",
    "                    count = 1;\n",
    "                }else if(prev.val == curr.val){\n",
    "                    count++;\n",
    "                }\n",
    "                if(count > max){\n",
    "                    max = count;\n",
    "                    res.Clear();\n",
    "                    res.Add(curr.val);\n",
    "                }else if(count == max){\n",
    "                    res.Add(curr.val);\n",
    "                }\n",
    "                // update\n",
    "                prev = curr;\n",
    "                curr = curr.right;\n",
    "            }else{\n",
    "                var temp = curr.left;\n",
    "                while(temp.right != null && temp.right != curr){\n",
    "                    temp = temp.right;\n",
    "                }\n",
    "                if(temp.right == null){\n",
    "                    temp.right = curr;\n",
    "                    curr = curr.left;\n",
    "                }\n",
    "                if(temp.right == curr){\n",
    "                    // update\n",
    "                    if(prev == null){\n",
    "                        count = 1;\n",
    "                    }else if(prev.val != curr.val){\n",
    "                        count = 1;\n",
    "                    }else if(prev.val == curr.val){\n",
    "                        count++;\n",
    "                    }\n",
    "                    if(count > max){\n",
    "                        max = count;\n",
    "                        res.Clear();\n",
    "                        res.Add(curr.val);\n",
    "                    }else if(count == max){\n",
    "                        res.Add(curr.val);\n",
    "                    }\n",
    "                    // update\n",
    "                    prev = curr;\n",
    "                    temp.right = null;\n",
    "                    curr = curr.right;\n",
    "                }\n",
    "            }\n",
    "        }\n",
    "        return res.ToArray();\n",
    "    }\n",
    "}"
   ]
  },
  {
   "cell_type": "code",
   "execution_count": null,
   "metadata": {},
   "outputs": [],
   "source": []
  }
 ],
 "metadata": {
  "kernelspec": {
   "display_name": ".NET (C#)",
   "language": "C#",
   "name": ".net-csharp"
  },
  "language_info": {
   "file_extension": ".cs",
   "mimetype": "text/x-csharp",
   "name": "C#",
   "pygments_lexer": "csharp",
   "version": "8.0"
  },
  "toc": {
   "base_numbering": 1,
   "nav_menu": {},
   "number_sections": true,
   "sideBar": true,
   "skip_h1_title": false,
   "title_cell": "Table of Contents",
   "title_sidebar": "Contents",
   "toc_cell": false,
   "toc_position": {},
   "toc_section_display": true,
   "toc_window_display": false
  }
 },
 "nbformat": 4,
 "nbformat_minor": 4
}
