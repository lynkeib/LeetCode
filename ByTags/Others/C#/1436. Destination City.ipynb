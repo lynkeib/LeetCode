{
 "cells": [
  {
   "cell_type": "code",
   "execution_count": 1,
   "metadata": {
    "ExecuteTime": {
     "end_time": "2020-05-21T02:16:14.0216850Z",
     "start_time": "2020-05-21T02:16:12.985Z"
    }
   },
   "outputs": [],
   "source": [
    "public class Solution {\n",
    "    public string DestCity(IList<IList<string>> paths) {\n",
    "        var inDegree = new HashSet<string>();\n",
    "        var cities = new HashSet<string>();\n",
    "        foreach(var path in paths){\n",
    "            var outcity = path[0];\n",
    "            var incity = path[1];\n",
    "            inDegree.Add(outcity);\n",
    "            cities.Add(outcity);\n",
    "            cities.Add(incity);\n",
    "        }\n",
    "        var res = cities.Except(inDegree);\n",
    "        return res.First();\n",
    "    }\n",
    "}"
   ]
  },
  {
   "cell_type": "code",
   "execution_count": null,
   "metadata": {},
   "outputs": [],
   "source": []
  }
 ],
 "metadata": {
  "kernelspec": {
   "display_name": ".NET (C#)",
   "language": "C#",
   "name": ".net-csharp"
  },
  "language_info": {
   "file_extension": ".cs",
   "mimetype": "text/x-csharp",
   "name": "C#",
   "pygments_lexer": "csharp",
   "version": "8.0"
  },
  "toc": {
   "base_numbering": 1,
   "nav_menu": {},
   "number_sections": true,
   "sideBar": true,
   "skip_h1_title": false,
   "title_cell": "Table of Contents",
   "title_sidebar": "Contents",
   "toc_cell": false,
   "toc_position": {},
   "toc_section_display": true,
   "toc_window_display": false
  }
 },
 "nbformat": 4,
 "nbformat_minor": 4
}
