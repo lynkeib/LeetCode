{
 "cells": [
  {
   "cell_type": "markdown",
   "metadata": {},
   "source": [
    "# Divide and Conquer"
   ]
  },
  {
   "cell_type": "code",
   "execution_count": 1,
   "metadata": {
    "ExecuteTime": {
     "end_time": "2020-06-27T03:38:41.5446450Z",
     "start_time": "2020-06-27T03:38:38.031Z"
    }
   },
   "outputs": [],
   "source": [
    "public class Solution {\n",
    "    public int MaxSubArray(int[] nums) {\n",
    "        return divid(nums, 0, nums.Length - 1);\n",
    "    }\n",
    "    \n",
    "    public int divid(int[] nums, int left, int right){\n",
    "        if(left == right){\n",
    "            return nums[left];\n",
    "        }\n",
    "        int mid = left + (right - left) / 2;\n",
    "        int leftMax = divid(nums, left, mid);\n",
    "        int rightMax = divid(nums, mid + 1, right);\n",
    "        int midMax = midSum(nums, left, mid, right);\n",
    "        return Math.Max(Math.Max(leftMax, rightMax), midMax);\n",
    "    }\n",
    "    \n",
    "    public int midSum(int[] nums, int left, int mid, int right){\n",
    "        if(left == right){\n",
    "            return nums[left];\n",
    "        }\n",
    "        var leftMax = int.MinValue;\n",
    "        var currSum = 0;\n",
    "        for(int i = mid; i >= left; i--){\n",
    "            currSum += nums[i];\n",
    "            leftMax = Math.Max(leftMax, currSum);\n",
    "        }\n",
    "        var rightMax = int.MinValue;\n",
    "        currSum = 0;\n",
    "        for(int i = mid + 1; i <= right; i++){\n",
    "            currSum += nums[i];\n",
    "            rightMax = Math.Max(rightMax, currSum);\n",
    "        }\n",
    "        return leftMax + rightMax;\n",
    "    }\n",
    "}"
   ]
  },
  {
   "cell_type": "code",
   "execution_count": null,
   "metadata": {},
   "outputs": [],
   "source": []
  }
 ],
 "metadata": {
  "kernelspec": {
   "display_name": ".NET (C#)",
   "language": "C#",
   "name": ".net-csharp"
  },
  "language_info": {
   "file_extension": ".cs",
   "mimetype": "text/x-csharp",
   "name": "C#",
   "pygments_lexer": "csharp",
   "version": "8.0"
  },
  "toc": {
   "base_numbering": 1,
   "nav_menu": {},
   "number_sections": true,
   "sideBar": true,
   "skip_h1_title": false,
   "title_cell": "Table of Contents",
   "title_sidebar": "Contents",
   "toc_cell": false,
   "toc_position": {},
   "toc_section_display": true,
   "toc_window_display": false
  }
 },
 "nbformat": 4,
 "nbformat_minor": 4
}
