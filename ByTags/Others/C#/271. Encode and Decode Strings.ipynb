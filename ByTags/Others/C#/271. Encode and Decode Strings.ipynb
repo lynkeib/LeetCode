{
 "cells": [
  {
   "cell_type": "code",
   "execution_count": 1,
   "metadata": {
    "ExecuteTime": {
     "end_time": "2020-04-29T06:04:08.2865440Z",
     "start_time": "2020-04-29T06:04:07.017Z"
    }
   },
   "outputs": [],
   "source": [
    "public class Codec {\n",
    "\n",
    "    // Encodes a list of strings to a single string.\n",
    "    public string encode(IList<string> strs) {\n",
    "        var res = String.Join(\"|SEP|\", strs);\n",
    "        if(strs.Count == 0){\n",
    "            return \"|EMPTY|\";\n",
    "        }\n",
    "        return res;\n",
    "    }\n",
    "\n",
    "    // Decodes a single string to a list of strings.\n",
    "    public IList<string> decode(string s) {\n",
    "        if(s==\"|EMPTY|\"){\n",
    "            return new List<string>();\n",
    "        }else if(s==\"\"){\n",
    "            return new List<string>{\"\"};\n",
    "        }\n",
    "        var res = s.Split(\"|SEP|\");\n",
    "        return res;\n",
    "    }\n",
    "}\n",
    "\n",
    "// Your Codec object will be instantiated and called as such:\n",
    "// Codec codec = new Codec();\n",
    "// codec.decode(codec.encode(strs));"
   ]
  },
  {
   "cell_type": "code",
   "execution_count": null,
   "metadata": {},
   "outputs": [],
   "source": []
  }
 ],
 "metadata": {
  "kernelspec": {
   "display_name": ".NET (C#)",
   "language": "C#",
   "name": ".net-csharp"
  },
  "language_info": {
   "file_extension": ".cs",
   "mimetype": "text/x-csharp",
   "name": "C#",
   "pygments_lexer": "csharp",
   "version": "8.0"
  },
  "toc": {
   "base_numbering": 1,
   "nav_menu": {},
   "number_sections": true,
   "sideBar": true,
   "skip_h1_title": false,
   "title_cell": "Table of Contents",
   "title_sidebar": "Contents",
   "toc_cell": false,
   "toc_position": {},
   "toc_section_display": true,
   "toc_window_display": false
  }
 },
 "nbformat": 4,
 "nbformat_minor": 4
}
