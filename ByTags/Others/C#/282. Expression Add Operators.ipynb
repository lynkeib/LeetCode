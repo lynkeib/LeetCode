{
 "cells": [
  {
   "cell_type": "code",
   "execution_count": 1,
   "metadata": {
    "ExecuteTime": {
     "end_time": "2020-05-01T06:28:05.8860830Z",
     "start_time": "2020-05-01T06:28:04.701Z"
    }
   },
   "outputs": [],
   "source": [
    "public class Solution {\n",
    "\n",
    "    string num;\n",
    "    int target;\n",
    "    List<string> res;\n",
    "\n",
    "    public IList<string> AddOperators(string num, int target) {\n",
    "        this.num = num;\n",
    "        this.target = target;\n",
    "        res = new List<string>();\n",
    "        backtracking(0, 0, 0, 0, new List<string>());\n",
    "        return res;\n",
    "    }\n",
    "\n",
    "    public void backtracking(int index, long prev, long curr, long total, List<string> path){\n",
    "        if(index == num.Length){\n",
    "            if(curr == 0 && total == target){\n",
    "                var thisres = String.Join(\"\", path.GetRange(1, path.Count - 1));\n",
    "                res.Add(thisres);\n",
    "            }\n",
    "            return;\n",
    "        }\n",
    "\n",
    "        curr = curr * 10 + Int64.Parse(num[index].ToString());\n",
    "        var strcurr = curr.ToString();\n",
    "\n",
    "        // do nothing\n",
    "        if(curr > 0){\n",
    "            backtracking(index + 1, prev, curr, total, path);\n",
    "        }\n",
    "\n",
    "        // add\n",
    "        path.Add(\"+\");\n",
    "        path.Add(strcurr);\n",
    "        backtracking(index + 1, curr, 0, total + curr, path);\n",
    "        path.RemoveAt(path.Count - 1);\n",
    "        path.RemoveAt(path.Count - 1);\n",
    "\n",
    "        // minus and multiply\n",
    "        if(path.Count != 0){\n",
    "            // minus\n",
    "            \n",
    "            path.Add(\"-\");\n",
    "            path.Add(strcurr);\n",
    "            backtracking(index + 1, -curr, 0, total - curr, path);\n",
    "            path.RemoveAt(path.Count - 1);\n",
    "            path.RemoveAt(path.Count - 1);\n",
    "\n",
    "            // multiply\n",
    "            path.Add(\"*\");\n",
    "            path.Add(strcurr);\n",
    "            backtracking(index + 1, curr * prev, 0, total - prev + (prev * curr), path);\n",
    "            path.RemoveAt(path.Count - 1);\n",
    "            path.RemoveAt(path.Count - 1);\n",
    "        }\n",
    "\n",
    "        return ;\n",
    "\n",
    "    }\n",
    "}"
   ]
  },
  {
   "cell_type": "code",
   "execution_count": null,
   "metadata": {},
   "outputs": [],
   "source": []
  }
 ],
 "metadata": {
  "kernelspec": {
   "display_name": ".NET (C#)",
   "language": "C#",
   "name": ".net-csharp"
  },
  "language_info": {
   "file_extension": ".cs",
   "mimetype": "text/x-csharp",
   "name": "C#",
   "pygments_lexer": "csharp",
   "version": "8.0"
  },
  "toc": {
   "base_numbering": 1,
   "nav_menu": {},
   "number_sections": true,
   "sideBar": true,
   "skip_h1_title": false,
   "title_cell": "Table of Contents",
   "title_sidebar": "Contents",
   "toc_cell": false,
   "toc_position": {},
   "toc_section_display": true,
   "toc_window_display": false
  }
 },
 "nbformat": 4,
 "nbformat_minor": 4
}
