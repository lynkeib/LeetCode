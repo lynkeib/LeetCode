{
 "cells": [
  {
   "cell_type": "code",
   "execution_count": 1,
   "metadata": {
    "ExecuteTime": {
     "end_time": "2020-04-20T03:56:13.3767660Z",
     "start_time": "2020-04-20T03:56:12.207Z"
    }
   },
   "outputs": [],
   "source": [
    "public class Solution {\n",
    "    public int HammingWeight(uint n) {\n",
    "        var res = 0;\n",
    "        uint mask = 1;\n",
    "        for(int i = 0; i < 32; i++){\n",
    "            if((n & mask) != 0){\n",
    "                res++;\n",
    "            }\n",
    "            mask <<= 1;\n",
    "        }\n",
    "        return res;\n",
    "    }\n",
    "}"
   ]
  },
  {
   "cell_type": "code",
   "execution_count": 2,
   "metadata": {
    "ExecuteTime": {
     "end_time": "2020-04-20T03:59:17.0610900Z",
     "start_time": "2020-04-20T03:59:17.003Z"
    }
   },
   "outputs": [],
   "source": [
    "public class Solution {\n",
    "    public int HammingWeight(uint n) {\n",
    "        var res = 0;\n",
    "        while(n != 0){\n",
    "            n = n & (n - 1);\n",
    "            res++;\n",
    "        }\n",
    "        return res;\n",
    "    }\n",
    "}"
   ]
  },
  {
   "cell_type": "code",
   "execution_count": null,
   "metadata": {},
   "outputs": [],
   "source": []
  }
 ],
 "metadata": {
  "kernelspec": {
   "display_name": ".NET (C#)",
   "language": "C#",
   "name": ".net-csharp"
  },
  "language_info": {
   "file_extension": ".cs",
   "mimetype": "text/x-csharp",
   "name": "C#",
   "pygments_lexer": "csharp",
   "version": "8.0"
  },
  "toc": {
   "base_numbering": 1,
   "nav_menu": {},
   "number_sections": true,
   "sideBar": true,
   "skip_h1_title": false,
   "title_cell": "Table of Contents",
   "title_sidebar": "Contents",
   "toc_cell": false,
   "toc_position": {},
   "toc_section_display": true,
   "toc_window_display": false
  }
 },
 "nbformat": 4,
 "nbformat_minor": 4
}
