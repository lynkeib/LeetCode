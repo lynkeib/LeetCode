{
 "cells": [
  {
   "cell_type": "code",
   "execution_count": 1,
   "metadata": {
    "ExecuteTime": {
     "end_time": "2020-05-29T23:24:34.9032020Z",
     "start_time": "2020-05-29T23:24:33.640Z"
    }
   },
   "outputs": [],
   "source": [
    "public class Solution {\n",
    "    public int MaxSumTwoNoOverlap(int[] A, int L, int M) {\n",
    "        for(int i = 1; i < A.Length; i++){\n",
    "            A[i] += A[i - 1];\n",
    "        }\n",
    "        int LMax = A[L - 1];\n",
    "        int MMax = A[M - 1];\n",
    "        int res = A[M + L - 1];\n",
    "        for(int last = L + M; last < A.Length; last++){\n",
    "            LMax = Math.Max(LMax, A[last - M] - A[last - L - M]);\n",
    "            MMax = Math.Max(MMax, A[last - L] - A[last - L - M]);\n",
    "            var thisMax = Math.Max(LMax + A[last] - A[last - M], MMax + A[last] - A[last - L]);\n",
    "            res = Math.Max(res, thisMax);\n",
    "        }\n",
    "        return res;\n",
    "    }\n",
    "}"
   ]
  },
  {
   "cell_type": "code",
   "execution_count": null,
   "metadata": {},
   "outputs": [],
   "source": []
  }
 ],
 "metadata": {
  "kernelspec": {
   "display_name": ".NET (C#)",
   "language": "C#",
   "name": ".net-csharp"
  },
  "language_info": {
   "file_extension": ".cs",
   "mimetype": "text/x-csharp",
   "name": "C#",
   "pygments_lexer": "csharp",
   "version": "8.0"
  },
  "toc": {
   "base_numbering": 1,
   "nav_menu": {},
   "number_sections": true,
   "sideBar": true,
   "skip_h1_title": false,
   "title_cell": "Table of Contents",
   "title_sidebar": "Contents",
   "toc_cell": false,
   "toc_position": {},
   "toc_section_display": true,
   "toc_window_display": false
  }
 },
 "nbformat": 4,
 "nbformat_minor": 4
}
