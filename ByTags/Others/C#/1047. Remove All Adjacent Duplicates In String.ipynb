{
 "cells": [
  {
   "cell_type": "code",
   "execution_count": 1,
   "metadata": {
    "ExecuteTime": {
     "end_time": "2020-05-22T21:35:42.5820380Z",
     "start_time": "2020-05-22T21:35:41.578Z"
    }
   },
   "outputs": [],
   "source": [
    "public class Solution {\n",
    "    public string RemoveDuplicates(string S) {\n",
    "        var sb = new StringBuilder();\n",
    "        foreach(var c in S){\n",
    "            if(sb.Length == 0){\n",
    "                sb.Append(c);\n",
    "            }else{\n",
    "                if(sb[sb.Length - 1] == c){\n",
    "                    sb.Remove(sb.Length - 1, 1);\n",
    "                }else{\n",
    "                    sb.Append(c);\n",
    "                }\n",
    "            }\n",
    "        }\n",
    "        return sb.ToString();\n",
    "    }\n",
    "}"
   ]
  },
  {
   "cell_type": "code",
   "execution_count": null,
   "metadata": {},
   "outputs": [],
   "source": []
  }
 ],
 "metadata": {
  "kernelspec": {
   "display_name": ".NET (C#)",
   "language": "C#",
   "name": ".net-csharp"
  },
  "language_info": {
   "file_extension": ".cs",
   "mimetype": "text/x-csharp",
   "name": "C#",
   "pygments_lexer": "csharp",
   "version": "8.0"
  },
  "toc": {
   "base_numbering": 1,
   "nav_menu": {},
   "number_sections": true,
   "sideBar": true,
   "skip_h1_title": false,
   "title_cell": "Table of Contents",
   "title_sidebar": "Contents",
   "toc_cell": false,
   "toc_position": {},
   "toc_section_display": true,
   "toc_window_display": false
  }
 },
 "nbformat": 4,
 "nbformat_minor": 4
}
