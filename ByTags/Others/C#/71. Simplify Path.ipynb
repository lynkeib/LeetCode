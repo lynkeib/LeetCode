{
 "cells": [
  {
   "cell_type": "code",
   "execution_count": 1,
   "metadata": {
    "ExecuteTime": {
     "end_time": "2020-04-03T05:40:49.5148980Z",
     "start_time": "2020-04-03T05:40:46.491Z"
    }
   },
   "outputs": [],
   "source": [
    "public class Solution {\n",
    "    public string SimplifyPath(string path) {\n",
    "        var stack = new List<string>();\n",
    "        // stack.Push(\"/\");\n",
    "        int index = 0;\n",
    "        while(index < path.Length){\n",
    "            int start = index;\n",
    "            index++;\n",
    "            while(index < path.Length && path[index] != '/'){\n",
    "                index++;\n",
    "            }\n",
    "            int end = index;\n",
    "            string thisstring = path.Substring(start, end - start);\n",
    "            // Console.WriteLine(thisstring);\n",
    "            if(thisstring == \"/\"){\n",
    "                continue;\n",
    "            }else if(thisstring.Length == 3 && thisstring.Substring(1, 2) == \"..\"){\n",
    "                if(stack.Count != 0){\n",
    "                    stack.RemoveAt(stack.Count - 1);\n",
    "                }\n",
    "            }else if(thisstring.Length == 2 && thisstring.Substring(1, 1) == \".\"){\n",
    "                continue;\n",
    "            }else{\n",
    "                stack.Add(thisstring);\n",
    "            }\n",
    "        }\n",
    "        string res = \"\";\n",
    "        if(stack.Count == 0){\n",
    "            return \"/\";\n",
    "        }\n",
    "        foreach (var item in stack)\n",
    "        {\n",
    "            res += item;\n",
    "        }\n",
    "        return res;\n",
    "    }\n",
    "}"
   ]
  },
  {
   "cell_type": "code",
   "execution_count": null,
   "metadata": {},
   "outputs": [],
   "source": []
  }
 ],
 "metadata": {
  "kernelspec": {
   "display_name": ".NET (C#)",
   "language": "C#",
   "name": ".net-csharp"
  },
  "language_info": {
   "file_extension": ".cs",
   "mimetype": "text/x-csharp",
   "name": "C#",
   "pygments_lexer": "csharp",
   "version": "8.0"
  },
  "toc": {
   "base_numbering": 1,
   "nav_menu": {},
   "number_sections": true,
   "sideBar": true,
   "skip_h1_title": false,
   "title_cell": "Table of Contents",
   "title_sidebar": "Contents",
   "toc_cell": false,
   "toc_position": {},
   "toc_section_display": true,
   "toc_window_display": false
  }
 },
 "nbformat": 4,
 "nbformat_minor": 4
}
