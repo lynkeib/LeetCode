{
 "cells": [
  {
   "cell_type": "code",
   "execution_count": 1,
   "metadata": {
    "ExecuteTime": {
     "end_time": "2020-04-29T04:57:20.5843040Z",
     "start_time": "2020-04-29T04:57:19.239Z"
    }
   },
   "outputs": [],
   "source": [
    "public class Solution {\n",
    "    public int MissingNumber(int[] nums) {\n",
    "        for (int i = 0; i < nums.Length; i++)\n",
    "        {\n",
    "            while(nums[i] < nums.Length && nums[i] != i){\n",
    "                var temp = nums[i];\n",
    "                nums[i] = nums[nums[i]];\n",
    "                nums[temp] = temp;\n",
    "            }\n",
    "        }\n",
    "        for (int i = 0; i < nums.Length; i++)\n",
    "        {\n",
    "            if(nums[i] != i){\n",
    "                return i;\n",
    "            }\n",
    "        }\n",
    "        return nums.Length;\n",
    "    }\n",
    "}"
   ]
  },
  {
   "cell_type": "code",
   "execution_count": null,
   "metadata": {},
   "outputs": [],
   "source": []
  }
 ],
 "metadata": {
  "kernelspec": {
   "display_name": ".NET (C#)",
   "language": "C#",
   "name": ".net-csharp"
  },
  "language_info": {
   "file_extension": ".cs",
   "mimetype": "text/x-csharp",
   "name": "C#",
   "pygments_lexer": "csharp",
   "version": "8.0"
  },
  "toc": {
   "base_numbering": 1,
   "nav_menu": {},
   "number_sections": true,
   "sideBar": true,
   "skip_h1_title": false,
   "title_cell": "Table of Contents",
   "title_sidebar": "Contents",
   "toc_cell": false,
   "toc_position": {},
   "toc_section_display": true,
   "toc_window_display": false
  }
 },
 "nbformat": 4,
 "nbformat_minor": 4
}
