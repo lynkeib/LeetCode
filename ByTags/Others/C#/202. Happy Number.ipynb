{
 "cells": [
  {
   "cell_type": "code",
   "execution_count": 1,
   "metadata": {
    "ExecuteTime": {
     "end_time": "2020-04-03T03:58:10.8254660Z",
     "start_time": "2020-04-03T03:58:07.262Z"
    }
   },
   "outputs": [],
   "source": [
    "public class Solution {\n",
    "    public bool IsHappy(int n) {\n",
    "        var path = new HashSet<int>();\n",
    "        path.Add(n);\n",
    "        while(n != 1){\n",
    "            var s = sum(n);\n",
    "            if(path.Contains(s)){\n",
    "                return false;\n",
    "            }\n",
    "            n = s;\n",
    "            path.Add(n);\n",
    "        }\n",
    "        return true;\n",
    "    }\n",
    "\n",
    "    public int sum(int n){\n",
    "        var res = 0;\n",
    "        while(n != 0){\n",
    "            res += (int)Math.Pow((n % 10), 2);\n",
    "            n = n / 10;\n",
    "        }\n",
    "        return res;\n",
    "    }\n",
    "}"
   ]
  },
  {
   "cell_type": "code",
   "execution_count": null,
   "metadata": {
    "ExecuteTime": {
     "start_time": "2020-04-20T04:26:50.659Z"
    }
   },
   "outputs": [],
   "source": [
    "public class Solution {\n",
    "    public bool IsHappy(int n) {\n",
    "        var visited = new HashSet<int>();\n",
    "        while(!visited.Contains(n)){\n",
    "            visited.Add(n);\n",
    "            n = cal(n);\n",
    "            if(n == 1){\n",
    "                return true;\n",
    "            }\n",
    "            // Console.WriteLine($\"{n}\");\n",
    "        }\n",
    "        return false;\n",
    "    }\n",
    "\n",
    "    public int cal(int n){\n",
    "        var res = 0;\n",
    "        while(n != 0){\n",
    "            res += (n % 10) * (n % 10);\n",
    "            n /= 10;\n",
    "        }\n",
    "        return res;\n",
    "    }\n",
    "}"
   ]
  },
  {
   "cell_type": "code",
   "execution_count": null,
   "metadata": {},
   "outputs": [],
   "source": []
  }
 ],
 "metadata": {
  "kernelspec": {
   "display_name": ".NET (C#)",
   "language": "C#",
   "name": ".net-csharp"
  },
  "language_info": {
   "file_extension": ".cs",
   "mimetype": "text/x-csharp",
   "name": "C#",
   "pygments_lexer": "csharp",
   "version": "8.0"
  },
  "toc": {
   "base_numbering": 1,
   "nav_menu": {},
   "number_sections": true,
   "sideBar": true,
   "skip_h1_title": false,
   "title_cell": "Table of Contents",
   "title_sidebar": "Contents",
   "toc_cell": false,
   "toc_position": {},
   "toc_section_display": true,
   "toc_window_display": false
  }
 },
 "nbformat": 4,
 "nbformat_minor": 4
}
