{
 "cells": [
  {
   "cell_type": "markdown",
   "metadata": {},
   "source": [
    "# TLE"
   ]
  },
  {
   "cell_type": "code",
   "execution_count": 1,
   "metadata": {
    "ExecuteTime": {
     "end_time": "2020-06-04T04:54:11.4060310Z",
     "start_time": "2020-06-04T04:54:09.909Z"
    }
   },
   "outputs": [],
   "source": [
    "public class Solution {\n",
    "    public int MaxEvents(int[][] events) {\n",
    "        \n",
    "        var sorted = events.OrderBy(x => x[1]).ThenBy(x => x[0]).ToList();\n",
    "        var attend = new HashSet<int>();\n",
    "        foreach(var e in sorted){\n",
    "            var start = e[0];\n",
    "            var end = e[1];\n",
    "            if(attend.Contains(start)){\n",
    "                while(start < end){\n",
    "                    start++;\n",
    "                    if(!attend.Contains(start)){\n",
    "                        attend.Add(start);\n",
    "                        break;\n",
    "                    }   \n",
    "                }\n",
    "            }else{\n",
    "                attend.Add(start);\n",
    "            }\n",
    "        }\n",
    "        return attend.Count;\n",
    "    }\n",
    "}"
   ]
  },
  {
   "cell_type": "code",
   "execution_count": null,
   "metadata": {},
   "outputs": [],
   "source": []
  }
 ],
 "metadata": {
  "kernelspec": {
   "display_name": ".NET (C#)",
   "language": "C#",
   "name": ".net-csharp"
  },
  "language_info": {
   "file_extension": ".cs",
   "mimetype": "text/x-csharp",
   "name": "C#",
   "pygments_lexer": "csharp",
   "version": "8.0"
  },
  "toc": {
   "base_numbering": 1,
   "nav_menu": {},
   "number_sections": true,
   "sideBar": true,
   "skip_h1_title": false,
   "title_cell": "Table of Contents",
   "title_sidebar": "Contents",
   "toc_cell": false,
   "toc_position": {},
   "toc_section_display": true,
   "toc_window_display": false
  }
 },
 "nbformat": 4,
 "nbformat_minor": 4
}
