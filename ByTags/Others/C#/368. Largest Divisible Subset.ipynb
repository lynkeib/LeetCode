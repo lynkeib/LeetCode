{
 "cells": [
  {
   "cell_type": "code",
   "execution_count": 1,
   "metadata": {
    "ExecuteTime": {
     "end_time": "2020-06-14T01:58:59.2353050Z",
     "start_time": "2020-06-14T01:58:56.037Z"
    }
   },
   "outputs": [],
   "source": [
    "public class Solution {\n",
    "    public IList<int> LargestDivisibleSubset(int[] nums) {\n",
    "        int[][] dp = new int[nums.Length][];\n",
    "        for(int i = 0; i < nums.Length; i++){\n",
    "            dp[i] = new int[2];\n",
    "        }\n",
    "        var max_count = 0;\n",
    "        var max_index = 0;\n",
    "        Array.Sort(nums);\n",
    "        for(int i = 0; i < nums.Length; i++){\n",
    "            for(int j = i; j > -1; j--){\n",
    "                if(nums[i] % nums[j] == 0 && dp[i][0] < dp[j][0] + 1){\n",
    "                    dp[i][0] = dp[j][0] + 1;\n",
    "                    dp[i][1] = j;\n",
    "                    if(dp[i][0] > max_count){\n",
    "                        max_count = dp[i][0];\n",
    "                        max_index = i;\n",
    "                    }\n",
    "                }\n",
    "            }\n",
    "        }\n",
    "        var res = new List<int>();\n",
    "        for(int i = 0; i < max_count; i++){\n",
    "            res.Add(nums[max_index]);\n",
    "            max_index = dp[max_index][1];\n",
    "        }\n",
    "        return res;\n",
    "    }\n",
    "}"
   ]
  },
  {
   "cell_type": "code",
   "execution_count": null,
   "metadata": {},
   "outputs": [],
   "source": []
  }
 ],
 "metadata": {
  "kernelspec": {
   "display_name": ".NET (C#)",
   "language": "C#",
   "name": ".net-csharp"
  },
  "language_info": {
   "file_extension": ".cs",
   "mimetype": "text/x-csharp",
   "name": "C#",
   "pygments_lexer": "csharp",
   "version": "8.0"
  },
  "toc": {
   "base_numbering": 1,
   "nav_menu": {},
   "number_sections": true,
   "sideBar": true,
   "skip_h1_title": false,
   "title_cell": "Table of Contents",
   "title_sidebar": "Contents",
   "toc_cell": false,
   "toc_position": {},
   "toc_section_display": true,
   "toc_window_display": false
  }
 },
 "nbformat": 4,
 "nbformat_minor": 4
}
