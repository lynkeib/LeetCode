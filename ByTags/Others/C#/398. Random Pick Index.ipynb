{
 "cells": [
  {
   "cell_type": "markdown",
   "metadata": {},
   "source": [
    "# Naive Approach"
   ]
  },
  {
   "cell_type": "code",
   "execution_count": 1,
   "metadata": {
    "ExecuteTime": {
     "end_time": "2020-05-13T05:20:43.2318750Z",
     "start_time": "2020-05-13T05:20:42.129Z"
    }
   },
   "outputs": [],
   "source": [
    "public class Solution {\n",
    "\n",
    "    Dictionary<int, List<int>> pos = new Dictionary<int, List<int>>();\n",
    "    Random rnd = new Random();\n",
    "    \n",
    "    public Solution(int[] nums) {\n",
    "        for(int index = 0; index < nums.Length; index++){\n",
    "            var num = nums[index];\n",
    "            if(!pos.ContainsKey(num)){\n",
    "                pos[num] = new List<int>();\n",
    "            }\n",
    "            pos[num].Add(index);\n",
    "        }\n",
    "    }\n",
    "    \n",
    "    public int Pick(int target) {\n",
    "        var posList = pos[target];\n",
    "        var index = rnd.Next(posList.Count);\n",
    "        return posList[index];\n",
    "    }\n",
    "}\n",
    "\n",
    "/**\n",
    " * Your Solution object will be instantiated and called as such:\n",
    " * Solution obj = new Solution(nums);\n",
    " * int param_1 = obj.Pick(target);\n",
    " */"
   ]
  },
  {
   "cell_type": "markdown",
   "metadata": {},
   "source": [
    "# Deal with large set"
   ]
  },
  {
   "cell_type": "code",
   "execution_count": 2,
   "metadata": {
    "ExecuteTime": {
     "end_time": "2020-05-13T05:22:40.8395490Z",
     "start_time": "2020-05-13T05:22:40.784Z"
    }
   },
   "outputs": [],
   "source": [
    "public class Solution {\n",
    "\n",
    "    int[] nums;\n",
    "    Random rnd = new Random();\n",
    "    \n",
    "    public Solution(int[] nums) {\n",
    "        this.nums = nums;\n",
    "    }\n",
    "    \n",
    "    public int Pick(int target) {\n",
    "        int count = 0;\n",
    "        int res = -1;\n",
    "        for(int index = 0; index < nums.Length; index++){\n",
    "            if(nums[index] == target){\n",
    "                count++;\n",
    "                if(rnd.Next(count) == 0){\n",
    "                    res = index;\n",
    "                }\n",
    "            }\n",
    "        }\n",
    "        return res;\n",
    "    }\n",
    "}\n",
    "\n",
    "/**\n",
    " * Your Solution object will be instantiated and called as such:\n",
    " * Solution obj = new Solution(nums);\n",
    " * int param_1 = obj.Pick(target);\n",
    " */"
   ]
  },
  {
   "cell_type": "code",
   "execution_count": null,
   "metadata": {},
   "outputs": [],
   "source": []
  }
 ],
 "metadata": {
  "kernelspec": {
   "display_name": ".NET (C#)",
   "language": "C#",
   "name": ".net-csharp"
  },
  "language_info": {
   "file_extension": ".cs",
   "mimetype": "text/x-csharp",
   "name": "C#",
   "pygments_lexer": "csharp",
   "version": "8.0"
  },
  "toc": {
   "base_numbering": 1,
   "nav_menu": {},
   "number_sections": true,
   "sideBar": true,
   "skip_h1_title": false,
   "title_cell": "Table of Contents",
   "title_sidebar": "Contents",
   "toc_cell": false,
   "toc_position": {},
   "toc_section_display": true,
   "toc_window_display": false
  }
 },
 "nbformat": 4,
 "nbformat_minor": 4
}
