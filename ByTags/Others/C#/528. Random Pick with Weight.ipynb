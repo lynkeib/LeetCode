{
 "cells": [
  {
   "cell_type": "code",
   "execution_count": 1,
   "metadata": {
    "ExecuteTime": {
     "end_time": "2020-06-06T02:35:50.9670810Z",
     "start_time": "2020-06-06T02:35:49.896Z"
    }
   },
   "outputs": [],
   "source": [
    "public class Solution {\n",
    "\n",
    "    int[] w;\n",
    "    Random rnd = new Random();\n",
    "    \n",
    "    public Solution(int[] w) {\n",
    "       this.w = w;\n",
    "        for(int i = 1; i < w.Length; i++){\n",
    "            w[i] += w[i - 1];\n",
    "        }\n",
    "        return;\n",
    "    }\n",
    "    \n",
    "    public int PickIndex() {\n",
    "        var r = rnd.Next() % w[w.Length - 1];\n",
    "        int left = 0, right = w.Length - 1;\n",
    "        while(left < right){\n",
    "            int mid = left + (right - left) / 2;\n",
    "            if(w[mid] <= r){\n",
    "                left = mid + 1;\n",
    "            }else if(w[mid] > r){\n",
    "                right = mid;\n",
    "            }\n",
    "        }\n",
    "        return left;\n",
    "    }\n",
    "}\n",
    "\n",
    "/**\n",
    " * Your Solution object will be instantiated and called as such:\n",
    " * Solution obj = new Solution(w);\n",
    " * int param_1 = obj.PickIndex();\n",
    " */"
   ]
  },
  {
   "cell_type": "code",
   "execution_count": null,
   "metadata": {},
   "outputs": [],
   "source": []
  }
 ],
 "metadata": {
  "kernelspec": {
   "display_name": ".NET (C#)",
   "language": "C#",
   "name": ".net-csharp"
  },
  "language_info": {
   "file_extension": ".cs",
   "mimetype": "text/x-csharp",
   "name": "C#",
   "pygments_lexer": "csharp",
   "version": "8.0"
  },
  "toc": {
   "base_numbering": 1,
   "nav_menu": {},
   "number_sections": true,
   "sideBar": true,
   "skip_h1_title": false,
   "title_cell": "Table of Contents",
   "title_sidebar": "Contents",
   "toc_cell": false,
   "toc_position": {},
   "toc_section_display": true,
   "toc_window_display": false
  }
 },
 "nbformat": 4,
 "nbformat_minor": 4
}
