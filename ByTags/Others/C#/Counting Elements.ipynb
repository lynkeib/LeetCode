{
 "cells": [
  {
   "cell_type": "code",
   "execution_count": 1,
   "metadata": {
    "ExecuteTime": {
     "end_time": "2020-04-08T04:58:57.3958620Z",
     "start_time": "2020-04-08T04:58:56.438Z"
    }
   },
   "outputs": [],
   "source": [
    "public class Solution {\n",
    "    public int CountElements(int[] arr) {\n",
    "        var map = new int[1001];\n",
    "        foreach (var item in arr)\n",
    "        {\n",
    "            map[item]++;\n",
    "        }\n",
    "        var counter = 0;\n",
    "        for (int i = 0; i < 1001 - 1; i++)\n",
    "        {\n",
    "            if(map[i] != 0 && map[i + 1] != 0){\n",
    "                counter+=map[i];\n",
    "            }\n",
    "        }\n",
    "        return counter;\n",
    "    }\n",
    "}"
   ]
  },
  {
   "cell_type": "code",
   "execution_count": 2,
   "metadata": {
    "ExecuteTime": {
     "end_time": "2020-04-08T05:01:03.8642390Z",
     "start_time": "2020-04-08T05:01:03.711Z"
    }
   },
   "outputs": [],
   "source": [
    "public class Solution {\n",
    "    public int CountElements (int[] arr) {\n",
    "        var map = new HashSet<int> ();\n",
    "        foreach (var item in arr) {\n",
    "            map.Add (item);\n",
    "        }\n",
    "        var counter = 0;\n",
    "        foreach (var item in arr) {\n",
    "            if (map.Contains (item + 1)) {\n",
    "                counter++;\n",
    "            }\n",
    "        }\n",
    "        return counter;\n",
    "    }\n",
    "}"
   ]
  },
  {
   "cell_type": "code",
   "execution_count": null,
   "metadata": {},
   "outputs": [],
   "source": []
  }
 ],
 "metadata": {
  "kernelspec": {
   "display_name": ".NET (C#)",
   "language": "C#",
   "name": ".net-csharp"
  },
  "language_info": {
   "file_extension": ".cs",
   "mimetype": "text/x-csharp",
   "name": "C#",
   "pygments_lexer": "csharp",
   "version": "8.0"
  },
  "toc": {
   "base_numbering": 1,
   "nav_menu": {},
   "number_sections": true,
   "sideBar": true,
   "skip_h1_title": false,
   "title_cell": "Table of Contents",
   "title_sidebar": "Contents",
   "toc_cell": false,
   "toc_position": {},
   "toc_section_display": true,
   "toc_window_display": false
  }
 },
 "nbformat": 4,
 "nbformat_minor": 4
}
