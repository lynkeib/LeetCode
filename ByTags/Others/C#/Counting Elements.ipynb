{
 "cells": [
  {
   "cell_type": "code",
   "execution_count": 1,
   "metadata": {
    "ExecuteTime": {
     "end_time": "2020-04-08T04:58:57.3958620Z",
     "start_time": "2020-04-08T04:58:56.438Z"
    }
   },
   "outputs": [],
   "source": [
    "public class Solution {\n",
    "    public int CountElements(int[] arr) {\n",
    "        var map = new int[1001];\n",
    "        foreach (var item in arr)\n",
    "        {\n",
    "            map[item]++;\n",
    "        }\n",
    "        var counter = 0;\n",
    "        for (int i = 0; i < 1001 - 1; i++)\n",
    "        {\n",
    "            if(map[i] != 0 && map[i + 1] != 0){\n",
    "                counter+=map[i];\n",
    "            }\n",
    "        }\n",
    "        return counter;\n",
    "    }\n",
    "}"
   ]
  },
  {
   "cell_type": "code",
   "execution_count": 2,
   "metadata": {
    "ExecuteTime": {
     "end_time": "2020-04-08T05:01:03.8642390Z",
     "start_time": "2020-04-08T05:01:03.711Z"
    }
   },
   "outputs": [],
   "source": [
    "public class Solution {\n",
    "    public int CountElements (int[] arr) {\n",
    "        var map = new HashSet<int> ();\n",
    "        foreach (var item in arr) {\n",
    "            map.Add (item);\n",
    "        }\n",
    "        var counter = 0;\n",
    "        foreach (var item in arr) {\n",
    "            if (map.Contains (item + 1)) {\n",
    "                counter++;\n",
    "            }\n",
    "        }\n",
    "        return counter;\n",
    "    }\n",
    "}"
   ]
  },
  {
   "cell_type": "code",
   "execution_count": 5,
   "metadata": {
    "ExecuteTime": {
     "end_time": "2020-04-08T22:36:40.0995800Z",
     "start_time": "2020-04-08T22:36:40.051Z"
    }
   },
   "outputs": [
    {
     "data": {
      "text/plain": [
       "-2"
      ]
     },
     "execution_count": 5,
     "metadata": {},
     "output_type": "execute_result"
    }
   ],
   "source": [
    "('a' - 'c') % 26"
   ]
  },
  {
   "cell_type": "code",
   "execution_count": 6,
   "metadata": {
    "ExecuteTime": {
     "end_time": "2020-04-08T22:37:24.6038710Z",
     "start_time": "2020-04-08T22:37:24.508Z"
    }
   },
   "outputs": [],
   "source": [
    "var test = \"xyz\";"
   ]
  },
  {
   "cell_type": "code",
   "execution_count": 8,
   "metadata": {
    "ExecuteTime": {
     "end_time": "2020-04-08T22:37:34.7554950Z",
     "start_time": "2020-04-08T22:37:34.697Z"
    }
   },
   "outputs": [
    {
     "data": {
      "text/plain": [
       "23"
      ]
     },
     "execution_count": 8,
     "metadata": {},
     "output_type": "execute_result"
    }
   ],
   "source": [
    "test[0] - 'a'"
   ]
  },
  {
   "cell_type": "code",
   "execution_count": 11,
   "metadata": {
    "ExecuteTime": {
     "end_time": "2020-04-08T22:38:04.8291370Z",
     "start_time": "2020-04-08T22:38:04.773Z"
    }
   },
   "outputs": [
    {
     "data": {
      "text/plain": [
       "a"
      ]
     },
     "execution_count": 11,
     "metadata": {},
     "output_type": "execute_result"
    }
   ],
   "source": [
    "(char)(test[0] - 23)"
   ]
  },
  {
   "cell_type": "code",
   "execution_count": 12,
   "metadata": {
    "ExecuteTime": {
     "end_time": "2020-04-08T22:38:08.1425110Z",
     "start_time": "2020-04-08T22:38:08.092Z"
    }
   },
   "outputs": [
    {
     "data": {
      "text/plain": [
       "b"
      ]
     },
     "execution_count": 12,
     "metadata": {},
     "output_type": "execute_result"
    }
   ],
   "source": [
    "(char)(test[1] - 23)"
   ]
  },
  {
   "cell_type": "code",
   "execution_count": 13,
   "metadata": {
    "ExecuteTime": {
     "end_time": "2020-04-08T22:38:38.5865440Z",
     "start_time": "2020-04-08T22:38:38.553Z"
    }
   },
   "outputs": [],
   "source": [
    "var test2 = \"zyx\";"
   ]
  },
  {
   "cell_type": "code",
   "execution_count": 15,
   "metadata": {
    "ExecuteTime": {
     "end_time": "2020-04-08T22:38:54.2573750Z",
     "start_time": "2020-04-08T22:38:54.222Z"
    }
   },
   "outputs": [
    {
     "data": {
      "text/plain": [
       "25"
      ]
     },
     "execution_count": 15,
     "metadata": {},
     "output_type": "execute_result"
    }
   ],
   "source": [
    "test2[0] - 'a'"
   ]
  },
  {
   "cell_type": "code",
   "execution_count": 18,
   "metadata": {
    "ExecuteTime": {
     "end_time": "2020-04-08T22:40:18.0381840Z",
     "start_time": "2020-04-08T22:40:18.005Z"
    }
   },
   "outputs": [
    {
     "data": {
      "text/plain": [
       "z"
      ]
     },
     "execution_count": 18,
     "metadata": {},
     "output_type": "execute_result"
    }
   ],
   "source": [
    "(char)(test2[1] - 25 + 26)"
   ]
  },
  {
   "cell_type": "code",
   "execution_count": 21,
   "metadata": {
    "ExecuteTime": {
     "end_time": "2020-04-08T22:42:28.5144550Z",
     "start_time": "2020-04-08T22:42:28.487Z"
    }
   },
   "outputs": [
    {
     "data": {
      "text/plain": [
       "97"
      ]
     },
     "execution_count": 21,
     "metadata": {},
     "output_type": "execute_result"
    }
   ],
   "source": [
    "(int)'a'"
   ]
  },
  {
   "cell_type": "code",
   "execution_count": null,
   "metadata": {},
   "outputs": [],
   "source": []
  }
 ],
 "metadata": {
  "kernelspec": {
   "display_name": ".NET (C#)",
   "language": "C#",
   "name": ".net-csharp"
  },
  "language_info": {
   "file_extension": ".cs",
   "mimetype": "text/x-csharp",
   "name": "C#",
   "pygments_lexer": "csharp",
   "version": "8.0"
  },
  "toc": {
   "base_numbering": 1,
   "nav_menu": {},
   "number_sections": true,
   "sideBar": true,
   "skip_h1_title": false,
   "title_cell": "Table of Contents",
   "title_sidebar": "Contents",
   "toc_cell": false,
   "toc_position": {},
   "toc_section_display": true,
   "toc_window_display": false
  }
 },
 "nbformat": 4,
 "nbformat_minor": 4
}
