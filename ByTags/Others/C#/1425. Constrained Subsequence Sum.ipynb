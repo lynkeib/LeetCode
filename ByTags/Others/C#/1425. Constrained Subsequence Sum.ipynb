{
 "cells": [
  {
   "cell_type": "code",
   "execution_count": 1,
   "metadata": {
    "ExecuteTime": {
     "end_time": "2020-05-21T03:30:29.2201010Z",
     "start_time": "2020-05-21T03:30:27.788Z"
    }
   },
   "outputs": [],
   "source": [
    "public class Solution {\n",
    "    public int ConstrainedSubsetSum(int[] nums, int k) {\n",
    "        var deque = new List<int>();\n",
    "        long res = int.MinValue;\n",
    "        for(int i = 0; i < nums.Length; i++){\n",
    "            if(deque.Count != 0){\n",
    "                nums[i] += deque[0];\n",
    "            }\n",
    "            while(deque.Count != 0 && deque[deque.Count - 1] < nums[i]){\n",
    "                deque.RemoveAt(deque.Count - 1);\n",
    "            }\n",
    "            if(nums[i] > 0){\n",
    "                deque.Add(nums[i]);\n",
    "            }\n",
    "            if(i >= k && deque.Count != 0 && deque[0] == nums[i - k]){\n",
    "                deque.RemoveAt(0);\n",
    "            }\n",
    "            res = Math.Max(res, nums[i]);\n",
    "        }\n",
    "        return (int)res;\n",
    "    }\n",
    "}"
   ]
  },
  {
   "cell_type": "code",
   "execution_count": null,
   "metadata": {},
   "outputs": [],
   "source": []
  }
 ],
 "metadata": {
  "kernelspec": {
   "display_name": ".NET (C#)",
   "language": "C#",
   "name": ".net-csharp"
  },
  "language_info": {
   "file_extension": ".cs",
   "mimetype": "text/x-csharp",
   "name": "C#",
   "pygments_lexer": "csharp",
   "version": "8.0"
  },
  "toc": {
   "base_numbering": 1,
   "nav_menu": {},
   "number_sections": true,
   "sideBar": true,
   "skip_h1_title": false,
   "title_cell": "Table of Contents",
   "title_sidebar": "Contents",
   "toc_cell": false,
   "toc_position": {},
   "toc_section_display": true,
   "toc_window_display": false
  }
 },
 "nbformat": 4,
 "nbformat_minor": 4
}
