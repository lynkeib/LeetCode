{
 "cells": [
  {
   "cell_type": "code",
   "execution_count": 1,
   "metadata": {
    "ExecuteTime": {
     "end_time": "2020-06-22T02:26:57.7266170Z",
     "start_time": "2020-06-22T02:26:53.268Z"
    }
   },
   "outputs": [],
   "source": [
    "public class Solution {\n",
    "    public int ConstrainedSubsetSum(int[] nums, int k) {\n",
    "        var stack = new List<int>();\n",
    "        var res = int.MinValue;\n",
    "        for(int i = 0; i < nums.Length; i++){\n",
    "            var ToAdd = 0;\n",
    "            if(stack.Count != 0){\n",
    "                ToAdd += nums[stack[0]];\n",
    "            }\n",
    "            ToAdd = Math.Max(ToAdd, 0);\n",
    "            nums[i] += ToAdd;\n",
    "            res = Math.Max(res, nums[i]);\n",
    "            while(stack.Count != 0 && nums[stack[stack.Count - 1]] < nums[i]){\n",
    "                stack.RemoveAt(stack.Count - 1);\n",
    "            }\n",
    "            stack.Add(i);\n",
    "            if(i - stack[0] >= k){\n",
    "                stack.RemoveAt(0);\n",
    "            }\n",
    "        }\n",
    "        return res;\n",
    "    }\n",
    "}"
   ]
  },
  {
   "cell_type": "code",
   "execution_count": null,
   "metadata": {},
   "outputs": [],
   "source": []
  }
 ],
 "metadata": {
  "kernelspec": {
   "display_name": ".NET (C#)",
   "language": "C#",
   "name": ".net-csharp"
  },
  "language_info": {
   "file_extension": ".cs",
   "mimetype": "text/x-csharp",
   "name": "C#",
   "pygments_lexer": "csharp",
   "version": "8.0"
  },
  "toc": {
   "base_numbering": 1,
   "nav_menu": {},
   "number_sections": true,
   "sideBar": true,
   "skip_h1_title": false,
   "title_cell": "Table of Contents",
   "title_sidebar": "Contents",
   "toc_cell": false,
   "toc_position": {},
   "toc_section_display": true,
   "toc_window_display": false
  }
 },
 "nbformat": 4,
 "nbformat_minor": 4
}
