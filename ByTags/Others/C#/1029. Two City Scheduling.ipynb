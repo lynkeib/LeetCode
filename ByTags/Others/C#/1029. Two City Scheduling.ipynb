{
 "cells": [
  {
   "cell_type": "code",
   "execution_count": 1,
   "metadata": {
    "ExecuteTime": {
     "end_time": "2020-06-04T02:35:55.4077650Z",
     "start_time": "2020-06-04T02:35:53.888Z"
    }
   },
   "outputs": [],
   "source": [
    "public class Solution {\n",
    "    public int TwoCitySchedCost(int[][] costs) {\n",
    "        Array.Sort(costs, (a, b) => (a[0] - a[1]).CompareTo(b[0] - b[1]));\n",
    "        var res = 0;\n",
    "        int index1 = 0, index2 = costs.Length / 2;\n",
    "        while(index2 < costs.Length){\n",
    "            res += (costs[index1][0] + costs[index2][1]);\n",
    "            index1++;\n",
    "            index2++;\n",
    "        }\n",
    "        return res;\n",
    "    }\n",
    "}"
   ]
  },
  {
   "cell_type": "code",
   "execution_count": null,
   "metadata": {},
   "outputs": [],
   "source": []
  }
 ],
 "metadata": {
  "kernelspec": {
   "display_name": ".NET (C#)",
   "language": "C#",
   "name": ".net-csharp"
  },
  "language_info": {
   "file_extension": ".cs",
   "mimetype": "text/x-csharp",
   "name": "C#",
   "pygments_lexer": "csharp",
   "version": "8.0"
  },
  "toc": {
   "base_numbering": 1,
   "nav_menu": {},
   "number_sections": true,
   "sideBar": true,
   "skip_h1_title": false,
   "title_cell": "Table of Contents",
   "title_sidebar": "Contents",
   "toc_cell": false,
   "toc_position": {},
   "toc_section_display": true,
   "toc_window_display": false
  }
 },
 "nbformat": 4,
 "nbformat_minor": 4
}
