{
 "cells": [
  {
   "cell_type": "code",
   "execution_count": 1,
   "metadata": {
    "ExecuteTime": {
     "end_time": "2020-05-03T04:53:46.7162480Z",
     "start_time": "2020-05-03T04:53:45.240Z"
    }
   },
   "outputs": [],
   "source": [
    "public class Solution {\n",
    "\n",
    "    int[][] dirs;\n",
    "    int rows;\n",
    "    int cols;\n",
    "\n",
    "    public void GameOfLife(int[][] board) {\n",
    "        if(board.Length == 0){\n",
    "            return;\n",
    "        }\n",
    "        dirs = new int[][]{new int[]{1,0}, \n",
    "        new int[]{1, 1}, \n",
    "        new int[]{1, -1}, \n",
    "        new int[]{0, 1}, \n",
    "        new int[]{0, -1}, \n",
    "        new int[]{-1, 0}, \n",
    "        new int[]{-1, -1}, \n",
    "        new int[]{-1, 1}};\n",
    "        rows = board.Length;\n",
    "        cols = board[0].Length;\n",
    "        for(int row = 0; row < rows; row++){\n",
    "            for(int col = 0; col < cols; col++){\n",
    "                CountNeighbors(board, row, col);\n",
    "            }\n",
    "        }\n",
    "        for(int row = 0; row < rows; row++){\n",
    "            for(int col = 0; col < cols; col++){\n",
    "                board[row][col] >>= 1;\n",
    "            }\n",
    "        }\n",
    "        return;\n",
    "    }\n",
    "\n",
    "    public void CountNeighbors(int[][] board, int row, int col){\n",
    "        int counter = 0;\n",
    "        foreach(int[] dir in dirs){\n",
    "            var nrow = row + dir[0];\n",
    "            var ncol = col + dir[1];\n",
    "            if(nrow >= 0 && nrow < rows && ncol >= 0 && ncol < cols){\n",
    "                counter += board[nrow][ncol] & 1;\n",
    "            }\n",
    "        }\n",
    "        if(board[row][col] == 1){\n",
    "            // situation 1, 3\n",
    "            if(counter < 2 || counter > 3){\n",
    "                board[row][col] |= 0;\n",
    "            // situaiton 2\n",
    "            }else{\n",
    "                board[row][col] |= 2;\n",
    "            }\n",
    "        }else{\n",
    "            if(counter == 3){\n",
    "                board[row][col] |= 2;\n",
    "            }\n",
    "        }\n",
    "        return;\n",
    "    }\n",
    "}"
   ]
  },
  {
   "cell_type": "code",
   "execution_count": null,
   "metadata": {},
   "outputs": [],
   "source": []
  }
 ],
 "metadata": {
  "kernelspec": {
   "display_name": ".NET (C#)",
   "language": "C#",
   "name": ".net-csharp"
  },
  "language_info": {
   "file_extension": ".cs",
   "mimetype": "text/x-csharp",
   "name": "C#",
   "pygments_lexer": "csharp",
   "version": "8.0"
  },
  "toc": {
   "base_numbering": 1,
   "nav_menu": {},
   "number_sections": true,
   "sideBar": true,
   "skip_h1_title": false,
   "title_cell": "Table of Contents",
   "title_sidebar": "Contents",
   "toc_cell": false,
   "toc_position": {},
   "toc_section_display": true,
   "toc_window_display": false
  }
 },
 "nbformat": 4,
 "nbformat_minor": 4
}
