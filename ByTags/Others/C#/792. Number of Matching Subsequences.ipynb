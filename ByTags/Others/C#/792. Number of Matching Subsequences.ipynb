{
 "cells": [
  {
   "cell_type": "code",
   "execution_count": 1,
   "metadata": {
    "ExecuteTime": {
     "end_time": "2020-06-16T05:34:17.3095870Z",
     "start_time": "2020-06-16T05:34:16.135Z"
    }
   },
   "outputs": [],
   "source": [
    "public class Solution {\n",
    "    \n",
    "    Dictionary<char, List<int>> position;\n",
    "    \n",
    "    public int NumMatchingSubseq(string S, string[] words) {\n",
    "        position = new Dictionary<char, List<int>>();\n",
    "        for(int i = 0; i < S.Length; i++){\n",
    "            var thisC = S[i];\n",
    "            if(!position.ContainsKey(thisC)){\n",
    "                position[thisC] = new List<int>();\n",
    "            }\n",
    "            position[thisC].Add(i);\n",
    "        }\n",
    "        var visited = new HashSet<string>();\n",
    "        var res = 0;\n",
    "        foreach(var w in words){\n",
    "            if(find(w) || visited.Contains(w)){\n",
    "                res++;\n",
    "                visited.Add(w);\n",
    "            }\n",
    "        }\n",
    "        return res;\n",
    "    }\n",
    "    \n",
    "    public bool find(string word){\n",
    "        var start = -1;\n",
    "        // Console.WriteLine(word);\n",
    "        foreach(var c in word){\n",
    "            if(!position.ContainsKey(c)){\n",
    "                return false;\n",
    "            }\n",
    "            // Console.WriteLine(start);\n",
    "            var index = bisect(position[c], start);\n",
    "            // Console.WriteLine(index);\n",
    "            if(index == position[c].Count){\n",
    "                return false;\n",
    "            }\n",
    "            // Console.WriteLine(start);\n",
    "            start = position[c][index];\n",
    "        }\n",
    "        return true;\n",
    "    }\n",
    "    \n",
    "    public int bisect(List<int> pos, int target){\n",
    "        int left = 0, right = pos.Count;\n",
    "        while(left < right){\n",
    "            int mid = left + (right - left) / 2;\n",
    "            if(target >= pos[mid]){\n",
    "                left = mid + 1;\n",
    "            }else if(target < pos[mid]){\n",
    "                right = mid;\n",
    "            }\n",
    "        }\n",
    "        return left;\n",
    "    }\n",
    "}"
   ]
  },
  {
   "cell_type": "code",
   "execution_count": null,
   "metadata": {},
   "outputs": [],
   "source": []
  }
 ],
 "metadata": {
  "kernelspec": {
   "display_name": ".NET (C#)",
   "language": "C#",
   "name": ".net-csharp"
  },
  "language_info": {
   "file_extension": ".cs",
   "mimetype": "text/x-csharp",
   "name": "C#",
   "pygments_lexer": "csharp",
   "version": "8.0"
  },
  "toc": {
   "base_numbering": 1,
   "nav_menu": {},
   "number_sections": true,
   "sideBar": true,
   "skip_h1_title": false,
   "title_cell": "Table of Contents",
   "title_sidebar": "Contents",
   "toc_cell": false,
   "toc_position": {},
   "toc_section_display": true,
   "toc_window_display": false
  }
 },
 "nbformat": 4,
 "nbformat_minor": 4
}
