{
 "cells": [
  {
   "cell_type": "code",
   "execution_count": 1,
   "metadata": {
    "ExecuteTime": {
     "end_time": "2020-05-06T01:59:44.1743120Z",
     "start_time": "2020-05-06T01:59:42.889Z"
    }
   },
   "outputs": [],
   "source": [
    "public class Solution {\n",
    "    public int FirstUniqChar(string s) {\n",
    "        var index = 0;\n",
    "        var counter = new Dictionary<char, int>();\n",
    "        for(int i = 0; i < s.Length; i++){\n",
    "            if(!counter.ContainsKey(s[i])){\n",
    "                counter[s[i]] = 0;\n",
    "            }\n",
    "            counter[s[i]]++;\n",
    "            while(index < s.Length && counter.ContainsKey(s[index]) && counter[s[index]] > 1){\n",
    "                index++;\n",
    "            }\n",
    "        }\n",
    "        return index == s.Length ? -1 : index;\n",
    "    }\n",
    "}"
   ]
  },
  {
   "cell_type": "code",
   "execution_count": null,
   "metadata": {},
   "outputs": [],
   "source": []
  }
 ],
 "metadata": {
  "kernelspec": {
   "display_name": ".NET (C#)",
   "language": "C#",
   "name": ".net-csharp"
  },
  "language_info": {
   "file_extension": ".cs",
   "mimetype": "text/x-csharp",
   "name": "C#",
   "pygments_lexer": "csharp",
   "version": "8.0"
  },
  "toc": {
   "base_numbering": 1,
   "nav_menu": {},
   "number_sections": true,
   "sideBar": true,
   "skip_h1_title": false,
   "title_cell": "Table of Contents",
   "title_sidebar": "Contents",
   "toc_cell": false,
   "toc_position": {},
   "toc_section_display": true,
   "toc_window_display": false
  }
 },
 "nbformat": 4,
 "nbformat_minor": 4
}
