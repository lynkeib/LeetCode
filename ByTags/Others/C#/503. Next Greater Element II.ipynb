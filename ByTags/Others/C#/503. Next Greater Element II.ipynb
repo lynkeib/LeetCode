{
 "cells": [
  {
   "cell_type": "code",
   "execution_count": 1,
   "metadata": {
    "ExecuteTime": {
     "end_time": "2020-05-22T04:00:50.0316070Z",
     "start_time": "2020-05-22T04:00:48.345Z"
    }
   },
   "outputs": [],
   "source": [
    "public class Solution {\n",
    "    public int[] NextGreaterElements(int[] nums) {\n",
    "        var res = new int[nums.Length];\n",
    "        Array.Fill(res, int.MaxValue);\n",
    "        var stack = new Stack<int>();\n",
    "        for(int i = 0; i < nums.Length * 2 - 1; i++){\n",
    "            var index = i % nums.Length;\n",
    "            while(stack.Count != 0 && nums[stack.Peek()] < nums[index]){\n",
    "                var thisnumIndex = stack.Pop();\n",
    "                res[thisnumIndex] = nums[index];\n",
    "            }\n",
    "            stack.Push(index);\n",
    "        }\n",
    "        for(int i = 0; i < res.Length; i++){\n",
    "            if(res[i] == int.MaxValue){\n",
    "                res[i] = -1;\n",
    "            }\n",
    "        }\n",
    "        return res;\n",
    "    }\n",
    "}"
   ]
  },
  {
   "cell_type": "code",
   "execution_count": null,
   "metadata": {},
   "outputs": [],
   "source": []
  }
 ],
 "metadata": {
  "kernelspec": {
   "display_name": ".NET (C#)",
   "language": "C#",
   "name": ".net-csharp"
  },
  "language_info": {
   "file_extension": ".cs",
   "mimetype": "text/x-csharp",
   "name": "C#",
   "pygments_lexer": "csharp",
   "version": "8.0"
  },
  "toc": {
   "base_numbering": 1,
   "nav_menu": {},
   "number_sections": true,
   "sideBar": true,
   "skip_h1_title": false,
   "title_cell": "Table of Contents",
   "title_sidebar": "Contents",
   "toc_cell": false,
   "toc_position": {},
   "toc_section_display": true,
   "toc_window_display": false
  }
 },
 "nbformat": 4,
 "nbformat_minor": 4
}
