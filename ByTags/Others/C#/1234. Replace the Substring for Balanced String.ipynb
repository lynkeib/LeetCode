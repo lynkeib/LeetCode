{
 "cells": [
  {
   "cell_type": "code",
   "execution_count": 1,
   "metadata": {
    "ExecuteTime": {
     "end_time": "2020-05-25T05:35:50.4698550Z",
     "start_time": "2020-05-25T05:35:49.400Z"
    }
   },
   "outputs": [],
   "source": [
    "public class Solution {\n",
    "    public int BalancedString(string s) {\n",
    "        var counter = new Dictionary<char, int>();\n",
    "        counter['Q'] = 0;\n",
    "        counter['R'] = 0;\n",
    "        counter['W'] = 0;\n",
    "        counter['E'] = 0;\n",
    "        foreach(var c in s){\n",
    "            counter[c]++;\n",
    "        }\n",
    "        var res = s.Length;\n",
    "        var left = 0;\n",
    "        var match = s.Length / 4;\n",
    "        for(int right = 0; right < s.Length; right++){\n",
    "            counter[s[right]]--;\n",
    "            while(left < s.Length && counter['Q']<=match && counter['W']<=match && counter['E']<=match && counter['R']<=match){\n",
    "                res = Math.Min(res, right - left + 1);\n",
    "                counter[s[left]]++;\n",
    "                left++;\n",
    "            }\n",
    "        }\n",
    "        return res;\n",
    "    }\n",
    "}"
   ]
  },
  {
   "cell_type": "code",
   "execution_count": null,
   "metadata": {},
   "outputs": [],
   "source": []
  }
 ],
 "metadata": {
  "kernelspec": {
   "display_name": ".NET (C#)",
   "language": "C#",
   "name": ".net-csharp"
  },
  "language_info": {
   "file_extension": ".cs",
   "mimetype": "text/x-csharp",
   "name": "C#",
   "pygments_lexer": "csharp",
   "version": "8.0"
  },
  "toc": {
   "base_numbering": 1,
   "nav_menu": {},
   "number_sections": true,
   "sideBar": true,
   "skip_h1_title": false,
   "title_cell": "Table of Contents",
   "title_sidebar": "Contents",
   "toc_cell": false,
   "toc_position": {},
   "toc_section_display": true,
   "toc_window_display": false
  }
 },
 "nbformat": 4,
 "nbformat_minor": 4
}
