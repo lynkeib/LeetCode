{
 "cells": [
  {
   "cell_type": "markdown",
   "metadata": {},
   "source": [
    "# TLE"
   ]
  },
  {
   "cell_type": "code",
   "execution_count": 1,
   "metadata": {
    "ExecuteTime": {
     "end_time": "2020-05-16T03:16:42.6503530Z",
     "start_time": "2020-05-16T03:16:41.610Z"
    }
   },
   "outputs": [],
   "source": [
    "public class Solution {\n",
    "    public int MaxSubarraySumCircular(int[] A) {\n",
    "        var res = int.MinValue;\n",
    "        var n = A.Length;\n",
    "        for(int start = 0; start < n; start++){\n",
    "            int sum = 0;\n",
    "            for(int i = start; i < n + start; i++){\n",
    "                var index = i % n;\n",
    "                sum += A[index];\n",
    "                res = Math.Max(res, sum);\n",
    "                if(sum < 0){\n",
    "                    sum = 0;\n",
    "                }\n",
    "            }\n",
    "        }\n",
    "        return res;\n",
    "    }\n",
    "}"
   ]
  },
  {
   "cell_type": "markdown",
   "metadata": {},
   "source": [
    "# Normal way"
   ]
  },
  {
   "cell_type": "code",
   "execution_count": 2,
   "metadata": {
    "ExecuteTime": {
     "end_time": "2020-05-16T03:38:36.8344220Z",
     "start_time": "2020-05-16T03:38:36.763Z"
    }
   },
   "outputs": [],
   "source": [
    "public class Solution {\n",
    "    public int MaxSubarraySumCircular(int[] A) {\n",
    "        \n",
    "        var n = A.Length;\n",
    "        var min_sum = int.MaxValue;\n",
    "        var max_sum = int.MinValue;\n",
    "        var curMin = 0;\n",
    "        var curMax = 0;\n",
    "        var sum = 0;\n",
    "        for(int i = 0; i < n; i++){\n",
    "            curMin = Math.Min(curMin + A[i], A[i]);\n",
    "            min_sum = Math.Min(min_sum, curMin);\n",
    "            curMax = Math.Max(curMax + A[i], A[i]);\n",
    "            max_sum = Math.Max(max_sum, curMax);\n",
    "            sum += A[i];\n",
    "        }\n",
    "        return sum == min_sum ? max_sum : Math.Max(max_sum, sum - min_sum);\n",
    "    }\n",
    "}"
   ]
  },
  {
   "cell_type": "code",
   "execution_count": null,
   "metadata": {},
   "outputs": [],
   "source": []
  }
 ],
 "metadata": {
  "kernelspec": {
   "display_name": ".NET (C#)",
   "language": "C#",
   "name": ".net-csharp"
  },
  "language_info": {
   "file_extension": ".cs",
   "mimetype": "text/x-csharp",
   "name": "C#",
   "pygments_lexer": "csharp",
   "version": "8.0"
  },
  "toc": {
   "base_numbering": 1,
   "nav_menu": {},
   "number_sections": true,
   "sideBar": true,
   "skip_h1_title": false,
   "title_cell": "Table of Contents",
   "title_sidebar": "Contents",
   "toc_cell": false,
   "toc_position": {},
   "toc_section_display": true,
   "toc_window_display": false
  }
 },
 "nbformat": 4,
 "nbformat_minor": 4
}
