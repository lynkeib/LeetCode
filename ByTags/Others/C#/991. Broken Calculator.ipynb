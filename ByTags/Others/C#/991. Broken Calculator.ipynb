{
 "cells": [
  {
   "cell_type": "code",
   "execution_count": 1,
   "metadata": {
    "ExecuteTime": {
     "end_time": "2020-06-03T22:19:06.8622900Z",
     "start_time": "2020-06-03T22:19:05.408Z"
    }
   },
   "outputs": [],
   "source": [
    "public class Solution {\n",
    "    public int BrokenCalc(int X, int Y) {\n",
    "        var res = 0;\n",
    "        while(Y > X){\n",
    "            res++;\n",
    "            if(Y % 2 == 0){\n",
    "                Y /= 2;\n",
    "            }else{\n",
    "                Y += 1;\n",
    "            }\n",
    "        }\n",
    "        return res + (X - Y);\n",
    "    }\n",
    "}"
   ]
  },
  {
   "cell_type": "code",
   "execution_count": null,
   "metadata": {},
   "outputs": [],
   "source": []
  }
 ],
 "metadata": {
  "kernelspec": {
   "display_name": ".NET (C#)",
   "language": "C#",
   "name": ".net-csharp"
  },
  "language_info": {
   "file_extension": ".cs",
   "mimetype": "text/x-csharp",
   "name": "C#",
   "pygments_lexer": "csharp",
   "version": "8.0"
  },
  "toc": {
   "base_numbering": 1,
   "nav_menu": {},
   "number_sections": true,
   "sideBar": true,
   "skip_h1_title": false,
   "title_cell": "Table of Contents",
   "title_sidebar": "Contents",
   "toc_cell": false,
   "toc_position": {},
   "toc_section_display": true,
   "toc_window_display": false
  }
 },
 "nbformat": 4,
 "nbformat_minor": 4
}
