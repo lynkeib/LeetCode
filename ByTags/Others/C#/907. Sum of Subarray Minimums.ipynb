{
 "cells": [
  {
   "cell_type": "code",
   "execution_count": 1,
   "metadata": {
    "ExecuteTime": {
     "end_time": "2020-05-22T06:02:33.7922150Z",
     "start_time": "2020-05-22T06:02:32.623Z"
    }
   },
   "outputs": [],
   "source": [
    "public class Solution {\n",
    "    public int SumSubarrayMins(int[] A) {\n",
    "        var n = A.Length;\n",
    "        var PLE = new int[n];\n",
    "        var NLE = new int[n];\n",
    "        var stackPLE = new Stack<(int, int)>();\n",
    "        var stackNLE = new Stack<(int, int)>();\n",
    "        \n",
    "        for(int i = 0; i < n; i++){\n",
    "            var count = 1;\n",
    "            while(stackPLE.Count != 0 && stackPLE.Peek().Item1 >= A[i]){\n",
    "                var pair = stackPLE.Pop();\n",
    "                count += pair.Item2;\n",
    "            }\n",
    "            stackPLE.Push((A[i], count));\n",
    "            PLE[i] = count;\n",
    "        }\n",
    "        \n",
    "        for(int i = n - 1; i > -1; i--){\n",
    "            var count = 1;\n",
    "            while(stackNLE.Count != 0 && stackNLE.Peek().Item1 > A[i]){\n",
    "                var pair = stackNLE.Pop();\n",
    "                count += pair.Item2;\n",
    "            }\n",
    "            stackNLE.Push((A[i], count));\n",
    "            NLE[i] = count;\n",
    "        }\n",
    "        int mod = (int)Math.Pow(10, 9) + 7;\n",
    "        long res = 0;\n",
    "        for(int i = 0; i < n; i++){\n",
    "            res += (PLE[i] * NLE[i] * A[i]);\n",
    "        }\n",
    "        return (int)(res % mod);\n",
    "    }\n",
    "}"
   ]
  },
  {
   "cell_type": "code",
   "execution_count": null,
   "metadata": {},
   "outputs": [],
   "source": []
  }
 ],
 "metadata": {
  "kernelspec": {
   "display_name": ".NET (C#)",
   "language": "C#",
   "name": ".net-csharp"
  },
  "language_info": {
   "file_extension": ".cs",
   "mimetype": "text/x-csharp",
   "name": "C#",
   "pygments_lexer": "csharp",
   "version": "8.0"
  },
  "toc": {
   "base_numbering": 1,
   "nav_menu": {},
   "number_sections": true,
   "sideBar": true,
   "skip_h1_title": false,
   "title_cell": "Table of Contents",
   "title_sidebar": "Contents",
   "toc_cell": false,
   "toc_position": {},
   "toc_section_display": true,
   "toc_window_display": false
  }
 },
 "nbformat": 4,
 "nbformat_minor": 4
}
