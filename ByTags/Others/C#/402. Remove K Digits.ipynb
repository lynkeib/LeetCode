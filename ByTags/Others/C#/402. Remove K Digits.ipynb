{
 "cells": [
  {
   "cell_type": "markdown",
   "metadata": {},
   "source": [
    "# Backtracking (TLE)"
   ]
  },
  {
   "cell_type": "code",
   "execution_count": 1,
   "metadata": {
    "ExecuteTime": {
     "end_time": "2020-05-13T20:45:07.5964910Z",
     "start_time": "2020-05-13T20:45:06.003Z"
    }
   },
   "outputs": [
    {
     "ename": "Unhandled Exception",
     "evalue": "(3,5): error CS0246: The type or namespace name 'BigInteger' could not be found (are you missing a using directive or an assembly reference?)\n(18,13): error CS0246: The type or namespace name 'BigInteger' could not be found (are you missing a using directive or an assembly reference?)\n(18,33): error CS0103: The name 'BigInteger' does not exist in the current context\n(26,23): error CS0103: The name 'BigInteger' does not exist in the current context",
     "output_type": "error",
     "traceback": [
      "(3,5): error CS0246: The type or namespace name 'BigInteger' could not be found (are you missing a using directive or an assembly reference?)\n(18,13): error CS0246: The type or namespace name 'BigInteger' could not be found (are you missing a using directive or an assembly reference?)\n(18,33): error CS0103: The name 'BigInteger' does not exist in the current context\n(26,23): error CS0103: The name 'BigInteger' does not exist in the current context"
     ]
    }
   ],
   "source": [
    "public class Solution {\n",
    "    \n",
    "    BigInteger res = -1;\n",
    "    \n",
    "    public string RemoveKdigits(string num, int k) {\n",
    "        if(num.Length <= k){\n",
    "            return \"0\";\n",
    "        }\n",
    "        dfs(new StringBuilder(num), k, 0, 0);\n",
    "        return res.ToString();\n",
    "    }\n",
    "    \n",
    "    public void dfs(StringBuilder num, int k, int count, int start){\n",
    "        if(count == k){\n",
    "            // Console.WriteLine(num.GetType());\n",
    "            // var sb = new StringBuilder(num);\n",
    "            \n",
    "            BigInteger newNum = BigInteger.Parse(num.ToString());\n",
    "            // if(num[0] == '0' && newNum != 0){\n",
    "            //     return;\n",
    "            // }\n",
    "            // num = new StringBuilder(num);\n",
    "            if(res == -1){\n",
    "                res = newNum;\n",
    "            }else{\n",
    "                res = BigInteger.Min(res, newNum);\n",
    "            }\n",
    "            return;\n",
    "        }\n",
    "        for(int index = start; index < num.Length; index++){\n",
    "            \n",
    "            // if(num.Length > 1 && index == start && num[index + 1] == '0'){\n",
    "            //     continue;\n",
    "            // }\n",
    "            // Console.WriteLine($\"{num.Length}, {index}\");\n",
    "            var temp = num[index];\n",
    "            num.Remove(index, 1);\n",
    "            dfs(num, k, count + 1, index);\n",
    "            // Console.WriteLine(num.GetType());\n",
    "            num.Insert(index, temp);\n",
    "        }\n",
    "        return;\n",
    "    }\n",
    "}"
   ]
  },
  {
   "cell_type": "markdown",
   "metadata": {},
   "source": [
    "# Stack"
   ]
  },
  {
   "cell_type": "code",
   "execution_count": 2,
   "metadata": {
    "ExecuteTime": {
     "end_time": "2020-05-13T20:57:11.2801380Z",
     "start_time": "2020-05-13T20:57:10.602Z"
    }
   },
   "outputs": [],
   "source": [
    "public class Solution {\n",
    "    public string RemoveKdigits(string num, int k) {\n",
    "        var len = num.Length;\n",
    "        var r = k;\n",
    "        if(len <= k){\n",
    "            return \"0\";\n",
    "        }\n",
    "        var stack = new List<char>();\n",
    "        foreach(char c in num){\n",
    "            var n = c - '0';\n",
    "            while(stack.Count != 0 && stack[stack.Count - 1] - '0' > n && k != 0){\n",
    "                stack.RemoveAt(stack.Count - 1);\n",
    "                k--;\n",
    "            }\n",
    "            stack.Add(c);\n",
    "        }\n",
    "        var res = \"\";\n",
    "        var index = 0;\n",
    "        while(index < stack.Count && stack[index] == '0'){\n",
    "            index++;\n",
    "        }\n",
    "        if(index == stack.Count){\n",
    "            return \"0\";\n",
    "        }\n",
    "        int remain = num.Length - r;\n",
    "        while(index < stack.Count && remain != 0){\n",
    "            res += stack[index];\n",
    "            index++;\n",
    "            remain--;\n",
    "        }\n",
    "        return res;\n",
    "    }\n",
    "}"
   ]
  },
  {
   "cell_type": "code",
   "execution_count": null,
   "metadata": {},
   "outputs": [],
   "source": []
  }
 ],
 "metadata": {
  "kernelspec": {
   "display_name": ".NET (C#)",
   "language": "C#",
   "name": ".net-csharp"
  },
  "language_info": {
   "file_extension": ".cs",
   "mimetype": "text/x-csharp",
   "name": "C#",
   "pygments_lexer": "csharp",
   "version": "8.0"
  },
  "toc": {
   "base_numbering": 1,
   "nav_menu": {},
   "number_sections": true,
   "sideBar": true,
   "skip_h1_title": false,
   "title_cell": "Table of Contents",
   "title_sidebar": "Contents",
   "toc_cell": false,
   "toc_position": {},
   "toc_section_display": true,
   "toc_window_display": false
  }
 },
 "nbformat": 4,
 "nbformat_minor": 4
}
