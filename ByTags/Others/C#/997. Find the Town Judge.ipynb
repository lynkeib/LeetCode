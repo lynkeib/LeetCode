{
 "cells": [
  {
   "cell_type": "code",
   "execution_count": 1,
   "metadata": {
    "ExecuteTime": {
     "end_time": "2020-05-10T21:12:06.0361470Z",
     "start_time": "2020-05-10T21:12:05.063Z"
    }
   },
   "outputs": [],
   "source": [
    "public class Solution {\n",
    "    public int FindJudge(int N, int[][] trust) {\n",
    "        if(N == 1 && trust.Length == 0){\n",
    "            return 1;\n",
    "        }\n",
    "        if(trust.Length == 0){\n",
    "            return -1;\n",
    "        }\n",
    "        var map = new int[N, N];\n",
    "        foreach(var pair in trust){\n",
    "            var p1 = pair[0];\n",
    "            var p2 = pair[1];\n",
    "            map[p1-1, p2-1] = 1;\n",
    "        }\n",
    "        var res = trust[0][1] - 1;\n",
    "        for(int i = 0; i < N; i++){\n",
    "            if(res != i && map[res, i] == 1){\n",
    "                res = i;\n",
    "            }\n",
    "        }\n",
    "        for(int i = 0; i < N; i++){\n",
    "            if(i != res){\n",
    "                if(map[res, i] == 1 || map[i, res] != 1){\n",
    "                    return -1;\n",
    "                }\n",
    "            }\n",
    "        }\n",
    "        return res + 1;\n",
    "    }\n",
    "}"
   ]
  },
  {
   "cell_type": "code",
   "execution_count": null,
   "metadata": {},
   "outputs": [],
   "source": []
  }
 ],
 "metadata": {
  "kernelspec": {
   "display_name": ".NET (C#)",
   "language": "C#",
   "name": ".net-csharp"
  },
  "language_info": {
   "file_extension": ".cs",
   "mimetype": "text/x-csharp",
   "name": "C#",
   "pygments_lexer": "csharp",
   "version": "8.0"
  },
  "toc": {
   "base_numbering": 1,
   "nav_menu": {},
   "number_sections": true,
   "sideBar": true,
   "skip_h1_title": false,
   "title_cell": "Table of Contents",
   "title_sidebar": "Contents",
   "toc_cell": false,
   "toc_position": {},
   "toc_section_display": true,
   "toc_window_display": false
  }
 },
 "nbformat": 4,
 "nbformat_minor": 4
}
