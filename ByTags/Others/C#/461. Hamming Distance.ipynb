{
 "cells": [
  {
   "cell_type": "code",
   "execution_count": 1,
   "metadata": {
    "ExecuteTime": {
     "end_time": "2020-07-06T03:53:37.5953600Z",
     "start_time": "2020-07-06T03:53:36.725Z"
    }
   },
   "outputs": [],
   "source": [
    "public class Solution {\n",
    "    public int HammingDistance(int x, int y) {\n",
    "        int temp = x ^ y;\n",
    "        // Console.WriteLine(temp);\n",
    "        int counter = 0;\n",
    "        while(temp != 0){\n",
    "            if((temp & 1) == 1){\n",
    "                counter++;\n",
    "            }\n",
    "            temp >>= 1;\n",
    "        }\n",
    "        return counter;\n",
    "    }\n",
    "}"
   ]
  },
  {
   "cell_type": "code",
   "execution_count": null,
   "metadata": {},
   "outputs": [],
   "source": []
  }
 ],
 "metadata": {
  "kernelspec": {
   "display_name": ".NET (C#)",
   "language": "C#",
   "name": ".net-csharp"
  },
  "language_info": {
   "file_extension": ".cs",
   "mimetype": "text/x-csharp",
   "name": "C#",
   "pygments_lexer": "csharp",
   "version": "8.0"
  },
  "toc": {
   "base_numbering": 1,
   "nav_menu": {},
   "number_sections": true,
   "sideBar": true,
   "skip_h1_title": false,
   "title_cell": "Table of Contents",
   "title_sidebar": "Contents",
   "toc_cell": false,
   "toc_position": {},
   "toc_section_display": true,
   "toc_window_display": false
  }
 },
 "nbformat": 4,
 "nbformat_minor": 4
}
