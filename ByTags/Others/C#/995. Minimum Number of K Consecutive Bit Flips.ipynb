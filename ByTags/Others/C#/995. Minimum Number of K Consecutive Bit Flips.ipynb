{
 "cells": [
  {
   "cell_type": "code",
   "execution_count": 1,
   "metadata": {
    "ExecuteTime": {
     "end_time": "2020-06-05T23:59:02.9793360Z",
     "start_time": "2020-06-05T23:59:02.031Z"
    }
   },
   "outputs": [],
   "source": [
    "public class Solution {\n",
    "    public int MinKBitFlips(int[] A, int K) {\n",
    "        var res = 0;\n",
    "        var Flipped = new int[A.Length];\n",
    "        var thisFlipped = 0;\n",
    "        \n",
    "        for(int i = 0; i < A.Length; i++){\n",
    "            if(i >= K){\n",
    "                thisFlipped = thisFlipped ^ Flipped[i - K];\n",
    "            }\n",
    "            if(thisFlipped == A[i]){\n",
    "                if(i + K > A.Length){\n",
    "                    return -1;\n",
    "                }\n",
    "                thisFlipped = thisFlipped ^ 1;\n",
    "                Flipped[i] = 1;\n",
    "                res++;\n",
    "            }\n",
    "        }\n",
    "        return res;\n",
    "    }\n",
    "}"
   ]
  },
  {
   "cell_type": "code",
   "execution_count": null,
   "metadata": {},
   "outputs": [],
   "source": []
  }
 ],
 "metadata": {
  "kernelspec": {
   "display_name": ".NET (C#)",
   "language": "C#",
   "name": ".net-csharp"
  },
  "language_info": {
   "file_extension": ".cs",
   "mimetype": "text/x-csharp",
   "name": "C#",
   "pygments_lexer": "csharp",
   "version": "8.0"
  },
  "toc": {
   "base_numbering": 1,
   "nav_menu": {},
   "number_sections": true,
   "sideBar": true,
   "skip_h1_title": false,
   "title_cell": "Table of Contents",
   "title_sidebar": "Contents",
   "toc_cell": false,
   "toc_position": {},
   "toc_section_display": true,
   "toc_window_display": false
  }
 },
 "nbformat": 4,
 "nbformat_minor": 4
}
