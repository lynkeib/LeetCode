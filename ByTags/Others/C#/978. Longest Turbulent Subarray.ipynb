{
 "cells": [
  {
   "cell_type": "code",
   "execution_count": 1,
   "metadata": {
    "ExecuteTime": {
     "end_time": "2020-05-29T22:53:25.5150850Z",
     "start_time": "2020-05-29T22:53:24.374Z"
    }
   },
   "outputs": [],
   "source": [
    "public class Solution {\n",
    "    public int MaxTurbulenceSize(int[] A) {\n",
    "        int res = 1;\n",
    "        int slow = 0;\n",
    "        for(int fast = 1; fast < A.Length; fast++){\n",
    "            int curr_diff = A[fast - 1].CompareTo(A[fast]);\n",
    "            if(curr_diff == 0){\n",
    "                slow = fast;\n",
    "            }else if(fast == A.Length - 1 || curr_diff * A[fast].CompareTo(A[fast + 1]) != -1){\n",
    "                res = Math.Max(res, fast - slow + 1);\n",
    "                slow = fast;\n",
    "            }\n",
    "        }\n",
    "        return res;\n",
    "    }\n",
    "}"
   ]
  },
  {
   "cell_type": "code",
   "execution_count": null,
   "metadata": {},
   "outputs": [],
   "source": []
  }
 ],
 "metadata": {
  "kernelspec": {
   "display_name": ".NET (C#)",
   "language": "C#",
   "name": ".net-csharp"
  },
  "language_info": {
   "file_extension": ".cs",
   "mimetype": "text/x-csharp",
   "name": "C#",
   "pygments_lexer": "csharp",
   "version": "8.0"
  },
  "toc": {
   "base_numbering": 1,
   "nav_menu": {},
   "number_sections": true,
   "sideBar": true,
   "skip_h1_title": false,
   "title_cell": "Table of Contents",
   "title_sidebar": "Contents",
   "toc_cell": false,
   "toc_position": {},
   "toc_section_display": true,
   "toc_window_display": false
  }
 },
 "nbformat": 4,
 "nbformat_minor": 4
}
