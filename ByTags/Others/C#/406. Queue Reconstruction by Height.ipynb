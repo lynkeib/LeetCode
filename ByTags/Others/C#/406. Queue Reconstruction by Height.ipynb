{
 "cells": [
  {
   "cell_type": "markdown",
   "metadata": {},
   "source": [
    "# Brute Force (Greedy???)"
   ]
  },
  {
   "cell_type": "code",
   "execution_count": 1,
   "metadata": {
    "ExecuteTime": {
     "end_time": "2020-06-06T21:37:56.4305580Z",
     "start_time": "2020-06-06T21:37:55.277Z"
    }
   },
   "outputs": [],
   "source": [
    "public class Solution {\n",
    "    public int[][] ReconstructQueue(int[][] people) {\n",
    "        Array.Sort(people, (a, b) => a[0] == b[0] ? a[1].CompareTo(b[1]) : b[0].CompareTo(a[0]));\n",
    "        var res = new List<int[]>();\n",
    "        // foreach(var p in people) Console.Write($\"{p[0]}, {p[1]} \");\n",
    "        foreach(var p in people){\n",
    "            int height = p[0];\n",
    "            int num = p[1];\n",
    "            int index = 0;\n",
    "            res.Insert(num, p);\n",
    "        }\n",
    "        return res.ToArray();\n",
    "    }\n",
    "}"
   ]
  },
  {
   "cell_type": "code",
   "execution_count": null,
   "metadata": {},
   "outputs": [],
   "source": []
  }
 ],
 "metadata": {
  "kernelspec": {
   "display_name": ".NET (C#)",
   "language": "C#",
   "name": ".net-csharp"
  },
  "language_info": {
   "file_extension": ".cs",
   "mimetype": "text/x-csharp",
   "name": "C#",
   "pygments_lexer": "csharp",
   "version": "8.0"
  },
  "toc": {
   "base_numbering": 1,
   "nav_menu": {},
   "number_sections": true,
   "sideBar": true,
   "skip_h1_title": false,
   "title_cell": "Table of Contents",
   "title_sidebar": "Contents",
   "toc_cell": false,
   "toc_position": {},
   "toc_section_display": true,
   "toc_window_display": false
  }
 },
 "nbformat": 4,
 "nbformat_minor": 4
}
