{
 "cells": [
  {
   "cell_type": "markdown",
   "metadata": {},
   "source": [
    "# Greedy"
   ]
  },
  {
   "cell_type": "code",
   "execution_count": 2,
   "metadata": {
    "ExecuteTime": {
     "end_time": "2020-06-05T23:15:33.4635420Z",
     "start_time": "2020-06-05T23:15:33.398Z"
    }
   },
   "outputs": [],
   "source": [
    "public class Solution {\n",
    "    public int MinTaps(int n, int[] ranges) {\n",
    "        var Ranges = new List<(int left, int right)>();\n",
    "        for(int i = 0; i < ranges.Length; i++){\n",
    "            var newRange = (i - ranges[i], i + ranges[i]);\n",
    "            Ranges.Add(newRange);\n",
    "        }\n",
    "        var rangesA = Ranges.ToArray();\n",
    "        Array.Sort(rangesA, (a, b) => a.left.CompareTo(b.left));\n",
    "//         foreach(var a in rangesA) Console.Write($\"[{a.left}, {a.right}] \");\n",
    "        var curr = 0;\n",
    "        var index = 0;\n",
    "        var res = 0;\n",
    "        while(curr < n){\n",
    "            var max_reach = curr;\n",
    "            while(index < rangesA.Length && rangesA[index].right < curr){\n",
    "                index++;\n",
    "            }\n",
    "            if(index == rangesA.Length){\n",
    "                break;\n",
    "            }\n",
    "            while(index < rangesA.Length && ((rangesA[index].left <= curr && rangesA[index].right >= curr) || (rangesA[index].right < curr))){\n",
    "                max_reach = Math.Max(max_reach, rangesA[index].right);\n",
    "                index++;\n",
    "            }\n",
    "            if(max_reach == curr){\n",
    "                return -1;\n",
    "            }\n",
    "            curr = max_reach;\n",
    "//             Console.WriteLine(curr);\n",
    "            res += 1;\n",
    "        }\n",
    "        return curr >= n ? res : -1;\n",
    "    }\n",
    "}"
   ]
  },
  {
   "cell_type": "markdown",
   "metadata": {},
   "source": [
    "# DP"
   ]
  },
  {
   "cell_type": "code",
   "execution_count": 6,
   "metadata": {
    "ExecuteTime": {
     "end_time": "2020-06-05T23:28:08.8263530Z",
     "start_time": "2020-06-05T23:28:08.781Z"
    }
   },
   "outputs": [],
   "source": [
    "public class Solution {\n",
    "    public int MinTaps(int n, int[] ranges) {\n",
    "        var dp = Enumerable.Repeat(n + 2, n + 1).ToArray();\n",
    "        dp[0] = 0;\n",
    "        for(int i = 0; i < ranges.Length; i++){\n",
    "            int low = Math.Max(0, i - ranges[i]);\n",
    "            int high = Math.Min(n, i + ranges[i]);\n",
    "            for(int j = low + 1; j <= high; j++){\n",
    "                dp[j] = Math.Min(dp[j], dp[low] + 1);\n",
    "            }\n",
    "        }\n",
    "        return dp[n] == n + 2 ? -1 : dp[n];\n",
    "    }\n",
    "}"
   ]
  },
  {
   "cell_type": "code",
   "execution_count": null,
   "metadata": {},
   "outputs": [],
   "source": []
  }
 ],
 "metadata": {
  "kernelspec": {
   "display_name": ".NET (C#)",
   "language": "C#",
   "name": ".net-csharp"
  },
  "language_info": {
   "file_extension": ".cs",
   "mimetype": "text/x-csharp",
   "name": "C#",
   "pygments_lexer": "csharp",
   "version": "8.0"
  },
  "toc": {
   "base_numbering": 1,
   "nav_menu": {},
   "number_sections": true,
   "sideBar": true,
   "skip_h1_title": false,
   "title_cell": "Table of Contents",
   "title_sidebar": "Contents",
   "toc_cell": false,
   "toc_position": {},
   "toc_section_display": true,
   "toc_window_display": false
  }
 },
 "nbformat": 4,
 "nbformat_minor": 4
}
