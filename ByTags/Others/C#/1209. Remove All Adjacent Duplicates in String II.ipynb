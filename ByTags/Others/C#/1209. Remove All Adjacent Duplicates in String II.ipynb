{
 "cells": [
  {
   "cell_type": "code",
   "execution_count": 1,
   "metadata": {
    "ExecuteTime": {
     "end_time": "2020-05-22T21:45:09.8138010Z",
     "start_time": "2020-05-22T21:45:08.729Z"
    }
   },
   "outputs": [],
   "source": [
    "public class Solution {\n",
    "    public string RemoveDuplicates(string s, int k) {\n",
    "        var stack = new Stack<(char, int)>();\n",
    "        foreach(var c in s){\n",
    "            if(stack.Count == 0){\n",
    "                stack.Push((c, 1));\n",
    "            }else{\n",
    "                if(c != stack.Peek().Item1){\n",
    "                    stack.Push((c, 1));\n",
    "                }else{\n",
    "                    var pair = stack.Pop();\n",
    "                    var newPair = (c, pair.Item2 + 1);\n",
    "                    if(newPair.Item2 < k){\n",
    "                        stack.Push(newPair);\n",
    "                    }\n",
    "                }\n",
    "            }\n",
    "        }\n",
    "        var resList = new List<(char, int)>();\n",
    "        while(stack.Count != 0){\n",
    "            resList.Add(stack.Pop());\n",
    "        }\n",
    "        var res = new StringBuilder();\n",
    "        for(int i = resList.Count - 1; i > -1; i--){\n",
    "            var pair = resList[i];\n",
    "            res.Append(pair.Item1, pair.Item2);\n",
    "        }\n",
    "        return res.ToString();\n",
    "    }\n",
    "}"
   ]
  },
  {
   "cell_type": "code",
   "execution_count": null,
   "metadata": {},
   "outputs": [],
   "source": []
  }
 ],
 "metadata": {
  "kernelspec": {
   "display_name": ".NET (C#)",
   "language": "C#",
   "name": ".net-csharp"
  },
  "language_info": {
   "file_extension": ".cs",
   "mimetype": "text/x-csharp",
   "name": "C#",
   "pygments_lexer": "csharp",
   "version": "8.0"
  },
  "toc": {
   "base_numbering": 1,
   "nav_menu": {},
   "number_sections": true,
   "sideBar": true,
   "skip_h1_title": false,
   "title_cell": "Table of Contents",
   "title_sidebar": "Contents",
   "toc_cell": false,
   "toc_position": {},
   "toc_section_display": true,
   "toc_window_display": false
  }
 },
 "nbformat": 4,
 "nbformat_minor": 4
}
