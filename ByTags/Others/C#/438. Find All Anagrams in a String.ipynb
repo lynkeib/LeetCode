{
 "cells": [
  {
   "cell_type": "code",
   "execution_count": 1,
   "metadata": {
    "ExecuteTime": {
     "end_time": "2020-04-08T06:07:19.5654620Z",
     "start_time": "2020-04-08T06:07:18.424Z"
    }
   },
   "outputs": [],
   "source": [
    "public class Solution {\n",
    "    public IList<int> FindAnagrams (string s, string p) {\n",
    "        var map = new int[26];\n",
    "        var map_2 = new int[26];\n",
    "        int counter = 0;\n",
    "        var set = new HashSet<char> (p);\n",
    "        foreach (var item in p) {\n",
    "            if (map[item - 'a'] == 0) {\n",
    "                counter++;\n",
    "            }\n",
    "            map[item - 'a']++;\n",
    "            // map_2[item - 'a']++;\n",
    "        }\n",
    "        var res = new List<int>();\n",
    "        int slow = 0, counter_2 = counter;\n",
    "        Array.Copy(map, map_2, 26);\n",
    "        for (int fast = 0; fast < s.Length; fast++) {\n",
    "            if (!set.Contains (s[fast])) {\n",
    "                slow = fast + 1;\n",
    "                counter_2 = counter;\n",
    "                Array.Copy(map, map_2, 26);\n",
    "                continue;\n",
    "            }\n",
    "            // Console.Write($\"{fast} \");\n",
    "            if (map_2[s[fast] - 'a'] - 1 < 0) {\n",
    "                while (slow < fast) {\n",
    "                    map_2[s[slow] - 'a']++;\n",
    "                    if (map_2[s[slow] - 'a'] == 1) {\n",
    "                        counter_2++;\n",
    "                    }\n",
    "                    slow++;\n",
    "                    if (map_2[s[fast] - 'a'] == 1) {\n",
    "                        break;\n",
    "                    }\n",
    "                }\n",
    "            }\n",
    "\n",
    "            map_2[s[fast] - 'a'] -= 1;\n",
    "            if(map_2[s[fast] - 'a'] == 0){\n",
    "                counter_2 -= 1;\n",
    "                if(counter_2 == 0){\n",
    "                    res.Add(slow);\n",
    "                }\n",
    "            }\n",
    "            // Console.Write($\"{counter_2} \");\n",
    "            // Console.WriteLine();\n",
    "        }\n",
    "        return res;\n",
    "\n",
    "    }\n",
    "}"
   ]
  },
  {
   "cell_type": "code",
   "execution_count": null,
   "metadata": {},
   "outputs": [],
   "source": []
  }
 ],
 "metadata": {
  "kernelspec": {
   "display_name": ".NET (C#)",
   "language": "C#",
   "name": ".net-csharp"
  },
  "language_info": {
   "file_extension": ".cs",
   "mimetype": "text/x-csharp",
   "name": "C#",
   "pygments_lexer": "csharp",
   "version": "8.0"
  },
  "toc": {
   "base_numbering": 1,
   "nav_menu": {},
   "number_sections": true,
   "sideBar": true,
   "skip_h1_title": false,
   "title_cell": "Table of Contents",
   "title_sidebar": "Contents",
   "toc_cell": false,
   "toc_position": {},
   "toc_section_display": true,
   "toc_window_display": false
  }
 },
 "nbformat": 4,
 "nbformat_minor": 4
}
