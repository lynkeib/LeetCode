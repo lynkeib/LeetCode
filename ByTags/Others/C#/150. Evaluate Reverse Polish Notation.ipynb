{
 "cells": [
  {
   "cell_type": "code",
   "execution_count": 1,
   "metadata": {
    "ExecuteTime": {
     "end_time": "2020-04-14T04:30:37.4290430Z",
     "start_time": "2020-04-14T04:30:36.384Z"
    }
   },
   "outputs": [],
   "source": [
    "public class Solution {\n",
    "    public int FindMaxLength(int[] nums) {\n",
    "        int counter = 0;\n",
    "        var map = new Dictionary<int, int>();\n",
    "        map[0] = -1;\n",
    "        int res = 0;\n",
    "        for (int index = 0; index < nums.Length; index++)\n",
    "        {\n",
    "            if(nums[index] == 0){\n",
    "                counter++;\n",
    "            }else{\n",
    "                counter--;\n",
    "            }\n",
    "            if(map.ContainsKey(counter)){\n",
    "                res = Math.Max(res, index - map[counter]);\n",
    "            }else{\n",
    "                map[counter] = index;\n",
    "            }\n",
    "        }\n",
    "        return res;\n",
    "    }\n",
    "}"
   ]
  },
  {
   "cell_type": "code",
   "execution_count": null,
   "metadata": {},
   "outputs": [],
   "source": []
  }
 ],
 "metadata": {
  "kernelspec": {
   "display_name": ".NET (C#)",
   "language": "C#",
   "name": ".net-csharp"
  },
  "language_info": {
   "file_extension": ".cs",
   "mimetype": "text/x-csharp",
   "name": "C#",
   "pygments_lexer": "csharp",
   "version": "8.0"
  },
  "toc": {
   "base_numbering": 1,
   "nav_menu": {},
   "number_sections": true,
   "sideBar": true,
   "skip_h1_title": false,
   "title_cell": "Table of Contents",
   "title_sidebar": "Contents",
   "toc_cell": false,
   "toc_position": {},
   "toc_section_display": true,
   "toc_window_display": false
  }
 },
 "nbformat": 4,
 "nbformat_minor": 4
}
