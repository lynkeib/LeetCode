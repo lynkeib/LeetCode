{
 "cells": [
  {
   "cell_type": "markdown",
   "metadata": {},
   "source": [
    "# Brute Force?"
   ]
  },
  {
   "cell_type": "code",
   "execution_count": 1,
   "metadata": {
    "ExecuteTime": {
     "end_time": "2020-06-04T02:58:56.1984730Z",
     "start_time": "2020-06-04T02:58:55.082Z"
    }
   },
   "outputs": [],
   "source": [
    "public class Solution {\n",
    "    public bool IsPossible(int[] nums) {\n",
    "        var nasted = new List<int[]>();\n",
    "        foreach(var n in nums){\n",
    "            var target = n - 1;\n",
    "            var shorest = int.MaxValue;\n",
    "            var shorest_index = -1;\n",
    "            for(int i = 0; i < nasted.Count; i++){\n",
    "                if(nasted[i][0] == target){\n",
    "                    if(nasted[i][1] < shorest){\n",
    "                        shorest = nasted[i][1];\n",
    "                        shorest_index = i;\n",
    "                    }\n",
    "                }\n",
    "            }\n",
    "            if(shorest_index == -1){\n",
    "                var thisList = new int[]{n, 1};\n",
    "                nasted.Add(thisList);\n",
    "            }else{\n",
    "                nasted[shorest_index][0] = n;\n",
    "                nasted[shorest_index][1]++;\n",
    "            }\n",
    "        }\n",
    "        foreach(var list in nasted){\n",
    "            if(list[1] < 3){\n",
    "                return false;\n",
    "            }\n",
    "        }\n",
    "        return true;\n",
    "    }\n",
    "}"
   ]
  },
  {
   "cell_type": "markdown",
   "metadata": {},
   "source": [
    "# Greedy"
   ]
  },
  {
   "cell_type": "code",
   "execution_count": 2,
   "metadata": {
    "ExecuteTime": {
     "end_time": "2020-06-04T03:13:36.4104480Z",
     "start_time": "2020-06-04T03:13:36.335Z"
    }
   },
   "outputs": [],
   "source": [
    "public class Solution {\n",
    "    public bool IsPossible(int[] nums) {\n",
    "        var left = new Dictionary<int, int>();\n",
    "        foreach(var n in nums){\n",
    "            if(!left.ContainsKey(n)){\n",
    "                left[n] = 0;\n",
    "            }\n",
    "            left[n]++;\n",
    "        }\n",
    "        var ends = new Dictionary<int, int>();\n",
    "        foreach(var n in nums){\n",
    "            if(left[n] == 0){\n",
    "                continue;\n",
    "            }\n",
    "            var target = n - 1;\n",
    "            left[n]--;\n",
    "            if(ends.ContainsKey(target) && ends[target] > 0){\n",
    "                ends[target]--;\n",
    "                if(!ends.ContainsKey(n)){\n",
    "                    ends[n] = 0;\n",
    "                }\n",
    "                ends[n]++;\n",
    "            }else if(left.ContainsKey(n + 1) && left.ContainsKey(n + 2) && left[n + 1] > 0 && left[n + 2] > 0){\n",
    "                left[n + 1]--;\n",
    "                left[n + 2]--;\n",
    "                if(!ends.ContainsKey(n + 2)){\n",
    "                    ends[n + 2] = 0;\n",
    "                }\n",
    "                ends[n + 2]++;\n",
    "            }else{\n",
    "                return false;\n",
    "            }\n",
    "        }\n",
    "        return true;\n",
    "    }\n",
    "}"
   ]
  },
  {
   "cell_type": "code",
   "execution_count": null,
   "metadata": {},
   "outputs": [],
   "source": []
  }
 ],
 "metadata": {
  "kernelspec": {
   "display_name": ".NET (C#)",
   "language": "C#",
   "name": ".net-csharp"
  },
  "language_info": {
   "file_extension": ".cs",
   "mimetype": "text/x-csharp",
   "name": "C#",
   "pygments_lexer": "csharp",
   "version": "8.0"
  },
  "toc": {
   "base_numbering": 1,
   "nav_menu": {},
   "number_sections": true,
   "sideBar": true,
   "skip_h1_title": false,
   "title_cell": "Table of Contents",
   "title_sidebar": "Contents",
   "toc_cell": false,
   "toc_position": {},
   "toc_section_display": true,
   "toc_window_display": false
  }
 },
 "nbformat": 4,
 "nbformat_minor": 4
}
