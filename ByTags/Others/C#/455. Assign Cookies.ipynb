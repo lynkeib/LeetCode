{
 "cells": [
  {
   "cell_type": "code",
   "execution_count": 1,
   "metadata": {
    "ExecuteTime": {
     "end_time": "2020-05-27T00:22:18.9435080Z",
     "start_time": "2020-05-27T00:22:17.455Z"
    }
   },
   "outputs": [],
   "source": [
    "public class Solution {\n",
    "    public int FindContentChildren(int[] g, int[] s) {\n",
    "        Array.Sort(g);\n",
    "        Array.Sort(s);\n",
    "        int indexg = 0, indexs = 0;\n",
    "        var count = 0;\n",
    "        while(indexg < g.Length && indexs < s.Length){\n",
    "            if(g[indexg] <= s[indexs]){\n",
    "                count++;\n",
    "                indexg++;\n",
    "                indexs++;\n",
    "            }else{\n",
    "                indexs++;\n",
    "            }\n",
    "        }\n",
    "        return count;\n",
    "    }\n",
    "}"
   ]
  },
  {
   "cell_type": "code",
   "execution_count": null,
   "metadata": {},
   "outputs": [],
   "source": []
  }
 ],
 "metadata": {
  "kernelspec": {
   "display_name": ".NET (C#)",
   "language": "C#",
   "name": ".net-csharp"
  },
  "language_info": {
   "file_extension": ".cs",
   "mimetype": "text/x-csharp",
   "name": "C#",
   "pygments_lexer": "csharp",
   "version": "8.0"
  },
  "toc": {
   "base_numbering": 1,
   "nav_menu": {},
   "number_sections": true,
   "sideBar": true,
   "skip_h1_title": false,
   "title_cell": "Table of Contents",
   "title_sidebar": "Contents",
   "toc_cell": false,
   "toc_position": {},
   "toc_section_display": true,
   "toc_window_display": false
  }
 },
 "nbformat": 4,
 "nbformat_minor": 4
}
