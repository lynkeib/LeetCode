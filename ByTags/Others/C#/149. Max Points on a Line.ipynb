{
 "cells": [
  {
   "cell_type": "code",
   "execution_count": 1,
   "metadata": {
    "ExecuteTime": {
     "end_time": "2020-06-03T00:13:16.4284680Z",
     "start_time": "2020-06-03T00:13:15.276Z"
    }
   },
   "outputs": [],
   "source": [
    "public class Solution {\n",
    "    public int MaxPoints(int[][] points) {\n",
    "        if(points.Length == 0){\n",
    "            return 0;\n",
    "        }\n",
    "        if(points.Length == 1){\n",
    "            return 1;\n",
    "        }\n",
    "        int res = -1;\n",
    "        var lines = new Dictionary<string, int>();\n",
    "        \n",
    "        for(int first = 0; first < points.Length - 1; first++){\n",
    "            var thisMax = 0;\n",
    "            var overlapPoint = 0;\n",
    "            lines.Clear();\n",
    "            for(int second = first + 1; second < points.Length; second++){\n",
    "                var deltaX = points[first][0] - points[second][0];\n",
    "                var deltaY = points[first][1] - points[second][1];\n",
    "                \n",
    "                if(deltaX == 0 && deltaY == 0){\n",
    "                    overlapPoint++;\n",
    "                    continue;\n",
    "                }\n",
    "                \n",
    "                var gcd = GreatestCommonDenominator(deltaX, deltaY);\n",
    "                \n",
    "                if(gcd != 0){\n",
    "                    deltaX /= gcd;\n",
    "                    deltaY /= gcd;\n",
    "                }\n",
    "                \n",
    "                var line = $\"{deltaX} {deltaY}\";\n",
    "                if(!lines.ContainsKey(line)){\n",
    "                    lines[line] = 0;\n",
    "                }\n",
    "                lines[line]++;\n",
    "                thisMax = Math.Max(thisMax, lines[line]);\n",
    "            }\n",
    "            res = Math.Max(res, thisMax + overlapPoint + 1);\n",
    "        }\n",
    "        return res;\n",
    "    }\n",
    "    \n",
    "    public int GreatestCommonDenominator(int a, int b){\n",
    "        if(b == 0){\n",
    "            return a;\n",
    "        }\n",
    "        return GreatestCommonDenominator(b, a % b);\n",
    "    }\n",
    "}"
   ]
  },
  {
   "cell_type": "code",
   "execution_count": null,
   "metadata": {},
   "outputs": [],
   "source": []
  }
 ],
 "metadata": {
  "kernelspec": {
   "display_name": ".NET (C#)",
   "language": "C#",
   "name": ".net-csharp"
  },
  "language_info": {
   "file_extension": ".cs",
   "mimetype": "text/x-csharp",
   "name": "C#",
   "pygments_lexer": "csharp",
   "version": "8.0"
  },
  "toc": {
   "base_numbering": 1,
   "nav_menu": {},
   "number_sections": true,
   "sideBar": true,
   "skip_h1_title": false,
   "title_cell": "Table of Contents",
   "title_sidebar": "Contents",
   "toc_cell": false,
   "toc_position": {},
   "toc_section_display": true,
   "toc_window_display": false
  }
 },
 "nbformat": 4,
 "nbformat_minor": 4
}
