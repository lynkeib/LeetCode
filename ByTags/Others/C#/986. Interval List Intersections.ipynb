{
 "cells": [
  {
   "cell_type": "code",
   "execution_count": 1,
   "metadata": {
    "ExecuteTime": {
     "end_time": "2020-05-24T23:34:59.5982670Z",
     "start_time": "2020-05-24T23:34:58.538Z"
    }
   },
   "outputs": [],
   "source": [
    "public class Solution {\n",
    "    public int[][] IntervalIntersection(int[][] A, int[][] B) {\n",
    "        int Aindex = 0, Bindex = 0;\n",
    "        var res = new List<int[]>();\n",
    "        while(Aindex < A.Length && Bindex < B.Length){\n",
    "            var Ainter = A[Aindex];\n",
    "            var Binter = B[Bindex];\n",
    "            if(Ainter[0] > Binter[1]){\n",
    "                Bindex++;\n",
    "            }else if(Ainter[1] < Binter[0]){\n",
    "                Aindex++;\n",
    "            }else if(Ainter[0] >= Binter[0] && Ainter[1] <= Binter[1]){\n",
    "                var new_inter = new int[]{Ainter[0], Ainter[1]};\n",
    "                res.Add(new_inter);\n",
    "                Aindex++;\n",
    "            }else if(Ainter[0] <= Binter[0] && Ainter[1] >= Binter[1]){\n",
    "                var new_inter = new int[]{Binter[0], Binter[1]};\n",
    "                res.Add(new_inter);\n",
    "                Bindex++;\n",
    "            }else if(Ainter[0] >= Binter[0]){\n",
    "                var new_inter = new int[]{Ainter[0], Binter[1]};\n",
    "                res.Add(new_inter);\n",
    "                Bindex++;\n",
    "            }else if(Ainter[0] <= Binter[0]){\n",
    "                var new_inter = new int[]{Binter[0], Ainter[1]};\n",
    "                res.Add(new_inter);\n",
    "                Aindex++;\n",
    "            }\n",
    "        }\n",
    "        return res.ToArray();\n",
    "    }\n",
    "}"
   ]
  },
  {
   "cell_type": "code",
   "execution_count": 2,
   "metadata": {
    "ExecuteTime": {
     "end_time": "2020-05-24T23:37:53.2963710Z",
     "start_time": "2020-05-24T23:37:53.217Z"
    }
   },
   "outputs": [],
   "source": [
    "public class Solution {\n",
    "    public int[][] IntervalIntersection(int[][] A, int[][] B) {\n",
    "        int Aindex = 0, Bindex = 0;\n",
    "        var res = new List<int[]>();\n",
    "        while(Aindex < A.Length && Bindex < B.Length){\n",
    "            var Ainter = A[Aindex];\n",
    "            var Binter = B[Bindex];\n",
    "            \n",
    "            var min = Math.Max(Ainter[0], Binter[0]);\n",
    "            var max = Math.Min(Ainter[1], Binter[1]);\n",
    "            \n",
    "            if(min <= max){\n",
    "                var new_inter = new int[]{min, max};\n",
    "                res.Add(new_inter);\n",
    "            }\n",
    "            \n",
    "            if(Ainter[1] >= Binter[1]){\n",
    "                Bindex++;\n",
    "            }else{\n",
    "                Aindex++;\n",
    "            }\n",
    "        }\n",
    "        return res.ToArray();\n",
    "    }\n",
    "}"
   ]
  },
  {
   "cell_type": "code",
   "execution_count": null,
   "metadata": {},
   "outputs": [],
   "source": []
  }
 ],
 "metadata": {
  "kernelspec": {
   "display_name": ".NET (C#)",
   "language": "C#",
   "name": ".net-csharp"
  },
  "language_info": {
   "file_extension": ".cs",
   "mimetype": "text/x-csharp",
   "name": "C#",
   "pygments_lexer": "csharp",
   "version": "8.0"
  },
  "toc": {
   "base_numbering": 1,
   "nav_menu": {},
   "number_sections": true,
   "sideBar": true,
   "skip_h1_title": false,
   "title_cell": "Table of Contents",
   "title_sidebar": "Contents",
   "toc_cell": false,
   "toc_position": {},
   "toc_section_display": true,
   "toc_window_display": false
  }
 },
 "nbformat": 4,
 "nbformat_minor": 4
}
