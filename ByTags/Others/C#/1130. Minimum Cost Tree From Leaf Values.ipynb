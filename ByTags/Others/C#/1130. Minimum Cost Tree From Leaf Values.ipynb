{
 "cells": [
  {
   "cell_type": "code",
   "execution_count": 1,
   "metadata": {
    "ExecuteTime": {
     "end_time": "2020-05-22T23:01:57.5833940Z",
     "start_time": "2020-05-22T23:01:55.926Z"
    }
   },
   "outputs": [],
   "source": [
    "public class Solution {\n",
    "    \n",
    "    (int, int, int)[,] dp;\n",
    "        \n",
    "    public int MctFromLeafValues(int[] arr) {\n",
    "        var n = arr.Length;\n",
    "        dp = new (int, int, int)[n,n];\n",
    "        for(int row = 0; row < n; row++){\n",
    "            for(int col = row; col < n; col++){\n",
    "                dp[row, col] = (-1, -1, -1);\n",
    "            }\n",
    "        }\n",
    "        var res = dfs(arr, 0, arr.Length - 1);\n",
    "        return res.sum;\n",
    "    }\n",
    "    \n",
    "    public (int sum, int top, int large) dfs(int[] arr, int left, int right){\n",
    "        if(dp[left, right].Item1 != -1){\n",
    "            // Console.WriteLine(\"USED\");\n",
    "            return dp[left, right];\n",
    "        }\n",
    "        var res = (-1, -1, -1);\n",
    "        if(right == left){\n",
    "            res = (0, arr[left], arr[left]);\n",
    "            dp[left, right] = res;\n",
    "            return res;\n",
    "        }\n",
    "        if(right - left == 1){\n",
    "            var top = arr[left] * arr[right];\n",
    "            var sum = arr[left] * arr[right];\n",
    "            res = (top, sum, Math.Max(arr[left], arr[right]));\n",
    "            dp[left, right] = res;\n",
    "            return res;\n",
    "        }\n",
    "        var resTop = int.MaxValue;\n",
    "        var resSum = int.MaxValue;\n",
    "        var resLarge = int.MaxValue;\n",
    "        for(int len = 0; left + len < right; len++){\n",
    "            var leftRes = dfs(arr, left, left + len);\n",
    "            var rightRes = dfs(arr, left + len + 1, right);\n",
    "            \n",
    "            var thisTop = leftRes.large * rightRes.large;\n",
    "            var thisSum = leftRes.sum + rightRes.sum + thisTop;\n",
    "            if(thisSum < resSum){\n",
    "                resTop = thisTop;\n",
    "                resSum = thisSum;\n",
    "                resLarge = Math.Max(leftRes.large, rightRes.large);\n",
    "            }\n",
    "        }\n",
    "        res = (resSum, resTop, resLarge);\n",
    "        dp[left, right] = res;\n",
    "        return res;\n",
    "    }\n",
    "}"
   ]
  },
  {
   "cell_type": "code",
   "execution_count": null,
   "metadata": {},
   "outputs": [],
   "source": []
  }
 ],
 "metadata": {
  "kernelspec": {
   "display_name": ".NET (C#)",
   "language": "C#",
   "name": ".net-csharp"
  },
  "language_info": {
   "file_extension": ".cs",
   "mimetype": "text/x-csharp",
   "name": "C#",
   "pygments_lexer": "csharp",
   "version": "8.0"
  },
  "toc": {
   "base_numbering": 1,
   "nav_menu": {},
   "number_sections": true,
   "sideBar": true,
   "skip_h1_title": false,
   "title_cell": "Table of Contents",
   "title_sidebar": "Contents",
   "toc_cell": false,
   "toc_position": {},
   "toc_section_display": true,
   "toc_window_display": false
  }
 },
 "nbformat": 4,
 "nbformat_minor": 4
}
