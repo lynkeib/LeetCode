{
 "cells": [
  {
   "cell_type": "markdown",
   "metadata": {},
   "source": [
    "# Iterative"
   ]
  },
  {
   "cell_type": "code",
   "execution_count": 1,
   "metadata": {
    "ExecuteTime": {
     "end_time": "2020-05-21T04:46:47.1645510Z",
     "start_time": "2020-05-21T04:46:46.503Z"
    }
   },
   "outputs": [
    {
     "ename": "Unhandled Exception",
     "evalue": "(15,12): error CS0246: The type or namespace name 'TreeNode' could not be found (are you missing a using directive or an assembly reference?)\n(19,24): error CS0246: The type or namespace name 'TreeNode' could not be found (are you missing a using directive or an assembly reference?)\n(20,31): error CS0246: The type or namespace name 'TreeNode' could not be found (are you missing a using directive or an assembly reference?)\n(24,28): error CS0246: The type or namespace name 'TreeNode' could not be found (are you missing a using directive or an assembly reference?)",
     "output_type": "error",
     "traceback": [
      "(15,12): error CS0246: The type or namespace name 'TreeNode' could not be found (are you missing a using directive or an assembly reference?)\n(19,24): error CS0246: The type or namespace name 'TreeNode' could not be found (are you missing a using directive or an assembly reference?)\n(20,31): error CS0246: The type or namespace name 'TreeNode' could not be found (are you missing a using directive or an assembly reference?)\n(24,28): error CS0246: The type or namespace name 'TreeNode' could not be found (are you missing a using directive or an assembly reference?)"
     ]
    }
   ],
   "source": [
    "/**\n",
    " * Definition for a binary tree node.\n",
    " * public class TreeNode {\n",
    " *     public int val;\n",
    " *     public TreeNode left;\n",
    " *     public TreeNode right;\n",
    " *     public TreeNode(int val=0, TreeNode left=null, TreeNode right=null) {\n",
    " *         this.val = val;\n",
    " *         this.left = left;\n",
    " *         this.right = right;\n",
    " *     }\n",
    " * }\n",
    " */\n",
    "public class Solution {\n",
    "    public TreeNode ConstructFromPrePost(int[] pre, int[] post) {\n",
    "        if(pre.Length == 0){\n",
    "            return null;\n",
    "        }\n",
    "        var root = new TreeNode(pre[0]);\n",
    "        var stack = new Stack<TreeNode>();\n",
    "        stack.Push(root);\n",
    "        int posIndex = 0;\n",
    "        for(int preIndex = 1; preIndex < pre.Length; preIndex++){\n",
    "            var node = new TreeNode(pre[preIndex]);\n",
    "            while(stack.Count != 0 && stack.Peek().val == post[posIndex]){\n",
    "                stack.Pop();\n",
    "                posIndex++;\n",
    "            }\n",
    "            if(stack.Count != 0 && stack.Peek().left == null){\n",
    "                stack.Peek().left = node;\n",
    "            }else if(stack.Count != 0 && stack.Peek().right == null){\n",
    "                stack.Peek().right = node;\n",
    "            }\n",
    "            stack.Push(node);\n",
    "        }\n",
    "        return root;\n",
    "    }\n",
    "}"
   ]
  },
  {
   "cell_type": "markdown",
   "metadata": {},
   "source": [
    "# Recursive"
   ]
  },
  {
   "cell_type": "code",
   "execution_count": 2,
   "metadata": {
    "ExecuteTime": {
     "end_time": "2020-05-18T23:01:27.1689410Z",
     "start_time": "2020-05-18T23:01:27.079Z"
    }
   },
   "outputs": [
    {
     "ename": "Unhandled Exception",
     "evalue": "(19,12): error CS0246: The type or namespace name 'TreeNode' could not be found (are you missing a using directive or an assembly reference?)\n(20,24): error CS0246: The type or namespace name 'TreeNode' could not be found (are you missing a using directive or an assembly reference?)",
     "output_type": "error",
     "traceback": [
      "(19,12): error CS0246: The type or namespace name 'TreeNode' could not be found (are you missing a using directive or an assembly reference?)\n(20,24): error CS0246: The type or namespace name 'TreeNode' could not be found (are you missing a using directive or an assembly reference?)"
     ]
    }
   ],
   "source": [
    "/**\n",
    " * Definition for a binary tree node.\n",
    " * public class TreeNode {\n",
    " *     public int val;\n",
    " *     public TreeNode left;\n",
    " *     public TreeNode right;\n",
    " *     public TreeNode(int val=0, TreeNode left=null, TreeNode right=null) {\n",
    " *         this.val = val;\n",
    " *         this.left = left;\n",
    " *         this.right = right;\n",
    " *     }\n",
    " * }\n",
    " */\n",
    "public class Solution {\n",
    "    \n",
    "    int preIndex = 0;\n",
    "    int postIndex = 0;\n",
    "    \n",
    "    public TreeNode ConstructFromPrePost(int[] pre, int[] post) {\n",
    "        var root = new TreeNode(pre[preIndex]);\n",
    "        preIndex++;\n",
    "        if(root.val != post[postIndex]){\n",
    "            root.left = ConstructFromPrePost(pre, post);\n",
    "        }\n",
    "        if(root.val != post[postIndex]){\n",
    "            root.right = ConstructFromPrePost(pre, post);\n",
    "        }\n",
    "        postIndex++;\n",
    "        return root;\n",
    "    }\n",
    "}"
   ]
  },
  {
   "cell_type": "code",
   "execution_count": null,
   "metadata": {},
   "outputs": [],
   "source": []
  }
 ],
 "metadata": {
  "kernelspec": {
   "display_name": ".NET (C#)",
   "language": "C#",
   "name": ".net-csharp"
  },
  "language_info": {
   "file_extension": ".cs",
   "mimetype": "text/x-csharp",
   "name": "C#",
   "pygments_lexer": "csharp",
   "version": "8.0"
  },
  "toc": {
   "base_numbering": 1,
   "nav_menu": {},
   "number_sections": true,
   "sideBar": true,
   "skip_h1_title": false,
   "title_cell": "Table of Contents",
   "title_sidebar": "Contents",
   "toc_cell": false,
   "toc_position": {},
   "toc_section_display": true,
   "toc_window_display": false
  }
 },
 "nbformat": 4,
 "nbformat_minor": 4
}
