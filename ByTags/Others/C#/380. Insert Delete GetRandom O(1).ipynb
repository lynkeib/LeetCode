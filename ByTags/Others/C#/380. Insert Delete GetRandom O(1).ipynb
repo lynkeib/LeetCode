{
 "cells": [
  {
   "cell_type": "code",
   "execution_count": 1,
   "metadata": {
    "ExecuteTime": {
     "end_time": "2020-06-12T22:03:36.0330510Z",
     "start_time": "2020-06-12T22:03:33.470Z"
    }
   },
   "outputs": [],
   "source": [
    "public class RandomizedSet {\n",
    "\n",
    "    Dictionary<int, int> position = new Dictionary<int, int>();\n",
    "    List<int> nums = new List<int>();\n",
    "    Random rnd = new Random();\n",
    "    \n",
    "    /** Initialize your data structure here. */\n",
    "    public RandomizedSet() {\n",
    "        \n",
    "    }\n",
    "    \n",
    "    /** Inserts a value to the set. Returns true if the set did not already contain the specified element. */\n",
    "    public bool Insert(int val) {\n",
    "        if(position.ContainsKey(val)){\n",
    "            return false;\n",
    "        }\n",
    "        position[val] = nums.Count;\n",
    "        nums.Add(val);\n",
    "        return true;\n",
    "    }\n",
    "    \n",
    "    /** Removes a value from the set. Returns true if the set contained the specified element. */\n",
    "    public bool Remove(int val) {\n",
    "        if(!position.ContainsKey(val)){\n",
    "            return false;\n",
    "        }\n",
    "        var thisPosition = position[val];\n",
    "        nums[thisPosition] = nums[nums.Count - 1];\n",
    "        position[nums[thisPosition]] = thisPosition;\n",
    "        position.Remove(val);\n",
    "        nums.RemoveAt(nums.Count - 1);\n",
    "        return true;\n",
    "    }\n",
    "    \n",
    "    /** Get a random element from the set. */\n",
    "    public int GetRandom() {\n",
    "        int index = rnd.Next() % nums.Count;\n",
    "        return nums[index];\n",
    "    }\n",
    "}\n",
    "\n",
    "/**\n",
    " * Your RandomizedSet object will be instantiated and called as such:\n",
    " * RandomizedSet obj = new RandomizedSet();\n",
    " * bool param_1 = obj.Insert(val);\n",
    " * bool param_2 = obj.Remove(val);\n",
    " * int param_3 = obj.GetRandom();\n",
    " */"
   ]
  },
  {
   "cell_type": "code",
   "execution_count": null,
   "metadata": {},
   "outputs": [],
   "source": []
  }
 ],
 "metadata": {
  "kernelspec": {
   "display_name": ".NET (C#)",
   "language": "C#",
   "name": ".net-csharp"
  },
  "language_info": {
   "file_extension": ".cs",
   "mimetype": "text/x-csharp",
   "name": "C#",
   "pygments_lexer": "csharp",
   "version": "8.0"
  },
  "toc": {
   "base_numbering": 1,
   "nav_menu": {},
   "number_sections": true,
   "sideBar": true,
   "skip_h1_title": false,
   "title_cell": "Table of Contents",
   "title_sidebar": "Contents",
   "toc_cell": false,
   "toc_position": {},
   "toc_section_display": true,
   "toc_window_display": false
  }
 },
 "nbformat": 4,
 "nbformat_minor": 4
}
