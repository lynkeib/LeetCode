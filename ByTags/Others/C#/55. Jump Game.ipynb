{
 "cells": [
  {
   "cell_type": "markdown",
   "metadata": {},
   "source": [
    "# DP Top-down"
   ]
  },
  {
   "cell_type": "code",
   "execution_count": 1,
   "metadata": {},
   "outputs": [],
   "source": [
    "public class Solution {\n",
    "    public bool CanJump(int[] nums) {\n",
    "        int[] dp = new int[nums.Length];\n",
    "        for(int index=0; index < nums.Length; index++){\n",
    "            dp[index] = -1;\n",
    "        }\n",
    "        return dfs(0, dp, nums);\n",
    "    }\n",
    "    \n",
    "    public bool dfs(int current_index, int[]dp, int[]nums){\n",
    "        if(dp[current_index] != -1){\n",
    "            return dp[current_index] == 1;\n",
    "        }\n",
    "        if(current_index == nums.Length - 1){\n",
    "            dp[current_index] = 1;\n",
    "            return true;\n",
    "        }\n",
    "        int max_reach = Math.Min(current_index + nums[current_index], nums.Length-1);\n",
    "        for(int index = current_index + 1; index <= max_reach;index++){\n",
    "            if(dfs(index, dp, nums)){\n",
    "                dp[current_index] = 1;\n",
    "                return true;\n",
    "            }\n",
    "        }\n",
    "        dp[current_index] = 0;\n",
    "        return false;\n",
    "    }\n",
    "}"
   ]
  },
  {
   "cell_type": "code",
   "execution_count": null,
   "metadata": {},
   "outputs": [],
   "source": []
  }
 ],
 "metadata": {
  "kernelspec": {
   "display_name": ".NET (C#)",
   "language": "C#",
   "name": ".net-csharp"
  },
  "language_info": {
   "file_extension": ".cs",
   "mimetype": "text/x-csharp",
   "name": "C#",
   "pygments_lexer": "csharp",
   "version": "8.0"
  },
  "toc": {
   "base_numbering": 1,
   "nav_menu": {},
   "number_sections": true,
   "sideBar": true,
   "skip_h1_title": false,
   "title_cell": "Table of Contents",
   "title_sidebar": "Contents",
   "toc_cell": false,
   "toc_position": {},
   "toc_section_display": true,
   "toc_window_display": false
  }
 },
 "nbformat": 4,
 "nbformat_minor": 4
}
