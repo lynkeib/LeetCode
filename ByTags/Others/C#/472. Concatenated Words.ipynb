{
 "cells": [
  {
   "cell_type": "markdown",
   "metadata": {},
   "source": [
    "# DFS (TLE)"
   ]
  },
  {
   "cell_type": "code",
   "execution_count": 1,
   "metadata": {
    "ExecuteTime": {
     "end_time": "2020-05-19T02:05:48.0266350Z",
     "start_time": "2020-05-19T02:05:46.298Z"
    }
   },
   "outputs": [],
   "source": [
    "public class Solution {\n",
    "    \n",
    "    HashSet<string> res = new HashSet<string>();\n",
    "    Dictionary<int, List<string>> map = new Dictionary<int, List<string>>();\n",
    "    \n",
    "    public IList<string> FindAllConcatenatedWordsInADict(string[] words) {\n",
    "        foreach(var word in words){\n",
    "            var len = word.Length;\n",
    "            if(!map.ContainsKey(len)){\n",
    "                map[len] = new List<string>();\n",
    "            }\n",
    "            map[len].Add(word);\n",
    "        }\n",
    "        foreach(var word in words){\n",
    "            dfs(word, 0, 0);\n",
    "        }\n",
    "        return res.ToList();\n",
    "    }\n",
    "    \n",
    "    public void dfs(string word, int start, int count){\n",
    "        if(start == word.Length && count > 1){\n",
    "            res.Add(word);\n",
    "            return;\n",
    "        }\n",
    "        var left = word.Length - start;\n",
    "        for(int len = 1; len <= left; len++){\n",
    "            if(map.ContainsKey(len)){\n",
    "                var all_words = map[len];\n",
    "                var match = word.Substring(start, len);\n",
    "                foreach(var w in all_words){\n",
    "                    if(w == match){\n",
    "                        dfs(word, start+len, count + 1);\n",
    "                    }\n",
    "                }\n",
    "            }\n",
    "        }\n",
    "        return;\n",
    "    }\n",
    "}"
   ]
  },
  {
   "cell_type": "markdown",
   "metadata": {},
   "source": [
    "# DP"
   ]
  },
  {
   "cell_type": "code",
   "execution_count": 2,
   "metadata": {
    "ExecuteTime": {
     "end_time": "2020-05-19T02:26:30.8834400Z",
     "start_time": "2020-05-19T02:26:30.816Z"
    }
   },
   "outputs": [],
   "source": [
    "public class Solution {\n",
    "    \n",
    "    HashSet<string> visited;\n",
    "    \n",
    "    public IList<string> FindAllConcatenatedWordsInADict(string[] words) {\n",
    "        visited = new HashSet<string>(words.ToList());\n",
    "        var res = new List<string>();\n",
    "        foreach(var word in words){\n",
    "            if(dfs(word)){\n",
    "                res.Add(word);\n",
    "            }\n",
    "        }\n",
    "        return res;\n",
    "    }\n",
    "    \n",
    "    public bool dfs(string word){\n",
    "        for(int len = 1; len < word.Length; len++){\n",
    "            var prefix = word.Substring(0, len);\n",
    "            if(visited.Contains(prefix)){\n",
    "                var suffix = word.Substring(len);\n",
    "                if(visited.Contains(suffix) || dfs(suffix)){\n",
    "                    visited.Add(suffix);\n",
    "                    return true;\n",
    "                }\n",
    "            }\n",
    "        }\n",
    "        return false;\n",
    "    }\n",
    "}"
   ]
  },
  {
   "cell_type": "code",
   "execution_count": null,
   "metadata": {},
   "outputs": [],
   "source": []
  }
 ],
 "metadata": {
  "kernelspec": {
   "display_name": ".NET (C#)",
   "language": "C#",
   "name": ".net-csharp"
  },
  "language_info": {
   "file_extension": ".cs",
   "mimetype": "text/x-csharp",
   "name": "C#",
   "pygments_lexer": "csharp",
   "version": "8.0"
  },
  "toc": {
   "base_numbering": 1,
   "nav_menu": {},
   "number_sections": true,
   "sideBar": true,
   "skip_h1_title": false,
   "title_cell": "Table of Contents",
   "title_sidebar": "Contents",
   "toc_cell": false,
   "toc_position": {},
   "toc_section_display": true,
   "toc_window_display": false
  }
 },
 "nbformat": 4,
 "nbformat_minor": 4
}
