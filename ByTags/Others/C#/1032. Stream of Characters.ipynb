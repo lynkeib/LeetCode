{
 "cells": [
  {
   "cell_type": "code",
   "execution_count": 1,
   "metadata": {
    "ExecuteTime": {
     "end_time": "2020-06-05T02:49:24.1861800Z",
     "start_time": "2020-06-05T02:49:23.035Z"
    }
   },
   "outputs": [],
   "source": [
    "public class StreamChecker {\n",
    "\n",
    "    public class TrieNode{\n",
    "        public char c;\n",
    "        public TrieNode[] children = new TrieNode[26];\n",
    "        public TrieNode(char c){\n",
    "            this.c = c;\n",
    "        }\n",
    "        public bool end = false;\n",
    "    }\n",
    "    \n",
    "    static TrieNode root = new TrieNode(' ');\n",
    "    // TrieNode currPointer = root;\n",
    "    List<TrieNode> waitingList = new List<TrieNode>();\n",
    "    \n",
    "    public StreamChecker(string[] words) {\n",
    "        foreach(var word in words){\n",
    "            var curr = root;\n",
    "            for(int i = 0; i < word.Length; i++){\n",
    "                var c = word[i];\n",
    "                if(curr.children[c - 'a'] == null){\n",
    "                    curr.children[c - 'a'] = new TrieNode(c);\n",
    "                }\n",
    "                curr = curr.children[c - 'a'];\n",
    "                if(i == word.Length - 1){\n",
    "                    curr.end = true;\n",
    "                }\n",
    "            }\n",
    "        }\n",
    "    }\n",
    "    \n",
    "    public bool Query(char letter) {\n",
    "        var res = false;\n",
    "        var next_waiting = new List<TrieNode>();\n",
    "        foreach(var node in root.children){\n",
    "            if(node != null && node.c == letter){\n",
    "                next_waiting.Add(node);\n",
    "                if(node.end){\n",
    "                   res = true; \n",
    "                }\n",
    "            }\n",
    "        }\n",
    "        foreach(var node in waitingList){\n",
    "            if(node.children[letter - 'a'] != null){\n",
    "                next_waiting.Add(node.children[letter - 'a']);\n",
    "                if(node.children[letter - 'a'].end){\n",
    "                   res = true; \n",
    "                }\n",
    "            }\n",
    "        }\n",
    "        waitingList = next_waiting;\n",
    "        return res;\n",
    "    }\n",
    "}\n",
    "\n",
    "/**\n",
    " * Your StreamChecker object will be instantiated and called as such:\n",
    " * StreamChecker obj = new StreamChecker(words);\n",
    " * bool param_1 = obj.Query(letter);\n",
    " */"
   ]
  },
  {
   "cell_type": "code",
   "execution_count": null,
   "metadata": {},
   "outputs": [],
   "source": []
  }
 ],
 "metadata": {
  "kernelspec": {
   "display_name": ".NET (C#)",
   "language": "C#",
   "name": ".net-csharp"
  },
  "language_info": {
   "file_extension": ".cs",
   "mimetype": "text/x-csharp",
   "name": "C#",
   "pygments_lexer": "csharp",
   "version": "8.0"
  },
  "toc": {
   "base_numbering": 1,
   "nav_menu": {},
   "number_sections": true,
   "sideBar": true,
   "skip_h1_title": false,
   "title_cell": "Table of Contents",
   "title_sidebar": "Contents",
   "toc_cell": false,
   "toc_position": {},
   "toc_section_display": true,
   "toc_window_display": false
  }
 },
 "nbformat": 4,
 "nbformat_minor": 4
}
