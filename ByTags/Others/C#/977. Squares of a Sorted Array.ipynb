{
 "cells": [
  {
   "cell_type": "code",
   "execution_count": 1,
   "metadata": {
    "ExecuteTime": {
     "end_time": "2020-05-27T04:52:29.0269420Z",
     "start_time": "2020-05-27T04:52:27.627Z"
    }
   },
   "outputs": [],
   "source": [
    "public class Solution {\n",
    "    public int[] SortedSquares(int[] A) {\n",
    "        int first_positive = 0;\n",
    "        while(first_positive < A.Length && A[first_positive] < 0){\n",
    "            first_positive++;\n",
    "        }\n",
    "        int first_negative = first_positive - 1;\n",
    "        var res = new int[A.Length];\n",
    "        for(int i = 0; i < A.Length; i++){\n",
    "            if(first_positive >= A.Length){\n",
    "                res[i] = A[first_negative] * A[first_negative];\n",
    "                first_negative--;\n",
    "            }else if(first_negative < 0){\n",
    "                res[i] = A[first_positive] * A[first_positive];\n",
    "                first_positive++;\n",
    "            }else{\n",
    "                if(A[first_positive] > -A[first_negative]){\n",
    "                    res[i] = A[first_negative] * A[first_negative];\n",
    "                    first_negative--;\n",
    "                }else{\n",
    "                    res[i] = A[first_positive] * A[first_positive];\n",
    "                    first_positive++;\n",
    "                }\n",
    "            }\n",
    "        }\n",
    "        return res;\n",
    "    }\n",
    "}"
   ]
  },
  {
   "cell_type": "code",
   "execution_count": null,
   "metadata": {},
   "outputs": [],
   "source": []
  }
 ],
 "metadata": {
  "kernelspec": {
   "display_name": ".NET (C#)",
   "language": "C#",
   "name": ".net-csharp"
  },
  "language_info": {
   "file_extension": ".cs",
   "mimetype": "text/x-csharp",
   "name": "C#",
   "pygments_lexer": "csharp",
   "version": "8.0"
  },
  "toc": {
   "base_numbering": 1,
   "nav_menu": {},
   "number_sections": true,
   "sideBar": true,
   "skip_h1_title": false,
   "title_cell": "Table of Contents",
   "title_sidebar": "Contents",
   "toc_cell": false,
   "toc_position": {},
   "toc_section_display": true,
   "toc_window_display": false
  }
 },
 "nbformat": 4,
 "nbformat_minor": 4
}
