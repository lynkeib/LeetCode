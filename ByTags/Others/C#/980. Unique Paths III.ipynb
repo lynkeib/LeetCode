{
 "cells": [
  {
   "cell_type": "code",
   "execution_count": 1,
   "metadata": {
    "ExecuteTime": {
     "end_time": "2020-05-19T03:08:59.2193120Z",
     "start_time": "2020-05-19T03:08:57.905Z"
    }
   },
   "outputs": [],
   "source": [
    "public class Solution {\n",
    "    \n",
    "    int[,] state;\n",
    "    int zeros = 0;\n",
    "    int res = 0;\n",
    "    int[] dirs = {-1, 0, 1, 0, -1};\n",
    "    int rows;\n",
    "    int cols;\n",
    "    \n",
    "    public int UniquePathsIII(int[][] grid) {\n",
    "        rows = grid.Length;\n",
    "        cols = grid[0].Length;\n",
    "        state = new int[rows,cols];\n",
    "        var s_row = -1;\n",
    "        var s_col = -1;\n",
    "        for(int row = 0; row < rows; row++){\n",
    "            for(int col = 0; col < cols; col++){\n",
    "                if(grid[row][col] == 1){\n",
    "                    s_row = row;\n",
    "                    s_col = col;\n",
    "                }else if(grid[row][col] == 0){\n",
    "                    zeros++;\n",
    "                }\n",
    "            }\n",
    "        }\n",
    "        // Console.WriteLine($\"{s_row}, {s_col}\");\n",
    "        dfs(grid, s_row, s_col, 0);\n",
    "        return res;\n",
    "    }\n",
    "    \n",
    "    public void dfs(int[][] grid, int row, int col, int count){\n",
    "        if(grid[row][col] == 2){\n",
    "            // Console.WriteLine(count);\n",
    "            if(count == zeros + 1){\n",
    "                res++;\n",
    "            }\n",
    "            return;\n",
    "        }\n",
    "        state[row, col] = 1;\n",
    "        \n",
    "        for(int i = 0; i < 4; i++){\n",
    "            var nrow = row + dirs[i];\n",
    "            var ncol = col + dirs[i + 1];\n",
    "            if(nrow > -1 && nrow < rows && ncol > -1 && ncol < cols && grid[nrow][ncol] % 2 == 0){\n",
    "                if(state[nrow, ncol] == 0){\n",
    "                    dfs(grid, nrow, ncol, count+1);\n",
    "                }\n",
    "            }\n",
    "        }\n",
    "        state[row, col] = 0;\n",
    "        return;\n",
    "    }\n",
    "}\n"
   ]
  },
  {
   "cell_type": "code",
   "execution_count": null,
   "metadata": {},
   "outputs": [],
   "source": []
  }
 ],
 "metadata": {
  "kernelspec": {
   "display_name": ".NET (C#)",
   "language": "C#",
   "name": ".net-csharp"
  },
  "language_info": {
   "file_extension": ".cs",
   "mimetype": "text/x-csharp",
   "name": "C#",
   "pygments_lexer": "csharp",
   "version": "8.0"
  },
  "toc": {
   "base_numbering": 1,
   "nav_menu": {},
   "number_sections": true,
   "sideBar": true,
   "skip_h1_title": false,
   "title_cell": "Table of Contents",
   "title_sidebar": "Contents",
   "toc_cell": false,
   "toc_position": {},
   "toc_section_display": true,
   "toc_window_display": false
  }
 },
 "nbformat": 4,
 "nbformat_minor": 4
}
