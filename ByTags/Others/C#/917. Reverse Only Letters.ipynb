{
 "cells": [
  {
   "cell_type": "code",
   "execution_count": 1,
   "metadata": {
    "ExecuteTime": {
     "end_time": "2020-05-27T02:54:58.5066950Z",
     "start_time": "2020-05-27T02:54:57.209Z"
    }
   },
   "outputs": [],
   "source": [
    "public class Solution {\n",
    "    public string ReverseOnlyLetters(string S) {\n",
    "        int left = 0, right = S.Length - 1;\n",
    "        var res = new StringBuilder(S);\n",
    "        while(left < right){\n",
    "            while(left < right && !Char.IsLetter(res[left])){\n",
    "                left++;\n",
    "            }\n",
    "            while(left < right && !Char.IsLetter(res[right])){\n",
    "                right--;\n",
    "            }\n",
    "            var temp = res[left];\n",
    "            res[left] = res[right];\n",
    "            res[right] = temp;\n",
    "            left++;\n",
    "            right--;\n",
    "        }\n",
    "        return res.ToString();\n",
    "    }\n",
    "}"
   ]
  },
  {
   "cell_type": "code",
   "execution_count": null,
   "metadata": {},
   "outputs": [],
   "source": []
  }
 ],
 "metadata": {
  "kernelspec": {
   "display_name": ".NET (C#)",
   "language": "C#",
   "name": ".net-csharp"
  },
  "language_info": {
   "file_extension": ".cs",
   "mimetype": "text/x-csharp",
   "name": "C#",
   "pygments_lexer": "csharp",
   "version": "8.0"
  },
  "toc": {
   "base_numbering": 1,
   "nav_menu": {},
   "number_sections": true,
   "sideBar": true,
   "skip_h1_title": false,
   "title_cell": "Table of Contents",
   "title_sidebar": "Contents",
   "toc_cell": false,
   "toc_position": {},
   "toc_section_display": true,
   "toc_window_display": false
  }
 },
 "nbformat": 4,
 "nbformat_minor": 4
}
