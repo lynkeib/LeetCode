{
 "cells": [
  {
   "cell_type": "code",
   "execution_count": 1,
   "metadata": {
    "ExecuteTime": {
     "end_time": "2020-05-27T21:37:21.7179940Z",
     "start_time": "2020-05-27T21:37:20.581Z"
    }
   },
   "outputs": [],
   "source": [
    "public class Solution {\n",
    "    public bool PossibleBipartition(int N, int[][] dislikes) {\n",
    "        var color = new int[N];\n",
    "        Array.Fill(color, -1);\n",
    "        \n",
    "        // var queue = new Queue<int>();\n",
    "        var graph = new Dictionary<int, HashSet<int>>();\n",
    "        for(int i = 1; i <= N; i++){\n",
    "            graph[i] = new HashSet<int>();\n",
    "        }\n",
    "        foreach(var pair in dislikes){\n",
    "            var node1 = pair[0];\n",
    "            var node2 = pair[1];\n",
    "            graph[node1].Add(node2);\n",
    "            graph[node2].Add(node1);\n",
    "        }\n",
    "        for(int i = 1; i <= N; i++){\n",
    "            if(color[i - 1] == -1){\n",
    "                color[i - 1] = 0;\n",
    "                var queue = new Queue<int>();\n",
    "                queue.Enqueue(i);\n",
    "                while(queue.Count != 0){\n",
    "                    var node = queue.Dequeue();\n",
    "                    foreach(var nei in graph[node]){\n",
    "                        if(color[nei - 1] == -1){\n",
    "                            queue.Enqueue(nei);\n",
    "                            color[nei - 1] = color[node - 1] ^ 1;\n",
    "                        }else{\n",
    "                            if(color[nei - 1]  == color[node - 1]){\n",
    "                                return false;\n",
    "                            }\n",
    "                        }\n",
    "                    }\n",
    "                }\n",
    "            }\n",
    "        }\n",
    "        \n",
    "        return true;\n",
    "    }\n",
    "}"
   ]
  },
  {
   "cell_type": "code",
   "execution_count": null,
   "metadata": {},
   "outputs": [],
   "source": []
  }
 ],
 "metadata": {
  "kernelspec": {
   "display_name": ".NET (C#)",
   "language": "C#",
   "name": ".net-csharp"
  },
  "language_info": {
   "file_extension": ".cs",
   "mimetype": "text/x-csharp",
   "name": "C#",
   "pygments_lexer": "csharp",
   "version": "8.0"
  },
  "toc": {
   "base_numbering": 1,
   "nav_menu": {},
   "number_sections": true,
   "sideBar": true,
   "skip_h1_title": false,
   "title_cell": "Table of Contents",
   "title_sidebar": "Contents",
   "toc_cell": false,
   "toc_position": {},
   "toc_section_display": true,
   "toc_window_display": false
  }
 },
 "nbformat": 4,
 "nbformat_minor": 4
}
