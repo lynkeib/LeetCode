{
 "cells": [
  {
   "cell_type": "code",
   "execution_count": 1,
   "metadata": {
    "ExecuteTime": {
     "end_time": "2020-06-09T15:16:25.1775230Z",
     "start_time": "2020-06-09T15:16:24.135Z"
    }
   },
   "outputs": [],
   "source": [
    "public class Solution {\n",
    "    public bool IsSubsequence(string s, string t) {\n",
    "        var n = s.Length;\n",
    "        var m = t.Length;\n",
    "        if(n > m){\n",
    "            return false;\n",
    "        }\n",
    "        var dp = new bool[n + 1, m + 1];\n",
    "        for(int i = 0; i < m + 1; i++){\n",
    "            dp[0, i] = true;\n",
    "        }\n",
    "        for(int i = 1; i < n + 1; i++){\n",
    "            for(int j = 1; j < m + 1; j++){\n",
    "                if(s[i - 1] == t[j - 1]){\n",
    "                    dp[i, j] = dp[i - 1, j - 1];\n",
    "                }else{\n",
    "                    dp[i, j] = dp[i, j - 1];\n",
    "                }\n",
    "            }\n",
    "        }\n",
    "        // for(int i = 0; i < n + 1; i++){\n",
    "        //     for(int j = 0; j < m + 1; j++){\n",
    "        //         Console.Write($\"{dp[i, j]} \");\n",
    "        //     }\n",
    "        //     Console.WriteLine();\n",
    "        // }\n",
    "        return dp[n, m];\n",
    "    }\n",
    "}"
   ]
  },
  {
   "cell_type": "code",
   "execution_count": null,
   "metadata": {},
   "outputs": [],
   "source": []
  }
 ],
 "metadata": {
  "kernelspec": {
   "display_name": ".NET (C#)",
   "language": "C#",
   "name": ".net-csharp"
  },
  "language_info": {
   "file_extension": ".cs",
   "mimetype": "text/x-csharp",
   "name": "C#",
   "pygments_lexer": "csharp",
   "version": "8.0"
  },
  "toc": {
   "base_numbering": 1,
   "nav_menu": {},
   "number_sections": true,
   "sideBar": true,
   "skip_h1_title": false,
   "title_cell": "Table of Contents",
   "title_sidebar": "Contents",
   "toc_cell": false,
   "toc_position": {},
   "toc_section_display": true,
   "toc_window_display": false
  }
 },
 "nbformat": 4,
 "nbformat_minor": 4
}
