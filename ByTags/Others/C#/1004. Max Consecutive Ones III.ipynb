{
 "cells": [
  {
   "cell_type": "code",
   "execution_count": 1,
   "metadata": {
    "ExecuteTime": {
     "end_time": "2020-05-25T04:07:29.3355040Z",
     "start_time": "2020-05-25T04:07:28.040Z"
    }
   },
   "outputs": [],
   "source": [
    "public class Solution {\n",
    "    public int LongestOnes(int[] A, int K) {\n",
    "        var canChanges = K;\n",
    "        var res = 0;\n",
    "        var left = 0;\n",
    "        var count = 0;\n",
    "        var max = K;\n",
    "        for(var right = 0; right < A.Length; right++){\n",
    "            if(A[right] == 1){\n",
    "                count++;\n",
    "            }else if(A[right] == 0){\n",
    "                while(left < right && canChanges == 0){\n",
    "                    if(A[left] == 0){\n",
    "                        canChanges = Math.Min(max, canChanges + 1);\n",
    "                    }\n",
    "                    left++;\n",
    "                    count = Math.Max(0, count - 1);\n",
    "                }\n",
    "                if(canChanges > 0){\n",
    "                    count++;\n",
    "                    canChanges--;\n",
    "                }\n",
    "            }\n",
    "            res = Math.Max(res, count);\n",
    "        }\n",
    "        return res;\n",
    "    }\n",
    "}"
   ]
  },
  {
   "cell_type": "code",
   "execution_count": 3,
   "metadata": {
    "ExecuteTime": {
     "end_time": "2020-05-25T04:17:15.5904360Z",
     "start_time": "2020-05-25T04:17:15.473Z"
    }
   },
   "outputs": [],
   "source": [
    "public class Solution {\n",
    "    public int LongestOnes(int[] A, int K) {\n",
    "        var res = 0;\n",
    "        var left = 0;\n",
    "        var changes = 0;\n",
    "        for(var right = 0; right < A.Length; right++){\n",
    "            if(A[right] == 0){\n",
    "                changes++;\n",
    "            }\n",
    "            while(left <= right && changes > K){\n",
    "                if(A[left] == 0){\n",
    "                    changes--;\n",
    "                }\n",
    "                left++;\n",
    "            }\n",
    "            res = Math.Max(res, right - left + 1);\n",
    "        }\n",
    "        return res;\n",
    "    }\n",
    "}"
   ]
  },
  {
   "cell_type": "code",
   "execution_count": null,
   "metadata": {},
   "outputs": [],
   "source": []
  }
 ],
 "metadata": {
  "kernelspec": {
   "display_name": ".NET (C#)",
   "language": "C#",
   "name": ".net-csharp"
  },
  "language_info": {
   "file_extension": ".cs",
   "mimetype": "text/x-csharp",
   "name": "C#",
   "pygments_lexer": "csharp",
   "version": "8.0"
  },
  "toc": {
   "base_numbering": 1,
   "nav_menu": {},
   "number_sections": true,
   "sideBar": true,
   "skip_h1_title": false,
   "title_cell": "Table of Contents",
   "title_sidebar": "Contents",
   "toc_cell": false,
   "toc_position": {},
   "toc_section_display": true,
   "toc_window_display": false
  }
 },
 "nbformat": 4,
 "nbformat_minor": 4
}
