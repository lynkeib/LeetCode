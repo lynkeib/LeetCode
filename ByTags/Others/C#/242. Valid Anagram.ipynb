{
 "cells": [
  {
   "cell_type": "code",
   "execution_count": 1,
   "metadata": {
    "ExecuteTime": {
     "end_time": "2020-04-08T05:17:29.0147010Z",
     "start_time": "2020-04-08T05:17:28.014Z"
    }
   },
   "outputs": [],
   "source": [
    "public class Solution {\n",
    "    public bool IsAnagram(string s, string t) {\n",
    "        var map = new int[26];\n",
    "        foreach (var item in s)\n",
    "        {\n",
    "            map[item - 'a']++;\n",
    "        }\n",
    "        foreach (var item in t)\n",
    "        {\n",
    "            map[item - 'a']--;\n",
    "        }\n",
    "        foreach (var item in map)\n",
    "        {\n",
    "            if(item != 0){\n",
    "                return false;\n",
    "            }\n",
    "        }\n",
    "        return true;\n",
    "    }\n",
    "}"
   ]
  },
  {
   "cell_type": "code",
   "execution_count": 2,
   "metadata": {
    "ExecuteTime": {
     "end_time": "2020-04-08T05:20:22.1179150Z",
     "start_time": "2020-04-08T05:20:21.970Z"
    }
   },
   "outputs": [],
   "source": [
    "public class Solution {\n",
    "    public bool IsAnagram (string s, string t) {\n",
    "        var map = new Dictionary<char, int> ();\n",
    "        foreach (var item in s) {\n",
    "            if (!map.ContainsKey (item)) {\n",
    "                map[item] = 0;\n",
    "            }\n",
    "            map[item]++;\n",
    "        }\n",
    "        foreach (var item in t) {\n",
    "            if (!map.ContainsKey (item)) {\n",
    "                return false;\n",
    "            }\n",
    "            map[item]--;\n",
    "        }\n",
    "        foreach (var item in map.Values) {\n",
    "            if (item != 0) {\n",
    "                return false;\n",
    "            }\n",
    "        }\n",
    "        return true;\n",
    "    }\n",
    "}"
   ]
  },
  {
   "cell_type": "code",
   "execution_count": null,
   "metadata": {},
   "outputs": [],
   "source": []
  }
 ],
 "metadata": {
  "kernelspec": {
   "display_name": ".NET (C#)",
   "language": "C#",
   "name": ".net-csharp"
  },
  "language_info": {
   "file_extension": ".cs",
   "mimetype": "text/x-csharp",
   "name": "C#",
   "pygments_lexer": "csharp",
   "version": "8.0"
  },
  "toc": {
   "base_numbering": 1,
   "nav_menu": {},
   "number_sections": true,
   "sideBar": true,
   "skip_h1_title": false,
   "title_cell": "Table of Contents",
   "title_sidebar": "Contents",
   "toc_cell": false,
   "toc_position": {},
   "toc_section_display": true,
   "toc_window_display": false
  }
 },
 "nbformat": 4,
 "nbformat_minor": 4
}
