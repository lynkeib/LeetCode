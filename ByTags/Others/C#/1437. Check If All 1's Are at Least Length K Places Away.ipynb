{
 "cells": [
  {
   "cell_type": "code",
   "execution_count": 1,
   "metadata": {
    "ExecuteTime": {
     "end_time": "2020-05-21T02:18:23.7843450Z",
     "start_time": "2020-05-21T02:18:22.861Z"
    }
   },
   "outputs": [],
   "source": [
    "public class Solution {\n",
    "    public bool KLengthApart(int[] nums, int k) {\n",
    "        var start = 0;\n",
    "        while(start < nums.Length){\n",
    "            if(nums[start] == 1){\n",
    "                break;\n",
    "            }\n",
    "            start++;\n",
    "        }\n",
    "        for(int i = start + 1; i < nums.Length; i++){\n",
    "            if(nums[i] == 1){\n",
    "                if(i - start <= k){\n",
    "                    return false;\n",
    "                }\n",
    "                start = i;\n",
    "            }\n",
    "        }\n",
    "        return true;\n",
    "    }\n",
    "}"
   ]
  },
  {
   "cell_type": "code",
   "execution_count": null,
   "metadata": {},
   "outputs": [],
   "source": []
  }
 ],
 "metadata": {
  "kernelspec": {
   "display_name": ".NET (C#)",
   "language": "C#",
   "name": ".net-csharp"
  },
  "language_info": {
   "file_extension": ".cs",
   "mimetype": "text/x-csharp",
   "name": "C#",
   "pygments_lexer": "csharp",
   "version": "8.0"
  },
  "toc": {
   "base_numbering": 1,
   "nav_menu": {},
   "number_sections": true,
   "sideBar": true,
   "skip_h1_title": false,
   "title_cell": "Table of Contents",
   "title_sidebar": "Contents",
   "toc_cell": false,
   "toc_position": {},
   "toc_section_display": true,
   "toc_window_display": false
  }
 },
 "nbformat": 4,
 "nbformat_minor": 4
}
