{
 "cells": [
  {
   "cell_type": "code",
   "execution_count": 1,
   "metadata": {},
   "outputs": [],
   "source": [
    "public class Solution {\n",
    "    public bool WordPattern (string pattern, string str) {\n",
    "        Dictionary<char, string> position = new Dictionary<char, string> ();\n",
    "        string[] strList = str.Split (' ');\n",
    "        HashSet<string> has = new HashSet<string> ();\n",
    "        if(pattern.Length != strList.Length){\n",
    "            return false;\n",
    "        }\n",
    "        for (int index = 0; index < pattern.Length; index++) {\n",
    "            if (position.ContainsKey (pattern[index])) {\n",
    "                if (position[pattern[index]] != strList[index]) {\n",
    "                    return false;\n",
    "                }\n",
    "            } else {\n",
    "                if (has.Contains (strList[index])) {\n",
    "                    return false;\n",
    "                }\n",
    "                position[pattern[index]] = strList[index];\n",
    "                has.Add(strList[index]);\n",
    "            }\n",
    "        }\n",
    "        return true;\n",
    "    }\n",
    "}"
   ]
  },
  {
   "cell_type": "code",
   "execution_count": null,
   "metadata": {},
   "outputs": [],
   "source": []
  }
 ],
 "metadata": {
  "kernelspec": {
   "display_name": ".NET (C#)",
   "language": "C#",
   "name": ".net-csharp"
  },
  "language_info": {
   "file_extension": ".cs",
   "mimetype": "text/x-csharp",
   "name": "C#",
   "pygments_lexer": "csharp",
   "version": "8.0"
  },
  "toc": {
   "base_numbering": 1,
   "nav_menu": {},
   "number_sections": true,
   "sideBar": true,
   "skip_h1_title": false,
   "title_cell": "Table of Contents",
   "title_sidebar": "Contents",
   "toc_cell": false,
   "toc_position": {},
   "toc_section_display": true,
   "toc_window_display": false
  }
 },
 "nbformat": 4,
 "nbformat_minor": 4
}
