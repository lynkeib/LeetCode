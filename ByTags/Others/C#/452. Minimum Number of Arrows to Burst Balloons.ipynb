{
 "cells": [
  {
   "cell_type": "code",
   "execution_count": 1,
   "metadata": {
    "ExecuteTime": {
     "end_time": "2020-06-04T03:44:13.9178290Z",
     "start_time": "2020-06-04T03:44:12.209Z"
    }
   },
   "outputs": [],
   "source": [
    "public class Solution {\n",
    "    public int FindMinArrowShots(int[][] points) {\n",
    "        Array.Sort(points, (a, b) => a[0] == b[0] ? b[1].CompareTo(a[1]) : a[0].CompareTo(b[0]));\n",
    "        long start = long.MinValue, end = long.MinValue;\n",
    "        int res = 0;\n",
    "        foreach(var point in points){\n",
    "            if(point[0] > end){\n",
    "                res++;\n",
    "                start = point[0];\n",
    "                end = point[1];\n",
    "            }else{\n",
    "                start = Math.Max(start, point[0]);\n",
    "                end = Math.Min(end, point[1]);\n",
    "            }\n",
    "        }\n",
    "        return res;\n",
    "    }\n",
    "}"
   ]
  },
  {
   "cell_type": "code",
   "execution_count": null,
   "metadata": {},
   "outputs": [],
   "source": []
  }
 ],
 "metadata": {
  "kernelspec": {
   "display_name": ".NET (C#)",
   "language": "C#",
   "name": ".net-csharp"
  },
  "language_info": {
   "file_extension": ".cs",
   "mimetype": "text/x-csharp",
   "name": "C#",
   "pygments_lexer": "csharp",
   "version": "8.0"
  },
  "toc": {
   "base_numbering": 1,
   "nav_menu": {},
   "number_sections": true,
   "sideBar": true,
   "skip_h1_title": false,
   "title_cell": "Table of Contents",
   "title_sidebar": "Contents",
   "toc_cell": false,
   "toc_position": {},
   "toc_section_display": true,
   "toc_window_display": false
  }
 },
 "nbformat": 4,
 "nbformat_minor": 4
}
