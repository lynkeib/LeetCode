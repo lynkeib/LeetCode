{
 "cells": [
  {
   "cell_type": "code",
   "execution_count": 1,
   "metadata": {
    "ExecuteTime": {
     "end_time": "2020-05-31T18:03:18.0161890Z",
     "start_time": "2020-05-31T18:03:17.026Z"
    }
   },
   "outputs": [],
   "source": [
    "public class Solution {\n",
    "    public int NumberOfSubstrings(string s) {\n",
    "        var count = new int[3];\n",
    "        var res = 0;\n",
    "        var check = 3;\n",
    "        var slow = 0;\n",
    "        for(int fast = 0; fast < s.Length; fast++){\n",
    "            var c = s[fast];\n",
    "            count[c-'a']++;\n",
    "            if(count[c-'a'] == 1){\n",
    "                check--;\n",
    "            }\n",
    "            while(check == 0){\n",
    "                var cc = s[slow];\n",
    "                count[cc - 'a']--;\n",
    "                if(count[cc - 'a'] == 0){\n",
    "                    check++;\n",
    "                }\n",
    "                slow++;\n",
    "            }\n",
    "            res += slow;\n",
    "        }\n",
    "        return res;\n",
    "    }\n",
    "}"
   ]
  },
  {
   "cell_type": "code",
   "execution_count": null,
   "metadata": {},
   "outputs": [],
   "source": []
  }
 ],
 "metadata": {
  "kernelspec": {
   "display_name": ".NET (C#)",
   "language": "C#",
   "name": ".net-csharp"
  },
  "language_info": {
   "file_extension": ".cs",
   "mimetype": "text/x-csharp",
   "name": "C#",
   "pygments_lexer": "csharp",
   "version": "8.0"
  },
  "toc": {
   "base_numbering": 1,
   "nav_menu": {},
   "number_sections": true,
   "sideBar": true,
   "skip_h1_title": false,
   "title_cell": "Table of Contents",
   "title_sidebar": "Contents",
   "toc_cell": false,
   "toc_position": {},
   "toc_section_display": true,
   "toc_window_display": false
  }
 },
 "nbformat": 4,
 "nbformat_minor": 4
}
