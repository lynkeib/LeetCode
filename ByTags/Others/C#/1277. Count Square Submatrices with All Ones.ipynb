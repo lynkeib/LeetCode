{
 "cells": [
  {
   "cell_type": "code",
   "execution_count": 1,
   "metadata": {
    "ExecuteTime": {
     "end_time": "2020-05-21T21:20:16.8157190Z",
     "start_time": "2020-05-21T21:20:15.642Z"
    }
   },
   "outputs": [],
   "source": [
    "public class Solution {\n",
    "    public int CountSquares(int[][] matrix) {\n",
    "        int rows = matrix.Length;\n",
    "        if(rows == 0){\n",
    "            return 0;\n",
    "        }\n",
    "        int cols = matrix[0].Length;\n",
    "        var res = 0;    \n",
    "        for(int row = 0; row < rows; row++){\n",
    "            for(int col = 0; col < cols; col++){\n",
    "                if(matrix[row][col] == 1){\n",
    "                    res++;\n",
    "                    if(row > 0 && col > 0){\n",
    "                        var temp = Math.Min(matrix[row - 1][col], Math.Min(matrix[row][col - 1], matrix[row - 1][col - 1]));\n",
    "                        if(temp != 0){\n",
    "                            matrix[row][col] = temp + 1;\n",
    "                            res += temp;\n",
    "                        }\n",
    "                    }\n",
    "                }\n",
    "            }\n",
    "        }\n",
    "        return res;\n",
    "    }\n",
    "}"
   ]
  },
  {
   "cell_type": "code",
   "execution_count": null,
   "metadata": {},
   "outputs": [],
   "source": []
  }
 ],
 "metadata": {
  "kernelspec": {
   "display_name": ".NET (C#)",
   "language": "C#",
   "name": ".net-csharp"
  },
  "language_info": {
   "file_extension": ".cs",
   "mimetype": "text/x-csharp",
   "name": "C#",
   "pygments_lexer": "csharp",
   "version": "8.0"
  },
  "toc": {
   "base_numbering": 1,
   "nav_menu": {},
   "number_sections": true,
   "sideBar": true,
   "skip_h1_title": false,
   "title_cell": "Table of Contents",
   "title_sidebar": "Contents",
   "toc_cell": false,
   "toc_position": {},
   "toc_section_display": true,
   "toc_window_display": false
  }
 },
 "nbformat": 4,
 "nbformat_minor": 4
}
