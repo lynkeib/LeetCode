{
 "cells": [
  {
   "cell_type": "code",
   "execution_count": 1,
   "metadata": {
    "ExecuteTime": {
     "end_time": "2020-05-09T02:23:22.8718780Z",
     "start_time": "2020-05-09T02:23:21.767Z"
    }
   },
   "outputs": [],
   "source": [
    "public class Solution {\n",
    "    public bool CheckStraightLine(int[][] coordinates) {\n",
    "        var point1 = coordinates[0];\n",
    "        var point2 = coordinates[1];\n",
    "        if(point1[0] == point2[0]){\n",
    "            var x = point1[0];\n",
    "            foreach(var point in coordinates){\n",
    "                if(point[0] != x){\n",
    "                    return false;\n",
    "                }\n",
    "            }\n",
    "            return true;\n",
    "        }\n",
    "        var a = (point1[1] - point2[1]) * 1.0 / (point1[0] - point2[0]) * 1.0;\n",
    "        var b = point1[1] - a * point1[0];\n",
    "        foreach(var point in coordinates){\n",
    "            var y = a * point[0] + b;\n",
    "            if(y != point[1]){\n",
    "                return false;\n",
    "            }\n",
    "        }\n",
    "        return true;\n",
    "    }\n",
    "}"
   ]
  },
  {
   "cell_type": "code",
   "execution_count": null,
   "metadata": {},
   "outputs": [],
   "source": []
  }
 ],
 "metadata": {
  "kernelspec": {
   "display_name": ".NET (C#)",
   "language": "C#",
   "name": ".net-csharp"
  },
  "language_info": {
   "file_extension": ".cs",
   "mimetype": "text/x-csharp",
   "name": "C#",
   "pygments_lexer": "csharp",
   "version": "8.0"
  },
  "toc": {
   "base_numbering": 1,
   "nav_menu": {},
   "number_sections": true,
   "sideBar": true,
   "skip_h1_title": false,
   "title_cell": "Table of Contents",
   "title_sidebar": "Contents",
   "toc_cell": false,
   "toc_position": {},
   "toc_section_display": true,
   "toc_window_display": false
  }
 },
 "nbformat": 4,
 "nbformat_minor": 4
}
