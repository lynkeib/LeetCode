{
 "cells": [
  {
   "cell_type": "code",
   "execution_count": 1,
   "metadata": {
    "ExecuteTime": {
     "end_time": "2020-05-08T04:21:49.0643830Z",
     "start_time": "2020-05-08T04:21:47.850Z"
    }
   },
   "outputs": [],
   "source": [
    "public class Solution {\n",
    "    public void WiggleSort(int[] nums) {\n",
    "        var n = nums.Length;\n",
    "        var sort = new int[n];\n",
    "        for(int i = 0; i < n; i++){\n",
    "            sort[i] = nums[i];\n",
    "        }\n",
    "        Array.Sort(sort);\n",
    "        int mid = (n - 1) / 2, last = n - 1;\n",
    "        for(int i = 0; i < n; i++){\n",
    "            if(i % 2 == 0){\n",
    "                nums[i] = sort[mid];\n",
    "                mid--;\n",
    "            }else{\n",
    "                nums[i] = sort[last];\n",
    "                last--;\n",
    "            }\n",
    "        }\n",
    "    }\n",
    "}"
   ]
  },
  {
   "cell_type": "code",
   "execution_count": null,
   "metadata": {},
   "outputs": [],
   "source": []
  }
 ],
 "metadata": {
  "kernelspec": {
   "display_name": ".NET (C#)",
   "language": "C#",
   "name": ".net-csharp"
  },
  "language_info": {
   "file_extension": ".cs",
   "mimetype": "text/x-csharp",
   "name": "C#",
   "pygments_lexer": "csharp",
   "version": "8.0"
  },
  "toc": {
   "base_numbering": 1,
   "nav_menu": {},
   "number_sections": true,
   "sideBar": true,
   "skip_h1_title": false,
   "title_cell": "Table of Contents",
   "title_sidebar": "Contents",
   "toc_cell": false,
   "toc_position": {},
   "toc_section_display": true,
   "toc_window_display": false
  }
 },
 "nbformat": 4,
 "nbformat_minor": 4
}
