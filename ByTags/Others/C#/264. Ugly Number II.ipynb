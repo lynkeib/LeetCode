{
 "cells": [
  {
   "cell_type": "code",
   "execution_count": 1,
   "metadata": {
    "ExecuteTime": {
     "end_time": "2020-04-28T05:18:11.4491410Z",
     "start_time": "2020-04-28T05:18:10.132Z"
    }
   },
   "outputs": [],
   "source": [
    "public class Solution {\n",
    "    public int NthUglyNumber(int n) {\n",
    "        var dp = new int[1690];\n",
    "        dp[0] = 1;\n",
    "        int dp2 = 0, dp3 = 0, dp5 = 0;\n",
    "        for (int i = 1; i < 1690; i++)\n",
    "        {\n",
    "            var min = Math.Min(Math.Min(dp[dp2] * 2, dp[dp3] * 3), dp[dp5] * 5);\n",
    "            dp[i] = min;\n",
    "            if(min == dp[dp2] * 2) dp2++;\n",
    "            if(min == dp[dp3] * 3) dp3++;\n",
    "            if(min == dp[dp5] * 5) dp5++;\n",
    "        }\n",
    "        return dp[n - 1];\n",
    "    }\n",
    "}"
   ]
  },
  {
   "cell_type": "code",
   "execution_count": null,
   "metadata": {},
   "outputs": [],
   "source": []
  }
 ],
 "metadata": {
  "kernelspec": {
   "display_name": ".NET (C#)",
   "language": "C#",
   "name": ".net-csharp"
  },
  "language_info": {
   "file_extension": ".cs",
   "mimetype": "text/x-csharp",
   "name": "C#",
   "pygments_lexer": "csharp",
   "version": "8.0"
  },
  "toc": {
   "base_numbering": 1,
   "nav_menu": {},
   "number_sections": true,
   "sideBar": true,
   "skip_h1_title": false,
   "title_cell": "Table of Contents",
   "title_sidebar": "Contents",
   "toc_cell": false,
   "toc_position": {},
   "toc_section_display": true,
   "toc_window_display": false
  }
 },
 "nbformat": 4,
 "nbformat_minor": 4
}
