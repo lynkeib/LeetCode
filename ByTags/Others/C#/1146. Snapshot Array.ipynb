{
 "cells": [
  {
   "cell_type": "code",
   "execution_count": 37,
   "metadata": {
    "ExecuteTime": {
     "end_time": "2020-05-29T22:23:29.8906350Z",
     "start_time": "2020-05-29T22:23:29.838Z"
    }
   },
   "outputs": [],
   "source": [
    "public class SnapshotArray {\n",
    "\n",
    "    Dictionary<int, int>[] sp;\n",
    "    int snap_count = 0;\n",
    "    \n",
    "    public SnapshotArray(int length) {\n",
    "        sp = new Dictionary<int, int>[length];\n",
    "    }\n",
    "    \n",
    "    public void Set(int index, int val) {\n",
    "        if(sp[index] == null){\n",
    "            sp[index] = new Dictionary<int, int>();\n",
    "        }\n",
    "        sp[index][snap_count] = val;\n",
    "    }\n",
    "    \n",
    "    public int Snap() {\n",
    "        return snap_count++;\n",
    "    }\n",
    "    \n",
    "    public int Get(int index, int snap_id) {\n",
    "        if(sp[index] == null){\n",
    "            return 0;\n",
    "        }\n",
    "        while(snap_id != -1 && !sp[index].ContainsKey(snap_id)){\n",
    "            snap_id--;\n",
    "        }\n",
    "        return snap_id == -1 ? 0 : sp[index][snap_id];\n",
    "    }\n",
    "}\n",
    "\n",
    "/**\n",
    " * Your SnapshotArray object will be instantiated and called as such:\n",
    " * SnapshotArray obj = new SnapshotArray(length);\n",
    " * obj.Set(index,val);\n",
    " * int param_2 = obj.Snap();\n",
    " * int param_3 = obj.Get(index,snap_id);\n",
    " */"
   ]
  },
  {
   "cell_type": "code",
   "execution_count": null,
   "metadata": {},
   "outputs": [],
   "source": []
  }
 ],
 "metadata": {
  "kernelspec": {
   "display_name": ".NET (C#)",
   "language": "C#",
   "name": ".net-csharp"
  },
  "language_info": {
   "file_extension": ".cs",
   "mimetype": "text/x-csharp",
   "name": "C#",
   "pygments_lexer": "csharp",
   "version": "8.0"
  },
  "toc": {
   "base_numbering": 1,
   "nav_menu": {},
   "number_sections": true,
   "sideBar": true,
   "skip_h1_title": false,
   "title_cell": "Table of Contents",
   "title_sidebar": "Contents",
   "toc_cell": false,
   "toc_position": {},
   "toc_section_display": true,
   "toc_window_display": false
  }
 },
 "nbformat": 4,
 "nbformat_minor": 4
}
