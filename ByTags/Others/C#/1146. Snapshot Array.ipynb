{
 "cells": [
  {
   "cell_type": "markdown",
   "metadata": {},
   "source": [
    "# TLE"
   ]
  },
  {
   "cell_type": "code",
   "execution_count": 1,
   "metadata": {
    "ExecuteTime": {
     "end_time": "2020-05-29T21:51:54.2734420Z",
     "start_time": "2020-05-29T21:51:51.856Z"
    }
   },
   "outputs": [],
   "source": [
    "public class SnapshotArray {\n",
    "\n",
    "    Dictionary<int, int>[] sp;\n",
    "    int snap_count = 0;\n",
    "    int[] nums;\n",
    "    int totelNums;\n",
    "    \n",
    "    public SnapshotArray(int length) {\n",
    "        nums = new int[length];\n",
    "        sp = new Dictionary<int, int>[length];\n",
    "        for(int i = 0; i < length; i++){\n",
    "            sp[i] = new Dictionary<int, int>();\n",
    "        }\n",
    "        totelNums = length;\n",
    "    }\n",
    "    \n",
    "    public void Set(int index, int val) {\n",
    "        nums[index] = val;\n",
    "    }\n",
    "    \n",
    "    public int Snap() {\n",
    "        if(snap_count == 0){\n",
    "            for(int i = 0; i < totelNums; i++){\n",
    "                var currNum = nums[i];\n",
    "                sp[i][snap_count] = currNum;\n",
    "            }\n",
    "        }else{\n",
    "            for(int i = 0; i < totelNums; i++){\n",
    "                var currNum = nums[i];\n",
    "                // find the last version\n",
    "                var version = snap_count;\n",
    "                version--;\n",
    "                while(!sp[i].ContainsKey(version)){\n",
    "                    version--;\n",
    "                }\n",
    "                if(sp[i][version] != currNum){\n",
    "                    sp[i][snap_count] = currNum;\n",
    "                }\n",
    "            }\n",
    "        }\n",
    "        snap_count++;\n",
    "        return snap_count - 1;\n",
    "    }\n",
    "    \n",
    "    public int Get(int index, int snap_id) {\n",
    "        var version = snap_id;\n",
    "        while(!sp[index].ContainsKey(version)){\n",
    "            version--;\n",
    "        }\n",
    "        return sp[index][version];\n",
    "    }\n",
    "}\n",
    "\n",
    "/**\n",
    " * Your SnapshotArray object will be instantiated and called as such:\n",
    " * SnapshotArray obj = new SnapshotArray(length);\n",
    " * obj.Set(index,val);\n",
    " * int param_2 = obj.Snap();\n",
    " * int param_3 = obj.Get(index,snap_id);\n",
    " */"
   ]
  },
  {
   "cell_type": "code",
   "execution_count": null,
   "metadata": {},
   "outputs": [],
   "source": []
  }
 ],
 "metadata": {
  "kernelspec": {
   "display_name": ".NET (C#)",
   "language": "C#",
   "name": ".net-csharp"
  },
  "language_info": {
   "file_extension": ".cs",
   "mimetype": "text/x-csharp",
   "name": "C#",
   "pygments_lexer": "csharp",
   "version": "8.0"
  },
  "toc": {
   "base_numbering": 1,
   "nav_menu": {},
   "number_sections": true,
   "sideBar": true,
   "skip_h1_title": false,
   "title_cell": "Table of Contents",
   "title_sidebar": "Contents",
   "toc_cell": false,
   "toc_position": {},
   "toc_section_display": true,
   "toc_window_display": false
  }
 },
 "nbformat": 4,
 "nbformat_minor": 4
}
