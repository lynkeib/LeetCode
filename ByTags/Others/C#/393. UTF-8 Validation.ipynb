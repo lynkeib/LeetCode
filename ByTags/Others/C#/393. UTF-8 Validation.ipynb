{
 "cells": [
  {
   "cell_type": "code",
   "execution_count": 19,
   "metadata": {
    "ExecuteTime": {
     "end_time": "2020-06-05T22:14:28.0696190Z",
     "start_time": "2020-06-05T22:14:27.746Z"
    }
   },
   "outputs": [],
   "source": [
    "public class Solution {\n",
    "    public bool ValidUtf8(int[] data) {\n",
    "        bool head = true;\n",
    "        var left = 0;\n",
    "        for(int i = 0; i < data.Length; i++){\n",
    "            var thisData = data[i];\n",
    "            if(head){\n",
    "                // how many left?\n",
    "                int mask = 1 << 7;\n",
    "                int count = 0;\n",
    "                while((thisData & mask) != 0){\n",
    "                    count++;\n",
    "                    mask>>=1;\n",
    "                }\n",
    "                // if 0xxxxxxx\n",
    "                if(count == 0){\n",
    "                    head = true;\n",
    "                    left = 0;\n",
    "                }else if(count >= 2 && count <= 4){\n",
    "                    head = false;\n",
    "                    left = count - 1;\n",
    "                }else{\n",
    "                    return false;\n",
    "                }\n",
    "            }else{\n",
    "                left -= 1;\n",
    "                if(left == 0){\n",
    "                    head = true;\n",
    "                }\n",
    "                int mask = 1 << 7;\n",
    "                if(((thisData & mask) >> 7) != 1){\n",
    "                    return false;\n",
    "                }\n",
    "                mask >>= 1;\n",
    "                if(((thisData & mask) >> 6) != 0){\n",
    "                    return false;\n",
    "                }\n",
    "            }\n",
    "        }\n",
    "        return left == 0 && head;\n",
    "    }\n",
    "}"
   ]
  },
  {
   "cell_type": "code",
   "execution_count": null,
   "metadata": {},
   "outputs": [],
   "source": []
  }
 ],
 "metadata": {
  "kernelspec": {
   "display_name": ".NET (C#)",
   "language": "C#",
   "name": ".net-csharp"
  },
  "language_info": {
   "file_extension": ".cs",
   "mimetype": "text/x-csharp",
   "name": "C#",
   "pygments_lexer": "csharp",
   "version": "8.0"
  },
  "toc": {
   "base_numbering": 1,
   "nav_menu": {},
   "number_sections": true,
   "sideBar": true,
   "skip_h1_title": false,
   "title_cell": "Table of Contents",
   "title_sidebar": "Contents",
   "toc_cell": false,
   "toc_position": {},
   "toc_section_display": true,
   "toc_window_display": false
  }
 },
 "nbformat": 4,
 "nbformat_minor": 4
}
