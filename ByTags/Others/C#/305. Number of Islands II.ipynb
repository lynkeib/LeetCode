{
 "cells": [
  {
   "cell_type": "markdown",
   "metadata": {},
   "source": [
    "# Union Find "
   ]
  },
  {
   "cell_type": "code",
   "execution_count": 2,
   "metadata": {
    "ExecuteTime": {
     "end_time": "2020-05-06T03:34:40.3229980Z",
     "start_time": "2020-05-06T03:34:40.235Z"
    }
   },
   "outputs": [],
   "source": [
    "public class Solution {\n",
    "\n",
    "    int rows;\n",
    "    int cols;\n",
    "\n",
    "    public IList<int> NumIslands2(int m, int n, int[][] positions) {\n",
    "        rows = m;\n",
    "        cols = n;\n",
    "        var uf = new int[m * n];\n",
    "        var dirs = new int[][]{new int[]{1, 0}, \n",
    "                            new int[]{-1, 0},\n",
    "                            new int[]{0, 1},\n",
    "                            new int[]{0, -1}};\n",
    "        for(int row = 0; row < m; row++){\n",
    "            for(int col = 0; col < n; col++){\n",
    "                var index = getIndex(row, col);\n",
    "                uf[index] = -1;\n",
    "            }\n",
    "        }\n",
    "\n",
    "        var count = 0;\n",
    "        var res = new List<int>();\n",
    "\n",
    "        foreach(var pos in positions){\n",
    "            var row = pos[0];\n",
    "            var col = pos[1];\n",
    "            var index = getIndex(row, col);\n",
    "            // Console.WriteLine($\"{index}, {uf[index]}\");\n",
    "            if(uf[index] != -1){\n",
    "                res.Add(count);\n",
    "                continue;\n",
    "            }\n",
    "            uf[index] = index;\n",
    "            count++;\n",
    "            foreach(var dir in dirs){\n",
    "                var r = row + dir[0];\n",
    "                var c = col + dir[1];\n",
    "                var i = getIndex(r, c);\n",
    "                if(r < 0 || r >= m || c < 0 || c >= n || uf[i] == -1){\n",
    "                    continue;\n",
    "                }else{\n",
    "                    var p = find(uf, index);\n",
    "                    var q = find(uf, i);\n",
    "                    if(p != q){\n",
    "                        count--;\n",
    "                        uf[q] = p;\n",
    "                    }\n",
    "                }\n",
    "                \n",
    "            }\n",
    "            res.Add(count);\n",
    "        }\n",
    "        return res;\n",
    "    }\n",
    "\n",
    "    public int find(int[] uf, int num){\n",
    "        while(uf[num] != num){\n",
    "            num = uf[num];\n",
    "        }\n",
    "        return num;\n",
    "    }\n",
    "\n",
    "    public int getIndex(int row, int col){\n",
    "        return row * cols + col;\n",
    "    }\n",
    "}"
   ]
  },
  {
   "cell_type": "code",
   "execution_count": null,
   "metadata": {},
   "outputs": [],
   "source": []
  }
 ],
 "metadata": {
  "kernelspec": {
   "display_name": ".NET (C#)",
   "language": "C#",
   "name": ".net-csharp"
  },
  "language_info": {
   "file_extension": ".cs",
   "mimetype": "text/x-csharp",
   "name": "C#",
   "pygments_lexer": "csharp",
   "version": "8.0"
  },
  "toc": {
   "base_numbering": 1,
   "nav_menu": {},
   "number_sections": true,
   "sideBar": true,
   "skip_h1_title": false,
   "title_cell": "Table of Contents",
   "title_sidebar": "Contents",
   "toc_cell": false,
   "toc_position": {},
   "toc_section_display": true,
   "toc_window_display": false
  }
 },
 "nbformat": 4,
 "nbformat_minor": 4
}
