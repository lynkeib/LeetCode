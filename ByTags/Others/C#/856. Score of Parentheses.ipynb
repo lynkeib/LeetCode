{
 "cells": [
  {
   "cell_type": "code",
   "execution_count": 1,
   "metadata": {
    "ExecuteTime": {
     "end_time": "2020-05-22T04:21:17.5862430Z",
     "start_time": "2020-05-22T04:21:15.806Z"
    }
   },
   "outputs": [],
   "source": [
    "public class Solution {\n",
    "    public int ScoreOfParentheses(string S) {\n",
    "        var stack = new Stack<int>();\n",
    "        var res = 0;\n",
    "        for(int i = 0; i < S.Length; i++){\n",
    "            if(S[i] == '('){\n",
    "                stack.Push(i);\n",
    "            }else{\n",
    "                var topIndex = stack.Pop();\n",
    "                // if it is add \n",
    "                if(i - topIndex == 1){\n",
    "                    // if it has out\n",
    "                    if(stack.Count != 0){\n",
    "                        res += 1 << stack.Count;\n",
    "                    }\n",
    "                    // if it is the out\n",
    "                    else{\n",
    "                        res += 1;\n",
    "                    }\n",
    "                }\n",
    "                // if it is multiply\n",
    "                else{\n",
    "                    continue;\n",
    "                }\n",
    "            }\n",
    "        }\n",
    "        return res;\n",
    "    }\n",
    "}"
   ]
  },
  {
   "cell_type": "code",
   "execution_count": null,
   "metadata": {},
   "outputs": [],
   "source": []
  }
 ],
 "metadata": {
  "kernelspec": {
   "display_name": ".NET (C#)",
   "language": "C#",
   "name": ".net-csharp"
  },
  "language_info": {
   "file_extension": ".cs",
   "mimetype": "text/x-csharp",
   "name": "C#",
   "pygments_lexer": "csharp",
   "version": "8.0"
  },
  "toc": {
   "base_numbering": 1,
   "nav_menu": {},
   "number_sections": true,
   "sideBar": true,
   "skip_h1_title": false,
   "title_cell": "Table of Contents",
   "title_sidebar": "Contents",
   "toc_cell": false,
   "toc_position": {},
   "toc_section_display": true,
   "toc_window_display": false
  }
 },
 "nbformat": 4,
 "nbformat_minor": 4
}
