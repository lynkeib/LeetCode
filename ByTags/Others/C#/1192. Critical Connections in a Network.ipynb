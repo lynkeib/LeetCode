{
 "cells": [
  {
   "cell_type": "code",
   "execution_count": 1,
   "metadata": {
    "ExecuteTime": {
     "end_time": "2020-06-27T06:02:15.8239520Z",
     "start_time": "2020-06-27T06:02:14.267Z"
    }
   },
   "outputs": [],
   "source": [
    "public class Solution {\n",
    "    \n",
    "    int[] disc;\n",
    "    int[] lower;\n",
    "    int[] fromNodes;\n",
    "    int index = 0;\n",
    "    List<int>[] graph;\n",
    "    List<IList<int>> res = new List<IList<int>>();\n",
    "    \n",
    "    public IList<IList<int>> CriticalConnections(int n, IList<IList<int>> connections) {\n",
    "        disc = new int[n];\n",
    "        lower = new int[n];\n",
    "        fromNodes = new int[n];\n",
    "        graph = new List<int>[n];\n",
    "        Array.Fill(disc ,-1);\n",
    "        Array.Fill(fromNodes, -1);\n",
    "        foreach(var conn in connections){\n",
    "            var node1 = conn[0];\n",
    "            var node2 = conn[1];\n",
    "            if(graph[node1] == null){\n",
    "                graph[node1] = new List<int>();\n",
    "            }\n",
    "            if(graph[node2] == null){\n",
    "                graph[node2] = new List<int>();\n",
    "            }\n",
    "            graph[node1].Add(node2);\n",
    "            graph[node2].Add(node1);\n",
    "        }\n",
    "        for(int i = 0; i < n; i++){\n",
    "            if(disc[i] == -1){\n",
    "                dfs(i);\n",
    "            }\n",
    "        }\n",
    "        return res;\n",
    "    }\n",
    "    \n",
    "    public void dfs(int node){\n",
    "        if(disc[node] == -1){\n",
    "            disc[node] = index;\n",
    "            lower[node] = index;\n",
    "            index++;\n",
    "            foreach(var nei in graph[node]){\n",
    "                if(disc[nei] == -1){\n",
    "                    fromNodes[nei] = node;\n",
    "                    dfs(nei);\n",
    "                    if(lower[nei] > disc[node]){\n",
    "                        var edge = new List<int>{nei, node};\n",
    "                        res.Add(edge);\n",
    "                    }\n",
    "                    lower[node] = Math.Min(lower[node], lower[nei]);\n",
    "                }else if(fromNodes[node] != nei){\n",
    "                    lower[node] = Math.Min(lower[node], disc[nei]);\n",
    "                }\n",
    "            }\n",
    "        }\n",
    "        return;\n",
    "    }\n",
    "}"
   ]
  },
  {
   "cell_type": "code",
   "execution_count": null,
   "metadata": {},
   "outputs": [],
   "source": []
  }
 ],
 "metadata": {
  "kernelspec": {
   "display_name": ".NET (C#)",
   "language": "C#",
   "name": ".net-csharp"
  },
  "language_info": {
   "file_extension": ".cs",
   "mimetype": "text/x-csharp",
   "name": "C#",
   "pygments_lexer": "csharp",
   "version": "8.0"
  },
  "toc": {
   "base_numbering": 1,
   "nav_menu": {},
   "number_sections": true,
   "sideBar": true,
   "skip_h1_title": false,
   "title_cell": "Table of Contents",
   "title_sidebar": "Contents",
   "toc_cell": false,
   "toc_position": {},
   "toc_section_display": true,
   "toc_window_display": false
  }
 },
 "nbformat": 4,
 "nbformat_minor": 4
}
