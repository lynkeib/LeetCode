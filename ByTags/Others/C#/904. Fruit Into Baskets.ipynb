{
 "cells": [
  {
   "cell_type": "code",
   "execution_count": 2,
   "metadata": {
    "ExecuteTime": {
     "end_time": "2020-05-23T21:08:49.3012870Z",
     "start_time": "2020-05-23T21:08:49.087Z"
    }
   },
   "outputs": [],
   "source": [
    "public class Solution {\n",
    "    public int TotalFruit(int[] tree) {\n",
    "        var count = new Dictionary<int, int>();\n",
    "        var slow = 0;\n",
    "        var res = 0;\n",
    "        for(int fast = 0; fast < tree.Length; fast++){\n",
    "            var fruit = tree[fast];\n",
    "            if(!count.ContainsKey(fruit)){\n",
    "                count[fruit] = 0;\n",
    "            }\n",
    "            count[fruit]++;\n",
    "            while(slow < fast && count.Count == 3){\n",
    "                var rev = tree[slow];\n",
    "                count[rev]--;\n",
    "                if(count[rev] == 0){\n",
    "                    count.Remove(rev);\n",
    "                }\n",
    "                slow++;\n",
    "            }\n",
    "            res = Math.Max(res, fast - slow + 1);\n",
    "        }\n",
    "        return res;\n",
    "    }\n",
    "}"
   ]
  },
  {
   "cell_type": "code",
   "execution_count": null,
   "metadata": {},
   "outputs": [],
   "source": []
  }
 ],
 "metadata": {
  "kernelspec": {
   "display_name": ".NET (C#)",
   "language": "C#",
   "name": ".net-csharp"
  },
  "language_info": {
   "file_extension": ".cs",
   "mimetype": "text/x-csharp",
   "name": "C#",
   "pygments_lexer": "csharp",
   "version": "8.0"
  },
  "toc": {
   "base_numbering": 1,
   "nav_menu": {},
   "number_sections": true,
   "sideBar": true,
   "skip_h1_title": false,
   "title_cell": "Table of Contents",
   "title_sidebar": "Contents",
   "toc_cell": false,
   "toc_position": {},
   "toc_section_display": true,
   "toc_window_display": false
  }
 },
 "nbformat": 4,
 "nbformat_minor": 4
}
