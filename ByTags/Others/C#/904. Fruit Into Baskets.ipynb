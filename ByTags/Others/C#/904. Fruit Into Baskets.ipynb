{
 "cells": [
  {
   "cell_type": "code",
   "execution_count": 1,
   "metadata": {
    "ExecuteTime": {
     "end_time": "2020-05-23T04:58:04.2609150Z",
     "start_time": "2020-05-23T04:58:03.229Z"
    }
   },
   "outputs": [],
   "source": [
    "public class Solution {\n",
    "    public int TotalFruit(int[] tree) {\n",
    "        var basket1 = -1;\n",
    "        var basket2 = -1;\n",
    "        var cbasket1 = 0;\n",
    "        var cbasket2 = 0;\n",
    "        var res = 0;\n",
    "        var count = 0;\n",
    "        for(int i = 0; i < tree.Length; i++){\n",
    "            if(basket1 == -1){\n",
    "                basket1 = i;\n",
    "                cbasket1 = 1;\n",
    "                count++;\n",
    "            }else if(basket2 == -1){\n",
    "                basket2 = i;\n",
    "                cbasket2 = 1;\n",
    "                count++;\n",
    "            }else if(tree[basket1] == tree[i]){\n",
    "                if(i != 0 && tree[basket1] == tree[i - 1]){\n",
    "                    cbasket1++;\n",
    "                }else{\n",
    "                    cbasket1 = 1;\n",
    "                }\n",
    "                count++;\n",
    "            }else if(tree[basket2] == tree[i]){\n",
    "                if(i != 0 && tree[basket2] == tree[i - 1]){\n",
    "                    cbasket2++;\n",
    "                }else{\n",
    "                    cbasket2 = 1;\n",
    "                }\n",
    "                count++;\n",
    "            }else if(basket1 < basket2){\n",
    "                count = cbasket2;\n",
    "                basket1 = i;\n",
    "                cbasket1 = 1;\n",
    "                count++;\n",
    "            }else if(basket1 > basket2){\n",
    "                count = cbasket1;\n",
    "                basket2 = i;\n",
    "                cbasket2 = 1;\n",
    "                count++;\n",
    "            }\n",
    "            res = Math.Max(res, count);\n",
    "        }\n",
    "        return res;\n",
    "    }\n",
    "}"
   ]
  },
  {
   "cell_type": "code",
   "execution_count": null,
   "metadata": {},
   "outputs": [],
   "source": []
  }
 ],
 "metadata": {
  "kernelspec": {
   "display_name": ".NET (C#)",
   "language": "C#",
   "name": ".net-csharp"
  },
  "language_info": {
   "file_extension": ".cs",
   "mimetype": "text/x-csharp",
   "name": "C#",
   "pygments_lexer": "csharp",
   "version": "8.0"
  },
  "toc": {
   "base_numbering": 1,
   "nav_menu": {},
   "number_sections": true,
   "sideBar": true,
   "skip_h1_title": false,
   "title_cell": "Table of Contents",
   "title_sidebar": "Contents",
   "toc_cell": false,
   "toc_position": {},
   "toc_section_display": true,
   "toc_window_display": false
  }
 },
 "nbformat": 4,
 "nbformat_minor": 4
}
