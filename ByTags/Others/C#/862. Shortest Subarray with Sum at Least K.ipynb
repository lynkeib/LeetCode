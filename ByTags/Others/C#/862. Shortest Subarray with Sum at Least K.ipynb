{
 "cells": [
  {
   "cell_type": "code",
   "execution_count": 1,
   "metadata": {
    "ExecuteTime": {
     "end_time": "2020-05-23T03:13:34.9412170Z",
     "start_time": "2020-05-23T03:13:33.176Z"
    }
   },
   "outputs": [],
   "source": [
    "public class Solution {\n",
    "    public int ShortestSubarray(int[] A, int K) {\n",
    "        var n = A.Length;\n",
    "        var res = int.MaxValue;\n",
    "        var sum = new int[n + 1];\n",
    "        for(int i = 0; i < n; i++){\n",
    "            sum[i + 1] = sum[i] + A[i];\n",
    "        }\n",
    "        var deque = new List<int>();\n",
    "        for(int i = 0; i < n + 1; i++){\n",
    "            while(deque.Count != 0 && sum[i] - sum[deque[0]] >= K){\n",
    "                var index = deque[0];\n",
    "                deque.RemoveAt(0);\n",
    "                res = Math.Min(res, i - index);\n",
    "            }\n",
    "            while(deque.Count != 0 && sum[i] <= sum[deque[deque.Count - 1]]){\n",
    "                deque.RemoveAt(deque.Count - 1);\n",
    "            }\n",
    "            deque.Add(i);\n",
    "        }\n",
    "        return res == int.MaxValue ? -1 : res;\n",
    "    }\n",
    "}"
   ]
  },
  {
   "cell_type": "code",
   "execution_count": null,
   "metadata": {},
   "outputs": [],
   "source": []
  }
 ],
 "metadata": {
  "kernelspec": {
   "display_name": ".NET (C#)",
   "language": "C#",
   "name": ".net-csharp"
  },
  "language_info": {
   "file_extension": ".cs",
   "mimetype": "text/x-csharp",
   "name": "C#",
   "pygments_lexer": "csharp",
   "version": "8.0"
  },
  "toc": {
   "base_numbering": 1,
   "nav_menu": {},
   "number_sections": true,
   "sideBar": true,
   "skip_h1_title": false,
   "title_cell": "Table of Contents",
   "title_sidebar": "Contents",
   "toc_cell": false,
   "toc_position": {},
   "toc_section_display": true,
   "toc_window_display": false
  }
 },
 "nbformat": 4,
 "nbformat_minor": 4
}
