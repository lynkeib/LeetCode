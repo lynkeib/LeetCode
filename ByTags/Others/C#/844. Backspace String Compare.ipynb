{
 "cells": [
  {
   "cell_type": "code",
   "execution_count": 1,
   "metadata": {
    "ExecuteTime": {
     "end_time": "2020-04-09T22:17:56.7246870Z",
     "start_time": "2020-04-09T22:17:55.592Z"
    }
   },
   "outputs": [],
   "source": [
    "public class Solution {\n",
    "    public bool BackspaceCompare (string S, string T) {\n",
    "        var s = new StringBuilder ();\n",
    "        var t = new StringBuilder ();\n",
    "        foreach (var item in S) {\n",
    "            if (item == '#') {\n",
    "                if (s.Length != 0) {\n",
    "                    s.Length--;\n",
    "                } else {\n",
    "                    continue;\n",
    "                }\n",
    "            } else {\n",
    "                s.Append (item);\n",
    "            }\n",
    "        }\n",
    "        foreach (var item in T) {\n",
    "            if (item == '#') {\n",
    "                if (t.Length != 0) {\n",
    "                    t.Length--;\n",
    "                } else {\n",
    "                    continue;\n",
    "                }\n",
    "            } else {\n",
    "                t.Append (item);\n",
    "            }\n",
    "        }\n",
    "\n",
    "        // var ss = s.ToString ();\n",
    "        // var tt = t.ToString ();\n",
    "        // Console.WriteLine ($\"{ss}, {tt}\");\n",
    "        return s.ToString() == t.ToString();\n",
    "    }\n",
    "}"
   ]
  },
  {
   "cell_type": "code",
   "execution_count": null,
   "metadata": {},
   "outputs": [],
   "source": []
  }
 ],
 "metadata": {
  "kernelspec": {
   "display_name": ".NET (C#)",
   "language": "C#",
   "name": ".net-csharp"
  },
  "language_info": {
   "file_extension": ".cs",
   "mimetype": "text/x-csharp",
   "name": "C#",
   "pygments_lexer": "csharp",
   "version": "8.0"
  },
  "toc": {
   "base_numbering": 1,
   "nav_menu": {},
   "number_sections": true,
   "sideBar": true,
   "skip_h1_title": false,
   "title_cell": "Table of Contents",
   "title_sidebar": "Contents",
   "toc_cell": false,
   "toc_position": {},
   "toc_section_display": true,
   "toc_window_display": false
  }
 },
 "nbformat": 4,
 "nbformat_minor": 4
}
