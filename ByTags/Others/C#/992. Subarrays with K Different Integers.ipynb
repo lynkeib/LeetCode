{
 "cells": [
  {
   "cell_type": "code",
   "execution_count": 1,
   "metadata": {
    "ExecuteTime": {
     "end_time": "2020-05-23T21:23:13.6515140Z",
     "start_time": "2020-05-23T21:23:11.931Z"
    }
   },
   "outputs": [],
   "source": [
    "public class Solution {\n",
    "    public int SubarraysWithKDistinct(int[] A, int K) {\n",
    "        var count = new Dictionary<int, int>();\n",
    "        var slow = 0;\n",
    "        var subset = 0;\n",
    "        var res = 0;\n",
    "        for(int fast = 0; fast < A.Length; fast++){\n",
    "            var num = A[fast];\n",
    "            if(!count.ContainsKey(num)){\n",
    "                count[num] = 0;\n",
    "            }\n",
    "            count[num]++;\n",
    "            while(count[A[slow]] > 1 || count.Count > K){\n",
    "                if(count[A[slow]] > 1){\n",
    "                    subset++;\n",
    "                    count[A[slow]]--;\n",
    "                }else if(count.Count > K){\n",
    "                    count[A[slow]]--;\n",
    "                    if(count[A[slow]] == 0){\n",
    "                        count.Remove(A[slow]);\n",
    "                    }\n",
    "                    subset=0;\n",
    "                }\n",
    "                slow++;\n",
    "            }\n",
    "            if(count.Count == K){\n",
    "                res += subset + 1;\n",
    "            }\n",
    "        }\n",
    "        return res;\n",
    "    }\n",
    "}"
   ]
  },
  {
   "cell_type": "code",
   "execution_count": null,
   "metadata": {},
   "outputs": [],
   "source": []
  }
 ],
 "metadata": {
  "kernelspec": {
   "display_name": ".NET (C#)",
   "language": "C#",
   "name": ".net-csharp"
  },
  "language_info": {
   "file_extension": ".cs",
   "mimetype": "text/x-csharp",
   "name": "C#",
   "pygments_lexer": "csharp",
   "version": "8.0"
  },
  "toc": {
   "base_numbering": 1,
   "nav_menu": {},
   "number_sections": true,
   "sideBar": true,
   "skip_h1_title": false,
   "title_cell": "Table of Contents",
   "title_sidebar": "Contents",
   "toc_cell": false,
   "toc_position": {},
   "toc_section_display": true,
   "toc_window_display": false
  }
 },
 "nbformat": 4,
 "nbformat_minor": 4
}
