{
 "cells": [
  {
   "cell_type": "markdown",
   "metadata": {},
   "source": [
    "# Brute Force (TLE)"
   ]
  },
  {
   "cell_type": "code",
   "execution_count": 1,
   "metadata": {
    "ExecuteTime": {
     "end_time": "2020-04-20T04:13:05.4788200Z",
     "start_time": "2020-04-20T04:13:04.579Z"
    }
   },
   "outputs": [],
   "source": [
    "public class Solution {\n",
    "    public int RangeBitwiseAnd(int m, int n) {\n",
    "        var res = m;\n",
    "        for(int i = m + 1; i <= n; i++){\n",
    "            res &= i;\n",
    "        }\n",
    "        return res;\n",
    "    }\n",
    "}"
   ]
  },
  {
   "cell_type": "markdown",
   "metadata": {},
   "source": [
    "# Bit Manipulation"
   ]
  },
  {
   "cell_type": "code",
   "execution_count": 2,
   "metadata": {
    "ExecuteTime": {
     "end_time": "2020-04-20T04:17:41.6062140Z",
     "start_time": "2020-04-20T04:17:41.553Z"
    }
   },
   "outputs": [],
   "source": [
    "public class Solution {\n",
    "    public int RangeBitwiseAnd(int m, int n) {\n",
    "        var shift = 0;\n",
    "        while(m != n){\n",
    "            m >>= 1;\n",
    "            n >>= 1;\n",
    "            shift++;\n",
    "        }\n",
    "        return n << shift;\n",
    "    }\n",
    "}"
   ]
  },
  {
   "cell_type": "markdown",
   "metadata": {},
   "source": [
    "# Brian Kernighan's Algorithm (turn off the right most 1)"
   ]
  },
  {
   "cell_type": "code",
   "execution_count": 3,
   "metadata": {
    "ExecuteTime": {
     "end_time": "2020-04-20T04:19:45.7697360Z",
     "start_time": "2020-04-20T04:19:45.647Z"
    }
   },
   "outputs": [],
   "source": [
    "public class Solution {\n",
    "    public int RangeBitwiseAnd(int m, int n) {\n",
    "        while(m < n){\n",
    "            n &= (n - 1);\n",
    "        }\n",
    "        return m & n;\n",
    "    }\n",
    "}"
   ]
  },
  {
   "cell_type": "code",
   "execution_count": null,
   "metadata": {},
   "outputs": [],
   "source": []
  }
 ],
 "metadata": {
  "kernelspec": {
   "display_name": ".NET (C#)",
   "language": "C#",
   "name": ".net-csharp"
  },
  "language_info": {
   "file_extension": ".cs",
   "mimetype": "text/x-csharp",
   "name": "C#",
   "pygments_lexer": "csharp",
   "version": "8.0"
  },
  "toc": {
   "base_numbering": 1,
   "nav_menu": {},
   "number_sections": true,
   "sideBar": true,
   "skip_h1_title": false,
   "title_cell": "Table of Contents",
   "title_sidebar": "Contents",
   "toc_cell": false,
   "toc_position": {},
   "toc_section_display": true,
   "toc_window_display": false
  }
 },
 "nbformat": 4,
 "nbformat_minor": 4
}
