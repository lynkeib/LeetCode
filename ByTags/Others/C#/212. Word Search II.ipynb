{
 "cells": [
  {
   "cell_type": "code",
   "execution_count": 1,
   "metadata": {
    "ExecuteTime": {
     "end_time": "2020-07-01T05:47:58.1519840Z",
     "start_time": "2020-07-01T05:47:56.917Z"
    }
   },
   "outputs": [],
   "source": [
    "public class Solution {\n",
    "    \n",
    "    int[] visited;\n",
    "    int rows;\n",
    "    int cols;\n",
    "    int[] dirs = new int[]{-1, 0, 1, 0, -1};\n",
    "    char[][] board;\n",
    "    \n",
    "    public IList<string> FindWords(char[][] board, string[] words) {\n",
    "        var res = new HashSet<string>();\n",
    "        rows = board.Length;\n",
    "        if(rows == 0){\n",
    "            return res.ToList();\n",
    "        }\n",
    "        cols = board[0].Length;\n",
    "        visited = new int[rows * cols];\n",
    "        this.board = board;\n",
    "        foreach(var word in words){\n",
    "            for(int row = 0; row < rows; row++){\n",
    "                for(int col = 0; col < cols; col++){\n",
    "                    if(dfs(row, col, 0, word)){\n",
    "                        res.Add(word);\n",
    "                        break;\n",
    "                    }\n",
    "                    Array.Fill(visited, 0);\n",
    "                }\n",
    "                if(res.Contains(word)){\n",
    "                    break;\n",
    "                }\n",
    "            }\n",
    "        }\n",
    "        return res.ToList();\n",
    "    }\n",
    "    \n",
    "    public int Idx(int row, int col){\n",
    "        return row * cols + col;\n",
    "    }\n",
    "    \n",
    "    public bool dfs(int row, int col, int index, string word){\n",
    "        var targetC = word[index];\n",
    "        if(board[row][col] == targetC){\n",
    "            if(index == word.Length - 1){\n",
    "                return true;\n",
    "            }\n",
    "            visited[Idx(row, col)] = 1;\n",
    "            for(int i = 0; i < 4; i++){\n",
    "                int nr = row + dirs[i], nc = col + dirs[i + 1];\n",
    "                if(nr > -1 && nr < rows && nc > -1 && nc < cols && visited[Idx(nr, nc)] != 1){\n",
    "                    if(dfs(nr, nc, index + 1, word)){\n",
    "                        return true;\n",
    "                    };\n",
    "                    \n",
    "                }\n",
    "            }\n",
    "            visited[Idx(row, col)] = 0;\n",
    "        }\n",
    "        return false;\n",
    "    }\n",
    "}"
   ]
  },
  {
   "cell_type": "code",
   "execution_count": null,
   "metadata": {},
   "outputs": [],
   "source": []
  }
 ],
 "metadata": {
  "kernelspec": {
   "display_name": ".NET (C#)",
   "language": "C#",
   "name": ".net-csharp"
  },
  "language_info": {
   "file_extension": ".cs",
   "mimetype": "text/x-csharp",
   "name": "C#",
   "pygments_lexer": "csharp",
   "version": "8.0"
  },
  "toc": {
   "base_numbering": 1,
   "nav_menu": {},
   "number_sections": true,
   "sideBar": true,
   "skip_h1_title": false,
   "title_cell": "Table of Contents",
   "title_sidebar": "Contents",
   "toc_cell": false,
   "toc_position": {},
   "toc_section_display": true,
   "toc_window_display": false
  }
 },
 "nbformat": 4,
 "nbformat_minor": 4
}
