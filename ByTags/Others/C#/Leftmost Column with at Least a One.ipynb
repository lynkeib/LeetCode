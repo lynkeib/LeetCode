{
 "cells": [
  {
   "cell_type": "markdown",
   "metadata": {},
   "source": [
    "# Binary Search (O(R * log(C)))"
   ]
  },
  {
   "cell_type": "code",
   "execution_count": 1,
   "metadata": {
    "ExecuteTime": {
     "end_time": "2020-04-22T06:23:54.0087420Z",
     "start_time": "2020-04-22T06:23:53.316Z"
    }
   },
   "outputs": [
    {
     "ename": "Unhandled Exception",
     "evalue": "(11,38): error CS0246: The type or namespace name 'BinaryMatrix' could not be found (are you missing a using directive or an assembly reference?)",
     "output_type": "error",
     "traceback": [
      "(11,38): error CS0246: The type or namespace name 'BinaryMatrix' could not be found (are you missing a using directive or an assembly reference?)"
     ]
    }
   ],
   "source": [
    "/**\n",
    " * // This is BinaryMatrix's API interface.\n",
    " * // You should not implement it, or speculate about its implementation\n",
    " * class BinaryMatrix {\n",
    " *     public int Get(int x, int y) {}\n",
    " *     public IList<int> Dimensions() {}\n",
    " * }\n",
    " */\n",
    "\n",
    "class Solution {\n",
    "    public int LeftMostColumnWithOne(BinaryMatrix binaryMatrix) {\n",
    "        int res = int.MaxValue;\n",
    "        int rows = binaryMatrix.Dimensions()[0];\n",
    "        int cols = binaryMatrix.Dimensions()[1];\n",
    "        for (int row = 0; row < rows; row++)\n",
    "        {\n",
    "            int left = 0, right = cols - 1;\n",
    "            while(left < right){\n",
    "                if(left >= res){\n",
    "                    break;\n",
    "                }\n",
    "                int mid = left + (right - left) / 2;\n",
    "                if(binaryMatrix.Get(row, mid) == 0){\n",
    "                    left = mid + 1;\n",
    "                }else{\n",
    "                    right = mid;\n",
    "                }\n",
    "            }\n",
    "            if(binaryMatrix.Get(row, left) == 1){\n",
    "                res = Math.Min(res, left);\n",
    "            }\n",
    "        }\n",
    "        return res == int.MaxValue ? -1 : res;\n",
    "    }\n",
    "}"
   ]
  },
  {
   "cell_type": "markdown",
   "metadata": {},
   "source": [
    "# Pointer walk (O(Max(R, C)))"
   ]
  },
  {
   "cell_type": "code",
   "execution_count": 2,
   "metadata": {
    "ExecuteTime": {
     "end_time": "2020-04-22T06:28:18.7900690Z",
     "start_time": "2020-04-22T06:28:18.718Z"
    }
   },
   "outputs": [
    {
     "ename": "Unhandled Exception",
     "evalue": "(11,38): error CS0246: The type or namespace name 'BinaryMatrix' could not be found (are you missing a using directive or an assembly reference?)",
     "output_type": "error",
     "traceback": [
      "(11,38): error CS0246: The type or namespace name 'BinaryMatrix' could not be found (are you missing a using directive or an assembly reference?)"
     ]
    }
   ],
   "source": [
    "/**\n",
    " * // This is BinaryMatrix's API interface.\n",
    " * // You should not implement it, or speculate about its implementation\n",
    " * class BinaryMatrix {\n",
    " *     public int Get(int x, int y) {}\n",
    " *     public IList<int> Dimensions() {}\n",
    " * }\n",
    " */\n",
    "\n",
    "class Solution {\n",
    "    public int LeftMostColumnWithOne(BinaryMatrix binaryMatrix) {\n",
    "        var dim = binaryMatrix.Dimensions();\n",
    "        int rows = dim[0], cols = dim[1];\n",
    "        var pointer = new int[]{0, cols - 1};\n",
    "        int res = int.MaxValue;\n",
    "        while(pointer[0] < rows && pointer[1] > -1){\n",
    "            if(binaryMatrix.Get(pointer[0], pointer[1]) == 0){\n",
    "                pointer[0]++;\n",
    "            }else{\n",
    "                res = pointer[1];\n",
    "                pointer[1]--;\n",
    "            }\n",
    "        }\n",
    "        return res == int.MaxValue ? -1 : res;\n",
    "    }\n",
    "}"
   ]
  },
  {
   "cell_type": "code",
   "execution_count": null,
   "metadata": {},
   "outputs": [],
   "source": []
  }
 ],
 "metadata": {
  "kernelspec": {
   "display_name": ".NET (C#)",
   "language": "C#",
   "name": ".net-csharp"
  },
  "language_info": {
   "file_extension": ".cs",
   "mimetype": "text/x-csharp",
   "name": "C#",
   "pygments_lexer": "csharp",
   "version": "8.0"
  },
  "toc": {
   "base_numbering": 1,
   "nav_menu": {},
   "number_sections": true,
   "sideBar": true,
   "skip_h1_title": false,
   "title_cell": "Table of Contents",
   "title_sidebar": "Contents",
   "toc_cell": false,
   "toc_position": {},
   "toc_section_display": true,
   "toc_window_display": false
  }
 },
 "nbformat": 4,
 "nbformat_minor": 4
}
