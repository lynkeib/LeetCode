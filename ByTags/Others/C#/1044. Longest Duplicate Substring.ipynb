{
 "cells": [
  {
   "cell_type": "code",
   "execution_count": 2,
   "metadata": {
    "ExecuteTime": {
     "end_time": "2020-06-03T03:04:17.1990300Z",
     "start_time": "2020-06-03T03:04:16.089Z"
    }
   },
   "outputs": [],
   "source": [
    "public class Solution {\n",
    "        \n",
    "    long mod = (long)Math.Pow(2, 31) - 1;\n",
    "    string S;\n",
    "    int BASE = 256;\n",
    "    \n",
    "    public string LongestDupSubstring(string S) {\n",
    "        this.S = S;\n",
    "        int res = 0, left = 0, right = S.Length;\n",
    "        while(left < right){\n",
    "            int mid = left +  (right - left) / 2 + 1;\n",
    "            // Console.WriteLine(mid);\n",
    "            int pos = helper(mid);\n",
    "            if(pos > 0){\n",
    "                left = mid;\n",
    "                res = pos;\n",
    "            }else{\n",
    "                right = mid - 1;\n",
    "            }\n",
    "        }\n",
    "        Console.WriteLine($\"{res} {left}\");\n",
    "        return S.Substring(res, left);\n",
    "    }\n",
    "    \n",
    "    public int helper(int L){\n",
    "        long p = (long)(Math.Pow(BASE, L) % mod);\n",
    "        long curr = 0;\n",
    "        for(int i = 0; i < L; i++){\n",
    "            curr = (curr * BASE + S[i]) % mod;\n",
    "        }\n",
    "        var seen = new HashSet<long>();\n",
    "        seen.Add(curr);\n",
    "        for(int i = L; i < S.Length; i++){\n",
    "            curr = (curr * BASE + S[i] - S[i - L] * p) % mod;\n",
    "            if(seen.Contains(curr)){\n",
    "                return i - L + 1;\n",
    "            }\n",
    "            seen.Add(curr);\n",
    "        }\n",
    "        return 0;\n",
    "    }\n",
    "}"
   ]
  },
  {
   "cell_type": "code",
   "execution_count": null,
   "metadata": {},
   "outputs": [],
   "source": []
  }
 ],
 "metadata": {
  "kernelspec": {
   "display_name": ".NET (C#)",
   "language": "C#",
   "name": ".net-csharp"
  },
  "language_info": {
   "file_extension": ".cs",
   "mimetype": "text/x-csharp",
   "name": "C#",
   "pygments_lexer": "csharp",
   "version": "8.0"
  },
  "toc": {
   "base_numbering": 1,
   "nav_menu": {},
   "number_sections": true,
   "sideBar": true,
   "skip_h1_title": false,
   "title_cell": "Table of Contents",
   "title_sidebar": "Contents",
   "toc_cell": false,
   "toc_position": {},
   "toc_section_display": true,
   "toc_window_display": false
  }
 },
 "nbformat": 4,
 "nbformat_minor": 4
}
