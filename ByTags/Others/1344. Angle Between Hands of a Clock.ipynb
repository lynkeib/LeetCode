{
 "cells": [
  {
   "cell_type": "code",
   "execution_count": 1,
   "metadata": {
    "ExecuteTime": {
     "end_time": "2020-07-15T04:04:54.363640Z",
     "start_time": "2020-07-15T04:04:54.358887Z"
    }
   },
   "outputs": [],
   "source": [
    "class Solution(object):\n",
    "    def angleClock(self, hour, minutes):\n",
    "        \"\"\"\n",
    "        :type hour: int\n",
    "        :type minutes: int\n",
    "        :rtype: float\n",
    "        \"\"\"\n",
    "        minuteA = 6 * minutes\n",
    "        hourA = 30 * (hour % 12 + minutes / 60.0)\n",
    "        diff = abs(hourA - minuteA)\n",
    "        return min(diff, 360 - diff)"
   ]
  },
  {
   "cell_type": "code",
   "execution_count": null,
   "metadata": {},
   "outputs": [],
   "source": []
  }
 ],
 "metadata": {
  "kernelspec": {
   "display_name": "Python 3",
   "language": "python",
   "name": "python3"
  },
  "language_info": {
   "codemirror_mode": {
    "name": "ipython",
    "version": 3
   },
   "file_extension": ".py",
   "mimetype": "text/x-python",
   "name": "python",
   "nbconvert_exporter": "python",
   "pygments_lexer": "ipython3",
   "version": "3.7.4"
  },
  "toc": {
   "base_numbering": 1,
   "nav_menu": {},
   "number_sections": true,
   "sideBar": true,
   "skip_h1_title": false,
   "title_cell": "Table of Contents",
   "title_sidebar": "Contents",
   "toc_cell": false,
   "toc_position": {},
   "toc_section_display": true,
   "toc_window_display": false
  }
 },
 "nbformat": 4,
 "nbformat_minor": 4
}
