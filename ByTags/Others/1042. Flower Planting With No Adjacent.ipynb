{
 "cells": [
  {
   "cell_type": "code",
   "execution_count": 1,
   "metadata": {
    "ExecuteTime": {
     "end_time": "2020-07-18T03:36:38.708293Z",
     "start_time": "2020-07-18T03:36:38.700845Z"
    }
   },
   "outputs": [],
   "source": [
    "class Solution(object):\n",
    "    def gardenNoAdj(self, N, paths):\n",
    "        \"\"\"\n",
    "        :type N: int\n",
    "        :type paths: List[List[int]]\n",
    "        :rtype: List[int]\n",
    "        \"\"\"\n",
    "        res = [0] * N\n",
    "        graph = [[] for i in range(N)]\n",
    "        for n1, n2 in paths:\n",
    "            graph[n1 - 1].append(n2 - 1)\n",
    "            graph[n2 - 1].append(n1 - 1)\n",
    "        for i in range(N):\n",
    "            choose = set([1,2,3,4])\n",
    "            for nei in graph[i]:\n",
    "                choose -= set([res[nei]])\n",
    "            res[i] = choose.pop()\n",
    "        return res"
   ]
  },
  {
   "cell_type": "code",
   "execution_count": null,
   "metadata": {},
   "outputs": [],
   "source": []
  }
 ],
 "metadata": {
  "kernelspec": {
   "display_name": "Python 3",
   "language": "python",
   "name": "python3"
  },
  "language_info": {
   "codemirror_mode": {
    "name": "ipython",
    "version": 3
   },
   "file_extension": ".py",
   "mimetype": "text/x-python",
   "name": "python",
   "nbconvert_exporter": "python",
   "pygments_lexer": "ipython3",
   "version": "3.7.4"
  },
  "toc": {
   "base_numbering": 1,
   "nav_menu": {},
   "number_sections": true,
   "sideBar": true,
   "skip_h1_title": false,
   "title_cell": "Table of Contents",
   "title_sidebar": "Contents",
   "toc_cell": false,
   "toc_position": {},
   "toc_section_display": true,
   "toc_window_display": false
  }
 },
 "nbformat": 4,
 "nbformat_minor": 4
}
