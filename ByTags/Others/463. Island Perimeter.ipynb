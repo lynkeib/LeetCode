{
 "cells": [
  {
   "cell_type": "code",
   "execution_count": 2,
   "metadata": {
    "ExecuteTime": {
     "end_time": "2020-07-08T02:12:00.471304Z",
     "start_time": "2020-07-08T02:12:00.464869Z"
    }
   },
   "outputs": [],
   "source": [
    "class Solution(object):\n",
    "    def islandPerimeter(self, grid):\n",
    "        \"\"\"\n",
    "        :type grid: List[List[int]]\n",
    "        :rtype: int\n",
    "        \"\"\"\n",
    "        rows = len(grid)\n",
    "        cols = len(grid[0])\n",
    "        \n",
    "        result = 0\n",
    "        \n",
    "        for r in range(rows):\n",
    "            for c in range(cols):\n",
    "                if grid[r][c] == 1:\n",
    "                    result += 4\n",
    "                    \n",
    "                    if r > 0 and grid[r-1][c] == 1:\n",
    "                        result -= 2\n",
    "                        \n",
    "                    if c > 0 and grid[r][c-1] == 1:\n",
    "                        result -= 2\n",
    "        \n",
    "        return result"
   ]
  },
  {
   "cell_type": "code",
   "execution_count": 1,
   "metadata": {
    "ExecuteTime": {
     "end_time": "2020-07-08T02:10:54.565140Z",
     "start_time": "2020-07-08T02:10:54.550231Z"
    }
   },
   "outputs": [],
   "source": [
    "class Solution(object):\n",
    "    def islandPerimeter(self, grid):\n",
    "        \"\"\"\n",
    "        :type grid: List[List[int]]\n",
    "        :rtype: int\n",
    "        \"\"\"\n",
    "        if len(grid) == 0:\n",
    "            return 0\n",
    "        return self.up(grid) + self.down(grid) + self.left(grid) + self.right(grid)\n",
    "    \n",
    "    def up(self, grid):\n",
    "        res = 0\n",
    "        for row in range(len(grid)):\n",
    "            for col in range(len(grid[0])):\n",
    "                num = grid[row][col]\n",
    "                if num == 1:\n",
    "                    if row == 0:\n",
    "                        res += 1\n",
    "                    elif grid[row - 1][col] == 0:\n",
    "                        res += 1\n",
    "        return res\n",
    "                \n",
    "    def down(self, grid):\n",
    "        res = 0\n",
    "        for row in range(len(grid)):\n",
    "            for col in range(len(grid[0])):\n",
    "                num = grid[row][col]\n",
    "                if num == 1:\n",
    "                    if row == len(grid) - 1:\n",
    "                        res += 1\n",
    "                    elif grid[row + 1][col] == 0:\n",
    "                        res += 1\n",
    "        return res\n",
    "        \n",
    "    def left(self, grid):\n",
    "        res = 0\n",
    "        for row in range(len(grid)):\n",
    "            for col in range(len(grid[0])):\n",
    "                num = grid[row][col]\n",
    "                if num == 1:\n",
    "                    if col == 0:\n",
    "                        res += 1\n",
    "                    elif grid[row][col - 1] == 0:\n",
    "                        res += 1\n",
    "        return res\n",
    "        \n",
    "    def right(self, grid):\n",
    "        res = 0\n",
    "        for row in range(len(grid)):\n",
    "            for col in range(len(grid[0])):\n",
    "                num = grid[row][col]\n",
    "                if num == 1:\n",
    "                    if col == len(grid[0]) - 1:\n",
    "                        res += 1\n",
    "                    elif grid[row][col + 1] == 0:\n",
    "                        res += 1\n",
    "        return res\n",
    "        "
   ]
  },
  {
   "cell_type": "code",
   "execution_count": null,
   "metadata": {},
   "outputs": [],
   "source": []
  }
 ],
 "metadata": {
  "kernelspec": {
   "display_name": "Python 3",
   "language": "python",
   "name": "python3"
  },
  "language_info": {
   "codemirror_mode": {
    "name": "ipython",
    "version": 3
   },
   "file_extension": ".py",
   "mimetype": "text/x-python",
   "name": "python",
   "nbconvert_exporter": "python",
   "pygments_lexer": "ipython3",
   "version": "3.7.4"
  },
  "toc": {
   "base_numbering": 1,
   "nav_menu": {},
   "number_sections": true,
   "sideBar": true,
   "skip_h1_title": false,
   "title_cell": "Table of Contents",
   "title_sidebar": "Contents",
   "toc_cell": false,
   "toc_position": {},
   "toc_section_display": true,
   "toc_window_display": false
  }
 },
 "nbformat": 4,
 "nbformat_minor": 4
}
