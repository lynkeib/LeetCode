{
 "cells": [
  {
   "cell_type": "markdown",
   "metadata": {},
   "source": [
    "# Naive approach"
   ]
  },
  {
   "cell_type": "code",
   "execution_count": 1,
   "metadata": {},
   "outputs": [],
   "source": [
    "class Solution(object):\n",
    "    def canJump(self, nums):\n",
    "        \"\"\"\n",
    "        :type nums: List[int]\n",
    "        :rtype: bool\n",
    "        \"\"\"\n",
    "        if not nums:\n",
    "            return True\n",
    "        current_index = 0\n",
    "        while True:\n",
    "            current_step = nums[current_index]\n",
    "            if current_step == 0:\n",
    "                if current_index == len(nums) - 1:\n",
    "                    return True\n",
    "                return False\n",
    "            max_reach = current_step + current_index\n",
    "            if max_reach >= len(nums) - 1:\n",
    "                return True\n",
    "            max_index = max_reach\n",
    "            for step in range(1, current_step+1):\n",
    "                this_index = current_index + step\n",
    "                this_reach = nums[this_index] + this_index\n",
    "                if this_reach >= len(nums) - 1:\n",
    "                    return True\n",
    "                if nums[this_reach] != 0:\n",
    "                    if this_reach > max_reach:\n",
    "                        max_reach = this_reach\n",
    "                        max_index = this_index\n",
    "            if nums[max_reach] == 0:\n",
    "                current_index += 1\n",
    "            else:\n",
    "                current_index = max_index"
   ]
  },
  {
   "cell_type": "markdown",
   "metadata": {},
   "source": [
    "# Greedy (Fastest)"
   ]
  },
  {
   "cell_type": "code",
   "execution_count": 3,
   "metadata": {},
   "outputs": [],
   "source": [
    "class Solution(object):\n",
    "    def canJump(self, nums):\n",
    "        \"\"\"\n",
    "        :type nums: List[int]\n",
    "        :rtype: bool\n",
    "        \"\"\"\n",
    "        last_position = len(nums) - 1\n",
    "        for i in range(len(nums) - 1, -1, -1):\n",
    "            if nums[i] + i >= last_position:\n",
    "                last_position = i\n",
    "        return last_position == 0 "
   ]
  },
  {
   "cell_type": "code",
   "execution_count": null,
   "metadata": {},
   "outputs": [],
   "source": []
  }
 ],
 "metadata": {
  "kernelspec": {
   "display_name": "Python 3",
   "language": "python",
   "name": "python3"
  },
  "language_info": {
   "codemirror_mode": {
    "name": "ipython",
    "version": 3
   },
   "file_extension": ".py",
   "mimetype": "text/x-python",
   "name": "python",
   "nbconvert_exporter": "python",
   "pygments_lexer": "ipython3",
   "version": "3.7.4"
  },
  "toc": {
   "base_numbering": 1,
   "nav_menu": {},
   "number_sections": true,
   "sideBar": true,
   "skip_h1_title": false,
   "title_cell": "Table of Contents",
   "title_sidebar": "Contents",
   "toc_cell": false,
   "toc_position": {},
   "toc_section_display": true,
   "toc_window_display": false
  }
 },
 "nbformat": 4,
 "nbformat_minor": 4
}
