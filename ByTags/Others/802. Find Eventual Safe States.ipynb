{
 "cells": [
  {
   "cell_type": "code",
   "execution_count": 1,
   "metadata": {
    "ExecuteTime": {
     "end_time": "2020-07-18T22:32:46.881932Z",
     "start_time": "2020-07-18T22:32:46.870833Z"
    }
   },
   "outputs": [],
   "source": [
    "class Solution(object):\n",
    "    \n",
    "    UNVISITED, VISITING, SAFE = 0, 1, 2\n",
    "    \n",
    "    def eventualSafeNodes(self, graph):\n",
    "        \"\"\"\n",
    "        :type graph: List[List[int]]\n",
    "        :rtype: List[int]\n",
    "        \"\"\"\n",
    "        N = len(graph)\n",
    "        status = [self.UNVISITED] * N\n",
    "        res = []\n",
    "        for node in range(N):\n",
    "            self.dfs(graph, node, status)\n",
    "        for node in range(N):\n",
    "            if status[node] == self.SAFE:\n",
    "                res.append(node)\n",
    "        return res\n",
    "                \n",
    "    def dfs(self, graph, node, status):\n",
    "        if status[node] != self.UNVISITED:\n",
    "            return status[node] == self.SAFE\n",
    "        \n",
    "        status[node] = self.VISITING\n",
    "        \n",
    "        for nei in graph[node]:\n",
    "            if status[nei] == self.SAFE:\n",
    "                continue\n",
    "            elif status[nei] == self.VISITING or not self.dfs(graph, nei, status):\n",
    "                return False\n",
    "            \n",
    "        status[node] = self.SAFE\n",
    "        return True\n",
    "                "
   ]
  },
  {
   "cell_type": "code",
   "execution_count": null,
   "metadata": {},
   "outputs": [],
   "source": []
  }
 ],
 "metadata": {
  "kernelspec": {
   "display_name": "Python 3",
   "language": "python",
   "name": "python3"
  },
  "language_info": {
   "codemirror_mode": {
    "name": "ipython",
    "version": 3
   },
   "file_extension": ".py",
   "mimetype": "text/x-python",
   "name": "python",
   "nbconvert_exporter": "python",
   "pygments_lexer": "ipython3",
   "version": "3.7.4"
  },
  "toc": {
   "base_numbering": 1,
   "nav_menu": {},
   "number_sections": true,
   "sideBar": true,
   "skip_h1_title": false,
   "title_cell": "Table of Contents",
   "title_sidebar": "Contents",
   "toc_cell": false,
   "toc_position": {},
   "toc_section_display": true,
   "toc_window_display": false
  }
 },
 "nbformat": 4,
 "nbformat_minor": 4
}
