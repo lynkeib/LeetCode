{
 "cells": [
  {
   "cell_type": "code",
   "execution_count": 1,
   "metadata": {
    "ExecuteTime": {
     "end_time": "2020-07-16T04:32:21.077097Z",
     "start_time": "2020-07-16T04:32:21.063241Z"
    }
   },
   "outputs": [],
   "source": [
    "class Solution(object):\n",
    "    def trapRainWater(self, heightMap):\n",
    "        \"\"\"\n",
    "        :type heightMap: List[List[int]]\n",
    "        :rtype: int\n",
    "        \"\"\"\n",
    "        rows = len(heightMap)\n",
    "        res = 0\n",
    "        if rows == 0:\n",
    "            return res\n",
    "        cols = len(heightMap[0])\n",
    "        heap = []\n",
    "        visited = set([])\n",
    "        for row in range(rows):\n",
    "            thisCell = (heightMap[row][0], row, 0)\n",
    "            visited.add((row, 0))\n",
    "            heapq.heappush(heap, thisCell)\n",
    "            thisCell = (heightMap[row][cols - 1], row, cols - 1)\n",
    "            visited.add((row, cols - 1))\n",
    "            heapq.heappush(heap, thisCell)\n",
    "        for col in range(cols):\n",
    "            thisCell = (heightMap[0][col], 0, col)\n",
    "            visited.add((0, col))\n",
    "            heapq.heappush(heap, thisCell)\n",
    "            thisCell = (heightMap[rows - 1][col], rows - 1, col)\n",
    "            heapq.heappush(heap, thisCell)\n",
    "            visited.add((rows - 1, col))\n",
    "        dirs = (-1, 0, 1, 0, -1)\n",
    "        while heap:\n",
    "            height, row, col = heapq.heappop(heap)\n",
    "            for i in range(4):\n",
    "                nrow, ncol = row + dirs[i], col + dirs[i + 1]\n",
    "                if nrow > -1 and nrow < rows and ncol > -1 and ncol < cols and (nrow, ncol) not in visited:\n",
    "                    nheight = heightMap[nrow][ncol]\n",
    "                    if nheight < height:\n",
    "                        res += height - nheight\n",
    "                        heightMap[nrow][ncol] = height\n",
    "                        visited.add((nrow, ncol))\n",
    "                        heapq.heappush(heap, (height, nrow, ncol))\n",
    "                    else:\n",
    "                        visited.add((nrow, ncol))\n",
    "                        heapq.heappush(heap, (nheight, nrow, ncol))\n",
    "        return res\n",
    "        "
   ]
  },
  {
   "cell_type": "code",
   "execution_count": null,
   "metadata": {},
   "outputs": [],
   "source": []
  }
 ],
 "metadata": {
  "kernelspec": {
   "display_name": "Python 3",
   "language": "python",
   "name": "python3"
  },
  "language_info": {
   "codemirror_mode": {
    "name": "ipython",
    "version": 3
   },
   "file_extension": ".py",
   "mimetype": "text/x-python",
   "name": "python",
   "nbconvert_exporter": "python",
   "pygments_lexer": "ipython3",
   "version": "3.7.4"
  },
  "toc": {
   "base_numbering": 1,
   "nav_menu": {},
   "number_sections": true,
   "sideBar": true,
   "skip_h1_title": false,
   "title_cell": "Table of Contents",
   "title_sidebar": "Contents",
   "toc_cell": false,
   "toc_position": {},
   "toc_section_display": true,
   "toc_window_display": false
  }
 },
 "nbformat": 4,
 "nbformat_minor": 4
}
