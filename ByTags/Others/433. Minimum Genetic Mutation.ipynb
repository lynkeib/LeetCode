{
 "cells": [
  {
   "cell_type": "code",
   "execution_count": 1,
   "metadata": {
    "ExecuteTime": {
     "end_time": "2020-07-07T02:58:56.772887Z",
     "start_time": "2020-07-07T02:58:56.763451Z"
    }
   },
   "outputs": [],
   "source": [
    "class Solution(object):\n",
    "    def minMutation(self, start, end, bank):\n",
    "        \"\"\"\n",
    "        :type start: str\n",
    "        :type end: str\n",
    "        :type bank: List[str]\n",
    "        :rtype: int\n",
    "        \"\"\"\n",
    "        bank = set(bank)\n",
    "        res = 0\n",
    "        if end not in bank:\n",
    "            return -1\n",
    "        queue1, queue2 = [start], [end]\n",
    "        bank.remove(end)\n",
    "        while queue1 and queue2:\n",
    "            if len(queue1) > len(queue2):\n",
    "                queue1, queue2 = queue2, queue1\n",
    "            size = len(queue1)\n",
    "            for _ in range(size):\n",
    "                gene = queue1.pop(0)\n",
    "                for i in range(len(gene)):\n",
    "                    for c in \"ACGT\":\n",
    "                        new_gene = gene[:i] + c + gene[i + 1:]\n",
    "                        if new_gene in queue2:\n",
    "                                return res + 1\n",
    "                        if new_gene in bank and new_gene not in queue1:\n",
    "                            queue1.append(new_gene)\n",
    "            res+=1\n",
    "            for gene in queue1:\n",
    "                bank.remove(gene)\n",
    "        return -1"
   ]
  },
  {
   "cell_type": "code",
   "execution_count": null,
   "metadata": {},
   "outputs": [],
   "source": []
  }
 ],
 "metadata": {
  "kernelspec": {
   "display_name": "Python 3",
   "language": "python",
   "name": "python3"
  },
  "language_info": {
   "codemirror_mode": {
    "name": "ipython",
    "version": 3
   },
   "file_extension": ".py",
   "mimetype": "text/x-python",
   "name": "python",
   "nbconvert_exporter": "python",
   "pygments_lexer": "ipython3",
   "version": "3.7.4"
  },
  "toc": {
   "base_numbering": 1,
   "nav_menu": {},
   "number_sections": true,
   "sideBar": true,
   "skip_h1_title": false,
   "title_cell": "Table of Contents",
   "title_sidebar": "Contents",
   "toc_cell": false,
   "toc_position": {},
   "toc_section_display": true,
   "toc_window_display": false
  }
 },
 "nbformat": 4,
 "nbformat_minor": 4
}
