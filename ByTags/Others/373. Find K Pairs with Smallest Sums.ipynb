{
 "cells": [
  {
   "cell_type": "markdown",
   "metadata": {},
   "source": [
    "# Slower"
   ]
  },
  {
   "cell_type": "code",
   "execution_count": 2,
   "metadata": {
    "ExecuteTime": {
     "end_time": "2020-06-02T02:26:29.467867Z",
     "start_time": "2020-06-02T02:26:29.459900Z"
    }
   },
   "outputs": [],
   "source": [
    "class Solution(object):\n",
    "    def kSmallestPairs(self, nums1, nums2, k):\n",
    "        \"\"\"\n",
    "        :type nums1: List[int]\n",
    "        :type nums2: List[int]\n",
    "        :type k: int\n",
    "        :rtype: List[List[int]]\n",
    "        \"\"\"\n",
    "        if len(nums1) == 0 or len(nums2) == 0:\n",
    "            return []\n",
    "        heap = []\n",
    "        for index1 in range(len(nums1)):\n",
    "            for index2 in range(len(nums2)):\n",
    "                Sum = nums1[index1] + nums2[index2]\n",
    "                if len(heap) < k:\n",
    "                    heapq.heappush(heap, (-Sum, nums1[index1], nums2[index2]))\n",
    "                elif len(heap) >= k:\n",
    "                    if Sum < -heap[0][0]:\n",
    "                        heapq.heappushpop(heap, (-Sum, nums1[index1], nums2[index2]))\n",
    "        return [[pair[1], pair[2]] for pair in heap]"
   ]
  },
  {
   "cell_type": "markdown",
   "metadata": {},
   "source": [
    "# Faster"
   ]
  },
  {
   "cell_type": "code",
   "execution_count": 3,
   "metadata": {
    "ExecuteTime": {
     "end_time": "2020-06-02T02:54:24.210039Z",
     "start_time": "2020-06-02T02:54:24.202069Z"
    }
   },
   "outputs": [],
   "source": [
    "class Solution(object):\n",
    "    def kSmallestPairs(self, nums1, nums2, k):\n",
    "        \"\"\"\n",
    "        :type nums1: List[int]\n",
    "        :type nums2: List[int]\n",
    "        :type k: int\n",
    "        :rtype: List[List[int]]\n",
    "        \"\"\"\n",
    "        heap = []\n",
    "        def push(index1, index2):\n",
    "            if index1 < len(nums1) and index2 < len(nums2):\n",
    "                Sum = nums1[index1] + nums2[index2]\n",
    "                heapq.heappush(heap, (Sum, index1, index2))\n",
    "        push(0, 0)\n",
    "        res = []\n",
    "        while len(res) != k and heap:\n",
    "            _, idx1, idx2 = heapq.heappop(heap)\n",
    "            \n",
    "            res.append([nums1[idx1], nums2[idx2]])\n",
    "            push(idx1, idx2 + 1)\n",
    "            if idx2 == 0:\n",
    "                push(idx1 + 1, 0)\n",
    "        return res"
   ]
  },
  {
   "cell_type": "code",
   "execution_count": null,
   "metadata": {},
   "outputs": [],
   "source": []
  }
 ],
 "metadata": {
  "kernelspec": {
   "display_name": "Python 3",
   "language": "python",
   "name": "python3"
  },
  "language_info": {
   "codemirror_mode": {
    "name": "ipython",
    "version": 3
   },
   "file_extension": ".py",
   "mimetype": "text/x-python",
   "name": "python",
   "nbconvert_exporter": "python",
   "pygments_lexer": "ipython3",
   "version": "3.7.4"
  },
  "toc": {
   "base_numbering": 1,
   "nav_menu": {},
   "number_sections": true,
   "sideBar": true,
   "skip_h1_title": false,
   "title_cell": "Table of Contents",
   "title_sidebar": "Contents",
   "toc_cell": false,
   "toc_position": {},
   "toc_section_display": true,
   "toc_window_display": false
  }
 },
 "nbformat": 4,
 "nbformat_minor": 4
}
