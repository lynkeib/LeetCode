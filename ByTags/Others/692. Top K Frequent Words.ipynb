{
 "cells": [
  {
   "cell_type": "code",
   "execution_count": 1,
   "metadata": {
    "ExecuteTime": {
     "end_time": "2020-06-02T03:34:44.103096Z",
     "start_time": "2020-06-02T03:34:44.093102Z"
    }
   },
   "outputs": [],
   "source": [
    "class Ele(object):\n",
    "    def __init__(self, word, count):\n",
    "        self.word = word\n",
    "        self.count = count\n",
    "    \n",
    "    def __lt__(self, other):\n",
    "        if self.count < other.count:\n",
    "            return True\n",
    "        if self.count == other.count:\n",
    "            if self.word > other.word:\n",
    "                return True\n",
    "        return False\n",
    "\n",
    "class Solution(object):\n",
    "    def topKFrequent(self, words, k):\n",
    "        \"\"\"\n",
    "        :type words: List[str]\n",
    "        :type k: int\n",
    "        :rtype: List[str]\n",
    "        \"\"\"\n",
    "        counter = collections.Counter(words)\n",
    "        heap = []\n",
    "        for key, value in counter.items():\n",
    "            ele = Ele(key, value)\n",
    "            if len(heap) < k:\n",
    "                heapq.heappush(heap, ele)\n",
    "            elif len(heap) >= k:\n",
    "                if value > heap[0].count:\n",
    "                    heapq.heappushpop(heap, ele)\n",
    "                elif value == heap[0].count and key < heap[0].word:\n",
    "                    heapq.heappushpop(heap, ele)\n",
    "        # print([ele.word for ele in heap])\n",
    "        res = []\n",
    "        while len(res) < k:\n",
    "            res.append(heapq.heappop(heap).word)\n",
    "        return res[::-1]\n"
   ]
  },
  {
   "cell_type": "code",
   "execution_count": null,
   "metadata": {},
   "outputs": [],
   "source": []
  }
 ],
 "metadata": {
  "kernelspec": {
   "display_name": "Python 3",
   "language": "python",
   "name": "python3"
  },
  "language_info": {
   "codemirror_mode": {
    "name": "ipython",
    "version": 3
   },
   "file_extension": ".py",
   "mimetype": "text/x-python",
   "name": "python",
   "nbconvert_exporter": "python",
   "pygments_lexer": "ipython3",
   "version": "3.7.4"
  },
  "toc": {
   "base_numbering": 1,
   "nav_menu": {},
   "number_sections": true,
   "sideBar": true,
   "skip_h1_title": false,
   "title_cell": "Table of Contents",
   "title_sidebar": "Contents",
   "toc_cell": false,
   "toc_position": {},
   "toc_section_display": true,
   "toc_window_display": false
  }
 },
 "nbformat": 4,
 "nbformat_minor": 4
}
