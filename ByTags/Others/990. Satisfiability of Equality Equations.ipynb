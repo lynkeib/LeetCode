{
 "cells": [
  {
   "cell_type": "code",
   "execution_count": 1,
   "metadata": {
    "ExecuteTime": {
     "end_time": "2020-07-07T03:11:27.116391Z",
     "start_time": "2020-07-07T03:11:27.106779Z"
    }
   },
   "outputs": [],
   "source": [
    "class Solution(object):\n",
    "    def equationsPossible(self, equations):\n",
    "        \"\"\"\n",
    "        :type equations: List[str]\n",
    "        :rtype: bool\n",
    "        \"\"\"\n",
    "        parents = [i for i in range(26)]\n",
    "        for equ in equations:\n",
    "            var1, var2 = ord(equ[0]), ord(equ[3])\n",
    "            # print(var1, var2)\n",
    "            p1 = self.find(parents, var1 - ord('a'))\n",
    "            p2 = self.find(parents, var2 - ord('a'))\n",
    "            if equ[1:3] == \"==\":\n",
    "                parents[p2] = p1\n",
    "        for equ in equations:\n",
    "            var1, var2 = ord(equ[0]), ord(equ[3])\n",
    "            # print(var1, var2)\n",
    "            p1 = self.find(parents, var1 - ord('a'))\n",
    "            p2 = self.find(parents, var2 - ord('a'))\n",
    "            if equ[1:3] == \"!=\":\n",
    "                if p1 == p2:\n",
    "                    return False\n",
    "        return True\n",
    "    \n",
    "    def find(self, parents, num):\n",
    "        if parents[num] != num:\n",
    "            return self.find(parents, parents[num])\n",
    "        return num"
   ]
  },
  {
   "cell_type": "code",
   "execution_count": null,
   "metadata": {},
   "outputs": [],
   "source": []
  }
 ],
 "metadata": {
  "kernelspec": {
   "display_name": "Python 3",
   "language": "python",
   "name": "python3"
  },
  "language_info": {
   "codemirror_mode": {
    "name": "ipython",
    "version": 3
   },
   "file_extension": ".py",
   "mimetype": "text/x-python",
   "name": "python",
   "nbconvert_exporter": "python",
   "pygments_lexer": "ipython3",
   "version": "3.7.4"
  },
  "toc": {
   "base_numbering": 1,
   "nav_menu": {},
   "number_sections": true,
   "sideBar": true,
   "skip_h1_title": false,
   "title_cell": "Table of Contents",
   "title_sidebar": "Contents",
   "toc_cell": false,
   "toc_position": {},
   "toc_section_display": true,
   "toc_window_display": false
  }
 },
 "nbformat": 4,
 "nbformat_minor": 4
}
