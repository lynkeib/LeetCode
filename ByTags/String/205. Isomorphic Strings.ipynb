{
 "cells": [
  {
   "cell_type": "code",
   "execution_count": 1,
   "metadata": {
    "ExecuteTime": {
     "end_time": "2019-10-24T02:23:47.347294Z",
     "start_time": "2019-10-24T02:23:47.339314Z"
    }
   },
   "outputs": [],
   "source": [
    "class Solution(object):\n",
    "    def isIsomorphic(self, s, t):\n",
    "        \"\"\"\n",
    "        :type s: str\n",
    "        :type t: str\n",
    "        :rtype: bool\n",
    "        \"\"\"\n",
    "        same_positions = collections.defaultdict(list)\n",
    "        for index in range(len(s)):\n",
    "            same_positions[s[index]].append(index)\n",
    "        same = same_positions.values()\n",
    "        print(same)\n",
    "        seen = set()\n",
    "        for sa in same:\n",
    "            if t[sa[0]] in seen:\n",
    "                return False\n",
    "            if len(s) > 1:\n",
    "                b = t[sa[0]]\n",
    "                # print(b)\n",
    "                for index in range(1, len(sa)):\n",
    "                    if t[sa[index]] != b:\n",
    "                        return False\n",
    "            else:\n",
    "                continue\n",
    "            seen.add(t[sa[0]])\n",
    "        return True"
   ]
  },
  {
   "cell_type": "code",
   "execution_count": null,
   "metadata": {},
   "outputs": [],
   "source": []
  }
 ],
 "metadata": {
  "kernelspec": {
   "display_name": "Python 3",
   "language": "python",
   "name": "python3"
  },
  "language_info": {
   "codemirror_mode": {
    "name": "ipython",
    "version": 3
   },
   "file_extension": ".py",
   "mimetype": "text/x-python",
   "name": "python",
   "nbconvert_exporter": "python",
   "pygments_lexer": "ipython3",
   "version": "3.7.1"
  },
  "toc": {
   "base_numbering": 1,
   "nav_menu": {},
   "number_sections": true,
   "sideBar": true,
   "skip_h1_title": false,
   "title_cell": "Table of Contents",
   "title_sidebar": "Contents",
   "toc_cell": false,
   "toc_position": {},
   "toc_section_display": true,
   "toc_window_display": false
  }
 },
 "nbformat": 4,
 "nbformat_minor": 2
}
