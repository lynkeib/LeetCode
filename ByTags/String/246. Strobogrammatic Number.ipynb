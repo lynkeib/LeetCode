{
 "cells": [
  {
   "cell_type": "code",
   "execution_count": 1,
   "metadata": {
    "ExecuteTime": {
     "end_time": "2019-10-26T07:25:28.427282Z",
     "start_time": "2019-10-26T07:25:28.418866Z"
    }
   },
   "outputs": [],
   "source": [
    "class Solution(object):\n",
    "    def isStrobogrammatic(self, num):\n",
    "        \"\"\"\n",
    "        :type num: str\n",
    "        :rtype: bool\n",
    "        \"\"\"\n",
    "        ok_set = {'1','6','8','9','0'}\n",
    "        # res = [''] * len(num)\n",
    "        left, right = 0, len(num) - 1\n",
    "        while left <= right:\n",
    "            if num[left] not in ok_set or num[right] not in ok_set:\n",
    "                return False\n",
    "            if num[left] == '6':\n",
    "                if num[right] != '9':\n",
    "                    return False\n",
    "            elif num[left] == '9':\n",
    "                if num[right] != '6':\n",
    "                    return False\n",
    "            else:\n",
    "                if num[left] != num[right]:\n",
    "                    return False\n",
    "            left += 1\n",
    "            right -= 1\n",
    "        return True"
   ]
  },
  {
   "cell_type": "code",
   "execution_count": null,
   "metadata": {},
   "outputs": [],
   "source": []
  }
 ],
 "metadata": {
  "kernelspec": {
   "display_name": "Python 3",
   "language": "python",
   "name": "python3"
  },
  "language_info": {
   "codemirror_mode": {
    "name": "ipython",
    "version": 3
   },
   "file_extension": ".py",
   "mimetype": "text/x-python",
   "name": "python",
   "nbconvert_exporter": "python",
   "pygments_lexer": "ipython3",
   "version": "3.7.1"
  },
  "toc": {
   "base_numbering": 1,
   "nav_menu": {},
   "number_sections": true,
   "sideBar": true,
   "skip_h1_title": false,
   "title_cell": "Table of Contents",
   "title_sidebar": "Contents",
   "toc_cell": false,
   "toc_position": {},
   "toc_section_display": true,
   "toc_window_display": false
  }
 },
 "nbformat": 4,
 "nbformat_minor": 2
}
