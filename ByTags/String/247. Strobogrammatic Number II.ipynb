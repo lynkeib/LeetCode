{
 "cells": [
  {
   "cell_type": "markdown",
   "metadata": {},
   "source": [
    "# Time: 27%"
   ]
  },
  {
   "cell_type": "code",
   "execution_count": 1,
   "metadata": {
    "ExecuteTime": {
     "end_time": "2019-10-26T07:46:10.370259Z",
     "start_time": "2019-10-26T07:46:10.357637Z"
    }
   },
   "outputs": [],
   "source": [
    "class Solution(object):\n",
    "    def findStrobogrammatic(self, n):\n",
    "        \"\"\"\n",
    "        :type n: int\n",
    "        :rtype: List[str]\n",
    "        \"\"\"\n",
    "        curr = [''] * n\n",
    "        res = []\n",
    "        self.dfs(curr, 0, n - 1, res)\n",
    "        return res\n",
    "    \n",
    "    def dfs(self, curr, left, right, res):\n",
    "        if left > right:\n",
    "            res.append(''.join(curr))\n",
    "            return \n",
    "        if left == right:\n",
    "            for num in ('0', '1', '8'):\n",
    "                if left == 0 and num == '0' and len(curr) != 1:\n",
    "                    continue\n",
    "                else:\n",
    "                    curr[left] = num\n",
    "                    self.dfs(curr, left + 1, right - 1, res)\n",
    "                    curr[left] = ''\n",
    "            return \n",
    "        curr[left] = '6'\n",
    "        curr[right] = '9'\n",
    "        self.dfs(curr, left + 1, right - 1, res)\n",
    "        curr[left] = '9'\n",
    "        curr[right] = '6'\n",
    "        self.dfs(curr, left + 1, right - 1, res)\n",
    "        curr[left] = ''\n",
    "        curr[right] = ''\n",
    "        for num in ('0', '1', '8'):\n",
    "            if left == 0 and num == '0':\n",
    "                continue\n",
    "            else:\n",
    "                curr[left] = num\n",
    "                curr[right] = num\n",
    "                self.dfs(curr, left + 1, right - 1, res)\n",
    "                curr[left] = ''\n",
    "                curr[right] = ''\n",
    "        return "
   ]
  },
  {
   "cell_type": "markdown",
   "metadata": {},
   "source": [
    "# Time: 50%"
   ]
  },
  {
   "cell_type": "code",
   "execution_count": 2,
   "metadata": {
    "ExecuteTime": {
     "end_time": "2019-10-26T07:54:46.454894Z",
     "start_time": "2019-10-26T07:54:46.447456Z"
    }
   },
   "outputs": [],
   "source": [
    "class Solution(object):\n",
    "    oddlist = ['0', '1', '8']\n",
    "    evenlist = ['11', '69', '88', '96', '00']\n",
    "    def findStrobogrammatic(self, n):\n",
    "        \"\"\"\n",
    "        :type n: int\n",
    "        :rtype: List[str]\n",
    "        \"\"\"\n",
    "        if n == 1:\n",
    "            return self.oddlist\n",
    "        if n == 2:\n",
    "            return self.evenlist[:-1]\n",
    "        if n % 2 == 0:\n",
    "            preList, insertList = self.findStrobogrammatic(n - 2), self.evenlist\n",
    "        else:\n",
    "            preList, insertList = self.findStrobogrammatic(n - 1), self.oddlist\n",
    "        mid = (n - 1) // 2\n",
    "        res = []\n",
    "        for insert in insertList:\n",
    "            for pre in preList:\n",
    "                res.append(pre[:mid] + insert + pre[mid:])\n",
    "        return res"
   ]
  },
  {
   "cell_type": "markdown",
   "metadata": {},
   "source": [
    "# Time: 90+%"
   ]
  },
  {
   "cell_type": "code",
   "execution_count": 3,
   "metadata": {
    "ExecuteTime": {
     "end_time": "2019-10-26T07:55:35.723862Z",
     "start_time": "2019-10-26T07:55:35.716204Z"
    }
   },
   "outputs": [],
   "source": [
    "class Solution(object):\n",
    "    oddlist = ['0', '1', '8']\n",
    "    evenlist = ['11', '69', '88', '96', '00']\n",
    "    def findStrobogrammatic(self, n):\n",
    "        \"\"\"\n",
    "        :type n: int\n",
    "        :rtype: List[str]\n",
    "        \"\"\"\n",
    "        if n == 1:\n",
    "            return self.oddlist\n",
    "        if n == 2:\n",
    "            return self.evenlist[:-1]\n",
    "        if n % 2 == 0:\n",
    "            preList, insertList = self.findStrobogrammatic(n - 2), self.evenlist\n",
    "        else:\n",
    "            preList, insertList = self.findStrobogrammatic(n - 1), self.oddlist\n",
    "        mid = (n - 1) // 2\n",
    "        # res = []\n",
    "        # for insert in insertList:\n",
    "        #     for pre in preList:\n",
    "        #         res.append(pre[:mid] + insert + pre[mid:])\n",
    "        return [pre[:mid] + insert + pre[mid:] for insert in insertList for pre in preList]"
   ]
  },
  {
   "cell_type": "code",
   "execution_count": null,
   "metadata": {},
   "outputs": [],
   "source": []
  }
 ],
 "metadata": {
  "kernelspec": {
   "display_name": "Python 3",
   "language": "python",
   "name": "python3"
  },
  "language_info": {
   "codemirror_mode": {
    "name": "ipython",
    "version": 3
   },
   "file_extension": ".py",
   "mimetype": "text/x-python",
   "name": "python",
   "nbconvert_exporter": "python",
   "pygments_lexer": "ipython3",
   "version": "3.7.1"
  },
  "toc": {
   "base_numbering": 1,
   "nav_menu": {},
   "number_sections": true,
   "sideBar": true,
   "skip_h1_title": false,
   "title_cell": "Table of Contents",
   "title_sidebar": "Contents",
   "toc_cell": false,
   "toc_position": {},
   "toc_section_display": true,
   "toc_window_display": false
  }
 },
 "nbformat": 4,
 "nbformat_minor": 2
}
