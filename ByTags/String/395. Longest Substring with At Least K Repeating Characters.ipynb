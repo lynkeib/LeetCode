{
 "cells": [
  {
   "cell_type": "markdown",
   "metadata": {},
   "source": [
    "# Kinda of brute force"
   ]
  },
  {
   "cell_type": "code",
   "execution_count": 3,
   "metadata": {
    "ExecuteTime": {
     "end_time": "2019-10-27T05:24:03.070902Z",
     "start_time": "2019-10-27T05:24:03.062192Z"
    }
   },
   "outputs": [],
   "source": [
    "class Solution(object):\n",
    "    def longestSubstring(self, s, k):\n",
    "        \"\"\"\n",
    "        :type s: str\n",
    "        :type k: int\n",
    "        :rtype: int\n",
    "        \"\"\"\n",
    "        if not s:\n",
    "            return 0\n",
    "        res = \"\"\n",
    "        counter_s = collections.Counter(s)\n",
    "        if min(counter_s.values()) >= k:\n",
    "            return len(s)\n",
    "        for start in range(len(s)):\n",
    "            if counter_s[s[start]] < k:\n",
    "                continue\n",
    "            counter = 0\n",
    "            this = dict()\n",
    "            for end in range(start, len(s)):\n",
    "                if s[end] in this:\n",
    "                    this[s[end]] += 1\n",
    "                    if this[s[end]] == k:\n",
    "                        counter += 1\n",
    "                else:\n",
    "                    this[s[end]] = 1\n",
    "                    if this[s[end]] == k:\n",
    "                        counter += 1\n",
    "                if end - start + 1 > len(res) and counter == len(this):\n",
    "                    res = s[start:end+1]\n",
    "            counter_s[s[start]] -= 1\n",
    "        return len(res)"
   ]
  },
  {
   "cell_type": "markdown",
   "metadata": {},
   "source": [
    "# Two Pointers, should be linear : $O(26 * n) = O(n)$"
   ]
  },
  {
   "cell_type": "code",
   "execution_count": 4,
   "metadata": {
    "ExecuteTime": {
     "end_time": "2019-10-27T05:55:03.306773Z",
     "start_time": "2019-10-27T05:55:03.297576Z"
    }
   },
   "outputs": [],
   "source": [
    "class Solution(object):\n",
    "    def longestSubstring(self, s, k):\n",
    "        \"\"\"\n",
    "        :type s: str\n",
    "        :type k: int\n",
    "        :rtype: int\n",
    "        \"\"\"\n",
    "        # letter_number is the number of letters we are going to consider in this round, and in total, we nned to consider all 26 lettersr\n",
    "        res = 0\n",
    "        for letter_number in range(1, 27):\n",
    "            left, right = 0, 0\n",
    "            unique_letter = 0\n",
    "            count_gt_k = 0\n",
    "            # counter = {chr(i):0 for i in range(ord('a'), ord('z') + 1)}\n",
    "            counter = dict()\n",
    "            while right < len(s):\n",
    "                # print(right)\n",
    "                # print(counter)\n",
    "                # print()\n",
    "                if unique_letter <= letter_number:\n",
    "                    if s[right] not in counter:\n",
    "                        counter[s[right]] = 1\n",
    "                        unique_letter += 1\n",
    "                    else:\n",
    "                        counter[s[right]] += 1\n",
    "                    if counter[s[right]] == k:\n",
    "                        count_gt_k += 1\n",
    "                    right += 1\n",
    "                else: # unique_letter > letter_number\n",
    "                    counter[s[left]] -= 1\n",
    "                    if counter[s[left]] == k - 1:\n",
    "                        count_gt_k -= 1\n",
    "                    if counter[s[left]] == 0:\n",
    "                        unique_letter -= 1\n",
    "                        del counter[s[left]]\n",
    "                    left += 1\n",
    "                if unique_letter == letter_number and count_gt_k == len(counter):\n",
    "                    res = max(res, right - left)\n",
    "        return res"
   ]
  },
  {
   "cell_type": "markdown",
   "metadata": {},
   "source": [
    "# Recursive"
   ]
  },
  {
   "cell_type": "code",
   "execution_count": 5,
   "metadata": {
    "ExecuteTime": {
     "end_time": "2019-10-27T06:00:30.012106Z",
     "start_time": "2019-10-27T06:00:30.004880Z"
    }
   },
   "outputs": [],
   "source": [
    "class Solution(object):\n",
    "    def longestSubstring(self, s, k):\n",
    "        \"\"\"\n",
    "        :type s: str\n",
    "        :type k: int\n",
    "        :rtype: int\n",
    "        \"\"\"\n",
    "        if len(s) < k:\n",
    "            return 0\n",
    "        counter = collections.Counter(s)\n",
    "        if min(counter.values()) >= k:\n",
    "            return len(s)\n",
    "        for c in counter:\n",
    "            if counter[c] < k:\n",
    "                return max(self.longestSubstring(j, k) for j in s.split(c))\n",
    "        return len(s)"
   ]
  },
  {
   "cell_type": "code",
   "execution_count": null,
   "metadata": {},
   "outputs": [],
   "source": []
  }
 ],
 "metadata": {
  "kernelspec": {
   "display_name": "Python 3",
   "language": "python",
   "name": "python3"
  },
  "language_info": {
   "codemirror_mode": {
    "name": "ipython",
    "version": 3
   },
   "file_extension": ".py",
   "mimetype": "text/x-python",
   "name": "python",
   "nbconvert_exporter": "python",
   "pygments_lexer": "ipython3",
   "version": "3.7.1"
  },
  "toc": {
   "base_numbering": 1,
   "nav_menu": {},
   "number_sections": true,
   "sideBar": true,
   "skip_h1_title": false,
   "title_cell": "Table of Contents",
   "title_sidebar": "Contents",
   "toc_cell": false,
   "toc_position": {},
   "toc_section_display": true,
   "toc_window_display": false
  }
 },
 "nbformat": 4,
 "nbformat_minor": 2
}
