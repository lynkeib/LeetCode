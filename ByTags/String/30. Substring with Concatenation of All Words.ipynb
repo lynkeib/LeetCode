{
 "cells": [
  {
   "cell_type": "code",
   "execution_count": 5,
   "metadata": {
    "ExecuteTime": {
     "end_time": "2019-10-27T03:25:03.788657Z",
     "start_time": "2019-10-27T03:25:03.781338Z"
    }
   },
   "outputs": [],
   "source": [
    "class Solution(object):\n",
    "    def findSubstring(self, s, words):\n",
    "        \"\"\"\n",
    "        :type s: str\n",
    "        :type words: List[str]\n",
    "        :rtype: List[int]\n",
    "        \"\"\"\n",
    "        if not words:\n",
    "            return \n",
    "        single_length = len(words[0])\n",
    "        count_words = collections.Counter(words)\n",
    "        print(count_words)\n",
    "        index = 0\n",
    "        res = []\n",
    "        while index < len(s) - len(words) * single_length + 1:\n",
    "            new_counter = count_words.copy()\n",
    "            counter = 0\n",
    "            end = index\n",
    "            # print('index', index)\n",
    "            # print(s[end:end+single_length])\n",
    "            while end + single_length < len(s) + 1 and s[end:end+single_length] in new_counter and new_counter[s[end:end+single_length]] > 0:\n",
    "                new_counter[s[end:end+single_length]] -= 1\n",
    "                if new_counter[s[end:end+single_length]] == 0:\n",
    "                    counter += 1\n",
    "                end = end+single_length\n",
    "            #     print('next end', end)\n",
    "            # print(counter)\n",
    "            if counter == len(count_words):\n",
    "                res.append(index)\n",
    "            index += 1\n",
    "        return res"
   ]
  },
  {
   "cell_type": "code",
   "execution_count": null,
   "metadata": {},
   "outputs": [],
   "source": []
  }
 ],
 "metadata": {
  "kernelspec": {
   "display_name": "Python 3",
   "language": "python",
   "name": "python3"
  },
  "language_info": {
   "codemirror_mode": {
    "name": "ipython",
    "version": 3
   },
   "file_extension": ".py",
   "mimetype": "text/x-python",
   "name": "python",
   "nbconvert_exporter": "python",
   "pygments_lexer": "ipython3",
   "version": "3.7.1"
  },
  "toc": {
   "base_numbering": 1,
   "nav_menu": {},
   "number_sections": true,
   "sideBar": true,
   "skip_h1_title": false,
   "title_cell": "Table of Contents",
   "title_sidebar": "Contents",
   "toc_cell": false,
   "toc_position": {},
   "toc_section_display": true,
   "toc_window_display": false
  }
 },
 "nbformat": 4,
 "nbformat_minor": 2
}
