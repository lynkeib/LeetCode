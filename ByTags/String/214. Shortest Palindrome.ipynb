{
 "cells": [
  {
   "cell_type": "markdown",
   "metadata": {},
   "source": [
    "# Didn't pass 110"
   ]
  },
  {
   "cell_type": "code",
   "execution_count": 1,
   "metadata": {
    "ExecuteTime": {
     "end_time": "2019-10-28T04:42:11.764092Z",
     "start_time": "2019-10-28T04:42:11.750795Z"
    }
   },
   "outputs": [],
   "source": [
    "class Solution(object):\n",
    "    def shortestPalindrome(self, s):\n",
    "        \"\"\"\n",
    "        :type s: str\n",
    "        :rtype: str\n",
    "        \"\"\"\n",
    "        index = 0\n",
    "        length = len(s)\n",
    "        while index < length - 1 and s[index] == s[index + 1]:\n",
    "            index += 1\n",
    "        left_part = s[index + 1:]\n",
    "        rev_s = left_part[::-1]\n",
    "        new_s = rev_s + s\n",
    "        # print(new_s)\n",
    "        mid_point = (length - 1) // 2\n",
    "        ## find the pivot point\n",
    "        res = [new_s]\n",
    "        for pivot in range(mid_point, length - 1):\n",
    "            self.isValid(new_s, pivot, pivot, res, length)\n",
    "            self.isValid(new_s, pivot, pivot + 1, res, length)\n",
    "            \n",
    "        rev_s = s[::-1]\n",
    "        new_s = rev_s[:-1] + s\n",
    "        \n",
    "        for pivot in range(mid_point, length - 1):\n",
    "            self.isValid(new_s, pivot, pivot, res, length)\n",
    "            self.isValid(new_s, pivot, pivot + 1, res, length)\n",
    "            \n",
    "        return res[0]\n",
    "    \n",
    "    def isValid(self, s, left, right, res, original_length):\n",
    "        while left >= 0 and right < len(s) and s[left] == s[right]:\n",
    "            left -= 1\n",
    "            right += 1\n",
    "        if left != -1:\n",
    "            return \n",
    "        if right < original_length:\n",
    "            return \n",
    "        if right - left - 1 < len(res[0]):\n",
    "            res[0] = s[left+1:right]\n",
    "        return"
   ]
  },
  {
   "cell_type": "code",
   "execution_count": null,
   "metadata": {},
   "outputs": [],
   "source": []
  }
 ],
 "metadata": {
  "kernelspec": {
   "display_name": "Python 3",
   "language": "python",
   "name": "python3"
  },
  "language_info": {
   "codemirror_mode": {
    "name": "ipython",
    "version": 3
   },
   "file_extension": ".py",
   "mimetype": "text/x-python",
   "name": "python",
   "nbconvert_exporter": "python",
   "pygments_lexer": "ipython3",
   "version": "3.7.1"
  },
  "toc": {
   "base_numbering": 1,
   "nav_menu": {},
   "number_sections": true,
   "sideBar": true,
   "skip_h1_title": false,
   "title_cell": "Table of Contents",
   "title_sidebar": "Contents",
   "toc_cell": false,
   "toc_position": {},
   "toc_section_display": true,
   "toc_window_display": false
  }
 },
 "nbformat": 4,
 "nbformat_minor": 2
}
