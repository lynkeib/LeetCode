{
 "cells": [
  {
   "cell_type": "code",
   "execution_count": 1,
   "metadata": {
    "ExecuteTime": {
     "end_time": "2020-05-09T03:12:25.6817120Z",
     "start_time": "2020-05-09T03:12:24.496Z"
    }
   },
   "outputs": [],
   "source": [
    "public class Solution {\n",
    "    public int LengthOfLongestSubstringKDistinct(string s, int k) {\n",
    "        int slow = 0;\n",
    "        int res = 0;\n",
    "        var counter = new Dictionary<char, int>();\n",
    "        for(int fast = 0; fast < s.Length + 1; fast++){\n",
    "            while(counter.Keys.Count > k && slow < fast){\n",
    "                var c = s[slow];\n",
    "                counter[c]--;\n",
    "                if(counter[c] == 0){\n",
    "                    counter.Remove(c);\n",
    "                }\n",
    "                slow++;\n",
    "            }\n",
    "            if(counter.Keys.Count <= k){\n",
    "                res = Math.Max(res, fast - slow);\n",
    "            }\n",
    "            if(fast == s.Length){\n",
    "                break;\n",
    "            }\n",
    "            var cc = s[fast];\n",
    "            if(!counter.ContainsKey(cc)){\n",
    "                counter[cc] = 0;\n",
    "            }\n",
    "            counter[cc]++;\n",
    "        }\n",
    "        return res;\n",
    "    }\n",
    "}"
   ]
  },
  {
   "cell_type": "code",
   "execution_count": null,
   "metadata": {},
   "outputs": [],
   "source": []
  }
 ],
 "metadata": {
  "kernelspec": {
   "display_name": ".NET (C#)",
   "language": "C#",
   "name": ".net-csharp"
  },
  "language_info": {
   "file_extension": ".cs",
   "mimetype": "text/x-csharp",
   "name": "C#",
   "pygments_lexer": "csharp",
   "version": "8.0"
  },
  "toc": {
   "base_numbering": 1,
   "nav_menu": {},
   "number_sections": true,
   "sideBar": true,
   "skip_h1_title": false,
   "title_cell": "Table of Contents",
   "title_sidebar": "Contents",
   "toc_cell": false,
   "toc_position": {},
   "toc_section_display": true,
   "toc_window_display": false
  }
 },
 "nbformat": 4,
 "nbformat_minor": 4
}
