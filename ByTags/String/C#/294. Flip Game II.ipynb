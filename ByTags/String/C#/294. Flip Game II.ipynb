{
 "cells": [
  {
   "cell_type": "code",
   "execution_count": 1,
   "metadata": {
    "ExecuteTime": {
     "end_time": "2020-05-03T06:39:32.7037260Z",
     "start_time": "2020-05-03T06:39:31.661Z"
    }
   },
   "outputs": [],
   "source": [
    "public class Solution {\n",
    "    public bool CanWin(string s) {\n",
    "        return helper(s, 1);\n",
    "    }\n",
    "    \n",
    "    public bool helper(string s, int player){\n",
    "        if(player == 1){\n",
    "            for(int i = 0; i < s.Length - 1; i++){\n",
    "                if(s[i] == '+' && s[i + 1] == '+'){\n",
    "                    var new_string = Flip(s, i);\n",
    "                    if(helper(new_string, 2)){\n",
    "                        return true;\n",
    "                    }\n",
    "                }\n",
    "            }\n",
    "            return false;\n",
    "        }else{\n",
    "            var res = true;\n",
    "            for(int i = 0; i < s.Length - 1; i++){\n",
    "                if(s[i] == '+' && s[i + 1] == '+'){\n",
    "                    var new_string = Flip(s, i);\n",
    "                    res = res && helper(new_string, 1);\n",
    "                }\n",
    "            }\n",
    "            return res;\n",
    "        }\n",
    "    }\n",
    "    \n",
    "    public string Flip(string s, int i){\n",
    "        var sb = new StringBuilder(s);\n",
    "        sb[i] = '-';\n",
    "        sb[i + 1] = '-';\n",
    "        var theString = sb.ToString();\n",
    "        return theString;\n",
    "    }\n",
    "}"
   ]
  },
  {
   "cell_type": "code",
   "execution_count": null,
   "metadata": {},
   "outputs": [],
   "source": []
  }
 ],
 "metadata": {
  "kernelspec": {
   "display_name": ".NET (C#)",
   "language": "C#",
   "name": ".net-csharp"
  },
  "language_info": {
   "file_extension": ".cs",
   "mimetype": "text/x-csharp",
   "name": "C#",
   "pygments_lexer": "csharp",
   "version": "8.0"
  },
  "toc": {
   "base_numbering": 1,
   "nav_menu": {},
   "number_sections": true,
   "sideBar": true,
   "skip_h1_title": false,
   "title_cell": "Table of Contents",
   "title_sidebar": "Contents",
   "toc_cell": false,
   "toc_position": {},
   "toc_section_display": true,
   "toc_window_display": false
  }
 },
 "nbformat": 4,
 "nbformat_minor": 4
}
