{
 "cells": [
  {
   "cell_type": "code",
   "execution_count": 1,
   "metadata": {
    "ExecuteTime": {
     "end_time": "2020-04-21T04:29:24.9110180Z",
     "start_time": "2020-04-21T04:29:23.856Z"
    }
   },
   "outputs": [],
   "source": [
    "public class Solution {\n",
    "    public bool IsIsomorphic(string s, string t) {\n",
    "        if(s.Length != t.Length){\n",
    "            return false;\n",
    "        }\n",
    "        var pos = new char[s.Length];\n",
    "        var re = new Dictionary<char, char>();\n",
    "        for (int index = 0; index < s.Length; index++)\n",
    "        {\n",
    "            if(re.ContainsKey(s[index])){\n",
    "                pos[index] = re[s[index]];\n",
    "            }else{\n",
    "                re[s[index]] = (char)index;\n",
    "                pos[index] = re[s[index]];\n",
    "            }\n",
    "        }\n",
    "        var sp = new string(pos);\n",
    "        pos = new char[s.Length];\n",
    "        re.Clear();\n",
    "        for (int index = 0; index < t.Length; index++)\n",
    "        {\n",
    "            if(re.ContainsKey(t[index])){\n",
    "                pos[index] = re[t[index]];\n",
    "            }else{\n",
    "                re[t[index]] = (char)index;\n",
    "                pos[index] = re[t[index]];\n",
    "            }\n",
    "        }\n",
    "        var tp = new string(pos);\n",
    "        return sp == tp;\n",
    "    }\n",
    "}"
   ]
  },
  {
   "cell_type": "code",
   "execution_count": null,
   "metadata": {},
   "outputs": [],
   "source": []
  }
 ],
 "metadata": {
  "kernelspec": {
   "display_name": ".NET (C#)",
   "language": "C#",
   "name": ".net-csharp"
  },
  "language_info": {
   "file_extension": ".cs",
   "mimetype": "text/x-csharp",
   "name": "C#",
   "pygments_lexer": "csharp",
   "version": "8.0"
  },
  "toc": {
   "base_numbering": 1,
   "nav_menu": {},
   "number_sections": true,
   "sideBar": true,
   "skip_h1_title": false,
   "title_cell": "Table of Contents",
   "title_sidebar": "Contents",
   "toc_cell": false,
   "toc_position": {},
   "toc_section_display": true,
   "toc_window_display": false
  }
 },
 "nbformat": 4,
 "nbformat_minor": 4
}
