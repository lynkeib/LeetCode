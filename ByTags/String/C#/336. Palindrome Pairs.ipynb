{
 "cells": [
  {
   "cell_type": "markdown",
   "metadata": {},
   "source": [
    "# Brute Force (TLE)"
   ]
  },
  {
   "cell_type": "code",
   "execution_count": 1,
   "metadata": {
    "ExecuteTime": {
     "end_time": "2020-05-08T21:54:12.7996060Z",
     "start_time": "2020-05-08T21:54:10.021Z"
    }
   },
   "outputs": [],
   "source": [
    "public class Solution {\n",
    "    public IList<IList<int>> PalindromePairs(string[] words) {\n",
    "        var res = new List<IList<int>>();\n",
    "        for(int i = 0; i < words.Length - 1; i++){\n",
    "            for(int j = i + 1; j < words.Length; j++){\n",
    "                var newword1 = words[i] + words[j];\n",
    "                if(isValid(newword1)){\n",
    "                    res.Add(new List<int>{i, j});\n",
    "                }\n",
    "                var newword2 = words[j] + words[i];\n",
    "                if(newword2 != newword1 && isValid(newword2)){\n",
    "                    res.Add(new List<int>{j, i});\n",
    "                }\n",
    "            }\n",
    "        }a\n",
    "        return res;\n",
    "    }\n",
    "    \n",
    "    public bool isValid(string word){\n",
    "        int left = 0, right = word.Length - 1;\n",
    "        while(left < right){\n",
    "            if(word[left] != word[right]){\n",
    "                return false;\n",
    "            }\n",
    "            left++;\n",
    "            right--;\n",
    "        }\n",
    "        return true;\n",
    "    }\n",
    "}"
   ]
  },
  {
   "cell_type": "markdown",
   "metadata": {},
   "source": [
    "# HashMap"
   ]
  },
  {
   "cell_type": "code",
   "execution_count": 1,
   "metadata": {
    "ExecuteTime": {
     "end_time": "2020-06-06T22:16:16.4999120Z",
     "start_time": "2020-06-06T22:16:15.260Z"
    }
   },
   "outputs": [],
   "source": [
    "public class Solution {\n",
    "    public IList<IList<int>> PalindromePairs(string[] words) {\n",
    "        var wordMap = new Dictionary<string, int>();\n",
    "        for(int i = 0; i < words.Length; i++){\n",
    "            wordMap[words[i]] = i;\n",
    "        }\n",
    "        var res = new List<IList<int>>();\n",
    "        for(int i = 0; i < words.Length; i++){\n",
    "            var word = words[i];\n",
    "            var reversedWord = Reverse(word);\n",
    "            if(wordMap.ContainsKey(reversedWord) && i != wordMap[reversedWord]){\n",
    "                res.Add(new List<int>{wordMap[reversedWord], i});\n",
    "            }\n",
    "            var allPrefix = ValidPrefix(word);\n",
    "            var allSuffix = ValidSuffix(word);\n",
    "            foreach(var prefix in allPrefix){\n",
    "                if(wordMap.ContainsKey(prefix)){\n",
    "                    if(i != wordMap[prefix]) res.Add(new List<int>{i, wordMap[prefix]});\n",
    "                }\n",
    "            }\n",
    "            foreach(var suffix in allSuffix){\n",
    "                if(wordMap.ContainsKey(suffix)){\n",
    "                    if(i != wordMap[suffix]) res.Add(new List<int>{wordMap[suffix], i});\n",
    "                }\n",
    "            }\n",
    "        }\n",
    "        return res;\n",
    "    }\n",
    "    \n",
    "    public bool isValid(string s){\n",
    "        int left = 0, right = s.Length - 1;\n",
    "        while(left < right){\n",
    "            if(s[left] != s[right]){\n",
    "                return false;\n",
    "            }\n",
    "            left++;\n",
    "            right--;\n",
    "        }\n",
    "        return true;\n",
    "    }\n",
    "    \n",
    "    public string Reverse(string s){\n",
    "        var sb = new StringBuilder(s);\n",
    "        int left = 0, right = s.Length - 1;\n",
    "        while(left < right){\n",
    "            var temp = sb[left];\n",
    "            sb[left] = sb[right];\n",
    "            sb[right] = temp;\n",
    "            left++;\n",
    "            right--;\n",
    "        }\n",
    "        return sb.ToString();\n",
    "    }\n",
    "    \n",
    "    public IList<string> ValidPrefix(string s){\n",
    "        var res = new List<string>();\n",
    "        for(int i = 0; i < s.Length; i++){\n",
    "            var prefix = s.Substring(0, i);\n",
    "            var remain = s.Substring(i);\n",
    "            if(isValid(remain)){\n",
    "                res.Add(Reverse(prefix));\n",
    "            }\n",
    "        }\n",
    "        return res;\n",
    "    }\n",
    "    \n",
    "    public IList<string> ValidSuffix(string s){\n",
    "        var res = new List<string>();\n",
    "        for(int i = 0; i < s.Length; i++){\n",
    "            var suffix = s.Substring(i + 1);\n",
    "            var remain = s.Substring(0, i + 1);\n",
    "            if(isValid(remain)){\n",
    "                res.Add(Reverse(suffix));\n",
    "            }\n",
    "        }\n",
    "        return res;\n",
    "    }\n",
    "}"
   ]
  },
  {
   "cell_type": "code",
   "execution_count": null,
   "metadata": {},
   "outputs": [],
   "source": []
  }
 ],
 "metadata": {
  "kernelspec": {
   "display_name": ".NET (C#)",
   "language": "C#",
   "name": ".net-csharp"
  },
  "language_info": {
   "file_extension": ".cs",
   "mimetype": "text/x-csharp",
   "name": "C#",
   "pygments_lexer": "csharp",
   "version": "8.0"
  },
  "toc": {
   "base_numbering": 1,
   "nav_menu": {},
   "number_sections": true,
   "sideBar": true,
   "skip_h1_title": false,
   "title_cell": "Table of Contents",
   "title_sidebar": "Contents",
   "toc_cell": false,
   "toc_position": {},
   "toc_section_display": true,
   "toc_window_display": false
  }
 },
 "nbformat": 4,
 "nbformat_minor": 4
}
