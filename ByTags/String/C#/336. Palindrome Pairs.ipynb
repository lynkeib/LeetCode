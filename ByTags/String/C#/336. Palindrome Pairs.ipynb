{
 "cells": [
  {
   "cell_type": "markdown",
   "metadata": {},
   "source": [
    "# Brute Force (TLE)"
   ]
  },
  {
   "cell_type": "code",
   "execution_count": 1,
   "metadata": {
    "ExecuteTime": {
     "end_time": "2020-05-08T21:54:12.7996060Z",
     "start_time": "2020-05-08T21:54:10.021Z"
    }
   },
   "outputs": [],
   "source": [
    "public class Solution {\n",
    "    public IList<IList<int>> PalindromePairs(string[] words) {\n",
    "        var res = new List<IList<int>>();\n",
    "        for(int i = 0; i < words.Length - 1; i++){\n",
    "            for(int j = i + 1; j < words.Length; j++){\n",
    "                var newword1 = words[i] + words[j];\n",
    "                if(isValid(newword1)){\n",
    "                    res.Add(new List<int>{i, j});\n",
    "                }\n",
    "                var newword2 = words[j] + words[i];\n",
    "                if(newword2 != newword1 && isValid(newword2)){\n",
    "                    res.Add(new List<int>{j, i});\n",
    "                }\n",
    "            }\n",
    "        }a\n",
    "        return res;\n",
    "    }\n",
    "    \n",
    "    public bool isValid(string word){\n",
    "        int left = 0, right = word.Length - 1;\n",
    "        while(left < right){\n",
    "            if(word[left] != word[right]){\n",
    "                return false;\n",
    "            }\n",
    "            left++;\n",
    "            right--;\n",
    "        }\n",
    "        return true;\n",
    "    }\n",
    "}"
   ]
  },
  {
   "cell_type": "markdown",
   "metadata": {},
   "source": [
    "# HashMap"
   ]
  },
  {
   "cell_type": "code",
   "execution_count": 7,
   "metadata": {
    "ExecuteTime": {
     "end_time": "2020-05-08T22:48:33.2750580Z",
     "start_time": "2020-05-08T22:48:33.160Z"
    }
   },
   "outputs": [],
   "source": [
    "public class Solution {\n",
    "    public IList<IList<int>> PalindromePairs(string[] words) {\n",
    "        var res = new List<IList<int>>();\n",
    "        var map = new Dictionary<string, int>();\n",
    "        for(int i = 0; i < words.Length; i++){\n",
    "            map[words[i]] = i;\n",
    "        }\n",
    "        for(int i = 0; i < words.Length; i++){\n",
    "            var word = words[i];\n",
    "            var reverseWord = reverse(word);\n",
    "            if(map.ContainsKey(reverseWord) && map[reverseWord] != i){\n",
    "                res.Add(new List<int>{i, map[reverseWord]});\n",
    "            }\n",
    "            var suffixList = allValidSuffix(word);\n",
    "            var prefixList = allValidPrefix(word);\n",
    "            foreach(var suffix in suffixList){\n",
    "                if(map.ContainsKey(suffix)){\n",
    "                    if(i != map[suffix]){\n",
    "                        res.Add(new List<int>{i, map[suffix]});\n",
    "                    }\n",
    "                }\n",
    "            }\n",
    "            foreach(var prefix in prefixList){\n",
    "                if(map.ContainsKey(prefix)){\n",
    "                    if(i != map[prefix]){\n",
    "                        res.Add(new List<int>{map[prefix], i});\n",
    "                    }\n",
    "                }\n",
    "            }\n",
    "        }\n",
    "        return res;\n",
    "    }\n",
    "\n",
    "    public List<string> allValidSuffix(string word){\n",
    "        var res = new List<string>();\n",
    "        for(int i = 0; i < word.Length; i++){\n",
    "            var suffix = word.Substring(0, i);\n",
    "            var remain = word.Substring(i, word.Length - i);\n",
    "            if(isValid(remain)){\n",
    "                res.Add(reverse(suffix));\n",
    "            }\n",
    "        }\n",
    "        return res;\n",
    "    }\n",
    "\n",
    "    public List<string> allValidPrefix(string word){\n",
    "        var res = new List<string>();\n",
    "        for(int i = 0; i < word.Length; i++){\n",
    "            var perfix = word.Substring(i + 1, word.Length - i - 1);\n",
    "            var remain = word.Substring(0, i + 1);\n",
    "            if(isValid(remain)){\n",
    "                res.Add(reverse(perfix));\n",
    "            }\n",
    "        }\n",
    "        return res;\n",
    "    }\n",
    "\n",
    "    public bool isValid(string word){\n",
    "        int left = 0, right = word.Length - 1;\n",
    "        while(left < right){\n",
    "            if(word[left] != word[right]){\n",
    "                return false;\n",
    "            }\n",
    "            left++;\n",
    "            right--;\n",
    "        }\n",
    "        return true;\n",
    "    }\n",
    "\n",
    "    public string reverse(string s){\n",
    "        char[] charArray = s.ToCharArray();\n",
    "        Array.Reverse( charArray );\n",
    "        return new string( charArray );\n",
    "    }\n",
    "}"
   ]
  },
  {
   "cell_type": "code",
   "execution_count": null,
   "metadata": {},
   "outputs": [],
   "source": []
  }
 ],
 "metadata": {
  "kernelspec": {
   "display_name": ".NET (C#)",
   "language": "C#",
   "name": ".net-csharp"
  },
  "language_info": {
   "file_extension": ".cs",
   "mimetype": "text/x-csharp",
   "name": "C#",
   "pygments_lexer": "csharp",
   "version": "8.0"
  },
  "toc": {
   "base_numbering": 1,
   "nav_menu": {},
   "number_sections": true,
   "sideBar": true,
   "skip_h1_title": false,
   "title_cell": "Table of Contents",
   "title_sidebar": "Contents",
   "toc_cell": false,
   "toc_position": {},
   "toc_section_display": true,
   "toc_window_display": false
  }
 },
 "nbformat": 4,
 "nbformat_minor": 4
}
