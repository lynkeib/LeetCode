{
 "cells": [
  {
   "cell_type": "code",
   "execution_count": 1,
   "metadata": {
    "ExecuteTime": {
     "end_time": "2020-04-08T22:46:57.3660810Z",
     "start_time": "2020-04-08T22:46:55.491Z"
    }
   },
   "outputs": [],
   "source": [
    "public class Solution {\n",
    "    public IList<IList<string>> GroupStrings(string[] strings) {\n",
    "        var map = new Dictionary<string, IList<string>>();\n",
    "        var res = new List<IList<string>>();\n",
    "        foreach (var item in strings)\n",
    "        {\n",
    "            var new_string = \"\";\n",
    "            var dist = item[0] - 'a';\n",
    "            foreach (var c in item)\n",
    "            {\n",
    "                var new_c = c - dist;\n",
    "                if(new_c < 97){\n",
    "                    new_c += 26;\n",
    "                }\n",
    "                new_string += (char)(new_c);\n",
    "            }\n",
    "            if(!map.ContainsKey(new_string)){\n",
    "                map[new_string] = new List<string>();\n",
    "            }\n",
    "            map[new_string].Add(item);\n",
    "        }\n",
    "        foreach (var item in map.Values)\n",
    "        {\n",
    "            res.Add(item);\n",
    "        }\n",
    "        return res;\n",
    "    }\n",
    "}"
   ]
  },
  {
   "cell_type": "code",
   "execution_count": null,
   "metadata": {},
   "outputs": [],
   "source": []
  }
 ],
 "metadata": {
  "kernelspec": {
   "display_name": ".NET (C#)",
   "language": "C#",
   "name": ".net-csharp"
  },
  "language_info": {
   "file_extension": ".cs",
   "mimetype": "text/x-csharp",
   "name": "C#",
   "pygments_lexer": "csharp",
   "version": "8.0"
  },
  "toc": {
   "base_numbering": 1,
   "nav_menu": {},
   "number_sections": true,
   "sideBar": true,
   "skip_h1_title": false,
   "title_cell": "Table of Contents",
   "title_sidebar": "Contents",
   "toc_cell": false,
   "toc_position": {},
   "toc_section_display": true,
   "toc_window_display": false
  }
 },
 "nbformat": 4,
 "nbformat_minor": 4
}
