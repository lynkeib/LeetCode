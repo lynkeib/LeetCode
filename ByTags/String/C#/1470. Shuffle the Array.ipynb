{
 "cells": [
  {
   "cell_type": "code",
   "execution_count": 1,
   "metadata": {
    "ExecuteTime": {
     "end_time": "2020-06-07T04:02:40.3454910Z",
     "start_time": "2020-06-07T04:02:38.941Z"
    }
   },
   "outputs": [],
   "source": [
    "public class Solution {\n",
    "    public int[] Shuffle(int[] nums, int n) {\n",
    "        var res = new int[n * 2];\n",
    "        var index = 0;\n",
    "        var resIndex = 0;\n",
    "        while(resIndex <= 2 * n - 1){\n",
    "            res[resIndex] = nums[index];\n",
    "            // Console.WriteLine(nums[index]);\n",
    "            resIndex = resIndex + 2;\n",
    "            index++;\n",
    "        }\n",
    "        resIndex = 1;\n",
    "        while(resIndex <= 2 * n - 1){\n",
    "            res[resIndex] = nums[index];\n",
    "            // Console.WriteLine(nums[index]);\n",
    "            resIndex = resIndex + 2;\n",
    "            index++;\n",
    "        }\n",
    "        return res;\n",
    "    }\n",
    "}"
   ]
  },
  {
   "cell_type": "code",
   "execution_count": null,
   "metadata": {},
   "outputs": [],
   "source": []
  }
 ],
 "metadata": {
  "kernelspec": {
   "display_name": ".NET (C#)",
   "language": "C#",
   "name": ".net-csharp"
  },
  "language_info": {
   "file_extension": ".cs",
   "mimetype": "text/x-csharp",
   "name": "C#",
   "pygments_lexer": "csharp",
   "version": "8.0"
  },
  "toc": {
   "base_numbering": 1,
   "nav_menu": {},
   "number_sections": true,
   "sideBar": true,
   "skip_h1_title": false,
   "title_cell": "Table of Contents",
   "title_sidebar": "Contents",
   "toc_cell": false,
   "toc_position": {},
   "toc_section_display": true,
   "toc_window_display": false
  }
 },
 "nbformat": 4,
 "nbformat_minor": 4
}
