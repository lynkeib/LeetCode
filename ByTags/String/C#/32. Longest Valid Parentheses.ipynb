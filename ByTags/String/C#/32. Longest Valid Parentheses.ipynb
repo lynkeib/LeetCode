{
 "cells": [
  {
   "cell_type": "code",
   "execution_count": 1,
   "metadata": {},
   "outputs": [],
   "source": [
    "public class Solution {\n",
    "    public int LongestValidParentheses (string s) {\n",
    "        var dp = new int[s.Length];\n",
    "        var max = 0;\n",
    "        for (int i = 1; i < s.Length; i++) {\n",
    "            if (s[i] == ')') {\n",
    "                if (s[i - 1] == '(') {\n",
    "                    if (i >= 2) {\n",
    "                        dp[i] = dp[i - 2] + 2;\n",
    "                    } else {\n",
    "                        dp[i] = 2;\n",
    "                    }\n",
    "                }else{\n",
    "                    if(i - dp[i - 1] - 1 >= 0 &&  s[i - dp[i - 1] - 1]== '('){\n",
    "                        if(i - dp[i - 1] - 2 >= 0){\n",
    "                            dp[i] = dp[i - 1] + 2 + dp[i - dp[i - 1] - 2];\n",
    "                        }else{\n",
    "                            dp[i] = dp[i - 1] + 2;\n",
    "                        }\n",
    "                    }\n",
    "                }\n",
    "            }\n",
    "            max = Math.Max(max, dp[i]);\n",
    "        }\n",
    "        return max;\n",
    "    }\n",
    "}"
   ]
  },
  {
   "cell_type": "code",
   "execution_count": null,
   "metadata": {},
   "outputs": [],
   "source": []
  }
 ],
 "metadata": {
  "kernelspec": {
   "display_name": ".NET (C#)",
   "language": "C#",
   "name": ".net-csharp"
  },
  "language_info": {
   "file_extension": ".cs",
   "mimetype": "text/x-csharp",
   "name": "C#",
   "pygments_lexer": "csharp",
   "version": "8.0"
  },
  "toc": {
   "base_numbering": 1,
   "nav_menu": {},
   "number_sections": true,
   "sideBar": true,
   "skip_h1_title": false,
   "title_cell": "Table of Contents",
   "title_sidebar": "Contents",
   "toc_cell": false,
   "toc_position": {},
   "toc_section_display": true,
   "toc_window_display": false
  }
 },
 "nbformat": 4,
 "nbformat_minor": 4
}
