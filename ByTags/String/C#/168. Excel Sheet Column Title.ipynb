{
 "cells": [
  {
   "cell_type": "code",
   "execution_count": 1,
   "metadata": {
    "ExecuteTime": {
     "end_time": "2020-04-17T04:47:27.4466540Z",
     "start_time": "2020-04-17T04:47:26.333Z"
    }
   },
   "outputs": [],
   "source": [
    "public class Solution {\n",
    "    public string ConvertToTitle(int n) {\n",
    "        long a = n;\n",
    "        var res = new List<char>();\n",
    "        while(a > 0){\n",
    "            a -= 1;\n",
    "            var b = a % 26;\n",
    "            a = a / 26;\n",
    "            res.Insert(0, (char)(b + 'A'));\n",
    "        }\n",
    "        return new string(res.ToArray());\n",
    "    }\n",
    "}"
   ]
  },
  {
   "cell_type": "code",
   "execution_count": null,
   "metadata": {},
   "outputs": [],
   "source": []
  }
 ],
 "metadata": {
  "kernelspec": {
   "display_name": ".NET (C#)",
   "language": "C#",
   "name": ".net-csharp"
  },
  "language_info": {
   "file_extension": ".cs",
   "mimetype": "text/x-csharp",
   "name": "C#",
   "pygments_lexer": "csharp",
   "version": "8.0"
  },
  "toc": {
   "base_numbering": 1,
   "nav_menu": {},
   "number_sections": true,
   "sideBar": true,
   "skip_h1_title": false,
   "title_cell": "Table of Contents",
   "title_sidebar": "Contents",
   "toc_cell": false,
   "toc_position": {},
   "toc_section_display": true,
   "toc_window_display": false
  }
 },
 "nbformat": 4,
 "nbformat_minor": 4
}
