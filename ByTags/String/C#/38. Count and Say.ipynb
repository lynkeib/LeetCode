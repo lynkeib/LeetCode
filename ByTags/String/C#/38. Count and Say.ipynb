{
 "cells": [
  {
   "cell_type": "code",
   "execution_count": 1,
   "metadata": {},
   "outputs": [],
   "source": [
    "public class Solution {\n",
    "    public string CountAndSay(int n) {\n",
    "        string res = \"1\";\n",
    "        if(n == 1){\n",
    "            return res;\n",
    "        }\n",
    "        int counter = 1;\n",
    "        \n",
    "        while(counter < n){\n",
    "            int index = 0;\n",
    "            string next_res = \"\";\n",
    "            while(index < res.Length){\n",
    "                int prefix = 1;\n",
    "                char thisstring = res[index];\n",
    "                while(index < res.Length - 1 && res[index] == res[index + 1]){\n",
    "                    index++;\n",
    "                    prefix++;\n",
    "                }\n",
    "                index++;\n",
    "                next_res += $\"{prefix}{thisstring}\";\n",
    "            }\n",
    "            res = next_res;\n",
    "            counter++;\n",
    "        }\n",
    "        return res;\n",
    "    }\n",
    "}"
   ]
  },
  {
   "cell_type": "code",
   "execution_count": null,
   "metadata": {},
   "outputs": [],
   "source": []
  }
 ],
 "metadata": {
  "kernelspec": {
   "display_name": ".NET (C#)",
   "language": "C#",
   "name": ".net-csharp"
  },
  "language_info": {
   "file_extension": ".cs",
   "mimetype": "text/x-csharp",
   "name": "C#",
   "pygments_lexer": "csharp",
   "version": "8.0"
  },
  "toc": {
   "base_numbering": 1,
   "nav_menu": {},
   "number_sections": true,
   "sideBar": true,
   "skip_h1_title": false,
   "title_cell": "Table of Contents",
   "title_sidebar": "Contents",
   "toc_cell": false,
   "toc_position": {},
   "toc_section_display": true,
   "toc_window_display": false
  }
 },
 "nbformat": 4,
 "nbformat_minor": 4
}
