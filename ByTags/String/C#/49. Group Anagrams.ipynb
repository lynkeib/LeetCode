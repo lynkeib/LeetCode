{
 "cells": [
  {
   "cell_type": "code",
   "execution_count": 1,
   "metadata": {
    "ExecuteTime": {
     "end_time": "2020-03-29T05:22:55.6438240Z",
     "start_time": "2020-03-29T05:22:52.168Z"
    }
   },
   "outputs": [],
   "source": [
    "public class Solution {\n",
    "    public IList<IList<string>> GroupAnagrams (string[] strs) {\n",
    "        var map = new Dictionary<long, IList<string>> ();\n",
    "        foreach (var str in strs) {\n",
    "            var temp = new int[26];\n",
    "            foreach (var letter in str) {\n",
    "                temp[letter - 'a']++;\n",
    "            }\n",
    "            long th = 0;\n",
    "            foreach(var i in temp){\n",
    "                th = th * 10 + i;\n",
    "            }\n",
    "            if(map.ContainsKey(th)){\n",
    "                map[th].Add(str);\n",
    "            }else{\n",
    "                map[th] = new List<string>{str};\n",
    "            }\n",
    "        }\n",
    "        var res = new List<IList<string>>();\n",
    "        foreach(var t in map.Values){\n",
    "            res.Add(t);\n",
    "        }\n",
    "        return res;\n",
    "    }\n",
    "}"
   ]
  },
  {
   "cell_type": "code",
   "execution_count": null,
   "metadata": {},
   "outputs": [],
   "source": []
  }
 ],
 "metadata": {
  "kernelspec": {
   "display_name": ".NET (C#)",
   "language": "C#",
   "name": ".net-csharp"
  },
  "language_info": {
   "file_extension": ".cs",
   "mimetype": "text/x-csharp",
   "name": "C#",
   "pygments_lexer": "csharp",
   "version": "8.0"
  },
  "toc": {
   "base_numbering": 1,
   "nav_menu": {},
   "number_sections": true,
   "sideBar": true,
   "skip_h1_title": false,
   "title_cell": "Table of Contents",
   "title_sidebar": "Contents",
   "toc_cell": false,
   "toc_position": {},
   "toc_section_display": true,
   "toc_window_display": false
  }
 },
 "nbformat": 4,
 "nbformat_minor": 4
}
