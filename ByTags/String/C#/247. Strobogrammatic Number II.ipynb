{
 "cells": [
  {
   "cell_type": "code",
   "execution_count": 1,
   "metadata": {
    "ExecuteTime": {
     "end_time": "2020-03-28T04:42:07.1464820Z",
     "start_time": "2020-03-28T04:42:02.763Z"
    }
   },
   "outputs": [],
   "source": [
    "public class Solution {\n",
    "    public IList<string> FindStrobogrammatic (int n) {\n",
    "        // var can_number = new int[] { \"0\", \"1\", \"6\", \"8\", \"9\" };\n",
    "        // var verse_number = new int[] { 0, 1, 9, 8, 6 };\n",
    "\n",
    "        var can_number = new Dictionary<string, char>{\n",
    "            {\"0\", '0'},\n",
    "            {\"1\", '1'},\n",
    "            {\"6\", '9'},\n",
    "            {\"8\", '8'},\n",
    "            {\"9\", '6'}\n",
    "        };\n",
    "\n",
    "        if (n == 1) {\n",
    "            return new List<string>{\"0\", \"1\", \"8\"};\n",
    "        } else {\n",
    "            var res = new List<string>();\n",
    "            dfs(n, can_number, \"\", res);\n",
    "            return res;\n",
    "        }\n",
    "\n",
    "    }\n",
    "\n",
    "    public void dfs (int n, Dictionary<string, char> can_number, string path, IList<string> res) {\n",
    "        var index = path.Length;\n",
    "        if (index == n) {\n",
    "            res.Add (path);\n",
    "            return;\n",
    "        }\n",
    "        if (n % 2 == 0) { // even\n",
    "            foreach (string key in can_number.Keys)\n",
    "            {\n",
    "                if ((index == 0 || index == n - 1) && key == \"0\") continue;\n",
    "                if (index >= n / 2 && can_number[key] != path[n - index - 1]) continue;\n",
    "                dfs(n, can_number, path + key, res);\n",
    "            }\n",
    "        } else { // odd\n",
    "            foreach (string key in can_number.Keys)\n",
    "            {\n",
    "                if ((index == 0 || index == n - 1) && key == \"0\") continue;\n",
    "                if (index == n / 2 && key != can_number[key].ToString()) continue;\n",
    "                if (index > n / 2 && can_number[key] != path[n - index - 1]) continue;\n",
    "                dfs(n, can_number, path + key, res);\n",
    "            }\n",
    "        }\n",
    "\n",
    "    }\n",
    "}"
   ]
  },
  {
   "cell_type": "markdown",
   "metadata": {},
   "source": [
    "# Faster"
   ]
  },
  {
   "cell_type": "code",
   "execution_count": 2,
   "metadata": {
    "ExecuteTime": {
     "end_time": "2020-03-28T04:55:52.9396260Z",
     "start_time": "2020-03-28T04:55:52.826Z"
    }
   },
   "outputs": [],
   "source": [
    "public class Solution {\n",
    "    public IList<string> FindStrobogrammatic (int n) {\n",
    "        var res = new List<string>();\n",
    "        dfs(res, new char[n], 0, n - 1);\n",
    "        return res;\n",
    "    }\n",
    "\n",
    "    public void dfs (IList<string> res, char[] path, int left, int right) {\n",
    "        if (left > right) {\n",
    "            res.Add (new string (path));\n",
    "            return;\n",
    "        }\n",
    "        if (left == right) {\n",
    "            path[left] = '0';\n",
    "            res.Add (new string (path));\n",
    "            path[left] = '1';\n",
    "            res.Add (new string (path));\n",
    "            path[left] = '8';\n",
    "            res.Add (new string (path));\n",
    "            return;\n",
    "        }\n",
    "\n",
    "        if (left != 0) {\n",
    "            path[left] = '0';\n",
    "            path[right] = '0';\n",
    "            dfs (res, path, left + 1, right - 1);\n",
    "        }\n",
    "        path[left] = '1';\n",
    "        path[right] = '1';\n",
    "        dfs (res, path, left + 1, right - 1);\n",
    "        path[left] = '6';\n",
    "        path[right] = '9';\n",
    "        dfs (res, path, left + 1, right - 1);\n",
    "        path[left] = '8';\n",
    "        path[right] = '8';\n",
    "        dfs (res, path, left + 1, right - 1);\n",
    "        path[left] = '9';\n",
    "        path[right] = '6';\n",
    "        dfs (res, path, left + 1, right - 1);\n",
    "        return;\n",
    "    }\n",
    "}"
   ]
  },
  {
   "cell_type": "code",
   "execution_count": null,
   "metadata": {},
   "outputs": [],
   "source": []
  }
 ],
 "metadata": {
  "kernelspec": {
   "display_name": ".NET (C#)",
   "language": "C#",
   "name": ".net-csharp"
  },
  "language_info": {
   "file_extension": ".cs",
   "mimetype": "text/x-csharp",
   "name": "C#",
   "pygments_lexer": "csharp",
   "version": "8.0"
  },
  "toc": {
   "base_numbering": 1,
   "nav_menu": {},
   "number_sections": true,
   "sideBar": true,
   "skip_h1_title": false,
   "title_cell": "Table of Contents",
   "title_sidebar": "Contents",
   "toc_cell": false,
   "toc_position": {},
   "toc_section_display": true,
   "toc_window_display": false
  }
 },
 "nbformat": 4,
 "nbformat_minor": 4
}
