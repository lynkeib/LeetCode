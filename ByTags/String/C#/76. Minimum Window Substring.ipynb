{
 "cells": [
  {
   "cell_type": "code",
   "execution_count": 1,
   "metadata": {
    "ExecuteTime": {
     "end_time": "2020-04-04T23:48:36.5271530Z",
     "start_time": "2020-04-04T23:48:35.440Z"
    }
   },
   "outputs": [],
   "source": [
    "public class Solution {\n",
    "    public string MinWindow (string s, string t) {\n",
    "        var counter = new Dictionary<char, int> ();\n",
    "        foreach (var item in t) {\n",
    "            if (counter.ContainsKey (item)) {\n",
    "                counter[item]++;\n",
    "            } else {\n",
    "                counter[item] = 1;\n",
    "            }\n",
    "        }\n",
    "        var matched = counter.Count;\n",
    "        int slow = 0;\n",
    "        int res_begin = -1, res_end = s.Length;\n",
    "        for (int fast = 0; fast < s.Length; fast++) {\n",
    "            var curr = s[fast];\n",
    "            if (counter.ContainsKey (curr)) {\n",
    "                counter[curr]--;\n",
    "                if (counter[curr] == 0) {\n",
    "                    matched--;\n",
    "                }\n",
    "            }\n",
    "            while (slow <= fast && matched == 0) {\n",
    "                if (fast - slow < res_end - res_begin) {\n",
    "                    res_end = fast;\n",
    "                    res_begin = slow;\n",
    "                }\n",
    "                var thiss = s[slow];\n",
    "                if (counter.ContainsKey (thiss)) {\n",
    "                    counter[thiss]++;\n",
    "                    if(counter[thiss] > 0){\n",
    "                        matched++;\n",
    "                    }\n",
    "                }\n",
    "                slow++;\n",
    "            }\n",
    "            // Console.WriteLine ($\"{slow}, {fast}, {s[fast]}\");\n",
    "            // Console.WriteLine ($\"{res_begin}, {res_end}\");\n",
    "            // Console.WriteLine ();\n",
    "        }\n",
    "        if(res_begin == -1){\n",
    "            return \"\";\n",
    "        }\n",
    "        return s.Substring (res_begin, res_end - res_begin + 1);\n",
    "    }\n",
    "}"
   ]
  },
  {
   "cell_type": "code",
   "execution_count": null,
   "metadata": {},
   "outputs": [],
   "source": []
  }
 ],
 "metadata": {
  "kernelspec": {
   "display_name": ".NET (C#)",
   "language": "C#",
   "name": ".net-csharp"
  },
  "language_info": {
   "file_extension": ".cs",
   "mimetype": "text/x-csharp",
   "name": "C#",
   "pygments_lexer": "csharp",
   "version": "8.0"
  },
  "toc": {
   "base_numbering": 1,
   "nav_menu": {},
   "number_sections": true,
   "sideBar": true,
   "skip_h1_title": false,
   "title_cell": "Table of Contents",
   "title_sidebar": "Contents",
   "toc_cell": false,
   "toc_position": {},
   "toc_section_display": true,
   "toc_window_display": false
  }
 },
 "nbformat": 4,
 "nbformat_minor": 4
}
