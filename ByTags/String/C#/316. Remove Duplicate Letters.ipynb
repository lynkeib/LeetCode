{
 "cells": [
  {
   "cell_type": "code",
   "execution_count": 1,
   "metadata": {
    "ExecuteTime": {
     "end_time": "2020-05-07T05:04:10.5740670Z",
     "start_time": "2020-05-07T05:04:09.430Z"
    }
   },
   "outputs": [],
   "source": [
    "public class Solution {\n",
    "    public string RemoveDuplicateLetters(string s) {\n",
    "        if(s.Length == 0){\n",
    "            return \"\";\n",
    "        }\n",
    "        int pos = 0;\n",
    "        var counter = new int[26];\n",
    "        foreach(var c in s){\n",
    "            counter[c - 'a']++;\n",
    "        }\n",
    "        for(int i = 0; i < s.Length; i++){\n",
    "            if(s[i] < s[pos]){\n",
    "                pos = i;\n",
    "            }\n",
    "            counter[s[i]-'a']--;\n",
    "            if(counter[s[i]-'a']==0){\n",
    "                break;\n",
    "            }\n",
    "        }\n",
    "        var left = s.Substring(pos);\n",
    "        var next = left.Replace(s[pos] + \"\", \"\");\n",
    "        return s[pos] + RemoveDuplicateLetters(next);\n",
    "    }\n",
    "}"
   ]
  },
  {
   "cell_type": "code",
   "execution_count": null,
   "metadata": {},
   "outputs": [],
   "source": []
  }
 ],
 "metadata": {
  "kernelspec": {
   "display_name": ".NET (C#)",
   "language": "C#",
   "name": ".net-csharp"
  },
  "language_info": {
   "file_extension": ".cs",
   "mimetype": "text/x-csharp",
   "name": "C#",
   "pygments_lexer": "csharp",
   "version": "8.0"
  },
  "toc": {
   "base_numbering": 1,
   "nav_menu": {},
   "number_sections": true,
   "sideBar": true,
   "skip_h1_title": false,
   "title_cell": "Table of Contents",
   "title_sidebar": "Contents",
   "toc_cell": false,
   "toc_position": {},
   "toc_section_display": true,
   "toc_window_display": false
  }
 },
 "nbformat": 4,
 "nbformat_minor": 4
}
