{
 "cells": [
  {
   "cell_type": "code",
   "execution_count": 1,
   "metadata": {},
   "outputs": [],
   "source": [
    "public class Solution {\n",
    "    public bool IsValid(string s) {\n",
    "        var stack = new Stack<char>();\n",
    "        var map = new Dictionary<char, char>();\n",
    "        map['('] = ')';\n",
    "        map['['] = ']';\n",
    "        map['{'] = '}';\n",
    "        for(int index = 0; index < s.Length; index++){\n",
    "            if(\"([{\".Contains(s[index])){\n",
    "                stack.Push(s[index]);\n",
    "            }else{\n",
    "                if(stack.Count == 0){\n",
    "                    return false;\n",
    "                }\n",
    "                var th = stack.Pop();\n",
    "                if(map[th] != s[index]){\n",
    "                    return false;\n",
    "                }\n",
    "            }\n",
    "        }\n",
    "        return stack.Count == 0;\n",
    "    }\n",
    "}"
   ]
  },
  {
   "cell_type": "code",
   "execution_count": null,
   "metadata": {},
   "outputs": [],
   "source": []
  }
 ],
 "metadata": {
  "kernelspec": {
   "display_name": ".NET (C#)",
   "language": "C#",
   "name": ".net-csharp"
  },
  "language_info": {
   "file_extension": ".cs",
   "mimetype": "text/x-csharp",
   "name": "C#",
   "pygments_lexer": "csharp",
   "version": "8.0"
  },
  "toc": {
   "base_numbering": 1,
   "nav_menu": {},
   "number_sections": true,
   "sideBar": true,
   "skip_h1_title": false,
   "title_cell": "Table of Contents",
   "title_sidebar": "Contents",
   "toc_cell": false,
   "toc_position": {},
   "toc_section_display": true,
   "toc_window_display": false
  }
 },
 "nbformat": 4,
 "nbformat_minor": 4
}
