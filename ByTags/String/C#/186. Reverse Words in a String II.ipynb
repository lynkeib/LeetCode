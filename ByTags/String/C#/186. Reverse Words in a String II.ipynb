{
 "cells": [
  {
   "cell_type": "code",
   "execution_count": 1,
   "metadata": {
    "ExecuteTime": {
     "end_time": "2020-04-18T22:29:45.0455310Z",
     "start_time": "2020-04-18T22:29:40.866Z"
    }
   },
   "outputs": [],
   "source": [
    "public class Solution {\n",
    "    public void ReverseWords(char[] s) {\n",
    "        int left = 0, right = s.Length - 1;\n",
    "        while(left < right){\n",
    "            var temp = s[left];\n",
    "            s[left] = s[right];\n",
    "            s[right] = temp;\n",
    "            left++;\n",
    "            right--;\n",
    "        }\n",
    "        int start = 0;\n",
    "        while(start < s.Length){\n",
    "            int end = start;\n",
    "            while(end < s.Length && s[end] != ' '){\n",
    "                end++;\n",
    "            }\n",
    "            var next_start = end + 1;\n",
    "            end--;\n",
    "            while(start < end){\n",
    "                var temp = s[start];\n",
    "                s[start] = s[end];\n",
    "                s[end] = temp;\n",
    "                start++;\n",
    "                end--;\n",
    "            }\n",
    "            start = next_start;\n",
    "        }\n",
    "        return;\n",
    "    }\n",
    "}"
   ]
  },
  {
   "cell_type": "code",
   "execution_count": null,
   "metadata": {},
   "outputs": [],
   "source": []
  }
 ],
 "metadata": {
  "kernelspec": {
   "display_name": ".NET (C#)",
   "language": "C#",
   "name": ".net-csharp"
  },
  "language_info": {
   "file_extension": ".cs",
   "mimetype": "text/x-csharp",
   "name": "C#",
   "pygments_lexer": "csharp",
   "version": "8.0"
  },
  "toc": {
   "base_numbering": 1,
   "nav_menu": {},
   "number_sections": true,
   "sideBar": true,
   "skip_h1_title": false,
   "title_cell": "Table of Contents",
   "title_sidebar": "Contents",
   "toc_cell": false,
   "toc_position": {},
   "toc_section_display": true,
   "toc_window_display": false
  }
 },
 "nbformat": 4,
 "nbformat_minor": 4
}
