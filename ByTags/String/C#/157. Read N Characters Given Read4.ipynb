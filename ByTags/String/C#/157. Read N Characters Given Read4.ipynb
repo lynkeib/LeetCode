{
 "cells": [
  {
   "cell_type": "code",
   "execution_count": 1,
   "metadata": {
    "ExecuteTime": {
     "end_time": "2020-04-16T05:32:16.4394390Z",
     "start_time": "2020-04-16T05:32:15.810Z"
    }
   },
   "outputs": [
    {
     "ename": "Unhandled Exception",
     "evalue": "(6,25): error CS0246: The type or namespace name 'Reader4' could not be found (are you missing a using directive or an assembly reference?)\n(16,26): error CS0103: The name 'Read4' does not exist in the current context",
     "output_type": "error",
     "traceback": [
      "(6,25): error CS0246: The type or namespace name 'Reader4' could not be found (are you missing a using directive or an assembly reference?)\n(16,26): error CS0103: The name 'Read4' does not exist in the current context"
     ]
    }
   ],
   "source": [
    "/**\n",
    " * The Read4 API is defined in the parent class Reader4.\n",
    " *     int Read4(char[] buf);\n",
    " */\n",
    "\n",
    "public class Solution : Reader4 {\n",
    "    /**\n",
    "     * @param buf Destination buffer\n",
    "     * @param n   Number of characters to read\n",
    "     * @return    The number of actual characters read\n",
    "     */\n",
    "    public int Read(char[] buf, int n) {\n",
    "        var index = 0;\n",
    "        while(n > 0){\n",
    "            var new_bur = new char[4];\n",
    "            var length = Read4(new_bur);\n",
    "            if(length == 0){\n",
    "                return index;\n",
    "            }\n",
    "            var temp = Math.Min(length, n);\n",
    "            for(int i = 0; i < temp; i++){\n",
    "                buf[index] = new_bur[i];\n",
    "                index++;\n",
    "                n--;\n",
    "            }\n",
    "        }\n",
    "        return index;\n",
    "    }\n",
    "}"
   ]
  },
  {
   "cell_type": "code",
   "execution_count": null,
   "metadata": {},
   "outputs": [],
   "source": []
  }
 ],
 "metadata": {
  "kernelspec": {
   "display_name": ".NET (C#)",
   "language": "C#",
   "name": ".net-csharp"
  },
  "language_info": {
   "file_extension": ".cs",
   "mimetype": "text/x-csharp",
   "name": "C#",
   "pygments_lexer": "csharp",
   "version": "8.0"
  },
  "toc": {
   "base_numbering": 1,
   "nav_menu": {},
   "number_sections": true,
   "sideBar": true,
   "skip_h1_title": false,
   "title_cell": "Table of Contents",
   "title_sidebar": "Contents",
   "toc_cell": false,
   "toc_position": {},
   "toc_section_display": true,
   "toc_window_display": false
  }
 },
 "nbformat": 4,
 "nbformat_minor": 4
}
