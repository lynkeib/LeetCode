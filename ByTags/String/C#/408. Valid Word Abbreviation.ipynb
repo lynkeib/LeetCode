{
 "cells": [
  {
   "cell_type": "code",
   "execution_count": 1,
   "metadata": {
    "ExecuteTime": {
     "end_time": "2020-05-28T22:36:31.5328610Z",
     "start_time": "2020-05-28T22:36:30.487Z"
    }
   },
   "outputs": [],
   "source": [
    "public class Solution {\n",
    "    public bool ValidWordAbbreviation(string word, string abbr) {\n",
    "        int indexW = 0, indexA = 0;\n",
    "        \n",
    "        while(indexW < word.Length && indexA < abbr.Length){\n",
    "            if(Char.IsLetter(abbr[indexA])){\n",
    "                if(abbr[indexA] != word[indexW]){\n",
    "                    return false;\n",
    "                }\n",
    "                indexW++;\n",
    "                indexA++;\n",
    "            }else if(Char.IsNumber(abbr[indexA])){\n",
    "                var skip = 0;\n",
    "                if(abbr[indexA] == '0'){\n",
    "                    return false;\n",
    "                }\n",
    "                while(indexA < abbr.Length && Char.IsNumber(abbr[indexA])){\n",
    "                    var num = abbr[indexA] - '0';\n",
    "                    skip = skip * 10 + num;\n",
    "                    indexA++;\n",
    "                }\n",
    "                indexW += skip;\n",
    "            }\n",
    "        }\n",
    "        return indexW == word.Length && indexA == abbr.Length;\n",
    "    }\n",
    "}"
   ]
  },
  {
   "cell_type": "code",
   "execution_count": null,
   "metadata": {},
   "outputs": [],
   "source": []
  }
 ],
 "metadata": {
  "kernelspec": {
   "display_name": ".NET (C#)",
   "language": "C#",
   "name": ".net-csharp"
  },
  "language_info": {
   "file_extension": ".cs",
   "mimetype": "text/x-csharp",
   "name": "C#",
   "pygments_lexer": "csharp",
   "version": "8.0"
  },
  "toc": {
   "base_numbering": 1,
   "nav_menu": {},
   "number_sections": true,
   "sideBar": true,
   "skip_h1_title": false,
   "title_cell": "Table of Contents",
   "title_sidebar": "Contents",
   "toc_cell": false,
   "toc_position": {},
   "toc_section_display": true,
   "toc_window_display": false
  }
 },
 "nbformat": 4,
 "nbformat_minor": 4
}
