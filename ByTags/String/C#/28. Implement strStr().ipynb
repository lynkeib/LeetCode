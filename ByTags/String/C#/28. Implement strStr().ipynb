{
 "cells": [
  {
   "cell_type": "markdown",
   "metadata": {},
   "source": [
    "# Naive Approach"
   ]
  },
  {
   "cell_type": "code",
   "execution_count": 12,
   "metadata": {},
   "outputs": [],
   "source": [
    "public class Solution {\n",
    "    public int StrStr(string haystack, string needle) {\n",
    "        if(needle.Length == 0){\n",
    "            return 0;\n",
    "        }\n",
    "        for(int i = 0; i < haystack.Length - needle.Length + 1; i++){\n",
    "            if(haystack.Substring(i, needle.Length) == needle){\n",
    "                return i;\n",
    "            }\n",
    "        }\n",
    "        return -1;\n",
    "    }\n",
    "}"
   ]
  },
  {
   "cell_type": "markdown",
   "metadata": {},
   "source": [
    "# Rolling Hash"
   ]
  },
  {
   "cell_type": "code",
   "execution_count": 11,
   "metadata": {},
   "outputs": [],
   "source": [
    "public class Solution {\n",
    "    public int StrStr(string haystack, string needle) {\n",
    "        int L = haystack.Length;\n",
    "        int n = needle.Length;\n",
    "\n",
    "        if(n > L){\n",
    "            return -1;\n",
    "        }\n",
    "\n",
    "        int b = 26;\n",
    "        int m = 10000007;\n",
    "\n",
    "        long h_hash = 0;\n",
    "        long n_hash = 0;\n",
    "\n",
    "        for(int i = 0; i < n; i++){\n",
    "            h_hash = (long)(h_hash * b + (haystack[i] - 'a')) % m;\n",
    "            n_hash = (long)(n_hash * b + (needle[i] - 'a')) % m;\n",
    "        }\n",
    "        if(h_hash == n_hash){\n",
    "            return 0;\n",
    "        }\n",
    "\n",
    "        long magic = (long)Math.Pow(b, n) % m;\n",
    "\n",
    "        for(int i = n; i < L; i++){\n",
    "            h_hash = (h_hash * b - (haystack[i - n] - 'a') * magic + (haystack[i] - 'a')) % m;\n",
    "            if(h_hash == n_hash){\n",
    "                return i - n + 1;\n",
    "            }\n",
    "        }\n",
    "        return -1;\n",
    "    }\n",
    "}"
   ]
  },
  {
   "cell_type": "code",
   "execution_count": null,
   "metadata": {},
   "outputs": [],
   "source": []
  }
 ],
 "metadata": {
  "kernelspec": {
   "display_name": ".NET (C#)",
   "language": "C#",
   "name": ".net-csharp"
  },
  "language_info": {
   "file_extension": ".cs",
   "mimetype": "text/x-csharp",
   "name": "C#",
   "pygments_lexer": "csharp",
   "version": "8.0"
  },
  "toc": {
   "base_numbering": 1,
   "nav_menu": {},
   "number_sections": true,
   "sideBar": true,
   "skip_h1_title": false,
   "title_cell": "Table of Contents",
   "title_sidebar": "Contents",
   "toc_cell": false,
   "toc_position": {},
   "toc_section_display": true,
   "toc_window_display": false
  }
 },
 "nbformat": 4,
 "nbformat_minor": 4
}
