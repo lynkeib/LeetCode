{
 "cells": [
  {
   "cell_type": "code",
   "execution_count": 1,
   "metadata": {
    "ExecuteTime": {
     "end_time": "2020-04-08T05:27:03.9480990Z",
     "start_time": "2020-04-08T05:27:00.672Z"
    }
   },
   "outputs": [],
   "source": [
    "public class Solution {\n",
    "    public bool CanPermutePalindrome (string s) {\n",
    "        var map = new Dictionary<char, int> ();\n",
    "        foreach (var item in s) {\n",
    "            if (!map.ContainsKey (item)) map[item] = 0;\n",
    "            map[item]++;\n",
    "        }\n",
    "        var odd = 0;\n",
    "        foreach (var item in map.Values) {\n",
    "            if (item % 2 != 0) {\n",
    "                odd++;\n",
    "                if (odd > 1) return false;\n",
    "            }\n",
    "        }\n",
    "        return true;\n",
    "    }\n",
    "}"
   ]
  },
  {
   "cell_type": "code",
   "execution_count": null,
   "metadata": {},
   "outputs": [],
   "source": []
  }
 ],
 "metadata": {
  "kernelspec": {
   "display_name": ".NET (C#)",
   "language": "C#",
   "name": ".net-csharp"
  },
  "language_info": {
   "file_extension": ".cs",
   "mimetype": "text/x-csharp",
   "name": "C#",
   "pygments_lexer": "csharp",
   "version": "8.0"
  },
  "toc": {
   "base_numbering": 1,
   "nav_menu": {},
   "number_sections": true,
   "sideBar": true,
   "skip_h1_title": false,
   "title_cell": "Table of Contents",
   "title_sidebar": "Contents",
   "toc_cell": false,
   "toc_position": {},
   "toc_section_display": true,
   "toc_window_display": false
  }
 },
 "nbformat": 4,
 "nbformat_minor": 4
}
