{
 "cells": [
  {
   "cell_type": "code",
   "execution_count": 1,
   "metadata": {
    "ExecuteTime": {
     "end_time": "2020-06-07T04:04:39.3775630Z",
     "start_time": "2020-06-07T04:04:37.957Z"
    }
   },
   "outputs": [],
   "source": [
    "public class BrowserHistory {\n",
    "\n",
    "    public List<string> history;\n",
    "    public int currpage;\n",
    "    \n",
    "    public BrowserHistory(string homepage) {\n",
    "        history = new List<string>();\n",
    "        currpage = 0;\n",
    "        history.Add(homepage);\n",
    "    }\n",
    "    \n",
    "    public void Visit(string url) {\n",
    "        while(history.Count != currpage + 1){\n",
    "            history.RemoveAt(history.Count - 1);\n",
    "        }\n",
    "        history.Add(url);\n",
    "        currpage++;\n",
    "    }\n",
    "    \n",
    "    public string Back(int steps) {\n",
    "        var tempPage = Math.Max(0, currpage - steps);\n",
    "        currpage = tempPage;\n",
    "        return history[currpage];\n",
    "    }\n",
    "    \n",
    "    public string Forward(int steps) {\n",
    "        var tempPage = Math.Min(history.Count - 1, currpage + steps);\n",
    "        currpage = tempPage;\n",
    "        return history[currpage];\n",
    "    }\n",
    "}\n",
    "\n",
    "/**\n",
    " * Your BrowserHistory object will be instantiated and called as such:\n",
    " * BrowserHistory obj = new BrowserHistory(homepage);\n",
    " * obj.Visit(url);\n",
    " * string param_2 = obj.Back(steps);\n",
    " * string param_3 = obj.Forward(steps);\n",
    " */"
   ]
  },
  {
   "cell_type": "code",
   "execution_count": null,
   "metadata": {},
   "outputs": [],
   "source": []
  }
 ],
 "metadata": {
  "kernelspec": {
   "display_name": ".NET (C#)",
   "language": "C#",
   "name": ".net-csharp"
  },
  "language_info": {
   "file_extension": ".cs",
   "mimetype": "text/x-csharp",
   "name": "C#",
   "pygments_lexer": "csharp",
   "version": "8.0"
  },
  "toc": {
   "base_numbering": 1,
   "nav_menu": {},
   "number_sections": true,
   "sideBar": true,
   "skip_h1_title": false,
   "title_cell": "Table of Contents",
   "title_sidebar": "Contents",
   "toc_cell": false,
   "toc_position": {},
   "toc_section_display": true,
   "toc_window_display": false
  }
 },
 "nbformat": 4,
 "nbformat_minor": 4
}
