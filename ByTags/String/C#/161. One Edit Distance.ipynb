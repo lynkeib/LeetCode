{
 "cells": [
  {
   "cell_type": "markdown",
   "metadata": {},
   "source": [
    "# DP"
   ]
  },
  {
   "cell_type": "code",
   "execution_count": 1,
   "metadata": {
    "ExecuteTime": {
     "end_time": "2020-04-17T03:39:01.1757000Z",
     "start_time": "2020-04-17T03:39:00.082Z"
    }
   },
   "outputs": [],
   "source": [
    "public class Solution {\n",
    "    public bool IsOneEditDistance(string s, string t) {\n",
    "        var dp = new int[t.Length + 1, s.Length + 1];\n",
    "        for(int i = 0; i < s.Length + 1;i++){\n",
    "            dp[0, i] = i;\n",
    "        }\n",
    "        for(int i = 0; i < t.Length + 1; i++){\n",
    "            dp[i, 0] = i;\n",
    "        }\n",
    "        for(int i = 1; i < t.Length + 1; i++){\n",
    "            for(int j = 1; j < s.Length + 1; j++){\n",
    "                if(s[j - 1] == t[i - 1]){\n",
    "                    dp[i, j] = Math.Min(Math.Min(dp[i - 1, j], dp[i, j - 1]) + 1, dp[i - 1, j - 1]);\n",
    "                }else{\n",
    "                    dp[i, j] = Math.Min(Math.Min(dp[i - 1, j], dp[i, j - 1]), dp[i - 1, j - 1]) + 1;\n",
    "                }\n",
    "            }\n",
    "        }\n",
    "        return dp[t.Length, s.Length] == 1;\n",
    "    }\n",
    "}"
   ]
  },
  {
   "cell_type": "markdown",
   "metadata": {},
   "source": [
    "# Two Pointers"
   ]
  },
  {
   "cell_type": "code",
   "execution_count": 2,
   "metadata": {
    "ExecuteTime": {
     "end_time": "2020-04-17T03:48:33.3900130Z",
     "start_time": "2020-04-17T03:48:33.322Z"
    }
   },
   "outputs": [],
   "source": [
    "public class Solution {\n",
    "    public bool IsOneEditDistance(string s, string t) {\n",
    "        int index1 = 0, index2 = 0;\n",
    "        int counter = 0;\n",
    "        while(index1 < s.Length && index2 < t.Length){\n",
    "            if(s[index1] == t[index2]){\n",
    "                index1++;\n",
    "                index2++;\n",
    "            }else{\n",
    "                counter++;\n",
    "                if(counter > 1){\n",
    "                    return false;\n",
    "                }\n",
    "                if(index1 < s.Length - 1 && s[index1 + 1] == t[index2]){\n",
    "                    index1++;\n",
    "                }else if(index2 < t.Length - 1 && t[index2 + 1] == s[index1]){\n",
    "                    index2++;\n",
    "                }else{\n",
    "                    index1++;\n",
    "                    index2++;\n",
    "                }\n",
    "            }\n",
    "        }\n",
    "        if(s.Length == 1 && t.Length == 0){\n",
    "            return true;\n",
    "        }else if(s.Length == 0 && t.Length == 1){\n",
    "            return true;\n",
    "        }\n",
    "        if(index1 != s.Length){\n",
    "            index1++;\n",
    "            counter++;\n",
    "        }\n",
    "        if(index2 != t.Length){\n",
    "            index2++;\n",
    "            counter++;\n",
    "        }\n",
    "        return index1 == s.Length && index2 == t.Length && counter == 1;\n",
    "    }\n",
    "}"
   ]
  },
  {
   "cell_type": "code",
   "execution_count": null,
   "metadata": {},
   "outputs": [],
   "source": []
  }
 ],
 "metadata": {
  "kernelspec": {
   "display_name": ".NET (C#)",
   "language": "C#",
   "name": ".net-csharp"
  },
  "language_info": {
   "file_extension": ".cs",
   "mimetype": "text/x-csharp",
   "name": "C#",
   "pygments_lexer": "csharp",
   "version": "8.0"
  },
  "toc": {
   "base_numbering": 1,
   "nav_menu": {},
   "number_sections": true,
   "sideBar": true,
   "skip_h1_title": false,
   "title_cell": "Table of Contents",
   "title_sidebar": "Contents",
   "toc_cell": false,
   "toc_position": {},
   "toc_section_display": true,
   "toc_window_display": false
  }
 },
 "nbformat": 4,
 "nbformat_minor": 4
}
