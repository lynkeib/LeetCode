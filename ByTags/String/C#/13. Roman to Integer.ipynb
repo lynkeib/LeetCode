{
 "cells": [
  {
   "cell_type": "code",
   "execution_count": 1,
   "metadata": {},
   "outputs": [],
   "source": [
    "public class Solution {\n",
    "    public int RomanToInt (string s) {\n",
    "        string[] roman = new string[] { \"M\", \"CM\", \"D\", \"CD\", \"C\", \"XC\", \"L\", \"XL\", \"X\", \"IX\", \"V\", \"IV\", \"I\" };\n",
    "        int[] nums = new int[] { 1000, 900, 500, 400, 100, 90, 50, 40, 10, 9, 5, 4, 1 };\n",
    "        Dictionary<string, int> position = new Dictionary<string, int> ();\n",
    "        for (int i = 0; i < roman.Length; i++) {\n",
    "            position[roman[i]] = nums[i];\n",
    "        }\n",
    "        int res = 0;\n",
    "        int index = 0;\n",
    "        while (index < s.Length) {\n",
    "            if (index == s.Length - 1) {\n",
    "                res += position[s[index].ToString ()];\n",
    "                index++;\n",
    "            } else {\n",
    "                if (position.ContainsKey (s.Substring (index, 2))) {\n",
    "                    res += position[s.Substring (index, 2)];\n",
    "                    index += 2;\n",
    "                } else {\n",
    "                    res += position[s[index].ToString ()];\n",
    "                    index++;\n",
    "                }\n",
    "            }\n",
    "        }\n",
    "        return res;\n",
    "    }\n",
    "}\n"
   ]
  },
  {
   "cell_type": "code",
   "execution_count": null,
   "metadata": {},
   "outputs": [],
   "source": []
  }
 ],
 "metadata": {
  "kernelspec": {
   "display_name": ".NET (C#)",
   "language": "C#",
   "name": ".net-csharp"
  },
  "language_info": {
   "file_extension": ".cs",
   "mimetype": "text/x-csharp",
   "name": "C#",
   "pygments_lexer": "csharp",
   "version": "8.0"
  },
  "toc": {
   "base_numbering": 1,
   "nav_menu": {},
   "number_sections": true,
   "sideBar": true,
   "skip_h1_title": false,
   "title_cell": "Table of Contents",
   "title_sidebar": "Contents",
   "toc_cell": false,
   "toc_position": {},
   "toc_section_display": true,
   "toc_window_display": false
  }
 },
 "nbformat": 4,
 "nbformat_minor": 4
}
