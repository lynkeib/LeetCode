{
 "cells": [
  {
   "cell_type": "code",
   "execution_count": 1,
   "metadata": {
    "ExecuteTime": {
     "end_time": "2020-04-16T06:05:03.5863400Z",
     "start_time": "2020-04-16T06:05:02.963Z"
    }
   },
   "outputs": [
    {
     "ename": "Unhandled Exception",
     "evalue": "(6,25): error CS0246: The type or namespace name 'Reader4' could not be found (are you missing a using directive or an assembly reference?)\n(20,24): error CS0103: The name 'Read4' does not exist in the current context",
     "output_type": "error",
     "traceback": [
      "(6,25): error CS0246: The type or namespace name 'Reader4' could not be found (are you missing a using directive or an assembly reference?)\n(20,24): error CS0103: The name 'Read4' does not exist in the current context"
     ]
    }
   ],
   "source": [
    "/**\n",
    " * The Read4 API is defined in the parent class Reader4.\n",
    " *     int Read4(char[] buf);\n",
    " */\n",
    "\n",
    "public class Solution : Reader4 {\n",
    "    /**\n",
    "     * @param buf Destination buffer\n",
    "     * @param n   Number of characters to read\n",
    "     * @return    The number of actual characters read\n",
    "     */\n",
    "    int index = 4;\n",
    "    int size = 4;\n",
    "    char[] bur = new char[4];\n",
    "        \n",
    "    public int Read(char[] buf, int n) {\n",
    "        int burindex = 0;\n",
    "        while(burindex < n){\n",
    "            if(index >= size){\n",
    "                size = Read4(bur);\n",
    "                index = 0;\n",
    "                if(size == 0){\n",
    "                    return burindex;\n",
    "                }\n",
    "            }\n",
    "            buf[burindex] = bur[index];\n",
    "            burindex++;\n",
    "            index++;\n",
    "        }\n",
    "        return burindex;\n",
    "    }\n",
    "}"
   ]
  },
  {
   "cell_type": "code",
   "execution_count": null,
   "metadata": {},
   "outputs": [],
   "source": []
  }
 ],
 "metadata": {
  "kernelspec": {
   "display_name": ".NET (C#)",
   "language": "C#",
   "name": ".net-csharp"
  },
  "language_info": {
   "file_extension": ".cs",
   "mimetype": "text/x-csharp",
   "name": "C#",
   "pygments_lexer": "csharp",
   "version": "8.0"
  },
  "toc": {
   "base_numbering": 1,
   "nav_menu": {},
   "number_sections": true,
   "sideBar": true,
   "skip_h1_title": false,
   "title_cell": "Table of Contents",
   "title_sidebar": "Contents",
   "toc_cell": false,
   "toc_position": {},
   "toc_section_display": true,
   "toc_window_display": false
  }
 },
 "nbformat": 4,
 "nbformat_minor": 4
}
