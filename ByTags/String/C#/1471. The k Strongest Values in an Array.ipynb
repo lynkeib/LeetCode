{
 "cells": [
  {
   "cell_type": "code",
   "execution_count": 1,
   "metadata": {
    "ExecuteTime": {
     "end_time": "2020-06-07T04:03:35.5529670Z",
     "start_time": "2020-06-07T04:03:34.189Z"
    }
   },
   "outputs": [],
   "source": [
    "public class Solution {\n",
    "    public int[] GetStrongest(int[] arr, int k) {\n",
    "        Array.Sort(arr);\n",
    "        var median_index = (arr.Length - 1) / 2;\n",
    "        var median = arr[median_index];\n",
    "        var res = new int[k];\n",
    "        int left = 0, right = arr.Length - 1;\n",
    "        var index = 0;\n",
    "        while(index < k){\n",
    "            var left_diff = Math.Abs(arr[left] - median);\n",
    "            var right_diff = Math.Abs(arr[right] - median);\n",
    "            if(left_diff > right_diff){\n",
    "                res[index] = arr[left];\n",
    "                left++;\n",
    "            }else if(left_diff <= right_diff){\n",
    "                res[index] = arr[right];\n",
    "                right--;\n",
    "            }\n",
    "            index++;\n",
    "        }\n",
    "        return res;\n",
    "    }\n",
    "}"
   ]
  },
  {
   "cell_type": "code",
   "execution_count": null,
   "metadata": {},
   "outputs": [],
   "source": []
  }
 ],
 "metadata": {
  "kernelspec": {
   "display_name": ".NET (C#)",
   "language": "C#",
   "name": ".net-csharp"
  },
  "language_info": {
   "file_extension": ".cs",
   "mimetype": "text/x-csharp",
   "name": "C#",
   "pygments_lexer": "csharp",
   "version": "8.0"
  },
  "toc": {
   "base_numbering": 1,
   "nav_menu": {},
   "number_sections": true,
   "sideBar": true,
   "skip_h1_title": false,
   "title_cell": "Table of Contents",
   "title_sidebar": "Contents",
   "toc_cell": false,
   "toc_position": {},
   "toc_section_display": true,
   "toc_window_display": false
  }
 },
 "nbformat": 4,
 "nbformat_minor": 4
}
