{
 "cells": [
  {
   "cell_type": "code",
   "execution_count": 1,
   "metadata": {
    "ExecuteTime": {
     "end_time": "2020-05-03T05:04:55.6471360Z",
     "start_time": "2020-05-03T05:04:52.728Z"
    }
   },
   "outputs": [],
   "source": [
    "public class Solution {\n",
    "    public bool WordPattern(string pattern, string str) {\n",
    "        var map = new Dictionary<string, char>();\n",
    "        var visited = new HashSet<char>();\n",
    "        var words = str.Split(\" \").ToList();\n",
    "        if(words.Count != pattern.Length){\n",
    "            return false;\n",
    "        }\n",
    "        for(int i = 0; i < pattern.Length; i++){\n",
    "            if(map.ContainsKey(words[i])){\n",
    "                if(pattern[i] != map[words[i]]){\n",
    "                    return false;\n",
    "                }\n",
    "            }else{\n",
    "                if(visited.Contains(pattern[i])){\n",
    "                    return false;\n",
    "                }\n",
    "                map[words[i]] = pattern[i];\n",
    "                visited.Add(pattern[i]);\n",
    "            }\n",
    "        }\n",
    "        return true;\n",
    "    }\n",
    "}"
   ]
  },
  {
   "cell_type": "code",
   "execution_count": null,
   "metadata": {},
   "outputs": [],
   "source": []
  }
 ],
 "metadata": {
  "kernelspec": {
   "display_name": ".NET (C#)",
   "language": "C#",
   "name": ".net-csharp"
  },
  "language_info": {
   "file_extension": ".cs",
   "mimetype": "text/x-csharp",
   "name": "C#",
   "pygments_lexer": "csharp",
   "version": "8.0"
  },
  "toc": {
   "base_numbering": 1,
   "nav_menu": {},
   "number_sections": true,
   "sideBar": true,
   "skip_h1_title": false,
   "title_cell": "Table of Contents",
   "title_sidebar": "Contents",
   "toc_cell": false,
   "toc_position": {},
   "toc_section_display": true,
   "toc_window_display": false
  }
 },
 "nbformat": 4,
 "nbformat_minor": 4
}
