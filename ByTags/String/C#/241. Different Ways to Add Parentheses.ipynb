{
 "cells": [
  {
   "cell_type": "code",
   "execution_count": 1,
   "metadata": {
    "ExecuteTime": {
     "end_time": "2020-04-25T05:07:28.2411560Z",
     "start_time": "2020-04-25T05:07:27.128Z"
    }
   },
   "outputs": [],
   "source": [
    "public class Solution {\n",
    "    public IList<int> DiffWaysToCompute(string input) {\n",
    "        return dc(input);\n",
    "    }\n",
    "\n",
    "    public IList<int> dc(string input){\n",
    "        if(input.Length == 0){\n",
    "            return new List<int>{0};\n",
    "        }\n",
    "        if(!input.Contains(\"+\") && !input.Contains(\"-\") && !input.Contains(\"*\")){\n",
    "            return new List<int>{Int32.Parse(input)};\n",
    "        }\n",
    "        var res = new List<int>();\n",
    "        for (int i = 0; i < input.Length; i++)\n",
    "        {\n",
    "            if(!Char.IsDigit(input[i])){\n",
    "                var left = dc(input.Substring(0, i));\n",
    "                var right = dc(input.Substring(i + 1, input.Length - i - 1));\n",
    "                foreach (var num1 in left)\n",
    "                {\n",
    "                    foreach (var num2 in right)\n",
    "                    {\n",
    "                        if(input[i] == '+'){\n",
    "                            res.Add(num1 + num2);\n",
    "                        }else if(input[i] == '-'){\n",
    "                            res.Add(num1 - num2);\n",
    "                        }else{\n",
    "                            res.Add(num1 * num2);\n",
    "                        }\n",
    "                    }\n",
    "                }\n",
    "            }\n",
    "        }\n",
    "        return res;\n",
    "    }\n",
    "}"
   ]
  },
  {
   "cell_type": "code",
   "execution_count": null,
   "metadata": {},
   "outputs": [],
   "source": []
  }
 ],
 "metadata": {
  "kernelspec": {
   "display_name": ".NET (C#)",
   "language": "C#",
   "name": ".net-csharp"
  },
  "language_info": {
   "file_extension": ".cs",
   "mimetype": "text/x-csharp",
   "name": "C#",
   "pygments_lexer": "csharp",
   "version": "8.0"
  },
  "toc": {
   "base_numbering": 1,
   "nav_menu": {},
   "number_sections": true,
   "sideBar": true,
   "skip_h1_title": false,
   "title_cell": "Table of Contents",
   "title_sidebar": "Contents",
   "toc_cell": false,
   "toc_position": {},
   "toc_section_display": true,
   "toc_window_display": false
  }
 },
 "nbformat": 4,
 "nbformat_minor": 4
}
