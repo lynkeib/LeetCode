{
 "cells": [
  {
   "cell_type": "code",
   "execution_count": 1,
   "metadata": {},
   "outputs": [],
   "source": [
    "public class Solution {\n",
    "\n",
    "    int res;\n",
    "    int left;\n",
    "    int right;\n",
    "    Dictionary<char, int> counter;\n",
    "\n",
    "    public int LengthOfLongestSubstring (string s) {\n",
    "        right = 0;\n",
    "        left = 0;\n",
    "        res = 0;\n",
    "        counter = new Dictionary<char, int> ();\n",
    "\n",
    "        while (right < s.Length) {\n",
    "            if (!counter.ContainsKey (s[right])) {\n",
    "                counter[s[right]] = 1;\n",
    "            } else {\n",
    "                counter[s[right]]++;\n",
    "            }\n",
    "            while (left < right && counter[s[right]] > 1) {\n",
    "                counter[s[left]]--;\n",
    "                left++;\n",
    "            }\n",
    "            res = Math.Max (res, right - left + 1);\n",
    "            right++;\n",
    "        }\n",
    "        return res;\n",
    "    }\n",
    "}"
   ]
  },
  {
   "cell_type": "code",
   "execution_count": null,
   "metadata": {},
   "outputs": [],
   "source": []
  }
 ],
 "metadata": {
  "kernelspec": {
   "display_name": ".NET (C#)",
   "language": "C#",
   "name": ".net-csharp"
  },
  "language_info": {
   "file_extension": ".cs",
   "mimetype": "text/x-csharp",
   "name": "C#",
   "pygments_lexer": "csharp",
   "version": "8.0"
  },
  "toc": {
   "base_numbering": 1,
   "nav_menu": {},
   "number_sections": true,
   "sideBar": true,
   "skip_h1_title": false,
   "title_cell": "Table of Contents",
   "title_sidebar": "Contents",
   "toc_cell": false,
   "toc_position": {},
   "toc_section_display": true,
   "toc_window_display": false
  }
 },
 "nbformat": 4,
 "nbformat_minor": 4
}
