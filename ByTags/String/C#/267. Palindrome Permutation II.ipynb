{
 "cells": [
  {
   "cell_type": "code",
   "execution_count": 1,
   "metadata": {
    "ExecuteTime": {
     "end_time": "2020-04-08T05:41:49.0988970Z",
     "start_time": "2020-04-08T05:41:47.911Z"
    }
   },
   "outputs": [],
   "source": [
    "public class Solution {\n",
    "    public IList<string> GeneratePalindromes (string s) {\n",
    "        var map = new Dictionary<char, int> ();\n",
    "        foreach (var item in s) {\n",
    "            if (!map.ContainsKey (item)) map[item] = 0;\n",
    "            map[item]++;\n",
    "        }\n",
    "        var odd = 0;\n",
    "        var res = new List<string> ();\n",
    "        foreach (var item in map.Values) {\n",
    "            if (item % 2 != 0) {\n",
    "                odd++;\n",
    "                if (odd > 1) return res;\n",
    "            }\n",
    "        }\n",
    "        var keys = map.Keys.ToArray();\n",
    "        dfs(map, keys, 0, s.Length - 1, new char[s.Length], res);\n",
    "        return res;\n",
    "    }\n",
    "\n",
    "    public void dfs (Dictionary<char, int> map, char[] keys, int left, int right, char[] path, List<string> res) {\n",
    "        if (left > right) {\n",
    "            res.Add (new string (path));\n",
    "            return;\n",
    "        }\n",
    "        if (left == right) {\n",
    "            foreach (var key in keys) {\n",
    "                if (map[key] == 1) {\n",
    "                    path[left] = key;\n",
    "                    res.Add (new string (path));\n",
    "                    return;\n",
    "                }\n",
    "            }\n",
    "        }\n",
    "        foreach (var key in keys) {\n",
    "            if (map[key] >= 2) {\n",
    "                path[left] = key;\n",
    "                path[right] = key;\n",
    "                map[key] -= 2;\n",
    "                dfs (map, keys, left + 1, right - 1, path, res);\n",
    "                map[key] += 2;\n",
    "            }\n",
    "        }\n",
    "        return;\n",
    "    }\n",
    "}"
   ]
  },
  {
   "cell_type": "code",
   "execution_count": null,
   "metadata": {},
   "outputs": [],
   "source": []
  }
 ],
 "metadata": {
  "kernelspec": {
   "display_name": ".NET (C#)",
   "language": "C#",
   "name": ".net-csharp"
  },
  "language_info": {
   "file_extension": ".cs",
   "mimetype": "text/x-csharp",
   "name": "C#",
   "pygments_lexer": "csharp",
   "version": "8.0"
  },
  "toc": {
   "base_numbering": 1,
   "nav_menu": {},
   "number_sections": true,
   "sideBar": true,
   "skip_h1_title": false,
   "title_cell": "Table of Contents",
   "title_sidebar": "Contents",
   "toc_cell": false,
   "toc_position": {},
   "toc_section_display": true,
   "toc_window_display": false
  }
 },
 "nbformat": 4,
 "nbformat_minor": 4
}
