{
 "cells": [
  {
   "cell_type": "code",
   "execution_count": 1,
   "metadata": {
    "ExecuteTime": {
     "end_time": "2020-05-03T06:12:35.6536100Z",
     "start_time": "2020-05-03T06:12:31.773Z"
    }
   },
   "outputs": [],
   "source": [
    "public class Solution {\n",
    "    public IList<string> GeneratePossibleNextMoves(string s) {\n",
    "        var res = new List<string>();\n",
    "        for(int i = 0; i < s.Length - 1; i++){\n",
    "            if(s[i] == '+' && s[i + 1] == '+'){\n",
    "                StringBuilder sb = new StringBuilder(s);\n",
    "                sb[i] = '-';\n",
    "                sb[i + 1] = '-';\n",
    "                var theString = sb.ToString();\n",
    "                res.Add(theString);\n",
    "            }\n",
    "        }\n",
    "        return res;\n",
    "    }\n",
    "}"
   ]
  },
  {
   "cell_type": "code",
   "execution_count": null,
   "metadata": {},
   "outputs": [],
   "source": []
  }
 ],
 "metadata": {
  "kernelspec": {
   "display_name": ".NET (C#)",
   "language": "C#",
   "name": ".net-csharp"
  },
  "language_info": {
   "file_extension": ".cs",
   "mimetype": "text/x-csharp",
   "name": "C#",
   "pygments_lexer": "csharp",
   "version": "8.0"
  },
  "toc": {
   "base_numbering": 1,
   "nav_menu": {},
   "number_sections": true,
   "sideBar": true,
   "skip_h1_title": false,
   "title_cell": "Table of Contents",
   "title_sidebar": "Contents",
   "toc_cell": false,
   "toc_position": {},
   "toc_section_display": true,
   "toc_window_display": false
  }
 },
 "nbformat": 4,
 "nbformat_minor": 4
}
