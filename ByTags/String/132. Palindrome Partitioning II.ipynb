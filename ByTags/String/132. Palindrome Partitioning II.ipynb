{
 "cells": [
  {
   "cell_type": "markdown",
   "metadata": {},
   "source": [
    "# TLE"
   ]
  },
  {
   "cell_type": "code",
   "execution_count": 1,
   "metadata": {
    "ExecuteTime": {
     "end_time": "2019-10-28T05:33:26.371849Z",
     "start_time": "2019-10-28T05:33:26.363846Z"
    }
   },
   "outputs": [],
   "source": [
    "class Solution(object):\n",
    "    def minCut(self, s):\n",
    "        \"\"\"\n",
    "        :type s: str\n",
    "        :rtype: int\n",
    "        \"\"\"\n",
    "        res = [float('inf')]\n",
    "        self.dfs(s, 0, res)\n",
    "        return res[0] - 1\n",
    "        \n",
    "    def dfs(self, s, path, res):\n",
    "        if not s:\n",
    "            if path < res[0]:\n",
    "                res[0] = path\n",
    "        \n",
    "        for index in range(1, len(s) + 1):\n",
    "            if self.isValid(s[:index]):\n",
    "                self.dfs(s[index:], path + 1, res)\n",
    "        return \n",
    "    \n",
    "    def isValid(self, s):\n",
    "        if len(s) < 2:\n",
    "            return True\n",
    "        left, right = 0, len(s) - 1\n",
    "        while left < right:\n",
    "            if s[left] != s[right]:\n",
    "                return False\n",
    "            left += 1\n",
    "            right -= 1\n",
    "        return True"
   ]
  },
  {
   "cell_type": "code",
   "execution_count": null,
   "metadata": {},
   "outputs": [],
   "source": []
  }
 ],
 "metadata": {
  "kernelspec": {
   "display_name": "Python 3",
   "language": "python",
   "name": "python3"
  },
  "language_info": {
   "codemirror_mode": {
    "name": "ipython",
    "version": 3
   },
   "file_extension": ".py",
   "mimetype": "text/x-python",
   "name": "python",
   "nbconvert_exporter": "python",
   "pygments_lexer": "ipython3",
   "version": "3.7.1"
  },
  "toc": {
   "base_numbering": 1,
   "nav_menu": {},
   "number_sections": true,
   "sideBar": true,
   "skip_h1_title": false,
   "title_cell": "Table of Contents",
   "title_sidebar": "Contents",
   "toc_cell": false,
   "toc_position": {},
   "toc_section_display": true,
   "toc_window_display": false
  }
 },
 "nbformat": 4,
 "nbformat_minor": 2
}
