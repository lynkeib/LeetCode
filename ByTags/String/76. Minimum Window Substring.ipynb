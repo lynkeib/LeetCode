{
 "cells": [
  {
   "cell_type": "code",
   "execution_count": 2,
   "metadata": {
    "ExecuteTime": {
     "end_time": "2019-10-27T02:47:08.580007Z",
     "start_time": "2019-10-27T02:47:08.571159Z"
    }
   },
   "outputs": [],
   "source": [
    "class Solution(object):\n",
    "    def minWindow(self, s, t):\n",
    "        \"\"\"\n",
    "        :type s: str\n",
    "        :type t: str\n",
    "        :rtype: str\n",
    "        \"\"\"\n",
    "        ## assume all the char in t appears only once\n",
    "        counter = 0 # char that meet the the requirement\n",
    "        res = \"\"\n",
    "        count_t = collections.Counter(t)\n",
    "        count = {i:0 for i in t}\n",
    "        # print(count)\n",
    "        fast, slow = 0, 0\n",
    "        while fast < len(s):\n",
    "            if s[fast] in count:\n",
    "                count[s[fast]] += 1\n",
    "                if count[s[fast]] == count_t[s[fast]]:\n",
    "                    counter += 1\n",
    "            while slow < fast and (s[slow] not in count or count[s[slow]] > count_t[s[slow]]):\n",
    "                if s[slow] in count:\n",
    "                    count[s[slow]] -= 1\n",
    "                slow += 1\n",
    "            # print(fast, slow)\n",
    "            if counter == len(count_t):\n",
    "                temp = s[slow:fast+1]\n",
    "                if len(temp) < len(res) or res == '':\n",
    "                    res = temp\n",
    "            fast += 1\n",
    "        return res"
   ]
  },
  {
   "cell_type": "code",
   "execution_count": null,
   "metadata": {},
   "outputs": [],
   "source": []
  }
 ],
 "metadata": {
  "kernelspec": {
   "display_name": "Python 3",
   "language": "python",
   "name": "python3"
  },
  "language_info": {
   "codemirror_mode": {
    "name": "ipython",
    "version": 3
   },
   "file_extension": ".py",
   "mimetype": "text/x-python",
   "name": "python",
   "nbconvert_exporter": "python",
   "pygments_lexer": "ipython3",
   "version": "3.7.1"
  },
  "toc": {
   "base_numbering": 1,
   "nav_menu": {},
   "number_sections": true,
   "sideBar": true,
   "skip_h1_title": false,
   "title_cell": "Table of Contents",
   "title_sidebar": "Contents",
   "toc_cell": false,
   "toc_position": {},
   "toc_section_display": true,
   "toc_window_display": false
  }
 },
 "nbformat": 4,
 "nbformat_minor": 2
}
