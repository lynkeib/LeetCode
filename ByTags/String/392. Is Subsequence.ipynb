{
 "cells": [
  {
   "cell_type": "markdown",
   "metadata": {},
   "source": [
    "# Two Pointers"
   ]
  },
  {
   "cell_type": "code",
   "execution_count": 1,
   "metadata": {
    "ExecuteTime": {
     "end_time": "2019-10-29T06:07:26.804464Z",
     "start_time": "2019-10-29T06:07:26.797576Z"
    }
   },
   "outputs": [],
   "source": [
    "class Solution(object):\n",
    "    def isSubsequence(self, s, t):\n",
    "        \"\"\"\n",
    "        :type s: str\n",
    "        :type t: str\n",
    "        :rtype: bool\n",
    "        \"\"\"\n",
    "        if not s:\n",
    "            return True\n",
    "        if not t:\n",
    "            return False\n",
    "        pointer1, pointer2 = 0, 0\n",
    "        while pointer1 < len(s) and pointer2 < len(t):\n",
    "            while pointer1 < len(s) and pointer2 < len(t) and s[pointer1] != t[pointer2]:\n",
    "                pointer2 += 1\n",
    "            if pointer2 == len(t):\n",
    "                return False\n",
    "            pointer1 += 1\n",
    "            pointer2 += 1\n",
    "        return pointer1 == len(s)"
   ]
  },
  {
   "cell_type": "markdown",
   "metadata": {},
   "source": [
    "# Binary Search"
   ]
  },
  {
   "cell_type": "code",
   "execution_count": 2,
   "metadata": {
    "ExecuteTime": {
     "end_time": "2019-10-29T06:24:22.328667Z",
     "start_time": "2019-10-29T06:24:22.319782Z"
    }
   },
   "outputs": [],
   "source": [
    "class Solution(object):\n",
    "    def isSubsequence(self, s, t):\n",
    "        \"\"\"\n",
    "        :type s: str\n",
    "        :type t: str\n",
    "        :rtype: bool\n",
    "        \"\"\"\n",
    "        if not s:\n",
    "            return True\n",
    "        if not t:\n",
    "            return False\n",
    "        position = dict()\n",
    "        for index, value in enumerate(t):\n",
    "            if value not in position:\n",
    "                position[value] = [index]\n",
    "            else:\n",
    "                position[value].append(index)\n",
    "        prev = -1\n",
    "        for c in s:\n",
    "            if c not in position:\n",
    "                return False\n",
    "            this = self.binarysearch(position[c], prev)\n",
    "            # print(prev, this)\n",
    "            if this < prev:\n",
    "                return False\n",
    "            prev = this\n",
    "        return True\n",
    "    \n",
    "    def binarysearch(self, nums, target):\n",
    "        left, right = 0, len(nums) - 1\n",
    "        while left < right:\n",
    "            mid = left + (right - left) // 2\n",
    "            if nums[mid] <= target:\n",
    "                left = mid + 1\n",
    "            else:\n",
    "                right = mid\n",
    "        return nums[left]"
   ]
  },
  {
   "cell_type": "code",
   "execution_count": null,
   "metadata": {},
   "outputs": [],
   "source": []
  }
 ],
 "metadata": {
  "kernelspec": {
   "display_name": "Python 3",
   "language": "python",
   "name": "python3"
  },
  "language_info": {
   "codemirror_mode": {
    "name": "ipython",
    "version": 3
   },
   "file_extension": ".py",
   "mimetype": "text/x-python",
   "name": "python",
   "nbconvert_exporter": "python",
   "pygments_lexer": "ipython3",
   "version": "3.7.1"
  },
  "toc": {
   "base_numbering": 1,
   "nav_menu": {},
   "number_sections": true,
   "sideBar": true,
   "skip_h1_title": false,
   "title_cell": "Table of Contents",
   "title_sidebar": "Contents",
   "toc_cell": false,
   "toc_position": {},
   "toc_section_display": true,
   "toc_window_display": false
  }
 },
 "nbformat": 4,
 "nbformat_minor": 2
}
