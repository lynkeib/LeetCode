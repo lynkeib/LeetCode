{
 "cells": [
  {
   "cell_type": "code",
   "execution_count": 2,
   "metadata": {
    "ExecuteTime": {
     "end_time": "2019-10-29T05:02:06.647402Z",
     "start_time": "2019-10-29T05:02:06.638020Z"
    }
   },
   "outputs": [],
   "source": [
    "class Solution(object):\n",
    "    def diffWaysToCompute(self, input):\n",
    "        \"\"\"\n",
    "        :type input: str\n",
    "        :rtype: List[int]\n",
    "        \"\"\"\n",
    "        return self.dc(input)\n",
    "    \n",
    "    def dc(self, s):\n",
    "        if not s:\n",
    "            return [0]\n",
    "        try:\n",
    "            return [int(s)]\n",
    "        except:\n",
    "            temp = []\n",
    "            for index in range(len(s)):\n",
    "                if not s[index].isnumeric():\n",
    "                    left = self.dc(s[:index])\n",
    "                    right = self.dc(s[index + 1:])\n",
    "                    for num1 in left:\n",
    "                        for num2 in right:\n",
    "                            if s[index] == '+':\n",
    "                                temp.append(num1 + num2)\n",
    "                            elif s[index] == '-':\n",
    "                                temp.append(num1 - num2)\n",
    "                            else:\n",
    "                                temp.append(num1 * num2)\n",
    "        return temp"
   ]
  },
  {
   "cell_type": "code",
   "execution_count": null,
   "metadata": {},
   "outputs": [],
   "source": []
  }
 ],
 "metadata": {
  "kernelspec": {
   "display_name": "Python 3",
   "language": "python",
   "name": "python3"
  },
  "language_info": {
   "codemirror_mode": {
    "name": "ipython",
    "version": 3
   },
   "file_extension": ".py",
   "mimetype": "text/x-python",
   "name": "python",
   "nbconvert_exporter": "python",
   "pygments_lexer": "ipython3",
   "version": "3.7.4"
  },
  "toc": {
   "base_numbering": 1,
   "nav_menu": {},
   "number_sections": true,
   "sideBar": true,
   "skip_h1_title": false,
   "title_cell": "Table of Contents",
   "title_sidebar": "Contents",
   "toc_cell": false,
   "toc_position": {},
   "toc_section_display": true,
   "toc_window_display": false
  }
 },
 "nbformat": 4,
 "nbformat_minor": 2
}
