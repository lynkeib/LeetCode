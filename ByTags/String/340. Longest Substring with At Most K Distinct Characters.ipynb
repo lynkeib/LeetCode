{
 "cells": [
  {
   "cell_type": "code",
   "execution_count": 1,
   "metadata": {
    "ExecuteTime": {
     "end_time": "2019-10-27T04:36:24.768504Z",
     "start_time": "2019-10-27T04:36:24.758974Z"
    }
   },
   "outputs": [],
   "source": [
    "class Solution(object):\n",
    "    def lengthOfLongestSubstringKDistinct(self, s, k):\n",
    "        \"\"\"\n",
    "        :type s: str\n",
    "        :type k: int\n",
    "        :rtype: int\n",
    "        \"\"\"\n",
    "        counter = 0\n",
    "        seen = dict()\n",
    "        slow, fast = 0, 0\n",
    "        res = \"\"\n",
    "        while fast < len(s):\n",
    "            while fast < len(s) and len(seen) + (s[fast] not in seen) <= k:\n",
    "                if s[fast] in seen:\n",
    "                    seen[s[fast]] += 1\n",
    "                else:\n",
    "                    seen[s[fast]] = 1\n",
    "                fast += 1\n",
    "            if fast - slow > len(res):\n",
    "                res = s[slow:fast]\n",
    "            if fast == len(s):\n",
    "                return len(res)\n",
    "            \n",
    "            seen[s[fast]] = 1\n",
    "            fast += 1\n",
    "            \n",
    "            while slow < fast and len(seen) > k:\n",
    "                seen[s[slow]] -= 1\n",
    "                if seen[s[slow]] == 0:\n",
    "                    del seen[s[slow]]\n",
    "                slow += 1\n",
    "        return len(res)"
   ]
  },
  {
   "cell_type": "code",
   "execution_count": null,
   "metadata": {},
   "outputs": [],
   "source": []
  }
 ],
 "metadata": {
  "kernelspec": {
   "display_name": "Python 3",
   "language": "python",
   "name": "python3"
  },
  "language_info": {
   "codemirror_mode": {
    "name": "ipython",
    "version": 3
   },
   "file_extension": ".py",
   "mimetype": "text/x-python",
   "name": "python",
   "nbconvert_exporter": "python",
   "pygments_lexer": "ipython3",
   "version": "3.7.1"
  },
  "toc": {
   "base_numbering": 1,
   "nav_menu": {},
   "number_sections": true,
   "sideBar": true,
   "skip_h1_title": false,
   "title_cell": "Table of Contents",
   "title_sidebar": "Contents",
   "toc_cell": false,
   "toc_position": {},
   "toc_section_display": true,
   "toc_window_display": false
  }
 },
 "nbformat": 4,
 "nbformat_minor": 2
}
