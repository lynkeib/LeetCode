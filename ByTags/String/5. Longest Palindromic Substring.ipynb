{
 "cells": [
  {
   "cell_type": "markdown",
   "metadata": {},
   "source": [
    "# TLE"
   ]
  },
  {
   "cell_type": "code",
   "execution_count": 1,
   "metadata": {
    "ExecuteTime": {
     "end_time": "2019-10-28T03:38:09.423467Z",
     "start_time": "2019-10-28T03:38:09.413527Z"
    }
   },
   "outputs": [],
   "source": [
    "class Solution(object):\n",
    "    def longestPalindrome(self, s):\n",
    "        \"\"\"\n",
    "        :type s: str\n",
    "        :rtype: str\n",
    "        \"\"\"\n",
    "        counter = collections.Counter(s)\n",
    "        res = [\"\"]\n",
    "        self.dfs(s, 0, len(s) - 1, res)\n",
    "        return res[0]\n",
    "    \n",
    "    def dfs(self, s, left, right, res):\n",
    "        if right - left + 1 <= len(res[0]):\n",
    "            return\n",
    "        if self.isValid(s, left, right):\n",
    "            res[0] = s[left:right+1]\n",
    "            return\n",
    "        self.dfs(s, left, right-1, res)\n",
    "        self.dfs(s, left + 1, right, res)\n",
    "        self.dfs(s, left + 1, right - 1, res)\n",
    "        return \n",
    "    \n",
    "    def isValid(self, s, left, right):\n",
    "        if left > right:\n",
    "            return False\n",
    "        if left == right:\n",
    "            return True\n",
    "        while left < right:\n",
    "            if s[left] != s[right]:\n",
    "                return False\n",
    "            left += 1\n",
    "            right -= 1\n",
    "        return True"
   ]
  },
  {
   "cell_type": "markdown",
   "metadata": {},
   "source": [
    "# Reversed, trying to extend the substring rather than shrinking the substring"
   ]
  },
  {
   "cell_type": "code",
   "execution_count": 2,
   "metadata": {
    "ExecuteTime": {
     "end_time": "2019-10-28T04:01:21.625602Z",
     "start_time": "2019-10-28T04:01:21.618371Z"
    }
   },
   "outputs": [],
   "source": [
    "class Solution(object):\n",
    "    def longestPalindrome(self, s):\n",
    "        \"\"\"\n",
    "        :type s: str\n",
    "        :rtype: str\n",
    "        \"\"\"\n",
    "        if len(s) < 2:\n",
    "            return s\n",
    "        res = [\"\"]\n",
    "        for index in range(len(s) - 1):\n",
    "            self.extend(s, index, index, res)\n",
    "            self.extend(s, index, index + 1, res)\n",
    "        return res[0]\n",
    "    \n",
    "    def extend(self, s, left, right, res):\n",
    "        while left >= 0 and right < len(s) and s[left] == s[right]:\n",
    "            left -= 1\n",
    "            right += 1\n",
    "        if right - left - 1 > len(res[0]):\n",
    "            res[0] = s[left + 1:right]\n",
    "        return "
   ]
  },
  {
   "cell_type": "code",
   "execution_count": null,
   "metadata": {},
   "outputs": [],
   "source": []
  }
 ],
 "metadata": {
  "kernelspec": {
   "display_name": "Python 3",
   "language": "python",
   "name": "python3"
  },
  "language_info": {
   "codemirror_mode": {
    "name": "ipython",
    "version": 3
   },
   "file_extension": ".py",
   "mimetype": "text/x-python",
   "name": "python",
   "nbconvert_exporter": "python",
   "pygments_lexer": "ipython3",
   "version": "3.7.1"
  },
  "toc": {
   "base_numbering": 1,
   "nav_menu": {},
   "number_sections": true,
   "sideBar": true,
   "skip_h1_title": false,
   "title_cell": "Table of Contents",
   "title_sidebar": "Contents",
   "toc_cell": false,
   "toc_position": {},
   "toc_section_display": true,
   "toc_window_display": false
  }
 },
 "nbformat": 4,
 "nbformat_minor": 2
}
