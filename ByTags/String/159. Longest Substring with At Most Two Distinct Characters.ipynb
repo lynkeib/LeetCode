{
 "cells": [
  {
   "cell_type": "code",
   "execution_count": 1,
   "metadata": {
    "ExecuteTime": {
     "end_time": "2019-10-28T03:05:28.943896Z",
     "start_time": "2019-10-28T03:05:28.936683Z"
    }
   },
   "outputs": [],
   "source": [
    "class Solution(object):\n",
    "    def lengthOfLongestSubstringTwoDistinct(self, s):\n",
    "        \"\"\"\n",
    "        :type s: str\n",
    "        :rtype: int\n",
    "        \"\"\"\n",
    "        res = 0\n",
    "        slow, fast = 0, 0\n",
    "        counter = dict()\n",
    "        while fast < len(s):\n",
    "            while fast < len(s) and len(counter) + (s[fast] not in counter) <= 2:\n",
    "                if s[fast] in counter:\n",
    "                    counter[s[fast]] += 1\n",
    "                else:\n",
    "                    counter[s[fast]] = 1\n",
    "                fast += 1\n",
    "            res = max(res, fast - slow)\n",
    "            if fast == len(s):\n",
    "                return res\n",
    "            counter[s[fast]] = 1\n",
    "            while slow < fast and len(counter) > 2:\n",
    "                counter[s[slow]] -= 1\n",
    "                if counter[s[slow]] == 0:\n",
    "                    del counter[s[slow]]\n",
    "                slow += 1\n",
    "            fast += 1\n",
    "        return res\n",
    "            \n",
    "            "
   ]
  },
  {
   "cell_type": "code",
   "execution_count": null,
   "metadata": {},
   "outputs": [],
   "source": []
  }
 ],
 "metadata": {
  "kernelspec": {
   "display_name": "Python 3",
   "language": "python",
   "name": "python3"
  },
  "language_info": {
   "codemirror_mode": {
    "name": "ipython",
    "version": 3
   },
   "file_extension": ".py",
   "mimetype": "text/x-python",
   "name": "python",
   "nbconvert_exporter": "python",
   "pygments_lexer": "ipython3",
   "version": "3.7.1"
  },
  "toc": {
   "base_numbering": 1,
   "nav_menu": {},
   "number_sections": true,
   "sideBar": true,
   "skip_h1_title": false,
   "title_cell": "Table of Contents",
   "title_sidebar": "Contents",
   "toc_cell": false,
   "toc_position": {},
   "toc_section_display": true,
   "toc_window_display": false
  }
 },
 "nbformat": 4,
 "nbformat_minor": 2
}
