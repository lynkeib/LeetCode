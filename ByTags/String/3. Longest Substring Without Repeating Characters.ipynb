{
 "cells": [
  {
   "cell_type": "code",
   "execution_count": 1,
   "metadata": {
    "ExecuteTime": {
     "end_time": "2019-10-27T04:17:37.822031Z",
     "start_time": "2019-10-27T04:17:37.814170Z"
    }
   },
   "outputs": [],
   "source": [
    "class Solution(object):\n",
    "    def lengthOfLongestSubstring(self, s):\n",
    "        \"\"\"\n",
    "        :type s: str\n",
    "        :rtype: int\n",
    "        \"\"\"\n",
    "        seen = set()\n",
    "        res = \"\"\n",
    "        slow, fast = 0, 0\n",
    "        while fast < len(s):\n",
    "            while fast < len(s) and s[fast] not in seen:\n",
    "                seen.add(s[fast])\n",
    "                fast += 1\n",
    "            if fast - slow > len(res):\n",
    "                res = s[slow:fast]\n",
    "            if fast == len(s):\n",
    "                return len(res)\n",
    "            while slow < fast and s[fast] in seen:\n",
    "                seen = seen - set(s[slow])\n",
    "                slow += 1\n",
    "        return len(res)"
   ]
  },
  {
   "cell_type": "code",
   "execution_count": null,
   "metadata": {},
   "outputs": [],
   "source": []
  }
 ],
 "metadata": {
  "kernelspec": {
   "display_name": "Python 3",
   "language": "python",
   "name": "python3"
  },
  "language_info": {
   "codemirror_mode": {
    "name": "ipython",
    "version": 3
   },
   "file_extension": ".py",
   "mimetype": "text/x-python",
   "name": "python",
   "nbconvert_exporter": "python",
   "pygments_lexer": "ipython3",
   "version": "3.7.1"
  },
  "toc": {
   "base_numbering": 1,
   "nav_menu": {},
   "number_sections": true,
   "sideBar": true,
   "skip_h1_title": false,
   "title_cell": "Table of Contents",
   "title_sidebar": "Contents",
   "toc_cell": false,
   "toc_position": {},
   "toc_section_display": true,
   "toc_window_display": false
  }
 },
 "nbformat": 4,
 "nbformat_minor": 2
}
