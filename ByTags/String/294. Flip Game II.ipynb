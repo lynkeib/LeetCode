{
 "cells": [
  {
   "cell_type": "code",
   "execution_count": 3,
   "metadata": {
    "ExecuteTime": {
     "end_time": "2019-10-25T05:30:33.097411Z",
     "start_time": "2019-10-25T05:30:33.083766Z"
    }
   },
   "outputs": [],
   "source": [
    "class Solution(object):\n",
    "    def canWin(self, s):\n",
    "        \"\"\"\n",
    "        :type s: str\n",
    "        :rtype: bool\n",
    "        \"\"\"\n",
    "        res = dict()\n",
    "        for index in range(len(s) - 1):\n",
    "            if s[index:index+2] == \"++\":\n",
    "                \n",
    "                after = self.flip(s, index)\n",
    "                po = self.dfs(after, res, 2)\n",
    "                # print(after)\n",
    "                if po:\n",
    "                    print(after, index)\n",
    "                    return True\n",
    "        return False\n",
    "    \n",
    "    def dfs(self, s, res, player):\n",
    "        # print(s)\n",
    "        if player == 1:\n",
    "            if (s, 1) in res:\n",
    "                return res[(s, 1)]\n",
    "            for index in range(len(s) - 1):\n",
    "                if s[index:index+2] == \"++\":\n",
    "                    flip = True\n",
    "                    after = self.flip(s, index)\n",
    "                    po = self.dfs(after, res, 2)\n",
    "                    if po:\n",
    "                        res[(s, 1)] = True\n",
    "                        return True\n",
    "            res[(s, 1)] = False\n",
    "            return False\n",
    "        else: # player = 2\n",
    "            if (s, 2) in res:\n",
    "                return res[(s, 2)]\n",
    "            this_result = True\n",
    "            for index in range(len(s) - 1):\n",
    "                if s[index:index+2] == \"++\":\n",
    "                    after = self.flip(s, index)\n",
    "                    po = self.dfs(after, res, 1) # po = if 1 has possiblility to win\n",
    "                    this_result = this_result and po\n",
    "            res[(s, 2)] = this_result\n",
    "            return this_result\n",
    "            \n",
    "    def flip(self, s, index):\n",
    "        temp = [i for i in s]\n",
    "        temp[index] = '-'\n",
    "        temp[index + 1] = '-'\n",
    "        return ''.join(temp)"
   ]
  },
  {
   "cell_type": "code",
   "execution_count": null,
   "metadata": {},
   "outputs": [],
   "source": []
  }
 ],
 "metadata": {
  "kernelspec": {
   "display_name": "Python 3",
   "language": "python",
   "name": "python3"
  },
  "language_info": {
   "codemirror_mode": {
    "name": "ipython",
    "version": 3
   },
   "file_extension": ".py",
   "mimetype": "text/x-python",
   "name": "python",
   "nbconvert_exporter": "python",
   "pygments_lexer": "ipython3",
   "version": "3.7.1"
  },
  "toc": {
   "base_numbering": 1,
   "nav_menu": {},
   "number_sections": true,
   "sideBar": true,
   "skip_h1_title": false,
   "title_cell": "Table of Contents",
   "title_sidebar": "Contents",
   "toc_cell": false,
   "toc_position": {},
   "toc_section_display": true,
   "toc_window_display": false
  }
 },
 "nbformat": 4,
 "nbformat_minor": 2
}
