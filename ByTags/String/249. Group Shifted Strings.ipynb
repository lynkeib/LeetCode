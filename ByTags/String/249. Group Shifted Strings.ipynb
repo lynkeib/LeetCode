{
 "cells": [
  {
   "cell_type": "code",
   "execution_count": 11,
   "metadata": {
    "ExecuteTime": {
     "end_time": "2019-10-26T03:36:07.282494Z",
     "start_time": "2019-10-26T03:36:07.275230Z"
    }
   },
   "outputs": [],
   "source": [
    "class Solution(object):\n",
    "    def groupStrings(self, strings):\n",
    "        \"\"\"\n",
    "        :type strings: List[str]\n",
    "        :rtype: List[List[str]]\n",
    "        \"\"\"\n",
    "        dic = dict()\n",
    "        for s in strings:\n",
    "            token = self.token(s)\n",
    "            if token in dic:\n",
    "                dic[token].append(s)\n",
    "            else:\n",
    "                dic[token] = [s]\n",
    "        return [value for value in dic.values()]\n",
    "    \n",
    "    def token(self, s):\n",
    "        ord_a = ord('a')\n",
    "        dis = ord(s[0]) - ord_a\n",
    "        transform = [chr(ord(i) - dis) if ord(i) - dis >= ord_a else chr(ord(i) - dis + 26) for i in s ]\n",
    "        return ''.join(transform)\n",
    "            "
   ]
  },
  {
   "cell_type": "code",
   "execution_count": null,
   "metadata": {},
   "outputs": [],
   "source": []
  }
 ],
 "metadata": {
  "kernelspec": {
   "display_name": "Python 3",
   "language": "python",
   "name": "python3"
  },
  "language_info": {
   "codemirror_mode": {
    "name": "ipython",
    "version": 3
   },
   "file_extension": ".py",
   "mimetype": "text/x-python",
   "name": "python",
   "nbconvert_exporter": "python",
   "pygments_lexer": "ipython3",
   "version": "3.7.1"
  },
  "toc": {
   "base_numbering": 1,
   "nav_menu": {},
   "number_sections": true,
   "sideBar": true,
   "skip_h1_title": false,
   "title_cell": "Table of Contents",
   "title_sidebar": "Contents",
   "toc_cell": false,
   "toc_position": {},
   "toc_section_display": true,
   "toc_window_display": false
  }
 },
 "nbformat": 4,
 "nbformat_minor": 2
}
