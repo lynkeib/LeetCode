{
 "cells": [
  {
   "cell_type": "code",
   "execution_count": 1,
   "metadata": {
    "ExecuteTime": {
     "end_time": "2019-10-25T05:53:02.326946Z",
     "start_time": "2019-10-25T05:53:02.320357Z"
    }
   },
   "outputs": [],
   "source": [
    "class Solution(object):\n",
    "    def isAnagram(self, s, t):\n",
    "        \"\"\"\n",
    "        :type s: str\n",
    "        :type t: str\n",
    "        :rtype: bool\n",
    "        \"\"\"\n",
    "        counters = collections.Counter(s)\n",
    "        countert = collections.Counter(t)\n",
    "        al = set(counters.keys()) | set(countert.keys())\n",
    "        for key in al:\n",
    "            if key not in counters or key not in countert:\n",
    "                return False\n",
    "            if counters[key] != countert[key]:\n",
    "                return False\n",
    "        return True"
   ]
  },
  {
   "cell_type": "code",
   "execution_count": 2,
   "metadata": {
    "ExecuteTime": {
     "end_time": "2019-10-25T06:01:21.713373Z",
     "start_time": "2019-10-25T06:01:21.706682Z"
    }
   },
   "outputs": [],
   "source": [
    "class Solution(object):\n",
    "    def isAnagram(self, s, t):\n",
    "        \"\"\"\n",
    "        :type s: str\n",
    "        :type t: str\n",
    "        :rtype: bool\n",
    "        \"\"\"\n",
    "        counters = dict()\n",
    "        for c in s:\n",
    "            if c not in counters:\n",
    "                counters[c] = 1\n",
    "            else:\n",
    "                counters[c] += 1\n",
    "                \n",
    "        for c in t:\n",
    "            if c not in counters:\n",
    "                return False\n",
    "            counters[c] -= 1\n",
    "            if counters[c] < 0:\n",
    "                return False\n",
    "            \n",
    "        for key, value in counters.items():\n",
    "            if value != 0:\n",
    "                return False\n",
    "        return True"
   ]
  },
  {
   "cell_type": "code",
   "execution_count": null,
   "metadata": {},
   "outputs": [],
   "source": []
  }
 ],
 "metadata": {
  "kernelspec": {
   "display_name": "Python 3",
   "language": "python",
   "name": "python3"
  },
  "language_info": {
   "codemirror_mode": {
    "name": "ipython",
    "version": 3
   },
   "file_extension": ".py",
   "mimetype": "text/x-python",
   "name": "python",
   "nbconvert_exporter": "python",
   "pygments_lexer": "ipython3",
   "version": "3.7.1"
  },
  "toc": {
   "base_numbering": 1,
   "nav_menu": {},
   "number_sections": true,
   "sideBar": true,
   "skip_h1_title": false,
   "title_cell": "Table of Contents",
   "title_sidebar": "Contents",
   "toc_cell": false,
   "toc_position": {},
   "toc_section_display": true,
   "toc_window_display": false
  }
 },
 "nbformat": 4,
 "nbformat_minor": 2
}
