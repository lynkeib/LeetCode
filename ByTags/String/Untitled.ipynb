{
 "cells": [
  {
   "cell_type": "code",
   "execution_count": 2,
   "metadata": {
    "ExecuteTime": {
     "end_time": "2019-10-28T03:22:54.902180Z",
     "start_time": "2019-10-28T03:22:54.896175Z"
    }
   },
   "outputs": [],
   "source": [
    "class Solution(object):\n",
    "    def canPermutePalindrome(self, s):\n",
    "        \"\"\"\n",
    "        :type s: str\n",
    "        :rtype: bool\n",
    "        \"\"\"\n",
    "        odd = 0\n",
    "        # even = 0\n",
    "        counter = dict()\n",
    "        for c in s:\n",
    "            if c not in counter:\n",
    "                counter[c] = 1\n",
    "                odd += 1\n",
    "            else:\n",
    "                counter[c] += 1\n",
    "                if counter[c] % 2 == 0:\n",
    "                    # even += 1\n",
    "                    odd -= 1\n",
    "                else:\n",
    "                    # even -= 1\n",
    "                    odd += 1\n",
    "        # print(odd)\n",
    "        return odd == 1 or odd == 0"
   ]
  },
  {
   "cell_type": "code",
   "execution_count": 1,
   "metadata": {
    "ExecuteTime": {
     "end_time": "2019-10-28T03:22:43.728739Z",
     "start_time": "2019-10-28T03:22:43.723001Z"
    }
   },
   "outputs": [],
   "source": [
    "class Solution(object):\n",
    "    def canPermutePalindrome(self, s):\n",
    "        \"\"\"\n",
    "        :type s: str\n",
    "        :rtype: bool\n",
    "        \"\"\"\n",
    "        counter = set()\n",
    "        for c in s:\n",
    "            if c not in counter:\n",
    "                counter.add(c)\n",
    "            else:\n",
    "                counter = counter - set(c)\n",
    "        return len(counter) == 0 or len(counter) == 1"
   ]
  },
  {
   "cell_type": "code",
   "execution_count": null,
   "metadata": {},
   "outputs": [],
   "source": []
  }
 ],
 "metadata": {
  "kernelspec": {
   "display_name": "Python 3",
   "language": "python",
   "name": "python3"
  },
  "language_info": {
   "codemirror_mode": {
    "name": "ipython",
    "version": 3
   },
   "file_extension": ".py",
   "mimetype": "text/x-python",
   "name": "python",
   "nbconvert_exporter": "python",
   "pygments_lexer": "ipython3",
   "version": "3.7.1"
  },
  "toc": {
   "base_numbering": 1,
   "nav_menu": {},
   "number_sections": true,
   "sideBar": true,
   "skip_h1_title": false,
   "title_cell": "Table of Contents",
   "title_sidebar": "Contents",
   "toc_cell": false,
   "toc_position": {},
   "toc_section_display": true,
   "toc_window_display": false
  }
 },
 "nbformat": 4,
 "nbformat_minor": 2
}
