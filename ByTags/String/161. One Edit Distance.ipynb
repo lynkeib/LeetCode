{
 "cells": [
  {
   "cell_type": "code",
   "execution_count": 2,
   "metadata": {
    "ExecuteTime": {
     "end_time": "2019-10-26T04:52:54.288629Z",
     "start_time": "2019-10-26T04:52:54.279310Z"
    }
   },
   "outputs": [],
   "source": [
    "class Solution(object):\n",
    "    def isOneEditDistance(self, s, t):\n",
    "        \"\"\"\n",
    "        :type s: str\n",
    "        :type t: str\n",
    "        :rtype: bool\n",
    "        \"\"\"\n",
    "        index1, index2 = 0, 0\n",
    "        if abs(len(s) - len(t)) > 1:\n",
    "            return False\n",
    "        while index1 < len(s) and index2 < len(t) and s[index1] == t[index2]:\n",
    "            index1 += 1\n",
    "            index2 += 1\n",
    "        if len(s) < len(t):\n",
    "            index2 += 1\n",
    "            while index1 < len(s) and index2 < len(t) and s[index1] == t[index2]:\n",
    "                index1 += 1\n",
    "                index2 += 1\n",
    "        elif len(s) == len(t):\n",
    "            index1 += 1\n",
    "            index2 += 1\n",
    "            while index1 < len(s) and index2 < len(t) and s[index1] == t[index2]:\n",
    "                index1 += 1\n",
    "                index2 += 1\n",
    "        else: # len(s) > len(t)\n",
    "            index1 += 1\n",
    "            while index1 < len(s) and index2 < len(t) and s[index1] == t[index2]:\n",
    "                index1 += 1\n",
    "                index2 += 1\n",
    "        return index1 == len(s) and index2 == len(t)"
   ]
  },
  {
   "cell_type": "code",
   "execution_count": null,
   "metadata": {},
   "outputs": [],
   "source": []
  }
 ],
 "metadata": {
  "kernelspec": {
   "display_name": "Python 3",
   "language": "python",
   "name": "python3"
  },
  "language_info": {
   "codemirror_mode": {
    "name": "ipython",
    "version": 3
   },
   "file_extension": ".py",
   "mimetype": "text/x-python",
   "name": "python",
   "nbconvert_exporter": "python",
   "pygments_lexer": "ipython3",
   "version": "3.7.1"
  },
  "toc": {
   "base_numbering": 1,
   "nav_menu": {},
   "number_sections": true,
   "sideBar": true,
   "skip_h1_title": false,
   "title_cell": "Table of Contents",
   "title_sidebar": "Contents",
   "toc_cell": false,
   "toc_position": {},
   "toc_section_display": true,
   "toc_window_display": false
  }
 },
 "nbformat": 4,
 "nbformat_minor": 2
}
