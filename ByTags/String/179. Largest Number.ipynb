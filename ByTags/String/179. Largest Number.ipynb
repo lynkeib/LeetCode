{
 "cells": [
  {
   "cell_type": "code",
   "execution_count": 25,
   "metadata": {
    "ExecuteTime": {
     "end_time": "2019-10-26T04:14:42.785360Z",
     "start_time": "2019-10-26T04:14:42.777980Z"
    }
   },
   "outputs": [],
   "source": [
    "import functools\n",
    "class Solution(object):\n",
    "    def largestNumber(self, nums):\n",
    "        \"\"\"\n",
    "        :type nums: List[int]\n",
    "        :rtype: str\n",
    "        \"\"\"\n",
    "        def cmp(this, other):\n",
    "            s_this = str(this)\n",
    "            s_other = str(other)\n",
    "            print(s_this, s_other)\n",
    "            return int(s_other + s_this) - int(s_this + s_other)\n",
    "        nums = sorted(nums, key = functools.cmp_to_key(cmp))\n",
    "        res = ''.join(str(i) for i in nums)\n",
    "        index = 0\n",
    "        while res[index] == '0' and index < len(res) - 1:\n",
    "            index += 1\n",
    "        return res[index:]"
   ]
  },
  {
   "cell_type": "markdown",
   "metadata": {},
   "source": [
    "# cmp in sort, key in sorted"
   ]
  },
  {
   "cell_type": "code",
   "execution_count": 26,
   "metadata": {
    "ExecuteTime": {
     "end_time": "2019-10-26T04:30:49.772725Z",
     "start_time": "2019-10-26T04:30:49.768229Z"
    }
   },
   "outputs": [],
   "source": [
    "import functools\n",
    "class Solution(object):\n",
    "    def largestNumber(self, nums):\n",
    "        \"\"\"\n",
    "        :type nums: List[int]\n",
    "        :rtype: str\n",
    "        \"\"\"\n",
    "        nums = map(str, nums)\n",
    "        nums.sort(cmp = lambda a, b: cmp(b + a, a + b))\n",
    "        # print(nums)\n",
    "        return ''.join(nums).lstrip('0') or '0'"
   ]
  },
  {
   "cell_type": "markdown",
   "metadata": {},
   "source": [
    "cmp(x, y):  \n",
    "if x > y, return 1  \n",
    "if x == y return 0  \n",
    "if x < y: return -1"
   ]
  },
  {
   "cell_type": "code",
   "execution_count": null,
   "metadata": {},
   "outputs": [],
   "source": []
  }
 ],
 "metadata": {
  "kernelspec": {
   "display_name": "Python 3",
   "language": "python",
   "name": "python3"
  },
  "language_info": {
   "codemirror_mode": {
    "name": "ipython",
    "version": 3
   },
   "file_extension": ".py",
   "mimetype": "text/x-python",
   "name": "python",
   "nbconvert_exporter": "python",
   "pygments_lexer": "ipython3",
   "version": "3.7.1"
  },
  "toc": {
   "base_numbering": 1,
   "nav_menu": {},
   "number_sections": true,
   "sideBar": true,
   "skip_h1_title": false,
   "title_cell": "Table of Contents",
   "title_sidebar": "Contents",
   "toc_cell": false,
   "toc_position": {},
   "toc_section_display": true,
   "toc_window_display": false
  }
 },
 "nbformat": 4,
 "nbformat_minor": 2
}
