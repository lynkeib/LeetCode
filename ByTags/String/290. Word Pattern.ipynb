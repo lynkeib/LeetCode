{
 "cells": [
  {
   "cell_type": "code",
   "execution_count": 1,
   "metadata": {
    "ExecuteTime": {
     "end_time": "2019-10-25T05:46:28.617642Z",
     "start_time": "2019-10-25T05:46:28.611282Z"
    }
   },
   "outputs": [],
   "source": [
    "class Solution(object):\n",
    "    def wordPattern(self, pattern, str):\n",
    "        \"\"\"\n",
    "        :type pattern: str\n",
    "        :type str: str\n",
    "        :rtype: bool\n",
    "        \"\"\"\n",
    "        po = collections.defaultdict(list)\n",
    "        str = str.split(' ')\n",
    "        if len(pattern) != len(str):\n",
    "            return False\n",
    "        for index in range(len(pattern)):\n",
    "            po[pattern[index]].append(index)\n",
    "        seen = set()\n",
    "        for key, value in po.items():\n",
    "            if str[value[0]] in seen:\n",
    "                return False\n",
    "            \n",
    "            b = str[value[0]]\n",
    "            for i in value:\n",
    "                if str[i] != b:\n",
    "                    return False\n",
    "            seen.add(str[value[0]])\n",
    "        return True"
   ]
  },
  {
   "cell_type": "code",
   "execution_count": null,
   "metadata": {},
   "outputs": [],
   "source": []
  }
 ],
 "metadata": {
  "kernelspec": {
   "display_name": "Python 3",
   "language": "python",
   "name": "python3"
  },
  "language_info": {
   "codemirror_mode": {
    "name": "ipython",
    "version": 3
   },
   "file_extension": ".py",
   "mimetype": "text/x-python",
   "name": "python",
   "nbconvert_exporter": "python",
   "pygments_lexer": "ipython3",
   "version": "3.7.1"
  },
  "toc": {
   "base_numbering": 1,
   "nav_menu": {},
   "number_sections": true,
   "sideBar": true,
   "skip_h1_title": false,
   "title_cell": "Table of Contents",
   "title_sidebar": "Contents",
   "toc_cell": false,
   "toc_position": {},
   "toc_section_display": true,
   "toc_window_display": false
  }
 },
 "nbformat": 4,
 "nbformat_minor": 2
}
