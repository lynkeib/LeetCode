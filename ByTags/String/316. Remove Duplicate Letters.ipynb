{
 "cells": [
  {
   "cell_type": "code",
   "execution_count": 1,
   "metadata": {
    "ExecuteTime": {
     "end_time": "2020-07-16T03:58:24.968733Z",
     "start_time": "2020-07-16T03:58:24.960512Z"
    }
   },
   "outputs": [],
   "source": [
    "class Solution(object):\n",
    "    def removeDuplicateLetters(self, s):\n",
    "        \"\"\"\n",
    "        :type s: str\n",
    "        :rtype: str\n",
    "        \"\"\"\n",
    "        counter = dict()\n",
    "        for c in s:\n",
    "            if c not in counter:\n",
    "                counter[c] = 0\n",
    "            counter[c]+=1\n",
    "        stack = []\n",
    "        visited = set([])\n",
    "        for c in s:\n",
    "            if c in visited:\n",
    "                counter[c] -= 1\n",
    "                continue\n",
    "            while stack and c < stack[-1] and counter[stack[-1]] > 1:\n",
    "                pop = stack.pop()\n",
    "                visited.remove(pop)\n",
    "                counter[pop]-=1\n",
    "            visited.add(c)\n",
    "            stack.append(c)\n",
    "        return ''.join(stack)"
   ]
  },
  {
   "cell_type": "code",
   "execution_count": null,
   "metadata": {},
   "outputs": [],
   "source": []
  }
 ],
 "metadata": {
  "kernelspec": {
   "display_name": "Python 3",
   "language": "python",
   "name": "python3"
  },
  "language_info": {
   "codemirror_mode": {
    "name": "ipython",
    "version": 3
   },
   "file_extension": ".py",
   "mimetype": "text/x-python",
   "name": "python",
   "nbconvert_exporter": "python",
   "pygments_lexer": "ipython3",
   "version": "3.7.4"
  },
  "toc": {
   "base_numbering": 1,
   "nav_menu": {},
   "number_sections": true,
   "sideBar": true,
   "skip_h1_title": false,
   "title_cell": "Table of Contents",
   "title_sidebar": "Contents",
   "toc_cell": false,
   "toc_position": {},
   "toc_section_display": true,
   "toc_window_display": false
  }
 },
 "nbformat": 4,
 "nbformat_minor": 4
}
