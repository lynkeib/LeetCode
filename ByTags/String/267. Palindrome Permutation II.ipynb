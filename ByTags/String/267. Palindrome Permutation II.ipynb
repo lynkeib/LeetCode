{
 "cells": [
  {
   "cell_type": "code",
   "execution_count": 1,
   "metadata": {
    "ExecuteTime": {
     "end_time": "2019-10-28T05:48:07.711967Z",
     "start_time": "2019-10-28T05:48:07.699730Z"
    }
   },
   "outputs": [],
   "source": [
    "class Solution(object):\n",
    "    def generatePalindromes(self, s):\n",
    "        \"\"\"\n",
    "        :type s: str\n",
    "        :rtype: List[str]\n",
    "        \"\"\"\n",
    "        counter = collections.Counter(s)\n",
    "        odd = []\n",
    "        even = []\n",
    "        for key, value in counter.items():\n",
    "            if value % 2 == 0:\n",
    "                even.append(key)\n",
    "            else:\n",
    "                odd.append(key)\n",
    "        if len(odd) > 1:\n",
    "            return []\n",
    "        res = []\n",
    "        self.dfs(s, 0, len(s) - 1, [\"\"] * len(s), res, even, odd, counter)\n",
    "        return res\n",
    "        \n",
    "    def dfs(self, s, left, right, path, res, even, odd, counter):\n",
    "        if left > right:\n",
    "            res.append(''.join(path))\n",
    "            return\n",
    "        if left == right:\n",
    "            path[left] = odd[0]\n",
    "            self.dfs(s, left + 1, right - 1, path, res, even, odd, counter)\n",
    "        else:\n",
    "            for c in even:\n",
    "                if counter[c] != 0:\n",
    "                    path[left] = c\n",
    "                    path[right] = c\n",
    "                    counter[c] -= 2\n",
    "                    self.dfs(s, left + 1, right - 1, path, res, even, odd, counter)\n",
    "                    counter[c] += 2\n",
    "            for c in odd:\n",
    "                if counter[c] != 1:\n",
    "                    path[left] = c\n",
    "                    path[right] = c\n",
    "                    counter[c] -= 2\n",
    "                    self.dfs(s, left + 1, right - 1, path, res, even, odd, counter)\n",
    "                    counter[c] += 2\n",
    "        return "
   ]
  },
  {
   "cell_type": "code",
   "execution_count": null,
   "metadata": {},
   "outputs": [],
   "source": []
  }
 ],
 "metadata": {
  "kernelspec": {
   "display_name": "Python 3",
   "language": "python",
   "name": "python3"
  },
  "language_info": {
   "codemirror_mode": {
    "name": "ipython",
    "version": 3
   },
   "file_extension": ".py",
   "mimetype": "text/x-python",
   "name": "python",
   "nbconvert_exporter": "python",
   "pygments_lexer": "ipython3",
   "version": "3.7.1"
  },
  "toc": {
   "base_numbering": 1,
   "nav_menu": {},
   "number_sections": true,
   "sideBar": true,
   "skip_h1_title": false,
   "title_cell": "Table of Contents",
   "title_sidebar": "Contents",
   "toc_cell": false,
   "toc_position": {},
   "toc_section_display": true,
   "toc_window_display": false
  }
 },
 "nbformat": 4,
 "nbformat_minor": 2
}
