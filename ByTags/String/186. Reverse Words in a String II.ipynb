{
 "cells": [
  {
   "cell_type": "code",
   "execution_count": 2,
   "metadata": {
    "ExecuteTime": {
     "end_time": "2019-10-24T00:25:54.965910Z",
     "start_time": "2019-10-24T00:25:54.957493Z"
    }
   },
   "outputs": [],
   "source": [
    "class Solution(object):\n",
    "    def reverseWords(self, s):\n",
    "        \"\"\"\n",
    "        :type s: List[str]\n",
    "        :rtype: None Do not return anything, modify s in-place instead.\n",
    "        \"\"\"\n",
    "        temp = \"\"\n",
    "        s_changed = []\n",
    "        index = 0\n",
    "        while index < len(s):\n",
    "            if s[index] == \" \":\n",
    "                s_changed.append(temp)\n",
    "                temp = \"\"\n",
    "            else:\n",
    "                temp += s[index]\n",
    "            index += 1\n",
    "        if temp:\n",
    "            s_changed.append(temp)\n",
    "            \n",
    "        left, right = 0, len(s_changed) - 1\n",
    "        while left < right:\n",
    "            s_changed[left], s_changed[right] = s_changed[right], s_changed[left]\n",
    "            left += 1\n",
    "            right -= 1\n",
    "        # print(s_changed)\n",
    "        s_changed = ' '.join(s_changed)\n",
    "        # print(s_changed)\n",
    "        s_changed = [i for i in s_changed]\n",
    "        # print(s_changed)\n",
    "        s[:] = s_changed[:]\n",
    "        return "
   ]
  },
  {
   "cell_type": "code",
   "execution_count": null,
   "metadata": {},
   "outputs": [],
   "source": []
  }
 ],
 "metadata": {
  "kernelspec": {
   "display_name": "Python 3",
   "language": "python",
   "name": "python3"
  },
  "language_info": {
   "codemirror_mode": {
    "name": "ipython",
    "version": 3
   },
   "file_extension": ".py",
   "mimetype": "text/x-python",
   "name": "python",
   "nbconvert_exporter": "python",
   "pygments_lexer": "ipython3",
   "version": "3.7.1"
  },
  "toc": {
   "base_numbering": 1,
   "nav_menu": {},
   "number_sections": true,
   "sideBar": true,
   "skip_h1_title": false,
   "title_cell": "Table of Contents",
   "title_sidebar": "Contents",
   "toc_cell": false,
   "toc_position": {},
   "toc_section_display": true,
   "toc_window_display": false
  }
 },
 "nbformat": 4,
 "nbformat_minor": 2
}
