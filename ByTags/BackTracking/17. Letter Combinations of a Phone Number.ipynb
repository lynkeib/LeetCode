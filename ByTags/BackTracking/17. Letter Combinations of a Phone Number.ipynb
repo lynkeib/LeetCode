{
 "cells": [
  {
   "cell_type": "code",
   "execution_count": 1,
   "metadata": {
    "ExecuteTime": {
     "end_time": "2019-11-13T08:36:25.997790Z",
     "start_time": "2019-11-13T08:36:25.990768Z"
    }
   },
   "outputs": [],
   "source": [
    "class Solution(object):\n",
    "    def letterCombinations(self, digits):\n",
    "        \"\"\"\n",
    "        :type digits: str\n",
    "        :rtype: List[str]\n",
    "        \"\"\"\n",
    "        if not digits:\n",
    "            return []\n",
    "        dic = {'1':\"\",\n",
    "               '2':\"abc\",\n",
    "              '3':\"def\",\n",
    "              '4':\"ghi\",\n",
    "              '5':\"jkl\",\n",
    "              '6':\"mno\",\n",
    "              '7':\"pqrs\",\n",
    "              '8':\"tuv\",\n",
    "              '9':\"wxyz\"}\n",
    "        index = 0\n",
    "        res = list(dic[digits[index]])\n",
    "        # print(res)\n",
    "        index += 1\n",
    "        while index < len(digits):\n",
    "            next_res = []\n",
    "            for r in res:\n",
    "                for letter in dic[digits[index]]:\n",
    "                    next_res.append(r + letter)\n",
    "            res = next_res\n",
    "            index += 1\n",
    "        return res\n",
    "                \n",
    "            "
   ]
  },
  {
   "cell_type": "code",
   "execution_count": null,
   "metadata": {},
   "outputs": [],
   "source": []
  }
 ],
 "metadata": {
  "kernelspec": {
   "display_name": "Python 3",
   "language": "python",
   "name": "python3"
  },
  "language_info": {
   "codemirror_mode": {
    "name": "ipython",
    "version": 3
   },
   "file_extension": ".py",
   "mimetype": "text/x-python",
   "name": "python",
   "nbconvert_exporter": "python",
   "pygments_lexer": "ipython3",
   "version": "3.7.1"
  },
  "toc": {
   "base_numbering": 1,
   "nav_menu": {},
   "number_sections": true,
   "sideBar": true,
   "skip_h1_title": false,
   "title_cell": "Table of Contents",
   "title_sidebar": "Contents",
   "toc_cell": false,
   "toc_position": {},
   "toc_section_display": true,
   "toc_window_display": false
  }
 },
 "nbformat": 4,
 "nbformat_minor": 2
}
