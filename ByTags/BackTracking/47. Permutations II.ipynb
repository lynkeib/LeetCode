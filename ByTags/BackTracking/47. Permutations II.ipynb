{
 "cells": [
  {
   "cell_type": "code",
   "execution_count": 1,
   "metadata": {
    "ExecuteTime": {
     "end_time": "2019-11-12T05:48:43.503041Z",
     "start_time": "2019-11-12T05:48:43.496259Z"
    }
   },
   "outputs": [],
   "source": [
    "class Solution(object):\n",
    "    def permuteUnique(self, nums):\n",
    "        \"\"\"\n",
    "        :type nums: List[int]\n",
    "        :rtype: List[List[int]]\n",
    "        \"\"\"\n",
    "        res = []\n",
    "        counter = collections.Counter(nums)\n",
    "        total = len(nums)\n",
    "        self.backtracking(counter, [], res, total)\n",
    "        return res\n",
    "    \n",
    "    def backtracking(self, counter, path, res, total):\n",
    "        if total == 0:\n",
    "            res.append(path)\n",
    "            return\n",
    "        for num in counter:\n",
    "            if counter[num] != 0:\n",
    "                counter[num] -= 1\n",
    "                self.backtracking(counter, path + [num], res, total - 1)\n",
    "                counter[num] += 1\n",
    "        return "
   ]
  },
  {
   "cell_type": "code",
   "execution_count": null,
   "metadata": {},
   "outputs": [],
   "source": []
  }
 ],
 "metadata": {
  "kernelspec": {
   "display_name": "Python 3",
   "language": "python",
   "name": "python3"
  },
  "language_info": {
   "codemirror_mode": {
    "name": "ipython",
    "version": 3
   },
   "file_extension": ".py",
   "mimetype": "text/x-python",
   "name": "python",
   "nbconvert_exporter": "python",
   "pygments_lexer": "ipython3",
   "version": "3.7.1"
  },
  "toc": {
   "base_numbering": 1,
   "nav_menu": {},
   "number_sections": true,
   "sideBar": true,
   "skip_h1_title": false,
   "title_cell": "Table of Contents",
   "title_sidebar": "Contents",
   "toc_cell": false,
   "toc_position": {},
   "toc_section_display": true,
   "toc_window_display": false
  }
 },
 "nbformat": 4,
 "nbformat_minor": 2
}
