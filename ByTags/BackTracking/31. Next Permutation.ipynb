{
 "cells": [
  {
   "cell_type": "code",
   "execution_count": 1,
   "metadata": {
    "ExecuteTime": {
     "end_time": "2019-11-14T08:10:25.466382Z",
     "start_time": "2019-11-14T08:10:25.458616Z"
    }
   },
   "outputs": [],
   "source": [
    "class Solution(object):\n",
    "    def nextPermutation(self, nums):\n",
    "        \"\"\"\n",
    "        :type nums: List[int]\n",
    "        :rtype: None Do not return anything, modify nums in-place instead.\n",
    "        \"\"\"\n",
    "        \n",
    "        index = len(nums) - 1\n",
    "        while index > 0 and nums[index] <= nums[index - 1]:\n",
    "            index -= 1\n",
    "        if index == 0:\n",
    "            nums[:] = nums[::-1]\n",
    "            return\n",
    "        index -= 1\n",
    "        # print(index)\n",
    "        ## find next larger\n",
    "        index_2 = index + 1\n",
    "        while index_2 < len(nums) - 1 and nums[index_2 + 1] > nums[index]:\n",
    "            index_2 += 1\n",
    "        # print(index_2)\n",
    "        nums[index], nums[index_2] = nums[index_2], nums[index]\n",
    "        nums[index + 1:] = nums[index + 1:][::-1]\n",
    "        return "
   ]
  },
  {
   "cell_type": "code",
   "execution_count": null,
   "metadata": {},
   "outputs": [],
   "source": []
  }
 ],
 "metadata": {
  "kernelspec": {
   "display_name": "Python 3",
   "language": "python",
   "name": "python3"
  },
  "language_info": {
   "codemirror_mode": {
    "name": "ipython",
    "version": 3
   },
   "file_extension": ".py",
   "mimetype": "text/x-python",
   "name": "python",
   "nbconvert_exporter": "python",
   "pygments_lexer": "ipython3",
   "version": "3.7.1"
  },
  "toc": {
   "base_numbering": 1,
   "nav_menu": {},
   "number_sections": true,
   "sideBar": true,
   "skip_h1_title": false,
   "title_cell": "Table of Contents",
   "title_sidebar": "Contents",
   "toc_cell": false,
   "toc_position": {},
   "toc_section_display": true,
   "toc_window_display": false
  }
 },
 "nbformat": 4,
 "nbformat_minor": 2
}
