{
 "cells": [
  {
   "cell_type": "code",
   "execution_count": 1,
   "metadata": {
    "ExecuteTime": {
     "end_time": "2019-11-09T07:20:01.242073Z",
     "start_time": "2019-11-09T07:20:01.234016Z"
    }
   },
   "outputs": [],
   "source": [
    "class Solution(object):\n",
    "    def subsetsWithDup(self, nums):\n",
    "        \"\"\"\n",
    "        :type nums: List[int]\n",
    "        :rtype: List[List[int]]\n",
    "        \"\"\"\n",
    "        res = []\n",
    "        nums.sort()\n",
    "        self.backtracking(0, nums, [], res)\n",
    "        return res\n",
    "    \n",
    "    def backtracking(self, start, nums, path, res):\n",
    "        # print(start, path)\n",
    "        res.append(path)\n",
    "        if start == len(nums):\n",
    "            return\n",
    "        index = start\n",
    "        while index < len(nums):\n",
    "            while index != start and index < len(nums) and nums[index] == nums[index - 1]:\n",
    "                index += 1\n",
    "            # print(index, path)\n",
    "            if index == len(nums):\n",
    "                return\n",
    "            self.backtracking(index + 1, nums, path + [nums[index]], res)\n",
    "            index += 1\n",
    "        return "
   ]
  },
  {
   "cell_type": "code",
   "execution_count": null,
   "metadata": {},
   "outputs": [],
   "source": []
  }
 ],
 "metadata": {
  "kernelspec": {
   "display_name": "Python 3",
   "language": "python",
   "name": "python3"
  },
  "language_info": {
   "codemirror_mode": {
    "name": "ipython",
    "version": 3
   },
   "file_extension": ".py",
   "mimetype": "text/x-python",
   "name": "python",
   "nbconvert_exporter": "python",
   "pygments_lexer": "ipython3",
   "version": "3.7.1"
  },
  "toc": {
   "base_numbering": 1,
   "nav_menu": {},
   "number_sections": true,
   "sideBar": true,
   "skip_h1_title": false,
   "title_cell": "Table of Contents",
   "title_sidebar": "Contents",
   "toc_cell": false,
   "toc_position": {},
   "toc_section_display": true,
   "toc_window_display": false
  }
 },
 "nbformat": 4,
 "nbformat_minor": 2
}
