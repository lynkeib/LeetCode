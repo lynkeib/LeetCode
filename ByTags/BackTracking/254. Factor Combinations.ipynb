{
 "cells": [
  {
   "cell_type": "markdown",
   "metadata": {},
   "source": [
    "# MLE"
   ]
  },
  {
   "cell_type": "code",
   "execution_count": 2,
   "metadata": {
    "ExecuteTime": {
     "end_time": "2019-11-12T05:08:56.045004Z",
     "start_time": "2019-11-12T05:08:56.038584Z"
    }
   },
   "outputs": [],
   "source": [
    "class Solution(object):\n",
    "    def getFactors(self, n):\n",
    "        \"\"\"\n",
    "        :type n: int\n",
    "        :rtype: List[List[int]]\n",
    "        \"\"\"\n",
    "        res = []\n",
    "        upper = (n + 1) // 2\n",
    "        self.backtracking(2, n, [], res, upper)\n",
    "        return res\n",
    "    \n",
    "    def backtracking(self, start, target, path, res, upper):\n",
    "        if target == 1 and path:\n",
    "            res.append(path)\n",
    "            return\n",
    "        if start > upper:\n",
    "            return \n",
    "        # mid = (target + 1) // 2\n",
    "        for num in range(start, upper + 1):\n",
    "            # print(target, num)\n",
    "            if target % num == 0:\n",
    "                self.backtracking(num, target // num, path + [num], res, upper)\n",
    "        return "
   ]
  },
  {
   "cell_type": "code",
   "execution_count": null,
   "metadata": {},
   "outputs": [],
   "source": []
  }
 ],
 "metadata": {
  "kernelspec": {
   "display_name": "Python 3",
   "language": "python",
   "name": "python3"
  },
  "language_info": {
   "codemirror_mode": {
    "name": "ipython",
    "version": 3
   },
   "file_extension": ".py",
   "mimetype": "text/x-python",
   "name": "python",
   "nbconvert_exporter": "python",
   "pygments_lexer": "ipython3",
   "version": "3.7.1"
  },
  "toc": {
   "base_numbering": 1,
   "nav_menu": {},
   "number_sections": true,
   "sideBar": true,
   "skip_h1_title": false,
   "title_cell": "Table of Contents",
   "title_sidebar": "Contents",
   "toc_cell": false,
   "toc_position": {},
   "toc_section_display": true,
   "toc_window_display": false
  }
 },
 "nbformat": 4,
 "nbformat_minor": 2
}
