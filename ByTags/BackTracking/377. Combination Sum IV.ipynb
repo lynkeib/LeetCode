{
 "cells": [
  {
   "cell_type": "markdown",
   "metadata": {},
   "source": [
    "# Recursive"
   ]
  },
  {
   "cell_type": "code",
   "execution_count": 2,
   "metadata": {
    "ExecuteTime": {
     "end_time": "2019-11-12T04:31:58.512226Z",
     "start_time": "2019-11-12T04:31:58.506416Z"
    }
   },
   "outputs": [],
   "source": [
    "class Solution(object):\n",
    "    def combinationSum4(self, nums, target):\n",
    "        \"\"\"\n",
    "        :type nums: List[int]\n",
    "        :type target: int\n",
    "        :rtype: int\n",
    "        \"\"\"\n",
    "        return self.backtracking(nums, target)\n",
    "    \n",
    "    def backtracking(self, nums, target):\n",
    "        if target < 0:\n",
    "            return 0\n",
    "        if target == 0:\n",
    "            return 1\n",
    "        res = 0\n",
    "        for num in nums:\n",
    "            res += self.backtracking(nums, target - num)\n",
    "        return res"
   ]
  },
  {
   "cell_type": "markdown",
   "metadata": {},
   "source": [
    "# DP (Top - down)"
   ]
  },
  {
   "cell_type": "code",
   "execution_count": 3,
   "metadata": {
    "ExecuteTime": {
     "end_time": "2019-11-12T04:37:04.730616Z",
     "start_time": "2019-11-12T04:37:04.724738Z"
    }
   },
   "outputs": [],
   "source": [
    "class Solution(object):\n",
    "    def combinationSum4(self, nums, target):\n",
    "        \"\"\"\n",
    "        :type nums: List[int]\n",
    "        :type target: int\n",
    "        :rtype: int\n",
    "        \"\"\"\n",
    "        dp = [-1] * (target+1)\n",
    "        dp[0] = 1\n",
    "        \n",
    "        return self.backtracking(nums, target, dp)\n",
    "    \n",
    "    def backtracking(self, nums, target, dp):\n",
    "        if target < 0:\n",
    "            return 0\n",
    "        if dp[target] != -1:\n",
    "            return dp[target]\n",
    "        res = 0\n",
    "        for num in nums:\n",
    "            res += self.backtracking(nums, target - num, dp)\n",
    "        dp[target] = res\n",
    "        return res"
   ]
  },
  {
   "cell_type": "markdown",
   "metadata": {},
   "source": [
    "# DP (Bottom - up)"
   ]
  },
  {
   "cell_type": "code",
   "execution_count": 4,
   "metadata": {
    "ExecuteTime": {
     "end_time": "2019-11-12T04:50:38.917366Z",
     "start_time": "2019-11-12T04:50:38.911007Z"
    }
   },
   "outputs": [],
   "source": [
    "class Solution(object):\n",
    "    def combinationSum4(self, nums, target):\n",
    "        \"\"\"\n",
    "        :type nums: List[int]\n",
    "        :type target: int\n",
    "        :rtype: int\n",
    "        \"\"\"\n",
    "        dp = [0] * (target + 1)\n",
    "        dp[0] = 1\n",
    "        for i in range(1, len(dp)):\n",
    "            for j in range(len(nums)):\n",
    "                if i - nums[j] >= 0:\n",
    "                    dp[i] += dp[i - nums[j]]\n",
    "        # print(dp)\n",
    "        return dp[target]"
   ]
  },
  {
   "cell_type": "code",
   "execution_count": null,
   "metadata": {},
   "outputs": [],
   "source": []
  }
 ],
 "metadata": {
  "kernelspec": {
   "display_name": "Python 3",
   "language": "python",
   "name": "python3"
  },
  "language_info": {
   "codemirror_mode": {
    "name": "ipython",
    "version": 3
   },
   "file_extension": ".py",
   "mimetype": "text/x-python",
   "name": "python",
   "nbconvert_exporter": "python",
   "pygments_lexer": "ipython3",
   "version": "3.7.1"
  },
  "toc": {
   "base_numbering": 1,
   "nav_menu": {},
   "number_sections": true,
   "sideBar": true,
   "skip_h1_title": false,
   "title_cell": "Table of Contents",
   "title_sidebar": "Contents",
   "toc_cell": false,
   "toc_position": {},
   "toc_section_display": true,
   "toc_window_display": false
  }
 },
 "nbformat": 4,
 "nbformat_minor": 2
}
