{
 "cells": [
  {
   "cell_type": "code",
   "execution_count": 3,
   "metadata": {
    "ExecuteTime": {
     "end_time": "2019-11-14T08:49:52.193716Z",
     "start_time": "2019-11-14T08:49:52.184052Z"
    }
   },
   "outputs": [],
   "source": [
    "class Solution(object):\n",
    "    def getPermutation(self, n, k):\n",
    "        \"\"\"\n",
    "        :type n: int\n",
    "        :type k: int\n",
    "        :rtype: str\n",
    "        \"\"\"\n",
    "        k = k - 1\n",
    "        # max_k = math.factorial(n)\n",
    "        # k = max_k % k\n",
    "        if n == 2:\n",
    "            if k == 0:\n",
    "                return \"12\"\n",
    "            else:\n",
    "                return \"21\"\n",
    "        nums = [str(i+1) for i in range(n)]\n",
    "        return self.helper(nums, k)\n",
    "    \n",
    "    def helper(self, nums, k):\n",
    "        # print(nums)\n",
    "        if not nums:\n",
    "            return ''\n",
    "        if k == 0:\n",
    "            return ''.join(nums)\n",
    "        span = math.factorial(len(nums) - 1)\n",
    "        index = k // span\n",
    "        this = str(nums[index])\n",
    "        next_k = k % span\n",
    "        # next_k -= 1\n",
    "        del nums[index]\n",
    "        return this + self.helper(nums, next_k)"
   ]
  },
  {
   "cell_type": "code",
   "execution_count": null,
   "metadata": {},
   "outputs": [],
   "source": []
  }
 ],
 "metadata": {
  "kernelspec": {
   "display_name": "Python 3",
   "language": "python",
   "name": "python3"
  },
  "language_info": {
   "codemirror_mode": {
    "name": "ipython",
    "version": 3
   },
   "file_extension": ".py",
   "mimetype": "text/x-python",
   "name": "python",
   "nbconvert_exporter": "python",
   "pygments_lexer": "ipython3",
   "version": "3.7.1"
  },
  "toc": {
   "base_numbering": 1,
   "nav_menu": {},
   "number_sections": true,
   "sideBar": true,
   "skip_h1_title": false,
   "title_cell": "Table of Contents",
   "title_sidebar": "Contents",
   "toc_cell": false,
   "toc_position": {},
   "toc_section_display": true,
   "toc_window_display": false
  }
 },
 "nbformat": 4,
 "nbformat_minor": 2
}
