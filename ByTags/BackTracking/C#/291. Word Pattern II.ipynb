{
 "cells": [
  {
   "cell_type": "code",
   "execution_count": 1,
   "metadata": {
    "ExecuteTime": {
     "end_time": "2020-05-03T05:55:46.7853560Z",
     "start_time": "2020-05-03T05:55:45.219Z"
    }
   },
   "outputs": [],
   "source": [
    "public class Solution {\n",
    "    \n",
    "    Dictionary<string, char> word_map;\n",
    "    HashSet<char> pattern_map;\n",
    "    \n",
    "    public bool WordPatternMatch(string pattern, string str) {\n",
    "        word_map = new Dictionary<string, char>();\n",
    "        pattern_map = new HashSet<char>();\n",
    "        return helper(str, pattern, 0, 0);\n",
    "    }\n",
    "    \n",
    "    public bool helper(string words, string pattern, int w, int p){\n",
    "        if(w == words.Length && p == pattern.Length){\n",
    "            return true;\n",
    "        }\n",
    "        if(w == words.Length || p == pattern.Length){\n",
    "            return false;\n",
    "        }\n",
    "        var pat = pattern[p];\n",
    "        for(int i = w; i < words.Length; i++){\n",
    "            var word = words.Substring(w, i - w + 1);\n",
    "            if(word_map.ContainsKey(word) && word_map[word] == pat){\n",
    "                if(helper(words, pattern, i + 1, p + 1)){\n",
    "                    return true;\n",
    "                }\n",
    "            }else if(!word_map.ContainsKey(word)){\n",
    "                if(!pattern_map.Contains(pat)){\n",
    "                    word_map[word] = pat;\n",
    "                    pattern_map.Add(pat);\n",
    "                    if(helper(words, pattern, i + 1, p + 1)){\n",
    "                        return true;\n",
    "                    }\n",
    "                    pattern_map.Remove(pat);\n",
    "                    word_map.Remove(word);\n",
    "                }\n",
    "            }\n",
    "        }\n",
    "        return false;\n",
    "    }\n",
    "}"
   ]
  },
  {
   "cell_type": "code",
   "execution_count": null,
   "metadata": {},
   "outputs": [],
   "source": []
  }
 ],
 "metadata": {
  "kernelspec": {
   "display_name": ".NET (C#)",
   "language": "C#",
   "name": ".net-csharp"
  },
  "language_info": {
   "file_extension": ".cs",
   "mimetype": "text/x-csharp",
   "name": "C#",
   "pygments_lexer": "csharp",
   "version": "8.0"
  },
  "toc": {
   "base_numbering": 1,
   "nav_menu": {},
   "number_sections": true,
   "sideBar": true,
   "skip_h1_title": false,
   "title_cell": "Table of Contents",
   "title_sidebar": "Contents",
   "toc_cell": false,
   "toc_position": {},
   "toc_section_display": true,
   "toc_window_display": false
  }
 },
 "nbformat": 4,
 "nbformat_minor": 4
}
