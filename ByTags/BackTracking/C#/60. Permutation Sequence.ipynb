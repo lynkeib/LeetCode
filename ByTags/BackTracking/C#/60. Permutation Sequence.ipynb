{
 "cells": [
  {
   "cell_type": "code",
   "execution_count": 1,
   "metadata": {
    "ExecuteTime": {
     "end_time": "2020-04-01T05:00:27.0076980Z",
     "start_time": "2020-04-01T05:00:25.470Z"
    }
   },
   "outputs": [],
   "source": [
    "public class Solution {\n",
    "    public string GetPermutation (int n, int k) {\n",
    "        k -= 1;\n",
    "        var map = new Dictionary<int, int> ();\n",
    "        map[0] = 1;\n",
    "        for (int i = 1; i < n; i++) {\n",
    "            map[i] = i * map[i - 1];\n",
    "        }\n",
    "        var nums = new List<int> ();\n",
    "        for (int i = 1; i <= n; i++) {\n",
    "            nums.Add (i);\n",
    "        }\n",
    "        var res = \"\";\n",
    "        while(nums.Count != 1){\n",
    "            var seg = k / map[nums.Count - 1];\n",
    "            k = k % map[nums.Count - 1];\n",
    "            res += $\"{nums[seg]}\";\n",
    "            nums.RemoveAt(seg);\n",
    "        }\n",
    "        res += nums[0];\n",
    "        return res;\n",
    "    }\n",
    "}"
   ]
  },
  {
   "cell_type": "code",
   "execution_count": null,
   "metadata": {},
   "outputs": [],
   "source": []
  }
 ],
 "metadata": {
  "kernelspec": {
   "display_name": ".NET (C#)",
   "language": "C#",
   "name": ".net-csharp"
  },
  "language_info": {
   "file_extension": ".cs",
   "mimetype": "text/x-csharp",
   "name": "C#",
   "pygments_lexer": "csharp",
   "version": "8.0"
  },
  "toc": {
   "base_numbering": 1,
   "nav_menu": {},
   "number_sections": true,
   "sideBar": true,
   "skip_h1_title": false,
   "title_cell": "Table of Contents",
   "title_sidebar": "Contents",
   "toc_cell": false,
   "toc_position": {},
   "toc_section_display": true,
   "toc_window_display": false
  }
 },
 "nbformat": 4,
 "nbformat_minor": 4
}
