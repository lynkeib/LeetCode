{
 "cells": [
  {
   "cell_type": "markdown",
   "metadata": {},
   "source": [
    "# TLE"
   ]
  },
  {
   "cell_type": "code",
   "execution_count": 1,
   "metadata": {
    "ExecuteTime": {
     "end_time": "2020-04-11T23:35:38.1195810Z",
     "start_time": "2020-04-11T23:35:35.199Z"
    }
   },
   "outputs": [],
   "source": [
    "public class Solution {\n",
    "    public IList<string> WordBreak (string s, IList<string> wordDict) {\n",
    "        var dp = new bool[s.Length + 1];\n",
    "        var map = new Dictionary<int, List<string>> ();\n",
    "\n",
    "        dp[0] = true;\n",
    "        map[0] = new List<string> { \"\" };\n",
    "\n",
    "        for (int index = 0; index < s.Length; index++) {\n",
    "            foreach (var word in wordDict) {\n",
    "                if (word.Length > index + 1) {\n",
    "                    continue;\n",
    "                }\n",
    "                var res = (s.Substring (index + 1 - word.Length, word.Length) == word) && dp[index + 1 - word.Length];\n",
    "                if (res) {\n",
    "                    dp[index + 1] = res;\n",
    "                    foreach (string item in map[index + 1 - word.Length]) {\n",
    "                        var this_list = item + \" \" + word;\n",
    "                        if (!map.ContainsKey (index + 1)) {\n",
    "                            map[index + 1] = new List<string> ();\n",
    "                        }\n",
    "                        map[index + 1].Add (this_list);\n",
    "                    }\n",
    "                }\n",
    "            }\n",
    "        }\n",
    "        // foreach(var i in dp) Console.Write($\"{i} \");\n",
    "        var ress = new List<string> ();\n",
    "        if (dp[s.Length]) {\n",
    "            foreach (string item in map[s.Length]) {\n",
    "                ress.Add (item.Substring (1, item.Length - 1));\n",
    "            }\n",
    "        }\n",
    "        return ress;\n",
    "    }\n",
    "}"
   ]
  },
  {
   "cell_type": "code",
   "execution_count": 2,
   "metadata": {
    "ExecuteTime": {
     "end_time": "2020-04-12T00:01:27.3441120Z",
     "start_time": "2020-04-12T00:01:27.286Z"
    }
   },
   "outputs": [],
   "source": [
    "public class Solution {\n",
    "    public IList<string> WordBreak (string s, IList<string> wordDict) {\n",
    "        var dp = new List<string>[s.Length + 1];\n",
    "        var curr = new List<string> { \"\" };\n",
    "        dp[0] = curr;\n",
    "        for (int index = 1; index < s.Length + 1; index++) {\n",
    "            var this_list = new List<string>();\n",
    "            for (int j = 0; j < index; j++) {\n",
    "                if(dp[j].Count > 0 && wordDict.Contains(s.Substring(j, index - j))){\n",
    "                    foreach (string list in dp[j])\n",
    "                    {\n",
    "                        this_list.Add(list + (list == \"\" ? \"\" : \" \") + s.Substring(j, index - j));\n",
    "                    }\n",
    "                }\n",
    "            }\n",
    "            dp[index] = this_list;\n",
    "        }\n",
    "        return dp[s.Length];\n",
    "    }\n",
    "}"
   ]
  },
  {
   "cell_type": "code",
   "execution_count": null,
   "metadata": {},
   "outputs": [],
   "source": []
  }
 ],
 "metadata": {
  "kernelspec": {
   "display_name": ".NET (C#)",
   "language": "C#",
   "name": ".net-csharp"
  },
  "language_info": {
   "file_extension": ".cs",
   "mimetype": "text/x-csharp",
   "name": "C#",
   "pygments_lexer": "csharp",
   "version": "8.0"
  },
  "toc": {
   "base_numbering": 1,
   "nav_menu": {},
   "number_sections": true,
   "sideBar": true,
   "skip_h1_title": false,
   "title_cell": "Table of Contents",
   "title_sidebar": "Contents",
   "toc_cell": false,
   "toc_position": {},
   "toc_section_display": true,
   "toc_window_display": false
  }
 },
 "nbformat": 4,
 "nbformat_minor": 4
}
