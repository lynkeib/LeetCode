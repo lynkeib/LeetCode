{
 "cells": [
  {
   "cell_type": "code",
   "execution_count": 1,
   "metadata": {},
   "outputs": [],
   "source": [
    "public class Solution {\n",
    "    public IList<string> GenerateParenthesis (int n) {\n",
    "        var res = new List<string> ();\n",
    "        dfs (n, n, \"\", res);\n",
    "        return res;\n",
    "    }\n",
    "\n",
    "    public void dfs (int left, int right, string path, IList<string> res) {\n",
    "        if ((left == 0) && (right == 0)) {\n",
    "            res.Add (path);\n",
    "            return;\n",
    "        }\n",
    "        if (left != 0) {\n",
    "            if (left <= right) {\n",
    "                dfs (left - 1, right, path + \"(\", res);\n",
    "                dfs (left, right - 1, path + \")\", res);\n",
    "            } else {\n",
    "                return;\n",
    "            }\n",
    "        } else {\n",
    "            dfs (left, right - 1, path + \")\", res);\n",
    "        }\n",
    "        return;\n",
    "    }\n",
    "}"
   ]
  },
  {
   "cell_type": "code",
   "execution_count": null,
   "metadata": {},
   "outputs": [],
   "source": []
  }
 ],
 "metadata": {
  "kernelspec": {
   "display_name": ".NET (C#)",
   "language": "C#",
   "name": ".net-csharp"
  },
  "language_info": {
   "file_extension": ".cs",
   "mimetype": "text/x-csharp",
   "name": "C#",
   "pygments_lexer": "csharp",
   "version": "8.0"
  },
  "toc": {
   "base_numbering": 1,
   "nav_menu": {},
   "number_sections": true,
   "sideBar": true,
   "skip_h1_title": false,
   "title_cell": "Table of Contents",
   "title_sidebar": "Contents",
   "toc_cell": false,
   "toc_position": {},
   "toc_section_display": true,
   "toc_window_display": false
  }
 },
 "nbformat": 4,
 "nbformat_minor": 4
}
