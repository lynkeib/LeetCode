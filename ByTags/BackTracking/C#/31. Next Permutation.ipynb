{
 "cells": [
  {
   "cell_type": "code",
   "execution_count": 1,
   "metadata": {},
   "outputs": [],
   "source": [
    "public class Solution {\n",
    "    public void NextPermutation(int[] nums) {\n",
    "        var index = nums.Length - 1;\n",
    "        while(index != 0 && nums[index - 1] >= nums[index]){\n",
    "            index--;\n",
    "        }\n",
    "        if(index == 0){\n",
    "            Array.Reverse(nums);\n",
    "            return;\n",
    "        }\n",
    "        var top = index;\n",
    "        var p = nums[index - 1];\n",
    "        var stch = top;\n",
    "        while(stch != nums.Length - 1 && nums[stch + 1] > p){\n",
    "            stch += 1;\n",
    "        }\n",
    "        nums[index - 1] = nums[stch];\n",
    "        nums[stch] = p;\n",
    "        var left = top;\n",
    "        var right = nums.Length - 1;\n",
    "        while(left <= right){\n",
    "            var temp = nums[left];\n",
    "            nums[left] = nums[right];\n",
    "            nums[right] = temp;\n",
    "            left ++;\n",
    "            right --;\n",
    "        }\n",
    "        return;\n",
    "    }\n",
    "}"
   ]
  },
  {
   "cell_type": "code",
   "execution_count": null,
   "metadata": {},
   "outputs": [],
   "source": []
  }
 ],
 "metadata": {
  "kernelspec": {
   "display_name": ".NET (C#)",
   "language": "C#",
   "name": ".net-csharp"
  },
  "language_info": {
   "file_extension": ".cs",
   "mimetype": "text/x-csharp",
   "name": "C#",
   "pygments_lexer": "csharp",
   "version": "8.0"
  },
  "toc": {
   "base_numbering": 1,
   "nav_menu": {},
   "number_sections": true,
   "sideBar": true,
   "skip_h1_title": false,
   "title_cell": "Table of Contents",
   "title_sidebar": "Contents",
   "toc_cell": false,
   "toc_position": {},
   "toc_section_display": true,
   "toc_window_display": false
  }
 },
 "nbformat": 4,
 "nbformat_minor": 4
}
