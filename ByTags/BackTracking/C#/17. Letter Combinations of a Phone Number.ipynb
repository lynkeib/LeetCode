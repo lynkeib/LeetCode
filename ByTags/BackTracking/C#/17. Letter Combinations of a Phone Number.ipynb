{
 "cells": [
  {
   "cell_type": "code",
   "execution_count": 1,
   "metadata": {},
   "outputs": [],
   "source": [
    "public class Solution {\n",
    "    public IList<string> LetterCombinations(string digits) {\n",
    "        if(digits.Length == 0){\n",
    "            return new List<string>();\n",
    "        }\n",
    "        var map = new Dictionary<char, string>();\n",
    "        map['0'] = \"\";\n",
    "        map['1'] = \"\";\n",
    "        map['2'] = \"abc\";\n",
    "        map['3'] = \"def\";\n",
    "        map['4'] = \"ghi\";\n",
    "        map['5'] = \"jkl\";\n",
    "        map['6'] = \"mno\";\n",
    "        map['7'] = \"pqrs\";\n",
    "        map['8'] = \"tuv\";\n",
    "        map['9'] = \"wxyz\";\n",
    "        var res = new List<string>();\n",
    "        res.Add(\"\");\n",
    "        for(int index = 0; index < digits.Length; index++){\n",
    "            var nextres = new List<string>();\n",
    "            foreach(string comb in res){\n",
    "                foreach(char letter in map[digits[index]]){\n",
    "                    nextres.Add(comb + letter);\n",
    "                }\n",
    "            }\n",
    "            res = nextres;\n",
    "        }\n",
    "        return res;\n",
    "    }\n",
    "}"
   ]
  },
  {
   "cell_type": "code",
   "execution_count": null,
   "metadata": {},
   "outputs": [],
   "source": []
  }
 ],
 "metadata": {
  "kernelspec": {
   "display_name": ".NET (C#)",
   "language": "C#",
   "name": ".net-csharp"
  },
  "language_info": {
   "file_extension": ".cs",
   "mimetype": "text/x-csharp",
   "name": "C#",
   "pygments_lexer": "csharp",
   "version": "8.0"
  },
  "toc": {
   "base_numbering": 1,
   "nav_menu": {},
   "number_sections": true,
   "sideBar": true,
   "skip_h1_title": false,
   "title_cell": "Table of Contents",
   "title_sidebar": "Contents",
   "toc_cell": false,
   "toc_position": {},
   "toc_section_display": true,
   "toc_window_display": false
  }
 },
 "nbformat": 4,
 "nbformat_minor": 4
}
