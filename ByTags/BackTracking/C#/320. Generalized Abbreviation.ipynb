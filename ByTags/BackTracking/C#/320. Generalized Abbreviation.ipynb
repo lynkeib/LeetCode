{
 "cells": [
  {
   "cell_type": "code",
   "execution_count": 1,
   "metadata": {
    "ExecuteTime": {
     "end_time": "2020-04-01T05:35:47.7511440Z",
     "start_time": "2020-04-01T05:35:42.808Z"
    }
   },
   "outputs": [],
   "source": [
    "public class Solution {\n",
    "    public IList<string> GenerateAbbreviations (string word) {\n",
    "        var res = new List<string>();\n",
    "        backtracking(word, 0, res);\n",
    "        return res;\n",
    "    }\n",
    "\n",
    "    public void backtracking (string word, int index, IList<string> res) {\n",
    "        res.Add (word);\n",
    "        if (index == word.Length) {\n",
    "            return;\n",
    "        }\n",
    "        for (int i = index; i < word.Length; i++) {\n",
    "            if (i != 0 && Char.IsDigit(word[i - 1])) {\n",
    "                continue;\n",
    "            }\n",
    "            var left = word.Length - i;\n",
    "            for (int change = 1; change <= left; change++) {\n",
    "                var thisword = word.Substring(0, i) + $\"{change}\" + word.Substring(i + change, word.Length - (i + change));\n",
    "                // Console.WriteLine(thisword);\n",
    "                backtracking(thisword, i + 1, res);\n",
    "            }\n",
    "        }\n",
    "        return;\n",
    "    }\n",
    "}"
   ]
  },
  {
   "cell_type": "code",
   "execution_count": null,
   "metadata": {},
   "outputs": [],
   "source": []
  }
 ],
 "metadata": {
  "kernelspec": {
   "display_name": ".NET (C#)",
   "language": "C#",
   "name": ".net-csharp"
  },
  "language_info": {
   "file_extension": ".cs",
   "mimetype": "text/x-csharp",
   "name": "C#",
   "pygments_lexer": "csharp",
   "version": "8.0"
  },
  "toc": {
   "base_numbering": 1,
   "nav_menu": {},
   "number_sections": true,
   "sideBar": true,
   "skip_h1_title": false,
   "title_cell": "Table of Contents",
   "title_sidebar": "Contents",
   "toc_cell": false,
   "toc_position": {},
   "toc_section_display": true,
   "toc_window_display": false
  }
 },
 "nbformat": 4,
 "nbformat_minor": 4
}
