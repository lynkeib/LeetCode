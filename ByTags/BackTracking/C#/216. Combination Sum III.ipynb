{
 "cells": [
  {
   "cell_type": "code",
   "execution_count": 1,
   "metadata": {
    "ExecuteTime": {
     "end_time": "2020-04-22T06:38:56.2203980Z",
     "start_time": "2020-04-22T06:38:54.795Z"
    }
   },
   "outputs": [],
   "source": [
    "public class Solution {\n",
    "\n",
    "    List<IList<int>> res;\n",
    "\n",
    "    public IList<IList<int>> CombinationSum3(int k, int n) {\n",
    "        res = new List<IList<int>>();\n",
    "        dfs(1, k, n, new List<int>());\n",
    "        return res;\n",
    "}\n",
    "\n",
    "    public void dfs(int start, int k, int n, List<int> path){\n",
    "        if(path.Count == k && n == 0){\n",
    "            res.Add(new List<int>(path));\n",
    "            return;\n",
    "        }\n",
    "        if(path.Count > k || n < 0){\n",
    "            return;\n",
    "        }\n",
    "        for (int index = start; index < 10; index++)\n",
    "        {\n",
    "            path.Add(index);\n",
    "            dfs(index + 1, k, n - index, path);\n",
    "            path.RemoveAt(path.Count - 1);\n",
    "        }\n",
    "        return;\n",
    "    }\n",
    "}"
   ]
  },
  {
   "cell_type": "code",
   "execution_count": null,
   "metadata": {},
   "outputs": [],
   "source": []
  }
 ],
 "metadata": {
  "kernelspec": {
   "display_name": ".NET (C#)",
   "language": "C#",
   "name": ".net-csharp"
  },
  "language_info": {
   "file_extension": ".cs",
   "mimetype": "text/x-csharp",
   "name": "C#",
   "pygments_lexer": "csharp",
   "version": "8.0"
  },
  "toc": {
   "base_numbering": 1,
   "nav_menu": {},
   "number_sections": true,
   "sideBar": true,
   "skip_h1_title": false,
   "title_cell": "Table of Contents",
   "title_sidebar": "Contents",
   "toc_cell": false,
   "toc_position": {},
   "toc_section_display": true,
   "toc_window_display": false
  }
 },
 "nbformat": 4,
 "nbformat_minor": 4
}
