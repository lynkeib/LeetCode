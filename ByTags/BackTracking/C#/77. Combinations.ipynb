{
 "cells": [
  {
   "cell_type": "code",
   "execution_count": 1,
   "metadata": {
    "ExecuteTime": {
     "end_time": "2020-04-05T04:06:09.5614360Z",
     "start_time": "2020-04-05T04:06:08.466Z"
    }
   },
   "outputs": [],
   "source": [
    "public class Solution {\n",
    "    public IList<IList<int>> Combine (int n, int k) {\n",
    "        var res = new List<IList<int>>();\n",
    "        dfs(n, k, 1, res, new List<int>());\n",
    "        return res;\n",
    "    }\n",
    "\n",
    "    public void dfs (int n, int k, int index, List<IList<int>> res, List<int> path) {\n",
    "        if (path.Count == k) {\n",
    "            res.Add (new List<int> (path));\n",
    "            return;\n",
    "        }\n",
    "        for (int i = index; i <= n; i++) {\n",
    "            path.Add(i);\n",
    "            dfs (n, k, i + 1, res, path);\n",
    "            path.RemoveAt(path.Count - 1);\n",
    "        }\n",
    "        return;\n",
    "    }\n",
    "}"
   ]
  },
  {
   "cell_type": "code",
   "execution_count": null,
   "metadata": {},
   "outputs": [],
   "source": []
  }
 ],
 "metadata": {
  "kernelspec": {
   "display_name": ".NET (C#)",
   "language": "C#",
   "name": ".net-csharp"
  },
  "language_info": {
   "file_extension": ".cs",
   "mimetype": "text/x-csharp",
   "name": "C#",
   "pygments_lexer": "csharp",
   "version": "8.0"
  },
  "toc": {
   "base_numbering": 1,
   "nav_menu": {},
   "number_sections": true,
   "sideBar": true,
   "skip_h1_title": false,
   "title_cell": "Table of Contents",
   "title_sidebar": "Contents",
   "toc_cell": false,
   "toc_position": {},
   "toc_section_display": true,
   "toc_window_display": false
  }
 },
 "nbformat": 4,
 "nbformat_minor": 4
}
