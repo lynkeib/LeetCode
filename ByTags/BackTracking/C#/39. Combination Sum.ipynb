{
 "cells": [
  {
   "cell_type": "code",
   "execution_count": 1,
   "metadata": {},
   "outputs": [],
   "source": [
    "public class Solution {\n",
    "    public IList<IList<int>> CombinationSum (int[] candidates, int target) {\n",
    "        Array.Sort (candidates);\n",
    "        List<IList<int>> res = new List<IList<int>> ();\n",
    "        dfs (0, candidates, target, res, new List<int> ());\n",
    "        return res;\n",
    "    }\n",
    "\n",
    "    public void dfs (int index, int[] candidates, int target, List<IList<int>> res, List<int> path) {\n",
    "        if (target < 0) {\n",
    "            return;\n",
    "        }\n",
    "        if (target == 0) {\n",
    "            res.Add (new List<int> (path));\n",
    "            return;\n",
    "        }\n",
    "        for (int i = index; i < candidates.Length; i++) {\n",
    "            path.Add (candidates[i]);\n",
    "            dfs (i, candidates, target - candidates[i], res, path);\n",
    "            path.RemoveAt (path.Count - 1);\n",
    "        }\n",
    "        return;\n",
    "    }\n",
    "}"
   ]
  },
  {
   "cell_type": "code",
   "execution_count": null,
   "metadata": {},
   "outputs": [],
   "source": []
  }
 ],
 "metadata": {
  "kernelspec": {
   "display_name": ".NET (C#)",
   "language": "C#",
   "name": ".net-csharp"
  },
  "language_info": {
   "file_extension": ".cs",
   "mimetype": "text/x-csharp",
   "name": "C#",
   "pygments_lexer": "csharp",
   "version": "8.0"
  },
  "toc": {
   "base_numbering": 1,
   "nav_menu": {},
   "number_sections": true,
   "sideBar": true,
   "skip_h1_title": false,
   "title_cell": "Table of Contents",
   "title_sidebar": "Contents",
   "toc_cell": false,
   "toc_position": {},
   "toc_section_display": true,
   "toc_window_display": false
  }
 },
 "nbformat": 4,
 "nbformat_minor": 4
}
