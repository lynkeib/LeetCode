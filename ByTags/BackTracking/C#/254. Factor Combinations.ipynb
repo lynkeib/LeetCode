{
 "cells": [
  {
   "cell_type": "code",
   "execution_count": 1,
   "metadata": {
    "ExecuteTime": {
     "end_time": "2020-04-27T06:28:01.7878140Z",
     "start_time": "2020-04-27T06:28:00.625Z"
    }
   },
   "outputs": [],
   "source": [
    "public class Solution {\n",
    "\n",
    "    public IList<IList<int>> GetFactors (int n) {\n",
    "        return helper(n, 2);\n",
    "    }\n",
    "\n",
    "    public IList<IList<int>> helper(int n, int start){\n",
    "        var res = new List<IList<int>>();\n",
    "        if(n < start){\n",
    "            return res;\n",
    "        }\n",
    "        int root = (int)Math.Pow(n, 0.5);\n",
    "        for (int i = start; i <= root; i++)\n",
    "        {\n",
    "            if(n % i == 0){\n",
    "                var temp = new List<int> {i, n / i};\n",
    "                res.Add(temp);\n",
    "                var right = helper(n / i, i);\n",
    "                foreach (var item in right)\n",
    "                {\n",
    "                    var temptemp = item.ToList();\n",
    "                    temptemp.Add(i);\n",
    "                    res.Add(temptemp);\n",
    "                }\n",
    "            }\n",
    "        }\n",
    "        return res;\n",
    "    }\n",
    "\n",
    "}"
   ]
  },
  {
   "cell_type": "code",
   "execution_count": null,
   "metadata": {},
   "outputs": [],
   "source": []
  }
 ],
 "metadata": {
  "kernelspec": {
   "display_name": ".NET (C#)",
   "language": "C#",
   "name": ".net-csharp"
  },
  "language_info": {
   "file_extension": ".cs",
   "mimetype": "text/x-csharp",
   "name": "C#",
   "pygments_lexer": "csharp",
   "version": "8.0"
  },
  "toc": {
   "base_numbering": 1,
   "nav_menu": {},
   "number_sections": true,
   "sideBar": true,
   "skip_h1_title": false,
   "title_cell": "Table of Contents",
   "title_sidebar": "Contents",
   "toc_cell": false,
   "toc_position": {},
   "toc_section_display": true,
   "toc_window_display": false
  }
 },
 "nbformat": 4,
 "nbformat_minor": 4
}
