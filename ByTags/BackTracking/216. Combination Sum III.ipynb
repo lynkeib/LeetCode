{
 "cells": [
  {
   "cell_type": "code",
   "execution_count": 1,
   "metadata": {
    "ExecuteTime": {
     "end_time": "2019-11-12T03:27:03.696197Z",
     "start_time": "2019-11-12T03:27:03.689782Z"
    }
   },
   "outputs": [],
   "source": [
    "class Solution(object):\n",
    "    def combinationSum3(self, k, n):\n",
    "        \"\"\"\n",
    "        :type k: int\n",
    "        :type n: int\n",
    "        :rtype: List[List[int]]\n",
    "        \"\"\"\n",
    "        res = []\n",
    "        self.dfs(1, [], 0, res, k, n)\n",
    "        return res\n",
    "    \n",
    "    def dfs(self, start, path, total, res, k, n):\n",
    "        # print(path)\n",
    "        if start == 11:\n",
    "            return\n",
    "        if len(path) == k:\n",
    "            if total != n:\n",
    "                return\n",
    "            else:\n",
    "                res.append(path)\n",
    "                return\n",
    "        # if total > n:\n",
    "        #     return\n",
    "        for num in range(start, 10):\n",
    "            self.dfs(num + 1, path + [num], total + num, res, k, n)\n",
    "        return "
   ]
  },
  {
   "cell_type": "code",
   "execution_count": null,
   "metadata": {},
   "outputs": [],
   "source": []
  }
 ],
 "metadata": {
  "kernelspec": {
   "display_name": "Python 3",
   "language": "python",
   "name": "python3"
  },
  "language_info": {
   "codemirror_mode": {
    "name": "ipython",
    "version": 3
   },
   "file_extension": ".py",
   "mimetype": "text/x-python",
   "name": "python",
   "nbconvert_exporter": "python",
   "pygments_lexer": "ipython3",
   "version": "3.7.1"
  },
  "toc": {
   "base_numbering": 1,
   "nav_menu": {},
   "number_sections": true,
   "sideBar": true,
   "skip_h1_title": false,
   "title_cell": "Table of Contents",
   "title_sidebar": "Contents",
   "toc_cell": false,
   "toc_position": {},
   "toc_section_display": true,
   "toc_window_display": false
  }
 },
 "nbformat": 4,
 "nbformat_minor": 2
}
