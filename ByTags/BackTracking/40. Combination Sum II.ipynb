{
 "cells": [
  {
   "cell_type": "code",
   "execution_count": 1,
   "metadata": {
    "ExecuteTime": {
     "end_time": "2019-11-12T03:27:57.032725Z",
     "start_time": "2019-11-12T03:27:57.023936Z"
    }
   },
   "outputs": [],
   "source": [
    "class Solution(object):\n",
    "    def combinationSum2(self, candidates, target):\n",
    "        \"\"\"\n",
    "        :type candidates: List[int]\n",
    "        :type target: int\n",
    "        :rtype: List[List[int]]\n",
    "        \"\"\"\n",
    "        res = []\n",
    "        candidates.sort()\n",
    "        self.backtracking(0, candidates, 0, [], res, target)\n",
    "        return res\n",
    "    \n",
    "    def backtracking(self, start, nums, total, path, res, target):\n",
    "        if total == target:\n",
    "            res.append(path)\n",
    "            return\n",
    "        if total > target:\n",
    "            return\n",
    "        if start == len(nums):\n",
    "            return\n",
    "        index = start\n",
    "        while index < len(nums):\n",
    "            while index != start and index < len(nums) and nums[index] == nums[index - 1]:\n",
    "                index += 1\n",
    "            if index == len(nums):\n",
    "                return\n",
    "            self.backtracking(index + 1, nums, total + nums[index], path + [nums[index]], res, target)\n",
    "            index += 1\n",
    "        return\n",
    "        "
   ]
  },
  {
   "cell_type": "code",
   "execution_count": null,
   "metadata": {},
   "outputs": [],
   "source": []
  }
 ],
 "metadata": {
  "kernelspec": {
   "display_name": "Python 3",
   "language": "python",
   "name": "python3"
  },
  "language_info": {
   "codemirror_mode": {
    "name": "ipython",
    "version": 3
   },
   "file_extension": ".py",
   "mimetype": "text/x-python",
   "name": "python",
   "nbconvert_exporter": "python",
   "pygments_lexer": "ipython3",
   "version": "3.7.1"
  },
  "toc": {
   "base_numbering": 1,
   "nav_menu": {},
   "number_sections": true,
   "sideBar": true,
   "skip_h1_title": false,
   "title_cell": "Table of Contents",
   "title_sidebar": "Contents",
   "toc_cell": false,
   "toc_position": {},
   "toc_section_display": true,
   "toc_window_display": false
  }
 },
 "nbformat": 4,
 "nbformat_minor": 2
}
