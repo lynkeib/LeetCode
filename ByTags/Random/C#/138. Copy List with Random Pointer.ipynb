{
 "cells": [
  {
   "cell_type": "code",
   "execution_count": 1,
   "metadata": {},
   "outputs": [
    {
     "ename": "Unhandled Exception",
     "evalue": "(18,32): error CS0246: The type or namespace name 'Node' could not be found (are you missing a using directive or an assembly reference?)\n(18,12): error CS0246: The type or namespace name 'Node' could not be found (are you missing a using directive or an assembly reference?)\n(19,20): error CS0246: The type or namespace name 'Node' could not be found (are you missing a using directive or an assembly reference?)\n(19,26): error CS0246: The type or namespace name 'Node' could not be found (are you missing a using directive or an assembly reference?)\n(19,54): error CS0246: The type or namespace name 'Node' could not be found (are you missing a using directive or an assembly reference?)\n(19,60): error CS0246: The type or namespace name 'Node' could not be found (are you missing a using directive or an assembly reference?)\n(20,9): error CS0246: The type or namespace name 'Node' could not be found (are you missing a using directive or an assembly reference?)\n(22,13): error CS0246: The type or namespace name 'Node' could not be found (are you missing a using directive or an assembly reference?)\n(22,32): error CS0246: The type or namespace name 'Node' could not be found (are you missing a using directive or an assembly reference?)",
     "output_type": "error",
     "traceback": [
      "(18,32): error CS0246: The type or namespace name 'Node' could not be found (are you missing a using directive or an assembly reference?)\n(18,12): error CS0246: The type or namespace name 'Node' could not be found (are you missing a using directive or an assembly reference?)\n(19,20): error CS0246: The type or namespace name 'Node' could not be found (are you missing a using directive or an assembly reference?)\n(19,26): error CS0246: The type or namespace name 'Node' could not be found (are you missing a using directive or an assembly reference?)\n(19,54): error CS0246: The type or namespace name 'Node' could not be found (are you missing a using directive or an assembly reference?)\n(19,60): error CS0246: The type or namespace name 'Node' could not be found (are you missing a using directive or an assembly reference?)\n(20,9): error CS0246: The type or namespace name 'Node' could not be found (are you missing a using directive or an assembly reference?)\n(22,13): error CS0246: The type or namespace name 'Node' could not be found (are you missing a using directive or an assembly reference?)\n(22,32): error CS0246: The type or namespace name 'Node' could not be found (are you missing a using directive or an assembly reference?)"
     ]
    }
   ],
   "source": [
    "/*\n",
    "// Definition for a Node.\n",
    "public class Node {\n",
    "    public int val;\n",
    "    public Node next;\n",
    "    public Node random;\n",
    "    \n",
    "    public Node(int _val) {\n",
    "        val = _val;\n",
    "        next = null;\n",
    "        random = null;\n",
    "    }\n",
    "}\n",
    "*/\n",
    "public class Solution {\n",
    "    \n",
    "    \n",
    "    public Node CopyRandomList(Node head) {\n",
    "        Dictionary<Node, Node> dict = new Dictionary<Node, Node>();\n",
    "        Node curr = head;\n",
    "        while(curr != null){\n",
    "            Node newnode = new Node(curr.val);\n",
    "            dict[curr] = newnode;\n",
    "            curr = curr.next;\n",
    "        }\n",
    "        curr = head;\n",
    "        while(curr != null){\n",
    "            dict[curr].next = curr.next == null ? null:dict[curr.next];\n",
    "            dict[curr].random = curr.random == null ? null:dict[curr.random];\n",
    "            curr = curr.next;\n",
    "        }\n",
    "        return head == null? null:dict[head];\n",
    "    }\n",
    "}"
   ]
  },
  {
   "cell_type": "code",
   "execution_count": null,
   "metadata": {},
   "outputs": [],
   "source": []
  }
 ],
 "metadata": {
  "kernelspec": {
   "display_name": ".NET (C#)",
   "language": "C#",
   "name": ".net-csharp"
  },
  "language_info": {
   "file_extension": ".cs",
   "mimetype": "text/x-csharp",
   "name": "C#",
   "pygments_lexer": "csharp",
   "version": "8.0"
  },
  "toc": {
   "base_numbering": 1,
   "nav_menu": {},
   "number_sections": true,
   "sideBar": true,
   "skip_h1_title": false,
   "title_cell": "Table of Contents",
   "title_sidebar": "Contents",
   "toc_cell": false,
   "toc_position": {},
   "toc_section_display": true,
   "toc_window_display": false
  }
 },
 "nbformat": 4,
 "nbformat_minor": 4
}
