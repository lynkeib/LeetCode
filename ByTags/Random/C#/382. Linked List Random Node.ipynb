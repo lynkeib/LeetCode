{
 "cells": [
  {
   "cell_type": "code",
   "execution_count": 1,
   "metadata": {},
   "outputs": [
    {
     "ename": "Unhandled Exception",
     "evalue": "(13,5): error CS0246: The type or namespace name 'ListNode' could not be found (are you missing a using directive or an assembly reference?)\n(16,21): error CS0246: The type or namespace name 'ListNode' could not be found (are you missing a using directive or an assembly reference?)\n(25,9): error CS0246: The type or namespace name 'ListNode' could not be found (are you missing a using directive or an assembly reference?)",
     "output_type": "error",
     "traceback": [
      "(13,5): error CS0246: The type or namespace name 'ListNode' could not be found (are you missing a using directive or an assembly reference?)\n(16,21): error CS0246: The type or namespace name 'ListNode' could not be found (are you missing a using directive or an assembly reference?)\n(25,9): error CS0246: The type or namespace name 'ListNode' could not be found (are you missing a using directive or an assembly reference?)"
     ]
    }
   ],
   "source": [
    "/**\n",
    " * Definition for singly-linked list.\n",
    " * public class ListNode {\n",
    " *     public int val;\n",
    " *     public ListNode next;\n",
    " *     public ListNode(int x) { val = x; }\n",
    " * }\n",
    " */\n",
    "public class Solution {\n",
    "\n",
    "    /** @param head The linked list's head.\n",
    "        Note that the head is guaranteed to be not null, so it contains at least one node. */\n",
    "    ListNode h;\n",
    "    Random rand;\n",
    "    \n",
    "    public Solution(ListNode head) {\n",
    "        this.h = head;\n",
    "        this.rand = new Random();\n",
    "    }\n",
    "    \n",
    "    /** Returns a random node's value. */\n",
    "    public int GetRandom() {\n",
    "        int counter = 0;\n",
    "        int res = -1;\n",
    "        ListNode th = h;\n",
    "        while(th != null){\n",
    "            counter += 1;\n",
    "            bool k = keep(ref rand, 0, ref counter);\n",
    "            if(k){\n",
    "                res = th.val;\n",
    "            }\n",
    "            th = th.next;\n",
    "        }\n",
    "        return res;\n",
    "    }\n",
    "    public bool keep(ref Random rand, int min, ref int max){\n",
    "        double t = rand.NextDouble() * (max - min) + min;\n",
    "        if(t <= 1) return true;\n",
    "        return false;\n",
    "    }\n",
    "}\n",
    "\n",
    "\n",
    "/**\n",
    " * Your Solution object will be instantiated and called as such:\n",
    " * Solution obj = new Solution(head);\n",
    " * int param_1 = obj.GetRandom();\n",
    " */"
   ]
  },
  {
   "cell_type": "code",
   "execution_count": null,
   "metadata": {},
   "outputs": [],
   "source": []
  }
 ],
 "metadata": {
  "kernelspec": {
   "display_name": ".NET (C#)",
   "language": "C#",
   "name": ".net-csharp"
  },
  "language_info": {
   "file_extension": ".cs",
   "mimetype": "text/x-csharp",
   "name": "C#",
   "pygments_lexer": "csharp",
   "version": "8.0"
  },
  "toc": {
   "base_numbering": 1,
   "nav_menu": {},
   "number_sections": true,
   "sideBar": true,
   "skip_h1_title": false,
   "title_cell": "Table of Contents",
   "title_sidebar": "Contents",
   "toc_cell": false,
   "toc_position": {},
   "toc_section_display": true,
   "toc_window_display": false
  }
 },
 "nbformat": 4,
 "nbformat_minor": 4
}
