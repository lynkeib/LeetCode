{
 "cells": [
  {
   "cell_type": "code",
   "execution_count": 1,
   "metadata": {},
   "outputs": [],
   "source": [
    "public class Solution {\n",
    "    \n",
    "    private int[] nums;\n",
    "    private Random random;\n",
    "    \n",
    "        \n",
    "    public Solution(int[] nums) {\n",
    "        this.nums = nums;\n",
    "        this.random = new Random();\n",
    "    }\n",
    "    \n",
    "    /** Resets the array to its original configuration and return it. */\n",
    "    public int[] Reset() {\n",
    "        return nums;\n",
    "    }\n",
    "    \n",
    "    /** Returns a random shuffling of the array. */\n",
    "    public int[] Shuffle() {\n",
    "        int[] resnum = new int[nums.Length];\n",
    "        Array.Copy(nums, resnum, nums.Length);\n",
    "        for(int index=0; index<nums.Length; index ++){\n",
    "            int r = random.Next(nums.Length);\n",
    "            if(r != index){\n",
    "                int temp = resnum[index];\n",
    "                resnum[index] = resnum[r];\n",
    "                resnum[r] = temp;\n",
    "            }\n",
    "        }\n",
    "        return resnum;\n",
    "    }\n",
    "}\n",
    "\n",
    "/**\n",
    " * Your Solution object will be instantiated and called as such:\n",
    " * Solution obj = new Solution(nums);\n",
    " * int[] param_1 = obj.Reset();\n",
    " * int[] param_2 = obj.Shuffle();\n",
    " */"
   ]
  },
  {
   "cell_type": "code",
   "execution_count": null,
   "metadata": {},
   "outputs": [],
   "source": []
  }
 ],
 "metadata": {
  "kernelspec": {
   "display_name": ".NET (C#)",
   "language": "C#",
   "name": ".net-csharp"
  },
  "language_info": {
   "file_extension": ".cs",
   "mimetype": "text/x-csharp",
   "name": "C#",
   "pygments_lexer": "csharp",
   "version": "8.0"
  },
  "toc": {
   "base_numbering": 1,
   "nav_menu": {},
   "number_sections": true,
   "sideBar": true,
   "skip_h1_title": false,
   "title_cell": "Table of Contents",
   "title_sidebar": "Contents",
   "toc_cell": false,
   "toc_position": {},
   "toc_section_display": true,
   "toc_window_display": false
  }
 },
 "nbformat": 4,
 "nbformat_minor": 4
}
