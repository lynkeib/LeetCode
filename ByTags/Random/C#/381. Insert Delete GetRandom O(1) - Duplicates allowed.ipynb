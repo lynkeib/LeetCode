{
 "cells": [
  {
   "cell_type": "code",
   "execution_count": 1,
   "metadata": {
    "ExecuteTime": {
     "end_time": "2020-05-12T05:24:58.3069730Z",
     "start_time": "2020-05-12T05:24:56.960Z"
    }
   },
   "outputs": [],
   "source": [
    "public class RandomizedCollection {\n",
    "\n",
    "    Dictionary<int, HashSet<int>> pos = new Dictionary<int, HashSet<int>>();\n",
    "    List<int> nums = new List<int>();\n",
    "    Random rnd = new Random();\n",
    "    \n",
    "    /** Initialize your data structure here. */\n",
    "    public RandomizedCollection() {\n",
    "        \n",
    "    }\n",
    "    \n",
    "    /** Inserts a value to the collection. Returns true if the collection did not already contain the specified element. */\n",
    "    public bool Insert(int val) {\n",
    "        var res = true;\n",
    "        if(pos.ContainsKey(val)){\n",
    "            res = false;\n",
    "        }else{\n",
    "            pos[val] = new HashSet<int>();\n",
    "        }\n",
    "        nums.Add(val);\n",
    "        pos[val].Add(nums.Count - 1);\n",
    "        return res;\n",
    "    }\n",
    "    \n",
    "    /** Removes a value from the collection. Returns true if the collection contained the specified element. */\n",
    "    public bool Remove(int val) {\n",
    "        var res = false;\n",
    "        if(pos.ContainsKey(val)){\n",
    "            res = true;\n",
    "            \n",
    "            var index = pos[val].First();\n",
    "            \n",
    "            pos[val].Remove(index);\n",
    "            // foreach(var n in nums) Console.Write($\"{n} \");\n",
    "            // Console.WriteLine();\n",
    "            // Console.WriteLine($\"{index}\");\n",
    "            nums[index] = nums[nums.Count - 1];\n",
    "            if(index != nums.Count - 1){\n",
    "                pos[nums[index]].Remove(nums.Count - 1);\n",
    "                pos[nums[index]].Add(index);\n",
    "            }\n",
    "            if(pos[val].Count == 0){\n",
    "                pos.Remove(val);\n",
    "            }\n",
    "            nums.RemoveAt(nums.Count - 1);\n",
    "        }\n",
    "        return res;\n",
    "    }\n",
    "    \n",
    "    /** Get a random element from the collection. */\n",
    "    public int GetRandom() {\n",
    "        int index = rnd.Next(nums.Count);\n",
    "        return nums[index];\n",
    "    }\n",
    "}\n",
    "\n",
    "/**\n",
    " * Your RandomizedCollection object will be instantiated and called as such:\n",
    " * RandomizedCollection obj = new RandomizedCollection();\n",
    " * bool param_1 = obj.Insert(val);\n",
    " * bool param_2 = obj.Remove(val);\n",
    " * int param_3 = obj.GetRandom();\n",
    " */"
   ]
  },
  {
   "cell_type": "code",
   "execution_count": null,
   "metadata": {},
   "outputs": [],
   "source": []
  }
 ],
 "metadata": {
  "kernelspec": {
   "display_name": ".NET (C#)",
   "language": "C#",
   "name": ".net-csharp"
  },
  "language_info": {
   "file_extension": ".cs",
   "mimetype": "text/x-csharp",
   "name": "C#",
   "pygments_lexer": "csharp",
   "version": "8.0"
  },
  "toc": {
   "base_numbering": 1,
   "nav_menu": {},
   "number_sections": true,
   "sideBar": true,
   "skip_h1_title": false,
   "title_cell": "Table of Contents",
   "title_sidebar": "Contents",
   "toc_cell": false,
   "toc_position": {},
   "toc_section_display": true,
   "toc_window_display": false
  }
 },
 "nbformat": 4,
 "nbformat_minor": 4
}
