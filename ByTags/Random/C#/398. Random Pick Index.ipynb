{
 "cells": [
  {
   "cell_type": "code",
   "execution_count": 1,
   "metadata": {},
   "outputs": [],
   "source": [
    "public class Solution {\n",
    "    private Random rand;\n",
    "    private int[] nums;\n",
    "        \n",
    "    public Solution(int[] nums) {\n",
    "        this.rand = new Random();\n",
    "        this.nums = nums;\n",
    "    }\n",
    "    \n",
    "    public int Pick(int target) {\n",
    "        HashSet<int> tried = new HashSet<int>();\n",
    "        int r = rand.Next(nums.Length);\n",
    "        while(nums[r] != target){\n",
    "            tried.Add(r);\n",
    "            r = rand.Next(nums.Length);\n",
    "            while(tried.Contains(r)){\n",
    "                r = rand.Next(nums.Length);\n",
    "            }\n",
    "        }\n",
    "        return r;\n",
    "    }\n",
    "}\n",
    "\n",
    "/**\n",
    " * Your Solution object will be instantiated and called as such:\n",
    " * Solution obj = new Solution(nums);\n",
    " * int param_1 = obj.Pick(target);\n",
    " */"
   ]
  },
  {
   "cell_type": "code",
   "execution_count": null,
   "metadata": {},
   "outputs": [],
   "source": []
  }
 ],
 "metadata": {
  "kernelspec": {
   "display_name": ".NET (C#)",
   "language": "C#",
   "name": ".net-csharp"
  },
  "language_info": {
   "file_extension": ".cs",
   "mimetype": "text/x-csharp",
   "name": "C#",
   "pygments_lexer": "csharp",
   "version": "8.0"
  },
  "toc": {
   "base_numbering": 1,
   "nav_menu": {},
   "number_sections": true,
   "sideBar": true,
   "skip_h1_title": false,
   "title_cell": "Table of Contents",
   "title_sidebar": "Contents",
   "toc_cell": false,
   "toc_position": {},
   "toc_section_display": true,
   "toc_window_display": false
  }
 },
 "nbformat": 4,
 "nbformat_minor": 4
}
