{
 "cells": [
  {
   "cell_type": "code",
   "execution_count": 1,
   "metadata": {},
   "outputs": [],
   "source": [
    "\"\"\"\n",
    "# Definition for a Node.\n",
    "class Node:\n",
    "    def __init__(self, x, next=None, random=None):\n",
    "        self.val = int(x)\n",
    "        self.next = next\n",
    "        self.random = random\n",
    "\"\"\"\n",
    "class Solution(object):\n",
    "    def copyRandomList(self, head):\n",
    "        \"\"\"\n",
    "        :type head: Node\n",
    "        :rtype: Node\n",
    "        \"\"\"\n",
    "        dic = dict()\n",
    "        dic[None] = None\n",
    "        node = head\n",
    "        while node:\n",
    "            newnode = ListNode(node.val)\n",
    "            dic[node] = newnode\n",
    "            node = node.next\n",
    "        node = head\n",
    "        while node:\n",
    "            dic[node].next = dic[node.next]\n",
    "            dic[node].random = dic[node.random]\n",
    "            node = node.next\n",
    "        return dic[head]"
   ]
  },
  {
   "cell_type": "code",
   "execution_count": 23,
   "metadata": {
    "ExecuteTime": {
     "end_time": "2020-08-31T02:06:44.324112Z",
     "start_time": "2020-08-31T02:06:44.313833Z"
    }
   },
   "outputs": [],
   "source": [
    "def match(a, b):\n",
    "    return a == b\n",
    "\n",
    "\n",
    "def fuzz_match(a, b):\n",
    "    a_items = a.split(',')\n",
    "    b_items = b.split(',')\n",
    "    for i in range(3):\n",
    "        if a_items[i] != b_items[i]:\n",
    "            return False\n",
    "    return True\n",
    "\n",
    "\n",
    "def offset_match(a, b):\n",
    "    a_items = a.split(',')\n",
    "    b_items = b.split(',')\n",
    "    for i in (0, 2):\n",
    "        if a_items[i] != b_items[i]:\n",
    "            return False\n",
    "    return a_items[1] != b_items[1]\n",
    "\n",
    "\n",
    "def in_list_helper(trades, offset_match):\n",
    "    buys, sells = [], []\n",
    "    for trade in trades:\n",
    "        if trade[5] == 'B':\n",
    "            buys.append(trade)\n",
    "        else:\n",
    "            sells.append(trade)\n",
    "    um_buys, um_sells = helper(buys, sells, offset_match)\n",
    "    return um_buys + um_sells\n",
    "\n",
    "\n",
    "def helper(house_trades, street_trades, func):\n",
    "    house_trades = sorted(house_trades)\n",
    "    street_trades = sorted(street_trades)\n",
    "    um_house, um_street = [], []\n",
    "\n",
    "    while house_trades and street_trades:\n",
    "        curr_house = house_trades[0]\n",
    "        curr_street = street_trades[0]\n",
    "\n",
    "        if func(curr_house, curr_street):\n",
    "            house_trades.pop(0)\n",
    "            street_trades.pop(0)\n",
    "        elif curr_house < curr_street:\n",
    "            house_trades.pop(0)\n",
    "            um_house.append(curr_house)\n",
    "        else:\n",
    "            street_trades.pop(0)\n",
    "            um_street.append(curr_street)\n",
    "    return um_house + house_trades, um_street + street_trades\n",
    "\n",
    "\n",
    "def compare_trades(house_trades, street_trades):\n",
    "    house_res, street_res = helper(house_trades, street_trades, match)\n",
    "#     house_res2, street_res2 = helper(house_res, street_res, fuzz_match)\n",
    "#     house_res3, street_res3 = in_list_helper(house_res2, offset_match), in_list_helper(street_res2, offset_match)\n",
    "    return sorted(house_res + street_res)"
   ]
  },
  {
   "cell_type": "code",
   "execution_count": 28,
   "metadata": {
    "ExecuteTime": {
     "end_time": "2020-08-31T02:07:21.091668Z",
     "start_time": "2020-08-31T02:07:21.088981Z"
    }
   },
   "outputs": [],
   "source": [
    "house = [\"AAPL,B,0100,ABC123\", \"AAPL,B,0100,ABC123\", \"GOOG,S,0050,CDC333\"]\n",
    "street = [\"FB,B,0100,GBGGGG\", \"AAPL,B,0100,ABC123\",\"GOOG,S,0050,CDC333\"]"
   ]
  },
  {
   "cell_type": "code",
   "execution_count": 29,
   "metadata": {
    "ExecuteTime": {
     "end_time": "2020-08-31T02:07:21.317753Z",
     "start_time": "2020-08-31T02:07:21.313709Z"
    }
   },
   "outputs": [
    {
     "data": {
      "text/plain": [
       "['AAPL,B,0100,ABC123', 'FB,B,0100,GBGGGG']"
      ]
     },
     "execution_count": 29,
     "metadata": {},
     "output_type": "execute_result"
    }
   ],
   "source": [
    "compare_trades(house, street)"
   ]
  },
  {
   "cell_type": "code",
   "execution_count": null,
   "metadata": {},
   "outputs": [],
   "source": []
  }
 ],
 "metadata": {
  "kernelspec": {
   "display_name": "Python 3",
   "language": "python",
   "name": "python3"
  },
  "language_info": {
   "codemirror_mode": {
    "name": "ipython",
    "version": 3
   },
   "file_extension": ".py",
   "mimetype": "text/x-python",
   "name": "python",
   "nbconvert_exporter": "python",
   "pygments_lexer": "ipython3",
   "version": "3.7.4"
  },
  "toc": {
   "base_numbering": 1,
   "nav_menu": {},
   "number_sections": true,
   "sideBar": true,
   "skip_h1_title": false,
   "title_cell": "Table of Contents",
   "title_sidebar": "Contents",
   "toc_cell": false,
   "toc_position": {},
   "toc_section_display": true,
   "toc_window_display": false
  }
 },
 "nbformat": 4,
 "nbformat_minor": 4
}
