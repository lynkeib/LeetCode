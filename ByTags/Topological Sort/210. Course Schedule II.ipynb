{
 "cells": [
  {
   "cell_type": "code",
   "execution_count": 1,
   "metadata": {},
   "outputs": [],
   "source": [
    "class Solution(object):\n",
    "    def findOrder(self, numCourses, prerequisites):\n",
    "        \"\"\"\n",
    "        :type numCourses: int\n",
    "        :type prerequisites: List[List[int]]\n",
    "        :rtype: List[int]\n",
    "        \"\"\"\n",
    "        graph = dict()\n",
    "        indegree = [0] * numCourses\n",
    "        queue = []\n",
    "        res = []\n",
    "        for c, pre in prerequisites:\n",
    "            if pre not in graph:\n",
    "                graph[pre] = set()\n",
    "            graph[pre].add(c)\n",
    "            indegree[c] += 1\n",
    "        for index in range(len(indegree)):\n",
    "            if indegree[index] == 0:\n",
    "                queue.append(index)\n",
    "        while queue:\n",
    "            n = queue.pop()\n",
    "            self.dfs(n, graph, indegree, res)\n",
    "        if not any(indegree):\n",
    "            return res\n",
    "        return []\n",
    "    \n",
    "    def dfs(self, node, graph, indegree, res):\n",
    "        res.append(node)\n",
    "        \n",
    "        if node not in graph:\n",
    "            return\n",
    "        next_queue = []\n",
    "        for n in graph[node]:\n",
    "            indegree[n] -= 1\n",
    "            if indegree[n] == 0:\n",
    "                next_queue.append(n)\n",
    "        del graph[node]\n",
    "        for n in next_queue:\n",
    "            self.dfs(n, graph, indegree, res)\n",
    "        return"
   ]
  },
  {
   "cell_type": "code",
   "execution_count": null,
   "metadata": {},
   "outputs": [],
   "source": []
  }
 ],
 "metadata": {
  "kernelspec": {
   "display_name": "Python 3",
   "language": "python",
   "name": "python3"
  },
  "language_info": {
   "codemirror_mode": {
    "name": "ipython",
    "version": 3
   },
   "file_extension": ".py",
   "mimetype": "text/x-python",
   "name": "python",
   "nbconvert_exporter": "python",
   "pygments_lexer": "ipython3",
   "version": "3.7.4"
  },
  "toc": {
   "base_numbering": 1,
   "nav_menu": {},
   "number_sections": true,
   "sideBar": true,
   "skip_h1_title": false,
   "title_cell": "Table of Contents",
   "title_sidebar": "Contents",
   "toc_cell": false,
   "toc_position": {},
   "toc_section_display": true,
   "toc_window_display": false
  }
 },
 "nbformat": 4,
 "nbformat_minor": 4
}
