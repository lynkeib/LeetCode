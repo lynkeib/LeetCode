{
 "cells": [
  {
   "cell_type": "code",
   "execution_count": 1,
   "metadata": {},
   "outputs": [],
   "source": [
    "class Solution(object):\n",
    "    def canFinish(self, numCourses, prerequisites):\n",
    "        \"\"\"\n",
    "        :type numCourses: int\n",
    "        :type prerequisites: List[List[int]]\n",
    "        :rtype: bool\n",
    "        \"\"\"\n",
    "        if not prerequisites:\n",
    "            return True\n",
    "        # build counting list\n",
    "        res = [0] * numCourses\n",
    "        # build graph\n",
    "        g = dict()\n",
    "        for pre, c in prerequisites:\n",
    "            res[c] += 1\n",
    "            if pre not in g:\n",
    "                g[pre] = [c]\n",
    "            else:\n",
    "                g[pre].append(c)\n",
    "        queue = []\n",
    "        okcount = 0\n",
    "        for index in range(len(res)):\n",
    "            if res[index] == 0:\n",
    "                queue.append(index)\n",
    "                okcount += 1\n",
    "        while queue:\n",
    "            c = queue.pop(0)\n",
    "            if c in g:\n",
    "                for cc in g[c]:\n",
    "                    res[cc] -= 1\n",
    "                    if res[cc] == 0:\n",
    "                        queue.append(cc)\n",
    "                        okcount += 1\n",
    "                if okcount == numCourses:\n",
    "                    return True\n",
    "        return False"
   ]
  },
  {
   "cell_type": "code",
   "execution_count": null,
   "metadata": {},
   "outputs": [],
   "source": []
  }
 ],
 "metadata": {
  "kernelspec": {
   "display_name": "Python 3",
   "language": "python",
   "name": "python3"
  },
  "language_info": {
   "codemirror_mode": {
    "name": "ipython",
    "version": 3
   },
   "file_extension": ".py",
   "mimetype": "text/x-python",
   "name": "python",
   "nbconvert_exporter": "python",
   "pygments_lexer": "ipython3",
   "version": "3.7.4"
  },
  "toc": {
   "base_numbering": 1,
   "nav_menu": {},
   "number_sections": true,
   "sideBar": true,
   "skip_h1_title": false,
   "title_cell": "Table of Contents",
   "title_sidebar": "Contents",
   "toc_cell": false,
   "toc_position": {},
   "toc_section_display": true,
   "toc_window_display": false
  }
 },
 "nbformat": 4,
 "nbformat_minor": 4
}
