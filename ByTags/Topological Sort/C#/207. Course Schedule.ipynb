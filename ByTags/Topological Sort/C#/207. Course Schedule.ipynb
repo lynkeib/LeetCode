{
 "cells": [
  {
   "cell_type": "code",
   "execution_count": 38,
   "metadata": {},
   "outputs": [],
   "source": [
    "public class Solution {\n",
    "    public bool CanFinish(int numCourses, int[][] prerequisites) {\n",
    "        if(prerequisites.Length == 0) return true;\n",
    "        int[] res = new int[numCourses];\n",
    "        Dictionary<int, HashSet<int>> g = new Dictionary<int, HashSet<int>>();\n",
    "        foreach(int[] p in prerequisites){\n",
    "            int c = p[1];\n",
    "            int pre = p[0];\n",
    "            \n",
    "            res[c] += 1;\n",
    "            if(!g.ContainsKey(pre)) g[pre] = new HashSet<int>();\n",
    "            g[pre].Add(c);\n",
    "        }\n",
    "        Queue<int> queue = new Queue<int>();\n",
    "        int okcount = 0;\n",
    "        for(int index=0; index < numCourses; index ++){\n",
    "            if(res[index]==0){\n",
    "                queue.Enqueue(index);\n",
    "                okcount += 1;\n",
    "            }\n",
    "        }\n",
    "        while(queue.Count != 0){\n",
    "            int c= queue.Dequeue();\n",
    "            if(g.ContainsKey(c)){\n",
    "                foreach(int cc in g[c]){\n",
    "                    res[cc] -= 1;\n",
    "                    if(res[cc] == 0){\n",
    "                        queue.Enqueue(cc);\n",
    "                        okcount += 1;\n",
    "                    }\n",
    "                if(okcount == numCourses) return true;\n",
    "                }\n",
    "            }\n",
    "        }\n",
    "        \n",
    "        return false;\n",
    "    }\n",
    "}"
   ]
  }
 ],
 "metadata": {
  "kernelspec": {
   "display_name": ".NET (C#)",
   "language": "C#",
   "name": ".net-csharp"
  },
  "language_info": {
   "file_extension": ".cs",
   "mimetype": "text/x-csharp",
   "name": "C#",
   "pygments_lexer": "csharp",
   "version": "8.0"
  },
  "toc": {
   "base_numbering": 1,
   "nav_menu": {},
   "number_sections": true,
   "sideBar": true,
   "skip_h1_title": false,
   "title_cell": "Table of Contents",
   "title_sidebar": "Contents",
   "toc_cell": false,
   "toc_position": {},
   "toc_section_display": true,
   "toc_window_display": false
  }
 },
 "nbformat": 4,
 "nbformat_minor": 4
}
