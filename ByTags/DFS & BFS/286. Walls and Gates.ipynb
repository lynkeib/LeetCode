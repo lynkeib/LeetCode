{
 "cells": [
  {
   "cell_type": "markdown",
   "metadata": {},
   "source": [
    "# BFS (from empty) TLE"
   ]
  },
  {
   "cell_type": "code",
   "execution_count": 1,
   "metadata": {
    "ExecuteTime": {
     "end_time": "2019-11-29T04:50:10.092993Z",
     "start_time": "2019-11-29T04:50:10.076066Z"
    }
   },
   "outputs": [],
   "source": [
    "class Solution(object):\n",
    "    def wallsAndGates(self, rooms):\n",
    "        \"\"\"\n",
    "        :type rooms: List[List[int]]\n",
    "        :rtype: None Do not return anything, modify rooms in-place instead.\n",
    "        \"\"\"\n",
    "        if not rooms or not rooms[0]:\n",
    "            return rooms\n",
    "        for row in range(len(rooms)):\n",
    "            for column in range(len(rooms[0])):\n",
    "                if rooms[row][column] != 0 and rooms[row][column] != -1:\n",
    "                    visited = set()\n",
    "                    rooms[row][column] = self.bfs(rooms, [(row,  column)], 0, visited)\n",
    "        return rooms\n",
    "    \n",
    "    def bfs(self, rooms, points ,dist, visited):\n",
    "        this = points[0]\n",
    "        while points:\n",
    "            next_points = []\n",
    "            for point in points:\n",
    "                if rooms[point[0]][point[1]] == 0:\n",
    "                    return dist\n",
    "                visited.add(point)\n",
    "                #up\n",
    "                if point[0] - 1 >= 0 and (point[0] - 1, point[1]) not in visited and rooms[point[0] - 1][point[1]] != -1:\n",
    "                    next_points.append((point[0] - 1, point[1]))\n",
    "                #down\n",
    "                if point[0] + 1 < len(rooms) and (point[0] + 1, point[1]) not in visited and rooms[point[0] + 1][point[1]] != -1:\n",
    "                    next_points.append((point[0] + 1, point[1]))\n",
    "                #left\n",
    "                if point[1] - 1 >= 0 and (point[0], point[1] - 1) not in visited and rooms[point[0]][point[1] - 1] != -1:\n",
    "                    next_points.append((point[0], point[1] - 1))\n",
    "                #right\n",
    "                if point[1] + 1 < len(rooms[0]) and (point[0], point[1] + 1) not in visited and rooms[point[0]][point[1] + 1] != -1:\n",
    "                    next_points.append((point[0], point[1] + 1))\n",
    "            points = next_points\n",
    "            dist += 1\n",
    "        return rooms[this[0]][this[1]]    "
   ]
  },
  {
   "cell_type": "markdown",
   "metadata": {},
   "source": [
    "# BFS (from gate)"
   ]
  },
  {
   "cell_type": "code",
   "execution_count": 2,
   "metadata": {
    "ExecuteTime": {
     "end_time": "2019-11-29T05:07:54.567271Z",
     "start_time": "2019-11-29T05:07:54.557984Z"
    }
   },
   "outputs": [],
   "source": [
    "class Solution(object):\n",
    "    def wallsAndGates(self, rooms):\n",
    "        \"\"\"\n",
    "        :type rooms: List[List[int]]\n",
    "        :rtype: None Do not return anything, modify rooms in-place instead.\n",
    "        \"\"\"\n",
    "        if not rooms or not rooms[0]:\n",
    "            return rooms\n",
    "        width, height = len(rooms), len(rooms[0])\n",
    "        queue = []\n",
    "        for row in range(len(rooms)):\n",
    "            for column in range(len(rooms[0])):\n",
    "                if rooms[row][column] == 0:\n",
    "                    queue.append((row, column))\n",
    "        directions = [(1, 0), (0, 1), (-1, 0), (0, -1)]\n",
    "        while queue:\n",
    "            row, column = queue.pop(0)\n",
    "            for direction in directions:\n",
    "                r = row + direction[0]\n",
    "                c = column + direction[1]\n",
    "                if r >= 0 and c >= 0 and r < width and c < height and rooms[r][c] == 2147483647:\n",
    "                    rooms[r][c] = rooms[row][column] + 1\n",
    "                    queue.append((r, c))\n",
    "        return rooms\n",
    "    "
   ]
  },
  {
   "cell_type": "code",
   "execution_count": null,
   "metadata": {},
   "outputs": [],
   "source": []
  }
 ],
 "metadata": {
  "kernelspec": {
   "display_name": "Python 3",
   "language": "python",
   "name": "python3"
  },
  "language_info": {
   "codemirror_mode": {
    "name": "ipython",
    "version": 3
   },
   "file_extension": ".py",
   "mimetype": "text/x-python",
   "name": "python",
   "nbconvert_exporter": "python",
   "pygments_lexer": "ipython3",
   "version": "3.7.1"
  },
  "toc": {
   "base_numbering": 1,
   "nav_menu": {},
   "number_sections": true,
   "sideBar": true,
   "skip_h1_title": false,
   "title_cell": "Table of Contents",
   "title_sidebar": "Contents",
   "toc_cell": false,
   "toc_position": {},
   "toc_section_display": true,
   "toc_window_display": false
  }
 },
 "nbformat": 4,
 "nbformat_minor": 2
}
