{
 "cells": [
  {
   "cell_type": "code",
   "execution_count": 1,
   "metadata": {
    "ExecuteTime": {
     "end_time": "2019-11-29T05:51:24.575893Z",
     "start_time": "2019-11-29T05:51:24.564569Z"
    }
   },
   "outputs": [],
   "source": [
    "class Solution(object):\n",
    "    def solve(self, board):\n",
    "        \"\"\"\n",
    "        :type board: List[List[str]]\n",
    "        :rtype: None Do not return anything, modify board in-place instead.\n",
    "        \"\"\"\n",
    "        if not board or not board[0]:\n",
    "            return\n",
    "        rows, columns = len(board), len(board[0])\n",
    "        directions = [(0, 1), (0, -1), (1, 0), (-1, 0)]\n",
    "        for row in range(rows):\n",
    "            self.label(board, row, 0, rows, columns, directions)\n",
    "            self.label(board, row, columns - 1, rows, columns, directions)\n",
    "                    \n",
    "        for column in range(columns):\n",
    "            self.label(board, 0, column, rows, columns, directions)\n",
    "            self.label(board, rows - 1, column, rows, columns, directions)\n",
    "        # print(board)\n",
    "        \n",
    "        for row in range(rows):\n",
    "            for column in range(columns):\n",
    "                if board[row][column] == 'Z':\n",
    "                    board[row][column] = 'O'\n",
    "                elif board[row][column] == 'O':\n",
    "                    board[row][column] = 'X'\n",
    "        return \n",
    "        \n",
    "    def label(self, board, row, column, rows, columns, directions):\n",
    "        if row < 0 or row >= rows or column < 0 or column >= columns:\n",
    "            return\n",
    "        if board[row][column] == 'O':\n",
    "            board[row][column] = 'Z'\n",
    "            for direction in directions:\n",
    "                self.label(board, row + direction[0], column + direction[1], rows, columns, directions)\n",
    "        return "
   ]
  },
  {
   "cell_type": "code",
   "execution_count": null,
   "metadata": {},
   "outputs": [],
   "source": []
  }
 ],
 "metadata": {
  "kernelspec": {
   "display_name": "Python 3",
   "language": "python",
   "name": "python3"
  },
  "language_info": {
   "codemirror_mode": {
    "name": "ipython",
    "version": 3
   },
   "file_extension": ".py",
   "mimetype": "text/x-python",
   "name": "python",
   "nbconvert_exporter": "python",
   "pygments_lexer": "ipython3",
   "version": "3.7.1"
  },
  "toc": {
   "base_numbering": 1,
   "nav_menu": {},
   "number_sections": true,
   "sideBar": true,
   "skip_h1_title": false,
   "title_cell": "Table of Contents",
   "title_sidebar": "Contents",
   "toc_cell": false,
   "toc_position": {},
   "toc_section_display": true,
   "toc_window_display": false
  }
 },
 "nbformat": 4,
 "nbformat_minor": 2
}
