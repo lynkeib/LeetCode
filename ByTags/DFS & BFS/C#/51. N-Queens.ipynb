{
 "cells": [
  {
   "cell_type": "code",
   "execution_count": 1,
   "metadata": {
    "ExecuteTime": {
     "end_time": "2020-03-29T23:37:27.8609520Z",
     "start_time": "2020-03-29T23:37:23.900Z"
    }
   },
   "outputs": [],
   "source": [
    "public class Solution {\n",
    "    public IList<IList<string>> SolveNQueens (int n) {\n",
    "        var res = new List<IList<string>> ();\n",
    "        var map = new char[n][];\n",
    "        for (int i = 0; i < n; i++) {\n",
    "            map[i] = new char[n];\n",
    "            for (int j = 0; j < n; j++) {\n",
    "                map[i][j] = '.';\n",
    "            }\n",
    "        }\n",
    "        var hasQ = new int[n];\n",
    "        for(int i = 0; i < n; i++){\n",
    "            hasQ[i] = -1;\n",
    "        }\n",
    "        dfs(n, map, hasQ, 0, res);\n",
    "        return res;\n",
    "    }\n",
    "\n",
    "    public void dfs (int n, char[][] map, int[] hasQ, int row, IList<IList<string>> res) {\n",
    "        if (row == n) {\n",
    "            var this_res = new List<string> ();\n",
    "            foreach (var r in map) {\n",
    "                this_res.Add (new string (r));\n",
    "            }\n",
    "            res.Add (this_res);\n",
    "            return;\n",
    "        }\n",
    "\n",
    "        var cannot = new int[n];\n",
    "        for (int r = 0; r < row; r++) {\n",
    "            var col = hasQ[r];\n",
    "            if (col != -1) {\n",
    "                cannot[col] = 1;\n",
    "            }\n",
    "            var diff = row - r;\n",
    "            if (col + diff < n) {\n",
    "                cannot[col + diff] = 1;\n",
    "            }\n",
    "            if (col - diff > -1) {\n",
    "                cannot[col - diff] = 1;\n",
    "            }\n",
    "        }\n",
    "\n",
    "        if (cannot.Sum () == n) {\n",
    "            return;\n",
    "        }\n",
    "        for (int c = 0; c < n; c++) {\n",
    "            if (cannot[c] == 0) {\n",
    "                hasQ[row] = c;\n",
    "                map[row][c] = 'Q';\n",
    "                dfs (n, map, hasQ, row + 1, res);\n",
    "                map[row][c] = '.';\n",
    "                hasQ[row] = -1;\n",
    "            }\n",
    "        }\n",
    "        return;\n",
    "    }\n",
    "}"
   ]
  },
  {
   "cell_type": "code",
   "execution_count": null,
   "metadata": {},
   "outputs": [],
   "source": []
  }
 ],
 "metadata": {
  "kernelspec": {
   "display_name": ".NET (C#)",
   "language": "C#",
   "name": ".net-csharp"
  },
  "language_info": {
   "file_extension": ".cs",
   "mimetype": "text/x-csharp",
   "name": "C#",
   "pygments_lexer": "csharp",
   "version": "8.0"
  },
  "toc": {
   "base_numbering": 1,
   "nav_menu": {},
   "number_sections": true,
   "sideBar": true,
   "skip_h1_title": false,
   "title_cell": "Table of Contents",
   "title_sidebar": "Contents",
   "toc_cell": false,
   "toc_position": {},
   "toc_section_display": true,
   "toc_window_display": false
  }
 },
 "nbformat": 4,
 "nbformat_minor": 4
}
