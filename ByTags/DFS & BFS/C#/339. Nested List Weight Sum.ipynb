{
 "cells": [
  {
   "cell_type": "code",
   "execution_count": 1,
   "metadata": {
    "ExecuteTime": {
     "end_time": "2020-05-08T23:49:34.2745630Z",
     "start_time": "2020-05-08T23:49:33.219Z"
    }
   },
   "outputs": [
    {
     "ename": "Unhandled Exception",
     "evalue": "(31,31): error CS0246: The type or namespace name 'NestedInteger' could not be found (are you missing a using directive or an assembly reference?)\n(32,31): error CS0246: The type or namespace name 'NestedInteger' could not be found (are you missing a using directive or an assembly reference?)\n(35,17): error CS0246: The type or namespace name 'NestedInteger' could not be found (are you missing a using directive or an assembly reference?)\n(39,40): error CS0246: The type or namespace name 'NestedInteger' could not be found (are you missing a using directive or an assembly reference?)\n(41,17): error CS0246: The type or namespace name 'NestedInteger' could not be found (are you missing a using directive or an assembly reference?)\n(45,29): error CS0246: The type or namespace name 'NestedInteger' could not be found (are you missing a using directive or an assembly reference?)",
     "output_type": "error",
     "traceback": [
      "(31,31): error CS0246: The type or namespace name 'NestedInteger' could not be found (are you missing a using directive or an assembly reference?)\n(32,31): error CS0246: The type or namespace name 'NestedInteger' could not be found (are you missing a using directive or an assembly reference?)\n(35,17): error CS0246: The type or namespace name 'NestedInteger' could not be found (are you missing a using directive or an assembly reference?)\n(39,40): error CS0246: The type or namespace name 'NestedInteger' could not be found (are you missing a using directive or an assembly reference?)\n(41,17): error CS0246: The type or namespace name 'NestedInteger' could not be found (are you missing a using directive or an assembly reference?)\n(45,29): error CS0246: The type or namespace name 'NestedInteger' could not be found (are you missing a using directive or an assembly reference?)"
     ]
    }
   ],
   "source": [
    "/**\n",
    " * // This is the interface that allows for creating nested lists.\n",
    " * // You should not implement it, or speculate about its implementation\n",
    " * interface NestedInteger {\n",
    " *\n",
    " *     // Constructor initializes an empty nested list.\n",
    " *     public NestedInteger();\n",
    " *\n",
    " *     // Constructor initializes a single integer.\n",
    " *     public NestedInteger(int value);\n",
    " *\n",
    " *     // @return true if this NestedInteger holds a single integer, rather than a nested list.\n",
    " *     bool IsInteger();\n",
    " *\n",
    " *     // @return the single integer that this NestedInteger holds, if it holds a single integer\n",
    " *     // Return null if this NestedInteger holds a nested list\n",
    " *     int GetInteger();\n",
    " *\n",
    " *     // Set this NestedInteger to hold a single integer.\n",
    " *     public void SetInteger(int value);\n",
    " *\n",
    " *     // Set this NestedInteger to hold a nested list and adds a nested integer to it.\n",
    " *     public void Add(NestedInteger ni);\n",
    " *\n",
    " *     // @return the nested list that this NestedInteger holds, if it holds a nested list\n",
    " *     // Return null if this NestedInteger holds a single integer\n",
    " *     IList<NestedInteger> GetList();\n",
    " * }\n",
    " */\n",
    "public class Solution {\n",
    "    public int DepthSum(IList<NestedInteger> nestedList) {\n",
    "        var queue = new Queue<NestedInteger>();\n",
    "        var depth = 1;\n",
    "        var res = 0;\n",
    "        foreach(NestedInteger node in nestedList){\n",
    "            queue.Enqueue(node);\n",
    "        }\n",
    "        while(queue.Count != 0){\n",
    "            var next_queue = new Queue<NestedInteger>();\n",
    "            while(queue.Count != 0){\n",
    "                NestedInteger node = queue.Dequeue();\n",
    "                if(node.IsInteger()){\n",
    "                    res += node.GetInteger() * depth;\n",
    "                }else{\n",
    "                    foreach(NestedInteger n in node.GetList()){\n",
    "                        next_queue.Enqueue(n);\n",
    "                    }\n",
    "                } \n",
    "            }\n",
    "            queue = next_queue;\n",
    "            depth++;\n",
    "        }\n",
    "        return res;\n",
    "    }\n",
    "}"
   ]
  },
  {
   "cell_type": "code",
   "execution_count": null,
   "metadata": {},
   "outputs": [],
   "source": []
  }
 ],
 "metadata": {
  "kernelspec": {
   "display_name": ".NET (C#)",
   "language": "C#",
   "name": ".net-csharp"
  },
  "language_info": {
   "file_extension": ".cs",
   "mimetype": "text/x-csharp",
   "name": "C#",
   "pygments_lexer": "csharp",
   "version": "8.0"
  },
  "toc": {
   "base_numbering": 1,
   "nav_menu": {},
   "number_sections": true,
   "sideBar": true,
   "skip_h1_title": false,
   "title_cell": "Table of Contents",
   "title_sidebar": "Contents",
   "toc_cell": false,
   "toc_position": {},
   "toc_section_display": true,
   "toc_window_display": false
  }
 },
 "nbformat": 4,
 "nbformat_minor": 4
}
