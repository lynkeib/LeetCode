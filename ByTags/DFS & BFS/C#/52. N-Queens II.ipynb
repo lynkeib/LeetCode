{
 "cells": [
  {
   "cell_type": "code",
   "execution_count": 1,
   "metadata": {
    "ExecuteTime": {
     "end_time": "2020-03-30T03:40:53.2206950Z",
     "start_time": "2020-03-30T03:40:50.437Z"
    }
   },
   "outputs": [],
   "source": [
    "public class Solution {\n",
    "    public int TotalNQueens (int n) {\n",
    "        var res = new List<int> {0};\n",
    "        // var map = new char[n][];\n",
    "        // for (int i = 0; i < n; i++) {\n",
    "        //     map[i] = new char[n];\n",
    "        //     for (int j = 0; j < n; j++) {\n",
    "        //         map[i][j] = '.';\n",
    "        //     }\n",
    "        // }\n",
    "        var hasQ = new int[n];\n",
    "        for(int i = 0; i < n; i++){\n",
    "            hasQ[i] = -1;\n",
    "        }\n",
    "        dfs(n, hasQ, 0, res);\n",
    "        return res[0];\n",
    "    }\n",
    "\n",
    "    public void dfs (int n, int[] hasQ, int row, IList<int> res) {\n",
    "        if (row == n) {\n",
    "            res[0] += 1;\n",
    "            return;\n",
    "        }\n",
    "\n",
    "        var cannot = new int[n];\n",
    "        for (int r = 0; r < row; r++) {\n",
    "            var col = hasQ[r];\n",
    "            if (col != -1) {\n",
    "                cannot[col] = 1;\n",
    "            }\n",
    "            var diff = row - r;\n",
    "            if (col + diff < n) {\n",
    "                cannot[col + diff] = 1;\n",
    "            }\n",
    "            if (col - diff > -1) {\n",
    "                cannot[col - diff] = 1;\n",
    "            }\n",
    "        }\n",
    "\n",
    "        if (cannot.Sum () == n) {\n",
    "            return;\n",
    "        }\n",
    "        for (int c = 0; c < n; c++) {\n",
    "            if (cannot[c] == 0) {\n",
    "                hasQ[row] = c;\n",
    "                dfs (n, hasQ, row + 1, res);\n",
    "                hasQ[row] = -1;\n",
    "            }\n",
    "        }\n",
    "        return;\n",
    "    }\n",
    "}"
   ]
  },
  {
   "cell_type": "code",
   "execution_count": null,
   "metadata": {},
   "outputs": [],
   "source": []
  }
 ],
 "metadata": {
  "kernelspec": {
   "display_name": ".NET (C#)",
   "language": "C#",
   "name": ".net-csharp"
  },
  "language_info": {
   "file_extension": ".cs",
   "mimetype": "text/x-csharp",
   "name": "C#",
   "pygments_lexer": "csharp",
   "version": "8.0"
  },
  "toc": {
   "base_numbering": 1,
   "nav_menu": {},
   "number_sections": true,
   "sideBar": true,
   "skip_h1_title": false,
   "title_cell": "Table of Contents",
   "title_sidebar": "Contents",
   "toc_cell": false,
   "toc_position": {},
   "toc_section_display": true,
   "toc_window_display": false
  }
 },
 "nbformat": 4,
 "nbformat_minor": 4
}
