{
 "cells": [
  {
   "cell_type": "code",
   "execution_count": 1,
   "metadata": {
    "ExecuteTime": {
     "end_time": "2020-05-15T23:04:37.0461300Z",
     "start_time": "2020-05-15T23:04:35.942Z"
    }
   },
   "outputs": [],
   "source": [
    "public class Solution {\n",
    "    public int NumBusesToDestination(int[][] routes, int S, int T) {\n",
    "        if(S == T){\n",
    "            return 0;\n",
    "        }\n",
    "        var stopToBus = new Dictionary<int, List<int>>();\n",
    "        var queue = new Queue<int>();\n",
    "        queue.Enqueue(S);\n",
    "        for(int i = 0; i < routes.Length; i++){\n",
    "            foreach(var stop in routes[i]){\n",
    "                if(!stopToBus.ContainsKey(stop)){\n",
    "                    stopToBus[stop] = new List<int>();\n",
    "                }\n",
    "                stopToBus[stop].Add(i);\n",
    "            }\n",
    "        }\n",
    "        var count = 1;\n",
    "        var busTake = new HashSet<int>();\n",
    "        var stopVisited = new HashSet<int>();\n",
    "        while(queue.Count != 0){\n",
    "            var next_queue = new Queue<int>();\n",
    "            while(queue.Count != 0){\n",
    "                var stop = queue.Dequeue();\n",
    "                // Console.WriteLine(stop);\n",
    "                stopVisited.Add(stop);\n",
    "                // if(!stopToBus.ContainsKey(stop)){\n",
    "                //     continue;\n",
    "                // }\n",
    "                var busCanTake = stopToBus[stop];\n",
    "                foreach(var bus in busCanTake){\n",
    "                    if(!busTake.Contains(bus)){\n",
    "                        busTake.Add(bus);\n",
    "                        foreach(var nextStop in routes[bus]){\n",
    "                            if(!stopVisited.Contains(nextStop)){\n",
    "                                // Console.WriteLine(nextStop);\n",
    "                                if(nextStop == T){\n",
    "                                    return count;\n",
    "                                }\n",
    "                                next_queue.Enqueue(nextStop);\n",
    "                            }\n",
    "                        }\n",
    "                    }\n",
    "                }\n",
    "            }\n",
    "            count++;\n",
    "            queue = next_queue;\n",
    "        }\n",
    "        return -1;\n",
    "    }\n",
    "}"
   ]
  },
  {
   "cell_type": "code",
   "execution_count": null,
   "metadata": {},
   "outputs": [],
   "source": []
  }
 ],
 "metadata": {
  "kernelspec": {
   "display_name": ".NET (C#)",
   "language": "C#",
   "name": ".net-csharp"
  },
  "language_info": {
   "file_extension": ".cs",
   "mimetype": "text/x-csharp",
   "name": "C#",
   "pygments_lexer": "csharp",
   "version": "8.0"
  },
  "toc": {
   "base_numbering": 1,
   "nav_menu": {},
   "number_sections": true,
   "sideBar": true,
   "skip_h1_title": false,
   "title_cell": "Table of Contents",
   "title_sidebar": "Contents",
   "toc_cell": false,
   "toc_position": {},
   "toc_section_display": true,
   "toc_window_display": false
  }
 },
 "nbformat": 4,
 "nbformat_minor": 4
}
