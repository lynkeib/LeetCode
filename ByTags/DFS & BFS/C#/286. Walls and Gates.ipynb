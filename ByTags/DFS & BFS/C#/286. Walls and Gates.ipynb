{
 "cells": [
  {
   "cell_type": "code",
   "execution_count": 1,
   "metadata": {
    "ExecuteTime": {
     "end_time": "2020-05-02T05:27:50.7098670Z",
     "start_time": "2020-05-02T05:27:49.524Z"
    }
   },
   "outputs": [],
   "source": [
    "public class Solution {\n",
    "    \n",
    "    int rows;\n",
    "    int cols;\n",
    "    \n",
    "    public void WallsAndGates(int[][] rooms) {\n",
    "        if(rooms.Length == 0){\n",
    "            return;\n",
    "        }\n",
    "        rows = rooms.Length;\n",
    "        cols = rooms[0].Length;\n",
    "        for(int row = 0; row < rows; row++){\n",
    "            for(int col = 0; col < cols; col++){\n",
    "                if(rooms[row][col] == 0){\n",
    "                    var queue = new Queue<string>();\n",
    "                    queue.Enqueue($\"{row}, {col}\");\n",
    "                    bfs(rooms, queue, 0, new HashSet<string>());\n",
    "                }\n",
    "            }\n",
    "        }\n",
    "    }\n",
    "    \n",
    "    public void bfs(int[][] rooms, Queue<string> queue, int count, HashSet<string> visited){\n",
    "        var next_queue = new Queue<string>();\n",
    "        while(queue.Count != 0){\n",
    "            var room = queue.Dequeue().Split(\",\");\n",
    "            var row = Int32.Parse(room[0]);\n",
    "            var col = Int32.Parse(room[1]);\n",
    "            rooms[row][col] = Math.Min(rooms[row][col], count);\n",
    "            visited.Add($\"{row}, {col}\");\n",
    "            // up;\n",
    "            if(row - 1 >= 0 && rooms[row - 1][col] != -1 && rooms[row - 1][col] != 0 && !visited.Contains($\"{row - 1}, {col}\")){\n",
    "                next_queue.Enqueue($\"{row - 1}, {col}\");\n",
    "            }\n",
    "            // down;\n",
    "            if(row + 1 < rows && rooms[row + 1][col] != -1 && rooms[row + 1][col] != 0 && !visited.Contains($\"{row + 1}, {col}\")){\n",
    "                next_queue.Enqueue($\"{row + 1}, {col}\");\n",
    "            }\n",
    "            // left;\n",
    "            if(col - 1 >= 0 && rooms[row][col - 1] != -1 && rooms[row][col - 1] != 0 && !visited.Contains($\"{row}, {col - 1}\")){\n",
    "                next_queue.Enqueue($\"{row}, {col - 1}\");\n",
    "            }\n",
    "            // right;\n",
    "            if(col + 1 < cols && rooms[row][col + 1] != -1 && rooms[row][col + 1] != 0 && !visited.Contains($\"{row}, {col + 1}\")){\n",
    "                next_queue.Enqueue($\"{row}, {col + 1}\");\n",
    "            }\n",
    "        }\n",
    "        if(next_queue.Count != 0){\n",
    "            bfs(rooms, next_queue, count + 1, visited);\n",
    "        }\n",
    "        return;\n",
    "    }\n",
    "}"
   ]
  },
  {
   "cell_type": "code",
   "execution_count": 2,
   "metadata": {
    "ExecuteTime": {
     "end_time": "2020-05-02T05:46:12.9259310Z",
     "start_time": "2020-05-02T05:46:12.780Z"
    }
   },
   "outputs": [],
   "source": [
    "public class Solution {\n",
    "    public void WallsAndGates(int[][] rooms) {\n",
    "        if(rooms.Length == 0){\n",
    "            return;\n",
    "        }\n",
    "        \n",
    "        var rows = rooms.Length;\n",
    "        var cols = rooms[0].Length;\n",
    "        \n",
    "        Queue<(int row, int col)> queue = new Queue<(int, int)>();\n",
    "        \n",
    "        for(int row = 0; row < rows; row++){\n",
    "            for(int col = 0; col < cols; col++){\n",
    "                if(rooms[row][col] == 0){\n",
    "                    queue.Enqueue((row, col));\n",
    "                }\n",
    "            }\n",
    "        }\n",
    "        \n",
    "        var dir = new int[][]{new int[]{0, 1}, new int[]{0, -1}, new int[]{1, 0}, new int[]{-1, 0}};\n",
    "        \n",
    "        while(queue.Count != 0){\n",
    "            var room = queue.Dequeue();\n",
    "            foreach(var d in dir){\n",
    "                var nrow = room.row + d[0];\n",
    "                var ncol = room.col + d[1];\n",
    "                if(nrow >= 0 && nrow < rows && ncol >= 0 && ncol < cols && rooms[nrow][ncol] == int.MaxValue){\n",
    "                    rooms[nrow][ncol] = rooms[room.row][room.col] + 1;\n",
    "                    queue.Enqueue((nrow, ncol));\n",
    "                }\n",
    "            }\n",
    "        }\n",
    "        return;\n",
    "    }\n",
    "}"
   ]
  },
  {
   "cell_type": "code",
   "execution_count": null,
   "metadata": {},
   "outputs": [],
   "source": []
  }
 ],
 "metadata": {
  "kernelspec": {
   "display_name": ".NET (C#)",
   "language": "C#",
   "name": ".net-csharp"
  },
  "language_info": {
   "file_extension": ".cs",
   "mimetype": "text/x-csharp",
   "name": "C#",
   "pygments_lexer": "csharp",
   "version": "8.0"
  },
  "toc": {
   "base_numbering": 1,
   "nav_menu": {},
   "number_sections": true,
   "sideBar": true,
   "skip_h1_title": false,
   "title_cell": "Table of Contents",
   "title_sidebar": "Contents",
   "toc_cell": false,
   "toc_position": {},
   "toc_section_display": true,
   "toc_window_display": false
  }
 },
 "nbformat": 4,
 "nbformat_minor": 4
}
