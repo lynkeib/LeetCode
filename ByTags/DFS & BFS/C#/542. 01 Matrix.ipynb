{
 "cells": [
  {
   "cell_type": "markdown",
   "metadata": {},
   "source": [
    "# BFS from 1s (TLE)"
   ]
  },
  {
   "cell_type": "code",
   "execution_count": 1,
   "metadata": {
    "ExecuteTime": {
     "end_time": "2020-05-15T21:36:31.7569440Z",
     "start_time": "2020-05-15T21:36:30.514Z"
    }
   },
   "outputs": [],
   "source": [
    "public class Solution {\n",
    "    \n",
    "    int[][] dirs = new int[][]{new int[]{1, 0}, new int[]{-1, 0}, new int[]{0, 1}, new int[]{0, -1}};\n",
    "    int rows;\n",
    "    int cols;\n",
    "    \n",
    "    public int[][] UpdateMatrix(int[][] matrix) {\n",
    "        rows = matrix.Length;\n",
    "        if(rows == 0){\n",
    "            return matrix;\n",
    "        }\n",
    "        cols = matrix[0].Length;\n",
    "        for(int row = 0; row < rows; row++){\n",
    "            for(int col = 0; col < cols; col++){\n",
    "                if(matrix[row][col] == 1){\n",
    "                    var dist = bfs(matrix, row, col);\n",
    "                    matrix[row][col] = dist;\n",
    "                    // Console.WriteLine(dist);\n",
    "                }\n",
    "            }\n",
    "        }\n",
    "        return matrix;\n",
    "    }\n",
    "    \n",
    "    public int bfs(int[][] matrix, int thisrow, int thiscol){\n",
    "        var queue = new Queue<(int, int)>();\n",
    "        queue.Enqueue((thisrow, thiscol));\n",
    "        // int[][] new_matrix = (int[][])matrix.Clone();\n",
    "        var new_matrix = new int[rows][];\n",
    "        for(int r = 0; r < rows; r++){\n",
    "            new_matrix[r] = new int[cols];\n",
    "            matrix[r].CopyTo(new_matrix[r], 0);\n",
    "        }\n",
    "        // foreach(var r in new_matrix){\n",
    "        //     foreach(var c in r){\n",
    "        //         Console.Write($\"{c} \");\n",
    "        //     }\n",
    "        //     Console.WriteLine();\n",
    "        // }\n",
    "        var count = 1;\n",
    "        while(queue.Count != 0){\n",
    "            var next_queue = new Queue<(int, int)>();\n",
    "            while(queue.Count != 0){\n",
    "                var node = queue.Dequeue();\n",
    "                var row = node.Item1;\n",
    "                var col = node.Item2;\n",
    "                new_matrix[row][col] = -1;\n",
    "                foreach(var dir in dirs){\n",
    "                    var r = row + dir[0];\n",
    "                    var c = col + dir[1];\n",
    "                    if(r > -1 && r < rows && c > -1 && c < cols && new_matrix[r][c] != -1){\n",
    "                        if(new_matrix[r][c] == 0){\n",
    "                            return count;\n",
    "                        }\n",
    "                        next_queue.Enqueue((r, c));\n",
    "                    }\n",
    "                }\n",
    "            }\n",
    "            count++;\n",
    "            queue = next_queue;\n",
    "        }\n",
    "        return count;\n",
    "    }\n",
    "}"
   ]
  },
  {
   "cell_type": "markdown",
   "metadata": {},
   "source": [
    "# BFS from 0s"
   ]
  },
  {
   "cell_type": "code",
   "execution_count": 2,
   "metadata": {
    "ExecuteTime": {
     "end_time": "2020-05-15T21:45:57.5844900Z",
     "start_time": "2020-05-15T21:45:57.520Z"
    }
   },
   "outputs": [],
   "source": [
    "public class Solution {\n",
    "    public int[][] UpdateMatrix(int[][] matrix) {\n",
    "        var rows = matrix.Length;\n",
    "        if(rows == 0){\n",
    "            return matrix;\n",
    "        }\n",
    "        var cols = matrix[0].Length;\n",
    "        var queue = new Queue<(int row, int col)>();\n",
    "        var res = new int[rows][];\n",
    "        for(int i = 0; i < rows; i++){\n",
    "            res[i] = new int[cols];\n",
    "            for(int j = 0; j < cols; j++){\n",
    "                res[i][j] = int.MaxValue;\n",
    "                if(matrix[i][j] == 0){\n",
    "                    res[i][j] = 0;\n",
    "                    queue.Enqueue((i, j));\n",
    "                }\n",
    "            }\n",
    "        }\n",
    "        \n",
    "        int[][] dirs = {new int[]{1, 0}, new int[]{-1, 0}, new int[]{0, 1}, new int[]{0, -1}};\n",
    "        \n",
    "        while(queue.Count != 0){\n",
    "            var node = queue.Dequeue();\n",
    "            var r = node.row;\n",
    "            var c = node.col;\n",
    "            foreach(var dir in dirs){\n",
    "                var nr = r + dir[0];\n",
    "                var nc = c + dir[1];\n",
    "                if(nr > -1 && nr < rows && nc > -1 && nc < cols){\n",
    "                    if(res[nr][nc] > res[r][c] + 1){\n",
    "                        res[nr][nc] = res[r][c] + 1;\n",
    "                        queue.Enqueue((nr, nc));\n",
    "                    }\n",
    "                }\n",
    "            }\n",
    "        }\n",
    "        return res;\n",
    "    }\n",
    "}"
   ]
  },
  {
   "cell_type": "markdown",
   "metadata": {},
   "source": [
    "# DP"
   ]
  },
  {
   "cell_type": "code",
   "execution_count": 3,
   "metadata": {
    "ExecuteTime": {
     "end_time": "2020-05-15T22:08:06.8741770Z",
     "start_time": "2020-05-15T22:08:06.811Z"
    }
   },
   "outputs": [],
   "source": [
    "public class Solution {\n",
    "    public int[][] UpdateMatrix(int[][] matrix) {\n",
    "        var rows = matrix.Length;\n",
    "        if(rows == 0){\n",
    "            return matrix;\n",
    "        }\n",
    "        var cols = matrix[0].Length;\n",
    "        var res = new int[rows][];\n",
    "        for(int i = 0; i < rows; i++){\n",
    "            res[i] = new int[cols];\n",
    "            for(int j = 0; j < cols; j++){\n",
    "                res[i][j] = int.MaxValue - 10000;\n",
    "            }\n",
    "        }\n",
    "        \n",
    "        // upper left\n",
    "        for(int row = 0; row < rows; row++){\n",
    "            for(int col = 0; col < cols; col++){\n",
    "                if(matrix[row][col] == 0){\n",
    "                    res[row][col] = 0;\n",
    "                }else{\n",
    "                    if(row > 0){\n",
    "                        res[row][col] = Math.Min(res[row][col], res[row - 1][col] + 1);\n",
    "                    }\n",
    "                    if(col > 0){\n",
    "                        res[row][col] = Math.Min(res[row][col], res[row][col - 1] + 1);\n",
    "                    }\n",
    "                }\n",
    "            }\n",
    "        }\n",
    "        \n",
    "        // bottom right\n",
    "        for(int row = rows - 1; row > -1; row--){\n",
    "            for(int col = cols - 1; col > -1; col--){\n",
    "                if(matrix[row][col] == 0){\n",
    "                    res[row][col] = 0;\n",
    "                }else{\n",
    "                    if(row < rows - 1){\n",
    "                        res[row][col] = Math.Min(res[row][col], res[row + 1][col] + 1);\n",
    "                    }\n",
    "                    if(col < cols - 1){\n",
    "                        res[row][col] = Math.Min(res[row][col], res[row][col + 1] + 1);\n",
    "                    }\n",
    "                }  \n",
    "            }\n",
    "        }\n",
    "        return res;\n",
    "    }\n",
    "}"
   ]
  },
  {
   "cell_type": "code",
   "execution_count": null,
   "metadata": {},
   "outputs": [],
   "source": []
  }
 ],
 "metadata": {
  "kernelspec": {
   "display_name": ".NET (C#)",
   "language": "C#",
   "name": ".net-csharp"
  },
  "language_info": {
   "file_extension": ".cs",
   "mimetype": "text/x-csharp",
   "name": "C#",
   "pygments_lexer": "csharp",
   "version": "8.0"
  },
  "toc": {
   "base_numbering": 1,
   "nav_menu": {},
   "number_sections": true,
   "sideBar": true,
   "skip_h1_title": false,
   "title_cell": "Table of Contents",
   "title_sidebar": "Contents",
   "toc_cell": false,
   "toc_position": {},
   "toc_section_display": true,
   "toc_window_display": false
  }
 },
 "nbformat": 4,
 "nbformat_minor": 4
}
