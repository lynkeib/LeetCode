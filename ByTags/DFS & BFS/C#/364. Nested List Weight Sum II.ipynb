{
 "cells": [
  {
   "cell_type": "code",
   "execution_count": 1,
   "metadata": {
    "ExecuteTime": {
     "end_time": "2020-05-10T22:04:23.8636700Z",
     "start_time": "2020-05-10T22:04:23.131Z"
    }
   },
   "outputs": [
    {
     "ename": "Unhandled Exception",
     "evalue": "(31,38): error CS0246: The type or namespace name 'NestedInteger' could not be found (are you missing a using directive or an assembly reference?)\n(32,31): error CS0246: The type or namespace name 'NestedInteger' could not be found (are you missing a using directive or an assembly reference?)\n(39,40): error CS0246: The type or namespace name 'NestedInteger' could not be found (are you missing a using directive or an assembly reference?)",
     "output_type": "error",
     "traceback": [
      "(31,38): error CS0246: The type or namespace name 'NestedInteger' could not be found (are you missing a using directive or an assembly reference?)\n(32,31): error CS0246: The type or namespace name 'NestedInteger' could not be found (are you missing a using directive or an assembly reference?)\n(39,40): error CS0246: The type or namespace name 'NestedInteger' could not be found (are you missing a using directive or an assembly reference?)"
     ]
    }
   ],
   "source": [
    "/**\n",
    " * // This is the interface that allows for creating nested lists.\n",
    " * // You should not implement it, or speculate about its implementation\n",
    " * interface NestedInteger {\n",
    " *\n",
    " *     // Constructor initializes an empty nested list.\n",
    " *     public NestedInteger();\n",
    " *\n",
    " *     // Constructor initializes a single integer.\n",
    " *     public NestedInteger(int value);\n",
    " *\n",
    " *     // @return true if this NestedInteger holds a single integer, rather than a nested list.\n",
    " *     bool IsInteger();\n",
    " *\n",
    " *     // @return the single integer that this NestedInteger holds, if it holds a single integer\n",
    " *     // Return null if this NestedInteger holds a nested list\n",
    " *     int GetInteger();\n",
    " *\n",
    " *     // Set this NestedInteger to hold a single integer.\n",
    " *     public void SetInteger(int value);\n",
    " *\n",
    " *     // Set this NestedInteger to hold a nested list and adds a nested integer to it.\n",
    " *     public void Add(NestedInteger ni);\n",
    " *\n",
    " *     // @return the nested list that this NestedInteger holds, if it holds a nested list\n",
    " *     // Return null if this NestedInteger holds a single integer\n",
    " *     IList<NestedInteger> GetList();\n",
    " * }\n",
    " */\n",
    "public class Solution {\n",
    "    public int DepthSumInverse(IList<NestedInteger> nestedList) {\n",
    "        var queue = new Queue<NestedInteger>();\n",
    "        var cal_list = new List<ArrayList>();\n",
    "        var depth = 1;\n",
    "        foreach(var node in nestedList){\n",
    "            queue.Enqueue(node);\n",
    "        }\n",
    "        while(queue.Count != 0){\n",
    "            var next_queue = new Queue<NestedInteger>();\n",
    "            while(queue.Count != 0){\n",
    "                var node = queue.Dequeue();\n",
    "                if(node.IsInteger()){\n",
    "                    cal_list.Add(new ArrayList() {node.GetInteger(), depth});\n",
    "                }else{\n",
    "                    foreach(var n in node.GetList()){\n",
    "                        next_queue.Enqueue(n);\n",
    "                    }\n",
    "                }\n",
    "            }\n",
    "            queue = next_queue;\n",
    "            depth++;\n",
    "        }\n",
    "        var res = 0;\n",
    "        foreach(var n in cal_list){\n",
    "            var val = (int)n[0];\n",
    "            var d = (int)n[1];\n",
    "            // Console.WriteLine($\"{val}, {d}\");\n",
    "            res += val * (depth - d);\n",
    "        }\n",
    "        \n",
    "        return res;\n",
    "    }\n",
    "}"
   ]
  },
  {
   "cell_type": "code",
   "execution_count": 2,
   "metadata": {
    "ExecuteTime": {
     "end_time": "2020-05-10T22:30:40.8526640Z",
     "start_time": "2020-05-10T22:30:40.701Z"
    }
   },
   "outputs": [
    {
     "ename": "Unhandled Exception",
     "evalue": "(31,38): error CS0246: The type or namespace name 'NestedInteger' could not be found (are you missing a using directive or an assembly reference?)\n(39,22): error CS0246: The type or namespace name 'NestedInteger' could not be found (are you missing a using directive or an assembly reference?)\n(50,26): error CS0246: The type or namespace name 'NestedInteger' could not be found (are you missing a using directive or an assembly reference?)",
     "output_type": "error",
     "traceback": [
      "(31,38): error CS0246: The type or namespace name 'NestedInteger' could not be found (are you missing a using directive or an assembly reference?)\n(39,22): error CS0246: The type or namespace name 'NestedInteger' could not be found (are you missing a using directive or an assembly reference?)\n(50,26): error CS0246: The type or namespace name 'NestedInteger' could not be found (are you missing a using directive or an assembly reference?)"
     ]
    }
   ],
   "source": [
    "/**\n",
    " * // This is the interface that allows for creating nested lists.\n",
    " * // You should not implement it, or speculate about its implementation\n",
    " * interface NestedInteger {\n",
    " *\n",
    " *     // Constructor initializes an empty nested list.\n",
    " *     public NestedInteger();\n",
    " *\n",
    " *     // Constructor initializes a single integer.\n",
    " *     public NestedInteger(int value);\n",
    " *\n",
    " *     // @return true if this NestedInteger holds a single integer, rather than a nested list.\n",
    " *     bool IsInteger();\n",
    " *\n",
    " *     // @return the single integer that this NestedInteger holds, if it holds a single integer\n",
    " *     // Return null if this NestedInteger holds a nested list\n",
    " *     int GetInteger();\n",
    " *\n",
    " *     // Set this NestedInteger to hold a single integer.\n",
    " *     public void SetInteger(int value);\n",
    " *\n",
    " *     // Set this NestedInteger to hold a nested list and adds a nested integer to it.\n",
    " *     public void Add(NestedInteger ni);\n",
    " *\n",
    " *     // @return the nested list that this NestedInteger holds, if it holds a nested list\n",
    " *     // Return null if this NestedInteger holds a single integer\n",
    " *     IList<NestedInteger> GetList();\n",
    " * }\n",
    " */\n",
    "public class Solution {\n",
    "    public int DepthSumInverse(IList<NestedInteger> nestedList) {\n",
    "        var d = 1;\n",
    "        foreach(var n in nestedList){\n",
    "            d = Math.Max(d, depth(n));\n",
    "        }\n",
    "        return cal(nestedList, d);\n",
    "    }\n",
    "    \n",
    "    public int depth(NestedInteger node){\n",
    "        if(node.IsInteger()){\n",
    "            return 1;\n",
    "        }\n",
    "        var res = 1;\n",
    "        foreach(var n in node.GetList()){\n",
    "            res = Math.Max(depth(n), res);\n",
    "        }\n",
    "        return res + 1;\n",
    "    }\n",
    "    \n",
    "    public int cal(IList<NestedInteger> node, int d){\n",
    "        var res = 0;\n",
    "        foreach(var n in node){\n",
    "            if(n.IsInteger()){\n",
    "                res += n.GetInteger() * d;\n",
    "            }else{\n",
    "                res += cal(n.GetList(), d - 1);\n",
    "            }\n",
    "        }\n",
    "        return res;\n",
    "    }\n",
    "}"
   ]
  },
  {
   "cell_type": "code",
   "execution_count": null,
   "metadata": {},
   "outputs": [],
   "source": []
  }
 ],
 "metadata": {
  "kernelspec": {
   "display_name": ".NET (C#)",
   "language": "C#",
   "name": ".net-csharp"
  },
  "language_info": {
   "file_extension": ".cs",
   "mimetype": "text/x-csharp",
   "name": "C#",
   "pygments_lexer": "csharp",
   "version": "8.0"
  },
  "toc": {
   "base_numbering": 1,
   "nav_menu": {},
   "number_sections": true,
   "sideBar": true,
   "skip_h1_title": false,
   "title_cell": "Table of Contents",
   "title_sidebar": "Contents",
   "toc_cell": false,
   "toc_position": {},
   "toc_section_display": true,
   "toc_window_display": false
  }
 },
 "nbformat": 4,
 "nbformat_minor": 4
}
