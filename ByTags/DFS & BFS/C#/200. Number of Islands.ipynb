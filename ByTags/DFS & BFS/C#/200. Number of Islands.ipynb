{
 "cells": [
  {
   "cell_type": "markdown",
   "metadata": {},
   "source": [
    "# DFS"
   ]
  },
  {
   "cell_type": "code",
   "execution_count": 1,
   "metadata": {
    "ExecuteTime": {
     "end_time": "2020-04-18T04:48:24.0910120Z",
     "start_time": "2020-04-18T04:48:22.568Z"
    }
   },
   "outputs": [],
   "source": [
    "public class Solution {\n",
    "\n",
    "    int res = 0;\n",
    "\n",
    "    public int NumIslands(char[][] grid) {\n",
    "\n",
    "        for (int row = 0; row < grid.Length; row++)\n",
    "        {\n",
    "            for (int col = 0; col < grid[0].Length; col++)\n",
    "            {\n",
    "                if(grid[row][col] == '1'){\n",
    "                    res++;\n",
    "                    // Console.WriteLine($\"{row},{col}\");\n",
    "                    dfs(row, col, grid);\n",
    "                }\n",
    "            }\n",
    "        }\n",
    "        return res;\n",
    "    }\n",
    "\n",
    "    public void dfs(int row, int col, char[][] grid){\n",
    "        if(row < 0 || row >= grid.Length || col < 0 || col >= grid[0].Length){\n",
    "            return;\n",
    "        }\n",
    "        if(grid[row][col] == '1'){\n",
    "            grid[row][col] = '0';\n",
    "            dfs(row - 1, col, grid);\n",
    "            dfs(row + 1, col, grid);\n",
    "            dfs(row, col - 1, grid);\n",
    "            dfs(row, col + 1, grid);  \n",
    "        }\n",
    "        return;\n",
    "    }\n",
    "}"
   ]
  },
  {
   "cell_type": "markdown",
   "metadata": {},
   "source": [
    "# BFS"
   ]
  },
  {
   "cell_type": "code",
   "execution_count": 2,
   "metadata": {
    "ExecuteTime": {
     "end_time": "2020-04-18T04:58:24.0698800Z",
     "start_time": "2020-04-18T04:58:23.854Z"
    }
   },
   "outputs": [],
   "source": [
    "public class Solution {\n",
    "\n",
    "    int res = 0;\n",
    "\n",
    "    public int NumIslands(char[][] grid) {\n",
    "\n",
    "        for (int row = 0; row < grid.Length; row++)\n",
    "        {\n",
    "            for (int col = 0; col < grid[0].Length; col++)\n",
    "            {\n",
    "                if(grid[row][col] == '1'){\n",
    "                    res++;\n",
    "                    // Console.WriteLine($\"{row},{col}\");\n",
    "                    bfs(new List<int[]>{new int[]{row, col}}, grid);\n",
    "                }\n",
    "            }\n",
    "        }\n",
    "        return res;\n",
    "    }\n",
    "\n",
    "    public void bfs(List<int[]> queue, char[][] grid){\n",
    "        if(queue.Count == 0){\n",
    "            return;\n",
    "        }\n",
    "        var next_queue = new List<int[]>();\n",
    "        foreach (var point in queue)\n",
    "        {\n",
    "            var row = point[0];\n",
    "            var col = point[1];\n",
    "            if(grid[row][col] == '1'){\n",
    "                grid[row][col] = '0';\n",
    "                if(row - 1 > -1 && grid[row - 1][col] == '1') next_queue.Add(new int[]{row - 1, col});\n",
    "                if(row + 1 < grid.Length && grid[row + 1][col] == '1') next_queue.Add(new int[]{row + 1, col});\n",
    "                if(col - 1 > -1 && grid[row][col - 1] == '1') next_queue.Add(new int[]{row, col - 1});\n",
    "                if(col + 1 < grid[0].Length && grid[row][col + 1] == '1') next_queue.Add(new int[]{row, col + 1});\n",
    "            }\n",
    "        }\n",
    "        bfs(next_queue, grid);\n",
    "        return;\n",
    "    }\n",
    "}"
   ]
  },
  {
   "cell_type": "code",
   "execution_count": null,
   "metadata": {},
   "outputs": [],
   "source": []
  }
 ],
 "metadata": {
  "kernelspec": {
   "display_name": ".NET (C#)",
   "language": "C#",
   "name": ".net-csharp"
  },
  "language_info": {
   "file_extension": ".cs",
   "mimetype": "text/x-csharp",
   "name": "C#",
   "pygments_lexer": "csharp",
   "version": "8.0"
  },
  "toc": {
   "base_numbering": 1,
   "nav_menu": {},
   "number_sections": true,
   "sideBar": true,
   "skip_h1_title": false,
   "title_cell": "Table of Contents",
   "title_sidebar": "Contents",
   "toc_cell": false,
   "toc_position": {},
   "toc_section_display": true,
   "toc_window_display": false
  }
 },
 "nbformat": 4,
 "nbformat_minor": 4
}
