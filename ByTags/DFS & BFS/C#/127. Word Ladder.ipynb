{
 "cells": [
  {
   "cell_type": "code",
   "execution_count": 1,
   "metadata": {},
   "outputs": [],
   "source": [
    "public class Solution {\n",
    "    public int LadderLength (string beginWord, string endWord, IList<string> wordList) {\n",
    "        if (!wordList.Contains (endWord)) {\n",
    "            return 0;\n",
    "        }\n",
    "\n",
    "        HashSet<string> front = new HashSet<string> () { beginWord };\n",
    "        HashSet<string> back = new HashSet<string> () { endWord };\n",
    "        int counter = 1;\n",
    "        HashSet<string> wordlist = new HashSet<string> (wordList);\n",
    "        while ((front.Count != 0) && (wordlist.Count != 0)) {\n",
    "            if (front.Count > back.Count) {\n",
    "                HashSet<string> temp = front;\n",
    "                front = back;\n",
    "                back = temp;\n",
    "            }\n",
    "            foreach (string word in front) {\n",
    "                wordlist.Remove (word);\n",
    "            }\n",
    "            HashSet<string> next_front = new HashSet<string> ();\n",
    "            foreach (string word in front) {\n",
    "                for (int index = 0; index < word.Length; index++) {\n",
    "                    for (char i = 'a'; i <= 'z'; i++) {\n",
    "                        string newword = word.Substring (0, index) + i + word.Substring (index + 1, word.Length - index - 1);\n",
    "                        if (back.Contains (newword)) {\n",
    "                            return counter + 1;\n",
    "                        }\n",
    "                        if (wordlist.Contains (newword)) {\n",
    "                            next_front.Add (newword);\n",
    "                        }\n",
    "                    }\n",
    "                }\n",
    "            }\n",
    "            counter++;\n",
    "            front = next_front;\n",
    "        }\n",
    "        return 0;\n",
    "    }\n",
    "}"
   ]
  },
  {
   "cell_type": "code",
   "execution_count": null,
   "metadata": {},
   "outputs": [],
   "source": []
  }
 ],
 "metadata": {
  "kernelspec": {
   "display_name": ".NET (C#)",
   "language": "C#",
   "name": ".net-csharp"
  },
  "language_info": {
   "file_extension": ".cs",
   "mimetype": "text/x-csharp",
   "name": "C#",
   "pygments_lexer": "csharp",
   "version": "8.0"
  },
  "toc": {
   "base_numbering": 1,
   "nav_menu": {},
   "number_sections": true,
   "sideBar": true,
   "skip_h1_title": false,
   "title_cell": "Table of Contents",
   "title_sidebar": "Contents",
   "toc_cell": false,
   "toc_position": {},
   "toc_section_display": true,
   "toc_window_display": false
  }
 },
 "nbformat": 4,
 "nbformat_minor": 4
}
