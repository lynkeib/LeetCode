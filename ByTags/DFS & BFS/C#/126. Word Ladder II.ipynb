{
 "cells": [
  {
   "cell_type": "code",
   "execution_count": 1,
   "metadata": {
    "ExecuteTime": {
     "end_time": "2020-04-10T19:01:53.4152270Z",
     "start_time": "2020-04-10T19:01:52.309Z"
    }
   },
   "outputs": [],
   "source": [
    "public class Solution {\n",
    "    public IList<IList<string>> FindLadders (string beginWord, string endWord, IList<string> wordList) {\n",
    "        var layer = new Dictionary<string, List<List<string>>> ();\n",
    "        var res = new List<IList<string>> ();\n",
    "        layer[beginWord] = new List<List<string>>();\n",
    "        layer[beginWord].Add(new List<string>{beginWord});\n",
    "        var words = new HashSet<string> (wordList);\n",
    "        if (!words.Contains (endWord)) {\n",
    "            return res;\n",
    "        }\n",
    "\n",
    "        while (layer.Count != 0) {\n",
    "            var new_layer = new Dictionary<string, List<List<string>>> ();\n",
    "            foreach (var lastword in layer.Keys) {\n",
    "\n",
    "                if (lastword == endWord) {\n",
    "                    foreach (var path in layer[lastword]) {\n",
    "                        res.Add (path);\n",
    "                    }\n",
    "                } else {\n",
    "                    for (int i = 0; i < lastword.Length; i++) {\n",
    "                        for (int l = 0; l < 26; l++) {\n",
    "                            var new_word = lastword.Substring (0, i) + (char) (l + 'a') + lastword.Substring (i + 1, lastword.Length - i - 1);\n",
    "                            if (words.Contains (new_word)) {\n",
    "                                if (!new_layer.ContainsKey (new_word)) {\n",
    "                                    new_layer[new_word] = new List<List<string>> ();\n",
    "                                }\n",
    "                                foreach (var path in layer[lastword]) {\n",
    "                                    var new_path = new List<string> (path);\n",
    "                                    new_path.Add (new_word);\n",
    "                                    new_layer[new_word].Add (new_path);\n",
    "                                }\n",
    "                            }\n",
    "                        }\n",
    "                    }\n",
    "                }\n",
    "            }\n",
    "            words.ExceptWith (new_layer.Keys);\n",
    "            layer = new_layer;\n",
    "        }\n",
    "        return res;\n",
    "    }\n",
    "}"
   ]
  },
  {
   "cell_type": "code",
   "execution_count": null,
   "metadata": {},
   "outputs": [],
   "source": []
  }
 ],
 "metadata": {
  "kernelspec": {
   "display_name": ".NET (C#)",
   "language": "C#",
   "name": ".net-csharp"
  },
  "language_info": {
   "file_extension": ".cs",
   "mimetype": "text/x-csharp",
   "name": "C#",
   "pygments_lexer": "csharp",
   "version": "8.0"
  },
  "toc": {
   "base_numbering": 1,
   "nav_menu": {},
   "number_sections": true,
   "sideBar": true,
   "skip_h1_title": false,
   "title_cell": "Table of Contents",
   "title_sidebar": "Contents",
   "toc_cell": false,
   "toc_position": {},
   "toc_section_display": true,
   "toc_window_display": false
  }
 },
 "nbformat": 4,
 "nbformat_minor": 4
}
