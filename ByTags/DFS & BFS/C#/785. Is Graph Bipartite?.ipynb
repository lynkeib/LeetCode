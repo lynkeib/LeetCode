{
 "cells": [
  {
   "cell_type": "code",
   "execution_count": 1,
   "metadata": {
    "ExecuteTime": {
     "end_time": "2020-05-15T19:01:14.9924230Z",
     "start_time": "2020-05-15T19:01:13.696Z"
    }
   },
   "outputs": [],
   "source": [
    "public class Solution {\n",
    "    public bool IsBipartite(int[][] graph) {\n",
    "        var N = graph.Length;\n",
    "        var colors = new int[N];\n",
    "        for(int i = 0; i < N; i++) colors[i] = -1;\n",
    "        for(int node = 0; node < N; node++){\n",
    "            if(colors[node] == -1){\n",
    "                var queue = new Queue<int>();\n",
    "                colors[node] = 0;\n",
    "                queue.Enqueue(node);\n",
    "                while(queue.Count != 0){\n",
    "                    var n = queue.Dequeue();\n",
    "                    foreach(var nei in graph[n]){\n",
    "                        if(colors[nei] == -1){\n",
    "                            colors[nei] = colors[n] ^ 1;\n",
    "                            queue.Enqueue(nei);\n",
    "                        }else{\n",
    "                            if(colors[nei] == colors[n]){\n",
    "                                return false;\n",
    "                            }\n",
    "                        }\n",
    "                    }\n",
    "                }\n",
    "            }\n",
    "        }\n",
    "        return true;\n",
    "    }\n",
    "}"
   ]
  },
  {
   "cell_type": "code",
   "execution_count": null,
   "metadata": {},
   "outputs": [],
   "source": []
  }
 ],
 "metadata": {
  "kernelspec": {
   "display_name": ".NET (C#)",
   "language": "C#",
   "name": ".net-csharp"
  },
  "language_info": {
   "file_extension": ".cs",
   "mimetype": "text/x-csharp",
   "name": "C#",
   "pygments_lexer": "csharp",
   "version": "8.0"
  },
  "toc": {
   "base_numbering": 1,
   "nav_menu": {},
   "number_sections": true,
   "sideBar": true,
   "skip_h1_title": false,
   "title_cell": "Table of Contents",
   "title_sidebar": "Contents",
   "toc_cell": false,
   "toc_position": {},
   "toc_section_display": true,
   "toc_window_display": false
  }
 },
 "nbformat": 4,
 "nbformat_minor": 4
}
