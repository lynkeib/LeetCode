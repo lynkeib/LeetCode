{
 "cells": [
  {
   "cell_type": "code",
   "execution_count": 1,
   "metadata": {
    "ExecuteTime": {
     "end_time": "2020-05-15T20:58:42.3608320Z",
     "start_time": "2020-05-15T20:58:41.170Z"
    }
   },
   "outputs": [],
   "source": [
    "public class Solution {\n",
    "    public int OrangesRotting(int[][] grid) {\n",
    "        var queue = new Queue<(int, int)>();\n",
    "        var dirs = new int[][] {new int[]{1,0}, new int[]{-1,0}, new int[]{0,1}, new int[]{0,-1}};\n",
    "        var rows = grid.Length;\n",
    "        var cols = grid[0].Length;\n",
    "        var fresh = 0;\n",
    "        for(int row = 0; row < rows; row++){\n",
    "            for(int col = 0; col < cols; col++){\n",
    "                if(grid[row][col] == 2){\n",
    "                    queue.Enqueue((row, col));\n",
    "                }else if(grid[row][col] == 1){\n",
    "                    fresh++;\n",
    "                }\n",
    "            }\n",
    "        }\n",
    "        if(fresh == 0){\n",
    "            return 0;\n",
    "        }\n",
    "        var count = 0;\n",
    "        while(queue.Count != 0){\n",
    "            var next_queue = new Queue<(int, int)>();\n",
    "            while(queue.Count != 0){\n",
    "                var node = queue.Dequeue();\n",
    "                var row = node.Item1;\n",
    "                var col = node.Item2;\n",
    "                foreach(var dir in dirs){\n",
    "                    var r = row + dir[0];\n",
    "                    var c = col + dir[1];\n",
    "                    if(r > -1 && r < rows && c > -1 && c < cols && grid[r][c] == 1){\n",
    "                        grid[r][c] = 2;\n",
    "                        next_queue.Enqueue((r, c));\n",
    "                        fresh--;\n",
    "                    }\n",
    "                }\n",
    "            }\n",
    "            count++;\n",
    "            queue = next_queue;\n",
    "        }\n",
    "        return fresh == 0 ? count - 1 : -1;\n",
    "    }\n",
    "}"
   ]
  },
  {
   "cell_type": "code",
   "execution_count": null,
   "metadata": {},
   "outputs": [],
   "source": []
  }
 ],
 "metadata": {
  "kernelspec": {
   "display_name": ".NET (C#)",
   "language": "C#",
   "name": ".net-csharp"
  },
  "language_info": {
   "file_extension": ".cs",
   "mimetype": "text/x-csharp",
   "name": "C#",
   "pygments_lexer": "csharp",
   "version": "8.0"
  },
  "toc": {
   "base_numbering": 1,
   "nav_menu": {},
   "number_sections": true,
   "sideBar": true,
   "skip_h1_title": false,
   "title_cell": "Table of Contents",
   "title_sidebar": "Contents",
   "toc_cell": false,
   "toc_position": {},
   "toc_section_display": true,
   "toc_window_display": false
  }
 },
 "nbformat": 4,
 "nbformat_minor": 4
}
