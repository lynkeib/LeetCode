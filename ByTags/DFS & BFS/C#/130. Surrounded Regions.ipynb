{
 "cells": [
  {
   "cell_type": "code",
   "execution_count": 1,
   "metadata": {
    "ExecuteTime": {
     "end_time": "2020-04-11T06:30:46.1020770Z",
     "start_time": "2020-04-11T06:30:45.001Z"
    }
   },
   "outputs": [],
   "source": [
    "public class Solution {\n",
    "    public void Solve (char[][] board) {\n",
    "        if(board.Length == 0){\n",
    "            return;\n",
    "        }\n",
    "        int m = board.Length, n = board[0].Length;\n",
    "        var map = new int[m][];\n",
    "        for (int i = 0; i < board.Length; i++) {\n",
    "            map[i] = new int[n];\n",
    "        }\n",
    "\n",
    "        for (int i = 0; i < m; i++) {\n",
    "            if(board[i][0] == 'O'){\n",
    "                dfs(board, map, i, 0);\n",
    "            }\n",
    "            if(board[i][n - 1] == 'O'){\n",
    "                dfs(board, map, i, n - 1);\n",
    "            }\n",
    "        }\n",
    "\n",
    "        for (int i = 0; i < n; i++) {\n",
    "            if(board[0][i] == 'O'){\n",
    "                dfs(board, map, 0, i);\n",
    "            }\n",
    "            if(board[m - 1][i] == 'O'){\n",
    "                dfs(board, map, m - 1, i);\n",
    "            }\n",
    "        }\n",
    "\n",
    "        for (int i = 0; i < m; i++) {\n",
    "            for (int j = 0; j < n; j++) {\n",
    "                if (map[i][j] == 0) {\n",
    "                    board[i][j] = 'X';\n",
    "                }\n",
    "            }\n",
    "        }\n",
    "        return;\n",
    "    }\n",
    "\n",
    "    public void dfs (char[][] board, int[][] map, int row, int col) {\n",
    "        map[row][col] = 1;\n",
    "        // up\n",
    "        if(row - 1 > -1 && board[row - 1][col] == 'O' && map[row - 1][col] == 0){\n",
    "            dfs(board, map, row - 1, col);\n",
    "        }\n",
    "        // down\n",
    "        if(row + 1 < board.Length && board[row + 1][col] == 'O' && map[row + 1][col] == 0){\n",
    "            dfs(board, map, row + 1, col);\n",
    "        }\n",
    "        // left\n",
    "        if(col - 1 > -1 && board[row][col - 1] == 'O' && map[row][col - 1] == 0){\n",
    "            dfs(board, map, row, col - 1);\n",
    "        }\n",
    "        // right\n",
    "        if(col + 1 < board[0].Length && board[row][col + 1] == 'O' && map[row][col + 1] == 0){\n",
    "            dfs(board, map, row, col + 1);\n",
    "        }\n",
    "        return;\n",
    "    }\n",
    "}"
   ]
  },
  {
   "cell_type": "code",
   "execution_count": null,
   "metadata": {},
   "outputs": [],
   "source": []
  }
 ],
 "metadata": {
  "kernelspec": {
   "display_name": ".NET (C#)",
   "language": "C#",
   "name": ".net-csharp"
  },
  "language_info": {
   "file_extension": ".cs",
   "mimetype": "text/x-csharp",
   "name": "C#",
   "pygments_lexer": "csharp",
   "version": "8.0"
  },
  "toc": {
   "base_numbering": 1,
   "nav_menu": {},
   "number_sections": true,
   "sideBar": true,
   "skip_h1_title": false,
   "title_cell": "Table of Contents",
   "title_sidebar": "Contents",
   "toc_cell": false,
   "toc_position": {},
   "toc_section_display": true,
   "toc_window_display": false
  }
 },
 "nbformat": 4,
 "nbformat_minor": 4
}
