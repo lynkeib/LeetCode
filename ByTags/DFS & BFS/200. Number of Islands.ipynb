{
 "cells": [
  {
   "cell_type": "code",
   "execution_count": 1,
   "metadata": {
    "ExecuteTime": {
     "end_time": "2019-11-28T06:04:52.457754Z",
     "start_time": "2019-11-28T06:04:52.446942Z"
    }
   },
   "outputs": [],
   "source": [
    "class Solution(object):\n",
    "    def numIslands(self, grid):\n",
    "        \"\"\"\n",
    "        :type grid: List[List[str]]\n",
    "        :rtype: int\n",
    "        \"\"\"\n",
    "        if not grid or not grid[0]:\n",
    "            return 0\n",
    "        counter = 0\n",
    "        for row in range(len(grid)):\n",
    "            for column in range(len(grid[0])):\n",
    "                if grid[row][column] == '1':\n",
    "                    counter += 1\n",
    "                    self.dfs(grid, row, column)\n",
    "        return counter\n",
    "    \n",
    "    def dfs(self, grid, row, column):\n",
    "        # this\n",
    "        grid[row][column] = '#'\n",
    "        \n",
    "        # up:\n",
    "        if row - 1 >= 0 and grid[row-1][column] == '1':\n",
    "            self.dfs(grid, row - 1, column)\n",
    "        \n",
    "        # down:\n",
    "        if row + 1 < len(grid) and grid[row+1][column] == '1':\n",
    "            self.dfs(grid, row + 1, column)\n",
    "        \n",
    "        # left:\n",
    "        if column - 1 >= 0 and grid[row][column-1] == '1':\n",
    "            self.dfs(grid, row, column - 1)\n",
    "        \n",
    "        # right:\n",
    "        if column + 1 < len(grid[0]) and grid[row][column+1] == '1':\n",
    "            self.dfs(grid, row, column + 1)\n",
    "        \n",
    "        return"
   ]
  },
  {
   "cell_type": "code",
   "execution_count": null,
   "metadata": {},
   "outputs": [],
   "source": []
  }
 ],
 "metadata": {
  "kernelspec": {
   "display_name": "Python 3",
   "language": "python",
   "name": "python3"
  },
  "language_info": {
   "codemirror_mode": {
    "name": "ipython",
    "version": 3
   },
   "file_extension": ".py",
   "mimetype": "text/x-python",
   "name": "python",
   "nbconvert_exporter": "python",
   "pygments_lexer": "ipython3",
   "version": "3.7.1"
  },
  "toc": {
   "base_numbering": 1,
   "nav_menu": {},
   "number_sections": true,
   "sideBar": true,
   "skip_h1_title": false,
   "title_cell": "Table of Contents",
   "title_sidebar": "Contents",
   "toc_cell": false,
   "toc_position": {},
   "toc_section_display": true,
   "toc_window_display": false
  }
 },
 "nbformat": 4,
 "nbformat_minor": 2
}
