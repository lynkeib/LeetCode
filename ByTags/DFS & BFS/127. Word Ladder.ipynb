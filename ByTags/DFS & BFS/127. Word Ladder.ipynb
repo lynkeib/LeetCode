{
 "cells": [
  {
   "cell_type": "code",
   "execution_count": 1,
   "metadata": {
    "ExecuteTime": {
     "end_time": "2019-12-02T06:20:30.300105Z",
     "start_time": "2019-12-02T06:20:30.291360Z"
    }
   },
   "outputs": [],
   "source": [
    "class Solution(object):\n",
    "    \n",
    "    all_letters = [chr(i) for i in range(97, 123)]\n",
    "    \n",
    "    def ladderLength(self, beginWord, endWord, wordList):\n",
    "        \"\"\"\n",
    "        :type beginWord: str\n",
    "        :type endWord: str\n",
    "        :type wordList: List[str]\n",
    "        :rtype: int\n",
    "        \"\"\"\n",
    "        l1, l2 = set([beginWord]), set([endWord])\n",
    "        wordList = set(wordList)\n",
    "        if endWord not in wordList:\n",
    "            return 0\n",
    "        wordList = wordList - set(l2)\n",
    "        visited = set()\n",
    "        counter = 1\n",
    "        while l1 and l2:\n",
    "            if len(l1) > len(l2):\n",
    "                l1, l2 = l2, l1\n",
    "            next_l1 = set()\n",
    "            for word in l1:\n",
    "                for index in range(len(word)):\n",
    "                    for ch in self.all_letters:\n",
    "                        if ch != word[index]:\n",
    "                            new = word[:index] + ch + word[index+1:]\n",
    "                            if new in l2:\n",
    "                                return counter + 1\n",
    "                            if new not in visited and new in wordList:\n",
    "                                next_l1.add(new)\n",
    "            counter += 1\n",
    "            visited = visited & next_l1\n",
    "            l1 = next_l1\n",
    "        return 0"
   ]
  },
  {
   "cell_type": "code",
   "execution_count": null,
   "metadata": {},
   "outputs": [],
   "source": []
  }
 ],
 "metadata": {
  "kernelspec": {
   "display_name": "Python 3",
   "language": "python",
   "name": "python3"
  },
  "language_info": {
   "codemirror_mode": {
    "name": "ipython",
    "version": 3
   },
   "file_extension": ".py",
   "mimetype": "text/x-python",
   "name": "python",
   "nbconvert_exporter": "python",
   "pygments_lexer": "ipython3",
   "version": "3.6.9"
  },
  "toc": {
   "base_numbering": 1,
   "nav_menu": {},
   "number_sections": true,
   "sideBar": true,
   "skip_h1_title": false,
   "title_cell": "Table of Contents",
   "title_sidebar": "Contents",
   "toc_cell": false,
   "toc_position": {},
   "toc_section_display": true,
   "toc_window_display": false
  }
 },
 "nbformat": 4,
 "nbformat_minor": 2
}
