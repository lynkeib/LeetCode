{
 "cells": [
  {
   "cell_type": "code",
   "execution_count": 1,
   "metadata": {
    "ExecuteTime": {
     "end_time": "2020-05-03T19:33:37.268974Z",
     "start_time": "2020-05-03T19:33:37.258353Z"
    }
   },
   "outputs": [],
   "source": [
    "class MedianFinder:\n",
    "    \n",
    "    def __init__(self):\n",
    "        \"\"\"\n",
    "        initialize your data structure here.\n",
    "        \"\"\"\n",
    "        self.max_heap = []\n",
    "        self.min_heap = []\n",
    "        self.counter = 0;\n",
    "\n",
    "    def addNum(self, num: int) -> None:\n",
    "        self.counter+=1\n",
    "        if len(self.max_heap) == 0 or num <= -self.max_heap[0]:\n",
    "            heapq.heappush(self.max_heap, -num)\n",
    "        else:\n",
    "            heapq.heappush(self.min_heap, num)\n",
    "        \n",
    "        if len(self.min_heap) > len(self.max_heap):\n",
    "            heapq.heappush(self.max_heap, -heapq.heappop(self.min_heap))\n",
    "        if len(self.max_heap) - len(self.min_heap) > 1:\n",
    "            heapq.heappush(self.min_heap, -heapq.heappop(self.max_heap))\n",
    "        return\n",
    "        \n",
    "\n",
    "    def findMedian(self) -> float:\n",
    "        if self.counter % 2 != 0:\n",
    "            return -self.max_heap[0]\n",
    "        else:\n",
    "            return (-self.max_heap[0] + self.min_heap[0]) * 1.0 / 2\n",
    "        \n",
    "\n",
    "\n",
    "# Your MedianFinder object will be instantiated and called as such:\n",
    "# obj = MedianFinder()\n",
    "# obj.addNum(num)\n",
    "# param_2 = obj.findMedian()"
   ]
  },
  {
   "cell_type": "code",
   "execution_count": null,
   "metadata": {},
   "outputs": [],
   "source": []
  }
 ],
 "metadata": {
  "kernelspec": {
   "display_name": "Python 3",
   "language": "python",
   "name": "python3"
  },
  "language_info": {
   "codemirror_mode": {
    "name": "ipython",
    "version": 3
   },
   "file_extension": ".py",
   "mimetype": "text/x-python",
   "name": "python",
   "nbconvert_exporter": "python",
   "pygments_lexer": "ipython3",
   "version": "3.7.4"
  },
  "toc": {
   "base_numbering": 1,
   "nav_menu": {},
   "number_sections": true,
   "sideBar": true,
   "skip_h1_title": false,
   "title_cell": "Table of Contents",
   "title_sidebar": "Contents",
   "toc_cell": false,
   "toc_position": {},
   "toc_section_display": true,
   "toc_window_display": false
  }
 },
 "nbformat": 4,
 "nbformat_minor": 4
}
