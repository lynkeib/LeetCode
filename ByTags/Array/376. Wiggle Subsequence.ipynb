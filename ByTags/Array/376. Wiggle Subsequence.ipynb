{
 "cells": [
  {
   "cell_type": "code",
   "execution_count": 1,
   "metadata": {
    "ExecuteTime": {
     "end_time": "2019-10-23T02:10:51.282710Z",
     "start_time": "2019-10-23T02:10:51.271077Z"
    }
   },
   "outputs": [],
   "source": [
    "class Solution(object):\n",
    "    def wiggleMaxLength(self, nums):\n",
    "        \"\"\"\n",
    "        :type nums: List[int]\n",
    "        :rtype: int\n",
    "        \"\"\"\n",
    "        if not nums:\n",
    "            return 0\n",
    "        if len(nums) == 1:\n",
    "            return 1\n",
    "        if len(nums) == 2:\n",
    "            if nums[0] == nums[1]:\n",
    "                return 1\n",
    "            else:\n",
    "                return 2\n",
    "  \n",
    "        counter = 0\n",
    "        index = 0\n",
    "        sign = None\n",
    "        index = 0\n",
    "        \n",
    "        # assign then sign\n",
    "        while index < len(nums) - 1 and nums[index] == nums[index + 1]:\n",
    "            index += 1\n",
    "        if index == len(nums) - 1:\n",
    "            return 1\n",
    "        if nums[index] < nums[index + 1]:\n",
    "            counter = 2\n",
    "            sign = \"+\"\n",
    "        else:\n",
    "            counter = 2\n",
    "            sign = '-'\n",
    "        \n",
    "        index += 2\n",
    "        \n",
    "        # print('sign', sign, 'index', index, 'counter', counter)\n",
    "        \n",
    "        while index < len(nums):\n",
    "            # print('start')\n",
    "            # print('sign', sign, 'index', index, 'counter', counter)\n",
    "            while index < len(nums) and nums[index] == nums[index - 1]:\n",
    "                index += 1\n",
    "            if index == len(nums):\n",
    "                return counter\n",
    "            if nums[index] > nums[index - 1]: # this one is greater than the previous one\n",
    "                if sign == '+':\n",
    "                    index += 1\n",
    "                else: # if this one if less than the previous one\n",
    "                    counter += 1\n",
    "                    sign = '+'\n",
    "                    index += 1\n",
    "            else: # nums[index] < nums[index - 1]\n",
    "                if sign == '-':\n",
    "                    index += 1\n",
    "                else:\n",
    "                    counter += 1\n",
    "                    sign = '-'\n",
    "                    index += 1\n",
    "            # print('end')\n",
    "            # print('sign', sign, 'index', index, 'counter', counter)\n",
    "            # print()\n",
    "        return counter   "
   ]
  },
  {
   "cell_type": "code",
   "execution_count": null,
   "metadata": {},
   "outputs": [],
   "source": []
  }
 ],
 "metadata": {
  "kernelspec": {
   "display_name": "Python 3",
   "language": "python",
   "name": "python3"
  },
  "language_info": {
   "codemirror_mode": {
    "name": "ipython",
    "version": 3
   },
   "file_extension": ".py",
   "mimetype": "text/x-python",
   "name": "python",
   "nbconvert_exporter": "python",
   "pygments_lexer": "ipython3",
   "version": "3.7.1"
  },
  "toc": {
   "base_numbering": 1,
   "nav_menu": {},
   "number_sections": true,
   "sideBar": true,
   "skip_h1_title": false,
   "title_cell": "Table of Contents",
   "title_sidebar": "Contents",
   "toc_cell": false,
   "toc_position": {},
   "toc_section_display": true,
   "toc_window_display": false
  }
 },
 "nbformat": 4,
 "nbformat_minor": 2
}
