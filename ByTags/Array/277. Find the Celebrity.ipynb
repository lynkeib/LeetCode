{
 "cells": [
  {
   "cell_type": "markdown",
   "metadata": {},
   "source": [
    "# Brute Force ($O(n^2)$, TLE)"
   ]
  },
  {
   "cell_type": "code",
   "execution_count": 2,
   "metadata": {
    "ExecuteTime": {
     "end_time": "2019-10-08T05:47:04.261772Z",
     "start_time": "2019-10-08T05:47:04.254295Z"
    }
   },
   "outputs": [],
   "source": [
    "# The knows API is already defined for you.\n",
    "# @param a, person a\n",
    "# @param b, person b\n",
    "# @return a boolean, whether a knows b\n",
    "# def knows(a, b):\n",
    "\n",
    "class Solution(object):\n",
    "    def findCelebrity(self, n):\n",
    "        \"\"\"\n",
    "        :type n: int\n",
    "        :rtype: int\n",
    "        \"\"\"\n",
    "        betweeness = {index:0 for index in range(n)}\n",
    "        for a in range(n):\n",
    "            for b in range(a+1, n):\n",
    "                    if knows(a, b):\n",
    "                        candidates.remove(a)\n",
    "                        betweeness[a] -= 1\n",
    "                        betweeness[b] += 1\n",
    "                    if knows(b, a):\n",
    "                        candidates.remove(b)\n",
    "                        betweeness[b] -= 1\n",
    "        for i in candidates:\n",
    "            if betweeness[i] == n - 1:\n",
    "                return i   \n",
    "        return -1"
   ]
  },
  {
   "cell_type": "markdown",
   "metadata": {},
   "source": [
    "# Two passes ($O(n)$)"
   ]
  },
  {
   "cell_type": "code",
   "execution_count": 1,
   "metadata": {
    "ExecuteTime": {
     "end_time": "2019-10-08T05:45:46.690724Z",
     "start_time": "2019-10-08T05:45:46.685072Z"
    }
   },
   "outputs": [],
   "source": [
    "# The knows API is already defined for you.\n",
    "# @param a, person a\n",
    "# @param b, person b\n",
    "# @return a boolean, whether a knows b\n",
    "# def knows(a, b):\n",
    "\n",
    "class Solution(object):\n",
    "    def findCelebrity(self, n):\n",
    "        \"\"\"\n",
    "        :type n: int\n",
    "        :rtype: int\n",
    "        \"\"\"\n",
    "        candidate = 0\n",
    "        for person in range(1, n):\n",
    "            if knows(candidate, person):\n",
    "                candidate = person\n",
    "        for person in range(n):\n",
    "            if (person != candidate) and (knows(candidate, person) or (not knows(person, candidate))):\n",
    "                    return -1\n",
    "        return candidate"
   ]
  },
  {
   "cell_type": "code",
   "execution_count": null,
   "metadata": {},
   "outputs": [],
   "source": []
  }
 ],
 "metadata": {
  "kernelspec": {
   "display_name": "Python 3",
   "language": "python",
   "name": "python3"
  },
  "language_info": {
   "codemirror_mode": {
    "name": "ipython",
    "version": 3
   },
   "file_extension": ".py",
   "mimetype": "text/x-python",
   "name": "python",
   "nbconvert_exporter": "python",
   "pygments_lexer": "ipython3",
   "version": "3.7.1"
  },
  "toc": {
   "base_numbering": 1,
   "nav_menu": {},
   "number_sections": true,
   "sideBar": true,
   "skip_h1_title": false,
   "title_cell": "Table of Contents",
   "title_sidebar": "Contents",
   "toc_cell": false,
   "toc_position": {},
   "toc_section_display": true,
   "toc_window_display": false
  }
 },
 "nbformat": 4,
 "nbformat_minor": 2
}
