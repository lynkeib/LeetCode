{
 "cells": [
  {
   "cell_type": "markdown",
   "metadata": {},
   "source": [
    "# Quick Sort? Wrong Answer"
   ]
  },
  {
   "cell_type": "code",
   "execution_count": 1,
   "metadata": {
    "ExecuteTime": {
     "end_time": "2019-10-12T05:27:16.055536Z",
     "start_time": "2019-10-12T05:27:16.045275Z"
    }
   },
   "outputs": [],
   "source": [
    "class Solution(object):\n",
    "    def hIndex(self, citations):\n",
    "        \"\"\"\n",
    "        :type citations: List[int]\n",
    "        :rtype: int\n",
    "        \"\"\"\n",
    "        res = [-1]\n",
    "        self.selectionsort(citations, 0, len(citations) - 1, res)\n",
    "        return res[0]\n",
    "    \n",
    "    def selectionsort(self, nums, left, right, res):\n",
    "        print(left, right)\n",
    "        if left > right:\n",
    "            return\n",
    "        if left == right:\n",
    "            if len(nums) - left == nums[left]:\n",
    "                res[0] = nums[left]\n",
    "            return\n",
    "        pivot_num = right\n",
    "        left_now = left\n",
    "        right_now = right\n",
    "        while left_now != right_now:\n",
    "            while left_now < right_now and nums[left_now] < nums[pivot_num]:\n",
    "                left_now += 1\n",
    "            while left_now < right_now and nums[right_now] >= nums[pivot_num]:\n",
    "                right_now -= 1\n",
    "            nums[left_now], nums[right_now] = nums[right_now], nums[left_now]\n",
    "        # s = left + 1\n",
    "        nums[left_now], nums[pivot_num] = nums[pivot_num], nums[left_now]\n",
    "        # print(nums)\n",
    "        if len(nums) - left_now == nums[left]:\n",
    "            res[0] = nums[left]\n",
    "        self.selectionsort(nums, left, left_now -1, res)\n",
    "        self.selectionsort(nums, right_now + 1, right, res)\n",
    "        return "
   ]
  },
  {
   "cell_type": "code",
   "execution_count": null,
   "metadata": {},
   "outputs": [],
   "source": []
  }
 ],
 "metadata": {
  "kernelspec": {
   "display_name": "Python 3",
   "language": "python",
   "name": "python3"
  },
  "language_info": {
   "codemirror_mode": {
    "name": "ipython",
    "version": 3
   },
   "file_extension": ".py",
   "mimetype": "text/x-python",
   "name": "python",
   "nbconvert_exporter": "python",
   "pygments_lexer": "ipython3",
   "version": "3.7.1"
  },
  "toc": {
   "base_numbering": 1,
   "nav_menu": {},
   "number_sections": true,
   "sideBar": true,
   "skip_h1_title": false,
   "title_cell": "Table of Contents",
   "title_sidebar": "Contents",
   "toc_cell": false,
   "toc_position": {},
   "toc_section_display": true,
   "toc_window_display": false
  }
 },
 "nbformat": 4,
 "nbformat_minor": 2
}
