{
 "cells": [
  {
   "cell_type": "code",
   "execution_count": 1,
   "metadata": {
    "ExecuteTime": {
     "end_time": "2019-10-12T04:43:46.237702Z",
     "start_time": "2019-10-12T04:43:46.228000Z"
    }
   },
   "outputs": [],
   "source": [
    "class Solution(object):\n",
    "    def majorityElement(self, nums):\n",
    "        \"\"\"\n",
    "        :type nums: List[int]\n",
    "        :rtype: List[int]\n",
    "        \"\"\"\n",
    "        curr1, curr2 = None, None\n",
    "        count1, count2 = 0, 0\n",
    "        for index in range(len(nums)):\n",
    "            if nums[index] == curr1:\n",
    "                count1 += 1\n",
    "            elif nums[index] == curr2:\n",
    "                count2 += 1\n",
    "            elif count1 == 0:\n",
    "                curr1 = nums[index]\n",
    "                count1 += 1\n",
    "            elif count2 == 0:\n",
    "                curr2 = nums[index]\n",
    "                count2 += 1\n",
    "            else:\n",
    "                count1 -= 1\n",
    "                count2 -= 1\n",
    "        res = []\n",
    "        count1 = 0\n",
    "        count2 = 0\n",
    "        for num in nums:\n",
    "            if num == curr1:\n",
    "                count1 += 1\n",
    "            elif num == curr2:\n",
    "                count2 += 1\n",
    "        if count1 > len(nums) // 3:\n",
    "            res.append(curr1)\n",
    "        if count2 > len(nums) // 3:\n",
    "            res.append(curr2)\n",
    "        return res"
   ]
  },
  {
   "cell_type": "code",
   "execution_count": null,
   "metadata": {},
   "outputs": [],
   "source": []
  }
 ],
 "metadata": {
  "kernelspec": {
   "display_name": "Python 3",
   "language": "python",
   "name": "python3"
  },
  "language_info": {
   "codemirror_mode": {
    "name": "ipython",
    "version": 3
   },
   "file_extension": ".py",
   "mimetype": "text/x-python",
   "name": "python",
   "nbconvert_exporter": "python",
   "pygments_lexer": "ipython3",
   "version": "3.7.1"
  },
  "toc": {
   "base_numbering": 1,
   "nav_menu": {},
   "number_sections": true,
   "sideBar": true,
   "skip_h1_title": false,
   "title_cell": "Table of Contents",
   "title_sidebar": "Contents",
   "toc_cell": false,
   "toc_position": {},
   "toc_section_display": true,
   "toc_window_display": false
  }
 },
 "nbformat": 4,
 "nbformat_minor": 2
}
