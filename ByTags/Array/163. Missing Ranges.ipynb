{
 "cells": [
  {
   "cell_type": "code",
   "execution_count": 1,
   "metadata": {
    "ExecuteTime": {
     "end_time": "2019-10-21T06:08:12.477881Z",
     "start_time": "2019-10-21T06:08:12.465006Z"
    }
   },
   "outputs": [],
   "source": [
    "class Solution(object):\n",
    "    def findMissingRanges(self, nums, lower, upper):\n",
    "        \"\"\"\n",
    "        :type nums: List[int]\n",
    "        :type lower: int\n",
    "        :type upper: int\n",
    "        :rtype: List[str]\n",
    "        \"\"\"\n",
    "        if not nums:\n",
    "            if upper == lower:\n",
    "                return str(lower)\n",
    "            else:\n",
    "                return [\"%s->%s\" % (lower, upper)]\n",
    "        ## Ranges\n",
    "        res_temp = []\n",
    "        index = 0\n",
    "        start = 0\n",
    "        while index < len(nums):\n",
    "            while index < len(nums) - 1 and nums[index] + 1 == nums[index + 1]:\n",
    "                index += 1\n",
    "            res_temp.append((nums[start], nums[index]))\n",
    "            start = index + 1\n",
    "            index += 1  \n",
    "        print(res_temp)\n",
    "        \n",
    "        missing = []\n",
    "        for index in range(1, len(res_temp)):\n",
    "            if res_temp[index - 1][1] + 1 <= res_temp[index][0] - 1:\n",
    "                missing.append((res_temp[index - 1][1] + 1, res_temp[index][0] - 1))\n",
    "        \n",
    "        ## add lower?\n",
    "        if res_temp[0][0] != lower:\n",
    "            missing = [(lower, res_temp[0][0] - 1)] + missing\n",
    "        ## add upper?\n",
    "        if res_temp[-1][1] != upper:\n",
    "            missing = missing + [(res_temp[-1][1] + 1, upper)]\n",
    "        \n",
    "        # print(missing)\n",
    "        \n",
    "        res = []\n",
    "        # print(res_temp)\n",
    "        for index in range(len(missing)):\n",
    "            if missing[index][0] == missing[index][1]:\n",
    "                res.append(str(missing[index][0]))\n",
    "            else:\n",
    "                res.append(\"%s->%s\" % (missing[index][0], missing[index][1]))\n",
    "        return res"
   ]
  },
  {
   "cell_type": "code",
   "execution_count": null,
   "metadata": {},
   "outputs": [],
   "source": []
  }
 ],
 "metadata": {
  "kernelspec": {
   "display_name": "Python 3",
   "language": "python",
   "name": "python3"
  },
  "language_info": {
   "codemirror_mode": {
    "name": "ipython",
    "version": 3
   },
   "file_extension": ".py",
   "mimetype": "text/x-python",
   "name": "python",
   "nbconvert_exporter": "python",
   "pygments_lexer": "ipython3",
   "version": "3.7.1"
  },
  "toc": {
   "base_numbering": 1,
   "nav_menu": {},
   "number_sections": true,
   "sideBar": true,
   "skip_h1_title": false,
   "title_cell": "Table of Contents",
   "title_sidebar": "Contents",
   "toc_cell": false,
   "toc_position": {},
   "toc_section_display": true,
   "toc_window_display": false
  }
 },
 "nbformat": 4,
 "nbformat_minor": 2
}
