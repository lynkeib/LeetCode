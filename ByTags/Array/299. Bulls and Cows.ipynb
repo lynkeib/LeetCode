{
 "cells": [
  {
   "cell_type": "code",
   "execution_count": 1,
   "metadata": {
    "ExecuteTime": {
     "end_time": "2019-10-11T06:12:19.661731Z",
     "start_time": "2019-10-11T06:12:19.652488Z"
    }
   },
   "outputs": [],
   "source": [
    "class Solution(object):\n",
    "    def getHint(self, secret, guess):\n",
    "        \"\"\"\n",
    "        :type secret: str\n",
    "        :type guess: str\n",
    "        :rtype: str\n",
    "        \"\"\"\n",
    "        bc = {\"A\":0, \"B\":0}\n",
    "        counterS = collections.Counter(secret)\n",
    "        pointer1, pointer2 = 0, 0\n",
    "        counterB = dict()\n",
    "        while pointer1 < len(secret):\n",
    "            if secret[pointer1] == guess[pointer2]:\n",
    "                bc['A'] += 1\n",
    "                counterS[guess[pointer2]] -= 1\n",
    "            elif guess[pointer2] in counterS:\n",
    "                if guess[pointer2] not in counterB:\n",
    "                    counterB[guess[pointer2]] = 0\n",
    "                counterB[guess[pointer2]] += 1\n",
    "            pointer1 += 1\n",
    "            pointer2 += 1\n",
    "        # print(bc)\n",
    "        res = ''\n",
    "        for key, value in counterB.items():\n",
    "            if counterS[key] > 0:\n",
    "                bc['B'] += min(counterS[key], value)\n",
    "        for key, value in bc.items():\n",
    "            res += str(value)\n",
    "            res += key\n",
    "        return res"
   ]
  },
  {
   "cell_type": "code",
   "execution_count": null,
   "metadata": {},
   "outputs": [],
   "source": []
  }
 ],
 "metadata": {
  "kernelspec": {
   "display_name": "Python 3",
   "language": "python",
   "name": "python3"
  },
  "language_info": {
   "codemirror_mode": {
    "name": "ipython",
    "version": 3
   },
   "file_extension": ".py",
   "mimetype": "text/x-python",
   "name": "python",
   "nbconvert_exporter": "python",
   "pygments_lexer": "ipython3",
   "version": "3.7.1"
  },
  "toc": {
   "base_numbering": 1,
   "nav_menu": {},
   "number_sections": true,
   "sideBar": true,
   "skip_h1_title": false,
   "title_cell": "Table of Contents",
   "title_sidebar": "Contents",
   "toc_cell": false,
   "toc_position": {},
   "toc_section_display": true,
   "toc_window_display": false
  }
 },
 "nbformat": 4,
 "nbformat_minor": 2
}
