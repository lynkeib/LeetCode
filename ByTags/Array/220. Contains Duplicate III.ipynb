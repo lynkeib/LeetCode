{
 "cells": [
  {
   "cell_type": "markdown",
   "metadata": {},
   "source": [
    "# TLE"
   ]
  },
  {
   "cell_type": "code",
   "execution_count": 1,
   "metadata": {
    "ExecuteTime": {
     "end_time": "2019-10-14T02:36:34.300722Z",
     "start_time": "2019-10-14T02:36:34.294866Z"
    }
   },
   "outputs": [],
   "source": [
    "class Solution(object):\n",
    "    def containsNearbyAlmostDuplicate(self, nums, k, t):\n",
    "        \"\"\"\n",
    "        :type nums: List[int]\n",
    "        :type k: int\n",
    "        :type t: int\n",
    "        :rtype: bool\n",
    "        \"\"\"\n",
    "        for index, value in enumerate(nums):\n",
    "            for next_index in range(index+1, min(len(nums), index + k + 1)):\n",
    "                if abs(nums[index] - nums[next_index]) <= t:\n",
    "                    return True\n",
    "        return False"
   ]
  },
  {
   "cell_type": "markdown",
   "metadata": {},
   "source": [
    "# Ordered Dict"
   ]
  },
  {
   "cell_type": "code",
   "execution_count": 2,
   "metadata": {
    "ExecuteTime": {
     "end_time": "2019-10-14T03:56:04.205554Z",
     "start_time": "2019-10-14T03:56:04.193720Z"
    }
   },
   "outputs": [],
   "source": [
    "import math\n",
    "class Solution(object):\n",
    "    def containsNearbyAlmostDuplicate(self, nums, k, t):\n",
    "        \"\"\"\n",
    "        :type nums: List[int]\n",
    "        :type k: int\n",
    "        :type t: int\n",
    "        :rtype: bool\n",
    "        \"\"\"\n",
    "        if k <= 0 or t < 0:\n",
    "            return False\n",
    "        dic = collections.OrderedDict()\n",
    "        for num in nums:\n",
    "            key = num if not t else num // t\n",
    "            for target in (dic.get(key - 1), dic.get(key), dic.get(key + 1)):\n",
    "                if target is not None and abs(target - num) <= t:\n",
    "                    return True\n",
    "            if len(dic) == k:\n",
    "                dic.popitem(last = False)\n",
    "            dic[key] = num\n",
    "        return False"
   ]
  },
  {
   "cell_type": "markdown",
   "metadata": {},
   "source": [
    "## Reasoning"
   ]
  },
  {
   "cell_type": "markdown",
   "metadata": {},
   "source": [
    "if &emsp;&emsp;&emsp;&emsp; $|nums[i] - nums[j]| <= t$ &emsp;(a)<br/>\n",
    "then &emsp;&emsp; $|\\frac{nums[i]}{t} - \\frac{nums[j]}{t}| <= 1$ &emsp; (b) <br/>\n",
    "by having (b), we can then deduct formula (c) <br/>\n",
    "$|floor(\\frac{nums[i]}{t}) - floor(\\frac{nums[j]}{t})| <= 1$ &emsp; (c) <br/>\n",
    "$floor(\\frac{nums[j]}{t})\\in (floor(\\frac{nums[i]}{t}) + 1, floor(\\frac{nums[i]}{t}), floor(\\frac{nums[i]}{t}) - 1)$ &emsp; (d) <br/>\n",
    "$\\because (a) => (d)$ <br/>\n",
    "$\\therefore not (d) => not (a)$ <br/>\n",
    "$floor(\\frac{nums[j]}{t})\\notin (floor(\\frac{nums[i]}{t}) + 1, floor(\\frac{nums[i]}{t}), floor(\\frac{nums[i]}{t}) - 1)$ => $|nums[i] - nums[j]| > t$  &emsp; (conclusion) <br/>\n",
    "by having the conclusion in mind, we can then say: \"if $floor(\\frac{nums[j]}{t})\\notin (floor(\\frac{nums[i]}{t}) + 1, floor(\\frac{nums[i]}{t}), floor(\\frac{nums[i]}{t}) - 1)$, then $|nums[i] - nums[j]|$ must greater than t\" <br/>\n",
    "in other word, if $floor(\\frac{nums[j]}{t})\\in (floor(\\frac{nums[i]}{t}) + 1, floor(\\frac{nums[i]}{t}), floor(\\frac{nums[i]}{t}) - 1)$, then we should check if $|nums[i] - nums[j]| \\le t$ "
   ]
  },
  {
   "cell_type": "code",
   "execution_count": null,
   "metadata": {},
   "outputs": [],
   "source": []
  }
 ],
 "metadata": {
  "kernelspec": {
   "display_name": "Python 3",
   "language": "python",
   "name": "python3"
  },
  "language_info": {
   "codemirror_mode": {
    "name": "ipython",
    "version": 3
   },
   "file_extension": ".py",
   "mimetype": "text/x-python",
   "name": "python",
   "nbconvert_exporter": "python",
   "pygments_lexer": "ipython3",
   "version": "3.7.1"
  },
  "toc": {
   "base_numbering": 1,
   "nav_menu": {},
   "number_sections": true,
   "sideBar": true,
   "skip_h1_title": false,
   "title_cell": "Table of Contents",
   "title_sidebar": "Contents",
   "toc_cell": false,
   "toc_position": {},
   "toc_section_display": true,
   "toc_window_display": false
  }
 },
 "nbformat": 4,
 "nbformat_minor": 2
}
