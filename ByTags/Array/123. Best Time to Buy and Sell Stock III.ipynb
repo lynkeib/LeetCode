{
 "cells": [
  {
   "cell_type": "markdown",
   "metadata": {},
   "source": [
    "# DP "
   ]
  },
  {
   "cell_type": "code",
   "execution_count": 1,
   "metadata": {
    "ExecuteTime": {
     "end_time": "2019-10-18T02:45:28.952497Z",
     "start_time": "2019-10-18T02:45:28.942018Z"
    }
   },
   "outputs": [],
   "source": [
    "class Solution(object):\n",
    "    def maxProfit(self, prices):\n",
    "        \"\"\"\n",
    "        :type prices: List[int]\n",
    "        :rtype: int\n",
    "        \"\"\"\n",
    "        res = 0\n",
    "        one_max = dict()\n",
    "        # for start in range(len(prices)):\n",
    "        #     for end in range(start + 1, len(prices)):\n",
    "        #         if prices[end] < prices[start]:\n",
    "        #             continue\n",
    "        #         else:\n",
    "        #             temp_res = prices[end] - prices[start]\n",
    "        #             left = self.one(prices, end + 1, one_max)\n",
    "        #             if left > 0:\n",
    "        #                 temp_res += left\n",
    "        #             res = max(res, temp_res)\n",
    "        # print(one_max)\n",
    "        if len(prices) < 2:\n",
    "            return 0\n",
    "        b_min = prices[0]\n",
    "        for index in range(1, len(prices)):\n",
    "            if prices[index] > b_min:\n",
    "                temp_res = prices[index] - b_min\n",
    "                left = self.one(prices, index + 1, one_max)\n",
    "                if left > 0:\n",
    "                    temp_res += left\n",
    "                res = max(res, temp_res)\n",
    "            else:\n",
    "                b_min = prices[index]\n",
    "        return res\n",
    "    \n",
    "    def one(self, prices, begin, one_max):\n",
    "        # print(begin)\n",
    "        if begin >= len(prices):\n",
    "            return 0\n",
    "        if begin in one_max:\n",
    "            return one_max[begin]\n",
    "        buy = [0] * (len(prices) - begin)\n",
    "        sell = [0] * (len(prices) - begin)\n",
    "        buy[0] = -prices[begin]\n",
    "        for index in range(1, len(buy)):\n",
    "            buy[index] = max(buy[index - 1], -prices[index + begin])\n",
    "            sell[index] = max(buy[index - 1] + prices[index + begin], sell[index - 1])\n",
    "        one_max[begin] = sell[-1]\n",
    "        return sell[-1]\n",
    "            "
   ]
  },
  {
   "cell_type": "markdown",
   "metadata": {},
   "source": [
    "# Simple and fast solution"
   ]
  },
  {
   "cell_type": "code",
   "execution_count": 2,
   "metadata": {
    "ExecuteTime": {
     "end_time": "2019-10-18T03:03:36.159050Z",
     "start_time": "2019-10-18T03:03:36.153530Z"
    }
   },
   "outputs": [],
   "source": [
    "class Solution(object):\n",
    "    def maxProfit(self, prices):\n",
    "        \"\"\"\n",
    "        :type prices: List[int]\n",
    "        :rtype: int\n",
    "        \"\"\"\n",
    "        buy_1, sell_1 = -float('inf'), 0\n",
    "        buy_2, sell_2 = -float('inf'), 0\n",
    "        for price in prices:\n",
    "            ## if the 1st purchase is done, then Update 2\n",
    "            ## the reason we update 2 first is because \n",
    "            ## if we have not done the first purchase\n",
    "            ## then 2 should remain the same as original\n",
    "            ## if we update 1 first, then it is not very convenient for us\n",
    "            ## to record if we done the first purchase or not\n",
    "            sell_2 = max(sell_2, buy_2 + price)\n",
    "            buy_2 = max(buy_2, sell_1 - price)\n",
    "            sell_1 = max(sell_1, buy_1 + price)\n",
    "            buy_1 = max(buy_1, -price)\n",
    "        return sell_2"
   ]
  },
  {
   "cell_type": "code",
   "execution_count": null,
   "metadata": {},
   "outputs": [],
   "source": []
  }
 ],
 "metadata": {
  "kernelspec": {
   "display_name": "Python 3",
   "language": "python",
   "name": "python3"
  },
  "language_info": {
   "codemirror_mode": {
    "name": "ipython",
    "version": 3
   },
   "file_extension": ".py",
   "mimetype": "text/x-python",
   "name": "python",
   "nbconvert_exporter": "python",
   "pygments_lexer": "ipython3",
   "version": "3.7.1"
  },
  "toc": {
   "base_numbering": 1,
   "nav_menu": {},
   "number_sections": true,
   "sideBar": true,
   "skip_h1_title": false,
   "title_cell": "Table of Contents",
   "title_sidebar": "Contents",
   "toc_cell": false,
   "toc_position": {},
   "toc_section_display": true,
   "toc_window_display": false
  }
 },
 "nbformat": 4,
 "nbformat_minor": 2
}
