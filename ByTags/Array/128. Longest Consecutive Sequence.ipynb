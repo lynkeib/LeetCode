{
 "cells": [
  {
   "cell_type": "code",
   "execution_count": 1,
   "metadata": {
    "ExecuteTime": {
     "end_time": "2019-10-19T02:43:38.279783Z",
     "start_time": "2019-10-19T02:43:38.270715Z"
    }
   },
   "outputs": [],
   "source": [
    "class Solution(object):\n",
    "    def longestConsecutive(self, nums):\n",
    "        \"\"\"\n",
    "        :type nums: List[int]\n",
    "        :rtype: int\n",
    "        \"\"\"\n",
    "        if not nums:\n",
    "            return 0\n",
    "        spider = dict()\n",
    "        num_seen = set()\n",
    "        \n",
    "        max_length = 1\n",
    "        \n",
    "        for num in nums:\n",
    "            if num in num_seen:\n",
    "                continue\n",
    "            num_seen.add(num)\n",
    "            if num - 1 in spider and num + 1 in spider:\n",
    "                left_lenght = spider[num - 1]\n",
    "                right_length = spider[num + 1]\n",
    "                new_length = left_lenght + 1 + right_length\n",
    "                spider[num - left_lenght] = new_length\n",
    "                spider[num + right_length] = new_length\n",
    "                max_length = max(max_length, new_length)\n",
    "            elif num - 1 in spider:\n",
    "                left_length = spider[num - 1]\n",
    "                new_length = left_length + 1\n",
    "                spider[num - left_length] = new_length\n",
    "                spider[num] = new_length\n",
    "                max_length = max(max_length, new_length)\n",
    "            elif num + 1 in spider:\n",
    "                right_length = spider[num + 1]\n",
    "                new_length = right_length + 1\n",
    "                spider[num + right_length] = new_length\n",
    "                spider[num] = new_length\n",
    "                max_length = max(max_length, new_length)\n",
    "            else:\n",
    "                spider[num] = 1\n",
    "        return max_length"
   ]
  },
  {
   "cell_type": "code",
   "execution_count": null,
   "metadata": {},
   "outputs": [],
   "source": []
  }
 ],
 "metadata": {
  "kernelspec": {
   "display_name": "Python 3",
   "language": "python",
   "name": "python3"
  },
  "language_info": {
   "codemirror_mode": {
    "name": "ipython",
    "version": 3
   },
   "file_extension": ".py",
   "mimetype": "text/x-python",
   "name": "python",
   "nbconvert_exporter": "python",
   "pygments_lexer": "ipython3",
   "version": "3.7.1"
  },
  "toc": {
   "base_numbering": 1,
   "nav_menu": {},
   "number_sections": true,
   "sideBar": true,
   "skip_h1_title": false,
   "title_cell": "Table of Contents",
   "title_sidebar": "Contents",
   "toc_cell": false,
   "toc_position": {},
   "toc_section_display": true,
   "toc_window_display": false
  }
 },
 "nbformat": 4,
 "nbformat_minor": 2
}
