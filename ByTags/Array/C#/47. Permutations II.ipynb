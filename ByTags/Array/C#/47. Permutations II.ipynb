{
 "cells": [
  {
   "cell_type": "code",
   "execution_count": 8,
   "metadata": {},
   "outputs": [],
   "source": [
    "public class Solution {\n",
    "    public IList<IList<int>> PermuteUnique (int[] nums) {\n",
    "        Array.Sort(nums);\n",
    "        bool[] used = new bool[nums.Length];\n",
    "        for (int i = 0; i < used.Length; i++) used[i] = false;\n",
    "        List<IList<int>> res = new List<IList<int>> ();\n",
    "        dfs (nums, ref used, new List<int> (), ref res);\n",
    "        return res;\n",
    "    }\n",
    "\n",
    "    public void dfs (int[] nums, ref bool[] used, List<int> path, ref List<IList<int>> res) {\n",
    "        if (path.Count == nums.Length) {\n",
    "            res.Add (new List<int>(path));\n",
    "            return;\n",
    "        }\n",
    "        for (int i = 0; i < nums.Length; i++) {\n",
    "            if ((i > 0 && nums[i] == nums[i - 1] && used[i - 1] == false) || used[i])  {\n",
    "                continue;\n",
    "            } else {\n",
    "                used[i] = true;\n",
    "                path.Add (nums[i]);\n",
    "                dfs (nums, ref used, path, ref res);\n",
    "                path.RemoveAt (path.Count - 1);\n",
    "                used[i] = false;\n",
    "            }\n",
    "        }\n",
    "        return;\n",
    "    }\n",
    "}"
   ]
  },
  {
   "cell_type": "code",
   "execution_count": null,
   "metadata": {},
   "outputs": [],
   "source": []
  }
 ],
 "metadata": {
  "kernelspec": {
   "display_name": ".NET (C#)",
   "language": "C#",
   "name": ".net-csharp"
  },
  "language_info": {
   "file_extension": ".cs",
   "mimetype": "text/x-csharp",
   "name": "C#",
   "pygments_lexer": "csharp",
   "version": "8.0"
  },
  "toc": {
   "base_numbering": 1,
   "nav_menu": {},
   "number_sections": true,
   "sideBar": true,
   "skip_h1_title": false,
   "title_cell": "Table of Contents",
   "title_sidebar": "Contents",
   "toc_cell": false,
   "toc_position": {},
   "toc_section_display": true,
   "toc_window_display": false
  }
 },
 "nbformat": 4,
 "nbformat_minor": 4
}
