{
 "cells": [
  {
   "cell_type": "markdown",
   "metadata": {},
   "source": [
    "# Brute Force"
   ]
  },
  {
   "cell_type": "code",
   "execution_count": 1,
   "metadata": {
    "ExecuteTime": {
     "end_time": "2020-04-30T06:07:41.9207760Z",
     "start_time": "2020-04-30T06:07:41.424Z"
    }
   },
   "outputs": [
    {
     "ename": "Unhandled Exception",
     "evalue": "(4,25): error CS0246: The type or namespace name 'Relation' could not be found (are you missing a using directive or an assembly reference?)\n(11,24): error CS0103: The name 'Knows' does not exist in the current context",
     "output_type": "error",
     "traceback": [
      "(4,25): error CS0246: The type or namespace name 'Relation' could not be found (are you missing a using directive or an assembly reference?)\n(11,24): error CS0103: The name 'Knows' does not exist in the current context"
     ]
    }
   ],
   "source": [
    "/* The Knows API is defined in the parent class Relation.\n",
    "      bool Knows(int a, int b); */\n",
    "\n",
    "public class Solution : Relation {\n",
    "    public int FindCelebrity(int n) {\n",
    "        var indegree = new int[n];\n",
    "        var outdegree = new int[n];\n",
    "        for(int a = 0; a < n; a++){\n",
    "            for(int b = 0; b < n; b++){\n",
    "                if(a != b){\n",
    "                    if(Knows(a, b)){\n",
    "                        outdegree[a]++;\n",
    "                        indegree[b]++;\n",
    "                    }\n",
    "                }\n",
    "            }\n",
    "        }\n",
    "        for(int p = 0; p < n; p++){\n",
    "            if(indegree[p] == n - 1 && outdegree[p] == 0){\n",
    "                return p;\n",
    "            }\n",
    "        }\n",
    "        return -1;\n",
    "    }\n",
    "}"
   ]
  },
  {
   "cell_type": "markdown",
   "metadata": {},
   "source": [
    "# Linear"
   ]
  },
  {
   "cell_type": "code",
   "execution_count": 2,
   "metadata": {
    "ExecuteTime": {
     "end_time": "2020-04-30T06:12:17.9753680Z",
     "start_time": "2020-04-30T06:12:17.864Z"
    }
   },
   "outputs": [
    {
     "ename": "Unhandled Exception",
     "evalue": "(4,25): error CS0246: The type or namespace name 'Relation' could not be found (are you missing a using directive or an assembly reference?)\n(8,16): error CS0103: The name 'Knows' does not exist in the current context\n(21,20): error CS0103: The name 'Knows' does not exist in the current context\n(21,36): error CS0103: The name 'Knows' does not exist in the current context",
     "output_type": "error",
     "traceback": [
      "(4,25): error CS0246: The type or namespace name 'Relation' could not be found (are you missing a using directive or an assembly reference?)\n(8,16): error CS0103: The name 'Knows' does not exist in the current context\n(21,20): error CS0103: The name 'Knows' does not exist in the current context\n(21,36): error CS0103: The name 'Knows' does not exist in the current context"
     ]
    }
   ],
   "source": [
    "/* The Knows API is defined in the parent class Relation.\n",
    "      bool Knows(int a, int b); */\n",
    "\n",
    "public class Solution : Relation {\n",
    "    public int FindCelebrity(int n) {\n",
    "        var cele = 0;\n",
    "        for(int i = 1; i < n; i++){\n",
    "            if(Knows(cele, i)){\n",
    "                cele = i;\n",
    "            }\n",
    "        }\n",
    "        if(isCele(cele, n)){\n",
    "            return cele;\n",
    "        }\n",
    "        return -1;\n",
    "    }\n",
    "    \n",
    "    public bool isCele(int i, int n){\n",
    "        for(int j = 0; j < n; j++){\n",
    "            if(j != i){\n",
    "                if(Knows(i, j) || !Knows(j, i)){\n",
    "                    return false;\n",
    "                }\n",
    "            }\n",
    "        }\n",
    "        return true;\n",
    "    }\n",
    "}"
   ]
  },
  {
   "cell_type": "code",
   "execution_count": null,
   "metadata": {},
   "outputs": [],
   "source": []
  }
 ],
 "metadata": {
  "kernelspec": {
   "display_name": ".NET (C#)",
   "language": "C#",
   "name": ".net-csharp"
  },
  "language_info": {
   "file_extension": ".cs",
   "mimetype": "text/x-csharp",
   "name": "C#",
   "pygments_lexer": "csharp",
   "version": "8.0"
  },
  "toc": {
   "base_numbering": 1,
   "nav_menu": {},
   "number_sections": true,
   "sideBar": true,
   "skip_h1_title": false,
   "title_cell": "Table of Contents",
   "title_sidebar": "Contents",
   "toc_cell": false,
   "toc_position": {},
   "toc_section_display": true,
   "toc_window_display": false
  }
 },
 "nbformat": 4,
 "nbformat_minor": 4
}
