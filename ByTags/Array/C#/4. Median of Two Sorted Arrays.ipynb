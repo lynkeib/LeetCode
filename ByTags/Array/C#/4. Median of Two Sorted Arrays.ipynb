{
 "cells": [
  {
   "cell_type": "code",
   "execution_count": 1,
   "metadata": {},
   "outputs": [],
   "source": [
    "public class Solution {\n",
    "    public double FindMedianSortedArrays (int[] nums1, int[] nums2) {\n",
    "        int total_length = nums1.Length + nums2.Length;\n",
    "        int middle = (total_length + 1) / 2;\n",
    "        if (nums1.Length > nums2.Length) {\n",
    "            int[] temp = nums1;\n",
    "            nums1 = nums2;\n",
    "            nums2 = temp;\n",
    "        }\n",
    "        int left = 0, right = nums1.Length;\n",
    "        while (left < right) {\n",
    "            int mid = left + (right - left) / 2;\n",
    "            int left_nums2 = middle - mid;\n",
    "            if (nums1[mid] < nums2[left_nums2 - 1]) {\n",
    "                left = mid + 1;\n",
    "            } else {\n",
    "                right = mid;\n",
    "            }\n",
    "        }\n",
    "\n",
    "        int middle1 = Math.Max (left == 0 ? int.MinValue : nums1[left - 1], middle - left == 0 ? int.MinValue : nums2[middle - left - 1]);\n",
    "\n",
    "        if (total_length % 2 != 0) {\n",
    "            return middle1;\n",
    "        } \n",
    "            \n",
    "        int middle2 = Math.Min (left == nums1.Length ? int.MaxValue : nums1[left], middle - left == nums2.Length? int.MaxValue : nums2[middle - left]);\n",
    "        \n",
    "        return (double)(middle1 + middle2) / 2;\n",
    "    }\n",
    "}"
   ]
  },
  {
   "cell_type": "code",
   "execution_count": null,
   "metadata": {},
   "outputs": [],
   "source": []
  }
 ],
 "metadata": {
  "kernelspec": {
   "display_name": ".NET (C#)",
   "language": "C#",
   "name": ".net-csharp"
  },
  "language_info": {
   "file_extension": ".cs",
   "mimetype": "text/x-csharp",
   "name": "C#",
   "pygments_lexer": "csharp",
   "version": "8.0"
  },
  "toc": {
   "base_numbering": 1,
   "nav_menu": {},
   "number_sections": true,
   "sideBar": true,
   "skip_h1_title": false,
   "title_cell": "Table of Contents",
   "title_sidebar": "Contents",
   "toc_cell": false,
   "toc_position": {},
   "toc_section_display": true,
   "toc_window_display": false
  }
 },
 "nbformat": 4,
 "nbformat_minor": 4
}
