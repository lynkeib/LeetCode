{
 "cells": [
  {
   "cell_type": "code",
   "execution_count": 1,
   "metadata": {
    "ExecuteTime": {
     "end_time": "2020-05-10T07:22:25.8857410Z",
     "start_time": "2020-05-10T07:22:24.335Z"
    }
   },
   "outputs": [],
   "source": [
    "public class Solution {\n",
    "    public int MaxEnvelopes(int[][] envelopes) {\n",
    "        if(envelopes.Length == 0){\n",
    "            return 0;\n",
    "        }\n",
    "        \n",
    "        Array.Sort(envelopes, (a, b) => a[0] == b[0] ? b[1].CompareTo(a[1]) : a[0].CompareTo(b[0]));\n",
    "        \n",
    "        \n",
    "        int[] heights = new int[envelopes.Length];\n",
    "        for(int i = 0; i < envelopes.Length; i++){\n",
    "            heights[i] = envelopes[i][1];\n",
    "        }\n",
    "        \n",
    "        var dp = new List<int>();\n",
    "        \n",
    "        foreach(int h in heights){\n",
    "            var index = biset_left(dp, h);\n",
    "            if(index == dp.Count){\n",
    "                dp.Add(h);\n",
    "            }else{\n",
    "                dp[index] = h;\n",
    "            }\n",
    "        }\n",
    "        return dp.Count;\n",
    "        \n",
    "    }\n",
    "    \n",
    "    public int biset_left(List<int> arr, int target){\n",
    "        int left = 0, right = arr.Count - 1;\n",
    "        while(left <= right){\n",
    "            int mid = left + (right - left) / 2;\n",
    "            if(arr[mid] == target){\n",
    "                return mid;\n",
    "            }else if(arr[mid] < target){\n",
    "                left = mid + 1;\n",
    "            }else{\n",
    "                right = mid - 1;\n",
    "            }\n",
    "        }\n",
    "        return left;\n",
    "    }\n",
    "}"
   ]
  },
  {
   "cell_type": "code",
   "execution_count": null,
   "metadata": {},
   "outputs": [],
   "source": []
  }
 ],
 "metadata": {
  "kernelspec": {
   "display_name": ".NET (C#)",
   "language": "C#",
   "name": ".net-csharp"
  },
  "language_info": {
   "file_extension": ".cs",
   "mimetype": "text/x-csharp",
   "name": "C#",
   "pygments_lexer": "csharp",
   "version": "8.0"
  },
  "toc": {
   "base_numbering": 1,
   "nav_menu": {},
   "number_sections": true,
   "sideBar": true,
   "skip_h1_title": false,
   "title_cell": "Table of Contents",
   "title_sidebar": "Contents",
   "toc_cell": false,
   "toc_position": {},
   "toc_section_display": true,
   "toc_window_display": false
  }
 },
 "nbformat": 4,
 "nbformat_minor": 4
}
