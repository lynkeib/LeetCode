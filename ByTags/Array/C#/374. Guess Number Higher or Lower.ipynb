{
 "cells": [
  {
   "cell_type": "code",
   "execution_count": 1,
   "metadata": {
    "ExecuteTime": {
     "end_time": "2020-05-10T23:01:01.4744620Z",
     "start_time": "2020-05-10T23:01:00.938Z"
    }
   },
   "outputs": [
    {
     "ename": "Unhandled Exception",
     "evalue": "(10,25): error CS0246: The type or namespace name 'GuessGame' could not be found (are you missing a using directive or an assembly reference?)\n(15,21): error CS0103: The name 'guess' does not exist in the current context",
     "output_type": "error",
     "traceback": [
      "(10,25): error CS0246: The type or namespace name 'GuessGame' could not be found (are you missing a using directive or an assembly reference?)\n(15,21): error CS0103: The name 'guess' does not exist in the current context"
     ]
    }
   ],
   "source": [
    "/** \n",
    " * Forward declaration of guess API.\n",
    " * @param  num   your guess\n",
    " * @return \t     -1 if num is lower than the guess number\n",
    " *\t\t\t      1 if num is higher than the guess number\n",
    " *               otherwise return 0\n",
    " * int guess(int num);\n",
    " */\n",
    "\n",
    "public class Solution : GuessGame {\n",
    "    public int GuessNumber(int n) {\n",
    "        int left = 1, right = n;\n",
    "        while(left < right){\n",
    "            int mid = left + (right - left) / 2;\n",
    "            int g = guess(mid);\n",
    "            if(g == 0){\n",
    "                return mid;\n",
    "            }\n",
    "            if(g == 1){\n",
    "                left = mid + 1;\n",
    "            }else{\n",
    "                right = mid - 1;\n",
    "            }\n",
    "        }\n",
    "        return left;\n",
    "    }\n",
    "}"
   ]
  },
  {
   "cell_type": "code",
   "execution_count": null,
   "metadata": {},
   "outputs": [],
   "source": []
  }
 ],
 "metadata": {
  "kernelspec": {
   "display_name": ".NET (C#)",
   "language": "C#",
   "name": ".net-csharp"
  },
  "language_info": {
   "file_extension": ".cs",
   "mimetype": "text/x-csharp",
   "name": "C#",
   "pygments_lexer": "csharp",
   "version": "8.0"
  },
  "toc": {
   "base_numbering": 1,
   "nav_menu": {},
   "number_sections": true,
   "sideBar": true,
   "skip_h1_title": false,
   "title_cell": "Table of Contents",
   "title_sidebar": "Contents",
   "toc_cell": false,
   "toc_position": {},
   "toc_section_display": true,
   "toc_window_display": false
  }
 },
 "nbformat": 4,
 "nbformat_minor": 4
}
