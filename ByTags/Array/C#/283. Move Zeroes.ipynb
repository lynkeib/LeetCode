{
 "cells": [
  {
   "cell_type": "code",
   "execution_count": 1,
   "metadata": {
    "ExecuteTime": {
     "end_time": "2020-05-02T04:22:46.9664010Z",
     "start_time": "2020-05-02T04:22:46.036Z"
    }
   },
   "outputs": [],
   "source": [
    "public class Solution {\n",
    "    public void MoveZeroes(int[] nums) {\n",
    "        int fast = 0;\n",
    "        for(int slow = 0; slow < nums.Length; slow++){\n",
    "            if(nums[slow] == 0){\n",
    "                while(slow > fast && fast < nums.Length){\n",
    "                    fast++;\n",
    "                }\n",
    "                while(fast < nums.Length && nums[fast] == 0){\n",
    "                    fast++;\n",
    "                }\n",
    "                if(fast == nums.Length){\n",
    "                    return;\n",
    "                }\n",
    "                var temp = nums[slow];\n",
    "                nums[slow] = nums[fast];\n",
    "                nums[fast] = temp;\n",
    "            }\n",
    "            \n",
    "        }\n",
    "        return;\n",
    "    }\n",
    "}"
   ]
  },
  {
   "cell_type": "code",
   "execution_count": null,
   "metadata": {},
   "outputs": [],
   "source": []
  }
 ],
 "metadata": {
  "kernelspec": {
   "display_name": ".NET (C#)",
   "language": "C#",
   "name": ".net-csharp"
  },
  "language_info": {
   "file_extension": ".cs",
   "mimetype": "text/x-csharp",
   "name": "C#",
   "pygments_lexer": "csharp",
   "version": "8.0"
  },
  "toc": {
   "base_numbering": 1,
   "nav_menu": {},
   "number_sections": true,
   "sideBar": true,
   "skip_h1_title": false,
   "title_cell": "Table of Contents",
   "title_sidebar": "Contents",
   "toc_cell": false,
   "toc_position": {},
   "toc_section_display": true,
   "toc_window_display": false
  }
 },
 "nbformat": 4,
 "nbformat_minor": 4
}
