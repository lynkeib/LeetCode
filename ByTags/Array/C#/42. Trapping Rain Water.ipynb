{
 "cells": [
  {
   "cell_type": "markdown",
   "metadata": {},
   "source": [
    "# Two Pointers"
   ]
  },
  {
   "cell_type": "code",
   "execution_count": 1,
   "metadata": {},
   "outputs": [],
   "source": [
    "public class Solution {\n",
    "    public int Trap(int[] height) {\n",
    "        if(height.Length == 0){\n",
    "            return 0;\n",
    "        }\n",
    "        int left = -1, right = height.Length;\n",
    "        int left_max = 0, right_max = 0;\n",
    "        int res = 0;\n",
    "        while(left + 1 < height.Length && right - 1 > -1 && left < right){\n",
    "            if(height[left + 1] >= left_max){\n",
    "                left_max = height[left + 1];\n",
    "                left++;\n",
    "            }else if(height[right - 1] >= right_max){\n",
    "                right_max = height[right - 1];\n",
    "                right--;\n",
    "            }else if(left_max <= right_max){\n",
    "                res += left_max - height[left + 1];\n",
    "                left++;\n",
    "            }else{\n",
    "                res += right_max - height[right - 1];\n",
    "                right--;\n",
    "            }\n",
    "        }\n",
    "        return res;\n",
    "    }\n",
    "}"
   ]
  },
  {
   "cell_type": "markdown",
   "metadata": {},
   "source": [
    "# Stack"
   ]
  },
  {
   "cell_type": "code",
   "execution_count": 1,
   "metadata": {
    "ExecuteTime": {
     "end_time": "2020-05-22T03:00:20.5799260Z",
     "start_time": "2020-05-22T03:00:19.490Z"
    }
   },
   "outputs": [],
   "source": [
    "public class Solution {\n",
    "    public int Trap(int[] height) {\n",
    "        var stack = new Stack<int>();\n",
    "        var res = 0;\n",
    "        for(int i = 0; i < height.Length; i++){\n",
    "            while(stack.Count != 0 && height[i] > height[stack.Peek()]){\n",
    "                var popHeightIndex = stack.Pop();\n",
    "                if(stack.Count == 0){\n",
    "                    break;\n",
    "                }\n",
    "                var leftHeightIndex = stack.Peek();\n",
    "                var leftHeight = height[leftHeightIndex];\n",
    "                var rightHeight = height[i];\n",
    "                var minHeight = Math.Min(leftHeight, rightHeight) - height[popHeightIndex];\n",
    "                var width = i - leftHeightIndex - 1;\n",
    "                res += minHeight * width;\n",
    "            }\n",
    "            stack.Push(i);\n",
    "        }\n",
    "        return res;\n",
    "    }\n",
    "}"
   ]
  },
  {
   "cell_type": "code",
   "execution_count": null,
   "metadata": {},
   "outputs": [],
   "source": []
  }
 ],
 "metadata": {
  "kernelspec": {
   "display_name": ".NET (C#)",
   "language": "C#",
   "name": ".net-csharp"
  },
  "language_info": {
   "file_extension": ".cs",
   "mimetype": "text/x-csharp",
   "name": "C#",
   "pygments_lexer": "csharp",
   "version": "8.0"
  },
  "toc": {
   "base_numbering": 1,
   "nav_menu": {},
   "number_sections": true,
   "sideBar": true,
   "skip_h1_title": false,
   "title_cell": "Table of Contents",
   "title_sidebar": "Contents",
   "toc_cell": false,
   "toc_position": {},
   "toc_section_display": true,
   "toc_window_display": false
  }
 },
 "nbformat": 4,
 "nbformat_minor": 4
}
