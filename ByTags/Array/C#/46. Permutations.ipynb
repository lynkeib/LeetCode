{
 "cells": [
  {
   "cell_type": "code",
   "execution_count": 1,
   "metadata": {},
   "outputs": [],
   "source": [
    "public class Solution {\n",
    "    public IList<IList<int>> Permute (int[] nums) {\n",
    "        List<IList<int>> res = new List<IList<int>> ();\n",
    "        dfs (nums, new List<int> (), res);\n",
    "        return res;\n",
    "    }\n",
    "\n",
    "    public void dfs (int[] nums, List<int> temp, List<IList<int>> res) {\n",
    "        if (temp.Count == nums.Length) {\n",
    "            res.Add (new List<int> (temp));\n",
    "            return;\n",
    "        }\n",
    "        for (int i = 0; i < nums.Length; i++) {\n",
    "            if (temp.Contains (nums[i])) continue;\n",
    "            temp.Add (nums[i]);\n",
    "            dfs (nums, temp, res);\n",
    "            temp.RemoveAt (temp.Count - 1);\n",
    "        }\n",
    "    }\n",
    "}"
   ]
  },
  {
   "cell_type": "code",
   "execution_count": null,
   "metadata": {},
   "outputs": [],
   "source": []
  }
 ],
 "metadata": {
  "kernelspec": {
   "display_name": ".NET (C#)",
   "language": "C#",
   "name": ".net-csharp"
  },
  "language_info": {
   "file_extension": ".cs",
   "mimetype": "text/x-csharp",
   "name": "C#",
   "pygments_lexer": "csharp",
   "version": "8.0"
  },
  "toc": {
   "base_numbering": 1,
   "nav_menu": {},
   "number_sections": true,
   "sideBar": true,
   "skip_h1_title": false,
   "title_cell": "Table of Contents",
   "title_sidebar": "Contents",
   "toc_cell": false,
   "toc_position": {},
   "toc_section_display": true,
   "toc_window_display": false
  }
 },
 "nbformat": 4,
 "nbformat_minor": 4
}
