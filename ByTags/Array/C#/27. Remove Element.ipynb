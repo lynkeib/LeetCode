{
 "cells": [
  {
   "cell_type": "code",
   "execution_count": 5,
   "metadata": {},
   "outputs": [],
   "source": [
    "public class Solution {\n",
    "    public int RemoveElement (int[] nums, int val) {\n",
    "        var left = 0;\n",
    "        var right = nums.Length - 1;\n",
    "        while (left <= right && nums[left] != val) {\n",
    "            left++;\n",
    "        }\n",
    "        while (left <= right && nums[right] == val) {\n",
    "            right--;\n",
    "        }\n",
    "        while (left <= right) {\n",
    "            var temp = nums[left];\n",
    "            nums[left] = nums[right];\n",
    "            nums[right] = temp;\n",
    "            while (left <= right && nums[left] != val) {\n",
    "                left++;\n",
    "            }\n",
    "            while (left <= right && nums[right] == val) {\n",
    "                right--;\n",
    "            }\n",
    "        }\n",
    "        return left;\n",
    "    }\n",
    "}"
   ]
  },
  {
   "cell_type": "code",
   "execution_count": null,
   "metadata": {},
   "outputs": [],
   "source": []
  }
 ],
 "metadata": {
  "kernelspec": {
   "display_name": ".NET (C#)",
   "language": "C#",
   "name": ".net-csharp"
  },
  "language_info": {
   "file_extension": ".cs",
   "mimetype": "text/x-csharp",
   "name": "C#",
   "pygments_lexer": "csharp",
   "version": "8.0"
  },
  "toc": {
   "base_numbering": 1,
   "nav_menu": {},
   "number_sections": true,
   "sideBar": true,
   "skip_h1_title": false,
   "title_cell": "Table of Contents",
   "title_sidebar": "Contents",
   "toc_cell": false,
   "toc_position": {},
   "toc_section_display": true,
   "toc_window_display": false
  }
 },
 "nbformat": 4,
 "nbformat_minor": 4
}
