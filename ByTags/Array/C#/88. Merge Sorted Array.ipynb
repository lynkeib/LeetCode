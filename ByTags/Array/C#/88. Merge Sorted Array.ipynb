{
 "cells": [
  {
   "cell_type": "code",
   "execution_count": 1,
   "metadata": {
    "ExecuteTime": {
     "end_time": "2020-04-07T04:47:37.3421820Z",
     "start_time": "2020-04-07T04:47:36.412Z"
    }
   },
   "outputs": [],
   "source": [
    "public class Solution {\n",
    "    public void Merge(int[] nums1, int m, int[] nums2, int n) {\n",
    "        int index1 = m - 1, index2 = n - 1, index = m + n - 1;\n",
    "        while(index1 > -1 && index2 > -1){\n",
    "            if(nums1[index1] > nums2[index2]){\n",
    "                nums1[index] = nums1[index1];\n",
    "                index1--;\n",
    "            }else{\n",
    "                nums1[index] = nums2[index2];\n",
    "                index2--;\n",
    "            }\n",
    "            index--;\n",
    "        }\n",
    "        while(index2 > -1){\n",
    "            nums1[index] = nums2[index2];\n",
    "            index--;\n",
    "            index2--;\n",
    "        }\n",
    "        return;\n",
    "    }\n",
    "}"
   ]
  },
  {
   "cell_type": "code",
   "execution_count": null,
   "metadata": {},
   "outputs": [],
   "source": []
  }
 ],
 "metadata": {
  "kernelspec": {
   "display_name": ".NET (C#)",
   "language": "C#",
   "name": ".net-csharp"
  },
  "language_info": {
   "file_extension": ".cs",
   "mimetype": "text/x-csharp",
   "name": "C#",
   "pygments_lexer": "csharp",
   "version": "8.0"
  },
  "toc": {
   "base_numbering": 1,
   "nav_menu": {},
   "number_sections": true,
   "sideBar": true,
   "skip_h1_title": false,
   "title_cell": "Table of Contents",
   "title_sidebar": "Contents",
   "toc_cell": false,
   "toc_position": {},
   "toc_section_display": true,
   "toc_window_display": false
  }
 },
 "nbformat": 4,
 "nbformat_minor": 4
}
