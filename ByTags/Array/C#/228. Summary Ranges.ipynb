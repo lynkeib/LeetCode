{
 "cells": [
  {
   "cell_type": "code",
   "execution_count": 1,
   "metadata": {
    "ExecuteTime": {
     "end_time": "2020-04-24T22:55:11.2093690Z",
     "start_time": "2020-04-24T22:55:09.525Z"
    }
   },
   "outputs": [],
   "source": [
    "public class Solution {\n",
    "    public IList<string> SummaryRanges(int[] nums) {\n",
    "        var res = new List<string>();\n",
    "        var index = 0;\n",
    "        while(index < nums.Length){\n",
    "            var low = nums[index];\n",
    "            var curr = nums[index];\n",
    "            while(index + 1 < nums.Length && nums[index + 1] == curr + 1){\n",
    "                curr++;\n",
    "                index++;\n",
    "            }\n",
    "            if(curr == low){\n",
    "                res.Add(curr.ToString());\n",
    "            }else{\n",
    "                res.Add($\"{low}->{curr}\");\n",
    "            }\n",
    "            index++;\n",
    "        }\n",
    "        return res;\n",
    "    }\n",
    "}"
   ]
  },
  {
   "cell_type": "code",
   "execution_count": null,
   "metadata": {},
   "outputs": [],
   "source": []
  }
 ],
 "metadata": {
  "kernelspec": {
   "display_name": ".NET (C#)",
   "language": "C#",
   "name": ".net-csharp"
  },
  "language_info": {
   "file_extension": ".cs",
   "mimetype": "text/x-csharp",
   "name": "C#",
   "pygments_lexer": "csharp",
   "version": "8.0"
  },
  "toc": {
   "base_numbering": 1,
   "nav_menu": {},
   "number_sections": true,
   "sideBar": true,
   "skip_h1_title": false,
   "title_cell": "Table of Contents",
   "title_sidebar": "Contents",
   "toc_cell": false,
   "toc_position": {},
   "toc_section_display": true,
   "toc_window_display": false
  }
 },
 "nbformat": 4,
 "nbformat_minor": 4
}
