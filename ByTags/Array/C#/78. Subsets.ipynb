{
 "cells": [
  {
   "cell_type": "code",
   "execution_count": 1,
   "metadata": {},
   "outputs": [],
   "source": [
    "public class Solution {\n",
    "    public IList<IList<int>> Subsets (int[] nums) {\n",
    "        List<IList<int>> res = new List<IList<int>> ();\n",
    "        res.Add (new List<int> () { });\n",
    "        foreach(int num in nums){\n",
    "            foreach(IList<int> comb in res.ToList()){\n",
    "                List<int> temp = new List<int>(comb);\n",
    "                temp.Add(num);\n",
    "                res.Add(temp);\n",
    "            }\n",
    "        }\n",
    "        return res;\n",
    "    }\n",
    "}"
   ]
  },
  {
   "cell_type": "code",
   "execution_count": 8,
   "metadata": {},
   "outputs": [],
   "source": [
    "public class Solution {\n",
    "    public IList<IList<int>> Subsets (int[] nums) {\n",
    "        List<IList<int>> res = new List<IList<int>> ();\n",
    "        int total = nums.Length;\n",
    "        string bin = \"\";\n",
    "        for(int i = 0; i < total; i++) bin += '1';\n",
    "        total = Convert.ToInt32(bin, 2);\n",
    "        for (int i = 0; i <= total; i++) {\n",
    "            string selection = Convert.ToString (i, 2);\n",
    "            char[] temp = selection.ToCharArray();\n",
    "            Array.Reverse(temp);\n",
    "            selection = new string(temp);\n",
    "            List<int> th = new List<int> ();\n",
    "            for (int j = 0; j < selection.Length; j++) {\n",
    "                if(selection[j] == '1'){\n",
    "                    th.Add(nums[j]);\n",
    "                }\n",
    "            }\n",
    "            res.Add(th);\n",
    "        }\n",
    "        return res;\n",
    "    }\n",
    "}"
   ]
  },
  {
   "cell_type": "code",
   "execution_count": null,
   "metadata": {},
   "outputs": [],
   "source": []
  }
 ],
 "metadata": {
  "kernelspec": {
   "display_name": ".NET (C#)",
   "language": "C#",
   "name": ".net-csharp"
  },
  "language_info": {
   "file_extension": ".cs",
   "mimetype": "text/x-csharp",
   "name": "C#",
   "pygments_lexer": "csharp",
   "version": "8.0"
  },
  "toc": {
   "base_numbering": 1,
   "nav_menu": {},
   "number_sections": true,
   "sideBar": true,
   "skip_h1_title": false,
   "title_cell": "Table of Contents",
   "title_sidebar": "Contents",
   "toc_cell": false,
   "toc_position": {},
   "toc_section_display": true,
   "toc_window_display": false
  }
 },
 "nbformat": 4,
 "nbformat_minor": 4
}
