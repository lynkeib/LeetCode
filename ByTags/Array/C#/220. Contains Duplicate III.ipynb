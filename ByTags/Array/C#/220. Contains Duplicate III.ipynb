{
 "cells": [
  {
   "cell_type": "code",
   "execution_count": 4,
   "metadata": {
    "ExecuteTime": {
     "end_time": "2020-04-24T04:14:01.0049940Z",
     "start_time": "2020-04-24T04:14:00.492Z"
    }
   },
   "outputs": [],
   "source": [
    "public class Solution {\n",
    "    public bool ContainsNearbyAlmostDuplicate(int[] nums, int k, int t) {\n",
    "        if(t < 0){\n",
    "            return false;\n",
    "        }\n",
    "        var map = new Dictionary<long, long>();\n",
    "        long w = (long)t + 1;\n",
    "        for (int index = 0; index < nums.Length; index++)\n",
    "        {\n",
    "            long b = getID((long)nums[index], w);\n",
    "            if(map.ContainsKey(b - 1) && Math.Abs(map[b - 1] - nums[index]) < w){\n",
    "                return true;\n",
    "            }\n",
    "            if(map.ContainsKey(b + 1) && Math.Abs(map[b + 1] - nums[index]) < w){\n",
    "                return true;\n",
    "            }\n",
    "            if(map.ContainsKey(b)){\n",
    "                return true;\n",
    "            }\n",
    "            map[b] = nums[index];\n",
    "            if(index >= k){\n",
    "                map.Remove(getID(nums[index-k], w));\n",
    "            }\n",
    "        }\n",
    "        return false;\n",
    "    }\n",
    "    \n",
    "    public long getID(long x, long w){\n",
    "        return x < 0 ? (x + 1) / w - 1 : x / w;\n",
    "    }\n",
    "}"
   ]
  },
  {
   "cell_type": "code",
   "execution_count": null,
   "metadata": {},
   "outputs": [],
   "source": []
  }
 ],
 "metadata": {
  "kernelspec": {
   "display_name": ".NET (C#)",
   "language": "C#",
   "name": ".net-csharp"
  },
  "language_info": {
   "file_extension": ".cs",
   "mimetype": "text/x-csharp",
   "name": "C#",
   "pygments_lexer": "csharp",
   "version": "8.0"
  },
  "toc": {
   "base_numbering": 1,
   "nav_menu": {},
   "number_sections": true,
   "sideBar": true,
   "skip_h1_title": false,
   "title_cell": "Table of Contents",
   "title_sidebar": "Contents",
   "toc_cell": false,
   "toc_position": {},
   "toc_section_display": true,
   "toc_window_display": false
  }
 },
 "nbformat": 4,
 "nbformat_minor": 4
}
