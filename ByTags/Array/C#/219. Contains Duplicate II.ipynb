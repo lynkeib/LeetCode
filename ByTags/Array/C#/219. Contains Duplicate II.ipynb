{
 "cells": [
  {
   "cell_type": "code",
   "execution_count": 1,
   "metadata": {
    "ExecuteTime": {
     "end_time": "2020-04-24T03:14:57.0952240Z",
     "start_time": "2020-04-24T03:14:55.518Z"
    }
   },
   "outputs": [],
   "source": [
    "public class Solution {\n",
    "    public bool ContainsNearbyDuplicate(int[] nums, int k) {\n",
    "        var position = new Dictionary<int, int>();\n",
    "        for (int index = 0; index < nums.Length; index++)\n",
    "        {\n",
    "            if(!position.ContainsKey(nums[index])){\n",
    "                position[nums[index]] = index;\n",
    "            }else{\n",
    "                var pos = position[nums[index]];\n",
    "                if(index - pos <= k){\n",
    "                    return true;\n",
    "                }else{\n",
    "                    position[nums[index]] = index;\n",
    "                }\n",
    "            }\n",
    "        }\n",
    "        return false;\n",
    "    }\n",
    "}"
   ]
  },
  {
   "cell_type": "code",
   "execution_count": null,
   "metadata": {},
   "outputs": [],
   "source": []
  }
 ],
 "metadata": {
  "kernelspec": {
   "display_name": ".NET (C#)",
   "language": "C#",
   "name": ".net-csharp"
  },
  "language_info": {
   "file_extension": ".cs",
   "mimetype": "text/x-csharp",
   "name": "C#",
   "pygments_lexer": "csharp",
   "version": "8.0"
  },
  "toc": {
   "base_numbering": 1,
   "nav_menu": {},
   "number_sections": true,
   "sideBar": true,
   "skip_h1_title": false,
   "title_cell": "Table of Contents",
   "title_sidebar": "Contents",
   "toc_cell": false,
   "toc_position": {},
   "toc_section_display": true,
   "toc_window_display": false
  }
 },
 "nbformat": 4,
 "nbformat_minor": 4
}
