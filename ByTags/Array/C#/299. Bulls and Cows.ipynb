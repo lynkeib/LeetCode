{
 "cells": [
  {
   "cell_type": "code",
   "execution_count": 1,
   "metadata": {
    "ExecuteTime": {
     "end_time": "2020-05-04T04:34:51.7682840Z",
     "start_time": "2020-05-04T04:34:50.682Z"
    }
   },
   "outputs": [],
   "source": [
    "public class Solution {\n",
    "    public string GetHint(string secret, string guess) {\n",
    "        var len = secret.Length;\n",
    "        \n",
    "        var counter = new int[10];\n",
    "        foreach(var c in secret){\n",
    "            counter[c - '0']++;\n",
    "        }\n",
    "        \n",
    "        var bulls = 0;\n",
    "        var cows = 0;\n",
    "        \n",
    "        for(int index = 0; index < len; index++){\n",
    "            if(secret[index] == guess[index]){\n",
    "                bulls++;\n",
    "                counter[secret[index] - '0']--;\n",
    "            }\n",
    "        }\n",
    "        for(int index = 0; index < len; index++){\n",
    "            if(secret[index] != guess[index]){\n",
    "                if(counter[guess[index] - '0'] != 0){\n",
    "                    cows++;\n",
    "                    counter[guess[index] - '0']--;\n",
    "                }\n",
    "            }\n",
    "        }\n",
    "        return $\"{bulls}A{cows}B\";\n",
    "    }\n",
    "}"
   ]
  },
  {
   "cell_type": "code",
   "execution_count": null,
   "metadata": {},
   "outputs": [],
   "source": []
  }
 ],
 "metadata": {
  "kernelspec": {
   "display_name": ".NET (C#)",
   "language": "C#",
   "name": ".net-csharp"
  },
  "language_info": {
   "file_extension": ".cs",
   "mimetype": "text/x-csharp",
   "name": "C#",
   "pygments_lexer": "csharp",
   "version": "8.0"
  },
  "toc": {
   "base_numbering": 1,
   "nav_menu": {},
   "number_sections": true,
   "sideBar": true,
   "skip_h1_title": false,
   "title_cell": "Table of Contents",
   "title_sidebar": "Contents",
   "toc_cell": false,
   "toc_position": {},
   "toc_section_display": true,
   "toc_window_display": false
  }
 },
 "nbformat": 4,
 "nbformat_minor": 4
}
