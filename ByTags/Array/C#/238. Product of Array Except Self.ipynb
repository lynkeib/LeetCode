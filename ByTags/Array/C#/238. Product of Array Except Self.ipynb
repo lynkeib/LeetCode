{
 "cells": [
  {
   "cell_type": "code",
   "execution_count": 1,
   "metadata": {
    "ExecuteTime": {
     "end_time": "2020-04-15T16:25:47.9395890Z",
     "start_time": "2020-04-15T16:25:47.002Z"
    }
   },
   "outputs": [],
   "source": [
    "public class Solution {\n",
    "    public int[] ProductExceptSelf(int[] nums) {\n",
    "        var left = new int[nums.Length];\n",
    "        var right = new int[nums.Length];\n",
    "        left[0] = 1;\n",
    "        right[nums.Length - 1] = 1;\n",
    "        for (int index = 1; index < nums.Length; index++)\n",
    "        {\n",
    "            left[index] = nums[index - 1] * left[index - 1];\n",
    "        }\n",
    "        for (int index = nums.Length - 2; index >= 0; index--)\n",
    "        {\n",
    "            right[index] = nums[index + 1] * right[index + 1];\n",
    "        }\n",
    "        for (int index = 0; index < nums.Length; index++)\n",
    "        {\n",
    "            nums[index] = left[index] * right[index];\n",
    "        }\n",
    "        return nums;\n",
    "    }\n",
    "}"
   ]
  },
  {
   "cell_type": "code",
   "execution_count": 2,
   "metadata": {
    "ExecuteTime": {
     "end_time": "2020-04-15T16:30:57.4013830Z",
     "start_time": "2020-04-15T16:30:57.338Z"
    }
   },
   "outputs": [],
   "source": [
    "public class Solution {\n",
    "    public int[] ProductExceptSelf(int[] nums) {\n",
    "        var res = new int[nums.Length];\n",
    "        res[0] = 1;\n",
    "        for (int index = 1; index < nums.Length; index++)\n",
    "        {\n",
    "            res[index] = res[index - 1] * nums[index - 1];\n",
    "        }\n",
    "        var keeper = 1;\n",
    "        for (int index = nums.Length - 2; index >= 0; index--)\n",
    "        {\n",
    "            keeper *= nums[index + 1];\n",
    "            res[index] *= keeper;\n",
    "        }\n",
    "        return res;\n",
    "    }\n",
    "}"
   ]
  },
  {
   "cell_type": "code",
   "execution_count": null,
   "metadata": {},
   "outputs": [],
   "source": []
  }
 ],
 "metadata": {
  "kernelspec": {
   "display_name": ".NET (C#)",
   "language": "C#",
   "name": ".net-csharp"
  },
  "language_info": {
   "file_extension": ".cs",
   "mimetype": "text/x-csharp",
   "name": "C#",
   "pygments_lexer": "csharp",
   "version": "8.0"
  },
  "toc": {
   "base_numbering": 1,
   "nav_menu": {},
   "number_sections": true,
   "sideBar": true,
   "skip_h1_title": false,
   "title_cell": "Table of Contents",
   "title_sidebar": "Contents",
   "toc_cell": false,
   "toc_position": {},
   "toc_section_display": true,
   "toc_window_display": false
  }
 },
 "nbformat": 4,
 "nbformat_minor": 4
}
