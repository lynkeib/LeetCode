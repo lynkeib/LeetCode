{
 "cells": [
  {
   "cell_type": "code",
   "execution_count": 1,
   "metadata": {
    "ExecuteTime": {
     "end_time": "2020-04-30T05:41:27.2393820Z",
     "start_time": "2020-04-30T05:41:26.346Z"
    }
   },
   "outputs": [],
   "source": [
    "public class Solution {\n",
    "    public int HIndex(int[] citations) {\n",
    "        if(citations.Length == 0){\n",
    "            return 0;\n",
    "        }\n",
    "        if(citations[citations.Length - 1] == 0){\n",
    "            return 0;\n",
    "        }\n",
    "        int left = 0, right = citations.Length - 1;\n",
    "        while(left <= right){\n",
    "            int mid = left + (right - left) / 2;\n",
    "            if(citations[mid] == citations.Length - mid){\n",
    "                return citations[mid];\n",
    "            }\n",
    "            if(citations[mid] >= citations.Length - mid){\n",
    "                right = mid - 1;\n",
    "            }else{\n",
    "                left = mid + 1;\n",
    "            }\n",
    "        }\n",
    "        return citations.Length - left;\n",
    "    }\n",
    "}"
   ]
  },
  {
   "cell_type": "code",
   "execution_count": null,
   "metadata": {},
   "outputs": [],
   "source": []
  }
 ],
 "metadata": {
  "kernelspec": {
   "display_name": ".NET (C#)",
   "language": "C#",
   "name": ".net-csharp"
  },
  "language_info": {
   "file_extension": ".cs",
   "mimetype": "text/x-csharp",
   "name": "C#",
   "pygments_lexer": "csharp",
   "version": "8.0"
  },
  "toc": {
   "base_numbering": 1,
   "nav_menu": {},
   "number_sections": true,
   "sideBar": true,
   "skip_h1_title": false,
   "title_cell": "Table of Contents",
   "title_sidebar": "Contents",
   "toc_cell": false,
   "toc_position": {},
   "toc_section_display": true,
   "toc_window_display": false
  }
 },
 "nbformat": 4,
 "nbformat_minor": 4
}
