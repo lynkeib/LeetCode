{
 "cells": [
  {
   "cell_type": "code",
   "execution_count": 1,
   "metadata": {
    "ExecuteTime": {
     "end_time": "2020-03-29T03:55:30.4209950Z",
     "start_time": "2020-03-29T03:55:29.471Z"
    }
   },
   "outputs": [],
   "source": [
    "public class Solution {\n",
    "    public int Jump(int[] nums) {\n",
    "        int counter = 0;\n",
    "        int index = 0;\n",
    "        while(index < nums.Length - 1){\n",
    "            int max_reach = 0;\n",
    "            int max_index = index;\n",
    "            for(int step = 1; step <= nums[index]; step++){\n",
    "                if(index + step >= nums.Length - 1){\n",
    "                    return counter + 1;\n",
    "                }\n",
    "                if(nums[index + step] + index + step > max_reach){\n",
    "                    max_reach = nums[index + step] + index + step;\n",
    "                    max_index = index + step;\n",
    "                }\n",
    "            }\n",
    "            counter += 1;\n",
    "            if(max_index >= nums.Length ){\n",
    "                index = nums.Length - 1;\n",
    "            }else{\n",
    "                index = max_index;\n",
    "            }\n",
    "        }\n",
    "        return counter;\n",
    "    }\n",
    "}"
   ]
  },
  {
   "cell_type": "code",
   "execution_count": null,
   "metadata": {},
   "outputs": [],
   "source": []
  }
 ],
 "metadata": {
  "kernelspec": {
   "display_name": ".NET (C#)",
   "language": "C#",
   "name": ".net-csharp"
  },
  "language_info": {
   "file_extension": ".cs",
   "mimetype": "text/x-csharp",
   "name": "C#",
   "pygments_lexer": "csharp",
   "version": "8.0"
  },
  "toc": {
   "base_numbering": 1,
   "nav_menu": {},
   "number_sections": true,
   "sideBar": true,
   "skip_h1_title": false,
   "title_cell": "Table of Contents",
   "title_sidebar": "Contents",
   "toc_cell": false,
   "toc_position": {},
   "toc_section_display": true,
   "toc_window_display": false
  }
 },
 "nbformat": 4,
 "nbformat_minor": 4
}
