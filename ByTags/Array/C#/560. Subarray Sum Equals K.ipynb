{
 "cells": [
  {
   "cell_type": "code",
   "execution_count": 1,
   "metadata": {},
   "outputs": [],
   "source": [
    "public class Solution {\n",
    "    public int SubarraySum (int[] nums, int k) {\n",
    "        Dictionary<int, int> position = new Dictionary<int, int> ();\n",
    "        int counter = 0;\n",
    "        int sum = 0;\n",
    "        // position[0] = 1;\n",
    "        for (int i = 0; i < nums.Length; i++) {\n",
    "            sum += nums[i];\n",
    "            if(!position.ContainsKey(sum)){\n",
    "                position[sum] = 0;\n",
    "            }\n",
    "            if(sum == k){\n",
    "                counter += 1;\n",
    "            }\n",
    "            int target = sum - k;\n",
    "            if(position.ContainsKey(target)){\n",
    "                counter += position[target];\n",
    "            }\n",
    "            position[sum] += 1;\n",
    "        }\n",
    "        return counter;\n",
    "    }\n",
    "}"
   ]
  },
  {
   "cell_type": "code",
   "execution_count": 1,
   "metadata": {
    "ExecuteTime": {
     "end_time": "2020-04-22T23:57:23.4116320Z",
     "start_time": "2020-04-22T23:57:22.392Z"
    }
   },
   "outputs": [],
   "source": [
    "public class Solution {\n",
    "    public int MinSubArrayLen(int s, int[] nums) {\n",
    "        int slow = 0;\n",
    "        int sum = 0;\n",
    "        int res = int.MaxValue;\n",
    "        for(int fast = 0; fast < nums.Length; fast++){\n",
    "            sum += nums[fast];\n",
    "            while(slow + 1 <= fast && sum - nums[slow] >= s){\n",
    "                sum -= nums[slow];\n",
    "                slow++;\n",
    "            }\n",
    "            // Console.WriteLine(sum);\n",
    "            if(sum >= s){\n",
    "                res = Math.Min(res, fast - slow + 1);\n",
    "            }\n",
    "        }\n",
    "        return res == int.MaxValue ? 0 : res;\n",
    "    }\n",
    "}"
   ]
  },
  {
   "cell_type": "code",
   "execution_count": null,
   "metadata": {},
   "outputs": [],
   "source": []
  }
 ],
 "metadata": {
  "kernelspec": {
   "display_name": ".NET (C#)",
   "language": "C#",
   "name": ".net-csharp"
  },
  "language_info": {
   "file_extension": ".cs",
   "mimetype": "text/x-csharp",
   "name": "C#",
   "pygments_lexer": "csharp",
   "version": "8.0"
  },
  "toc": {
   "base_numbering": 1,
   "nav_menu": {},
   "number_sections": true,
   "sideBar": true,
   "skip_h1_title": false,
   "title_cell": "Table of Contents",
   "title_sidebar": "Contents",
   "toc_cell": false,
   "toc_position": {},
   "toc_section_display": true,
   "toc_window_display": false
  }
 },
 "nbformat": 4,
 "nbformat_minor": 4
}
