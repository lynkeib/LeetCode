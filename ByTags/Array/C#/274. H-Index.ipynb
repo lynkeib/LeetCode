{
 "cells": [
  {
   "cell_type": "markdown",
   "metadata": {},
   "source": [
    "# Sort"
   ]
  },
  {
   "cell_type": "code",
   "execution_count": 1,
   "metadata": {
    "ExecuteTime": {
     "end_time": "2020-04-30T05:15:16.5334890Z",
     "start_time": "2020-04-30T05:15:15.381Z"
    }
   },
   "outputs": [],
   "source": [
    "public class Solution {\n",
    "    public int HIndex(int[] citations) {\n",
    "        if(citations.Length == 0){\n",
    "            return 0;\n",
    "        }\n",
    "        Array.Sort<int>(citations, new Comparison<int>((i1, i2) => i2.CompareTo(i1)));\n",
    "        if(citations[0] == 0){\n",
    "            return 0;\n",
    "        }\n",
    "        int res = 1;\n",
    "        for(int h = 0; h < citations.Length - 1; h++){\n",
    "            if(h + 1 <= citations[h] && h + 1 >= citations[h + 1]){\n",
    "                res = h + 1;\n",
    "            }\n",
    "        }\n",
    "        var last = citations.Length - 1;\n",
    "        if(citations[last] >= last + 1){\n",
    "            res = last + 1;\n",
    "        }\n",
    "        return res;\n",
    "    }\n",
    "}"
   ]
  },
  {
   "cell_type": "code",
   "execution_count": 2,
   "metadata": {
    "ExecuteTime": {
     "end_time": "2020-04-30T05:20:46.8393530Z",
     "start_time": "2020-04-30T05:20:46.783Z"
    }
   },
   "outputs": [],
   "source": [
    "public class Solution {\n",
    "    public int HIndex(int[] citations) {\n",
    "        Array.Sort<int>(citations, new Comparison<int>((i1, i2) => i2.CompareTo(i1)));\n",
    "        var i = 0;\n",
    "        while(i < citations.Length && i < citations[i]){\n",
    "            i++;\n",
    "        }\n",
    "        return i;\n",
    "    }\n",
    "}"
   ]
  },
  {
   "cell_type": "markdown",
   "metadata": {},
   "source": [
    "# Count sort"
   ]
  },
  {
   "cell_type": "code",
   "execution_count": 3,
   "metadata": {
    "ExecuteTime": {
     "end_time": "2020-04-30T05:29:09.1311910Z",
     "start_time": "2020-04-30T05:29:08.980Z"
    }
   },
   "outputs": [],
   "source": [
    "public class Solution {\n",
    "    public int HIndex(int[] citations) {\n",
    "        int k = citations.Length;\n",
    "        var papers = new int[k + 1];\n",
    "        foreach(var c in citations){\n",
    "            papers[Math.Min(c, k)]++;\n",
    "        }\n",
    "        for(int s = papers[k]; k > s; s += papers[k]){\n",
    "            k--;\n",
    "        }\n",
    "        return k;\n",
    "    }\n",
    "}"
   ]
  },
  {
   "cell_type": "code",
   "execution_count": null,
   "metadata": {},
   "outputs": [],
   "source": []
  }
 ],
 "metadata": {
  "kernelspec": {
   "display_name": ".NET (C#)",
   "language": "C#",
   "name": ".net-csharp"
  },
  "language_info": {
   "file_extension": ".cs",
   "mimetype": "text/x-csharp",
   "name": "C#",
   "pygments_lexer": "csharp",
   "version": "8.0"
  },
  "toc": {
   "base_numbering": 1,
   "nav_menu": {},
   "number_sections": true,
   "sideBar": true,
   "skip_h1_title": false,
   "title_cell": "Table of Contents",
   "title_sidebar": "Contents",
   "toc_cell": false,
   "toc_position": {},
   "toc_section_display": true,
   "toc_window_display": false
  }
 },
 "nbformat": 4,
 "nbformat_minor": 4
}
