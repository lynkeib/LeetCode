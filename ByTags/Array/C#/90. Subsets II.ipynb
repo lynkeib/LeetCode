{
 "cells": [
  {
   "cell_type": "code",
   "execution_count": 1,
   "metadata": {},
   "outputs": [],
   "source": [
    "public class Solution {\n",
    "    public IList<IList<int>> SubsetsWithDup (int[] nums) {\n",
    "        Array.Sort(nums);\n",
    "        List<IList<int>> res = new List<IList<int>>();\n",
    "        dfs(0, new List<int>(), nums, res);\n",
    "        return res;\n",
    "    }\n",
    "    public void dfs (int index, List<int> path, int[] nums, List<IList<int>> res) {\n",
    "        res.Add(path.ToList());\n",
    "        for (int i = index; i < nums.Length; i++) {\n",
    "            if(i != index && nums[i] == nums[i - 1]){\n",
    "                continue;\n",
    "            }\n",
    "            path.Add(nums[i]);\n",
    "            dfs(i + 1, path, nums, res);\n",
    "            path.RemoveAt(path.Count - 1);\n",
    "        }\n",
    "    }\n",
    "}"
   ]
  },
  {
   "cell_type": "code",
   "execution_count": null,
   "metadata": {},
   "outputs": [],
   "source": []
  }
 ],
 "metadata": {
  "kernelspec": {
   "display_name": ".NET (C#)",
   "language": "C#",
   "name": ".net-csharp"
  },
  "language_info": {
   "file_extension": ".cs",
   "mimetype": "text/x-csharp",
   "name": "C#",
   "pygments_lexer": "csharp",
   "version": "8.0"
  },
  "toc": {
   "base_numbering": 1,
   "nav_menu": {},
   "number_sections": true,
   "sideBar": true,
   "skip_h1_title": false,
   "title_cell": "Table of Contents",
   "title_sidebar": "Contents",
   "toc_cell": false,
   "toc_position": {},
   "toc_section_display": true,
   "toc_window_display": false
  }
 },
 "nbformat": 4,
 "nbformat_minor": 4
}
