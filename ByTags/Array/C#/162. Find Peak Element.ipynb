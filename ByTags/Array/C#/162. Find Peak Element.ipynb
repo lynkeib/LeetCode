{
 "cells": [
  {
   "cell_type": "code",
   "execution_count": 1,
   "metadata": {
    "ExecuteTime": {
     "end_time": "2020-04-17T04:15:12.6519290Z",
     "start_time": "2020-04-17T04:15:11.652Z"
    }
   },
   "outputs": [],
   "source": [
    "public class Solution {\n",
    "    public int FindPeakElement(int[] nums) {\n",
    "        if(nums.Length == 0){\n",
    "            return -1;\n",
    "        }\n",
    "        if(nums.Length == 1){\n",
    "            return 0;\n",
    "        }\n",
    "        int left = 0, right = nums.Length - 1;\n",
    "        while(left < right){\n",
    "            \n",
    "            int mid = left + (right - left) / 2;\n",
    "            // Console.WriteLine($\"{left}, {right}, {mid}\");\n",
    "            if(mid != nums.Length - 1 && mid != 0 && nums[mid] > nums[mid + 1] && nums[mid] > nums[mid - 1]){\n",
    "                return mid;\n",
    "            }\n",
    "            if(mid != nums.Length - 1 && nums[mid + 1] >= nums[mid]){\n",
    "                left = mid + 1;\n",
    "            }else if(mid == nums.Length - 1 && nums[mid] > nums[mid - 1]){\n",
    "                return mid;\n",
    "            }else if(mid != 0 && nums[mid - 1] >= nums[mid]){\n",
    "                right = mid - 1;\n",
    "            }else if(mid == 0 && nums[mid] > nums[mid + 1]){\n",
    "                return mid;\n",
    "            }\n",
    "        }\n",
    "        return left;\n",
    "    }\n",
    "}"
   ]
  },
  {
   "cell_type": "code",
   "execution_count": 2,
   "metadata": {
    "ExecuteTime": {
     "end_time": "2020-04-17T04:17:03.0728080Z",
     "start_time": "2020-04-17T04:17:03.014Z"
    }
   },
   "outputs": [],
   "source": [
    "public class Solution {\n",
    "    public int FindPeakElement(int[] nums) {\n",
    "        if(nums.Length == 0){\n",
    "            return -1;\n",
    "        }\n",
    "        if(nums.Length == 1){\n",
    "            return 0;\n",
    "        }\n",
    "        int left = 0, right = nums.Length - 1;\n",
    "        while(left < right){\n",
    "            int mid = left + (right - left) / 2;\n",
    "            if(nums[mid] >= nums[mid + 1]){\n",
    "                right = mid;\n",
    "            }else{\n",
    "                left = mid + 1;\n",
    "            }\n",
    "        }\n",
    "        return left;\n",
    "    }\n",
    "}"
   ]
  },
  {
   "cell_type": "code",
   "execution_count": null,
   "metadata": {},
   "outputs": [],
   "source": []
  }
 ],
 "metadata": {
  "kernelspec": {
   "display_name": ".NET (C#)",
   "language": "C#",
   "name": ".net-csharp"
  },
  "language_info": {
   "file_extension": ".cs",
   "mimetype": "text/x-csharp",
   "name": "C#",
   "pygments_lexer": "csharp",
   "version": "8.0"
  },
  "toc": {
   "base_numbering": 1,
   "nav_menu": {},
   "number_sections": true,
   "sideBar": true,
   "skip_h1_title": false,
   "title_cell": "Table of Contents",
   "title_sidebar": "Contents",
   "toc_cell": false,
   "toc_position": {},
   "toc_section_display": true,
   "toc_window_display": false
  }
 },
 "nbformat": 4,
 "nbformat_minor": 4
}
