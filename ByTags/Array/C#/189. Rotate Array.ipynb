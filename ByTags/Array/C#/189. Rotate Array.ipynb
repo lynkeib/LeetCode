{
 "cells": [
  {
   "cell_type": "markdown",
   "metadata": {},
   "source": [
    "# Method 1"
   ]
  },
  {
   "cell_type": "code",
   "execution_count": 1,
   "metadata": {
    "ExecuteTime": {
     "end_time": "2020-04-18T23:25:09.2336230Z",
     "start_time": "2020-04-18T23:25:08.291Z"
    }
   },
   "outputs": [],
   "source": [
    "public class Solution {\n",
    "    public void Rotate(int[] nums, int k) {\n",
    "        var len = nums.Length;\n",
    "        k = k % len;\n",
    "        var counter = 0;\n",
    "        for(int start = 0; counter < len; start++){\n",
    "            int curr = start;\n",
    "            int keeper = nums[start];\n",
    "            do\n",
    "            {\n",
    "                var next = (curr + k) % len;\n",
    "                var temp = nums[next];\n",
    "                nums[next] = keeper;\n",
    "                keeper = temp;\n",
    "                curr = next;\n",
    "                counter++;\n",
    "            } while (curr != start);\n",
    "        }\n",
    "        return;\n",
    "    }\n",
    "}"
   ]
  },
  {
   "cell_type": "markdown",
   "metadata": {},
   "source": [
    "# Method 2"
   ]
  },
  {
   "cell_type": "code",
   "execution_count": 2,
   "metadata": {
    "ExecuteTime": {
     "end_time": "2020-04-18T23:28:28.6361810Z",
     "start_time": "2020-04-18T23:28:28.519Z"
    }
   },
   "outputs": [],
   "source": [
    "public class Solution {\n",
    "    public void Rotate(int[] nums, int k) {\n",
    "        k = k % nums.Length;\n",
    "        reverse(nums, 0, nums.Length - 1);\n",
    "        reverse(nums, 0, k - 1);\n",
    "        reverse(nums, k, nums.Length - 1);\n",
    "        return;\n",
    "    }\n",
    "\n",
    "    public void reverse(int[] nums, int start, int end){\n",
    "        while(start < end){\n",
    "            var temp = nums[start];\n",
    "            nums[start] = nums[end];\n",
    "            nums[end] = temp;\n",
    "            start++;\n",
    "            end--;\n",
    "        }\n",
    "        return;\n",
    "    }a\n",
    "}"
   ]
  },
  {
   "cell_type": "markdown",
   "metadata": {},
   "source": [
    "# Brute Force"
   ]
  },
  {
   "cell_type": "code",
   "execution_count": null,
   "metadata": {},
   "outputs": [],
   "source": []
  }
 ],
 "metadata": {
  "kernelspec": {
   "display_name": ".NET (C#)",
   "language": "C#",
   "name": ".net-csharp"
  },
  "language_info": {
   "file_extension": ".cs",
   "mimetype": "text/x-csharp",
   "name": "C#",
   "pygments_lexer": "csharp",
   "version": "8.0"
  },
  "toc": {
   "base_numbering": 1,
   "nav_menu": {},
   "number_sections": true,
   "sideBar": true,
   "skip_h1_title": false,
   "title_cell": "Table of Contents",
   "title_sidebar": "Contents",
   "toc_cell": false,
   "toc_position": {},
   "toc_section_display": true,
   "toc_window_display": false
  }
 },
 "nbformat": 4,
 "nbformat_minor": 4
}
