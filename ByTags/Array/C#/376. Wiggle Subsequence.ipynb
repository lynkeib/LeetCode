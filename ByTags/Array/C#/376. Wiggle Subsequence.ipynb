{
 "cells": [
  {
   "cell_type": "markdown",
   "metadata": {},
   "source": [
    "# DP (O(N^2))"
   ]
  },
  {
   "cell_type": "code",
   "execution_count": 1,
   "metadata": {
    "ExecuteTime": {
     "end_time": "2020-05-11T02:41:23.9407740Z",
     "start_time": "2020-05-11T02:41:22.820Z"
    }
   },
   "outputs": [],
   "source": [
    "public class Solution {\n",
    "    public int WiggleMaxLength(int[] nums) {\n",
    "        var n = nums.Length;\n",
    "        if(n == 0){\n",
    "            return 0;\n",
    "        }\n",
    "        var positive = new int[n];\n",
    "        var negative = new int[n];\n",
    "        positive[0] = 1;\n",
    "        negative[0] = 1;\n",
    "        var pos = true;\n",
    "        for(int end = 1; end < n; end++){\n",
    "            positive[end] = 1;\n",
    "            negative[end] = 1;\n",
    "            for(int start = 0; start < end; start++){\n",
    "                if(nums[end] > nums[start]){\n",
    "                    positive[end] = Math.Max(positive[end], negative[start] + 1);\n",
    "                }\n",
    "                if(nums[end] < nums[start]){\n",
    "                    negative[end] = Math.Max(negative[end], positive[start] + 1);\n",
    "                }\n",
    "            }\n",
    "        }\n",
    "        return Math.Max(positive[n - 1], negative[n - 1]);\n",
    "    }\n",
    "}"
   ]
  },
  {
   "cell_type": "markdown",
   "metadata": {},
   "source": [
    "# Greedy? (O(N))"
   ]
  },
  {
   "cell_type": "code",
   "execution_count": null,
   "metadata": {},
   "outputs": [],
   "source": [
    "public class Solution {\n",
    "    public int WiggleMaxLength(int[] nums) {\n",
    "        var n = nums.Length;\n",
    "        if(n == 0){\n",
    "            return 0;\n",
    "        }\n",
    "        var positive = 1;\n",
    "        var negative = 1;\n",
    "        for(int end = 1; end < n; end++){\n",
    "            if(nums[end] == nums[end - 1]){\n",
    "                continue;\n",
    "            }else if(nums[end] > nums[end - 1]){\n",
    "                positive = negative + 1;\n",
    "            }else{\n",
    "                negative = positive + 1;\n",
    "            }\n",
    "        }\n",
    "        return Math.Max(positive, negative);\n",
    "    }\n",
    "}"
   ]
  }
 ],
 "metadata": {
  "kernelspec": {
   "display_name": ".NET (C#)",
   "language": "C#",
   "name": ".net-csharp"
  },
  "language_info": {
   "file_extension": ".cs",
   "mimetype": "text/x-csharp",
   "name": "C#",
   "pygments_lexer": "csharp",
   "version": "8.0"
  },
  "toc": {
   "base_numbering": 1,
   "nav_menu": {},
   "number_sections": true,
   "sideBar": true,
   "skip_h1_title": false,
   "title_cell": "Table of Contents",
   "title_sidebar": "Contents",
   "toc_cell": false,
   "toc_position": {},
   "toc_section_display": true,
   "toc_window_display": false
  }
 },
 "nbformat": 4,
 "nbformat_minor": 4
}
