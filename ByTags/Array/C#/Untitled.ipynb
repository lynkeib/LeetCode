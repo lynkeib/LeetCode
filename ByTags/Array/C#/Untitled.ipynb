{
 "cells": [
  {
   "cell_type": "markdown",
   "metadata": {},
   "source": [
    "# Slow"
   ]
  },
  {
   "cell_type": "code",
   "execution_count": 1,
   "metadata": {
    "ExecuteTime": {
     "end_time": "2020-03-30T05:25:40.8674950Z",
     "start_time": "2020-03-30T05:25:39.092Z"
    }
   },
   "outputs": [],
   "source": [
    "public class Solution {\n",
    "    public int MinMeetingRooms(int[][] intervals) {\n",
    "        var sorted = intervals.OrderBy(x => x[0]);\n",
    "        var start = new List<int[]>();\n",
    "        var end = new List<int[]>();\n",
    "        foreach (var item in sorted)\n",
    "        {\n",
    "            start.Add(new int[]{item[0], 1});\n",
    "            end.Add(new int[]{item[1], -1});\n",
    "        }\n",
    "        start.AddRange(end);\n",
    "        var sort2 = start.OrderBy(x=>x[0]).ThenBy(x=>x[1]);\n",
    "        int counter = 0;\n",
    "        int res = 0;\n",
    "        foreach (var item in sort2)\n",
    "        {\n",
    "            counter += item[1];\n",
    "            res = Math.Max(res, counter);\n",
    "        }\n",
    "        return res;\n",
    "    }\n",
    "}"
   ]
  },
  {
   "cell_type": "markdown",
   "metadata": {},
   "source": [
    "# Faster"
   ]
  },
  {
   "cell_type": "code",
   "execution_count": 2,
   "metadata": {
    "ExecuteTime": {
     "end_time": "2020-03-30T05:30:50.8877810Z",
     "start_time": "2020-03-30T05:30:50.677Z"
    }
   },
   "outputs": [],
   "source": [
    "public class Solution {\n",
    "    public int MinMeetingRooms(int[][] intervals) {\n",
    "        var n = intervals.Length;\n",
    "        var start = new int[n];\n",
    "        var end = new int[n];\n",
    "        for (int i = 0; i < n; i++)\n",
    "        {\n",
    "            start[i] = intervals[i][0];\n",
    "            end[i] = intervals[i][1];\n",
    "        }\n",
    "        Array.Sort(start);\n",
    "        Array.Sort(end);\n",
    "        int counter = 0;\n",
    "        int endIdx = 0;\n",
    "        for (int i = 0; i < n; i++)\n",
    "        {\n",
    "            if(start[i] < end[endIdx]){\n",
    "                counter++;\n",
    "            }else{\n",
    "                endIdx++;\n",
    "            }\n",
    "        }\n",
    "        return counter;\n",
    "    }\n",
    "}"
   ]
  },
  {
   "cell_type": "code",
   "execution_count": null,
   "metadata": {},
   "outputs": [],
   "source": []
  }
 ],
 "metadata": {
  "kernelspec": {
   "display_name": ".NET (C#)",
   "language": "C#",
   "name": ".net-csharp"
  },
  "language_info": {
   "file_extension": ".cs",
   "mimetype": "text/x-csharp",
   "name": "C#",
   "pygments_lexer": "csharp",
   "version": "8.0"
  },
  "toc": {
   "base_numbering": 1,
   "nav_menu": {},
   "number_sections": true,
   "sideBar": true,
   "skip_h1_title": false,
   "title_cell": "Table of Contents",
   "title_sidebar": "Contents",
   "toc_cell": false,
   "toc_position": {},
   "toc_section_display": true,
   "toc_window_display": false
  }
 },
 "nbformat": 4,
 "nbformat_minor": 4
}
