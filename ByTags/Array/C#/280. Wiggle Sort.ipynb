{
 "cells": [
  {
   "cell_type": "code",
   "execution_count": 1,
   "metadata": {
    "ExecuteTime": {
     "end_time": "2020-05-01T05:27:50.7956640Z",
     "start_time": "2020-05-01T05:27:49.833Z"
    }
   },
   "outputs": [],
   "source": [
    "public class Solution {\n",
    "    public void WiggleSort(int[] nums) {\n",
    "        bool bigger = true;\n",
    "        for(int i = 0; i < nums.Length - 1; i++){\n",
    "            if(bigger){\n",
    "                if(nums[i] > nums[i + 1]){\n",
    "                    var temp = nums[i];\n",
    "                    nums[i] = nums[i + 1];\n",
    "                    nums[i + 1] = temp;\n",
    "                }\n",
    "                bigger = false;\n",
    "            }else{\n",
    "                if(nums[i] < nums[i + 1]){\n",
    "                    var temp = nums[i];\n",
    "                    nums[i] = nums[i + 1];\n",
    "                    nums[i + 1] = temp;\n",
    "                }\n",
    "                bigger = true;\n",
    "            }\n",
    "        }\n",
    "        return;\n",
    "    }\n",
    "}"
   ]
  },
  {
   "cell_type": "code",
   "execution_count": null,
   "metadata": {},
   "outputs": [],
   "source": []
  }
 ],
 "metadata": {
  "kernelspec": {
   "display_name": ".NET (C#)",
   "language": "C#",
   "name": ".net-csharp"
  },
  "language_info": {
   "file_extension": ".cs",
   "mimetype": "text/x-csharp",
   "name": "C#",
   "pygments_lexer": "csharp",
   "version": "8.0"
  },
  "toc": {
   "base_numbering": 1,
   "nav_menu": {},
   "number_sections": true,
   "sideBar": true,
   "skip_h1_title": false,
   "title_cell": "Table of Contents",
   "title_sidebar": "Contents",
   "toc_cell": false,
   "toc_position": {},
   "toc_section_display": true,
   "toc_window_display": false
  }
 },
 "nbformat": 4,
 "nbformat_minor": 4
}
