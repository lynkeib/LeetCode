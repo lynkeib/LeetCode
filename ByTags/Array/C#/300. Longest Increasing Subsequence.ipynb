{
 "cells": [
  {
   "cell_type": "code",
   "execution_count": 1,
   "metadata": {
    "ExecuteTime": {
     "end_time": "2020-05-05T03:51:37.6417010Z",
     "start_time": "2020-05-05T03:51:36.568Z"
    }
   },
   "outputs": [],
   "source": [
    "public class Solution {\n",
    "    public int LengthOfLIS(int[] nums) {\n",
    "        var n = nums.Length;\n",
    "        if(n == 0){\n",
    "            return 0;\n",
    "        }\n",
    "        var res = 1;\n",
    "        var dp = new int[n];\n",
    "        for(int i = 0; i < n; i++) dp[i] = 1;\n",
    "        for(int start = 0; start < n; start++){\n",
    "            for(int compare = 0; compare < start; compare++){\n",
    "                if(nums[start] > nums[compare]){\n",
    "                    dp[start] = Math.Max(dp[start], dp[compare] + 1);\n",
    "                    res = Math.Max(res, dp[start]);\n",
    "                }\n",
    "            }\n",
    "        }\n",
    "        return res;\n",
    "    }\n",
    "}"
   ]
  },
  {
   "cell_type": "code",
   "execution_count": null,
   "metadata": {},
   "outputs": [],
   "source": []
  }
 ],
 "metadata": {
  "kernelspec": {
   "display_name": ".NET (C#)",
   "language": "C#",
   "name": ".net-csharp"
  },
  "language_info": {
   "file_extension": ".cs",
   "mimetype": "text/x-csharp",
   "name": "C#",
   "pygments_lexer": "csharp",
   "version": "8.0"
  },
  "toc": {
   "base_numbering": 1,
   "nav_menu": {},
   "number_sections": true,
   "sideBar": true,
   "skip_h1_title": false,
   "title_cell": "Table of Contents",
   "title_sidebar": "Contents",
   "toc_cell": false,
   "toc_position": {},
   "toc_section_display": true,
   "toc_window_display": false
  }
 },
 "nbformat": 4,
 "nbformat_minor": 4
}
