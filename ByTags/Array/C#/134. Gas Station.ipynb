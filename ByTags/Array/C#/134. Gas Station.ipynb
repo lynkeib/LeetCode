{
 "cells": [
  {
   "cell_type": "markdown",
   "metadata": {},
   "source": [
    "# O(N^2)"
   ]
  },
  {
   "cell_type": "code",
   "execution_count": 1,
   "metadata": {
    "ExecuteTime": {
     "end_time": "2020-04-11T22:34:08.5592500Z",
     "start_time": "2020-04-11T22:34:07.535Z"
    }
   },
   "outputs": [],
   "source": [
    "public class Solution {\n",
    "    public int CanCompleteCircuit (int[] gas, int[] cost) {\n",
    "        bool res = false;\n",
    "        var l = gas.Length;\n",
    "        for (int index = 0; index < l; index++) {\n",
    "            var curr = 0;\n",
    "            for (int j = index; j < index + l; j++)\n",
    "            {\n",
    "                var curr_index = j % l;\n",
    "                curr = curr + gas[curr_index] - cost[curr_index];\n",
    "                if(curr < 0){\n",
    "                    break;\n",
    "                }\n",
    "            }\n",
    "            if(curr >= 0){\n",
    "                return index;\n",
    "            }\n",
    "        }\n",
    "        return -1;\n",
    "    }\n",
    "}"
   ]
  },
  {
   "cell_type": "markdown",
   "metadata": {},
   "source": [
    "# O(N)"
   ]
  },
  {
   "cell_type": "code",
   "execution_count": 2,
   "metadata": {
    "ExecuteTime": {
     "end_time": "2020-04-11T22:40:33.9666370Z",
     "start_time": "2020-04-11T22:40:33.907Z"
    }
   },
   "outputs": [],
   "source": [
    "public class Solution {\n",
    "    public int CanCompleteCircuit (int[] gas, int[] cost) {\n",
    "        var total = 0;\n",
    "        var curr = 0;\n",
    "        var start = 0;\n",
    "        for (int index = 0; index < gas.Length; index++) {\n",
    "            total = total + gas[index] - cost[index];\n",
    "            curr = curr + gas[index] - cost[index];\n",
    "            if(curr < 0){\n",
    "                start = index + 1;\n",
    "                curr = 0 ;\n",
    "            }\n",
    "        }\n",
    "        return total >= 0? start : -1;\n",
    "    }\n",
    "}"
   ]
  },
  {
   "cell_type": "code",
   "execution_count": null,
   "metadata": {},
   "outputs": [],
   "source": []
  }
 ],
 "metadata": {
  "kernelspec": {
   "display_name": ".NET (C#)",
   "language": "C#",
   "name": ".net-csharp"
  },
  "language_info": {
   "file_extension": ".cs",
   "mimetype": "text/x-csharp",
   "name": "C#",
   "pygments_lexer": "csharp",
   "version": "8.0"
  },
  "toc": {
   "base_numbering": 1,
   "nav_menu": {},
   "number_sections": true,
   "sideBar": true,
   "skip_h1_title": false,
   "title_cell": "Table of Contents",
   "title_sidebar": "Contents",
   "toc_cell": false,
   "toc_position": {},
   "toc_section_display": true,
   "toc_window_display": false
  }
 },
 "nbformat": 4,
 "nbformat_minor": 4
}
