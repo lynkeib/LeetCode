{
 "cells": [
  {
   "cell_type": "code",
   "execution_count": 1,
   "metadata": {
    "ExecuteTime": {
     "end_time": "2020-04-25T17:21:48.9601270Z",
     "start_time": "2020-04-25T17:21:47.808Z"
    }
   },
   "outputs": [],
   "source": [
    "public class WordDistance {\n",
    "\n",
    "    Dictionary<string, List<int>> pos;\n",
    "    int length;\n",
    "\n",
    "    public WordDistance(string[] words) {\n",
    "        pos = new Dictionary<string, List<int>>();\n",
    "        for (int i = 0; i < words.Length; i++)\n",
    "        {\n",
    "            var word = words[i];\n",
    "            if(!pos.ContainsKey(word)){\n",
    "                pos[word] = new List<int>();\n",
    "            }\n",
    "            pos[word].Add(i);\n",
    "        }\n",
    "        length = words.Length;\n",
    "    }\n",
    "    \n",
    "    public int Shortest(string word1, string word2) {\n",
    "        return smallestDist(pos[word1], pos[word2]);\n",
    "    }\n",
    "\n",
    "    public int smallestDist(List<int> l1, List<int> l2){\n",
    "        var res = length;\n",
    "        int index1 = 0, index2 = 0;\n",
    "        while(index1 < l1.Count && index2 < l2.Count){\n",
    "            res = Math.Min(res, Math.Abs(l1[index1] - l2[index2]));\n",
    "            if(l1[index1] > l2[index2]){\n",
    "                index2++;\n",
    "            }else{\n",
    "                index1++;\n",
    "            }\n",
    "        }\n",
    "        return res;\n",
    "    }\n",
    "\n",
    "}\n",
    "\n",
    "/**\n",
    " * Your WordDistance object will be instantiated and called as such:\n",
    " * WordDistance obj = new WordDistance(words);\n",
    " * int param_1 = obj.Shortest(word1,word2);\n",
    " */"
   ]
  },
  {
   "cell_type": "code",
   "execution_count": null,
   "metadata": {},
   "outputs": [],
   "source": []
  }
 ],
 "metadata": {
  "kernelspec": {
   "display_name": ".NET (C#)",
   "language": "C#",
   "name": ".net-csharp"
  },
  "language_info": {
   "file_extension": ".cs",
   "mimetype": "text/x-csharp",
   "name": "C#",
   "pygments_lexer": "csharp",
   "version": "8.0"
  },
  "toc": {
   "base_numbering": 1,
   "nav_menu": {},
   "number_sections": true,
   "sideBar": true,
   "skip_h1_title": false,
   "title_cell": "Table of Contents",
   "title_sidebar": "Contents",
   "toc_cell": false,
   "toc_position": {},
   "toc_section_display": true,
   "toc_window_display": false
  }
 },
 "nbformat": 4,
 "nbformat_minor": 4
}
