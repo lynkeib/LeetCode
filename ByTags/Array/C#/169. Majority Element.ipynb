{
 "cells": [
  {
   "cell_type": "code",
   "execution_count": 1,
   "metadata": {
    "ExecuteTime": {
     "end_time": "2020-05-07T04:33:18.1283680Z",
     "start_time": "2020-05-07T04:33:17.203Z"
    }
   },
   "outputs": [],
   "source": [
    "public class Solution {\n",
    "    public int MajorityElement(int[] nums) {\n",
    "        int counter = 1;\n",
    "        int res = nums[0];\n",
    "        for(int index = 1; index < nums.Length; index++){\n",
    "            if(nums[index] == res){\n",
    "                counter++;\n",
    "            }else{\n",
    "                counter--;\n",
    "                if(counter < 0){\n",
    "                    res = nums[index];\n",
    "                    counter = 1;\n",
    "                }\n",
    "            }\n",
    "        }\n",
    "        return res;\n",
    "    }\n",
    "}"
   ]
  },
  {
   "cell_type": "code",
   "execution_count": null,
   "metadata": {},
   "outputs": [],
   "source": []
  }
 ],
 "metadata": {
  "kernelspec": {
   "display_name": ".NET (C#)",
   "language": "C#",
   "name": ".net-csharp"
  },
  "language_info": {
   "file_extension": ".cs",
   "mimetype": "text/x-csharp",
   "name": "C#",
   "pygments_lexer": "csharp",
   "version": "8.0"
  },
  "toc": {
   "base_numbering": 1,
   "nav_menu": {},
   "number_sections": true,
   "sideBar": true,
   "skip_h1_title": false,
   "title_cell": "Table of Contents",
   "title_sidebar": "Contents",
   "toc_cell": false,
   "toc_position": {},
   "toc_section_display": true,
   "toc_window_display": false
  }
 },
 "nbformat": 4,
 "nbformat_minor": 4
}
