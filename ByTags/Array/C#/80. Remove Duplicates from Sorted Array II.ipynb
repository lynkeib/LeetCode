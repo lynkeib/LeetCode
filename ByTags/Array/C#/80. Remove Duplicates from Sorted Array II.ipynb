{
 "cells": [
  {
   "cell_type": "code",
   "execution_count": 1,
   "metadata": {
    "ExecuteTime": {
     "end_time": "2020-04-05T05:16:19.3412870Z",
     "start_time": "2020-04-05T05:16:16.258Z"
    }
   },
   "outputs": [],
   "source": [
    "public class Solution {\n",
    "    public int RemoveDuplicates(int[] nums) {\n",
    "        int slow = 0, fast = 0;\n",
    "        while(fast < nums.Length){\n",
    "            int counter = 0;\n",
    "            int curr = nums[fast];\n",
    "            while(fast < nums.Length && nums[fast] == curr && counter < 2){\n",
    "                var temp = nums[slow];\n",
    "                nums[slow] = nums[fast];\n",
    "                slow++;\n",
    "                fast++;\n",
    "                counter++;\n",
    "            }\n",
    "            while(fast < nums.Length && nums[fast] == curr){\n",
    "                fast++;\n",
    "            }\n",
    "        }\n",
    "        return slow;\n",
    "    }\n",
    "}"
   ]
  },
  {
   "cell_type": "code",
   "execution_count": null,
   "metadata": {},
   "outputs": [],
   "source": []
  }
 ],
 "metadata": {
  "kernelspec": {
   "display_name": ".NET (C#)",
   "language": "C#",
   "name": ".net-csharp"
  },
  "language_info": {
   "file_extension": ".cs",
   "mimetype": "text/x-csharp",
   "name": "C#",
   "pygments_lexer": "csharp",
   "version": "8.0"
  },
  "toc": {
   "base_numbering": 1,
   "nav_menu": {},
   "number_sections": true,
   "sideBar": true,
   "skip_h1_title": false,
   "title_cell": "Table of Contents",
   "title_sidebar": "Contents",
   "toc_cell": false,
   "toc_position": {},
   "toc_section_display": true,
   "toc_window_display": false
  }
 },
 "nbformat": 4,
 "nbformat_minor": 4
}
