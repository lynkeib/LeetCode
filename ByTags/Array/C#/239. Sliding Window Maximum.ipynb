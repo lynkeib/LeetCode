{
 "cells": [
  {
   "cell_type": "markdown",
   "metadata": {},
   "source": [
    "# Deque"
   ]
  },
  {
   "cell_type": "code",
   "execution_count": 1,
   "metadata": {
    "ExecuteTime": {
     "end_time": "2020-04-05T18:27:48.4068920Z",
     "start_time": "2020-04-05T18:27:45.351Z"
    }
   },
   "outputs": [],
   "source": [
    "public class Solution {\n",
    "    public int[] MaxSlidingWindow (int[] nums, int k) {\n",
    "        var res = new int[nums.Length];\n",
    "        if (nums.Length * k == 0) {\n",
    "            return res;\n",
    "        }\n",
    "        var queue = new List<int> ();\n",
    "        for (int i = 0; i < nums.Length; i++) {\n",
    "            if (queue.Count != 0 && i - queue[0] == k) {\n",
    "                queue.RemoveAt (0);\n",
    "            }\n",
    "            if (queue.Count == 0) {\n",
    "                queue.Add (i);\n",
    "                res[i] = nums[i];\n",
    "            } else if (queue.Count != 0 && nums[queue[0]] < nums[i]) {\n",
    "                queue.Clear ();\n",
    "                queue.Add (i);\n",
    "                res[i] = nums[i];\n",
    "            } else {\n",
    "                while (nums[queue[queue.Count - 1]] < nums[i]) {\n",
    "                    queue.RemoveAt (queue.Count - 1);\n",
    "                }\n",
    "                queue.Add (i);\n",
    "                res[i] = nums[queue[0]];\n",
    "            }\n",
    "        }\n",
    "        res = res.Skip (k - 1).Take (res.Length - k + 1).ToArray ();\n",
    "        return res;\n",
    "    }\n",
    "}"
   ]
  },
  {
   "cell_type": "markdown",
   "metadata": {},
   "source": [
    "# Left and Right"
   ]
  },
  {
   "cell_type": "code",
   "execution_count": 2,
   "metadata": {
    "ExecuteTime": {
     "end_time": "2020-04-05T18:46:26.7412960Z",
     "start_time": "2020-04-05T18:46:26.655Z"
    }
   },
   "outputs": [],
   "source": [
    "public class Solution {\n",
    "    public int[] MaxSlidingWindow (int[] nums, int k) {\n",
    "        var len = nums.Length - k + 1;\n",
    "        if (nums.Length * k == 0 || len <= 0) {\n",
    "            return new int[0];\n",
    "        }\n",
    "        var res = new int[len];\n",
    "        var left = new int[nums.Length];\n",
    "        var right = new int[nums.Length];\n",
    "        left[0] = nums[0];\n",
    "        right[nums.Length - 1] = nums[nums.Length - 1];\n",
    "        for (int i = 1, j = nums.Length - i - 1; i < nums.Length; i++) {\n",
    "            left[i] = i % k == 0 ? nums[i] : Math.Max (nums[i], left[i - 1]);\n",
    "            right[j] = j % k == 0 ? nums[j] : Math.Max (nums[j], right[j + 1]);\n",
    "            j--;\n",
    "        }\n",
    "        for (int i = 0; i < len; i++) {\n",
    "            res[i] = Math.Max(right[i], left[i + k - 1]);\n",
    "        }\n",
    "        return res;\n",
    "    }\n",
    "}"
   ]
  },
  {
   "cell_type": "code",
   "execution_count": null,
   "metadata": {},
   "outputs": [],
   "source": []
  }
 ],
 "metadata": {
  "kernelspec": {
   "display_name": ".NET (C#)",
   "language": "C#",
   "name": ".net-csharp"
  },
  "language_info": {
   "file_extension": ".cs",
   "mimetype": "text/x-csharp",
   "name": "C#",
   "pygments_lexer": "csharp",
   "version": "8.0"
  },
  "toc": {
   "base_numbering": 1,
   "nav_menu": {},
   "number_sections": true,
   "sideBar": true,
   "skip_h1_title": false,
   "title_cell": "Table of Contents",
   "title_sidebar": "Contents",
   "toc_cell": false,
   "toc_position": {},
   "toc_section_display": true,
   "toc_window_display": false
  }
 },
 "nbformat": 4,
 "nbformat_minor": 4
}
