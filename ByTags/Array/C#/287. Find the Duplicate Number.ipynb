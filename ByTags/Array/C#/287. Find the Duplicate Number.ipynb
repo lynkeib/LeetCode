{
 "cells": [
  {
   "cell_type": "code",
   "execution_count": 1,
   "metadata": {
    "ExecuteTime": {
     "end_time": "2020-05-02T05:56:40.4806570Z",
     "start_time": "2020-05-02T05:56:39.249Z"
    }
   },
   "outputs": [],
   "source": [
    "public class Solution {\n",
    "    public int FindDuplicate(int[] nums) {\n",
    "        var slow = nums[0];\n",
    "        var fast = nums[0];\n",
    "        do{\n",
    "            slow = nums[slow];\n",
    "            fast = nums[nums[fast]];\n",
    "        }while(slow != fast);\n",
    "        slow = nums[0];\n",
    "        while(slow != fast){\n",
    "            slow = nums[slow];\n",
    "            fast = nums[fast];\n",
    "        }\n",
    "        return slow;\n",
    "    }\n",
    "}"
   ]
  },
  {
   "cell_type": "code",
   "execution_count": null,
   "metadata": {},
   "outputs": [],
   "source": []
  }
 ],
 "metadata": {
  "kernelspec": {
   "display_name": ".NET (C#)",
   "language": "C#",
   "name": ".net-csharp"
  },
  "language_info": {
   "file_extension": ".cs",
   "mimetype": "text/x-csharp",
   "name": "C#",
   "pygments_lexer": "csharp",
   "version": "8.0"
  },
  "toc": {
   "base_numbering": 1,
   "nav_menu": {},
   "number_sections": true,
   "sideBar": true,
   "skip_h1_title": false,
   "title_cell": "Table of Contents",
   "title_sidebar": "Contents",
   "toc_cell": false,
   "toc_position": {},
   "toc_section_display": true,
   "toc_window_display": false
  }
 },
 "nbformat": 4,
 "nbformat_minor": 4
}
