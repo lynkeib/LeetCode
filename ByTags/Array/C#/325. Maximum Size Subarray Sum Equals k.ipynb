{
 "cells": [
  {
   "cell_type": "code",
   "execution_count": 1,
   "metadata": {},
   "outputs": [],
   "source": [
    "public class Solution {\n",
    "    public int MaxSubArrayLen (int[] nums, int k) {\n",
    "        Dictionary<int, IList<int>> position = new Dictionary<int, IList<int>> ();\n",
    "        int[] numss = new int[nums.Length + 1];\n",
    "        numss[0] = 0;\n",
    "        position[0] = new List<int> ();\n",
    "        position[0].Add (0);\n",
    "        for (int i = 1; i < numss.Length; i++) {\n",
    "            numss[i] += numss[i - 1] + nums[i - 1];\n",
    "            if (!position.ContainsKey (numss[i])) position[numss[i]] = new List<int> ();\n",
    "            position[numss[i]].Add (i);\n",
    "        }\n",
    "        int res = 0;\n",
    "        // foreach (int key in position.Keys) {\n",
    "        //     Console.WriteLine (key);\n",
    "        //     foreach(int value in position[key]) Console.WriteLine(value);\n",
    "        //     Console.WriteLine();\n",
    "        // }\n",
    "        foreach (int key in position.Keys) {\n",
    "            int target = k + key;\n",
    "            if (position.ContainsKey (target)) {\n",
    "                foreach (int index_key in position[key]) {\n",
    "                    foreach (int index_target in position[target]) {\n",
    "                        if (index_target >= index_key) res = Math.Max (res, index_target - index_key);\n",
    "                    }\n",
    "                }\n",
    "            }\n",
    "        }\n",
    "        return res;\n",
    "    }\n",
    "}"
   ]
  },
  {
   "cell_type": "code",
   "execution_count": null,
   "metadata": {},
   "outputs": [],
   "source": []
  }
 ],
 "metadata": {
  "kernelspec": {
   "display_name": ".NET (C#)",
   "language": "C#",
   "name": ".net-csharp"
  },
  "language_info": {
   "file_extension": ".cs",
   "mimetype": "text/x-csharp",
   "name": "C#",
   "pygments_lexer": "csharp",
   "version": "8.0"
  },
  "toc": {
   "base_numbering": 1,
   "nav_menu": {},
   "number_sections": true,
   "sideBar": true,
   "skip_h1_title": false,
   "title_cell": "Table of Contents",
   "title_sidebar": "Contents",
   "toc_cell": false,
   "toc_position": {},
   "toc_section_display": true,
   "toc_window_display": false
  }
 },
 "nbformat": 4,
 "nbformat_minor": 4
}
