{
 "cells": [
  {
   "cell_type": "code",
   "execution_count": 1,
   "metadata": {
    "ExecuteTime": {
     "end_time": "2020-04-23T03:40:21.4300390Z",
     "start_time": "2020-04-23T03:40:20.433Z"
    }
   },
   "outputs": [],
   "source": [
    "public class Solution {\n",
    "    public int LongestConsecutive(int[] nums) {\n",
    "        var lookup = new HashSet<int>();\n",
    "        foreach (var num in nums)\n",
    "        {\n",
    "            lookup.Add(num);\n",
    "        }\n",
    "        int res = 0;\n",
    "        foreach (var num in nums)\n",
    "        {\n",
    "            if(!lookup.Contains(num - 1)){\n",
    "                int len = 1;\n",
    "                int curr = num;\n",
    "                while(lookup.Contains(curr+1)){\n",
    "                    curr++;\n",
    "                    len++;\n",
    "                }\n",
    "                res = Math.Max(res, len);\n",
    "            }\n",
    "        }\n",
    "        return res;\n",
    "    }\n",
    "}"
   ]
  },
  {
   "cell_type": "code",
   "execution_count": null,
   "metadata": {},
   "outputs": [],
   "source": []
  }
 ],
 "metadata": {
  "kernelspec": {
   "display_name": ".NET (C#)",
   "language": "C#",
   "name": ".net-csharp"
  },
  "language_info": {
   "file_extension": ".cs",
   "mimetype": "text/x-csharp",
   "name": "C#",
   "pygments_lexer": "csharp",
   "version": "8.0"
  },
  "toc": {
   "base_numbering": 1,
   "nav_menu": {},
   "number_sections": true,
   "sideBar": true,
   "skip_h1_title": false,
   "title_cell": "Table of Contents",
   "title_sidebar": "Contents",
   "toc_cell": false,
   "toc_position": {},
   "toc_section_display": true,
   "toc_window_display": false
  }
 },
 "nbformat": 4,
 "nbformat_minor": 4
}
