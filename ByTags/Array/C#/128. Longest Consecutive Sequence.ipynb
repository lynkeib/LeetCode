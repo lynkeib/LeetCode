{
 "cells": [
  {
   "cell_type": "code",
   "execution_count": 1,
   "metadata": {
    "ExecuteTime": {
     "end_time": "2020-04-23T03:40:21.4300390Z",
     "start_time": "2020-04-23T03:40:20.433Z"
    }
   },
   "outputs": [],
   "source": [
    "public class Solution {\n",
    "    public int LongestConsecutive(int[] nums) {\n",
    "        var lookup = new HashSet<int>();\n",
    "        foreach (var num in nums)\n",
    "        {\n",
    "            lookup.Add(num);\n",
    "        }\n",
    "        int res = 0;\n",
    "        foreach (var num in nums)\n",
    "        {\n",
    "            if(!lookup.Contains(num - 1)){\n",
    "                int len = 1;\n",
    "                int curr = num;\n",
    "                while(lookup.Contains(curr+1)){\n",
    "                    curr++;\n",
    "                    len++;\n",
    "                }\n",
    "                res = Math.Max(res, len);\n",
    "            }\n",
    "        }\n",
    "        return res;\n",
    "    }\n",
    "}"
   ]
  },
  {
   "cell_type": "code",
   "execution_count": 1,
   "metadata": {
    "ExecuteTime": {
     "end_time": "2020-05-03T04:35:07.8116510Z",
     "start_time": "2020-05-03T04:35:07.148Z"
    }
   },
   "outputs": [],
   "source": [
    "int a = 1;"
   ]
  },
  {
   "cell_type": "code",
   "execution_count": 2,
   "metadata": {
    "ExecuteTime": {
     "end_time": "2020-05-03T04:36:12.1494360Z",
     "start_time": "2020-05-03T04:36:12.036Z"
    }
   },
   "outputs": [
    {
     "data": {
      "text/plain": [
       "1"
      ]
     },
     "execution_count": 2,
     "metadata": {},
     "output_type": "execute_result"
    }
   ],
   "source": [
    "3 & 1"
   ]
  },
  {
   "cell_type": "code",
   "execution_count": 3,
   "metadata": {
    "ExecuteTime": {
     "end_time": "2020-05-03T04:45:55.0566000Z",
     "start_time": "2020-05-03T04:45:54.987Z"
    }
   },
   "outputs": [
    {
     "data": {
      "text/plain": [
       "3"
      ]
     },
     "execution_count": 3,
     "metadata": {},
     "output_type": "execute_result"
    }
   ],
   "source": [
    "a |= 2"
   ]
  },
  {
   "cell_type": "code",
   "execution_count": 5,
   "metadata": {
    "ExecuteTime": {
     "end_time": "2020-05-03T04:46:24.3244940Z",
     "start_time": "2020-05-03T04:46:24.295Z"
    }
   },
   "outputs": [
    {
     "data": {
      "text/plain": [
       "0"
      ]
     },
     "execution_count": 5,
     "metadata": {},
     "output_type": "execute_result"
    }
   ],
   "source": [
    "1 >> 1"
   ]
  },
  {
   "cell_type": "code",
   "execution_count": null,
   "metadata": {},
   "outputs": [],
   "source": []
  }
 ],
 "metadata": {
  "kernelspec": {
   "display_name": ".NET (C#)",
   "language": "C#",
   "name": ".net-csharp"
  },
  "language_info": {
   "file_extension": ".cs",
   "mimetype": "text/x-csharp",
   "name": "C#",
   "pygments_lexer": "csharp",
   "version": "8.0"
  },
  "toc": {
   "base_numbering": 1,
   "nav_menu": {},
   "number_sections": true,
   "sideBar": true,
   "skip_h1_title": false,
   "title_cell": "Table of Contents",
   "title_sidebar": "Contents",
   "toc_cell": false,
   "toc_position": {},
   "toc_section_display": true,
   "toc_window_display": false
  }
 },
 "nbformat": 4,
 "nbformat_minor": 4
}
