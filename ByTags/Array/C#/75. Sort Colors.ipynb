{
 "cells": [
  {
   "cell_type": "code",
   "execution_count": null,
   "metadata": {
    "ExecuteTime": {
     "start_time": "2020-04-04T22:03:52.622Z"
    }
   },
   "outputs": [],
   "source": [
    "public class Solution {\n",
    "    public void SortColors (int[] nums) {\n",
    "        int index0 = 0, index1 = 0, index2 = 0;\n",
    "        while(index2 < nums.Length){\n",
    "            if(nums[index2] == 0){\n",
    "                var temp = nums[index0];\n",
    "                nums[index0] = nums[index2];\n",
    "                nums[index2] = temp;\n",
    "                if(index1 == index0){\n",
    "                    index1++;\n",
    "                }\n",
    "                if(index2 == index0){\n",
    "                    index2++;\n",
    "                }\n",
    "                index0++;\n",
    "            }else if(nums[index2] == 1){\n",
    "                var temp = nums[index1];\n",
    "                nums[index1] = nums[index2];\n",
    "                nums[index2] = temp;\n",
    "                if(index2==index1){\n",
    "                    index2++;\n",
    "                }\n",
    "                index1++;\n",
    "            }else{\n",
    "                index2++;\n",
    "            }\n",
    "        }\n",
    "        return;\n",
    "    }\n",
    "}"
   ]
  },
  {
   "cell_type": "code",
   "execution_count": null,
   "metadata": {},
   "outputs": [],
   "source": []
  }
 ],
 "metadata": {
  "kernelspec": {
   "display_name": ".NET (C#)",
   "language": "C#",
   "name": ".net-csharp"
  },
  "language_info": {
   "file_extension": ".cs",
   "mimetype": "text/x-csharp",
   "name": "C#",
   "pygments_lexer": "csharp",
   "version": "8.0"
  },
  "toc": {
   "base_numbering": 1,
   "nav_menu": {},
   "number_sections": true,
   "sideBar": true,
   "skip_h1_title": false,
   "title_cell": "Table of Contents",
   "title_sidebar": "Contents",
   "toc_cell": false,
   "toc_position": {},
   "toc_section_display": true,
   "toc_window_display": false
  }
 },
 "nbformat": 4,
 "nbformat_minor": 4
}
