{
 "cells": [
  {
   "cell_type": "code",
   "execution_count": 1,
   "metadata": {},
   "outputs": [],
   "source": [
    "public class Solution {\n",
    "    public int MaxProduct(int[] nums) {\n",
    "        if(nums.Length == 0){\n",
    "            return 0;\n",
    "        }\n",
    "        int max = nums[0], min = nums[0], res = nums[0];\n",
    "        for(int index=1; index < nums.Length; index ++){\n",
    "            if(nums[index] < 0){\n",
    "                int temp = max;\n",
    "                max = min;\n",
    "                min = temp;\n",
    "            }\n",
    "            max = Math.Max(nums[index], max*nums[index]);\n",
    "            min = Math.Min(nums[index], min*nums[index]);\n",
    "            res = Math.Max(res, max);\n",
    "        }\n",
    "        return res;\n",
    "    }\n",
    "}"
   ]
  },
  {
   "cell_type": "code",
   "execution_count": null,
   "metadata": {},
   "outputs": [],
   "source": []
  }
 ],
 "metadata": {
  "kernelspec": {
   "display_name": ".NET (C#)",
   "language": "C#",
   "name": ".net-csharp"
  },
  "language_info": {
   "file_extension": ".cs",
   "mimetype": "text/x-csharp",
   "name": "C#",
   "pygments_lexer": "csharp",
   "version": "8.0"
  },
  "toc": {
   "base_numbering": 1,
   "nav_menu": {},
   "number_sections": true,
   "sideBar": true,
   "skip_h1_title": false,
   "title_cell": "Table of Contents",
   "title_sidebar": "Contents",
   "toc_cell": false,
   "toc_position": {},
   "toc_section_display": true,
   "toc_window_display": false
  }
 },
 "nbformat": 4,
 "nbformat_minor": 4
}
