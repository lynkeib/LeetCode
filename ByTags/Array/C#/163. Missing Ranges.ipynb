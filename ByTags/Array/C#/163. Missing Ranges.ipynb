{
 "cells": [
  {
   "cell_type": "code",
   "execution_count": 1,
   "metadata": {
    "ExecuteTime": {
     "end_time": "2020-04-17T04:27:41.6494540Z",
     "start_time": "2020-04-17T04:27:40.452Z"
    }
   },
   "outputs": [],
   "source": [
    "public class Solution {\n",
    "    public IList<string> FindMissingRanges (int[] nums, int lower, int upper) {\n",
    "        var res = new List<string> ();\n",
    "        if (nums.Length == 0) {\n",
    "            if (lower == upper) {\n",
    "                res.Add ($\"{lower}\");\n",
    "            } else {\n",
    "                res.Add ($\"{lower}->{upper}\");\n",
    "            }\n",
    "            return res;\n",
    "        }\n",
    "        var init = nums[0];\n",
    "        if (init != lower) {\n",
    "            if (lower != init - 1) {\n",
    "                res.Add ($\"{lower}->{init - 1}\");\n",
    "            } else {\n",
    "                res.Add ($\"{lower}\");\n",
    "            }\n",
    "        }\n",
    "        for (int i = 1; i < nums.Length; i++) {\n",
    "            if (nums[i] != nums[i - 1] && nums[i] - 1 >= nums[i - 1] + 1) {\n",
    "                if (nums[i - 1] + 1 == nums[i] - 1) {\n",
    "                    res.Add ($\"{nums[i - 1] + 1}\");\n",
    "                } else {\n",
    "                    res.Add ($\"{nums[i - 1] + 1}->{nums[i] - 1}\");\n",
    "                }\n",
    "            }\n",
    "        }\n",
    "        if (nums[nums.Length - 1] != upper) {\n",
    "            if (nums[nums.Length - 1] + 1 == upper) {\n",
    "                res.Add ($\"{upper}\");\n",
    "            } else {\n",
    "                res.Add ($\"{nums[nums.Length - 1] + 1}->{upper}\");\n",
    "            }\n",
    "        }\n",
    "        return res;\n",
    "    }\n",
    "}"
   ]
  },
  {
   "cell_type": "code",
   "execution_count": null,
   "metadata": {},
   "outputs": [],
   "source": []
  }
 ],
 "metadata": {
  "kernelspec": {
   "display_name": ".NET (C#)",
   "language": "C#",
   "name": ".net-csharp"
  },
  "language_info": {
   "file_extension": ".cs",
   "mimetype": "text/x-csharp",
   "name": "C#",
   "pygments_lexer": "csharp",
   "version": "8.0"
  },
  "toc": {
   "base_numbering": 1,
   "nav_menu": {},
   "number_sections": true,
   "sideBar": true,
   "skip_h1_title": false,
   "title_cell": "Table of Contents",
   "title_sidebar": "Contents",
   "toc_cell": false,
   "toc_position": {},
   "toc_section_display": true,
   "toc_window_display": false
  }
 },
 "nbformat": 4,
 "nbformat_minor": 4
}
