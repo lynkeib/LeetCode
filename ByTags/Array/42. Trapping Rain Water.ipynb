{
 "cells": [
  {
   "cell_type": "code",
   "execution_count": 1,
   "metadata": {
    "ExecuteTime": {
     "end_time": "2019-10-18T05:36:55.583231Z",
     "start_time": "2019-10-18T05:36:55.575126Z"
    }
   },
   "outputs": [],
   "source": [
    "class Solution(object):\n",
    "    def trap(self, height):\n",
    "        \"\"\"\n",
    "        :type height: List[int]\n",
    "        :rtype: int\n",
    "        \"\"\"\n",
    "        if not height:\n",
    "            return 0\n",
    "        left_max, right_max = height[0], height[-1]\n",
    "        left, right = 0, len(height) - 1\n",
    "        res = 0\n",
    "        while left <= right:\n",
    "            # print(res, left, right)\n",
    "            if height[left] >= height[right]:\n",
    "                res += max(min(left_max, right_max) - height[right], 0)\n",
    "                right -= 1\n",
    "                right_max = max(right_max, height[right])\n",
    "            else:\n",
    "                res += max(min(left_max, right_max) - height[left], 0)\n",
    "                left += 1\n",
    "                left_max = max(left_max, height[left])\n",
    "            # print(res, left, right)\n",
    "            # print()\n",
    "        return res"
   ]
  },
  {
   "cell_type": "code",
   "execution_count": null,
   "metadata": {},
   "outputs": [],
   "source": []
  }
 ],
 "metadata": {
  "kernelspec": {
   "display_name": "Python 3",
   "language": "python",
   "name": "python3"
  },
  "language_info": {
   "codemirror_mode": {
    "name": "ipython",
    "version": 3
   },
   "file_extension": ".py",
   "mimetype": "text/x-python",
   "name": "python",
   "nbconvert_exporter": "python",
   "pygments_lexer": "ipython3",
   "version": "3.7.1"
  },
  "toc": {
   "base_numbering": 1,
   "nav_menu": {},
   "number_sections": true,
   "sideBar": true,
   "skip_h1_title": false,
   "title_cell": "Table of Contents",
   "title_sidebar": "Contents",
   "toc_cell": false,
   "toc_position": {},
   "toc_section_display": true,
   "toc_window_display": false
  }
 },
 "nbformat": 4,
 "nbformat_minor": 2
}
