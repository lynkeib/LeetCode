{
 "cells": [
  {
   "cell_type": "markdown",
   "metadata": {},
   "source": [
    "# Bucket Sort"
   ]
  },
  {
   "cell_type": "code",
   "execution_count": 2,
   "metadata": {
    "ExecuteTime": {
     "end_time": "2019-10-19T04:33:33.722995Z",
     "start_time": "2019-10-19T04:33:33.711606Z"
    }
   },
   "outputs": [],
   "source": [
    "class Solution(object):\n",
    "    def maximumGap(self, nums):\n",
    "        \"\"\"\n",
    "        :type nums: List[int]\n",
    "        :rtype: int\n",
    "        \"\"\"\n",
    "        if not nums or len(nums) < 2:\n",
    "            return 0\n",
    "        \n",
    "        ## bucket sort\n",
    "        min_value = min(nums)\n",
    "        max_value = max(nums)\n",
    "        \n",
    "        if min_value == max_value:\n",
    "            return 0\n",
    "        \n",
    "        # if we have n numbers, then there should be n - 1 gaps among the numbers\n",
    "        # so the length of each gap is\n",
    "        length = (max_value - min_value) // len(nums) + 1\n",
    "        \n",
    "        # since we have the length of each gap, \n",
    "        # then the number of buckets is\n",
    "        buckets_num = (max_value - min_value) // length + 1\n",
    "        \n",
    "        # print(length, buckets_num)\n",
    "        \n",
    "        ## construct buckets\n",
    "        buckets = [[None, None] for _ in range(buckets_num)]\n",
    "        # print(buckets)\n",
    "        ## allocate numbers\n",
    "        for num in nums:\n",
    "            bucket_index = (num - min_value) // length\n",
    "            # print(num, bucket_index)\n",
    "            buckets[bucket_index][0] = min(buckets[bucket_index][0], num) if buckets[bucket_index][0] else num\n",
    "            buckets[bucket_index][1] = max(buckets[bucket_index][1], num) if buckets[bucket_index][1] else num\n",
    "        \n",
    "        # print(buckets)\n",
    "        \n",
    "        # check distance between each bucket\n",
    "        max_res = 0\n",
    "        index = 1\n",
    "        last_max = buckets[0][1]\n",
    "        while index < len(buckets):\n",
    "            while not buckets[index][0]:\n",
    "                index += 1\n",
    "            # if index == len(buckets):\n",
    "            #     break\n",
    "            max_res = max(max_res, buckets[index][0] - last_max)\n",
    "            last_max = buckets[index][1]\n",
    "            index += 1\n",
    "            \n",
    "        return max_res"
   ]
  },
  {
   "cell_type": "code",
   "execution_count": null,
   "metadata": {},
   "outputs": [],
   "source": []
  }
 ],
 "metadata": {
  "kernelspec": {
   "display_name": "Python 3",
   "language": "python",
   "name": "python3"
  },
  "language_info": {
   "codemirror_mode": {
    "name": "ipython",
    "version": 3
   },
   "file_extension": ".py",
   "mimetype": "text/x-python",
   "name": "python",
   "nbconvert_exporter": "python",
   "pygments_lexer": "ipython3",
   "version": "3.7.1"
  },
  "toc": {
   "base_numbering": 1,
   "nav_menu": {},
   "number_sections": true,
   "sideBar": true,
   "skip_h1_title": false,
   "title_cell": "Table of Contents",
   "title_sidebar": "Contents",
   "toc_cell": false,
   "toc_position": {},
   "toc_section_display": true,
   "toc_window_display": false
  }
 },
 "nbformat": 4,
 "nbformat_minor": 2
}
