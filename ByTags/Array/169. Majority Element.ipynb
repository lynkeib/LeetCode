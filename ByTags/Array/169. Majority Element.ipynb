{
 "cells": [
  {
   "cell_type": "markdown",
   "metadata": {},
   "source": [
    "# HashMap - Time: $O(n)$ Space: $O(n)$"
   ]
  },
  {
   "cell_type": "code",
   "execution_count": 1,
   "metadata": {
    "ExecuteTime": {
     "end_time": "2019-10-12T03:25:35.676460Z",
     "start_time": "2019-10-12T03:25:35.671401Z"
    }
   },
   "outputs": [],
   "source": [
    "class Solution(object):\n",
    "    def majorityElement(self, nums):\n",
    "        \"\"\"\n",
    "        :type nums: List[int]\n",
    "        :rtype: int\n",
    "        \"\"\"\n",
    "        counter = collections.defaultdict(int)\n",
    "        m = nums[0]\n",
    "        for num in nums:\n",
    "            counter[num] += 1\n",
    "            if counter[num] > counter[m]:\n",
    "                m = num\n",
    "        return m"
   ]
  },
  {
   "cell_type": "markdown",
   "metadata": {},
   "source": [
    "# Divide and Conquer - Time: $O(n \\log(n))$ Space: $O(\\log(n))$"
   ]
  },
  {
   "cell_type": "code",
   "execution_count": 3,
   "metadata": {
    "ExecuteTime": {
     "end_time": "2019-10-12T03:44:34.409365Z",
     "start_time": "2019-10-12T03:44:34.401714Z"
    }
   },
   "outputs": [],
   "source": [
    "class Solution(object):\n",
    "    def majorityElement(self, nums):\n",
    "        \"\"\"\n",
    "        :type nums: List[int]\n",
    "        :rtype: int\n",
    "        \"\"\"\n",
    "        return self.divide_conquer(nums, 0, len(nums) - 1)\n",
    "    \n",
    "    def divide_conquer(self, nums, left, right):\n",
    "        # print(left, right)\n",
    "        if left == right:\n",
    "            return nums[left]\n",
    "        \n",
    "        mid = left + (right - left) // 2\n",
    "        left_c = self.divide_conquer(nums, left, mid)\n",
    "        right_c = self.divide_conquer(nums, mid + 1, right)\n",
    "        \n",
    "        if left_c == right_c:\n",
    "            return left_c\n",
    "        \n",
    "        left_count = sum(1 for index in range(left, right + 1) if nums[index] == left_c)\n",
    "        right_count = sum(1 for index in range(left, right + 1) if nums[index] == right_c)\n",
    "        \n",
    "        return left_c if left_count > right_count else right_c"
   ]
  },
  {
   "cell_type": "markdown",
   "metadata": {},
   "source": [
    "# Boyer-Moore Voting Algorithm - Time: $O(n)$ Space: $O(1)$"
   ]
  },
  {
   "cell_type": "code",
   "execution_count": 4,
   "metadata": {
    "ExecuteTime": {
     "end_time": "2019-10-12T03:55:18.573608Z",
     "start_time": "2019-10-12T03:55:18.567637Z"
    }
   },
   "outputs": [],
   "source": [
    "class Solution(object):\n",
    "    def majorityElement(self, nums):\n",
    "        \"\"\"\n",
    "        :type nums: List[int]\n",
    "        :rtype: int\n",
    "        \"\"\"\n",
    "        curr = nums[0]\n",
    "        count = 1\n",
    "        index = 1\n",
    "        while index < len(nums) - 1:\n",
    "            if nums[index] == curr:\n",
    "                count += 1\n",
    "            else:\n",
    "                count -= 1\n",
    "            if count == 0:\n",
    "                curr = nums[index + 1]\n",
    "                count = 1\n",
    "                index += 1\n",
    "            index += 1\n",
    "        return curr"
   ]
  },
  {
   "cell_type": "code",
   "execution_count": null,
   "metadata": {},
   "outputs": [],
   "source": []
  }
 ],
 "metadata": {
  "kernelspec": {
   "display_name": "Python 3",
   "language": "python",
   "name": "python3"
  },
  "language_info": {
   "codemirror_mode": {
    "name": "ipython",
    "version": 3
   },
   "file_extension": ".py",
   "mimetype": "text/x-python",
   "name": "python",
   "nbconvert_exporter": "python",
   "pygments_lexer": "ipython3",
   "version": "3.7.1"
  },
  "toc": {
   "base_numbering": 1,
   "nav_menu": {},
   "number_sections": true,
   "sideBar": true,
   "skip_h1_title": false,
   "title_cell": "Table of Contents",
   "title_sidebar": "Contents",
   "toc_cell": false,
   "toc_position": {},
   "toc_section_display": true,
   "toc_window_display": false
  }
 },
 "nbformat": 4,
 "nbformat_minor": 2
}
