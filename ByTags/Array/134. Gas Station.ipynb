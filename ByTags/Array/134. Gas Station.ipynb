{
 "cells": [
  {
   "cell_type": "markdown",
   "metadata": {},
   "source": [
    "# TLE"
   ]
  },
  {
   "cell_type": "code",
   "execution_count": 1,
   "metadata": {
    "ExecuteTime": {
     "end_time": "2019-10-11T08:35:44.643330Z",
     "start_time": "2019-10-11T08:35:44.636022Z"
    }
   },
   "outputs": [],
   "source": [
    "class Solution(object):\n",
    "    def canCompleteCircuit(self, gas, cost):\n",
    "        \"\"\"\n",
    "        :type gas: List[int]\n",
    "        :type cost: List[int]\n",
    "        :rtype: int\n",
    "        \"\"\"\n",
    "        left = [0] * len(gas)\n",
    "        for index in range(len(gas)):\n",
    "            left[index] = gas[index] - cost[index]\n",
    "        if sum(left) < 0:\n",
    "            return -1\n",
    "        # print('??')\n",
    "        for index in range(len(left)):\n",
    "            if left[index] >= 0:\n",
    "                begin_index = index\n",
    "                left_gas = left[index]\n",
    "                counter = 1\n",
    "                for test_index in range(begin_index+1, len(left) + begin_index):\n",
    "                    now_index = test_index % len(left)\n",
    "                    left_gas += left[now_index]\n",
    "                    if left_gas < 0:\n",
    "                        break\n",
    "                    counter += 1\n",
    "                if counter == len(gas):\n",
    "                    return begin_index\n",
    "        return -1\n",
    "                "
   ]
  },
  {
   "cell_type": "markdown",
   "metadata": {},
   "source": [
    "# Seems like not DP?"
   ]
  },
  {
   "cell_type": "code",
   "execution_count": 2,
   "metadata": {
    "ExecuteTime": {
     "end_time": "2019-10-11T08:49:20.844066Z",
     "start_time": "2019-10-11T08:49:20.838598Z"
    }
   },
   "outputs": [],
   "source": [
    "class Solution(object):\n",
    "    def canCompleteCircuit(self, gas, cost):\n",
    "        \"\"\"\n",
    "        :type gas: List[int]\n",
    "        :type cost: List[int]\n",
    "        :rtype: int\n",
    "        \"\"\"\n",
    "        left = 0\n",
    "        start = 0\n",
    "        total = 0\n",
    "        for index in range(len(gas)):\n",
    "            left += gas[index] - cost[index]\n",
    "            if left < 0:\n",
    "                total += left\n",
    "                start = index + 1\n",
    "                left = 0\n",
    "        if left + total < 0:\n",
    "            return -1\n",
    "        else:\n",
    "            return start"
   ]
  },
  {
   "cell_type": "code",
   "execution_count": null,
   "metadata": {},
   "outputs": [],
   "source": []
  }
 ],
 "metadata": {
  "kernelspec": {
   "display_name": "Python 3",
   "language": "python",
   "name": "python3"
  },
  "language_info": {
   "codemirror_mode": {
    "name": "ipython",
    "version": 3
   },
   "file_extension": ".py",
   "mimetype": "text/x-python",
   "name": "python",
   "nbconvert_exporter": "python",
   "pygments_lexer": "ipython3",
   "version": "3.7.1"
  },
  "toc": {
   "base_numbering": 1,
   "nav_menu": {},
   "number_sections": true,
   "sideBar": true,
   "skip_h1_title": false,
   "title_cell": "Table of Contents",
   "title_sidebar": "Contents",
   "toc_cell": false,
   "toc_position": {},
   "toc_section_display": true,
   "toc_window_display": false
  }
 },
 "nbformat": 4,
 "nbformat_minor": 2
}
