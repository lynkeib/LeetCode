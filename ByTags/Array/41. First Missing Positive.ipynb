{
 "cells": [
  {
   "cell_type": "code",
   "execution_count": 1,
   "metadata": {
    "ExecuteTime": {
     "end_time": "2019-10-11T05:51:43.345810Z",
     "start_time": "2019-10-11T05:51:43.337933Z"
    }
   },
   "outputs": [],
   "source": [
    "class Solution(object):\n",
    "    def firstMissingPositive(self, nums):\n",
    "        \"\"\"\n",
    "        :type nums: List[int]\n",
    "        :rtype: int\n",
    "        \"\"\"\n",
    "        if not nums:\n",
    "            return 1\n",
    "        length = len(nums)\n",
    "        for index in range(length):\n",
    "            # print(index)\n",
    "            while 0 < nums[index] and nums[index] <= length and nums[index] != nums[nums[index] - 1]:\n",
    "                temp1 = nums[nums[index] - 1]\n",
    "                temp2 = nums[index]\n",
    "                # print(temp1, temp2)\n",
    "                nums[index] = temp1\n",
    "                nums[temp2 - 1] = temp2\n",
    "                # print(nums)\n",
    "        # print(nums)\n",
    "        for index in range(length):\n",
    "            if nums[index] <= 0 or nums[index] > length or nums[index] != index + 1:\n",
    "                return index + 1\n",
    "        return length + 1"
   ]
  },
  {
   "cell_type": "code",
   "execution_count": null,
   "metadata": {},
   "outputs": [],
   "source": []
  }
 ],
 "metadata": {
  "kernelspec": {
   "display_name": "Python 3",
   "language": "python",
   "name": "python3"
  },
  "language_info": {
   "codemirror_mode": {
    "name": "ipython",
    "version": 3
   },
   "file_extension": ".py",
   "mimetype": "text/x-python",
   "name": "python",
   "nbconvert_exporter": "python",
   "pygments_lexer": "ipython3",
   "version": "3.7.1"
  },
  "toc": {
   "base_numbering": 1,
   "nav_menu": {},
   "number_sections": true,
   "sideBar": true,
   "skip_h1_title": false,
   "title_cell": "Table of Contents",
   "title_sidebar": "Contents",
   "toc_cell": false,
   "toc_position": {},
   "toc_section_display": true,
   "toc_window_display": false
  }
 },
 "nbformat": 4,
 "nbformat_minor": 2
}
