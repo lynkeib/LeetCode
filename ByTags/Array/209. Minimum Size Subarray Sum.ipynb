{
 "cells": [
  {
   "cell_type": "markdown",
   "metadata": {},
   "source": [
    "# Binary Search Time: $O(nlog(n))$"
   ]
  },
  {
   "cell_type": "code",
   "execution_count": 1,
   "metadata": {
    "ExecuteTime": {
     "end_time": "2019-10-20T05:49:05.713484Z",
     "start_time": "2019-10-20T05:49:05.704913Z"
    }
   },
   "outputs": [],
   "source": [
    "class Solution(object):\n",
    "    def minSubArrayLen(self, s, nums):\n",
    "        \"\"\"\n",
    "        :type s: int\n",
    "        :type nums: List[int]\n",
    "        :rtype: int\n",
    "        \"\"\"\n",
    "        for index in range(1, len(nums)):\n",
    "            nums[index] = nums[index - 1] + nums[index]\n",
    "        \n",
    "        nums = [0] + nums\n",
    "        min_res = float('inf')\n",
    "        for index in range(1, len(nums)):\n",
    "            target = nums[index] - s\n",
    "            temp_index = self.binarysearch(nums, 0, index - 1, target)\n",
    "            if nums[temp_index] > target:\n",
    "                if temp_index == 0:\n",
    "                    continue\n",
    "                else:\n",
    "                    temp_index -= 1\n",
    "                    min_res = min(index - temp_index, min_res)\n",
    "            else:\n",
    "                min_res = min(index - temp_index, min_res)\n",
    "        return min_res if min_res != float('inf') else 0\n",
    "        \n",
    "\n",
    "    def binarysearch(self, nums, left, right, target):\n",
    "        while left < right:\n",
    "            mid = left + (right - left) // 2\n",
    "            if nums[mid] >= target:\n",
    "                right = mid\n",
    "            else:\n",
    "                left = mid + 1\n",
    "        return left"
   ]
  },
  {
   "cell_type": "markdown",
   "metadata": {},
   "source": [
    "# Sliding Window"
   ]
  },
  {
   "cell_type": "code",
   "execution_count": 2,
   "metadata": {
    "ExecuteTime": {
     "end_time": "2019-10-20T05:54:32.698910Z",
     "start_time": "2019-10-20T05:54:32.692960Z"
    }
   },
   "outputs": [],
   "source": [
    "class Solution(object):\n",
    "    def minSubArrayLen(self, s, nums):\n",
    "        \"\"\"\n",
    "        :type s: int\n",
    "        :type nums: List[int]\n",
    "        :rtype: int\n",
    "        \"\"\"\n",
    "        \n",
    "        left = 0\n",
    "        c = 0\n",
    "        min_res = float('inf')\n",
    "        for right in range(len(nums)):\n",
    "            c += nums[right]\n",
    "            while left < right and c - nums[left] >= s:\n",
    "                c -= nums[left]\n",
    "                left += 1\n",
    "            if c >= s:\n",
    "                min_res = min(min_res, right - left + 1)\n",
    "        return min_res if min_res != float('inf') else 0\n",
    "            "
   ]
  },
  {
   "cell_type": "code",
   "execution_count": null,
   "metadata": {},
   "outputs": [],
   "source": []
  }
 ],
 "metadata": {
  "kernelspec": {
   "display_name": "Python 3",
   "language": "python",
   "name": "python3"
  },
  "language_info": {
   "codemirror_mode": {
    "name": "ipython",
    "version": 3
   },
   "file_extension": ".py",
   "mimetype": "text/x-python",
   "name": "python",
   "nbconvert_exporter": "python",
   "pygments_lexer": "ipython3",
   "version": "3.7.1"
  },
  "toc": {
   "base_numbering": 1,
   "nav_menu": {},
   "number_sections": true,
   "sideBar": true,
   "skip_h1_title": false,
   "title_cell": "Table of Contents",
   "title_sidebar": "Contents",
   "toc_cell": false,
   "toc_position": {},
   "toc_section_display": true,
   "toc_window_display": false
  }
 },
 "nbformat": 4,
 "nbformat_minor": 2
}
