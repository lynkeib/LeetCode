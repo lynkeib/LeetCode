{
 "cells": [
  {
   "cell_type": "markdown",
   "metadata": {},
   "source": [
    "# TLE"
   ]
  },
  {
   "cell_type": "code",
   "execution_count": 1,
   "metadata": {
    "ExecuteTime": {
     "end_time": "2019-10-20T05:04:08.546511Z",
     "start_time": "2019-10-20T05:04:08.539184Z"
    }
   },
   "outputs": [],
   "source": [
    "class Solution(object):\n",
    "    def maxSubArrayLen(self, nums, k):\n",
    "        \"\"\"\n",
    "        :type nums: List[int]\n",
    "        :type k: int\n",
    "        :rtype: int\n",
    "        \"\"\"\n",
    "        sum_position = {-1:0}\n",
    "        max_length = 0\n",
    "        for index in range(len(nums)):\n",
    "            sum_position[index] = sum_position[index - 1] + nums[index]\n",
    "            if sum_position[index] == k:\n",
    "                max_length = max(max_length, index + 1)\n",
    "        # print(sum_position)\n",
    "        for start in range(1, len(nums)):\n",
    "            for end in range(start, len(nums)):\n",
    "                diff = sum_position[end] - sum_position[start - 1]\n",
    "                if diff == k:\n",
    "                    max_length = max(max_length, end - start + 1)\n",
    "        return max_length"
   ]
  },
  {
   "cell_type": "markdown",
   "metadata": {},
   "source": [
    "# I do not know what this method is..."
   ]
  },
  {
   "cell_type": "code",
   "execution_count": 2,
   "metadata": {
    "ExecuteTime": {
     "end_time": "2019-10-20T05:18:11.281207Z",
     "start_time": "2019-10-20T05:18:11.275220Z"
    }
   },
   "outputs": [],
   "source": [
    "class Solution(object):\n",
    "    def maxSubArrayLen(self, nums, k):\n",
    "        \"\"\"\n",
    "        :type nums: List[int]\n",
    "        :type k: int\n",
    "        :rtype: int\n",
    "        \"\"\"\n",
    "        sum_position = {0:-1}\n",
    "        max_length = 0\n",
    "        c = 0\n",
    "        for index in range(len(nums)):\n",
    "            c += nums[index]\n",
    "            if c not in sum_position:\n",
    "                sum_position[c] = index\n",
    "            # sum_position[index] = sum_position[index - 1] + nums[index]\n",
    "            nums[index] = c\n",
    "        for index, num in enumerate(nums):\n",
    "            find_num = num - k\n",
    "            if find_num in sum_position:\n",
    "                max_length = max(max_length, index - sum_position[find_num])\n",
    "        # print(sum_position)\n",
    "        # print(nums)\n",
    "        return max_length"
   ]
  },
  {
   "cell_type": "code",
   "execution_count": null,
   "metadata": {},
   "outputs": [],
   "source": []
  }
 ],
 "metadata": {
  "kernelspec": {
   "display_name": "Python 3",
   "language": "python",
   "name": "python3"
  },
  "language_info": {
   "codemirror_mode": {
    "name": "ipython",
    "version": 3
   },
   "file_extension": ".py",
   "mimetype": "text/x-python",
   "name": "python",
   "nbconvert_exporter": "python",
   "pygments_lexer": "ipython3",
   "version": "3.7.1"
  },
  "toc": {
   "base_numbering": 1,
   "nav_menu": {},
   "number_sections": true,
   "sideBar": true,
   "skip_h1_title": false,
   "title_cell": "Table of Contents",
   "title_sidebar": "Contents",
   "toc_cell": false,
   "toc_position": {},
   "toc_section_display": true,
   "toc_window_display": false
  }
 },
 "nbformat": 4,
 "nbformat_minor": 2
}
