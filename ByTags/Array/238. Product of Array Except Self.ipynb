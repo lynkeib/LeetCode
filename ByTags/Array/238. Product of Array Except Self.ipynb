{
 "cells": [
  {
   "cell_type": "markdown",
   "metadata": {},
   "source": [
    "# Time: $O(n)$, Space: $O(n)$"
   ]
  },
  {
   "cell_type": "code",
   "execution_count": 1,
   "metadata": {
    "ExecuteTime": {
     "end_time": "2019-10-21T04:12:45.741779Z",
     "start_time": "2019-10-21T04:12:45.735074Z"
    }
   },
   "outputs": [],
   "source": [
    "class Solution(object):\n",
    "    def productExceptSelf(self, nums):\n",
    "        \"\"\"\n",
    "        :type nums: List[int]\n",
    "        :rtype: List[int]\n",
    "        \"\"\"\n",
    "        left_to_right = dict()\n",
    "        left_to_right[0] = 1\n",
    "        # left_to_right[1] = nums[0]\n",
    "        for index in range(1, len(nums)):\n",
    "            left_to_right[index] = nums[index - 1] * left_to_right[index - 1]\n",
    "        # print(left_to_right)\n",
    "        right_to_left = dict()\n",
    "        right_to_left[len(nums) - 1] = 1\n",
    "        for index in range(len(nums) - 2, -1, -1):\n",
    "            right_to_left[index] = nums[index + 1] * right_to_left[index + 1]\n",
    "        # print(right_to_left)\n",
    "        res = [0] * len(nums)\n",
    "        for index in range(len(nums)):\n",
    "            res[index] = left_to_right[index] * right_to_left[index]\n",
    "        return res"
   ]
  },
  {
   "cell_type": "markdown",
   "metadata": {},
   "source": [
    "# Time: $O(n)$, Space: $O(1)$ without counting res"
   ]
  },
  {
   "cell_type": "code",
   "execution_count": 2,
   "metadata": {
    "ExecuteTime": {
     "end_time": "2019-10-21T04:15:42.994586Z",
     "start_time": "2019-10-21T04:15:42.988628Z"
    }
   },
   "outputs": [],
   "source": [
    "class Solution(object):\n",
    "    def productExceptSelf(self, nums):\n",
    "        \"\"\"\n",
    "        :type nums: List[int]\n",
    "        :rtype: List[int]\n",
    "        \"\"\"\n",
    "        res = [1] * len(nums)\n",
    "        for index in range(1, len(nums)):\n",
    "            res[index] = res[index - 1] * nums[index - 1]\n",
    "        right = nums[-1]\n",
    "        for index in range(len(nums) - 2, -1, -1):\n",
    "            res[index] = res[index] * right\n",
    "            right *= nums[index]\n",
    "        # print(res)\n",
    "        return res"
   ]
  },
  {
   "cell_type": "code",
   "execution_count": null,
   "metadata": {},
   "outputs": [],
   "source": []
  }
 ],
 "metadata": {
  "kernelspec": {
   "display_name": "Python 3",
   "language": "python",
   "name": "python3"
  },
  "language_info": {
   "codemirror_mode": {
    "name": "ipython",
    "version": 3
   },
   "file_extension": ".py",
   "mimetype": "text/x-python",
   "name": "python",
   "nbconvert_exporter": "python",
   "pygments_lexer": "ipython3",
   "version": "3.7.1"
  },
  "toc": {
   "base_numbering": 1,
   "nav_menu": {},
   "number_sections": true,
   "sideBar": true,
   "skip_h1_title": false,
   "title_cell": "Table of Contents",
   "title_sidebar": "Contents",
   "toc_cell": false,
   "toc_position": {},
   "toc_section_display": true,
   "toc_window_display": false
  }
 },
 "nbformat": 4,
 "nbformat_minor": 2
}
