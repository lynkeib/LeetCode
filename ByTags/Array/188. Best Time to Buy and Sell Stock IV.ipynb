{
 "cells": [
  {
   "cell_type": "markdown",
   "metadata": {},
   "source": [
    "# Refer III, Memory Exceed"
   ]
  },
  {
   "cell_type": "code",
   "execution_count": 1,
   "metadata": {
    "ExecuteTime": {
     "end_time": "2019-10-18T03:16:23.665808Z",
     "start_time": "2019-10-18T03:16:23.653963Z"
    }
   },
   "outputs": [],
   "source": [
    "class Solution(object):\n",
    "    def maxProfit(self, k, prices):\n",
    "        \"\"\"\n",
    "        :type k: int\n",
    "        :type prices: List[int]\n",
    "        :rtype: int\n",
    "        \"\"\"\n",
    "        if not prices or k == 0:\n",
    "            return 0\n",
    "        k = min(k, len(prices) // 2 + 1)\n",
    "        sell = [0] * k\n",
    "        buy = [-float('inf')] * k\n",
    "        for price in prices:\n",
    "            for index in range(k-1, 0, -1):\n",
    "                sell[index] = max(sell[index], buy[index] + price)\n",
    "                buy[index] = max(sell[index - 1] - price, buy[index])\n",
    "            sell[0] = max(buy[0] + price, sell[0])\n",
    "            buy[0] = max(buy[0], -price)\n",
    "#             print(price)\n",
    "#             print(sell)\n",
    "#             print(buy)\n",
    "#             print()\n",
    "        return sell[-1]"
   ]
  },
  {
   "cell_type": "code",
   "execution_count": null,
   "metadata": {},
   "outputs": [],
   "source": []
  }
 ],
 "metadata": {
  "kernelspec": {
   "display_name": "Python 3",
   "language": "python",
   "name": "python3"
  },
  "language_info": {
   "codemirror_mode": {
    "name": "ipython",
    "version": 3
   },
   "file_extension": ".py",
   "mimetype": "text/x-python",
   "name": "python",
   "nbconvert_exporter": "python",
   "pygments_lexer": "ipython3",
   "version": "3.7.1"
  },
  "toc": {
   "base_numbering": 1,
   "nav_menu": {},
   "number_sections": true,
   "sideBar": true,
   "skip_h1_title": false,
   "title_cell": "Table of Contents",
   "title_sidebar": "Contents",
   "toc_cell": false,
   "toc_position": {},
   "toc_section_display": true,
   "toc_window_display": false
  }
 },
 "nbformat": 4,
 "nbformat_minor": 2
}
