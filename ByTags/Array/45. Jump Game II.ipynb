{
 "cells": [
  {
   "cell_type": "code",
   "execution_count": 1,
   "metadata": {
    "ExecuteTime": {
     "end_time": "2019-10-14T05:23:07.381600Z",
     "start_time": "2019-10-14T05:23:07.374631Z"
    }
   },
   "outputs": [],
   "source": [
    "class Solution(object):\n",
    "    def jump(self, nums):\n",
    "        \"\"\"\n",
    "        :type nums: List[int]\n",
    "        :rtype: int\n",
    "        \"\"\"\n",
    "        counter = 0\n",
    "        index = 0\n",
    "        while index < len(nums):\n",
    "            if index == len(nums) - 1:\n",
    "                return counter\n",
    "            farthest = 0\n",
    "            farthest_index = index\n",
    "            for jump in range(1, nums[index] + 1):\n",
    "                if index + jump >= len(nums) - 1:\n",
    "                    return counter + 1\n",
    "                if index + jump + nums[index + jump] > farthest:\n",
    "                    farthest = index + jump + nums[index + jump]\n",
    "                    farthest_index = index + jump\n",
    "            index = farthest_index\n",
    "            counter += 1\n",
    "        return counter"
   ]
  },
  {
   "cell_type": "code",
   "execution_count": null,
   "metadata": {},
   "outputs": [],
   "source": []
  }
 ],
 "metadata": {
  "kernelspec": {
   "display_name": "Python 3",
   "language": "python",
   "name": "python3"
  },
  "language_info": {
   "codemirror_mode": {
    "name": "ipython",
    "version": 3
   },
   "file_extension": ".py",
   "mimetype": "text/x-python",
   "name": "python",
   "nbconvert_exporter": "python",
   "pygments_lexer": "ipython3",
   "version": "3.7.1"
  },
  "toc": {
   "base_numbering": 1,
   "nav_menu": {},
   "number_sections": true,
   "sideBar": true,
   "skip_h1_title": false,
   "title_cell": "Table of Contents",
   "title_sidebar": "Contents",
   "toc_cell": false,
   "toc_position": {},
   "toc_section_display": true,
   "toc_window_display": false
  }
 },
 "nbformat": 4,
 "nbformat_minor": 2
}
