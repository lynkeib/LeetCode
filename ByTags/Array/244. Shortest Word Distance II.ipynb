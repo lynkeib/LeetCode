{
 "cells": [
  {
   "cell_type": "markdown",
   "metadata": {},
   "source": [
    "# TLE"
   ]
  },
  {
   "cell_type": "code",
   "execution_count": 1,
   "metadata": {
    "ExecuteTime": {
     "end_time": "2019-10-13T04:32:09.552397Z",
     "start_time": "2019-10-13T04:32:09.544069Z"
    }
   },
   "outputs": [],
   "source": [
    "class WordDistance(object):\n",
    "\n",
    "    def __init__(self, words):\n",
    "        \"\"\"\n",
    "        :type words: List[str]\n",
    "        \"\"\"\n",
    "        self.result = dict()\n",
    "        self.words = words\n",
    "        \n",
    "\n",
    "    def shortest(self, word1, word2):\n",
    "        \"\"\"\n",
    "        :type word1: str\n",
    "        :type word2: str\n",
    "        :rtype: int\n",
    "        \"\"\"\n",
    "        if word1 > word2:\n",
    "            word1, word2 = word2, word1\n",
    "        if (word1, word2) in self.result:\n",
    "            return self.result[(word1, word2)]\n",
    "        res = float('inf')\n",
    "        word1_index, word2_index = None, None\n",
    "        for index in range(len(self.words)):\n",
    "            if self.words[index] == word1:\n",
    "                word1_index = index\n",
    "                if word2_index is not None:\n",
    "                    res = min(res, word1_index - word2_index)\n",
    "            elif self.words[index] == word2:\n",
    "                word2_index = index\n",
    "                if word1_index is not None:\n",
    "                    res = min(res, word2_index - word1_index)\n",
    "        self.result[(word1, word2)] = res\n",
    "        return res\n",
    "        \n",
    "\n",
    "\n",
    "# Your WordDistance object will be instantiated and called as such:\n",
    "# obj = WordDistance(words)\n",
    "# param_1 = obj.shortest(word1,word2)"
   ]
  },
  {
   "cell_type": "markdown",
   "metadata": {},
   "source": [
    "# Remember the position and the result"
   ]
  },
  {
   "cell_type": "code",
   "execution_count": 2,
   "metadata": {
    "ExecuteTime": {
     "end_time": "2019-10-13T04:44:59.965339Z",
     "start_time": "2019-10-13T04:44:59.955574Z"
    }
   },
   "outputs": [],
   "source": [
    "class WordDistance(object):\n",
    "\n",
    "    def __init__(self, words):\n",
    "        \"\"\"\n",
    "        :type words: List[str]\n",
    "        \"\"\"\n",
    "        self.position = collections.defaultdict(list)\n",
    "        self.words = words\n",
    "        for index in range(len(words)):\n",
    "            self.position[words[index]].append(index)\n",
    "        self.result = dict()\n",
    "        \n",
    "    def shortest(self, word1, word2):\n",
    "        \"\"\"\n",
    "        :type word1: str\n",
    "        :type word2: str\n",
    "        :rtype: int\n",
    "        \"\"\"\n",
    "        if word1 > word2:\n",
    "            word1, word2 = word2, word1\n",
    "        if (word1, word2) in self.result:\n",
    "            return self.result[(word1, word2)]\n",
    "        res = float('inf')\n",
    "        word1_index, word2_index = 0, 0\n",
    "        word1_position = self.position[word1]\n",
    "        word2_position = self.position[word2]\n",
    "        while word1_index < len(word1_position) and word2_index < len(word2_position):\n",
    "            if word1_position[word1_index] < word2_position[word2_index]:\n",
    "                res = min(res, word2_position[word2_index] - word1_position[word1_index])\n",
    "                word1_index += 1\n",
    "            else:\n",
    "                res = min(res, word1_position[word1_index] - word2_position[word2_index])\n",
    "                word2_index += 1\n",
    "        self.result[(word1, word2)] = res\n",
    "        return res\n",
    "        \n",
    "# Your WordDistance object will be instantiated and called as such:\n",
    "# obj = WordDistance(words)\n",
    "# param_1 = obj.shortest(word1,word2)"
   ]
  },
  {
   "cell_type": "code",
   "execution_count": null,
   "metadata": {},
   "outputs": [],
   "source": []
  }
 ],
 "metadata": {
  "kernelspec": {
   "display_name": "Python 3",
   "language": "python",
   "name": "python3"
  },
  "language_info": {
   "codemirror_mode": {
    "name": "ipython",
    "version": 3
   },
   "file_extension": ".py",
   "mimetype": "text/x-python",
   "name": "python",
   "nbconvert_exporter": "python",
   "pygments_lexer": "ipython3",
   "version": "3.7.1"
  },
  "toc": {
   "base_numbering": 1,
   "nav_menu": {},
   "number_sections": true,
   "sideBar": true,
   "skip_h1_title": false,
   "title_cell": "Table of Contents",
   "title_sidebar": "Contents",
   "toc_cell": false,
   "toc_position": {},
   "toc_section_display": true,
   "toc_window_display": false
  }
 },
 "nbformat": 4,
 "nbformat_minor": 2
}
