{
 "cells": [
  {
   "cell_type": "markdown",
   "metadata": {},
   "source": [
    "# DP (2D) Time: 6.73%"
   ]
  },
  {
   "cell_type": "code",
   "execution_count": 1,
   "metadata": {
    "ExecuteTime": {
     "end_time": "2019-10-14T05:38:35.204918Z",
     "start_time": "2019-10-14T05:38:35.197923Z"
    }
   },
   "outputs": [],
   "source": [
    "class Solution(object):\n",
    "    def maxProfit(self, prices):\n",
    "        \"\"\"\n",
    "        :type prices: List[int]\n",
    "        :rtype: int\n",
    "        \"\"\"\n",
    "        if not prices:\n",
    "            return 0\n",
    "        buy = [0] * len(prices)\n",
    "        buy[0] = -prices[0]\n",
    "        sell = [0] * len(prices)\n",
    "        \n",
    "        for index in range(1, len(prices)):\n",
    "            buy[index] = max(-prices[index], buy[index - 1])\n",
    "            sell[index]  = max(sell[index - 1], buy[index - 1] + prices[index])\n",
    "            \n",
    "        return sell[-1]"
   ]
  },
  {
   "cell_type": "markdown",
   "metadata": {},
   "source": [
    "# Kadane's Algorithm Time: 38%"
   ]
  },
  {
   "cell_type": "code",
   "execution_count": 2,
   "metadata": {
    "ExecuteTime": {
     "end_time": "2019-10-14T05:52:12.559006Z",
     "start_time": "2019-10-14T05:52:12.554086Z"
    }
   },
   "outputs": [],
   "source": [
    "class Solution(object):\n",
    "    def maxProfit(self, prices):\n",
    "        \"\"\"\n",
    "        :type prices: List[int]\n",
    "        :rtype: int\n",
    "        \"\"\"\n",
    "        max_Curr, max_SoFar = 0, 0\n",
    "        for index in range(1, len(prices)):\n",
    "            max_Curr = max(prices[index] - prices[index - 1] + max_Curr, 0)\n",
    "            max_SoFar = max(max_SoFar, max_Curr)\n",
    "        return max_SoFar"
   ]
  },
  {
   "cell_type": "markdown",
   "metadata": {},
   "source": [
    "## Reasoning"
   ]
  },
  {
   "cell_type": "markdown",
   "metadata": {},
   "source": [
    "This algorithm aims to solve the __Longest Subarray Sum__ Problem, say we have an array : [−2, 1, −3, 4, −1, 2, 1, −5, 4] and we want to find the maximum sum of a continuous subarray. By using this algorithm, it keeps track of two values: Max_Current and Max_So_Far, Max_Current means we adding the number we met one by one, when Max_Current less than 0, we reset it to 0 (*which means if we met some number in the original array that makes the continuous sum less than 0, when calculating the maximum subarray sum, we do not use any number before this number, include this number, for example, in the array listed at the beginning, we will not count the numbers before 4 because when we adding -2, the Max_Current will be -2, which means we should not use the number(s) before -2, then when we add to -3 the Max_Current is -2, same, we should not include the numbers before -3 because as long as we count -3 in our final result, it will always bring negative value in to the final answer, which will definitely lower our final result*), if not , we add the new number to the Max_Current and update the Max_So_Far, so by doing this, when we loop through all the elements in the original array, Max_So_Far will have the value of Maximum Subarray Sum."
   ]
  },
  {
   "cell_type": "code",
   "execution_count": null,
   "metadata": {},
   "outputs": [],
   "source": []
  }
 ],
 "metadata": {
  "kernelspec": {
   "display_name": "Python 3",
   "language": "python",
   "name": "python3"
  },
  "language_info": {
   "codemirror_mode": {
    "name": "ipython",
    "version": 3
   },
   "file_extension": ".py",
   "mimetype": "text/x-python",
   "name": "python",
   "nbconvert_exporter": "python",
   "pygments_lexer": "ipython3",
   "version": "3.7.1"
  },
  "toc": {
   "base_numbering": 1,
   "nav_menu": {},
   "number_sections": true,
   "sideBar": true,
   "skip_h1_title": false,
   "title_cell": "Table of Contents",
   "title_sidebar": "Contents",
   "toc_cell": false,
   "toc_position": {},
   "toc_section_display": true,
   "toc_window_display": false
  }
 },
 "nbformat": 4,
 "nbformat_minor": 2
}
