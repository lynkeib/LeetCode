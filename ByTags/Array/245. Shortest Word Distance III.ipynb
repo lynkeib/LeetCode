{
 "cells": [
  {
   "cell_type": "code",
   "execution_count": 1,
   "metadata": {
    "ExecuteTime": {
     "end_time": "2019-10-13T04:55:48.182200Z",
     "start_time": "2019-10-13T04:55:48.173592Z"
    }
   },
   "outputs": [],
   "source": [
    "class Solution(object):\n",
    "    def shortestWordDistance(self, words, word1, word2):\n",
    "        \"\"\"\n",
    "        :type words: List[str]\n",
    "        :type word1: str\n",
    "        :type word2: str\n",
    "        :rtype: int\n",
    "        \"\"\"\n",
    "        res = float('inf')\n",
    "        word1_index, word2_index = None, None\n",
    "        if word1 != word2:\n",
    "            for index in range(len(words)):\n",
    "                if words[index] == word1:\n",
    "                    word1_index = index\n",
    "                    if word2_index is not None:\n",
    "                        res = min(res, word1_index - word2_index)\n",
    "                elif words[index] == word2:\n",
    "                    word2_index = index\n",
    "                    if word1_index is not None:\n",
    "                        res = min(res, word2_index - word1_index)\n",
    "            return res\n",
    "        else:\n",
    "            word_index = None\n",
    "            for index in range(len(words)):\n",
    "                if words[index] == word1:\n",
    "                    if word_index is None:\n",
    "                        word_index = index\n",
    "                    else:\n",
    "                        res = min(res, index - word_index)\n",
    "                        word_index = index\n",
    "            return res"
   ]
  },
  {
   "cell_type": "code",
   "execution_count": null,
   "metadata": {},
   "outputs": [],
   "source": []
  }
 ],
 "metadata": {
  "kernelspec": {
   "display_name": "Python 3",
   "language": "python",
   "name": "python3"
  },
  "language_info": {
   "codemirror_mode": {
    "name": "ipython",
    "version": 3
   },
   "file_extension": ".py",
   "mimetype": "text/x-python",
   "name": "python",
   "nbconvert_exporter": "python",
   "pygments_lexer": "ipython3",
   "version": "3.7.1"
  },
  "toc": {
   "base_numbering": 1,
   "nav_menu": {},
   "number_sections": true,
   "sideBar": true,
   "skip_h1_title": false,
   "title_cell": "Table of Contents",
   "title_sidebar": "Contents",
   "toc_cell": false,
   "toc_position": {},
   "toc_section_display": true,
   "toc_window_display": false
  }
 },
 "nbformat": 4,
 "nbformat_minor": 2
}
