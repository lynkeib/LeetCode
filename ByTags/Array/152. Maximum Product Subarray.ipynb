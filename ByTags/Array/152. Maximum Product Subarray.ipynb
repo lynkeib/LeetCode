{
 "cells": [
  {
   "cell_type": "code",
   "execution_count": 1,
   "metadata": {},
   "outputs": [],
   "source": [
    "class Solution(object):\n",
    "    def maxProduct(self, nums):\n",
    "        \"\"\"\n",
    "        :type nums: List[int]\n",
    "        :rtype: int\n",
    "        \"\"\"\n",
    "        max_ls = [1] * (len(nums) + 1)\n",
    "        min_ls = [1] * (len(nums) + 1)\n",
    "        res = -float(\"inf\")\n",
    "        for index, value in enumerate(nums):\n",
    "            if value < 0:\n",
    "                if min_ls[index] * value > max_ls[index] * value:\n",
    "                    max_ls[index + 1] = min_ls[index] * value\n",
    "                    min_ls[index + 1] = max_ls[index] * value\n",
    "                    res = max(res, max_ls[index + 1])\n",
    "                else:\n",
    "                    max_ls[index + 1] = 1\n",
    "                    min_ls[index + 1] = min_ls[index] * value\n",
    "                    res = max(res, min_ls[index + 1])\n",
    "            elif value > 0:\n",
    "                max_ls[index + 1] = max_ls[index] * value\n",
    "                min_ls[index + 1] = min_ls[index] * value\n",
    "                res = max(res, max_ls[index + 1])\n",
    "            else:\n",
    "                max_ls[index + 1] = 1\n",
    "                min_ls[index + 1] = 1\n",
    "                res = max(res, 0)\n",
    "        return 0 if res == -float(\"inf\") else res"
   ]
  },
  {
   "cell_type": "code",
   "execution_count": null,
   "metadata": {},
   "outputs": [],
   "source": []
  }
 ],
 "metadata": {
  "kernelspec": {
   "display_name": "Python 3",
   "language": "python",
   "name": "python3"
  },
  "language_info": {
   "codemirror_mode": {
    "name": "ipython",
    "version": 3
   },
   "file_extension": ".py",
   "mimetype": "text/x-python",
   "name": "python",
   "nbconvert_exporter": "python",
   "pygments_lexer": "ipython3",
   "version": "3.7.4"
  },
  "toc": {
   "base_numbering": 1,
   "nav_menu": {},
   "number_sections": true,
   "sideBar": true,
   "skip_h1_title": false,
   "title_cell": "Table of Contents",
   "title_sidebar": "Contents",
   "toc_cell": false,
   "toc_position": {},
   "toc_section_display": true,
   "toc_window_display": false
  }
 },
 "nbformat": 4,
 "nbformat_minor": 4
}
