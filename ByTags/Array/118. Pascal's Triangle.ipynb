{
 "cells": [
  {
   "cell_type": "code",
   "execution_count": 19,
   "metadata": {
    "ExecuteTime": {
     "end_time": "2019-10-12T02:53:37.505922Z",
     "start_time": "2019-10-12T02:53:37.499721Z"
    }
   },
   "outputs": [],
   "source": [
    "class Solution(object):\n",
    "    def generate(self, numRows):\n",
    "        \"\"\"\n",
    "        :type numRows: int\n",
    "        :rtype: List[List[int]]\n",
    "        \"\"\"\n",
    "        if numRows == 0:\n",
    "            return []\n",
    "        res = [[1]]\n",
    "        for row in range(2, numRows+1):\n",
    "            new_row = [0] * row\n",
    "            for index in range(row):\n",
    "                if index == 0 or index == row - 1:\n",
    "                    new_row[index] = 1\n",
    "                else:\n",
    "                    new_row[index] = res[row - 2][index - 1] + res[row - 2][index]\n",
    "            res.append(new_row)\n",
    "        return res"
   ]
  },
  {
   "cell_type": "code",
   "execution_count": null,
   "metadata": {},
   "outputs": [],
   "source": []
  }
 ],
 "metadata": {
  "kernelspec": {
   "display_name": "Python 3",
   "language": "python",
   "name": "python3"
  },
  "language_info": {
   "codemirror_mode": {
    "name": "ipython",
    "version": 3
   },
   "file_extension": ".py",
   "mimetype": "text/x-python",
   "name": "python",
   "nbconvert_exporter": "python",
   "pygments_lexer": "ipython3",
   "version": "3.7.1"
  },
  "toc": {
   "base_numbering": 1,
   "nav_menu": {},
   "number_sections": true,
   "sideBar": true,
   "skip_h1_title": false,
   "title_cell": "Table of Contents",
   "title_sidebar": "Contents",
   "toc_cell": false,
   "toc_position": {},
   "toc_section_display": true,
   "toc_window_display": false
  }
 },
 "nbformat": 4,
 "nbformat_minor": 2
}
