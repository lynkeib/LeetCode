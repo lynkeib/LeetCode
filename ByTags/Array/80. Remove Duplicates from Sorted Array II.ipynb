{
 "cells": [
  {
   "cell_type": "markdown",
   "metadata": {},
   "source": [
    "# With Count"
   ]
  },
  {
   "cell_type": "code",
   "execution_count": 1,
   "metadata": {
    "ExecuteTime": {
     "end_time": "2019-10-08T04:52:18.499223Z",
     "start_time": "2019-10-08T04:52:18.491806Z"
    }
   },
   "outputs": [],
   "source": [
    "class Solution(object):\n",
    "    def removeDuplicates(self, nums):\n",
    "        \"\"\"\n",
    "        :type nums: List[int]\n",
    "        :rtype: int\n",
    "        \"\"\"\n",
    "        tail = 0\n",
    "        count = 0\n",
    "        index = 0\n",
    "        for index in range(len(nums)):\n",
    "            if nums[index] != nums[tail]:\n",
    "                if count == 1:\n",
    "                    tail += 1\n",
    "                    nums[tail] = nums[index]\n",
    "                else:\n",
    "                    nums[tail + 1] = nums[tail]\n",
    "                    tail += 2\n",
    "                    nums[tail] = nums[index]\n",
    "                count = 0\n",
    "            count += 1\n",
    "        if count >= 2:\n",
    "            nums[tail + 1] = nums[tail]\n",
    "            tail += 1\n",
    "        return tail + 1"
   ]
  },
  {
   "cell_type": "markdown",
   "metadata": {},
   "source": [
    "## Without Count"
   ]
  },
  {
   "cell_type": "code",
   "execution_count": 2,
   "metadata": {
    "ExecuteTime": {
     "end_time": "2019-10-08T05:00:20.087564Z",
     "start_time": "2019-10-08T05:00:20.083360Z"
    }
   },
   "outputs": [],
   "source": [
    "class Solution(object):\n",
    "    def removeDuplicates(self, nums):\n",
    "        \"\"\"\n",
    "        :type nums: List[int]\n",
    "        :rtype: int\n",
    "        \"\"\"\n",
    "        tail = 0\n",
    "        for num in nums:\n",
    "            if tail < 2 or nums[tail - 2] < num:\n",
    "                nums[tail] = num\n",
    "                tail += 1\n",
    "        return tail"
   ]
  },
  {
   "cell_type": "code",
   "execution_count": null,
   "metadata": {},
   "outputs": [],
   "source": []
  }
 ],
 "metadata": {
  "kernelspec": {
   "display_name": "Python 3",
   "language": "python",
   "name": "python3"
  },
  "language_info": {
   "codemirror_mode": {
    "name": "ipython",
    "version": 3
   },
   "file_extension": ".py",
   "mimetype": "text/x-python",
   "name": "python",
   "nbconvert_exporter": "python",
   "pygments_lexer": "ipython3",
   "version": "3.7.1"
  },
  "toc": {
   "base_numbering": 1,
   "nav_menu": {},
   "number_sections": true,
   "sideBar": true,
   "skip_h1_title": false,
   "title_cell": "Table of Contents",
   "title_sidebar": "Contents",
   "toc_cell": false,
   "toc_position": {},
   "toc_section_display": true,
   "toc_window_display": false
  }
 },
 "nbformat": 4,
 "nbformat_minor": 2
}
