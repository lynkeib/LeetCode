{
 "cells": [
  {
   "cell_type": "code",
   "execution_count": 1,
   "metadata": {
    "ExecuteTime": {
     "end_time": "2019-10-23T19:15:31.740678Z",
     "start_time": "2019-10-23T19:15:31.729594Z"
    }
   },
   "outputs": [],
   "source": [
    "class Solution(object):\n",
    "    def countSmaller(self, nums):\n",
    "        \"\"\"\n",
    "        :type nums: List[int]\n",
    "        :rtype: List[int]\n",
    "        \"\"\"\n",
    "        res = [0] * len(nums)\n",
    "        nums = [(num, index) for index, num in enumerate(nums)]\n",
    "        temp = self.mergesort(nums, res)\n",
    "        # print(temp)\n",
    "        return res\n",
    "    \n",
    "    def mergesort(self, nums, res):\n",
    "        length = len(nums)\n",
    "        if length <= 1:\n",
    "            return nums\n",
    "        \n",
    "        mid = length // 2\n",
    "        left = self.mergesort(nums[:mid], res)\n",
    "        right = self.mergesort(nums[mid:], res)\n",
    "        return self.merge(left, right, res)\n",
    "    \n",
    "    \n",
    "    def merge(self, nums1, nums2, res):\n",
    "        sort_res = []\n",
    "        index1, index2 = 0, 0\n",
    "        while index1 < len(nums1) and index2 < len(nums2):\n",
    "            while index2 < len(nums2) and nums1[index1][0] > nums2[index2][0]:\n",
    "                sort_res.append(nums2[index2])\n",
    "                index2 += 1\n",
    "            res[nums1[index1][1]] += (index2)\n",
    "            # if nums1[index1][0] <= nums2[index2][0]:\n",
    "            #     sort_res.append()\n",
    "            #     index1 += 1\n",
    "            sort_res.append(nums1[index1])\n",
    "            index1 += 1\n",
    "            \n",
    "        while index2 < len(nums2):\n",
    "            sort_res.append(nums2[index2])\n",
    "            index2 += 1\n",
    "        while index1 < len(nums1):\n",
    "            res[nums1[index1][1]] += (index2)\n",
    "            sort_res.append(nums1[index1])\n",
    "            index1 += 1\n",
    "        return sort_res\n",
    "                "
   ]
  },
  {
   "cell_type": "code",
   "execution_count": null,
   "metadata": {},
   "outputs": [],
   "source": []
  }
 ],
 "metadata": {
  "kernelspec": {
   "display_name": "Python 3",
   "language": "python",
   "name": "python3"
  },
  "language_info": {
   "codemirror_mode": {
    "name": "ipython",
    "version": 3
   },
   "file_extension": ".py",
   "mimetype": "text/x-python",
   "name": "python",
   "nbconvert_exporter": "python",
   "pygments_lexer": "ipython3",
   "version": "3.7.1"
  },
  "toc": {
   "base_numbering": 1,
   "nav_menu": {},
   "number_sections": true,
   "sideBar": true,
   "skip_h1_title": false,
   "title_cell": "Table of Contents",
   "title_sidebar": "Contents",
   "toc_cell": false,
   "toc_position": {},
   "toc_section_display": true,
   "toc_window_display": false
  }
 },
 "nbformat": 4,
 "nbformat_minor": 2
}
