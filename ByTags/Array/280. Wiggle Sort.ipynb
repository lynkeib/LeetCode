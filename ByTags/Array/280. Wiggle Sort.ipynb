{
 "cells": [
  {
   "cell_type": "markdown",
   "metadata": {},
   "source": [
    "# Heap (but slow)"
   ]
  },
  {
   "cell_type": "code",
   "execution_count": null,
   "metadata": {},
   "outputs": [],
   "source": [
    "class Solution(object):\n",
    "    def wiggleSort(self, nums):\n",
    "        \"\"\"\n",
    "        :type nums: List[int]\n",
    "        :rtype: None Do not return anything, modify nums in-place instead.\n",
    "        \"\"\"\n",
    "        if len(nums) < 2:\n",
    "            return \n",
    "        max_heap = []\n",
    "        min_heap = []\n",
    "        for num in nums:\n",
    "            heapq.heappush(max_heap, -num)\n",
    "            heapq.heappush(min_heap, num)\n",
    "        \n",
    "        last = 0\n",
    "        for index in range(len(nums)):\n",
    "            if last == 0: # pick from max\n",
    "                nums[index] = heapq.heappop(min_heap)\n",
    "                index += 1\n",
    "                last = 1\n",
    "            else:\n",
    "                nums[index] = -heapq.heappop(max_heap)\n",
    "                index += 1\n",
    "                last = 0\n",
    "        return "
   ]
  }
 ],
 "metadata": {
  "kernelspec": {
   "display_name": "Python 3",
   "language": "python",
   "name": "python3"
  },
  "language_info": {
   "codemirror_mode": {
    "name": "ipython",
    "version": 3
   },
   "file_extension": ".py",
   "mimetype": "text/x-python",
   "name": "python",
   "nbconvert_exporter": "python",
   "pygments_lexer": "ipython3",
   "version": "3.7.1"
  },
  "toc": {
   "base_numbering": 1,
   "nav_menu": {},
   "number_sections": true,
   "sideBar": true,
   "skip_h1_title": false,
   "title_cell": "Table of Contents",
   "title_sidebar": "Contents",
   "toc_cell": false,
   "toc_position": {},
   "toc_section_display": true,
   "toc_window_display": false
  }
 },
 "nbformat": 4,
 "nbformat_minor": 2
}
