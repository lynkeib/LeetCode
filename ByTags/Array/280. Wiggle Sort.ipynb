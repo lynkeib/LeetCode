{
 "cells": [
  {
   "cell_type": "markdown",
   "metadata": {},
   "source": [
    "# Heap (but slow) $O(nlog(n))$"
   ]
  },
  {
   "cell_type": "code",
   "execution_count": 1,
   "metadata": {
    "ExecuteTime": {
     "end_time": "2019-10-23T02:33:45.426352Z",
     "start_time": "2019-10-23T02:33:45.419328Z"
    }
   },
   "outputs": [],
   "source": [
    "class Solution(object):\n",
    "    def wiggleSort(self, nums):\n",
    "        \"\"\"\n",
    "        :type nums: List[int]\n",
    "        :rtype: None Do not return anything, modify nums in-place instead.\n",
    "        \"\"\"\n",
    "        if len(nums) < 2:\n",
    "            return \n",
    "        max_heap = []\n",
    "        min_heap = []\n",
    "        for num in nums:\n",
    "            heapq.heappush(max_heap, -num)\n",
    "            heapq.heappush(min_heap, num)\n",
    "        \n",
    "        last = 0\n",
    "        for index in range(len(nums)):\n",
    "            if last == 0: # pick from max\n",
    "                nums[index] = heapq.heappop(min_heap)\n",
    "                index += 1\n",
    "                last = 1\n",
    "            else:\n",
    "                nums[index] = -heapq.heappop(max_heap)\n",
    "                index += 1\n",
    "                last = 0\n",
    "        return "
   ]
  },
  {
   "cell_type": "markdown",
   "metadata": {},
   "source": [
    "# $O(n)$"
   ]
  },
  {
   "cell_type": "code",
   "execution_count": 2,
   "metadata": {
    "ExecuteTime": {
     "end_time": "2019-10-23T03:02:26.384354Z",
     "start_time": "2019-10-23T03:02:26.377203Z"
    }
   },
   "outputs": [],
   "source": [
    "class Solution(object):\n",
    "    def wiggleSort(self, nums):\n",
    "        \"\"\"\n",
    "        :type nums: List[int]\n",
    "        :rtype: None Do not return anything, modify nums in-place instead.\n",
    "        \"\"\"\n",
    "        if len(nums) < 2:\n",
    "            return\n",
    "        \n",
    "        # here we can set a rule by ourselves\n",
    "        # the rule is: numbers in the odd index position, it should be greater than or equal to the previous number\n",
    "        # numbers in the even index position, it should be less than or equal to the previous number\n",
    "        # why this will work?\n",
    "        # if this rule is violated, then we swap these two numbers\n",
    "        # by doing this, we can make sure that the rule is kept\n",
    "        # then I was wondering, how can the swap do not violate the rule if we didn't check it?\n",
    "        # the reason why we don't have to check is as follows:\n",
    "        # say we are in an odd position, and this number is smaller than the previous one\n",
    "        # wo we swap these two numbers, to make sure that the number in odd position is greater than or equal to the previous number\n",
    "        # but after we swapped, does the number we swap to the previous position still keep the rule?\n",
    "        # the answer is \"Yes\", since the index in the previous position is even, so the rule is: \"it should less than or equal to its previous number\"\n",
    "        # and we know that the number we swapped to the current position (odd index) keeps that rule, and this number is even smaller, so even we did't check, the rule is still not be violated\n",
    "        \n",
    "        for index in range(1, len(nums)):\n",
    "            if index % 2 == 0:\n",
    "                if nums[index] > nums[index - 1]:\n",
    "                    nums[index], nums[index - 1] = nums[index - 1], nums[index]\n",
    "            else:\n",
    "                if nums[index] < nums[index - 1]:\n",
    "                    nums[index], nums[index - 1] = nums[index - 1], nums[index]\n",
    "        return "
   ]
  },
  {
   "cell_type": "code",
   "execution_count": null,
   "metadata": {},
   "outputs": [],
   "source": []
  }
 ],
 "metadata": {
  "kernelspec": {
   "display_name": "Python 3",
   "language": "python",
   "name": "python3"
  },
  "language_info": {
   "codemirror_mode": {
    "name": "ipython",
    "version": 3
   },
   "file_extension": ".py",
   "mimetype": "text/x-python",
   "name": "python",
   "nbconvert_exporter": "python",
   "pygments_lexer": "ipython3",
   "version": "3.7.1"
  },
  "toc": {
   "base_numbering": 1,
   "nav_menu": {},
   "number_sections": true,
   "sideBar": true,
   "skip_h1_title": false,
   "title_cell": "Table of Contents",
   "title_sidebar": "Contents",
   "toc_cell": false,
   "toc_position": {},
   "toc_section_display": true,
   "toc_window_display": false
  }
 },
 "nbformat": 4,
 "nbformat_minor": 2
}
