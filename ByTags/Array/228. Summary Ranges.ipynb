{
 "cells": [
  {
   "cell_type": "code",
   "execution_count": 1,
   "metadata": {
    "ExecuteTime": {
     "end_time": "2019-10-21T05:37:27.205669Z",
     "start_time": "2019-10-21T05:37:27.198369Z"
    }
   },
   "outputs": [],
   "source": [
    "class Solution(object):\n",
    "    def summaryRanges(self, nums):\n",
    "        \"\"\"\n",
    "        :type nums: List[int]\n",
    "        :rtype: List[str]\n",
    "        \"\"\"\n",
    "        index = 0\n",
    "        res_temp = []\n",
    "        start = 0\n",
    "        while index < len(nums):\n",
    "            while index < len(nums) - 1 and nums[index] + 1 == nums[index + 1]:\n",
    "                index += 1\n",
    "            res_temp.append((nums[start], nums[index]))\n",
    "            start = index + 1\n",
    "            index += 1\n",
    "        res = []\n",
    "        for pair in res_temp:\n",
    "            if pair[0] == pair[1]:\n",
    "                res.append(str(pair[0]))\n",
    "            else:\n",
    "                res.append(\"%s->%s\" % (pair[0], pair[1]))\n",
    "        # print(res_temp)\n",
    "        return res"
   ]
  },
  {
   "cell_type": "code",
   "execution_count": null,
   "metadata": {},
   "outputs": [],
   "source": []
  }
 ],
 "metadata": {
  "kernelspec": {
   "display_name": "Python 3",
   "language": "python",
   "name": "python3"
  },
  "language_info": {
   "codemirror_mode": {
    "name": "ipython",
    "version": 3
   },
   "file_extension": ".py",
   "mimetype": "text/x-python",
   "name": "python",
   "nbconvert_exporter": "python",
   "pygments_lexer": "ipython3",
   "version": "3.7.1"
  },
  "toc": {
   "base_numbering": 1,
   "nav_menu": {},
   "number_sections": true,
   "sideBar": true,
   "skip_h1_title": false,
   "title_cell": "Table of Contents",
   "title_sidebar": "Contents",
   "toc_cell": false,
   "toc_position": {},
   "toc_section_display": true,
   "toc_window_display": false
  }
 },
 "nbformat": 4,
 "nbformat_minor": 2
}
