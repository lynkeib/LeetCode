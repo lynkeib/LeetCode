{
 "cells": [
  {
   "cell_type": "markdown",
   "metadata": {},
   "source": [
    "# Greedy"
   ]
  },
  {
   "cell_type": "markdown",
   "metadata": {},
   "source": [
    "## Tracking the farthest index can be reached (SLOW: 9.8%)"
   ]
  },
  {
   "cell_type": "code",
   "execution_count": 1,
   "metadata": {
    "ExecuteTime": {
     "end_time": "2019-10-14T05:04:55.270527Z",
     "start_time": "2019-10-14T05:04:55.263224Z"
    }
   },
   "outputs": [],
   "source": [
    "class Solution(object):\n",
    "    def canJump(self, nums):\n",
    "        \"\"\"\n",
    "        :type nums: List[int]\n",
    "        :rtype: bool\n",
    "        \"\"\"\n",
    "        index = 0\n",
    "        while index < len(nums):\n",
    "            if index == len(nums) - 1:\n",
    "                return True\n",
    "            if nums[index] == 0:\n",
    "                return False\n",
    "            farest = 0\n",
    "            farest_index = index\n",
    "            for jump in range(1, nums[index]+1):\n",
    "                if index + jump >= len(nums) - 1:\n",
    "                    return True\n",
    "                if index + jump + nums[index + jump] > farest:\n",
    "                    farest = index + jump + nums[index + jump]\n",
    "                    farest_index = index + jump\n",
    "            index = farest_index\n",
    "            # print(index)\n",
    "        return False"
   ]
  },
  {
   "cell_type": "markdown",
   "metadata": {},
   "source": [
    "## Same, but faster (23.41%)"
   ]
  },
  {
   "cell_type": "code",
   "execution_count": 2,
   "metadata": {
    "ExecuteTime": {
     "end_time": "2019-10-14T05:11:38.477638Z",
     "start_time": "2019-10-14T05:11:38.472728Z"
    }
   },
   "outputs": [],
   "source": [
    "class Solution(object):\n",
    "    def canJump(self, nums):\n",
    "        \"\"\"\n",
    "        :type nums: List[int]\n",
    "        :rtype: bool\n",
    "        \"\"\"\n",
    "        farthest_reach = 0\n",
    "        index = 0\n",
    "        while index < len(nums) and index <= farthest_reach:\n",
    "            farthest_reach = max(nums[index] + index, farthest_reach)\n",
    "            index += 1\n",
    "        return index == len(nums)"
   ]
  },
  {
   "cell_type": "markdown",
   "metadata": {},
   "source": [
    "## Reasoning"
   ]
  },
  {
   "cell_type": "markdown",
   "metadata": {},
   "source": [
    "farthest_reach records the farthest position we can reach from index = 0, and the termination condition here except for index == len(nums), we also add an additional condition: index <= farthest_reach, so if this condition is broke, then index will not equal to the len(nums), so let's consider when this (index <= farthest_reach) will break: <br/>\n",
    "this will break when index > farthest_reach, and this will happen only when that last farthest_reach is not updated, which means, when comparing then nums[index] + index and farthest_reach, the maximum one is always farthest_reach, that is being said, nums[index] = 0, so when this happened, the loop will be broken and index will not equal to len(nums)"
   ]
  },
  {
   "cell_type": "code",
   "execution_count": null,
   "metadata": {},
   "outputs": [],
   "source": []
  }
 ],
 "metadata": {
  "kernelspec": {
   "display_name": "Python 3",
   "language": "python",
   "name": "python3"
  },
  "language_info": {
   "codemirror_mode": {
    "name": "ipython",
    "version": 3
   },
   "file_extension": ".py",
   "mimetype": "text/x-python",
   "name": "python",
   "nbconvert_exporter": "python",
   "pygments_lexer": "ipython3",
   "version": "3.7.1"
  },
  "toc": {
   "base_numbering": 1,
   "nav_menu": {},
   "number_sections": true,
   "sideBar": true,
   "skip_h1_title": false,
   "title_cell": "Table of Contents",
   "title_sidebar": "Contents",
   "toc_cell": false,
   "toc_position": {},
   "toc_section_display": true,
   "toc_window_display": false
  }
 },
 "nbformat": 4,
 "nbformat_minor": 2
}
