{
 "cells": [
  {
   "cell_type": "code",
   "execution_count": 2,
   "metadata": {},
   "outputs": [],
   "source": [
    "public class Solution {\n",
    "    public double[] CalcEquation(IList<IList<string>> equations, double[] values, IList<IList<string>> queries) {\n",
    "        Dictionary<string, Dictionary<string, double>> graph = new Dictionary<string, Dictionary<string, double>>();\n",
    "        for(int i=0; i < values.Length; i++){\n",
    "            IList<string> pair = equations[i];\n",
    "            string n1 = pair[0], n2 = pair[1];\n",
    "            if(!graph.ContainsKey(n1)){\n",
    "                graph[n1] = new Dictionary<string, double>();\n",
    "            }\n",
    "            if(!graph.ContainsKey(n2)){\n",
    "                graph[n2] = new Dictionary<string, double>();\n",
    "            }\n",
    "            graph[n1][n2] = values[i];\n",
    "            graph[n2][n1] = 1 / values[i];\n",
    "        }\n",
    "        double[] res = new double[queries.Count];\n",
    "        for(int i=0; i < queries.Count; i++){\n",
    "            HashSet<string> visited = new HashSet<string>();\n",
    "            res[i] = dfs(queries[i][0], queries[i][1], ref graph, ref visited);\n",
    "        }\n",
    "        return res;\n",
    "    }\n",
    "    public double dfs(string curr, string end, ref Dictionary<string, Dictionary<string, double>> graph, ref HashSet<string> visited){\n",
    "        if(!graph.ContainsKey(curr) || !graph.ContainsKey(end)){\n",
    "            return -1.0;\n",
    "        }\n",
    "        if(curr==end){\n",
    "            return 1.0;\n",
    "        }\n",
    "        visited.Add(curr);\n",
    "        foreach(string n in graph[curr].Keys){\n",
    "            if(!visited.Contains(n)){\n",
    "                double last = dfs(n, end, ref graph, ref visited);\n",
    "                if(last != -1.0){\n",
    "                    return graph[curr][n] * last;\n",
    "                }\n",
    "            }\n",
    "        }\n",
    "        visited.Remove(curr);\n",
    "        return -1.0;\n",
    "    }\n",
    "}"
   ]
  },
  {
   "cell_type": "code",
   "execution_count": null,
   "metadata": {},
   "outputs": [],
   "source": []
  }
 ],
 "metadata": {
  "kernelspec": {
   "display_name": ".NET (C#)",
   "language": "C#",
   "name": ".net-csharp"
  },
  "language_info": {
   "file_extension": ".cs",
   "mimetype": "text/x-csharp",
   "name": "C#",
   "pygments_lexer": "csharp",
   "version": "8.0"
  },
  "toc": {
   "base_numbering": 1,
   "nav_menu": {},
   "number_sections": true,
   "sideBar": true,
   "skip_h1_title": false,
   "title_cell": "Table of Contents",
   "title_sidebar": "Contents",
   "toc_cell": false,
   "toc_position": {},
   "toc_section_display": true,
   "toc_window_display": false
  }
 },
 "nbformat": 4,
 "nbformat_minor": 4
}
