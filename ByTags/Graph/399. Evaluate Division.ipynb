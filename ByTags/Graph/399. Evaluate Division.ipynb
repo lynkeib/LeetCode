{
 "cells": [
  {
   "cell_type": "code",
   "execution_count": 1,
   "metadata": {},
   "outputs": [],
   "source": [
    "class Solution(object):\n",
    "    def calcEquation(self, equations, values, queries):\n",
    "        \"\"\"\n",
    "        :type equations: List[List[str]]\n",
    "        :type values: List[float]\n",
    "        :type queries: List[List[str]]\n",
    "        :rtype: List[float]\n",
    "        \"\"\"\n",
    "        graph = dict()\n",
    "        for index in range(len(values)):\n",
    "            n1, n2 = equations[index]\n",
    "            if n1 not in graph:\n",
    "                graph[n1] = dict()\n",
    "            if n2 not in graph:\n",
    "                graph[n2] = dict()\n",
    "            graph[n1][n2] = values[index]\n",
    "            graph[n2][n1] = 1.0/values[index] \n",
    "        res = []\n",
    "        for start, end in queries:\n",
    "            if start not in graph or end not in graph:\n",
    "                res.append(-1)\n",
    "                continue\n",
    "            visited = set()\n",
    "            res.append(self.dfs(start, end, graph, visited))\n",
    "        return res\n",
    "\n",
    "    def dfs(self, curr, end, graph, visited):\n",
    "        if curr not in graph or end not in graph:\n",
    "            return -1\n",
    "        if curr == end:\n",
    "            return 1\n",
    "        visited.add(curr)\n",
    "        for n in graph[curr]:\n",
    "            if n not in visited:\n",
    "                last = self.dfs(n, end, graph, visited)\n",
    "                if last != -1:\n",
    "                    return last * graph[curr][n]\n",
    "        visited.remove(curr)\n",
    "        return -1"
   ]
  },
  {
   "cell_type": "code",
   "execution_count": null,
   "metadata": {},
   "outputs": [],
   "source": []
  }
 ],
 "metadata": {
  "kernelspec": {
   "display_name": "Python 3",
   "language": "python",
   "name": "python3"
  },
  "language_info": {
   "codemirror_mode": {
    "name": "ipython",
    "version": 3
   },
   "file_extension": ".py",
   "mimetype": "text/x-python",
   "name": "python",
   "nbconvert_exporter": "python",
   "pygments_lexer": "ipython3",
   "version": "3.7.4"
  },
  "toc": {
   "base_numbering": 1,
   "nav_menu": {},
   "number_sections": true,
   "sideBar": true,
   "skip_h1_title": false,
   "title_cell": "Table of Contents",
   "title_sidebar": "Contents",
   "toc_cell": false,
   "toc_position": {},
   "toc_section_display": true,
   "toc_window_display": false
  }
 },
 "nbformat": 4,
 "nbformat_minor": 4
}
