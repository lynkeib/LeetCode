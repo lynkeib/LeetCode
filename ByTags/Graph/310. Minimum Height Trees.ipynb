{
 "cells": [
  {
   "cell_type": "markdown",
   "metadata": {},
   "source": [
    "# First Try"
   ]
  },
  {
   "cell_type": "code",
   "execution_count": 1,
   "metadata": {},
   "outputs": [],
   "source": [
    "class Solution(object):\n",
    "    def findMinHeightTrees(self, n, edges):\n",
    "        \"\"\"\n",
    "        :type n: int\n",
    "        :type edges: List[List[int]]\n",
    "        :rtype: List[int]\n",
    "        \"\"\"\n",
    "        if not edges:\n",
    "            return [i for i in range(n)]\n",
    "        graph = dict()\n",
    "        for n1, n2 in edges:\n",
    "            if n1 not in graph:\n",
    "                graph[n1] = set()\n",
    "            if n2 not in graph:\n",
    "                graph[n2] = set()\n",
    "            graph[n1].add(n2)\n",
    "            graph[n2].add(n1)\n",
    "        height = dict()\n",
    "        for n in graph:\n",
    "            visited = set()\n",
    "            self.calheight(None, n, height, graph, 0, visited)\n",
    "        res = []\n",
    "        min_height = min(height[None].values())\n",
    "        for node in height[None]:\n",
    "            if height[None][node] == min_height:\n",
    "                res.append(node)\n",
    "        return res;\n",
    "    \n",
    "    def calheight(self, parent, node, height, graph, h, visited):\n",
    "        if parent in height:\n",
    "            if node in height[parent]:\n",
    "                return height[parent][node]\n",
    "        visited.add(node)\n",
    "        if parent not in height:\n",
    "            height[parent] = dict()\n",
    "        max_height = 0\n",
    "        for n in graph[node]:\n",
    "            if n not in visited:\n",
    "                max_height = max(max_height, self.calheight(node, n, height, graph, h+1, visited))\n",
    "        height[parent][node] = max_height + 1\n",
    "        return height[parent][node]"
   ]
  },
  {
   "cell_type": "code",
   "execution_count": null,
   "metadata": {},
   "outputs": [],
   "source": []
  }
 ],
 "metadata": {
  "kernelspec": {
   "display_name": "Python 3",
   "language": "python",
   "name": "python3"
  },
  "language_info": {
   "codemirror_mode": {
    "name": "ipython",
    "version": 3
   },
   "file_extension": ".py",
   "mimetype": "text/x-python",
   "name": "python",
   "nbconvert_exporter": "python",
   "pygments_lexer": "ipython3",
   "version": "3.7.4"
  },
  "toc": {
   "base_numbering": 1,
   "nav_menu": {},
   "number_sections": true,
   "sideBar": true,
   "skip_h1_title": false,
   "title_cell": "Table of Contents",
   "title_sidebar": "Contents",
   "toc_cell": false,
   "toc_position": {},
   "toc_section_display": true,
   "toc_window_display": false
  }
 },
 "nbformat": 4,
 "nbformat_minor": 4
}
