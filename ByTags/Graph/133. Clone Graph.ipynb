{
 "cells": [
  {
   "cell_type": "markdown",
   "metadata": {},
   "source": [
    "# BFS"
   ]
  },
  {
   "cell_type": "code",
   "execution_count": 2,
   "metadata": {},
   "outputs": [],
   "source": [
    "\"\"\"\n",
    "# Definition for a Node.\n",
    "class Node(object):\n",
    "    def __init__(self, val = 0, neighbors = []):\n",
    "        self.val = val\n",
    "        self.neighbors = neighbors\n",
    "\"\"\"\n",
    "class Solution(object):\n",
    "    def cloneGraph(self, node):\n",
    "        \"\"\"\n",
    "        :type node: Node\n",
    "        :rtype: Node\n",
    "        \"\"\"\n",
    "        if not node:\n",
    "            return \n",
    "        new_graph = dict()\n",
    "        visited = set()\n",
    "        queue = [node]\n",
    "        while queue:\n",
    "            next_queue = []\n",
    "            for n in queue:\n",
    "                visited.add(n)\n",
    "                new_node = Node(n.val)\n",
    "                new_graph[n] = new_node\n",
    "                for nei in n.neighbors:\n",
    "                    if nei not in visited:\n",
    "                        next_queue.append(nei)\n",
    "            queue = next_queue\n",
    "        for n in new_graph:\n",
    "            new_graph[n].neighbors = [new_graph[nei] for nei in n.neighbors]\n",
    "        return new_graph[node]"
   ]
  },
  {
   "cell_type": "markdown",
   "metadata": {},
   "source": [
    "# DFS"
   ]
  },
  {
   "cell_type": "code",
   "execution_count": 3,
   "metadata": {},
   "outputs": [],
   "source": [
    "\"\"\"\n",
    "# Definition for a Node.\n",
    "class Node(object):\n",
    "    def __init__(self, val = 0, neighbors = []):\n",
    "        self.val = val\n",
    "        self.neighbors = neighbors\n",
    "\"\"\"\n",
    "class Solution(object):\n",
    "    def cloneGraph(self, node):\n",
    "        \"\"\"\n",
    "        :type node: Node\n",
    "        :rtype: Node\n",
    "        \"\"\"\n",
    "        if not node:\n",
    "            return\n",
    "        dic = {node:Node(node.val)}\n",
    "        self.dfs(node, dic)\n",
    "        return dic[node]\n",
    "        \n",
    "    def dfs(self, node, dic):\n",
    "        for nei in node.neighbors:\n",
    "            if nei not in dic:\n",
    "                dic[nei] = Node(nei.val)\n",
    "                dic[node].neighbors.append(dic[nei])\n",
    "                self.dfs(nei, dic)\n",
    "            else:\n",
    "                dic[node].neighbors.append(dic[nei])\n",
    "        return "
   ]
  },
  {
   "cell_type": "code",
   "execution_count": null,
   "metadata": {},
   "outputs": [],
   "source": [
    " "
   ]
  }
 ],
 "metadata": {
  "kernelspec": {
   "display_name": "Python 3",
   "language": "python",
   "name": "python3"
  },
  "language_info": {
   "codemirror_mode": {
    "name": "ipython",
    "version": 3
   },
   "file_extension": ".py",
   "mimetype": "text/x-python",
   "name": "python",
   "nbconvert_exporter": "python",
   "pygments_lexer": "ipython3",
   "version": "3.7.4"
  },
  "toc": {
   "base_numbering": 1,
   "nav_menu": {},
   "number_sections": true,
   "sideBar": true,
   "skip_h1_title": false,
   "title_cell": "Table of Contents",
   "title_sidebar": "Contents",
   "toc_cell": false,
   "toc_position": {},
   "toc_section_display": true,
   "toc_window_display": false
  }
 },
 "nbformat": 4,
 "nbformat_minor": 4
}
