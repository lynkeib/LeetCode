{
 "cells": [
  {
   "cell_type": "code",
   "execution_count": 1,
   "metadata": {
    "ExecuteTime": {
     "end_time": "2019-11-24T06:06:54.647613Z",
     "start_time": "2019-11-24T06:06:54.637891Z"
    }
   },
   "outputs": [],
   "source": [
    "# Definition for singly-linked list.\n",
    "# class ListNode(object):\n",
    "#     def __init__(self, x):\n",
    "#         self.val = x\n",
    "#         self.next = None\n",
    "\n",
    "class Solution(object):\n",
    "    def sortList(self, head):\n",
    "        \"\"\"\n",
    "        :type head: ListNode\n",
    "        :rtype: ListNode\n",
    "        \"\"\"\n",
    "        return self.mergesort(head)\n",
    "    \n",
    "    def mergesort(self, head):\n",
    "        length = 0\n",
    "        curr = head\n",
    "        while curr:\n",
    "            curr = curr.next\n",
    "            length += 1\n",
    "        # print(length)\n",
    "        if length <= 1:\n",
    "            return head\n",
    "        # print(head.val, length)\n",
    "        mid = self.find_middle(head, length)\n",
    "        # print(mid)\n",
    "        right = mid.next\n",
    "        left = head\n",
    "        mid.next = None\n",
    "        left = self.mergesort(left)\n",
    "        right = self.mergesort(right)\n",
    "        return self.sort(left, right)\n",
    "    \n",
    "    def sort(self, left, right):\n",
    "        # print(left, right)\n",
    "        new_head = ListNode(None)\n",
    "        curr = new_head\n",
    "        while left and right:\n",
    "            if left.val > right.val:\n",
    "                left, right = right, left\n",
    "            curr.next = left\n",
    "            left = left.next\n",
    "            curr = curr.next\n",
    "        if left:\n",
    "            curr.next = left\n",
    "        if right:\n",
    "            curr.next = right\n",
    "        # print(new_head)\n",
    "        return new_head.next\n",
    "        \n",
    "    def find_middle(self, head, length):\n",
    "        mid = length // 2\n",
    "        res = head\n",
    "        while mid != 1:\n",
    "            res = res.next\n",
    "            mid -= 1\n",
    "        return res\n",
    "        "
   ]
  },
  {
   "cell_type": "code",
   "execution_count": null,
   "metadata": {},
   "outputs": [],
   "source": []
  }
 ],
 "metadata": {
  "kernelspec": {
   "display_name": "Python 3",
   "language": "python",
   "name": "python3"
  },
  "language_info": {
   "codemirror_mode": {
    "name": "ipython",
    "version": 3
   },
   "file_extension": ".py",
   "mimetype": "text/x-python",
   "name": "python",
   "nbconvert_exporter": "python",
   "pygments_lexer": "ipython3",
   "version": "3.7.1"
  },
  "toc": {
   "base_numbering": 1,
   "nav_menu": {},
   "number_sections": true,
   "sideBar": true,
   "skip_h1_title": false,
   "title_cell": "Table of Contents",
   "title_sidebar": "Contents",
   "toc_cell": false,
   "toc_position": {},
   "toc_section_display": true,
   "toc_window_display": false
  }
 },
 "nbformat": 4,
 "nbformat_minor": 2
}
