{
 "cells": [
  {
   "cell_type": "code",
   "execution_count": 1,
   "metadata": {
    "ExecuteTime": {
     "end_time": "2019-11-25T06:31:27.667096Z",
     "start_time": "2019-11-25T06:31:27.660179Z"
    }
   },
   "outputs": [],
   "source": [
    "# Definition for singly-linked list.\n",
    "# class ListNode(object):\n",
    "#     def __init__(self, x):\n",
    "#         self.val = x\n",
    "#         self.next = None\n",
    "\n",
    "class Solution(object):\n",
    "    def insertionSortList(self, head):\n",
    "        \"\"\"\n",
    "        :type head: ListNode\n",
    "        :rtype: ListNode\n",
    "        \"\"\"\n",
    "        dummyhead = ListNode(None)\n",
    "        # curr = dummyhead\n",
    "        while head:\n",
    "            temp = head.next\n",
    "            head.next = None\n",
    "            prev, this_curr = None, dummyhead.next\n",
    "            while this_curr and this_curr.val < head.val:\n",
    "                prev = this_curr\n",
    "                this_curr = this_curr.next\n",
    "            if not prev:\n",
    "                dummyhead.next = head\n",
    "                head.next = this_curr\n",
    "            elif not this_curr:\n",
    "                prev.next = head\n",
    "            else:\n",
    "                prev.next = head\n",
    "                head.next = this_curr\n",
    "            head = temp\n",
    "        return dummyhead.next\n",
    "            \n",
    "                "
   ]
  },
  {
   "cell_type": "code",
   "execution_count": null,
   "metadata": {},
   "outputs": [],
   "source": []
  }
 ],
 "metadata": {
  "kernelspec": {
   "display_name": "Python 3",
   "language": "python",
   "name": "python3"
  },
  "language_info": {
   "codemirror_mode": {
    "name": "ipython",
    "version": 3
   },
   "file_extension": ".py",
   "mimetype": "text/x-python",
   "name": "python",
   "nbconvert_exporter": "python",
   "pygments_lexer": "ipython3",
   "version": "3.7.1"
  },
  "toc": {
   "base_numbering": 1,
   "nav_menu": {},
   "number_sections": true,
   "sideBar": true,
   "skip_h1_title": false,
   "title_cell": "Table of Contents",
   "title_sidebar": "Contents",
   "toc_cell": false,
   "toc_position": {},
   "toc_section_display": true,
   "toc_window_display": false
  }
 },
 "nbformat": 4,
 "nbformat_minor": 2
}
