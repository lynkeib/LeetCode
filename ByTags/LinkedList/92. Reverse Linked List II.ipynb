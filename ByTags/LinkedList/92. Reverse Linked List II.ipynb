{
 "cells": [
  {
   "cell_type": "code",
   "execution_count": 1,
   "metadata": {
    "ExecuteTime": {
     "end_time": "2019-11-20T03:28:29.741227Z",
     "start_time": "2019-11-20T03:28:29.734024Z"
    }
   },
   "outputs": [],
   "source": [
    "# Definition for singly-linked list.\n",
    "# class ListNode(object):\n",
    "#     def __init__(self, x):\n",
    "#         self.val = x\n",
    "#         self.next = None\n",
    "\n",
    "class Solution(object):\n",
    "    def reverseBetween(self, head, m, n):\n",
    "        \"\"\"\n",
    "        :type head: ListNode\n",
    "        :type m: int\n",
    "        :type n: int\n",
    "        :rtype: ListNode\n",
    "        \"\"\"\n",
    "        dummyhead = ListNode(None)\n",
    "        dummyhead.next = head\n",
    "        prev, start = dummyhead, head\n",
    "        counter = 1\n",
    "        while counter != m:\n",
    "            prev = start\n",
    "            start = start.next\n",
    "            counter += 1\n",
    "        po1 = prev\n",
    "        po2 = start\n",
    "        prev = None\n",
    "        while counter != n:\n",
    "            temp = start.next\n",
    "            start.next = prev\n",
    "            prev = start\n",
    "            start = temp\n",
    "            counter += 1\n",
    "        po3 = start\n",
    "        po4 = start.next\n",
    "        start.next = prev\n",
    "        po1.next = po3\n",
    "        po2.next = po4\n",
    "        return dummyhead.next"
   ]
  },
  {
   "cell_type": "code",
   "execution_count": null,
   "metadata": {},
   "outputs": [],
   "source": []
  }
 ],
 "metadata": {
  "kernelspec": {
   "display_name": "Python 3",
   "language": "python",
   "name": "python3"
  },
  "language_info": {
   "codemirror_mode": {
    "name": "ipython",
    "version": 3
   },
   "file_extension": ".py",
   "mimetype": "text/x-python",
   "name": "python",
   "nbconvert_exporter": "python",
   "pygments_lexer": "ipython3",
   "version": "3.7.1"
  },
  "toc": {
   "base_numbering": 1,
   "nav_menu": {},
   "number_sections": true,
   "sideBar": true,
   "skip_h1_title": false,
   "title_cell": "Table of Contents",
   "title_sidebar": "Contents",
   "toc_cell": false,
   "toc_position": {},
   "toc_section_display": true,
   "toc_window_display": false
  }
 },
 "nbformat": 4,
 "nbformat_minor": 2
}
