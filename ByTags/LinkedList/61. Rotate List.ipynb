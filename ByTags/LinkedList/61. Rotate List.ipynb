{
 "cells": [
  {
   "cell_type": "code",
   "execution_count": 1,
   "metadata": {
    "ExecuteTime": {
     "end_time": "2019-11-25T06:09:10.103573Z",
     "start_time": "2019-11-25T06:09:10.095865Z"
    }
   },
   "outputs": [],
   "source": [
    "# Definition for singly-linked list.\n",
    "# class ListNode(object):\n",
    "#     def __init__(self, x):\n",
    "#         self.val = x\n",
    "#         self.next = None\n",
    "\n",
    "class Solution(object):\n",
    "    def rotateRight(self, head, k):\n",
    "        \"\"\"\n",
    "        :type head: ListNode\n",
    "        :type k: int\n",
    "        :rtype: ListNode\n",
    "        \"\"\"\n",
    "        if not head:\n",
    "            return \n",
    "        pos = dict()\n",
    "        length = 0\n",
    "        curr = head\n",
    "        while curr:\n",
    "            pos[length] = curr\n",
    "            length += 1\n",
    "            temp = curr.next\n",
    "            curr.next = None\n",
    "            curr = temp\n",
    "        k = k % length\n",
    "        dummyhead = ListNode(None)\n",
    "        curr = dummyhead\n",
    "        for index, node in pos.items():\n",
    "            print(index, node)\n",
    "        counter = 0\n",
    "        start = length - k\n",
    "        while counter != length:\n",
    "            this = start % length\n",
    "            curr.next = pos[this]\n",
    "            curr = curr.next\n",
    "            counter += 1\n",
    "            start += 1\n",
    "        return dummyhead.next"
   ]
  },
  {
   "cell_type": "markdown",
   "metadata": {},
   "source": [
    "# Using Loop, much faster"
   ]
  },
  {
   "cell_type": "code",
   "execution_count": 2,
   "metadata": {
    "ExecuteTime": {
     "end_time": "2019-11-25T06:14:50.220771Z",
     "start_time": "2019-11-25T06:14:50.213200Z"
    }
   },
   "outputs": [],
   "source": [
    "# Definition for singly-linked list.\n",
    "# class ListNode(object):\n",
    "#     def __init__(self, x):\n",
    "#         self.val = x\n",
    "#         self.next = None\n",
    "\n",
    "class Solution(object):\n",
    "    def rotateRight(self, head, k):\n",
    "        \"\"\"\n",
    "        :type head: ListNode\n",
    "        :type k: int\n",
    "        :rtype: ListNode\n",
    "        \"\"\"\n",
    "        if not head:\n",
    "            return \n",
    "        length = 1\n",
    "        curr = head\n",
    "        while curr.next:\n",
    "            length += 1\n",
    "            curr = curr.next\n",
    "        print(length)\n",
    "        curr.next = head\n",
    "        stop = length - (k % length) - 1\n",
    "        new_tail = head\n",
    "        while stop != 0:\n",
    "            new_tail = new_tail.next\n",
    "            stop -= 1\n",
    "        new_head = new_tail.next\n",
    "        new_tail.next = None\n",
    "        return new_head    "
   ]
  },
  {
   "cell_type": "code",
   "execution_count": null,
   "metadata": {},
   "outputs": [],
   "source": []
  }
 ],
 "metadata": {
  "kernelspec": {
   "display_name": "Python 3",
   "language": "python",
   "name": "python3"
  },
  "language_info": {
   "codemirror_mode": {
    "name": "ipython",
    "version": 3
   },
   "file_extension": ".py",
   "mimetype": "text/x-python",
   "name": "python",
   "nbconvert_exporter": "python",
   "pygments_lexer": "ipython3",
   "version": "3.7.1"
  },
  "toc": {
   "base_numbering": 1,
   "nav_menu": {},
   "number_sections": true,
   "sideBar": true,
   "skip_h1_title": false,
   "title_cell": "Table of Contents",
   "title_sidebar": "Contents",
   "toc_cell": false,
   "toc_position": {},
   "toc_section_display": true,
   "toc_window_display": false
  }
 },
 "nbformat": 4,
 "nbformat_minor": 2
}
