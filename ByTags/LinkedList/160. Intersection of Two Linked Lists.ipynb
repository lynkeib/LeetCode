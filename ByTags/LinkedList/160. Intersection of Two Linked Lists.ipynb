{
 "cells": [
  {
   "cell_type": "markdown",
   "metadata": {},
   "source": [
    "# Loop"
   ]
  },
  {
   "cell_type": "code",
   "execution_count": 1,
   "metadata": {
    "ExecuteTime": {
     "end_time": "2019-11-21T00:53:35.727983Z",
     "start_time": "2019-11-21T00:53:35.718825Z"
    }
   },
   "outputs": [],
   "source": [
    "# Definition for singly-linked list.\n",
    "# class ListNode(object):\n",
    "#     def __init__(self, x):\n",
    "#         self.val = x\n",
    "#         self.next = None\n",
    "\n",
    "class Solution(object):\n",
    "    def getIntersectionNode(self, headA, headB):\n",
    "        \"\"\"\n",
    "        :type head1, head1: ListNode\n",
    "        :rtype: ListNode\n",
    "        \"\"\"\n",
    "        currA, currB = headA, headB\n",
    "        lastA, lastB = 'A', \"B\"\n",
    "        while currA != currB:\n",
    "            if not currA:\n",
    "                if lastA == 'A':\n",
    "                    lastA = 'B'\n",
    "                    currA = headB\n",
    "                else:\n",
    "                    currA = headA\n",
    "                    lastA = 'A'\n",
    "            else:\n",
    "                currA = currA.next\n",
    "            if not currB:\n",
    "                if lastB == 'B':\n",
    "                    currB = headA\n",
    "                    lastB = 'A'\n",
    "                else:\n",
    "                    currB = headB\n",
    "                    lastB = 'B'\n",
    "            else:\n",
    "                currB = currB.next\n",
    "        return currA"
   ]
  },
  {
   "cell_type": "markdown",
   "metadata": {},
   "source": [
    "# Simple Method (but faster)"
   ]
  },
  {
   "cell_type": "code",
   "execution_count": 2,
   "metadata": {
    "ExecuteTime": {
     "end_time": "2019-11-21T01:08:44.792481Z",
     "start_time": "2019-11-21T01:08:44.784548Z"
    }
   },
   "outputs": [],
   "source": [
    "# Definition for singly-linked list.\n",
    "# class ListNode(object):\n",
    "#     def __init__(self, x):\n",
    "#         self.val = x\n",
    "#         self.next = None\n",
    "\n",
    "class Solution(object):\n",
    "    def getIntersectionNode(self, headA, headB):\n",
    "        \"\"\"\n",
    "        :type head1, head1: ListNode\n",
    "        :rtype: ListNode\n",
    "        \"\"\"\n",
    "        lenA, lenB = 0, 0\n",
    "        currA, currB = headA, headB\n",
    "        while currA:\n",
    "            lenA += 1\n",
    "            currA = currA.next\n",
    "        while currB:\n",
    "            lenB += 1\n",
    "            currB = currB.next\n",
    "        if lenA < lenB:\n",
    "            headA, headB = headB, headA\n",
    "            lenA, lenB = lenB, lenA\n",
    "        while lenA > lenB:\n",
    "            headA = headA.next\n",
    "            lenA -= 1\n",
    "        # print(headA)\n",
    "        # print(headB)\n",
    "        while headA != headB:\n",
    "            headA = headA.next\n",
    "            headB = headB.next\n",
    "        return headA"
   ]
  },
  {
   "cell_type": "code",
   "execution_count": null,
   "metadata": {},
   "outputs": [],
   "source": []
  }
 ],
 "metadata": {
  "kernelspec": {
   "display_name": "Python 3",
   "language": "python",
   "name": "python3"
  },
  "language_info": {
   "codemirror_mode": {
    "name": "ipython",
    "version": 3
   },
   "file_extension": ".py",
   "mimetype": "text/x-python",
   "name": "python",
   "nbconvert_exporter": "python",
   "pygments_lexer": "ipython3",
   "version": "3.7.1"
  },
  "toc": {
   "base_numbering": 1,
   "nav_menu": {},
   "number_sections": true,
   "sideBar": true,
   "skip_h1_title": false,
   "title_cell": "Table of Contents",
   "title_sidebar": "Contents",
   "toc_cell": false,
   "toc_position": {},
   "toc_section_display": true,
   "toc_window_display": false
  }
 },
 "nbformat": 4,
 "nbformat_minor": 2
}
