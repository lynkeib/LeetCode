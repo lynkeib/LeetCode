{
 "cells": [
  {
   "cell_type": "code",
   "execution_count": 1,
   "metadata": {
    "ExecuteTime": {
     "end_time": "2019-11-21T04:21:15.228902Z",
     "start_time": "2019-11-21T04:21:15.216496Z"
    }
   },
   "outputs": [],
   "source": [
    "# Definition for singly-linked list.\n",
    "# class ListNode(object):\n",
    "#     def __init__(self, x):\n",
    "#         self.val = x\n",
    "#         self.next = None\n",
    "\n",
    "class Solution(object):\n",
    "    def isPalindrome(self, head):\n",
    "        \"\"\"\n",
    "        :type head: ListNode\n",
    "        :rtype: bool\n",
    "        \"\"\"\n",
    "        if not head:\n",
    "            return True\n",
    "        curr = head\n",
    "        length = 0\n",
    "        while curr:\n",
    "            length += 1\n",
    "            curr = curr.next\n",
    "        if length % 2 == 0:\n",
    "            mid = length / 2\n",
    "            new_head = head\n",
    "            prev = None\n",
    "            while mid != 0:\n",
    "                prev = new_head\n",
    "                new_head = new_head.next\n",
    "                mid -= 1\n",
    "            prev.next = None\n",
    "            prev, curr = None, new_head\n",
    "            while curr:\n",
    "                temp = curr.next\n",
    "                curr.next = prev\n",
    "                prev = curr\n",
    "                curr = temp\n",
    "            \n",
    "            print(prev)\n",
    "            while prev or head:\n",
    "                if not prev or not head:\n",
    "                    return False\n",
    "                if prev.val != head.val:\n",
    "                    return False\n",
    "                prev = prev.next\n",
    "                head = head.next\n",
    "            if not prev and not head:\n",
    "                return True\n",
    "            return False\n",
    "        else:\n",
    "            mid = length // 2\n",
    "            new_head = head\n",
    "            prev = None\n",
    "            while mid != -1:\n",
    "                prev = new_head\n",
    "                new_head = new_head.next\n",
    "                mid -= 1\n",
    "            prev.next = None\n",
    "            curr = new_head\n",
    "            while curr:\n",
    "                temp = curr.next\n",
    "                curr.next = prev\n",
    "                prev = curr\n",
    "                curr = temp\n",
    "            while prev or head:\n",
    "                if not prev or not head:\n",
    "                    return False\n",
    "                if prev.val != head.val:\n",
    "                    return False\n",
    "                prev = prev.next\n",
    "                head = head.next\n",
    "            if not prev and not head:\n",
    "                return True\n",
    "            return False"
   ]
  },
  {
   "cell_type": "code",
   "execution_count": null,
   "metadata": {},
   "outputs": [],
   "source": []
  }
 ],
 "metadata": {
  "kernelspec": {
   "display_name": "Python 3",
   "language": "python",
   "name": "python3"
  },
  "language_info": {
   "codemirror_mode": {
    "name": "ipython",
    "version": 3
   },
   "file_extension": ".py",
   "mimetype": "text/x-python",
   "name": "python",
   "nbconvert_exporter": "python",
   "pygments_lexer": "ipython3",
   "version": "3.7.1"
  },
  "toc": {
   "base_numbering": 1,
   "nav_menu": {},
   "number_sections": true,
   "sideBar": true,
   "skip_h1_title": false,
   "title_cell": "Table of Contents",
   "title_sidebar": "Contents",
   "toc_cell": false,
   "toc_position": {},
   "toc_section_display": true,
   "toc_window_display": false
  }
 },
 "nbformat": 4,
 "nbformat_minor": 2
}
