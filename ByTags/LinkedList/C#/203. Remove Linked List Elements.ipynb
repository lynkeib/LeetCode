{
 "cells": [
  {
   "cell_type": "code",
   "execution_count": 1,
   "metadata": {
    "ExecuteTime": {
     "end_time": "2020-04-05T16:56:17.0327560Z",
     "start_time": "2020-04-05T16:56:16.111Z"
    }
   },
   "outputs": [
    {
     "ename": "Unhandled Exception",
     "evalue": "(10,37): error CS0246: The type or namespace name 'ListNode' could not be found (are you missing a using directive or an assembly reference?)\n(10,12): error CS0246: The type or namespace name 'ListNode' could not be found (are you missing a using directive or an assembly reference?)\n(11,29): error CS0246: The type or namespace name 'ListNode' could not be found (are you missing a using directive or an assembly reference?)",
     "output_type": "error",
     "traceback": [
      "(10,37): error CS0246: The type or namespace name 'ListNode' could not be found (are you missing a using directive or an assembly reference?)\n(10,12): error CS0246: The type or namespace name 'ListNode' could not be found (are you missing a using directive or an assembly reference?)\n(11,29): error CS0246: The type or namespace name 'ListNode' could not be found (are you missing a using directive or an assembly reference?)"
     ]
    }
   ],
   "source": [
    "/**\n",
    " * Definition for singly-linked list.\n",
    " * public class ListNode {\n",
    " *     public int val;\n",
    " *     public ListNode next;\n",
    " *     public ListNode(int x) { val = x; }\n",
    " * }\n",
    " */\n",
    "public class Solution {\n",
    "    public ListNode RemoveElements (ListNode head, int val) {\n",
    "        var dummyhead = new ListNode (0);\n",
    "        dummyhead.next = head;\n",
    "        var pre = dummyhead;\n",
    "        var curr = head;\n",
    "        while (curr != null) {\n",
    "            if (curr.val == val) {\n",
    "                pre.next = curr.next;\n",
    "            } else {\n",
    "                pre = pre.next;\n",
    "            }\n",
    "            curr = curr.next;\n",
    "        }\n",
    "        return dummyhead.next;\n",
    "    }\n",
    "}"
   ]
  },
  {
   "cell_type": "code",
   "execution_count": null,
   "metadata": {},
   "outputs": [],
   "source": []
  }
 ],
 "metadata": {
  "kernelspec": {
   "display_name": ".NET (C#)",
   "language": "C#",
   "name": ".net-csharp"
  },
  "language_info": {
   "file_extension": ".cs",
   "mimetype": "text/x-csharp",
   "name": "C#",
   "pygments_lexer": "csharp",
   "version": "8.0"
  },
  "toc": {
   "base_numbering": 1,
   "nav_menu": {},
   "number_sections": true,
   "sideBar": true,
   "skip_h1_title": false,
   "title_cell": "Table of Contents",
   "title_sidebar": "Contents",
   "toc_cell": false,
   "toc_position": {},
   "toc_section_display": true,
   "toc_window_display": false
  }
 },
 "nbformat": 4,
 "nbformat_minor": 4
}
