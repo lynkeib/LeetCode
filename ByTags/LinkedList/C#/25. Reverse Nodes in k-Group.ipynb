{
 "cells": [
  {
   "cell_type": "code",
   "execution_count": 1,
   "metadata": {
    "ExecuteTime": {
     "end_time": "2020-05-16T00:21:05.0756210Z",
     "start_time": "2020-05-16T00:21:03.787Z"
    }
   },
   "outputs": [
    {
     "ename": "Unhandled Exception",
     "evalue": "(13,35): error CS0246: The type or namespace name 'ListNode' could not be found (are you missing a using directive or an assembly reference?)\n(13,12): error CS0246: The type or namespace name 'ListNode' could not be found (are you missing a using directive or an assembly reference?)\n(17,29): error CS0246: The type or namespace name 'ListNode' could not be found (are you missing a using directive or an assembly reference?)\n(32,13): error CS0246: The type or namespace name 'ListNode' could not be found (are you missing a using directive or an assembly reference?)",
     "output_type": "error",
     "traceback": [
      "(13,35): error CS0246: The type or namespace name 'ListNode' could not be found (are you missing a using directive or an assembly reference?)\n(13,12): error CS0246: The type or namespace name 'ListNode' could not be found (are you missing a using directive or an assembly reference?)\n(17,29): error CS0246: The type or namespace name 'ListNode' could not be found (are you missing a using directive or an assembly reference?)\n(32,13): error CS0246: The type or namespace name 'ListNode' could not be found (are you missing a using directive or an assembly reference?)"
     ]
    }
   ],
   "source": [
    "/**\n",
    " * Definition for singly-linked list.\n",
    " * public class ListNode {\n",
    " *     public int val;\n",
    " *     public ListNode next;\n",
    " *     public ListNode(int val=0, ListNode next=null) {\n",
    " *         this.val = val;\n",
    " *         this.next = next;\n",
    " *     }\n",
    " * }\n",
    " */\n",
    "public class Solution {\n",
    "    public ListNode ReverseKGroup(ListNode head, int k) {\n",
    "        if(k <= 1){\n",
    "            return head;\n",
    "        }\n",
    "        var dummyhead = new ListNode(0, head);\n",
    "        var start = dummyhead;\n",
    "        \n",
    "        while(true){\n",
    "            var count = k;\n",
    "            var curr = start;\n",
    "            while(curr != null && count > 0){\n",
    "                curr = curr.next;\n",
    "                count--;\n",
    "            }\n",
    "            if(curr == null){\n",
    "                return dummyhead.next;\n",
    "            }\n",
    "            // reverse\n",
    "            count = k;\n",
    "            ListNode prev = null;\n",
    "            var next = start.next;\n",
    "            // Console.WriteLine(next.val);\n",
    "            while(count != 0){\n",
    "                var t = next.next;\n",
    "                next.next = prev;\n",
    "                prev = next;\n",
    "                next = t;\n",
    "                count--;\n",
    "            }\n",
    "            var temp = start.next;\n",
    "            start.next = prev;\n",
    "            temp.next = next;\n",
    "            start = temp;\n",
    "        }\n",
    "        return dummyhead.next;\n",
    "    }\n",
    "    \n",
    "}"
   ]
  },
  {
   "cell_type": "code",
   "execution_count": null,
   "metadata": {},
   "outputs": [],
   "source": []
  }
 ],
 "metadata": {
  "kernelspec": {
   "display_name": ".NET (C#)",
   "language": "C#",
   "name": ".net-csharp"
  },
  "language_info": {
   "file_extension": ".cs",
   "mimetype": "text/x-csharp",
   "name": "C#",
   "pygments_lexer": "csharp",
   "version": "8.0"
  },
  "toc": {
   "base_numbering": 1,
   "nav_menu": {},
   "number_sections": true,
   "sideBar": true,
   "skip_h1_title": false,
   "title_cell": "Table of Contents",
   "title_sidebar": "Contents",
   "toc_cell": false,
   "toc_position": {},
   "toc_section_display": true,
   "toc_window_display": false
  }
 },
 "nbformat": 4,
 "nbformat_minor": 4
}
