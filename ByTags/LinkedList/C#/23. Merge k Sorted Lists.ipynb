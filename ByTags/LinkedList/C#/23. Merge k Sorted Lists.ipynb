{
 "cells": [
  {
   "cell_type": "code",
   "execution_count": 2,
   "metadata": {},
   "outputs": [
    {
     "ename": "Unhandled Exception",
     "evalue": "(9,29): error CS7036: There is no argument given that corresponds to the required formal parameter 'x' of 'ListNode.ListNode(int)'",
     "output_type": "error",
     "traceback": [
      "(9,29): error CS7036: There is no argument given that corresponds to the required formal parameter 'x' of 'ListNode.ListNode(int)'"
     ]
    }
   ],
   "source": [
    "public class ListNode {\n",
    "     public int val;\n",
    "     public ListNode next;\n",
    "    public ListNode(int x) { val = x; }\n",
    "}\n",
    "\n",
    "public class Solution {\n",
    "    public ListNode MergeKLists(ListNode[] lists) {\n",
    "        var dummyhead = new ListNode();\n",
    "        var curr = dummyhead;\n",
    "        while(true){\n",
    "            bool hasvalue = false;\n",
    "            var min_index = 0;\n",
    "            var min_value = int.MaxValue;\n",
    "            for(int i = 0; i < lists.Length; i++){\n",
    "                if(lists[i] != null){\n",
    "                    hasvalue = true;\n",
    "                    if(lists[i].val < min_value){\n",
    "                        min_index = i;\n",
    "                        min_value = lists[i].val;\n",
    "                    }\n",
    "                }\n",
    "            }\n",
    "            if(hasvalue == false){\n",
    "                return dummyhead.next;\n",
    "            }\n",
    "            curr.next = lists[min_index];\n",
    "            curr = curr.next;\n",
    "            lists[min_index] = lists[min_index].next;\n",
    "        }\n",
    "    }\n",
    "}"
   ]
  },
  {
   "cell_type": "code",
   "execution_count": null,
   "metadata": {},
   "outputs": [],
   "source": []
  }
 ],
 "metadata": {
  "kernelspec": {
   "display_name": ".NET (C#)",
   "language": "C#",
   "name": ".net-csharp"
  },
  "language_info": {
   "file_extension": ".cs",
   "mimetype": "text/x-csharp",
   "name": "C#",
   "pygments_lexer": "csharp",
   "version": "8.0"
  },
  "toc": {
   "base_numbering": 1,
   "nav_menu": {},
   "number_sections": true,
   "sideBar": true,
   "skip_h1_title": false,
   "title_cell": "Table of Contents",
   "title_sidebar": "Contents",
   "toc_cell": false,
   "toc_position": {},
   "toc_section_display": true,
   "toc_window_display": false
  }
 },
 "nbformat": 4,
 "nbformat_minor": 4
}
