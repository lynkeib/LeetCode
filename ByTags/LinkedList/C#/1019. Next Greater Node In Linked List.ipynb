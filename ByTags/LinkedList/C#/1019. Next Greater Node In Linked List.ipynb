{
 "cells": [
  {
   "cell_type": "code",
   "execution_count": 1,
   "metadata": {
    "ExecuteTime": {
     "end_time": "2020-05-16T04:14:42.6459250Z",
     "start_time": "2020-05-16T04:14:41.522Z"
    }
   },
   "outputs": [
    {
     "ename": "Unhandled Exception",
     "evalue": "(13,34): error CS0246: The type or namespace name 'ListNode' could not be found (are you missing a using directive or an assembly reference?)",
     "output_type": "error",
     "traceback": [
      "(13,34): error CS0246: The type or namespace name 'ListNode' could not be found (are you missing a using directive or an assembly reference?)"
     ]
    }
   ],
   "source": [
    "/**\n",
    " * Definition for singly-linked list.\n",
    " * public class ListNode {\n",
    " *     public int val;\n",
    " *     public ListNode next;\n",
    " *     public ListNode(int val=0, ListNode next=null) {\n",
    " *         this.val = val;\n",
    " *         this.next = next;\n",
    " *     }\n",
    " * }\n",
    " */\n",
    "public class Solution {\n",
    "    public int[] NextLargerNodes(ListNode head) {\n",
    "        var count = 0;\n",
    "        var curr = head;\n",
    "        while(curr != null){\n",
    "            curr = curr.next;\n",
    "            count++;\n",
    "        }\n",
    "        var res = new int[count];\n",
    "        var stack = new Stack<(int, int)>();\n",
    "        count = 0;\n",
    "        while(head != null){\n",
    "            while(stack.Count != 0 && head.val > stack.Peek().Item2){\n",
    "                var node = stack.Pop();\n",
    "                res[node.Item1] = head.val;\n",
    "            }\n",
    "            stack.Push((count, head.val));\n",
    "            count++;\n",
    "            head = head.next;\n",
    "        }\n",
    "        return res;\n",
    "    }\n",
    "}"
   ]
  },
  {
   "cell_type": "code",
   "execution_count": null,
   "metadata": {},
   "outputs": [],
   "source": []
  }
 ],
 "metadata": {
  "kernelspec": {
   "display_name": ".NET (C#)",
   "language": "C#",
   "name": ".net-csharp"
  },
  "language_info": {
   "file_extension": ".cs",
   "mimetype": "text/x-csharp",
   "name": "C#",
   "pygments_lexer": "csharp",
   "version": "8.0"
  },
  "toc": {
   "base_numbering": 1,
   "nav_menu": {},
   "number_sections": true,
   "sideBar": true,
   "skip_h1_title": false,
   "title_cell": "Table of Contents",
   "title_sidebar": "Contents",
   "toc_cell": false,
   "toc_position": {},
   "toc_section_display": true,
   "toc_window_display": false
  }
 },
 "nbformat": 4,
 "nbformat_minor": 4
}
