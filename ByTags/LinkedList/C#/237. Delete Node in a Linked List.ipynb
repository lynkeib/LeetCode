{
 "cells": [
  {
   "cell_type": "code",
   "execution_count": 1,
   "metadata": {
    "ExecuteTime": {
     "end_time": "2020-04-05T16:51:03.1031520Z",
     "start_time": "2020-04-05T16:51:02.381Z"
    }
   },
   "outputs": [
    {
     "ename": "Unhandled Exception",
     "evalue": "(10,28): error CS0246: The type or namespace name 'ListNode' could not be found (are you missing a using directive or an assembly reference?)",
     "output_type": "error",
     "traceback": [
      "(10,28): error CS0246: The type or namespace name 'ListNode' could not be found (are you missing a using directive or an assembly reference?)"
     ]
    }
   ],
   "source": [
    "/**\n",
    " * Definition for singly-linked list.\n",
    " * public class ListNode {\n",
    " *     public int val;\n",
    " *     public ListNode next;\n",
    " *     public ListNode(int x) { val = x; }\n",
    " * }\n",
    " */\n",
    "public class Solution {\n",
    "    public void DeleteNode(ListNode node) {\n",
    "        var next = node.next;\n",
    "        var curr = node;\n",
    "        while(next.next != null){\n",
    "            curr.val = next.val;\n",
    "            curr = curr.next;\n",
    "            next = next.next;\n",
    "        }\n",
    "        curr.val = next.val;\n",
    "        curr.next = null;\n",
    "        return;\n",
    "    }\n",
    "}"
   ]
  },
  {
   "cell_type": "code",
   "execution_count": 2,
   "metadata": {
    "ExecuteTime": {
     "end_time": "2020-04-05T16:52:36.1416160Z",
     "start_time": "2020-04-05T16:52:36.098Z"
    }
   },
   "outputs": [
    {
     "ename": "Unhandled Exception",
     "evalue": "(10,28): error CS0246: The type or namespace name 'ListNode' could not be found (are you missing a using directive or an assembly reference?)",
     "output_type": "error",
     "traceback": [
      "(10,28): error CS0246: The type or namespace name 'ListNode' could not be found (are you missing a using directive or an assembly reference?)"
     ]
    }
   ],
   "source": [
    "/**\n",
    " * Definition for singly-linked list.\n",
    " * public class ListNode {\n",
    " *     public int val;\n",
    " *     public ListNode next;\n",
    " *     public ListNode(int x) { val = x; }\n",
    " * }\n",
    " */\n",
    "public class Solution {\n",
    "    public void DeleteNode(ListNode node) {\n",
    "        node.val = node.next.val;\n",
    "        node.next = node.next.next;\n",
    "        return;\n",
    "    }\n",
    "}"
   ]
  },
  {
   "cell_type": "code",
   "execution_count": null,
   "metadata": {},
   "outputs": [],
   "source": []
  }
 ],
 "metadata": {
  "kernelspec": {
   "display_name": ".NET (C#)",
   "language": "C#",
   "name": ".net-csharp"
  },
  "language_info": {
   "file_extension": ".cs",
   "mimetype": "text/x-csharp",
   "name": "C#",
   "pygments_lexer": "csharp",
   "version": "8.0"
  },
  "toc": {
   "base_numbering": 1,
   "nav_menu": {},
   "number_sections": true,
   "sideBar": true,
   "skip_h1_title": false,
   "title_cell": "Table of Contents",
   "title_sidebar": "Contents",
   "toc_cell": false,
   "toc_position": {},
   "toc_section_display": true,
   "toc_window_display": false
  }
 },
 "nbformat": 4,
 "nbformat_minor": 4
}
