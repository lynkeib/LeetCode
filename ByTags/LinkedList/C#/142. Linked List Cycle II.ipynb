{
 "cells": [
  {
   "cell_type": "code",
   "execution_count": 1,
   "metadata": {
    "ExecuteTime": {
     "end_time": "2020-04-12T05:54:29.0834270Z",
     "start_time": "2020-04-12T05:54:28.327Z"
    }
   },
   "outputs": [
    {
     "ename": "Unhandled Exception",
     "evalue": "(13,33): error CS0246: The type or namespace name 'ListNode' could not be found (are you missing a using directive or an assembly reference?)\n(13,12): error CS0246: The type or namespace name 'ListNode' could not be found (are you missing a using directive or an assembly reference?)",
     "output_type": "error",
     "traceback": [
      "(13,33): error CS0246: The type or namespace name 'ListNode' could not be found (are you missing a using directive or an assembly reference?)\n(13,12): error CS0246: The type or namespace name 'ListNode' could not be found (are you missing a using directive or an assembly reference?)"
     ]
    }
   ],
   "source": [
    "/**\n",
    " * Definition for singly-linked list.\n",
    " * public class ListNode {\n",
    " *     public int val;\n",
    " *     public ListNode next;\n",
    " *     public ListNode(int x) {\n",
    " *         val = x;\n",
    " *         next = null;\n",
    " *     }\n",
    " * }\n",
    " */\n",
    "public class Solution {\n",
    "    public ListNode DetectCycle(ListNode head) {\n",
    "        var slow = head;\n",
    "        var fast = head;\n",
    "        while(fast != null && fast.next != null){\n",
    "            slow = slow.next;\n",
    "            fast = fast.next.next;\n",
    "            if(slow == fast){\n",
    "                break;\n",
    "            }\n",
    "        }\n",
    "        if(fast == null || fast.next == null){\n",
    "            return null;\n",
    "        }\n",
    "        slow = head;\n",
    "        while(fast != slow){\n",
    "            fast = fast.next;\n",
    "            slow = slow.next;\n",
    "        }\n",
    "        return slow;\n",
    "    }\n",
    "}"
   ]
  },
  {
   "cell_type": "code",
   "execution_count": null,
   "metadata": {},
   "outputs": [],
   "source": []
  }
 ],
 "metadata": {
  "kernelspec": {
   "display_name": ".NET (C#)",
   "language": "C#",
   "name": ".net-csharp"
  },
  "language_info": {
   "file_extension": ".cs",
   "mimetype": "text/x-csharp",
   "name": "C#",
   "pygments_lexer": "csharp",
   "version": "8.0"
  },
  "toc": {
   "base_numbering": 1,
   "nav_menu": {},
   "number_sections": true,
   "sideBar": true,
   "skip_h1_title": false,
   "title_cell": "Table of Contents",
   "title_sidebar": "Contents",
   "toc_cell": false,
   "toc_position": {},
   "toc_section_display": true,
   "toc_window_display": false
  }
 },
 "nbformat": 4,
 "nbformat_minor": 4
}
