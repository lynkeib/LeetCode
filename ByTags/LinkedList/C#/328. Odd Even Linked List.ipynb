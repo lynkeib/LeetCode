{
 "cells": [
  {
   "cell_type": "code",
   "execution_count": 1,
   "metadata": {
    "ExecuteTime": {
     "end_time": "2020-05-16T17:47:08.6825450Z",
     "start_time": "2020-05-16T17:47:08.173Z"
    }
   },
   "outputs": [
    {
     "ename": "Unhandled Exception",
     "evalue": "(13,33): error CS0246: The type or namespace name 'ListNode' could not be found (are you missing a using directive or an assembly reference?)\n(13,12): error CS0246: The type or namespace name 'ListNode' could not be found (are you missing a using directive or an assembly reference?)\n(14,32): error CS0246: The type or namespace name 'ListNode' could not be found (are you missing a using directive or an assembly reference?)\n(16,33): error CS0246: The type or namespace name 'ListNode' could not be found (are you missing a using directive or an assembly reference?)",
     "output_type": "error",
     "traceback": [
      "(13,33): error CS0246: The type or namespace name 'ListNode' could not be found (are you missing a using directive or an assembly reference?)\n(13,12): error CS0246: The type or namespace name 'ListNode' could not be found (are you missing a using directive or an assembly reference?)\n(14,32): error CS0246: The type or namespace name 'ListNode' could not be found (are you missing a using directive or an assembly reference?)\n(16,33): error CS0246: The type or namespace name 'ListNode' could not be found (are you missing a using directive or an assembly reference?)"
     ]
    }
   ],
   "source": [
    "/**\n",
    " * Definition for singly-linked list.\n",
    " * public class ListNode {\n",
    " *     public int val;\n",
    " *     public ListNode next;\n",
    " *     public ListNode(int val=0, ListNode next=null) {\n",
    " *         this.val = val;\n",
    " *         this.next = next;\n",
    " *     }\n",
    " * }\n",
    " */\n",
    "public class Solution {\n",
    "    public ListNode OddEvenList(ListNode head) {\n",
    "        var oddDummyhead = new ListNode();\n",
    "        var oddcurr = oddDummyhead;\n",
    "        var evenDummyhead = new ListNode();\n",
    "        var enevcurr = evenDummyhead;\n",
    "        var curr = head;\n",
    "        var odd = 1;\n",
    "        while(curr != null){\n",
    "            if(odd == 1){\n",
    "                oddcurr.next = curr;\n",
    "                oddcurr = oddcurr.next;\n",
    "            }else{\n",
    "                enevcurr.next = curr;\n",
    "                enevcurr = enevcurr.next;\n",
    "            }\n",
    "            curr = curr.next;\n",
    "            odd ^= 1;\n",
    "        }\n",
    "        enevcurr.next = null;\n",
    "        oddcurr.next = evenDummyhead.next;\n",
    "        return oddDummyhead.next;\n",
    "    }\n",
    "}"
   ]
  },
  {
   "cell_type": "code",
   "execution_count": null,
   "metadata": {},
   "outputs": [],
   "source": []
  }
 ],
 "metadata": {
  "kernelspec": {
   "display_name": ".NET (C#)",
   "language": "C#",
   "name": ".net-csharp"
  },
  "language_info": {
   "file_extension": ".cs",
   "mimetype": "text/x-csharp",
   "name": "C#",
   "pygments_lexer": "csharp",
   "version": "8.0"
  },
  "toc": {
   "base_numbering": 1,
   "nav_menu": {},
   "number_sections": true,
   "sideBar": true,
   "skip_h1_title": false,
   "title_cell": "Table of Contents",
   "title_sidebar": "Contents",
   "toc_cell": false,
   "toc_position": {},
   "toc_section_display": true,
   "toc_window_display": false
  }
 },
 "nbformat": 4,
 "nbformat_minor": 4
}
