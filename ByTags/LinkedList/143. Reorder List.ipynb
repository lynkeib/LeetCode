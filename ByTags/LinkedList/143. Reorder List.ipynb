{
 "cells": [
  {
   "cell_type": "code",
   "execution_count": 1,
   "metadata": {
    "ExecuteTime": {
     "end_time": "2019-11-22T08:04:06.632511Z",
     "start_time": "2019-11-22T08:04:06.624129Z"
    }
   },
   "outputs": [],
   "source": [
    "# Definition for singly-linked list.\n",
    "# class ListNode(object):\n",
    "#     def __init__(self, x):\n",
    "#         self.val = x\n",
    "#         self.next = None\n",
    "\n",
    "class Solution(object):\n",
    "    def reorderList(self, head):\n",
    "        \"\"\"\n",
    "        :type head: ListNode\n",
    "        :rtype: None Do not return anything, modify head in-place instead.\n",
    "        \"\"\"\n",
    "        length = 0\n",
    "        curr = head\n",
    "        while curr:\n",
    "            length += 1\n",
    "            curr = curr.next\n",
    "        if length <= 1:\n",
    "            return\n",
    "        mid = length // 2\n",
    "        tail, curr = None, head\n",
    "        while mid != 0:\n",
    "            tail = curr\n",
    "            curr = curr.next\n",
    "            mid -= 1\n",
    "        prev = None\n",
    "        while curr:\n",
    "            temp = curr.next\n",
    "            curr.next = prev\n",
    "            prev = curr\n",
    "            curr = temp\n",
    "        tail.next = None\n",
    "        p1, p2 = head, prev\n",
    "        while p1 and p2:\n",
    "            if p1.next and p2.next:\n",
    "                temp1 = p1.next\n",
    "                temp2 = p2.next\n",
    "                p1.next = p2\n",
    "                p2.next = temp1\n",
    "                p1 = temp1\n",
    "                p2 = temp2\n",
    "            else:\n",
    "                p1.next = p2\n",
    "                break\n",
    "        return "
   ]
  },
  {
   "cell_type": "code",
   "execution_count": null,
   "metadata": {},
   "outputs": [],
   "source": []
  }
 ],
 "metadata": {
  "kernelspec": {
   "display_name": "Python 3",
   "language": "python",
   "name": "python3"
  },
  "language_info": {
   "codemirror_mode": {
    "name": "ipython",
    "version": 3
   },
   "file_extension": ".py",
   "mimetype": "text/x-python",
   "name": "python",
   "nbconvert_exporter": "python",
   "pygments_lexer": "ipython3",
   "version": "3.6.6"
  },
  "toc": {
   "base_numbering": 1,
   "nav_menu": {},
   "number_sections": true,
   "sideBar": true,
   "skip_h1_title": false,
   "title_cell": "Table of Contents",
   "title_sidebar": "Contents",
   "toc_cell": false,
   "toc_position": {},
   "toc_section_display": true,
   "toc_window_display": false
  }
 },
 "nbformat": 4,
 "nbformat_minor": 2
}
