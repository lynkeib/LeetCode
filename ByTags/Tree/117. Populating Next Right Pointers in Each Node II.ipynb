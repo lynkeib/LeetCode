{
 "cells": [
  {
   "cell_type": "markdown",
   "metadata": {},
   "source": [
    "# Coding style 1"
   ]
  },
  {
   "cell_type": "code",
   "execution_count": 1,
   "metadata": {
    "ExecuteTime": {
     "end_time": "2019-11-08T05:57:06.310498Z",
     "start_time": "2019-11-08T05:57:06.303531Z"
    }
   },
   "outputs": [],
   "source": [
    "\"\"\"\n",
    "# Definition for a Node.\n",
    "class Node(object):\n",
    "    def __init__(self, val, left, right, next):\n",
    "        self.val = val\n",
    "        self.left = left\n",
    "        self.right = right\n",
    "        self.next = next\n",
    "\"\"\"\n",
    "class Solution(object):\n",
    "    def connect(self, root):\n",
    "        \"\"\"\n",
    "        :type root: Node\n",
    "        :rtype: Node\n",
    "        \"\"\"\n",
    "        \n",
    "        head = None\n",
    "        prev = None\n",
    "        curr = root\n",
    "        \n",
    "        while curr:\n",
    "            while curr: # loop this level\n",
    "                if curr.left:\n",
    "                    if prev:\n",
    "                        prev.next = curr.left\n",
    "                    else:\n",
    "                        head = curr.left\n",
    "                    prev = curr.left\n",
    "                if curr.right:\n",
    "                    if prev:\n",
    "                        prev.next = curr.right\n",
    "                    else:\n",
    "                        head = curr.right\n",
    "                    prev = curr.right       \n",
    "                curr = curr.next    \n",
    "            curr = head\n",
    "            prev = None\n",
    "            head = None\n",
    "        return root"
   ]
  },
  {
   "cell_type": "markdown",
   "metadata": {},
   "source": [
    "# Coding style 2 (preferred)"
   ]
  },
  {
   "cell_type": "code",
   "execution_count": 2,
   "metadata": {
    "ExecuteTime": {
     "end_time": "2019-11-08T06:02:17.134299Z",
     "start_time": "2019-11-08T06:02:17.128335Z"
    }
   },
   "outputs": [],
   "source": [
    "\"\"\"\n",
    "# Definition for a Node.\n",
    "class Node(object):\n",
    "    def __init__(self, val, left, right, next):\n",
    "        self.val = val\n",
    "        self.left = left\n",
    "        self.right = right\n",
    "        self.next = next\n",
    "\"\"\"\n",
    "class Solution(object):\n",
    "    def connect(self, root):\n",
    "        \"\"\"\n",
    "        :type root: Node\n",
    "        :rtype: Node\n",
    "        \"\"\"\n",
    "        curr = root\n",
    "        dummyhead = Node(None, None, None, None)\n",
    "        \n",
    "        while curr:\n",
    "            curr_this_level = dummyhead\n",
    "            while curr:\n",
    "                if curr.left:\n",
    "                    curr_this_level.next = curr.left\n",
    "                    curr_this_level = curr_this_level.next\n",
    "                if curr.right:\n",
    "                    curr_this_level.next = curr.right\n",
    "                    curr_this_level = curr_this_level.next\n",
    "                curr = curr.next\n",
    "            curr = dummyhead.next\n",
    "            dummyhead.next = None\n",
    "        return root"
   ]
  },
  {
   "cell_type": "code",
   "execution_count": null,
   "metadata": {},
   "outputs": [],
   "source": []
  }
 ],
 "metadata": {
  "kernelspec": {
   "display_name": "Python 3",
   "language": "python",
   "name": "python3"
  },
  "language_info": {
   "codemirror_mode": {
    "name": "ipython",
    "version": 3
   },
   "file_extension": ".py",
   "mimetype": "text/x-python",
   "name": "python",
   "nbconvert_exporter": "python",
   "pygments_lexer": "ipython3",
   "version": "3.7.1"
  },
  "toc": {
   "base_numbering": 1,
   "nav_menu": {},
   "number_sections": true,
   "sideBar": true,
   "skip_h1_title": false,
   "title_cell": "Table of Contents",
   "title_sidebar": "Contents",
   "toc_cell": false,
   "toc_position": {},
   "toc_section_display": true,
   "toc_window_display": false
  }
 },
 "nbformat": 4,
 "nbformat_minor": 2
}
