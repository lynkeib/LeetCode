{
 "cells": [
  {
   "cell_type": "code",
   "execution_count": 1,
   "metadata": {
    "ExecuteTime": {
     "end_time": "2019-11-04T08:09:42.012410Z",
     "start_time": "2019-11-04T08:09:42.001010Z"
    }
   },
   "outputs": [],
   "source": [
    "# Definition for a binary tree node.\n",
    "# class TreeNode(object):\n",
    "#     def __init__(self, x):\n",
    "#         self.val = x\n",
    "#         self.left = None\n",
    "#         self.right = None\n",
    "\n",
    "class Solution(object):\n",
    "    def findLeaves(self, root):\n",
    "        \"\"\"\n",
    "        :type root: TreeNode\n",
    "        :rtype: List[List[int]]\n",
    "        \"\"\"\n",
    "        if not root:\n",
    "            return \n",
    "        res = dict()\n",
    "        self.dfs(root, res)\n",
    "        max_level = max(res.keys())\n",
    "        ress = []\n",
    "        for i in range(1, max_level + 1):\n",
    "            ress.append(res[i])\n",
    "        return ress\n",
    "    \n",
    "    def dfs(self, root, res):\n",
    "        if not root:\n",
    "            return 0\n",
    "        left = self.dfs(root.left, res)\n",
    "        right = self.dfs(root.right, res)\n",
    "        \n",
    "        this_level = max(left, right) + 1\n",
    "        if this_level in res:\n",
    "            res[this_level].append(root.val)\n",
    "        else:\n",
    "            res[this_level] = [root.val]\n",
    "        return this_level"
   ]
  },
  {
   "cell_type": "code",
   "execution_count": null,
   "metadata": {},
   "outputs": [],
   "source": []
  }
 ],
 "metadata": {
  "kernelspec": {
   "display_name": "Python 3",
   "language": "python",
   "name": "python3"
  },
  "language_info": {
   "codemirror_mode": {
    "name": "ipython",
    "version": 3
   },
   "file_extension": ".py",
   "mimetype": "text/x-python",
   "name": "python",
   "nbconvert_exporter": "python",
   "pygments_lexer": "ipython3",
   "version": "3.7.1"
  },
  "toc": {
   "base_numbering": 1,
   "nav_menu": {},
   "number_sections": true,
   "sideBar": true,
   "skip_h1_title": false,
   "title_cell": "Table of Contents",
   "title_sidebar": "Contents",
   "toc_cell": false,
   "toc_position": {},
   "toc_section_display": true,
   "toc_window_display": false
  }
 },
 "nbformat": 4,
 "nbformat_minor": 2
}
