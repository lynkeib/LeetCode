{
 "cells": [
  {
   "cell_type": "code",
   "execution_count": 1,
   "metadata": {
    "ExecuteTime": {
     "end_time": "2020-04-08T22:52:39.8483000Z",
     "start_time": "2020-04-08T22:52:38.907Z"
    }
   },
   "outputs": [],
   "source": [
    "public class Solution {\n",
    "    public int NumTrees (int n) {\n",
    "        var dp = new int[n + 1];\n",
    "        dp[0] = 1;\n",
    "        for (int i = 1; i < n + 1; i++) {\n",
    "            for (int j = 0; j < i; j++) {\n",
    "                dp[i] += dp[j] * dp[i - j - 1];\n",
    "            }\n",
    "        }\n",
    "        return dp[n];\n",
    "    }\n",
    "}"
   ]
  },
  {
   "cell_type": "code",
   "execution_count": null,
   "metadata": {},
   "outputs": [],
   "source": []
  }
 ],
 "metadata": {
  "kernelspec": {
   "display_name": ".NET (C#)",
   "language": "C#",
   "name": ".net-csharp"
  },
  "language_info": {
   "file_extension": ".cs",
   "mimetype": "text/x-csharp",
   "name": "C#",
   "pygments_lexer": "csharp",
   "version": "8.0"
  },
  "toc": {
   "base_numbering": 1,
   "nav_menu": {},
   "number_sections": true,
   "sideBar": true,
   "skip_h1_title": false,
   "title_cell": "Table of Contents",
   "title_sidebar": "Contents",
   "toc_cell": false,
   "toc_position": {},
   "toc_section_display": true,
   "toc_window_display": false
  }
 },
 "nbformat": 4,
 "nbformat_minor": 4
}
