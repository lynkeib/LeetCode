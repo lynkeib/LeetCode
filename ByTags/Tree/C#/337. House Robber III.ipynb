{
 "cells": [
  {
   "cell_type": "code",
   "execution_count": 1,
   "metadata": {
    "ExecuteTime": {
     "end_time": "2020-05-08T23:18:34.2101690Z",
     "start_time": "2020-05-08T23:18:33.048Z"
    }
   },
   "outputs": [
    {
     "ename": "Unhandled Exception",
     "evalue": "(15,20): error CS0246: The type or namespace name 'TreeNode' could not be found (are you missing a using directive or an assembly reference?)\n(20,44): error CS0246: The type or namespace name 'TreeNode' could not be found (are you missing a using directive or an assembly reference?)",
     "output_type": "error",
     "traceback": [
      "(15,20): error CS0246: The type or namespace name 'TreeNode' could not be found (are you missing a using directive or an assembly reference?)\n(20,44): error CS0246: The type or namespace name 'TreeNode' could not be found (are you missing a using directive or an assembly reference?)"
     ]
    }
   ],
   "source": [
    "/**\n",
    " * Definition for a binary tree node.\n",
    " * public class TreeNode {\n",
    " *     public int val;\n",
    " *     public TreeNode left;\n",
    " *     public TreeNode right;\n",
    " *     public TreeNode(int val=0, TreeNode left=null, TreeNode right=null) {\n",
    " *         this.val = val;\n",
    " *         this.left = left;\n",
    " *         this.right = right;\n",
    " *     }\n",
    " * }\n",
    " */\n",
    "public class Solution {\n",
    "    public int Rob(TreeNode root) {\n",
    "        var res = rub(root);\n",
    "        return Math.Max(res.rubbed, res.notrubbed);\n",
    "    }\n",
    "    \n",
    "    public (int rubbed, int notrubbed) rub(TreeNode root){\n",
    "        if(root == null){\n",
    "            return (0, 0);\n",
    "        }\n",
    "        var left = rub(root.left);\n",
    "        var right = rub(root.right);\n",
    "        var rubbed = root.val + left.notrubbed + right.notrubbed;\n",
    "        var notrubbed1 = left.rubbed + right.rubbed;\n",
    "        var notrubbed2 = left.notrubbed + right.notrubbed;\n",
    "        var notrubbed3 = left.notrubbed + right.rubbed;\n",
    "        var notrubbed4 = left.rubbed + right.notrubbed;\n",
    "        var notrubbed = Math.Max(notrubbed1, notrubbed2);\n",
    "        notrubbed = Math.Max(notrubbed, notrubbed3);\n",
    "        notrubbed = Math.Max(notrubbed, notrubbed4);\n",
    "        return (rubbed, notrubbed);\n",
    "    }   \n",
    "}"
   ]
  },
  {
   "cell_type": "code",
   "execution_count": null,
   "metadata": {},
   "outputs": [],
   "source": []
  }
 ],
 "metadata": {
  "kernelspec": {
   "display_name": ".NET (C#)",
   "language": "C#",
   "name": ".net-csharp"
  },
  "language_info": {
   "file_extension": ".cs",
   "mimetype": "text/x-csharp",
   "name": "C#",
   "pygments_lexer": "csharp",
   "version": "8.0"
  },
  "toc": {
   "base_numbering": 1,
   "nav_menu": {},
   "number_sections": true,
   "sideBar": true,
   "skip_h1_title": false,
   "title_cell": "Table of Contents",
   "title_sidebar": "Contents",
   "toc_cell": false,
   "toc_position": {},
   "toc_section_display": true,
   "toc_window_display": false
  }
 },
 "nbformat": 4,
 "nbformat_minor": 4
}
