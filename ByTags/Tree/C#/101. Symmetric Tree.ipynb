{
 "cells": [
  {
   "cell_type": "code",
   "execution_count": 1,
   "metadata": {
    "ExecuteTime": {
     "end_time": "2020-04-09T03:39:46.3934290Z",
     "start_time": "2020-04-09T03:39:45.329Z"
    }
   },
   "outputs": [
    {
     "ename": "Unhandled Exception",
     "evalue": "(11,29): error CS0246: The type or namespace name 'TreeNode' could not be found (are you missing a using directive or an assembly reference?)\n(18,21): error CS0246: The type or namespace name 'TreeNode' could not be found (are you missing a using directive or an assembly reference?)\n(18,36): error CS0246: The type or namespace name 'TreeNode' could not be found (are you missing a using directive or an assembly reference?)",
     "output_type": "error",
     "traceback": [
      "(11,29): error CS0246: The type or namespace name 'TreeNode' could not be found (are you missing a using directive or an assembly reference?)\n(18,21): error CS0246: The type or namespace name 'TreeNode' could not be found (are you missing a using directive or an assembly reference?)\n(18,36): error CS0246: The type or namespace name 'TreeNode' could not be found (are you missing a using directive or an assembly reference?)"
     ]
    }
   ],
   "source": [
    "/**\n",
    " * Definition for a binary tree node.\n",
    " * public class TreeNode {\n",
    " *     public int val;\n",
    " *     public TreeNode left;\n",
    " *     public TreeNode right;\n",
    " *     public TreeNode(int x) { val = x; }\n",
    " * }\n",
    " */\n",
    "public class Solution {\n",
    "    public bool IsSymmetric(TreeNode root) {\n",
    "        if(root == null){\n",
    "            return true;\n",
    "        }\n",
    "        return dfs(root.left, root.right);\n",
    "    }\n",
    "\n",
    "    public bool dfs(TreeNode left, TreeNode right){\n",
    "        if(left == null && right == null){\n",
    "            return true;\n",
    "        }\n",
    "        if(left == null || right == null){\n",
    "            return false;\n",
    "        }\n",
    "        if(left.val != right.val){\n",
    "            return false;\n",
    "        }\n",
    "        return dfs(left.left, right.right) && dfs(left.right, right.left);\n",
    "    }\n",
    "}"
   ]
  },
  {
   "cell_type": "code",
   "execution_count": null,
   "metadata": {},
   "outputs": [],
   "source": []
  }
 ],
 "metadata": {
  "kernelspec": {
   "display_name": ".NET (C#)",
   "language": "C#",
   "name": ".net-csharp"
  },
  "language_info": {
   "file_extension": ".cs",
   "mimetype": "text/x-csharp",
   "name": "C#",
   "pygments_lexer": "csharp",
   "version": "8.0"
  },
  "toc": {
   "base_numbering": 1,
   "nav_menu": {},
   "number_sections": true,
   "sideBar": true,
   "skip_h1_title": false,
   "title_cell": "Table of Contents",
   "title_sidebar": "Contents",
   "toc_cell": false,
   "toc_position": {},
   "toc_section_display": true,
   "toc_window_display": false
  }
 },
 "nbformat": 4,
 "nbformat_minor": 4
}
