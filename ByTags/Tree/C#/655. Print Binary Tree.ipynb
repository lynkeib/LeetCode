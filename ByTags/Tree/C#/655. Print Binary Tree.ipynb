{
 "cells": [
  {
   "cell_type": "markdown",
   "metadata": {},
   "source": [
    "# Slow"
   ]
  },
  {
   "cell_type": "code",
   "execution_count": 1,
   "metadata": {
    "ExecuteTime": {
     "end_time": "2020-05-19T21:07:08.2677430Z",
     "start_time": "2020-05-19T21:07:07.494Z"
    }
   },
   "outputs": [
    {
     "ename": "Unhandled Exception",
     "evalue": "(18,43): error CS0246: The type or namespace name 'TreeNode' could not be found (are you missing a using directive or an assembly reference?)\n(27,24): error CS0246: The type or namespace name 'TreeNode' could not be found (are you missing a using directive or an assembly reference?)\n(49,22): error CS0246: The type or namespace name 'TreeNode' could not be found (are you missing a using directive or an assembly reference?)",
     "output_type": "error",
     "traceback": [
      "(18,43): error CS0246: The type or namespace name 'TreeNode' could not be found (are you missing a using directive or an assembly reference?)\n(27,24): error CS0246: The type or namespace name 'TreeNode' could not be found (are you missing a using directive or an assembly reference?)\n(49,22): error CS0246: The type or namespace name 'TreeNode' could not be found (are you missing a using directive or an assembly reference?)"
     ]
    }
   ],
   "source": [
    "/**\n",
    " * Definition for a binary tree node.\n",
    " * public class TreeNode {\n",
    " *     public int val;\n",
    " *     public TreeNode left;\n",
    " *     public TreeNode right;\n",
    " *     public TreeNode(int val=0, TreeNode left=null, TreeNode right=null) {\n",
    " *         this.val = val;\n",
    " *         this.left = left;\n",
    " *         this.right = right;\n",
    " *     }\n",
    " * }\n",
    " */\n",
    "public class Solution {\n",
    "    \n",
    "    List<IList<string>> res = new List<IList<string>>();\n",
    "    \n",
    "    public IList<IList<string>> PrintTree(TreeNode root) {\n",
    "        var maxDepth = depth(root);\n",
    "        var totalColumns = columns(maxDepth);\n",
    "        initRes(maxDepth, totalColumns);\n",
    "        helper(root, 0, 0, totalColumns - 1);\n",
    "        // Console.WriteLine(totalColumns);\n",
    "        return res;\n",
    "    }\n",
    "    \n",
    "    public void helper(TreeNode root, int depth, int left, int right){\n",
    "        if(root == null){\n",
    "            return;\n",
    "        }\n",
    "        int mid = left + (right - left) / 2;\n",
    "        res[depth][mid] = root.val.ToString();\n",
    "        helper(root.left, depth + 1, left, mid - 1);\n",
    "        helper(root.right, depth + 1, mid + 1, right);\n",
    "        return;\n",
    "    }\n",
    "    \n",
    "    public void initRes(int maxDepth, int totalColumns){\n",
    "        for(int i = 0; i < maxDepth; i++){\n",
    "            var row = new List<string>();\n",
    "            for(int j = 0; j < totalColumns; j++){\n",
    "                row.Add(\"\");\n",
    "            }\n",
    "            res.Add(row);\n",
    "        }\n",
    "        return;\n",
    "    }\n",
    "    \n",
    "    public int depth(TreeNode root){\n",
    "        if(root == null){\n",
    "            return 0;\n",
    "        }\n",
    "        var left = depth(root.left);\n",
    "        var right = depth(root.right);\n",
    "        return Math.Max(left, right) + 1;\n",
    "    }\n",
    "    \n",
    "    public int columns(int depth){\n",
    "        if(depth == 1){\n",
    "            return 1;\n",
    "        }\n",
    "        return columns(depth - 1) * 2 + 1;\n",
    "    }\n",
    "}"
   ]
  },
  {
   "cell_type": "markdown",
   "metadata": {},
   "source": [
    "# Faster"
   ]
  },
  {
   "cell_type": "code",
   "execution_count": 2,
   "metadata": {
    "ExecuteTime": {
     "end_time": "2020-05-19T21:16:30.5065880Z",
     "start_time": "2020-05-19T21:16:30.392Z"
    }
   },
   "outputs": [
    {
     "ename": "Unhandled Exception",
     "evalue": "(18,43): error CS0246: The type or namespace name 'TreeNode' could not be found (are you missing a using directive or an assembly reference?)\n(30,40): error CS0246: The type or namespace name 'TreeNode' could not be found (are you missing a using directive or an assembly reference?)\n(62,22): error CS0246: The type or namespace name 'TreeNode' could not be found (are you missing a using directive or an assembly reference?)",
     "output_type": "error",
     "traceback": [
      "(18,43): error CS0246: The type or namespace name 'TreeNode' could not be found (are you missing a using directive or an assembly reference?)\n(30,40): error CS0246: The type or namespace name 'TreeNode' could not be found (are you missing a using directive or an assembly reference?)\n(62,22): error CS0246: The type or namespace name 'TreeNode' could not be found (are you missing a using directive or an assembly reference?)"
     ]
    }
   ],
   "source": [
    "/**\n",
    " * Definition for a binary tree node.\n",
    " * public class TreeNode {\n",
    " *     public int val;\n",
    " *     public TreeNode left;\n",
    " *     public TreeNode right;\n",
    " *     public TreeNode(int val=0, TreeNode left=null, TreeNode right=null) {\n",
    " *         this.val = val;\n",
    " *         this.left = left;\n",
    " *         this.right = right;\n",
    " *     }\n",
    " * }\n",
    " */\n",
    "public class Solution {\n",
    "    \n",
    "    List<IList<string>> res = new List<IList<string>>();\n",
    "    \n",
    "    public IList<IList<string>> PrintTree(TreeNode root) {\n",
    "        var maxDepth = depth(root);\n",
    "        var totalColumns = (1 << maxDepth) - 1;\n",
    "        var ans = initAns(maxDepth, totalColumns);\n",
    "        helper(ans, root, 0, 0, totalColumns - 1);\n",
    "        // Console.WriteLine(totalColumns);\n",
    "        foreach(var a in ans){\n",
    "            res.Add(a.ToList());\n",
    "        }\n",
    "        return res;\n",
    "    }\n",
    "    \n",
    "    public void helper(string[][] ans, TreeNode root, int depth, int left, int right){\n",
    "        if(root == null){\n",
    "            return;\n",
    "        }\n",
    "        int mid = left + (right - left) / 2;\n",
    "        ans[depth][mid] = root.val.ToString();\n",
    "        helper(ans, root.left, depth + 1, left, mid - 1);\n",
    "        helper(ans, root.right, depth + 1, mid + 1, right);\n",
    "        return;\n",
    "    }\n",
    "    \n",
    "    public string[][] initAns(int maxDepth, int totalColumns){\n",
    "        var ans = new string[maxDepth][];\n",
    "        for(int i = 0; i < maxDepth; i++){\n",
    "            var row = new string[totalColumns];\n",
    "            Array.Fill(row, \"\");\n",
    "            ans[i] = row;\n",
    "        }\n",
    "        return ans;\n",
    "    }\n",
    "        \n",
    "    public int depth(TreeNode root){\n",
    "        if(root == null){\n",
    "            return 0;\n",
    "        }\n",
    "        var left = depth(root.left);\n",
    "        var right = depth(root.right);\n",
    "        return Math.Max(left, right) + 1;\n",
    "    }\n",
    "}"
   ]
  },
  {
   "cell_type": "code",
   "execution_count": null,
   "metadata": {},
   "outputs": [],
   "source": []
  }
 ],
 "metadata": {
  "kernelspec": {
   "display_name": ".NET (C#)",
   "language": "C#",
   "name": ".net-csharp"
  },
  "language_info": {
   "file_extension": ".cs",
   "mimetype": "text/x-csharp",
   "name": "C#",
   "pygments_lexer": "csharp",
   "version": "8.0"
  },
  "toc": {
   "base_numbering": 1,
   "nav_menu": {},
   "number_sections": true,
   "sideBar": true,
   "skip_h1_title": false,
   "title_cell": "Table of Contents",
   "title_sidebar": "Contents",
   "toc_cell": false,
   "toc_position": {},
   "toc_section_display": true,
   "toc_window_display": false
  }
 },
 "nbformat": 4,
 "nbformat_minor": 4
}
