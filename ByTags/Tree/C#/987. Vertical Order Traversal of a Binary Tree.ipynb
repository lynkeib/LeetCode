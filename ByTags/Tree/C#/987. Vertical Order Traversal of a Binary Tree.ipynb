{
 "cells": [
  {
   "cell_type": "code",
   "execution_count": 1,
   "metadata": {
    "ExecuteTime": {
     "end_time": "2020-05-20T00:01:38.5023910Z",
     "start_time": "2020-05-20T00:01:37.437Z"
    }
   },
   "outputs": [
    {
     "ename": "Unhandled Exception",
     "evalue": "(16,16): error CS0246: The type or namespace name 'TreeNode' could not be found (are you missing a using directive or an assembly reference?)\n(21,48): error CS0246: The type or namespace name 'TreeNode' could not be found (are you missing a using directive or an assembly reference?)\n(33,28): error CS0246: The type or namespace name 'TreeNode' could not be found (are you missing a using directive or an assembly reference?)\n(55,26): error CS0246: The type or namespace name 'TreeNode' could not be found (are you missing a using directive or an assembly reference?)\n(16,52): error CS0246: The type or namespace name 'TreeNode' could not be found (are you missing a using directive or an assembly reference?)\n(27,30): error CS0246: The type or namespace name 'TreeNode' could not be found (are you missing a using directive or an assembly reference?)\n(37,33): error CS0246: The type or namespace name 'TreeNode' could not be found (are you missing a using directive or an assembly reference?)",
     "output_type": "error",
     "traceback": [
      "(16,16): error CS0246: The type or namespace name 'TreeNode' could not be found (are you missing a using directive or an assembly reference?)\n(21,48): error CS0246: The type or namespace name 'TreeNode' could not be found (are you missing a using directive or an assembly reference?)\n(33,28): error CS0246: The type or namespace name 'TreeNode' could not be found (are you missing a using directive or an assembly reference?)\n(55,26): error CS0246: The type or namespace name 'TreeNode' could not be found (are you missing a using directive or an assembly reference?)\n(16,52): error CS0246: The type or namespace name 'TreeNode' could not be found (are you missing a using directive or an assembly reference?)\n(27,30): error CS0246: The type or namespace name 'TreeNode' could not be found (are you missing a using directive or an assembly reference?)\n(37,33): error CS0246: The type or namespace name 'TreeNode' could not be found (are you missing a using directive or an assembly reference?)"
     ]
    }
   ],
   "source": [
    "/**\n",
    " * Definition for a binary tree node.\n",
    " * public class TreeNode {\n",
    " *     public int val;\n",
    " *     public TreeNode left;\n",
    " *     public TreeNode right;\n",
    " *     public TreeNode(int val=0, TreeNode left=null, TreeNode right=null) {\n",
    " *         this.val = val;\n",
    " *         this.left = left;\n",
    " *         this.right = right;\n",
    " *     }\n",
    " * }\n",
    " */\n",
    "public class Solution {\n",
    "    \n",
    "    Dictionary<TreeNode, int> map = new Dictionary<TreeNode, int>();\n",
    "    int max = 0;\n",
    "    int min = 0;\n",
    "    List<IList<int>> res = new List<IList<int>>();\n",
    "    \n",
    "    public IList<IList<int>> VerticalTraversal(TreeNode root) {\n",
    "        buildMap(root, 0);\n",
    "        var total = max - min + 1;\n",
    "        for(int i = 0; i < total; i++){\n",
    "            res.Add(new List<int>());\n",
    "        }\n",
    "        var queue = new List<TreeNode>();\n",
    "        queue.Add(root);\n",
    "        place(queue);\n",
    "        return res;\n",
    "    }\n",
    "    \n",
    "    public void place(List<TreeNode> queue){\n",
    "        if(queue.Count == 0){\n",
    "            return;\n",
    "        }\n",
    "        var newQueue = new List<TreeNode>();\n",
    "        var temp = queue.ToArray();\n",
    "        Array.Sort(temp, (a, b) => a.val.CompareTo(b.val));\n",
    "        for(int i = 0; i < temp.Length; i++){\n",
    "            var node = temp[i];\n",
    "            var placeIndex = map[node] - min;\n",
    "            res[placeIndex].Add(node.val);\n",
    "            if(node.left != null){\n",
    "                newQueue.Add(node.left);\n",
    "            }\n",
    "            if(node.right != null){\n",
    "                newQueue.Add(node.right);\n",
    "            }\n",
    "        }\n",
    "        place(newQueue);\n",
    "        return;\n",
    "    }\n",
    "    \n",
    "    public void buildMap(TreeNode root, int index){\n",
    "        if(root == null){\n",
    "            return;\n",
    "        }\n",
    "        map[root] = index;\n",
    "        max = Math.Max(max, index);\n",
    "        min = Math.Min(min, index);\n",
    "        buildMap(root.left, index - 1);\n",
    "        buildMap(root.right, index + 1);\n",
    "        return;\n",
    "    }\n",
    "}"
   ]
  },
  {
   "cell_type": "code",
   "execution_count": null,
   "metadata": {},
   "outputs": [],
   "source": []
  }
 ],
 "metadata": {
  "kernelspec": {
   "display_name": ".NET (C#)",
   "language": "C#",
   "name": ".net-csharp"
  },
  "language_info": {
   "file_extension": ".cs",
   "mimetype": "text/x-csharp",
   "name": "C#",
   "pygments_lexer": "csharp",
   "version": "8.0"
  },
  "toc": {
   "base_numbering": 1,
   "nav_menu": {},
   "number_sections": true,
   "sideBar": true,
   "skip_h1_title": false,
   "title_cell": "Table of Contents",
   "title_sidebar": "Contents",
   "toc_cell": false,
   "toc_position": {},
   "toc_section_display": true,
   "toc_window_display": false
  }
 },
 "nbformat": 4,
 "nbformat_minor": 4
}
