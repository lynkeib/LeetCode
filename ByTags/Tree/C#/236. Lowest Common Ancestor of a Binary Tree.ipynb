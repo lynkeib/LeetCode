{
 "cells": [
  {
   "cell_type": "code",
   "execution_count": 1,
   "metadata": {
    "ExecuteTime": {
     "end_time": "2020-04-25T02:46:19.8712840Z",
     "start_time": "2020-04-25T02:46:19.260Z"
    }
   },
   "outputs": [
    {
     "ename": "Unhandled Exception",
     "evalue": "(12,5): error CS0246: The type or namespace name 'TreeNode' could not be found (are you missing a using directive or an assembly reference?)\n(14,42): error CS0246: The type or namespace name 'TreeNode' could not be found (are you missing a using directive or an assembly reference?)\n(14,57): error CS0246: The type or namespace name 'TreeNode' could not be found (are you missing a using directive or an assembly reference?)\n(14,69): error CS0246: The type or namespace name 'TreeNode' could not be found (are you missing a using directive or an assembly reference?)\n(14,12): error CS0246: The type or namespace name 'TreeNode' could not be found (are you missing a using directive or an assembly reference?)\n(19,24): error CS0246: The type or namespace name 'TreeNode' could not be found (are you missing a using directive or an assembly reference?)\n(19,39): error CS0246: The type or namespace name 'TreeNode' could not be found (are you missing a using directive or an assembly reference?)\n(19,51): error CS0246: The type or namespace name 'TreeNode' could not be found (are you missing a using directive or an assembly reference?)",
     "output_type": "error",
     "traceback": [
      "(12,5): error CS0246: The type or namespace name 'TreeNode' could not be found (are you missing a using directive or an assembly reference?)\n(14,42): error CS0246: The type or namespace name 'TreeNode' could not be found (are you missing a using directive or an assembly reference?)\n(14,57): error CS0246: The type or namespace name 'TreeNode' could not be found (are you missing a using directive or an assembly reference?)\n(14,69): error CS0246: The type or namespace name 'TreeNode' could not be found (are you missing a using directive or an assembly reference?)\n(14,12): error CS0246: The type or namespace name 'TreeNode' could not be found (are you missing a using directive or an assembly reference?)\n(19,24): error CS0246: The type or namespace name 'TreeNode' could not be found (are you missing a using directive or an assembly reference?)\n(19,39): error CS0246: The type or namespace name 'TreeNode' could not be found (are you missing a using directive or an assembly reference?)\n(19,51): error CS0246: The type or namespace name 'TreeNode' could not be found (are you missing a using directive or an assembly reference?)"
     ]
    }
   ],
   "source": [
    "/**\n",
    " * Definition for a binary tree node.\n",
    " * public class TreeNode {\n",
    " *     public int val;\n",
    " *     public TreeNode left;\n",
    " *     public TreeNode right;\n",
    " *     public TreeNode(int x) { val = x; }\n",
    " * }\n",
    " */\n",
    "public class Solution {\n",
    "    \n",
    "    TreeNode res;\n",
    "    \n",
    "    public TreeNode LowestCommonAncestor(TreeNode root, TreeNode p, TreeNode q) {\n",
    "        helper(root, p, q);\n",
    "        return res;\n",
    "    }\n",
    "    \n",
    "    public bool helper(TreeNode root, TreeNode p, TreeNode q){\n",
    "        if(root == null){\n",
    "            return false;\n",
    "        }\n",
    "        \n",
    "        var is_left = helper(root.left, p, q);\n",
    "        var is_right = helper(root.right, p, q);\n",
    "        if(is_left && is_right){\n",
    "            res = root;\n",
    "            return true;\n",
    "        }\n",
    "        else if(root == p || root == q){\n",
    "            if(is_left || is_right){\n",
    "                res = root;\n",
    "                return true;\n",
    "            }\n",
    "            return true;\n",
    "        }\n",
    "        return is_left | is_right;\n",
    "    }\n",
    "}"
   ]
  },
  {
   "cell_type": "code",
   "execution_count": null,
   "metadata": {},
   "outputs": [],
   "source": []
  }
 ],
 "metadata": {
  "kernelspec": {
   "display_name": ".NET (C#)",
   "language": "C#",
   "name": ".net-csharp"
  },
  "language_info": {
   "file_extension": ".cs",
   "mimetype": "text/x-csharp",
   "name": "C#",
   "pygments_lexer": "csharp",
   "version": "8.0"
  },
  "toc": {
   "base_numbering": 1,
   "nav_menu": {},
   "number_sections": true,
   "sideBar": true,
   "skip_h1_title": false,
   "title_cell": "Table of Contents",
   "title_sidebar": "Contents",
   "toc_cell": false,
   "toc_position": {},
   "toc_section_display": true,
   "toc_window_display": false
  }
 },
 "nbformat": 4,
 "nbformat_minor": 4
}
