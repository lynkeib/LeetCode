{
 "cells": [
  {
   "cell_type": "code",
   "execution_count": 1,
   "metadata": {
    "ExecuteTime": {
     "end_time": "2020-04-10T04:58:59.4063140Z",
     "start_time": "2020-04-10T04:58:58.495Z"
    }
   },
   "outputs": [
    {
     "ename": "Unhandled Exception",
     "evalue": "(25,26): error CS0246: The type or namespace name 'Node' could not be found (are you missing a using directive or an assembly reference?)\n(25,12): error CS0246: The type or namespace name 'Node' could not be found (are you missing a using directive or an assembly reference?)\n(29,30): error CS0246: The type or namespace name 'Node' could not be found (are you missing a using directive or an assembly reference?)\n(31,39): error CS0246: The type or namespace name 'Node' could not be found (are you missing a using directive or an assembly reference?)",
     "output_type": "error",
     "traceback": [
      "(25,26): error CS0246: The type or namespace name 'Node' could not be found (are you missing a using directive or an assembly reference?)\n(25,12): error CS0246: The type or namespace name 'Node' could not be found (are you missing a using directive or an assembly reference?)\n(29,30): error CS0246: The type or namespace name 'Node' could not be found (are you missing a using directive or an assembly reference?)\n(31,39): error CS0246: The type or namespace name 'Node' could not be found (are you missing a using directive or an assembly reference?)"
     ]
    }
   ],
   "source": [
    "/*\n",
    "// Definition for a Node.\n",
    "public class Node {\n",
    "    public int val;\n",
    "    public Node left;\n",
    "    public Node right;\n",
    "    public Node next;\n",
    "\n",
    "    public Node() {}\n",
    "\n",
    "    public Node(int _val) {\n",
    "        val = _val;\n",
    "    }\n",
    "\n",
    "    public Node(int _val, Node _left, Node _right, Node _next) {\n",
    "        val = _val;\n",
    "        left = _left;\n",
    "        right = _right;\n",
    "        next = _next;\n",
    "    }\n",
    "}\n",
    "*/\n",
    "\n",
    "public class Solution {\n",
    "    public Node Connect (Node root) {\n",
    "        if(root == null){\n",
    "            return root;\n",
    "        }\n",
    "        var queue = new List<Node> { root };\n",
    "        while (queue.Count != 0) {\n",
    "            var next_queue = new List<Node> ();\n",
    "            for (int i = 0; i < queue.Count; i++) {\n",
    "                if (i != queue.Count - 1) {\n",
    "                    queue[i].next = queue[i + 1];\n",
    "                }\n",
    "                if (queue[i].left != null) {\n",
    "                    next_queue.Add (queue[i].left);\n",
    "                    next_queue.Add (queue[i].right);\n",
    "                }\n",
    "            }\n",
    "            queue = next_queue;\n",
    "        }\n",
    "        return root;\n",
    "    }\n",
    "}"
   ]
  },
  {
   "cell_type": "code",
   "execution_count": 2,
   "metadata": {
    "ExecuteTime": {
     "end_time": "2020-04-10T05:04:44.2979570Z",
     "start_time": "2020-04-10T05:04:44.256Z"
    }
   },
   "outputs": [
    {
     "ename": "Unhandled Exception",
     "evalue": "(25,26): error CS0246: The type or namespace name 'Node' could not be found (are you missing a using directive or an assembly reference?)\n(25,12): error CS0246: The type or namespace name 'Node' could not be found (are you missing a using directive or an assembly reference?)",
     "output_type": "error",
     "traceback": [
      "(25,26): error CS0246: The type or namespace name 'Node' could not be found (are you missing a using directive or an assembly reference?)\n(25,12): error CS0246: The type or namespace name 'Node' could not be found (are you missing a using directive or an assembly reference?)"
     ]
    }
   ],
   "source": [
    "/*\n",
    "// Definition for a Node.\n",
    "public class Node {\n",
    "    public int val;\n",
    "    public Node left;\n",
    "    public Node right;\n",
    "    public Node next;\n",
    "\n",
    "    public Node() {}\n",
    "\n",
    "    public Node(int _val) {\n",
    "        val = _val;\n",
    "    }\n",
    "\n",
    "    public Node(int _val, Node _left, Node _right, Node _next) {\n",
    "        val = _val;\n",
    "        left = _left;\n",
    "        right = _right;\n",
    "        next = _next;\n",
    "    }\n",
    "}\n",
    "*/\n",
    "\n",
    "public class Solution {\n",
    "    public Node Connect (Node root) {\n",
    "        if(root == null){\n",
    "            return root;\n",
    "        }\n",
    "        var left = root;\n",
    "        while(left.left != null){\n",
    "            var head = left;\n",
    "            while(head != null){\n",
    "                head.left.next = head.right;\n",
    "                if(head.next != null){\n",
    "                    head.right.next = head.next.left;\n",
    "                }\n",
    "                head = head.next;\n",
    "            }\n",
    "            left = left.left;\n",
    "        }\n",
    "        return root;\n",
    "    }\n",
    "}"
   ]
  },
  {
   "cell_type": "code",
   "execution_count": null,
   "metadata": {},
   "outputs": [],
   "source": []
  }
 ],
 "metadata": {
  "kernelspec": {
   "display_name": ".NET (C#)",
   "language": "C#",
   "name": ".net-csharp"
  },
  "language_info": {
   "file_extension": ".cs",
   "mimetype": "text/x-csharp",
   "name": "C#",
   "pygments_lexer": "csharp",
   "version": "8.0"
  },
  "toc": {
   "base_numbering": 1,
   "nav_menu": {},
   "number_sections": true,
   "sideBar": true,
   "skip_h1_title": false,
   "title_cell": "Table of Contents",
   "title_sidebar": "Contents",
   "toc_cell": false,
   "toc_position": {},
   "toc_section_display": true,
   "toc_window_display": false
  }
 },
 "nbformat": 4,
 "nbformat_minor": 4
}
