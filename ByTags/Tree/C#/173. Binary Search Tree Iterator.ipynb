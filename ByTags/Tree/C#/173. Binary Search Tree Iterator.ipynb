{
 "cells": [
  {
   "cell_type": "code",
   "execution_count": 1,
   "metadata": {
    "ExecuteTime": {
     "end_time": "2020-04-18T19:20:35.8022680Z",
     "start_time": "2020-04-18T19:20:34.684Z"
    }
   },
   "outputs": [
    {
     "ename": "Unhandled Exception",
     "evalue": "(12,11): error CS0246: The type or namespace name 'TreeNode' could not be found (are you missing a using directive or an assembly reference?)\n(13,5): error CS0246: The type or namespace name 'TreeNode' could not be found (are you missing a using directive or an assembly reference?)\n(15,24): error CS0246: The type or namespace name 'TreeNode' could not be found (are you missing a using directive or an assembly reference?)\n(16,27): error CS0246: The type or namespace name 'TreeNode' could not be found (are you missing a using directive or an assembly reference?)",
     "output_type": "error",
     "traceback": [
      "(12,11): error CS0246: The type or namespace name 'TreeNode' could not be found (are you missing a using directive or an assembly reference?)\n(13,5): error CS0246: The type or namespace name 'TreeNode' could not be found (are you missing a using directive or an assembly reference?)\n(15,24): error CS0246: The type or namespace name 'TreeNode' could not be found (are you missing a using directive or an assembly reference?)\n(16,27): error CS0246: The type or namespace name 'TreeNode' could not be found (are you missing a using directive or an assembly reference?)"
     ]
    }
   ],
   "source": [
    "/**\n",
    " * Definition for a binary tree node.\n",
    " * public class TreeNode {\n",
    " *     public int val;\n",
    " *     public TreeNode left;\n",
    " *     public TreeNode right;\n",
    " *     public TreeNode(int x) { val = x; }\n",
    " * }\n",
    " */\n",
    "public class BSTIterator {\n",
    "\n",
    "    Stack<TreeNode> stack; \n",
    "    TreeNode curr;\n",
    "\n",
    "    public BSTIterator(TreeNode root) {\n",
    "        stack = new Stack<TreeNode>();\n",
    "        curr = root;\n",
    "    }\n",
    "    \n",
    "    /** @return the next smallest number */\n",
    "    public int Next() {\n",
    "        HasNext();\n",
    "        var next = stack.Pop();\n",
    "        curr = next.right;\n",
    "        return next.val;\n",
    "    }\n",
    "    \n",
    "    /** @return whether we have a next smallest number */\n",
    "    public bool HasNext() {\n",
    "        if(curr != null || stack.Count != 0){\n",
    "            while(curr != null){\n",
    "                stack.Push(curr);\n",
    "                curr = curr.left;\n",
    "            }\n",
    "            return true;\n",
    "        }\n",
    "        return false;\n",
    "    }\n",
    "}\n",
    "\n",
    "/**\n",
    " * Your BSTIterator object will be instantiated and called as such:\n",
    " * BSTIterator obj = new BSTIterator(root);\n",
    " * int param_1 = obj.Next();\n",
    " * bool param_2 = obj.HasNext();\n",
    " */"
   ]
  },
  {
   "cell_type": "code",
   "execution_count": null,
   "metadata": {},
   "outputs": [],
   "source": []
  }
 ],
 "metadata": {
  "kernelspec": {
   "display_name": ".NET (C#)",
   "language": "C#",
   "name": ".net-csharp"
  },
  "language_info": {
   "file_extension": ".cs",
   "mimetype": "text/x-csharp",
   "name": "C#",
   "pygments_lexer": "csharp",
   "version": "8.0"
  },
  "toc": {
   "base_numbering": 1,
   "nav_menu": {},
   "number_sections": true,
   "sideBar": true,
   "skip_h1_title": false,
   "title_cell": "Table of Contents",
   "title_sidebar": "Contents",
   "toc_cell": false,
   "toc_position": {},
   "toc_section_display": true,
   "toc_window_display": false
  }
 },
 "nbformat": 4,
 "nbformat_minor": 4
}
