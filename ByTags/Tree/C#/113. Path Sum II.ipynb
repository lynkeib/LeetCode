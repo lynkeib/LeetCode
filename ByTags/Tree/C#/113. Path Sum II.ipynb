{
 "cells": [
  {
   "cell_type": "code",
   "execution_count": 2,
   "metadata": {
    "ExecuteTime": {
     "end_time": "2020-04-11T21:18:14.9384830Z",
     "start_time": "2020-04-11T21:18:14.891Z"
    }
   },
   "outputs": [
    {
     "ename": "Unhandled Exception",
     "evalue": "(11,38): error CS0246: The type or namespace name 'TreeNode' could not be found (are you missing a using directive or an assembly reference?)\n(20,24): error CS0246: The type or namespace name 'TreeNode' could not be found (are you missing a using directive or an assembly reference?)",
     "output_type": "error",
     "traceback": [
      "(11,38): error CS0246: The type or namespace name 'TreeNode' could not be found (are you missing a using directive or an assembly reference?)\n(20,24): error CS0246: The type or namespace name 'TreeNode' could not be found (are you missing a using directive or an assembly reference?)"
     ]
    }
   ],
   "source": [
    "/**\n",
    " * Definition for a binary tree node.\n",
    " * public class TreeNode {\n",
    " *     public int val;\n",
    " *     public TreeNode left;\n",
    " *     public TreeNode right;\n",
    " *     public TreeNode(int x) { val = x; }\n",
    " * }\n",
    " */\n",
    "public class Solution {\n",
    "    public IList<IList<int>> PathSum(TreeNode root, int sum) {\n",
    "        var res = new List<IList<int>>();\n",
    "        if(root == null){\n",
    "            return res;\n",
    "        }\n",
    "        helper(root, sum, 0, new List<int>(), res);\n",
    "        return res;\n",
    "    }\n",
    "\n",
    "    public void helper(TreeNode root, int sum, int curr, List<int> path, List<IList<int>> res){\n",
    "        if(root.left == null && root.right == null){\n",
    "            if(curr + root.val == sum){\n",
    "                path.Add(root.val);\n",
    "                res.Add(new List<int>(path));\n",
    "                path.RemoveAt(path.Count - 1);\n",
    "            }\n",
    "            return;\n",
    "        }\n",
    "        path.Add(root.val);\n",
    "        if(root.left != null){\n",
    "            helper(root.left, sum, curr + root.val, path, res);\n",
    "        }\n",
    "        if(root.right != null){\n",
    "            helper(root.right, sum, curr + root.val, path, res);\n",
    "        }\n",
    "        path.RemoveAt(path.Count - 1);\n",
    "        return;\n",
    "    }\n",
    "}"
   ]
  },
  {
   "cell_type": "code",
   "execution_count": null,
   "metadata": {},
   "outputs": [],
   "source": []
  }
 ],
 "metadata": {
  "kernelspec": {
   "display_name": ".NET (C#)",
   "language": "C#",
   "name": ".net-csharp"
  },
  "language_info": {
   "file_extension": ".cs",
   "mimetype": "text/x-csharp",
   "name": "C#",
   "pygments_lexer": "csharp",
   "version": "8.0"
  },
  "toc": {
   "base_numbering": 1,
   "nav_menu": {},
   "number_sections": true,
   "sideBar": true,
   "skip_h1_title": false,
   "title_cell": "Table of Contents",
   "title_sidebar": "Contents",
   "toc_cell": false,
   "toc_position": {},
   "toc_section_display": true,
   "toc_window_display": false
  }
 },
 "nbformat": 4,
 "nbformat_minor": 4
}
