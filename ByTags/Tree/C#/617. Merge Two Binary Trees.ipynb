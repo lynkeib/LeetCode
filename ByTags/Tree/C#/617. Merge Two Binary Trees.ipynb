{
 "cells": [
  {
   "cell_type": "code",
   "execution_count": 1,
   "metadata": {
    "ExecuteTime": {
     "end_time": "2020-05-19T22:06:39.4244300Z",
     "start_time": "2020-05-19T22:06:38.659Z"
    }
   },
   "outputs": [
    {
     "ename": "Unhandled Exception",
     "evalue": "(15,32): error CS0246: The type or namespace name 'TreeNode' could not be found (are you missing a using directive or an assembly reference?)\n(15,45): error CS0246: The type or namespace name 'TreeNode' could not be found (are you missing a using directive or an assembly reference?)\n(15,12): error CS0246: The type or namespace name 'TreeNode' could not be found (are you missing a using directive or an assembly reference?)",
     "output_type": "error",
     "traceback": [
      "(15,32): error CS0246: The type or namespace name 'TreeNode' could not be found (are you missing a using directive or an assembly reference?)\n(15,45): error CS0246: The type or namespace name 'TreeNode' could not be found (are you missing a using directive or an assembly reference?)\n(15,12): error CS0246: The type or namespace name 'TreeNode' could not be found (are you missing a using directive or an assembly reference?)"
     ]
    }
   ],
   "source": [
    "/**\n",
    " * Definition for a binary tree node.\n",
    " * public class TreeNode {\n",
    " *     public int val;\n",
    " *     public TreeNode left;\n",
    " *     public TreeNode right;\n",
    " *     public TreeNode(int val=0, TreeNode left=null, TreeNode right=null) {\n",
    " *         this.val = val;\n",
    " *         this.left = left;\n",
    " *         this.right = right;\n",
    " *     }\n",
    " * }\n",
    " */\n",
    "public class Solution {\n",
    "    public TreeNode MergeTrees(TreeNode t1, TreeNode t2) {\n",
    "        if(t1 == null && t2 == null){\n",
    "            return t1;\n",
    "        }\n",
    "        if(t2 == null){\n",
    "            return t1;\n",
    "        }\n",
    "        if(t1 == null){\n",
    "            t1 = t2;\n",
    "            t2 = null;\n",
    "            return t1;\n",
    "        }\n",
    "        t1.val += t2.val;\n",
    "        if(t2.left != null){\n",
    "            if(t1.left == null){\n",
    "                t1.left = t2.left;\n",
    "            }else{\n",
    "                MergeTrees(t1.left, t2.left);\n",
    "            }\n",
    "        }\n",
    "        if(t2.right != null){\n",
    "            if(t1.right == null){\n",
    "                t1.right = t2.right;\n",
    "            }else{\n",
    "                MergeTrees(t1.right, t2.right);\n",
    "            }\n",
    "        }\n",
    "        return t1;\n",
    "    }\n",
    "}"
   ]
  },
  {
   "cell_type": "code",
   "execution_count": null,
   "metadata": {},
   "outputs": [],
   "source": [
    "/**\n",
    " * Definition for a binary tree node.\n",
    " * public class TreeNode {\n",
    " *     public int val;\n",
    " *     public TreeNode left;\n",
    " *     public TreeNode right;\n",
    " *     public TreeNode(int val=0, TreeNode left=null, TreeNode right=null) {\n",
    " *         this.val = val;\n",
    " *         this.left = left;\n",
    " *         this.right = right;\n",
    " *     }\n",
    " * }\n",
    " */\n",
    "public class Solution {\n",
    "    public TreeNode MergeTrees(TreeNode t1, TreeNode t2) {\n",
    "        if (t1 == null) return t2;\n",
    "        if (t2 == null) return t1;\n",
    "        \n",
    "        MergeDFS(t1, t2);\n",
    "        return t1;\n",
    "    }\n",
    "    \n",
    "    private void MergeDFS(TreeNode t1, TreeNode t2)\n",
    "    {\n",
    "        if (t2 != null)\n",
    "        {\n",
    "            t1.val += t2.val;\n",
    "        }\n",
    "        \n",
    "        // left\n",
    "        if (t1.left != null && t2.left != null)\n",
    "        {\n",
    "            MergeDFS(t1.left, t2.left);\n",
    "        }\n",
    "        else if (t1.left == null && t2.left != null)\n",
    "        {\n",
    "            t1.left = t2.left;\n",
    "        }\n",
    "        \n",
    "        // right\n",
    "        if (t1.right != null && t2.right != null)\n",
    "        {\n",
    "            MergeDFS(t1.right, t2.right);\n",
    "        }\n",
    "        else if (t1.right == null && t2.right != null)\n",
    "        {\n",
    "            t1.right = t2.right;\n",
    "        }\n",
    "    }\n",
    "}"
   ]
  }
 ],
 "metadata": {
  "kernelspec": {
   "display_name": ".NET (C#)",
   "language": "C#",
   "name": ".net-csharp"
  },
  "language_info": {
   "file_extension": ".cs",
   "mimetype": "text/x-csharp",
   "name": "C#",
   "pygments_lexer": "csharp",
   "version": "8.0"
  },
  "toc": {
   "base_numbering": 1,
   "nav_menu": {},
   "number_sections": true,
   "sideBar": true,
   "skip_h1_title": false,
   "title_cell": "Table of Contents",
   "title_sidebar": "Contents",
   "toc_cell": false,
   "toc_position": {},
   "toc_section_display": true,
   "toc_window_display": false
  }
 },
 "nbformat": 4,
 "nbformat_minor": 4
}
