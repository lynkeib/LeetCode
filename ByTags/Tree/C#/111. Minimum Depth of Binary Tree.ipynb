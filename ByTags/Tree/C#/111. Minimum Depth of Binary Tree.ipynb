{
 "cells": [
  {
   "cell_type": "code",
   "execution_count": 1,
   "metadata": {
    "ExecuteTime": {
     "end_time": "2020-04-09T04:28:21.5535670Z",
     "start_time": "2020-04-09T04:28:20.898Z"
    }
   },
   "outputs": [
    {
     "ename": "Unhandled Exception",
     "evalue": "(11,25): error CS0246: The type or namespace name 'TreeNode' could not be found (are you missing a using directive or an assembly reference?)\n(15,31): error CS0246: The type or namespace name 'TreeNode' could not be found (are you missing a using directive or an assembly reference?)\n(20,40): error CS0246: The type or namespace name 'TreeNode' could not be found (are you missing a using directive or an assembly reference?)",
     "output_type": "error",
     "traceback": [
      "(11,25): error CS0246: The type or namespace name 'TreeNode' could not be found (are you missing a using directive or an assembly reference?)\n(15,31): error CS0246: The type or namespace name 'TreeNode' could not be found (are you missing a using directive or an assembly reference?)\n(20,40): error CS0246: The type or namespace name 'TreeNode' could not be found (are you missing a using directive or an assembly reference?)"
     ]
    }
   ],
   "source": [
    "/**\n",
    " * Definition for a binary tree node.\n",
    " * public class TreeNode {\n",
    " *     public int val;\n",
    " *     public TreeNode left;\n",
    " *     public TreeNode right;\n",
    " *     public TreeNode(int x) { val = x; }\n",
    " * }\n",
    " */\n",
    "public class Solution {\n",
    "    public int MinDepth(TreeNode root) {\n",
    "        if(root == null){\n",
    "            return 0;\n",
    "        }\n",
    "        var queue = new Queue<TreeNode>();\n",
    "        queue.Enqueue(root);\n",
    "        var counter = 0;\n",
    "        while(queue.Count != 0){\n",
    "            counter ++;\n",
    "            var next_queue = new Queue<TreeNode>();\n",
    "            while(queue.Count != 0){\n",
    "                var node = queue.Dequeue();\n",
    "                if(node.left == null && node.right == null){\n",
    "                    return counter;\n",
    "                }\n",
    "                if(node.left != null){\n",
    "                    next_queue.Enqueue(node.left);\n",
    "                }\n",
    "                if(node.right != null){\n",
    "                    next_queue.Enqueue(node.right);\n",
    "                }\n",
    "            }\n",
    "            queue = next_queue;\n",
    "        }\n",
    "        return counter;\n",
    "    }\n",
    "}"
   ]
  },
  {
   "cell_type": "code",
   "execution_count": null,
   "metadata": {},
   "outputs": [],
   "source": []
  }
 ],
 "metadata": {
  "kernelspec": {
   "display_name": ".NET (C#)",
   "language": "C#",
   "name": ".net-csharp"
  },
  "language_info": {
   "file_extension": ".cs",
   "mimetype": "text/x-csharp",
   "name": "C#",
   "pygments_lexer": "csharp",
   "version": "8.0"
  },
  "toc": {
   "base_numbering": 1,
   "nav_menu": {},
   "number_sections": true,
   "sideBar": true,
   "skip_h1_title": false,
   "title_cell": "Table of Contents",
   "title_sidebar": "Contents",
   "toc_cell": false,
   "toc_position": {},
   "toc_section_display": true,
   "toc_window_display": false
  }
 },
 "nbformat": 4,
 "nbformat_minor": 4
}
