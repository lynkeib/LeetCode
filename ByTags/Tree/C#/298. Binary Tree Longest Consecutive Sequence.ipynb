{
 "cells": [
  {
   "cell_type": "code",
   "execution_count": 1,
   "metadata": {
    "ExecuteTime": {
     "end_time": "2020-05-04T04:17:29.6874260Z",
     "start_time": "2020-05-04T04:17:28.842Z"
    }
   },
   "outputs": [
    {
     "ename": "Unhandled Exception",
     "evalue": "(18,35): error CS0246: The type or namespace name 'TreeNode' could not be found (are you missing a using directive or an assembly reference?)\n(27,32): error CS0246: The type or namespace name 'TreeNode' could not be found (are you missing a using directive or an assembly reference?)",
     "output_type": "error",
     "traceback": [
      "(18,35): error CS0246: The type or namespace name 'TreeNode' could not be found (are you missing a using directive or an assembly reference?)\n(27,32): error CS0246: The type or namespace name 'TreeNode' could not be found (are you missing a using directive or an assembly reference?)"
     ]
    }
   ],
   "source": [
    "/**\n",
    " * Definition for a binary tree node.\n",
    " * public class TreeNode {\n",
    " *     public int val;\n",
    " *     public TreeNode left;\n",
    " *     public TreeNode right;\n",
    " *     public TreeNode(int val=0, TreeNode left=null, TreeNode right=null) {\n",
    " *         this.val = val;\n",
    " *         this.left = left;\n",
    " *         this.right = right;\n",
    " *     }\n",
    " * }\n",
    " */\n",
    "public class Solution {\n",
    "\n",
    "    int res;\n",
    "\n",
    "    public int LongestConsecutive(TreeNode root) {\n",
    "        res = 0;\n",
    "        if(root == null){\n",
    "            return res;\n",
    "        }\n",
    "        dfs(root);\n",
    "        return res;\n",
    "    }\n",
    "\n",
    "    public Tuple<int, int> dfs(TreeNode root){\n",
    "        if(root.left == null && root.right == null){\n",
    "            res = Math.Max(res, 1);\n",
    "            return new Tuple<int, int>(root.val, 1);\n",
    "        }\n",
    "        var count = 1;\n",
    "        if(root.left != null){\n",
    "            var left = dfs(root.left);\n",
    "            if(root.val - left.Item1 == -1){\n",
    "                count = Math.Max(count, left.Item2 + 1);\n",
    "            }\n",
    "        }\n",
    "        if(root.right != null){\n",
    "            var right = dfs(root.right);\n",
    "            if(root.val - right.Item1 == -1){\n",
    "                count = Math.Max(count, right.Item2 + 1);\n",
    "            }\n",
    "        }\n",
    "        res = Math.Max(res, count);\n",
    "        return new Tuple<int, int>(root.val, count);\n",
    "    }\n",
    "}"
   ]
  },
  {
   "cell_type": "code",
   "execution_count": null,
   "metadata": {},
   "outputs": [],
   "source": []
  }
 ],
 "metadata": {
  "kernelspec": {
   "display_name": ".NET (C#)",
   "language": "C#",
   "name": ".net-csharp"
  },
  "language_info": {
   "file_extension": ".cs",
   "mimetype": "text/x-csharp",
   "name": "C#",
   "pygments_lexer": "csharp",
   "version": "8.0"
  },
  "toc": {
   "base_numbering": 1,
   "nav_menu": {},
   "number_sections": true,
   "sideBar": true,
   "skip_h1_title": false,
   "title_cell": "Table of Contents",
   "title_sidebar": "Contents",
   "toc_cell": false,
   "toc_position": {},
   "toc_section_display": true,
   "toc_window_display": false
  }
 },
 "nbformat": 4,
 "nbformat_minor": 4
}
