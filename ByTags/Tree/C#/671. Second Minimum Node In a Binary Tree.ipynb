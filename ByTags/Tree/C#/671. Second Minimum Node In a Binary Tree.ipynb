{
 "cells": [
  {
   "cell_type": "markdown",
   "metadata": {},
   "source": [
    "# Sort"
   ]
  },
  {
   "cell_type": "code",
   "execution_count": 1,
   "metadata": {
    "ExecuteTime": {
     "end_time": "2020-05-19T22:24:30.6499170Z",
     "start_time": "2020-05-19T22:24:29.354Z"
    }
   },
   "outputs": [
    {
     "ename": "Unhandled Exception",
     "evalue": "(18,39): error CS0246: The type or namespace name 'TreeNode' could not be found (are you missing a using directive or an assembly reference?)\n(28,26): error CS0246: The type or namespace name 'TreeNode' could not be found (are you missing a using directive or an assembly reference?)",
     "output_type": "error",
     "traceback": [
      "(18,39): error CS0246: The type or namespace name 'TreeNode' could not be found (are you missing a using directive or an assembly reference?)\n(28,26): error CS0246: The type or namespace name 'TreeNode' could not be found (are you missing a using directive or an assembly reference?)"
     ]
    }
   ],
   "source": [
    "/**\n",
    " * Definition for a binary tree node.\n",
    " * public class TreeNode {\n",
    " *     public int val;\n",
    " *     public TreeNode left;\n",
    " *     public TreeNode right;\n",
    " *     public TreeNode(int val=0, TreeNode left=null, TreeNode right=null) {\n",
    " *         this.val = val;\n",
    " *         this.left = left;\n",
    " *         this.right = right;\n",
    " *     }\n",
    " * }\n",
    " */\n",
    "public class Solution {\n",
    "    \n",
    "    HashSet<int> sort = new HashSet<int>();\n",
    "    \n",
    "    public int FindSecondMinimumValue(TreeNode root) {\n",
    "        traverse(root);\n",
    "        if(sort.Count < 2){\n",
    "            return -1;\n",
    "        }\n",
    "        var s = sort.ToArray();\n",
    "        Array.Sort(s);\n",
    "        return s[1];\n",
    "    }\n",
    "    \n",
    "    public void traverse(TreeNode root){\n",
    "        if(root == null){\n",
    "            return;\n",
    "        }\n",
    "        sort.Add(root.val);\n",
    "        traverse(root.left);\n",
    "        traverse(root.right);\n",
    "        return;\n",
    "    }\n",
    "    \n",
    "}"
   ]
  },
  {
   "cell_type": "markdown",
   "metadata": {},
   "source": [
    "# DFS"
   ]
  },
  {
   "cell_type": "code",
   "execution_count": 2,
   "metadata": {
    "ExecuteTime": {
     "end_time": "2020-05-19T22:31:52.4496040Z",
     "start_time": "2020-05-19T22:31:52.348Z"
    }
   },
   "outputs": [
    {
     "ename": "Unhandled Exception",
     "evalue": "(18,39): error CS0246: The type or namespace name 'TreeNode' could not be found (are you missing a using directive or an assembly reference?)\n(24,30): error CS0246: The type or namespace name 'TreeNode' could not be found (are you missing a using directive or an assembly reference?)",
     "output_type": "error",
     "traceback": [
      "(18,39): error CS0246: The type or namespace name 'TreeNode' could not be found (are you missing a using directive or an assembly reference?)\n(24,30): error CS0246: The type or namespace name 'TreeNode' could not be found (are you missing a using directive or an assembly reference?)"
     ]
    }
   ],
   "source": [
    "/**\n",
    " * Definition for a binary tree node.\n",
    " * public class TreeNode {\n",
    " *     public int val;\n",
    " *     public TreeNode left;\n",
    " *     public TreeNode right;\n",
    " *     public TreeNode(int val=0, TreeNode left=null, TreeNode right=null) {\n",
    " *         this.val = val;\n",
    " *         this.left = left;\n",
    " *         this.right = right;\n",
    " *     }\n",
    " * }\n",
    " */\n",
    "public class Solution {\n",
    "    \n",
    "    int smallest;\n",
    "    \n",
    "    public int FindSecondMinimumValue(TreeNode root) {\n",
    "        smallest = root.val;\n",
    "        var res = findSmallest(root);\n",
    "        return res == long.MaxValue ? -1 : (int)res;\n",
    "    }\n",
    "    \n",
    "    public long findSmallest(TreeNode root){\n",
    "        if(root == null){\n",
    "            return long.MaxValue;\n",
    "        }\n",
    "        if(root.val == smallest){\n",
    "            return Math.Min(findSmallest(root.left), findSmallest(root.right));\n",
    "        }\n",
    "        return Math.Min(root.val, Math.Min(findSmallest(root.left), findSmallest(root.right)));\n",
    "    }\n",
    "}"
   ]
  },
  {
   "cell_type": "markdown",
   "metadata": {},
   "source": [
    "# Early quit"
   ]
  },
  {
   "cell_type": "code",
   "execution_count": 3,
   "metadata": {
    "ExecuteTime": {
     "end_time": "2020-05-19T22:35:18.9026320Z",
     "start_time": "2020-05-19T22:35:18.843Z"
    }
   },
   "outputs": [
    {
     "ename": "Unhandled Exception",
     "evalue": "(18,39): error CS0246: The type or namespace name 'TreeNode' could not be found (are you missing a using directive or an assembly reference?)\n(24,30): error CS0246: The type or namespace name 'TreeNode' could not be found (are you missing a using directive or an assembly reference?)",
     "output_type": "error",
     "traceback": [
      "(18,39): error CS0246: The type or namespace name 'TreeNode' could not be found (are you missing a using directive or an assembly reference?)\n(24,30): error CS0246: The type or namespace name 'TreeNode' could not be found (are you missing a using directive or an assembly reference?)"
     ]
    }
   ],
   "source": [
    "/**\n",
    " * Definition for a binary tree node.\n",
    " * public class TreeNode {\n",
    " *     public int val;\n",
    " *     public TreeNode left;\n",
    " *     public TreeNode right;\n",
    " *     public TreeNode(int val=0, TreeNode left=null, TreeNode right=null) {\n",
    " *         this.val = val;\n",
    " *         this.left = left;\n",
    " *         this.right = right;\n",
    " *     }\n",
    " * }\n",
    " */\n",
    "public class Solution {\n",
    "    \n",
    "    int smallest;\n",
    "    \n",
    "    public int FindSecondMinimumValue(TreeNode root) {\n",
    "        smallest = root.val;\n",
    "        var res = findSmallest(root);\n",
    "        return res == long.MaxValue ? -1 : (int)res;\n",
    "    }\n",
    "    \n",
    "    public long findSmallest(TreeNode root){\n",
    "        if(root == null){\n",
    "            return long.MaxValue;\n",
    "        }\n",
    "        if(root.val != smallest){\n",
    "            return root.val;\n",
    "        }\n",
    "        var left = findSmallest(root.left);\n",
    "        var right = findSmallest(root.right);\n",
    "        return Math.Min(left, right);\n",
    "    }\n",
    "}"
   ]
  },
  {
   "cell_type": "code",
   "execution_count": null,
   "metadata": {},
   "outputs": [],
   "source": []
  }
 ],
 "metadata": {
  "kernelspec": {
   "display_name": ".NET (C#)",
   "language": "C#",
   "name": ".net-csharp"
  },
  "language_info": {
   "file_extension": ".cs",
   "mimetype": "text/x-csharp",
   "name": "C#",
   "pygments_lexer": "csharp",
   "version": "8.0"
  },
  "toc": {
   "base_numbering": 1,
   "nav_menu": {},
   "number_sections": true,
   "sideBar": true,
   "skip_h1_title": false,
   "title_cell": "Table of Contents",
   "title_sidebar": "Contents",
   "toc_cell": false,
   "toc_position": {},
   "toc_section_display": true,
   "toc_window_display": false
  }
 },
 "nbformat": 4,
 "nbformat_minor": 4
}
