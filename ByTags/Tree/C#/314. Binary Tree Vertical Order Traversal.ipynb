{
 "cells": [
  {
   "cell_type": "code",
   "execution_count": 1,
   "metadata": {
    "ExecuteTime": {
     "end_time": "2020-05-06T04:36:02.5396850Z",
     "start_time": "2020-05-06T04:36:01.734Z"
    }
   },
   "outputs": [
    {
     "ename": "Unhandled Exception",
     "evalue": "(18,44): error CS0246: The type or namespace name 'TreeNode' could not be found (are you missing a using directive or an assembly reference?)\n(39,26): error CS0246: The type or namespace name 'TreeNode' could not be found (are you missing a using directive or an assembly reference?)\n(24,30): error CS0246: The type or namespace name 'TreeNode' could not be found (are you missing a using directive or an assembly reference?)\n(43,35): error CS0246: The type or namespace name 'TreeNode' could not be found (are you missing a using directive or an assembly reference?)",
     "output_type": "error",
     "traceback": [
      "(18,44): error CS0246: The type or namespace name 'TreeNode' could not be found (are you missing a using directive or an assembly reference?)\n(39,26): error CS0246: The type or namespace name 'TreeNode' could not be found (are you missing a using directive or an assembly reference?)\n(24,30): error CS0246: The type or namespace name 'TreeNode' could not be found (are you missing a using directive or an assembly reference?)\n(43,35): error CS0246: The type or namespace name 'TreeNode' could not be found (are you missing a using directive or an assembly reference?)"
     ]
    }
   ],
   "source": [
    "/**\n",
    " * Definition for a binary tree node.\n",
    " * public class TreeNode {\n",
    " *     public int val;\n",
    " *     public TreeNode left;\n",
    " *     public TreeNode right;\n",
    " *     public TreeNode(int val=0, TreeNode left=null, TreeNode right=null) {\n",
    " *         this.val = val;\n",
    " *         this.left = left;\n",
    " *         this.right = right;\n",
    " *     }\n",
    " * }\n",
    " */\n",
    "public class Solution {\n",
    "    \n",
    "    Dictionary<int, List<int>> res;\n",
    "    \n",
    "    public IList<IList<int>> VerticalOrder(TreeNode root) {\n",
    "        var r = new List<IList<int>>();\n",
    "        if(root == null){\n",
    "            return r;\n",
    "        }\n",
    "        res = new Dictionary<int, List<int>>();\n",
    "        var nodes = new List<TreeNode>{root};\n",
    "        var levels = new List<int>{0};\n",
    "        bfs(nodes, levels);\n",
    "        var max = int.MinValue;\n",
    "        var min = int.MaxValue;\n",
    "        foreach(var v in res.Keys){\n",
    "            max = Math.Max(max, v);\n",
    "            min = Math.Min(min, v);\n",
    "        }\n",
    "        for(int index = min; index <= max; index++){\n",
    "            r.Add(res[index]);\n",
    "        }\n",
    "        return r;\n",
    "    }\n",
    "    \n",
    "    public void bfs(List<TreeNode> nodes, List<int> levels){\n",
    "        if(nodes.Count == 0){\n",
    "            return;\n",
    "        }\n",
    "        var next_nodes = new List<TreeNode>();\n",
    "        var next_levels = new List<int>();\n",
    "        for(int index = 0; index < nodes.Count; index++){\n",
    "            var node = nodes[index];\n",
    "            var level = levels[index];\n",
    "            if(!res.ContainsKey(level)){\n",
    "                res[level] = new List<int>();\n",
    "            }\n",
    "            res[level].Add(node.val);\n",
    "            if(node.left != null){\n",
    "                next_nodes.Add(node.left);\n",
    "                next_levels.Add(level - 1);\n",
    "            }\n",
    "            if(node.right != null){\n",
    "                next_nodes.Add(node.right);\n",
    "                next_levels.Add(level + 1);\n",
    "            }\n",
    "        }\n",
    "        bfs(next_nodes, next_levels);\n",
    "        return;\n",
    "    }\n",
    "}"
   ]
  },
  {
   "cell_type": "code",
   "execution_count": null,
   "metadata": {},
   "outputs": [],
   "source": []
  }
 ],
 "metadata": {
  "kernelspec": {
   "display_name": ".NET (C#)",
   "language": "C#",
   "name": ".net-csharp"
  },
  "language_info": {
   "file_extension": ".cs",
   "mimetype": "text/x-csharp",
   "name": "C#",
   "pygments_lexer": "csharp",
   "version": "8.0"
  },
  "toc": {
   "base_numbering": 1,
   "nav_menu": {},
   "number_sections": true,
   "sideBar": true,
   "skip_h1_title": false,
   "title_cell": "Table of Contents",
   "title_sidebar": "Contents",
   "toc_cell": false,
   "toc_position": {},
   "toc_section_display": true,
   "toc_window_display": false
  }
 },
 "nbformat": 4,
 "nbformat_minor": 4
}
