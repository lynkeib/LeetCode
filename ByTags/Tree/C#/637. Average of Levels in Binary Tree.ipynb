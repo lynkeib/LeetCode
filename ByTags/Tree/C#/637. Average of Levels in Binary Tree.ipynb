{
 "cells": [
  {
   "cell_type": "code",
   "execution_count": 1,
   "metadata": {
    "ExecuteTime": {
     "end_time": "2020-05-19T21:50:30.9917280Z",
     "start_time": "2020-05-19T21:50:30.092Z"
    }
   },
   "outputs": [
    {
     "ename": "Unhandled Exception",
     "evalue": "(19,42): error CS0246: The type or namespace name 'TreeNode' could not be found (are you missing a using directive or an assembly reference?)\n(28,21): error CS0246: The type or namespace name 'TreeNode' could not be found (are you missing a using directive or an assembly reference?)",
     "output_type": "error",
     "traceback": [
      "(19,42): error CS0246: The type or namespace name 'TreeNode' could not be found (are you missing a using directive or an assembly reference?)\n(28,21): error CS0246: The type or namespace name 'TreeNode' could not be found (are you missing a using directive or an assembly reference?)"
     ]
    }
   ],
   "source": [
    "/**\n",
    " * Definition for a binary tree node.\n",
    " * public class TreeNode {\n",
    " *     public int val;\n",
    " *     public TreeNode left;\n",
    " *     public TreeNode right;\n",
    " *     public TreeNode(int val=0, TreeNode left=null, TreeNode right=null) {\n",
    " *         this.val = val;\n",
    " *         this.left = left;\n",
    " *         this.right = right;\n",
    " *     }\n",
    " * }\n",
    " */\n",
    "public class Solution {\n",
    "    \n",
    "    List<long> sum = new List<long>();\n",
    "    List<long> count = new List<long>();\n",
    "    \n",
    "    public IList<double> AverageOfLevels(TreeNode root) {\n",
    "        var res = new List<double>();\n",
    "        dfs(root, 0);\n",
    "        for(int i = 0; i < sum.Count; i++){\n",
    "            res.Add((double)sum[i] / count[i]);\n",
    "        }\n",
    "        return res;\n",
    "    }\n",
    "    \n",
    "    public void dfs(TreeNode root, int depth){\n",
    "        if(root == null){\n",
    "            return;\n",
    "        }\n",
    "        if(depth == sum.Count){\n",
    "            sum.Add(root.val);\n",
    "            count.Add(1);\n",
    "        }else{\n",
    "            sum[depth] += root.val;\n",
    "            count[depth]++;\n",
    "        }\n",
    "        dfs(root.left, depth + 1);\n",
    "        dfs(root.right, depth + 1);\n",
    "        return;\n",
    "    }\n",
    "}"
   ]
  },
  {
   "cell_type": "code",
   "execution_count": null,
   "metadata": {},
   "outputs": [],
   "source": []
  }
 ],
 "metadata": {
  "kernelspec": {
   "display_name": ".NET (C#)",
   "language": "C#",
   "name": ".net-csharp"
  },
  "language_info": {
   "file_extension": ".cs",
   "mimetype": "text/x-csharp",
   "name": "C#",
   "pygments_lexer": "csharp",
   "version": "8.0"
  },
  "toc": {
   "base_numbering": 1,
   "nav_menu": {},
   "number_sections": true,
   "sideBar": true,
   "skip_h1_title": false,
   "title_cell": "Table of Contents",
   "title_sidebar": "Contents",
   "toc_cell": false,
   "toc_position": {},
   "toc_section_display": true,
   "toc_window_display": false
  }
 },
 "nbformat": 4,
 "nbformat_minor": 4
}
