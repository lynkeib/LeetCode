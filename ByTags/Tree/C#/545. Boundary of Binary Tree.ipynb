{
 "cells": [
  {
   "cell_type": "code",
   "execution_count": 1,
   "metadata": {
    "ExecuteTime": {
     "end_time": "2020-05-19T23:33:24.0585840Z",
     "start_time": "2020-05-19T23:33:22.993Z"
    }
   },
   "outputs": [
    {
     "ename": "Unhandled Exception",
     "evalue": "(15,44): error CS0246: The type or namespace name 'TreeNode' could not be found (are you missing a using directive or an assembly reference?)\n(57,32): error CS0246: The type or namespace name 'TreeNode' could not be found (are you missing a using directive or an assembly reference?)",
     "output_type": "error",
     "traceback": [
      "(15,44): error CS0246: The type or namespace name 'TreeNode' could not be found (are you missing a using directive or an assembly reference?)\n(57,32): error CS0246: The type or namespace name 'TreeNode' could not be found (are you missing a using directive or an assembly reference?)"
     ]
    }
   ],
   "source": [
    "/**\n",
    " * Definition for a binary tree node.\n",
    " * public class TreeNode {\n",
    " *     public int val;\n",
    " *     public TreeNode left;\n",
    " *     public TreeNode right;\n",
    " *     public TreeNode(int val=0, TreeNode left=null, TreeNode right=null) {\n",
    " *         this.val = val;\n",
    " *         this.left = left;\n",
    " *         this.right = right;\n",
    " *     }\n",
    " * }\n",
    " */\n",
    "public class Solution {\n",
    "    public IList<int> BoundaryOfBinaryTree(TreeNode root) {\n",
    "        var res = new List<int>();\n",
    "        if(root == null){\n",
    "            return res;\n",
    "        }\n",
    "        if(root.left != null || root.right != null){\n",
    "            res.Add(root.val);\n",
    "        }\n",
    "\n",
    "        var curr = root.left;\n",
    "        while(curr != null){\n",
    "            if(curr.left != null || curr.right != null){\n",
    "                res.Add(curr.val);\n",
    "            }\n",
    "            if(curr.left != null){\n",
    "                curr = curr.left;\n",
    "            }else{\n",
    "                curr = curr.right;\n",
    "            }\n",
    "        }\n",
    "\n",
    "        var leaves = getLeaves(root);\n",
    "        res.AddRange(leaves);\n",
    "\n",
    "        curr = root.right;\n",
    "        var stack = new Stack<int>();\n",
    "        while(curr != null){\n",
    "            if(curr.left != null || curr.right != null){\n",
    "                stack.Push(curr.val);\n",
    "            }\n",
    "            if(curr.right != null){\n",
    "                curr = curr.right;\n",
    "            }else{\n",
    "                curr = curr.left;\n",
    "            }\n",
    "        }\n",
    "        while(stack.Count != 0){\n",
    "            res.Add(stack.Pop());\n",
    "        }\n",
    "        return res;\n",
    "    }\n",
    "    \n",
    "    public List<int> getLeaves(TreeNode root){\n",
    "        if(root == null){\n",
    "            return new List<int>();\n",
    "        }\n",
    "        if(root.left == null && root.right == null){\n",
    "            return new List<int>{root.val};\n",
    "        }\n",
    "        var left = getLeaves(root.left);\n",
    "        var right = getLeaves(root.right);\n",
    "        \n",
    "        return left.Concat(right).ToList();\n",
    "    }\n",
    "}"
   ]
  },
  {
   "cell_type": "code",
   "execution_count": null,
   "metadata": {},
   "outputs": [],
   "source": []
  }
 ],
 "metadata": {
  "kernelspec": {
   "display_name": ".NET (C#)",
   "language": "C#",
   "name": ".net-csharp"
  },
  "language_info": {
   "file_extension": ".cs",
   "mimetype": "text/x-csharp",
   "name": "C#",
   "pygments_lexer": "csharp",
   "version": "8.0"
  },
  "toc": {
   "base_numbering": 1,
   "nav_menu": {},
   "number_sections": true,
   "sideBar": true,
   "skip_h1_title": false,
   "title_cell": "Table of Contents",
   "title_sidebar": "Contents",
   "toc_cell": false,
   "toc_position": {},
   "toc_section_display": true,
   "toc_window_display": false
  }
 },
 "nbformat": 4,
 "nbformat_minor": 4
}
