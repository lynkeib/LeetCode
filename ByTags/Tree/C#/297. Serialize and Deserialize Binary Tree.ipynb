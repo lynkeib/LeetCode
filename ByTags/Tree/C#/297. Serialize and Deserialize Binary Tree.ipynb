{
 "cells": [
  {
   "cell_type": "code",
   "execution_count": 1,
   "metadata": {
    "ExecuteTime": {
     "end_time": "2020-05-04T04:08:31.7124570Z",
     "start_time": "2020-05-04T04:08:28.802Z"
    }
   },
   "outputs": [
    {
     "ename": "Unhandled Exception",
     "evalue": "(13,29): error CS0246: The type or namespace name 'TreeNode' could not be found (are you missing a using directive or an assembly reference?)\n(33,12): error CS0246: The type or namespace name 'TreeNode' could not be found (are you missing a using directive or an assembly reference?)\n(14,31): error CS0246: The type or namespace name 'TreeNode' could not be found (are you missing a using directive or an assembly reference?)\n(38,24): error CS0246: The type or namespace name 'TreeNode' could not be found (are you missing a using directive or an assembly reference?)\n(40,30): error CS0246: The type or namespace name 'TreeNode' could not be found (are you missing a using directive or an assembly reference?)\n(42,39): error CS0246: The type or namespace name 'TreeNode' could not be found (are you missing a using directive or an assembly reference?)\n(43,21): error CS0246: The type or namespace name 'TreeNode' could not be found (are you missing a using directive or an assembly reference?)\n(49,41): error CS0246: The type or namespace name 'TreeNode' could not be found (are you missing a using directive or an assembly reference?)\n(54,42): error CS0246: The type or namespace name 'TreeNode' could not be found (are you missing a using directive or an assembly reference?)",
     "output_type": "error",
     "traceback": [
      "(13,29): error CS0246: The type or namespace name 'TreeNode' could not be found (are you missing a using directive or an assembly reference?)\n(33,12): error CS0246: The type or namespace name 'TreeNode' could not be found (are you missing a using directive or an assembly reference?)\n(14,31): error CS0246: The type or namespace name 'TreeNode' could not be found (are you missing a using directive or an assembly reference?)\n(38,24): error CS0246: The type or namespace name 'TreeNode' could not be found (are you missing a using directive or an assembly reference?)\n(40,30): error CS0246: The type or namespace name 'TreeNode' could not be found (are you missing a using directive or an assembly reference?)\n(42,39): error CS0246: The type or namespace name 'TreeNode' could not be found (are you missing a using directive or an assembly reference?)\n(43,21): error CS0246: The type or namespace name 'TreeNode' could not be found (are you missing a using directive or an assembly reference?)\n(49,41): error CS0246: The type or namespace name 'TreeNode' could not be found (are you missing a using directive or an assembly reference?)\n(54,42): error CS0246: The type or namespace name 'TreeNode' could not be found (are you missing a using directive or an assembly reference?)"
     ]
    }
   ],
   "source": [
    "/**\n",
    " * Definition for a binary tree node.\n",
    " * public class TreeNode {\n",
    " *     public int val;\n",
    " *     public TreeNode left;\n",
    " *     public TreeNode right;\n",
    " *     public TreeNode(int x) { val = x; }\n",
    " * }\n",
    " */\n",
    "public class Codec {\n",
    "\n",
    "    // Encodes a tree to a single string.\n",
    "    public string serialize(TreeNode root) {\n",
    "        var queue = new Queue<TreeNode>();\n",
    "        var res = new List<string>();\n",
    "        queue.Enqueue(root);\n",
    "        while(queue.Count != 0){\n",
    "            var node = queue.Dequeue();\n",
    "            if(node == null){\n",
    "                res.Add(\"None\");\n",
    "            }else{\n",
    "                res.Add($\"{node.val}\");\n",
    "                queue.Enqueue(node.left);\n",
    "                queue.Enqueue(node.right);\n",
    "            }\n",
    "        }\n",
    "        var res_str = String.Join(\"|\", res);\n",
    "        // Console.WriteLine(res_str);\n",
    "        return res_str;\n",
    "    }\n",
    "\n",
    "    // Decodes your encoded data to tree.\n",
    "    public TreeNode deserialize(string data) {\n",
    "        var res = data.Split(\"|\").ToList();\n",
    "        if(res[0] == \"None\"){\n",
    "            return null;\n",
    "        }\n",
    "        var root = new TreeNode(Int32.Parse(res[0]));\n",
    "        int index = 1;\n",
    "        var upper = new List<TreeNode>{root};\n",
    "        while(index < res.Count){\n",
    "            var next_upper = new List<TreeNode>();\n",
    "            foreach(TreeNode node in upper){\n",
    "                var left = res[index];\n",
    "                index++;\n",
    "                var right = res[index];\n",
    "                index++;\n",
    "                if(left != \"None\"){\n",
    "                    var left_node = new TreeNode(Int32.Parse(left));\n",
    "                    node.left = left_node;\n",
    "                    next_upper.Add(left_node);\n",
    "                }\n",
    "                if(right != \"None\"){\n",
    "                    var right_node = new TreeNode(Int32.Parse(right));\n",
    "                    node.right = right_node;\n",
    "                    next_upper.Add(right_node);\n",
    "                }\n",
    "            }\n",
    "            upper = next_upper;\n",
    "        }\n",
    "        return root;\n",
    "    }\n",
    "}\n",
    "\n",
    "// Your Codec object will be instantiated and called as such:\n",
    "// Codec codec = new Codec();\n",
    "// codec.deserialize(codec.serialize(root));"
   ]
  },
  {
   "cell_type": "code",
   "execution_count": null,
   "metadata": {},
   "outputs": [],
   "source": []
  }
 ],
 "metadata": {
  "kernelspec": {
   "display_name": ".NET (C#)",
   "language": "C#",
   "name": ".net-csharp"
  },
  "language_info": {
   "file_extension": ".cs",
   "mimetype": "text/x-csharp",
   "name": "C#",
   "pygments_lexer": "csharp",
   "version": "8.0"
  },
  "toc": {
   "base_numbering": 1,
   "nav_menu": {},
   "number_sections": true,
   "sideBar": true,
   "skip_h1_title": false,
   "title_cell": "Table of Contents",
   "title_sidebar": "Contents",
   "toc_cell": false,
   "toc_position": {},
   "toc_section_display": true,
   "toc_window_display": false
  }
 },
 "nbformat": 4,
 "nbformat_minor": 4
}
