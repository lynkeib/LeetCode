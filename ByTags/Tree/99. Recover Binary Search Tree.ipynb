{
 "cells": [
  {
   "cell_type": "markdown",
   "metadata": {},
   "source": [
    "# Inorder Traversal: Time $O(n)$, Space $O(n)$"
   ]
  },
  {
   "cell_type": "code",
   "execution_count": 2,
   "metadata": {
    "ExecuteTime": {
     "end_time": "2019-11-08T04:59:42.873081Z",
     "start_time": "2019-11-08T04:59:42.868170Z"
    }
   },
   "outputs": [],
   "source": [
    "# Definition for a binary tree node.\n",
    "# class TreeNode(object):\n",
    "#     def __init__(self, x):\n",
    "#         self.val = x\n",
    "#         self.left = None\n",
    "#         self.right = None\n",
    "\n",
    "class Solution(object):\n",
    "    def recoverTree(self, root):\n",
    "        \"\"\"\n",
    "        :type root: TreeNode\n",
    "        :rtype: None Do not return anything, modify root in-place instead.\n",
    "        \"\"\"\n",
    "        node1, node2 = None, None\n",
    "        prev = None\n",
    "        curr = root\n",
    "        stack = []\n",
    "        while stack or curr:\n",
    "            while curr:\n",
    "                stack.append(curr)\n",
    "                curr = curr.left\n",
    "            curr = stack.pop()\n",
    "            if prev and prev.val > curr.val:\n",
    "                node2 = curr\n",
    "                if not node1:\n",
    "                    node1 = prev\n",
    "            prev = curr\n",
    "            curr = curr.right\n",
    "        node1.val, node2.val = node2.val, node1.val\n",
    "        return \n",
    "            "
   ]
  },
  {
   "cell_type": "markdown",
   "metadata": {},
   "source": [
    "# Morris Inorder Traversal, Time $O(n)$, Space $O(1)$"
   ]
  },
  {
   "cell_type": "code",
   "execution_count": 1,
   "metadata": {
    "ExecuteTime": {
     "end_time": "2019-11-08T04:54:08.119278Z",
     "start_time": "2019-11-08T04:54:08.110048Z"
    }
   },
   "outputs": [],
   "source": [
    "# Definition for a binary tree node.\n",
    "# class TreeNode(object):\n",
    "#     def __init__(self, x):\n",
    "#         self.val = x\n",
    "#         self.left = None\n",
    "#         self.right = None\n",
    "\n",
    "class Solution(object):\n",
    "    def recoverTree(self, root):\n",
    "        \"\"\"\n",
    "        :type root: TreeNode\n",
    "        :rtype: None Do not return anything, modify root in-place instead.\n",
    "        \"\"\"\n",
    "        node1, node2 = None, None\n",
    "        prev = None\n",
    "        predecessor = None\n",
    "        curr = root\n",
    "        while curr:\n",
    "            # if curr has left, means it can go down the left path\n",
    "            if curr.left:\n",
    "                predecessor = curr.left\n",
    "            \n",
    "                # find biggest smaller one\n",
    "                while predecessor.right and predecessor.right != curr:\n",
    "                    predecessor = predecessor.right\n",
    "\n",
    "                if not predecessor.right:\n",
    "                    predecessor.right = curr\n",
    "                    curr = curr.left\n",
    "                    \n",
    "                else: # predecessor.right == curr, means the left part is totally exploared, it's time to check this curr\n",
    "                    if prev and prev.val > curr.val:\n",
    "                        node2 = curr\n",
    "                        if not node1:\n",
    "                            node1 = prev\n",
    "                    prev = curr\n",
    "                    \n",
    "                    predecessor.right = None\n",
    "                    curr = curr.right\n",
    "                    \n",
    "            else: # curr does not have left\n",
    "                if prev and prev.val > curr.val:\n",
    "                        node2 = curr\n",
    "                        if not node1:\n",
    "                            node1 = prev\n",
    "                prev = curr\n",
    "                curr = curr.right\n",
    "        node1.val, node2.val = node2.val, node1.val\n",
    "        return "
   ]
  },
  {
   "cell_type": "code",
   "execution_count": null,
   "metadata": {},
   "outputs": [],
   "source": []
  }
 ],
 "metadata": {
  "kernelspec": {
   "display_name": "Python 3",
   "language": "python",
   "name": "python3"
  },
  "language_info": {
   "codemirror_mode": {
    "name": "ipython",
    "version": 3
   },
   "file_extension": ".py",
   "mimetype": "text/x-python",
   "name": "python",
   "nbconvert_exporter": "python",
   "pygments_lexer": "ipython3",
   "version": "3.7.1"
  },
  "toc": {
   "base_numbering": 1,
   "nav_menu": {},
   "number_sections": true,
   "sideBar": true,
   "skip_h1_title": false,
   "title_cell": "Table of Contents",
   "title_sidebar": "Contents",
   "toc_cell": false,
   "toc_position": {},
   "toc_section_display": true,
   "toc_window_display": false
  }
 },
 "nbformat": 4,
 "nbformat_minor": 2
}
