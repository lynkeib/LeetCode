{
 "cells": [
  {
   "cell_type": "code",
   "execution_count": 1,
   "metadata": {
    "ExecuteTime": {
     "end_time": "2019-11-08T06:12:29.078259Z",
     "start_time": "2019-11-08T06:12:29.068026Z"
    }
   },
   "outputs": [],
   "source": [
    "# Definition for a binary tree node.\n",
    "# class TreeNode(object):\n",
    "#     def __init__(self, x):\n",
    "#         self.val = x\n",
    "#         self.left = None\n",
    "#         self.right = None\n",
    "\n",
    "class Solution(object):\n",
    "    def verticalOrder(self, root):\n",
    "        \"\"\"\n",
    "        :type root: TreeNode\n",
    "        :rtype: List[List[int]]\n",
    "        \"\"\"\n",
    "        if not root:\n",
    "            return []\n",
    "        position = dict()\n",
    "        queue = [(root, 0)]\n",
    "        while queue:\n",
    "            next_queue = []\n",
    "            for node, index in queue:\n",
    "                if index in position:\n",
    "                    position[index].append(node.val)\n",
    "                else:\n",
    "                    position[index] = [node.val]\n",
    "                if node.left:\n",
    "                    next_queue.append([node.left, index - 1])\n",
    "                if node.right:\n",
    "                    next_queue.append([node.right, index + 1])\n",
    "            queue = next_queue\n",
    "        min_index, max_index = min(position), max(position)\n",
    "        res = []\n",
    "        for index in range(min_index, max_index + 1):\n",
    "            if position[index]:\n",
    "                res.append(position[index])\n",
    "        return res"
   ]
  },
  {
   "cell_type": "code",
   "execution_count": null,
   "metadata": {},
   "outputs": [],
   "source": []
  }
 ],
 "metadata": {
  "kernelspec": {
   "display_name": "Python 3",
   "language": "python",
   "name": "python3"
  },
  "language_info": {
   "codemirror_mode": {
    "name": "ipython",
    "version": 3
   },
   "file_extension": ".py",
   "mimetype": "text/x-python",
   "name": "python",
   "nbconvert_exporter": "python",
   "pygments_lexer": "ipython3",
   "version": "3.7.1"
  },
  "toc": {
   "base_numbering": 1,
   "nav_menu": {},
   "number_sections": true,
   "sideBar": true,
   "skip_h1_title": false,
   "title_cell": "Table of Contents",
   "title_sidebar": "Contents",
   "toc_cell": false,
   "toc_position": {},
   "toc_section_display": true,
   "toc_window_display": false
  }
 },
 "nbformat": 4,
 "nbformat_minor": 2
}
