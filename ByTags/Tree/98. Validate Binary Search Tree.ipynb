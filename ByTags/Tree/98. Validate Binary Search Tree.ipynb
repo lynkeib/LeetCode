{
 "cells": [
  {
   "cell_type": "markdown",
   "metadata": {},
   "source": [
    "# Too slow"
   ]
  },
  {
   "cell_type": "code",
   "execution_count": 1,
   "metadata": {
    "ExecuteTime": {
     "end_time": "2019-11-05T06:16:10.855634Z",
     "start_time": "2019-11-05T06:16:10.847025Z"
    }
   },
   "outputs": [],
   "source": [
    "# Definition for a binary tree node.\n",
    "# class TreeNode(object):\n",
    "#     def __init__(self, x):\n",
    "#         self.val = x\n",
    "#         self.left = None\n",
    "#         self.right = None\n",
    "\n",
    "class Solution(object):\n",
    "    def isValidBST(self, root):\n",
    "        \"\"\"\n",
    "        :type root: TreeNode\n",
    "        :rtype: bool\n",
    "        \"\"\"\n",
    "        return self.dfs(root)[2]\n",
    "\n",
    "    def dfs(self, root):\n",
    "        if not root:\n",
    "            # max_value, min_value, res\n",
    "            return -float('inf'), float('inf'), True\n",
    "        \n",
    "        left = self.dfs(root.left)\n",
    "        right = self.dfs(root.right)\n",
    "        \n",
    "        if not left[2] or not right[2]:\n",
    "            return -float('inf'), float('inf'), False\n",
    "        \n",
    "        if left[0] >= root.val or right[1] <= root.val:\n",
    "            return -float('inf'), float('inf'), False\n",
    "        \n",
    "        return max(left[0],right[0], root.val), min(left[1], right[1], root.val), True"
   ]
  },
  {
   "cell_type": "markdown",
   "metadata": {},
   "source": [
    "# Early return, 80+% time"
   ]
  },
  {
   "cell_type": "code",
   "execution_count": 2,
   "metadata": {
    "ExecuteTime": {
     "end_time": "2019-11-05T06:22:25.083055Z",
     "start_time": "2019-11-05T06:22:25.074821Z"
    }
   },
   "outputs": [],
   "source": [
    "# Definition for a binary tree node.\n",
    "# class TreeNode(object):\n",
    "#     def __init__(self, x):\n",
    "#         self.val = x\n",
    "#         self.left = None\n",
    "#         self.right = None\n",
    "\n",
    "class Solution(object):\n",
    "    def isValidBST(self, root):\n",
    "        \"\"\"\n",
    "        :type root: TreeNode\n",
    "        :rtype: bool\n",
    "        \"\"\"\n",
    "        return self.dfs(root)[2]\n",
    "\n",
    "    def dfs(self, root):\n",
    "        if not root:\n",
    "            # max_value, min_value, res\n",
    "            return -float('inf'), float('inf'), True\n",
    "        \n",
    "        left = self.dfs(root.left)\n",
    "        if not left[2]:\n",
    "            return -float('inf'), float('inf'), False\n",
    "        right = self.dfs(root.right)\n",
    "        \n",
    "        if not right[2]:\n",
    "            return -float('inf'), float('inf'), False\n",
    "        \n",
    "        if left[0] >= root.val or right[1] <= root.val:\n",
    "            return -float('inf'), float('inf'), False\n",
    "        \n",
    "        return max(left[0],right[0], root.val), min(left[1], right[1], root.val), True"
   ]
  },
  {
   "cell_type": "code",
   "execution_count": null,
   "metadata": {},
   "outputs": [],
   "source": []
  }
 ],
 "metadata": {
  "kernelspec": {
   "display_name": "Python 3",
   "language": "python",
   "name": "python3"
  },
  "language_info": {
   "codemirror_mode": {
    "name": "ipython",
    "version": 3
   },
   "file_extension": ".py",
   "mimetype": "text/x-python",
   "name": "python",
   "nbconvert_exporter": "python",
   "pygments_lexer": "ipython3",
   "version": "3.7.1"
  },
  "toc": {
   "base_numbering": 1,
   "nav_menu": {},
   "number_sections": true,
   "sideBar": true,
   "skip_h1_title": false,
   "title_cell": "Table of Contents",
   "title_sidebar": "Contents",
   "toc_cell": false,
   "toc_position": {},
   "toc_section_display": true,
   "toc_window_display": false
  }
 },
 "nbformat": 4,
 "nbformat_minor": 2
}
