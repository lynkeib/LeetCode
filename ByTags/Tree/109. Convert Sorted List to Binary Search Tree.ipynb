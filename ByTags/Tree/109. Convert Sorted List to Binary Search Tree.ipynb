{
 "cells": [
  {
   "cell_type": "code",
   "execution_count": 1,
   "metadata": {
    "ExecuteTime": {
     "end_time": "2019-11-05T07:06:34.348558Z",
     "start_time": "2019-11-05T07:06:34.341456Z"
    }
   },
   "outputs": [],
   "source": [
    "# Definition for singly-linked list.\n",
    "# class ListNode(object):\n",
    "#     def __init__(self, x):\n",
    "#         self.val = x\n",
    "#         self.next = None\n",
    "\n",
    "# Definition for a binary tree node.\n",
    "# class TreeNode(object):\n",
    "#     def __init__(self, x):\n",
    "#         self.val = x\n",
    "#         self.left = None\n",
    "#         self.right = None\n",
    "\n",
    "class Solution(object):\n",
    "    def sortedListToBST(self, head):\n",
    "        \"\"\"\n",
    "        :type head: ListNode\n",
    "        :rtype: TreeNode\n",
    "        \"\"\"\n",
    "        if not head:\n",
    "            return None\n",
    "        prev, mid = self.mid(head)\n",
    "        if not prev:\n",
    "            next_node = mid.next\n",
    "            mid.next = None\n",
    "            root = TreeNode(mid.val)\n",
    "            if next_node:\n",
    "                root.right = TreeNode(next_node.val)\n",
    "            return root\n",
    "        else:\n",
    "            prev.next = None\n",
    "            next_node = mid.next\n",
    "            mid.next = None\n",
    "            root = TreeNode(mid.val)\n",
    "            root.left = self.sortedListToBST(head)\n",
    "            root.right = self.sortedListToBST(next_node)\n",
    "            return root\n",
    "    \n",
    "    def mid(self, head):\n",
    "        prev = None\n",
    "        slow, fast = head, head\n",
    "        while fast.next and fast.next.next:\n",
    "            prev = slow\n",
    "            slow = slow.next\n",
    "            fast = fast.next.next\n",
    "        return prev, slow"
   ]
  },
  {
   "cell_type": "code",
   "execution_count": null,
   "metadata": {},
   "outputs": [],
   "source": []
  }
 ],
 "metadata": {
  "kernelspec": {
   "display_name": "Python 3",
   "language": "python",
   "name": "python3"
  },
  "language_info": {
   "codemirror_mode": {
    "name": "ipython",
    "version": 3
   },
   "file_extension": ".py",
   "mimetype": "text/x-python",
   "name": "python",
   "nbconvert_exporter": "python",
   "pygments_lexer": "ipython3",
   "version": "3.7.1"
  },
  "toc": {
   "base_numbering": 1,
   "nav_menu": {},
   "number_sections": true,
   "sideBar": true,
   "skip_h1_title": false,
   "title_cell": "Table of Contents",
   "title_sidebar": "Contents",
   "toc_cell": false,
   "toc_position": {},
   "toc_section_display": true,
   "toc_window_display": false
  }
 },
 "nbformat": 4,
 "nbformat_minor": 2
}
