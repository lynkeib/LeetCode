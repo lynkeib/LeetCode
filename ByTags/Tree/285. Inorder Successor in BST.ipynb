{
 "cells": [
  {
   "cell_type": "markdown",
   "metadata": {},
   "source": [
    "# ?"
   ]
  },
  {
   "cell_type": "code",
   "execution_count": 1,
   "metadata": {
    "ExecuteTime": {
     "end_time": "2019-11-06T06:27:43.727523Z",
     "start_time": "2019-11-06T06:27:43.717281Z"
    }
   },
   "outputs": [],
   "source": [
    "# Definition for a binary tree node.\n",
    "# class TreeNode(object):\n",
    "#     def __init__(self, x):\n",
    "#         self.val = x\n",
    "#         self.left = None\n",
    "#         self.right = None\n",
    "\n",
    "class Solution(object):\n",
    "    def inorderSuccessor(self, root, p):\n",
    "        \"\"\"\n",
    "        :type root: TreeNode\n",
    "        :type p: TreeNode\n",
    "        :rtype: TreeNode\n",
    "        \"\"\"\n",
    "        this = TreeNode(float('inf'))\n",
    "        if p.right:\n",
    "            curr = p.right\n",
    "            while curr.left:\n",
    "                curr = curr.left\n",
    "            this = curr\n",
    "        res = self.dfs(root, p, None)\n",
    "        if not res:\n",
    "            if this.val == float('inf'):\n",
    "                return None\n",
    "            return this\n",
    "        if res.val < this.val:\n",
    "            return res\n",
    "        else:\n",
    "            return this\n",
    "    \n",
    "    def dfs(self, root, p, res):\n",
    "        if not root:\n",
    "            return None\n",
    "        if root.val == p.val:\n",
    "            if res:\n",
    "                return res\n",
    "            else:\n",
    "                return root.right\n",
    "        if root.val > p.val:\n",
    "            this = self.dfs(root.left, p, root)\n",
    "        else:\n",
    "            this = self.dfs(root.right, p, res)\n",
    "        return this"
   ]
  },
  {
   "cell_type": "markdown",
   "metadata": {},
   "source": [
    "# Slow"
   ]
  },
  {
   "cell_type": "code",
   "execution_count": 2,
   "metadata": {
    "ExecuteTime": {
     "end_time": "2019-11-06T06:32:41.974521Z",
     "start_time": "2019-11-06T06:32:41.968176Z"
    }
   },
   "outputs": [],
   "source": [
    "# Definition for a binary tree node.\n",
    "# class TreeNode(object):\n",
    "#     def __init__(self, x):\n",
    "#         self.val = x\n",
    "#         self.left = None\n",
    "#         self.right = None\n",
    "\n",
    "class Solution(object):\n",
    "    def inorderSuccessor(self, root, p):\n",
    "        \"\"\"\n",
    "        :type root: TreeNode\n",
    "        :type p: TreeNode\n",
    "        :rtype: TreeNode\n",
    "        \"\"\"\n",
    "        stack = []\n",
    "        curr = root\n",
    "        res = []\n",
    "        while stack or curr:\n",
    "            while curr:\n",
    "                stack.append(curr)\n",
    "                curr = curr.left\n",
    "            temp = stack.pop()\n",
    "            res.append(temp)\n",
    "            curr = temp.right\n",
    "        for index in range(len(res)):\n",
    "            if res[index] == p:\n",
    "                if index != len(res) - 1:\n",
    "                    return res[index + 1]\n",
    "                return None\n",
    "        return None"
   ]
  },
  {
   "cell_type": "markdown",
   "metadata": {},
   "source": [
    "# Standard Solution"
   ]
  },
  {
   "cell_type": "code",
   "execution_count": 3,
   "metadata": {
    "ExecuteTime": {
     "end_time": "2019-11-06T06:38:56.943893Z",
     "start_time": "2019-11-06T06:38:56.937652Z"
    }
   },
   "outputs": [],
   "source": [
    "# Definition for a binary tree node.\n",
    "# class TreeNode(object):\n",
    "#     def __init__(self, x):\n",
    "#         self.val = x\n",
    "#         self.left = None\n",
    "#         self.right = None\n",
    "\n",
    "class Solution(object):\n",
    "    def inorderSuccessor(self, root, p):\n",
    "        \"\"\"\n",
    "        :type root: TreeNode\n",
    "        :type p: TreeNode\n",
    "        :rtype: TreeNode\n",
    "        \"\"\"\n",
    "        if p.right:\n",
    "            curr = p.right\n",
    "            while curr.left:\n",
    "                curr = curr.left\n",
    "            return curr\n",
    "        \n",
    "        stack = []\n",
    "        curr = root\n",
    "        \n",
    "        last_pop = None\n",
    "        \n",
    "        while stack or curr:\n",
    "            while curr:\n",
    "                stack.append(curr)\n",
    "                curr = curr.left\n",
    "            temp = stack.pop()\n",
    "            if last_pop == p:\n",
    "                return temp\n",
    "            last_pop = temp\n",
    "            curr = temp.right\n",
    "        return None"
   ]
  },
  {
   "cell_type": "code",
   "execution_count": null,
   "metadata": {},
   "outputs": [],
   "source": []
  }
 ],
 "metadata": {
  "kernelspec": {
   "display_name": "Python 3",
   "language": "python",
   "name": "python3"
  },
  "language_info": {
   "codemirror_mode": {
    "name": "ipython",
    "version": 3
   },
   "file_extension": ".py",
   "mimetype": "text/x-python",
   "name": "python",
   "nbconvert_exporter": "python",
   "pygments_lexer": "ipython3",
   "version": "3.7.1"
  },
  "toc": {
   "base_numbering": 1,
   "nav_menu": {},
   "number_sections": true,
   "sideBar": true,
   "skip_h1_title": false,
   "title_cell": "Table of Contents",
   "title_sidebar": "Contents",
   "toc_cell": false,
   "toc_position": {},
   "toc_section_display": true,
   "toc_window_display": false
  }
 },
 "nbformat": 4,
 "nbformat_minor": 2
}
