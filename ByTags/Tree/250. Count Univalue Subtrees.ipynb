{
 "cells": [
  {
   "cell_type": "code",
   "execution_count": 1,
   "metadata": {
    "ExecuteTime": {
     "end_time": "2019-11-04T07:57:57.559212Z",
     "start_time": "2019-11-04T07:57:57.551824Z"
    }
   },
   "outputs": [],
   "source": [
    "# Definition for a binary tree node.\n",
    "# class TreeNode(object):\n",
    "#     def __init__(self, x):\n",
    "#         self.val = x\n",
    "#         self.left = None\n",
    "#         self.right = None\n",
    "\n",
    "class Solution(object):\n",
    "    def countUnivalSubtrees(self, root):\n",
    "        \"\"\"\n",
    "        :type root: TreeNode\n",
    "        :rtype: int\n",
    "        \"\"\"\n",
    "        res = [0]\n",
    "        self.dfs(root, res)\n",
    "        return res[0]\n",
    "        \n",
    "    def dfs(self, root, res):\n",
    "        if not root:\n",
    "            return float('inf')\n",
    "        \n",
    "        left = self.dfs(root.left, res)\n",
    "        right = self.dfs(root.right, res)\n",
    "        \n",
    "        if (left == float('inf') or left == root.val) and (right == float('inf') or right == root.val):\n",
    "            # print(root.val)\n",
    "            res[0] += 1\n",
    "            return root.val\n",
    "        else:\n",
    "            return -float('inf')"
   ]
  },
  {
   "cell_type": "code",
   "execution_count": 2,
   "metadata": {
    "ExecuteTime": {
     "end_time": "2019-11-04T08:03:29.989590Z",
     "start_time": "2019-11-04T08:03:29.982626Z"
    }
   },
   "outputs": [],
   "source": [
    "# Definition for a binary tree node.\n",
    "# class TreeNode(object):\n",
    "#     def __init__(self, x):\n",
    "#         self.val = x\n",
    "#         self.left = None\n",
    "#         self.right = None\n",
    "\n",
    "class Solution(object):\n",
    "    def countUnivalSubtrees(self, root):\n",
    "        \"\"\"\n",
    "        :type root: TreeNode\n",
    "        :rtype: int\n",
    "        \"\"\"\n",
    "        res = [0]\n",
    "        self.dfs(root, res)\n",
    "        return res[0]\n",
    "        \n",
    "    def dfs(self, root, res):\n",
    "        if not root:\n",
    "            return True\n",
    "        left = self.dfs(root.left, res)\n",
    "        right = self.dfs(root.right, res)\n",
    "        if left and right:\n",
    "            if root.left and root.left.val != root.val:\n",
    "                return False\n",
    "            if root.right and root.right.val != root.val:\n",
    "                return False\n",
    "            res[0] += 1\n",
    "            return True\n",
    "        return False"
   ]
  },
  {
   "cell_type": "code",
   "execution_count": null,
   "metadata": {},
   "outputs": [],
   "source": []
  }
 ],
 "metadata": {
  "kernelspec": {
   "display_name": "Python 3",
   "language": "python",
   "name": "python3"
  },
  "language_info": {
   "codemirror_mode": {
    "name": "ipython",
    "version": 3
   },
   "file_extension": ".py",
   "mimetype": "text/x-python",
   "name": "python",
   "nbconvert_exporter": "python",
   "pygments_lexer": "ipython3",
   "version": "3.7.1"
  },
  "toc": {
   "base_numbering": 1,
   "nav_menu": {},
   "number_sections": true,
   "sideBar": true,
   "skip_h1_title": false,
   "title_cell": "Table of Contents",
   "title_sidebar": "Contents",
   "toc_cell": false,
   "toc_position": {},
   "toc_section_display": true,
   "toc_window_display": false
  }
 },
 "nbformat": 4,
 "nbformat_minor": 2
}
