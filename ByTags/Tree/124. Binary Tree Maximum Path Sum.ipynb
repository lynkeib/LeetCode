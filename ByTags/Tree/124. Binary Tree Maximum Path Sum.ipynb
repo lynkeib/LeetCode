{
 "cells": [
  {
   "cell_type": "code",
   "execution_count": 1,
   "metadata": {
    "ExecuteTime": {
     "end_time": "2019-11-04T07:24:38.906625Z",
     "start_time": "2019-11-04T07:24:38.898326Z"
    }
   },
   "outputs": [],
   "source": [
    "# Definition for a binary tree node.\n",
    "# class TreeNode(object):\n",
    "#     def __init__(self, x):\n",
    "#         self.val = x\n",
    "#         self.left = None\n",
    "#         self.right = None\n",
    "\n",
    "class Solution(object):\n",
    "    def maxPathSum(self, root):\n",
    "        \"\"\"\n",
    "        :type root: TreeNode\n",
    "        :rtype: int\n",
    "        \"\"\"\n",
    "        return max(self.dfs(root))\n",
    "    \n",
    "    def dfs(self, root):\n",
    "        if not root.left and not root.right:\n",
    "            return root.val, root.val\n",
    "        if root.left:\n",
    "            left, no_root_left = self.dfs(root.left)\n",
    "        else:\n",
    "            left, no_root_left = -float('inf'), -float('inf')\n",
    "        if root.right:\n",
    "            right, no_root_right = self.dfs(root.right)\n",
    "        else:\n",
    "            right, no_root_right = -float('inf'), -float('inf')\n",
    "        max_can_pass = max(left, right) + root.val\n",
    "        max_can_not_pass = max(no_root_left, no_root_right, left + root.val + right, left + root.val, right + root.val)\n",
    "        return max(max_can_pass, root.val), max(max_can_not_pass, root.val)"
   ]
  },
  {
   "cell_type": "code",
   "execution_count": 2,
   "metadata": {
    "ExecuteTime": {
     "end_time": "2019-11-04T07:40:45.653230Z",
     "start_time": "2019-11-04T07:40:45.646694Z"
    }
   },
   "outputs": [],
   "source": [
    "# Definition for a binary tree node.\n",
    "# class TreeNode(object):\n",
    "#     def __init__(self, x):\n",
    "#         self.val = x\n",
    "#         self.left = None\n",
    "#         self.right = None\n",
    "\n",
    "class Solution(object):\n",
    "    def maxPathSum(self, root):\n",
    "        \"\"\"\n",
    "        :type root: TreeNode\n",
    "        :rtype: int\n",
    "        \"\"\"\n",
    "        res = [-float('inf')]\n",
    "        self.dfs(root, res)\n",
    "        return res[0]\n",
    "    \n",
    "    def dfs(self, root, res):\n",
    "        if not root:\n",
    "            return 0\n",
    "        left_sum = max(self.dfs(root.left, res), 0)\n",
    "        right_sum = max(self.dfs(root.right, res), 0)\n",
    "        \n",
    "        root_is_highest = root.val + left_sum + right_sum\n",
    "        \n",
    "        continue_path = max(left_sum, right_sum) + root.val\n",
    "        \n",
    "        res[0] = max(res[0], root_is_highest, continue_path)\n",
    "        \n",
    "        return continue_path"
   ]
  },
  {
   "cell_type": "code",
   "execution_count": null,
   "metadata": {},
   "outputs": [],
   "source": []
  }
 ],
 "metadata": {
  "kernelspec": {
   "display_name": "Python 3",
   "language": "python",
   "name": "python3"
  },
  "language_info": {
   "codemirror_mode": {
    "name": "ipython",
    "version": 3
   },
   "file_extension": ".py",
   "mimetype": "text/x-python",
   "name": "python",
   "nbconvert_exporter": "python",
   "pygments_lexer": "ipython3",
   "version": "3.7.1"
  },
  "toc": {
   "base_numbering": 1,
   "nav_menu": {},
   "number_sections": true,
   "sideBar": true,
   "skip_h1_title": false,
   "title_cell": "Table of Contents",
   "title_sidebar": "Contents",
   "toc_cell": false,
   "toc_position": {},
   "toc_section_display": true,
   "toc_window_display": false
  }
 },
 "nbformat": 4,
 "nbformat_minor": 2
}
