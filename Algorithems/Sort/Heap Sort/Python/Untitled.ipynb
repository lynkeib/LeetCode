{
 "cells": [
  {
   "cell_type": "code",
   "execution_count": 1,
   "metadata": {
    "ExecuteTime": {
     "end_time": "2019-04-15T05:22:23.582691Z",
     "start_time": "2019-04-15T05:22:23.576654Z"
    }
   },
   "outputs": [],
   "source": [
    "def heapify(lst, index):\n",
    "    left = index * 2 + 1\n",
    "    right = index * 2 + 2\n",
    "    largest_index = index\n",
    "    if (left < len(lst)) and (lst[left] > lst[largest_index]):\n",
    "        largest_index = left\n",
    "    if (right < len(lst)) and (lst[right] > lst[largest_index]):\n",
    "        largest_index = right\n",
    "    if largest_index != index:\n",
    "        lst[index], lst[largest_index] = lst[largest_index], lst[index]\n",
    "        heapify(lst, largest_index)"
   ]
  },
  {
   "cell_type": "code",
   "execution_count": 3,
   "metadata": {
    "ExecuteTime": {
     "end_time": "2019-04-15T05:22:45.026943Z",
     "start_time": "2019-04-15T05:22:45.023365Z"
    }
   },
   "outputs": [],
   "source": [
    "A = [5,3,7,5,8,9,3,2,1]\n",
    "heapify(A, 0)"
   ]
  },
  {
   "cell_type": "code",
   "execution_count": 4,
   "metadata": {
    "ExecuteTime": {
     "end_time": "2019-04-15T05:22:46.546113Z",
     "start_time": "2019-04-15T05:22:46.536489Z"
    }
   },
   "outputs": [
    {
     "data": {
      "text/plain": [
       "[7, 3, 9, 5, 8, 5, 3, 2, 1]"
      ]
     },
     "execution_count": 4,
     "metadata": {},
     "output_type": "execute_result"
    }
   ],
   "source": [
    "A"
   ]
  },
  {
   "cell_type": "code",
   "execution_count": null,
   "metadata": {},
   "outputs": [],
   "source": [
    "for i in range(len(A))"
   ]
  }
 ],
 "metadata": {
  "kernelspec": {
   "display_name": "Python 3",
   "language": "python",
   "name": "python3"
  },
  "language_info": {
   "codemirror_mode": {
    "name": "ipython",
    "version": 3
   },
   "file_extension": ".py",
   "mimetype": "text/x-python",
   "name": "python",
   "nbconvert_exporter": "python",
   "pygments_lexer": "ipython3",
   "version": "3.7.1"
  },
  "toc": {
   "base_numbering": 1,
   "nav_menu": {},
   "number_sections": true,
   "sideBar": true,
   "skip_h1_title": false,
   "title_cell": "Table of Contents",
   "title_sidebar": "Contents",
   "toc_cell": false,
   "toc_position": {},
   "toc_section_display": true,
   "toc_window_display": false
  }
 },
 "nbformat": 4,
 "nbformat_minor": 2
}
