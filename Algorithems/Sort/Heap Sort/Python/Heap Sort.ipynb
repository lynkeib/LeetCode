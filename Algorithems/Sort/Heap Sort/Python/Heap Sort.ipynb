{
 "cells": [
  {
   "cell_type": "code",
   "execution_count": 1,
   "metadata": {},
   "outputs": [],
   "source": [
    "class Node(object):\n",
    "    def __init__(self, index, value):\n",
    "        self._left_child = None\n",
    "        self._right_child = None\n",
    "        self._parent = None\n",
    "        self._index = index\n",
    "        self._value = value\n",
    "    \n",
    "    def getleft(self):\n",
    "        return self._left_child\n",
    "    \n",
    "    def getright(self):\n",
    "        return self._right_child\n",
    "    \n",
    "    def getparent(self):\n",
    "        return self._parent\n",
    "    \n",
    "    def assignleft(self, node):\n",
    "        self._left_child = node\n",
    "        node.assignparent(self)\n",
    "    \n",
    "    def assignright(self, node):\n",
    "        self._right_child = node\n",
    "        node.assignparent(self)\n",
    "        \n",
    "    def assignparent(self, node):\n",
    "        self._parent = node\n",
    "        \n",
    "    def getindex(self):\n",
    "        return self._index\n",
    "    \n",
    "    def getvalue(self):\n",
    "        return self._value"
   ]
  },
  {
   "cell_type": "code",
   "execution_count": 2,
   "metadata": {},
   "outputs": [],
   "source": [
    "class Heap(object):\n",
    "    def __init__(self, A):\n",
    "        self._heaptree = A\n",
    "        for i in range(len(self._heaptree) - 1, 0, -1):\n",
    "            if i % 2 != 0:\n",
    "                self._heaptree[int((i - 1) / 2)].assignleft(self._heaptree[i])\n",
    "                print(self._heaptree[i].getvalue(), 'assings to', self._heaptree[int((i - 1) / 2)].getvalue(), 'as left')\n",
    "            else:\n",
    "                self._heaptree[int((i - 2) / 2)].assignright(self._heaptree[i])\n",
    "                print(self._heaptree[i].getvalue(), 'assings to', self._heaptree[int((i - 2) / 2)].getvalue())\n",
    "        self._heapsize = len(self._heaptree)\n",
    "        \n",
    "    def _swap(self, a, b):\n",
    "        temp = self._heaptree[a]\n",
    "        self._heaptree[a] = self._heaptree[b]\n",
    "        self._heaptree[b] = temp\n",
    "    \n",
    "    def _maxheapify(self, i):\n",
    "        print('max_heapifying', i)\n",
    "        try:\n",
    "            l = self._heaptree[i].getleft().getindex()\n",
    "            r = self._heaptree[i].getright().getindex()\n",
    "        except:\n",
    "            l = self._heaptree[i].getleft().getindex()\n",
    "            r = l\n",
    "        if l < self._heapsize and self._heaptree[l].getvalue() > self._heaptree[i].getvalue():\n",
    "            largest = l\n",
    "        else:\n",
    "            largest = i\n",
    "        if r < self._heapsize and self._heaptree[r].getvalue() > self._heaptree[largest].getvalue():\n",
    "            largest = r\n",
    "        print('largest is', largest)\n",
    "        if largest != i:\n",
    "            self._swap(i, largest)\n",
    "            print('swaping', i, largest)\n",
    "            self._maxheapify(i)\n",
    "    \n",
    "    def buildmaxheap(self):\n",
    "        for index in range(round((self._heapsize - 2) / 2), -1, -1):\n",
    "            self._maxheapify(index)\n",
    "    \n",
    "    def getheaptree(self):\n",
    "        return self._heaptree\n",
    "    \n",
    "    "
   ]
  },
  {
   "cell_type": "code",
   "execution_count": 3,
   "metadata": {},
   "outputs": [],
   "source": [
    "A = [8,14,10,16,7,9,3,2,4,1]"
   ]
  },
  {
   "cell_type": "code",
   "execution_count": 4,
   "metadata": {},
   "outputs": [
    {
     "name": "stdout",
     "output_type": "stream",
     "text": [
      "1 assings to 7 as left\n",
      "4 assings to 16\n",
      "2 assings to 16 as left\n",
      "3 assings to 10\n",
      "9 assings to 10 as left\n",
      "7 assings to 14\n",
      "16 assings to 14 as left\n",
      "10 assings to 8\n",
      "14 assings to 8 as left\n"
     ]
    }
   ],
   "source": [
    "heaptree = Heap([Node(index, A[index]) for index in range(len(A))])"
   ]
  },
  {
   "cell_type": "code",
   "execution_count": 5,
   "metadata": {},
   "outputs": [
    {
     "name": "stdout",
     "output_type": "stream",
     "text": [
      "max_heapifying 4\n",
      "largest is 4\n",
      "max_heapifying 3\n",
      "largest is 3\n",
      "max_heapifying 2\n",
      "largest is 2\n",
      "max_heapifying 1\n",
      "largest is 3\n",
      "swaping 1 3\n",
      "max_heapifying 1\n",
      "largest is 1\n",
      "max_heapifying 0\n",
      "largest is 1\n",
      "swaping 0 1\n",
      "max_heapifying 0\n",
      "largest is 0\n"
     ]
    }
   ],
   "source": [
    "heaptree.buildmaxheap()"
   ]
  },
  {
   "cell_type": "code",
   "execution_count": null,
   "metadata": {},
   "outputs": [],
   "source": []
  }
 ],
 "metadata": {
  "kernelspec": {
   "display_name": "Python 3",
   "language": "python",
   "name": "python3"
  },
  "language_info": {
   "codemirror_mode": {
    "name": "ipython",
    "version": 3
   },
   "file_extension": ".py",
   "mimetype": "text/x-python",
   "name": "python",
   "nbconvert_exporter": "python",
   "pygments_lexer": "ipython3",
   "version": "3.6.5"
  }
 },
 "nbformat": 4,
 "nbformat_minor": 2
}
