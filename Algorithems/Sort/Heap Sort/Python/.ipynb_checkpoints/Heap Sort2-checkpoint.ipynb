{
 "cells": [
  {
   "cell_type": "code",
   "execution_count": 2,
   "metadata": {},
   "outputs": [],
   "source": [
    "class Heap(object):\n",
    "    def __init__(self, heaplist):\n",
    "        self._heaplist = heaplist.copy()\n",
    "        self._heapsize = len(heaplist)\n",
    "        \n",
    "    def getheaplist(self):\n",
    "        return self._heaplist\n",
    "    \n",
    "    def _swap(self, node_i, node_j):\n",
    "        self._heaplist[node_i], self._heaplist[node_j] = self._heaplist[node_j], self._heaplist[node_i]\n",
    "    \n",
    "    def _heapify(self, node_i):\n",
    "        left = 2 * node_i + 1\n",
    "        right = 2 * node_i + 2\n",
    "        largest_index = node_i\n",
    "        if (left < self._heapsize) and (self._heaplist[left] > self._heaplist[node_i]):\n",
    "            largest_index = left\n",
    "        if (right < self._heapsize) and (self._heaplist[right] > self._heaplist[largest_index]):\n",
    "            largest_index = right\n",
    "        if largest_index != node_i:\n",
    "            self._swap(node_i, largest_index)\n",
    "            self._heapify(largest_index)\n",
    "    \n",
    "    def buildheaptree(self):\n",
    "        for index in range(int((self._heapsize + 1) / 2), -1, -1):\n",
    "            self._heapify(index)\n",
    "            \n",
    "    def heapsort(self):\n",
    "        sortedlist = []\n",
    "        temptree = Heap(self._heaplist)\n",
    "        temptree.buildheaptree()\n",
    "        temptree = temptree.getheaplist()\n",
    "        for index in range(self._heapsize - 2):\n",
    "            sortedlist.append(temptree.pop(0))\n",
    "            temptree = Heap(temptree)\n",
    "            temptree.buildheaptree()\n",
    "            temptree._heapify(0)\n",
    "            temptree = temptree.getheaplist()\n",
    "        sortedlist += temptree\n",
    "        return sortedlist"
   ]
  },
  {
   "cell_type": "code",
   "execution_count": 7,
   "metadata": {},
   "outputs": [],
   "source": [
    "A = [-1,8,14,4,16,7,9,3,2,10,1]"
   ]
  },
  {
   "cell_type": "code",
   "execution_count": 8,
   "metadata": {},
   "outputs": [],
   "source": [
    "heap = Heap(A)"
   ]
  },
  {
   "cell_type": "code",
   "execution_count": 9,
   "metadata": {},
   "outputs": [],
   "source": [
    "heap.buildheaptree()"
   ]
  },
  {
   "cell_type": "code",
   "execution_count": 10,
   "metadata": {},
   "outputs": [
    {
     "data": {
      "text/plain": [
       "[16, 14, 10, 9, 8, 7, 4, 3, 2, 1, -1]"
      ]
     },
     "execution_count": 10,
     "metadata": {},
     "output_type": "execute_result"
    }
   ],
   "source": [
    "heap.heapsort()"
   ]
  },
  {
   "cell_type": "markdown",
   "metadata": {},
   "source": [
    "# Time Complexity Analysis"
   ]
  },
  {
   "cell_type": "code",
   "execution_count": 110,
   "metadata": {},
   "outputs": [],
   "source": [
    "import random\n",
    "import time\n",
    "import matplotlib.pyplot as plt\n",
    "random_list = []\n",
    "for i in range(1000):\n",
    "    random_list.append(random.sample(range(1000), i))"
   ]
  },
  {
   "cell_type": "code",
   "execution_count": 111,
   "metadata": {},
   "outputs": [],
   "source": [
    "time_list = []\n",
    "for i in range(1000):\n",
    "    time1 = time.time()\n",
    "    heap = Heap(random_list[i])\n",
    "    heap.heapsort()\n",
    "    time2 = time.time()\n",
    "    time_list.append(time2 - time1)"
   ]
  },
  {
   "cell_type": "code",
   "execution_count": 120,
   "metadata": {
    "scrolled": true
   },
   "outputs": [
    {
     "data": {
      "image/png": "[encoded data removed]",
      "text/plain": [
       "<Figure size 432x288 with 1 Axes>"
      ]
     },
     "metadata": {
      "needs_background": "dark"
     },
     "output_type": "display_data"
    }
   ],
   "source": [
    "fig = plt.figure()\n",
    "ax = fig.add_subplot(1,1,1)\n",
    "ax.plot(range(1000), time_list)\n",
    "ax.tick_params(axis='x')\n",
    "ax.tick_params(axis='y');"
   ]
  },
  {
   "cell_type": "markdown",
   "metadata": {},
   "source": [
    "Time complexity: $O(n*log(n))$"
   ]
  },
  {
   "cell_type": "code",
   "execution_count": null,
   "metadata": {},
   "outputs": [],
   "source": []
  }
 ],
 "metadata": {
  "kernelspec": {
   "display_name": "Python 3",
   "language": "python",
   "name": "python3"
  },
  "language_info": {
   "codemirror_mode": {
    "name": "ipython",
    "version": 3
   },
   "file_extension": ".py",
   "mimetype": "text/x-python",
   "name": "python",
   "nbconvert_exporter": "python",
   "pygments_lexer": "ipython3",
   "version": "3.7.1"
  },
  "toc": {
   "base_numbering": 1,
   "nav_menu": {},
   "number_sections": true,
   "sideBar": true,
   "skip_h1_title": false,
   "title_cell": "Table of Contents",
   "title_sidebar": "Contents",
   "toc_cell": false,
   "toc_position": {},
   "toc_section_display": true,
   "toc_window_display": false
  }
 },
 "nbformat": 4,
 "nbformat_minor": 2
}
