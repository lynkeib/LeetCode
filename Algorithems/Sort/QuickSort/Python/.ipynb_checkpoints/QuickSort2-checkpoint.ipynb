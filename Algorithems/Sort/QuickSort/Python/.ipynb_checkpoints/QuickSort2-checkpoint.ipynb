{
 "cells": [
  {
   "cell_type": "code",
   "execution_count": 1,
   "metadata": {},
   "outputs": [],
   "source": [
    "def quick_sort(array, l, r):\n",
    "    if l < r:\n",
    "        q = partition(array, l, r)\n",
    "        quick_sort(array, l, q - 1)\n",
    "        quick_sort(array, q + 1, r)\n",
    " \n",
    "def partition(array, l, r):\n",
    "    x = array[r]\n",
    "    i = l - 1\n",
    "    for j in range(l, r):\n",
    "        if array[j] <= x:\n",
    "            i += 1\n",
    "            array[i], array[j] = array[j], array[i]\n",
    "    array[i + 1], array[r] = array[r], array[i+1]"
   ]
  },
  {
   "cell_type": "code",
   "execution_count": null,
   "metadata": {},
   "outputs": [],
   "source": []
  }
 ],
 "metadata": {
  "kernelspec": {
   "display_name": "Python 3",
   "language": "python",
   "name": "python3"
  },
  "language_info": {
   "codemirror_mode": {
    "name": "ipython",
    "version": 3
   },
   "file_extension": ".py",
   "mimetype": "text/x-python",
   "name": "python",
   "nbconvert_exporter": "python",
   "pygments_lexer": "ipython3",
   "version": "3.7.2"
  }
 },
 "nbformat": 4,
 "nbformat_minor": 2
}
