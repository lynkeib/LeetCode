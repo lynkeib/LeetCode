{
 "cells": [
  {
   "cell_type": "code",
   "execution_count": 21,
   "metadata": {},
   "outputs": [],
   "source": [
    "def quicksort(arr):\n",
    "    if len([arr]) <= 1:\n",
    "        return arr\n",
    "    else:\n",
    "        pivot_value = arr[-1]\n",
    "        sorted_index =0\n",
    "        if arr[sorted_index] > pivot_value:\n",
    "            for i in range(sorted_index, len(arr) - 1):\n",
    "                if arr[i] < pivot_value:\n",
    "                    temp = arr[i]\n",
    "                    arr[i] = arr[sorted_index]\n",
    "                    arr[sorted_index] = temp\n",
    "                    break\n",
    "        sorted_index += 1\n",
    "        arr[-1] = arr[sorted_index]\n",
    "        arr[sorted_index] = pivot_value\n",
    "        return [quicksort(arr[:sorted_index-1]), arr[sorted_index], quicksort(arr[sorted_index])]"
   ]
  },
  {
   "cell_type": "code",
   "execution_count": 22,
   "metadata": {},
   "outputs": [],
   "source": [
    "A = [5,6,3,7,8]"
   ]
  },
  {
   "cell_type": "code",
   "execution_count": 23,
   "metadata": {},
   "outputs": [
    {
     "data": {
      "text/plain": [
       "[5, 6, 3, 7, 8]"
      ]
     },
     "execution_count": 23,
     "metadata": {},
     "output_type": "execute_result"
    }
   ],
   "source": [
    "quicksort(A)"
   ]
  },
  {
   "cell_type": "code",
   "execution_count": null,
   "metadata": {},
   "outputs": [],
   "source": []
  }
 ],
 "metadata": {
  "kernelspec": {
   "display_name": "Python 3",
   "language": "python",
   "name": "python3"
  },
  "language_info": {
   "codemirror_mode": {
    "name": "ipython",
    "version": 3
   },
   "file_extension": ".py",
   "mimetype": "text/x-python",
   "name": "python",
   "nbconvert_exporter": "python",
   "pygments_lexer": "ipython3",
   "version": "3.7.2"
  }
 },
 "nbformat": 4,
 "nbformat_minor": 2
}
