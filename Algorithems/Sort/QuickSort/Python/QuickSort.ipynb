{
 "cells": [
  {
   "cell_type": "code",
   "execution_count": 24,
   "metadata": {},
   "outputs": [],
   "source": [
    "def quicksort(arr):\n",
    "    if len([arr]) <= 1:\n",
    "        return arr\n",
    "    else:\n",
    "        pivot_value = arr[-1]\n",
    "        sorted_index =0\n",
    "        if arr[sorted_index] > pivot_value:\n",
    "            for i in range(sorted_index, len(arr) - 1):\n",
    "                if arr[i] < pivot_value:\n",
    "                    temp = arr[i]\n",
    "                    arr[i] = arr[sorted_index]\n",
    "                    arr[sorted_index] = temp\n",
    "                    break\n",
    "        sorted_index += 1\n",
    "        arr[-1] = arr[sorted_index]\n",
    "        arr[sorted_index] = pivot_value\n",
    "        return [quicksort(arr[:sorted_index-1]), arr[sorted_index], quicksort(arr[sorted_index:])]"
   ]
  },
  {
   "cell_type": "code",
   "execution_count": 55,
   "metadata": {},
   "outputs": [],
   "source": [
    "A = [5,6,3,7,8]"
   ]
  },
  {
   "cell_type": "code",
   "execution_count": 56,
   "metadata": {},
   "outputs": [
    {
     "name": "stdout",
     "output_type": "stream",
     "text": [
      "Sorting Array is  [5, 6, 3, 7, 8]\n",
      "Swapping  8 5\n",
      "Left array is []\n",
      "Right array is  [6, 3, 7, 5]\n",
      "\n",
      "Sorting Array is  [6, 3, 7, 5]\n",
      "swapping  3   3\n",
      "Swapping  5 6\n",
      "Left array is [3]\n",
      "Right array is  [7, 6]\n",
      "\n",
      "Sorting Array is  [7, 6]\n",
      "Swapping  6 7\n",
      "Left array is []\n",
      "Right array is  [7]\n",
      "\n"
     ]
    },
    {
     "data": {
      "text/plain": [
       "[8, 3, 5, 6, 7]"
      ]
     },
     "execution_count": 56,
     "metadata": {},
     "output_type": "execute_result"
    }
   ],
   "source": [
    "quicksort(A)"
   ]
  },
  {
   "cell_type": "code",
   "execution_count": 50,
   "metadata": {},
   "outputs": [],
   "source": [
    "def quicksort(arr):\n",
    "    if len(arr) <= 1:\n",
    "        return arr\n",
    "    else:\n",
    "        pivot_index = len(arr) - 1\n",
    "        print('Sorting Array is ', arr)\n",
    "        for search_index in range(pivot_index):\n",
    "            if arr[search_index] > arr[pivot_index]:\n",
    "                swapping = False\n",
    "                for i in range(search_index, pivot_index):\n",
    "                    if arr[i] <= arr[pivot_index]:\n",
    "                        temp = arr[i]\n",
    "                        arr[i] = arr[search_index]\n",
    "                        arr[search_index] = temp\n",
    "                        print(\"swapping \",temp, ' ', arr[search_index])\n",
    "                        swapping = True\n",
    "                        break\n",
    "#             else:\n",
    "#                 continue\n",
    "            if not(swapping):\n",
    "                break\n",
    "        print(\"Swapping \",arr[pivot_index], arr[search_index] )\n",
    "        temp = arr[pivot_index]\n",
    "        arr[pivot_index] = arr[search_index]\n",
    "        arr[search_index] = temp\n",
    "        left_arr = arr[:search_index]\n",
    "        right_arr = arr[search_index + 1:]\n",
    "        print(\"Left array is\",  left_arr)\n",
    "        print(\"Right array is \", right_arr)\n",
    "        print()\n",
    "        return (quicksort(left_arr) + [temp] + quicksort(right_arr))"
   ]
  },
  {
   "cell_type": "code",
   "execution_count": 53,
   "metadata": {},
   "outputs": [],
   "source": [
    "A = [4,5,3,7,9,2]"
   ]
  },
  {
   "cell_type": "code",
   "execution_count": 54,
   "metadata": {},
   "outputs": [
    {
     "name": "stdout",
     "output_type": "stream",
     "text": [
      "Sorting Array is  [4, 5, 3, 7, 9, 2]\n",
      "Swapping  2 4\n",
      "Left array is []\n",
      "Right array is  [5, 3, 7, 9, 4]\n",
      "\n",
      "Sorting Array is  [5, 3, 7, 9, 4]\n",
      "swapping  3   3\n",
      "Swapping  4 5\n",
      "Left array is [3]\n",
      "Right array is  [7, 9, 5]\n",
      "\n",
      "Sorting Array is  [7, 9, 5]\n",
      "Swapping  5 7\n",
      "Left array is []\n",
      "Right array is  [9, 7]\n",
      "\n",
      "Sorting Array is  [9, 7]\n",
      "Swapping  7 9\n",
      "Left array is []\n",
      "Right array is  [9]\n",
      "\n"
     ]
    },
    {
     "data": {
      "text/plain": [
       "[2, 3, 4, 5, 7, 9]"
      ]
     },
     "execution_count": 54,
     "metadata": {},
     "output_type": "execute_result"
    }
   ],
   "source": [
    "quicksort(A)"
   ]
  },
  {
   "cell_type": "code",
   "execution_count": 59,
   "metadata": {},
   "outputs": [],
   "source": [
    "def quicksort(arr):\n",
    "    if len(arr) <= 1:\n",
    "        return arr\n",
    "    else:\n",
    "        pivot_index = len(arr) - 1\n",
    "        print('Sorting Array is ', arr)\n",
    "        for search_index in range(pivot_index):\n",
    "            having_less_element = False\n",
    "            for i in range(search_index, pivot_index):\n",
    "                if arr[i] < arr[pivot_index]:\n",
    "                    having_less_element = True\n",
    "                    print(\"Swapping \",arr[search_index], arr[i] )\n",
    "                    temp = arr[search_index]\n",
    "                    arr[search_index] = arr[i]\n",
    "                    arr[i] = temp\n",
    "                    break\n",
    "            if not(having_less_element):\n",
    "                break  \n",
    "        print(\"Swapping \",arr[pivot_index], arr[search_index] )\n",
    "        temp = arr[pivot_index]\n",
    "        arr[pivot_index] = arr[search_index]\n",
    "        arr[search_index] = temp\n",
    "        left_arr = arr[:search_index]\n",
    "        right_arr = arr[search_index + 1:]\n",
    "        print(\"Left array is\",  left_arr)\n",
    "        print(\"Right array is \", right_arr)\n",
    "        print()\n",
    "        return (quicksort(left_arr) + [temp] + quicksort(right_arr))"
   ]
  },
  {
   "cell_type": "code",
   "execution_count": 60,
   "metadata": {},
   "outputs": [],
   "source": [
    "A = [4,5,3,7,9,2]"
   ]
  },
  {
   "cell_type": "code",
   "execution_count": 61,
   "metadata": {},
   "outputs": [
    {
     "name": "stdout",
     "output_type": "stream",
     "text": [
      "Sorting Array is  [4, 5, 3, 7, 9, 2]\n",
      "Swapping  2 4\n",
      "Left array is []\n",
      "Right array is  [5, 3, 7, 9, 4]\n",
      "\n",
      "Sorting Array is  [5, 3, 7, 9, 4]\n",
      "Swapping  5 3\n",
      "Swapping  4 5\n",
      "Left array is [3]\n",
      "Right array is  [7, 9, 5]\n",
      "\n",
      "Sorting Array is  [7, 9, 5]\n",
      "Swapping  5 7\n",
      "Left array is []\n",
      "Right array is  [9, 7]\n",
      "\n",
      "Sorting Array is  [9, 7]\n",
      "Swapping  7 9\n",
      "Left array is []\n",
      "Right array is  [9]\n",
      "\n"
     ]
    },
    {
     "data": {
      "text/plain": [
       "[2, 3, 4, 5, 7, 9]"
      ]
     },
     "execution_count": 61,
     "metadata": {},
     "output_type": "execute_result"
    }
   ],
   "source": [
    "quicksort(A)"
   ]
  },
  {
   "cell_type": "code",
   "execution_count": 62,
   "metadata": {},
   "outputs": [],
   "source": [
    "A = [5,8,10,8,4,2,1,6]"
   ]
  },
  {
   "cell_type": "code",
   "execution_count": 63,
   "metadata": {},
   "outputs": [
    {
     "name": "stdout",
     "output_type": "stream",
     "text": [
      "Sorting Array is  [5, 8, 10, 8, 4, 2, 1, 6]\n",
      "Swapping  5 5\n",
      "Swapping  8 4\n",
      "Swapping  10 2\n",
      "Swapping  8 1\n",
      "Swapping  6 8\n",
      "Left array is [5, 4, 2, 1]\n",
      "Right array is  [10, 8, 8]\n",
      "\n",
      "Sorting Array is  [5, 4, 2, 1]\n",
      "Swapping  1 5\n",
      "Left array is []\n",
      "Right array is  [4, 2, 5]\n",
      "\n",
      "Sorting Array is  [4, 2, 5]\n",
      "Swapping  4 4\n",
      "Swapping  2 2\n",
      "Swapping  5 2\n",
      "Left array is [4]\n",
      "Right array is  [2]\n",
      "\n",
      "Sorting Array is  [10, 8, 8]\n",
      "Swapping  8 10\n",
      "Left array is []\n",
      "Right array is  [8, 10]\n",
      "\n",
      "Sorting Array is  [8, 10]\n",
      "Swapping  8 8\n",
      "Swapping  10 8\n",
      "Left array is []\n",
      "Right array is  [8]\n",
      "\n"
     ]
    },
    {
     "data": {
      "text/plain": [
       "[1, 4, 5, 2, 6, 8, 10, 8]"
      ]
     },
     "execution_count": 63,
     "metadata": {},
     "output_type": "execute_result"
    }
   ],
   "source": [
    "quicksort(A)"
   ]
  }
 ],
 "metadata": {
  "kernelspec": {
   "display_name": "Python 3",
   "language": "python",
   "name": "python3"
  },
  "language_info": {
   "codemirror_mode": {
    "name": "ipython",
    "version": 3
   },
   "file_extension": ".py",
   "mimetype": "text/x-python",
   "name": "python",
   "nbconvert_exporter": "python",
   "pygments_lexer": "ipython3",
   "version": "3.7.2"
  }
 },
 "nbformat": 4,
 "nbformat_minor": 2
}
