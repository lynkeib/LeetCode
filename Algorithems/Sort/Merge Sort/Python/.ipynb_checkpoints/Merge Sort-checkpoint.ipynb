{
 "cells": [
  {
   "cell_type": "code",
   "execution_count": 1,
   "metadata": {},
   "outputs": [],
   "source": [
    "def mergesort(lst):\n",
    "    if len(lst) > 1:\n",
    "        middle = int(len(lst) / 2)\n",
    "        left = lst[:middle]\n",
    "        right = lst[middle:]\n",
    "        mergesort(left)\n",
    "        mergesort(right)\n",
    "        left_index = 0\n",
    "        right_index = 0\n",
    "        lst_index = 0\n",
    "        while (left_index < len(left)) and (right_index < len(right)):\n",
    "            if left[left_index] > right[right_index]:\n",
    "                lst[lst_index] = left[left_index]\n",
    "                left_index += 1\n",
    "                lst_index += 1\n",
    "            else:\n",
    "                lst[lst_index] = right[right_index]\n",
    "                right_index += 1\n",
    "                lst_index += 1\n",
    "        while left_index < len(left):\n",
    "            lst[lst_index] = left[left_index]\n",
    "            left_index += 1\n",
    "            lst_index += 1\n",
    "        while right_index < len(right):\n",
    "            lst[lst_index] = right[right_index]\n",
    "            right_index += 1\n",
    "            lst_index += 1"
   ]
  },
  {
   "cell_type": "code",
   "execution_count": 2,
   "metadata": {},
   "outputs": [],
   "source": [
    "A = [4,3,6,3,-9,-6,9,100]"
   ]
  },
  {
   "cell_type": "code",
   "execution_count": 3,
   "metadata": {},
   "outputs": [],
   "source": [
    "mergesort(A)"
   ]
  },
  {
   "cell_type": "code",
   "execution_count": 4,
   "metadata": {},
   "outputs": [
    {
     "data": {
      "text/plain": [
       "[100, 9, 6, 4, 3, 3, -6, -9]"
      ]
     },
     "execution_count": 4,
     "metadata": {},
     "output_type": "execute_result"
    }
   ],
   "source": [
    "A"
   ]
  },
  {
   "cell_type": "markdown",
   "metadata": {},
   "source": [
    "# Time Complexity Analysis"
   ]
  },
  {
   "cell_type": "code",
   "execution_count": 5,
   "metadata": {},
   "outputs": [],
   "source": [
    "import random\n",
    "import time\n",
    "import matplotlib.pyplot as plt\n",
    "random_list = []\n",
    "for i in range(1000):\n",
    "    random_list.append(random.sample(range(1000), i))"
   ]
  },
  {
   "cell_type": "code",
   "execution_count": 6,
   "metadata": {},
   "outputs": [],
   "source": [
    "time_list = []\n",
    "for i in range(1000):\n",
    "    time1 = time.time()\n",
    "    mergesort(random_list[i])\n",
    "    time2 = time.time()\n",
    "    time_list.append(time2 - time1)"
   ]
  },
  {
   "cell_type": "code",
   "execution_count": 7,
   "metadata": {
    "scrolled": true
   },
   "outputs": [
    {
     "data": {
      "image/png": "[encoded data removed]",
      "text/plain": [
       "<Figure size 432x288 with 1 Axes>"
      ]
     },
     "metadata": {
      "needs_background": "light"
     },
     "output_type": "display_data"
    }
   ],
   "source": [
    "fig = plt.figure()\n",
    "ax = fig.add_subplot(1,1,1)\n",
    "ax.plot(range(1000), time_list)\n",
    "ax.tick_params(axis='x')\n",
    "ax.tick_params(axis='y');"
   ]
  },
  {
   "cell_type": "markdown",
   "metadata": {},
   "source": [
    "Time Complexity: $\\Theta(nlogn)$"
   ]
  },
  {
   "cell_type": "code",
   "execution_count": null,
   "metadata": {},
   "outputs": [],
   "source": []
  }
 ],
 "metadata": {
  "kernelspec": {
   "display_name": "Python 3",
   "language": "python",
   "name": "python3"
  },
  "language_info": {
   "codemirror_mode": {
    "name": "ipython",
    "version": 3
   },
   "file_extension": ".py",
   "mimetype": "text/x-python",
   "name": "python",
   "nbconvert_exporter": "python",
   "pygments_lexer": "ipython3",
   "version": "3.7.2"
  }
 },
 "nbformat": 4,
 "nbformat_minor": 2
}
