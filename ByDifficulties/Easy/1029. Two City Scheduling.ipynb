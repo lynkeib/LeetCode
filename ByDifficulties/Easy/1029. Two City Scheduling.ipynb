{
 "cells": [
  {
   "cell_type": "code",
   "execution_count": 40,
   "metadata": {},
   "outputs": [],
   "source": [
    "class Solution(object):\n",
    "    def twoCitySchedCost(self, costs):\n",
    "        \"\"\"\n",
    "        :type costs: List[List[int]]\n",
    "        :rtype: int\n",
    "        \"\"\"\n",
    "        dp = [[0] * ((len(costs) // 2) + 1) for _ in range((len(costs) // 2) + 1)]\n",
    "        for i in range(len(costs) // 2):\n",
    "            dp[0][i + 1] = costs[i][1] + dp[0][i]\n",
    "        for i in range(len(costs) // 2):\n",
    "            dp[i + 1][0] = costs[i][0] + dp[i][0]\n",
    "        for i in range(1, (len(costs) // 2) + 1):\n",
    "            for j in range(1, (len(costs) // 2) + 1):\n",
    "                dp[i][j] = min(dp[i - 1][j] + costs[i + j - 1][0], dp[i][j - 1] + costs[i + j - 1][1])\n",
    "        return dp[len(costs) // 2][len(costs) // 2]"
   ]
  },
  {
   "cell_type": "code",
   "execution_count": null,
   "metadata": {},
   "outputs": [],
   "source": []
  }
 ],
 "metadata": {
  "kernelspec": {
   "display_name": "Python 3",
   "language": "python",
   "name": "python3"
  },
  "language_info": {
   "codemirror_mode": {
    "name": "ipython",
    "version": 3
   },
   "file_extension": ".py",
   "mimetype": "text/x-python",
   "name": "python",
   "nbconvert_exporter": "python",
   "pygments_lexer": "ipython3",
   "version": "3.7.3"
  },
  "toc": {
   "base_numbering": 1,
   "nav_menu": {},
   "number_sections": true,
   "sideBar": true,
   "skip_h1_title": false,
   "title_cell": "Table of Contents",
   "title_sidebar": "Contents",
   "toc_cell": false,
   "toc_position": {},
   "toc_section_display": true,
   "toc_window_display": false
  }
 },
 "nbformat": 4,
 "nbformat_minor": 2
}
