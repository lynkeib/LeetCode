{
 "cells": [
  {
   "cell_type": "code",
   "execution_count": 1,
   "metadata": {},
   "outputs": [],
   "source": [
    "# Definition for a binary tree node.\n",
    "# class TreeNode(object):\n",
    "#     def __init__(self, x):\n",
    "#         self.val = x\n",
    "#         self.left = None\n",
    "#         self.right = None\n",
    "\n",
    "class Solution(object):\n",
    "    def longestUnivaluePath(self, root):\n",
    "        \"\"\"\n",
    "        :type root: TreeNode\n",
    "        :rtype: int\n",
    "        \"\"\"\n",
    "        if not root:\n",
    "            return 0\n",
    "        res = [0]\n",
    "        self.dfs(root, res)\n",
    "        return res[0]\n",
    "    \n",
    "    def dfs(self, root, res):\n",
    "        if root.left:\n",
    "            l = self.dfs(root.left, res)\n",
    "        else:\n",
    "            l = 0\n",
    "        if root.right:\n",
    "            r = self.dfs(root.right, res)\n",
    "        else:\n",
    "            r = 0\n",
    "        if root.left and root.val == root.left.val:\n",
    "            l += 1\n",
    "        else:\n",
    "            l = 0\n",
    "        if root.right and root.val == root.right.val:\n",
    "            r += 1\n",
    "        else:\n",
    "            r = 0\n",
    "        res[0] = max(res[0], l + r)\n",
    "        return max(l, r)"
   ]
  },
  {
   "cell_type": "code",
   "execution_count": null,
   "metadata": {},
   "outputs": [],
   "source": []
  }
 ],
 "metadata": {
  "kernelspec": {
   "display_name": "Python 3",
   "language": "python",
   "name": "python3"
  },
  "language_info": {
   "codemirror_mode": {
    "name": "ipython",
    "version": 3
   },
   "file_extension": ".py",
   "mimetype": "text/x-python",
   "name": "python",
   "nbconvert_exporter": "python",
   "pygments_lexer": "ipython3",
   "version": "3.7.3"
  },
  "toc": {
   "base_numbering": 1,
   "nav_menu": {},
   "number_sections": true,
   "sideBar": true,
   "skip_h1_title": false,
   "title_cell": "Table of Contents",
   "title_sidebar": "Contents",
   "toc_cell": false,
   "toc_position": {},
   "toc_section_display": true,
   "toc_window_display": false
  }
 },
 "nbformat": 4,
 "nbformat_minor": 2
}
