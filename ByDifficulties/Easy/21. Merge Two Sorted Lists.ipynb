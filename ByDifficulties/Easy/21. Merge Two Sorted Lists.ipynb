{
 "cells": [
  {
   "cell_type": "code",
   "execution_count": 3,
   "metadata": {},
   "outputs": [],
   "source": [
    "# Definition for singly-linked list.\n",
    "# class ListNode(object):\n",
    "#     def __init__(self, x):\n",
    "#         self.val = x\n",
    "#         self.next = None\n",
    "\n",
    "class Solution(object):\n",
    "    def mergeTwoLists(self, l1, l2):\n",
    "        \"\"\"\n",
    "        :type l1: ListNode\n",
    "        :type l2: ListNode\n",
    "        :rtype: ListNode\n",
    "        \"\"\"\n",
    "        res = []\n",
    "        while l1 and l2:\n",
    "            if l1.val <= l2.val:\n",
    "                res.append(l1.val)\n",
    "                l1 = l1.next\n",
    "            else:\n",
    "                res.append(l2.val)\n",
    "                l2 = l2.next\n",
    "        while l1:\n",
    "            res.append(l1.val)\n",
    "            l1 = l1.next\n",
    "        while l2:\n",
    "            res.append(l2.val)\n",
    "            l2 = l2.next\n",
    "        if not res:\n",
    "            return l1\n",
    "        res_nodes = [ListNode(res[0])]\n",
    "        for i in range(1, len(res)):\n",
    "            temp = ListNode(res[i])\n",
    "            res_nodes.append(temp)\n",
    "            res_nodes[i - 1].next = temp\n",
    "        return res_nodes[0]"
   ]
  },
  {
   "cell_type": "code",
   "execution_count": null,
   "metadata": {},
   "outputs": [],
   "source": []
  }
 ],
 "metadata": {
  "kernelspec": {
   "display_name": "Python 3",
   "language": "python",
   "name": "python3"
  },
  "language_info": {
   "codemirror_mode": {
    "name": "ipython",
    "version": 2
   },
   "file_extension": ".py",
   "mimetype": "text/x-python",
   "name": "python",
   "nbconvert_exporter": "python",
   "pygments_lexer": "ipython2",
   "version": "2.7.15"
  }
 },
 "nbformat": 4,
 "nbformat_minor": 2
}
