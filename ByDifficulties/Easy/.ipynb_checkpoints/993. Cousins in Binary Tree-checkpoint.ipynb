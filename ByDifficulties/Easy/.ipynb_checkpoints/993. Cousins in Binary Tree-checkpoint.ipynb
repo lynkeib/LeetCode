{
 "cells": [
  {
   "cell_type": "code",
   "execution_count": 1,
   "metadata": {},
   "outputs": [],
   "source": [
    "# Definition for a binary tree node.\n",
    "# class TreeNode(object):\n",
    "#     def __init__(self, x):\n",
    "#         self.val = x\n",
    "#         self.left = None\n",
    "#         self.right = None\n",
    "\n",
    "class Solution(object):\n",
    "    def isCousins(self, root, x, y):\n",
    "        \"\"\"\n",
    "        :type root: TreeNode\n",
    "        :type x: int\n",
    "        :type y: int\n",
    "        :rtype: bool\n",
    "        \"\"\"\n",
    "        def getDepthandParent(node, depth, parent, target):\n",
    "            if node:\n",
    "                if node.val == target:\n",
    "                    return depth, parent\n",
    "                return getDepthandParent(node.left, depth+1, node, target) or getDepthandParent(node.right, depth+1, node, target)\n",
    "        \n",
    "        dx, px = getDepthandParent(root, 0, None, x)\n",
    "        dy, py = getDepthandParent(root, 0, None, y)\n",
    "        return dx == dy and px != py"
   ]
  },
  {
   "cell_type": "code",
   "execution_count": null,
   "metadata": {},
   "outputs": [],
   "source": []
  }
 ],
 "metadata": {
  "kernelspec": {
   "display_name": "Python 3",
   "language": "python",
   "name": "python3"
  },
  "language_info": {
   "codemirror_mode": {
    "name": "ipython",
    "version": 2
   },
   "file_extension": ".py",
   "mimetype": "text/x-python",
   "name": "python",
   "nbconvert_exporter": "python",
   "pygments_lexer": "ipython2",
   "version": "2.7.15"
  }
 },
 "nbformat": 4,
 "nbformat_minor": 2
}
