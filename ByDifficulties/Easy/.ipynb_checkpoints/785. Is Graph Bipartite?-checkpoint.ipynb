{
 "cells": [
  {
   "cell_type": "code",
   "execution_count": 1,
   "metadata": {
    "ExecuteTime": {
     "end_time": "2019-09-05T06:08:34.440556Z",
     "start_time": "2019-09-05T06:08:34.430727Z"
    }
   },
   "outputs": [],
   "source": [
    "class Solution(object):\n",
    "    def isBipartite(self, graph):\n",
    "        \"\"\"\n",
    "        :type graph: List[List[int]]\n",
    "        :rtype: bool\n",
    "        \"\"\"\n",
    "        visited = set()\n",
    "        root = []\n",
    "        res = True\n",
    "        # for node in range(len(graph)):\n",
    "        #     if graph[node]:\n",
    "        #         root = [node]\n",
    "        #         break\n",
    "        for node in range(len(graph)):\n",
    "            if node not in visited:\n",
    "                res = res & self.bfs([node], graph, visited)\n",
    "                if not res:\n",
    "                    return False\n",
    "        return res\n",
    "        \n",
    "    \n",
    "    def bfs(self, roots, graph, visited):\n",
    "        if not roots:\n",
    "            return True\n",
    "        next_level = []\n",
    "        # print(roots)\n",
    "        # print('roots are', roots)\n",
    "        ## chech if there is a link between each level\n",
    "        for node in roots:\n",
    "            visited.add(node)\n",
    "            # print('node is', node)\n",
    "            for child in graph[node]:\n",
    "                # print('child is', child)\n",
    "                # print(child in roots)\n",
    "                if child in roots:\n",
    "                    print()\n",
    "                    return False\n",
    "                if child not in visited:\n",
    "                    next_level.append(child)\n",
    "                    visited.add(child)\n",
    "        return self.bfs(next_level, graph, visited)\n",
    "        "
   ]
  },
  {
   "cell_type": "code",
   "execution_count": null,
   "metadata": {},
   "outputs": [],
   "source": []
  }
 ],
 "metadata": {
  "kernelspec": {
   "display_name": "Python 3",
   "language": "python",
   "name": "python3"
  },
  "language_info": {
   "codemirror_mode": {
    "name": "ipython",
    "version": 3
   },
   "file_extension": ".py",
   "mimetype": "text/x-python",
   "name": "python",
   "nbconvert_exporter": "python",
   "pygments_lexer": "ipython3",
   "version": "3.7.1"
  },
  "toc": {
   "base_numbering": 1,
   "nav_menu": {},
   "number_sections": true,
   "sideBar": true,
   "skip_h1_title": false,
   "title_cell": "Table of Contents",
   "title_sidebar": "Contents",
   "toc_cell": false,
   "toc_position": {},
   "toc_section_display": true,
   "toc_window_display": false
  }
 },
 "nbformat": 4,
 "nbformat_minor": 2
}
