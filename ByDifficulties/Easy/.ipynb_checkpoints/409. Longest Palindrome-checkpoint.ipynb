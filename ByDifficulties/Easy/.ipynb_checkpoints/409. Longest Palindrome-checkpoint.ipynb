{
 "cells": [
  {
   "cell_type": "code",
   "execution_count": 7,
   "metadata": {
    "ExecuteTime": {
     "end_time": "2019-09-02T18:59:38.267648Z",
     "start_time": "2019-09-02T18:59:38.264605Z"
    }
   },
   "outputs": [],
   "source": [
    "import collections"
   ]
  },
  {
   "cell_type": "code",
   "execution_count": 15,
   "metadata": {
    "ExecuteTime": {
     "end_time": "2019-09-02T19:00:53.956427Z",
     "start_time": "2019-09-02T19:00:53.950848Z"
    }
   },
   "outputs": [],
   "source": [
    "class Solution(object):\n",
    "    def longestPalindrome(self, s):\n",
    "        \"\"\"\n",
    "        :type s: str\n",
    "        :rtype: int\n",
    "        \"\"\"\n",
    "        counter = collections.defaultdict(int)\n",
    "        for i in s:\n",
    "            counter[i] += 1\n",
    "        res = 0\n",
    "        for value in counter.values():\n",
    "            if value % 2 == 0:\n",
    "                res += value\n",
    "            elif value > 2:\n",
    "                res += value - 1\n",
    "        if res != len(s):\n",
    "            return res + 1\n",
    "        return res"
   ]
  },
  {
   "cell_type": "code",
   "execution_count": 29,
   "metadata": {
    "ExecuteTime": {
     "end_time": "2019-09-02T19:07:23.976064Z",
     "start_time": "2019-09-02T19:07:23.971141Z"
    }
   },
   "outputs": [],
   "source": [
    "class Solution(object):\n",
    "    def longestPalindrome(self, s):\n",
    "        \"\"\"\n",
    "        :type s: str\n",
    "        :rtype: int\n",
    "        \"\"\"\n",
    "        counter = collections.defaultdict(int)\n",
    "        res = 0\n",
    "        for i in s:\n",
    "            counter[i] += 1\n",
    "            if counter[i] % 2 == 0:\n",
    "                res += 2\n",
    "        if res != len(s):\n",
    "            return res + 1\n",
    "        return res"
   ]
  },
  {
   "cell_type": "code",
   "execution_count": null,
   "metadata": {},
   "outputs": [],
   "source": []
  }
 ],
 "metadata": {
  "kernelspec": {
   "display_name": "Python 3",
   "language": "python",
   "name": "python3"
  },
  "language_info": {
   "codemirror_mode": {
    "name": "ipython",
    "version": 3
   },
   "file_extension": ".py",
   "mimetype": "text/x-python",
   "name": "python",
   "nbconvert_exporter": "python",
   "pygments_lexer": "ipython3",
   "version": "3.7.1"
  },
  "toc": {
   "base_numbering": 1,
   "nav_menu": {},
   "number_sections": true,
   "sideBar": true,
   "skip_h1_title": false,
   "title_cell": "Table of Contents",
   "title_sidebar": "Contents",
   "toc_cell": false,
   "toc_position": {},
   "toc_section_display": true,
   "toc_window_display": false
  }
 },
 "nbformat": 4,
 "nbformat_minor": 2
}
