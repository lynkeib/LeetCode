{
 "cells": [
  {
   "cell_type": "code",
   "execution_count": 1,
   "metadata": {},
   "outputs": [],
   "source": [
    "# Definition for a binary tree node.\n",
    "# class TreeNode(object):\n",
    "#     def __init__(self, x):\n",
    "#         self.val = x\n",
    "#         self.left = None\n",
    "#         self.right = None\n",
    "\n",
    "class Solution(object):\n",
    "    def isBalanced(self, root):\n",
    "        \"\"\"\n",
    "        :type root: TreeNode\n",
    "        :rtype: bool\n",
    "        \"\"\"\n",
    "        def maxDepth(root):\n",
    "            if not root:\n",
    "                return 0\n",
    "            left = maxDepth(root.left)\n",
    "            right = maxDepth(root.right)\n",
    "            if abs(left - right) > 1:\n",
    "                self.flag = True\n",
    "            return max(right, left) + 1\n",
    "        \n",
    "        self.flag = False\n",
    "        maxDepth(root)\n",
    "        return not self.flag"
   ]
  },
  {
   "cell_type": "code",
   "execution_count": 1,
   "metadata": {
    "ExecuteTime": {
     "end_time": "2019-09-03T18:11:28.731904Z",
     "start_time": "2019-09-03T18:11:28.722666Z"
    }
   },
   "outputs": [],
   "source": [
    "# Definition for a binary tree node.\n",
    "# class TreeNode(object):\n",
    "#     def __init__(self, x):\n",
    "#         self.val = x\n",
    "#         self.left = None\n",
    "#         self.right = None\n",
    "\n",
    "class Solution(object):\n",
    "    def isBalanced(self, root):\n",
    "        \"\"\"\n",
    "        :type root: TreeNode\n",
    "        :rtype: bool\n",
    "        \"\"\"\n",
    "        if not root:\n",
    "            return True\n",
    "        height = {None:0}\n",
    "        self.dfs_height(root, height)\n",
    "        #print(height)\n",
    "        \n",
    "        return self.check(root, height)\n",
    "        \n",
    "    \n",
    "    def dfs_height(self, root, height):\n",
    "        if root.left not in height:\n",
    "            left = self.dfs_height(root.left, height)\n",
    "        else:\n",
    "            left = height[root.left]\n",
    "        if root.right not in height:\n",
    "            right = self.dfs_height(root.right, height)\n",
    "        else:\n",
    "            right = height[root.right]\n",
    "        height[root] = max(left, right) + 1\n",
    "        return max(left, right) + 1 \n",
    "    \n",
    "    def check(self, root, height):\n",
    "        if not root:\n",
    "            return True\n",
    "        if abs(height[root.left] - height[root.right]) > 1:\n",
    "            return False\n",
    "        \n",
    "        left_balanced = self.check(root.left, height)\n",
    "        right_balanced = self.check(root.right, height)\n",
    "        return left_balanced and right_balanced        "
   ]
  },
  {
   "cell_type": "code",
   "execution_count": null,
   "metadata": {},
   "outputs": [],
   "source": []
  }
 ],
 "metadata": {
  "kernelspec": {
   "display_name": "Python 3",
   "language": "python",
   "name": "python3"
  },
  "language_info": {
   "codemirror_mode": {
    "name": "ipython",
    "version": 3
   },
   "file_extension": ".py",
   "mimetype": "text/x-python",
   "name": "python",
   "nbconvert_exporter": "python",
   "pygments_lexer": "ipython3",
   "version": "3.7.1"
  },
  "toc": {
   "base_numbering": 1,
   "nav_menu": {},
   "number_sections": true,
   "sideBar": true,
   "skip_h1_title": false,
   "title_cell": "Table of Contents",
   "title_sidebar": "Contents",
   "toc_cell": false,
   "toc_position": {},
   "toc_section_display": true,
   "toc_window_display": false
  }
 },
 "nbformat": 4,
 "nbformat_minor": 2
}
