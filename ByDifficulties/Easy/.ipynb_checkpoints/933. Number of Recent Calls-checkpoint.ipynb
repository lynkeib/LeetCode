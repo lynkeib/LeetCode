{
 "cells": [
  {
   "cell_type": "code",
   "execution_count": null,
   "metadata": {},
   "outputs": [],
   "source": [
    "class RecentCounter(object):\n",
    "\n",
    "    def __init__(self):\n",
    "        self.queue = collections.deque() \n",
    "\n",
    "    def ping(self, t):\n",
    "        \"\"\"\n",
    "        :type t: int\n",
    "        :rtype: int\n",
    "        \"\"\"\n",
    "        self.queue.append(t)\n",
    "        while t - 3000 > self.queue[0]:\n",
    "            self.queue.popleft()\n",
    "        return len(self.queue)\n",
    "        \n",
    "            \n",
    "                \n",
    "            \n",
    "\n",
    "\n",
    "# Your RecentCounter object will be instantiated and called as such:\n",
    "# obj = RecentCounter()\n",
    "# param_1 = obj.ping(t)"
   ]
  }
 ],
 "metadata": {
  "kernelspec": {
   "display_name": "Python 3",
   "language": "python",
   "name": "python3"
  },
  "language_info": {
   "codemirror_mode": {
    "name": "ipython",
    "version": 3
   },
   "file_extension": ".py",
   "mimetype": "text/x-python",
   "name": "python",
   "nbconvert_exporter": "python",
   "pygments_lexer": "ipython3",
   "version": "3.7.2"
  }
 },
 "nbformat": 4,
 "nbformat_minor": 2
}
