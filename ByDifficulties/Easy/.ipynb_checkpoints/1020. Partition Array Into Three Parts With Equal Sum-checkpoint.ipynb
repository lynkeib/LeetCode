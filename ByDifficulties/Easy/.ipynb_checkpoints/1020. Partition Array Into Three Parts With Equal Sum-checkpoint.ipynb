{
 "cells": [
  {
   "cell_type": "code",
   "execution_count": 31,
   "metadata": {},
   "outputs": [],
   "source": [
    "class Solution(object):\n",
    "    def canThreePartsEqualSum(self, A):\n",
    "        \"\"\"\n",
    "        :type A: List[int]\n",
    "        :rtype: bool\n",
    "        \"\"\"\n",
    "        s = sum(A)\n",
    "        if s / 3 != s // 3:\n",
    "            return False\n",
    "        i = 0\n",
    "        temp_s = 0\n",
    "        while i <= len(A) - 1:\n",
    "            temp_s += A[i]\n",
    "            i += 1\n",
    "            if temp_s == s / 3:\n",
    "                break\n",
    "        if i == len(A):\n",
    "            return False\n",
    "        temp_s = 0\n",
    "        while i <= len(A) - 1:\n",
    "            temp_s += A[i]\n",
    "            i += 1\n",
    "            if temp_s == s / 3:\n",
    "                break\n",
    "        if i == len(A):\n",
    "            return False\n",
    "        if sum(A[i:]) != s / 3:\n",
    "            return False\n",
    "        return True"
   ]
  },
  {
   "cell_type": "code",
   "execution_count": null,
   "metadata": {},
   "outputs": [],
   "source": []
  }
 ],
 "metadata": {
  "kernelspec": {
   "display_name": "Python 3",
   "language": "python",
   "name": "python3"
  },
  "language_info": {
   "codemirror_mode": {
    "name": "ipython",
    "version": 2
   },
   "file_extension": ".py",
   "mimetype": "text/x-python",
   "name": "python",
   "nbconvert_exporter": "python",
   "pygments_lexer": "ipython2",
   "version": "2.7.15"
  }
 },
 "nbformat": 4,
 "nbformat_minor": 2
}
