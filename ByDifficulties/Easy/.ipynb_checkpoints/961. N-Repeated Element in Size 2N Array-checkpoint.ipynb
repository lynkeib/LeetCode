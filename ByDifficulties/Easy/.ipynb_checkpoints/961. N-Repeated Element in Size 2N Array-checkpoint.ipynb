{
 "cells": [
  {
   "cell_type": "markdown",
   "metadata": {},
   "source": [
    "In a array A of size 2N, there are N+1 unique elements, and exactly one of these elements is repeated N times.\n",
    "\n",
    "Return the element repeated N times."
   ]
  },
  {
   "cell_type": "markdown",
   "metadata": {},
   "source": [
    "First though comes to mind:"
   ]
  },
  {
   "cell_type": "code",
   "execution_count": 28,
   "metadata": {},
   "outputs": [],
   "source": [
    "def repeatedNTimes(A):\n",
    "    \"\"\"\n",
    "    :type A: List[int]\n",
    "    :rtype: int\n",
    "    \"\"\"\n",
    "    dic = {}\n",
    "    for element in A:\n",
    "        if element in dic:\n",
    "            dic[element] += 1\n",
    "            if dic[element] > 1:\n",
    "                return element\n",
    "        else:\n",
    "            dic[element] = 1"
   ]
  },
  {
   "cell_type": "markdown",
   "metadata": {},
   "source": [
    "Solutions leart from leetcode:"
   ]
  },
  {
   "cell_type": "code",
   "execution_count": 10,
   "metadata": {},
   "outputs": [],
   "source": [
    "class Solution:\n",
    "    def repeatedNTimes(self, A):\n",
    "        \"\"\"\n",
    "        :type A: List[int]\n",
    "        :rtype: int\n",
    "        \"\"\"\n",
    "        for index in range(len(A) - 2):\n",
    "            if A[index] == A[index + 1] or A[index] == A[index + 2]:\n",
    "                return A[index]\n",
    "        return A[-1]"
   ]
  },
  {
   "cell_type": "markdown",
   "metadata": {},
   "source": [
    "So we have N repeated elements in our list A, so for each of the repeated element, the distance between is either 1 or 2, and most of the cases cannot be bigger than 3 (special case : [a, b, c, c] and [c, a, b, c]). So when we start from the first element in the list, we check if it equals to the next element or the next next element, since we are guaranteed to have repeated element, so if we cannot find it, then it must be the special cases."
   ]
  },
  {
   "cell_type": "markdown",
   "metadata": {},
   "source": [
    "And the solution below is a really brilliant solution by using the probability."
   ]
  },
  {
   "cell_type": "code",
   "execution_count": 12,
   "metadata": {},
   "outputs": [],
   "source": [
    "def repeatedNTimes(self, A):\n",
    "    while 1:\n",
    "        s = random.sample(A, 2)\n",
    "        if s[0] == s[1]:\n",
    "            return s[0]"
   ]
  }
 ],
 "metadata": {
  "kernelspec": {
   "display_name": "Python 3",
   "language": "python",
   "name": "python3"
  },
  "language_info": {
   "codemirror_mode": {
    "name": "ipython",
    "version": 3
   },
   "file_extension": ".py",
   "mimetype": "text/x-python",
   "name": "python",
   "nbconvert_exporter": "python",
   "pygments_lexer": "ipython3",
   "version": "3.6.5"
  }
 },
 "nbformat": 4,
 "nbformat_minor": 2
}
