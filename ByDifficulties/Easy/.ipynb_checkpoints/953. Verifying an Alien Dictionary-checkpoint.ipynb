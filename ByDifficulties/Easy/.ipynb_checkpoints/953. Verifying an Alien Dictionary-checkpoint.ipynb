{
 "cells": [
  {
   "cell_type": "code",
   "execution_count": 19,
   "metadata": {},
   "outputs": [],
   "source": [
    "class Solution(object):\n",
    "    def isAlienSorted(self, words, order):\n",
    "        \"\"\"\n",
    "        :type words: List[str]\n",
    "        :type order: str\n",
    "        :rtype: bool\n",
    "        \"\"\"\n",
    "        dic = {value:key for key, value in enumerate(order)}\n",
    "        new_words = [[dic[c] for c in word] for word in words]\n",
    "        return all(w1 < w2 for w1, w2 in zip(new_words, new_words[1:]))"
   ]
  },
  {
   "cell_type": "code",
   "execution_count": 1,
   "metadata": {
    "ExecuteTime": {
     "end_time": "2019-09-07T05:45:51.349875Z",
     "start_time": "2019-09-07T05:45:51.341234Z"
    }
   },
   "outputs": [],
   "source": [
    "class Solution(object):\n",
    "    def isAlienSorted(self, words, order):\n",
    "        \"\"\"\n",
    "        :type words: List[str]\n",
    "        :type order: str\n",
    "        :rtype: bool\n",
    "        \"\"\"\n",
    "        order = {key:value for value, key in enumerate(order)}\n",
    "        for index in range(len(words) - 1):\n",
    "            if self.compare(words[index], words[index+1], order) > 0:\n",
    "                return False\n",
    "        return True\n",
    "        \n",
    "    def compare(self, w1, w2, order):\n",
    "        l1, l2 = len(w1), len(w2)\n",
    "        for index in range(min(l1, l2)):\n",
    "            if order[w1[index]] - order[w2[index]] != 0:\n",
    "                return order[w1[index]] - order[w2[index]]\n",
    "        return l1 - l2\n",
    "        "
   ]
  },
  {
   "cell_type": "code",
   "execution_count": null,
   "metadata": {},
   "outputs": [],
   "source": []
  }
 ],
 "metadata": {
  "kernelspec": {
   "display_name": "Python 3",
   "language": "python",
   "name": "python3"
  },
  "language_info": {
   "codemirror_mode": {
    "name": "ipython",
    "version": 3
   },
   "file_extension": ".py",
   "mimetype": "text/x-python",
   "name": "python",
   "nbconvert_exporter": "python",
   "pygments_lexer": "ipython3",
   "version": "3.7.1"
  },
  "toc": {
   "base_numbering": 1,
   "nav_menu": {},
   "number_sections": true,
   "sideBar": true,
   "skip_h1_title": false,
   "title_cell": "Table of Contents",
   "title_sidebar": "Contents",
   "toc_cell": false,
   "toc_position": {},
   "toc_section_display": true,
   "toc_window_display": false
  }
 },
 "nbformat": 4,
 "nbformat_minor": 2
}
