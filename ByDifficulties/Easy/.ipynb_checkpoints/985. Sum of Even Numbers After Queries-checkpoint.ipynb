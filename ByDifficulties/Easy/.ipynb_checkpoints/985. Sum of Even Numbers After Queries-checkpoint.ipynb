{
 "cells": [
  {
   "cell_type": "code",
   "execution_count": 72,
   "metadata": {},
   "outputs": [],
   "source": [
    "class Solution(object):\n",
    "    def sumEvenAfterQueries(self, A, queries):\n",
    "        \"\"\"\n",
    "        :type A: List[int]\n",
    "        :type queries: List[List[int]]\n",
    "        :rtype: List[int]\n",
    "        \"\"\"\n",
    "        B = A[:]\n",
    "        sum_even = 0\n",
    "        for value in B:\n",
    "            if value % 2 == 0:\n",
    "                sum_even += value\n",
    "        res = []\n",
    "        for query in queries:\n",
    "            index = query[1]\n",
    "            value = query[0]\n",
    "            if B[index] % 2 == 0:\n",
    "                if value % 2 == 0:\n",
    "                    sum_even += value\n",
    "                else:\n",
    "                    sum_even -= B[index]\n",
    "            else:\n",
    "                if value % 2 != 0:\n",
    "                    sum_even += (value + B[index])\n",
    "            B[index] += value\n",
    "            res.append(sum_even)\n",
    "        return res"
   ]
  }
 ],
 "metadata": {
  "kernelspec": {
   "display_name": "Python 3",
   "language": "python",
   "name": "python3"
  },
  "language_info": {
   "codemirror_mode": {
    "name": "ipython",
    "version": 3
   },
   "file_extension": ".py",
   "mimetype": "text/x-python",
   "name": "python",
   "nbconvert_exporter": "python",
   "pygments_lexer": "ipython3",
   "version": "3.7.2"
  }
 },
 "nbformat": 4,
 "nbformat_minor": 2
}
