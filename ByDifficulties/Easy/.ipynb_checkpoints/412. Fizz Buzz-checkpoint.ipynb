{
 "cells": [
  {
   "cell_type": "code",
   "execution_count": 1,
   "metadata": {
    "ExecuteTime": {
     "end_time": "2019-05-15T04:52:23.858425Z",
     "start_time": "2019-05-15T04:52:23.852782Z"
    }
   },
   "outputs": [],
   "source": [
    "class Solution(object):\n",
    "    def fizzBuzz(self, n):\n",
    "        \"\"\"\n",
    "        :type n: int\n",
    "        :rtype: List[str]\n",
    "        \"\"\"\n",
    "        res = [str(i+1) for i in range(n)]\n",
    "        j = 3\n",
    "        while j <= len(res):\n",
    "            res[j - 1] = 'Fizz'\n",
    "            j += 3\n",
    "        j = 5\n",
    "        while j <= len(res):\n",
    "            res[j - 1] = 'Buzz'\n",
    "            j += 5\n",
    "        j = 15\n",
    "        while j <= len(res):\n",
    "            res[j - 1] = 'FizzBuzz'\n",
    "            j += 15\n",
    "        return res"
   ]
  },
  {
   "cell_type": "code",
   "execution_count": null,
   "metadata": {},
   "outputs": [],
   "source": []
  }
 ],
 "metadata": {
  "kernelspec": {
   "display_name": "Python 3",
   "language": "python",
   "name": "python3"
  },
  "language_info": {
   "codemirror_mode": {
    "name": "ipython",
    "version": 3
   },
   "file_extension": ".py",
   "mimetype": "text/x-python",
   "name": "python",
   "nbconvert_exporter": "python",
   "pygments_lexer": "ipython3",
   "version": "3.7.1"
  },
  "toc": {
   "base_numbering": 1,
   "nav_menu": {},
   "number_sections": true,
   "sideBar": true,
   "skip_h1_title": false,
   "title_cell": "Table of Contents",
   "title_sidebar": "Contents",
   "toc_cell": false,
   "toc_position": {},
   "toc_section_display": true,
   "toc_window_display": false
  }
 },
 "nbformat": 4,
 "nbformat_minor": 2
}
