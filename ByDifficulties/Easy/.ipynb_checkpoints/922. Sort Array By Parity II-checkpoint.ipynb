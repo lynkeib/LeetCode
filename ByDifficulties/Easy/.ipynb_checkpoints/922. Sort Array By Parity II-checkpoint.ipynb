{
 "cells": [
  {
   "cell_type": "code",
   "execution_count": null,
   "metadata": {},
   "outputs": [],
   "source": [
    "class Solution(object):\n",
    "    def sortArrayByParityII(self, A):\n",
    "        \"\"\"\n",
    "        :type A: List[int]\n",
    "        :rtype: List[int]\n",
    "        \"\"\"\n",
    "        odd = 1\n",
    "        even = 0\n",
    "        res = [0] * len(A)\n",
    "        for i in A:\n",
    "            if i % 2 == 0:\n",
    "                res[even] = i\n",
    "                even += 2\n",
    "            else:\n",
    "                res[odd] = i\n",
    "                odd += 2\n",
    "        return res"
   ]
  }
 ],
 "metadata": {
  "kernelspec": {
   "display_name": "Python 3",
   "language": "python",
   "name": "python3"
  },
  "language_info": {
   "codemirror_mode": {
    "name": "ipython",
    "version": 3
   },
   "file_extension": ".py",
   "mimetype": "text/x-python",
   "name": "python",
   "nbconvert_exporter": "python",
   "pygments_lexer": "ipython3",
   "version": "3.7.2"
  }
 },
 "nbformat": 4,
 "nbformat_minor": 2
}
