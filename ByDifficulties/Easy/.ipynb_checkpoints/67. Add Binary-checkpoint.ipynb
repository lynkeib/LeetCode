{
 "cells": [
  {
   "cell_type": "code",
   "execution_count": 1,
   "metadata": {},
   "outputs": [],
   "source": [
    "class Solution(object):\n",
    "    def addBinary(self, a, b):\n",
    "        \"\"\"\n",
    "        :type a: str\n",
    "        :type b: str\n",
    "        :rtype: str\n",
    "        \"\"\"\n",
    "        if '' in (a, b): \n",
    "            return a or b\n",
    "        if a[-1] == '1' and b[-1] == '1':\n",
    "            return self.addBinary('1', self.addBinary(a[:-1], b[:-1])) + '0'\n",
    "        if a[-1] == '0' and b[-1] == '0':\n",
    "            return self.addBinary(a[:-1], b[:-1]) + '0'\n",
    "        return self.addBinary(a[:-1], b[:-1]) + '1'"
   ]
  },
  {
   "cell_type": "code",
   "execution_count": 1,
   "metadata": {
    "ExecuteTime": {
     "end_time": "2019-09-07T00:46:57.306214Z",
     "start_time": "2019-09-07T00:46:57.298985Z"
    }
   },
   "outputs": [],
   "source": [
    "class Solution(object):\n",
    "    def addBinary(self, a, b):\n",
    "        \"\"\"\n",
    "        :type a: str\n",
    "        :type b: str\n",
    "        :rtype: str\n",
    "        \"\"\"\n",
    "        index_a, index_b, remain = len(a) - 1, len(b) - 1, 0\n",
    "        res = []\n",
    "        while index_a > -1 or index_b > -1:\n",
    "            sum_ = remain\n",
    "            if index_a > -1:\n",
    "                sum_ += int(a[index_a])\n",
    "            if index_b > -1:\n",
    "                sum_ += int(b[index_b])\n",
    "            res.append(str(sum_%2))\n",
    "            remain = sum_ // 2\n",
    "            index_a -= 1\n",
    "            index_b -= 1\n",
    "        if remain:\n",
    "            res.append(str(remain))\n",
    "        return ''.join(res[::-1])"
   ]
  },
  {
   "cell_type": "code",
   "execution_count": null,
   "metadata": {},
   "outputs": [],
   "source": []
  }
 ],
 "metadata": {
  "kernelspec": {
   "display_name": "Python 3",
   "language": "python",
   "name": "python3"
  },
  "language_info": {
   "codemirror_mode": {
    "name": "ipython",
    "version": 3
   },
   "file_extension": ".py",
   "mimetype": "text/x-python",
   "name": "python",
   "nbconvert_exporter": "python",
   "pygments_lexer": "ipython3",
   "version": "3.7.1"
  },
  "toc": {
   "base_numbering": 1,
   "nav_menu": {},
   "number_sections": true,
   "sideBar": true,
   "skip_h1_title": false,
   "title_cell": "Table of Contents",
   "title_sidebar": "Contents",
   "toc_cell": false,
   "toc_position": {},
   "toc_section_display": true,
   "toc_window_display": false
  }
 },
 "nbformat": 4,
 "nbformat_minor": 2
}
