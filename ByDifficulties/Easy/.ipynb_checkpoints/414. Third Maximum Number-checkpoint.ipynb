{
 "cells": [
  {
   "cell_type": "code",
   "execution_count": 1,
   "metadata": {},
   "outputs": [],
   "source": [
    "class Solution(object):\n",
    "    def thirdMax(self, nums):\n",
    "        \"\"\"\n",
    "        :type nums: List[int]\n",
    "        :rtype: int\n",
    "        \"\"\"\n",
    "        temp = [float('-inf'), float('-inf'), float('-inf')]\n",
    "        for i in nums:\n",
    "            if i not in temp:\n",
    "                if i > temp[0]:\n",
    "                    temp = [i, temp[0], temp[1]]\n",
    "                elif i > temp[1]:\n",
    "                    temp = [temp[0], i, temp[1]]\n",
    "                elif i > temp[2]:\n",
    "                    temp = [temp[0], temp[1], i]\n",
    "        return max(temp) if float('-inf') in temp else temp[2]"
   ]
  },
  {
   "cell_type": "code",
   "execution_count": null,
   "metadata": {},
   "outputs": [],
   "source": []
  }
 ],
 "metadata": {
  "kernelspec": {
   "display_name": "Python 3",
   "language": "python",
   "name": "python3"
  },
  "language_info": {
   "codemirror_mode": {
    "name": "ipython",
    "version": 2
   },
   "file_extension": ".py",
   "mimetype": "text/x-python",
   "name": "python",
   "nbconvert_exporter": "python",
   "pygments_lexer": "ipython2",
   "version": "2.7.15"
  }
 },
 "nbformat": 4,
 "nbformat_minor": 2
}
