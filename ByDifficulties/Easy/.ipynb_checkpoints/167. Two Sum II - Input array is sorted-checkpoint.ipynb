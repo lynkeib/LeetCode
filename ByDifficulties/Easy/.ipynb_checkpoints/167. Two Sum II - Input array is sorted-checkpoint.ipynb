{
 "cells": [
  {
   "cell_type": "code",
   "execution_count": 1,
   "metadata": {},
   "outputs": [],
   "source": [
    "class Solution(object):\n",
    "    def twoSum(self, numbers, target):\n",
    "        \"\"\"\n",
    "        :type numbers: List[int]\n",
    "        :type target: int\n",
    "        :rtype: List[int]\n",
    "        \"\"\"\n",
    "        l, r = 0, len(numbers) - 1\n",
    "        while l < r:\n",
    "            summation = numbers[l] + numbers[r]\n",
    "            if summation == target:\n",
    "                return [l + 1, r + 1]\n",
    "            elif summation < target:\n",
    "                l += 1\n",
    "            else:\n",
    "                r -= 1\n",
    "                "
   ]
  },
  {
   "cell_type": "code",
   "execution_count": 2,
   "metadata": {
    "ExecuteTime": {
     "end_time": "2019-09-06T20:00:04.460166Z",
     "start_time": "2019-09-06T20:00:04.453373Z"
    }
   },
   "outputs": [],
   "source": [
    "class Solution(object):\n",
    "    def twoSum(self, numbers, target):\n",
    "        \"\"\"\n",
    "        :type numbers: List[int]\n",
    "        :type target: int\n",
    "        :rtype: List[int]\n",
    "        \"\"\"\n",
    "        for index1 in range(len(numbers)):\n",
    "            remain = target - numbers[index1]\n",
    "            if index1 != 0 and numbers[index1] == numbers[index1-1]:\n",
    "                continue\n",
    "            for index2 in range(index1+1, len(numbers)):\n",
    "                if index2 != index1+1 and numbers[index2] == numbers[index2 -1]:\n",
    "                    continue\n",
    "                if numbers[index2] > remain:\n",
    "                    break\n",
    "                if numbers[index2] == remain:\n",
    "                    return [index1+1, index2+1]"
   ]
  },
  {
   "cell_type": "code",
   "execution_count": null,
   "metadata": {},
   "outputs": [],
   "source": []
  }
 ],
 "metadata": {
  "kernelspec": {
   "display_name": "Python 3",
   "language": "python",
   "name": "python3"
  },
  "language_info": {
   "codemirror_mode": {
    "name": "ipython",
    "version": 3
   },
   "file_extension": ".py",
   "mimetype": "text/x-python",
   "name": "python",
   "nbconvert_exporter": "python",
   "pygments_lexer": "ipython3",
   "version": "3.7.1"
  },
  "toc": {
   "base_numbering": 1,
   "nav_menu": {},
   "number_sections": true,
   "sideBar": true,
   "skip_h1_title": false,
   "title_cell": "Table of Contents",
   "title_sidebar": "Contents",
   "toc_cell": false,
   "toc_position": {},
   "toc_section_display": true,
   "toc_window_display": false
  }
 },
 "nbformat": 4,
 "nbformat_minor": 2
}
