{
 "cells": [
  {
   "cell_type": "code",
   "execution_count": 1,
   "metadata": {
    "ExecuteTime": {
     "end_time": "2019-09-09T02:51:24.945505Z",
     "start_time": "2019-09-09T02:51:24.939493Z"
    }
   },
   "outputs": [],
   "source": [
    "class Solution(object):\n",
    "    def checkSubarraySum(self, nums, k):\n",
    "        \"\"\"\n",
    "        :type nums: List[int]\n",
    "        :type k: int\n",
    "        :rtype: bool\n",
    "        \"\"\"\n",
    "        dic = dict()\n",
    "        dic[0] = -1\n",
    "        sum_ = 0\n",
    "        for index in range(len(nums)):\n",
    "            sum_ = sum_ + nums[index]\n",
    "            if k != 0:\n",
    "                sum_ %= k\n",
    "            if sum_ in dic:\n",
    "                if index - dic[sum_] > 1:\n",
    "                    return True\n",
    "            else:\n",
    "                dic[sum_] = index\n",
    "        return False"
   ]
  },
  {
   "cell_type": "code",
   "execution_count": null,
   "metadata": {},
   "outputs": [],
   "source": []
  }
 ],
 "metadata": {
  "kernelspec": {
   "display_name": "Python 3",
   "language": "python",
   "name": "python3"
  },
  "language_info": {
   "codemirror_mode": {
    "name": "ipython",
    "version": 3
   },
   "file_extension": ".py",
   "mimetype": "text/x-python",
   "name": "python",
   "nbconvert_exporter": "python",
   "pygments_lexer": "ipython3",
   "version": "3.7.1"
  },
  "toc": {
   "base_numbering": 1,
   "nav_menu": {},
   "number_sections": true,
   "sideBar": true,
   "skip_h1_title": false,
   "title_cell": "Table of Contents",
   "title_sidebar": "Contents",
   "toc_cell": false,
   "toc_position": {},
   "toc_section_display": true,
   "toc_window_display": false
  }
 },
 "nbformat": 4,
 "nbformat_minor": 2
}
