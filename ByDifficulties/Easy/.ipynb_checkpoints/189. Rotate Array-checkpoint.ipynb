{
 "cells": [
  {
   "cell_type": "code",
   "execution_count": 1,
   "metadata": {},
   "outputs": [],
   "source": [
    "class Solution(object):\n",
    "    def rotate(self, nums, k):\n",
    "        \"\"\"\n",
    "        :type nums: List[int]\n",
    "        :type k: int\n",
    "        :rtype: None Do not return anything, modify nums in-place instead.\n",
    "        \"\"\"\n",
    "        def reverse(num, i, j):\n",
    "            while i < j:\n",
    "                num[i], num[j] = num[j], num[i]\n",
    "                i += 1\n",
    "                j -= 1\n",
    "        if len(nums) >= 2:\n",
    "            k = k % len(nums)\n",
    "            reverse(nums, 0, len(nums) - k - 1)\n",
    "            reverse(nums, len(nums) - k, len(nums) - 1)\n",
    "            reverse(nums, 0, len(nums) - 1)"
   ]
  },
  {
   "cell_type": "code",
   "execution_count": null,
   "metadata": {},
   "outputs": [],
   "source": []
  }
 ],
 "metadata": {
  "kernelspec": {
   "display_name": "Python 3",
   "language": "python",
   "name": "python3"
  },
  "language_info": {
   "codemirror_mode": {
    "name": "ipython",
    "version": 2
   },
   "file_extension": ".py",
   "mimetype": "text/x-python",
   "name": "python",
   "nbconvert_exporter": "python",
   "pygments_lexer": "ipython2",
   "version": "2.7.15"
  }
 },
 "nbformat": 4,
 "nbformat_minor": 2
}
