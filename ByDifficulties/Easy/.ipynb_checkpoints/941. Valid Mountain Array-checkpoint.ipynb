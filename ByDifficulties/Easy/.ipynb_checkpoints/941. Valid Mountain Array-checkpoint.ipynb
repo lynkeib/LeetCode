{
 "cells": [
  {
   "cell_type": "code",
   "execution_count": 11,
   "metadata": {},
   "outputs": [],
   "source": [
    "class Solution(object):\n",
    "    def validMountainArray(self, A):\n",
    "        \"\"\"\n",
    "        :type A: List[int]\n",
    "        :rtype: bool\n",
    "        \"\"\"\n",
    "        if len(A) <=2:\n",
    "            return False\n",
    "        left, right = 0, len(A) - 1\n",
    "        while left + 1 <= len(A) - 1 and A[left + 1] > A[left]:\n",
    "            left += 1\n",
    "        while right - 1 >= 0 and A[right - 1] > A[right]:\n",
    "            right -= 1\n",
    "        return 0 < left == right < len(A) - 1"
   ]
  },
  {
   "cell_type": "code",
   "execution_count": null,
   "metadata": {},
   "outputs": [],
   "source": []
  }
 ],
 "metadata": {
  "kernelspec": {
   "display_name": "Python 3",
   "language": "python",
   "name": "python3"
  },
  "language_info": {
   "codemirror_mode": {
    "name": "ipython",
    "version": 2
   },
   "file_extension": ".py",
   "mimetype": "text/x-python",
   "name": "python",
   "nbconvert_exporter": "python",
   "pygments_lexer": "ipython2",
   "version": "2.7.15"
  }
 },
 "nbformat": 4,
 "nbformat_minor": 2
}
