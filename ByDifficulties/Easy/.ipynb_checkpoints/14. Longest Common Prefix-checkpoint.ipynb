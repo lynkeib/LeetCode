{
 "cells": [
  {
   "cell_type": "code",
   "execution_count": 1,
   "metadata": {
    "ExecuteTime": {
     "end_time": "2019-05-18T22:17:27.355823Z",
     "start_time": "2019-05-18T22:17:27.351025Z"
    }
   },
   "outputs": [],
   "source": [
    "class Solution(object):\n",
    "    def longestCommonPrefix(self, strs):\n",
    "        \"\"\"\n",
    "        :type strs: List[str]\n",
    "        :rtype: str\n",
    "        \"\"\"\n",
    "        if not strs:\n",
    "            return ''\n",
    "        shorest = min(strs, key = len)\n",
    "        for index, value in enumerate(shorest):\n",
    "            for string in strs:\n",
    "                if string[index] != value:\n",
    "                    shorest = shorest[:index]\n",
    "        return shorest"
   ]
  },
  {
   "cell_type": "code",
   "execution_count": 1,
   "metadata": {
    "ExecuteTime": {
     "end_time": "2019-09-06T22:49:46.905700Z",
     "start_time": "2019-09-06T22:49:46.898381Z"
    }
   },
   "outputs": [],
   "source": [
    "class Solution(object):\n",
    "    def longestCommonPrefix(self, strs):\n",
    "        \"\"\"\n",
    "        :type strs: List[str]\n",
    "        :rtype: str\n",
    "        \"\"\"\n",
    "        if not strs:\n",
    "            return \n",
    "        longest = strs[0]\n",
    "        for i in range(1, len(strs)):\n",
    "            min_length = min(len(longest), len(strs[i]))\n",
    "            index = 0\n",
    "            count = 0\n",
    "            while index < min_length:\n",
    "                if longest[index] == strs[i][index]:\n",
    "                    count += 1\n",
    "                else:\n",
    "                    break\n",
    "                index += 1\n",
    "            longest = longest[:count]\n",
    "            if not longest:\n",
    "                return longest\n",
    "        return longest"
   ]
  },
  {
   "cell_type": "code",
   "execution_count": null,
   "metadata": {},
   "outputs": [],
   "source": []
  }
 ],
 "metadata": {
  "kernelspec": {
   "display_name": "Python 3",
   "language": "python",
   "name": "python3"
  },
  "language_info": {
   "codemirror_mode": {
    "name": "ipython",
    "version": 3
   },
   "file_extension": ".py",
   "mimetype": "text/x-python",
   "name": "python",
   "nbconvert_exporter": "python",
   "pygments_lexer": "ipython3",
   "version": "3.7.1"
  },
  "toc": {
   "base_numbering": 1,
   "nav_menu": {},
   "number_sections": true,
   "sideBar": true,
   "skip_h1_title": false,
   "title_cell": "Table of Contents",
   "title_sidebar": "Contents",
   "toc_cell": false,
   "toc_position": {},
   "toc_section_display": true,
   "toc_window_display": false
  }
 },
 "nbformat": 4,
 "nbformat_minor": 2
}
