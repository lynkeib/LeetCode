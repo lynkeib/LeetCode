{
 "cells": [
  {
   "cell_type": "code",
   "execution_count": 26,
   "metadata": {
    "ExecuteTime": {
     "end_time": "2019-09-02T19:46:06.720474Z",
     "start_time": "2019-09-02T19:46:06.716642Z"
    }
   },
   "outputs": [],
   "source": [
    "class Solution(object):\n",
    "    def groupAnagrams(self, strs):\n",
    "        \"\"\"\n",
    "        :type strs: List[str]\n",
    "        :rtype: List[List[str]]\n",
    "        \"\"\"\n",
    "        if not strs:\n",
    "            return\n",
    "        hash_table = collections.defaultdict(list)\n",
    "        for i in strs:\n",
    "            hash_table[tuple(sorted(i))] += [i]\n",
    "        return list(hash_table.values())"
   ]
  },
  {
   "cell_type": "code",
   "execution_count": 31,
   "metadata": {
    "ExecuteTime": {
     "end_time": "2019-09-02T19:57:27.321992Z",
     "start_time": "2019-09-02T19:57:27.315841Z"
    }
   },
   "outputs": [],
   "source": [
    "class Solution(object):\n",
    "    def groupAnagrams(self, strs):\n",
    "        \"\"\"\n",
    "        :type strs: List[str]\n",
    "        :rtype: List[List[str]]\n",
    "        \"\"\"\n",
    "        if not strs:\n",
    "            return\n",
    "        hash_table = collections.defaultdict(list)\n",
    "        for s in strs:\n",
    "            hash_table[tuple(self.countingsort(s))] += [s]\n",
    "        return list(hash_table.values())\n",
    "    \n",
    "    def countingsort(self, string):\n",
    "        res = [0] * 26\n",
    "        for s in string:\n",
    "            res[ord(s) - 97] += 1\n",
    "        return ''.join(map(str, res))"
   ]
  },
  {
   "cell_type": "code",
   "execution_count": null,
   "metadata": {},
   "outputs": [],
   "source": []
  }
 ],
 "metadata": {
  "kernelspec": {
   "display_name": "Python 3",
   "language": "python",
   "name": "python3"
  },
  "language_info": {
   "codemirror_mode": {
    "name": "ipython",
    "version": 3
   },
   "file_extension": ".py",
   "mimetype": "text/x-python",
   "name": "python",
   "nbconvert_exporter": "python",
   "pygments_lexer": "ipython3",
   "version": "3.7.1"
  },
  "toc": {
   "base_numbering": 1,
   "nav_menu": {},
   "number_sections": true,
   "sideBar": true,
   "skip_h1_title": false,
   "title_cell": "Table of Contents",
   "title_sidebar": "Contents",
   "toc_cell": false,
   "toc_position": {},
   "toc_section_display": true,
   "toc_window_display": false
  }
 },
 "nbformat": 4,
 "nbformat_minor": 2
}
