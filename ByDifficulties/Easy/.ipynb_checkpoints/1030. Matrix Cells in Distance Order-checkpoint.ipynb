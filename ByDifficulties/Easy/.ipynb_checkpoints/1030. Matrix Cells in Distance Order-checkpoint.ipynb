{
 "cells": [
  {
   "cell_type": "code",
   "execution_count": 13,
   "metadata": {
    "ExecuteTime": {
     "end_time": "2019-06-02T06:53:27.644767Z",
     "start_time": "2019-06-02T06:53:27.638956Z"
    }
   },
   "outputs": [],
   "source": [
    "class Solution(object):\n",
    "    def allCellsDistOrder(self, R, C, r0, c0):\n",
    "        \"\"\"\n",
    "        :type R: int\n",
    "        :type C: int\n",
    "        :type r0: int\n",
    "        :type c0: int\n",
    "        :rtype: List[List[int]]\n",
    "        \"\"\"\n",
    "        queue = [(r0, c0)]\n",
    "        visited = set()\n",
    "        res = []\n",
    "        while queue:\n",
    "            r, c = queue.pop(0)\n",
    "            if (r < 0) or (r >= R) or (c < 0) or (c >= C):\n",
    "                continue\n",
    "            if (r, c) in visited:\n",
    "                continue\n",
    "            res.append([r, c])\n",
    "            visited.add((r, c))\n",
    "            queue.append((r, c - 1))\n",
    "            queue.append((r, c + 1))\n",
    "            queue.append((r - 1, c))\n",
    "            queue.append((r + 1, c))\n",
    "        return res\n",
    "            \n",
    "        "
   ]
  },
  {
   "cell_type": "code",
   "execution_count": null,
   "metadata": {},
   "outputs": [],
   "source": []
  }
 ],
 "metadata": {
  "kernelspec": {
   "display_name": "Python 3",
   "language": "python",
   "name": "python3"
  },
  "language_info": {
   "codemirror_mode": {
    "name": "ipython",
    "version": 3
   },
   "file_extension": ".py",
   "mimetype": "text/x-python",
   "name": "python",
   "nbconvert_exporter": "python",
   "pygments_lexer": "ipython3",
   "version": "3.7.1"
  },
  "toc": {
   "base_numbering": 1,
   "nav_menu": {},
   "number_sections": true,
   "sideBar": true,
   "skip_h1_title": false,
   "title_cell": "Table of Contents",
   "title_sidebar": "Contents",
   "toc_cell": false,
   "toc_position": {},
   "toc_section_display": true,
   "toc_window_display": false
  }
 },
 "nbformat": 4,
 "nbformat_minor": 2
}
