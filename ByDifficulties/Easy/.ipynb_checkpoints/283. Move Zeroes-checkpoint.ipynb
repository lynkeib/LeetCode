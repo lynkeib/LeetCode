{
 "cells": [
  {
   "cell_type": "code",
   "execution_count": 2,
   "metadata": {
    "ExecuteTime": {
     "end_time": "2019-09-06T16:48:33.932654Z",
     "start_time": "2019-09-06T16:48:33.927654Z"
    }
   },
   "outputs": [],
   "source": [
    "class Solution(object):\n",
    "    def moveZeroes(self, nums):\n",
    "        \"\"\"\n",
    "        :type nums: List[int]\n",
    "        :rtype: None Do not return anything, modify nums in-place instead.\n",
    "        \"\"\"\n",
    "        insert = 0\n",
    "        for num in nums:\n",
    "            if num != 0:\n",
    "                nums[insert] = num\n",
    "                insert += 1\n",
    "        while insert < len(nums):\n",
    "            nums[insert] = 0\n",
    "            insert += 1\n",
    "        return "
   ]
  },
  {
   "cell_type": "code",
   "execution_count": 1,
   "metadata": {
    "ExecuteTime": {
     "end_time": "2019-09-06T16:47:01.269631Z",
     "start_time": "2019-09-06T16:47:01.262366Z"
    }
   },
   "outputs": [],
   "source": [
    "class Solution(object):\n",
    "    def moveZeroes(self, nums):\n",
    "        \"\"\"\n",
    "        :type nums: List[int]\n",
    "        :rtype: None Do not return anything, modify nums in-place instead.\n",
    "        \"\"\"\n",
    "        count = 0\n",
    "        for index in range(len(nums)-1):\n",
    "            if nums[index] == 0:\n",
    "                if nums[index+1] == 0:\n",
    "                    count += 1\n",
    "                nums[index], nums[index+1] = nums[index+1], nums[index]\n",
    "        # print(count)\n",
    "        for i in range(count):\n",
    "            for index in range(len(nums)-1):\n",
    "                 if nums[index] == 0:\n",
    "                    nums[index], nums[index+1] = nums[index+1], nums[index]\n",
    "        return "
   ]
  },
  {
   "cell_type": "code",
   "execution_count": null,
   "metadata": {},
   "outputs": [],
   "source": []
  }
 ],
 "metadata": {
  "kernelspec": {
   "display_name": "Python 3",
   "language": "python",
   "name": "python3"
  },
  "language_info": {
   "codemirror_mode": {
    "name": "ipython",
    "version": 3
   },
   "file_extension": ".py",
   "mimetype": "text/x-python",
   "name": "python",
   "nbconvert_exporter": "python",
   "pygments_lexer": "ipython3",
   "version": "3.7.1"
  },
  "toc": {
   "base_numbering": 1,
   "nav_menu": {},
   "number_sections": true,
   "sideBar": true,
   "skip_h1_title": false,
   "title_cell": "Table of Contents",
   "title_sidebar": "Contents",
   "toc_cell": false,
   "toc_position": {},
   "toc_section_display": true,
   "toc_window_display": false
  }
 },
 "nbformat": 4,
 "nbformat_minor": 2
}
