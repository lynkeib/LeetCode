{
 "cells": [
  {
   "cell_type": "code",
   "execution_count": 20,
   "metadata": {},
   "outputs": [],
   "source": [
    "import collections\n",
    "class Solution(object):\n",
    "    def backspaceCompare(self, S, T):\n",
    "        \"\"\"\n",
    "        :type S: str\n",
    "        :type T: str\n",
    "        :rtype: bool\n",
    "        \"\"\"\n",
    "        RS = collections.deque()\n",
    "        TS = collections.deque()\n",
    "        for string in S:\n",
    "            if string != \"#\":\n",
    "                RS.append(string)\n",
    "            else:\n",
    "                if len(RS) != 0:\n",
    "                    RS.pop()\n",
    "        for string in T:\n",
    "            if string != \"#\":\n",
    "                TS.append(string)\n",
    "            else:\n",
    "                if len(TS) != 0:\n",
    "                    TS.pop()\n",
    "        return RS == TS"
   ]
  },
  {
   "cell_type": "code",
   "execution_count": null,
   "metadata": {},
   "outputs": [],
   "source": []
  }
 ],
 "metadata": {
  "kernelspec": {
   "display_name": "Python 3",
   "language": "python",
   "name": "python3"
  },
  "language_info": {
   "codemirror_mode": {
    "name": "ipython",
    "version": 3
   },
   "file_extension": ".py",
   "mimetype": "text/x-python",
   "name": "python",
   "nbconvert_exporter": "python",
   "pygments_lexer": "ipython3",
   "version": "3.7.2"
  }
 },
 "nbformat": 4,
 "nbformat_minor": 2
}
