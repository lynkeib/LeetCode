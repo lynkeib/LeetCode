{
 "cells": [
  {
   "cell_type": "code",
   "execution_count": 25,
   "metadata": {
    "ExecuteTime": {
     "end_time": "2019-05-15T05:08:26.763236Z",
     "start_time": "2019-05-15T05:08:26.756022Z"
    }
   },
   "outputs": [],
   "source": [
    "class Solution(object):\n",
    "    def findAnagrams(self, s, p):\n",
    "        \"\"\"\n",
    "        :type s: str\n",
    "        :type p: str\n",
    "        :rtype: List[int]\n",
    "        \"\"\"\n",
    "        len_p = len(p)\n",
    "        len_s = len(s)\n",
    "        if len_p > len_s:\n",
    "            return []\n",
    "        res = []\n",
    "        p_c = collections.Counter(p)\n",
    "        s_c = collections.Counter(s[:len_p-1])\n",
    "        for i in range(len_p - 1, len_s):\n",
    "            s_c[s[i]] += 1\n",
    "            if s_c == p_c:\n",
    "                res.append(i - len_p + 1)\n",
    "            s_c[s[i - len_p + 1]] -= 1\n",
    "            if s_c[s[i - len_p + 1]] == 0:\n",
    "                del s_c[s[i - len_p + 1]]\n",
    "        return res"
   ]
  },
  {
   "cell_type": "code",
   "execution_count": null,
   "metadata": {},
   "outputs": [],
   "source": []
  }
 ],
 "metadata": {
  "kernelspec": {
   "display_name": "Python 3",
   "language": "python",
   "name": "python3"
  },
  "language_info": {
   "codemirror_mode": {
    "name": "ipython",
    "version": 3
   },
   "file_extension": ".py",
   "mimetype": "text/x-python",
   "name": "python",
   "nbconvert_exporter": "python",
   "pygments_lexer": "ipython3",
   "version": "3.7.1"
  },
  "toc": {
   "base_numbering": 1,
   "nav_menu": {},
   "number_sections": true,
   "sideBar": true,
   "skip_h1_title": false,
   "title_cell": "Table of Contents",
   "title_sidebar": "Contents",
   "toc_cell": false,
   "toc_position": {},
   "toc_section_display": true,
   "toc_window_display": false
  }
 },
 "nbformat": 4,
 "nbformat_minor": 2
}
