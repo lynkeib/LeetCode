{
 "cells": [
  {
   "cell_type": "code",
   "execution_count": 3,
   "metadata": {},
   "outputs": [],
   "source": [
    "# Definition for singly-linked list.\n",
    "# class ListNode(object):\n",
    "#     def __init__(self, x):\n",
    "#         self.val = x\n",
    "#         self.next = None\n",
    "\n",
    "class Solution(object):\n",
    "    def mergeTwoLists(self, l1, l2):\n",
    "        \"\"\"\n",
    "        :type l1: ListNode\n",
    "        :type l2: ListNode\n",
    "        :rtype: ListNode\n",
    "        \"\"\"\n",
    "        res = []\n",
    "        while l1 and l2:\n",
    "            if l1.val <= l2.val:\n",
    "                res.append(l1)\n",
    "                l1 = l1.next\n",
    "            else:\n",
    "                res.append(l2)\n",
    "                l2 = l2.next\n",
    "        while l1:\n",
    "            res.append(l1)\n",
    "            l1 = l1.next\n",
    "        while l2:\n",
    "            res.append(l2)\n",
    "            l2 = l2.next\n",
    "        if not res:\n",
    "            return l1\n",
    "        for i in range(len(res) - 1):\n",
    "            res[i].next = res[i + 1]\n",
    "        return res[0]"
   ]
  },
  {
   "cell_type": "code",
   "execution_count": 4,
   "metadata": {},
   "outputs": [],
   "source": [
    "# Definition for singly-linked list.\n",
    "# class ListNode(object):\n",
    "#     def __init__(self, x):\n",
    "#         self.val = x\n",
    "#         self.next = None\n",
    "\n",
    "class Solution(object):\n",
    "    def mergeTwoLists(self, l1, l2):\n",
    "        \"\"\"\n",
    "        :type l1: ListNode\n",
    "        :type l2: ListNode\n",
    "        :rtype: ListNode\n",
    "        \"\"\"\n",
    "        sudo_head = cur = ListNode(-1)\n",
    "        while l1 and l2:\n",
    "            if l1.val <= l2.val:\n",
    "                cur.next = l1\n",
    "                l1 = l1.next\n",
    "            else:\n",
    "                cur.next = l2\n",
    "                l2 = l2.next\n",
    "            cur = cur.next\n",
    "        while l1:\n",
    "            cur.next = l1\n",
    "            l1 = l1.next\n",
    "            cur = cur.next\n",
    "        while l2:\n",
    "            cur.next = l2\n",
    "            l2 = l2.next\n",
    "            cur = cur.next\n",
    "        return sudo_head.next                "
   ]
  },
  {
   "cell_type": "code",
   "execution_count": null,
   "metadata": {},
   "outputs": [],
   "source": []
  }
 ],
 "metadata": {
  "kernelspec": {
   "display_name": "Python 3",
   "language": "python",
   "name": "python3"
  },
  "language_info": {
   "codemirror_mode": {
    "name": "ipython",
    "version": 2
   },
   "file_extension": ".py",
   "mimetype": "text/x-python",
   "name": "python",
   "nbconvert_exporter": "python",
   "pygments_lexer": "ipython2",
   "version": "2.7.15"
  }
 },
 "nbformat": 4,
 "nbformat_minor": 2
}
