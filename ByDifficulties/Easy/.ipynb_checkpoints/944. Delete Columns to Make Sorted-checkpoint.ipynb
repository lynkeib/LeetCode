{
 "cells": [
  {
   "cell_type": "code",
   "execution_count": 13,
   "metadata": {},
   "outputs": [],
   "source": [
    "A = [\"abcdef\",\"uvwxyz\", 'nbhgjd']"
   ]
  },
  {
   "cell_type": "code",
   "execution_count": 25,
   "metadata": {},
   "outputs": [
    {
     "data": {
      "text/plain": [
       "zip"
      ]
     },
     "execution_count": 25,
     "metadata": {},
     "output_type": "execute_result"
    }
   ],
   "source": [
    "type(zip(*A))"
   ]
  },
  {
   "cell_type": "code",
   "execution_count": 14,
   "metadata": {},
   "outputs": [],
   "source": [
    "zip_list = list(zip(*A))"
   ]
  },
  {
   "cell_type": "code",
   "execution_count": 15,
   "metadata": {},
   "outputs": [
    {
     "data": {
      "text/plain": [
       "[('a', 'u', 'n'),\n",
       " ('b', 'v', 'b'),\n",
       " ('c', 'w', 'h'),\n",
       " ('d', 'x', 'g'),\n",
       " ('e', 'y', 'j'),\n",
       " ('f', 'z', 'd')]"
      ]
     },
     "execution_count": 15,
     "metadata": {},
     "output_type": "execute_result"
    }
   ],
   "source": [
    "zip_list"
   ]
  },
  {
   "cell_type": "code",
   "execution_count": 24,
   "metadata": {},
   "outputs": [
    {
     "data": {
      "text/plain": [
       "('u', 'n')"
      ]
     },
     "execution_count": 24,
     "metadata": {},
     "output_type": "execute_result"
    }
   ],
   "source": [
    "zip_list[0][1:]"
   ]
  },
  {
   "cell_type": "code",
   "execution_count": 23,
   "metadata": {},
   "outputs": [
    {
     "data": {
      "text/plain": [
       "[('a', 'u'), ('u', 'n')]"
      ]
     },
     "execution_count": 23,
     "metadata": {},
     "output_type": "execute_result"
    }
   ],
   "source": [
    "list(zip(zip_list[0],zip_list[0][1:]))"
   ]
  },
  {
   "cell_type": "markdown",
   "metadata": {},
   "source": [
    "When using the **zip** function in python, for multiple equal length lists, it will return the combinations of each element in these lists in the type of generator. When providing the **zip** function with multiple unequal length lists, it will take the shortest length among those lists and return the generator."
   ]
  },
  {
   "cell_type": "code",
   "execution_count": 40,
   "metadata": {},
   "outputs": [
    {
     "data": {
      "text/plain": [
       "[[('a', 'u'), ('u', 'n')],\n",
       " [('b', 'v'), ('v', 'b')],\n",
       " [('c', 'w'), ('w', 'h')],\n",
       " [('d', 'x'), ('x', 'g')],\n",
       " [('e', 'y'), ('y', 'j')],\n",
       " [('f', 'z'), ('z', 'd')]]"
      ]
     },
     "execution_count": 40,
     "metadata": {},
     "output_type": "execute_result"
    }
   ],
   "source": [
    "[list(zip(comb,comb[1:])) for comb in zip(*A)]"
   ]
  },
  {
   "cell_type": "code",
   "execution_count": 56,
   "metadata": {},
   "outputs": [
    {
     "name": "stdout",
     "output_type": "stream",
     "text": [
      "('a', 'u')\n",
      "('u', 'n')\n",
      "('b', 'v')\n",
      "('v', 'b')\n",
      "('c', 'w')\n",
      "('w', 'h')\n",
      "('d', 'x')\n",
      "('x', 'g')\n",
      "('e', 'y')\n",
      "('y', 'j')\n",
      "('f', 'z')\n",
      "('z', 'd')\n"
     ]
    }
   ],
   "source": [
    "for comb in zip(*A):\n",
    "    for ele in list(zip(comb, comb[1:])):\n",
    "        print(ele)"
   ]
  },
  {
   "cell_type": "code",
   "execution_count": 30,
   "metadata": {},
   "outputs": [],
   "source": [
    "def minDeletionSize(A):\n",
    "        \"\"\"\n",
    "        \n",
    "        :type A: List[str]\n",
    "        :rtype: int\n",
    "        \"\"\"\n",
    "        return sum(any(a > b for a, b in zip(item,item[1:])) for item in zip(*A))"
   ]
  },
  {
   "cell_type": "code",
   "execution_count": 31,
   "metadata": {},
   "outputs": [],
   "source": [
    "A = [\"zyx\",\"wvu\",\"tsr\"]"
   ]
  },
  {
   "cell_type": "code",
   "execution_count": 32,
   "metadata": {},
   "outputs": [
    {
     "data": {
      "text/plain": [
       "3"
      ]
     },
     "execution_count": 32,
     "metadata": {},
     "output_type": "execute_result"
    }
   ],
   "source": [
    "minDeletionSize(A)"
   ]
  },
  {
   "cell_type": "code",
   "execution_count": null,
   "metadata": {},
   "outputs": [],
   "source": []
  }
 ],
 "metadata": {
  "kernelspec": {
   "display_name": "Python 3",
   "language": "python",
   "name": "python3"
  },
  "language_info": {
   "codemirror_mode": {
    "name": "ipython",
    "version": 3
   },
   "file_extension": ".py",
   "mimetype": "text/x-python",
   "name": "python",
   "nbconvert_exporter": "python",
   "pygments_lexer": "ipython3",
   "version": "3.7.2"
  }
 },
 "nbformat": 4,
 "nbformat_minor": 2
}
