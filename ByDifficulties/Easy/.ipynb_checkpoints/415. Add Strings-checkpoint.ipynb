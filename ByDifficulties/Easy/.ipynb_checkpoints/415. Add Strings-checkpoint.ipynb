{
 "cells": [
  {
   "cell_type": "code",
   "execution_count": 9,
   "metadata": {},
   "outputs": [],
   "source": [
    "class Solution(object):\n",
    "    def addStrings(self, num1, num2):\n",
    "        \"\"\"\n",
    "        :type num1: str\n",
    "        :type num2: str\n",
    "        :rtype: str\n",
    "        \"\"\"\n",
    "        comb = itertools.zip_longest(num1[::-1], num2[::-1], fillvalue = '0')\n",
    "        res, carry, zero2 = [], 0, 2 * ord('0')\n",
    "        for i in comb:\n",
    "            curr_sum = ord(i[0]) + ord(i[1]) - zero2 + carry\n",
    "            res.append(str(curr_sum % 10))\n",
    "            carry = curr_sum // 10\n",
    "        return ('1' if carry else '') + ''.join(res[::-1])"
   ]
  },
  {
   "cell_type": "code",
   "execution_count": 1,
   "metadata": {
    "ExecuteTime": {
     "end_time": "2019-09-09T01:49:11.022322Z",
     "start_time": "2019-09-09T01:49:11.016095Z"
    }
   },
   "outputs": [],
   "source": [
    "class Solution(object):\n",
    "    def addStrings(self, num1, num2):\n",
    "        \"\"\"\n",
    "        :type num1: str\n",
    "        :type num2: str\n",
    "        :rtype: str\n",
    "        \"\"\"\n",
    "        num1, num2 = list(num1), list(num2)\n",
    "        res = []\n",
    "        remain = 0\n",
    "        while num1 or num2:\n",
    "            n1 = ord(num1.pop()) - ord('0') if num1 else 0\n",
    "            n2 = ord(num2.pop()) - ord('0') if num2 else 0\n",
    "            s = n1 + n2 + remain\n",
    "            res.append(s%10)\n",
    "            remain = s // 10\n",
    "        if remain:\n",
    "            res.append(remain)\n",
    "        return ''.join(list(map(str, res))[::-1])"
   ]
  },
  {
   "cell_type": "code",
   "execution_count": null,
   "metadata": {},
   "outputs": [],
   "source": []
  }
 ],
 "metadata": {
  "kernelspec": {
   "display_name": "Python 3",
   "language": "python",
   "name": "python3"
  },
  "language_info": {
   "codemirror_mode": {
    "name": "ipython",
    "version": 3
   },
   "file_extension": ".py",
   "mimetype": "text/x-python",
   "name": "python",
   "nbconvert_exporter": "python",
   "pygments_lexer": "ipython3",
   "version": "3.7.1"
  },
  "toc": {
   "base_numbering": 1,
   "nav_menu": {},
   "number_sections": true,
   "sideBar": true,
   "skip_h1_title": false,
   "title_cell": "Table of Contents",
   "title_sidebar": "Contents",
   "toc_cell": false,
   "toc_position": {},
   "toc_section_display": true,
   "toc_window_display": false
  }
 },
 "nbformat": 4,
 "nbformat_minor": 2
}
