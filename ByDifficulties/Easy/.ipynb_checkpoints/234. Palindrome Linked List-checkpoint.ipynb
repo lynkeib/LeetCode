{
 "cells": [
  {
   "cell_type": "code",
   "execution_count": 1,
   "metadata": {
    "ExecuteTime": {
     "end_time": "2019-09-07T18:17:41.063055Z",
     "start_time": "2019-09-07T18:17:41.053774Z"
    }
   },
   "outputs": [],
   "source": [
    "# Definition for singly-linked list.\n",
    "# class ListNode(object):\n",
    "#     def __init__(self, x):\n",
    "#         self.val = x\n",
    "#         self.next = None\n",
    "\n",
    "class Solution(object):\n",
    "    def isPalindrome(self, head):\n",
    "        \"\"\"\n",
    "        :type head: ListNode\n",
    "        :rtype: bool\n",
    "        \"\"\"\n",
    "        if not head or not head.next:\n",
    "            return True\n",
    "        slow, fast  = head, head\n",
    "        while fast.next and fast.next.next:\n",
    "            slow = slow.next\n",
    "            fast = fast.next.next\n",
    "        \n",
    "        if not fast.next:\n",
    "            l2 = slow.next\n",
    "            slow.next = None\n",
    "            l1 = self.reverse(head)\n",
    "            l1 = l1.next\n",
    "        else:\n",
    "            l1 = head\n",
    "            l2 = slow.next\n",
    "            slow.next = None\n",
    "            l2 = self.reverse(l2)\n",
    "            \n",
    "        \n",
    "        while l1 or l2:\n",
    "            if not l1 or not l2:\n",
    "                return False\n",
    "            if l1.val != l2.val:\n",
    "                return False\n",
    "            l1 = l1.next\n",
    "            l2 = l2.next\n",
    "        return True\n",
    "    \n",
    "    def reverse(self, head):\n",
    "        if not head or not head.next:\n",
    "            return head\n",
    "        new_head = self.reverse(head.next)\n",
    "        next_node = head.next\n",
    "        next_node.next = head\n",
    "        head.next = None\n",
    "        return new_head"
   ]
  },
  {
   "cell_type": "code",
   "execution_count": null,
   "metadata": {},
   "outputs": [],
   "source": []
  }
 ],
 "metadata": {
  "kernelspec": {
   "display_name": "Python 3",
   "language": "python",
   "name": "python3"
  },
  "language_info": {
   "codemirror_mode": {
    "name": "ipython",
    "version": 3
   },
   "file_extension": ".py",
   "mimetype": "text/x-python",
   "name": "python",
   "nbconvert_exporter": "python",
   "pygments_lexer": "ipython3",
   "version": "3.7.1"
  },
  "toc": {
   "base_numbering": 1,
   "nav_menu": {},
   "number_sections": true,
   "sideBar": true,
   "skip_h1_title": false,
   "title_cell": "Table of Contents",
   "title_sidebar": "Contents",
   "toc_cell": false,
   "toc_position": {},
   "toc_section_display": true,
   "toc_window_display": false
  }
 },
 "nbformat": 4,
 "nbformat_minor": 2
}
