{
 "cells": [
  {
   "cell_type": "code",
   "execution_count": 1,
   "metadata": {},
   "outputs": [],
   "source": [
    "class Solution(object):\n",
    "    def floodFill(self, image, sr, sc, newColor):\n",
    "        \"\"\"\n",
    "        :type image: List[List[int]]\n",
    "        :type sr: int\n",
    "        :type sc: int\n",
    "        :type newColor: int\n",
    "        :rtype: List[List[int]]\n",
    "        \"\"\"\n",
    "        if image[sr][sc] != newColor:\n",
    "            last = image[sr][sc]\n",
    "            image[sr][sc] = newColor\n",
    "            if (sr >= 0) and (sc + 1 < len(image[0])):\n",
    "                if image[sr][sc + 1] == last:\n",
    "                    self.floodFill(image, sr, sc + 1, newColor)\n",
    "            if (sr >= 0) and (sc - 1 >= 0):\n",
    "                if image[sr][sc - 1] == last:\n",
    "                    self.floodFill(image, sr, sc - 1, newColor)\n",
    "            if (sr - 1 >= 0) and (sc >= 0):\n",
    "                if image[sr - 1][sc] == last:\n",
    "                    self.floodFill(image, sr - 1, sc, newColor)\n",
    "            if (sr + 1 < len(image)) and (sc >= 0):\n",
    "                if image[sr + 1][sc] == last:\n",
    "                    self.floodFill(image, sr + 1, sc, newColor)\n",
    "        return image"
   ]
  },
  {
   "cell_type": "code",
   "execution_count": null,
   "metadata": {},
   "outputs": [],
   "source": []
  }
 ],
 "metadata": {
  "kernelspec": {
   "display_name": "Python 3",
   "language": "python",
   "name": "python3"
  },
  "language_info": {
   "codemirror_mode": {
    "name": "ipython",
    "version": 3
   },
   "file_extension": ".py",
   "mimetype": "text/x-python",
   "name": "python",
   "nbconvert_exporter": "python",
   "pygments_lexer": "ipython3",
   "version": "3.6.8"
  },
  "toc": {
   "base_numbering": 1,
   "nav_menu": {},
   "number_sections": true,
   "sideBar": true,
   "skip_h1_title": false,
   "title_cell": "Table of Contents",
   "title_sidebar": "Contents",
   "toc_cell": false,
   "toc_position": {},
   "toc_section_display": true,
   "toc_window_display": false
  }
 },
 "nbformat": 4,
 "nbformat_minor": 2
}
