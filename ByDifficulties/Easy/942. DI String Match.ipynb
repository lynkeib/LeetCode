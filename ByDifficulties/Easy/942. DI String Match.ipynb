{
 "cells": [
  {
   "cell_type": "code",
   "execution_count": 7,
   "metadata": {},
   "outputs": [],
   "source": [
    "def diStringMatch(S):\n",
    "    left = right = 0\n",
    "    res = [0]\n",
    "    for i in S:\n",
    "        if i == \"I\":\n",
    "            right += 1\n",
    "            res.append(right)\n",
    "        else:\n",
    "            left -= 1\n",
    "            res.append(left)\n",
    "        print(res)\n",
    "    return [i - left for i in res]"
   ]
  },
  {
   "cell_type": "code",
   "execution_count": 8,
   "metadata": {},
   "outputs": [
    {
     "name": "stdout",
     "output_type": "stream",
     "text": [
      "[0, 1]\n",
      "[0, 1, -1]\n",
      "[0, 1, -1, -2]\n",
      "[0, 1, -1, -2, 2]\n",
      "[0, 1, -1, -2, 2, 3]\n",
      "[0, 1, -1, -2, 2, 3, -3]\n",
      "[0, 1, -1, -2, 2, 3, -3, 4]\n",
      "[0, 1, -1, -2, 2, 3, -3, 4, -4]\n"
     ]
    },
    {
     "data": {
      "text/plain": [
       "[4, 5, 3, 2, 6, 7, 1, 8, 0]"
      ]
     },
     "execution_count": 8,
     "metadata": {},
     "output_type": "execute_result"
    }
   ],
   "source": [
    "diStringMatch(\"IDDIIDID\")"
   ]
  },
  {
   "cell_type": "code",
   "execution_count": 11,
   "metadata": {},
   "outputs": [],
   "source": [
    "def diStringMatch(S):\n",
    "    small = 0\n",
    "    big = len(S)\n",
    "    res = []\n",
    "    for i in S:\n",
    "        if i == \"I\":\n",
    "            res.append(small)\n",
    "            small += 1\n",
    "        else:\n",
    "            res.append(big)\n",
    "            big -= 1\n",
    "    res.append(small)\n",
    "    return res"
   ]
  },
  {
   "cell_type": "code",
   "execution_count": 12,
   "metadata": {},
   "outputs": [
    {
     "data": {
      "text/plain": [
       "[0, 8, 7, 1, 2, 6, 3, 5, 4]"
      ]
     },
     "execution_count": 12,
     "metadata": {},
     "output_type": "execute_result"
    }
   ],
   "source": [
    "diStringMatch(\"IDDIIDID\")"
   ]
  },
  {
   "cell_type": "code",
   "execution_count": null,
   "metadata": {},
   "outputs": [],
   "source": []
  }
 ],
 "metadata": {
  "kernelspec": {
   "display_name": "Python 3",
   "language": "python",
   "name": "python3"
  },
  "language_info": {
   "codemirror_mode": {
    "name": "ipython",
    "version": 3
   },
   "file_extension": ".py",
   "mimetype": "text/x-python",
   "name": "python",
   "nbconvert_exporter": "python",
   "pygments_lexer": "ipython3",
   "version": "3.7.2"
  }
 },
 "nbformat": 4,
 "nbformat_minor": 2
}
