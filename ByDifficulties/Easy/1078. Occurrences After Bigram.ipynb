{
 "cells": [
  {
   "cell_type": "code",
   "execution_count": 1,
   "metadata": {},
   "outputs": [],
   "source": [
    "class Solution(object):\n",
    "    def findOcurrences(self, text, first, second):\n",
    "        \"\"\"\n",
    "        :type text: str\n",
    "        :type first: str\n",
    "        :type second: str\n",
    "        :rtype: List[str]\n",
    "        \"\"\"\n",
    "        text = text.split(' ')\n",
    "        if len(text) < 3:\n",
    "            return []\n",
    "        res = []\n",
    "        for i in range(len(text) - 2):\n",
    "            if text[i] == first:\n",
    "                if text[i + 1] == second:\n",
    "                    res.append(text[i + 2])\n",
    "        return res\n",
    "                "
   ]
  },
  {
   "cell_type": "code",
   "execution_count": 2,
   "metadata": {},
   "outputs": [],
   "source": [
    "class Solution(object):\n",
    "    def findOcurrences(self, text, first, second):\n",
    "        \"\"\"\n",
    "        :type text: str\n",
    "        :type first: str\n",
    "        :type second: str\n",
    "        :rtype: List[str]\n",
    "        \"\"\"\n",
    "        text = text.split(' ')\n",
    "        if len(text) < 3:\n",
    "            return []\n",
    "        check = list(zip(text, text[1:]))\n",
    "        res = []\n",
    "        for i in range(len(check) - 1):\n",
    "            if check[i][0] == first and check[i][1] == second:\n",
    "                res.append(check[i + 1][1])\n",
    "        return res\n",
    "                "
   ]
  },
  {
   "cell_type": "code",
   "execution_count": 3,
   "metadata": {},
   "outputs": [],
   "source": [
    "class Solution(object):\n",
    "    def findOcurrences(self, text, first, second):\n",
    "        \"\"\"\n",
    "        :type text: str\n",
    "        :type first: str\n",
    "        :type second: str\n",
    "        :rtype: List[str]\n",
    "        \"\"\"\n",
    "        text = text.split(' ')\n",
    "        if len(text) < 3:\n",
    "            return []\n",
    "        dic = {}\n",
    "        for i in range(len(text) - 2):\n",
    "            dic.setdefault((text[i], text[i + 1]), []).append(text[i + 2])\n",
    "        if (first, second) in dic:\n",
    "            return dic[(first, second)]\n",
    "        else:\n",
    "            return []\n",
    "                "
   ]
  },
  {
   "cell_type": "code",
   "execution_count": null,
   "metadata": {},
   "outputs": [],
   "source": []
  }
 ],
 "metadata": {
  "kernelspec": {
   "display_name": "Python 3",
   "language": "python",
   "name": "python3"
  },
  "language_info": {
   "codemirror_mode": {
    "name": "ipython",
    "version": 3
   },
   "file_extension": ".py",
   "mimetype": "text/x-python",
   "name": "python",
   "nbconvert_exporter": "python",
   "pygments_lexer": "ipython3",
   "version": "3.7.3"
  }
 },
 "nbformat": 4,
 "nbformat_minor": 2
}
