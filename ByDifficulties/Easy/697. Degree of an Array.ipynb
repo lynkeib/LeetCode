{
 "cells": [
  {
   "cell_type": "code",
   "execution_count": 18,
   "metadata": {},
   "outputs": [],
   "source": [
    "class Solution(object):\n",
    "    def findShortestSubArray(self, nums):\n",
    "        \"\"\"\n",
    "        :type nums: List[int]\n",
    "        :rtype: int\n",
    "        \"\"\"\n",
    "        location = {}\n",
    "        counter = {}\n",
    "        res = 0\n",
    "        f = 0\n",
    "        for index, value in enumerate(nums):\n",
    "            location.setdefault(value, index)\n",
    "            counter[value] = counter.get(value, 0) + 1\n",
    "            if counter[value] > f:\n",
    "                f = counter[value]\n",
    "                res = index - location[value] + 1\n",
    "            elif counter[value] == f:\n",
    "                res = min(res, index - location[value] + 1)\n",
    "        return res"
   ]
  },
  {
   "cell_type": "code",
   "execution_count": null,
   "metadata": {},
   "outputs": [],
   "source": []
  }
 ],
 "metadata": {
  "kernelspec": {
   "display_name": "Python 3",
   "language": "python",
   "name": "python3"
  },
  "language_info": {
   "codemirror_mode": {
    "name": "ipython",
    "version": 2
   },
   "file_extension": ".py",
   "mimetype": "text/x-python",
   "name": "python",
   "nbconvert_exporter": "python",
   "pygments_lexer": "ipython2",
   "version": "2.7.15"
  }
 },
 "nbformat": 4,
 "nbformat_minor": 2
}
