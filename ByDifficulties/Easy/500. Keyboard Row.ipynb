{
 "cells": [
  {
   "cell_type": "code",
   "execution_count": 4,
   "metadata": {},
   "outputs": [],
   "source": [
    "class Solution(object):\n",
    "    def findWords(self, words):\n",
    "        \"\"\"\n",
    "        :type words: List[str]\n",
    "        :rtype: List[str]\n",
    "        \"\"\"\n",
    "        upper = ['q', 'w', 'e','r','t','y','u','i','o','p']\n",
    "        middle = ['a','s','d','f','g','h','j','k','l']\n",
    "        lower = ['z','x','c','v','b','n','m']\n",
    "        res = []\n",
    "        for word in words:\n",
    "            if word[0].lower() in upper:\n",
    "                temp = all([i in upper for i in word.lower()])\n",
    "                if temp:\n",
    "                    res.append(word)\n",
    "            elif word[0].lower() in middle:\n",
    "                temp = all([i in middle for i in word.lower()])\n",
    "                if temp:\n",
    "                    res.append(word)\n",
    "            else:\n",
    "                temp = all([i in lower for i in word.lower()])\n",
    "                if temp:\n",
    "                    res.append(word)\n",
    "        return res"
   ]
  },
  {
   "cell_type": "code",
   "execution_count": 5,
   "metadata": {},
   "outputs": [],
   "source": [
    "class Solution(object):\n",
    "    def findWords(self, words):\n",
    "        \"\"\"\n",
    "        :type words: List[str]\n",
    "        :rtype: List[str]\n",
    "        \"\"\"\n",
    "        upper, middle, lower = set('qwertyuiop'), set('asdfghjkl'), set('zxcvbnm')\n",
    "        res = []\n",
    "        for word in words:\n",
    "            if set(word.lower()) .issubset(upper) or set(word.lower()) .issubset(middle) or set(word.lower()) .issubset(lower):\n",
    "                res.append(word)\n",
    "        return res"
   ]
  },
  {
   "cell_type": "code",
   "execution_count": null,
   "metadata": {},
   "outputs": [],
   "source": []
  }
 ],
 "metadata": {
  "kernelspec": {
   "display_name": "Python 3",
   "language": "python",
   "name": "python3"
  },
  "language_info": {
   "codemirror_mode": {
    "name": "ipython",
    "version": 3
   },
   "file_extension": ".py",
   "mimetype": "text/x-python",
   "name": "python",
   "nbconvert_exporter": "python",
   "pygments_lexer": "ipython3",
   "version": "3.7.2"
  },
  "toc": {
   "base_numbering": 1,
   "nav_menu": {},
   "number_sections": true,
   "sideBar": true,
   "skip_h1_title": false,
   "title_cell": "Table of Contents",
   "title_sidebar": "Contents",
   "toc_cell": false,
   "toc_position": {},
   "toc_section_display": true,
   "toc_window_display": false
  }
 },
 "nbformat": 4,
 "nbformat_minor": 2
}
