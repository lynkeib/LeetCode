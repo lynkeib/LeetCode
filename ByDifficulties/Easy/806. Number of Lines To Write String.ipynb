{
 "cells": [
  {
   "cell_type": "code",
   "execution_count": 12,
   "metadata": {},
   "outputs": [],
   "source": [
    "class Solution(object):\n",
    "    def numberOfLines(self, widths, S):\n",
    "        \"\"\"\n",
    "        :type widths: List[int]\n",
    "        :type S: str\n",
    "        :rtype: List[int]\n",
    "        \"\"\"\n",
    "        dic = dict(list(zip(list(map(chr, range(97, 123))), widths)))\n",
    "        lines = 1\n",
    "        letters = 0\n",
    "        for s in S:\n",
    "            temp_s = dic[s]\n",
    "            letters += temp_s\n",
    "            if letters > 100:\n",
    "                lines += 1\n",
    "                letters = temp_s\n",
    "        return [lines, letters]"
   ]
  },
  {
   "cell_type": "code",
   "execution_count": 15,
   "metadata": {},
   "outputs": [],
   "source": [
    "class Solution(object):\n",
    "    def numberOfLines(self, widths, S):\n",
    "        \"\"\"\n",
    "        :type widths: List[int]\n",
    "        :type S: str\n",
    "        :rtype: List[int]\n",
    "        \"\"\"\n",
    "        lines = 1\n",
    "        letters = 0\n",
    "        for s in S:\n",
    "            width = widths[ord(s) - ord('a')]\n",
    "            letters += width\n",
    "            if letters > 100:\n",
    "                lines += 1\n",
    "                letters = width\n",
    "        return [lines, letters]"
   ]
  },
  {
   "cell_type": "code",
   "execution_count": null,
   "metadata": {},
   "outputs": [],
   "source": []
  }
 ],
 "metadata": {
  "kernelspec": {
   "display_name": "Python 3",
   "language": "python",
   "name": "python3"
  },
  "language_info": {
   "codemirror_mode": {
    "name": "ipython",
    "version": 3
   },
   "file_extension": ".py",
   "mimetype": "text/x-python",
   "name": "python",
   "nbconvert_exporter": "python",
   "pygments_lexer": "ipython3",
   "version": "3.7.2"
  },
  "toc": {
   "base_numbering": 1,
   "nav_menu": {},
   "number_sections": true,
   "sideBar": true,
   "skip_h1_title": false,
   "title_cell": "Table of Contents",
   "title_sidebar": "Contents",
   "toc_cell": false,
   "toc_position": {},
   "toc_section_display": true,
   "toc_window_display": false
  }
 },
 "nbformat": 4,
 "nbformat_minor": 2
}
