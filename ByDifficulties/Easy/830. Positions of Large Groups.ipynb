{
 "cells": [
  {
   "cell_type": "code",
   "execution_count": 9,
   "metadata": {},
   "outputs": [],
   "source": [
    "class Solution(object):\n",
    "    def largeGroupPositions(self, S):\n",
    "        \"\"\"\n",
    "        :type S: str\n",
    "        :rtype: List[List[int]]\n",
    "        \"\"\"\n",
    "        counter = ['@', 0, 0]\n",
    "        res = []\n",
    "        for index, value in enumerate(S):\n",
    "            if value != counter[0]:\n",
    "                if counter[1] >= 3:\n",
    "                    res.append([counter[2], index - 1])\n",
    "                counter = [value, 1, index]\n",
    "            else:\n",
    "                counter[1] += 1\n",
    "        if counter[1] >=3:\n",
    "            res.append([counter[2], len(S) - 1])\n",
    "        return res"
   ]
  },
  {
   "cell_type": "code",
   "execution_count": null,
   "metadata": {},
   "outputs": [],
   "source": []
  }
 ],
 "metadata": {
  "kernelspec": {
   "display_name": "Python 3",
   "language": "python",
   "name": "python3"
  },
  "language_info": {
   "codemirror_mode": {
    "name": "ipython",
    "version": 2
   },
   "file_extension": ".py",
   "mimetype": "text/x-python",
   "name": "python",
   "nbconvert_exporter": "python",
   "pygments_lexer": "ipython2",
   "version": "2.7.15"
  }
 },
 "nbformat": 4,
 "nbformat_minor": 2
}
