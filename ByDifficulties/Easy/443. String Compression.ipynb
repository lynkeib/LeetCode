{
 "cells": [
  {
   "cell_type": "code",
   "execution_count": 50,
   "metadata": {},
   "outputs": [],
   "source": [
    "class Solution(object):\n",
    "    def compress(self, chars):\n",
    "        \"\"\"\n",
    "        :type chars: List[str]\n",
    "        :rtype: int\n",
    "        \"\"\"\n",
    "        res_index, curr_index = 0, 0\n",
    "        while curr_index < len(chars):\n",
    "            counter = 0\n",
    "            curr_char = chars[curr_index]\n",
    "            while curr_index < len(chars) and chars[curr_index] == curr_char:\n",
    "                counter += 1\n",
    "                curr_index += 1\n",
    "            chars[res_index] = curr_char\n",
    "            res_index += 1\n",
    "            if counter != 1:\n",
    "                for c in str(counter):\n",
    "                    chars[res_index] = str(c)\n",
    "                    res_index += 1\n",
    "        chars[:] = chars[:res_index]\n",
    "        return len(chars)"
   ]
  },
  {
   "cell_type": "code",
   "execution_count": null,
   "metadata": {},
   "outputs": [],
   "source": []
  }
 ],
 "metadata": {
  "kernelspec": {
   "display_name": "Python 3",
   "language": "python",
   "name": "python3"
  },
  "language_info": {
   "codemirror_mode": {
    "name": "ipython",
    "version": 3
   },
   "file_extension": ".py",
   "mimetype": "text/x-python",
   "name": "python",
   "nbconvert_exporter": "python",
   "pygments_lexer": "ipython3",
   "version": "3.7.3"
  }
 },
 "nbformat": 4,
 "nbformat_minor": 2
}
