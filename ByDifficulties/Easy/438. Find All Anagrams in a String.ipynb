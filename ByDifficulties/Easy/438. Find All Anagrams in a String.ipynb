{
 "cells": [
  {
   "cell_type": "markdown",
   "metadata": {},
   "source": [
    "# TLE"
   ]
  },
  {
   "cell_type": "code",
   "execution_count": 1,
   "metadata": {
    "ExecuteTime": {
     "end_time": "2019-09-08T04:41:34.694536Z",
     "start_time": "2019-09-08T04:41:34.684906Z"
    }
   },
   "outputs": [],
   "source": [
    "class Solution(object):\n",
    "    def findAnagrams(self, s, p):\n",
    "        \"\"\"\n",
    "        :type s: str\n",
    "        :type p: str\n",
    "        :rtype: List[int]\n",
    "        \"\"\"\n",
    "        len_s = len(s)\n",
    "        len_p = len(p)\n",
    "        if len_p > len_s:\n",
    "            return []\n",
    "        slow, fast = 0, 0\n",
    "        res = []\n",
    "        counter = collections.Counter(p)\n",
    "        while slow < len(s) and fast < len(s):\n",
    "            if s[fast] in counter:\n",
    "                c = counter.copy()\n",
    "                # print('index is ',fast)\n",
    "                # print(c)\n",
    "                while fast < len(s) and s[fast] in c and c[s[fast]] != 0:\n",
    "                    c[s[fast]] -= 1\n",
    "                    fast += 1\n",
    "                # print(c)\n",
    "                if sum(c.values()) == 0:\n",
    "                    # print('add', slow)\n",
    "                    res.append(slow)\n",
    "                    fast = slow + 1\n",
    "                    slow = slow + 1\n",
    "                elif fast < len(s) and s[fast] not in c:\n",
    "                    slow  = fast + 1\n",
    "                    fast += 1\n",
    "                else:\n",
    "                    fast = slow + 1\n",
    "                    slow += 1\n",
    "                # print('next', slow, fast)\n",
    "            else:\n",
    "                slow += 1\n",
    "                fast += 1\n",
    "        return res\n",
    "        "
   ]
  },
  {
   "cell_type": "code",
   "execution_count": null,
   "metadata": {},
   "outputs": [],
   "source": []
  },
  {
   "cell_type": "code",
   "execution_count": 25,
   "metadata": {
    "ExecuteTime": {
     "end_time": "2019-05-15T05:08:26.763236Z",
     "start_time": "2019-05-15T05:08:26.756022Z"
    }
   },
   "outputs": [],
   "source": [
    "class Solution(object):\n",
    "    def findAnagrams(self, s, p):\n",
    "        \"\"\"\n",
    "        :type s: str\n",
    "        :type p: str\n",
    "        :rtype: List[int]\n",
    "        \"\"\"\n",
    "        len_p = len(p)\n",
    "        len_s = len(s)\n",
    "        if len_p > len_s:\n",
    "            return []\n",
    "        res = []\n",
    "        p_c = collections.Counter(p)\n",
    "        s_c = collections.Counter(s[:len_p-1])\n",
    "        for i in range(len_p - 1, len_s):\n",
    "            s_c[s[i]] += 1\n",
    "            if s_c == p_c:\n",
    "                res.append(i - len_p + 1)\n",
    "            s_c[s[i - len_p + 1]] -= 1\n",
    "            if s_c[s[i - len_p + 1]] == 0:\n",
    "                del s_c[s[i - len_p + 1]]\n",
    "        return res"
   ]
  },
  {
   "cell_type": "code",
   "execution_count": null,
   "metadata": {},
   "outputs": [],
   "source": []
  }
 ],
 "metadata": {
  "kernelspec": {
   "display_name": "Python 3",
   "language": "python",
   "name": "python3"
  },
  "language_info": {
   "codemirror_mode": {
    "name": "ipython",
    "version": 3
   },
   "file_extension": ".py",
   "mimetype": "text/x-python",
   "name": "python",
   "nbconvert_exporter": "python",
   "pygments_lexer": "ipython3",
   "version": "3.7.1"
  },
  "toc": {
   "base_numbering": 1,
   "nav_menu": {},
   "number_sections": true,
   "sideBar": true,
   "skip_h1_title": false,
   "title_cell": "Table of Contents",
   "title_sidebar": "Contents",
   "toc_cell": false,
   "toc_position": {},
   "toc_section_display": true,
   "toc_window_display": false
  }
 },
 "nbformat": 4,
 "nbformat_minor": 2
}
