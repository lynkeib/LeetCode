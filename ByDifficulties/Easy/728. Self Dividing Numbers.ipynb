{
 "cells": [
  {
   "cell_type": "code",
   "execution_count": 5,
   "metadata": {},
   "outputs": [],
   "source": [
    "class Solution(object):\n",
    "    def selfDividingNumbers(self, left, right):\n",
    "        \"\"\"\n",
    "        :type left: int\n",
    "        :type right: int\n",
    "        :rtype: List[int]\n",
    "        \"\"\"\n",
    "        res = []\n",
    "        for num in range(left, right + 1):\n",
    "            if len(str(num)) == 1:\n",
    "                res.append(num)\n",
    "            else:\n",
    "                self_dividing = True\n",
    "                for digit in str(num):\n",
    "                    if int(digit) == 0:\n",
    "                        self_dividing = False\n",
    "                    elif num % int(digit) != 0:\n",
    "                        self_dividing = False\n",
    "                if self_dividing:\n",
    "                    res.append(num)\n",
    "        return res"
   ]
  },
  {
   "cell_type": "code",
   "execution_count": 8,
   "metadata": {},
   "outputs": [],
   "source": [
    "class Solution(object):\n",
    "    def selfDividingNumbers(self, left, right):\n",
    "        \"\"\"\n",
    "        :type left: int\n",
    "        :type right: int\n",
    "        :rtype: List[int]\n",
    "        \"\"\"\n",
    "        return [num for num in range(left, right + 1) if all((i and (num % i == 0) for i in map(int, str(num))))]"
   ]
  },
  {
   "cell_type": "code",
   "execution_count": 23,
   "metadata": {},
   "outputs": [],
   "source": [
    "class Solution(object):\n",
    "    def selfDividingNumbers(self, left, right):\n",
    "        \"\"\"\n",
    "        :type left: int\n",
    "        :type right: int\n",
    "        :rtype: List[int]\n",
    "        \"\"\"\n",
    "        res = []\n",
    "        for num in range(left, right + 1):\n",
    "            j = num\n",
    "            while num != 0:\n",
    "                if (num % 10 == 0) or (j % (num % 10) != 0):\n",
    "                    break\n",
    "                num //= 10\n",
    "            if num == 0:\n",
    "               res.append(j)\n",
    "        return res"
   ]
  },
  {
   "cell_type": "code",
   "execution_count": null,
   "metadata": {},
   "outputs": [],
   "source": []
  }
 ],
 "metadata": {
  "kernelspec": {
   "display_name": "Python 3",
   "language": "python",
   "name": "python3"
  },
  "language_info": {
   "codemirror_mode": {
    "name": "ipython",
    "version": 3
   },
   "file_extension": ".py",
   "mimetype": "text/x-python",
   "name": "python",
   "nbconvert_exporter": "python",
   "pygments_lexer": "ipython3",
   "version": "3.7.2"
  }
 },
 "nbformat": 4,
 "nbformat_minor": 2
}
