{
 "cells": [
  {
   "cell_type": "code",
   "execution_count": 1,
   "metadata": {
    "ExecuteTime": {
     "end_time": "2019-09-06T20:48:15.988480Z",
     "start_time": "2019-09-06T20:48:15.976502Z"
    }
   },
   "outputs": [],
   "source": [
    "import heapq\n",
    "class MaxStack(object):\n",
    "\n",
    "    def __init__(self):\n",
    "        \"\"\"\n",
    "        initialize your data structure here.\n",
    "        \"\"\"\n",
    "        self.nums = []\n",
    "        self.heap = []\n",
    "        self.delnums = set()\n",
    "        self.delheap = set()\n",
    "        self.id = 0\n",
    "\n",
    "    def push(self, x):\n",
    "        \"\"\"\n",
    "        :type x: int\n",
    "        :rtype: None\n",
    "        \"\"\"\n",
    "        self.nums.append((self.id, x))\n",
    "        heapq.heappush(self.heap, (-x, -self.id))\n",
    "        self.id += 1\n",
    "        return \n",
    "\n",
    "    def pop(self):\n",
    "        \"\"\"\n",
    "        :rtype: int\n",
    "        \"\"\"\n",
    "        num = self.top()\n",
    "        self.delheap.add(self.nums[-1][0])\n",
    "        self.nums.pop()\n",
    "        return num\n",
    "        \n",
    "        \n",
    "    def top(self):\n",
    "        \"\"\"\n",
    "        :rtype: int\n",
    "        \"\"\"\n",
    "        while self.nums[-1][0] in self.delnums:\n",
    "            self.delnums.remove(self.nums[-1][0])\n",
    "            self.nums.pop()\n",
    "        return self.nums[-1][1]\n",
    "\n",
    "    def peekMax(self):\n",
    "        \"\"\"\n",
    "        :rtype: int\n",
    "        \"\"\"\n",
    "        while -self.heap[0][1] in self.delheap:\n",
    "            self.delheap.remove(-self.heap[0][1])\n",
    "            heapq.heappop(self.heap)\n",
    "        return -self.heap[0][0]\n",
    "\n",
    "    def popMax(self):\n",
    "        \"\"\"\n",
    "        :rtype: int\n",
    "        \"\"\"\n",
    "        num = self.peekMax()\n",
    "        _, i = heapq.heappop(self.heap)\n",
    "        self.delnums.add(-i)\n",
    "        return num\n",
    "        \n",
    "\n",
    "\n",
    "# Your MaxStack object will be instantiated and called as such:\n",
    "# obj = MaxStack()\n",
    "# obj.push(x)\n",
    "# param_2 = obj.pop()\n",
    "# param_3 = obj.top()\n",
    "# param_4 = obj.peekMax()\n",
    "# param_5 = obj.popMax()"
   ]
  },
  {
   "cell_type": "code",
   "execution_count": null,
   "metadata": {},
   "outputs": [],
   "source": []
  }
 ],
 "metadata": {
  "kernelspec": {
   "display_name": "Python 3",
   "language": "python",
   "name": "python3"
  },
  "language_info": {
   "codemirror_mode": {
    "name": "ipython",
    "version": 3
   },
   "file_extension": ".py",
   "mimetype": "text/x-python",
   "name": "python",
   "nbconvert_exporter": "python",
   "pygments_lexer": "ipython3",
   "version": "3.7.1"
  },
  "toc": {
   "base_numbering": 1,
   "nav_menu": {},
   "number_sections": true,
   "sideBar": true,
   "skip_h1_title": false,
   "title_cell": "Table of Contents",
   "title_sidebar": "Contents",
   "toc_cell": false,
   "toc_position": {},
   "toc_section_display": true,
   "toc_window_display": false
  }
 },
 "nbformat": 4,
 "nbformat_minor": 2
}
