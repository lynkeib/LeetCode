{
 "cells": [
  {
   "cell_type": "code",
   "execution_count": 1,
   "metadata": {},
   "outputs": [],
   "source": [
    "class Solution(object):\n",
    "    def robotSim(self, commands, obstacles):\n",
    "        \"\"\"\n",
    "        :type commands: List[int]\n",
    "        :type obstacles: List[List[int]]\n",
    "        :rtype: int\n",
    "        \"\"\"\n",
    "        obstacles = set(map(tuple, obstacles))\n",
    "        x, y = 0, 0\n",
    "        dx = 0\n",
    "        dy = 1\n",
    "        res = 0\n",
    "        for command in commands:\n",
    "            if command == -2:\n",
    "                dx, dy = -dy, dx\n",
    "            elif command == -1:\n",
    "                dx, dy = dy, -dx\n",
    "            else:\n",
    "                for _ in range(command):\n",
    "                    if (x + dx, y + dy) in obstacles:\n",
    "                        break\n",
    "                    else:\n",
    "                        x += dx\n",
    "                        y += dy\n",
    "                res = max(res, x ** 2 + y ** 2)\n",
    "        return res"
   ]
  },
  {
   "cell_type": "code",
   "execution_count": null,
   "metadata": {},
   "outputs": [],
   "source": []
  }
 ],
 "metadata": {
  "kernelspec": {
   "display_name": "Python 3",
   "language": "python",
   "name": "python3"
  },
  "language_info": {
   "codemirror_mode": {
    "name": "ipython",
    "version": 3
   },
   "file_extension": ".py",
   "mimetype": "text/x-python",
   "name": "python",
   "nbconvert_exporter": "python",
   "pygments_lexer": "ipython3",
   "version": "3.7.3"
  },
  "toc": {
   "base_numbering": 1,
   "nav_menu": {},
   "number_sections": true,
   "sideBar": true,
   "skip_h1_title": false,
   "title_cell": "Table of Contents",
   "title_sidebar": "Contents",
   "toc_cell": false,
   "toc_position": {},
   "toc_section_display": true,
   "toc_window_display": false
  }
 },
 "nbformat": 4,
 "nbformat_minor": 2
}
