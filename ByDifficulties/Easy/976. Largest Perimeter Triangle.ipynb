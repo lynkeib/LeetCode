{
 "cells": [
  {
   "cell_type": "code",
   "execution_count": 2,
   "metadata": {},
   "outputs": [],
   "source": [
    "A = [1,2,3]"
   ]
  },
  {
   "cell_type": "code",
   "execution_count": 3,
   "metadata": {},
   "outputs": [],
   "source": [
    "A.remove(3)"
   ]
  },
  {
   "cell_type": "code",
   "execution_count": 4,
   "metadata": {},
   "outputs": [
    {
     "data": {
      "text/plain": [
       "[1, 2]"
      ]
     },
     "execution_count": 4,
     "metadata": {},
     "output_type": "execute_result"
    }
   ],
   "source": [
    "A"
   ]
  },
  {
   "cell_type": "code",
   "execution_count": 6,
   "metadata": {},
   "outputs": [],
   "source": [
    "class Solution(object):\n",
    "    def largestPerimeter(self, A):\n",
    "        \"\"\"\n",
    "        :type A: List[int]\n",
    "        :rtype: int\n",
    "        \"\"\"\n",
    "        res = [0]\n",
    "        self.dfs(A, [], res)\n",
    "        return res[0]\n",
    "        \n",
    "    \n",
    "    def dfs(self, edges, path, max_):\n",
    "        if len(path) == 3:\n",
    "            if self.judge(path):\n",
    "                max_[0] = max(sum(path), max_[0])\n",
    "                print(path)\n",
    "            return\n",
    "        if edges:\n",
    "            for edge in edges:\n",
    "                temp = edges[:]\n",
    "                temp = temp.remove(edge)\n",
    "                path.append(edge)\n",
    "                self.dfs(temp, path, max_)\n",
    "        else:\n",
    "            return \n",
    "    \n",
    "    def judge(self, path):\n",
    "        if path[0] + path[1] <= path[2]:\n",
    "            return False\n",
    "        if abs(path[0] - path[1]) >= path[2]:\n",
    "            return False\n",
    "        if path[0] + path[2] <= path[1]:\n",
    "            return False\n",
    "        if abs(path[0] - path[2]) >= path[1]:\n",
    "            return False\n",
    "        if path[2] + path[1] <= path[0]:\n",
    "            return False\n",
    "        if abs(path[2] - path[1]) >= path[0]:\n",
    "            return False\n",
    "        return True"
   ]
  },
  {
   "cell_type": "code",
   "execution_count": 7,
   "metadata": {},
   "outputs": [],
   "source": [
    "A = Solution()"
   ]
  },
  {
   "cell_type": "code",
   "execution_count": 8,
   "metadata": {},
   "outputs": [
    {
     "name": "stdout",
     "output_type": "stream",
     "text": [
      "[3, 2, 3]\n"
     ]
    },
    {
     "data": {
      "text/plain": [
       "8"
      ]
     },
     "execution_count": 8,
     "metadata": {},
     "output_type": "execute_result"
    }
   ],
   "source": [
    "A.largestPerimeter([3,2,3,4])"
   ]
  },
  {
   "cell_type": "code",
   "execution_count": null,
   "metadata": {},
   "outputs": [],
   "source": []
  }
 ],
 "metadata": {
  "kernelspec": {
   "display_name": "Python 3",
   "language": "python",
   "name": "python3"
  },
  "language_info": {
   "codemirror_mode": {
    "name": "ipython",
    "version": 3
   },
   "file_extension": ".py",
   "mimetype": "text/x-python",
   "name": "python",
   "nbconvert_exporter": "python",
   "pygments_lexer": "ipython3",
   "version": "3.7.3"
  }
 },
 "nbformat": 4,
 "nbformat_minor": 2
}
