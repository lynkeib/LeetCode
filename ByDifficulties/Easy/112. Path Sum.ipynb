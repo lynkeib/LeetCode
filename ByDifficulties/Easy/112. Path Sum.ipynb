{
 "cells": [
  {
   "cell_type": "code",
   "execution_count": 1,
   "metadata": {},
   "outputs": [],
   "source": [
    "# Definition for a binary tree node.\n",
    "# class TreeNode(object):\n",
    "#     def __init__(self, x):\n",
    "#         self.val = x\n",
    "#         self.left = None\n",
    "#         self.right = None\n",
    "\n",
    "class Solution(object):\n",
    "    def hasPathSum(self, root, sum):\n",
    "        \"\"\"\n",
    "        :type root: TreeNode\n",
    "        :type sum: int\n",
    "        :rtype: bool\n",
    "        \"\"\"\n",
    "        res = []\n",
    "        sum_ = 0\n",
    "        self.dfs(root, sum_, res)\n",
    "        return sum in res\n",
    "    \n",
    "    def dfs(self, root, sum_, res):\n",
    "        if not root:\n",
    "            return ''\n",
    "        sum_ +=  root.val\n",
    "        if not root.left and not root.right:\n",
    "            res.append(sum_)\n",
    "        if root.left:\n",
    "            self.dfs(root.left, sum_, res)\n",
    "        if root.right:\n",
    "            self.dfs(root.right, sum_, res)"
   ]
  },
  {
   "cell_type": "code",
   "execution_count": null,
   "metadata": {},
   "outputs": [],
   "source": []
  }
 ],
 "metadata": {
  "kernelspec": {
   "display_name": "Python 3",
   "language": "python",
   "name": "python3"
  },
  "language_info": {
   "codemirror_mode": {
    "name": "ipython",
    "version": 2
   },
   "file_extension": ".py",
   "mimetype": "text/x-python",
   "name": "python",
   "nbconvert_exporter": "python",
   "pygments_lexer": "ipython2",
   "version": "2.7.15"
  }
 },
 "nbformat": 4,
 "nbformat_minor": 2
}
