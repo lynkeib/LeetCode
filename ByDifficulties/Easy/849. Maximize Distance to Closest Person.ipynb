{
 "cells": [
  {
   "cell_type": "code",
   "execution_count": 43,
   "metadata": {},
   "outputs": [],
   "source": [
    "class Solution(object):\n",
    "    def maxDistToClosest(self, seats):\n",
    "        \"\"\"\n",
    "        :type seats: List[int]\n",
    "        :rtype: int\n",
    "        \"\"\"\n",
    "        start = return_ = 0\n",
    "        for end in range(len(seats)):\n",
    "            if seats[end] == 1:\n",
    "                if start == 0:\n",
    "                    return_ = end\n",
    "                else:\n",
    "                    return_ = max(return_, (end - start + 1) >> 1)\n",
    "                start = end + 1\n",
    "        return max(return_, len(seats) - start)"
   ]
  }
 ],
 "metadata": {
  "kernelspec": {
   "display_name": "Python 3",
   "language": "python",
   "name": "python3"
  },
  "language_info": {
   "codemirror_mode": {
    "name": "ipython",
    "version": 3
   },
   "file_extension": ".py",
   "mimetype": "text/x-python",
   "name": "python",
   "nbconvert_exporter": "python",
   "pygments_lexer": "ipython3",
   "version": "3.7.2"
  }
 },
 "nbformat": 4,
 "nbformat_minor": 2
}
