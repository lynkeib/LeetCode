{
 "cells": [
  {
   "cell_type": "code",
   "execution_count": 97,
   "metadata": {
    "ExecuteTime": {
     "end_time": "2019-09-02T00:52:04.184217Z",
     "start_time": "2019-09-02T00:52:04.177661Z"
    }
   },
   "outputs": [],
   "source": [
    "class Solution(object):\n",
    "    def compress(self, chars):\n",
    "        \"\"\"\n",
    "        :type chars: List[str]\n",
    "        :rtype: int\n",
    "        \"\"\"\n",
    "        if len(chars) == 1:\n",
    "            chars.append('1')\n",
    "            return 1\n",
    "        slow, fast = 0, 0\n",
    "        while fast < len(chars):\n",
    "            count = 1\n",
    "            chars[slow] = chars[fast]\n",
    "            while fast < len(chars) - 1 and chars[fast] == chars[fast + 1]:\n",
    "                fast += 1\n",
    "                count += 1\n",
    "            \n",
    "            if count > 1:\n",
    "                for s in str(count):\n",
    "                    chars[slow + 1] = s\n",
    "                    slow += 1\n",
    "            \n",
    "            slow += 1\n",
    "            fast += 1\n",
    "        return slow\n",
    "                "
   ]
  },
  {
   "cell_type": "code",
   "execution_count": null,
   "metadata": {},
   "outputs": [],
   "source": []
  }
 ],
 "metadata": {
  "kernelspec": {
   "display_name": "Python 3",
   "language": "python",
   "name": "python3"
  },
  "language_info": {
   "codemirror_mode": {
    "name": "ipython",
    "version": 3
   },
   "file_extension": ".py",
   "mimetype": "text/x-python",
   "name": "python",
   "nbconvert_exporter": "python",
   "pygments_lexer": "ipython3",
   "version": "3.7.1"
  },
  "toc": {
   "base_numbering": 1,
   "nav_menu": {},
   "number_sections": true,
   "sideBar": true,
   "skip_h1_title": false,
   "title_cell": "Table of Contents",
   "title_sidebar": "Contents",
   "toc_cell": false,
   "toc_position": {},
   "toc_section_display": true,
   "toc_window_display": false
  }
 },
 "nbformat": 4,
 "nbformat_minor": 2
}
