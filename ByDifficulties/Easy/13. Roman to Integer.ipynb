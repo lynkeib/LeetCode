{
 "cells": [
  {
   "cell_type": "code",
   "execution_count": 11,
   "metadata": {},
   "outputs": [],
   "source": [
    "class Solution(object):\n",
    "    def romanToInt(self, s):\n",
    "        \"\"\"\n",
    "        :type s: str\n",
    "        :rtype: int\n",
    "        \"\"\"\n",
    "        dic = {'I':1, 'V':5, 'X':10, 'L':50, 'C':100, 'D':500, 'M': 1000}\n",
    "        res = 0\n",
    "        for i in range(len(s) - 1):\n",
    "            if dic[s[i]] < dic[s[i + 1]]:\n",
    "                res -= dic[s[i]]\n",
    "            else:\n",
    "                res += dic[s[i]]\n",
    "        return res + dic[s[-1]]"
   ]
  },
  {
   "cell_type": "code",
   "execution_count": 1,
   "metadata": {
    "ExecuteTime": {
     "end_time": "2019-09-06T03:03:23.335754Z",
     "start_time": "2019-09-06T03:03:23.328099Z"
    }
   },
   "outputs": [],
   "source": [
    "class Solution(object):\n",
    "    def romanToInt(self, s):\n",
    "        \"\"\"\n",
    "        :type s: str\n",
    "        :rtype: int\n",
    "        \"\"\"\n",
    "        dic = {\"I\":1,\n",
    "              \"V\":5,\n",
    "              \"X\":10,\n",
    "              \"L\":50,\n",
    "              \"C\":100,\n",
    "              \"D\":500,\n",
    "              \"M\":1000,\n",
    "              'IV':4,\n",
    "              'IX':9,\n",
    "              'CM':900,\n",
    "              'XC':90,\n",
    "              'CD':400,\n",
    "              'XL':40}\n",
    "        res = 0\n",
    "        index = 0\n",
    "        while index < len(s):\n",
    "            if index < len(s) - 1:\n",
    "                if s[index:index+2] in dic:\n",
    "                    res += dic[s[index:index+2]]\n",
    "                    index += 2\n",
    "                    continue\n",
    "            res += dic[s[index]]\n",
    "            index += 1\n",
    "        return res\n",
    "            "
   ]
  },
  {
   "cell_type": "code",
   "execution_count": null,
   "metadata": {},
   "outputs": [],
   "source": []
  }
 ],
 "metadata": {
  "kernelspec": {
   "display_name": "Python 3",
   "language": "python",
   "name": "python3"
  },
  "language_info": {
   "codemirror_mode": {
    "name": "ipython",
    "version": 3
   },
   "file_extension": ".py",
   "mimetype": "text/x-python",
   "name": "python",
   "nbconvert_exporter": "python",
   "pygments_lexer": "ipython3",
   "version": "3.7.1"
  },
  "toc": {
   "base_numbering": 1,
   "nav_menu": {},
   "number_sections": true,
   "sideBar": true,
   "skip_h1_title": false,
   "title_cell": "Table of Contents",
   "title_sidebar": "Contents",
   "toc_cell": false,
   "toc_position": {},
   "toc_section_display": true,
   "toc_window_display": false
  }
 },
 "nbformat": 4,
 "nbformat_minor": 2
}
