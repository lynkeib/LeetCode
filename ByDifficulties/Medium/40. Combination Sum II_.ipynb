{
 "cells": [
  {
   "cell_type": "code",
   "execution_count": 6,
   "metadata": {
    "ExecuteTime": {
     "end_time": "2019-08-30T23:38:40.727868Z",
     "start_time": "2019-08-30T23:38:40.714950Z"
    }
   },
   "outputs": [],
   "source": [
    "class Solution(object):\n",
    "    def combinationSum2(self, candidates, target):\n",
    "        \"\"\"\n",
    "        :type candidates: List[int]\n",
    "        :type target: int\n",
    "        :rtype: List[List[int]]\n",
    "        \"\"\"\n",
    "        res = []\n",
    "        candidates.sort()\n",
    "        self.dfs(0, candidates, [], res, target)\n",
    "        return res\n",
    "    \n",
    "    def dfs(self, start, candidates, path, res, target):\n",
    "        if target == 0:\n",
    "            res.append(path)\n",
    "            return \n",
    "        for i in range(start, len(candidates)):\n",
    "            if i > start and candidates[i] == candidates[i - 1]:\n",
    "                continue\n",
    "            if candidates[i] > target:\n",
    "                return \n",
    "            self.dfs(i + 1, candidates, path + [candidates[i]], res, target - candidates[i])"
   ]
  },
  {
   "cell_type": "code",
   "execution_count": null,
   "metadata": {},
   "outputs": [],
   "source": []
  }
 ],
 "metadata": {
  "kernelspec": {
   "display_name": "Python 3",
   "language": "python",
   "name": "python3"
  },
  "language_info": {
   "codemirror_mode": {
    "name": "ipython",
    "version": 3
   },
   "file_extension": ".py",
   "mimetype": "text/x-python",
   "name": "python",
   "nbconvert_exporter": "python",
   "pygments_lexer": "ipython3",
   "version": "3.7.1"
  },
  "toc": {
   "base_numbering": 1,
   "nav_menu": {},
   "number_sections": true,
   "sideBar": true,
   "skip_h1_title": false,
   "title_cell": "Table of Contents",
   "title_sidebar": "Contents",
   "toc_cell": false,
   "toc_position": {},
   "toc_section_display": true,
   "toc_window_display": false
  }
 },
 "nbformat": 4,
 "nbformat_minor": 2
}
