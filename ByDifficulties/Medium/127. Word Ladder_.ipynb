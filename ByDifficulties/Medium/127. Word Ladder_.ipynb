{
 "cells": [
  {
   "cell_type": "markdown",
   "metadata": {},
   "source": [
    "# Double end BFS"
   ]
  },
  {
   "cell_type": "code",
   "execution_count": 1,
   "metadata": {
    "ExecuteTime": {
     "end_time": "2019-09-03T05:18:59.478550Z",
     "start_time": "2019-09-03T05:18:59.469111Z"
    }
   },
   "outputs": [],
   "source": [
    "class Solution(object):\n",
    "    def ladderLength(self, beginWord, endWord, wordList):\n",
    "        \"\"\"\n",
    "        :type beginWord: str\n",
    "        :type endWord: str\n",
    "        :type wordList: List[str]\n",
    "        :rtype: int\n",
    "        \"\"\"\n",
    "        \n",
    "        front_set = set([beginWord])\n",
    "        back_set = set([endWord])\n",
    "        wordList = set(wordList)\n",
    "        if endWord not in wordList:\n",
    "            return 0\n",
    "        # print(wordList)\n",
    "        visited = set([beginWord, endWord])\n",
    "        # print(visited)\n",
    "        res = 1\n",
    "        length = len(beginWord)\n",
    "        while front_set and back_set:\n",
    "            if len(front_set) > len(back_set):\n",
    "                front_set, back_set = back_set, front_set\n",
    "            # print(front_set)\n",
    "            # print(back_set)\n",
    "            # print()\n",
    "            next_front = set()\n",
    "            for word in front_set:\n",
    "                for i in range(length):\n",
    "                    for c in string.lowercase:\n",
    "                        if c != word[i]:\n",
    "                            new_word = word[:i] + c + word[i + 1:]\n",
    "                            if new_word in back_set:\n",
    "                                print(new_word, back_set)\n",
    "                                return res + 1\n",
    "                            if new_word in wordList and new_word not in visited:\n",
    "                                visited.add(new_word)\n",
    "                                next_front.add(new_word)\n",
    "            res += 1\n",
    "            front_set = next_front\n",
    "        return 0"
   ]
  },
  {
   "cell_type": "markdown",
   "metadata": {},
   "source": [
    "# Using Graph (TLE)"
   ]
  },
  {
   "cell_type": "code",
   "execution_count": 2,
   "metadata": {
    "ExecuteTime": {
     "end_time": "2019-09-03T05:50:39.583198Z",
     "start_time": "2019-09-03T05:50:39.573237Z"
    }
   },
   "outputs": [],
   "source": [
    "class Solution(object):\n",
    "    def ladderLength(self, beginWord, endWord, wordList):\n",
    "        \"\"\"\n",
    "        :type beginWord: str\n",
    "        :type endWord: str\n",
    "        :type wordList: List[str]\n",
    "        :rtype: int\n",
    "        \"\"\"\n",
    "        ## Use graph\n",
    "        wordList = set(wordList)\n",
    "        if endWord not in wordList:\n",
    "            return 0\n",
    "        wordList.add(beginWord)\n",
    "        graph = collections.defaultdict(set)\n",
    "        for w1 in wordList:\n",
    "            for w2 in wordList:\n",
    "                if self.is_one_diff(w1, w2):\n",
    "                    graph[w1].add(w2)\n",
    "                    graph[w2].add(w1)\n",
    "        visited = set([beginWord, endWord])\n",
    "        #bfs\n",
    "        front = set([beginWord])\n",
    "        back = set([endWord])\n",
    "        res = 1\n",
    "        while front and back:\n",
    "            if len(front) > len(back):\n",
    "                front, back = back, front\n",
    "            next_front = set()\n",
    "            for word in front:\n",
    "                for neighbor in graph[word]:\n",
    "                    if neighbor in back:\n",
    "                        return res + 1\n",
    "                    if neighbor not in visited:\n",
    "                        visited.add(neighbor)\n",
    "                        next_front.add(neighbor)\n",
    "            res += 1\n",
    "            front = next_front\n",
    "        # print(graph)\n",
    "        return 0\n",
    "\n",
    "    def is_one_diff(self, w1, w2):\n",
    "        # if len(w1) != len(w2):\n",
    "        #     return False\n",
    "        diff = 0\n",
    "        for index in range(len(w1)):\n",
    "            if w1[index] != w2[index]:\n",
    "                diff += 1\n",
    "        return diff == 1"
   ]
  },
  {
   "cell_type": "code",
   "execution_count": null,
   "metadata": {},
   "outputs": [],
   "source": []
  }
 ],
 "metadata": {
  "kernelspec": {
   "display_name": "Python 3",
   "language": "python",
   "name": "python3"
  },
  "language_info": {
   "codemirror_mode": {
    "name": "ipython",
    "version": 3
   },
   "file_extension": ".py",
   "mimetype": "text/x-python",
   "name": "python",
   "nbconvert_exporter": "python",
   "pygments_lexer": "ipython3",
   "version": "3.7.1"
  },
  "toc": {
   "base_numbering": 1,
   "nav_menu": {},
   "number_sections": true,
   "sideBar": true,
   "skip_h1_title": false,
   "title_cell": "Table of Contents",
   "title_sidebar": "Contents",
   "toc_cell": false,
   "toc_position": {},
   "toc_section_display": true,
   "toc_window_display": false
  }
 },
 "nbformat": 4,
 "nbformat_minor": 2
}
