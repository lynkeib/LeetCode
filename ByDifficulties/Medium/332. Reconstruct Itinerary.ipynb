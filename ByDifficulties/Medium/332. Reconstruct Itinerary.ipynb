{
 "cells": [
  {
   "cell_type": "code",
   "execution_count": 1,
   "metadata": {
    "ExecuteTime": {
     "end_time": "2019-09-06T04:16:38.959055Z",
     "start_time": "2019-09-06T04:16:38.952313Z"
    }
   },
   "outputs": [],
   "source": [
    "class Solution(object):\n",
    "    def findItinerary(self, tickets):\n",
    "        \"\"\"\n",
    "        :type tickets: List[List[str]]\n",
    "        :rtype: List[str]\n",
    "        \"\"\"\n",
    "        dic = collections.defaultdict(list)\n",
    "        tickets = sorted(tickets, reverse = True)\n",
    "        res = []\n",
    "        for start, end in tickets:\n",
    "            dic[start] += [end]\n",
    "        self.dfs('JFK', dic, res)\n",
    "        return res[::-1]\n",
    "        \n",
    "\n",
    "    def dfs(self, name, tickets, res):\n",
    "        while tickets[name]:\n",
    "            self.dfs(tickets[name].pop(), tickets, res)\n",
    "        res.append(name)\n",
    "                \n",
    "            \n",
    "            "
   ]
  },
  {
   "cell_type": "code",
   "execution_count": null,
   "metadata": {},
   "outputs": [],
   "source": []
  }
 ],
 "metadata": {
  "kernelspec": {
   "display_name": "Python 3",
   "language": "python",
   "name": "python3"
  },
  "language_info": {
   "codemirror_mode": {
    "name": "ipython",
    "version": 3
   },
   "file_extension": ".py",
   "mimetype": "text/x-python",
   "name": "python",
   "nbconvert_exporter": "python",
   "pygments_lexer": "ipython3",
   "version": "3.7.1"
  },
  "toc": {
   "base_numbering": 1,
   "nav_menu": {},
   "number_sections": true,
   "sideBar": true,
   "skip_h1_title": false,
   "title_cell": "Table of Contents",
   "title_sidebar": "Contents",
   "toc_cell": false,
   "toc_position": {},
   "toc_section_display": true,
   "toc_window_display": false
  }
 },
 "nbformat": 4,
 "nbformat_minor": 2
}
