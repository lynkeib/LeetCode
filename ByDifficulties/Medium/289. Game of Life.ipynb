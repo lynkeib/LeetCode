{
 "cells": [
  {
   "cell_type": "code",
   "execution_count": 4,
   "metadata": {},
   "outputs": [],
   "source": [
    "class Solution(object):\n",
    "    def gameOfLife(self, board):\n",
    "        \"\"\"\n",
    "        :type board: List[List[int]]\n",
    "        :rtype: None Do not return anything, modify board in-place instead.\n",
    "        \"\"\"\n",
    "        if not board:\n",
    "            return\n",
    "        row, column = len(board), len(board[0])\n",
    "        for i in range(row):\n",
    "            for j in range(column):\n",
    "                lives = self.countlives(board, row, column, i, j)\n",
    "                if lives == 3 and board[i][j] & 1 == 0:\n",
    "                    board[i][j] = 2\n",
    "                if (lives >= 2 and lives <= 3) and (board[i][j] & 1 == 1):\n",
    "                    board[i][j] = 3\n",
    "        for i in range(row):\n",
    "            for j in range(column):\n",
    "                board[i][j] >>= 1\n",
    "    \n",
    "    def countlives(self, board, row, column, i, j):\n",
    "        lives = 0\n",
    "        for x in range(max(0, i - 1), min(row - 1, i + 1) + 1):\n",
    "            for y in range(max(0, j - 1), min(column - 1, j + 1) + 1):\n",
    "                lives += board[x][y] & 1\n",
    "        lives -= board[i][j] & 1\n",
    "        return lives\n",
    "    \n",
    "\n",
    "        "
   ]
  },
  {
   "cell_type": "code",
   "execution_count": null,
   "metadata": {},
   "outputs": [],
   "source": []
  }
 ],
 "metadata": {
  "kernelspec": {
   "display_name": "Python 3",
   "language": "python",
   "name": "python3"
  },
  "language_info": {
   "codemirror_mode": {
    "name": "ipython",
    "version": 3
   },
   "file_extension": ".py",
   "mimetype": "text/x-python",
   "name": "python",
   "nbconvert_exporter": "python",
   "pygments_lexer": "ipython3",
   "version": "3.7.3"
  }
 },
 "nbformat": 4,
 "nbformat_minor": 2
}
