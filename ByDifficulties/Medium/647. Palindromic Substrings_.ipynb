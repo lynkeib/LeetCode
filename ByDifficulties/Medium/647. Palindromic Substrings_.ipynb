{
 "cells": [
  {
   "cell_type": "markdown",
   "metadata": {},
   "source": [
    "# TLE"
   ]
  },
  {
   "cell_type": "code",
   "execution_count": 1,
   "metadata": {
    "ExecuteTime": {
     "end_time": "2019-09-16T23:55:14.948919Z",
     "start_time": "2019-09-16T23:55:14.943725Z"
    }
   },
   "outputs": [],
   "source": [
    "class Solution(object):\n",
    "    def countSubstrings(self, s):\n",
    "        \"\"\"\n",
    "        :type s: str\n",
    "        :rtype: int\n",
    "        \"\"\"\n",
    "        res = 0\n",
    "        for start in range(len(s)):\n",
    "            for end in range(start, len(s)):\n",
    "                if self.isvaild(s, start, end):\n",
    "                    res += 1\n",
    "        return res\n",
    "    \n",
    "    def isvaild(self, s, start, end):\n",
    "        while start <= end:\n",
    "            if s[start] != s[end]:\n",
    "                return False\n",
    "            start += 1\n",
    "            end -= 1\n",
    "        return True"
   ]
  },
  {
   "cell_type": "code",
   "execution_count": 2,
   "metadata": {
    "ExecuteTime": {
     "end_time": "2019-09-17T00:02:43.921106Z",
     "start_time": "2019-09-17T00:02:43.914644Z"
    }
   },
   "outputs": [],
   "source": [
    "class Solution(object):\n",
    "    def countSubstrings(self, s):\n",
    "        \"\"\"\n",
    "        :type s: str\n",
    "        :rtype: int\n",
    "        \"\"\"\n",
    "        res = [0]\n",
    "        for index in range(len(s)):\n",
    "            self.isvalid(s, index, index, res)\n",
    "            self.isvalid(s, index, index + 1, res)\n",
    "        return res[0]\n",
    "    \n",
    "    \n",
    "    def isvalid(self, s, left, right, res):\n",
    "        while left >= 0 and right <= len(s) - 1 and s[left] == s[right]: \n",
    "            # print(s[left])\n",
    "            # print(s[right])\n",
    "            res[0] += 1\n",
    "            left -= 1\n",
    "            right += 1"
   ]
  },
  {
   "cell_type": "code",
   "execution_count": null,
   "metadata": {},
   "outputs": [],
   "source": []
  }
 ],
 "metadata": {
  "kernelspec": {
   "display_name": "Python 3",
   "language": "python",
   "name": "python3"
  },
  "language_info": {
   "codemirror_mode": {
    "name": "ipython",
    "version": 3
   },
   "file_extension": ".py",
   "mimetype": "text/x-python",
   "name": "python",
   "nbconvert_exporter": "python",
   "pygments_lexer": "ipython3",
   "version": "3.7.1"
  },
  "toc": {
   "base_numbering": 1,
   "nav_menu": {},
   "number_sections": true,
   "sideBar": true,
   "skip_h1_title": false,
   "title_cell": "Table of Contents",
   "title_sidebar": "Contents",
   "toc_cell": false,
   "toc_position": {},
   "toc_section_display": true,
   "toc_window_display": false
  }
 },
 "nbformat": 4,
 "nbformat_minor": 2
}
