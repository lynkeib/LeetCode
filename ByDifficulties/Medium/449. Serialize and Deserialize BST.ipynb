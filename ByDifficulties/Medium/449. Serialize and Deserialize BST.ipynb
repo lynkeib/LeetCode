{
 "cells": [
  {
   "cell_type": "code",
   "execution_count": 166,
   "metadata": {
    "ExecuteTime": {
     "end_time": "2019-09-02T06:02:54.949449Z",
     "start_time": "2019-09-02T06:02:54.940195Z"
    }
   },
   "outputs": [],
   "source": [
    "# Definition for a binary tree node.\n",
    "# class TreeNode(object):\n",
    "#     def __init__(self, x):\n",
    "#         self.val = x\n",
    "#         self.left = None\n",
    "#         self.right = None\n",
    "\n",
    "class Codec:\n",
    "\n",
    "    def serialize(self, root):\n",
    "        \"\"\"Encodes a tree to a single string.\n",
    "        \n",
    "        :type root: TreeNode\n",
    "        :rtype: str\n",
    "        \"\"\"\n",
    "        pre_order = []\n",
    "        curr = root\n",
    "        stack = []\n",
    "        while stack or curr:\n",
    "            while curr:\n",
    "                stack.append(curr)\n",
    "                pre_order += [str(curr.val)]\n",
    "                curr = curr.left\n",
    "            curr = stack.pop()\n",
    "            curr = curr.right\n",
    "        return ','.join(pre_order)\n",
    "    \n",
    "    def deserialize(self, data):\n",
    "        \"\"\"Decodes your encoded data to tree.\n",
    "        \n",
    "        :type data: str\n",
    "        :rtype: TreeNode\n",
    "        \"\"\"\n",
    "        if not data:\n",
    "            return\n",
    "        data = data.split(',')\n",
    "        root = TreeNode(int(data[0]))\n",
    "        for i in data[1:]:\n",
    "            node = TreeNode(int(i))\n",
    "            self.insert(root, node)\n",
    "        return root\n",
    "    \n",
    "    def insert(self, root, node):\n",
    "        if root.val > node.val:\n",
    "            if not root.left:\n",
    "                root.left = node\n",
    "            else:\n",
    "                self.insert(root.left, node)\n",
    "        else:\n",
    "            if not root.right:\n",
    "                root.right = node\n",
    "            else:\n",
    "                self.insert(root.right, node)\n",
    "                \n",
    "# Your Codec object will be instantiated and called as such:\n",
    "# codec = Codec()\n",
    "# codec.deserialize(codec.serialize(root))"
   ]
  },
  {
   "cell_type": "code",
   "execution_count": null,
   "metadata": {},
   "outputs": [],
   "source": []
  }
 ],
 "metadata": {
  "kernelspec": {
   "display_name": "Python 3",
   "language": "python",
   "name": "python3"
  },
  "language_info": {
   "codemirror_mode": {
    "name": "ipython",
    "version": 3
   },
   "file_extension": ".py",
   "mimetype": "text/x-python",
   "name": "python",
   "nbconvert_exporter": "python",
   "pygments_lexer": "ipython3",
   "version": "3.7.1"
  },
  "toc": {
   "base_numbering": 1,
   "nav_menu": {},
   "number_sections": true,
   "sideBar": true,
   "skip_h1_title": false,
   "title_cell": "Table of Contents",
   "title_sidebar": "Contents",
   "toc_cell": false,
   "toc_position": {},
   "toc_section_display": true,
   "toc_window_display": false
  }
 },
 "nbformat": 4,
 "nbformat_minor": 2
}
