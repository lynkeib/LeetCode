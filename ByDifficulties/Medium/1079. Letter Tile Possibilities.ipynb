{
 "cells": [
  {
   "cell_type": "code",
   "execution_count": 14,
   "metadata": {},
   "outputs": [],
   "source": [
    "class Solution(object):\n",
    "    def numTilePossibilities(self, tiles):\n",
    "        \"\"\"\n",
    "        :type tiles: str\n",
    "        :rtype: int\n",
    "        \"\"\"\n",
    "        cnt = collections.Counter(tiles)\n",
    "        res = self.dfs(cnt)\n",
    "        return res\n",
    "    \n",
    "    def dfs(self, cnt):\n",
    "        sum = 0\n",
    "        for c in range(65, 91):\n",
    "            if cnt[chr(c)] == 0:\n",
    "                continue\n",
    "            sum += 1\n",
    "            cnt[chr(c)] -= 1\n",
    "            sum += self.dfs(cnt)\n",
    "            cnt[chr(c)] += 1\n",
    "        return sum"
   ]
  },
  {
   "cell_type": "code",
   "execution_count": null,
   "metadata": {},
   "outputs": [],
   "source": []
  }
 ],
 "metadata": {
  "kernelspec": {
   "display_name": "Python 3",
   "language": "python",
   "name": "python3"
  },
  "language_info": {
   "codemirror_mode": {
    "name": "ipython",
    "version": 3
   },
   "file_extension": ".py",
   "mimetype": "text/x-python",
   "name": "python",
   "nbconvert_exporter": "python",
   "pygments_lexer": "ipython3",
   "version": "3.7.3"
  },
  "toc": {
   "base_numbering": 1,
   "nav_menu": {},
   "number_sections": true,
   "sideBar": true,
   "skip_h1_title": false,
   "title_cell": "Table of Contents",
   "title_sidebar": "Contents",
   "toc_cell": false,
   "toc_position": {},
   "toc_section_display": true,
   "toc_window_display": false
  }
 },
 "nbformat": 4,
 "nbformat_minor": 2
}
