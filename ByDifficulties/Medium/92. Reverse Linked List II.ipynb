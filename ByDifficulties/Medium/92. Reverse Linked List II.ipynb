{
 "cells": [
  {
   "cell_type": "code",
   "execution_count": 4,
   "metadata": {
    "ExecuteTime": {
     "end_time": "2019-08-26T01:14:18.307267Z",
     "start_time": "2019-08-26T01:14:18.300237Z"
    }
   },
   "outputs": [],
   "source": [
    "# Definition for singly-linked list.\n",
    "# class ListNode(object):\n",
    "#     def __init__(self, x):\n",
    "#         self.val = x\n",
    "#         self.next = None\n",
    "\n",
    "class Solution(object):\n",
    "    def reverseBetween(self, head, m, n):\n",
    "        \"\"\"\n",
    "        :type head: ListNode\n",
    "        :type m: int\n",
    "        :type n: int\n",
    "        :rtype: ListNode\n",
    "        \"\"\"\n",
    "        pre_head = None\n",
    "        res = head\n",
    "        R_length = n - m + 1\n",
    "        #print(R_length)\n",
    "        for _ in range(m - 1):\n",
    "            pre_head = head\n",
    "            head = head.next\n",
    "        R_head = head\n",
    "        R_tail = None\n",
    "        tail_ = head\n",
    "        for _ in range(R_length):\n",
    "            next_node = head.next\n",
    "            head.next = R_tail\n",
    "            R_tail = head\n",
    "            head = next_node\n",
    "        #print(tail_.val, head.val)\n",
    "        tail_.next = head\n",
    "        if pre_head:\n",
    "            pre_head.next = R_tail\n",
    "            return res\n",
    "        return R_tail\n",
    "            "
   ]
  },
  {
   "cell_type": "code",
   "execution_count": null,
   "metadata": {},
   "outputs": [],
   "source": []
  }
 ],
 "metadata": {
  "kernelspec": {
   "display_name": "Python 3",
   "language": "python",
   "name": "python3"
  },
  "language_info": {
   "codemirror_mode": {
    "name": "ipython",
    "version": 3
   },
   "file_extension": ".py",
   "mimetype": "text/x-python",
   "name": "python",
   "nbconvert_exporter": "python",
   "pygments_lexer": "ipython3",
   "version": "3.7.1"
  },
  "toc": {
   "base_numbering": 1,
   "nav_menu": {},
   "number_sections": true,
   "sideBar": true,
   "skip_h1_title": false,
   "title_cell": "Table of Contents",
   "title_sidebar": "Contents",
   "toc_cell": false,
   "toc_position": {},
   "toc_section_display": true,
   "toc_window_display": false
  }
 },
 "nbformat": 4,
 "nbformat_minor": 2
}
