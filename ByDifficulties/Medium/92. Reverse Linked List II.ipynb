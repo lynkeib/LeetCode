{
 "cells": [
  {
   "cell_type": "code",
   "execution_count": 4,
   "metadata": {
    "ExecuteTime": {
     "end_time": "2019-08-26T01:14:18.307267Z",
     "start_time": "2019-08-26T01:14:18.300237Z"
    }
   },
   "outputs": [],
   "source": [
    "# Definition for singly-linked list.\n",
    "# class ListNode(object):\n",
    "#     def __init__(self, x):\n",
    "#         self.val = x\n",
    "#         self.next = None\n",
    "\n",
    "class Solution(object):\n",
    "    def reverseBetween(self, head, m, n):\n",
    "        \"\"\"\n",
    "        :type head: ListNode\n",
    "        :type m: int\n",
    "        :type n: int\n",
    "        :rtype: ListNode\n",
    "        \"\"\"\n",
    "        pre_head = None\n",
    "        res = head\n",
    "        R_length = n - m + 1\n",
    "        #print(R_length)\n",
    "        for _ in range(m - 1):\n",
    "            pre_head = head\n",
    "            head = head.next\n",
    "        R_head = head\n",
    "        R_tail = None\n",
    "        tail_ = head\n",
    "        for _ in range(R_length):\n",
    "            next_node = head.next\n",
    "            head.next = R_tail\n",
    "            R_tail = head\n",
    "            head = next_node\n",
    "        #print(tail_.val, head.val)\n",
    "        tail_.next = head\n",
    "        if pre_head:\n",
    "            pre_head.next = R_tail\n",
    "            return res\n",
    "        return R_tail"
   ]
  },
  {
   "cell_type": "code",
   "execution_count": 5,
   "metadata": {
    "ExecuteTime": {
     "end_time": "2019-08-26T06:15:22.254670Z",
     "start_time": "2019-08-26T06:15:22.246364Z"
    }
   },
   "outputs": [],
   "source": [
    "# Definition for singly-linked list.\n",
    "# class ListNode(object):\n",
    "#     def __init__(self, x):\n",
    "#         self.val = x\n",
    "#         self.next = None\n",
    "\n",
    "class Solution(object):\n",
    "    def reverseBetween(self, head, m, n):\n",
    "        \"\"\"\n",
    "        :type head: ListNode\n",
    "        :type m: int\n",
    "        :type n: int\n",
    "        :rtype: ListNode\n",
    "        \"\"\"\n",
    "        pre_head = None\n",
    "        res = head\n",
    "        R_length = n - m\n",
    "        # find head\n",
    "        R_head = head\n",
    "        pre_head = None\n",
    "        for _ in range(m - 1):\n",
    "            pre_head = head\n",
    "            head = head.next\n",
    "        R_head = head\n",
    "        # find tile\n",
    "        R_tail = head\n",
    "        post_R_tail = head.next\n",
    "        for _ in range(R_length):\n",
    "            head = head.next\n",
    "        R_tail = head\n",
    "        post_R_tail = head.next\n",
    "        R_tail.next = None\n",
    "        \n",
    "        new_head = self.helper(R_head)\n",
    "        \n",
    "        R_head.next = post_R_tail\n",
    "        \n",
    "        if pre_head:\n",
    "            pre_head.next = new_head\n",
    "            return res\n",
    "        return new_head\n",
    "        \n",
    "    def helper(self, head):\n",
    "        if not head or not head.next:\n",
    "            return head\n",
    "        new_head = self.helper(head.next)\n",
    "        next_node = head.next\n",
    "        next_node.next = head\n",
    "        head.next = None\n",
    "        return new_head"
   ]
  },
  {
   "cell_type": "code",
   "execution_count": null,
   "metadata": {},
   "outputs": [],
   "source": []
  }
 ],
 "metadata": {
  "kernelspec": {
   "display_name": "Python 3",
   "language": "python",
   "name": "python3"
  },
  "language_info": {
   "codemirror_mode": {
    "name": "ipython",
    "version": 3
   },
   "file_extension": ".py",
   "mimetype": "text/x-python",
   "name": "python",
   "nbconvert_exporter": "python",
   "pygments_lexer": "ipython3",
   "version": "3.7.1"
  },
  "toc": {
   "base_numbering": 1,
   "nav_menu": {},
   "number_sections": true,
   "sideBar": true,
   "skip_h1_title": false,
   "title_cell": "Table of Contents",
   "title_sidebar": "Contents",
   "toc_cell": false,
   "toc_position": {},
   "toc_section_display": true,
   "toc_window_display": false
  }
 },
 "nbformat": 4,
 "nbformat_minor": 2
}
