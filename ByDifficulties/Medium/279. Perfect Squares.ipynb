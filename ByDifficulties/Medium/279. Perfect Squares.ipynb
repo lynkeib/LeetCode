{
 "cells": [
  {
   "cell_type": "code",
   "execution_count": 1,
   "metadata": {},
   "outputs": [],
   "source": [
    "class Solution(object):\n",
    "    def numSquares(self, n):\n",
    "        \"\"\"\n",
    "        :type n: int\n",
    "        :rtype: int\n",
    "        \"\"\"\n",
    "        counter = 0\n",
    "        nums = [i**2 for i in range(int(pow(n, 0.5)) + 1)]\n",
    "        check_list = set([n])\n",
    "        while check_list:\n",
    "            temp = set()\n",
    "            counter += 1\n",
    "            for check in check_list:\n",
    "                for num in nums:\n",
    "                    if check == num:\n",
    "                        return counter\n",
    "                    if check < num:\n",
    "                        break\n",
    "                    temp.add(check - num)\n",
    "            check_list = temp\n",
    "        return counter    \n",
    "            "
   ]
  },
  {
   "cell_type": "code",
   "execution_count": null,
   "metadata": {},
   "outputs": [],
   "source": []
  }
 ],
 "metadata": {
  "kernelspec": {
   "display_name": "Python 3",
   "language": "python",
   "name": "python3"
  },
  "language_info": {
   "codemirror_mode": {
    "name": "ipython",
    "version": 3
   },
   "file_extension": ".py",
   "mimetype": "text/x-python",
   "name": "python",
   "nbconvert_exporter": "python",
   "pygments_lexer": "ipython3",
   "version": "3.7.3"
  }
 },
 "nbformat": 4,
 "nbformat_minor": 2
}
