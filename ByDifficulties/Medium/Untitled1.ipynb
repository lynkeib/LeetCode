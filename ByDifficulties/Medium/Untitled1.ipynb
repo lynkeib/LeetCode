{
 "cells": [
  {
   "cell_type": "code",
   "execution_count": 29,
   "metadata": {
    "ExecuteTime": {
     "end_time": "2019-08-27T18:25:09.403226Z",
     "start_time": "2019-08-27T18:25:09.394295Z"
    }
   },
   "outputs": [],
   "source": [
    "\n",
    "\n",
    "# Definition for a Node.\n",
    "class Node(object):\n",
    "    def __init__(self, val, next, random):\n",
    "        self.val = val\n",
    "        self.next = next\n",
    "        self.random = random\n",
    "\n",
    "class Solution(object):\n",
    "    def copyRandomList(self, head):\n",
    "        \"\"\"\n",
    "        :type head: Node\n",
    "        :rtype: Node\n",
    "        \"\"\"\n",
    "        new_head = Node(head.val, None, None)\n",
    "        curr = head.next\n",
    "        curr_ = new_head\n",
    "        mapping_head = dict()\n",
    "        mapping_new_head = dict()\n",
    "        num = 0\n",
    "        mapping_head[head] = num\n",
    "        mapping_new_head[num] = new_head\n",
    "        while curr:\n",
    "            num += 1\n",
    "            curr_.next = Node(curr.val, None, None)\n",
    "            curr = curr.next\n",
    "            curr_ = curr_.next\n",
    "            mapping_head[curr] = num\n",
    "            mapping_new_head[num] = curr_\n",
    "        \n",
    "        curr = head\n",
    "        curr_ = new_head\n",
    "        \n",
    "        while curr:\n",
    "            print(curr.val, curr_.val)\n",
    "            curr_.random = mapping_new_head[mapping_head[curr.random]]\n",
    "            curr = curr.next\n",
    "            curr_ = curr_.next\n",
    "        \n",
    "        #print(mapping_new_head[mapping_head[id(curr)]])\n",
    "        \n",
    "        #new_head.random = ctypes.cast(address, ctypes.py_object).value\n",
    "        \n",
    "        print()\n",
    "        \n",
    "        print(mapping_head)\n",
    "        print(mapping_new_head)\n",
    "        return new_head\n",
    "            "
   ]
  },
  {
   "cell_type": "code",
   "execution_count": 74,
   "metadata": {
    "ExecuteTime": {
     "end_time": "2019-08-27T19:39:00.391692Z",
     "start_time": "2019-08-27T19:39:00.387300Z"
    }
   },
   "outputs": [],
   "source": [
    "N6 = Node(6, None, None)\n",
    "N3 = Node(3, None, None)\n",
    "N1 = Node(1, None, None)\n",
    "N7 = Node(7, None, None)\n",
    "N2 = Node(2, None, None)\n",
    "N6.next = N3\n",
    "N3.next = N1\n",
    "N1.next = N7\n",
    "N7.next = N2\n"
   ]
  },
  {
   "cell_type": "code",
   "execution_count": 75,
   "metadata": {
    "ExecuteTime": {
     "end_time": "2019-08-27T19:39:00.787759Z",
     "start_time": "2019-08-27T19:39:00.783849Z"
    }
   },
   "outputs": [
    {
     "data": {
      "text/plain": [
       "<__main__.Node at 0x111035898>"
      ]
     },
     "execution_count": 75,
     "metadata": {},
     "output_type": "execute_result"
    }
   ],
   "source": [
    "N1"
   ]
  },
  {
   "cell_type": "code",
   "execution_count": 76,
   "metadata": {
    "ExecuteTime": {
     "end_time": "2019-08-27T19:39:01.199996Z",
     "start_time": "2019-08-27T19:39:01.195932Z"
    }
   },
   "outputs": [],
   "source": [
    "N6.random = N1\n",
    "N3.random = N7\n",
    "N1.random = N1\n",
    "N7.random = None\n",
    "N2.random = N7"
   ]
  },
  {
   "cell_type": "code",
   "execution_count": 77,
   "metadata": {
    "ExecuteTime": {
     "end_time": "2019-08-27T19:39:01.575636Z",
     "start_time": "2019-08-27T19:39:01.566560Z"
    }
   },
   "outputs": [
    {
     "data": {
      "text/plain": [
       "<__main__.Node at 0x111035898>"
      ]
     },
     "execution_count": 77,
     "metadata": {},
     "output_type": "execute_result"
    }
   ],
   "source": [
    "N1"
   ]
  },
  {
   "cell_type": "code",
   "execution_count": 78,
   "metadata": {
    "ExecuteTime": {
     "end_time": "2019-08-27T19:39:02.106962Z",
     "start_time": "2019-08-27T19:39:02.102420Z"
    }
   },
   "outputs": [
    {
     "data": {
      "text/plain": [
       "<__main__.Node at 0x111035898>"
      ]
     },
     "execution_count": 78,
     "metadata": {},
     "output_type": "execute_result"
    }
   ],
   "source": [
    "N1.random"
   ]
  },
  {
   "cell_type": "code",
   "execution_count": 80,
   "metadata": {
    "ExecuteTime": {
     "end_time": "2019-08-27T19:39:24.438023Z",
     "start_time": "2019-08-27T19:39:24.432853Z"
    }
   },
   "outputs": [
    {
     "data": {
      "text/plain": [
       "<__main__.Node at 0x111035898>"
      ]
     },
     "execution_count": 80,
     "metadata": {},
     "output_type": "execute_result"
    }
   ],
   "source": [
    "N6.random"
   ]
  },
  {
   "cell_type": "code",
   "execution_count": 79,
   "metadata": {
    "ExecuteTime": {
     "end_time": "2019-08-27T19:39:03.913386Z",
     "start_time": "2019-08-27T19:39:03.910539Z"
    }
   },
   "outputs": [],
   "source": [
    "A = Solution()"
   ]
  },
  {
   "cell_type": "code",
   "execution_count": 24,
   "metadata": {
    "ExecuteTime": {
     "end_time": "2019-08-27T18:19:32.224478Z",
     "start_time": "2019-08-27T18:19:32.218130Z"
    }
   },
   "outputs": [
    {
     "name": "stdout",
     "output_type": "stream",
     "text": [
      "<__main__.Node object at 0x110fefef0> <__main__.Node object at 0x110fef748>\n",
      "<__main__.Node object at 0x110feff60> <__main__.Node object at 0x110fef2e8>\n",
      "<__main__.Node object at 0x110fef4a8> <__main__.Node object at 0x110fef048>\n",
      "<__main__.Node object at 0x110feff98> <__main__.Node object at 0x110fef8d0>\n",
      "<__main__.Node object at 0x110fef400> <__main__.Node object at 0x110fef860>\n",
      "\n",
      "{<__main__.Node object at 0x110fefef0>: 0, <__main__.Node object at 0x110fef4a8>: 1, <__main__.Node object at 0x110feff98>: 2, <__main__.Node object at 0x110fef400>: 3, None: 4}\n",
      "{0: <__main__.Node object at 0x110fef748>, 1: <__main__.Node object at 0x110fef2e8>, 2: <__main__.Node object at 0x110fef048>, 3: <__main__.Node object at 0x110fef8d0>, 4: <__main__.Node object at 0x110fef860>}\n"
     ]
    },
    {
     "data": {
      "text/plain": [
       "<__main__.Node at 0x110fef748>"
      ]
     },
     "execution_count": 24,
     "metadata": {},
     "output_type": "execute_result"
    }
   ],
   "source": [
    "A.copyRandomList(N6)"
   ]
  },
  {
   "cell_type": "code",
   "execution_count": 13,
   "metadata": {
    "ExecuteTime": {
     "end_time": "2019-08-27T18:18:43.684150Z",
     "start_time": "2019-08-27T18:18:43.673741Z"
    }
   },
   "outputs": [
    {
     "data": {
      "text/plain": [
       "<__main__.Node at 0x110fef6a0>"
      ]
     },
     "execution_count": 13,
     "metadata": {},
     "output_type": "execute_result"
    }
   ],
   "source": [
    "N1"
   ]
  },
  {
   "cell_type": "code",
   "execution_count": 84,
   "metadata": {
    "ExecuteTime": {
     "end_time": "2019-08-27T19:39:57.796335Z",
     "start_time": "2019-08-27T19:39:57.790981Z"
    }
   },
   "outputs": [
    {
     "data": {
      "text/plain": [
       "(<__main__.Node at 0x111035898>, <__main__.Node at 0x111035940>)"
      ]
     },
     "execution_count": 84,
     "metadata": {},
     "output_type": "execute_result"
    }
   ],
   "source": [
    "N_1 = Node(1, None, None)\n",
    "N_2 = Node(2, None, None)\n",
    "N1, N2"
   ]
  },
  {
   "cell_type": "code",
   "execution_count": 85,
   "metadata": {
    "ExecuteTime": {
     "end_time": "2019-08-27T19:39:58.965097Z",
     "start_time": "2019-08-27T19:39:58.962579Z"
    }
   },
   "outputs": [],
   "source": [
    "N_1.next = N_2"
   ]
  },
  {
   "cell_type": "code",
   "execution_count": 86,
   "metadata": {
    "ExecuteTime": {
     "end_time": "2019-08-27T19:39:59.852757Z",
     "start_time": "2019-08-27T19:39:59.847653Z"
    }
   },
   "outputs": [
    {
     "data": {
      "text/plain": [
       "(<__main__.Node at 0x111035898>, <__main__.Node at 0x111035940>)"
      ]
     },
     "execution_count": 86,
     "metadata": {},
     "output_type": "execute_result"
    }
   ],
   "source": [
    "N1, N2"
   ]
  },
  {
   "cell_type": "code",
   "execution_count": 87,
   "metadata": {
    "ExecuteTime": {
     "end_time": "2019-08-27T19:40:03.654273Z",
     "start_time": "2019-08-27T19:40:03.651091Z"
    }
   },
   "outputs": [],
   "source": [
    "N_1.random = N_2\n",
    "N_2.random = N_2"
   ]
  },
  {
   "cell_type": "code",
   "execution_count": 88,
   "metadata": {
    "ExecuteTime": {
     "end_time": "2019-08-27T19:40:04.523079Z",
     "start_time": "2019-08-27T19:40:04.518375Z"
    }
   },
   "outputs": [
    {
     "data": {
      "text/plain": [
       "(<__main__.Node at 0x111035898>, <__main__.Node at 0x111035940>)"
      ]
     },
     "execution_count": 88,
     "metadata": {},
     "output_type": "execute_result"
    }
   ],
   "source": [
    "N1, N2"
   ]
  },
  {
   "cell_type": "code",
   "execution_count": 89,
   "metadata": {
    "ExecuteTime": {
     "end_time": "2019-08-27T19:40:06.859248Z",
     "start_time": "2019-08-27T19:40:06.854867Z"
    }
   },
   "outputs": [
    {
     "data": {
      "text/plain": [
       "<__main__.Node at 0x111035a20>"
      ]
     },
     "execution_count": 89,
     "metadata": {},
     "output_type": "execute_result"
    }
   ],
   "source": [
    "N2.random"
   ]
  },
  {
   "cell_type": "code",
   "execution_count": 90,
   "metadata": {
    "ExecuteTime": {
     "end_time": "2019-08-27T19:40:07.501414Z",
     "start_time": "2019-08-27T19:40:07.498706Z"
    }
   },
   "outputs": [],
   "source": [
    "import ctypes"
   ]
  },
  {
   "cell_type": "code",
   "execution_count": 64,
   "metadata": {
    "ExecuteTime": {
     "end_time": "2019-08-27T19:29:07.787187Z",
     "start_time": "2019-08-27T19:29:07.778795Z"
    }
   },
   "outputs": [
    {
     "ename": "NameError",
     "evalue": "name '__main__' is not defined",
     "output_type": "error",
     "traceback": [
      "\u001b[0;31m---------------------------------------------------------------------------\u001b[0m",
      "\u001b[0;31mNameError\u001b[0m                                 Traceback (most recent call last)",
      "\u001b[0;32m<ipython-input-64-8e6b9a1e8f7d>\u001b[0m in \u001b[0;36m<module>\u001b[0;34m\u001b[0m\n\u001b[0;32m----> 1\u001b[0;31m \u001b[0mctypes\u001b[0m\u001b[0;34m.\u001b[0m\u001b[0mcast\u001b[0m\u001b[0;34m(\u001b[0m\u001b[0;36m0x11104e668\u001b[0m\u001b[0;34m,\u001b[0m \u001b[0m__main__\u001b[0m\u001b[0;34m.\u001b[0m\u001b[0mNode\u001b[0m\u001b[0;34m)\u001b[0m\u001b[0;34m\u001b[0m\u001b[0;34m\u001b[0m\u001b[0m\n\u001b[0m",
      "\u001b[0;31mNameError\u001b[0m: name '__main__' is not defined"
     ]
    }
   ],
   "source": [
    "ctypes.cast(0x11104e668, __main__.Node)"
   ]
  },
  {
   "cell_type": "code",
   "execution_count": 33,
   "metadata": {
    "ExecuteTime": {
     "end_time": "2019-08-27T18:25:13.690701Z",
     "start_time": "2019-08-27T18:25:13.679592Z"
    }
   },
   "outputs": [
    {
     "name": "stdout",
     "output_type": "stream",
     "text": [
      "<__main__.Node object at 0x110ffd2b0> <__main__.Node object at 0x11101edd8>\n"
     ]
    },
    {
     "ename": "KeyError",
     "evalue": "<__main__.Node object at 0x11101eac8>",
     "output_type": "error",
     "traceback": [
      "\u001b[0;31m---------------------------------------------------------------------------\u001b[0m",
      "\u001b[0;31mKeyError\u001b[0m                                  Traceback (most recent call last)",
      "\u001b[0;32m<ipython-input-33-0480f8e9d6a2>\u001b[0m in \u001b[0;36m<module>\u001b[0;34m\u001b[0m\n\u001b[0;32m----> 1\u001b[0;31m \u001b[0mA\u001b[0m\u001b[0;34m.\u001b[0m\u001b[0mcopyRandomList\u001b[0m\u001b[0;34m(\u001b[0m\u001b[0mN_1\u001b[0m\u001b[0;34m)\u001b[0m\u001b[0;34m\u001b[0m\u001b[0;34m\u001b[0m\u001b[0m\n\u001b[0m",
      "\u001b[0;32m<ipython-input-18-641a911d5225>\u001b[0m in \u001b[0;36mcopyRandomList\u001b[0;34m(self, head)\u001b[0m\n\u001b[1;32m     35\u001b[0m         \u001b[0;32mwhile\u001b[0m \u001b[0mcurr\u001b[0m\u001b[0;34m:\u001b[0m\u001b[0;34m\u001b[0m\u001b[0;34m\u001b[0m\u001b[0m\n\u001b[1;32m     36\u001b[0m             \u001b[0mprint\u001b[0m\u001b[0;34m(\u001b[0m\u001b[0mcurr\u001b[0m\u001b[0;34m,\u001b[0m \u001b[0mcurr_\u001b[0m\u001b[0;34m)\u001b[0m\u001b[0;34m\u001b[0m\u001b[0;34m\u001b[0m\u001b[0m\n\u001b[0;32m---> 37\u001b[0;31m             \u001b[0mcurr_\u001b[0m\u001b[0;34m.\u001b[0m\u001b[0mrandom\u001b[0m \u001b[0;34m=\u001b[0m \u001b[0mmapping_new_head\u001b[0m\u001b[0;34m[\u001b[0m\u001b[0mmapping_head\u001b[0m\u001b[0;34m[\u001b[0m\u001b[0mcurr\u001b[0m\u001b[0;34m.\u001b[0m\u001b[0mrandom\u001b[0m\u001b[0;34m]\u001b[0m\u001b[0;34m]\u001b[0m\u001b[0;34m\u001b[0m\u001b[0;34m\u001b[0m\u001b[0m\n\u001b[0m\u001b[1;32m     38\u001b[0m             \u001b[0mcurr\u001b[0m \u001b[0;34m=\u001b[0m \u001b[0mcurr\u001b[0m\u001b[0;34m.\u001b[0m\u001b[0mnext\u001b[0m\u001b[0;34m\u001b[0m\u001b[0;34m\u001b[0m\u001b[0m\n\u001b[1;32m     39\u001b[0m             \u001b[0mcurr_\u001b[0m \u001b[0;34m=\u001b[0m \u001b[0mcurr_\u001b[0m\u001b[0;34m.\u001b[0m\u001b[0mnext\u001b[0m\u001b[0;34m\u001b[0m\u001b[0;34m\u001b[0m\u001b[0m\n",
      "\u001b[0;31mKeyError\u001b[0m: <__main__.Node object at 0x11101eac8>"
     ]
    }
   ],
   "source": [
    "A.copyRandomList(N_1)"
   ]
  },
  {
   "cell_type": "code",
   "execution_count": 40,
   "metadata": {
    "ExecuteTime": {
     "end_time": "2019-08-27T19:24:53.956596Z",
     "start_time": "2019-08-27T19:24:53.953300Z"
    }
   },
   "outputs": [
    {
     "data": {
      "text/plain": [
       "<__main__.Node at 0x110fef400>"
      ]
     },
     "execution_count": 40,
     "metadata": {},
     "output_type": "execute_result"
    }
   ],
   "source": [
    "N2"
   ]
  },
  {
   "cell_type": "code",
   "execution_count": 41,
   "metadata": {
    "ExecuteTime": {
     "end_time": "2019-08-27T19:24:54.593140Z",
     "start_time": "2019-08-27T19:24:54.588816Z"
    }
   },
   "outputs": [
    {
     "data": {
      "text/plain": [
       "<__main__.Node at 0x110feff98>"
      ]
     },
     "execution_count": 41,
     "metadata": {},
     "output_type": "execute_result"
    }
   ],
   "source": [
    "N2.random"
   ]
  },
  {
   "cell_type": "code",
   "execution_count": 65,
   "metadata": {
    "ExecuteTime": {
     "end_time": "2019-08-27T19:34:07.894795Z",
     "start_time": "2019-08-27T19:34:07.891969Z"
    }
   },
   "outputs": [],
   "source": [
    "from collections import defaultdict"
   ]
  },
  {
   "cell_type": "code",
   "execution_count": 67,
   "metadata": {
    "ExecuteTime": {
     "end_time": "2019-08-27T19:34:47.987256Z",
     "start_time": "2019-08-27T19:34:47.984150Z"
    }
   },
   "outputs": [],
   "source": [
    "def factory():\n",
    "\treturn RandomListNode(0)"
   ]
  },
  {
   "cell_type": "code",
   "execution_count": 68,
   "metadata": {
    "ExecuteTime": {
     "end_time": "2019-08-27T19:34:50.882518Z",
     "start_time": "2019-08-27T19:34:50.879612Z"
    }
   },
   "outputs": [],
   "source": [
    "a = defaultdict(factory)"
   ]
  },
  {
   "cell_type": "code",
   "execution_count": 69,
   "metadata": {
    "ExecuteTime": {
     "end_time": "2019-08-27T19:35:29.473757Z",
     "start_time": "2019-08-27T19:35:29.465606Z"
    }
   },
   "outputs": [
    {
     "ename": "AttributeError",
     "evalue": "'Node' object has no attribute 'label'",
     "output_type": "error",
     "traceback": [
      "\u001b[0;31m---------------------------------------------------------------------------\u001b[0m",
      "\u001b[0;31mAttributeError\u001b[0m                            Traceback (most recent call last)",
      "\u001b[0;32m<ipython-input-69-f058bff92f06>\u001b[0m in \u001b[0;36m<module>\u001b[0;34m\u001b[0m\n\u001b[0;32m----> 1\u001b[0;31m \u001b[0mN1\u001b[0m\u001b[0;34m.\u001b[0m\u001b[0mlabel\u001b[0m\u001b[0;34m\u001b[0m\u001b[0;34m\u001b[0m\u001b[0m\n\u001b[0m",
      "\u001b[0;31mAttributeError\u001b[0m: 'Node' object has no attribute 'label'"
     ]
    }
   ],
   "source": [
    "N1.label"
   ]
  },
  {
   "cell_type": "code",
   "execution_count": 70,
   "metadata": {
    "ExecuteTime": {
     "end_time": "2019-08-27T19:35:51.334046Z",
     "start_time": "2019-08-27T19:35:51.325754Z"
    }
   },
   "outputs": [],
   "source": [
    "def factory():\n",
    "\treturn RandomListNode(0)\n",
    "\n",
    "class Solution:\n",
    "\t# @param head, a RandomListNode\n",
    "\t# @return a RandomListNode\n",
    "\tdef copyRandomList(self, head):\n",
    "\t\tif not head:\n",
    "\t\t\treturn None\n",
    "\t\ttemp = head\n",
    "\t\tnode_map =collections.defaultdict(factory)\n",
    "\t\tnode_map[None] = None # avoid None as key to generate a RandomListNode\n",
    "\t\twhile temp:\n",
    "\t\t\tnode_map[temp].label = temp.label\n",
    "\t\t\tnode_map[temp].next = node_map[temp.next]\n",
    "\t\t\tnode_map[temp].random = node_map[temp.random]\n",
    "\t\t\ttemp = temp.next\n",
    "\t\tdel node_map[None]\n",
    "\t\treturn node_map[head]"
   ]
  },
  {
   "cell_type": "code",
   "execution_count": 72,
   "metadata": {
    "ExecuteTime": {
     "end_time": "2019-08-27T19:36:07.233630Z",
     "start_time": "2019-08-27T19:36:07.230834Z"
    }
   },
   "outputs": [],
   "source": [
    "node_map = defaultdict(factory)"
   ]
  },
  {
   "cell_type": "code",
   "execution_count": 73,
   "metadata": {
    "ExecuteTime": {
     "end_time": "2019-08-27T19:36:25.869006Z",
     "start_time": "2019-08-27T19:36:25.861976Z"
    }
   },
   "outputs": [
    {
     "ename": "AttributeError",
     "evalue": "'Node' object has no attribute 'label'",
     "output_type": "error",
     "traceback": [
      "\u001b[0;31m---------------------------------------------------------------------------\u001b[0m",
      "\u001b[0;31mAttributeError\u001b[0m                            Traceback (most recent call last)",
      "\u001b[0;32m<ipython-input-73-4ce893e47ccc>\u001b[0m in \u001b[0;36m<module>\u001b[0;34m\u001b[0m\n\u001b[0;32m----> 1\u001b[0;31m \u001b[0mnode_map\u001b[0m\u001b[0;34m[\u001b[0m\u001b[0mN1\u001b[0m\u001b[0;34m]\u001b[0m\u001b[0;34m.\u001b[0m\u001b[0mlabel\u001b[0m \u001b[0;34m=\u001b[0m\u001b[0mN1\u001b[0m\u001b[0;34m.\u001b[0m\u001b[0mlabel\u001b[0m\u001b[0;34m\u001b[0m\u001b[0;34m\u001b[0m\u001b[0m\n\u001b[0m",
      "\u001b[0;31mAttributeError\u001b[0m: 'Node' object has no attribute 'label'"
     ]
    }
   ],
   "source": [
    "node_map[N1].label =N1.label"
   ]
  },
  {
   "cell_type": "code",
   "execution_count": null,
   "metadata": {},
   "outputs": [],
   "source": []
  }
 ],
 "metadata": {
  "kernelspec": {
   "display_name": "Python 3",
   "language": "python",
   "name": "python3"
  },
  "language_info": {
   "codemirror_mode": {
    "name": "ipython",
    "version": 3
   },
   "file_extension": ".py",
   "mimetype": "text/x-python",
   "name": "python",
   "nbconvert_exporter": "python",
   "pygments_lexer": "ipython3",
   "version": "3.7.1"
  },
  "toc": {
   "base_numbering": 1,
   "nav_menu": {},
   "number_sections": true,
   "sideBar": true,
   "skip_h1_title": false,
   "title_cell": "Table of Contents",
   "title_sidebar": "Contents",
   "toc_cell": false,
   "toc_position": {},
   "toc_section_display": true,
   "toc_window_display": false
  }
 },
 "nbformat": 4,
 "nbformat_minor": 2
}
