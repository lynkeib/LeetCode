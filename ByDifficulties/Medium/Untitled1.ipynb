{
 "cells": [
  {
   "cell_type": "code",
   "execution_count": 172,
   "metadata": {
    "ExecuteTime": {
     "end_time": "2019-08-28T03:03:45.286460Z",
     "start_time": "2019-08-28T03:03:45.265565Z"
    }
   },
   "outputs": [],
   "source": [
    "class globalV(object):\n",
    "    def __init__(self, s):\n",
    "        self.s = s\n",
    "        self.index = 0\n",
    "        self.number_stack = []\n",
    "        self.operation_stack = []\n",
    "        self.number = 0\n",
    "        \n",
    "        self.compute_flag = 0\n",
    "        \n",
    "        #self.BeginSTATE = 0\n",
    "        self.NumberSTATE = 1\n",
    "        self.OperationSTATE = 2\n",
    "        \n",
    "        self.STATE = self.NumberSTATE\n",
    "\n",
    "class Solution(object):\n",
    "    def calculate(self, s):\n",
    "        \"\"\"\n",
    "        :type s: str\n",
    "        :rtype: int\n",
    "        \"\"\"\n",
    "        self.glo = globalV(s)\n",
    "        while self.glo.index < len(self.glo.s):\n",
    "            #print('index', self.glo.index)\n",
    "            if self.glo.s[self.glo.index] == \" \":\n",
    "                self.glo.index += 1\n",
    "                continue\n",
    "            #print('STATE:', self.glo.STATE)\n",
    "            self.STATE_MACHINE(self.glo.STATE)()\n",
    "            #print('number', self.glo.number_stack)\n",
    "            #print('operation', self.glo.operation_stack)\n",
    "            self.glo.index += 1\n",
    "            #print(\" \")\n",
    "            \n",
    "        self.glo.number_stack.append(self.glo.number)\n",
    "        self.glo.number = 0\n",
    "        \n",
    "        if self.glo.operation_stack and self.glo.operation_stack[-1] in ('*', '/'):\n",
    "            self.Compute()\n",
    "            \n",
    "        #print(self.glo.number_stack)\n",
    "        #print(self.glo.operation_stack)\n",
    "        \n",
    "        if self.glo.operation_stack and self.glo.operation_stack:\n",
    "            self.glo.number_stack = self.glo.number_stack[::-1]\n",
    "            self.glo.operation_stack = self.glo.operation_stack[::-1]\n",
    "            \n",
    "        #print(self.glo.number_stack)\n",
    "        #print(self.glo.operation_stack)\n",
    "        while self.glo.operation_stack:\n",
    "            self.finialCompute()\n",
    "            #print(self.glo.number_stack)\n",
    "            #print(self.glo.operation_stack)\n",
    "        if self.glo.number == 0 and not self.glo.number_stack:\n",
    "            return 0\n",
    "        return self.glo.number_stack[-1]\n",
    "            \n",
    "            \n",
    "    def STATE_MACHINE(self, num):\n",
    "        STATES = {\n",
    "            #0:self.BeginSTATE,\n",
    "                 1:self.NumberSTATE,\n",
    "                 2:self.OperationSTATE}\n",
    "        method = STATES.get(num, None)\n",
    "        return method\n",
    "    \n",
    "    def finialCompute(self):\n",
    "        if len(self.glo.number_stack) < 2:\n",
    "            return\n",
    "        num1 = self.glo.number_stack.pop()\n",
    "        num2 = self.glo.number_stack.pop()\n",
    "        operator = self.glo.operation_stack.pop()\n",
    "        if operator == '+':\n",
    "            self.glo.number_stack.append(num1 + num2)\n",
    "        elif operator == '-':\n",
    "            self.glo.number_stack.append(num1 - num2)\n",
    "    \n",
    "    def Compute(self):\n",
    "        if len(self.glo.number_stack) < 2:\n",
    "            return\n",
    "        num1 = self.glo.number_stack.pop()\n",
    "        num2 = self.glo.number_stack.pop()\n",
    "        operator = self.glo.operation_stack.pop()\n",
    "        if operator == '+':\n",
    "            self.glo.number_stack.append(num1 + num2)\n",
    "        elif operator == '-':\n",
    "            self.glo.number_stack.append(num2 - num1)\n",
    "        elif operator == '*':\n",
    "            self.glo.number_stack.append(num2 * num1)\n",
    "        else:\n",
    "            self.glo.number_stack.append(int(num2 / num1))\n",
    "    \n",
    "    #def BeginSTATE(self):\n",
    "        \n",
    "    \n",
    "    def NumberSTATE(self):\n",
    "        if self.glo.s[self.glo.index] >= '0' and self.glo.s[self.glo.index] <= '9':\n",
    "            self.glo.number = self.glo.number * 10 + int(self.glo.s[self.glo.index])\n",
    "        else:\n",
    "            self.glo.number_stack.append(self.glo.number)\n",
    "            if self.glo.operation_stack and self.glo.operation_stack[-1] in (\"*\", \"/\"):\n",
    "                self.Compute()\n",
    "            self.glo.number = 0\n",
    "            self.glo.STATE = self.glo.OperationSTATE\n",
    "            self.glo.index -= 1\n",
    "    \n",
    "    def OperationSTATE(self):\n",
    "        if self.glo.s[self.glo.index] >= '0' and self.glo.s[self.glo.index] <= '9':\n",
    "            self.glo.STATE = self.glo.NumberSTATE\n",
    "            self.glo.index -= 1\n",
    "        elif self.glo.s[self.glo.index] in (\"+\", '-', \"*\", \"/\"):\n",
    "            self.glo.operation_stack.append(self.glo.s[self.glo.index])"
   ]
  },
  {
   "cell_type": "code",
   "execution_count": 173,
   "metadata": {
    "ExecuteTime": {
     "end_time": "2019-08-28T03:03:46.212409Z",
     "start_time": "2019-08-28T03:03:46.209376Z"
    }
   },
   "outputs": [],
   "source": [
    "A = Solution()"
   ]
  },
  {
   "cell_type": "code",
   "execution_count": 174,
   "metadata": {
    "ExecuteTime": {
     "end_time": "2019-08-28T03:03:46.438124Z",
     "start_time": "2019-08-28T03:03:46.434344Z"
    }
   },
   "outputs": [
    {
     "data": {
      "text/plain": [
       "0"
      ]
     },
     "execution_count": 174,
     "metadata": {},
     "output_type": "execute_result"
    }
   ],
   "source": [
    "A.calculate('0 + 0')"
   ]
  },
  {
   "cell_type": "code",
   "execution_count": 175,
   "metadata": {
    "ExecuteTime": {
     "end_time": "2019-08-28T03:03:47.005016Z",
     "start_time": "2019-08-28T03:03:46.999658Z"
    }
   },
   "outputs": [
    {
     "data": {
      "text/plain": [
       "1"
      ]
     },
     "execution_count": 175,
     "metadata": {},
     "output_type": "execute_result"
    }
   ],
   "source": [
    "A.calculate('1-2 + 3 *3/4')"
   ]
  },
  {
   "cell_type": "code",
   "execution_count": 176,
   "metadata": {
    "ExecuteTime": {
     "end_time": "2019-08-28T03:03:48.435397Z",
     "start_time": "2019-08-28T03:03:48.430850Z"
    }
   },
   "outputs": [
    {
     "data": {
      "text/plain": [
       "1"
      ]
     },
     "execution_count": 176,
     "metadata": {},
     "output_type": "execute_result"
    }
   ],
   "source": [
    "A.calculate('1')"
   ]
  },
  {
   "cell_type": "code",
   "execution_count": 177,
   "metadata": {
    "ExecuteTime": {
     "end_time": "2019-08-28T03:03:52.628625Z",
     "start_time": "2019-08-28T03:03:52.624274Z"
    }
   },
   "outputs": [
    {
     "data": {
      "text/plain": [
       "42"
      ]
     },
     "execution_count": 177,
     "metadata": {},
     "output_type": "execute_result"
    }
   ],
   "source": [
    "A.calculate('42')"
   ]
  },
  {
   "cell_type": "code",
   "execution_count": 166,
   "metadata": {
    "ExecuteTime": {
     "end_time": "2019-08-28T03:00:15.219061Z",
     "start_time": "2019-08-28T03:00:15.197801Z"
    }
   },
   "outputs": [],
   "source": [
    "class global_(object):\n",
    "    def __init__(self, s):\n",
    "        self.Begin_State = 0\n",
    "        self.Number_State = 1\n",
    "        self.Operation_State = 2\n",
    "\n",
    "        self.number_stack = []\n",
    "        self.operation_stack = []\n",
    "        self.number = 0\n",
    "        self.compute_flag = 0\n",
    "\n",
    "        self.STATE = self.Begin_State\n",
    "\n",
    "        self.index = 0\n",
    "        \n",
    "        self.s = s\n",
    "        \n",
    "class Solution(object):\n",
    "        \n",
    "    def calculate(self, s):\n",
    "        \"\"\"\n",
    "        :type s: str\n",
    "        :rtype: int\n",
    "        \"\"\"\n",
    "        self.glo = global_(s)\n",
    "        #print(self.glo.s)\n",
    "        while self.glo.index < len(self.glo.s):\n",
    "            if self.glo.s[self.glo.index] == ' ':\n",
    "                self.glo.index += 1\n",
    "                continue\n",
    "            self.State_Machine(self.glo.STATE)()\n",
    "            #print(f'number_stack: {self.glo.number_stack}')\n",
    "            #print(f'STATE: {self.glo.STATE}')\n",
    "            self.glo.index += 1\n",
    "            #print(f'index :{self.glo.index}')\n",
    "        if self.glo.number != 0:\n",
    "            self.glo.number_stack.append(self.glo.number)\n",
    "            self.computer()\n",
    "        if self.glo.number == 0 and not self.glo.number_stack:\n",
    "            return 0\n",
    "        return self.glo.number_stack[-1]\n",
    "            \n",
    "            \n",
    "    def computer(self):\n",
    "        if len(self.glo.number_stack) < 2 or len(self.glo.operation_stack) < 1:\n",
    "            return\n",
    "        num2 = self.glo.number_stack.pop()\n",
    "        num1 = self.glo.number_stack.pop()\n",
    "        operator = self.glo.operation_stack.pop()\n",
    "        if operator == '+':\n",
    "            self.glo.number_stack.append(num1 + num2)\n",
    "        else:\n",
    "            self.glo.number_stack.append(num1 - num2)\n",
    "    \n",
    "    def State_Machine(self, num):\n",
    "        status = {0: self.BeginStatus,\n",
    "                  1: self.NumberStatus,\n",
    "                  2: self.OperationStatus}\n",
    "        method = status.get(num, None)\n",
    "        return method\n",
    "    \n",
    "    def BeginStatus(self):\n",
    "        #print('beginStatus')\n",
    "        if self.glo.s[self.glo.index] >= '0' and self.glo.s[self.glo.index] <= '9':\n",
    "            self.glo.STATE = self.glo.Number_State\n",
    "        else:\n",
    "            self.glo.STATE = self.glo.Operation_State\n",
    "        self.glo.index -= 1\n",
    "        \n",
    "    def NumberStatus(self):\n",
    "        #print('NumberStatus')\n",
    "        #print(f'current cha in number_state: {self.glo.s[self.glo.index]}')\n",
    "        if self.glo.s[self.glo.index] >= '0' and self.glo.s[self.glo.index] <= '9':\n",
    "            self.glo.number = self.glo.number * 10 + int(self.glo.s[self.glo.index])\n",
    "            #print(f'number in NUmber Stats: {self.glo.number}')\n",
    "        else:\n",
    "            self.glo.number_stack.append(self.glo.number)\n",
    "            #print(f'number_stack in number_state: {self.glo.number_stack}')\n",
    "            if self.glo.compute_flag == 1:\n",
    "                self.computer()\n",
    "            self.glo.number = 0\n",
    "            self.glo.index -= 1\n",
    "            self.glo.STATE = self.glo.Operation_State\n",
    "        \n",
    "    def OperationStatus(self):\n",
    "        #print('OperationStatus')\n",
    "        if self.glo.s[self.glo.index] == \"+\" or self.glo.s[self.glo.index] == '-':\n",
    "            self.glo.operation_stack.append(self.glo.s[self.glo.index])\n",
    "            self.glo.compute_flag = 1\n",
    "        elif self.glo.s[self.glo.index] == '(':\n",
    "            self.glo.STATE = self.glo.Number_State\n",
    "            self.glo.compute_flag = 0\n",
    "        elif self.glo.s[self.glo.index] >= '0' and self.glo.s[self.glo.index] <= '9':\n",
    "            self.glo.STATE = self.glo.Number_State\n",
    "            self.glo.index -= 1\n",
    "        elif self.glo.s[self.glo.index] == ')':\n",
    "            self.computer()"
   ]
  },
  {
   "cell_type": "code",
   "execution_count": 116,
   "metadata": {
    "ExecuteTime": {
     "end_time": "2019-08-28T02:31:03.349629Z",
     "start_time": "2019-08-28T02:31:03.346548Z"
    }
   },
   "outputs": [],
   "source": [
    "A = Solution()"
   ]
  },
  {
   "cell_type": "code",
   "execution_count": 120,
   "metadata": {
    "ExecuteTime": {
     "end_time": "2019-08-28T02:31:38.577078Z",
     "start_time": "2019-08-28T02:31:38.572133Z"
    }
   },
   "outputs": [
    {
     "data": {
      "text/plain": [
       "0"
      ]
     },
     "execution_count": 120,
     "metadata": {},
     "output_type": "execute_result"
    }
   ],
   "source": [
    "A.calculate('0  + 0')"
   ]
  },
  {
   "cell_type": "code",
   "execution_count": null,
   "metadata": {},
   "outputs": [],
   "source": []
  }
 ],
 "metadata": {
  "kernelspec": {
   "display_name": "Python 3",
   "language": "python",
   "name": "python3"
  },
  "language_info": {
   "codemirror_mode": {
    "name": "ipython",
    "version": 3
   },
   "file_extension": ".py",
   "mimetype": "text/x-python",
   "name": "python",
   "nbconvert_exporter": "python",
   "pygments_lexer": "ipython3",
   "version": "3.7.1"
  },
  "toc": {
   "base_numbering": 1,
   "nav_menu": {},
   "number_sections": true,
   "sideBar": true,
   "skip_h1_title": false,
   "title_cell": "Table of Contents",
   "title_sidebar": "Contents",
   "toc_cell": false,
   "toc_position": {},
   "toc_section_display": true,
   "toc_window_display": false
  }
 },
 "nbformat": 4,
 "nbformat_minor": 2
}
