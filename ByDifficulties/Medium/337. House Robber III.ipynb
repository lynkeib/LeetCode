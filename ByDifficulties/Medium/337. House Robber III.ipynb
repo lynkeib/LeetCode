{
 "cells": [
  {
   "cell_type": "markdown",
   "metadata": {},
   "source": [
    "# TLE"
   ]
  },
  {
   "cell_type": "code",
   "execution_count": 4,
   "metadata": {
    "ExecuteTime": {
     "end_time": "2019-09-04T02:12:18.491820Z",
     "start_time": "2019-09-04T02:12:18.484670Z"
    }
   },
   "outputs": [],
   "source": [
    "# Definition for a binary tree node.\n",
    "# class TreeNode(object):\n",
    "#     def __init__(self, x):\n",
    "#         self.val = x\n",
    "#         self.left = None\n",
    "#         self.right = None\n",
    "\n",
    "class Solution(object):\n",
    "    def rob(self, root):\n",
    "        \"\"\"\n",
    "        :type root: TreeNode\n",
    "        :rtype: int\n",
    "        \"\"\"\n",
    "        return self.dfs(root, 1)\n",
    "        \n",
    "    def dfs(self, root, can_rob):\n",
    "        if not root:\n",
    "            return 0\n",
    "        ## if you can cab\n",
    "        if can_rob:\n",
    "            ## if you rob\n",
    "            left_rob_max = self.dfs(root.left, 0)\n",
    "            right_rob_max = self.dfs(root.right, 0)\n",
    "            ## if you do not rob\n",
    "            left_nrob_max = self.dfs(root.left, 1)\n",
    "            right_nrob_max = self.dfs(root.right, 1)\n",
    "            return max(left_rob_max + right_rob_max + root.val, left_nrob_max + right_nrob_max)\n",
    "        ## if you can not rob\n",
    "        else:\n",
    "            n_left_rob_max = self.dfs(root.left, 1)\n",
    "            n_right_rob_max = self.dfs(root.right, 1)\n",
    "            return n_left_rob_max + n_right_rob_max    "
   ]
  },
  {
   "cell_type": "markdown",
   "metadata": {},
   "source": [
    "# DP"
   ]
  },
  {
   "cell_type": "code",
   "execution_count": 3,
   "metadata": {
    "ExecuteTime": {
     "end_time": "2019-09-04T02:12:01.146919Z",
     "start_time": "2019-09-04T02:12:01.135560Z"
    }
   },
   "outputs": [],
   "source": [
    "# Definition for a binary tree node.\n",
    "# class TreeNode(object):\n",
    "#     def __init__(self, x):\n",
    "#         self.val = x\n",
    "#         self.left = None\n",
    "#         self.right = None\n",
    "\n",
    "class Solution(object):\n",
    "    def rob(self, root):\n",
    "        \"\"\"\n",
    "        :type root: TreeNode\n",
    "        :rtype: int\n",
    "        \"\"\"\n",
    "        path_record = dict()\n",
    "        return self.dfs(root, 1, path_record)\n",
    "        \n",
    "    def dfs(self, root, can_rob, path_record):\n",
    "        if not root:\n",
    "            return 0\n",
    "        ## if you can cab\n",
    "        if can_rob:\n",
    "            ## if you rob\n",
    "            ### if we do not have this record\n",
    "            if (root, 1) not in path_record:\n",
    "                left_rob_max = self.dfs(root.left, 0, path_record)\n",
    "                right_rob_max = self.dfs(root.right, 0, path_record)\n",
    "                path_record[(root, 1)] = left_rob_max + right_rob_max + root.val\n",
    "                rob_value = left_rob_max + right_rob_max + root.val\n",
    "            ### if we have this record\n",
    "            else:\n",
    "                rob_value = path_record[(root, 1)]\n",
    "            ## if you do not rob\n",
    "            ### if we do not have this record\n",
    "            if (root, 0) not in path_record:\n",
    "                left_nrob_max = self.dfs(root.left, 1, path_record)\n",
    "                right_nrob_max = self.dfs(root.right, 1, path_record)\n",
    "                path_record[(root, 0)] = left_nrob_max + right_nrob_max\n",
    "                n_rob_value = left_nrob_max + right_nrob_max\n",
    "            ### if we have this record\n",
    "            else:\n",
    "                n_rob_value = path_record[(root, 0)]\n",
    "            return max(rob_value, n_rob_value)\n",
    "        ## if you can not rob\n",
    "        else:\n",
    "            ### if we do not have this record\n",
    "            if (root, 0) not in path_record:\n",
    "                n_left_rob_max = self.dfs(root.left, 1, path_record)\n",
    "                n_right_rob_max = self.dfs(root.right, 1, path_record)\n",
    "                path_record[(root, 0)] = n_left_rob_max + n_right_rob_max\n",
    "                n_rob_value = n_left_rob_max + n_right_rob_max\n",
    "            ### if we have this record\n",
    "            else:\n",
    "                n_rob_value = path_record[(root, 0)]\n",
    "            return n_rob_value"
   ]
  },
  {
   "cell_type": "markdown",
   "metadata": {},
   "source": [
    "# DP but less time (without considering if rob or not)"
   ]
  },
  {
   "cell_type": "code",
   "execution_count": null,
   "metadata": {},
   "outputs": [],
   "source": []
  }
 ],
 "metadata": {
  "kernelspec": {
   "display_name": "Python 3",
   "language": "python",
   "name": "python3"
  },
  "language_info": {
   "codemirror_mode": {
    "name": "ipython",
    "version": 3
   },
   "file_extension": ".py",
   "mimetype": "text/x-python",
   "name": "python",
   "nbconvert_exporter": "python",
   "pygments_lexer": "ipython3",
   "version": "3.7.1"
  },
  "toc": {
   "base_numbering": 1,
   "nav_menu": {},
   "number_sections": true,
   "sideBar": true,
   "skip_h1_title": false,
   "title_cell": "Table of Contents",
   "title_sidebar": "Contents",
   "toc_cell": false,
   "toc_position": {},
   "toc_section_display": true,
   "toc_window_display": false
  }
 },
 "nbformat": 4,
 "nbformat_minor": 2
}
