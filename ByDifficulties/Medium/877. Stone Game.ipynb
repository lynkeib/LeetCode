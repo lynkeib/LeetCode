{
 "cells": [
  {
   "cell_type": "code",
   "execution_count": 7,
   "metadata": {},
   "outputs": [],
   "source": [
    "import numpy as np"
   ]
  },
  {
   "cell_type": "code",
   "execution_count": 18,
   "metadata": {},
   "outputs": [],
   "source": [
    "def stoneGame(p):\n",
    "    n = len(p)\n",
    "    dp = [[0] * n for i in range(n)]\n",
    "    for i in range(n): dp[i][i] = p[i]\n",
    "    for d in range(1, n):\n",
    "        for i in range(n - d):\n",
    "            dp[i][i + d] = max(p[i] - dp[i + 1][i + d], p[i + d] - dp[i][i + d - 1])\n",
    "            print(p[i], dp[i + 1][i + d], p[i + d], dp[i][i + d - 1])\n",
    "            print(p[i] - dp[i + 1][i + d], p[i + d] - dp[i][i + d - 1])\n",
    "            print(d, i)\n",
    "            print(np.array(dp))\n",
    "            print()\n",
    "    return dp[0][-1] > 0"
   ]
  },
  {
   "cell_type": "code",
   "execution_count": 19,
   "metadata": {},
   "outputs": [
    {
     "name": "stdout",
     "output_type": "stream",
     "text": [
      "5 3 3 5\n",
      "2 -2\n",
      "1 0\n",
      "[[5 2 0 0]\n",
      " [0 3 0 0]\n",
      " [0 0 4 0]\n",
      " [0 0 0 5]]\n",
      "\n",
      "3 4 4 3\n",
      "-1 1\n",
      "1 1\n",
      "[[5 2 0 0]\n",
      " [0 3 1 0]\n",
      " [0 0 4 0]\n",
      " [0 0 0 5]]\n",
      "\n",
      "4 5 5 4\n",
      "-1 1\n",
      "1 2\n",
      "[[5 2 0 0]\n",
      " [0 3 1 0]\n",
      " [0 0 4 1]\n",
      " [0 0 0 5]]\n",
      "\n",
      "5 1 4 2\n",
      "4 2\n",
      "2 0\n",
      "[[5 2 4 0]\n",
      " [0 3 1 0]\n",
      " [0 0 4 1]\n",
      " [0 0 0 5]]\n",
      "\n",
      "3 1 5 1\n",
      "2 4\n",
      "2 1\n",
      "[[5 2 4 0]\n",
      " [0 3 1 4]\n",
      " [0 0 4 1]\n",
      " [0 0 0 5]]\n",
      "\n",
      "5 4 5 4\n",
      "1 1\n",
      "3 0\n",
      "[[5 2 4 1]\n",
      " [0 3 1 4]\n",
      " [0 0 4 1]\n",
      " [0 0 0 5]]\n",
      "\n"
     ]
    },
    {
     "data": {
      "text/plain": [
       "True"
      ]
     },
     "execution_count": 19,
     "metadata": {},
     "output_type": "execute_result"
    }
   ],
   "source": [
    "stoneGame([5,3,4,5])"
   ]
  },
  {
   "cell_type": "code",
   "execution_count": null,
   "metadata": {},
   "outputs": [],
   "source": []
  }
 ],
 "metadata": {
  "kernelspec": {
   "display_name": "Python 3",
   "language": "python",
   "name": "python3"
  },
  "language_info": {
   "codemirror_mode": {
    "name": "ipython",
    "version": 3
   },
   "file_extension": ".py",
   "mimetype": "text/x-python",
   "name": "python",
   "nbconvert_exporter": "python",
   "pygments_lexer": "ipython3",
   "version": "3.7.3"
  },
  "toc": {
   "base_numbering": 1,
   "nav_menu": {},
   "number_sections": true,
   "sideBar": true,
   "skip_h1_title": false,
   "title_cell": "Table of Contents",
   "title_sidebar": "Contents",
   "toc_cell": false,
   "toc_position": {},
   "toc_section_display": true,
   "toc_window_display": false
  }
 },
 "nbformat": 4,
 "nbformat_minor": 2
}
