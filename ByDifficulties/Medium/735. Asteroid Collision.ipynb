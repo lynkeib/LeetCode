{
 "cells": [
  {
   "cell_type": "code",
   "execution_count": 1,
   "metadata": {
    "ExecuteTime": {
     "end_time": "2019-09-08T07:25:33.347205Z",
     "start_time": "2019-09-08T07:25:33.338977Z"
    }
   },
   "outputs": [],
   "source": [
    "class Solution(object):\n",
    "    def asteroidCollision(self, asteroids):\n",
    "        \"\"\"\n",
    "        :type asteroids: List[int]\n",
    "        :rtype: List[int]\n",
    "        \"\"\"\n",
    "        stack = []\n",
    "        meet = 0\n",
    "        for a in asteroids:\n",
    "            \n",
    "            if a > 0:\n",
    "                stack.append(a)\n",
    "            else:\n",
    "                if not stack:\n",
    "                    stack.append(a)\n",
    "                else:\n",
    "                    if stack[-1] < 0:\n",
    "                        stack.append(a)\n",
    "                    else:\n",
    "                        meet = 1\n",
    "                        left = 1\n",
    "                        while stack and stack[-1] > 0:\n",
    "                            if -a > stack[-1]:\n",
    "                                stack.pop()\n",
    "                            elif -a == stack[-1]:\n",
    "                                stack.pop()\n",
    "                                left = 0\n",
    "                                break\n",
    "                            else:\n",
    "                                left = 0\n",
    "                                break\n",
    "                        if left:\n",
    "                            stack.append(a)\n",
    "        if meet:\n",
    "            return stack\n",
    "        else:\n",
    "            return asteroids"
   ]
  },
  {
   "cell_type": "code",
   "execution_count": null,
   "metadata": {},
   "outputs": [],
   "source": []
  }
 ],
 "metadata": {
  "kernelspec": {
   "display_name": "Python 3",
   "language": "python",
   "name": "python3"
  },
  "language_info": {
   "codemirror_mode": {
    "name": "ipython",
    "version": 3
   },
   "file_extension": ".py",
   "mimetype": "text/x-python",
   "name": "python",
   "nbconvert_exporter": "python",
   "pygments_lexer": "ipython3",
   "version": "3.7.1"
  },
  "toc": {
   "base_numbering": 1,
   "nav_menu": {},
   "number_sections": true,
   "sideBar": true,
   "skip_h1_title": false,
   "title_cell": "Table of Contents",
   "title_sidebar": "Contents",
   "toc_cell": false,
   "toc_position": {},
   "toc_section_display": true,
   "toc_window_display": false
  }
 },
 "nbformat": 4,
 "nbformat_minor": 2
}
