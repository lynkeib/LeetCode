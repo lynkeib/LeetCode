{
 "cells": [
  {
   "cell_type": "code",
   "execution_count": 1,
   "metadata": {},
   "outputs": [],
   "source": [
    "class Solution(object):\n",
    "    def minFallingPathSum(self, A):\n",
    "        \"\"\"\n",
    "        :type A: List[List[int]]\n",
    "        :rtype: int\n",
    "        \"\"\"\n",
    "        res = []\n",
    "        for i in range(len(A[0])):\n",
    "            self.dfs(i, 0, len(A[0]), A, [A[0][i]], res)\n",
    "        return min(res)\n",
    "    \n",
    "    def dfs(self, column, row, length, A, path, res):\n",
    "        if len(path) == length:\n",
    "            res.append(sum(path))\n",
    "            return\n",
    "        if column + 1 < length and row + 1 < length:\n",
    "            self.dfs(column + 1, row + 1, length, A, path + [A[row + 1][column + 1]], res)\n",
    "        if column - 1 < length and column - 1 > -1 and row + 1 < length:\n",
    "            self.dfs(column - 1, row + 1, length, A, path + [A[row + 1][column - 1]], res)\n",
    "        if row + 1 < length:\n",
    "            self.dfs(column, row + 1, length, A, path + [A[row + 1][column]], res)"
   ]
  },
  {
   "cell_type": "code",
   "execution_count": 2,
   "metadata": {},
   "outputs": [],
   "source": [
    "class Solution(object):\n",
    "    def minFallingPathSum(self, A):\n",
    "        \"\"\"\n",
    "        :type A: List[List[int]]\n",
    "        :rtype: int\n",
    "        \"\"\"\n",
    "        for i in range(1, len(A)):\n",
    "            for j in range(len(A)):\n",
    "                A[i][j] += min(A[i - 1][max(j - 1, 0)], A[i - 1][j], A[i - 1][min(j + 1, len(A) - 1)])\n",
    "        return min(A[-1])"
   ]
  },
  {
   "cell_type": "code",
   "execution_count": null,
   "metadata": {},
   "outputs": [],
   "source": []
  }
 ],
 "metadata": {
  "kernelspec": {
   "display_name": "Python 3",
   "language": "python",
   "name": "python3"
  },
  "language_info": {
   "codemirror_mode": {
    "name": "ipython",
    "version": 3
   },
   "file_extension": ".py",
   "mimetype": "text/x-python",
   "name": "python",
   "nbconvert_exporter": "python",
   "pygments_lexer": "ipython3",
   "version": "3.7.3"
  },
  "toc": {
   "base_numbering": 1,
   "nav_menu": {},
   "number_sections": true,
   "sideBar": true,
   "skip_h1_title": false,
   "title_cell": "Table of Contents",
   "title_sidebar": "Contents",
   "toc_cell": false,
   "toc_position": {},
   "toc_section_display": true,
   "toc_window_display": false
  }
 },
 "nbformat": 4,
 "nbformat_minor": 2
}
