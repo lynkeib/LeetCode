{
 "cells": [
  {
   "cell_type": "code",
   "execution_count": 1,
   "metadata": {
    "ExecuteTime": {
     "end_time": "2019-09-09T17:35:12.952333Z",
     "start_time": "2019-09-09T17:35:12.941802Z"
    }
   },
   "outputs": [],
   "source": [
    "class Trie(object):\n",
    "\n",
    "    def __init__(self):\n",
    "        \"\"\"\n",
    "        Initialize your data structure here.\n",
    "        \"\"\"\n",
    "        self.head = dict()\n",
    "\n",
    "    def insert(self, word):\n",
    "        \"\"\"\n",
    "        Inserts a word into the trie.\n",
    "        :type word: str\n",
    "        :rtype: None\n",
    "        \"\"\"\n",
    "        curr = self.head\n",
    "        index = 0\n",
    "        while index < len (word):\n",
    "            if word[index] in curr:\n",
    "                curr = curr[word[index]]\n",
    "                index += 1\n",
    "            else:\n",
    "                break\n",
    "        while index < len(word):\n",
    "            if '#' not in curr:\n",
    "                curr['#'] = False\n",
    "            curr[word[index]] = dict()\n",
    "            curr = curr[word[index]]\n",
    "            index += 1\n",
    "        curr['#'] = True\n",
    "        # print(self.head)\n",
    "        return\n",
    "\n",
    "    def search(self, word):\n",
    "        \"\"\"\n",
    "        Returns if the word is in the trie.\n",
    "        :type word: str\n",
    "        :rtype: bool\n",
    "        \"\"\"\n",
    "        index = 0\n",
    "        curr = self.head\n",
    "        while index < len(word):\n",
    "            # print('search', word[index])\n",
    "            if word[index] not in curr:\n",
    "                return False\n",
    "            # print(curr[word[index]])\n",
    "            curr = curr[word[index]]\n",
    "            index += 1\n",
    "        return curr['#']\n",
    "\n",
    "    def startsWith(self, prefix):\n",
    "        \"\"\"\n",
    "        Returns if there is any word in the trie that starts with the given prefix.\n",
    "        :type prefix: str\n",
    "        :rtype: bool\n",
    "        \"\"\"\n",
    "        index = 0\n",
    "        curr = self.head\n",
    "        while index < len(prefix):\n",
    "            if prefix[index] not in curr:\n",
    "                return False\n",
    "            curr = curr[prefix[index]]\n",
    "            index += 1\n",
    "        return True\n",
    "\n",
    "\n",
    "# Your Trie object will be instantiated and called as such:\n",
    "# obj = Trie()\n",
    "# obj.insert(word)\n",
    "# param_2 = obj.search(word)\n",
    "# param_3 = obj.startsWith(prefix)"
   ]
  },
  {
   "cell_type": "code",
   "execution_count": null,
   "metadata": {},
   "outputs": [],
   "source": []
  }
 ],
 "metadata": {
  "kernelspec": {
   "display_name": "Python 3",
   "language": "python",
   "name": "python3"
  },
  "language_info": {
   "codemirror_mode": {
    "name": "ipython",
    "version": 3
   },
   "file_extension": ".py",
   "mimetype": "text/x-python",
   "name": "python",
   "nbconvert_exporter": "python",
   "pygments_lexer": "ipython3",
   "version": "3.7.1"
  },
  "toc": {
   "base_numbering": 1,
   "nav_menu": {},
   "number_sections": true,
   "sideBar": true,
   "skip_h1_title": false,
   "title_cell": "Table of Contents",
   "title_sidebar": "Contents",
   "toc_cell": false,
   "toc_position": {},
   "toc_section_display": true,
   "toc_window_display": false
  }
 },
 "nbformat": 4,
 "nbformat_minor": 2
}
