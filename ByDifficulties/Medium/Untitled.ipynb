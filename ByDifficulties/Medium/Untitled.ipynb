{
 "cells": [
  {
   "cell_type": "code",
   "execution_count": 2,
   "metadata": {
    "ExecuteTime": {
     "end_time": "2019-08-27T16:40:47.749773Z",
     "start_time": "2019-08-27T16:40:47.743355Z"
    }
   },
   "outputs": [],
   "source": [
    "# Definition for singly-linked list.\n",
    "class ListNode(object):\n",
    "    def __init__(self, x):\n",
    "        self.val = x\n",
    "        self.next = None\n",
    "\n",
    "class Solution(object):\n",
    "    def partition(self, head, x):\n",
    "        \"\"\"\n",
    "        :type head: ListNode\n",
    "        :type x: int\n",
    "        :rtype: ListNode\n",
    "        \"\"\"\n",
    "        greater = ListNode(0)\n",
    "        greater_ = greater\n",
    "        less = ListNode(0)\n",
    "        less_ = less\n",
    "        while head:\n",
    "            if head.val >= x:\n",
    "                greater.next = head\n",
    "                greater = greater.next\n",
    "            else:\n",
    "                less.next = head\n",
    "                less = less.next\n",
    "            head = head.next\n",
    "        less.next = greater_\n",
    "        return less_"
   ]
  },
  {
   "cell_type": "markdown",
   "metadata": {},
   "source": [
    "1->4->3->2->5->2"
   ]
  },
  {
   "cell_type": "code",
   "execution_count": 4,
   "metadata": {
    "ExecuteTime": {
     "end_time": "2019-08-27T16:41:49.318580Z",
     "start_time": "2019-08-27T16:41:49.314126Z"
    }
   },
   "outputs": [],
   "source": [
    "N1 = ListNode(1)\n",
    "N4 = ListNode(4)\n",
    "N3 = ListNode(3)\n",
    "N21 = ListNode(2)\n",
    "N5 = ListNode(5)\n",
    "N22 = ListNode(2)\n",
    "N1.Next = N4\n",
    "N4.next = N3\n",
    "N3.next = N21\n",
    "N21.next = N5\n",
    "N5.next = N22"
   ]
  },
  {
   "cell_type": "code",
   "execution_count": 5,
   "metadata": {
    "ExecuteTime": {
     "end_time": "2019-08-27T16:41:53.796237Z",
     "start_time": "2019-08-27T16:41:53.793445Z"
    }
   },
   "outputs": [],
   "source": [
    "A = Solution()"
   ]
  },
  {
   "cell_type": "code",
   "execution_count": 6,
   "metadata": {
    "ExecuteTime": {
     "end_time": "2019-08-27T16:41:59.025264Z",
     "start_time": "2019-08-27T16:41:59.015961Z"
    }
   },
   "outputs": [
    {
     "data": {
      "text/plain": [
       "<__main__.ListNode at 0x109845a58>"
      ]
     },
     "execution_count": 6,
     "metadata": {},
     "output_type": "execute_result"
    }
   ],
   "source": [
    "A.partition(N1, 3)"
   ]
  },
  {
   "cell_type": "code",
   "execution_count": null,
   "metadata": {},
   "outputs": [],
   "source": []
  }
 ],
 "metadata": {
  "kernelspec": {
   "display_name": "Python 3",
   "language": "python",
   "name": "python3"
  },
  "language_info": {
   "codemirror_mode": {
    "name": "ipython",
    "version": 3
   },
   "file_extension": ".py",
   "mimetype": "text/x-python",
   "name": "python",
   "nbconvert_exporter": "python",
   "pygments_lexer": "ipython3",
   "version": "3.7.1"
  },
  "toc": {
   "base_numbering": 1,
   "nav_menu": {},
   "number_sections": true,
   "sideBar": true,
   "skip_h1_title": false,
   "title_cell": "Table of Contents",
   "title_sidebar": "Contents",
   "toc_cell": false,
   "toc_position": {},
   "toc_section_display": true,
   "toc_window_display": false
  }
 },
 "nbformat": 4,
 "nbformat_minor": 2
}
