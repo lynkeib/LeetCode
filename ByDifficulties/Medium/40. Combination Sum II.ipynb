{
 "cells": [
  {
   "cell_type": "code",
   "execution_count": 1,
   "metadata": {},
   "outputs": [],
   "source": [
    "class Solution(object):\n",
    "    def combinationSum2(self, candidates, target):\n",
    "        \"\"\"\n",
    "        :type candidates: List[int]\n",
    "        :type target: int\n",
    "        :rtype: List[List[int]]\n",
    "        \"\"\"\n",
    "        res = []\n",
    "        self.dfs(sorted(candidates), 0, [], target, res)\n",
    "        return res\n",
    "    \n",
    "    def dfs(self, nums, cur_index, path, target, res):\n",
    "        if target == 0:\n",
    "            res.append(path)\n",
    "            return\n",
    "        if target < 0:\n",
    "            return\n",
    "        for index in range(cur_index, len(nums)):\n",
    "            if (index > cur_index) and (nums[index] == nums[index - 1]):\n",
    "                continue\n",
    "            else:\n",
    "                self.dfs(nums, index + 1, path + [nums[index]], target - nums[index], res)"
   ]
  },
  {
   "cell_type": "code",
   "execution_count": null,
   "metadata": {},
   "outputs": [],
   "source": []
  }
 ],
 "metadata": {
  "kernelspec": {
   "display_name": "Python 3",
   "language": "python",
   "name": "python3"
  },
  "language_info": {
   "codemirror_mode": {
    "name": "ipython",
    "version": 3
   },
   "file_extension": ".py",
   "mimetype": "text/x-python",
   "name": "python",
   "nbconvert_exporter": "python",
   "pygments_lexer": "ipython3",
   "version": "3.7.3"
  }
 },
 "nbformat": 4,
 "nbformat_minor": 2
}
