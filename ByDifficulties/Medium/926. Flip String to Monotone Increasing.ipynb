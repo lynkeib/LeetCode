{
 "cells": [
  {
   "cell_type": "code",
   "execution_count": 1,
   "metadata": {
    "ExecuteTime": {
     "end_time": "2019-04-18T06:27:57.202221Z",
     "start_time": "2019-04-18T06:27:57.196135Z"
    }
   },
   "outputs": [],
   "source": [
    "class Solution(object):\n",
    "    def minFlipsMonoIncr(self, S):\n",
    "        \"\"\"\n",
    "        :type S: str\n",
    "        :rtype: int\n",
    "        \"\"\"\n",
    "        length = len(S)\n",
    "        num_of_1_before = 0\n",
    "        num_of_0_after = S.count('0')\n",
    "        res = length - num_of_0_after ## filp all 1s\n",
    "        for i in range(length):\n",
    "            if S[i] == '0':\n",
    "                num_of_0_after -=1\n",
    "            else:\n",
    "                res = min(res, num_of_1_before + num_of_0_after)\n",
    "                num_of_1_before += 1\n",
    "        return res"
   ]
  },
  {
   "cell_type": "code",
   "execution_count": null,
   "metadata": {},
   "outputs": [],
   "source": []
  }
 ],
 "metadata": {
  "kernelspec": {
   "display_name": "Python 3",
   "language": "python",
   "name": "python3"
  },
  "language_info": {
   "codemirror_mode": {
    "name": "ipython",
    "version": 3
   },
   "file_extension": ".py",
   "mimetype": "text/x-python",
   "name": "python",
   "nbconvert_exporter": "python",
   "pygments_lexer": "ipython3",
   "version": "3.7.1"
  },
  "toc": {
   "base_numbering": 1,
   "nav_menu": {},
   "number_sections": true,
   "sideBar": true,
   "skip_h1_title": false,
   "title_cell": "Table of Contents",
   "title_sidebar": "Contents",
   "toc_cell": false,
   "toc_position": {},
   "toc_section_display": true,
   "toc_window_display": false
  }
 },
 "nbformat": 4,
 "nbformat_minor": 2
}
