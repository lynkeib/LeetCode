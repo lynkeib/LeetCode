{
 "cells": [
  {
   "cell_type": "code",
   "execution_count": 1,
   "metadata": {},
   "outputs": [],
   "source": [
    "class Solution(object):\n",
    "    def sortColors(self, nums):\n",
    "        \"\"\"\n",
    "        :type nums: List[int]\n",
    "        :rtype: None Do not return anything, modify nums in-place instead.\n",
    "        \"\"\"\n",
    "        return self.buildheap(nums)\n",
    "    \n",
    "    def heapify(self, nums, index):\n",
    "        left_index = 2 * index + 1\n",
    "        right_index = 2 * index + 2\n",
    "        min_index = index\n",
    "        if left_index < len(nums) and nums[left_index] < nums[min_index]:\n",
    "            min_index = left_index\n",
    "        if right_index < len(nums) and nums[right_index] < nums[min_index]:\n",
    "            min_index = right_index\n",
    "        if min_index != index:\n",
    "            nums[index], nums[min_index] = nums[min_index], nums[index]\n",
    "            self.heapify(nums, min_index)\n",
    "    \n",
    "    def buildheap(self, nums):\n",
    "        length = len(nums)\n",
    "        for i in range(int((len(nums) + 1) / 2), -1, -1):\n",
    "            self.heapify(nums, i)\n",
    "        "
   ]
  },
  {
   "cell_type": "code",
   "execution_count": null,
   "metadata": {},
   "outputs": [],
   "source": []
  }
 ],
 "metadata": {
  "kernelspec": {
   "display_name": "Python 3",
   "language": "python",
   "name": "python3"
  },
  "language_info": {
   "codemirror_mode": {
    "name": "ipython",
    "version": 3
   },
   "file_extension": ".py",
   "mimetype": "text/x-python",
   "name": "python",
   "nbconvert_exporter": "python",
   "pygments_lexer": "ipython3",
   "version": "3.7.3"
  }
 },
 "nbformat": 4,
 "nbformat_minor": 2
}
