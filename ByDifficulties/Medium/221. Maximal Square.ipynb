{
 "cells": [
  {
   "cell_type": "code",
   "execution_count": 1,
   "metadata": {
    "ExecuteTime": {
     "end_time": "2019-09-06T17:03:51.838465Z",
     "start_time": "2019-09-06T17:03:51.829590Z"
    }
   },
   "outputs": [],
   "source": [
    "class Solution(object):\n",
    "    def maximalSquare(self, matrix):\n",
    "        \"\"\"\n",
    "        :type matrix: List[List[str]]\n",
    "        :rtype: int\n",
    "        \"\"\"\n",
    "        if not matrix:\n",
    "            return 0\n",
    "        rows, columns = len(matrix), len(matrix[0])\n",
    "        max_ = 0\n",
    "        for row in range(rows):\n",
    "            for column in range(columns):\n",
    "                if row == 0 or column == 0 or matrix[row][column] == \"0\":\n",
    "                    matrix[row][column] = int(matrix[row][column])\n",
    "                    if matrix[row][column] > max_:\n",
    "                        max_ = matrix[row][column]\n",
    "                else:\n",
    "                    matrix[row][column] = min(matrix[row][column-1], \\\n",
    "                                             matrix[row-1][column-1], \\\n",
    "                                             matrix[row-1][column]) + 1\n",
    "                    if matrix[row][column] > max_:\n",
    "                        max_ = matrix[row][column]\n",
    "        return max_**2"
   ]
  },
  {
   "cell_type": "code",
   "execution_count": null,
   "metadata": {},
   "outputs": [],
   "source": []
  }
 ],
 "metadata": {
  "kernelspec": {
   "display_name": "Python 3",
   "language": "python",
   "name": "python3"
  },
  "language_info": {
   "codemirror_mode": {
    "name": "ipython",
    "version": 3
   },
   "file_extension": ".py",
   "mimetype": "text/x-python",
   "name": "python",
   "nbconvert_exporter": "python",
   "pygments_lexer": "ipython3",
   "version": "3.7.1"
  },
  "toc": {
   "base_numbering": 1,
   "nav_menu": {},
   "number_sections": true,
   "sideBar": true,
   "skip_h1_title": false,
   "title_cell": "Table of Contents",
   "title_sidebar": "Contents",
   "toc_cell": false,
   "toc_position": {},
   "toc_section_display": true,
   "toc_window_display": false
  }
 },
 "nbformat": 4,
 "nbformat_minor": 2
}
