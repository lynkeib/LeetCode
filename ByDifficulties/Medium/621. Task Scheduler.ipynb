{
 "cells": [
  {
   "cell_type": "markdown",
   "metadata": {},
   "source": [
    "# Min intervals (DP?)"
   ]
  },
  {
   "cell_type": "code",
   "execution_count": 1,
   "metadata": {
    "ExecuteTime": {
     "end_time": "2019-09-06T21:47:40.450325Z",
     "start_time": "2019-09-06T21:47:40.438747Z"
    }
   },
   "outputs": [],
   "source": [
    "class Solution(object):\n",
    "    def leastInterval(self, tasks, n):\n",
    "        \"\"\"\n",
    "        :type tasks: List[str]\n",
    "        :type n: int\n",
    "        :rtype: int\n",
    "        \"\"\"\n",
    "        # dp[(index, content)] = min_number_of_idle\n",
    "        dp = dict()\n",
    "        #total tasks\n",
    "        tasks = collections.Counter(tasks)\n",
    "        last_position = {i:-1 for i in tasks}\n",
    "        a = self.dfs(tasks, last_position, 0, 0, dp, n)\n",
    "        # print(dp)\n",
    "        # print(len(dp))\n",
    "        return len(dp)\n",
    "    \n",
    "    def dfs(self, tasks, last_position, idle_counter, index, dp, n):\n",
    "        if sum(tasks.values()) == 0:\n",
    "            return idle_counter\n",
    "        print(index, dp)\n",
    "        # if index in dp:\n",
    "        #     return dp[index]\n",
    "        BEST = 'idle'\n",
    "        task_counter = 0\n",
    "        min_idle = index\n",
    "        for task in tasks:\n",
    "            ## have this task\n",
    "            last_po = last_position[task]\n",
    "            if tasks[task] != 0 and (last_po == -1 or index - last_po > n):\n",
    "                task_counter += 1\n",
    "                tasks[task] -= 1\n",
    "                last_position[task] = index\n",
    "                if (index, task) in dp:\n",
    "                    how_many_idle = dp[(index, task)]\n",
    "                else:\n",
    "                    how_many_idle = self.dfs(tasks, last_position, idle_counter, index + 1, dp, n)\n",
    "                    dp[(index, task)] = how_many_idle\n",
    "                if how_many_idle < min_idle:\n",
    "                    BEST = task\n",
    "                    min_idle = how_many_idle\n",
    "                last_position[task] = last_po\n",
    "                tasks[task] += 1\n",
    "        if task_counter == 0:\n",
    "            ##we have to put idle\n",
    "            how_many_idle = self.dfs(tasks, last_position, idle_counter+1, index + 1, dp, n)\n",
    "            min_idle = min(min_idle, how_many_idle)\n",
    "        dp[(index, BEST)] = min_idle\n",
    "        \n",
    "        return min_idle"
   ]
  },
  {
   "cell_type": "markdown",
   "metadata": {},
   "source": [
    "# Heap"
   ]
  },
  {
   "cell_type": "code",
   "execution_count": 2,
   "metadata": {
    "ExecuteTime": {
     "end_time": "2019-09-06T22:41:52.783290Z",
     "start_time": "2019-09-06T22:41:52.772219Z"
    }
   },
   "outputs": [],
   "source": [
    "class Task(object):\n",
    "    \n",
    "    def __init__(self, name, count):\n",
    "        self.name = name\n",
    "        self.count = count\n",
    "        self.time = -1\n",
    "    \n",
    "    def __repr__(self):\n",
    "        return self.name + ':' + str(self.count)\n",
    "    \n",
    "    def schedule(self, time):\n",
    "        self.count -= 1\n",
    "        self.time = time\n",
    "    \n",
    "    def __lt__(self, other):\n",
    "        return (self.count > other.count) or (self.count == other.count and self.name < other.name)\n",
    "\n",
    "class Solution(object):\n",
    "    def leastInterval(self, tasks, n):\n",
    "        \"\"\"\n",
    "        :type tasks: List[str]\n",
    "        :type n: int\n",
    "        :rtype: int\n",
    "        \"\"\"\n",
    "        tasks = collections.Counter(tasks)\n",
    "        heap = []\n",
    "        res = []\n",
    "        for name, count in tasks.items():\n",
    "            heapq.heappush(heap, Task(name, count))\n",
    "        waits = collections.deque([])\n",
    "        time = 0\n",
    "        idel = Task('idel', 0)\n",
    "        while heap or waits:\n",
    "            \n",
    "            if waits and (time - waits[0].time > n):\n",
    "                heapq.heappush(heap, waits.popleft())\n",
    "            \n",
    "            if heap:\n",
    "                task = heapq.heappop(heap)\n",
    "                task.schedule(time)\n",
    "                \n",
    "            else:\n",
    "                task = idel\n",
    "                \n",
    "            res.append(task.name)\n",
    "            \n",
    "            if task is not idel and task.count != 0:\n",
    "                \n",
    "                waits.append(task)\n",
    "            \n",
    "            time += 1\n",
    "            \n",
    "        # print(heap)\n",
    "        return len(res)"
   ]
  },
  {
   "cell_type": "code",
   "execution_count": null,
   "metadata": {},
   "outputs": [],
   "source": []
  }
 ],
 "metadata": {
  "kernelspec": {
   "display_name": "Python 3",
   "language": "python",
   "name": "python3"
  },
  "language_info": {
   "codemirror_mode": {
    "name": "ipython",
    "version": 3
   },
   "file_extension": ".py",
   "mimetype": "text/x-python",
   "name": "python",
   "nbconvert_exporter": "python",
   "pygments_lexer": "ipython3",
   "version": "3.7.1"
  },
  "toc": {
   "base_numbering": 1,
   "nav_menu": {},
   "number_sections": true,
   "sideBar": true,
   "skip_h1_title": false,
   "title_cell": "Table of Contents",
   "title_sidebar": "Contents",
   "toc_cell": false,
   "toc_position": {},
   "toc_section_display": true,
   "toc_window_display": false
  }
 },
 "nbformat": 4,
 "nbformat_minor": 2
}
