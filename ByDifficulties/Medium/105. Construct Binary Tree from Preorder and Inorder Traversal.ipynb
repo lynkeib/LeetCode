{
 "cells": [
  {
   "cell_type": "code",
   "execution_count": 1,
   "metadata": {
    "ExecuteTime": {
     "end_time": "2019-09-08T02:13:16.817834Z",
     "start_time": "2019-09-08T02:13:16.809839Z"
    }
   },
   "outputs": [],
   "source": [
    "# Definition for a binary tree node.\n",
    "# class TreeNode(object):\n",
    "#     def __init__(self, x):\n",
    "#         self.val = x\n",
    "#         self.left = None\n",
    "#         self.right = None\n",
    "\n",
    "class Solution(object):\n",
    "    def buildTree(self, preorder, inorder):\n",
    "        \"\"\"\n",
    "        :type preorder: List[int]\n",
    "        :type inorder: List[int]\n",
    "        :rtype: TreeNode\n",
    "        \"\"\"\n",
    "        if not preorder:\n",
    "            return \n",
    "        index_p = 1\n",
    "        index_i = 0\n",
    "        root = TreeNode(preorder[0])\n",
    "        stack = [root]\n",
    "        prev = None\n",
    "        while index_p < len(preorder) and index_i < len(inorder):            \n",
    "            # print(preorder[index_p], inorder[index_i])\n",
    "            # if stack:\n",
    "                # print([i.val for i in stack])\n",
    "            # print()\n",
    "            if stack and inorder[index_i] == stack[-1].val:\n",
    "                prev = stack.pop()\n",
    "                index_i += 1\n",
    "            else:\n",
    "                node = TreeNode(preorder[index_p])\n",
    "                if prev:\n",
    "                    prev.right = node\n",
    "                    prev = None\n",
    "                else:\n",
    "                    stack[-1].left = node\n",
    "                stack.append(node)\n",
    "                # if stack:\n",
    "                #     print([i.val for i in stack])\n",
    "                index_p += 1\n",
    "            # if stack:\n",
    "                # print([i.val for i in stack])\n",
    "            # else:\n",
    "                # print([])\n",
    "            # print('------------')\n",
    "        return root"
   ]
  },
  {
   "cell_type": "code",
   "execution_count": null,
   "metadata": {},
   "outputs": [],
   "source": []
  }
 ],
 "metadata": {
  "kernelspec": {
   "display_name": "Python 3",
   "language": "python",
   "name": "python3"
  },
  "language_info": {
   "codemirror_mode": {
    "name": "ipython",
    "version": 3
   },
   "file_extension": ".py",
   "mimetype": "text/x-python",
   "name": "python",
   "nbconvert_exporter": "python",
   "pygments_lexer": "ipython3",
   "version": "3.7.1"
  },
  "toc": {
   "base_numbering": 1,
   "nav_menu": {},
   "number_sections": true,
   "sideBar": true,
   "skip_h1_title": false,
   "title_cell": "Table of Contents",
   "title_sidebar": "Contents",
   "toc_cell": false,
   "toc_position": {},
   "toc_section_display": true,
   "toc_window_display": false
  }
 },
 "nbformat": 4,
 "nbformat_minor": 2
}
