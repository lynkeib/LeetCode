{
 "cells": [
  {
   "cell_type": "code",
   "execution_count": 1,
   "metadata": {
    "ExecuteTime": {
     "end_time": "2019-09-07T00:02:23.056084Z",
     "start_time": "2019-09-07T00:02:23.046001Z"
    }
   },
   "outputs": [],
   "source": [
    "class Node(object):\n",
    "    def __init__(self, value):\n",
    "        self.val = value\n",
    "        self.father = self\n",
    "\n",
    "class DisjointSet(object):\n",
    "    def __init__(self, nodes):\n",
    "        self.set = set(nodes)\n",
    "    \n",
    "    def Find(self, node):\n",
    "        while node.father is not node:\n",
    "            node = node.father\n",
    "        return node\n",
    "    \n",
    "    def Union(self, node1, node2):\n",
    "        f1 = self.Find(node1)\n",
    "        f2 = self.Find(node2)\n",
    "        if f1 is f2:\n",
    "            return\n",
    "        f2.father = f1\n",
    "        self.set.remove(f2)\n",
    "        \n",
    "\n",
    "class Solution(object):\n",
    "    def findCircleNum(self, M):\n",
    "        \"\"\"\n",
    "        :type M: List[List[int]]\n",
    "        :rtype: int\n",
    "        \"\"\"\n",
    "        nodes = len(M)\n",
    "        nodes_dict = dict()\n",
    "        for i in range(nodes):\n",
    "            nodes_dict[i] = Node(i)\n",
    "        # print(nodes_dict)\n",
    "        ds = DisjointSet(nodes_dict.values())\n",
    "        # print(ds.set)\n",
    "        \n",
    "        for A in range(nodes):\n",
    "            for B in range(A):\n",
    "                if M[A][B] == 1:\n",
    "                    ds.Union(nodes_dict[A], nodes_dict[B])\n",
    "        return len(ds.set)"
   ]
  },
  {
   "cell_type": "code",
   "execution_count": null,
   "metadata": {},
   "outputs": [],
   "source": []
  }
 ],
 "metadata": {
  "kernelspec": {
   "display_name": "Python 3",
   "language": "python",
   "name": "python3"
  },
  "language_info": {
   "codemirror_mode": {
    "name": "ipython",
    "version": 3
   },
   "file_extension": ".py",
   "mimetype": "text/x-python",
   "name": "python",
   "nbconvert_exporter": "python",
   "pygments_lexer": "ipython3",
   "version": "3.7.1"
  },
  "toc": {
   "base_numbering": 1,
   "nav_menu": {},
   "number_sections": true,
   "sideBar": true,
   "skip_h1_title": false,
   "title_cell": "Table of Contents",
   "title_sidebar": "Contents",
   "toc_cell": false,
   "toc_position": {},
   "toc_section_display": true,
   "toc_window_display": false
  }
 },
 "nbformat": 4,
 "nbformat_minor": 2
}
