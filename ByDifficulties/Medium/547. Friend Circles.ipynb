{
 "cells": [
  {
   "cell_type": "code",
   "execution_count": 2,
   "metadata": {
    "ExecuteTime": {
     "end_time": "2019-09-01T22:32:26.651281Z",
     "start_time": "2019-09-01T22:32:26.644493Z"
    }
   },
   "outputs": [],
   "source": [
    "class Solution(object):\n",
    "    def findCircleNum(self, M):\n",
    "        \"\"\"\n",
    "        :type M: List[List[int]]\n",
    "        :rtype: int\n",
    "        \"\"\"\n",
    "        visited = []\n",
    "        n = len(M)\n",
    "        res = 0\n",
    "        for node in range(n):\n",
    "            if node not in visited:\n",
    "                res += 1\n",
    "                self.dfs(node, M, n, visited)\n",
    "        return res\n",
    "        \n",
    "    def dfs(self, node, graph, n, visited):\n",
    "        if node not in visited:\n",
    "            visited += [node]\n",
    "            for other in range(n):\n",
    "                if graph[node][other] == 1 and other not in visited:\n",
    "                    self.dfs(other, graph, n, visited)\n",
    "        return "
   ]
  },
  {
   "cell_type": "code",
   "execution_count": null,
   "metadata": {},
   "outputs": [],
   "source": []
  }
 ],
 "metadata": {
  "kernelspec": {
   "display_name": "Python 3",
   "language": "python",
   "name": "python3"
  },
  "language_info": {
   "codemirror_mode": {
    "name": "ipython",
    "version": 3
   },
   "file_extension": ".py",
   "mimetype": "text/x-python",
   "name": "python",
   "nbconvert_exporter": "python",
   "pygments_lexer": "ipython3",
   "version": "3.7.1"
  },
  "toc": {
   "base_numbering": 1,
   "nav_menu": {},
   "number_sections": true,
   "sideBar": true,
   "skip_h1_title": false,
   "title_cell": "Table of Contents",
   "title_sidebar": "Contents",
   "toc_cell": false,
   "toc_position": {},
   "toc_section_display": true,
   "toc_window_display": false
  }
 },
 "nbformat": 4,
 "nbformat_minor": 2
}
