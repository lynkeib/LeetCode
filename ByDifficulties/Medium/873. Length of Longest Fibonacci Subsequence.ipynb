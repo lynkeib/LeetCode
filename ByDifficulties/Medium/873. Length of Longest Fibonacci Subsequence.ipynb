{
 "cells": [
  {
   "cell_type": "code",
   "execution_count": 1,
   "metadata": {
    "ExecuteTime": {
     "end_time": "2019-04-21T20:25:37.555131Z",
     "start_time": "2019-04-21T20:25:37.547998Z"
    }
   },
   "outputs": [],
   "source": [
    "class Solution(object):\n",
    "    def lenLongestFibSubseq(self, A):\n",
    "        \"\"\"\n",
    "        :type A: List[int]\n",
    "        :rtype: int\n",
    "        \"\"\"\n",
    "        res = 2\n",
    "        set_of_A = set(A)\n",
    "        for first in range(0, len(A)):\n",
    "            for second in range(first + 1, len(A)):\n",
    "                f, s, l = A[first], A[second], 2\n",
    "                while f + s in set_of_A:\n",
    "                    f, s, l = s, f + s, l + 1\n",
    "                res = max(res, l)\n",
    "        return res if res > 2 else 0"
   ]
  },
  {
   "cell_type": "code",
   "execution_count": null,
   "metadata": {},
   "outputs": [],
   "source": []
  }
 ],
 "metadata": {
  "kernelspec": {
   "display_name": "Python 3",
   "language": "python",
   "name": "python3"
  },
  "language_info": {
   "codemirror_mode": {
    "name": "ipython",
    "version": 3
   },
   "file_extension": ".py",
   "mimetype": "text/x-python",
   "name": "python",
   "nbconvert_exporter": "python",
   "pygments_lexer": "ipython3",
   "version": "3.7.1"
  },
  "toc": {
   "base_numbering": 1,
   "nav_menu": {},
   "number_sections": true,
   "sideBar": true,
   "skip_h1_title": false,
   "title_cell": "Table of Contents",
   "title_sidebar": "Contents",
   "toc_cell": false,
   "toc_position": {},
   "toc_section_display": true,
   "toc_window_display": false
  }
 },
 "nbformat": 4,
 "nbformat_minor": 2
}
