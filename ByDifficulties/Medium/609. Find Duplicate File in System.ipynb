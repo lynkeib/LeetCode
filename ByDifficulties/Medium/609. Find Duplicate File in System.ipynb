{
 "cells": [
  {
   "cell_type": "code",
   "execution_count": 3,
   "metadata": {},
   "outputs": [],
   "source": [
    "class Solution(object):\n",
    "    def findDuplicate(self, paths):\n",
    "        \"\"\"\n",
    "        :type paths: List[str]\n",
    "        :rtype: List[List[str]]\n",
    "        \"\"\"\n",
    "        dic = collections.defaultdict(list)\n",
    "        for path in paths:\n",
    "            temp = path.split(' ')\n",
    "            root = temp[0]\n",
    "            files = temp[1:]\n",
    "            if len(temp) == 0:\n",
    "                continue\n",
    "            for file in files:\n",
    "                path, _, content = file.partition('(')\n",
    "                dic[content[:-1]].append(root + '/' + path)\n",
    "        return [x for x in dic.values() if len(x) > 1]"
   ]
  },
  {
   "cell_type": "code",
   "execution_count": null,
   "metadata": {},
   "outputs": [],
   "source": []
  }
 ],
 "metadata": {
  "kernelspec": {
   "display_name": "Python 3",
   "language": "python",
   "name": "python3"
  },
  "language_info": {
   "codemirror_mode": {
    "name": "ipython",
    "version": 3
   },
   "file_extension": ".py",
   "mimetype": "text/x-python",
   "name": "python",
   "nbconvert_exporter": "python",
   "pygments_lexer": "ipython3",
   "version": "3.7.3"
  },
  "toc": {
   "base_numbering": 1,
   "nav_menu": {},
   "number_sections": true,
   "sideBar": true,
   "skip_h1_title": false,
   "title_cell": "Table of Contents",
   "title_sidebar": "Contents",
   "toc_cell": false,
   "toc_position": {},
   "toc_section_display": true,
   "toc_window_display": false
  }
 },
 "nbformat": 4,
 "nbformat_minor": 2
}
