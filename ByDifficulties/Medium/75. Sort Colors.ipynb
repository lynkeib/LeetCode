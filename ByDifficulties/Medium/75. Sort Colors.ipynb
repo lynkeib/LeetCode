{
 "cells": [
  {
   "cell_type": "code",
   "execution_count": null,
   "metadata": {},
   "outputs": [],
   "source": [
    "class Solution(object):\n",
    "    def sortColors(self, nums):\n",
    "        \"\"\"\n",
    "        :type nums: List[int]\n",
    "        :rtype: None Do not return anything, modify nums in-place instead.\n",
    "        \"\"\"\n",
    "        second, zero = len(nums) - 1, 0\n",
    "        for i in range(len(nums)):\n",
    "            while i < second and nums[i] == 2:\n",
    "                nums[i], nums[second] = nums[second], nums[i]\n",
    "                second -= 1\n",
    "            while i > zero and nums[i] == 0:\n",
    "                nums[i], nums[zero] = nums[zero], nums[i]\n",
    "                zero += 1"
   ]
  }
 ],
 "metadata": {
  "kernelspec": {
   "display_name": "Python 3",
   "language": "python",
   "name": "python3"
  },
  "language_info": {
   "codemirror_mode": {
    "name": "ipython",
    "version": 3
   },
   "file_extension": ".py",
   "mimetype": "text/x-python",
   "name": "python",
   "nbconvert_exporter": "python",
   "pygments_lexer": "ipython3",
   "version": "3.7.3"
  }
 },
 "nbformat": 4,
 "nbformat_minor": 2
}
