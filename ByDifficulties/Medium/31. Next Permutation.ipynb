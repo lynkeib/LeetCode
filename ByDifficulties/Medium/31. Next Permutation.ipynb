{
 "cells": [
  {
   "cell_type": "code",
   "execution_count": 1,
   "metadata": {
    "ExecuteTime": {
     "end_time": "2019-09-06T03:43:04.891958Z",
     "start_time": "2019-09-06T03:43:04.883700Z"
    }
   },
   "outputs": [],
   "source": [
    "class Solution(object):\n",
    "    def nextPermutation(self, nums):\n",
    "        \"\"\"\n",
    "        :type nums: List[int]\n",
    "        :rtype: None Do not return anything, modify nums in-place instead.\n",
    "        \"\"\"\n",
    "        \n",
    "        index = len(nums) - 1\n",
    "        while index > 0 and nums[index] <= nums[index-1]:\n",
    "            index -= 1\n",
    "        if index != 0:\n",
    "            last = nums[index - 1]\n",
    "            # print(last)\n",
    "            swap_index = index\n",
    "            for i in range(index, len(nums)):\n",
    "                if nums[i] > last:\n",
    "                    swap_index = i\n",
    "                else:\n",
    "                    break\n",
    "            # print(nums[swap_index])\n",
    "            nums[index - 1], nums[swap_index] = nums[swap_index], nums[index - 1]\n",
    "                \n",
    "        left, right = index, len(nums) - 1\n",
    "        while left <= right:\n",
    "            nums[left], nums[right] = nums[right], nums[left]\n",
    "            left += 1\n",
    "            right -= 1\n",
    "        return\n",
    "            "
   ]
  },
  {
   "cell_type": "code",
   "execution_count": null,
   "metadata": {},
   "outputs": [],
   "source": []
  }
 ],
 "metadata": {
  "kernelspec": {
   "display_name": "Python 3",
   "language": "python",
   "name": "python3"
  },
  "language_info": {
   "codemirror_mode": {
    "name": "ipython",
    "version": 3
   },
   "file_extension": ".py",
   "mimetype": "text/x-python",
   "name": "python",
   "nbconvert_exporter": "python",
   "pygments_lexer": "ipython3",
   "version": "3.7.1"
  },
  "toc": {
   "base_numbering": 1,
   "nav_menu": {},
   "number_sections": true,
   "sideBar": true,
   "skip_h1_title": false,
   "title_cell": "Table of Contents",
   "title_sidebar": "Contents",
   "toc_cell": false,
   "toc_position": {},
   "toc_section_display": true,
   "toc_window_display": false
  }
 },
 "nbformat": 4,
 "nbformat_minor": 2
}
