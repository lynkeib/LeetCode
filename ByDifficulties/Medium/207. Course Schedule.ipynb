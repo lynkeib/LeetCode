{
 "cells": [
  {
   "cell_type": "markdown",
   "metadata": {},
   "source": [
    "# DFS"
   ]
  },
  {
   "cell_type": "code",
   "execution_count": 1,
   "metadata": {
    "ExecuteTime": {
     "end_time": "2019-09-01T18:11:12.642565Z",
     "start_time": "2019-09-01T18:11:12.633404Z"
    }
   },
   "outputs": [],
   "source": [
    "class Solution(object):\n",
    "    def canFinish(self, numCourses, prerequisites):\n",
    "        \"\"\"\n",
    "        :type numCourses: int\n",
    "        :type prerequisites: List[List[int]]\n",
    "        :rtype: bool\n",
    "        \"\"\"\n",
    "        graph = dict()\n",
    "        visited = dict()\n",
    "        for i in range(numCourses):\n",
    "            graph[i] = set([])\n",
    "            visited[i] = 0\n",
    "        for course, pre in prerequisites:\n",
    "            graph[pre].add(course)\n",
    "        #print(graph)\n",
    "        #print(visited)\n",
    "        for course in range(numCourses):\n",
    "            loop = self.dfs(course, graph, visited, [course])\n",
    "            if loop:\n",
    "                return False\n",
    "        return True\n",
    "    \n",
    "    def dfs(self, node, graph, visited, path):\n",
    "        loop = False\n",
    "        if not visited[node]:\n",
    "            #print('node is', node)\n",
    "            #print('visited',visited)\n",
    "            for course in graph[node]:\n",
    "                #print('path is', path, 'node is ', course)\n",
    "                #print()\n",
    "                if course in path:\n",
    "                    loop = True\n",
    "                    continue\n",
    "                if not visited[course]:\n",
    "                    temp = self.dfs(course, graph, visited, path + [course])\n",
    "                    loop = temp or loop\n",
    "            visited[node] = 1\n",
    "        return loop"
   ]
  },
  {
   "cell_type": "code",
   "execution_count": 2,
   "metadata": {
    "ExecuteTime": {
     "end_time": "2019-09-01T18:21:22.800957Z",
     "start_time": "2019-09-01T18:21:22.792617Z"
    }
   },
   "outputs": [],
   "source": [
    "class Solution(object):\n",
    "    def canFinish(self, numCourses, prerequisites):\n",
    "        \"\"\"\n",
    "        :type numCourses: int\n",
    "        :type prerequisites: List[List[int]]\n",
    "        :rtype: bool\n",
    "        \"\"\"\n",
    "        graph = dict()\n",
    "        visited = dict()\n",
    "        for i in range(numCourses):\n",
    "            graph[i] = set([])\n",
    "            visited[i] = 0\n",
    "        for course, pre in prerequisites:\n",
    "            graph[pre].add(course)\n",
    "        #print(graph)\n",
    "        #print(visited)\n",
    "        for course in range(numCourses):\n",
    "            loop = self.dfs(course, graph, visited)\n",
    "            if loop:\n",
    "                return False\n",
    "        return True\n",
    "    \n",
    "    def dfs(self, node, graph, visited):\n",
    "        loop = False\n",
    "        if visited[node] != 1:\n",
    "            visited[node] = 2\n",
    "            #print('node is', node)\n",
    "            #print('visited',visited)\n",
    "            for course in graph[node]:\n",
    "                #print('path is', path, 'node is ', course)\n",
    "                #print()\n",
    "                if visited[course] == 2:\n",
    "                    loop = True\n",
    "                    continue\n",
    "                if not visited[course]:\n",
    "                    temp = self.dfs(course, graph, visited)\n",
    "                    loop = temp or loop\n",
    "        visited[node] = 1\n",
    "        return loop"
   ]
  },
  {
   "cell_type": "code",
   "execution_count": 3,
   "metadata": {
    "ExecuteTime": {
     "end_time": "2019-09-01T18:21:25.794105Z",
     "start_time": "2019-09-01T18:21:25.791145Z"
    }
   },
   "outputs": [],
   "source": [
    "class Solution(object):\n",
    "    def canFinish(self, numCourses, prerequisites):\n",
    "        \"\"\"\n",
    "        :type numCourses: int\n",
    "        :type prerequisites: List[List[int]]\n",
    "        :rtype: bool\n",
    "        \"\"\"\n",
    "        graph = dict()\n",
    "        visited = dict()\n",
    "        for i in range(numCourses):\n",
    "            graph[i] = set([])\n",
    "            visited[i] = 0 # 0: haven't visited; 1: visited; 2: visiting\n",
    "        for course, pre in prerequisites:\n",
    "            graph[pre].add(course)\n",
    "        #print(graph)\n",
    "        #print(visited)\n",
    "        for course in range(numCourses):\n",
    "            loop = self.dfs(course, graph, visited)\n",
    "            if loop:\n",
    "                return False\n",
    "        return True\n",
    "    \n",
    "    def dfs(self, node, graph, visited):\n",
    "        loop = False\n",
    "        if visited[node] != 1:\n",
    "            visited[node] = 2\n",
    "            #print('node is', node)\n",
    "            #print('visited',visited)\n",
    "            for course in graph[node]:\n",
    "                #print('path is', path, 'node is ', course)\n",
    "                #print()\n",
    "                if visited[course] == 2:\n",
    "                    loop = True\n",
    "                    break\n",
    "                elif not visited[course]:\n",
    "                    loop = self.dfs(course, graph, visited)\n",
    "                    if loop:\n",
    "                        return True\n",
    "        visited[node] = 1\n",
    "        return loop"
   ]
  },
  {
   "cell_type": "code",
   "execution_count": 4,
   "metadata": {
    "ExecuteTime": {
     "end_time": "2019-09-01T18:30:32.146760Z",
     "start_time": "2019-09-01T18:30:32.138580Z"
    }
   },
   "outputs": [],
   "source": [
    "class Solution(object):\n",
    "    def canFinish(self, numCourses, prerequisites):\n",
    "        \"\"\"\n",
    "        :type numCourses: int\n",
    "        :type prerequisites: List[List[int]]\n",
    "        :rtype: bool\n",
    "        \"\"\"\n",
    "        graph = dict()\n",
    "        visited = dict()\n",
    "        for i in range(numCourses):\n",
    "            graph[i] = set([])\n",
    "            visited[i] = 0 # 0: haven't visited; 1: visited; 2: visiting\n",
    "        for course, pre in prerequisites:\n",
    "            graph[pre].add(course)\n",
    "        #print(graph)\n",
    "        #print(visited)\n",
    "        for course in range(numCourses):\n",
    "            loop = self.dfs(course, graph, visited)\n",
    "            if loop:\n",
    "                return False\n",
    "        return True\n",
    "    \n",
    "    def dfs(self, node, graph, visited):\n",
    "        loop = False\n",
    "        if visited[node] != 1:\n",
    "            visited[node] = 2\n",
    "            #print('node is', node)\n",
    "            #print('visited',visited)\n",
    "            for course in graph[node]:\n",
    "                #print('path is', path, 'node is ', course)\n",
    "                #print()\n",
    "                if visited[course] == 2:\n",
    "                    return True\n",
    "                elif not visited[course]:\n",
    "                    loop = self.dfs(course, graph, visited)\n",
    "                    if loop:\n",
    "                        return True\n",
    "        visited[node] = 1\n",
    "        return loop"
   ]
  },
  {
   "cell_type": "markdown",
   "metadata": {},
   "source": [
    "# BFS"
   ]
  },
  {
   "cell_type": "code",
   "execution_count": 35,
   "metadata": {
    "ExecuteTime": {
     "end_time": "2019-09-01T20:42:47.491255Z",
     "start_time": "2019-09-01T20:42:47.483501Z"
    }
   },
   "outputs": [],
   "source": [
    "class Solution(object):\n",
    "    def canFinish(self, numCourses, prerequisites):\n",
    "        \"\"\"\n",
    "        :type numCourses: int\n",
    "        :type prerequisites: List[List[int]]\n",
    "        :rtype: bool\n",
    "        \"\"\"\n",
    "        graph = dict()\n",
    "        indegree = dict()\n",
    "        for i in range(numCourses):\n",
    "            graph[i] = set([])\n",
    "            indegree[i] = 0\n",
    "        for course, pre in prerequisites:\n",
    "            graph[pre].add(course)\n",
    "            indegree[course] += 1\n",
    "        #print('graph:', graph)\n",
    "        #print('indegree:', indegree)\n",
    "        indgree_zero = [course for course in range(numCourses) if indegree[course] == 0]\n",
    "        for course in indgree_zero:\n",
    "            self.bfs([course], graph, indegree)\n",
    "        #print(indegree)\n",
    "        for node in range(numCourses):\n",
    "            if indegree[node] != 0:\n",
    "                return False\n",
    "        return True\n",
    "        \n",
    "    def bfs(self, nodes, graph, indegree):\n",
    "        if not nodes:\n",
    "            return\n",
    "        next_level = []\n",
    "        #print('nodes are', nodes)\n",
    "        for node in nodes:\n",
    "            for pointed_node in graph[node]:\n",
    "                indegree[pointed_node] -= 1\n",
    "                #print('node is', node, 'pointed node is', pointed_node)\n",
    "                if indegree[pointed_node] == 0:\n",
    "                    next_level.append(pointed_node)\n",
    "        #print('next_level is', next_level)\n",
    "        #print()\n",
    "        self.bfs(next_level, graph, indegree)"
   ]
  },
  {
   "cell_type": "code",
   "execution_count": null,
   "metadata": {},
   "outputs": [],
   "source": []
  }
 ],
 "metadata": {
  "kernelspec": {
   "display_name": "Python 3",
   "language": "python",
   "name": "python3"
  },
  "language_info": {
   "codemirror_mode": {
    "name": "ipython",
    "version": 3
   },
   "file_extension": ".py",
   "mimetype": "text/x-python",
   "name": "python",
   "nbconvert_exporter": "python",
   "pygments_lexer": "ipython3",
   "version": "3.7.1"
  },
  "toc": {
   "base_numbering": 1,
   "nav_menu": {},
   "number_sections": true,
   "sideBar": true,
   "skip_h1_title": false,
   "title_cell": "Table of Contents",
   "title_sidebar": "Contents",
   "toc_cell": false,
   "toc_position": {},
   "toc_section_display": true,
   "toc_window_display": false
  }
 },
 "nbformat": 4,
 "nbformat_minor": 2
}
