{
 "cells": [
  {
   "cell_type": "code",
   "execution_count": 1,
   "metadata": {},
   "outputs": [],
   "source": [
    "# Definition for a binary tree node.\n",
    "# class TreeNode(object):\n",
    "#     def __init__(self, x):\n",
    "#         self.val = x\n",
    "#         self.left = None\n",
    "#         self.right = None\n",
    "\n",
    "class Solution(object):\n",
    "    def constructMaximumBinaryTree(self, nums):\n",
    "        \"\"\"\n",
    "        :type nums: List[int]\n",
    "        :rtype: TreeNode\n",
    "        \"\"\"\n",
    "        res = self.TreeBuilder(nums, 0, len(nums) - 1)\n",
    "        return res\n",
    "    \n",
    "    def TreeBuilder(self, nums, start, end):\n",
    "        if start > end:\n",
    "            return None\n",
    "        max_idx = start\n",
    "        for i in range(start, end + 1):\n",
    "            if nums[i] > nums[max_idx]:\n",
    "                max_idx = i\n",
    "        root = TreeNode(nums[max_idx])\n",
    "        root.left = self.TreeBuilder(nums, start, max_idx - 1)\n",
    "        root.right = self.TreeBuilder(nums, max_idx + 1, end)\n",
    "        return root"
   ]
  },
  {
   "cell_type": "code",
   "execution_count": 2,
   "metadata": {},
   "outputs": [],
   "source": [
    "# Definition for a binary tree node.\n",
    "# class TreeNode(object):\n",
    "#     def __init__(self, x):\n",
    "#         self.val = x\n",
    "#         self.left = None\n",
    "#         self.right = None\n",
    "\n",
    "class Solution(object):\n",
    "    def constructMaximumBinaryTree(self, nums):\n",
    "        \"\"\"\n",
    "        :type nums: List[int]\n",
    "        :rtype: TreeNode\n",
    "        \"\"\"\n",
    "        stack = []\n",
    "        for i in range(len(nums)):\n",
    "            cur = TreeNode(nums[i])\n",
    "            while stack and stack[-1].val < nums[i]:\n",
    "                cur.left = stack[-1]\n",
    "                stack.pop()\n",
    "            if stack:\n",
    "                stack[-1].right = cur\n",
    "            stack.append(cur)\n",
    "        return stack[0]"
   ]
  },
  {
   "cell_type": "code",
   "execution_count": 16,
   "metadata": {},
   "outputs": [],
   "source": [
    "# Definition for a binary tree node.\n",
    "class TreeNode(object):\n",
    "    def __init__(self, x):\n",
    "        self.val = x\n",
    "        self.left = None\n",
    "        self.right = None\n",
    "\n",
    "class Solution(object):\n",
    "    def constructMaximumBinaryTree(self, nums):\n",
    "        \"\"\"\n",
    "        :type nums: List[int]\n",
    "        :rtype: TreeNode\n",
    "        \"\"\"\n",
    "        stack = []\n",
    "        for i in range(len(nums)):\n",
    "            cur = TreeNode(nums[i])\n",
    "            print(nums[i])\n",
    "            while stack and stack[-1].val < nums[i]:\n",
    "                cur.left = stack[-1]\n",
    "                print(f'assign {stack[-1].val} to the left child of {cur.val}')\n",
    "                stack.pop()\n",
    "            if stack:\n",
    "                stack[-1].right = cur\n",
    "                print(f'assign {cur.val} to the right child of {stack[-1].val}')\n",
    "            stack.append(cur)\n",
    "            print([i.val for i in stack])\n",
    "            print()\n",
    "        return stack[0]"
   ]
  },
  {
   "cell_type": "code",
   "execution_count": 17,
   "metadata": {},
   "outputs": [],
   "source": [
    "A = Solution()"
   ]
  },
  {
   "cell_type": "code",
   "execution_count": 18,
   "metadata": {},
   "outputs": [
    {
     "name": "stdout",
     "output_type": "stream",
     "text": [
      "3\n",
      "[3]\n",
      "\n",
      "2\n",
      "assign 2 to the right child of 3\n",
      "[3, 2]\n",
      "\n",
      "1\n",
      "assign 1 to the right child of 2\n",
      "[3, 2, 1]\n",
      "\n",
      "6\n",
      "assign 1 to the left child of 6\n",
      "assign 2 to the left child of 6\n",
      "assign 3 to the left child of 6\n",
      "[6]\n",
      "\n",
      "0\n",
      "assign 0 to the right child of 6\n",
      "[6, 0]\n",
      "\n",
      "5\n",
      "assign 0 to the left child of 5\n",
      "assign 5 to the right child of 6\n",
      "[6, 5]\n",
      "\n"
     ]
    },
    {
     "data": {
      "text/plain": [
       "<__main__.TreeNode at 0x2d835e51da0>"
      ]
     },
     "execution_count": 18,
     "metadata": {},
     "output_type": "execute_result"
    }
   ],
   "source": [
    "A.constructMaximumBinaryTree([3,2,1,6,0,5])"
   ]
  },
  {
   "cell_type": "code",
   "execution_count": null,
   "metadata": {},
   "outputs": [],
   "source": []
  }
 ],
 "metadata": {
  "kernelspec": {
   "display_name": "Python 3",
   "language": "python",
   "name": "python3"
  },
  "language_info": {
   "codemirror_mode": {
    "name": "ipython",
    "version": 3
   },
   "file_extension": ".py",
   "mimetype": "text/x-python",
   "name": "python",
   "nbconvert_exporter": "python",
   "pygments_lexer": "ipython3",
   "version": "3.7.3"
  },
  "toc": {
   "base_numbering": 1,
   "nav_menu": {},
   "number_sections": true,
   "sideBar": true,
   "skip_h1_title": false,
   "title_cell": "Table of Contents",
   "title_sidebar": "Contents",
   "toc_cell": false,
   "toc_position": {},
   "toc_section_display": true,
   "toc_window_display": false
  }
 },
 "nbformat": 4,
 "nbformat_minor": 2
}
