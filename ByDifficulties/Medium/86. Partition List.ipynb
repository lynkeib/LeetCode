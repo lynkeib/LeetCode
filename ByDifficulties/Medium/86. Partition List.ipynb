{
 "cells": [
  {
   "cell_type": "code",
   "execution_count": 1,
   "metadata": {
    "ExecuteTime": {
     "end_time": "2019-09-19T03:10:50.524518Z",
     "start_time": "2019-09-19T03:10:50.517767Z"
    }
   },
   "outputs": [],
   "source": [
    "# Definition for singly-linked list.\n",
    "# class ListNode(object):\n",
    "#     def __init__(self, x):\n",
    "#         self.val = x\n",
    "#         self.next = None\n",
    "\n",
    "class Solution(object):\n",
    "    def partition(self, head, x):\n",
    "        \"\"\"\n",
    "        :type head: ListNode\n",
    "        :type x: int\n",
    "        :rtype: ListNode\n",
    "        \"\"\"\n",
    "        less_than = ListNode(0)\n",
    "        greater_than = ListNode(0)\n",
    "        temp_less = less_than\n",
    "        temp_greater = greater_than\n",
    "        # res = less_than\n",
    "        curr = head\n",
    "        while head:\n",
    "            if head.val < x:\n",
    "                less_than.next = ListNode(head.val)\n",
    "                less_than = less_than.next\n",
    "            else:\n",
    "                greater_than.next = ListNode(head.val)\n",
    "                greater_than = greater_than.next\n",
    "            head = head.next\n",
    "        less_than.next = temp_greater.next\n",
    "        return temp_less.next"
   ]
  },
  {
   "cell_type": "code",
   "execution_count": null,
   "metadata": {},
   "outputs": [],
   "source": []
  }
 ],
 "metadata": {
  "kernelspec": {
   "display_name": "Python 3",
   "language": "python",
   "name": "python3"
  },
  "language_info": {
   "codemirror_mode": {
    "name": "ipython",
    "version": 3
   },
   "file_extension": ".py",
   "mimetype": "text/x-python",
   "name": "python",
   "nbconvert_exporter": "python",
   "pygments_lexer": "ipython3",
   "version": "3.7.1"
  },
  "toc": {
   "base_numbering": 1,
   "nav_menu": {},
   "number_sections": true,
   "sideBar": true,
   "skip_h1_title": false,
   "title_cell": "Table of Contents",
   "title_sidebar": "Contents",
   "toc_cell": false,
   "toc_position": {},
   "toc_section_display": true,
   "toc_window_display": false
  }
 },
 "nbformat": 4,
 "nbformat_minor": 2
}
