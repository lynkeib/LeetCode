{
 "cells": [
  {
   "cell_type": "code",
   "execution_count": 1,
   "metadata": {
    "ExecuteTime": {
     "end_time": "2019-09-09T09:01:05.534462Z",
     "start_time": "2019-09-09T09:01:05.526298Z"
    }
   },
   "outputs": [],
   "source": [
    "class Solution(object):\n",
    "    def findCheapestPrice(self, n, flights, src, dst, K):\n",
    "        \"\"\"\n",
    "        :type n: int\n",
    "        :type flights: List[List[int]]\n",
    "        :type src: int\n",
    "        :type dst: int\n",
    "        :type K: int\n",
    "        :rtype: int\n",
    "        \"\"\"\n",
    "        G = collections.defaultdict(list)\n",
    "        for start, end, price in flights:\n",
    "            G[start].append((end, price))\n",
    "        # print(G)\n",
    "        res = [float('inf')]\n",
    "        self.dfs(src,None,G,K+1,dst,0,res)\n",
    "        return res[0] if res[0] != float('inf') else -1\n",
    "        \n",
    "    def dfs(self, curr, prev, G, K, dst, total, res):\n",
    "        if total > res[0] or K < 0:\n",
    "            return\n",
    "        if curr == dst and K >= 0:\n",
    "            res[0] = min(res[0], total)\n",
    "            \n",
    "        for node, price in G[curr]:\n",
    "            if node != prev:\n",
    "                self.dfs(node, curr, G, K-1, dst, total+price, res)\n",
    "            "
   ]
  },
  {
   "cell_type": "code",
   "execution_count": 2,
   "metadata": {
    "ExecuteTime": {
     "end_time": "2019-09-09T09:43:35.514685Z",
     "start_time": "2019-09-09T09:43:35.508175Z"
    }
   },
   "outputs": [],
   "source": [
    "class Solution(object):\n",
    "    def findCheapestPrice(self, n, flights, src, dst, K):\n",
    "        \"\"\"\n",
    "        :type n: int\n",
    "        :type flights: List[List[int]]\n",
    "        :type src: int\n",
    "        :type dst: int\n",
    "        :type K: int\n",
    "        :rtype: int\n",
    "        \"\"\"\n",
    "        G = collections.defaultdict(dict)\n",
    "        for start, end, price in flights:\n",
    "            G[start][end] = price\n",
    "        heap = [[0, src, K+1]]\n",
    "        while heap:\n",
    "            price, node, k = heapq.heappop(heap)\n",
    "            if node == dst:\n",
    "                return price\n",
    "            if k > 0:\n",
    "                for n in G[node].keys():\n",
    "                    heapq.heappush(heap, [price+G[node][n], n, k-1])\n",
    "        return -1\n",
    "        "
   ]
  },
  {
   "cell_type": "code",
   "execution_count": null,
   "metadata": {},
   "outputs": [],
   "source": []
  }
 ],
 "metadata": {
  "kernelspec": {
   "display_name": "Python 3",
   "language": "python",
   "name": "python3"
  },
  "language_info": {
   "codemirror_mode": {
    "name": "ipython",
    "version": 3
   },
   "file_extension": ".py",
   "mimetype": "text/x-python",
   "name": "python",
   "nbconvert_exporter": "python",
   "pygments_lexer": "ipython3",
   "version": "3.7.1"
  },
  "toc": {
   "base_numbering": 1,
   "nav_menu": {},
   "number_sections": true,
   "sideBar": true,
   "skip_h1_title": false,
   "title_cell": "Table of Contents",
   "title_sidebar": "Contents",
   "toc_cell": false,
   "toc_position": {},
   "toc_section_display": true,
   "toc_window_display": false
  }
 },
 "nbformat": 4,
 "nbformat_minor": 2
}
