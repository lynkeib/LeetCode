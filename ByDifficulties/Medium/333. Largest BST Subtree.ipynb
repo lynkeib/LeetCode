{
 "cells": [
  {
   "cell_type": "code",
   "execution_count": 1,
   "metadata": {
    "ExecuteTime": {
     "end_time": "2019-09-17T00:46:46.540972Z",
     "start_time": "2019-09-17T00:46:46.530927Z"
    }
   },
   "outputs": [],
   "source": [
    "# Definition for a binary tree node.\n",
    "# class TreeNode(object):\n",
    "#     def __init__(self, x):\n",
    "#         self.val = x\n",
    "#         self.left = None\n",
    "#         self.right = None\n",
    "class BST(object):\n",
    "    def __init__(self, largest, max_val, min_val, nodes):\n",
    "        self.largest = largest\n",
    "        self.max_val = max_val\n",
    "        self.min_val = min_val\n",
    "        self.nodes = nodes\n",
    "        \n",
    "class Solution(object):\n",
    "    def largestBSTSubtree(self, root):\n",
    "        \"\"\"\n",
    "        :type root: TreeNode\n",
    "        :rtype: int\n",
    "        \"\"\"\n",
    "        bst = self.dfs(root)\n",
    "        return bst.largest\n",
    "    \n",
    "    def dfs(self, root):\n",
    "        if not root:\n",
    "            return BST(0, -float('inf'), float('inf'), 0)\n",
    "        left = self.dfs(root.left)\n",
    "        right = self.dfs(root.right)\n",
    "        if root.val > left.max_val and root.val < right.min_val:\n",
    "            num = 1 + left.nodes + right.nodes\n",
    "        else:\n",
    "            num = -float('inf')\n",
    "        \n",
    "        largest = max(left.largest, right.largest, num)\n",
    "            \n",
    "        return BST(largest, max(root.val, right.max_val), min(root.val, left.min_val), num)\n",
    "        "
   ]
  },
  {
   "cell_type": "code",
   "execution_count": null,
   "metadata": {},
   "outputs": [],
   "source": []
  }
 ],
 "metadata": {
  "kernelspec": {
   "display_name": "Python 3",
   "language": "python",
   "name": "python3"
  },
  "language_info": {
   "codemirror_mode": {
    "name": "ipython",
    "version": 3
   },
   "file_extension": ".py",
   "mimetype": "text/x-python",
   "name": "python",
   "nbconvert_exporter": "python",
   "pygments_lexer": "ipython3",
   "version": "3.7.1"
  },
  "toc": {
   "base_numbering": 1,
   "nav_menu": {},
   "number_sections": true,
   "sideBar": true,
   "skip_h1_title": false,
   "title_cell": "Table of Contents",
   "title_sidebar": "Contents",
   "toc_cell": false,
   "toc_position": {},
   "toc_section_display": true,
   "toc_window_display": false
  }
 },
 "nbformat": 4,
 "nbformat_minor": 2
}
