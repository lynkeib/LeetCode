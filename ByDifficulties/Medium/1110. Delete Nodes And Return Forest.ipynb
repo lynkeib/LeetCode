{
 "cells": [
  {
   "cell_type": "code",
   "execution_count": 1,
   "metadata": {},
   "outputs": [],
   "source": [
    "# Definition for a binary tree node.\n",
    "# class TreeNode(object):\n",
    "#     def __init__(self, x):\n",
    "#         self.val = x\n",
    "#         self.left = None\n",
    "#         self.right = None\n",
    "\n",
    "class Solution(object):\n",
    "    def delNodes(self, root, to_delete):\n",
    "        \"\"\"\n",
    "        :type root: TreeNode\n",
    "        :type to_delete: List[int]\n",
    "        :rtype: List[TreeNode]\n",
    "        \"\"\"\n",
    "        to_delete = set(to_delete)\n",
    "        res = []\n",
    "        self.dfs(root, True, to_delete, res)\n",
    "        return res\n",
    "    \n",
    "    def dfs(self, root, is_root, to_delete, res):\n",
    "        if not root:\n",
    "            return\n",
    "        root_deleted = root.val in to_delete\n",
    "        if is_root and not root_deleted:\n",
    "            res.append(root)\n",
    "        root.left = self.dfs(root.left, root_deleted, to_delete, res)\n",
    "        root.right = self.dfs(root.right, root_deleted, to_delete, res)\n",
    "        if root_deleted:\n",
    "            return None\n",
    "        else:\n",
    "            return root"
   ]
  },
  {
   "cell_type": "code",
   "execution_count": null,
   "metadata": {},
   "outputs": [],
   "source": []
  }
 ],
 "metadata": {
  "kernelspec": {
   "display_name": "Python 3",
   "language": "python",
   "name": "python3"
  },
  "language_info": {
   "codemirror_mode": {
    "name": "ipython",
    "version": 3
   },
   "file_extension": ".py",
   "mimetype": "text/x-python",
   "name": "python",
   "nbconvert_exporter": "python",
   "pygments_lexer": "ipython3",
   "version": "3.7.3"
  },
  "toc": {
   "base_numbering": 1,
   "nav_menu": {},
   "number_sections": true,
   "sideBar": true,
   "skip_h1_title": false,
   "title_cell": "Table of Contents",
   "title_sidebar": "Contents",
   "toc_cell": false,
   "toc_position": {},
   "toc_section_display": true,
   "toc_window_display": false
  }
 },
 "nbformat": 4,
 "nbformat_minor": 2
}
