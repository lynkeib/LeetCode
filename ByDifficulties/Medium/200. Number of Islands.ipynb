{
 "cells": [
  {
   "cell_type": "markdown",
   "metadata": {},
   "source": [
    "# DFS"
   ]
  },
  {
   "cell_type": "code",
   "execution_count": 2,
   "metadata": {
    "ExecuteTime": {
     "end_time": "2019-09-03T04:08:02.595650Z",
     "start_time": "2019-09-03T04:08:02.586359Z"
    }
   },
   "outputs": [],
   "source": [
    "class Solution(object):\n",
    "    def numIslands(self, grid):\n",
    "        \"\"\"\n",
    "        :type grid: List[List[str]]\n",
    "        :rtype: int\n",
    "        \"\"\"\n",
    "        if not grid:\n",
    "            return 0\n",
    "        rows, columns = len(grid), len(grid[0])\n",
    "        visited = set([])\n",
    "        res = 0\n",
    "        for r in range(rows):\n",
    "            for c in range(columns):\n",
    "                if grid[r][c] == \"1\" and (r, c) not in visited:\n",
    "                    res += 1\n",
    "                    self.dfs(r, c, rows, columns, grid, visited)\n",
    "        return res\n",
    "        \n",
    "    def dfs(self, x, y, rows, columns, graph, visited):\n",
    "        visited.add((x, y))\n",
    "        #down\n",
    "        if x + 1 < rows and graph[x + 1][y] == \"1\" and (x + 1, y) not in visited:\n",
    "            self.dfs(x + 1, y, rows, columns, graph, visited)\n",
    "        #right\n",
    "        if y + 1 < columns and graph[x][y + 1] == \"1\" and (x, y + 1) not in visited:\n",
    "            self.dfs(x, y + 1, rows, columns, graph, visited)\n",
    "        #up\n",
    "        if x - 1 > -1 and graph[x - 1][y] == \"1\" and (x - 1, y) not in visited:\n",
    "            self.dfs(x - 1, y, rows, columns, graph, visited)\n",
    "        # left\n",
    "        if y - 1 > -1 and graph[x][y - 1] == \"1\" and (x, y - 1) not in visited:\n",
    "            self.dfs(x, y - 1, rows, columns, graph, visited)\n",
    "        return "
   ]
  },
  {
   "cell_type": "markdown",
   "metadata": {},
   "source": [
    "# BFS"
   ]
  },
  {
   "cell_type": "code",
   "execution_count": 4,
   "metadata": {
    "ExecuteTime": {
     "end_time": "2019-09-03T04:15:23.683243Z",
     "start_time": "2019-09-03T04:15:23.672826Z"
    }
   },
   "outputs": [],
   "source": [
    "class Solution(object):\n",
    "    def numIslands(self, grid):\n",
    "        \"\"\"\n",
    "        :type grid: List[List[str]]\n",
    "        :rtype: int\n",
    "        \"\"\"\n",
    "        if not grid:\n",
    "            return 0\n",
    "        rows, columns = len(grid), len(grid[0])\n",
    "        visited = set([])\n",
    "        res = 0\n",
    "        for r in range(rows):\n",
    "            for c in range(columns):\n",
    "                if grid[r][c] == \"1\" and (r, c) not in visited:\n",
    "                    res += 1\n",
    "                    self.bfs([(r, c)], rows, columns, grid, visited)\n",
    "        return res\n",
    "        \n",
    "    def bfs(self, nodes, rows, columns, graph, visited):\n",
    "        next_level = []\n",
    "        for x, y in nodes:\n",
    "            visited.add((x, y))\n",
    "             #down\n",
    "            if x + 1 < rows and graph[x + 1][y] == \"1\" and (x + 1, y) not in visited:\n",
    "                next_level.append((x+1, y))\n",
    "            #right\n",
    "            if y + 1 < columns and graph[x][y + 1] == \"1\" and (x, y + 1) not in visited:\n",
    "                next_level.append((x, y+1))\n",
    "            #up\n",
    "            if x - 1 > -1 and graph[x - 1][y] == \"1\" and (x - 1, y) not in visited:\n",
    "                next_level.append((x-1, y))\n",
    "            # left\n",
    "            if y - 1 > -1 and graph[x][y - 1] == \"1\" and (x, y - 1) not in visited:\n",
    "                next_level.append((x, y-1))\n",
    "        if next_level:\n",
    "            self.bfs(next_level, rows, columns, graph, visited)\n",
    "        return "
   ]
  },
  {
   "cell_type": "code",
   "execution_count": null,
   "metadata": {},
   "outputs": [],
   "source": []
  }
 ],
 "metadata": {
  "kernelspec": {
   "display_name": "Python 3",
   "language": "python",
   "name": "python3"
  },
  "language_info": {
   "codemirror_mode": {
    "name": "ipython",
    "version": 3
   },
   "file_extension": ".py",
   "mimetype": "text/x-python",
   "name": "python",
   "nbconvert_exporter": "python",
   "pygments_lexer": "ipython3",
   "version": "3.7.1"
  },
  "toc": {
   "base_numbering": 1,
   "nav_menu": {},
   "number_sections": true,
   "sideBar": true,
   "skip_h1_title": false,
   "title_cell": "Table of Contents",
   "title_sidebar": "Contents",
   "toc_cell": false,
   "toc_position": {},
   "toc_section_display": true,
   "toc_window_display": false
  }
 },
 "nbformat": 4,
 "nbformat_minor": 2
}
