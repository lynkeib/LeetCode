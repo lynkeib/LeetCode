{
 "cells": [
  {
   "cell_type": "markdown",
   "metadata": {},
   "source": [
    "# TLE"
   ]
  },
  {
   "cell_type": "code",
   "execution_count": 1,
   "metadata": {
    "ExecuteTime": {
     "end_time": "2019-09-09T05:27:50.050143Z",
     "start_time": "2019-09-09T05:27:50.043444Z"
    }
   },
   "outputs": [],
   "source": [
    "class Solution(object):\n",
    "    def minSubArrayLen(self, s, nums):\n",
    "        \"\"\"\n",
    "        :type s: int\n",
    "        :type nums: List[int]\n",
    "        :rtype: int\n",
    "        \"\"\"\n",
    "        ss = 0\n",
    "        sum_dic = dict()\n",
    "        res = 0\n",
    "        nums = [0] + nums\n",
    "        for index in range(len(nums)):\n",
    "            ss += nums[index]\n",
    "            for d in sum_dic:\n",
    "                if ss - d >= s:\n",
    "                    if res == 0:\n",
    "                        res = index - sum_dic[d]\n",
    "                    else:\n",
    "                        res = min(res, index - sum_dic[d])\n",
    "            sum_dic[ss] = index\n",
    "        return res"
   ]
  },
  {
   "cell_type": "markdown",
   "metadata": {},
   "source": [
    "# Two Pointers"
   ]
  },
  {
   "cell_type": "code",
   "execution_count": 2,
   "metadata": {
    "ExecuteTime": {
     "end_time": "2019-09-09T05:59:46.750113Z",
     "start_time": "2019-09-09T05:59:46.743931Z"
    }
   },
   "outputs": [],
   "source": [
    "class Solution(object):\n",
    "    def minSubArrayLen(self, s, nums):\n",
    "        \"\"\"\n",
    "        :type s: int\n",
    "        :type nums: List[int]\n",
    "        :rtype: int\n",
    "        \"\"\"\n",
    "        slow = 0\n",
    "        res = len(nums) + 1\n",
    "        ss = 0\n",
    "        for index in range(len(nums)):\n",
    "            ss += nums[index]\n",
    "            if ss < s:\n",
    "                continue\n",
    "            else:\n",
    "                while slow <= index and ss >= s:\n",
    "                    res = min(index-slow+1, res)\n",
    "                    ss -= nums[slow]\n",
    "                    slow += 1\n",
    "        return res if res != len(nums) + 1 else 0"
   ]
  },
  {
   "cell_type": "code",
   "execution_count": null,
   "metadata": {},
   "outputs": [],
   "source": []
  }
 ],
 "metadata": {
  "kernelspec": {
   "display_name": "Python 3",
   "language": "python",
   "name": "python3"
  },
  "language_info": {
   "codemirror_mode": {
    "name": "ipython",
    "version": 3
   },
   "file_extension": ".py",
   "mimetype": "text/x-python",
   "name": "python",
   "nbconvert_exporter": "python",
   "pygments_lexer": "ipython3",
   "version": "3.7.1"
  },
  "toc": {
   "base_numbering": 1,
   "nav_menu": {},
   "number_sections": true,
   "sideBar": true,
   "skip_h1_title": false,
   "title_cell": "Table of Contents",
   "title_sidebar": "Contents",
   "toc_cell": false,
   "toc_position": {},
   "toc_section_display": true,
   "toc_window_display": false
  }
 },
 "nbformat": 4,
 "nbformat_minor": 2
}
