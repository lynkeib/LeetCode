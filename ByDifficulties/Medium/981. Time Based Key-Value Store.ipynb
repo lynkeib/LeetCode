{
 "cells": [
  {
   "cell_type": "code",
   "execution_count": 1,
   "metadata": {
    "ExecuteTime": {
     "end_time": "2019-09-06T06:25:36.537938Z",
     "start_time": "2019-09-06T06:25:36.528479Z"
    }
   },
   "outputs": [],
   "source": [
    "class TimeMap(object):\n",
    "\n",
    "    def __init__(self):\n",
    "        \"\"\"\n",
    "        Initialize your data structure here.\n",
    "        \"\"\"\n",
    "        self.dict_time = collections.defaultdict(list)\n",
    "        self.dict_value = collections.defaultdict(list)\n",
    "        \n",
    "\n",
    "    def set(self, key, value, timestamp):\n",
    "        \"\"\"\n",
    "        :type key: str\n",
    "        :type value: str\n",
    "        :type timestamp: int\n",
    "        :rtype: None\n",
    "        \"\"\"\n",
    "        self.dict_time[key].append(timestamp)\n",
    "        self.dict_value[key].append(value)\n",
    "        # print(self.dict_time)\n",
    "        # print(self.dict_value)\n",
    "        \n",
    "\n",
    "    def get(self, key, timestamp):\n",
    "        \"\"\"\n",
    "        :type key: str\n",
    "        :type timestamp: int\n",
    "        :rtype: str\n",
    "        \"\"\"\n",
    "        index = self.bisect(self.dict_time[key], timestamp)\n",
    "        # print(index)\n",
    "        return self.dict_value[key][index-1] if index else \"\"\n",
    "    \n",
    "    def bisect(self, nums, target):\n",
    "        left, right = 0, len(nums) - 1\n",
    "        while left <= right:\n",
    "            mid = (left + right) // 2\n",
    "            if nums[mid] == target:\n",
    "                return mid + 1\n",
    "            if nums[mid] < target:\n",
    "                left = mid + 1\n",
    "            else:\n",
    "                right = mid - 1\n",
    "        return left\n",
    "        \n",
    "\n",
    "\n",
    "# Your TimeMap object will be instantiated and called as such:\n",
    "# obj = TimeMap()\n",
    "# obj.set(key,value,timestamp)\n",
    "# param_2 = obj.get(key,timestamp)"
   ]
  },
  {
   "cell_type": "code",
   "execution_count": null,
   "metadata": {},
   "outputs": [],
   "source": []
  }
 ],
 "metadata": {
  "kernelspec": {
   "display_name": "Python 3",
   "language": "python",
   "name": "python3"
  },
  "language_info": {
   "codemirror_mode": {
    "name": "ipython",
    "version": 3
   },
   "file_extension": ".py",
   "mimetype": "text/x-python",
   "name": "python",
   "nbconvert_exporter": "python",
   "pygments_lexer": "ipython3",
   "version": "3.7.1"
  },
  "toc": {
   "base_numbering": 1,
   "nav_menu": {},
   "number_sections": true,
   "sideBar": true,
   "skip_h1_title": false,
   "title_cell": "Table of Contents",
   "title_sidebar": "Contents",
   "toc_cell": false,
   "toc_position": {},
   "toc_section_display": true,
   "toc_window_display": false
  }
 },
 "nbformat": 4,
 "nbformat_minor": 2
}
