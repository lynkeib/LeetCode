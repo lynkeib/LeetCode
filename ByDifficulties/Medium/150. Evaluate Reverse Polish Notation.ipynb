{
 "cells": [
  {
   "cell_type": "code",
   "execution_count": 1,
   "metadata": {
    "ExecuteTime": {
     "end_time": "2019-09-07T17:32:46.080399Z",
     "start_time": "2019-09-07T17:32:46.073297Z"
    }
   },
   "outputs": [],
   "source": [
    "class Solution(object):\n",
    "    def evalRPN(self, tokens):\n",
    "        \"\"\"\n",
    "        :type tokens: List[str]\n",
    "        :rtype: int\n",
    "        \"\"\"\n",
    "        \n",
    "        stack = collections.deque([])\n",
    "        for e in tokens:\n",
    "            # print(stack)\n",
    "            if e not in \"+-*/\":\n",
    "                stack.append(int(e))\n",
    "            else:\n",
    "                self.calculate(stack, e)\n",
    "        return stack[0]\n",
    "    \n",
    "    def calculate(self, stack, operator):\n",
    "        num1 = stack.pop()\n",
    "        num2 = stack.pop()\n",
    "        if operator == '+':\n",
    "            stack.append(num1 + num2)\n",
    "        elif operator == '-':\n",
    "            stack.append(num2 - num1)\n",
    "        elif operator == '/':\n",
    "            stack.append(int(num2 / float(num1)))\n",
    "        else:\n",
    "            stack.append(num1 * num2)"
   ]
  },
  {
   "cell_type": "code",
   "execution_count": null,
   "metadata": {},
   "outputs": [],
   "source": []
  }
 ],
 "metadata": {
  "kernelspec": {
   "display_name": "Python 3",
   "language": "python",
   "name": "python3"
  },
  "language_info": {
   "codemirror_mode": {
    "name": "ipython",
    "version": 3
   },
   "file_extension": ".py",
   "mimetype": "text/x-python",
   "name": "python",
   "nbconvert_exporter": "python",
   "pygments_lexer": "ipython3",
   "version": "3.7.1"
  },
  "toc": {
   "base_numbering": 1,
   "nav_menu": {},
   "number_sections": true,
   "sideBar": true,
   "skip_h1_title": false,
   "title_cell": "Table of Contents",
   "title_sidebar": "Contents",
   "toc_cell": false,
   "toc_position": {},
   "toc_section_display": true,
   "toc_window_display": false
  }
 },
 "nbformat": 4,
 "nbformat_minor": 2
}
