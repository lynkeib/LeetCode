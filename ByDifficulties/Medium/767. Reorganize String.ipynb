{
 "cells": [
  {
   "cell_type": "code",
   "execution_count": 7,
   "metadata": {},
   "outputs": [],
   "source": [
    "import collections\n",
    "import heapq"
   ]
  },
  {
   "cell_type": "code",
   "execution_count": 12,
   "metadata": {},
   "outputs": [],
   "source": [
    "class Solution(object):\n",
    "    def reorganizeString(self, S):\n",
    "        \"\"\"\n",
    "        :type S: str\n",
    "        :rtype: str\n",
    "        \"\"\"\n",
    "        cnt = [(-value, key) for key, value in collections.Counter(S).items()]\n",
    "        heapq.heapify(cnt)\n",
    "        if -cnt[0][0] > (len(S) + 1) // 2:\n",
    "            return \"\"\n",
    "        ans = []\n",
    "        while cnt:\n",
    "            first = heapq.heappop(cnt)\n",
    "            if not ans or ans[-1] != first[1]:\n",
    "                ans.append(first[1])\n",
    "                first = (first[0] + 1, first[1])\n",
    "                if first[0]:\n",
    "                    heapq.heappush(cnt, first)\n",
    "            else:\n",
    "                second = heapq.heappop(cnt)\n",
    "                ans.append(second[1])\n",
    "                second = (second[0] + 1, second[1])\n",
    "                if second[0]:\n",
    "                    heapq.heappush(cnt, second)\n",
    "                heapq.heappush(cnt, first)\n",
    "        return ''.join(ans)"
   ]
  },
  {
   "cell_type": "code",
   "execution_count": null,
   "metadata": {},
   "outputs": [],
   "source": []
  }
 ],
 "metadata": {
  "kernelspec": {
   "display_name": "Python 3",
   "language": "python",
   "name": "python3"
  },
  "language_info": {
   "codemirror_mode": {
    "name": "ipython",
    "version": 3
   },
   "file_extension": ".py",
   "mimetype": "text/x-python",
   "name": "python",
   "nbconvert_exporter": "python",
   "pygments_lexer": "ipython3",
   "version": "3.7.3"
  },
  "toc": {
   "base_numbering": 1,
   "nav_menu": {},
   "number_sections": true,
   "sideBar": true,
   "skip_h1_title": false,
   "title_cell": "Table of Contents",
   "title_sidebar": "Contents",
   "toc_cell": false,
   "toc_position": {},
   "toc_section_display": true,
   "toc_window_display": false
  }
 },
 "nbformat": 4,
 "nbformat_minor": 2
}
