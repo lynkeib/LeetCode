{
 "cells": [
  {
   "cell_type": "code",
   "execution_count": 1,
   "metadata": {
    "ExecuteTime": {
     "end_time": "2019-09-05T17:53:03.105181Z",
     "start_time": "2019-09-05T17:53:03.098322Z"
    }
   },
   "outputs": [],
   "source": [
    "import heapq\n",
    "class Solution(object):\n",
    "    def minMeetingRooms(self, intervals):\n",
    "        \"\"\"\n",
    "        :type intervals: List[List[int]]\n",
    "        :rtype: int\n",
    "        \"\"\"\n",
    "        heap = []\n",
    "        intervals.sort(key = lambda a: a[0])\n",
    "        for interval in intervals:\n",
    "            if not heap:\n",
    "                heapq.heappush(heap, interval[1]) ## only consider the end time\n",
    "            else:\n",
    "                ## if the ealiest end time is smaller than current start time\n",
    "                ## replace it with the current end time\n",
    "                if heap[0] <= interval[0]:\n",
    "                    heapq.heappushpop(heap, interval[1])\n",
    "                else:\n",
    "                    heapq.heappush(heap, interval[1])\n",
    "            #print(heap, interval)\n",
    "        return len(heap)\n",
    "        "
   ]
  },
  {
   "cell_type": "code",
   "execution_count": 2,
   "metadata": {
    "ExecuteTime": {
     "end_time": "2019-09-05T18:12:01.940020Z",
     "start_time": "2019-09-05T18:12:01.932634Z"
    }
   },
   "outputs": [],
   "source": [
    "import heapq\n",
    "class Solution(object):\n",
    "    def minMeetingRooms(self, intervals):\n",
    "        \"\"\"\n",
    "        :type intervals: List[List[int]]\n",
    "        :rtype: int\n",
    "        \"\"\"\n",
    "        starts = []\n",
    "        ends = []\n",
    "        for interval in intervals:\n",
    "            starts.append(interval[0])\n",
    "            ends.append(interval[1])\n",
    "        starts.sort()\n",
    "        ends.sort()\n",
    "        start_index = 0\n",
    "        end_index = 0\n",
    "        rooms = 0\n",
    "        # print(starts)\n",
    "        # print(ends)\n",
    "        while start_index < len(starts) and end_index < len(ends):\n",
    "            \n",
    "            while starts[start_index] < ends[end_index]:\n",
    "                # print(starts[start_index], ends[end_index])\n",
    "                start_index += 1\n",
    "                if start_index == len(starts):\n",
    "                    break\n",
    "            room_needed = start_index - end_index\n",
    "            # print(room_needed)\n",
    "            rooms = max(rooms, room_needed)\n",
    "            end_index += 1\n",
    "            # print('------------')\n",
    "        return rooms\n",
    "        "
   ]
  },
  {
   "cell_type": "code",
   "execution_count": null,
   "metadata": {},
   "outputs": [],
   "source": []
  }
 ],
 "metadata": {
  "kernelspec": {
   "display_name": "Python 3",
   "language": "python",
   "name": "python3"
  },
  "language_info": {
   "codemirror_mode": {
    "name": "ipython",
    "version": 3
   },
   "file_extension": ".py",
   "mimetype": "text/x-python",
   "name": "python",
   "nbconvert_exporter": "python",
   "pygments_lexer": "ipython3",
   "version": "3.7.1"
  },
  "toc": {
   "base_numbering": 1,
   "nav_menu": {},
   "number_sections": true,
   "sideBar": true,
   "skip_h1_title": false,
   "title_cell": "Table of Contents",
   "title_sidebar": "Contents",
   "toc_cell": false,
   "toc_position": {},
   "toc_section_display": true,
   "toc_window_display": false
  }
 },
 "nbformat": 4,
 "nbformat_minor": 2
}
