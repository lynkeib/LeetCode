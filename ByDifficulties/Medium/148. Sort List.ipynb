{
 "cells": [
  {
   "cell_type": "code",
   "execution_count": null,
   "metadata": {},
   "outputs": [],
   "source": [
    "## Merge Sort Top Down\n",
    "# Definition for singly-linked list.\n",
    "# class ListNode(object):\n",
    "#     def __init__(self, x):\n",
    "#         self.val = x\n",
    "#         self.next = None\n",
    "\n",
    "class Solution(object):\n",
    "    def sortList(self, head):\n",
    "        \"\"\"\n",
    "        :type head: ListNode\n",
    "        :rtype: ListNode\n",
    "        \"\"\"\n",
    "        if not head or not head.next:\n",
    "            return head\n",
    "        ## Slow Fast Method to find the middle\n",
    "        slow, fast = head, head\n",
    "        while fast.next and fast.next.next:\n",
    "            slow = slow.next\n",
    "            fast = fast.next.next\n",
    "        lst2 = slow.next\n",
    "        slow.next = None\n",
    "        return self.merge(self.sortList(head), self.sortList(lst2))\n",
    "    \n",
    "    def merge(self, lst1, lst2):\n",
    "        dummyhead = ListNode(0)\n",
    "        tail = dummyhead\n",
    "        while lst1 and lst2:\n",
    "            if lst1.val > lst2.val:\n",
    "                lst1, lst2 = lst2, lst1\n",
    "            tail.next = lst1\n",
    "            lst1 = lst1.next\n",
    "            tail = tail.next\n",
    "        if lst1:\n",
    "            tail.next = lst1\n",
    "        elif lst2:"
   ]
  }
 ],
 "metadata": {
  "kernelspec": {
   "display_name": "Python 3",
   "language": "python",
   "name": "python3"
  },
  "language_info": {
   "codemirror_mode": {
    "name": "ipython",
    "version": 3
   },
   "file_extension": ".py",
   "mimetype": "text/x-python",
   "name": "python",
   "nbconvert_exporter": "python",
   "pygments_lexer": "ipython3",
   "version": "3.7.1"
  },
  "toc": {
   "base_numbering": 1,
   "nav_menu": {},
   "number_sections": true,
   "sideBar": true,
   "skip_h1_title": false,
   "title_cell": "Table of Contents",
   "title_sidebar": "Contents",
   "toc_cell": false,
   "toc_position": {},
   "toc_section_display": true,
   "toc_window_display": false
  }
 },
 "nbformat": 4,
 "nbformat_minor": 2
}
