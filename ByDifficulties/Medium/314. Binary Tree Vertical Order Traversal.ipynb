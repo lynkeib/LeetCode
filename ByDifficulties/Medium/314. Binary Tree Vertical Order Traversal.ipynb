{
 "cells": [
  {
   "cell_type": "code",
   "execution_count": 1,
   "metadata": {
    "ExecuteTime": {
     "end_time": "2019-09-04T18:18:23.237350Z",
     "start_time": "2019-09-04T18:18:23.228470Z"
    }
   },
   "outputs": [],
   "source": [
    "# Definition for a binary tree node.\n",
    "# class TreeNode(object):\n",
    "#     def __init__(self, x):\n",
    "#         self.val = x\n",
    "#         self.left = None\n",
    "#         self.right = None\n",
    "\n",
    "class Solution(object):\n",
    "    def verticalOrder(self, root):\n",
    "        \"\"\"\n",
    "        :type root: TreeNode\n",
    "        :rtype: List[List[int]]\n",
    "        \"\"\"\n",
    "        res = collections.defaultdict(list)\n",
    "        positions = [0]\n",
    "        self.bfs([root], [0], res)\n",
    "        order = sorted(res.keys())\n",
    "        ress = []\n",
    "        for i in order:\n",
    "            ress.append(res[i])\n",
    "        return ress\n",
    "    \n",
    "    def bfs(self, roots, positions, res):\n",
    "        # roots<TreeNode> = [n1, n2, n3, ..., n?] \n",
    "        # positions<int> = [p1, p2, p3, ..., p?] \n",
    "        if not any(roots):\n",
    "            return\n",
    "        next_positions = []\n",
    "        next_roots = []\n",
    "        \n",
    "        for index in range(len(positions)):\n",
    "            if roots[index]:\n",
    "                res[positions[index]].append(roots[index].val)\n",
    "            next_roots.append(roots[index].left if roots[index] else None)\n",
    "            next_positions.append(positions[index] - 1)\n",
    "            next_roots.append(roots[index].right if roots[index] else None)\n",
    "            next_positions.append(positions[index] + 1)\n",
    "        # print(positions)\n",
    "        self.bfs(next_roots, next_positions, res)\n",
    "        # print(res)\n",
    "        return "
   ]
  },
  {
   "cell_type": "code",
   "execution_count": null,
   "metadata": {},
   "outputs": [],
   "source": []
  }
 ],
 "metadata": {
  "kernelspec": {
   "display_name": "Python 3",
   "language": "python",
   "name": "python3"
  },
  "language_info": {
   "codemirror_mode": {
    "name": "ipython",
    "version": 3
   },
   "file_extension": ".py",
   "mimetype": "text/x-python",
   "name": "python",
   "nbconvert_exporter": "python",
   "pygments_lexer": "ipython3",
   "version": "3.7.1"
  },
  "toc": {
   "base_numbering": 1,
   "nav_menu": {},
   "number_sections": true,
   "sideBar": true,
   "skip_h1_title": false,
   "title_cell": "Table of Contents",
   "title_sidebar": "Contents",
   "toc_cell": false,
   "toc_position": {},
   "toc_section_display": true,
   "toc_window_display": false
  }
 },
 "nbformat": 4,
 "nbformat_minor": 2
}
