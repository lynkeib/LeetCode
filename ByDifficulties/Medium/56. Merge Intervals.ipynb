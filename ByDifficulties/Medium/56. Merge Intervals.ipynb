{
 "cells": [
  {
   "cell_type": "code",
   "execution_count": 1,
   "metadata": {
    "ExecuteTime": {
     "end_time": "2019-09-05T11:33:42.746695Z",
     "start_time": "2019-09-05T11:33:42.739678Z"
    }
   },
   "outputs": [],
   "source": [
    "class Solution(object):\n",
    "    def merge(self, intervals):\n",
    "        \"\"\"\n",
    "        :type intervals: List[List[int]]\n",
    "        :rtype: List[List[int]]\n",
    "        \"\"\"\n",
    "        intervals.sort()\n",
    "        stack = []\n",
    "        index = 0\n",
    "        while index < len(intervals):\n",
    "            if not stack:\n",
    "                stack.append(intervals[index])\n",
    "                index += 1\n",
    "            else:\n",
    "                if stack and stack[-1][1] >= intervals[index][0]:\n",
    "                    stack[-1] = [min( stack[-1][0], intervals[index][0]), max( stack[-1][1], intervals[index][1])]\n",
    "                else:\n",
    "                    stack.append(intervals[index])\n",
    "                index += 1\n",
    "        return stack"
   ]
  },
  {
   "cell_type": "code",
   "execution_count": null,
   "metadata": {},
   "outputs": [],
   "source": []
  }
 ],
 "metadata": {
  "kernelspec": {
   "display_name": "Python 3",
   "language": "python",
   "name": "python3"
  },
  "language_info": {
   "codemirror_mode": {
    "name": "ipython",
    "version": 3
   },
   "file_extension": ".py",
   "mimetype": "text/x-python",
   "name": "python",
   "nbconvert_exporter": "python",
   "pygments_lexer": "ipython3",
   "version": "3.7.1"
  },
  "toc": {
   "base_numbering": 1,
   "nav_menu": {},
   "number_sections": true,
   "sideBar": true,
   "skip_h1_title": false,
   "title_cell": "Table of Contents",
   "title_sidebar": "Contents",
   "toc_cell": false,
   "toc_position": {},
   "toc_section_display": true,
   "toc_window_display": false
  }
 },
 "nbformat": 4,
 "nbformat_minor": 2
}
