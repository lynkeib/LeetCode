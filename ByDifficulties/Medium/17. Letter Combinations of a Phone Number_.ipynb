{
 "cells": [
  {
   "cell_type": "code",
   "execution_count": 1,
   "metadata": {
    "ExecuteTime": {
     "end_time": "2019-09-06T00:25:25.861648Z",
     "start_time": "2019-09-06T00:25:25.854283Z"
    }
   },
   "outputs": [],
   "source": [
    "class Solution(object):\n",
    "    def letterCombinations(self, digits):\n",
    "        \"\"\"\n",
    "        :type digits: str\n",
    "        :rtype: List[str]\n",
    "        \"\"\"\n",
    "        if not digits:\n",
    "            return \n",
    "        dic = {'1':'',\n",
    "              '2':'abc',\n",
    "              '3':'def',\n",
    "              '4':'ghi',\n",
    "              '5':'jkl',\n",
    "              '6':'mno',\n",
    "              '7':'pqrs',\n",
    "              '8':'tuv',\n",
    "              '9':'wxyz',\n",
    "              '0':''}\n",
    "        res = []\n",
    "        self.dfs(dic, 0, digits, '', res)\n",
    "        return res\n",
    "        \n",
    "    def dfs(self, dic, start, digits, path, res):\n",
    "        if start == len(digits):\n",
    "            res.append(path)\n",
    "            return\n",
    "        for c in dic[digits[start]]:\n",
    "            self.dfs(dic, start + 1, digits, path + c, res)"
   ]
  },
  {
   "cell_type": "code",
   "execution_count": null,
   "metadata": {},
   "outputs": [],
   "source": []
  }
 ],
 "metadata": {
  "kernelspec": {
   "display_name": "Python 3",
   "language": "python",
   "name": "python3"
  },
  "language_info": {
   "codemirror_mode": {
    "name": "ipython",
    "version": 3
   },
   "file_extension": ".py",
   "mimetype": "text/x-python",
   "name": "python",
   "nbconvert_exporter": "python",
   "pygments_lexer": "ipython3",
   "version": "3.7.1"
  },
  "toc": {
   "base_numbering": 1,
   "nav_menu": {},
   "number_sections": true,
   "sideBar": true,
   "skip_h1_title": false,
   "title_cell": "Table of Contents",
   "title_sidebar": "Contents",
   "toc_cell": false,
   "toc_position": {},
   "toc_section_display": true,
   "toc_window_display": false
  }
 },
 "nbformat": 4,
 "nbformat_minor": 2
}
