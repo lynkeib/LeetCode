{
 "cells": [
  {
   "cell_type": "code",
   "execution_count": 1,
   "metadata": {
    "ExecuteTime": {
     "end_time": "2019-09-04T17:45:48.254734Z",
     "start_time": "2019-09-04T17:45:48.248992Z"
    }
   },
   "outputs": [],
   "source": [
    "# Definition for a binary tree node.\n",
    "# class TreeNode(object):\n",
    "#     def __init__(self, x):\n",
    "#         self.val = x\n",
    "#         self.left = None\n",
    "#         self.right = None\n",
    "\n",
    "class Solution(object):\n",
    "    def upsideDownBinaryTree(self, root):\n",
    "        \"\"\"\n",
    "        :type root: TreeNode\n",
    "        :rtype: TreeNode\n",
    "        \"\"\"\n",
    "        if not root or not root.left:\n",
    "            return root\n",
    "        new_root = self.upsideDownBinaryTree(root.left)\n",
    "        root.left.left = root.right\n",
    "        root.left.right = root\n",
    "        root.left = None\n",
    "        root.right = None\n",
    "        return new_root"
   ]
  },
  {
   "cell_type": "code",
   "execution_count": 2,
   "metadata": {
    "ExecuteTime": {
     "end_time": "2019-09-04T18:03:56.401989Z",
     "start_time": "2019-09-04T18:03:56.396577Z"
    }
   },
   "outputs": [],
   "source": [
    "# Definition for a binary tree node.\n",
    "# class TreeNode(object):\n",
    "#     def __init__(self, x):\n",
    "#         self.val = x\n",
    "#         self.left = None\n",
    "#         self.right = None\n",
    "\n",
    "class Solution(object):\n",
    "    def upsideDownBinaryTree(self, root):\n",
    "        \"\"\"\n",
    "        :type root: TreeNode\n",
    "        :rtype: TreeNode\n",
    "        \"\"\"\n",
    "        curr = root\n",
    "        prev = None\n",
    "        next_ = None\n",
    "        right = None\n",
    "        while curr:\n",
    "            ## we think this step by step without considering too far\n",
    "            ## so what happens is we just find the simple patter\n",
    "            ## take 2 as an example\n",
    "            ## in the final graph\n",
    "            ## we can see that 2's left node is its prev's right node\n",
    "            ## 2's right node is its prev\n",
    "            ## when we changing 2, we already changed 1, so the nodes mentioned above need to be stored\n",
    "            ## therefore, we should use right = prev.right, prev = root\n",
    "            ## since we will move from top to its farest left, so we use curr to repersent the node we are currently deal with, curr = root\n",
    "            ## so next = curr.left, curr = root, right = prev.right, prev = curr\n",
    "            \n",
    "            next_ = curr.left ## next node\n",
    "            \n",
    "            curr.left = right ## right = prev.right\n",
    "            right = curr.right \n",
    "            curr.right = prev \n",
    "            \n",
    "            prev = curr ## prev = curr\n",
    "            curr = next_\n",
    "            \n",
    "        return prev"
   ]
  },
  {
   "cell_type": "code",
   "execution_count": null,
   "metadata": {},
   "outputs": [],
   "source": []
  }
 ],
 "metadata": {
  "kernelspec": {
   "display_name": "Python 3",
   "language": "python",
   "name": "python3"
  },
  "language_info": {
   "codemirror_mode": {
    "name": "ipython",
    "version": 3
   },
   "file_extension": ".py",
   "mimetype": "text/x-python",
   "name": "python",
   "nbconvert_exporter": "python",
   "pygments_lexer": "ipython3",
   "version": "3.7.1"
  },
  "toc": {
   "base_numbering": 1,
   "nav_menu": {},
   "number_sections": true,
   "sideBar": true,
   "skip_h1_title": false,
   "title_cell": "Table of Contents",
   "title_sidebar": "Contents",
   "toc_cell": false,
   "toc_position": {},
   "toc_section_display": true,
   "toc_window_display": false
  }
 },
 "nbformat": 4,
 "nbformat_minor": 2
}
