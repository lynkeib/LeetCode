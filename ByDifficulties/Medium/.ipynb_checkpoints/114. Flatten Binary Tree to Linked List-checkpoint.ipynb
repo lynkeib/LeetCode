{
 "cells": [
  {
   "cell_type": "code",
   "execution_count": 3,
   "metadata": {
    "ExecuteTime": {
     "end_time": "2019-09-01T01:31:44.927803Z",
     "start_time": "2019-09-01T01:31:44.921037Z"
    }
   },
   "outputs": [],
   "source": [
    "# Definition for a binary tree node.\n",
    "# class TreeNode(object):\n",
    "#     def __init__(self, x):\n",
    "#         self.val = x\n",
    "#         self.left = None\n",
    "#         self.right = None\n",
    "\n",
    "class Solution(object):\n",
    "    def flatten(self, root):\n",
    "        \"\"\"\n",
    "        :type root: TreeNode\n",
    "        :rtype: None Do not return anything, modify root in-place instead.\n",
    "        \"\"\"\n",
    "        ## inorder\n",
    "        self.inorder(root)\n",
    "        return \n",
    "     \n",
    "    def inorder(self, root):\n",
    "        if not root:\n",
    "            return \n",
    "        if not root.left and not root.right:\n",
    "            return root\n",
    "        left = root.left\n",
    "        right = root.right\n",
    "        last = root\n",
    "        if left:\n",
    "            last = self.inorder(left)\n",
    "            root.left = None\n",
    "            root.right = left\n",
    "        if right:\n",
    "            last_right = self.inorder(right)\n",
    "            if left:\n",
    "                last.right = right\n",
    "            last = last_right\n",
    "        return last"
   ]
  },
  {
   "cell_type": "code",
   "execution_count": 4,
   "metadata": {
    "ExecuteTime": {
     "end_time": "2019-09-01T01:36:18.536950Z",
     "start_time": "2019-09-01T01:36:18.531425Z"
    }
   },
   "outputs": [],
   "source": [
    "# Definition for a binary tree node.\n",
    "# class TreeNode(object):\n",
    "#     def __init__(self, x):\n",
    "#         self.val = x\n",
    "#         self.left = None\n",
    "#         self.right = None\n",
    "\n",
    "class Solution(object):\n",
    "    def flatten(self, root):\n",
    "        \"\"\"\n",
    "        :type root: TreeNode\n",
    "        :rtype: None Do not return anything, modify root in-place instead.\n",
    "        \"\"\"\n",
    "        ## inorder\n",
    "        self.inorder(root)\n",
    "        return \n",
    "     \n",
    "    def inorder(self, root):\n",
    "        if not root:\n",
    "            return\n",
    "        self.inorder(root.left)\n",
    "        self.inorder(root.right)\n",
    "        right = root.right\n",
    "        root.right = root.left\n",
    "        root.left = None\n",
    "        curr = root\n",
    "        while curr.right:\n",
    "            curr = curr.right\n",
    "        curr.right = right\n",
    "        return "
   ]
  },
  {
   "cell_type": "code",
   "execution_count": 1,
   "metadata": {
    "ExecuteTime": {
     "end_time": "2019-09-02T01:48:19.751116Z",
     "start_time": "2019-09-02T01:48:19.744090Z"
    }
   },
   "outputs": [],
   "source": [
    "# Definition for a binary tree node.\n",
    "# class TreeNode(object):\n",
    "#     def __init__(self, x):\n",
    "#         self.val = x\n",
    "#         self.left = None\n",
    "#         self.right = None\n",
    "\n",
    "class Solution(object):\n",
    "    def flatten(self, root):\n",
    "        \"\"\"\n",
    "        :type root: TreeNode\n",
    "        :rtype: None Do not return anything, modify root in-place instead.\n",
    "        \"\"\"\n",
    "        ## inorder\n",
    "        self.inorder(root)\n",
    "        return \n",
    "        \n",
    "    \n",
    "    def inorder(self, root):\n",
    "        if not root:\n",
    "            return \n",
    "        if not root.left and not root.right:\n",
    "            return \n",
    "        self.inorder(root.left)\n",
    "        self.inorder(root.right)\n",
    "        left = root.left\n",
    "        right = root.right\n",
    "        root.left = None\n",
    "        if left:\n",
    "            root.right = left\n",
    "            bottom = left\n",
    "            while left.right:\n",
    "                left = left.right\n",
    "            left.right = right"
   ]
  },
  {
   "cell_type": "code",
   "execution_count": null,
   "metadata": {},
   "outputs": [],
   "source": []
  }
 ],
 "metadata": {
  "kernelspec": {
   "display_name": "Python 3",
   "language": "python",
   "name": "python3"
  },
  "language_info": {
   "codemirror_mode": {
    "name": "ipython",
    "version": 3
   },
   "file_extension": ".py",
   "mimetype": "text/x-python",
   "name": "python",
   "nbconvert_exporter": "python",
   "pygments_lexer": "ipython3",
   "version": "3.7.1"
  },
  "toc": {
   "base_numbering": 1,
   "nav_menu": {},
   "number_sections": true,
   "sideBar": true,
   "skip_h1_title": false,
   "title_cell": "Table of Contents",
   "title_sidebar": "Contents",
   "toc_cell": false,
   "toc_position": {},
   "toc_section_display": true,
   "toc_window_display": false
  }
 },
 "nbformat": 4,
 "nbformat_minor": 2
}
