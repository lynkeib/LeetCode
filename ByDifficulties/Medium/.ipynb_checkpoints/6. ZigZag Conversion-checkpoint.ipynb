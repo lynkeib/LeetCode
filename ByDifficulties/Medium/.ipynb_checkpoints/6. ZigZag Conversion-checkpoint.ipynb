{
 "cells": [
  {
   "cell_type": "code",
   "execution_count": 1,
   "metadata": {
    "ExecuteTime": {
     "end_time": "2019-09-06T18:15:02.895653Z",
     "start_time": "2019-09-06T18:15:02.888014Z"
    }
   },
   "outputs": [],
   "source": [
    "class Solution(object):\n",
    "    def convert(self, s, numRows):\n",
    "        \"\"\"\n",
    "        :type s: str\n",
    "        :type numRows: int\n",
    "        :rtype: str\n",
    "        \"\"\"\n",
    "        if numRows <= 1:\n",
    "            return s\n",
    "        length = len(s)\n",
    "        ls = list(range(numRows))\n",
    "        position = [0] * length\n",
    "        index = 0\n",
    "        i = 0\n",
    "        while i < length:\n",
    "            while i < length and index != numRows - 1:\n",
    "                position[i] = ls[index]\n",
    "                i += 1\n",
    "                index += 1\n",
    "            while i < length and index != 0:\n",
    "                position[i] = ls[index]\n",
    "                i += 1\n",
    "                index -= 1\n",
    "        res = ['' for _ in range(numRows)]\n",
    "        for index in range(length):\n",
    "            res[position[index]] += s[index]\n",
    "        # print(res)\n",
    "        return  ''.join(res) "
   ]
  },
  {
   "cell_type": "code",
   "execution_count": null,
   "metadata": {},
   "outputs": [],
   "source": []
  }
 ],
 "metadata": {
  "kernelspec": {
   "display_name": "Python 3",
   "language": "python",
   "name": "python3"
  },
  "language_info": {
   "codemirror_mode": {
    "name": "ipython",
    "version": 3
   },
   "file_extension": ".py",
   "mimetype": "text/x-python",
   "name": "python",
   "nbconvert_exporter": "python",
   "pygments_lexer": "ipython3",
   "version": "3.7.1"
  },
  "toc": {
   "base_numbering": 1,
   "nav_menu": {},
   "number_sections": true,
   "sideBar": true,
   "skip_h1_title": false,
   "title_cell": "Table of Contents",
   "title_sidebar": "Contents",
   "toc_cell": false,
   "toc_position": {},
   "toc_section_display": true,
   "toc_window_display": false
  }
 },
 "nbformat": 4,
 "nbformat_minor": 2
}
