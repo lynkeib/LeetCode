{
 "cells": [
  {
   "cell_type": "markdown",
   "metadata": {},
   "source": [
    "# Binary Search-ish??(TLE)"
   ]
  },
  {
   "cell_type": "code",
   "execution_count": 1,
   "metadata": {
    "ExecuteTime": {
     "end_time": "2019-09-07T09:50:27.021336Z",
     "start_time": "2019-09-07T09:50:27.013078Z"
    }
   },
   "outputs": [],
   "source": [
    "class Solution(object):\n",
    "    def searchMatrix(self, matrix, target):\n",
    "        \"\"\"\n",
    "        :type matrix: List[List[int]]\n",
    "        :type target: int\n",
    "        :rtype: bool\n",
    "        \"\"\"\n",
    "        if not any(matrix):\n",
    "            return False\n",
    "        print(matrix)\n",
    "        mid_row = len(matrix) // 2\n",
    "        mid_col = len(matrix[0]) // 2\n",
    "        if matrix[mid_row][mid_col] == target:\n",
    "            return True\n",
    "        elif matrix[mid_row][mid_col] > target:\n",
    "            return self.searchMatrix([row[:mid_col] for row in matrix], target) or self.searchMatrix([row for row in matrix[:mid_row]], target)\n",
    "        else:\n",
    "            return self.searchMatrix([row[mid_col+1:] for row in matrix], target) or self.searchMatrix([row for row in matrix[mid_row+1:]], target)"
   ]
  },
  {
   "cell_type": "markdown",
   "metadata": {},
   "source": [
    "# Start Position Selection"
   ]
  },
  {
   "cell_type": "code",
   "execution_count": 2,
   "metadata": {
    "ExecuteTime": {
     "end_time": "2019-09-07T09:56:47.858050Z",
     "start_time": "2019-09-07T09:56:47.851856Z"
    }
   },
   "outputs": [],
   "source": [
    "class Solution(object):\n",
    "    def searchMatrix(self, matrix, target):\n",
    "        \"\"\"\n",
    "        :type matrix: List[List[int]]\n",
    "        :type target: int\n",
    "        :rtype: bool\n",
    "        \"\"\"\n",
    "        if matrix:\n",
    "            row = len(matrix) - 1\n",
    "            col = 0\n",
    "            columns = len(matrix[0])\n",
    "            while row >= 0 and col < columns:\n",
    "                if matrix[row][col] == target:\n",
    "                    return True\n",
    "                elif matrix[row][col] < target:\n",
    "                    col += 1\n",
    "                else:\n",
    "                    row -= 1\n",
    "        return False"
   ]
  },
  {
   "cell_type": "code",
   "execution_count": null,
   "metadata": {},
   "outputs": [],
   "source": []
  }
 ],
 "metadata": {
  "kernelspec": {
   "display_name": "Python 3",
   "language": "python",
   "name": "python3"
  },
  "language_info": {
   "codemirror_mode": {
    "name": "ipython",
    "version": 3
   },
   "file_extension": ".py",
   "mimetype": "text/x-python",
   "name": "python",
   "nbconvert_exporter": "python",
   "pygments_lexer": "ipython3",
   "version": "3.7.1"
  },
  "toc": {
   "base_numbering": 1,
   "nav_menu": {},
   "number_sections": true,
   "sideBar": true,
   "skip_h1_title": false,
   "title_cell": "Table of Contents",
   "title_sidebar": "Contents",
   "toc_cell": false,
   "toc_position": {},
   "toc_section_display": true,
   "toc_window_display": false
  }
 },
 "nbformat": 4,
 "nbformat_minor": 2
}
