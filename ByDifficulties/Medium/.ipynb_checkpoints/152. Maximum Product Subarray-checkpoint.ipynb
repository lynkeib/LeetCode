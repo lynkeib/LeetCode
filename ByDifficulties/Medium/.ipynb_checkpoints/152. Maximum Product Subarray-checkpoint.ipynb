{
 "cells": [
  {
   "cell_type": "code",
   "execution_count": 1,
   "metadata": {
    "ExecuteTime": {
     "end_time": "2019-09-07T08:51:53.109470Z",
     "start_time": "2019-09-07T08:51:53.099999Z"
    }
   },
   "outputs": [],
   "source": [
    "class Solution(object):\n",
    "    def maxProduct(self, nums):\n",
    "        \"\"\"\n",
    "        :type nums: List[int]\n",
    "        :rtype: int\n",
    "        \"\"\"\n",
    "        max_ = [0] * len(nums)\n",
    "        min_ = [0] * len(nums)\n",
    "        max_[0] = nums[0]\n",
    "        min_[0] = nums[0]\n",
    "        for index in range(1, len(nums)):\n",
    "            \n",
    "            if nums[index] < 0:\n",
    "                m = max(min_[index-1]*nums[index], nums[index])\n",
    "                l = min(max_[index-1]*nums[index], nums[index])\n",
    "            else:\n",
    "                m = max(max_[index-1]*nums[index], nums[index])\n",
    "                l = min(min_[index-1]*nums[index], nums[index])\n",
    "            if m > l:\n",
    "                max_[index] = m\n",
    "                min_[index] = l\n",
    "            else:\n",
    "                max_[index] = l\n",
    "                min_[index] = m\n",
    "        return max(max_)"
   ]
  },
  {
   "cell_type": "code",
   "execution_count": null,
   "metadata": {},
   "outputs": [],
   "source": []
  }
 ],
 "metadata": {
  "kernelspec": {
   "display_name": "Python 3",
   "language": "python",
   "name": "python3"
  },
  "language_info": {
   "codemirror_mode": {
    "name": "ipython",
    "version": 3
   },
   "file_extension": ".py",
   "mimetype": "text/x-python",
   "name": "python",
   "nbconvert_exporter": "python",
   "pygments_lexer": "ipython3",
   "version": "3.7.1"
  },
  "toc": {
   "base_numbering": 1,
   "nav_menu": {},
   "number_sections": true,
   "sideBar": true,
   "skip_h1_title": false,
   "title_cell": "Table of Contents",
   "title_sidebar": "Contents",
   "toc_cell": false,
   "toc_position": {},
   "toc_section_display": true,
   "toc_window_display": false
  }
 },
 "nbformat": 4,
 "nbformat_minor": 2
}
