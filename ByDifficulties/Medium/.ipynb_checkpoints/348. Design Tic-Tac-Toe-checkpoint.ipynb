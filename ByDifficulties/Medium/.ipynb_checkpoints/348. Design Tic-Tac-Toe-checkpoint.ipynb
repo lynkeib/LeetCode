{
 "cells": [
  {
   "cell_type": "code",
   "execution_count": 1,
   "metadata": {
    "ExecuteTime": {
     "end_time": "2019-09-06T23:33:23.562511Z",
     "start_time": "2019-09-06T23:33:23.553453Z"
    }
   },
   "outputs": [],
   "source": [
    "class TicTacToe(object):\n",
    "    \n",
    "\n",
    "    def __init__(self, n):\n",
    "        \"\"\"\n",
    "        Initialize your data structure here.\n",
    "        :type n: int\n",
    "        \"\"\"\n",
    "        self.n = n\n",
    "        self.rows = [0 for _ in range(n)]\n",
    "        self.columns = [0 for _ in range(n)]\n",
    "        self.d = 0\n",
    "        self.ad = 0\n",
    "        \n",
    "\n",
    "    def move(self, row, col, player):\n",
    "        \"\"\"\n",
    "        Player {player} makes a move at ({row}, {col}).\n",
    "        @param row The row of the board.\n",
    "        @param col The column of the board.\n",
    "        @param player The player, can be either 1 or 2.\n",
    "        @return The current winning condition, can be either:\n",
    "                0: No one wins.\n",
    "                1: Player 1 wins.\n",
    "                2: Player 2 wins.\n",
    "        :type row: int\n",
    "        :type col: int\n",
    "        :type player: int\n",
    "        :rtype: int\n",
    "        \"\"\"\n",
    "        toAdd = 1 if player == 1 else -1\n",
    "        self.rows[row] += toAdd\n",
    "        self.columns[col] += toAdd\n",
    "        \n",
    "        if row == col:\n",
    "            self.d += toAdd\n",
    "        if row + col == self.n - 1:\n",
    "            self.ad += toAdd\n",
    "        \n",
    "        if abs(self.rows[row]) == self.n or abs(self.columns[col]) == self.n or abs(self.d) == self.n or abs(self.ad) == self.n:\n",
    "            return player\n",
    "        return 0\n",
    "        \n",
    "        \n",
    "\n",
    "\n",
    "# Your TicTacToe object will be instantiated and called as such:\n",
    "# obj = TicTacToe(n)\n",
    "# param_1 = obj.move(row,col,player)"
   ]
  },
  {
   "cell_type": "code",
   "execution_count": null,
   "metadata": {},
   "outputs": [],
   "source": []
  }
 ],
 "metadata": {
  "kernelspec": {
   "display_name": "Python 3",
   "language": "python",
   "name": "python3"
  },
  "language_info": {
   "codemirror_mode": {
    "name": "ipython",
    "version": 3
   },
   "file_extension": ".py",
   "mimetype": "text/x-python",
   "name": "python",
   "nbconvert_exporter": "python",
   "pygments_lexer": "ipython3",
   "version": "3.7.1"
  },
  "toc": {
   "base_numbering": 1,
   "nav_menu": {},
   "number_sections": true,
   "sideBar": true,
   "skip_h1_title": false,
   "title_cell": "Table of Contents",
   "title_sidebar": "Contents",
   "toc_cell": false,
   "toc_position": {},
   "toc_section_display": true,
   "toc_window_display": false
  }
 },
 "nbformat": 4,
 "nbformat_minor": 2
}
