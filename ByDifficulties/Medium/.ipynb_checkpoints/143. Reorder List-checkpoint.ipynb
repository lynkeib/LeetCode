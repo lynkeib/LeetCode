{
 "cells": [
  {
   "cell_type": "code",
   "execution_count": 1,
   "metadata": {
    "ExecuteTime": {
     "end_time": "2019-08-30T03:59:37.261216Z",
     "start_time": "2019-08-30T03:59:37.252652Z"
    }
   },
   "outputs": [],
   "source": [
    "# Definition for singly-linked list.\n",
    "# class ListNode(object):\n",
    "#     def __init__(self, x):\n",
    "#         self.val = x\n",
    "#         self.next = None\n",
    "\n",
    "class Solution(object):\n",
    "    def reorderList(self, head):\n",
    "        \"\"\"\n",
    "        :type head: ListNode\n",
    "        :rtype: None Do not return anything, modify head in-place instead.\n",
    "        \"\"\"\n",
    "        if not head:\n",
    "            return None\n",
    "        length = 0\n",
    "        curr = head\n",
    "        while curr:\n",
    "            curr = curr.next\n",
    "            length += 1\n",
    "        self.reorder(head, length, ((length + 1)//2) - 1)\n",
    "        return head\n",
    "    \n",
    "    def reorder(self, head, m, n):\n",
    "        if n == 0:\n",
    "            if m % 2 == 0:\n",
    "                next_node = head.next.next\n",
    "                head.next.next = None\n",
    "                return head, next_node\n",
    "            else:\n",
    "                next_node = head.next\n",
    "                head.next = None\n",
    "                return head, next_node\n",
    "        #print(f'processing {head.val}')\n",
    "        temp_head, temp_tail = self.reorder(head.next, m, n - 1)\n",
    "        #print(f'temp_head is {temp_head.val}, temp_tail is {temp_tail.val}')\n",
    "        next_node = temp_tail.next\n",
    "        head_next = head.next\n",
    "        head.next = temp_tail\n",
    "        temp_tail.next = temp_head\n",
    "        return head, next_node"
   ]
  },
  {
   "cell_type": "code",
   "execution_count": 1,
   "metadata": {
    "ExecuteTime": {
     "end_time": "2019-09-08T17:40:02.713778Z",
     "start_time": "2019-09-08T17:40:02.704378Z"
    }
   },
   "outputs": [],
   "source": [
    "# Definition for singly-linked list.\n",
    "# class ListNode(object):\n",
    "#     def __init__(self, x):\n",
    "#         self.val = x\n",
    "#         self.next = None\n",
    "\n",
    "class Solution(object):\n",
    "    def reorderList(self, head):\n",
    "        \"\"\"\n",
    "        :type head: ListNode\n",
    "        :rtype: None Do not return anything, modify head in-place instead.\n",
    "        \"\"\"\n",
    "        if not head:\n",
    "            return \n",
    "        n = 0\n",
    "        curr = head\n",
    "        # print()\n",
    "        while curr:\n",
    "            n += 1\n",
    "            curr = curr.next\n",
    "        # print(n)\n",
    "        # return\n",
    "        if n % 2 != 0:\n",
    "            self.helper(head, n//2, n)\n",
    "        else:\n",
    "            self.helper(head, n//2-1, n)\n",
    "        return head\n",
    "    \n",
    "    def helper(self, node, n, total):\n",
    "        if n == 0:\n",
    "            if total % 2 == 0:\n",
    "                # print(node.val, node.next.val)\n",
    "                return node, node.next\n",
    "            else:\n",
    "                # print(node.val, node.val)\n",
    "                return node, node\n",
    "        if total % 2 == 0:\n",
    "            temp1, temp2 = self.helper(node.next,n-1,total)\n",
    "            next_node = temp2.next\n",
    "            temp2.next = next_node.next\n",
    "            next_node.next = temp1\n",
    "            node.next = next_node\n",
    "            return node, temp2\n",
    "        else:\n",
    "            temp1, temp2 = self.helper(node.next, n-1, total)\n",
    "            next_node = temp2.next\n",
    "            # print(node.val, next_node.val)\n",
    "            temp2.next = next_node.next\n",
    "            next_node.next = temp1\n",
    "            node.next = next_node\n",
    "            return node, temp2"
   ]
  },
  {
   "cell_type": "code",
   "execution_count": null,
   "metadata": {},
   "outputs": [],
   "source": []
  }
 ],
 "metadata": {
  "kernelspec": {
   "display_name": "Python 3",
   "language": "python",
   "name": "python3"
  },
  "language_info": {
   "codemirror_mode": {
    "name": "ipython",
    "version": 3
   },
   "file_extension": ".py",
   "mimetype": "text/x-python",
   "name": "python",
   "nbconvert_exporter": "python",
   "pygments_lexer": "ipython3",
   "version": "3.7.1"
  },
  "toc": {
   "base_numbering": 1,
   "nav_menu": {},
   "number_sections": true,
   "sideBar": true,
   "skip_h1_title": false,
   "title_cell": "Table of Contents",
   "title_sidebar": "Contents",
   "toc_cell": false,
   "toc_position": {},
   "toc_section_display": true,
   "toc_window_display": false
  }
 },
 "nbformat": 4,
 "nbformat_minor": 2
}
