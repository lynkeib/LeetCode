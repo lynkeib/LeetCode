{
 "cells": [
  {
   "cell_type": "markdown",
   "metadata": {},
   "source": [
    "# DFS (TLE)"
   ]
  },
  {
   "cell_type": "code",
   "execution_count": 1,
   "metadata": {},
   "outputs": [],
   "source": [
    "class Solution(object):\n",
    "    def threeSum(self, nums):\n",
    "        \"\"\"\n",
    "        :type nums: List[int]\n",
    "        :rtype: List[List[int]]\n",
    "        \"\"\"\n",
    "        res = []\n",
    "        self.dfs(nums, 0, [], res)\n",
    "        return res\n",
    "    \n",
    "    def dfs(self, nums, start, path, res):\n",
    "\n",
    "        if len(path) == 3:\n",
    "            if sum(path) == 0:\n",
    "                path = sorted(path)\n",
    "                if path not in res:\n",
    "                    res.append(path)\n",
    "            return\n",
    "        for i in range(start, len(nums)):\n",
    "            self.dfs(nums, i + 1, path + [nums[i]], res)"
   ]
  },
  {
   "cell_type": "markdown",
   "metadata": {},
   "source": [
    "# "
   ]
  },
  {
   "cell_type": "code",
   "execution_count": 1,
   "metadata": {
    "ExecuteTime": {
     "end_time": "2019-09-05T10:29:18.277218Z",
     "start_time": "2019-09-05T10:29:18.267683Z"
    }
   },
   "outputs": [],
   "source": [
    "class Solution(object):\n",
    "    def threeSum(self, nums):\n",
    "        \"\"\"\n",
    "        :type nums: List[int]\n",
    "        :rtype: List[List[int]]\n",
    "        \"\"\"\n",
    "        nums = sorted(nums)\n",
    "        res = []\n",
    "        for i in range(len(nums)-2): # this is because we need at least 3 elements to calculate\n",
    "            \n",
    "            if nums[i] > 0:\n",
    "                break ## this is because if the current value is greater than 0, then there is no way for us to get a sum of zero by all positive numbers\n",
    "            ## start search\n",
    "            if i == 0 or (i > 0 and nums[i] != nums[i - 1]):\n",
    "                target = 0 - nums[i]\n",
    "                low = i + 1\n",
    "                high = len(nums) - 1\n",
    "                while low < high:\n",
    "                    if nums[low] + nums[high] == target:\n",
    "                        res.append([nums[i], nums[low], nums[high]])\n",
    "                        while low < high and nums[low] == nums[low+1]:\n",
    "                            low += 1\n",
    "                        while high > low and nums[high] == nums[high - 1]:\n",
    "                            high -= 1\n",
    "                        low += 1\n",
    "                        high -= 1\n",
    "                    elif nums[low] + nums[high] < target:\n",
    "                        low += 1\n",
    "                    else:\n",
    "                        high -= 1\n",
    "        return res"
   ]
  },
  {
   "cell_type": "markdown",
   "metadata": {},
   "source": [
    "# Bit Manipulation (TLE)"
   ]
  },
  {
   "cell_type": "code",
   "execution_count": null,
   "metadata": {},
   "outputs": [],
   "source": [
    "class Solution(object):\n",
    "    def threeSum(self, nums):\n",
    "        \"\"\"\n",
    "        :type nums: List[int]\n",
    "        :rtype: List[List[int]]\n",
    "        \"\"\"\n",
    "        if not nums:\n",
    "            return \n",
    "        res = []\n",
    "        length = len(nums)\n",
    "        for i in range(int('1'*len(nums), 2) + 1):\n",
    "            binary = self.mask(i, length)\n",
    "            rsum = self.returnsum(binary, nums)\n",
    "            if rsum in res:\n",
    "                continue\n",
    "            if len(rsum) == 3 and sum(rsum) == 0:\n",
    "                res.append(rsum)\n",
    "        return res\n",
    "        \n",
    "    def mask(self, num, length):\n",
    "        res = \"{:0\" + str(length) + \"b}\"\n",
    "        return res.format(num)\n",
    "    \n",
    "    def returnsum(self, num, nums):\n",
    "        res = []\n",
    "        for i in range(len(nums)):\n",
    "            if num[i] == '1':\n",
    "                res.append(nums[i])\n",
    "        return sorted(res)"
   ]
  }
 ],
 "metadata": {
  "kernelspec": {
   "display_name": "Python 3",
   "language": "python",
   "name": "python3"
  },
  "language_info": {
   "codemirror_mode": {
    "name": "ipython",
    "version": 3
   },
   "file_extension": ".py",
   "mimetype": "text/x-python",
   "name": "python",
   "nbconvert_exporter": "python",
   "pygments_lexer": "ipython3",
   "version": "3.7.1"
  },
  "toc": {
   "base_numbering": 1,
   "nav_menu": {},
   "number_sections": true,
   "sideBar": true,
   "skip_h1_title": false,
   "title_cell": "Table of Contents",
   "title_sidebar": "Contents",
   "toc_cell": false,
   "toc_position": {},
   "toc_section_display": true,
   "toc_window_display": false
  }
 },
 "nbformat": 4,
 "nbformat_minor": 2
}
