{
 "cells": [
  {
   "cell_type": "code",
   "execution_count": 1,
   "metadata": {
    "ExecuteTime": {
     "end_time": "2019-09-18T03:38:24.158941Z",
     "start_time": "2019-09-18T03:38:24.151272Z"
    }
   },
   "outputs": [],
   "source": [
    "class Solution(object):\n",
    "    def maxProfit(self, prices):\n",
    "        \"\"\"\n",
    "        :type prices: List[int]\n",
    "        :rtype: int\n",
    "        \"\"\"\n",
    "        if not prices:\n",
    "            return 0\n",
    "        buy = [0] * len(prices)\n",
    "        sell = [0] * len(prices)\n",
    "        rest = [0] * len(prices)\n",
    "        buy[0] = -prices[0]\n",
    "        max_buy = -prices[0]\n",
    "        for index in range(1, len(prices)):\n",
    "            buy[index] = rest[index-1] - prices[index]\n",
    "            rest[index] = max(buy[index-1], rest[index-1], sell[index-1])\n",
    "            sell[index] = max_buy + prices[index]\n",
    "            max_buy = max(max_buy, buy[index])\n",
    "        # print(buy)\n",
    "        # print(sell)\n",
    "        # print(rest)\n",
    "        return max(rest[-1], sell[-1])"
   ]
  },
  {
   "cell_type": "code",
   "execution_count": null,
   "metadata": {},
   "outputs": [],
   "source": []
  }
 ],
 "metadata": {
  "kernelspec": {
   "display_name": "Python 3",
   "language": "python",
   "name": "python3"
  },
  "language_info": {
   "codemirror_mode": {
    "name": "ipython",
    "version": 3
   },
   "file_extension": ".py",
   "mimetype": "text/x-python",
   "name": "python",
   "nbconvert_exporter": "python",
   "pygments_lexer": "ipython3",
   "version": "3.7.1"
  },
  "toc": {
   "base_numbering": 1,
   "nav_menu": {},
   "number_sections": true,
   "sideBar": true,
   "skip_h1_title": false,
   "title_cell": "Table of Contents",
   "title_sidebar": "Contents",
   "toc_cell": false,
   "toc_position": {},
   "toc_section_display": true,
   "toc_window_display": false
  }
 },
 "nbformat": 4,
 "nbformat_minor": 2
}
