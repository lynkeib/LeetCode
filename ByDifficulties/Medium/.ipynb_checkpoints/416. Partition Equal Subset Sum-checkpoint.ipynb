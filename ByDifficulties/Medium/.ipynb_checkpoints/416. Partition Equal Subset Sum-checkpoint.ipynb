{
 "cells": [
  {
   "cell_type": "markdown",
   "metadata": {},
   "source": [
    "# Bit Manipulation (Top too large)"
   ]
  },
  {
   "cell_type": "code",
   "execution_count": null,
   "metadata": {},
   "outputs": [],
   "source": [
    "class Solution(object):\n",
    "    def canPartition(self, nums):\n",
    "        \"\"\"\n",
    "        :type nums: List[int]\n",
    "        :rtype: bool\n",
    "        \"\"\"\n",
    "        l = len(nums)\n",
    "        t = sum(nums)\n",
    "        if t % 2 != 0:\n",
    "            return False\n",
    "        t = t // 2\n",
    "        top = int('1'*len(nums), 2)\n",
    "        print(top)\n",
    "        for s in range(1, top+1):\n",
    "            curr = self.mask(s, l)\n",
    "            if self.toSUM(curr, nums) == t:\n",
    "                OR = self.mask(self.XOR(curr, l), l)\n",
    "                if self.toSUM(OR, nums) == t:\n",
    "                    print(curr, OR)\n",
    "                    return True\n",
    "        return False\n",
    "    \n",
    "    def mask(self, num, length):\n",
    "        m = \"{:0\" + str(length) + \"b}\"\n",
    "        return m.format(num)\n",
    "    \n",
    "    def toSUM(self, num, nums):\n",
    "        res = 0\n",
    "        for index in range(len(nums)):\n",
    "            if num[index] == '1':\n",
    "                res += nums[index]\n",
    "        return res\n",
    "    \n",
    "    def XOR(self, nums, length):\n",
    "        return int('1'*length, 2) ^ int(nums, 2)"
   ]
  },
  {
   "cell_type": "markdown",
   "metadata": {},
   "source": [
    "# DP"
   ]
  },
  {
   "cell_type": "code",
   "execution_count": 1,
   "metadata": {
    "ExecuteTime": {
     "end_time": "2019-09-09T19:16:50.654902Z",
     "start_time": "2019-09-09T19:16:50.645102Z"
    }
   },
   "outputs": [],
   "source": [
    "class Solution(object):\n",
    "    def canPartition(self, nums):\n",
    "        \"\"\"\n",
    "        :type nums: List[int]\n",
    "        :rtype: bool\n",
    "        \"\"\"\n",
    "        if sum(nums) % 2 != 0:\n",
    "            return False\n",
    "        dp = dict()\n",
    "        dp[-1] = set([0])\n",
    "        s = 0\n",
    "        for index in range(len(nums)):\n",
    "            s += nums[index]\n",
    "            ## check if previous index - 1 numbers can form s // 2\n",
    "            # if s % 2 == 0:\n",
    "                # if s // 2 in dp[index - 1]:\n",
    "                #     print(dp)\n",
    "                #     return True\n",
    "            dp[index] = dp[index-1].copy()\n",
    "            for ss in dp[index - 1]:\n",
    "                dp[index].add(ss + nums[index])\n",
    "                # dp[index].add(nums[index])\n",
    "        # print(dp)\n",
    "        return s // 2 in dp[len(nums)-1]"
   ]
  },
  {
   "cell_type": "code",
   "execution_count": null,
   "metadata": {},
   "outputs": [],
   "source": []
  }
 ],
 "metadata": {
  "kernelspec": {
   "display_name": "Python 3",
   "language": "python",
   "name": "python3"
  },
  "language_info": {
   "codemirror_mode": {
    "name": "ipython",
    "version": 3
   },
   "file_extension": ".py",
   "mimetype": "text/x-python",
   "name": "python",
   "nbconvert_exporter": "python",
   "pygments_lexer": "ipython3",
   "version": "3.7.1"
  },
  "toc": {
   "base_numbering": 1,
   "nav_menu": {},
   "number_sections": true,
   "sideBar": true,
   "skip_h1_title": false,
   "title_cell": "Table of Contents",
   "title_sidebar": "Contents",
   "toc_cell": false,
   "toc_position": {},
   "toc_section_display": true,
   "toc_window_display": false
  }
 },
 "nbformat": 4,
 "nbformat_minor": 2
}
