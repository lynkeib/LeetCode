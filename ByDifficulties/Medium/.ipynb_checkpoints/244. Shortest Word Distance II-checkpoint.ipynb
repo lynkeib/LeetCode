{
 "cells": [
  {
   "cell_type": "code",
   "execution_count": 1,
   "metadata": {
    "ExecuteTime": {
     "end_time": "2019-09-08T09:11:29.938301Z",
     "start_time": "2019-09-08T09:11:29.930842Z"
    }
   },
   "outputs": [],
   "source": [
    "class WordDistance(object):\n",
    "\n",
    "    def __init__(self, words):\n",
    "        \"\"\"\n",
    "        :type words: List[str]\n",
    "        \"\"\"\n",
    "        self.dic = collections.defaultdict(list)\n",
    "        for index,value in enumerate(words):\n",
    "            self.dic[value] += [index]\n",
    "        \n",
    "\n",
    "    def shortest(self, word1, word2):\n",
    "        \"\"\"\n",
    "        :type word1: str\n",
    "        :type word2: str\n",
    "        :rtype: int\n",
    "        \"\"\"\n",
    "        l1 = self.dic[word1]\n",
    "        l2 = self.dic[word2]\n",
    "        res = float('inf')\n",
    "        i =j = 0\n",
    "        while i < len(l1) and j < len(l2):\n",
    "            res = min(abs(l1[i]-l2[j]), res)\n",
    "            if l1[i] < l2[j]:\n",
    "                i += 1\n",
    "            else:\n",
    "                j += 1\n",
    "        return res\n",
    "        \n",
    "\n",
    "\n",
    "# Your WordDistance object will be instantiated and called as such:\n",
    "# obj = WordDistance(words)\n",
    "# param_1 = obj.shortest(word1,word2)"
   ]
  },
  {
   "cell_type": "code",
   "execution_count": null,
   "metadata": {},
   "outputs": [],
   "source": []
  }
 ],
 "metadata": {
  "kernelspec": {
   "display_name": "Python 3",
   "language": "python",
   "name": "python3"
  },
  "language_info": {
   "codemirror_mode": {
    "name": "ipython",
    "version": 3
   },
   "file_extension": ".py",
   "mimetype": "text/x-python",
   "name": "python",
   "nbconvert_exporter": "python",
   "pygments_lexer": "ipython3",
   "version": "3.7.1"
  },
  "toc": {
   "base_numbering": 1,
   "nav_menu": {},
   "number_sections": true,
   "sideBar": true,
   "skip_h1_title": false,
   "title_cell": "Table of Contents",
   "title_sidebar": "Contents",
   "toc_cell": false,
   "toc_position": {},
   "toc_section_display": true,
   "toc_window_display": false
  }
 },
 "nbformat": 4,
 "nbformat_minor": 2
}
