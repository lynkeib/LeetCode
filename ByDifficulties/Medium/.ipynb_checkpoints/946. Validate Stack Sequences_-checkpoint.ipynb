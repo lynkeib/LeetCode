{
 "cells": [
  {
   "cell_type": "code",
   "execution_count": 1,
   "metadata": {
    "ExecuteTime": {
     "end_time": "2019-08-25T00:12:06.958766Z",
     "start_time": "2019-08-25T00:12:06.952664Z"
    }
   },
   "outputs": [],
   "source": [
    "class Solution(object):\n",
    "    def validateStackSequences(self, pushed, popped):\n",
    "        \"\"\"\n",
    "        :type pushed: List[int]\n",
    "        :type popped: List[int]\n",
    "        :rtype: bool\n",
    "        \"\"\"\n",
    "        stack = []\n",
    "        pop_index = 0\n",
    "        push_index = 0\n",
    "        while push_index != len(pushed):\n",
    "            stack.append(pushed[push_index])\n",
    "            push_index += 1\n",
    "            while stack and stack[-1] == popped[pop_index]:\n",
    "                stack.pop()\n",
    "                pop_index += 1\n",
    "        return len(stack) == 0"
   ]
  },
  {
   "cell_type": "code",
   "execution_count": null,
   "metadata": {},
   "outputs": [],
   "source": []
  }
 ],
 "metadata": {
  "kernelspec": {
   "display_name": "Python 3",
   "language": "python",
   "name": "python3"
  },
  "language_info": {
   "codemirror_mode": {
    "name": "ipython",
    "version": 3
   },
   "file_extension": ".py",
   "mimetype": "text/x-python",
   "name": "python",
   "nbconvert_exporter": "python",
   "pygments_lexer": "ipython3",
   "version": "3.7.1"
  },
  "toc": {
   "base_numbering": 1,
   "nav_menu": {},
   "number_sections": true,
   "sideBar": true,
   "skip_h1_title": false,
   "title_cell": "Table of Contents",
   "title_sidebar": "Contents",
   "toc_cell": false,
   "toc_position": {},
   "toc_section_display": true,
   "toc_window_display": false
  }
 },
 "nbformat": 4,
 "nbformat_minor": 2
}
