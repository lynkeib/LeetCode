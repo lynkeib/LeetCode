{
 "cells": [
  {
   "cell_type": "code",
   "execution_count": 55,
   "metadata": {
    "ExecuteTime": {
     "end_time": "2019-09-02T20:59:30.185274Z",
     "start_time": "2019-09-02T20:59:30.179347Z"
    }
   },
   "outputs": [],
   "source": [
    "class Solution(object):\n",
    "    def lengthOfLongestSubstring(self, s):\n",
    "        \"\"\"\n",
    "        :type s: str\n",
    "        :rtype: int\n",
    "        \"\"\"\n",
    "        position = dict()\n",
    "        slow, fast = 0, 0\n",
    "        res = 0\n",
    "        while fast < len(s):\n",
    "            if s[fast] in position:\n",
    "                slow = max(slow, position[s[fast]] + 1)\n",
    "            position[s[fast]] = fast\n",
    "            #print(slow, fast)\n",
    "            #print(s[slow:fast+1])\n",
    "            #print()\n",
    "            res = max(res, fast - slow + 1)\n",
    "            fast += 1\n",
    "        return res"
   ]
  },
  {
   "cell_type": "code",
   "execution_count": 56,
   "metadata": {
    "ExecuteTime": {
     "end_time": "2019-09-02T20:59:30.421854Z",
     "start_time": "2019-09-02T20:59:30.418895Z"
    }
   },
   "outputs": [],
   "source": [
    "A = Solution()"
   ]
  },
  {
   "cell_type": "code",
   "execution_count": 57,
   "metadata": {
    "ExecuteTime": {
     "end_time": "2019-09-02T20:59:30.620145Z",
     "start_time": "2019-09-02T20:59:30.614147Z"
    }
   },
   "outputs": [
    {
     "name": "stdout",
     "output_type": "stream",
     "text": [
      "0 0\n",
      "a\n",
      "\n",
      "0 1\n",
      "ab\n",
      "\n",
      "2 2\n",
      "b\n",
      "\n",
      "2 3\n",
      "ba\n",
      "\n"
     ]
    },
    {
     "data": {
      "text/plain": [
       "2"
      ]
     },
     "execution_count": 57,
     "metadata": {},
     "output_type": "execute_result"
    }
   ],
   "source": [
    "A.lengthOfLongestSubstring('abba')"
   ]
  },
  {
   "cell_type": "code",
   "execution_count": null,
   "metadata": {},
   "outputs": [],
   "source": []
  }
 ],
 "metadata": {
  "kernelspec": {
   "display_name": "Python 3",
   "language": "python",
   "name": "python3"
  },
  "language_info": {
   "codemirror_mode": {
    "name": "ipython",
    "version": 3
   },
   "file_extension": ".py",
   "mimetype": "text/x-python",
   "name": "python",
   "nbconvert_exporter": "python",
   "pygments_lexer": "ipython3",
   "version": "3.7.1"
  },
  "toc": {
   "base_numbering": 1,
   "nav_menu": {},
   "number_sections": true,
   "sideBar": true,
   "skip_h1_title": false,
   "title_cell": "Table of Contents",
   "title_sidebar": "Contents",
   "toc_cell": false,
   "toc_position": {},
   "toc_section_display": true,
   "toc_window_display": false
  }
 },
 "nbformat": 4,
 "nbformat_minor": 2
}
