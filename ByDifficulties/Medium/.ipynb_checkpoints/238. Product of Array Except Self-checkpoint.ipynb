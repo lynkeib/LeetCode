{
 "cells": [
  {
   "cell_type": "code",
   "execution_count": 31,
   "metadata": {
    "ExecuteTime": {
     "end_time": "2019-04-18T23:53:09.104842Z",
     "start_time": "2019-04-18T23:53:09.098968Z"
    }
   },
   "outputs": [],
   "source": [
    "class Solution(object):\n",
    "    def productExceptSelf(self, nums):\n",
    "        \"\"\"\n",
    "        :type nums: List[int]\n",
    "        :rtype: List[int]\n",
    "        \"\"\"\n",
    "        res = [1]\n",
    "        for i in range(1, len(nums)):\n",
    "            res.append(res[i-1] * nums[i-1])\n",
    "        right = 1\n",
    "        for i in range(len(nums) - 1, -1, -1):\n",
    "            res[i] *= right\n",
    "            right *= nums[i]\n",
    "        return res"
   ]
  },
  {
   "cell_type": "code",
   "execution_count": 1,
   "metadata": {
    "ExecuteTime": {
     "end_time": "2019-09-05T17:20:49.102693Z",
     "start_time": "2019-09-05T17:20:49.095917Z"
    }
   },
   "outputs": [],
   "source": [
    "class Solution(object):\n",
    "    def productExceptSelf(self, nums):\n",
    "        \"\"\"\n",
    "        :type nums: List[int]\n",
    "        :rtype: List[int]\n",
    "        \"\"\"\n",
    "        left = [1] * len(nums)\n",
    "        ## from left to right\n",
    "        for index in range(len(nums) - 1):\n",
    "            left[index + 1] = left[index] * nums[index]\n",
    "            # print(left)\n",
    "        ## from right to left\n",
    "        right = [1] * len(nums)\n",
    "        for index in range(len(nums)-1, 0, -1):\n",
    "            right[index - 1] = right[index] * nums[index]\n",
    "            # print(right)\n",
    "        return [left[i] * right[i] for i in range(len(nums))]"
   ]
  },
  {
   "cell_type": "code",
   "execution_count": null,
   "metadata": {},
   "outputs": [],
   "source": []
  }
 ],
 "metadata": {
  "kernelspec": {
   "display_name": "Python 3",
   "language": "python",
   "name": "python3"
  },
  "language_info": {
   "codemirror_mode": {
    "name": "ipython",
    "version": 3
   },
   "file_extension": ".py",
   "mimetype": "text/x-python",
   "name": "python",
   "nbconvert_exporter": "python",
   "pygments_lexer": "ipython3",
   "version": "3.7.1"
  },
  "toc": {
   "base_numbering": 1,
   "nav_menu": {},
   "number_sections": true,
   "sideBar": true,
   "skip_h1_title": false,
   "title_cell": "Table of Contents",
   "title_sidebar": "Contents",
   "toc_cell": false,
   "toc_position": {},
   "toc_section_display": true,
   "toc_window_display": false
  }
 },
 "nbformat": 4,
 "nbformat_minor": 2
}
