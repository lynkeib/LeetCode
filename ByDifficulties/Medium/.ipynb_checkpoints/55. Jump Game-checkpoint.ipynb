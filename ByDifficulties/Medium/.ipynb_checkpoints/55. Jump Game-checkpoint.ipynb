{
 "cells": [
  {
   "cell_type": "code",
   "execution_count": 1,
   "metadata": {
    "ExecuteTime": {
     "end_time": "2019-08-28T23:45:33.068197Z",
     "start_time": "2019-08-28T23:45:33.058886Z"
    }
   },
   "outputs": [],
   "source": [
    "class Solution(object):\n",
    "    def canJump(self, nums):\n",
    "        \"\"\"\n",
    "        :type nums: List[int]\n",
    "        :rtype: bool\n",
    "        \"\"\"\n",
    "        if not nums:\n",
    "            return False\n",
    "        if len(nums) == 1:\n",
    "            return True\n",
    "        if nums[0] == 0:\n",
    "            return False\n",
    "        index = 0\n",
    "        while index != len(nums) - 1:\n",
    "            steps = nums[index]\n",
    "            max_value = -1\n",
    "            max_index = -1\n",
    "            if index + steps >= len(nums) - 1:\n",
    "                return True\n",
    "            for i in range(index + 1, min(len(nums), index + steps + 1)):\n",
    "                if nums[i] + i >= max_value:\n",
    "                    max_value = nums[i] + i\n",
    "                    max_index = i\n",
    "            if max_value - max_index == 0:\n",
    "                if max_index == len(nums) - 1:\n",
    "                    return True\n",
    "                return False\n",
    "            if max_index == len(nums) - 1:\n",
    "                return True\n",
    "            index = max_index"
   ]
  },
  {
   "cell_type": "code",
   "execution_count": 3,
   "metadata": {
    "ExecuteTime": {
     "end_time": "2019-08-29T21:20:03.610936Z",
     "start_time": "2019-08-29T21:20:03.600767Z"
    }
   },
   "outputs": [],
   "source": [
    "class Solution(object):\n",
    "    def canJump(self, nums):\n",
    "        \"\"\"\n",
    "        :type nums: List[int]\n",
    "        :rtype: bool\n",
    "        \"\"\"\n",
    "        if len(nums) == 1:\n",
    "            return True\n",
    "        if not nums or nums[0] == 0:\n",
    "            return False\n",
    "        index = 0\n",
    "        while 1:\n",
    "            #max_value = -1\n",
    "            max_index = index\n",
    "            #print(f'from {index}')\n",
    "            for i in range(index + 1, index + nums[index] + 1):\n",
    "                if i + nums[i] >= len(nums) - 1:\n",
    "                    return True\n",
    "                elif i + nums[i] >= max_index + nums[max_index]:\n",
    "                    max_index = i\n",
    "            #print(f'to {max_index}')\n",
    "            #print()\n",
    "            if max_index == index:\n",
    "                return False\n",
    "            index = max_index"
   ]
  },
  {
   "cell_type": "code",
   "execution_count": 5,
   "metadata": {
    "ExecuteTime": {
     "end_time": "2019-08-29T21:29:51.313675Z",
     "start_time": "2019-08-29T21:29:51.309726Z"
    }
   },
   "outputs": [],
   "source": [
    "class Solution(object):\n",
    "    def canJump(self, nums):\n",
    "        \"\"\"\n",
    "        :type nums: List[int]\n",
    "        :rtype: bool\n",
    "        \"\"\"\n",
    "        max_place = 0\n",
    "        for index, value in enumerate(nums):\n",
    "            if index > max_place:\n",
    "                return False\n",
    "            max_place = max(max_place, index + value)\n",
    "        return True"
   ]
  },
  {
   "cell_type": "code",
   "execution_count": null,
   "metadata": {},
   "outputs": [],
   "source": []
  }
 ],
 "metadata": {
  "kernelspec": {
   "display_name": "Python 3",
   "language": "python",
   "name": "python3"
  },
  "language_info": {
   "codemirror_mode": {
    "name": "ipython",
    "version": 3
   },
   "file_extension": ".py",
   "mimetype": "text/x-python",
   "name": "python",
   "nbconvert_exporter": "python",
   "pygments_lexer": "ipython3",
   "version": "3.7.1"
  },
  "toc": {
   "base_numbering": 1,
   "nav_menu": {},
   "number_sections": true,
   "sideBar": true,
   "skip_h1_title": false,
   "title_cell": "Table of Contents",
   "title_sidebar": "Contents",
   "toc_cell": false,
   "toc_position": {},
   "toc_section_display": true,
   "toc_window_display": false
  }
 },
 "nbformat": 4,
 "nbformat_minor": 2
}
