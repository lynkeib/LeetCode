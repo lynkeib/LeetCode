{
 "cells": [
  {
   "cell_type": "code",
   "execution_count": 1,
   "metadata": {
    "ExecuteTime": {
     "end_time": "2019-05-19T21:43:02.562364Z",
     "start_time": "2019-05-19T21:43:02.552309Z"
    }
   },
   "outputs": [],
   "source": [
    "class Solution(object):\n",
    "    def isValidSudoku(self, board):\n",
    "        \"\"\"\n",
    "        :type board: List[List[str]]\n",
    "        :rtype: bool\n",
    "        \"\"\"\n",
    "        return (self.isValidRow(board) and \n",
    "               self.isValidColumn(board) and\n",
    "               self.isValidBlock(board))\n",
    "    \n",
    "    def isValidUnit(self,  unit):\n",
    "        unit = [i for i in unit if i!='.']\n",
    "        return len(set(unit)) == len(unit)\n",
    "    \n",
    "    def isValidRow(self, board):\n",
    "        for row in board:\n",
    "            if not self.isValidUnit(row):\n",
    "                return False\n",
    "        return True\n",
    "    \n",
    "    def isValidColumn(self, board):\n",
    "        for column in zip(*board):\n",
    "            if not self.isValidUnit(column):\n",
    "                return False\n",
    "        return True\n",
    "    \n",
    "    def isValidBlock(self, board):\n",
    "        for i in (0,3,6):\n",
    "            for j in (0,3,6):\n",
    "                block = [board[x][y] for x in (i, i+1, i+2) for y in (j, j+1, j+2)]\n",
    "                if not self.isValidUnit(block):\n",
    "                    return False\n",
    "        return True"
   ]
  },
  {
   "cell_type": "code",
   "execution_count": 1,
   "metadata": {
    "ExecuteTime": {
     "end_time": "2019-09-09T06:18:53.483411Z",
     "start_time": "2019-09-09T06:18:53.475291Z"
    }
   },
   "outputs": [],
   "source": [
    "class Solution(object):\n",
    "    def isValidSudoku(self, board):\n",
    "        \"\"\"\n",
    "        :type board: List[List[str]]\n",
    "        :rtype: bool\n",
    "        \"\"\"\n",
    "    \n",
    "        ## rows\n",
    "        for row in board:\n",
    "            if not self.check9(row):\n",
    "                return False\n",
    "        \n",
    "        ## columns\n",
    "        for col in range(len(board)):\n",
    "            if not self.check9(row[col] for row in board):\n",
    "                return False\n",
    "        \n",
    "        ## 9 X 9\n",
    "        for row in range(0, 9, 3): ## [0, 3, 6]\n",
    "            for col in range(0, 9, 3):\n",
    "                if not self.check9(i for row in board[row:row+3] for i in row[col:col+3]):\n",
    "                    return False\n",
    "        return True\n",
    "    \n",
    "    def check9(self, ls):\n",
    "        res = ''.join(i for i in ls if i != '.')\n",
    "        return len(res) == len(set(res))"
   ]
  },
  {
   "cell_type": "code",
   "execution_count": null,
   "metadata": {},
   "outputs": [],
   "source": []
  }
 ],
 "metadata": {
  "kernelspec": {
   "display_name": "Python 3",
   "language": "python",
   "name": "python3"
  },
  "language_info": {
   "codemirror_mode": {
    "name": "ipython",
    "version": 3
   },
   "file_extension": ".py",
   "mimetype": "text/x-python",
   "name": "python",
   "nbconvert_exporter": "python",
   "pygments_lexer": "ipython3",
   "version": "3.7.1"
  },
  "toc": {
   "base_numbering": 1,
   "nav_menu": {},
   "number_sections": true,
   "sideBar": true,
   "skip_h1_title": false,
   "title_cell": "Table of Contents",
   "title_sidebar": "Contents",
   "toc_cell": false,
   "toc_position": {},
   "toc_section_display": true,
   "toc_window_display": false
  }
 },
 "nbformat": 4,
 "nbformat_minor": 2
}
