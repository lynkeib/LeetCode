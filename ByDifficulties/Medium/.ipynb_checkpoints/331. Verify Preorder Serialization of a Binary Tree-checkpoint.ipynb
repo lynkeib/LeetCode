{
 "cells": [
  {
   "cell_type": "code",
   "execution_count": 1,
   "metadata": {
    "ExecuteTime": {
     "end_time": "2019-09-04T23:08:35.853040Z",
     "start_time": "2019-09-04T23:08:35.847072Z"
    }
   },
   "outputs": [],
   "source": [
    "class Solution(object):\n",
    "    def isValidSerialization(self, preorder):\n",
    "        \"\"\"\n",
    "        :type preorder: str\n",
    "        :rtype: bool\n",
    "        \"\"\"\n",
    "        if not preorder:\n",
    "            return \n",
    "        preorder = preorder.split(\",\")\n",
    "        stack = []\n",
    "        \n",
    "        for node in preorder:\n",
    "            stack.append(node)\n",
    "            while len(stack) > 2 and stack[-2:] == ['#', '#']:\n",
    "                if stack[-3] == '#':\n",
    "                    return False\n",
    "                stack = stack[:-3] + ['#']\n",
    "                # print(stack)\n",
    "            # print(stack)\n",
    "            # print('-----------')\n",
    "        return stack == ['#']"
   ]
  },
  {
   "cell_type": "code",
   "execution_count": 1,
   "metadata": {
    "ExecuteTime": {
     "end_time": "2019-09-05T06:49:16.101524Z",
     "start_time": "2019-09-05T06:49:16.092092Z"
    }
   },
   "outputs": [],
   "source": [
    "class Solution(object):\n",
    "    def isValidSerialization(self, preorder):\n",
    "        \"\"\"\n",
    "        :type preorder: str\n",
    "        :rtype: bool\n",
    "        \"\"\"\n",
    "        preorder = preorder.split(\",\")\n",
    "        return self.divide(preorder)\n",
    "    \n",
    "    def divide(self, nodes):\n",
    "        if not nodes:\n",
    "            return False\n",
    "        if nodes[0] == '#':\n",
    "            if len(nodes) == 1:\n",
    "                return True\n",
    "            else:\n",
    "                return False\n",
    "        head, left, right = self.find_left_tree(nodes)\n",
    "        left = self.divide(nodes[left:right])\n",
    "        right = self.divide(nodes[right:])\n",
    "        return left & right\n",
    "    \n",
    "    def find_left_tree(self, nodes):\n",
    "        number_counter = 1\n",
    "        null_counter = 0\n",
    "        left_index = 0\n",
    "        for i in range(1, len(nodes)):\n",
    "            if nodes[i] == \"#\":\n",
    "                null_counter += 1\n",
    "            else:\n",
    "                number_counter += 1\n",
    "            left_index = i\n",
    "            print(nodes[i], number_counter, null_counter)\n",
    "            if number_counter == null_counter:\n",
    "                break\n",
    "        return 0, 1, left_index + 1"
   ]
  },
  {
   "cell_type": "code",
   "execution_count": null,
   "metadata": {},
   "outputs": [],
   "source": []
  }
 ],
 "metadata": {
  "kernelspec": {
   "display_name": "Python 3",
   "language": "python",
   "name": "python3"
  },
  "language_info": {
   "codemirror_mode": {
    "name": "ipython",
    "version": 3
   },
   "file_extension": ".py",
   "mimetype": "text/x-python",
   "name": "python",
   "nbconvert_exporter": "python",
   "pygments_lexer": "ipython3",
   "version": "3.7.1"
  },
  "toc": {
   "base_numbering": 1,
   "nav_menu": {},
   "number_sections": true,
   "sideBar": true,
   "skip_h1_title": false,
   "title_cell": "Table of Contents",
   "title_sidebar": "Contents",
   "toc_cell": false,
   "toc_position": {},
   "toc_section_display": true,
   "toc_window_display": false
  }
 },
 "nbformat": 4,
 "nbformat_minor": 2
}
