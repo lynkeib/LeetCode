{
 "cells": [
  {
   "cell_type": "code",
   "execution_count": 1,
   "metadata": {
    "ExecuteTime": {
     "end_time": "2019-08-31T16:13:45.570043Z",
     "start_time": "2019-08-31T16:13:45.562451Z"
    }
   },
   "outputs": [],
   "source": [
    "# Definition for a binary tree node.\n",
    "# class TreeNode(object):\n",
    "#     def __init__(self, x):\n",
    "#         self.val = x\n",
    "#         self.left = None\n",
    "#         self.right = None\n",
    "\n",
    "class Solution(object):\n",
    "    def pathSum(self, root, sum):\n",
    "        \"\"\"\n",
    "        :type root: TreeNode\n",
    "        :type sum: int\n",
    "        :rtype: List[List[int]]\n",
    "        \"\"\"\n",
    "        if not root:\n",
    "            return []\n",
    "        res = []\n",
    "        self.dfs_inorder(root, [], sum, res)\n",
    "        return res\n",
    "    \n",
    "    def dfs_inorder(self, root, path, target, res):\n",
    "        if not root.left and not root.right:\n",
    "            path += [root.val]\n",
    "            if sum(path) == target:\n",
    "                res += [path]\n",
    "            return \n",
    "        #print(path)\n",
    "        if root.left:\n",
    "            self.dfs_inorder(root.left, path + [root.val], target, res)\n",
    "        if root.right:\n",
    "            self.dfs_inorder(root.right, path + [root.val], target, res)"
   ]
  },
  {
   "cell_type": "code",
   "execution_count": 2,
   "metadata": {
    "ExecuteTime": {
     "end_time": "2019-08-31T17:11:45.054164Z",
     "start_time": "2019-08-31T17:11:44.523988Z"
    }
   },
   "outputs": [],
   "source": [
    "# Definition for a binary tree node.\n",
    "# class TreeNode(object):\n",
    "#     def __init__(self, x):\n",
    "#         self.val = x\n",
    "#         self.left = None\n",
    "#         self.right = None\n",
    "import numpy as np\n",
    "class Solution(object):\n",
    "    def pathSum(self, root, sum):\n",
    "        \"\"\"\n",
    "        :type root: TreeNode\n",
    "        :type sum: int\n",
    "        :rtype: List[List[int]]\n",
    "        \"\"\"\n",
    "        if not root:\n",
    "            return []\n",
    "        res = []\n",
    "        self.dfs(root, [], sum, res)\n",
    "        return res\n",
    "    \n",
    "    def dfs(self, root, path, sum, res):\n",
    "        if not root.left and not root.right and sum == root.val:\n",
    "            res += [path + [root.val]]\n",
    "            return\n",
    "        if root.left:\n",
    "            self.dfs(root.left, path + [root.val], sum - root.val, res)\n",
    "        if root.right:\n",
    "            self.dfs(root.right, path + [root.val], sum - root.val, res)"
   ]
  },
  {
   "cell_type": "code",
   "execution_count": 3,
   "metadata": {
    "ExecuteTime": {
     "end_time": "2019-08-31T17:28:37.211192Z",
     "start_time": "2019-08-31T17:28:37.203758Z"
    }
   },
   "outputs": [],
   "source": [
    "# Definition for a binary tree node.\n",
    "# class TreeNode(object):\n",
    "#     def __init__(self, x):\n",
    "#         self.val = x\n",
    "#         self.left = None\n",
    "#         self.right = None\n",
    "import numpy as np\n",
    "class Solution(object):\n",
    "    def pathSum(self, root, sum):\n",
    "        \"\"\"\n",
    "        :type root: TreeNode\n",
    "        :type sum: int\n",
    "        :rtype: List[List[int]]\n",
    "        \"\"\"\n",
    "        if not root:\n",
    "            return []\n",
    "        res = []\n",
    "        self.backtracking(root, sum, [], res)\n",
    "        return res\n",
    "        \n",
    "    def backtracking(self, root, sum, path, res):\n",
    "        if not root:\n",
    "            return\n",
    "        path += [root.val]\n",
    "        if not root.left and not root.right and sum == root.val:\n",
    "            res += [path[:]]\n",
    "        self.backtracking(root.left, sum - root.val, path, res)\n",
    "        self.backtracking(root.right, sum - root.val, path, res)\n",
    "        path.pop()\n",
    "        return "
   ]
  },
  {
   "cell_type": "code",
   "execution_count": 4,
   "metadata": {
    "ExecuteTime": {
     "end_time": "2019-08-31T17:34:34.529254Z",
     "start_time": "2019-08-31T17:34:34.522656Z"
    }
   },
   "outputs": [],
   "source": [
    "# Definition for a binary tree node.\n",
    "# class TreeNode(object):\n",
    "#     def __init__(self, x):\n",
    "#         self.val = x\n",
    "#         self.left = None\n",
    "#         self.right = None\n",
    "import numpy as np\n",
    "class Solution(object):\n",
    "    def pathSum(self, root, sum):\n",
    "        \"\"\"\n",
    "        :type root: TreeNode\n",
    "        :type sum: int\n",
    "        :rtype: List[List[int]]\n",
    "        \"\"\"\n",
    "        if not root:\n",
    "            return []\n",
    "        stack = [[root, [root.val]]]\n",
    "        res = []\n",
    "        while stack:\n",
    "            curr, path = stack.pop()\n",
    "            if not curr.left and not curr.right and np.sum(path) == sum:\n",
    "                res += [path]\n",
    "            if curr.right:\n",
    "                stack.append([curr.right, path + [curr.right.val]])\n",
    "            if curr.left:\n",
    "                stack.append([curr.left, path + [curr.left.val]])\n",
    "        return res"
   ]
  },
  {
   "cell_type": "code",
   "execution_count": null,
   "metadata": {},
   "outputs": [],
   "source": []
  }
 ],
 "metadata": {
  "kernelspec": {
   "display_name": "Python 3",
   "language": "python",
   "name": "python3"
  },
  "language_info": {
   "codemirror_mode": {
    "name": "ipython",
    "version": 3
   },
   "file_extension": ".py",
   "mimetype": "text/x-python",
   "name": "python",
   "nbconvert_exporter": "python",
   "pygments_lexer": "ipython3",
   "version": "3.7.1"
  },
  "toc": {
   "base_numbering": 1,
   "nav_menu": {},
   "number_sections": true,
   "sideBar": true,
   "skip_h1_title": false,
   "title_cell": "Table of Contents",
   "title_sidebar": "Contents",
   "toc_cell": false,
   "toc_position": {},
   "toc_section_display": true,
   "toc_window_display": false
  }
 },
 "nbformat": 4,
 "nbformat_minor": 2
}
