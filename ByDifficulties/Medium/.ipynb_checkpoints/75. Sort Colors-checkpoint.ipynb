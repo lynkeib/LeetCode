{
 "cells": [
  {
   "cell_type": "markdown",
   "metadata": {},
   "source": [
    "# Quick Sort"
   ]
  },
  {
   "cell_type": "code",
   "execution_count": 1,
   "metadata": {
    "ExecuteTime": {
     "end_time": "2019-09-08T20:34:59.389723Z",
     "start_time": "2019-09-08T20:34:59.380316Z"
    }
   },
   "outputs": [],
   "source": [
    "class Solution(object):\n",
    "    def sortColors(self, nums):\n",
    "        \"\"\"\n",
    "        :type nums: List[int]\n",
    "        :rtype: None Do not return anything, modify nums in-place instead.\n",
    "        \"\"\"\n",
    "        # p = self.partition(nums, )\n",
    "        self.quicksort(nums, 0, len(nums) - 1)\n",
    "        return \n",
    "    \n",
    "    def partition(self, nums, left, right):\n",
    "        if left >= right:\n",
    "            return\n",
    "        key_index = right\n",
    "        right -= 1\n",
    "        while left < right:\n",
    "            while left < right and nums[left] <= nums[key_index]:\n",
    "                left += 1\n",
    "            while left < right and nums[right] > nums[key_index]:\n",
    "                right -= 1\n",
    "            print(nums)\n",
    "            nums[left], nums[right] = nums[right], nums[left]\n",
    "            print(nums)\n",
    "            print('--------')\n",
    "        nums[left], nums[key_index] = nums[key_index], nums[left]\n",
    "        return left\n",
    "    \n",
    "    def quicksort(self, nums,left, right):\n",
    "        if left >= right:\n",
    "            return\n",
    "        p = self.partition(nums, left, right)\n",
    "        print(p, left, right)\n",
    "        self.quicksort(nums, left, p-1)\n",
    "        self.quicksort(nums, p+1, right)\n",
    "        return "
   ]
  },
  {
   "cell_type": "code",
   "execution_count": null,
   "metadata": {},
   "outputs": [],
   "source": [
    "class Solution(object):\n",
    "    def sortColors(self, nums):\n",
    "        \"\"\"\n",
    "        :type nums: List[int]\n",
    "        :rtype: None Do not return anything, modify nums in-place instead.\n",
    "        \"\"\"\n",
    "        second, zero = len(nums) - 1, 0\n",
    "        for i in range(len(nums)):\n",
    "            while i < second and nums[i] == 2:\n",
    "                nums[i], nums[second] = nums[second], nums[i]\n",
    "                second -= 1\n",
    "            while i > zero and nums[i] == 0:\n",
    "                nums[i], nums[zero] = nums[zero], nums[i]\n",
    "                zero += 1"
   ]
  }
 ],
 "metadata": {
  "kernelspec": {
   "display_name": "Python 3",
   "language": "python",
   "name": "python3"
  },
  "language_info": {
   "codemirror_mode": {
    "name": "ipython",
    "version": 3
   },
   "file_extension": ".py",
   "mimetype": "text/x-python",
   "name": "python",
   "nbconvert_exporter": "python",
   "pygments_lexer": "ipython3",
   "version": "3.7.1"
  },
  "toc": {
   "base_numbering": 1,
   "nav_menu": {},
   "number_sections": true,
   "sideBar": true,
   "skip_h1_title": false,
   "title_cell": "Table of Contents",
   "title_sidebar": "Contents",
   "toc_cell": false,
   "toc_position": {},
   "toc_section_display": true,
   "toc_window_display": false
  }
 },
 "nbformat": 4,
 "nbformat_minor": 2
}
