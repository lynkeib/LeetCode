{
 "cells": [
  {
   "cell_type": "code",
   "execution_count": 1,
   "metadata": {
    "ExecuteTime": {
     "end_time": "2019-09-03T06:32:28.914236Z",
     "start_time": "2019-09-03T06:32:28.903966Z"
    }
   },
   "outputs": [],
   "source": [
    "class Solution(object):\n",
    "    def restoreIpAddresses(self, s):\n",
    "        \"\"\"\n",
    "        :type s: str\n",
    "        :rtype: List[str]\n",
    "        \"\"\"\n",
    "        res = []\n",
    "        self.dfs(s, [0], res)\n",
    "        return res\n",
    "        \n",
    "    def dfs(self, address, indexes, res):\n",
    "        #print(indexes)\n",
    "        if len(indexes) == 4:\n",
    "            ip = []\n",
    "            indexes = indexes + [len(address)]\n",
    "            for index in range(1, 5):\n",
    "                if address[indexes[index - 1]:indexes[index]][0] == '0' and address[indexes[index - 1]:indexes[index]] != '0':\n",
    "                    return \n",
    "                ip.append(str(address[indexes[index - 1]:indexes[index]]))\n",
    "            res.append('.'.join(ip))\n",
    "            return\n",
    "        if len(indexes) == 3:\n",
    "            if indexes[-1] == len(address) - 1:\n",
    "                return\n",
    "            for index in range(indexes[-1] + 1, len(address)):\n",
    "                if int(address[indexes[-1]:index]) <= 255 and int(address[index:]) <= 255:\n",
    "\n",
    "                    self.dfs(address, indexes + [index], res)\n",
    "        else:\n",
    "            for index in range(indexes[-1] + 1, len(address)):\n",
    "                if int(address[indexes[-1]:index]) <= 255:\n",
    "\n",
    "                    self.dfs(address, indexes + [index], res)\n",
    "            \n",
    "        "
   ]
  },
  {
   "cell_type": "code",
   "execution_count": 2,
   "metadata": {
    "ExecuteTime": {
     "end_time": "2019-09-03T06:38:01.699207Z",
     "start_time": "2019-09-03T06:38:01.689937Z"
    }
   },
   "outputs": [],
   "source": [
    "class Solution(object):\n",
    "    def restoreIpAddresses(self, s):\n",
    "        \"\"\"\n",
    "        :type s: str\n",
    "        :rtype: List[str]\n",
    "        \"\"\"\n",
    "        if len(s) > 12:\n",
    "            return \n",
    "        res = []\n",
    "        self.dfs(s, [0], res)\n",
    "        return res\n",
    "        \n",
    "    def dfs(self, address, indexes, res):\n",
    "        if len(indexes) == 4:\n",
    "            ip = []\n",
    "            indexes = indexes + [len(address)]\n",
    "            for index in range(1, 5):\n",
    "                if address[indexes[index - 1]:indexes[index]][0] == '0' and address[indexes[index - 1]:indexes[index]] != '0':\n",
    "                    return \n",
    "                if int(address[indexes[index - 1]:indexes[index]]) > 255:\n",
    "                    return\n",
    "                ip.append(address[indexes[index - 1]:indexes[index]])\n",
    "            res.append('.'.join(ip))\n",
    "            return\n",
    "        else:\n",
    "            for index in range(indexes[-1] + 1, len(address)):\n",
    "                self.dfs(address, indexes + [index], res)"
   ]
  },
  {
   "cell_type": "code",
   "execution_count": 3,
   "metadata": {
    "ExecuteTime": {
     "end_time": "2019-09-03T07:07:07.580198Z",
     "start_time": "2019-09-03T07:07:07.570916Z"
    }
   },
   "outputs": [],
   "source": [
    "class Solution(object):\n",
    "    def restoreIpAddresses(self, s):\n",
    "        \"\"\"\n",
    "        :type s: str\n",
    "        :rtype: List[str]\n",
    "        \"\"\"\n",
    "        res = []\n",
    "        self.dfs(s, 0, '', res)\n",
    "        return res\n",
    "    \n",
    "    def dfs(self, address, count, path, res):\n",
    "        #print(address, path)\n",
    "        if count > 4:\n",
    "            return\n",
    "        if not address and count == 4:\n",
    "            res.append(path[:-1])\n",
    "            return\n",
    "        for cut_point in range(1, 4):\n",
    "            if cut_point <= len(address):\n",
    "                if cut_point == 1:\n",
    "                    self.dfs(address[1:], count + 1, path + address[:1] + '.', res)\n",
    "                elif cut_point == 2 and address[0] != '0':\n",
    "                    self.dfs(address[2:], count + 1, path + address[:2] + '.', res)\n",
    "                elif cut_point == 3 and address[0] != '0' and int(address[:3]) <= 255:\n",
    "                    self.dfs(address[3:], count + 1, path + address[:3] + '.', res)\n",
    "                    "
   ]
  },
  {
   "cell_type": "code",
   "execution_count": null,
   "metadata": {},
   "outputs": [],
   "source": []
  }
 ],
 "metadata": {
  "kernelspec": {
   "display_name": "Python 3",
   "language": "python",
   "name": "python3"
  },
  "language_info": {
   "codemirror_mode": {
    "name": "ipython",
    "version": 3
   },
   "file_extension": ".py",
   "mimetype": "text/x-python",
   "name": "python",
   "nbconvert_exporter": "python",
   "pygments_lexer": "ipython3",
   "version": "3.7.1"
  },
  "toc": {
   "base_numbering": 1,
   "nav_menu": {},
   "number_sections": true,
   "sideBar": true,
   "skip_h1_title": false,
   "title_cell": "Table of Contents",
   "title_sidebar": "Contents",
   "toc_cell": false,
   "toc_position": {},
   "toc_section_display": true,
   "toc_window_display": false
  }
 },
 "nbformat": 4,
 "nbformat_minor": 2
}
