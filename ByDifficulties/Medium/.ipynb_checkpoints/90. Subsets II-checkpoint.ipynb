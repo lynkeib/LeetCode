{
 "cells": [
  {
   "cell_type": "code",
   "execution_count": 1,
   "metadata": {
    "ExecuteTime": {
     "end_time": "2019-04-14T23:40:31.411316Z",
     "start_time": "2019-04-14T23:40:31.405848Z"
    }
   },
   "outputs": [],
   "source": [
    "class Solution:\n",
    "    # @param num, a list of integer\n",
    "    # @return a list of lists of integer\n",
    "    def subsetsWithDup(self, S):\n",
    "        res = [[]]\n",
    "        S.sort()\n",
    "        for i in range(len(S)):\n",
    "            if i == 0 or S[i] != S[i - 1]:\n",
    "                l = len(res)\n",
    "            for j in range(len(res) - l, len(res)):\n",
    "                res.append(res[j] + [S[i]])\n",
    "            print(l)\n",
    "            print(res)\n",
    "        return res"
   ]
  },
  {
   "cell_type": "code",
   "execution_count": null,
   "metadata": {},
   "outputs": [],
   "source": []
  }
 ],
 "metadata": {
  "kernelspec": {
   "display_name": "Python 3",
   "language": "python",
   "name": "python3"
  },
  "language_info": {
   "codemirror_mode": {
    "name": "ipython",
    "version": 3
   },
   "file_extension": ".py",
   "mimetype": "text/x-python",
   "name": "python",
   "nbconvert_exporter": "python",
   "pygments_lexer": "ipython3",
   "version": "3.7.1"
  },
  "toc": {
   "base_numbering": 1,
   "nav_menu": {},
   "number_sections": true,
   "sideBar": true,
   "skip_h1_title": false,
   "title_cell": "Table of Contents",
   "title_sidebar": "Contents",
   "toc_cell": false,
   "toc_position": {},
   "toc_section_display": true,
   "toc_window_display": false
  }
 },
 "nbformat": 4,
 "nbformat_minor": 2
}
