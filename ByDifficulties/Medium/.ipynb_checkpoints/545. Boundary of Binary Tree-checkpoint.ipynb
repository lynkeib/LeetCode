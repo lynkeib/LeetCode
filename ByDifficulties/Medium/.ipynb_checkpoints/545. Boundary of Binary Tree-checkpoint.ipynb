{
 "cells": [
  {
   "cell_type": "code",
   "execution_count": 1,
   "metadata": {
    "ExecuteTime": {
     "end_time": "2019-09-09T08:50:21.799102Z",
     "start_time": "2019-09-09T08:50:21.786685Z"
    }
   },
   "outputs": [],
   "source": [
    "# Definition for a binary tree node.\n",
    "# class TreeNode(object):\n",
    "#     def __init__(self, x):\n",
    "#         self.val = x\n",
    "#         self.left = None\n",
    "#         self.right = None\n",
    "\n",
    "class Solution(object):\n",
    "    def boundaryOfBinaryTree(self, root):\n",
    "        \"\"\"\n",
    "        :type root: TreeNode\n",
    "        :rtype: List[int]\n",
    "        \"\"\"\n",
    "        if not root:\n",
    "            return []\n",
    "        left, right, leavesl, leavesr = [], [], [], []\n",
    "        self.goleft(root.left, left)\n",
    "        self.goright(root.right, right)\n",
    "        self.leaves(root.left, leavesl)\n",
    "        self.leaves(root.right, leavesr)\n",
    "        print(root.val, left, leavesl, leavesr,right[::-1])\n",
    "        return [root.val] + left + leavesl + leavesr + right[::-1]\n",
    "    \n",
    "    def goleft(self, root, res):\n",
    "        if not root or (not root.left and not root.right):\n",
    "            return\n",
    "        res.append(root.val)\n",
    "        if not root.left:\n",
    "            self.goleft(root.right, res)\n",
    "        else:\n",
    "            self.goleft(root.left, res)\n",
    "        return \n",
    "    \n",
    "    def goright(self, root, res):\n",
    "        if not root or (not root.left and not root.right):\n",
    "            return\n",
    "        res.append(root.val)\n",
    "        if not root.right:\n",
    "            self.goright(root.left, res)\n",
    "        else:\n",
    "            self.goright(root.right, res)\n",
    "        return \n",
    "    \n",
    "    def leaves(self, root, res):\n",
    "        if not root:\n",
    "            return \n",
    "        if not root.left and not root.right:\n",
    "            res.append(root.val)\n",
    "            return\n",
    "        self.leaves(root.left, res)\n",
    "        self.leaves(root.right, res)\n",
    "    \n",
    "            "
   ]
  },
  {
   "cell_type": "code",
   "execution_count": null,
   "metadata": {},
   "outputs": [],
   "source": []
  }
 ],
 "metadata": {
  "kernelspec": {
   "display_name": "Python 3",
   "language": "python",
   "name": "python3"
  },
  "language_info": {
   "codemirror_mode": {
    "name": "ipython",
    "version": 3
   },
   "file_extension": ".py",
   "mimetype": "text/x-python",
   "name": "python",
   "nbconvert_exporter": "python",
   "pygments_lexer": "ipython3",
   "version": "3.7.1"
  },
  "toc": {
   "base_numbering": 1,
   "nav_menu": {},
   "number_sections": true,
   "sideBar": true,
   "skip_h1_title": false,
   "title_cell": "Table of Contents",
   "title_sidebar": "Contents",
   "toc_cell": false,
   "toc_position": {},
   "toc_section_display": true,
   "toc_window_display": false
  }
 },
 "nbformat": 4,
 "nbformat_minor": 2
}
