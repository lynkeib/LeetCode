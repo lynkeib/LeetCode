{
 "cells": [
  {
   "cell_type": "code",
   "execution_count": 1,
   "metadata": {
    "ExecuteTime": {
     "end_time": "2019-08-28T16:50:15.973518Z",
     "start_time": "2019-08-28T16:50:15.967457Z"
    }
   },
   "outputs": [],
   "source": [
    "class Solution(object):\n",
    "    def removeKdigits(self, num, k):\n",
    "        \"\"\"\n",
    "        :type num: str\n",
    "        :type k: int\n",
    "        :rtype: str\n",
    "        \"\"\"\n",
    "        left_digit = len(num) - k\n",
    "        res = ''\n",
    "        while left_digit != 0:\n",
    "            selection_area = len(num) - left_digit + 1\n",
    "            min_index = 0\n",
    "            min_value = float('inf')\n",
    "            selection = num[:selection_area]\n",
    "            #print(selection)\n",
    "            for i in range(len(selection)):\n",
    "                if int(selection[i]) < min_value:\n",
    "                    min_value = int(selection[i])\n",
    "                    min_index = i\n",
    "            #print(min_value, min_index)\n",
    "            res += str(min_value)\n",
    "            left_digit -= 1\n",
    "            num = num[min_index + 1:]\n",
    "            index = 0\n",
    "            while res and res[index] == '0':\n",
    "                res = res[index + 1:]\n",
    "        return res if res else '0'"
   ]
  },
  {
   "cell_type": "code",
   "execution_count": 2,
   "metadata": {
    "ExecuteTime": {
     "end_time": "2019-08-28T17:18:05.619175Z",
     "start_time": "2019-08-28T17:18:05.612587Z"
    }
   },
   "outputs": [],
   "source": [
    "class Solution(object):\n",
    "    def removeKdigits(self, num, k):\n",
    "        \"\"\"\n",
    "        :type num: str\n",
    "        :type k: int\n",
    "        :rtype: str\n",
    "        \"\"\"\n",
    "        stack = []\n",
    "        index = 0\n",
    "        while k != 0:\n",
    "            if not stack:\n",
    "                stack.append(num[index])\n",
    "                index += 1\n",
    "            elif stack and num[index] < stack[-1]:\n",
    "                stack.pop()\n",
    "                stack.append(num[index])\n",
    "                k -= 1\n",
    "                index += 1\n",
    "            else:\n",
    "                stack.append(num[index])\n",
    "                index += 1\n",
    "        while index != len(num):\n",
    "            stack.append(num[index])\n",
    "            index += 1\n",
    "        return ''.join(stack)\n",
    "                    "
   ]
  },
  {
   "cell_type": "code",
   "execution_count": null,
   "metadata": {},
   "outputs": [],
   "source": []
  }
 ],
 "metadata": {
  "kernelspec": {
   "display_name": "Python 3",
   "language": "python",
   "name": "python3"
  },
  "language_info": {
   "codemirror_mode": {
    "name": "ipython",
    "version": 3
   },
   "file_extension": ".py",
   "mimetype": "text/x-python",
   "name": "python",
   "nbconvert_exporter": "python",
   "pygments_lexer": "ipython3",
   "version": "3.7.1"
  },
  "toc": {
   "base_numbering": 1,
   "nav_menu": {},
   "number_sections": true,
   "sideBar": true,
   "skip_h1_title": false,
   "title_cell": "Table of Contents",
   "title_sidebar": "Contents",
   "toc_cell": false,
   "toc_position": {},
   "toc_section_display": true,
   "toc_window_display": false
  }
 },
 "nbformat": 4,
 "nbformat_minor": 2
}
