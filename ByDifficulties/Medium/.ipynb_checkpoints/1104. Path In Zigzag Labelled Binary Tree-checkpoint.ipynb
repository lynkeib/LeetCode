{
 "cells": [
  {
   "cell_type": "code",
   "execution_count": 55,
   "metadata": {
    "ExecuteTime": {
     "end_time": "2019-09-02T20:59:30.185274Z",
     "start_time": "2019-09-02T20:59:30.179347Z"
    }
   },
   "outputs": [],
   "source": [
    "class Solution(object):\n",
    "    def lengthOfLongestSubstring(self, s):\n",
    "        \"\"\"\n",
    "        :type s: str\n",
    "        :rtype: int\n",
    "        \"\"\"\n",
    "        position = dict()\n",
    "        slow, fast = 0, 0\n",
    "        res = 0\n",
    "        while fast < len(s):\n",
    "            if s[fast] in position:\n",
    "                slow = max(slow, position[s[fast]] + 1)\n",
    "            position[s[fast]] = fast\n",
    "            #print(slow, fast)\n",
    "            #print(s[slow:fast+1])\n",
    "            #print()\n",
    "            res = max(res, fast - slow + 1)\n",
    "            fast += 1\n",
    "        return res"
   ]
  },
  {
   "cell_type": "code",
   "execution_count": 56,
   "metadata": {
    "ExecuteTime": {
     "end_time": "2019-09-02T20:59:30.421854Z",
     "start_time": "2019-09-02T20:59:30.418895Z"
    }
   },
   "outputs": [],
   "source": [
    "A = Solution()"
   ]
  },
  {
   "cell_type": "code",
   "execution_count": 57,
   "metadata": {
    "ExecuteTime": {
     "end_time": "2019-09-02T20:59:30.620145Z",
     "start_time": "2019-09-02T20:59:30.614147Z"
    }
   },
   "outputs": [
    {
     "name": "stdout",
     "output_type": "stream",
     "text": [
      "0 0\n",
      "a\n",
      "\n",
      "0 1\n",
      "ab\n",
      "\n",
      "2 2\n",
      "b\n",
      "\n",
      "2 3\n",
      "ba\n",
      "\n"
     ]
    },
    {
     "data": {
      "text/plain": [
       "2"
      ]
     },
     "execution_count": 57,
     "metadata": {},
     "output_type": "execute_result"
    }
   ],
   "source": [
    "A.lengthOfLongestSubstring('abba')"
   ]
  },
  {
   "cell_type": "code",
   "execution_count": 92,
   "metadata": {
    "ExecuteTime": {
     "end_time": "2019-09-02T21:26:34.625596Z",
     "start_time": "2019-09-02T21:26:34.618537Z"
    }
   },
   "outputs": [],
   "source": [
    "class Solution(object):\n",
    "    def compress(self, chars):\n",
    "        \"\"\"\n",
    "        :type chars: List[str]\n",
    "        :rtype: int\n",
    "        \"\"\"\n",
    "        if not chars:\n",
    "            return\n",
    "        slow, fast = 0, 0\n",
    "        while fast < len(chars):\n",
    "            count = 1\n",
    "            #chars[slow] = chars[fast]\n",
    "            while fast < len(chars) - 1 and chars[fast] == chars[fast + 1]:\n",
    "                fast += 1\n",
    "                count += 1\n",
    "            print(slow, fast, count)\n",
    "            print(a)\n",
    "            if count > 1:\n",
    "                slow += 1\n",
    "                chars[slow] = str(count)\n",
    "            print(a)\n",
    "            print(slow, fast, count)\n",
    "            print()\n",
    "            slow += 1\n",
    "            fast += 1\n",
    "        return slow"
   ]
  },
  {
   "cell_type": "code",
   "execution_count": 93,
   "metadata": {
    "ExecuteTime": {
     "end_time": "2019-09-02T21:26:34.837247Z",
     "start_time": "2019-09-02T21:26:34.834408Z"
    }
   },
   "outputs": [],
   "source": [
    "A = Solution()"
   ]
  },
  {
   "cell_type": "code",
   "execution_count": 94,
   "metadata": {
    "ExecuteTime": {
     "end_time": "2019-09-02T21:26:35.061140Z",
     "start_time": "2019-09-02T21:26:35.058090Z"
    }
   },
   "outputs": [],
   "source": [
    "a = [\"a\",\"a\",\"a\",\"b\",\"b\",\"a\",\"a\"]"
   ]
  },
  {
   "cell_type": "code",
   "execution_count": 95,
   "metadata": {
    "ExecuteTime": {
     "end_time": "2019-09-02T21:26:35.283912Z",
     "start_time": "2019-09-02T21:26:35.278214Z"
    }
   },
   "outputs": [
    {
     "name": "stdout",
     "output_type": "stream",
     "text": [
      "0 2 3\n",
      "['a', 'a', 'a', 'b', 'b', 'a', 'a']\n",
      "['a', '3', 'a', 'b', 'b', 'a', 'a']\n",
      "1 2 3\n",
      "\n",
      "2 4 2\n",
      "['a', '3', 'a', 'b', 'b', 'a', 'a']\n",
      "['a', '3', 'a', '2', 'b', 'a', 'a']\n",
      "3 4 2\n",
      "\n",
      "4 6 2\n",
      "['a', '3', 'a', '2', 'b', 'a', 'a']\n",
      "['a', '3', 'a', '2', 'b', '2', 'a']\n",
      "5 6 2\n",
      "\n"
     ]
    },
    {
     "data": {
      "text/plain": [
       "6"
      ]
     },
     "execution_count": 95,
     "metadata": {},
     "output_type": "execute_result"
    }
   ],
   "source": [
    "A.compress(a)"
   ]
  },
  {
   "cell_type": "code",
   "execution_count": 169,
   "metadata": {
    "ExecuteTime": {
     "end_time": "2019-09-02T22:03:59.987563Z",
     "start_time": "2019-09-02T22:03:59.978515Z"
    }
   },
   "outputs": [],
   "source": [
    "class Solution(object):\n",
    "    def pathInZigZagTree(self, label):\n",
    "        \"\"\"\n",
    "        :type label: int\n",
    "        :rtype: List[int]\n",
    "        \"\"\"\n",
    "        # find the level according to label\n",
    "        i = 1\n",
    "        while 1:\n",
    "            if 2 ** (i-1) > label:\n",
    "                break\n",
    "            i += 1\n",
    "        level = i - 1\n",
    "        \n",
    "        res = [label]\n",
    "        while level > 1:\n",
    "#             print(level)\n",
    "#             print(res)\n",
    "#             print()\n",
    "            if level % 2 == 0:\n",
    "                left = 2**(level-1)\n",
    "                diff = res[-1] - left \n",
    "                start = 2**(level) - 2**(level-1) - 1\n",
    "#                 print(start)\n",
    "#                 print(diff)\n",
    "                for _ in range(diff):\n",
    "                    start -= 2\n",
    "                true_label = res[-1] + start\n",
    "#                 print(true_label)\n",
    "                res.append(true_label//2)\n",
    "                level -= 1\n",
    "            else:\n",
    "                upper_true_label = res[-1] // 2\n",
    "                upper_level = level - 1\n",
    "                left = 2**(upper_level-1)\n",
    "                diff = upper_true_label - left \n",
    "                start = 2**(upper_level) - 2**(upper_level-1) - 1\n",
    "                for _ in range(diff):\n",
    "                    start -= 2\n",
    "                upper_fack_label = upper_true_label + start\n",
    "                res.append(upper_fack_label)\n",
    "                level -= 1\n",
    "        return res[::-1]"
   ]
  },
  {
   "cell_type": "code",
   "execution_count": null,
   "metadata": {},
   "outputs": [],
   "source": []
  }
 ],
 "metadata": {
  "kernelspec": {
   "display_name": "Python 3",
   "language": "python",
   "name": "python3"
  },
  "language_info": {
   "codemirror_mode": {
    "name": "ipython",
    "version": 3
   },
   "file_extension": ".py",
   "mimetype": "text/x-python",
   "name": "python",
   "nbconvert_exporter": "python",
   "pygments_lexer": "ipython3",
   "version": "3.7.1"
  },
  "toc": {
   "base_numbering": 1,
   "nav_menu": {},
   "number_sections": true,
   "sideBar": true,
   "skip_h1_title": false,
   "title_cell": "Table of Contents",
   "title_sidebar": "Contents",
   "toc_cell": false,
   "toc_position": {},
   "toc_section_display": true,
   "toc_window_display": false
  }
 },
 "nbformat": 4,
 "nbformat_minor": 2
}
