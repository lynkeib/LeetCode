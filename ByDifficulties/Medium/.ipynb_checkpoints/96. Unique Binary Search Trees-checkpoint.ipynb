{
 "cells": [
  {
   "cell_type": "code",
   "execution_count": 1,
   "metadata": {
    "ExecuteTime": {
     "end_time": "2019-09-03T20:45:02.483446Z",
     "start_time": "2019-09-03T20:45:02.477599Z"
    }
   },
   "outputs": [],
   "source": [
    "class Solution(object):\n",
    "    def numTrees(self, n):\n",
    "        \"\"\"\n",
    "        :type n: int\n",
    "        :rtype: int\n",
    "        \"\"\"\n",
    "        G = [0] * (n+1)\n",
    "        G[0] = 1\n",
    "        G[1] = 1\n",
    "        for index in range(2, n+1):\n",
    "            for choice in range(index):\n",
    "                G[index] += G[choice] * G[index - choice - 1]\n",
    "        return G[n]"
   ]
  },
  {
   "cell_type": "markdown",
   "metadata": {},
   "source": [
    "Actually this is a math problem...  \n",
    "From what I learned, we can denote $G(n)$ as the answer of n, $F(i, n)$ denotes if we put i in the root, and we have n nodes in total, how many possibilities do we have.  \n",
    "Therefore, we can say $ G(n) = F(1, n) + F(2, n) + ... + F(n, n) $  \n",
    "So when we consider F(1, n), we put 1 as the root, so the numbers left are from 2 to n, and they are all greater than 1, so so have nothing to put on the left and n - 1 to put on the right, therefore, $F(1, n) = G(0) \\times G(n - 1)$  \n",
    "So, $F(2, n) = G(1) \\times G(n - 2)$, then $G(n) = G(0) * G(n-1) + G(1) * G(n-2) + ... + G(n-1) * G(0) $"
   ]
  },
  {
   "cell_type": "code",
   "execution_count": null,
   "metadata": {},
   "outputs": [],
   "source": []
  }
 ],
 "metadata": {
  "kernelspec": {
   "display_name": "Python 3",
   "language": "python",
   "name": "python3"
  },
  "language_info": {
   "codemirror_mode": {
    "name": "ipython",
    "version": 3
   },
   "file_extension": ".py",
   "mimetype": "text/x-python",
   "name": "python",
   "nbconvert_exporter": "python",
   "pygments_lexer": "ipython3",
   "version": "3.7.1"
  },
  "toc": {
   "base_numbering": 1,
   "nav_menu": {},
   "number_sections": true,
   "sideBar": true,
   "skip_h1_title": false,
   "title_cell": "Table of Contents",
   "title_sidebar": "Contents",
   "toc_cell": false,
   "toc_position": {},
   "toc_section_display": true,
   "toc_window_display": false
  }
 },
 "nbformat": 4,
 "nbformat_minor": 2
}
