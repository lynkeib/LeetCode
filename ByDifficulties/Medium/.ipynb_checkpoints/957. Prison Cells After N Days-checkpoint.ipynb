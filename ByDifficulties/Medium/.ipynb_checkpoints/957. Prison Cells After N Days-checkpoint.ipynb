{
 "cells": [
  {
   "cell_type": "code",
   "execution_count": 1,
   "metadata": {
    "ExecuteTime": {
     "end_time": "2019-09-08T23:37:16.462233Z",
     "start_time": "2019-09-08T23:37:16.454308Z"
    }
   },
   "outputs": [],
   "source": [
    "class Solution(object):\n",
    "    def prisonAfterNDays(self, cells, N):\n",
    "        \"\"\"\n",
    "        :type cells: List[int]\n",
    "        :type N: int\n",
    "        :rtype: List[int]\n",
    "        \"\"\"\n",
    "        for _ in range(N):\n",
    "            for index in range(len(cells)):\n",
    "                if index == 0 or index == len(cells) - 1:\n",
    "                    cells[index] = 0\n",
    "                else:\n",
    "                    if (cells[index-1] %2 != 0 and cells[index + 1] %2!=0) or (cells[index-1] %2 == 0 and cells[index + 1] %2==0):\n",
    "                        if cells[index] == 1:\n",
    "                            cells[index] = 3\n",
    "                        else:\n",
    "                            cells[index] = 2\n",
    "            for index in range(len(cells)):\n",
    "                cells[index] = cells[index] >>1\n",
    "        # print(cells)\n",
    "        return cells"
   ]
  },
  {
   "cell_type": "code",
   "execution_count": null,
   "metadata": {},
   "outputs": [],
   "source": []
  }
 ],
 "metadata": {
  "kernelspec": {
   "display_name": "Python 3",
   "language": "python",
   "name": "python3"
  },
  "language_info": {
   "codemirror_mode": {
    "name": "ipython",
    "version": 3
   },
   "file_extension": ".py",
   "mimetype": "text/x-python",
   "name": "python",
   "nbconvert_exporter": "python",
   "pygments_lexer": "ipython3",
   "version": "3.7.1"
  },
  "toc": {
   "base_numbering": 1,
   "nav_menu": {},
   "number_sections": true,
   "sideBar": true,
   "skip_h1_title": false,
   "title_cell": "Table of Contents",
   "title_sidebar": "Contents",
   "toc_cell": false,
   "toc_position": {},
   "toc_section_display": true,
   "toc_window_display": false
  }
 },
 "nbformat": 4,
 "nbformat_minor": 2
}
