{
 "cells": [
  {
   "cell_type": "markdown",
   "metadata": {},
   "source": [
    "# TLE"
   ]
  },
  {
   "cell_type": "code",
   "execution_count": 1,
   "metadata": {
    "ExecuteTime": {
     "end_time": "2019-09-05T22:19:22.804292Z",
     "start_time": "2019-09-05T22:19:22.787211Z"
    }
   },
   "outputs": [],
   "source": [
    "class Solution(object):\n",
    "    def exist(self, board, word):\n",
    "        \"\"\"\n",
    "        :type board: List[List[str]]\n",
    "        :type word: str\n",
    "        :rtype: bool\n",
    "        \"\"\"\n",
    "        dp = dict()\n",
    "        visited = {(x, y):0 for x in range(len(board)) for y in range(len(board[0]))}\n",
    "        for x in range(len(board)):\n",
    "            for y in range(len(board[0])):\n",
    "                if board[x][y] != word[0]:\n",
    "                    continue\n",
    "                if self.dfs(x, y, word, 0, board, visited):\n",
    "                    return True\n",
    "        return False\n",
    "    \n",
    "    def dfs(self, x, y, word, index, board, visited):\n",
    "        # print(x, y, word[index], index)\n",
    "    \tif index == len(word) - 1:\n",
    "    \t\tif board[x][y] == word[index]:\n",
    "    \t\t\treturn True\n",
    "    \t\telse:\n",
    "    \t\t\treturn False\n",
    "    \n",
    "    \t## start DFS\n",
    "    \tvisited[(x, y)] = 1\n",
    "    \tres = False\n",
    "    \t## up\n",
    "        # print(visited)\n",
    "    \tif x - 1 > -1 and board[x-1][y] == word[index + 1] and visited[(x-1, y)] != 1:\n",
    "    \t\t# print('try up')\n",
    "    \t\tvisited[(x-1, y)] = 1\n",
    "    \t\tres |= self.dfs(x-1, y, word, index + 1, board, visited)\n",
    "    \t\tvisited[(x-1, y)] = 0\n",
    "    \t## down\n",
    "    \tif x + 1 < len(board) and board[x+1][y] == word[index + 1] and visited[(x+1, y)] != 1:\n",
    "    \t\t# print('try, down')\n",
    "    \t\tvisited[(x+1, y)] = 1\n",
    "    \t\tres |= self.dfs(x+1, y, word, index + 1, board, visited)\n",
    "    \t\tvisited[(x+1, y)] = 0\n",
    "    \t## left\n",
    "\n",
    "    \tif y - 1 > -1 and board[x][y-1] == word[index + 1] and visited[(x, y-1)] != 1:\n",
    "    \t\t# print('try left')\n",
    "    \t\tvisited[(x, y-1)] = 1\n",
    "    \t\tres |= self.dfs(x, y-1, word, index + 1, board, visited)\n",
    "    \t\tvisited[(x, y-1)] = 0\n",
    "    \t## right\n",
    "    \tif y + 1 < len(board[0])  and board[x][y+1] == word[index + 1] and visited[(x, y+1)] != 1:\n",
    "    \t\t# print('try right')\n",
    "    \t\tvisited[(x, y+1)] = 1\n",
    "    \t\tres |= self.dfs(x, y+1, word, index + 1, board, visited)\n",
    "    \t\tvisited[(x, y+1)] = 0\n",
    "    \tvisited[(x, y)] = 0\n",
    "    \treturn res"
   ]
  },
  {
   "cell_type": "code",
   "execution_count": null,
   "metadata": {},
   "outputs": [],
   "source": []
  }
 ],
 "metadata": {
  "kernelspec": {
   "display_name": "Python 3",
   "language": "python",
   "name": "python3"
  },
  "language_info": {
   "codemirror_mode": {
    "name": "ipython",
    "version": 3
   },
   "file_extension": ".py",
   "mimetype": "text/x-python",
   "name": "python",
   "nbconvert_exporter": "python",
   "pygments_lexer": "ipython3",
   "version": "3.7.1"
  },
  "toc": {
   "base_numbering": 1,
   "nav_menu": {},
   "number_sections": true,
   "sideBar": true,
   "skip_h1_title": false,
   "title_cell": "Table of Contents",
   "title_sidebar": "Contents",
   "toc_cell": false,
   "toc_position": {},
   "toc_section_display": true,
   "toc_window_display": false
  }
 },
 "nbformat": 4,
 "nbformat_minor": 2
}
