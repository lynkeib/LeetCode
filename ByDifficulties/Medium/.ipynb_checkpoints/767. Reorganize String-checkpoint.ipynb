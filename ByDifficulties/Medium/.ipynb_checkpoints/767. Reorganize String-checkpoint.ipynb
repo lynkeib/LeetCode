{
 "cells": [
  {
   "cell_type": "code",
   "execution_count": 7,
   "metadata": {},
   "outputs": [],
   "source": [
    "import collections\n",
    "import heapq"
   ]
  },
  {
   "cell_type": "code",
   "execution_count": 12,
   "metadata": {},
   "outputs": [],
   "source": [
    "class Solution(object):\n",
    "    def reorganizeString(self, S):\n",
    "        \"\"\"\n",
    "        :type S: str\n",
    "        :rtype: str\n",
    "        \"\"\"\n",
    "        cnt = [(-value, key) for key, value in collections.Counter(S).items()]\n",
    "        heapq.heapify(cnt)\n",
    "        if -cnt[0][0] > (len(S) + 1) // 2:\n",
    "            return \"\"\n",
    "        ans = []\n",
    "        while cnt:\n",
    "            first = heapq.heappop(cnt)\n",
    "            if not ans or ans[-1] != first[1]:\n",
    "                ans.append(first[1])\n",
    "                first = (first[0] + 1, first[1])\n",
    "                if first[0]:\n",
    "                    heapq.heappush(cnt, first)\n",
    "            else:\n",
    "                second = heapq.heappop(cnt)\n",
    "                ans.append(second[1])\n",
    "                second = (second[0] + 1, second[1])\n",
    "                if second[0]:\n",
    "                    heapq.heappush(cnt, second)\n",
    "                heapq.heappush(cnt, first)\n",
    "        return ''.join(ans)"
   ]
  },
  {
   "cell_type": "code",
   "execution_count": 1,
   "metadata": {
    "ExecuteTime": {
     "end_time": "2019-09-17T01:58:27.321570Z",
     "start_time": "2019-09-17T01:58:27.314396Z"
    }
   },
   "outputs": [],
   "source": [
    "class Solution(object):\n",
    "    def reorganizeString(self, S):\n",
    "        \"\"\"\n",
    "        :type S: str\n",
    "        :rtype: str\n",
    "        \"\"\"\n",
    "        counter = collections.Counter(S)\n",
    "        heap = []\n",
    "        for key, value in counter.items():\n",
    "            heapq.heappush(heap, (-value, key))\n",
    "        print(heap)\n",
    "        res = \"\"\n",
    "        last_key, last_value = '', 0\n",
    "        while heap:\n",
    "            curr_value, curr_key = heapq.heappop(heap)\n",
    "            res += curr_key\n",
    "            if last_value < 0:\n",
    "                heapq.heappush(heap, (last_value, last_key))\n",
    "            curr_value += 1\n",
    "            last_value, last_key = curr_value, curr_key\n",
    "        if len(res) != len(S):\n",
    "            return \"\"\n",
    "        return res"
   ]
  },
  {
   "cell_type": "code",
   "execution_count": null,
   "metadata": {},
   "outputs": [],
   "source": []
  }
 ],
 "metadata": {
  "kernelspec": {
   "display_name": "Python 3",
   "language": "python",
   "name": "python3"
  },
  "language_info": {
   "codemirror_mode": {
    "name": "ipython",
    "version": 3
   },
   "file_extension": ".py",
   "mimetype": "text/x-python",
   "name": "python",
   "nbconvert_exporter": "python",
   "pygments_lexer": "ipython3",
   "version": "3.7.1"
  },
  "toc": {
   "base_numbering": 1,
   "nav_menu": {},
   "number_sections": true,
   "sideBar": true,
   "skip_h1_title": false,
   "title_cell": "Table of Contents",
   "title_sidebar": "Contents",
   "toc_cell": false,
   "toc_position": {},
   "toc_section_display": true,
   "toc_window_display": false
  }
 },
 "nbformat": 4,
 "nbformat_minor": 2
}
