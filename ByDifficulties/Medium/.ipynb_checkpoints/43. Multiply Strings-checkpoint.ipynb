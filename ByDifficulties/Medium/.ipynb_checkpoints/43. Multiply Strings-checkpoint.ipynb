{
 "cells": [
  {
   "cell_type": "code",
   "execution_count": 1,
   "metadata": {
    "ExecuteTime": {
     "end_time": "2019-09-07T08:05:10.281512Z",
     "start_time": "2019-09-07T08:05:10.272151Z"
    }
   },
   "outputs": [],
   "source": [
    "class Solution(object):\n",
    "    def multiply(self, num1, num2):\n",
    "        \"\"\"\n",
    "        :type num1: str\n",
    "        :type num2: str\n",
    "        :rtype: str\n",
    "        \"\"\"\n",
    "        res = [0] * (len(num1) + len(num2) )\n",
    "        for index1 in range(len(num1)):\n",
    "            for index2 in range(len(num2)):\n",
    "                s = int(num1[index1]) * int(num2[index2])\n",
    "                l = s % 10\n",
    "                h = s // 10\n",
    "                res[index1+index2] += h\n",
    "                res[index1 + index2+1] += l\n",
    "        for index in range(len(res) - 1, 0, -1):\n",
    "            if res[index] >= 10:\n",
    "                up = res[index] // 10\n",
    "                res[index -1] += up\n",
    "                res[index] = res[index] % 10\n",
    "        s = ''\n",
    "        for i in res:\n",
    "            if i == 0 and not s:\n",
    "                continue\n",
    "            s+=str(i)\n",
    "        if not s:\n",
    "            return \"0\"\n",
    "        return s\n",
    "\n",
    "        "
   ]
  },
  {
   "cell_type": "code",
   "execution_count": null,
   "metadata": {},
   "outputs": [],
   "source": []
  }
 ],
 "metadata": {
  "kernelspec": {
   "display_name": "Python 3",
   "language": "python",
   "name": "python3"
  },
  "language_info": {
   "codemirror_mode": {
    "name": "ipython",
    "version": 3
   },
   "file_extension": ".py",
   "mimetype": "text/x-python",
   "name": "python",
   "nbconvert_exporter": "python",
   "pygments_lexer": "ipython3",
   "version": "3.7.1"
  },
  "toc": {
   "base_numbering": 1,
   "nav_menu": {},
   "number_sections": true,
   "sideBar": true,
   "skip_h1_title": false,
   "title_cell": "Table of Contents",
   "title_sidebar": "Contents",
   "toc_cell": false,
   "toc_position": {},
   "toc_section_display": true,
   "toc_window_display": false
  }
 },
 "nbformat": 4,
 "nbformat_minor": 2
}
