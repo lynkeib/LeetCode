{
 "cells": [
  {
   "cell_type": "code",
   "execution_count": 4,
   "metadata": {},
   "outputs": [],
   "source": [
    "\"\"\"\n",
    "# Definition for a Node.\n",
    "class Node(object):\n",
    "    def __init__(self, val, prev, next, child):\n",
    "        self.val = val\n",
    "        self.prev = prev\n",
    "        self.next = next\n",
    "        self.child = child\n",
    "\"\"\"\n",
    "class Solution(object):\n",
    "    def flatten(self, head):\n",
    "        \"\"\"\n",
    "        :type head: Node\n",
    "        :rtype: Node\n",
    "        \"\"\"\n",
    "        if not head:\n",
    "            return head\n",
    "        curr = head\n",
    "        while curr:\n",
    "            if curr.child is None:\n",
    "                curr = curr.next\n",
    "                continue\n",
    "            temp = curr.child\n",
    "            while temp.next is not None:\n",
    "                temp = temp.next\n",
    "            temp.next = curr.next\n",
    "            if curr.next is not None:\n",
    "                curr.next.prev = temp\n",
    "            curr.next = curr.child\n",
    "            curr.child.prev = curr\n",
    "            curr.child = None\n",
    "        return head"
   ]
  },
  {
   "cell_type": "code",
   "execution_count": 2,
   "metadata": {
    "ExecuteTime": {
     "end_time": "2019-09-09T23:44:20.427206Z",
     "start_time": "2019-09-09T23:44:20.420021Z"
    }
   },
   "outputs": [],
   "source": [
    "\"\"\"\n",
    "# Definition for a Node.\n",
    "class Node(object):\n",
    "    def __init__(self, val, prev, next, child):\n",
    "        self.val = val\n",
    "        self.prev = prev\n",
    "        self.next = next\n",
    "        self.child = child\n",
    "\"\"\"\n",
    "class Solution(object):\n",
    "    def flatten(self, head):\n",
    "        \"\"\"\n",
    "        :type head: Node\n",
    "        :rtype: Node\n",
    "        \"\"\"\n",
    "        ## preorder\n",
    "        if not head:\n",
    "            return None\n",
    "        self.dfs(head)\n",
    "        return head\n",
    "    \n",
    "    def dfs(self, node):\n",
    "        \n",
    "        if not node.child and not node.next:\n",
    "            return node\n",
    "        if node.child:\n",
    "            tail = self.dfs(node.child)\n",
    "            next_node = node.next\n",
    "            node.next = node.child\n",
    "            node.child.prev = node\n",
    "            node.child = None\n",
    "            tail.next = next_node\n",
    "            if next_node:\n",
    "                next_node.prev = tail\n",
    "            if tail.next:\n",
    "                tail = self.dfs(tail.next)\n",
    "        else:\n",
    "            tail = self.dfs(node.next)\n",
    "        return tail"
   ]
  },
  {
   "cell_type": "code",
   "execution_count": null,
   "metadata": {},
   "outputs": [],
   "source": []
  }
 ],
 "metadata": {
  "kernelspec": {
   "display_name": "Python 3",
   "language": "python",
   "name": "python3"
  },
  "language_info": {
   "codemirror_mode": {
    "name": "ipython",
    "version": 3
   },
   "file_extension": ".py",
   "mimetype": "text/x-python",
   "name": "python",
   "nbconvert_exporter": "python",
   "pygments_lexer": "ipython3",
   "version": "3.7.1"
  },
  "toc": {
   "base_numbering": 1,
   "nav_menu": {},
   "number_sections": true,
   "sideBar": true,
   "skip_h1_title": false,
   "title_cell": "Table of Contents",
   "title_sidebar": "Contents",
   "toc_cell": false,
   "toc_position": {},
   "toc_section_display": true,
   "toc_window_display": false
  }
 },
 "nbformat": 4,
 "nbformat_minor": 2
}
