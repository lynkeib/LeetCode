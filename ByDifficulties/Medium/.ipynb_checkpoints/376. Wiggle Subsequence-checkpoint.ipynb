{
 "cells": [
  {
   "cell_type": "code",
   "execution_count": 2,
   "metadata": {
    "ExecuteTime": {
     "end_time": "2019-08-27T16:40:47.749773Z",
     "start_time": "2019-08-27T16:40:47.743355Z"
    }
   },
   "outputs": [],
   "source": [
    "# Definition for singly-linked list.\n",
    "class ListNode(object):\n",
    "    def __init__(self, x):\n",
    "        self.val = x\n",
    "        self.next = None\n",
    "\n",
    "class Solution(object):\n",
    "    def partition(self, head, x):\n",
    "        \"\"\"\n",
    "        :type head: ListNode\n",
    "        :type x: int\n",
    "        :rtype: ListNode\n",
    "        \"\"\"\n",
    "        greater = ListNode(0)\n",
    "        greater_ = greater\n",
    "        less = ListNode(0)\n",
    "        less_ = less\n",
    "        while head:\n",
    "            if head.val >= x:\n",
    "                greater.next = head\n",
    "                greater = greater.next\n",
    "            else:\n",
    "                less.next = head\n",
    "                less = less.next\n",
    "            head = head.next\n",
    "        less.next = greater_\n",
    "        return less_"
   ]
  },
  {
   "cell_type": "code",
   "execution_count": null,
   "metadata": {},
   "outputs": [],
   "source": []
  }
 ],
 "metadata": {
  "kernelspec": {
   "display_name": "Python 3",
   "language": "python",
   "name": "python3"
  },
  "language_info": {
   "codemirror_mode": {
    "name": "ipython",
    "version": 3
   },
   "file_extension": ".py",
   "mimetype": "text/x-python",
   "name": "python",
   "nbconvert_exporter": "python",
   "pygments_lexer": "ipython3",
   "version": "3.7.1"
  },
  "toc": {
   "base_numbering": 1,
   "nav_menu": {},
   "number_sections": true,
   "sideBar": true,
   "skip_h1_title": false,
   "title_cell": "Table of Contents",
   "title_sidebar": "Contents",
   "toc_cell": false,
   "toc_position": {},
   "toc_section_display": true,
   "toc_window_display": false
  }
 },
 "nbformat": 4,
 "nbformat_minor": 2
}
