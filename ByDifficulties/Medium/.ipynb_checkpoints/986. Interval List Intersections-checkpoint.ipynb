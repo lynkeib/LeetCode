{
 "cells": [
  {
   "cell_type": "code",
   "execution_count": 1,
   "metadata": {},
   "outputs": [],
   "source": [
    "class Solution(object):\n",
    "    def intervalIntersection(self, A, B):\n",
    "        \"\"\"\n",
    "        :type A: List[List[int]]\n",
    "        :type B: List[List[int]]\n",
    "        :rtype: List[List[int]]\n",
    "        \"\"\"\n",
    "        pointerA = pointerB = 0\n",
    "        res = []\n",
    "        while(pointerA < len(A) and pointerB < len(B)):\n",
    "            intervalA = A[pointerA]\n",
    "            intervalB = B[pointerB]\n",
    "            startMax = max(intervalA[0], intervalB[0])\n",
    "            endMin = min(intervalA[1], intervalB[1])\n",
    "            \n",
    "            if startMax <= endMin:\n",
    "                res.append([startMax, endMin])\n",
    "            \n",
    "            if intervalA[1] == endMin:\n",
    "                pointerA += 1\n",
    "            else:\n",
    "                pointerB += 1\n",
    "        return res"
   ]
  },
  {
   "cell_type": "code",
   "execution_count": 1,
   "metadata": {
    "ExecuteTime": {
     "end_time": "2019-09-06T09:02:47.945894Z",
     "start_time": "2019-09-06T09:02:47.938664Z"
    }
   },
   "outputs": [],
   "source": [
    "class Solution(object):\n",
    "    def intervalIntersection(self, A, B):\n",
    "        \"\"\"\n",
    "        :type A: List[List[int]]\n",
    "        :type B: List[List[int]]\n",
    "        :rtype: List[List[int]]\n",
    "        \"\"\"\n",
    "        res = []\n",
    "        while A and B:\n",
    "            start_A, end_A = A[0]\n",
    "            start_B, end_B = B[0]\n",
    "            # print('A', start_A, end_A)\n",
    "            # print('B', start_B, end_B)\n",
    "            # print(A, B)\n",
    "            if end_A < start_B:\n",
    "                A.pop(0)\n",
    "            elif end_B < start_A:\n",
    "                B.pop(0)\n",
    "            else:\n",
    "                min_start = max(start_A, start_B)\n",
    "                min_end = min(end_A, end_B)\n",
    "                res.append([min_start, min_end])\n",
    "                if end_A >= end_B:\n",
    "                    B.pop(0)\n",
    "                else:\n",
    "                    A.pop(0)\n",
    "            # print('res', res)\n",
    "        # print(A, B)\n",
    "        # print(res)\n",
    "        return res\n",
    "                "
   ]
  },
  {
   "cell_type": "code",
   "execution_count": null,
   "metadata": {},
   "outputs": [],
   "source": []
  }
 ],
 "metadata": {
  "kernelspec": {
   "display_name": "Python 3",
   "language": "python",
   "name": "python3"
  },
  "language_info": {
   "codemirror_mode": {
    "name": "ipython",
    "version": 3
   },
   "file_extension": ".py",
   "mimetype": "text/x-python",
   "name": "python",
   "nbconvert_exporter": "python",
   "pygments_lexer": "ipython3",
   "version": "3.7.1"
  },
  "toc": {
   "base_numbering": 1,
   "nav_menu": {},
   "number_sections": true,
   "sideBar": true,
   "skip_h1_title": false,
   "title_cell": "Table of Contents",
   "title_sidebar": "Contents",
   "toc_cell": false,
   "toc_position": {},
   "toc_section_display": true,
   "toc_window_display": false
  }
 },
 "nbformat": 4,
 "nbformat_minor": 2
}
