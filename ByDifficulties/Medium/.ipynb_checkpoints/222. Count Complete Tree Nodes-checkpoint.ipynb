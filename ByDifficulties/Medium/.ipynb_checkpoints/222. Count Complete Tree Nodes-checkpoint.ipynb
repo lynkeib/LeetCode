{
 "cells": [
  {
   "cell_type": "code",
   "execution_count": 1,
   "metadata": {
    "ExecuteTime": {
     "end_time": "2019-09-04T23:23:05.309033Z",
     "start_time": "2019-09-04T23:23:05.302961Z"
    }
   },
   "outputs": [],
   "source": [
    "# Definition for a binary tree node.\n",
    "# class TreeNode(object):\n",
    "#     def __init__(self, x):\n",
    "#         self.val = x\n",
    "#         self.left = None\n",
    "#         self.right = None\n",
    "\n",
    "class Solution(object):\n",
    "    def countNodes(self, root):\n",
    "        \"\"\"\n",
    "        :type root: TreeNode\n",
    "        :rtype: int\n",
    "        \"\"\"\n",
    "        if not root:\n",
    "            return 0\n",
    "        queue = [root]\n",
    "        count = 0\n",
    "        while queue:\n",
    "            next_queue = []\n",
    "            count += len(queue)\n",
    "            for root in queue:\n",
    "                if root.left:\n",
    "                    next_queue.append(root.left)\n",
    "                if root.right:\n",
    "                    next_queue.append(root.right)\n",
    "            queue = next_queue\n",
    "        return count"
   ]
  },
  {
   "cell_type": "markdown",
   "metadata": {},
   "source": [
    "# Method from Discussion"
   ]
  },
  {
   "cell_type": "markdown",
   "metadata": {},
   "source": [
    "Say we have a complete binary tree, then the number of nodes in the subtree is $2^{(h-1)}-1$ if the subtree is full filled, h is the current height (here we consider the height of leaves as 1)  \n",
    "Say we are currently at a node, and the left subtree has 1 more height than the right subtree (or the right subtree has 1 height less than the current root), then we can be sure that the left subtree is full filled (due to the definition of complete binary tree), so we can add $2^{(h-1)}-1$ (nodes from left subtree) and 1 (from current root) to the current count, the next thing we only need to consider is the right subtree by following the same rule; if the height of right has 2 heights less than the current root, then we know the right subtree does not have the bottom nodes, then we can add $2^{(h-2)}-1$ and 1 (from current root) to the current count, the next thing we need to consider is to confirm if the left subtree is full filled.  \n",
    "By doing this, we can always divide the current problem into half, and in each step, we need to find the height of the current tree, so in total we have time complexity of $O(log(n)^2)$"
   ]
  },
  {
   "cell_type": "code",
   "execution_count": 2,
   "metadata": {
    "ExecuteTime": {
     "end_time": "2019-09-05T01:51:51.762548Z",
     "start_time": "2019-09-05T01:51:51.756700Z"
    }
   },
   "outputs": [],
   "source": [
    "# Definition for a binary tree node.\n",
    "# class TreeNode(object):\n",
    "#     def __init__(self, x):\n",
    "#         self.val = x\n",
    "#         self.left = None\n",
    "#         self.right = None\n",
    "\n",
    "class Solution(object):\n",
    "    def countNodes(self, root):\n",
    "        \"\"\"\n",
    "        :type root: TreeNode\n",
    "        :rtype: int\n",
    "        \"\"\"\n",
    "        if not root:\n",
    "            return 0\n",
    "        \n",
    "        height = self.height(root)\n",
    "        right = self.height(root.right)\n",
    "        \n",
    "        if height - 1 == right:\n",
    "            #print('add left', 2 ** (height - 1) )\n",
    "            return 2 ** (height - 1) + self.countNodes(root.right)\n",
    "        #print('add right', 2 ** (height - 2) )\n",
    "        return 2 ** (height - 2) + self.countNodes(root.left)\n",
    "            \n",
    "    def height(self, root):\n",
    "        if not root:\n",
    "            return 0\n",
    "        return self.height(root.left) + 1"
   ]
  },
  {
   "cell_type": "code",
   "execution_count": null,
   "metadata": {},
   "outputs": [],
   "source": []
  }
 ],
 "metadata": {
  "kernelspec": {
   "display_name": "Python 3",
   "language": "python",
   "name": "python3"
  },
  "language_info": {
   "codemirror_mode": {
    "name": "ipython",
    "version": 3
   },
   "file_extension": ".py",
   "mimetype": "text/x-python",
   "name": "python",
   "nbconvert_exporter": "python",
   "pygments_lexer": "ipython3",
   "version": "3.7.1"
  },
  "toc": {
   "base_numbering": 1,
   "nav_menu": {},
   "number_sections": true,
   "sideBar": true,
   "skip_h1_title": false,
   "title_cell": "Table of Contents",
   "title_sidebar": "Contents",
   "toc_cell": false,
   "toc_position": {},
   "toc_section_display": true,
   "toc_window_display": false
  }
 },
 "nbformat": 4,
 "nbformat_minor": 2
}
