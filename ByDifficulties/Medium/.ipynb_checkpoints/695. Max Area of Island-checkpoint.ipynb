{
 "cells": [
  {
   "cell_type": "code",
   "execution_count": 1,
   "metadata": {},
   "outputs": [],
   "source": [
    "class Solution(object):\n",
    "    def maxAreaOfIsland(self, grid):\n",
    "        \"\"\"\n",
    "        :type grid: List[List[int]]\n",
    "        :rtype: int\n",
    "        \"\"\"\n",
    "        max_ = -float('inf')\n",
    "        for i in range(len(grid)):\n",
    "            for j in range(len(grid[0])):\n",
    "                max_ = max(max_, self.dfs(grid, i, j))\n",
    "        return max_\n",
    "    \n",
    "    def dfs(self, grid, i, j):\n",
    "        if i > - 1 and i < len(grid) and j > -1 and j < len(grid[0]) and grid[i][j] == 1:\n",
    "            grid[i][j] = 0\n",
    "            return 1 + self.dfs(grid, i - 1, j) + self.dfs(grid, i + 1, j) + self.dfs(grid, i, j - 1) + self.dfs(grid, i, j + 1)\n",
    "        return 0"
   ]
  },
  {
   "cell_type": "code",
   "execution_count": 1,
   "metadata": {
    "ExecuteTime": {
     "end_time": "2019-09-08T03:31:46.499988Z",
     "start_time": "2019-09-08T03:31:46.490468Z"
    }
   },
   "outputs": [],
   "source": [
    "class Solution(object):\n",
    "    def maxAreaOfIsland(self, grid):\n",
    "        \"\"\"\n",
    "        :type grid: List[List[int]]\n",
    "        :rtype: int\n",
    "        \"\"\"\n",
    "        res = 0\n",
    "        for x in range(len(grid)):\n",
    "            for y in range(len(grid[0])):\n",
    "                if grid[x][y] == 1:\n",
    "                    res = max(res, self.dfs(x, y, grid))\n",
    "        return res\n",
    "    \n",
    "    def dfs(self, x, y, grid):\n",
    "        grid[x][y] = 0\n",
    "        res = 1\n",
    "        # up\n",
    "        if x - 1 >= 0 and grid[x-1][y] == 1:\n",
    "            res += self.dfs(x-1,y,grid)\n",
    "        # down\n",
    "        if x + 1 < len(grid) and grid[x+1][y] == 1:\n",
    "            res += self.dfs(x+1, y, grid)\n",
    "        # left\n",
    "        if y - 1 >= 0 and grid[x][y - 1] == 1:\n",
    "            res += self.dfs(x, y-1, grid)\n",
    "        # right\n",
    "        if y + 1 < len(grid[0]) and grid[x][y+1] == 1:\n",
    "            res += self.dfs(x, y + 1, grid)\n",
    "        return res\n",
    "        "
   ]
  },
  {
   "cell_type": "code",
   "execution_count": null,
   "metadata": {},
   "outputs": [],
   "source": []
  }
 ],
 "metadata": {
  "kernelspec": {
   "display_name": "Python 3",
   "language": "python",
   "name": "python3"
  },
  "language_info": {
   "codemirror_mode": {
    "name": "ipython",
    "version": 3
   },
   "file_extension": ".py",
   "mimetype": "text/x-python",
   "name": "python",
   "nbconvert_exporter": "python",
   "pygments_lexer": "ipython3",
   "version": "3.7.1"
  },
  "toc": {
   "base_numbering": 1,
   "nav_menu": {},
   "number_sections": true,
   "sideBar": true,
   "skip_h1_title": false,
   "title_cell": "Table of Contents",
   "title_sidebar": "Contents",
   "toc_cell": false,
   "toc_position": {},
   "toc_section_display": true,
   "toc_window_display": false
  }
 },
 "nbformat": 4,
 "nbformat_minor": 2
}
