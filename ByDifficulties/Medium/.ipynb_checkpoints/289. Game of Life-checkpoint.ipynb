{
 "cells": [
  {
   "cell_type": "code",
   "execution_count": 4,
   "metadata": {},
   "outputs": [],
   "source": [
    "class Solution(object):\n",
    "    def gameOfLife(self, board):\n",
    "        \"\"\"\n",
    "        :type board: List[List[int]]\n",
    "        :rtype: None Do not return anything, modify board in-place instead.\n",
    "        \"\"\"\n",
    "        if not board:\n",
    "            return\n",
    "        row, column = len(board), len(board[0])\n",
    "        for i in range(row):\n",
    "            for j in range(column):\n",
    "                lives = self.countlives(board, row, column, i, j)\n",
    "                if lives == 3 and board[i][j] & 1 == 0:\n",
    "                    board[i][j] = 2\n",
    "                if (lives >= 2 and lives <= 3) and (board[i][j] & 1 == 1):\n",
    "                    board[i][j] = 3\n",
    "        for i in range(row):\n",
    "            for j in range(column):\n",
    "                board[i][j] >>= 1\n",
    "    \n",
    "    def countlives(self, board, row, column, i, j):\n",
    "        lives = 0\n",
    "        for x in range(max(0, i - 1), min(row - 1, i + 1) + 1):\n",
    "            for y in range(max(0, j - 1), min(column - 1, j + 1) + 1):\n",
    "                lives += board[x][y] & 1\n",
    "        lives -= board[i][j] & 1\n",
    "        return lives"
   ]
  },
  {
   "cell_type": "code",
   "execution_count": 1,
   "metadata": {
    "ExecuteTime": {
     "end_time": "2019-09-05T20:01:26.320539Z",
     "start_time": "2019-09-05T20:01:26.308505Z"
    }
   },
   "outputs": [],
   "source": [
    "class Solution(object):\n",
    "    def gameOfLife(self, board):\n",
    "        \"\"\"\n",
    "        :type board: List[List[int]]\n",
    "        :rtype: None Do not return anything, modify board in-place instead.\n",
    "        \"\"\"\n",
    "        for x in range(len(board)):\n",
    "            for y in range(len(board[0])):\n",
    "                next_state = self.next_state(x, y, board)\n",
    "                board[x][y] |= (next_state << 1)\n",
    "        print(board)\n",
    "        for x in range(len(board)):\n",
    "            for y in range(len(board[0])):\n",
    "                board[x][y] = board[x][y] >> 1\n",
    "        return \n",
    "                \n",
    "    def next_state(self, x, y, board):\n",
    "        live, death = 0, 0\n",
    "        for xx in range(x-1, x + 2):\n",
    "            if xx < 0 or xx > len(board) - 1:\n",
    "                continue\n",
    "            for yy in range(y - 1, y + 2):\n",
    "                if yy < 0 or yy > len(board[0]) - 1 or (xx == x and yy == y):\n",
    "                    continue\n",
    "                if board[xx][yy] in [1,3]:\n",
    "                    live += 1\n",
    "                else:\n",
    "                    death += 1\n",
    "        # print(x, y, board[x][y], live, death)\n",
    "        if board[x][y] == 0 and live == 3:\n",
    "            return 1\n",
    "        elif board[x][y] == 1 and (live < 2 or live > 3):\n",
    "            return 0\n",
    "        return board[x][y]"
   ]
  },
  {
   "cell_type": "code",
   "execution_count": null,
   "metadata": {},
   "outputs": [],
   "source": []
  }
 ],
 "metadata": {
  "kernelspec": {
   "display_name": "Python 3",
   "language": "python",
   "name": "python3"
  },
  "language_info": {
   "codemirror_mode": {
    "name": "ipython",
    "version": 3
   },
   "file_extension": ".py",
   "mimetype": "text/x-python",
   "name": "python",
   "nbconvert_exporter": "python",
   "pygments_lexer": "ipython3",
   "version": "3.7.1"
  },
  "toc": {
   "base_numbering": 1,
   "nav_menu": {},
   "number_sections": true,
   "sideBar": true,
   "skip_h1_title": false,
   "title_cell": "Table of Contents",
   "title_sidebar": "Contents",
   "toc_cell": false,
   "toc_position": {},
   "toc_section_display": true,
   "toc_window_display": false
  }
 },
 "nbformat": 4,
 "nbformat_minor": 2
}
