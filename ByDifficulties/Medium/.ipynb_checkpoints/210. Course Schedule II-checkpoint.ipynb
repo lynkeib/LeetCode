{
 "cells": [
  {
   "cell_type": "code",
   "execution_count": 1,
   "metadata": {
    "ExecuteTime": {
     "end_time": "2019-09-09T17:50:07.235201Z",
     "start_time": "2019-09-09T17:50:07.226939Z"
    }
   },
   "outputs": [],
   "source": [
    "class Solution(object):\n",
    "    def findOrder(self, numCourses, prerequisites):\n",
    "        \"\"\"\n",
    "        :type numCourses: int\n",
    "        :type prerequisites: List[List[int]]\n",
    "        :rtype: List[int]\n",
    "        \"\"\"\n",
    "        G = {i:[] for i in range(numCourses)}\n",
    "        indegree = {i:0 for i in range(numCourses)}\n",
    "        for course, pre in prerequisites:\n",
    "            G[pre] += [course]\n",
    "            indegree[course] +=1\n",
    "        # print(G)\n",
    "        # print(indegree)\n",
    "        start = [key for key, value in indegree.items() if value == 0]\n",
    "        res = []\n",
    "        while start:\n",
    "            res += start\n",
    "            next_start = []\n",
    "            for node in start:\n",
    "                for n in G[node]:\n",
    "                    indegree[n] -= 1\n",
    "                    if indegree[n] == 0:\n",
    "                        next_start.append(n)\n",
    "            start = next_start\n",
    "        if sum(indegree.values()) != 0:\n",
    "            return []\n",
    "        return res"
   ]
  },
  {
   "cell_type": "code",
   "execution_count": null,
   "metadata": {},
   "outputs": [],
   "source": []
  }
 ],
 "metadata": {
  "kernelspec": {
   "display_name": "Python 3",
   "language": "python",
   "name": "python3"
  },
  "language_info": {
   "codemirror_mode": {
    "name": "ipython",
    "version": 3
   },
   "file_extension": ".py",
   "mimetype": "text/x-python",
   "name": "python",
   "nbconvert_exporter": "python",
   "pygments_lexer": "ipython3",
   "version": "3.7.1"
  },
  "toc": {
   "base_numbering": 1,
   "nav_menu": {},
   "number_sections": true,
   "sideBar": true,
   "skip_h1_title": false,
   "title_cell": "Table of Contents",
   "title_sidebar": "Contents",
   "toc_cell": false,
   "toc_position": {},
   "toc_section_display": true,
   "toc_window_display": false
  }
 },
 "nbformat": 4,
 "nbformat_minor": 2
}
