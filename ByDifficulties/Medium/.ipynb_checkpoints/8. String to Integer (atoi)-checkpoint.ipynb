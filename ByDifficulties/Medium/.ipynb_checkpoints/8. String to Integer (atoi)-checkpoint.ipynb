{
 "cells": [
  {
   "cell_type": "code",
   "execution_count": 1,
   "metadata": {
    "ExecuteTime": {
     "end_time": "2019-09-06T09:34:11.806844Z",
     "start_time": "2019-09-06T09:34:11.795798Z"
    }
   },
   "outputs": [],
   "source": [
    "class Solution(object):\n",
    "    def myAtoi(self, str):\n",
    "        \"\"\"\n",
    "        :type str: str\n",
    "        :rtype: int\n",
    "        \"\"\"\n",
    "        # return \n",
    "        if not str:\n",
    "            return 0\n",
    "        index = 0\n",
    "        while index < len(str):\n",
    "            if str[index] == ' ':\n",
    "                index += 1\n",
    "                continue\n",
    "            if str[index].isalpha() or (str[index] not in '-+' and not str[index].isdigit()):\n",
    "                return 0\n",
    "            if str[index].isdigit() or str[index] in '-+':\n",
    "                break\n",
    "            index += 1\n",
    "        if index == len(str):\n",
    "            return 0\n",
    "        sign = 0\n",
    "        if str[index] in '+-':\n",
    "            sign = str[index]\n",
    "            index += 1\n",
    "        start = index\n",
    "        while index < len(str) and str[index].isdigit():\n",
    "            index += 1\n",
    "        end = index\n",
    "        \n",
    "        num = str[start:end]\n",
    "        if sign and not num:\n",
    "            return 0\n",
    "        if sign:\n",
    "            if sign == '+':\n",
    "                if int(num) > 2**31-1:\n",
    "                    return 2**31-1\n",
    "                return int(num)\n",
    "            else:\n",
    "                if -int(num) < -(2**31):\n",
    "                    return -(2**31)\n",
    "                return -int(num)\n",
    "        else:\n",
    "            if int(num) > 2**31-1:\n",
    "                    return 2**31-1\n",
    "            return int(num)\n",
    "        return \n",
    "            "
   ]
  },
  {
   "cell_type": "code",
   "execution_count": null,
   "metadata": {},
   "outputs": [],
   "source": []
  }
 ],
 "metadata": {
  "kernelspec": {
   "display_name": "Python 3",
   "language": "python",
   "name": "python3"
  },
  "language_info": {
   "codemirror_mode": {
    "name": "ipython",
    "version": 3
   },
   "file_extension": ".py",
   "mimetype": "text/x-python",
   "name": "python",
   "nbconvert_exporter": "python",
   "pygments_lexer": "ipython3",
   "version": "3.7.1"
  },
  "toc": {
   "base_numbering": 1,
   "nav_menu": {},
   "number_sections": true,
   "sideBar": true,
   "skip_h1_title": false,
   "title_cell": "Table of Contents",
   "title_sidebar": "Contents",
   "toc_cell": false,
   "toc_position": {},
   "toc_section_display": true,
   "toc_window_display": false
  }
 },
 "nbformat": 4,
 "nbformat_minor": 2
}
