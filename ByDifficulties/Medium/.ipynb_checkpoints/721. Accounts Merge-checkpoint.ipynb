{
 "cells": [
  {
   "cell_type": "code",
   "execution_count": 1,
   "metadata": {
    "ExecuteTime": {
     "end_time": "2019-09-09T05:04:59.383476Z",
     "start_time": "2019-09-09T05:04:59.372555Z"
    }
   },
   "outputs": [],
   "source": [
    "class DisjointSet(object):\n",
    "    def __init__(self, size):\n",
    "        self.data = [i for i in range(size)]\n",
    "        \n",
    "    def Find(self, index):\n",
    "        while index != self.data[index]:\n",
    "            index = self.data[index]\n",
    "        return index\n",
    "\n",
    "    def Union(self, index1, index2):\n",
    "        p1 = self.Find(index1)\n",
    "        p2 = self.Find(index2)\n",
    "        if p1 != p2:\n",
    "            \n",
    "            self.data[p2] = self.data[p1]\n",
    "            # print(self.data)\n",
    "            # print('Union', p1, p2)\n",
    "        return\n",
    "    \n",
    "class Solution(object):\n",
    "    def accountsMerge(self, accounts):\n",
    "        \"\"\"\n",
    "        :type accounts: List[List[str]]\n",
    "        :rtype: List[List[str]]\n",
    "        \"\"\"\n",
    "        ds = DisjointSet(len(accounts))\n",
    "        mailDic = dict()\n",
    "        for acc_index in range(len(accounts)):\n",
    "            for mail in accounts[acc_index][1:]:\n",
    "                if mail in mailDic:\n",
    "                    ds.Union(mailDic[mail], acc_index)\n",
    "                    mailDic[mail] = acc_index\n",
    "                else:\n",
    "                    mailDic[mail] = acc_index\n",
    "        \n",
    "        res_dic = collections.defaultdict(list)\n",
    "        \n",
    "        for email, index in mailDic.items():\n",
    "            res_dic[ds.data[ds.Find(index)]].append(email)\n",
    "        \n",
    "        # print(res_dic)\n",
    "        \n",
    "        res = [[accounts[key][0]] + sorted(value) for key, value in res_dic.items()]\n",
    "        return res"
   ]
  },
  {
   "cell_type": "code",
   "execution_count": null,
   "metadata": {},
   "outputs": [],
   "source": []
  }
 ],
 "metadata": {
  "kernelspec": {
   "display_name": "Python 3",
   "language": "python",
   "name": "python3"
  },
  "language_info": {
   "codemirror_mode": {
    "name": "ipython",
    "version": 3
   },
   "file_extension": ".py",
   "mimetype": "text/x-python",
   "name": "python",
   "nbconvert_exporter": "python",
   "pygments_lexer": "ipython3",
   "version": "3.7.1"
  },
  "toc": {
   "base_numbering": 1,
   "nav_menu": {},
   "number_sections": true,
   "sideBar": true,
   "skip_h1_title": false,
   "title_cell": "Table of Contents",
   "title_sidebar": "Contents",
   "toc_cell": false,
   "toc_position": {},
   "toc_section_display": true,
   "toc_window_display": false
  }
 },
 "nbformat": 4,
 "nbformat_minor": 2
}
