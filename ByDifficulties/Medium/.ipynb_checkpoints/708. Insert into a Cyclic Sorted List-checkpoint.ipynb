{
 "cells": [
  {
   "cell_type": "code",
   "execution_count": 1,
   "metadata": {
    "ExecuteTime": {
     "end_time": "2019-09-09T22:43:48.470086Z",
     "start_time": "2019-09-09T22:43:48.461568Z"
    }
   },
   "outputs": [],
   "source": [
    "\"\"\"\n",
    "# Definition for a Node.\n",
    "class Node(object):\n",
    "    def __init__(self, val, next):\n",
    "        self.val = val\n",
    "        self.next = next\n",
    "\"\"\"\n",
    "class Solution(object):\n",
    "    def insert(self, head, insertVal):\n",
    "        \"\"\"\n",
    "        :type head: Node\n",
    "        :type insertVal: int\n",
    "        :rtype: Node\n",
    "        \"\"\"\n",
    "        if not head:\n",
    "            res = Node(insertVal)\n",
    "            res.next = res\n",
    "            return res\n",
    "        curr = head\n",
    "        \n",
    "        if head == head.next:\n",
    "            new_node = Node(insertVal)\n",
    "            new_node.next = head\n",
    "            head.next = new_node\n",
    "            return head\n",
    "        \n",
    "        temp = curr\n",
    "        start_flag = 1\n",
    "        while curr.next.val >= curr.val and (curr != temp or start_flag == 1):\n",
    "            start_flag = 0\n",
    "            curr = curr.next\n",
    "            \n",
    "        # last_point = curr\n",
    "        \n",
    "        if insertVal <= curr.next.val or insertVal >= curr.val:\n",
    "            begin = curr.next\n",
    "            new_node = Node(insertVal)\n",
    "            curr.next = new_node\n",
    "            new_node.next = begin\n",
    "            return head\n",
    "            \n",
    "        while curr.next and insertVal > curr.next.val:\n",
    "            # prev = curr\n",
    "            curr = curr.next\n",
    "        \n",
    "        next_node = curr.next\n",
    "        new_node = Node(insertVal)\n",
    "        curr.next = new_node\n",
    "        new_node.next = next_node\n",
    "        return head"
   ]
  },
  {
   "cell_type": "code",
   "execution_count": null,
   "metadata": {},
   "outputs": [],
   "source": []
  }
 ],
 "metadata": {
  "kernelspec": {
   "display_name": "Python 3",
   "language": "python",
   "name": "python3"
  },
  "language_info": {
   "codemirror_mode": {
    "name": "ipython",
    "version": 3
   },
   "file_extension": ".py",
   "mimetype": "text/x-python",
   "name": "python",
   "nbconvert_exporter": "python",
   "pygments_lexer": "ipython3",
   "version": "3.7.1"
  },
  "toc": {
   "base_numbering": 1,
   "nav_menu": {},
   "number_sections": true,
   "sideBar": true,
   "skip_h1_title": false,
   "title_cell": "Table of Contents",
   "title_sidebar": "Contents",
   "toc_cell": false,
   "toc_position": {},
   "toc_section_display": true,
   "toc_window_display": false
  }
 },
 "nbformat": 4,
 "nbformat_minor": 2
}
