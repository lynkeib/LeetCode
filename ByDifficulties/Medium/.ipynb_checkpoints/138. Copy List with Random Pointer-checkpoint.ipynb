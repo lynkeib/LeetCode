{
 "cells": [
  {
   "cell_type": "code",
   "execution_count": 1,
   "metadata": {
    "ExecuteTime": {
     "end_time": "2019-08-27T21:39:20.496665Z",
     "start_time": "2019-08-27T21:39:20.490445Z"
    }
   },
   "outputs": [],
   "source": [
    "\"\"\"\n",
    "# Definition for a Node.\n",
    "class Node(object):\n",
    "    def __init__(self, val, next, random):\n",
    "        self.val = val\n",
    "        self.next = next\n",
    "        self.random = random\n",
    "\"\"\"\n",
    "class Solution(object):\n",
    "    def copyRandomList(self, head):\n",
    "        \"\"\"\n",
    "        :type head: Node\n",
    "        :rtype: Node\n",
    "        \"\"\"\n",
    "        mapping = dict()\n",
    "        mapping[None] = None\n",
    "        curr = head\n",
    "        while curr:\n",
    "            mapping[curr] = Node(curr.val, None, None)\n",
    "            curr = curr.next\n",
    "        curr = head\n",
    "        while curr:\n",
    "            mapping[curr].next = mapping[curr.next]\n",
    "            mapping[curr].random = mapping[curr.random]\n",
    "            curr = curr.next\n",
    "        return mapping[head]"
   ]
  },
  {
   "cell_type": "code",
   "execution_count": 2,
   "metadata": {
    "ExecuteTime": {
     "end_time": "2019-09-06T05:45:16.020816Z",
     "start_time": "2019-09-06T05:45:16.013207Z"
    }
   },
   "outputs": [],
   "source": [
    "\"\"\"\n",
    "# Definition for a Node.\n",
    "class Node(object):\n",
    "    def __init__(self, val, next, random):\n",
    "        self.val = val\n",
    "        self.next = next\n",
    "        self.random = random\n",
    "\"\"\"\n",
    "class Solution(object):\n",
    "    def copyRandomList(self, head):\n",
    "        \"\"\"\n",
    "        :type head: Node\n",
    "        :rtype: Node\n",
    "        \"\"\"\n",
    "        dic = dict()\n",
    "        dic[None] = None\n",
    "        curr = head\n",
    "        while curr:\n",
    "            dic[curr] = Node(None, None, None)\n",
    "            curr = curr.next\n",
    "        curr=head\n",
    "        while curr:\n",
    "            dic[curr].val = curr.val\n",
    "            dic[curr].next = dic[curr.next]\n",
    "            dic[curr].random = dic[curr.random]\n",
    "            curr= curr.next\n",
    "        return dic[head]"
   ]
  },
  {
   "cell_type": "code",
   "execution_count": null,
   "metadata": {},
   "outputs": [],
   "source": []
  }
 ],
 "metadata": {
  "kernelspec": {
   "display_name": "Python 3",
   "language": "python",
   "name": "python3"
  },
  "language_info": {
   "codemirror_mode": {
    "name": "ipython",
    "version": 3
   },
   "file_extension": ".py",
   "mimetype": "text/x-python",
   "name": "python",
   "nbconvert_exporter": "python",
   "pygments_lexer": "ipython3",
   "version": "3.7.1"
  },
  "toc": {
   "base_numbering": 1,
   "nav_menu": {},
   "number_sections": true,
   "sideBar": true,
   "skip_h1_title": false,
   "title_cell": "Table of Contents",
   "title_sidebar": "Contents",
   "toc_cell": false,
   "toc_position": {},
   "toc_section_display": true,
   "toc_window_display": false
  }
 },
 "nbformat": 4,
 "nbformat_minor": 2
}
