{
 "cells": [
  {
   "cell_type": "code",
   "execution_count": 1,
   "metadata": {
    "ExecuteTime": {
     "end_time": "2019-09-07T08:31:14.283029Z",
     "start_time": "2019-09-07T08:31:14.274652Z"
    }
   },
   "outputs": [],
   "source": [
    "class LogSystem(object):\n",
    "\n",
    "    def __init__(self):\n",
    "        self.log = []\n",
    "        self.po = {\"Year\":4, \"Month\":7, \"Day\":10, \"Hour\":13, \"Minute\":16, \"Second\":19}\n",
    "    def put(self, id, timestamp):\n",
    "        \"\"\"\n",
    "        :type id: int\n",
    "        :type timestamp: str\n",
    "        :rtype: None\n",
    "        \"\"\"\n",
    "        self.log.append((id, timestamp))\n",
    "\n",
    "    def retrieve(self, s, e, gra):\n",
    "        \"\"\"\n",
    "        :type s: str\n",
    "        :type e: str\n",
    "        :type gra: str\n",
    "        :rtype: List[int]\n",
    "        \"\"\"\n",
    "        index = self.po[gra]\n",
    "        s = s[:index]\n",
    "        e = e[:index]\n",
    "        \n",
    "        return [id for id, time in self.log if (time[:index] >= s and time[:index] <= e)][::-1]\n",
    "\n",
    "\n",
    "# Your LogSystem object will be instantiated and called as such:\n",
    "# obj = LogSystem()\n",
    "# obj.put(id,timestamp)\n",
    "# param_2 = obj.retrieve(s,e,gra)"
   ]
  },
  {
   "cell_type": "code",
   "execution_count": null,
   "metadata": {},
   "outputs": [],
   "source": []
  }
 ],
 "metadata": {
  "kernelspec": {
   "display_name": "Python 3",
   "language": "python",
   "name": "python3"
  },
  "language_info": {
   "codemirror_mode": {
    "name": "ipython",
    "version": 3
   },
   "file_extension": ".py",
   "mimetype": "text/x-python",
   "name": "python",
   "nbconvert_exporter": "python",
   "pygments_lexer": "ipython3",
   "version": "3.7.1"
  },
  "toc": {
   "base_numbering": 1,
   "nav_menu": {},
   "number_sections": true,
   "sideBar": true,
   "skip_h1_title": false,
   "title_cell": "Table of Contents",
   "title_sidebar": "Contents",
   "toc_cell": false,
   "toc_position": {},
   "toc_section_display": true,
   "toc_window_display": false
  }
 },
 "nbformat": 4,
 "nbformat_minor": 2
}
