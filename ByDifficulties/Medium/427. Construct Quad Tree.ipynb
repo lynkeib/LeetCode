{
 "cells": [
  {
   "cell_type": "code",
   "execution_count": 1,
   "metadata": {
    "ExecuteTime": {
     "end_time": "2019-09-07T03:04:00.487512Z",
     "start_time": "2019-09-07T03:04:00.478244Z"
    }
   },
   "outputs": [],
   "source": [
    "\"\"\"\n",
    "# Definition for a QuadTree node.\n",
    "class Node(object):\n",
    "    def __init__(self, val, isLeaf, topLeft, topRight, bottomLeft, bottomRight):\n",
    "        self.val = val\n",
    "        self.isLeaf = isLeaf\n",
    "        self.topLeft = topLeft\n",
    "        self.topRight = topRight\n",
    "        self.bottomLeft = bottomLeft\n",
    "        self.bottomRight = bottomRight\n",
    "\"\"\"\n",
    "class Solution(object):\n",
    "    def construct(self, grid):\n",
    "        \"\"\"\n",
    "        :type grid: List[List[int]]\n",
    "        :rtype: Node\n",
    "        \"\"\"\n",
    "        # print(grid)\n",
    "        if not grid:\n",
    "            return\n",
    "        if self.isLeaf(grid):\n",
    "            return Node(grid[0][0], True, None, None, None, None)\n",
    "        \n",
    "        n = len(grid)\n",
    "        return Node('*', False, self.construct([row[:n//2] for row in grid[:n//2]]), \n",
    "                   self.construct([row[n//2:] for row in grid[:n//2]]),\n",
    "                   self.construct([row[:n//2] for row in grid[n//2:]]),\n",
    "                    self.construct([row[n//2:] for row in grid[n//2:]]))\n",
    "        \n",
    "        \n",
    "        return \n",
    "\n",
    "    def isLeaf(self, grid):\n",
    "        return all(grid[x][y] == grid[0][0] for x in range(len(grid)) for y in range(len(grid[0])))"
   ]
  },
  {
   "cell_type": "code",
   "execution_count": null,
   "metadata": {},
   "outputs": [],
   "source": []
  }
 ],
 "metadata": {
  "kernelspec": {
   "display_name": "Python 3",
   "language": "python",
   "name": "python3"
  },
  "language_info": {
   "codemirror_mode": {
    "name": "ipython",
    "version": 3
   },
   "file_extension": ".py",
   "mimetype": "text/x-python",
   "name": "python",
   "nbconvert_exporter": "python",
   "pygments_lexer": "ipython3",
   "version": "3.7.1"
  },
  "toc": {
   "base_numbering": 1,
   "nav_menu": {},
   "number_sections": true,
   "sideBar": true,
   "skip_h1_title": false,
   "title_cell": "Table of Contents",
   "title_sidebar": "Contents",
   "toc_cell": false,
   "toc_position": {},
   "toc_section_display": true,
   "toc_window_display": false
  }
 },
 "nbformat": 4,
 "nbformat_minor": 2
}
