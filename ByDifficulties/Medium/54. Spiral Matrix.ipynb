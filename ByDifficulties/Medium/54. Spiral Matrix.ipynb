{
 "cells": [
  {
   "cell_type": "code",
   "execution_count": 1,
   "metadata": {
    "ExecuteTime": {
     "end_time": "2019-09-05T23:14:46.612209Z",
     "start_time": "2019-09-05T23:14:46.601266Z"
    }
   },
   "outputs": [],
   "source": [
    "class Solution(object):\n",
    "    def spiralOrder(self, matrix):\n",
    "        \"\"\"\n",
    "        :type matrix: List[List[int]]\n",
    "        :rtype: List[int]\n",
    "        \"\"\"\n",
    "        res = []\n",
    "        x, y = 0, 0\n",
    "        ## begin condition\n",
    "        while x > -1 and x < len(matrix) and y > -1 and y < len(matrix[0]) and matrix[x][y] != '#':\n",
    "            # print(matrix)\n",
    "            ## go right\n",
    "            while y < len(matrix[0]) - 1 and matrix[x][y+1] != '#':\n",
    "                res.append(matrix[x][y])\n",
    "                matrix[x][y] = '#'\n",
    "                y += 1\n",
    "            # print(matrix)\n",
    "            # go down\n",
    "            while x < len(matrix) - 1 and matrix[x+1][y] != '#':\n",
    "                res.append(matrix[x][y])\n",
    "                matrix[x][y] = '#'\n",
    "                x += 1\n",
    "            # print(matrix)\n",
    "            # go left\n",
    "            while y > 0 and matrix[x][y-1] != '#':\n",
    "                res.append(matrix[x][y])\n",
    "                matrix[x][y] = '#'\n",
    "                y -= 1\n",
    "            # print(matrix)\n",
    "            # go up\n",
    "            while x > 0 and matrix[x-1][y] != '#':\n",
    "                res.append(matrix[x][y])\n",
    "                matrix[x][y] = '#'\n",
    "                x -= 1\n",
    "            res.append(matrix[x][y])\n",
    "            matrix[x][y] = '#'\n",
    "            y += 1\n",
    "            # print(matrix)\n",
    "            \n",
    "        return res"
   ]
  },
  {
   "cell_type": "code",
   "execution_count": null,
   "metadata": {},
   "outputs": [],
   "source": []
  }
 ],
 "metadata": {
  "kernelspec": {
   "display_name": "Python 3",
   "language": "python",
   "name": "python3"
  },
  "language_info": {
   "codemirror_mode": {
    "name": "ipython",
    "version": 3
   },
   "file_extension": ".py",
   "mimetype": "text/x-python",
   "name": "python",
   "nbconvert_exporter": "python",
   "pygments_lexer": "ipython3",
   "version": "3.7.1"
  },
  "toc": {
   "base_numbering": 1,
   "nav_menu": {},
   "number_sections": true,
   "sideBar": true,
   "skip_h1_title": false,
   "title_cell": "Table of Contents",
   "title_sidebar": "Contents",
   "toc_cell": false,
   "toc_position": {},
   "toc_section_display": true,
   "toc_window_display": false
  }
 },
 "nbformat": 4,
 "nbformat_minor": 2
}
