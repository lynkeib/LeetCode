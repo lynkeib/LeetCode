{
 "cells": [
  {
   "cell_type": "markdown",
   "metadata": {},
   "source": [
    "# TLE"
   ]
  },
  {
   "cell_type": "code",
   "execution_count": 1,
   "metadata": {
    "ExecuteTime": {
     "end_time": "2019-09-09T07:12:33.571708Z",
     "start_time": "2019-09-09T07:12:33.563476Z"
    }
   },
   "outputs": [],
   "source": [
    "class Solution(object):\n",
    "    def findDiagonalOrder(self, matrix):\n",
    "        \"\"\"\n",
    "        :type matrix: List[List[int]]\n",
    "        :rtype: List[int]\n",
    "        \"\"\"\n",
    "        if not matrix:\n",
    "            return []\n",
    "        res = []\n",
    "        total = (max(len(matrix), len(matrix[0])))*2+1\n",
    "        print(total)\n",
    "        for s in range(total):\n",
    "            if s % 2 == 0:\n",
    "                for index in range(s, -1, -1):\n",
    "                    if index < len(matrix) and s-index < len(matrix[0]):\n",
    "                        # print(index, s-index)\n",
    "                        res.append(matrix[index][s-index])\n",
    "            else:\n",
    "                for index in range(s+1):\n",
    "                    if index < len(matrix) and s-index < len(matrix[0]):\n",
    "                        # print(index, s-index)\n",
    "                        res.append(matrix[index][s-index])\n",
    "        return res"
   ]
  },
  {
   "cell_type": "code",
   "execution_count": null,
   "metadata": {},
   "outputs": [],
   "source": []
  }
 ],
 "metadata": {
  "kernelspec": {
   "display_name": "Python 3",
   "language": "python",
   "name": "python3"
  },
  "language_info": {
   "codemirror_mode": {
    "name": "ipython",
    "version": 3
   },
   "file_extension": ".py",
   "mimetype": "text/x-python",
   "name": "python",
   "nbconvert_exporter": "python",
   "pygments_lexer": "ipython3",
   "version": "3.7.1"
  },
  "toc": {
   "base_numbering": 1,
   "nav_menu": {},
   "number_sections": true,
   "sideBar": true,
   "skip_h1_title": false,
   "title_cell": "Table of Contents",
   "title_sidebar": "Contents",
   "toc_cell": false,
   "toc_position": {},
   "toc_section_display": true,
   "toc_window_display": false
  }
 },
 "nbformat": 4,
 "nbformat_minor": 2
}
