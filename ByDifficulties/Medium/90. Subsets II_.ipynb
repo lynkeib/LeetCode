{
 "cells": [
  {
   "cell_type": "code",
   "execution_count": 1,
   "metadata": {
    "ExecuteTime": {
     "end_time": "2019-08-30T17:21:47.019939Z",
     "start_time": "2019-08-30T17:21:47.013687Z"
    }
   },
   "outputs": [],
   "source": [
    "class Solution(object):\n",
    "    def subsetsWithDup(self, nums):\n",
    "        \"\"\"\n",
    "        :type nums: List[int]\n",
    "        :rtype: List[List[int]]\n",
    "        \"\"\"\n",
    "        res = set([])\n",
    "        nums.sort()\n",
    "        self.dfs(0, nums, [], res)\n",
    "        return list(map(list,res))\n",
    "        \n",
    "    def dfs(self, start, nums, path, res):\n",
    "        res.add(tuple(path))\n",
    "        if start > len(nums) - 1:\n",
    "            return\n",
    "        for i in range(start, len(nums)):\n",
    "            self.dfs(i + 1, nums, path + [nums[i]], res)"
   ]
  },
  {
   "cell_type": "code",
   "execution_count": 2,
   "metadata": {
    "ExecuteTime": {
     "end_time": "2019-08-30T17:36:54.058278Z",
     "start_time": "2019-08-30T17:36:54.051447Z"
    }
   },
   "outputs": [],
   "source": [
    "class Solution(object):\n",
    "    def subsetsWithDup(self, nums):\n",
    "        \"\"\"\n",
    "        :type nums: List[int]\n",
    "        :rtype: List[List[int]]\n",
    "        \"\"\"\n",
    "        res = []\n",
    "        nums.sort()\n",
    "        self.dfs(0, nums, [], res)\n",
    "        return res + [[]]\n",
    "        \n",
    "    def dfs(self, start, nums, path, res):\n",
    "        if start > len(nums) - 1:\n",
    "            return\n",
    "        for i in range(start, len(nums)):\n",
    "            if i != start and nums[i] == nums[i - 1]:\n",
    "                continue\n",
    "            res.append(path + [nums[i]])\n",
    "            self.dfs(i + 1, nums, path + [nums[i]], res)"
   ]
  },
  {
   "cell_type": "code",
   "execution_count": 3,
   "metadata": {
    "ExecuteTime": {
     "end_time": "2019-08-30T17:48:11.038033Z",
     "start_time": "2019-08-30T17:48:11.032675Z"
    }
   },
   "outputs": [],
   "source": [
    "class Solution(object):\n",
    "    def subsetsWithDup(self, nums):\n",
    "        \"\"\"\n",
    "        :type nums: List[int]\n",
    "        :rtype: List[List[int]]\n",
    "        \"\"\"\n",
    "        res = [()]\n",
    "        nums.sort()\n",
    "        for i in range(len(nums)):\n",
    "            for j in range(len(res)):\n",
    "                res.append(res[j] + (nums[i],))\n",
    "        return list(map(list,set(res)))"
   ]
  },
  {
   "cell_type": "code",
   "execution_count": null,
   "metadata": {},
   "outputs": [],
   "source": []
  }
 ],
 "metadata": {
  "kernelspec": {
   "display_name": "Python 3",
   "language": "python",
   "name": "python3"
  },
  "language_info": {
   "codemirror_mode": {
    "name": "ipython",
    "version": 3
   },
   "file_extension": ".py",
   "mimetype": "text/x-python",
   "name": "python",
   "nbconvert_exporter": "python",
   "pygments_lexer": "ipython3",
   "version": "3.7.1"
  },
  "toc": {
   "base_numbering": 1,
   "nav_menu": {},
   "number_sections": true,
   "sideBar": true,
   "skip_h1_title": false,
   "title_cell": "Table of Contents",
   "title_sidebar": "Contents",
   "toc_cell": false,
   "toc_position": {},
   "toc_section_display": true,
   "toc_window_display": false
  }
 },
 "nbformat": 4,
 "nbformat_minor": 2
}
