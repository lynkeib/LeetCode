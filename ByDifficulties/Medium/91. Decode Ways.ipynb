{
 "cells": [
  {
   "cell_type": "markdown",
   "metadata": {},
   "source": [
    "# DFS (TLE)"
   ]
  },
  {
   "cell_type": "code",
   "execution_count": 1,
   "metadata": {
    "ExecuteTime": {
     "end_time": "2019-09-06T01:58:00.104382Z",
     "start_time": "2019-09-06T01:58:00.097413Z"
    }
   },
   "outputs": [],
   "source": [
    "class Solution(object):\n",
    "    def numDecodings(self, s):\n",
    "        \"\"\"\n",
    "        :type s: str\n",
    "        :rtype: int\n",
    "        \"\"\"\n",
    "        if not s:\n",
    "            return 0\n",
    "        res = set()\n",
    "        self.dfs(s, res, [])\n",
    "        # print(res)\n",
    "        return len(res)\n",
    "    \n",
    "    def dfs(self, s, res, path):\n",
    "        if not s:\n",
    "            # print('add res', path)\n",
    "            res.add(tuple(path))\n",
    "            return\n",
    "        for i in range(min(3, len(s))):\n",
    "            curr = s[:i+1]\n",
    "            # print(curr)\n",
    "            if int(curr)>26 or int(curr) < 1:\n",
    "                break\n",
    "            self.dfs(s[i+1:], res, path + [curr])\n",
    "        "
   ]
  },
  {
   "cell_type": "markdown",
   "metadata": {},
   "source": [
    "# DP"
   ]
  },
  {
   "cell_type": "code",
   "execution_count": 2,
   "metadata": {
    "ExecuteTime": {
     "end_time": "2019-09-06T02:21:36.933553Z",
     "start_time": "2019-09-06T02:21:36.925037Z"
    }
   },
   "outputs": [],
   "source": [
    "class Solution(object):\n",
    "    def numDecodings(self, s):\n",
    "        \"\"\"\n",
    "        :type s: str\n",
    "        :rtype: int\n",
    "        \"\"\"\n",
    "        if not s:\n",
    "            return 0\n",
    "        res = [0]\n",
    "        pointer = 0\n",
    "        dp = dict()\n",
    "        self.dfs(s, res, [], 0, dp)\n",
    "        # print(res)\n",
    "        return dp[0]\n",
    "    \n",
    "    def dfs(self, s, res, path, pointer, dp):\n",
    "        if not s:\n",
    "            # print('add res', path)\n",
    "            return 1\n",
    "        \n",
    "        if pointer in dp:\n",
    "            return dp[pointer]\n",
    "        res = 0\n",
    "        for i in range(min(3, len(s))):\n",
    "            curr = s[:i+1]\n",
    "            # print(curr)\n",
    "            if int(curr)>26 or int(curr) < 1:\n",
    "                break\n",
    "            res += self.dfs(s[i+1:], res, path + [curr], pointer + i + 1, dp)\n",
    "        dp[pointer] = res\n",
    "        return res"
   ]
  },
  {
   "cell_type": "code",
   "execution_count": null,
   "metadata": {},
   "outputs": [],
   "source": []
  }
 ],
 "metadata": {
  "kernelspec": {
   "display_name": "Python 3",
   "language": "python",
   "name": "python3"
  },
  "language_info": {
   "codemirror_mode": {
    "name": "ipython",
    "version": 3
   },
   "file_extension": ".py",
   "mimetype": "text/x-python",
   "name": "python",
   "nbconvert_exporter": "python",
   "pygments_lexer": "ipython3",
   "version": "3.7.1"
  },
  "toc": {
   "base_numbering": 1,
   "nav_menu": {},
   "number_sections": true,
   "sideBar": true,
   "skip_h1_title": false,
   "title_cell": "Table of Contents",
   "title_sidebar": "Contents",
   "toc_cell": false,
   "toc_position": {},
   "toc_section_display": true,
   "toc_window_display": false
  }
 },
 "nbformat": 4,
 "nbformat_minor": 2
}
