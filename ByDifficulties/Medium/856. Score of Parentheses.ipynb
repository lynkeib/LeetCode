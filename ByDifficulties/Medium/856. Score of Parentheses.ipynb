{
 "cells": [
  {
   "cell_type": "code",
   "execution_count": 28,
   "metadata": {
    "ExecuteTime": {
     "end_time": "2019-05-08T00:31:30.497395Z",
     "start_time": "2019-05-08T00:31:30.491503Z"
    }
   },
   "outputs": [],
   "source": [
    "def scoreOfParentheses(S):\n",
    "    stack, cur = [], 0\n",
    "    for i in S:\n",
    "        print(i)\n",
    "        if i == '(':\n",
    "            stack.append(cur)\n",
    "            print(stack)\n",
    "            cur = 0\n",
    "        else:\n",
    "            print(f'stack:{stack}')\n",
    "            cur += stack.pop() + max(cur, 1)\n",
    "            print(stack)\n",
    "            print(f'cur: {cur}')\n",
    "        print()\n",
    "    return cur"
   ]
  },
  {
   "cell_type": "code",
   "execution_count": 29,
   "metadata": {
    "ExecuteTime": {
     "end_time": "2019-05-08T00:31:30.756928Z",
     "start_time": "2019-05-08T00:31:30.749809Z"
    }
   },
   "outputs": [
    {
     "name": "stdout",
     "output_type": "stream",
     "text": [
      "(\n",
      "[0]\n",
      "\n",
      "(\n",
      "[0, 0]\n",
      "\n",
      ")\n",
      "stack:[0, 0]\n",
      "[0]\n",
      "cur: 1\n",
      "\n",
      "(\n",
      "[0, 1]\n",
      "\n",
      ")\n",
      "stack:[0, 1]\n",
      "[0]\n",
      "cur: 2\n",
      "\n",
      ")\n",
      "stack:[0]\n",
      "[]\n",
      "cur: 4\n",
      "\n"
     ]
    },
    {
     "data": {
      "text/plain": [
       "4"
      ]
     },
     "execution_count": 29,
     "metadata": {},
     "output_type": "execute_result"
    }
   ],
   "source": [
    "scoreOfParentheses('(()())')"
   ]
  },
  {
   "cell_type": "code",
   "execution_count": null,
   "metadata": {},
   "outputs": [],
   "source": []
  }
 ],
 "metadata": {
  "kernelspec": {
   "display_name": "Python 3",
   "language": "python",
   "name": "python3"
  },
  "language_info": {
   "codemirror_mode": {
    "name": "ipython",
    "version": 3
   },
   "file_extension": ".py",
   "mimetype": "text/x-python",
   "name": "python",
   "nbconvert_exporter": "python",
   "pygments_lexer": "ipython3",
   "version": "3.7.1"
  },
  "toc": {
   "base_numbering": 1,
   "nav_menu": {},
   "number_sections": true,
   "sideBar": true,
   "skip_h1_title": false,
   "title_cell": "Table of Contents",
   "title_sidebar": "Contents",
   "toc_cell": false,
   "toc_position": {},
   "toc_section_display": true,
   "toc_window_display": false
  }
 },
 "nbformat": 4,
 "nbformat_minor": 2
}
