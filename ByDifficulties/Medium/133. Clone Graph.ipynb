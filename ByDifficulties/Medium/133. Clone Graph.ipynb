{
 "cells": [
  {
   "cell_type": "code",
   "execution_count": 1,
   "metadata": {
    "ExecuteTime": {
     "end_time": "2019-09-07T07:37:16.878945Z",
     "start_time": "2019-09-07T07:37:16.871996Z"
    }
   },
   "outputs": [],
   "source": [
    "\"\"\"\n",
    "# Definition for a Node.\n",
    "class Node(object):\n",
    "    def __init__(self, val, neighbors):\n",
    "        self.val = val\n",
    "        self.neighbors = neighbors\n",
    "\"\"\"\n",
    "class Solution(object):\n",
    "    def cloneGraph(self, node):\n",
    "        \"\"\"\n",
    "        :type node: Node\n",
    "        :rtype: Node\n",
    "        \"\"\"\n",
    "        dic = dict()\n",
    "        self.buildMap(node, dic)\n",
    "        for n in dic:\n",
    "            dic[n].neighbors = [dic[nn] for nn in n.neighbors] if n.neighbors else []\n",
    "        # print(dic[node])\n",
    "        return dic[node]\n",
    "    \n",
    "    def buildMap(self, node, dic):\n",
    "        dic[node] = Node(node.val, None)\n",
    "        for n in node.neighbors:\n",
    "            if n not in dic:\n",
    "                self.buildMap(n, dic)\n",
    "        return"
   ]
  },
  {
   "cell_type": "code",
   "execution_count": null,
   "metadata": {},
   "outputs": [],
   "source": []
  }
 ],
 "metadata": {
  "kernelspec": {
   "display_name": "Python 3",
   "language": "python",
   "name": "python3"
  },
  "language_info": {
   "codemirror_mode": {
    "name": "ipython",
    "version": 3
   },
   "file_extension": ".py",
   "mimetype": "text/x-python",
   "name": "python",
   "nbconvert_exporter": "python",
   "pygments_lexer": "ipython3",
   "version": "3.7.1"
  },
  "toc": {
   "base_numbering": 1,
   "nav_menu": {},
   "number_sections": true,
   "sideBar": true,
   "skip_h1_title": false,
   "title_cell": "Table of Contents",
   "title_sidebar": "Contents",
   "toc_cell": false,
   "toc_position": {},
   "toc_section_display": true,
   "toc_window_display": false
  }
 },
 "nbformat": 4,
 "nbformat_minor": 2
}
