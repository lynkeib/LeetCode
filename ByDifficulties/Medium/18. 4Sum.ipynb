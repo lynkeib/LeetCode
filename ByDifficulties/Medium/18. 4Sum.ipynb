{
 "cells": [
  {
   "cell_type": "code",
   "execution_count": 1,
   "metadata": {
    "ExecuteTime": {
     "end_time": "2019-09-08T10:55:18.973854Z",
     "start_time": "2019-09-08T10:55:18.963094Z"
    }
   },
   "outputs": [],
   "source": [
    "class Solution(object):\n",
    "    def fourSum(self, nums, target):\n",
    "        \"\"\"\n",
    "        :type nums: List[int]\n",
    "        :type target: int\n",
    "        :rtype: List[List[int]]\n",
    "        \"\"\"\n",
    "        res = []\n",
    "        nums.sort()\n",
    "        self.findNSum(0, len(nums) - 1, 4, nums, target, [], res)\n",
    "        return res\n",
    "    \n",
    "    def findNSum(self, left, right, N, nums, target, path, res):\n",
    "        ## if the nums left are less than N, or, N is less than 2, or, smallest num times N greater than target, or, biggest num times N smaller than target\n",
    "        if right - left + 1 < N or N < 2 or nums[left] * N > target or nums[right] * N < target:\n",
    "            return\n",
    "        ## solve 2 sum\n",
    "        if N == 2:\n",
    "            while left < right:\n",
    "                if nums[left] + nums[right] == target:\n",
    "                    res.append(path + [nums[left], nums[right]])\n",
    "                    left += 1\n",
    "                    while left < right and nums[left] == nums[left - 1]:\n",
    "                        left += 1\n",
    "                elif nums[left] + nums[right] < target:\n",
    "                    left += 1\n",
    "                else:\n",
    "                    right -= 1\n",
    "            return\n",
    "        \n",
    "        ## reduce N\n",
    "        else:\n",
    "            for index in range(left, right+1):\n",
    "                if index == left or (index > left and nums[index] != nums[index - 1]):\n",
    "                    self.findNSum(index+1, right, N-1, nums, target - nums[index], path + [nums[index]], res)\n",
    "        \n",
    "                "
   ]
  },
  {
   "cell_type": "code",
   "execution_count": null,
   "metadata": {},
   "outputs": [],
   "source": []
  }
 ],
 "metadata": {
  "kernelspec": {
   "display_name": "Python 3",
   "language": "python",
   "name": "python3"
  },
  "language_info": {
   "codemirror_mode": {
    "name": "ipython",
    "version": 3
   },
   "file_extension": ".py",
   "mimetype": "text/x-python",
   "name": "python",
   "nbconvert_exporter": "python",
   "pygments_lexer": "ipython3",
   "version": "3.7.1"
  },
  "toc": {
   "base_numbering": 1,
   "nav_menu": {},
   "number_sections": true,
   "sideBar": true,
   "skip_h1_title": false,
   "title_cell": "Table of Contents",
   "title_sidebar": "Contents",
   "toc_cell": false,
   "toc_position": {},
   "toc_section_display": true,
   "toc_window_display": false
  }
 },
 "nbformat": 4,
 "nbformat_minor": 2
}
