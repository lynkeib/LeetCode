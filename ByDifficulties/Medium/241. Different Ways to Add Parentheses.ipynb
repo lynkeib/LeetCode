{
 "cells": [
  {
   "cell_type": "code",
   "execution_count": 1,
   "metadata": {},
   "outputs": [],
   "source": [
    "class Solution(object):\n",
    "    def diffWaysToCompute(self, input, memo = {}):\n",
    "        \"\"\"\n",
    "        :type input: str\n",
    "        :rtype: List[int]\n",
    "        \"\"\"\n",
    "        if input.isdigit():\n",
    "            return [int(input)]\n",
    "        if input in memo:\n",
    "            return memo[input]\n",
    "        res = []\n",
    "        for i in range(len(input)):\n",
    "            if input[i] in '+-*':\n",
    "                part1 = self.diffWaysToCompute(input[:i])\n",
    "                part2 = self.diffWaysToCompute(input[i+1:])\n",
    "                for j in part1:\n",
    "                    for k in part2:\n",
    "                        res.append(self.helper(j, k, input[i]))\n",
    "        memo[input] = res\n",
    "        return res\n",
    "        \n",
    "    def helper(self, a, b, op):\n",
    "        if op == '+':\n",
    "            return a + b\n",
    "        if op == '-':\n",
    "            return a - b\n",
    "        else:\n",
    "            return a * b"
   ]
  },
  {
   "cell_type": "code",
   "execution_count": null,
   "metadata": {},
   "outputs": [],
   "source": []
  }
 ],
 "metadata": {
  "kernelspec": {
   "display_name": "Python 3",
   "language": "python",
   "name": "python3"
  },
  "language_info": {
   "codemirror_mode": {
    "name": "ipython",
    "version": 3
   },
   "file_extension": ".py",
   "mimetype": "text/x-python",
   "name": "python",
   "nbconvert_exporter": "python",
   "pygments_lexer": "ipython3",
   "version": "3.7.3"
  },
  "toc": {
   "base_numbering": 1,
   "nav_menu": {},
   "number_sections": true,
   "sideBar": true,
   "skip_h1_title": false,
   "title_cell": "Table of Contents",
   "title_sidebar": "Contents",
   "toc_cell": false,
   "toc_position": {},
   "toc_section_display": true,
   "toc_window_display": false
  }
 },
 "nbformat": 4,
 "nbformat_minor": 2
}
