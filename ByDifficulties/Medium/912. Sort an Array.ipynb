{
 "cells": [
  {
   "cell_type": "markdown",
   "metadata": {},
   "source": [
    "# Bubble Sort"
   ]
  },
  {
   "cell_type": "code",
   "execution_count": 4,
   "metadata": {},
   "outputs": [],
   "source": [
    "class Solution(object):\n",
    "    def sortArray(self, nums):\n",
    "        \"\"\"\n",
    "        :type nums: List[int]\n",
    "        :rtype: List[int]\n",
    "        \"\"\"\n",
    "        length = len(nums)\n",
    "        while length > 0:\n",
    "            for i in range(length - 1):\n",
    "                if nums[i] > nums[i + 1]:\n",
    "                    nums[i] , nums[i + 1] = nums[i + 1] , nums[i]\n",
    "            length -= 1\n",
    "        return nums"
   ]
  },
  {
   "cell_type": "markdown",
   "metadata": {},
   "source": [
    "# Insertion Sort"
   ]
  },
  {
   "cell_type": "code",
   "execution_count": 3,
   "metadata": {},
   "outputs": [],
   "source": [
    "class Solution(object):\n",
    "    def sortArray(self, nums):\n",
    "        \"\"\"\n",
    "        :type nums: List[int]\n",
    "        :rtype: List[int]\n",
    "        \"\"\"\n",
    "        for i in range(1, len(nums)):\n",
    "            j = i - 1\n",
    "            curr = nums[i]\n",
    "            while j >= 0 and nums[j] > curr:\n",
    "                nums[j + 1] = nums[j]\n",
    "                j -= 1\n",
    "            nums[j + 1] = curr\n",
    "        return nums"
   ]
  },
  {
   "cell_type": "markdown",
   "metadata": {},
   "source": [
    "# Heap Sort"
   ]
  },
  {
   "cell_type": "code",
   "execution_count": 46,
   "metadata": {},
   "outputs": [],
   "source": [
    "class Solution(object):\n",
    "    def sortArray(self, nums):\n",
    "        \"\"\"\n",
    "        :type nums: List[int]\n",
    "        :rtype: List[int]\n",
    "        \"\"\"\n",
    "        self.heapsort(nums)\n",
    "        return nums\n",
    "    \n",
    "    def heapify(self, index, nums, length):\n",
    "        left = index * 2 + 1\n",
    "        right = index * 2 + 2\n",
    "        max_index = index\n",
    "        if left < length and nums[left] > nums[max_index]:\n",
    "            max_index = left\n",
    "        if right < length and nums[right] > nums[max_index]:\n",
    "            max_index = right\n",
    "        if max_index != index:\n",
    "            nums[max_index], nums[index] = nums[index], nums[max_index]\n",
    "            self.heapify(max_index, nums, length)\n",
    "    \n",
    "    def heap(self, nums, length):\n",
    "        for i in range(int((length + 1) / 2), -1, -1):\n",
    "            self.heapify(i, nums, length)\n",
    "    \n",
    "    def heapsort(self, nums):\n",
    "        self.heap(nums, len(nums))\n",
    "        length = len(nums)\n",
    "        for l in range(length - 1, 0, -1):\n",
    "            nums[0], nums[l] = nums[l], nums[0]\n",
    "            self.heap(nums, l)\n",
    "        "
   ]
  },
  {
   "cell_type": "markdown",
   "metadata": {},
   "source": [
    "# Quick Sort"
   ]
  },
  {
   "cell_type": "code",
   "execution_count": 60,
   "metadata": {},
   "outputs": [],
   "source": [
    "class Solution(object):\n",
    "    def sortArray(self, nums):\n",
    "        \"\"\"\n",
    "        :type nums: List[int]\n",
    "        :rtype: List[int]\n",
    "        \"\"\"\n",
    "        self.quicksort(nums, 0, len(nums) - 1)\n",
    "        return nums\n",
    "        \n",
    "    def partition(self, nums, low, high):\n",
    "        curr = low - 1\n",
    "        pivot = nums[high]\n",
    "        for i in range(low, high):\n",
    "            if nums[i] < pivot:\n",
    "                curr += 1\n",
    "                nums[curr], nums[i] = nums[i], nums[curr]\n",
    "        nums[curr + 1], nums[high] = nums[high], nums[curr + 1]\n",
    "        return curr + 1\n",
    "    \n",
    "    def quicksort(self, nums, low, high):\n",
    "        if low < high:\n",
    "            middle = self.partition(nums, low, high)\n",
    "            self.quicksort(nums, low, middle - 1)\n",
    "            self.quicksort(nums, middle + 1, high)"
   ]
  },
  {
   "cell_type": "code",
   "execution_count": null,
   "metadata": {},
   "outputs": [],
   "source": []
  }
 ],
 "metadata": {
  "kernelspec": {
   "display_name": "Python 3",
   "language": "python",
   "name": "python3"
  },
  "language_info": {
   "codemirror_mode": {
    "name": "ipython",
    "version": 3
   },
   "file_extension": ".py",
   "mimetype": "text/x-python",
   "name": "python",
   "nbconvert_exporter": "python",
   "pygments_lexer": "ipython3",
   "version": "3.7.3"
  },
  "toc": {
   "base_numbering": 1,
   "nav_menu": {},
   "number_sections": true,
   "sideBar": true,
   "skip_h1_title": false,
   "title_cell": "Table of Contents",
   "title_sidebar": "Contents",
   "toc_cell": false,
   "toc_position": {},
   "toc_section_display": true,
   "toc_window_display": false
  }
 },
 "nbformat": 4,
 "nbformat_minor": 2
}
