{
 "cells": [
  {
   "cell_type": "code",
   "execution_count": 64,
   "metadata": {
    "ExecuteTime": {
     "end_time": "2019-08-28T17:29:47.331654Z",
     "start_time": "2019-08-28T17:29:47.322969Z"
    }
   },
   "outputs": [],
   "source": [
    "class Solution(object):\n",
    "    def removeKdigits(self, num, k):\n",
    "        \"\"\"\n",
    "        :type num: str\n",
    "        :type k: int\n",
    "        :rtype: str\n",
    "        \"\"\"\n",
    "        if len(num) == k:\n",
    "            return '0'\n",
    "        stack = []\n",
    "        index = 0\n",
    "        while k != 0:\n",
    "            #print(stack)\n",
    "            if not stack:\n",
    "                stack.append(num[index])\n",
    "                index += 1\n",
    "            elif k == len(num) - index:\n",
    "                index = len(num)\n",
    "                break\n",
    "            elif stack and num[index] < stack[-1]:\n",
    "                stack.pop()\n",
    "                stack.append(num[index])\n",
    "                k -= 1\n",
    "                index += 1\n",
    "            else:\n",
    "                stack.append(num[index])\n",
    "                index += 1\n",
    "        while index != len(num):\n",
    "            stack.append(num[index])\n",
    "            index += 1\n",
    "        index = 0\n",
    "        while stack and stack[index] == '0':\n",
    "            stack.pop(0)\n",
    "        return ''.join(stack) if stack else '0'"
   ]
  },
  {
   "cell_type": "code",
   "execution_count": 65,
   "metadata": {
    "ExecuteTime": {
     "end_time": "2019-08-28T17:29:47.569413Z",
     "start_time": "2019-08-28T17:29:47.566578Z"
    }
   },
   "outputs": [],
   "source": [
    "A = Solution()"
   ]
  },
  {
   "cell_type": "code",
   "execution_count": 66,
   "metadata": {
    "ExecuteTime": {
     "end_time": "2019-08-28T17:29:47.842005Z",
     "start_time": "2019-08-28T17:29:47.836736Z"
    }
   },
   "outputs": [
    {
     "name": "stdout",
     "output_type": "stream",
     "text": [
      "[]\n",
      "['1']\n",
      "['1', '4']\n",
      "['1', '3']\n",
      "['1', '2']\n",
      "['1', '2', '2']\n"
     ]
    },
    {
     "data": {
      "text/plain": [
       "'1219'"
      ]
     },
     "execution_count": 66,
     "metadata": {},
     "output_type": "execute_result"
    }
   ],
   "source": [
    "A.removeKdigits('1432219', 3)"
   ]
  },
  {
   "cell_type": "code",
   "execution_count": 67,
   "metadata": {
    "ExecuteTime": {
     "end_time": "2019-08-28T17:29:48.111379Z",
     "start_time": "2019-08-28T17:29:48.106628Z"
    }
   },
   "outputs": [
    {
     "name": "stdout",
     "output_type": "stream",
     "text": [
      "[]\n",
      "['1']\n"
     ]
    },
    {
     "data": {
      "text/plain": [
       "'200'"
      ]
     },
     "execution_count": 67,
     "metadata": {},
     "output_type": "execute_result"
    }
   ],
   "source": [
    "A.removeKdigits('10200', 1)"
   ]
  },
  {
   "cell_type": "code",
   "execution_count": 68,
   "metadata": {
    "ExecuteTime": {
     "end_time": "2019-08-28T17:29:48.466716Z",
     "start_time": "2019-08-28T17:29:48.461047Z"
    }
   },
   "outputs": [
    {
     "name": "stdout",
     "output_type": "stream",
     "text": [
      "[]\n",
      "['1']\n"
     ]
    },
    {
     "data": {
      "text/plain": [
       "'1'"
      ]
     },
     "execution_count": 68,
     "metadata": {},
     "output_type": "execute_result"
    }
   ],
   "source": [
    "A.removeKdigits('10', 1)"
   ]
  },
  {
   "cell_type": "code",
   "execution_count": 69,
   "metadata": {
    "ExecuteTime": {
     "end_time": "2019-08-28T17:29:48.838857Z",
     "start_time": "2019-08-28T17:29:48.833715Z"
    }
   },
   "outputs": [
    {
     "name": "stdout",
     "output_type": "stream",
     "text": [
      "[]\n",
      "['1']\n",
      "['1', '1']\n"
     ]
    },
    {
     "data": {
      "text/plain": [
       "'11'"
      ]
     },
     "execution_count": 69,
     "metadata": {},
     "output_type": "execute_result"
    }
   ],
   "source": [
    "A.removeKdigits('112', 1)"
   ]
  },
  {
   "cell_type": "code",
   "execution_count": null,
   "metadata": {},
   "outputs": [],
   "source": []
  }
 ],
 "metadata": {
  "kernelspec": {
   "display_name": "Python 3",
   "language": "python",
   "name": "python3"
  },
  "language_info": {
   "codemirror_mode": {
    "name": "ipython",
    "version": 3
   },
   "file_extension": ".py",
   "mimetype": "text/x-python",
   "name": "python",
   "nbconvert_exporter": "python",
   "pygments_lexer": "ipython3",
   "version": "3.7.1"
  },
  "toc": {
   "base_numbering": 1,
   "nav_menu": {},
   "number_sections": true,
   "sideBar": true,
   "skip_h1_title": false,
   "title_cell": "Table of Contents",
   "title_sidebar": "Contents",
   "toc_cell": false,
   "toc_position": {},
   "toc_section_display": true,
   "toc_window_display": false
  }
 },
 "nbformat": 4,
 "nbformat_minor": 2
}
