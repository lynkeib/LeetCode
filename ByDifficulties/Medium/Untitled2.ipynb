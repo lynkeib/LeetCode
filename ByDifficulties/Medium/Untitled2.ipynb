{
 "cells": [
  {
   "cell_type": "code",
   "execution_count": 1,
   "metadata": {
    "ExecuteTime": {
     "end_time": "2019-08-28T06:24:45.339951Z",
     "start_time": "2019-08-28T06:24:45.331998Z"
    }
   },
   "outputs": [],
   "source": [
    "class Solution(object):\n",
    "    def wiggleMaxLength(self, nums):\n",
    "        \"\"\"\n",
    "        :type nums: List[int]\n",
    "        :rtype: int\n",
    "        \"\"\"\n",
    "        if not nums:\n",
    "            return 0\n",
    "        res = 1\n",
    "        state = 0 # 0 Begin, 1 Up, 2 Down\n",
    "        #p = []\n",
    "        i = 0\n",
    "        while i < len(nums) - 1:\n",
    "            #print(i)\n",
    "            if nums[i + 1] > nums[i] and state != 1:\n",
    "                while i < len(nums) - 1 and nums[i + 1] > nums[i]:\n",
    "                    i += 1\n",
    "                #if i != len(nums) - 1 or nums[i] > nums[i - 1]:\n",
    "                res += 1\n",
    "                state = 1\n",
    "                #p.append(nums[i])\n",
    "            elif nums[i + 1] < nums[i] and state != 2:\n",
    "                while i < len(nums) - 1 and nums[i + 1] < nums[i]:\n",
    "                    i += 1\n",
    "                #if i != len(nums) - 1 or nums[i] < nums[i - 1]:\n",
    "                res += 1\n",
    "                state = 2\n",
    "                #p.append(nums[i])\n",
    "            else:\n",
    "                i += 1\n",
    "        #print(p)\n",
    "        return res     "
   ]
  },
  {
   "cell_type": "code",
   "execution_count": null,
   "metadata": {},
   "outputs": [],
   "source": []
  }
 ],
 "metadata": {
  "kernelspec": {
   "display_name": "Python 3",
   "language": "python",
   "name": "python3"
  },
  "language_info": {
   "codemirror_mode": {
    "name": "ipython",
    "version": 3
   },
   "file_extension": ".py",
   "mimetype": "text/x-python",
   "name": "python",
   "nbconvert_exporter": "python",
   "pygments_lexer": "ipython3",
   "version": "3.7.1"
  },
  "toc": {
   "base_numbering": 1,
   "nav_menu": {},
   "number_sections": true,
   "sideBar": true,
   "skip_h1_title": false,
   "title_cell": "Table of Contents",
   "title_sidebar": "Contents",
   "toc_cell": false,
   "toc_position": {},
   "toc_section_display": true,
   "toc_window_display": false
  }
 },
 "nbformat": 4,
 "nbformat_minor": 2
}
