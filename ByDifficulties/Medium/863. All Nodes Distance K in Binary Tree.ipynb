{
 "cells": [
  {
   "cell_type": "code",
   "execution_count": 1,
   "metadata": {
    "ExecuteTime": {
     "end_time": "2019-08-11T22:02:47.785701Z",
     "start_time": "2019-08-11T22:02:47.777606Z"
    }
   },
   "outputs": [],
   "source": [
    "# Definition for a binary tree node.\n",
    "# class TreeNode(object):\n",
    "#     def __init__(self, x):\n",
    "#         self.val = x\n",
    "#         self.left = None\n",
    "#         self.right = None\n",
    "class Solution(object):\n",
    "    def distanceK(self, root, target, K):\n",
    "        \"\"\"\n",
    "        :type root: TreeNode\n",
    "        :type target: TreeNode\n",
    "        :type K: int\n",
    "        :rtype: List[int]\n",
    "        \"\"\"\n",
    "        mapping = collections.defaultdict(list)\n",
    "        self.buildmap(None, root, mapping)\n",
    "        res = [target.val]\n",
    "        seen = set(res)\n",
    "        for i in range(K):\n",
    "            temp = []\n",
    "            #print(res)\n",
    "            for parent in res:\n",
    "                for child in mapping[parent]:\n",
    "                    if child not in seen:\n",
    "                        temp.append(child)\n",
    "                        seen.add(child)\n",
    "            res = set(temp)\n",
    "        return list(res)\n",
    "    \n",
    "    def buildmap(self, parent, child, mapping):\n",
    "        if parent and child:\n",
    "            mapping[parent.val].append(child.val)\n",
    "            mapping[child.val].append(parent.val)\n",
    "        if child.left:\n",
    "            self.buildmap(child, child.left, mapping)\n",
    "        if child.right:\n",
    "            self.buildmap(child, child.right, mapping)"
   ]
  },
  {
   "cell_type": "code",
   "execution_count": null,
   "metadata": {},
   "outputs": [],
   "source": []
  }
 ],
 "metadata": {
  "kernelspec": {
   "display_name": "Python 3",
   "language": "python",
   "name": "python3"
  },
  "language_info": {
   "codemirror_mode": {
    "name": "ipython",
    "version": 3
   },
   "file_extension": ".py",
   "mimetype": "text/x-python",
   "name": "python",
   "nbconvert_exporter": "python",
   "pygments_lexer": "ipython3",
   "version": "3.7.1"
  },
  "toc": {
   "base_numbering": 1,
   "nav_menu": {},
   "number_sections": true,
   "sideBar": true,
   "skip_h1_title": false,
   "title_cell": "Table of Contents",
   "title_sidebar": "Contents",
   "toc_cell": false,
   "toc_position": {},
   "toc_section_display": true,
   "toc_window_display": false
  }
 },
 "nbformat": 4,
 "nbformat_minor": 2
}
