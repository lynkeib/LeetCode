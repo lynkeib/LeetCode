{
 "cells": [
  {
   "cell_type": "code",
   "execution_count": 1,
   "metadata": {
    "ExecuteTime": {
     "end_time": "2019-08-30T01:26:01.555905Z",
     "start_time": "2019-08-30T01:26:01.548850Z"
    }
   },
   "outputs": [],
   "source": [
    "class Solution(object):\n",
    "    def findMinArrowShots(self, points):\n",
    "        \"\"\"\n",
    "        :type points: List[List[int]]\n",
    "        :rtype: int\n",
    "        \"\"\"\n",
    "        if not points:\n",
    "            return 0\n",
    "        if len(points) == 1:\n",
    "            return 1\n",
    "        points = sorted(points, key = lambda a: a[0])\n",
    "        res = 0\n",
    "        index = 0\n",
    "        while index < len(points):\n",
    "            left, right = points[index]\n",
    "            res += 1\n",
    "            index += 1\n",
    "            while index < len(points) and points[index][0] <= right:\n",
    "                right = min(right, points[index][1])\n",
    "                index += 1\n",
    "        return res"
   ]
  },
  {
   "cell_type": "code",
   "execution_count": 3,
   "metadata": {
    "ExecuteTime": {
     "end_time": "2019-08-30T01:27:13.139044Z",
     "start_time": "2019-08-30T01:27:13.132189Z"
    }
   },
   "outputs": [],
   "source": [
    "class Solution(object):\n",
    "    def findMinArrowShots(self, points):\n",
    "        \"\"\"\n",
    "        :type points: List[List[int]]\n",
    "        :rtype: int\n",
    "        \"\"\"\n",
    "        if not points:\n",
    "            return 0\n",
    "        if len(points) == 1:\n",
    "            return 1\n",
    "        points = sorted(points, key = lambda a: a[1])\n",
    "        res = 1\n",
    "        index = 0\n",
    "        right = points[0][1]\n",
    "        for index in range(len(points)):\n",
    "            if points[index][0] > right:\n",
    "                res += 1\n",
    "                right = points[index][1]\n",
    "        return res"
   ]
  },
  {
   "cell_type": "code",
   "execution_count": null,
   "metadata": {},
   "outputs": [],
   "source": []
  }
 ],
 "metadata": {
  "kernelspec": {
   "display_name": "Python 3",
   "language": "python",
   "name": "python3"
  },
  "language_info": {
   "codemirror_mode": {
    "name": "ipython",
    "version": 3
   },
   "file_extension": ".py",
   "mimetype": "text/x-python",
   "name": "python",
   "nbconvert_exporter": "python",
   "pygments_lexer": "ipython3",
   "version": "3.7.1"
  },
  "toc": {
   "base_numbering": 1,
   "nav_menu": {},
   "number_sections": true,
   "sideBar": true,
   "skip_h1_title": false,
   "title_cell": "Table of Contents",
   "title_sidebar": "Contents",
   "toc_cell": false,
   "toc_position": {},
   "toc_section_display": true,
   "toc_window_display": false
  }
 },
 "nbformat": 4,
 "nbformat_minor": 2
}
