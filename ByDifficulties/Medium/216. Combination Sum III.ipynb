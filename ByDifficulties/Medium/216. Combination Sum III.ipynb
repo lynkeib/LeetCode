{
 "cells": [
  {
   "cell_type": "code",
   "execution_count": 22,
   "metadata": {
    "ExecuteTime": {
     "end_time": "2019-04-19T22:24:07.417740Z",
     "start_time": "2019-04-19T22:24:07.410097Z"
    }
   },
   "outputs": [],
   "source": [
    "class Solution(object):\n",
    "    def combinationSum3(self, k, n):\n",
    "        \"\"\"\n",
    "        :type k: int\n",
    "        :type n: int\n",
    "        :rtype: List[List[int]]\n",
    "        \"\"\"\n",
    "        \n",
    "        res = []\n",
    "        for i in range(1, 10):\n",
    "            self.dfs(i, k, n - i, [i], res)\n",
    "        return res\n",
    "    \n",
    "    def dfs(self,num, k, target, path, res):\n",
    "\n",
    "        if target < 0:\n",
    "            return None\n",
    "        if len(path) > k:\n",
    "            return None\n",
    "        if target == 0 and len(path) == k:\n",
    "            res.append(path)\n",
    "            return None\n",
    "        else:\n",
    "            for i in range(num + 1, 10):\n",
    "                self.dfs(i, k, target - i, path + [i], res)\n",
    "        "
   ]
  },
  {
   "cell_type": "code",
   "execution_count": null,
   "metadata": {},
   "outputs": [],
   "source": []
  }
 ],
 "metadata": {
  "kernelspec": {
   "display_name": "Python 3",
   "language": "python",
   "name": "python3"
  },
  "language_info": {
   "codemirror_mode": {
    "name": "ipython",
    "version": 3
   },
   "file_extension": ".py",
   "mimetype": "text/x-python",
   "name": "python",
   "nbconvert_exporter": "python",
   "pygments_lexer": "ipython3",
   "version": "3.7.1"
  },
  "toc": {
   "base_numbering": 1,
   "nav_menu": {},
   "number_sections": true,
   "sideBar": true,
   "skip_h1_title": false,
   "title_cell": "Table of Contents",
   "title_sidebar": "Contents",
   "toc_cell": false,
   "toc_position": {},
   "toc_section_display": true,
   "toc_window_display": false
  }
 },
 "nbformat": 4,
 "nbformat_minor": 2
}
