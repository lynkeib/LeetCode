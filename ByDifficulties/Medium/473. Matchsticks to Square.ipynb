{
 "cells": [
  {
   "cell_type": "code",
   "execution_count": 1,
   "metadata": {
    "ExecuteTime": {
     "end_time": "2019-09-03T21:49:06.813311Z",
     "start_time": "2019-09-03T21:49:06.801926Z"
    }
   },
   "outputs": [],
   "source": [
    "class Solution(object):\n",
    "    def makesquare(self, nums):\n",
    "        \"\"\"\n",
    "        :type nums: List[int]\n",
    "        :rtype: bool\n",
    "        \"\"\"\n",
    "        if not nums:\n",
    "            return False\n",
    "        if sum(nums) % 4 != 0:\n",
    "            return False\n",
    "        length = sum(nums) // 4\n",
    "        remains = [length] * 4\n",
    "        choices = collections.defaultdict(int)\n",
    "        for choice in nums:\n",
    "            choices[choice] += 1\n",
    "        order = sorted(choices.keys(), reverse = True)\n",
    "        print(order)\n",
    "        res = [0]\n",
    "        self.dfs(length, remains, choices, res, order)\n",
    "        return res[0]\n",
    "    \n",
    "    def dfs(self, length, remains, choices, res, order):\n",
    "        if res[0] == 1:\n",
    "            return \n",
    "        if sum(remains) == 0 and sum(choices.values()) == 0:\n",
    "            res[0] = 1\n",
    "            return\n",
    "        for choice in order:\n",
    "            if choice > max(remains):\n",
    "                return\n",
    "            if choices[choice] == 0:\n",
    "                continue\n",
    "            for side in range(4):\n",
    "                if choice > remains[side]:\n",
    "                    continue\n",
    "                remains[side] -= choice\n",
    "                choices[choice] -= 1\n",
    "                self.dfs(length, remains, choices, res, order)\n",
    "                if res[0] == 1:\n",
    "                    return\n",
    "                remains[side] += choice\n",
    "                choices[choice] += 1\n",
    "        return \n",
    "            "
   ]
  },
  {
   "cell_type": "markdown",
   "metadata": {},
   "source": [
    "# DFS"
   ]
  },
  {
   "cell_type": "code",
   "execution_count": 2,
   "metadata": {
    "ExecuteTime": {
     "end_time": "2019-09-03T21:57:01.712114Z",
     "start_time": "2019-09-03T21:57:01.704644Z"
    }
   },
   "outputs": [],
   "source": [
    "class Solution(object):\n",
    "    def makesquare(self, nums):\n",
    "        \"\"\"\n",
    "        :type nums: List[int]\n",
    "        :rtype: bool\n",
    "        \"\"\"\n",
    "        if not nums:\n",
    "            return False\n",
    "        if sum(nums) % 4 != 0:\n",
    "            return False\n",
    "        length = sum(nums) // 4\n",
    "        remains = [length] * 4\n",
    "        ordered = sorted(nums, reverse = True)\n",
    "        #print(ordered)\n",
    "        return self.dfs(ordered, 0, remains)\n",
    "        \n",
    "    def dfs(self, nums, choice_index, remains):\n",
    "        #print(remains, choice_index)\n",
    "        if choice_index == len(nums):\n",
    "            return True\n",
    "        for side in range(4):\n",
    "            if nums[choice_index] <= remains[side] :\n",
    "                remains[side] -= nums[choice_index]\n",
    "                if self.dfs(nums, choice_index + 1, remains):\n",
    "                    return True\n",
    "                remains[side] += nums[choice_index]\n",
    "        return False"
   ]
  },
  {
   "cell_type": "markdown",
   "metadata": {},
   "source": [
    "# Bit Manipulation"
   ]
  },
  {
   "cell_type": "code",
   "execution_count": null,
   "metadata": {},
   "outputs": [],
   "source": [
    "class Solution(object):\n",
    "    def makesquare(self, nums):\n",
    "        \"\"\"\n",
    "        :type nums: List[int]\n",
    "        :rtype: bool\n",
    "        \"\"\"\n",
    "        if not nums:\n",
    "            return False\n",
    "        if sum(nums) % 4 != 0:\n",
    "            return False\n",
    "        length = sum(nums) // 4\n",
    "        #print(self.num_to_selection(3, [8,1,3,2]))\n",
    "        \n",
    "        #First Selection\n",
    "        first_set = set()\n",
    "        for i in range(int('1'*len(nums), 2)):\n",
    "            if self.num_to_selection(i, nums) == length:\n",
    "                first_set.add(i)\n",
    "        #Second Selection\n",
    "        second_set = set()\n",
    "        for i in first_set:\n",
    "            for j in first_set:\n",
    "                if i & j == 0:\n",
    "                    second_set.add(i | j)\n",
    "        # print(second_set)\n",
    "        #Third Selection\n",
    "        third_set = set()\n",
    "        for i in first_set:\n",
    "            for j in second_set:\n",
    "                if i & j == 0:\n",
    "                    third_set.add(i | j)\n",
    "        # print(third_set)\n",
    "        #Final Selection\n",
    "        final_set = set()\n",
    "        for i in first_set:\n",
    "            for j in second_set:\n",
    "                if i & j == 0:\n",
    "                    final_set.add(i | j)\n",
    "        # print(final_set)\n",
    "        return final_set\n",
    "        \n",
    "    def num_to_selection(self, num, selections):\n",
    "        sel = self.to_bin(num, len(selections))\n",
    "        res = 0\n",
    "        for index in range(len(sel)):\n",
    "            if sel[index] == '1':\n",
    "                res += selections[index]\n",
    "        return res\n",
    "                \n",
    "    \n",
    "    def to_bin(self, num, length):\n",
    "        mask = '{:0' + str(length) + 'b}' \n",
    "        return mask.format(num)\n",
    "        "
   ]
  }
 ],
 "metadata": {
  "kernelspec": {
   "display_name": "Python 3",
   "language": "python",
   "name": "python3"
  },
  "language_info": {
   "codemirror_mode": {
    "name": "ipython",
    "version": 3
   },
   "file_extension": ".py",
   "mimetype": "text/x-python",
   "name": "python",
   "nbconvert_exporter": "python",
   "pygments_lexer": "ipython3",
   "version": "3.7.1"
  },
  "toc": {
   "base_numbering": 1,
   "nav_menu": {},
   "number_sections": true,
   "sideBar": true,
   "skip_h1_title": false,
   "title_cell": "Table of Contents",
   "title_sidebar": "Contents",
   "toc_cell": false,
   "toc_position": {},
   "toc_section_display": true,
   "toc_window_display": false
  }
 },
 "nbformat": 4,
 "nbformat_minor": 2
}
