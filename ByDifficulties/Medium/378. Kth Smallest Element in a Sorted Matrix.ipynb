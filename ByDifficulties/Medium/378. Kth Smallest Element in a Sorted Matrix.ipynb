{
 "cells": [
  {
   "cell_type": "code",
   "execution_count": 1,
   "metadata": {},
   "outputs": [],
   "source": [
    "class Solution(object):\n",
    "    def kthSmallest(self, matrix, k):\n",
    "        \"\"\"\n",
    "        :type matrix: List[List[int]]\n",
    "        :type k: int\n",
    "        :rtype: int\n",
    "        \"\"\"\n",
    "        l, h = matrix[0][0], matrix[-1][-1] + 1\n",
    "        row = len(matrix)\n",
    "        column = len(matrix[0])\n",
    "        while l < h:\n",
    "            mid = l + (h - l) // 2\n",
    "            counter = 0\n",
    "            r = row - 1\n",
    "            for c in range(column):\n",
    "                while r > 0 and matrix[r][c] > mid:\n",
    "                    r -= 1\n",
    "                counter += (r + 1)\n",
    "            if counter < k:\n",
    "                l = mid + 1\n",
    "            else:\n",
    "                h = mid\n",
    "        return l    "
   ]
  },
  {
   "cell_type": "code",
   "execution_count": null,
   "metadata": {},
   "outputs": [],
   "source": []
  }
 ],
 "metadata": {
  "kernelspec": {
   "display_name": "Python 3",
   "language": "python",
   "name": "python3"
  },
  "language_info": {
   "codemirror_mode": {
    "name": "ipython",
    "version": 3
   },
   "file_extension": ".py",
   "mimetype": "text/x-python",
   "name": "python",
   "nbconvert_exporter": "python",
   "pygments_lexer": "ipython3",
   "version": "3.7.3"
  }
 },
 "nbformat": 4,
 "nbformat_minor": 2
}
