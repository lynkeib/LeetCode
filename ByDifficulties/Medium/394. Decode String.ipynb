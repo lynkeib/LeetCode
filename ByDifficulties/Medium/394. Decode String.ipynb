{
 "cells": [
  {
   "cell_type": "code",
   "execution_count": 1,
   "metadata": {
    "ExecuteTime": {
     "end_time": "2019-09-06T01:45:29.119367Z",
     "start_time": "2019-09-06T01:45:29.110282Z"
    }
   },
   "outputs": [],
   "source": [
    "class Solution(object):\n",
    "    def decodeString(self, s):\n",
    "        \"\"\"\n",
    "        :type s: str\n",
    "        :rtype: str\n",
    "        \"\"\"\n",
    "        \n",
    "        num_stack = []\n",
    "        res = ''\n",
    "        prev_res = []\n",
    "        index = 0\n",
    "        num = 0\n",
    "        char = ''\n",
    "        while index < len(s):\n",
    "            while index < len(s) and s[index].isdigit():\n",
    "                num = num * 10 + int(s[index])\n",
    "                index += 1\n",
    "            if num:\n",
    "                num_stack.append(num)\n",
    "                num = 0\n",
    "            # print(num_stack)\n",
    "            if s[index] == '[':\n",
    "                prev_res.append(res)\n",
    "                res = ''\n",
    "                index += 1\n",
    "            # print(prev_res)\n",
    "            while index < len(s) and s[index].isalpha():\n",
    "                char += s[index]\n",
    "                index += 1\n",
    "            if char:\n",
    "                res += char\n",
    "                char = ''\n",
    "            if index == len(s):\n",
    "                return res\n",
    "            # print(res)\n",
    "            if s[index] == ']':\n",
    "                temp_prev = prev_res.pop()\n",
    "                temp_num = num_stack.pop()\n",
    "                res = temp_prev + temp_num * res\n",
    "                \n",
    "                index += 1\n",
    "        return res"
   ]
  },
  {
   "cell_type": "code",
   "execution_count": null,
   "metadata": {},
   "outputs": [],
   "source": []
  }
 ],
 "metadata": {
  "kernelspec": {
   "display_name": "Python 3",
   "language": "python",
   "name": "python3"
  },
  "language_info": {
   "codemirror_mode": {
    "name": "ipython",
    "version": 3
   },
   "file_extension": ".py",
   "mimetype": "text/x-python",
   "name": "python",
   "nbconvert_exporter": "python",
   "pygments_lexer": "ipython3",
   "version": "3.7.1"
  },
  "toc": {
   "base_numbering": 1,
   "nav_menu": {},
   "number_sections": true,
   "sideBar": true,
   "skip_h1_title": false,
   "title_cell": "Table of Contents",
   "title_sidebar": "Contents",
   "toc_cell": false,
   "toc_position": {},
   "toc_section_display": true,
   "toc_window_display": false
  }
 },
 "nbformat": 4,
 "nbformat_minor": 2
}
