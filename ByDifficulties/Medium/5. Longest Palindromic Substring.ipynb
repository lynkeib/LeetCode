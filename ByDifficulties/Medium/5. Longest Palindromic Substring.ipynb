{
 "cells": [
  {
   "cell_type": "code",
   "execution_count": 24,
   "metadata": {},
   "outputs": [],
   "source": [
    "class Solution(object):\n",
    "    low = 0\n",
    "    high = 0\n",
    "    def longestPalindrome(self, s):\n",
    "        \"\"\"\n",
    "        :type s: str\n",
    "        :rtype: str\n",
    "        \"\"\"\n",
    "        if len(s) < 2:\n",
    "            return s\n",
    "        for i in range(len(s) - 1):\n",
    "            self.helper(s, i, i)\n",
    "            self.helper(s, i, i + 1)\n",
    "        print(self.low)\n",
    "        print(self.high)\n",
    "        return s[self.low: self.high + 1]\n",
    "        \n",
    "    def helper(self, s, low, high):\n",
    "        while (low >= 0) and (high < len(s)) and s[low] == s[high]:\n",
    "            low -= 1\n",
    "            high += 1\n",
    "        if (high - low - 1) > (self.high - self.low):\n",
    "            self.high = high - 1\n",
    "            self.low = low + 1"
   ]
  },
  {
   "cell_type": "code",
   "execution_count": null,
   "metadata": {},
   "outputs": [],
   "source": []
  }
 ],
 "metadata": {
  "kernelspec": {
   "display_name": "Python 3",
   "language": "python",
   "name": "python3"
  },
  "language_info": {
   "codemirror_mode": {
    "name": "ipython",
    "version": 3
   },
   "file_extension": ".py",
   "mimetype": "text/x-python",
   "name": "python",
   "nbconvert_exporter": "python",
   "pygments_lexer": "ipython3",
   "version": "3.7.3"
  },
  "toc": {
   "base_numbering": 1,
   "nav_menu": {},
   "number_sections": true,
   "sideBar": true,
   "skip_h1_title": false,
   "title_cell": "Table of Contents",
   "title_sidebar": "Contents",
   "toc_cell": false,
   "toc_position": {},
   "toc_section_display": true,
   "toc_window_display": false
  }
 },
 "nbformat": 4,
 "nbformat_minor": 2
}
