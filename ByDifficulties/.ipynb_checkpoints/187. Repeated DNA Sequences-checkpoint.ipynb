{
 "cells": [
  {
   "cell_type": "code",
   "execution_count": 5,
   "metadata": {
    "ExecuteTime": {
     "end_time": "2019-09-03T01:48:56.553415Z",
     "start_time": "2019-09-03T01:48:56.545665Z"
    }
   },
   "outputs": [],
   "source": [
    "class Solution(object):\n",
    "    def findRepeatedDnaSequences(self, s):\n",
    "        \"\"\"\n",
    "        :type s: str\n",
    "        :rtype: List[str]\n",
    "        \"\"\"\n",
    "        if len(s) < 10:\n",
    "            return\n",
    "        res = []\n",
    "        dic = collections.defaultdict(int)\n",
    "        #print(len(s))\n",
    "        for index in range(10, len(s) + 1):\n",
    "            #print(index)\n",
    "            #print(s[index-10:index])\n",
    "            dic[s[index-10:index]] += 1\n",
    "        \n",
    "        for key, value in dic.items():\n",
    "            if value > 1:\n",
    "                res.append(key)\n",
    "        return res"
   ]
  },
  {
   "cell_type": "code",
   "execution_count": null,
   "metadata": {},
   "outputs": [],
   "source": []
  }
 ],
 "metadata": {
  "kernelspec": {
   "display_name": "Python 3",
   "language": "python",
   "name": "python3"
  },
  "language_info": {
   "codemirror_mode": {
    "name": "ipython",
    "version": 3
   },
   "file_extension": ".py",
   "mimetype": "text/x-python",
   "name": "python",
   "nbconvert_exporter": "python",
   "pygments_lexer": "ipython3",
   "version": "3.7.1"
  },
  "toc": {
   "base_numbering": 1,
   "nav_menu": {},
   "number_sections": true,
   "sideBar": true,
   "skip_h1_title": false,
   "title_cell": "Table of Contents",
   "title_sidebar": "Contents",
   "toc_cell": false,
   "toc_position": {},
   "toc_section_display": true,
   "toc_window_display": false
  }
 },
 "nbformat": 4,
 "nbformat_minor": 2
}
