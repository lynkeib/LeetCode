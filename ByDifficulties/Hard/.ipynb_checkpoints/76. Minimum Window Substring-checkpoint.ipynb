{
 "cells": [
  {
   "cell_type": "code",
   "execution_count": 1,
   "metadata": {
    "ExecuteTime": {
     "end_time": "2019-09-03T03:29:15.152746Z",
     "start_time": "2019-09-03T03:29:15.141747Z"
    }
   },
   "outputs": [],
   "source": [
    "class Solution(object):\n",
    "    def minWindow(self, s, t):\n",
    "        \"\"\"\n",
    "        :type s: str\n",
    "        :type t: str\n",
    "        :rtype: str\n",
    "        \"\"\"\n",
    "        if not s or not t:\n",
    "            return \"\"\n",
    "        if len(t) > len(s):\n",
    "            return \"\"\n",
    "        # if len(t) == len(s):\n",
    "        #     return \"\"\n",
    "        ## construc dict_t\n",
    "        dict_t = collections.defaultdict(int)\n",
    "        for i in t:\n",
    "            dict_t[i] += 1\n",
    "        ## initialize dict_s\n",
    "        dict_s = collections.defaultdict(int)\n",
    "        \n",
    "        slow = 0\n",
    "        \n",
    "        res = [0, len(s) - 1]\n",
    "        change_flag = 0\n",
    "        \n",
    "        for fast in range(len(s)):\n",
    "            dict_s[s[fast]] += 1\n",
    "            ## if t in window, then move slow\n",
    "            while self.t_in(dict_s, dict_t):\n",
    "                \n",
    "                ## renew the res if the length is less\n",
    "                original_length = res[1] - res[0] + 1\n",
    "                now_length = fast - slow + 1\n",
    "                if now_length <= original_length:\n",
    "                    res = [slow, fast]\n",
    "                    change_flag = 1\n",
    "                    \n",
    "                # the count of chr at slow in the window -= 1\n",
    "                dict_s[s[slow]] -= 1\n",
    "                if dict_s[s[slow]] == 0:\n",
    "                    del dict_s[s[slow]]\n",
    "                \n",
    "                # Move slow\n",
    "                slow += 1\n",
    "                ## if slow out of index\n",
    "                if slow > len(s) - 1:\n",
    "                    # can return\n",
    "                    # if no change\n",
    "                    if not change_flag:\n",
    "                        return \"\"\n",
    "                    \n",
    "                    return s[res[0]:res[1]+1]\n",
    "        if not change_flag:\n",
    "            return \"\"\n",
    "        return s[res[0]:res[1]+1]\n",
    "                    \n",
    "    def t_in(self, s, t):\n",
    "        for key, value in t.items():\n",
    "            if key not in s:\n",
    "                return False\n",
    "            elif s[key] < value:\n",
    "                    return False\n",
    "        return True"
   ]
  },
  {
   "cell_type": "code",
   "execution_count": null,
   "metadata": {},
   "outputs": [],
   "source": []
  }
 ],
 "metadata": {
  "kernelspec": {
   "display_name": "Python 3",
   "language": "python",
   "name": "python3"
  },
  "language_info": {
   "codemirror_mode": {
    "name": "ipython",
    "version": 3
   },
   "file_extension": ".py",
   "mimetype": "text/x-python",
   "name": "python",
   "nbconvert_exporter": "python",
   "pygments_lexer": "ipython3",
   "version": "3.7.1"
  },
  "toc": {
   "base_numbering": 1,
   "nav_menu": {},
   "number_sections": true,
   "sideBar": true,
   "skip_h1_title": false,
   "title_cell": "Table of Contents",
   "title_sidebar": "Contents",
   "toc_cell": false,
   "toc_position": {},
   "toc_section_display": true,
   "toc_window_display": false
  }
 },
 "nbformat": 4,
 "nbformat_minor": 2
}
