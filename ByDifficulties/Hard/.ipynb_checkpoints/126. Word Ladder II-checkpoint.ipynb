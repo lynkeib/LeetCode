{
 "cells": [
  {
   "cell_type": "code",
   "execution_count": 1,
   "metadata": {
    "ExecuteTime": {
     "end_time": "2019-09-03T16:29:43.340112Z",
     "start_time": "2019-09-03T16:29:43.331588Z"
    }
   },
   "outputs": [],
   "source": [
    "class Solution(object):\n",
    "    def findLadders(self, beginWord, endWord, wordList):\n",
    "        \"\"\"\n",
    "        :type beginWord: str\n",
    "        :type endWord: str\n",
    "        :type wordList: List[str]\n",
    "        :rtype: List[List[str]]\n",
    "        \"\"\"\n",
    "        wordList = set(wordList)\n",
    "        if endWord not in wordList:\n",
    "            return []\n",
    "        path = {beginWord:[[beginWord]]}\n",
    "        res = []\n",
    "        \n",
    "        while path:\n",
    "            #print(path)\n",
    "            next_path = collections.defaultdict(list)\n",
    "            for word in path:\n",
    "                if word == endWord:\n",
    "                    res += path[word]\n",
    "                else:\n",
    "                    for index in range(len(word)):\n",
    "                        for c in string.lowercase:\n",
    "                            new_word = word[:index] + c + word[index+1:]\n",
    "                            if new_word in wordList:\n",
    "                                next_path[new_word] += [i + [new_word] for i in path[word]]\n",
    "            wordList -= set(next_path.keys())\n",
    "            path = next_path\n",
    "        return res"
   ]
  },
  {
   "cell_type": "code",
   "execution_count": null,
   "metadata": {},
   "outputs": [],
   "source": []
  }
 ],
 "metadata": {
  "kernelspec": {
   "display_name": "Python 3",
   "language": "python",
   "name": "python3"
  },
  "language_info": {
   "codemirror_mode": {
    "name": "ipython",
    "version": 3
   },
   "file_extension": ".py",
   "mimetype": "text/x-python",
   "name": "python",
   "nbconvert_exporter": "python",
   "pygments_lexer": "ipython3",
   "version": "3.7.1"
  },
  "toc": {
   "base_numbering": 1,
   "nav_menu": {},
   "number_sections": true,
   "sideBar": true,
   "skip_h1_title": false,
   "title_cell": "Table of Contents",
   "title_sidebar": "Contents",
   "toc_cell": false,
   "toc_position": {},
   "toc_section_display": true,
   "toc_window_display": false
  }
 },
 "nbformat": 4,
 "nbformat_minor": 2
}
