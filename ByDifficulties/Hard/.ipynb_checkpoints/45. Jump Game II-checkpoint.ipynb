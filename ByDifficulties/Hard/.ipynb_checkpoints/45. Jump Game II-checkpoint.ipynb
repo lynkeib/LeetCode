{
 "cells": [
  {
   "cell_type": "code",
   "execution_count": 2,
   "metadata": {
    "ExecuteTime": {
     "end_time": "2019-08-29T21:36:58.839453Z",
     "start_time": "2019-08-29T21:36:58.829216Z"
    }
   },
   "outputs": [],
   "source": [
    "class Solution(object):\n",
    "    def jump(self, nums):\n",
    "        \"\"\"\n",
    "        :type nums: List[int]\n",
    "        :rtype: int\n",
    "        \"\"\"\n",
    "        if not nums or len(nums) == 1:\n",
    "            return 0\n",
    "        index = 0\n",
    "        res = 0\n",
    "        while 1:\n",
    "            #steps = nums[index]\n",
    "            if index + nums[index] >= len(nums) - 1:\n",
    "                return res + 1\n",
    "            #max_value = -1\n",
    "            max_index = index\n",
    "            for i in range(index + 1, index + nums[index] + 1):\n",
    "                if i + nums[i] >= len(nums) - 1:\n",
    "                    return res + 2\n",
    "                if i + nums[i] >= max_index + nums[max_index]:\n",
    "                    #max_value = i + nums[i]\n",
    "                    max_index = i\n",
    "            index = max_index\n",
    "            res += 1\n",
    "        return res"
   ]
  },
  {
   "cell_type": "code",
   "execution_count": null,
   "metadata": {},
   "outputs": [],
   "source": []
  }
 ],
 "metadata": {
  "kernelspec": {
   "display_name": "Python 3",
   "language": "python",
   "name": "python3"
  },
  "language_info": {
   "codemirror_mode": {
    "name": "ipython",
    "version": 3
   },
   "file_extension": ".py",
   "mimetype": "text/x-python",
   "name": "python",
   "nbconvert_exporter": "python",
   "pygments_lexer": "ipython3",
   "version": "3.7.1"
  },
  "toc": {
   "base_numbering": 1,
   "nav_menu": {},
   "number_sections": true,
   "sideBar": true,
   "skip_h1_title": false,
   "title_cell": "Table of Contents",
   "title_sidebar": "Contents",
   "toc_cell": false,
   "toc_position": {},
   "toc_section_display": true,
   "toc_window_display": false
  }
 },
 "nbformat": 4,
 "nbformat_minor": 2
}
