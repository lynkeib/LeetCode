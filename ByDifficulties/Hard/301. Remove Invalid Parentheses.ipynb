{
 "cells": [
  {
   "cell_type": "code",
   "execution_count": 1,
   "metadata": {
    "ExecuteTime": {
     "end_time": "2019-08-26T17:55:19.606965Z",
     "start_time": "2019-08-26T17:55:19.594546Z"
    }
   },
   "outputs": [],
   "source": [
    "class Solution(object):\n",
    "    def removeInvalidParentheses(self, s):\n",
    "        \"\"\"\n",
    "        :type s: str\n",
    "        :rtype: List[str]\n",
    "        \"\"\"\n",
    "        res = []\n",
    "        left, right = self.invalidNumLR(s)\n",
    "        self.dfs(s, 0, left, right, res)\n",
    "        return res\n",
    "        \n",
    "        \n",
    "    def invalidNumLR(self, s):\n",
    "        left, right = 0, 0\n",
    "        for i in s:\n",
    "            left += (i == '(')\n",
    "            if i == ')' and left:\n",
    "                left -= 1\n",
    "            else:\n",
    "                right += (i == ')')\n",
    "        return left, right\n",
    "    \n",
    "    def isvalid(self, s):\n",
    "        count = 0\n",
    "        for i in s:\n",
    "            if i == \"(\":\n",
    "                count += 1\n",
    "            elif i == \")\":\n",
    "                count -= 1\n",
    "                if count < 0:\n",
    "                    return False\n",
    "        return count == 0\n",
    "    \n",
    "    def erase(self, s, index):\n",
    "        return s[:index] + s[index + 1:]\n",
    "    \n",
    "    def dfs(self, s, start, left, right, res):\n",
    "        if self.isvalid(s) and left == right == 0:\n",
    "            res.append(s)\n",
    "            return\n",
    "        for i in range(start, len(s)):\n",
    "            if i != start and s[i] == s[i - 1]:\n",
    "                continue\n",
    "            else:\n",
    "                if right and s[i] == \")\":\n",
    "                    curr = self.erase(s, i)\n",
    "                    self.dfs(curr, i, left, right - 1, res)\n",
    "                elif left and s[i] == '(':\n",
    "                    curr = self.erase(s, i)\n",
    "                    self.dfs(curr, i, left - 1, right, res)"
   ]
  },
  {
   "cell_type": "code",
   "execution_count": null,
   "metadata": {},
   "outputs": [],
   "source": []
  }
 ],
 "metadata": {
  "kernelspec": {
   "display_name": "Python 3",
   "language": "python",
   "name": "python3"
  },
  "language_info": {
   "codemirror_mode": {
    "name": "ipython",
    "version": 3
   },
   "file_extension": ".py",
   "mimetype": "text/x-python",
   "name": "python",
   "nbconvert_exporter": "python",
   "pygments_lexer": "ipython3",
   "version": "3.7.1"
  },
  "toc": {
   "base_numbering": 1,
   "nav_menu": {},
   "number_sections": true,
   "sideBar": true,
   "skip_h1_title": false,
   "title_cell": "Table of Contents",
   "title_sidebar": "Contents",
   "toc_cell": false,
   "toc_position": {},
   "toc_section_display": true,
   "toc_window_display": false
  }
 },
 "nbformat": 4,
 "nbformat_minor": 2
}
