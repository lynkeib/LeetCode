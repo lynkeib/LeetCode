{
 "cells": [
  {
   "cell_type": "code",
   "execution_count": 2,
   "metadata": {
    "ExecuteTime": {
     "end_time": "2019-08-31T01:54:38.413579Z",
     "start_time": "2019-08-31T01:54:38.403350Z"
    }
   },
   "outputs": [],
   "source": [
    "class Solution(object):\n",
    "    def solveNQueens(self, n):\n",
    "        \"\"\"\n",
    "        :type n: int\n",
    "        :rtype: List[List[str]]\n",
    "        \"\"\"\n",
    "        #forbiden_col = [-1] * n\n",
    "        col_occupied = [-1] * n\n",
    "        res = []\n",
    "        self.dfs(0, n, col_occupied, [['.'] * n for _ in range(n)], res)\n",
    "        return res\n",
    "    \n",
    "    def dfs(self, row, n, col_occupied, path, res):\n",
    "        if row == n:\n",
    "            res.append([''.join(i) for i in path])\n",
    "            #print(f'path is {path}')\n",
    "            return \n",
    "        forbiden_col = [0] * n\n",
    "        for curr_row in range(row):\n",
    "            dif = row - curr_row # difference between \n",
    "            forbiden_col[col_occupied[curr_row]] = 1\n",
    "            if col_occupied[curr_row] + dif < n:\n",
    "                forbiden_col[col_occupied[curr_row] + dif] = 1\n",
    "            if col_occupied[curr_row] - dif > -1:\n",
    "                forbiden_col[col_occupied[curr_row] - dif] = 1\n",
    "        # print()\n",
    "        # print(f'row is {row}')\n",
    "        # print(f'path is {path}')\n",
    "        # print(forbiden_col)\n",
    "        # print()\n",
    "        if sum(forbiden_col) == n:\n",
    "            return\n",
    "        for col in range(n):\n",
    "            if forbiden_col[col] != 1:\n",
    "                col_occupied[row] = col\n",
    "                path[row][col] = 'Q'\n",
    "                self.dfs(row + 1, n, col_occupied, path, res)\n",
    "                path[row][col] = '.'\n",
    "                col_occupied[row] = -1"
   ]
  },
  {
   "cell_type": "code",
   "execution_count": 3,
   "metadata": {
    "ExecuteTime": {
     "end_time": "2019-08-31T02:31:46.815307Z",
     "start_time": "2019-08-31T02:31:46.806227Z"
    }
   },
   "outputs": [],
   "source": [
    "class Solution(object):\n",
    "    def solveNQueens(self, n):\n",
    "        \"\"\"\n",
    "        :type n: int\n",
    "        :rtype: List[List[str]]\n",
    "        \"\"\"\n",
    "        col_occupied = [-1] * n\n",
    "        res = []\n",
    "        self.dfs(0, n, col_occupied, [['.'] * n for _ in range(n)], res, [], [])\n",
    "        return res\n",
    "    \n",
    "    def dfs(self, row, n, col_occupied, path, res, left, right):\n",
    "        if row == n:\n",
    "            res.append([''.join(i) for i in path])\n",
    "            #print(f'path is {path}')\n",
    "            return \n",
    "        if -1 not in col_occupied:\n",
    "            return\n",
    "        for col in range(n):\n",
    "            if col not in col_occupied and col + row not in left and row - col not in right:\n",
    "                col_occupied[row] = col\n",
    "                path[row][col] = 'Q'\n",
    "                self.dfs(row + 1, n, col_occupied, path, res, left + [row + col], right + [row - col])\n",
    "                path[row][col] = '.'\n",
    "                col_occupied[row] = -1"
   ]
  },
  {
   "cell_type": "code",
   "execution_count": 4,
   "metadata": {
    "ExecuteTime": {
     "end_time": "2019-08-31T03:04:06.129870Z",
     "start_time": "2019-08-31T03:04:06.123070Z"
    }
   },
   "outputs": [],
   "source": [
    "class Solution(object):\n",
    "    def solveNQueens(self, n):\n",
    "        \"\"\"\n",
    "        :type n: int\n",
    "        :rtype: List[List[str]]\n",
    "        \"\"\"\n",
    "        col_occupied = [-1] * n\n",
    "        res = []\n",
    "        self.dfs(0, n, col_occupied, res, [], [])\n",
    "        return res\n",
    "    \n",
    "    def dfs(self, row, n, col_occupied, res, left, right):\n",
    "        if row == n:\n",
    "            res.append(['.'*(col) + 'Q' + '.'*(n-col-1) for col in col_occupied])\n",
    "            #print(f'path is {path}')\n",
    "            return \n",
    "        if -1 not in col_occupied:\n",
    "            return\n",
    "        for col in range(n):\n",
    "            if col not in col_occupied and col + row not in left and row - col not in right:\n",
    "                col_occupied[row] = col\n",
    "                self.dfs(row + 1, n, col_occupied, res, left + [row + col], right + [row - col])\n",
    "                col_occupied[row] = -1"
   ]
  },
  {
   "cell_type": "code",
   "execution_count": null,
   "metadata": {},
   "outputs": [],
   "source": []
  }
 ],
 "metadata": {
  "kernelspec": {
   "display_name": "Python 3",
   "language": "python",
   "name": "python3"
  },
  "language_info": {
   "codemirror_mode": {
    "name": "ipython",
    "version": 3
   },
   "file_extension": ".py",
   "mimetype": "text/x-python",
   "name": "python",
   "nbconvert_exporter": "python",
   "pygments_lexer": "ipython3",
   "version": "3.7.1"
  },
  "toc": {
   "base_numbering": 1,
   "nav_menu": {},
   "number_sections": true,
   "sideBar": true,
   "skip_h1_title": false,
   "title_cell": "Table of Contents",
   "title_sidebar": "Contents",
   "toc_cell": false,
   "toc_position": {},
   "toc_section_display": true,
   "toc_window_display": false
  }
 },
 "nbformat": 4,
 "nbformat_minor": 2
}
