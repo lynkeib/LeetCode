{
 "cells": [
  {
   "cell_type": "code",
   "execution_count": 1,
   "metadata": {
    "ExecuteTime": {
     "end_time": "2019-08-31T04:07:01.196299Z",
     "start_time": "2019-08-31T04:07:01.188033Z"
    }
   },
   "outputs": [],
   "source": [
    "class Solution(object):\n",
    "    def countSmaller(self, nums):\n",
    "        \"\"\"\n",
    "        :type nums: List[int]\n",
    "        :rtype: List[int]\n",
    "        \"\"\"\n",
    "        if not nums:\n",
    "            return None\n",
    "        dp = collections.defaultdict(int)\n",
    "        res = [0] * len(nums)\n",
    "        self.backtracking(0, nums, dp, res)\n",
    "        return res\n",
    "    \n",
    "    def backtracking(self, index, nums, dp, res):\n",
    "        if index == len(nums) - 1:\n",
    "            dp[nums[index]] = 1\n",
    "            res[index] = 0\n",
    "            return \n",
    "        self.backtracking(index + 1, nums, dp, res)\n",
    "        less_than = 0\n",
    "        for key, value in dp.items():\n",
    "            if key < nums[index]:\n",
    "                less_than += value\n",
    "        res[index] = less_than\n",
    "        dp[nums[index]] += 1"
   ]
  },
  {
   "cell_type": "code",
   "execution_count": null,
   "metadata": {},
   "outputs": [],
   "source": []
  }
 ],
 "metadata": {
  "kernelspec": {
   "display_name": "Python 3",
   "language": "python",
   "name": "python3"
  },
  "language_info": {
   "codemirror_mode": {
    "name": "ipython",
    "version": 3
   },
   "file_extension": ".py",
   "mimetype": "text/x-python",
   "name": "python",
   "nbconvert_exporter": "python",
   "pygments_lexer": "ipython3",
   "version": "3.7.1"
  },
  "toc": {
   "base_numbering": 1,
   "nav_menu": {},
   "number_sections": true,
   "sideBar": true,
   "skip_h1_title": false,
   "title_cell": "Table of Contents",
   "title_sidebar": "Contents",
   "toc_cell": false,
   "toc_position": {},
   "toc_section_display": true,
   "toc_window_display": false
  }
 },
 "nbformat": 4,
 "nbformat_minor": 2
}
