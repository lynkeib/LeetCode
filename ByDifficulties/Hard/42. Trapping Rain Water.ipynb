{
 "cells": [
  {
   "cell_type": "code",
   "execution_count": 1,
   "metadata": {
    "ExecuteTime": {
     "end_time": "2019-09-05T09:44:25.697902Z",
     "start_time": "2019-09-05T09:44:25.690737Z"
    }
   },
   "outputs": [],
   "source": [
    "class Solution(object):\n",
    "    def trap(self, height):\n",
    "        \"\"\"\n",
    "        :type height: List[int]\n",
    "        :rtype: int\n",
    "        \"\"\"\n",
    "        left_most, right_most = 0, 0\n",
    "        left, right = 0, len(height) - 1\n",
    "        res = 0\n",
    "        while left <= right:\n",
    "            if left_most <= right_most:\n",
    "                #print('left is', left, 'height is', height[left])\n",
    "                if height[left] > left_most:\n",
    "                    #print('renew left', left, left_most)\n",
    "                    left_most = height[left]\n",
    "                else:\n",
    "                    #print('add to res', res, left_most - height[left])\n",
    "                    res += (left_most - height[left])\n",
    "                left += 1\n",
    "            else:\n",
    "                #print('right is', right, 'height is', height[right])\n",
    "                if height[right] > right_most:\n",
    "                    #print('renew right', right, right_most)\n",
    "                    right_most = height[right]\n",
    "                else:\n",
    "                    #print('add to res', res, right_most - height[right])\n",
    "                    res += (right_most - height[right])\n",
    "                right -= 1\n",
    "            #print('---------')\n",
    "        return res"
   ]
  },
  {
   "cell_type": "code",
   "execution_count": null,
   "metadata": {},
   "outputs": [],
   "source": []
  }
 ],
 "metadata": {
  "kernelspec": {
   "display_name": "Python 3",
   "language": "python",
   "name": "python3"
  },
  "language_info": {
   "codemirror_mode": {
    "name": "ipython",
    "version": 3
   },
   "file_extension": ".py",
   "mimetype": "text/x-python",
   "name": "python",
   "nbconvert_exporter": "python",
   "pygments_lexer": "ipython3",
   "version": "3.7.1"
  },
  "toc": {
   "base_numbering": 1,
   "nav_menu": {},
   "number_sections": true,
   "sideBar": true,
   "skip_h1_title": false,
   "title_cell": "Table of Contents",
   "title_sidebar": "Contents",
   "toc_cell": false,
   "toc_position": {},
   "toc_section_display": true,
   "toc_window_display": false
  }
 },
 "nbformat": 4,
 "nbformat_minor": 2
}
