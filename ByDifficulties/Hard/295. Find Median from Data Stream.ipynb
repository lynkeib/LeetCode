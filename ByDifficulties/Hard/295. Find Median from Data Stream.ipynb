{
 "cells": [
  {
   "cell_type": "code",
   "execution_count": 1,
   "metadata": {
    "ExecuteTime": {
     "end_time": "2019-08-25T22:40:01.168512Z",
     "start_time": "2019-08-25T22:40:01.156466Z"
    }
   },
   "outputs": [],
   "source": [
    "import heapq\n",
    "\n",
    "\n",
    "class MedianFinder(object):\n",
    "\n",
    "    def __init__(self):\n",
    "        \"\"\"\n",
    "        initialize your data structure here.\n",
    "        \"\"\"\n",
    "        self.max_heap = []\n",
    "        self.min_heap = []\n",
    "\n",
    "    def addNum(self, num):\n",
    "        \"\"\"\n",
    "        :type num: int\n",
    "        :rtype: None\n",
    "        \"\"\"\n",
    "        if len(self.max_heap) == 0:\n",
    "            self.max_heap.append(-num)\n",
    "            print(self.max_heap, self.min_heap)\n",
    "        else:\n",
    "            if len(self.max_heap) == len(self.min_heap):\n",
    "                if num <= -self.max_heap[0]:\n",
    "                    heapq.heappush(self.max_heap, -num)\n",
    "                else:\n",
    "                    heapq.heappush(self.min_heap, num)\n",
    "            elif len(self.max_heap) > len(self.min_heap):\n",
    "                if num > -self.max_heap[0]:\n",
    "                    heapq.heappush(self.min_heap, num)\n",
    "                else:\n",
    "                    heapq.heappush(self.min_heap, -heapq.heappop(self.max_heap))\n",
    "                    heapq.heappush(self.max_heap, -num)\n",
    "            elif len(self.max_heap) < len(self.min_heap):\n",
    "                if num < self.min_heap[0]:\n",
    "                    heapq.heappush(self.max_heap, -num)\n",
    "                else:\n",
    "                    heapq.heappush(self.max_heap, -heapq.heappop(self.min_heap))\n",
    "                    heapq.heappush(self.min_heap, num)\n",
    "            print(self.max_heap, self.min_heap)\n",
    "\n",
    "\n",
    "    def findMedian(self):\n",
    "        \"\"\"\n",
    "        :rtype: float\n",
    "        \"\"\"\n",
    "        if len(self.max_heap) == len(self.min_heap):\n",
    "            return (-self.max_heap[0] + self.min_heap[0]) / 2.0\n",
    "        elif len(self.max_heap) < len(self.min_heap):\n",
    "            return self.min_heap[0]\n",
    "        else:\n",
    "            return -self.max_heap[0]\n",
    "\n",
    "# Your MedianFinder object will be instantiated and called as such:\n",
    "# obj = MedianFinder()\n",
    "# obj.addNum(num)\n",
    "# param_2 = obj.findMedian()"
   ]
  },
  {
   "cell_type": "code",
   "execution_count": null,
   "metadata": {},
   "outputs": [],
   "source": []
  }
 ],
 "metadata": {
  "kernelspec": {
   "display_name": "Python 3",
   "language": "python",
   "name": "python3"
  },
  "language_info": {
   "codemirror_mode": {
    "name": "ipython",
    "version": 3
   },
   "file_extension": ".py",
   "mimetype": "text/x-python",
   "name": "python",
   "nbconvert_exporter": "python",
   "pygments_lexer": "ipython3",
   "version": "3.7.1"
  },
  "toc": {
   "base_numbering": 1,
   "nav_menu": {},
   "number_sections": true,
   "sideBar": true,
   "skip_h1_title": false,
   "title_cell": "Table of Contents",
   "title_sidebar": "Contents",
   "toc_cell": false,
   "toc_position": {},
   "toc_section_display": true,
   "toc_window_display": false
  }
 },
 "nbformat": 4,
 "nbformat_minor": 2
}
