{
 "cells": [
  {
   "cell_type": "code",
   "execution_count": 1,
   "metadata": {
    "ExecuteTime": {
     "end_time": "2019-08-27T19:59:06.415485Z",
     "start_time": "2019-08-27T19:59:06.408573Z"
    }
   },
   "outputs": [],
   "source": [
    "# Definition for singly-linked list.\n",
    "# class ListNode(object):\n",
    "#     def __init__(self, x):\n",
    "#         self.val = x\n",
    "#         self.next = None\n",
    "\n",
    "class Solution(object):\n",
    "    def mergeKLists(self, lists):\n",
    "        \"\"\"\n",
    "        :type lists: List[ListNode]\n",
    "        :rtype: ListNode\n",
    "        \"\"\"\n",
    "        if not lists:\n",
    "            return None\n",
    "        for i in range(1, len(lists)):\n",
    "            lists[i] = self.mergetwo(lists[i - 1], lists[i])\n",
    "        return lists[-1]\n",
    "        \n",
    "    def mergetwo(self, l1, l2):\n",
    "        dummyhead = ListNode(0)\n",
    "        tail = dummyhead\n",
    "        while l1 and l2:\n",
    "            if l1.val > l2.val:\n",
    "                l1, l2 = l2, l1\n",
    "            tail.next = l1\n",
    "            l1 = l1.next\n",
    "            tail = tail.next\n",
    "        tail.next = l1 if l1 else l2\n",
    "        return dummyhead.next"
   ]
  },
  {
   "cell_type": "code",
   "execution_count": 2,
   "metadata": {
    "ExecuteTime": {
     "end_time": "2019-08-27T20:17:15.344600Z",
     "start_time": "2019-08-27T20:17:15.335918Z"
    }
   },
   "outputs": [],
   "source": [
    "# Definition for singly-linked list.\n",
    "# class ListNode(object):\n",
    "#     def __init__(self, x):\n",
    "#         self.val = x\n",
    "#         self.next = None\n",
    "\n",
    "class Solution(object):\n",
    "    def mergeKLists(self, lists):\n",
    "        \"\"\"\n",
    "        :type lists: List[ListNode]\n",
    "        :rtype: ListNode\n",
    "        \"\"\"\n",
    "        lists = [i for i in lists if i]\n",
    "        if not lists:\n",
    "            return None\n",
    "        dummyhead = ListNode(0)\n",
    "        tail = dummyhead\n",
    "        while len(lists) != 1:\n",
    "            lists = sorted(lists, key = lambda a: a.val)\n",
    "            tail.next = lists[0]\n",
    "            if lists[0].next:\n",
    "                lists[0] = lists[0].next\n",
    "            else:\n",
    "                lists = lists[1:]\n",
    "            tail = tail.next\n",
    "        tail.next = lists[0]\n",
    "        return dummyhead.next"
   ]
  },
  {
   "cell_type": "code",
   "execution_count": 3,
   "metadata": {
    "ExecuteTime": {
     "end_time": "2019-08-27T21:29:35.956311Z",
     "start_time": "2019-08-27T21:29:35.948156Z"
    }
   },
   "outputs": [],
   "source": [
    "# Definition for singly-linked list.\n",
    "# class ListNode(object):\n",
    "#     def __init__(self, x):\n",
    "#         self.val = x\n",
    "#         self.next = None\n",
    "\n",
    "class Solution(object):\n",
    "    def mergeKLists(self, lists):\n",
    "        \"\"\"\n",
    "        :type lists: List[ListNode]\n",
    "        :rtype: ListNode\n",
    "        \"\"\"\n",
    "        if not lists:\n",
    "            return None\n",
    "        if len(lists) == 1:\n",
    "            return lists[0]\n",
    "        if len(lists) == 2:\n",
    "            return self.merge(lists[0], lists[1])\n",
    "        length = len(lists)\n",
    "        l1 = self.mergeKLists(lists[:length//2])\n",
    "        l2 = self.mergeKLists(lists[length//2:])\n",
    "        return self.merge(l1, l2)\n",
    "        \n",
    "    def merge(self, l1, l2):\n",
    "        dummyhead = ListNode(0)\n",
    "        tail = dummyhead\n",
    "        while l1 and l2:\n",
    "            if l1.val > l2.val:\n",
    "                l1, l2 = l2, l1\n",
    "            tail.next = l1\n",
    "            l1 = l1.next\n",
    "            tail = tail.next\n",
    "        tail.next = l1 if l1 else l2\n",
    "        return dummyhead.next"
   ]
  },
  {
   "cell_type": "code",
   "execution_count": null,
   "metadata": {},
   "outputs": [],
   "source": []
  }
 ],
 "metadata": {
  "kernelspec": {
   "display_name": "Python 3",
   "language": "python",
   "name": "python3"
  },
  "language_info": {
   "codemirror_mode": {
    "name": "ipython",
    "version": 3
   },
   "file_extension": ".py",
   "mimetype": "text/x-python",
   "name": "python",
   "nbconvert_exporter": "python",
   "pygments_lexer": "ipython3",
   "version": "3.7.1"
  },
  "toc": {
   "base_numbering": 1,
   "nav_menu": {},
   "number_sections": true,
   "sideBar": true,
   "skip_h1_title": false,
   "title_cell": "Table of Contents",
   "title_sidebar": "Contents",
   "toc_cell": false,
   "toc_position": {},
   "toc_section_display": true,
   "toc_window_display": false
  }
 },
 "nbformat": 4,
 "nbformat_minor": 2
}
