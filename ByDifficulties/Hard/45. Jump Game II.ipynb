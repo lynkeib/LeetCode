{
 "cells": [
  {
   "cell_type": "code",
   "execution_count": 8,
   "metadata": {
    "ExecuteTime": {
     "end_time": "2019-08-29T23:46:31.180892Z",
     "start_time": "2019-08-29T23:46:31.175467Z"
    }
   },
   "outputs": [],
   "source": [
    "class Solution(object):\n",
    "    def jump(self, nums):\n",
    "        \"\"\"\n",
    "        :type nums: List[int]\n",
    "        :rtype: int\n",
    "        \"\"\"\n",
    "        if len(nums)==1:\n",
    "            return 0\n",
    "        \n",
    "        jumps = 0\n",
    "        steps = nums[0]\n",
    "        max_reach = nums[0]\n",
    "        for i in range(1,len(nums)-1):\n",
    "            max_reach = max(max_reach,i+nums[i])\n",
    "            steps -=1\n",
    "            print(steps)\n",
    "            if steps==0:\n",
    "                jumps+=1\n",
    "                steps = max_reach-i\n",
    "                \n",
    "        return jumps+1"
   ]
  },
  {
   "cell_type": "code",
   "execution_count": 11,
   "metadata": {
    "ExecuteTime": {
     "end_time": "2019-08-29T23:54:03.332277Z",
     "start_time": "2019-08-29T23:54:03.326581Z"
    }
   },
   "outputs": [],
   "source": [
    "class Solution(object):\n",
    "    def jump(self, nums):\n",
    "        \"\"\"\n",
    "        :type nums: List[int]\n",
    "        :rtype: int\n",
    "        \"\"\"\n",
    "        if not nums or len(nums) == 1:\n",
    "            return 0\n",
    "        farest = nums[0]\n",
    "        step_left = nums[0]\n",
    "        res = 0\n",
    "        for i in range(1, len(nums) - 1):\n",
    "            farest = max(farest, i + nums[i])\n",
    "            # if farest >= len(nums) - 1:\n",
    "            #     return res + 2\n",
    "            step_left -= 1\n",
    "            if step_left == 0:\n",
    "                res += 1\n",
    "                step_left = farest - i\n",
    "        return res + 1"
   ]
  },
  {
   "cell_type": "code",
   "execution_count": null,
   "metadata": {},
   "outputs": [],
   "source": []
  }
 ],
 "metadata": {
  "kernelspec": {
   "display_name": "Python 3",
   "language": "python",
   "name": "python3"
  },
  "language_info": {
   "codemirror_mode": {
    "name": "ipython",
    "version": 3
   },
   "file_extension": ".py",
   "mimetype": "text/x-python",
   "name": "python",
   "nbconvert_exporter": "python",
   "pygments_lexer": "ipython3",
   "version": "3.7.1"
  },
  "toc": {
   "base_numbering": 1,
   "nav_menu": {},
   "number_sections": true,
   "sideBar": true,
   "skip_h1_title": false,
   "title_cell": "Table of Contents",
   "title_sidebar": "Contents",
   "toc_cell": false,
   "toc_position": {},
   "toc_section_display": true,
   "toc_window_display": false
  }
 },
 "nbformat": 4,
 "nbformat_minor": 2
}
