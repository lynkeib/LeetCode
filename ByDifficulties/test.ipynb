{
 "cells": [
  {
   "cell_type": "code",
   "execution_count": 69,
   "metadata": {
    "ExecuteTime": {
     "end_time": "2019-09-03T04:21:55.633224Z",
     "start_time": "2019-09-03T04:21:55.630033Z"
    }
   },
   "outputs": [],
   "source": [
    "a = set([])"
   ]
  },
  {
   "cell_type": "code",
   "execution_count": 70,
   "metadata": {
    "ExecuteTime": {
     "end_time": "2019-09-03T04:21:58.716655Z",
     "start_time": "2019-09-03T04:21:58.713672Z"
    }
   },
   "outputs": [],
   "source": [
    "a.add('dad')"
   ]
  },
  {
   "cell_type": "code",
   "execution_count": 71,
   "metadata": {
    "ExecuteTime": {
     "end_time": "2019-09-03T04:21:59.741414Z",
     "start_time": "2019-09-03T04:21:59.736372Z"
    }
   },
   "outputs": [
    {
     "data": {
      "text/plain": [
       "{'dad'}"
      ]
     },
     "execution_count": 71,
     "metadata": {},
     "output_type": "execute_result"
    }
   ],
   "source": [
    "a"
   ]
  },
  {
   "cell_type": "code",
   "execution_count": 72,
   "metadata": {
    "ExecuteTime": {
     "end_time": "2019-09-03T04:22:05.247497Z",
     "start_time": "2019-09-03T04:22:05.244332Z"
    }
   },
   "outputs": [],
   "source": [
    "a.add('cdsdf')"
   ]
  },
  {
   "cell_type": "code",
   "execution_count": 73,
   "metadata": {
    "ExecuteTime": {
     "end_time": "2019-09-03T04:22:05.913586Z",
     "start_time": "2019-09-03T04:22:05.909483Z"
    }
   },
   "outputs": [
    {
     "data": {
      "text/plain": [
       "{'cdsdf', 'dad'}"
      ]
     },
     "execution_count": 73,
     "metadata": {},
     "output_type": "execute_result"
    }
   ],
   "source": [
    "a"
   ]
  },
  {
   "cell_type": "code",
   "execution_count": 78,
   "metadata": {
    "ExecuteTime": {
     "end_time": "2019-09-03T06:04:49.544495Z",
     "start_time": "2019-09-03T06:04:49.538920Z"
    }
   },
   "outputs": [
    {
     "name": "stdout",
     "output_type": "stream",
     "text": [
      "['255', '255', '11', '135']\n"
     ]
    }
   ],
   "source": [
    "indexes = [3, 6, 8]\n",
    "address = '25525511135'\n",
    "ip = []\n",
    "indexes = [0] + indexes + [len(address)]\n",
    "for index in range(1, 5):\n",
    "    ip.append(str(address[indexes[index - 1]:indexes[index]]))\n",
    "print(ip)\n",
    "# res.append('.'.join(ip))"
   ]
  },
  {
   "cell_type": "code",
   "execution_count": null,
   "metadata": {},
   "outputs": [],
   "source": []
  }
 ],
 "metadata": {
  "kernelspec": {
   "display_name": "Python 3",
   "language": "python",
   "name": "python3"
  },
  "language_info": {
   "codemirror_mode": {
    "name": "ipython",
    "version": 3
   },
   "file_extension": ".py",
   "mimetype": "text/x-python",
   "name": "python",
   "nbconvert_exporter": "python",
   "pygments_lexer": "ipython3",
   "version": "3.7.1"
  },
  "toc": {
   "base_numbering": 1,
   "nav_menu": {},
   "number_sections": true,
   "sideBar": true,
   "skip_h1_title": false,
   "title_cell": "Table of Contents",
   "title_sidebar": "Contents",
   "toc_cell": false,
   "toc_position": {},
   "toc_section_display": true,
   "toc_window_display": false
  }
 },
 "nbformat": 4,
 "nbformat_minor": 2
}
