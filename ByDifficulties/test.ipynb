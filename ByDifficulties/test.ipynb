{
 "cells": [
  {
   "cell_type": "code",
   "execution_count": 43,
   "metadata": {
    "ExecuteTime": {
     "end_time": "2019-09-03T22:03:54.462072Z",
     "start_time": "2019-09-03T22:03:54.457472Z"
    }
   },
   "outputs": [
    {
     "data": {
      "text/plain": [
       "0"
      ]
     },
     "execution_count": 43,
     "metadata": {},
     "output_type": "execute_result"
    }
   ],
   "source": [
    "'000000'"
   ]
  },
  {
   "cell_type": "code",
   "execution_count": 50,
   "metadata": {
    "ExecuteTime": {
     "end_time": "2019-09-04T00:24:30.263575Z",
     "start_time": "2019-09-04T00:24:30.260623Z"
    }
   },
   "outputs": [],
   "source": [
    "a = 8"
   ]
  },
  {
   "cell_type": "code",
   "execution_count": 51,
   "metadata": {
    "ExecuteTime": {
     "end_time": "2019-09-04T00:24:30.628064Z",
     "start_time": "2019-09-04T00:24:30.624578Z"
    }
   },
   "outputs": [],
   "source": [
    "b = '{:0'+ str(a) +'b}'"
   ]
  },
  {
   "cell_type": "code",
   "execution_count": 52,
   "metadata": {
    "ExecuteTime": {
     "end_time": "2019-09-04T00:24:35.653226Z",
     "start_time": "2019-09-04T00:24:35.648399Z"
    }
   },
   "outputs": [
    {
     "data": {
      "text/plain": [
       "'00000011'"
      ]
     },
     "execution_count": 52,
     "metadata": {},
     "output_type": "execute_result"
    }
   ],
   "source": [
    "b.format(3)"
   ]
  },
  {
   "cell_type": "code",
   "execution_count": 53,
   "metadata": {
    "ExecuteTime": {
     "end_time": "2019-09-04T00:25:23.379545Z",
     "start_time": "2019-09-04T00:25:23.374759Z"
    }
   },
   "outputs": [
    {
     "data": {
      "text/plain": [
       "3"
      ]
     },
     "execution_count": 53,
     "metadata": {},
     "output_type": "execute_result"
    }
   ],
   "source": [
    "int('00000011', 2)"
   ]
  },
  {
   "cell_type": "code",
   "execution_count": 54,
   "metadata": {
    "ExecuteTime": {
     "end_time": "2019-09-04T00:31:47.114395Z",
     "start_time": "2019-09-04T00:31:47.109818Z"
    }
   },
   "outputs": [
    {
     "data": {
      "text/plain": [
       "'0b1111'"
      ]
     },
     "execution_count": 54,
     "metadata": {},
     "output_type": "execute_result"
    }
   ],
   "source": [
    "bin(15)"
   ]
  },
  {
   "cell_type": "code",
   "execution_count": 57,
   "metadata": {
    "ExecuteTime": {
     "end_time": "2019-09-04T00:34:19.123984Z",
     "start_time": "2019-09-04T00:34:19.118605Z"
    }
   },
   "outputs": [],
   "source": [
    "def num_to_selection(num, selections):\n",
    "    sel = self.to_bin(num, len(selections))\n",
    "    res = 0\n",
    "    for index in range(len(sel)):\n",
    "        if sel[index] == '1':\n",
    "            res += selections[index]\n",
    "    return res\n",
    "\n",
    "\n",
    "def to_bin(num, length):\n",
    "    mask = '{:0' + str(length) + 'b}' \n",
    "    return mask.format(num)"
   ]
  },
  {
   "cell_type": "code",
   "execution_count": 58,
   "metadata": {
    "ExecuteTime": {
     "end_time": "2019-09-04T00:34:19.397160Z",
     "start_time": "2019-09-04T00:34:19.392294Z"
    }
   },
   "outputs": [
    {
     "data": {
      "text/plain": [
       "'00000110'"
      ]
     },
     "execution_count": 58,
     "metadata": {},
     "output_type": "execute_result"
    }
   ],
   "source": [
    "to_bin(6, 8) "
   ]
  },
  {
   "cell_type": "code",
   "execution_count": 61,
   "metadata": {
    "ExecuteTime": {
     "end_time": "2019-09-04T00:34:58.754336Z",
     "start_time": "2019-09-04T00:34:58.748934Z"
    }
   },
   "outputs": [
    {
     "data": {
      "text/plain": [
       "'00010001'"
      ]
     },
     "execution_count": 61,
     "metadata": {},
     "output_type": "execute_result"
    }
   ],
   "source": [
    "to_bin(17, 8) "
   ]
  },
  {
   "cell_type": "code",
   "execution_count": 66,
   "metadata": {
    "ExecuteTime": {
     "end_time": "2019-09-04T00:35:39.205727Z",
     "start_time": "2019-09-04T00:35:39.201269Z"
    }
   },
   "outputs": [
    {
     "data": {
      "text/plain": [
       "'00010111'"
      ]
     },
     "execution_count": 66,
     "metadata": {},
     "output_type": "execute_result"
    }
   ],
   "source": [
    "to_bin(6 | 17, 8) "
   ]
  },
  {
   "cell_type": "code",
   "execution_count": 64,
   "metadata": {
    "ExecuteTime": {
     "end_time": "2019-09-04T00:35:33.348768Z",
     "start_time": "2019-09-04T00:35:33.343982Z"
    }
   },
   "outputs": [
    {
     "data": {
      "text/plain": [
       "6"
      ]
     },
     "execution_count": 64,
     "metadata": {},
     "output_type": "execute_result"
    }
   ],
   "source": [
    "6 & 7"
   ]
  },
  {
   "cell_type": "code",
   "execution_count": null,
   "metadata": {},
   "outputs": [],
   "source": []
  }
 ],
 "metadata": {
  "kernelspec": {
   "display_name": "Python 3",
   "language": "python",
   "name": "python3"
  },
  "toc": {
   "base_numbering": 1,
   "nav_menu": {},
   "number_sections": true,
   "sideBar": true,
   "skip_h1_title": false,
   "title_cell": "Table of Contents",
   "title_sidebar": "Contents",
   "toc_cell": false,
   "toc_position": {},
   "toc_section_display": true,
   "toc_window_display": false
  }
 },
 "nbformat": 4,
 "nbformat_minor": 2
}
