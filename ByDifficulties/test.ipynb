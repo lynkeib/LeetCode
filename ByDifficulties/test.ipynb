{
 "cells": [
  {
   "cell_type": "code",
   "execution_count": 7,
   "metadata": {
    "ExecuteTime": {
     "end_time": "2019-09-03T02:17:08.820651Z",
     "start_time": "2019-09-03T02:17:08.816725Z"
    }
   },
   "outputs": [
    {
     "data": {
      "text/plain": [
       "False"
      ]
     },
     "execution_count": 7,
     "metadata": {},
     "output_type": "execute_result"
    }
   ],
   "source": [
    "all([0, 5, 7])"
   ]
  },
  {
   "cell_type": "code",
   "execution_count": 59,
   "metadata": {
    "ExecuteTime": {
     "end_time": "2019-09-03T02:38:31.163893Z",
     "start_time": "2019-09-03T02:38:31.152056Z"
    }
   },
   "outputs": [],
   "source": [
    "class Solution(object):\n",
    "    def minWindow(self, s, t):\n",
    "        \"\"\"\n",
    "        :type s: str\n",
    "        :type t: str\n",
    "        :rtype: str\n",
    "        \"\"\"\n",
    "        if not s or not t:\n",
    "            return\n",
    "        if len(t) > len(s):\n",
    "            return \"\"\n",
    "        if len(s) == len(t):\n",
    "            if s == t:\n",
    "                return t\n",
    "            else:\n",
    "                return \"\"\n",
    "        counter = {i:0 for i in t}\n",
    "        res = [0, len(s)]\n",
    "        slow, fast = 0, 0\n",
    "        while fast < len(s):\n",
    "            while fast - slow + 1 < len(t):\n",
    "                if s[fast] in counter:\n",
    "                    counter[s[fast]] += 1\n",
    "                fast += 1\n",
    "            #print(s[slow:fast+1])\n",
    "            #print(counter)\n",
    "            if all(counter.values()):\n",
    "                #print('all')\n",
    "                if fast - slow + 1 < res[1] - res[0] + 1:\n",
    "                    res[0] = slow\n",
    "                    res[1] = fast\n",
    "                if s[slow] in t:\n",
    "                    counter[s[slow]] -= 1\n",
    "                slow += 1\n",
    "            else:\n",
    "                fast += 1\n",
    "                if fast > len(s) - 1:\n",
    "                    break\n",
    "                if s[fast] in t:\n",
    "                    counter[s[fast]] += 1\n",
    "            #print('res is ', res)\n",
    "            if slow > fast:\n",
    "                break\n",
    "            #print(slow, fast)\n",
    "            #print()\n",
    "        if res[1] - res[0] == len(s):\n",
    "            return \"\"\n",
    "        return s[res[0]:res[1]+1]"
   ]
  },
  {
   "cell_type": "code",
   "execution_count": 60,
   "metadata": {
    "ExecuteTime": {
     "end_time": "2019-09-03T02:38:31.425382Z",
     "start_time": "2019-09-03T02:38:31.422159Z"
    }
   },
   "outputs": [],
   "source": [
    "A = Solution()"
   ]
  },
  {
   "cell_type": "code",
   "execution_count": 61,
   "metadata": {
    "ExecuteTime": {
     "end_time": "2019-09-03T02:38:31.667026Z",
     "start_time": "2019-09-03T02:38:31.661275Z"
    }
   },
   "outputs": [
    {
     "name": "stdout",
     "output_type": "stream",
     "text": [
      "a\n",
      "{'b': 0}\n",
      "ab\n",
      "{'b': 1}\n",
      "all\n",
      "b\n",
      "{'b': 1}\n",
      "all\n"
     ]
    },
    {
     "data": {
      "text/plain": [
       "'b'"
      ]
     },
     "execution_count": 61,
     "metadata": {},
     "output_type": "execute_result"
    }
   ],
   "source": [
    "A.minWindow('ab', \"b\")"
   ]
  },
  {
   "cell_type": "code",
   "execution_count": 62,
   "metadata": {
    "ExecuteTime": {
     "end_time": "2019-09-03T02:58:48.593756Z",
     "start_time": "2019-09-03T02:58:48.590990Z"
    }
   },
   "outputs": [],
   "source": [
    "import collections"
   ]
  },
  {
   "cell_type": "code",
   "execution_count": 63,
   "metadata": {
    "ExecuteTime": {
     "end_time": "2019-09-03T02:58:54.940735Z",
     "start_time": "2019-09-03T02:58:54.937634Z"
    }
   },
   "outputs": [],
   "source": [
    "a = collections.defaultdict(int)"
   ]
  },
  {
   "cell_type": "code",
   "execution_count": 64,
   "metadata": {
    "ExecuteTime": {
     "end_time": "2019-09-03T02:58:58.642587Z",
     "start_time": "2019-09-03T02:58:58.639174Z"
    }
   },
   "outputs": [],
   "source": [
    "a[0] += 1"
   ]
  },
  {
   "cell_type": "code",
   "execution_count": 65,
   "metadata": {
    "ExecuteTime": {
     "end_time": "2019-09-03T02:59:01.636092Z",
     "start_time": "2019-09-03T02:59:01.632792Z"
    }
   },
   "outputs": [],
   "source": [
    "a[0] -= 1"
   ]
  },
  {
   "cell_type": "code",
   "execution_count": 66,
   "metadata": {
    "ExecuteTime": {
     "end_time": "2019-09-03T02:59:02.094912Z",
     "start_time": "2019-09-03T02:59:02.090821Z"
    }
   },
   "outputs": [
    {
     "data": {
      "text/plain": [
       "defaultdict(int, {0: 0})"
      ]
     },
     "execution_count": 66,
     "metadata": {},
     "output_type": "execute_result"
    }
   ],
   "source": [
    "a"
   ]
  },
  {
   "cell_type": "code",
   "execution_count": 67,
   "metadata": {
    "ExecuteTime": {
     "end_time": "2019-09-03T03:00:43.258766Z",
     "start_time": "2019-09-03T03:00:43.255739Z"
    }
   },
   "outputs": [],
   "source": [
    "del a[0]"
   ]
  },
  {
   "cell_type": "code",
   "execution_count": 68,
   "metadata": {
    "ExecuteTime": {
     "end_time": "2019-09-03T03:00:43.884661Z",
     "start_time": "2019-09-03T03:00:43.880478Z"
    }
   },
   "outputs": [
    {
     "data": {
      "text/plain": [
       "defaultdict(int, {})"
      ]
     },
     "execution_count": 68,
     "metadata": {},
     "output_type": "execute_result"
    }
   ],
   "source": [
    "a"
   ]
  },
  {
   "cell_type": "code",
   "execution_count": null,
   "metadata": {},
   "outputs": [],
   "source": []
  }
 ],
 "metadata": {
  "kernelspec": {
   "display_name": "Python 3",
   "language": "python",
   "name": "python3"
  },
  "language_info": {
   "codemirror_mode": {
    "name": "ipython",
    "version": 3
   },
   "file_extension": ".py",
   "mimetype": "text/x-python",
   "name": "python",
   "nbconvert_exporter": "python",
   "pygments_lexer": "ipython3",
   "version": "3.7.1"
  },
  "toc": {
   "base_numbering": 1,
   "nav_menu": {},
   "number_sections": true,
   "sideBar": true,
   "skip_h1_title": false,
   "title_cell": "Table of Contents",
   "title_sidebar": "Contents",
   "toc_cell": false,
   "toc_position": {},
   "toc_section_display": true,
   "toc_window_display": false
  }
 },
 "nbformat": 4,
 "nbformat_minor": 2
}
